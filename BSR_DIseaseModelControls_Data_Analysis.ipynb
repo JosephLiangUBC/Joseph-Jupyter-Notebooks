{
 "cells": [
  {
   "cell_type": "markdown",
   "metadata": {
    "jp-MarkdownHeadingCollapsed": true,
    "tags": []
   },
   "source": [
    "# Jupyter Notebook to Analyize and Visualize BSR Disease Model csv data\n"
   ]
  },
  {
   "cell_type": "markdown",
   "metadata": {},
   "source": [
    "# 1. Importing Packages Required (No input required, just run)"
   ]
  },
  {
   "cell_type": "code",
   "execution_count": null,
   "metadata": {},
   "outputs": [],
   "source": [
    "import pandas as pd #<- package used to import and organize data\n",
    "import numpy as np #<- package used to import and organize data\n",
    "import seaborn as sns #<- package used to plot graphs\n",
    "from matplotlib import pyplot as plt #<- package used to plot graphs\n",
    "import os #<- package used to work with system filepaths\n",
    "from ipywidgets import widgets #<- widget tool to generate button\n",
    "from IPython.display import display #<- displays button\n",
    "# from tkinter import Tk, filedialog #<- Tkinter is a GUI package\n",
    "from tqdm.notebook import tqdm\n",
    "from ipyfilechooser import FileChooser\n",
    "# import dask.dataframe as dd\n",
    "import pingouin as pg\n",
    "import random\n",
    "pd.set_option('display.max_columns', 50)\n",
    "print(\"done step 1\")"
   ]
  },
  {
   "cell_type": "markdown",
   "metadata": {},
   "source": [
    "# 2. Pick filepath (just run and click button)\n",
    "\n",
    "Run the following cell and clicke the button 'Select Folder' to pick a filepath.\n",
    "\n",
    "## Important: Later on, this script uses the total file path for each file to import and group data. That means if your folder has whatever your strain is named, the script will not work.\n",
    "\n",
    "(ex. if your folder has \"N2\" in it this script sees all files inside this folder as having the \"N2\" search key)\n",
    "\n",
    "## An easy fix is to just rename your folder to something else (make your strains lower-case, or just have the date)"
   ]
  },
  {
   "cell_type": "code",
   "execution_count": null,
   "metadata": {},
   "outputs": [],
   "source": [
    "starting_directory='/Users/Joseph/Desktop/'\n",
    "chooser=FileChooser(starting_directory)\n",
    "display(chooser)"
   ]
  },
  {
   "cell_type": "code",
   "execution_count": null,
   "metadata": {},
   "outputs": [],
   "source": [
    "folder_path=chooser.selected_path\n",
    "print(folder_path)"
   ]
  },
  {
   "cell_type": "code",
   "execution_count": null,
   "metadata": {},
   "outputs": [],
   "source": [
    "BSR_Data = pd.read_csv(chooser.selected).drop(columns=['Unnamed: 0'])"
   ]
  },
  {
   "cell_type": "code",
   "execution_count": null,
   "metadata": {},
   "outputs": [],
   "source": [
    "print(BSR_Data)"
   ]
  },
  {
   "cell_type": "code",
   "execution_count": null,
   "metadata": {},
   "outputs": [],
   "source": [
    "BSR_Data['Allele'] = BSR_Data['Genotype'].str.split(pat='(', expand=True)[1]\n",
    "BSR_Data['Allele'] = BSR_Data['Allele'].str.split(pat=')', expand=True)[0]\n",
    "print(BSR_Data)"
   ]
  },
  {
   "cell_type": "code",
   "execution_count": null,
   "metadata": {},
   "outputs": [],
   "source": [
    "BSR_Data['Allele'] = BSR_Data['Allele'].fillna('N2')"
   ]
  },
  {
   "cell_type": "code",
   "execution_count": null,
   "metadata": {},
   "outputs": [],
   "source": [
    "print(len(BSR_Data['Gene'].unique()))"
   ]
  },
  {
   "cell_type": "code",
   "execution_count": null,
   "metadata": {},
   "outputs": [],
   "source": [
    "BSR_Data1=pd.read_csv('/Users/Joseph/Desktop/BSR_Screen/Disease_Model_Controls/BSR_LRRK2Model_data_by_worm.csv').drop(columns=['Unnamed: 0'])\n",
    "print(BSR_Data1)"
   ]
  },
  {
   "cell_type": "code",
   "execution_count": null,
   "metadata": {},
   "outputs": [],
   "source": [
    "BSR_Data_new=pd.concat([BSR_Data,BSR_Data1])\n",
    "print(BSR_Data_new)"
   ]
  },
  {
   "cell_type": "markdown",
   "metadata": {},
   "source": [
    "## Just For Worm Speed:"
   ]
  },
  {
   "cell_type": "markdown",
   "metadata": {},
   "source": [
    "### By Gene:"
   ]
  },
  {
   "cell_type": "code",
   "execution_count": null,
   "metadata": {},
   "outputs": [],
   "source": [
    "worm_avg_speed = BSR_Data[['Genotype', 'Treatment', 'speed']]\n",
    "avg_speed = worm_avg_speed.groupby([\"Genotype\", 'Treatment'], as_index=False).mean()\n",
    "print(avg_speed)\n",
    "print(\"-\"*50)\n",
    "speed_diff = avg_speed.drop(columns=[\"Treatment\"]).groupby(\"Genotype\", as_index=False).diff(periods=-1).dropna()\n",
    "print(speed_diff)\n",
    "print(\"-\"*50)\n",
    "speed_diff.insert(loc=0, column='Genotype', value=avg_speed['Genotype'])\n",
    "speed_diff=speed_diff.reset_index(drop=True)\n",
    "print(speed_diff)\n",
    "print(\"-\"*50)\n",
    "# speed_diff=speed_diff.sort_values(by=[\"speed\"])\n",
    "# print(speed_diff)\n",
    "print(\"-\"*50)\n",
    "print(speed_diff.iloc[3,1])\n",
    "speed_diff['Score']=speed_diff['speed']-speed_diff.iloc[0,1]\n",
    "print(\"-\"*50)\n",
    "print(speed_diff)\n",
    "print(\"-\"*50)\n",
    "speed_diff=speed_diff.sort_values(by=[\"Score\"])\n",
    "print(\"-\"*50)\n",
    "print(speed_diff)\n",
    "# speed_diff.to_csv(\"/Users/Joseph/Desktop/BSR_LRRK2Model_speed_diff.csv\")"
   ]
  },
  {
   "cell_type": "code",
   "execution_count": null,
   "metadata": {},
   "outputs": [],
   "source": [
    "SNCA_diff = speed_diff.head(2)\n",
    "# SNCA_diff = speed_diff.drop(1)\n",
    "print(SNCA_diff)\n",
    "SNCA_diff.to_csv(\"/Users/Joseph/Desktop/BSR_hSNCAModel_speed_diff.csv\")"
   ]
  },
  {
   "cell_type": "code",
   "execution_count": null,
   "metadata": {},
   "outputs": [],
   "source": [
    "Gene_Orthology=pd.read_csv('/Users/Joseph/Desktop/BSR_Screen/Gene_Orthology.csv').drop(columns=['Unnamed: 0'])\n",
    "Gene_Orthology=Gene_Orthology.rename(columns={\"Gene\":\"Orthology\", \"Worm Gene\":\"Gene\"})\n",
    "print(Gene_Orthology)"
   ]
  },
  {
   "cell_type": "code",
   "execution_count": null,
   "metadata": {},
   "outputs": [],
   "source": [
    "speed_diff_orthology=pd.merge(speed_diff,\n",
    "                     Gene_Orthology,\n",
    "                     on='Gene',\n",
    "                     how='left')\n",
    "\n",
    "speed_diff_orthology=speed_diff_orthology.rename(columns={\"Gene\":\"Worm Gene\", \"Orthology\":\"Gene\"})\n",
    "print(speed_diff_orthology)\n",
    "print(\"-\"*50)\n",
    "print(speed_diff_orthology[speed_diff_orthology['Gene'].isna()])"
   ]
  },
  {
   "cell_type": "code",
   "execution_count": null,
   "metadata": {},
   "outputs": [],
   "source": [
    "speed_diff_orthology=pd.merge(speed_diff,\n",
    "                     Gene_Orthology,\n",
    "                     on='Gene',\n",
    "                     how='left')\n",
    "\n",
    "speed_diff_orthology=speed_diff_orthology.rename(columns={\"Gene\":\"Worm Gene\", \"Orthology\":\"Gene\"})\n",
    "print(speed_diff_orthology)\n",
    "print(\"-\"*50)\n",
    "print(speed_diff_orthology[speed_diff_orthology['Gene'].isna()])"
   ]
  },
  {
   "cell_type": "markdown",
   "metadata": {},
   "source": [
    "## Making the bar plot"
   ]
  },
  {
   "cell_type": "code",
   "execution_count": null,
   "metadata": {},
   "outputs": [],
   "source": [
    "Title = \"Basal Slowing (Speed Off Food - Speed On Food), mm/s\" #<---------------- Input Here -----------------\n",
    "FileName = \"LRRK2 BSR\"\n",
    "sns.set_context(\"poster\")\n",
    "plt.figure(linewidth = 1)\n",
    "plt.figure(figsize=(15, 5))\n",
    "plt.gca().xaxis.grid(False)\n",
    "ax = sns.barplot(x=\"Genotype\", \n",
    "                 y = 'speed', \n",
    "                 data = SNCA_diff, #<--------------- Input Here -------------\n",
    "             # color = 'CornflowerBlue',\n",
    "                 hue = 'Genotype',\n",
    "                 # palette = [sns.color_palette()[1],'black'],\n",
    "                 palette = ['black',sns.color_palette()[0],sns.color_palette()[1]],\n",
    "                 legend = False\n",
    "             # edgecolor=\"DodgerBlue\",\n",
    "             # linewidth = 2.5,\n",
    "#              seed=5,\n",
    "#              ci = 95, # 'sd' for SD, '68' for SEM\n",
    "#              palette = ['grey',\n",
    "#                         'black'\n",
    "#                        ]\n",
    "                )\n",
    "# sns.move_legend(ax, \"upper left\", bbox_to_anchor=(1, 1))\n",
    "plt.xlabel(\"\")\n",
    "plt.xticks(rotation=90)\n",
    "plt.ylabel(\"Basal Slowing\")\n",
    "# plt.ylim(top = 0.2)\n",
    "# plt.ylim(bottom = -0.03)\n",
    "plt.title(\"\")\n",
    "# plt.legend(bbox_to_anchor=(1.02, 1), loc=2, borderaxespad=0.)\n",
    "plt.savefig(f'/Users/Joseph/Desktop/{FileName}.png', format='png', dpi=450, bbox_inches = 'tight')\n",
    "plt.show()"
   ]
  },
  {
   "cell_type": "code",
   "execution_count": null,
   "metadata": {},
   "outputs": [],
   "source": []
  }
 ],
 "metadata": {
  "kernelspec": {
   "display_name": "Python 3 (ipykernel)",
   "language": "python",
   "name": "python3"
  },
  "language_info": {
   "codemirror_mode": {
    "name": "ipython",
    "version": 3
   },
   "file_extension": ".py",
   "mimetype": "text/x-python",
   "name": "python",
   "nbconvert_exporter": "python",
   "pygments_lexer": "ipython3",
   "version": "3.11.1"
  }
 },
 "nbformat": 4,
 "nbformat_minor": 4
}
