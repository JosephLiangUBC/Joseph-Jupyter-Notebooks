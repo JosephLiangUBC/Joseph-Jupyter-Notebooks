{
 "cells": [
  {
   "cell_type": "code",
   "execution_count": null,
   "id": "429fea60",
   "metadata": {},
   "outputs": [],
   "source": [
    "import pandas as pd  # <- package used to import and organize data\n",
    "import numpy as np  # <- package used to import and organize data\n",
    "import os  # <- package used to work with system filepaths\n",
    "import subprocess\n",
    "from ipywidgets import widgets  # <- widget tool to generate button\n",
    "from IPython.display import display  # <- displays button\n",
    "from tkinter import Tk, filedialog  # <- Tkinter is a GUI package\n",
    "from tqdm.notebook import tqdm\n",
    "\n",
    "print(\"done step 1\")"
   ]
  },
  {
   "cell_type": "code",
   "execution_count": null,
   "id": "0f05552f",
   "metadata": {},
   "outputs": [],
   "source": [
    "### Select Folder App - After you run, you can select your folder for filepath\n",
    "button = widgets.Button(description = 'Select Folder')  # <- creates a button variable\n",
    "display(button) #<- displays the button in output\n",
    "\n",
    "def select_folder(b):  # <- defines an action. This action requires a variable, so an arbitrary one 'b' is there\n",
    "    global folder_path  # <- sets a variable as a global variable, not just within this action\n",
    "    #Tk().withdraw()  # <- Tkinter likes to create annoying empty windows. This removes them\n",
    "    folder_path = filedialog.askdirectory()  # <- Opens up a file explorer window, and determines folder path\n",
    "    #Tk().update()  # <- below\n",
    "    #Tk().destroy()  # <- this and the line above it removes the file explorer window after a selection is made\n",
    "    print(folder_path)  # <- this helps confirm that this action was performed\n",
    "    print('done step 2')\n",
    "button.on_click(select_folder)"
   ]
  },
  {
   "cell_type": "code",
   "execution_count": null,
   "id": "8b21078f-de58-4a54-8238-2d293198b33e",
   "metadata": {},
   "outputs": [],
   "source": [
    "print(folder_path)"
   ]
  },
  {
   "cell_type": "code",
   "execution_count": null,
   "id": "62a1c37a",
   "metadata": {},
   "outputs": [],
   "source": [
    "#folder_path = '/Users/Joseph/Desktop/lrk1_ATR_NoATR_08_15_2019'\n",
    "print(folder_path)\n",
    "os.chdir(folder_path)  # <- setting your working directory so that your images will be saved here\n",
    "\n",
    "filelist = list()  # <- empty list\n",
    "for root, dirs, files in os.walk(folder_path):  # <- this for loop goes through your folder \n",
    "    for name in files:\n",
    "        if name.endswith('.zip'):  # <- and takes out all files with a .dat (file that contains your data)\n",
    "            filepath = os.path.join(root, name)  # <- Notes down the file path of each data file\n",
    "            filelist.append(filepath)  # <- saves it into the list\n",
    "    \n",
    "print(filelist)\n",
    "print('done step 3')"
   ]
  },
  {
   "cell_type": "markdown",
   "id": "31eae276-199e-4a6c-9c0a-e9611c0bd771",
   "metadata": {},
   "source": [
    "# Speed"
   ]
  },
  {
   "cell_type": "code",
   "execution_count": null,
   "id": "c88d3f08",
   "metadata": {},
   "outputs": [],
   "source": [
    "# for speed\n",
    "for f in tqdm(filelist):\n",
    "    subprocess.call(['java', '-jar', \n",
    "                     '/Users/benwestmore/Desktop/Rankin_Lab/Chore.jar', \n",
    "                     '-p', '0.027', \n",
    "                     '-s', '0.1', \n",
    "                     '-t', '20', \n",
    "                     '-N', 'all', \n",
    "                     '-M', '2', \n",
    "                     '--shadowless', \n",
    "                     '-S', \n",
    "                     '-o', 'sxySPkbcdrlmwMe', \n",
    "                     f'{f}'])"
   ]
  }
 ],
 "metadata": {
  "kernelspec": {
   "display_name": "Python 3 (ipykernel)",
   "language": "python",
   "name": "python3"
  },
  "language_info": {
   "codemirror_mode": {
    "name": "ipython",
    "version": 3
   },
   "file_extension": ".py",
   "mimetype": "text/x-python",
   "name": "python",
   "nbconvert_exporter": "python",
   "pygments_lexer": "ipython3",
   "version": "3.10.9"
  }
 },
 "nbformat": 4,
 "nbformat_minor": 5
}
