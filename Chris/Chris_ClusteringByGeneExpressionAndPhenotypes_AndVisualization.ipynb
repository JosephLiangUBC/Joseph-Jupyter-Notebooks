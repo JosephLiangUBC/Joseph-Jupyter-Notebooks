{
 "cells": [
  {
   "cell_type": "markdown",
   "id": "6f8b693f",
   "metadata": {},
   "source": [
    "# Contents\n",
    "\n",
    "### 1. Prepare for analysis (import packages and set working directory)\n",
    "### 2. Read in and tidy data\n",
    "\n",
    "\n",
    "### 2A. Pre-processing before clustering (optional)\n",
    "#### 2A.1. Unsupervised feature selection\n",
    "\n",
    "\n",
    "### 3. Clustering\n",
    "#### 3A. UMAP clustering\n",
    "#### 3B. Hierarchical clustering\n",
    "\n",
    "### 4. Visualization\n",
    "#### 4.1 Cluster heatmap"
   ]
  },
  {
   "cell_type": "markdown",
   "id": "372c020d",
   "metadata": {},
   "source": [
    "## 1 - Prepare to work with data"
   ]
  },
  {
   "cell_type": "markdown",
   "id": "c67cc9f8",
   "metadata": {},
   "source": [
    "### 1.1 - Import Packages"
   ]
  },
  {
   "cell_type": "code",
   "execution_count": 17,
   "id": "301f7fe1",
   "metadata": {},
   "outputs": [
    {
     "name": "stdout",
     "output_type": "stream",
     "text": [
      "done step 1\n"
     ]
    }
   ],
   "source": [
    "import os  # <- package used to work with system filepaths\n",
    "import pandas as pd  # <- package used to import and organize data\n",
    "import numpy as np  # <- package used to import and organize data\n",
    "import math\n",
    "import seaborn as sns  # <- package used to plot graphs\n",
    "from matplotlib import pyplot as plt  # <- another package used to plot graphs\n",
    "from itertools import cycle  # <- package used to iterate down rows\n",
    "from ipywidgets import widgets  # <- widget tool to generate button\n",
    "from IPython.display import display  # <- displays button\n",
    "from tkinter import Tk, filedialog  # <- Tkinter is a GUI package\n",
    "from tqdm.notebook import tqdm\n",
    "import pingouin as pg\n",
    "from pingouin import ttest\n",
    "from scipy.stats import ttest_ind\n",
    "\n",
    "import sklearn\n",
    "from sklearn.datasets import fetch_openml\n",
    "from sklearn.decomposition import PCA\n",
    "# Dimension reduction and clustering libraries\n",
    "import sklearn.cluster as cluster\n",
    "from sklearn.metrics import adjusted_rand_score, adjusted_mutual_info_score\n",
    "import umap\n",
    "\n",
    "pd.set_option('display.max_columns', 50)\n",
    "print(\"done step 1\")"
   ]
  },
  {
   "cell_type": "code",
   "execution_count": 16,
   "id": "8edc7539",
   "metadata": {},
   "outputs": [
    {
     "name": "stdout",
     "output_type": "stream",
     "text": [
      "Collecting umap-learn\n",
      "  Downloading umap_learn-0.5.6-py3-none-any.whl (85 kB)\n",
      "     -------------------------------------- 85.7/85.7 kB 967.6 kB/s eta 0:00:00\n",
      "Requirement already satisfied: scikit-learn>=0.22 in c:\\users\\chris\\anaconda3\\lib\\site-packages (from umap-learn) (1.2.1)\n",
      "Requirement already satisfied: numba>=0.51.2 in c:\\users\\chris\\anaconda3\\lib\\site-packages (from umap-learn) (0.56.4)\n",
      "Requirement already satisfied: tqdm in c:\\users\\chris\\anaconda3\\lib\\site-packages (from umap-learn) (4.64.1)\n",
      "Requirement already satisfied: scipy>=1.3.1 in c:\\users\\chris\\anaconda3\\lib\\site-packages (from umap-learn) (1.10.0)\n",
      "Requirement already satisfied: numpy>=1.17 in c:\\users\\chris\\anaconda3\\lib\\site-packages (from umap-learn) (1.23.5)\n",
      "Collecting pynndescent>=0.5\n",
      "  Downloading pynndescent-0.5.12-py3-none-any.whl (56 kB)\n",
      "     ---------------------------------------- 56.8/56.8 kB 2.9 MB/s eta 0:00:00\n",
      "Requirement already satisfied: llvmlite<0.40,>=0.39.0dev0 in c:\\users\\chris\\anaconda3\\lib\\site-packages (from numba>=0.51.2->umap-learn) (0.39.1)\n",
      "Requirement already satisfied: setuptools in c:\\users\\chris\\anaconda3\\lib\\site-packages (from numba>=0.51.2->umap-learn) (65.6.3)\n",
      "Requirement already satisfied: joblib>=0.11 in c:\\users\\chris\\anaconda3\\lib\\site-packages (from pynndescent>=0.5->umap-learn) (1.1.1)\n",
      "Requirement already satisfied: threadpoolctl>=2.0.0 in c:\\users\\chris\\anaconda3\\lib\\site-packages (from scikit-learn>=0.22->umap-learn) (2.2.0)\n",
      "Requirement already satisfied: colorama in c:\\users\\chris\\anaconda3\\lib\\site-packages (from tqdm->umap-learn) (0.4.6)\n",
      "Installing collected packages: pynndescent, umap-learn\n",
      "Successfully installed pynndescent-0.5.12 umap-learn-0.5.6\n"
     ]
    }
   ],
   "source": [
    "import sys\n",
    "!{sys.executable} -m pip install umap-learn"
   ]
  },
  {
   "cell_type": "code",
   "execution_count": null,
   "id": "1b3c1355",
   "metadata": {},
   "outputs": [],
   "source": []
  }
 ],
 "metadata": {
  "kernelspec": {
   "display_name": "Python 3 (ipykernel)",
   "language": "python",
   "name": "python3"
  },
  "language_info": {
   "codemirror_mode": {
    "name": "ipython",
    "version": 3
   },
   "file_extension": ".py",
   "mimetype": "text/x-python",
   "name": "python",
   "nbconvert_exporter": "python",
   "pygments_lexer": "ipython3",
   "version": "3.10.9"
  }
 },
 "nbformat": 4,
 "nbformat_minor": 5
}
