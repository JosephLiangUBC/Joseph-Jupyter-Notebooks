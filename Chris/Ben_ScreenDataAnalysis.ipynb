{
 "cells": [
  {
   "cell_type": "markdown",
   "metadata": {},
   "source": [
    "# THIS NOTEBOOK NOW OBSOLETE, USE Ben_postcsv_completeOffFoodOnFoodExpt.ipynb"
   ]
  },
  {
   "cell_type": "code",
   "execution_count": 1,
   "metadata": {},
   "outputs": [
    {
     "name": "stdout",
     "output_type": "stream",
     "text": [
      "done step 1\n"
     ]
    }
   ],
   "source": [
    "import pandas as pd #<- package used to import and organize data\n",
    "import numpy as np #<- package used to import and organize data\n",
    "import math\n",
    "import os #<- package used to work with system file paths\n",
    "import seaborn as sns #<- package used to plot graphs\n",
    "from matplotlib import pyplot as plt #<- another package used to plot graphs\n",
    "from itertools import cycle #<- package used to iterate down rows (used in step 5 to add tap column)\n",
    "import ipywidgets as widgets #<- widget tool to generate button and tab for graphs\n",
    "from IPython.display import display #<- displays widgets\n",
    "from tkinter import Tk, filedialog #<- Tkinter is a GUI package\n",
    "import pingouin as pg\n",
    "from pingouin import ttest\n",
    "from scipy.stats import ttest_ind\n",
    "print(\"done step 1\")"
   ]
  },
  {
   "cell_type": "markdown",
   "metadata": {},
   "source": [
    "# PD Data ONLY"
   ]
  },
  {
   "cell_type": "code",
   "execution_count": 2,
   "metadata": {},
   "outputs": [],
   "source": [
    "os.chdir('/Users/Joseph/Desktop/GRC_Data')"
   ]
  },
  {
   "cell_type": "code",
   "execution_count": 3,
   "metadata": {},
   "outputs": [
    {
     "name": "stderr",
     "output_type": "stream",
     "text": [
      "/var/folders/31/jpj6mpsx60d9829cymplqfsh0000gn/T/ipykernel_42374/955610792.py:6: FutureWarning: In a future version of pandas all arguments of StringMethods.split except for the argument 'pat' will be keyword-only.\n",
      "  PD_baseline[['Genotype', 'Treatment']] = PD_baseline['Strain'].str.split('_', 1, expand=True)\n"
     ]
    },
    {
     "name": "stdout",
     "output_type": "stream",
     "text": [
      "         time_bin  worm        time     speed  angularspeed  pathlength  \\\n",
      "0             3.0     1    2.666125  0.352013    134.875000    0.125875   \n",
      "1             3.0     8    2.546000  0.395982     44.490909    0.181091   \n",
      "2             3.0    85    2.744000  0.324933     26.583333    0.098000   \n",
      "3             3.0   165    2.776800  0.280820     25.580000    0.069400   \n",
      "4             3.0   249    2.817250  0.216575     10.175000    0.044500   \n",
      "...           ...   ...         ...       ...           ...         ...   \n",
      "4761605     420.0   224  419.514417  0.144642      4.433333   12.213417   \n",
      "4761606     420.0   226  419.514417  0.065600     10.983333    3.342250   \n",
      "4761607     420.0   227  419.503545  0.131055      2.509091    9.299818   \n",
      "4761608     420.0   231  419.514417  0.161325      3.483333   15.090750   \n",
      "4761609     420.0   232  419.514417  0.123725      7.766667   16.683417   \n",
      "\n",
      "              kink      bias      curve       dir      crab    length  \\\n",
      "0        82.212500  1.000000  58.775000  0.004250  0.146800  0.545400   \n",
      "1        59.918182  1.000000  47.163636  0.000364  0.067409  0.700282   \n",
      "2        40.850000  1.000000  31.516667  0.000000  0.047967  0.770400   \n",
      "3        15.100000  1.000000  42.300000  0.000000  0.022700  0.893160   \n",
      "4        61.125000  1.000000  38.300000  0.000000  0.031100  0.628425   \n",
      "...            ...       ...        ...       ...       ...       ...   \n",
      "4761605  50.900000  0.750000  26.308333  0.001667  0.038492  0.776925   \n",
      "4761606  63.600000  0.750000  34.933333  0.002333  0.032533  0.425925   \n",
      "4761607  29.572727  0.727273  26.527273  0.000909  0.038136  0.676473   \n",
      "4761608  23.591667  0.750000  17.575000  0.000167  0.030433  0.665775   \n",
      "4761609  58.566667  0.750000  32.316667  0.001333  0.038308  0.751725   \n",
      "\n",
      "          midline     width  morphwidth      area                 Strain  \\\n",
      "0        1.018812  0.421200    0.135325  0.108803             N2_OffFood   \n",
      "1        0.998991  0.337991    0.126191  0.098813             N2_OffFood   \n",
      "2        0.904533  0.223200    0.093050  0.074115             N2_OffFood   \n",
      "3        1.053060  0.213300    0.093560  0.095645             N2_OffFood   \n",
      "4        0.879075  0.310500    0.126750  0.092036             N2_OffFood   \n",
      "...           ...       ...         ...       ...                    ...   \n",
      "4761605  0.865733  0.161100    0.101358  0.098233  vps-35(ok1880)_OnFood   \n",
      "4761606  0.579708  0.232200    0.105342  0.055951  vps-35(ok1880)_OnFood   \n",
      "4761607  0.777509  0.157582    0.079964  0.074093  vps-35(ok1880)_OnFood   \n",
      "4761608  0.847375  0.168075    0.117550  0.100359  vps-35(ok1880)_OnFood   \n",
      "4761609  0.928942  0.275400    0.155600  0.124295  vps-35(ok1880)_OnFood   \n",
      "\n",
      "               Genotype Treatment  \n",
      "0                    N2   OffFood  \n",
      "1                    N2   OffFood  \n",
      "2                    N2   OffFood  \n",
      "3                    N2   OffFood  \n",
      "4                    N2   OffFood  \n",
      "...                 ...       ...  \n",
      "4761605  vps-35(ok1880)    OnFood  \n",
      "4761606  vps-35(ok1880)    OnFood  \n",
      "4761607  vps-35(ok1880)    OnFood  \n",
      "4761608  vps-35(ok1880)    OnFood  \n",
      "4761609  vps-35(ok1880)    OnFood  \n",
      "\n",
      "[4761610 rows x 19 columns]\n"
     ]
    }
   ],
   "source": [
    "# PD_tap=pd.read_csv('/Users/Joseph/Desktop/PD_Screen_TapHab/hab_output.csv')\n",
    "# PD_tap = PD_tap.iloc[: , 1:]\n",
    "PD_baseline = pd.read_csv('BSR_baseline_output.csv')\n",
    "PD_baseline = PD_baseline.iloc[: , 1:]\n",
    "PD_baseline = PD_baseline.drop(columns=[\"x\", \"y\"])\n",
    "PD_baseline[['Genotype', 'Treatment']] = PD_baseline['Strain'].str.split('_', 1, expand=True)\n",
    "# print(PD_tap)\n",
    "print(PD_baseline)"
   ]
  },
  {
   "cell_type": "code",
   "execution_count": 4,
   "metadata": {
    "scrolled": true
   },
   "outputs": [
    {
     "name": "stdout",
     "output_type": "stream",
     "text": [
      "           index  time_bin  worm        time     speed  angularspeed  \\\n",
      "0         578876     321.0     3  320.493833  0.181908     11.091667   \n",
      "1         578877     321.0     5  320.493833  0.077825     10.683333   \n",
      "2         578878     321.0    13  320.493833  0.164008      2.925000   \n",
      "3         578879     321.0    14  320.493833  0.205775     16.291667   \n",
      "4         578880     321.0    15  320.493833  0.100617      6.341667   \n",
      "...          ...       ...   ...         ...       ...           ...   \n",
      "1043978  4761605     420.0   224  419.514417  0.144642      4.433333   \n",
      "1043979  4761606     420.0   226  419.514417  0.065600     10.983333   \n",
      "1043980  4761607     420.0   227  419.503545  0.131055      2.509091   \n",
      "1043981  4761608     420.0   231  419.514417  0.161325      3.483333   \n",
      "1043982  4761609     420.0   232  419.514417  0.123725      7.766667   \n",
      "\n",
      "         pathlength        kink      bias      curve       dir      crab  \\\n",
      "0          0.680417  100.275000 -0.833333  44.225000  0.083333  0.024325   \n",
      "1         14.190667   24.191667  1.000000  43.191667  0.000000  0.012258   \n",
      "2         30.243000   35.308333  1.000000  39.916667  0.000000  0.020408   \n",
      "3         12.996667   57.966667  0.833333  30.350000  0.084333  0.008225   \n",
      "4          0.781000   36.216667  1.000000  27.350000  0.000000  0.013892   \n",
      "...             ...         ...       ...        ...       ...       ...   \n",
      "1043978   12.213417   50.900000  0.750000  26.308333  0.001667  0.038492   \n",
      "1043979    3.342250   63.600000  0.750000  34.933333  0.002333  0.032533   \n",
      "1043980    9.299818   29.572727  0.727273  26.527273  0.000909  0.038136   \n",
      "1043981   15.090750   23.591667  0.750000  17.575000  0.000167  0.030433   \n",
      "1043982   16.683417   58.566667  0.750000  32.316667  0.001333  0.038308   \n",
      "\n",
      "           length   midline     width  morphwidth      area  \\\n",
      "0        0.653850  0.908525  0.312975    0.133867  0.118462   \n",
      "1        0.528525  0.717742  0.211500    0.085608  0.068890   \n",
      "2        0.747450  0.919650  0.225450    0.127642  0.116579   \n",
      "3        0.825750  0.947342  0.211950    0.086592  0.095560   \n",
      "4        0.607275  0.660325  0.153000    0.125508  0.092340   \n",
      "...           ...       ...       ...         ...       ...   \n",
      "1043978  0.776925  0.865733  0.161100    0.101358  0.098233   \n",
      "1043979  0.425925  0.579708  0.232200    0.105342  0.055951   \n",
      "1043980  0.676473  0.777509  0.157582    0.079964  0.074093   \n",
      "1043981  0.665775  0.847375  0.168075    0.117550  0.100359   \n",
      "1043982  0.751725  0.928942  0.275400    0.155600  0.124295   \n",
      "\n",
      "                        Strain        Genotype Treatment  \n",
      "0                   N2_OffFood              N2   OffFood  \n",
      "1                   N2_OffFood              N2   OffFood  \n",
      "2                   N2_OffFood              N2   OffFood  \n",
      "3                   N2_OffFood              N2   OffFood  \n",
      "4                   N2_OffFood              N2   OffFood  \n",
      "...                        ...             ...       ...  \n",
      "1043978  vps-35(ok1880)_OnFood  vps-35(ok1880)    OnFood  \n",
      "1043979  vps-35(ok1880)_OnFood  vps-35(ok1880)    OnFood  \n",
      "1043980  vps-35(ok1880)_OnFood  vps-35(ok1880)    OnFood  \n",
      "1043981  vps-35(ok1880)_OnFood  vps-35(ok1880)    OnFood  \n",
      "1043982  vps-35(ok1880)_OnFood  vps-35(ok1880)    OnFood  \n",
      "\n",
      "[1043983 rows x 20 columns]\n"
     ]
    }
   ],
   "source": [
    "PD_baseline_last100 = PD_baseline[((PD_baseline.time <= 420) & (PD_baseline.time >= 320))]\n",
    "PD_baseline_last100 = PD_baseline_last100.reset_index()\n",
    "print(PD_baseline_last100)"
   ]
  },
  {
   "cell_type": "code",
   "execution_count": null,
   "metadata": {},
   "outputs": [],
   "source": [
    "tt = ttest_ind(PD_baseline_last100[\"bias\"], PD_baseline_last100[PD_baseline_last100.Genotype == \"N2\"][\"bias\"], equal_var = False)\n",
    "print(tt)"
   ]
  },
  {
   "cell_type": "code",
   "execution_count": 5,
   "metadata": {},
   "outputs": [
    {
     "name": "stdout",
     "output_type": "stream",
     "text": [
      "['N2' 'C29E4.10(ok2752)' 'F53B2.5(ok226)' 'Y18D10A.22(ok3535)'\n",
      " 'acr-12(ok367)' 'acr-3(ok2049)' 'acr-6(ok3117)' 'acr-8(ok1240)'\n",
      " 'bas-1(tm351)' 'cat-1(e1111)' 'cat-1(ok411)' 'cat-2(e1112)'\n",
      " 'cat-4(e1141)' 'cat-4(tm773)' 'catp-6(ok347)' 'catp-6(ok3473)'\n",
      " 'chd-7(tm6183)' 'crls-1(tm2542)' 'crls-1(tm2575)' 'djr-1.2(tm1346)'\n",
      " 'dnj-25(ok422)' 'dop-1(vs101)' 'dop-3(ok295)' 'dop-3(tm1356)'\n",
      " 'gba-3(gk3287)' 'gba-3(tm3302)' 'gck-3(tm1223)' 'gck-3(tm1296)'\n",
      " 'glo-1(tm15275)' 'glo-1(tm3240)' 'glo-1(zu391)' 'hipr-1(tm14191)'\n",
      " 'let-19(gk149538)' 'let-19(os33)' 'lrk-1(tm1898)' 'lrk-1(tm7568)'\n",
      " 'mbk-1(pk1389)' 'mbl-1(tm1207)' 'mbl-1(tm1277)' 'mex-3(spr-10)'\n",
      " 'mex-3(spr5)' 'mex-3(spr6)' 'mex-3(spr7)' 'mex-3(spr9)' 'mex-3(zu155)'\n",
      " 'pdr-1(gk448)' 'pdr-1(tm598)' 'pink-1(ok3538)' 'pink-1(tm1779)'\n",
      " 'rskd-1(gk1208)' 'set-2(n4589)' 'set-2(ok952)' 'sipa-1(ok879)'\n",
      " 'snb-5(ok1434)' 'tag-138(gk247)' 'unc-10(ad591)' 'vps-35(hu68)'\n",
      " 'vps-35(ok1880)']\n"
     ]
    }
   ],
   "source": [
    "list = PD_baseline_last100[\"Genotype\"].unique()\n",
    "print(list)"
   ]
  },
  {
   "cell_type": "code",
   "execution_count": 6,
   "metadata": {},
   "outputs": [],
   "source": [
    "def TTest_New(DatasetList, Type, DF_ref, output):\n",
    "    for a in DatasetList:\n",
    "        Tstat = ttest_ind(DF_ref[DF_ref.Genotype == a][Type], DF_ref[DF_ref.Genotype == \"N2\"][Type],equal_var=False)[0]\n",
    "        row = [a, Tstat]\n",
    "        output.loc[len(output)] = row\n",
    "    print(output)"
   ]
  },
  {
   "cell_type": "code",
   "execution_count": null,
   "metadata": {},
   "outputs": [],
   "source": [
    "# # PD_baseline_instantspeed_T = pd.DataFrame(columns = [\"Genotype\", \"Instantaneous Speed\"])\n",
    "# # PD_baseline_intspeed_T = pd.DataFrame(columns = [\"Genotype\", \"Interval Speed\"])\n",
    "\n",
    "PD_baseline_length_T = pd.DataFrame(columns = [\"Genotype\", \"length\"])\n",
    "PD_baseline_midline_T = pd.DataFrame(columns = [\"Genotype\", \"midline\"])\n",
    "PD_baseline_width_T = pd.DataFrame(columns = [\"Genotype\", \"width\"])\n",
    "PD_baseline_morphwidth_T = pd.DataFrame(columns = [\"Genotype\", \"morphwidth\"])\n",
    "PD_baseline_area_T = pd.DataFrame(columns = [\"Genotype\", \"area\"])\n",
    "\n",
    "# # PD_baseline_aspectratio_T = pd.DataFrame(columns = [\"Genotype\", \"Aspect Ratio\"])\n",
    "\n",
    "# PD_baseline_speed_T = pd.DataFrame(columns = [\"Genotype\", \"speed\"])\n",
    "# PD_baseline_angularspeed_T = pd.DataFrame(columns = [\"Genotype\", \"angularspeed\"])\n",
    "# PD_baseline_bias_T = pd.DataFrame(columns = [\"Genotype\", \"bias\"])\n",
    "# PD_baseline_kink_T =  pd.DataFrame(columns = [\"Genotype\", \"kink\"])\n",
    "# PD_baseline_curve_T = pd.DataFrame(columns = [\"Genotype\", \"curve\"])\n",
    "# PD_baseline_crab_T = pd.DataFrame(columns = [\"Genotype\", \"crab\"])"
   ]
  },
  {
   "cell_type": "code",
   "execution_count": null,
   "metadata": {},
   "outputs": [],
   "source": [
    "# # TTest_New(PD_baseline_last100[\"Genotype\"].unique(), \"Instantaneous Speed\", PD_baseline_last100, PD_baseline_instantspeed_T)\n",
    "# # TTest_New(PD_baseline_last100[\"Genotype\"].unique(), \"Interval Speed\", PD_baseline_last100, PD_baseline_intspeed_T)\n",
    "\n",
    "TTest_New(PD_baseline_last100[\"Genotype\"].unique(), \"length\", PD_baseline_last100, PD_baseline_length_T)\n",
    "TTest_New(PD_baseline_last100[\"Genotype\"].unique(), \"midline\", PD_baseline_last100, PD_baseline_midline_T)\n",
    "TTest_New(PD_baseline_last100[\"Genotype\"].unique(), \"width\", PD_baseline_last100, PD_baseline_width_T)\n",
    "TTest_New(PD_baseline_last100[\"Genotype\"].unique(), \"morphwidth\", PD_baseline_last100, PD_baseline_morphwidth_T)\n",
    "TTest_New(PD_baseline_last100[\"Genotype\"].unique(), \"area\", PD_baseline_last100, PD_baseline_area_T)\n",
    "\n",
    "# # TTest_New(PD_baseline_last100[\"Genotype\"].unique(), \"Aspect Ratio\", PD_baseline_last100, PD_baseline_aspectratio_T)\n",
    "# TTest_New(PD_baseline_last100[\"Genotype\"].unique(), \"speed\", PD_baseline_last100, PD_baseline_speed_T)\n",
    "# TTest_New(PD_baseline_last100[\"Genotype\"].unique(), \"angularspeed\", PD_baseline_last100, PD_baseline_angularspeed_T)\n",
    "# TTest_New(PD_baseline_last100[\"Genotype\"].unique(), \"bias\", PD_baseline_last100, PD_baseline_bias_T)\n",
    "# TTest_New(PD_baseline_last100[\"Genotype\"].unique(), \"kink\", PD_baseline_last100, PD_baseline_kink_T)\n",
    "# TTest_New(PD_baseline_last100[\"Genotype\"].unique(), \"curve\", PD_baseline_last100, PD_baseline_curve_T)\n",
    "# TTest_New(PD_baseline_last100[\"Genotype\"].unique(), \"crab\", PD_baseline_last100, PD_baseline_crab_T)"
   ]
  },
  {
   "cell_type": "code",
   "execution_count": null,
   "metadata": {},
   "outputs": [],
   "source": [
    "print(PD_baseline_length_T.iloc[:,1])"
   ]
  },
  {
   "cell_type": "code",
   "execution_count": null,
   "metadata": {},
   "outputs": [],
   "source": [
    "# # PD_baseline_Tstats = PD_baseline_instantspeed_T\n",
    "\n",
    "PD_baseline_Tstats = PD_baseline_length_T\n",
    "PD_baseline_Tstats = PD_baseline_Tstats.join(PD_baseline_midline_T.iloc[:,1])\n",
    "PD_baseline_Tstats = PD_baseline_Tstats.join(PD_baseline_width_T.iloc[:,1])\n",
    "PD_baseline_Tstats = PD_baseline_Tstats.join(PD_baseline_morphwidth_T.iloc[:,1])\n",
    "PD_baseline_Tstats = PD_baseline_Tstats.join(PD_baseline_area_T.iloc[:,1])\n",
    "\n",
    "# # PD_baseline_Tstats = PD_baseline_speed_T\n",
    "# # PD_baseline_Tstats = PD_baseline_Tstats.join(PD_baseline_intspeed_T.iloc[:,1])\n",
    "\n",
    "# PD_baseline_Tstats = PD_baseline_Tstats.join(PD_baseline_speed_T.iloc[:,1])\n",
    "# PD_baseline_Tstats = PD_baseline_Tstats.join(PD_baseline_angularspeed_T.iloc[:,1])\n",
    "# PD_baseline_Tstats = PD_baseline_Tstats.join(PD_baseline_bias_T.iloc[:,1])\n",
    "# PD_baseline_Tstats = PD_baseline_Tstats.join(PD_baseline_kink_T.iloc[:,1])\n",
    "# PD_baseline_Tstats = PD_baseline_Tstats.join(PD_baseline_curve_T.iloc[:,1])\n",
    "# PD_baseline_Tstats = PD_baseline_Tstats.join(PD_baseline_crab_T.iloc[:,1])\n",
    "\n",
    "# # PD_baseline_Tstats = PD_baseline_Tstats.join(PD_baseline_width_T.iloc[:,1])\n",
    "# # PD_baseline_Tstats = PD_baseline_Tstats.join(PD_baseline_length_T.iloc[:,1])\n",
    "# # PD_baseline_Tstats = PD_baseline_Tstats.join(PD_baseline_area_T.iloc[:,1])\n",
    "# # PD_baseline_Tstats = PD_baseline_Tstats.join(PD_baseline_angularspeed_T.iloc[:,1])\n",
    "\n",
    "print(PD_baseline_Tstats)"
   ]
  },
  {
   "cell_type": "code",
   "execution_count": null,
   "metadata": {},
   "outputs": [],
   "source": [
    "PD_baseline_Tstats = PD_baseline_Tstats.set_index(\"Genotype\")\n",
    "print(PD_baseline_Tstats)"
   ]
  },
  {
   "cell_type": "code",
   "execution_count": null,
   "metadata": {},
   "outputs": [],
   "source": [
    "PD_baseline_Tstats_sort = PD_baseline_Tstats.sort_index()\n",
    "print(PD_baseline_Tstats_sort)"
   ]
  },
  {
   "cell_type": "code",
   "execution_count": null,
   "metadata": {},
   "outputs": [],
   "source": [
    "sns.set_context('notebook')\n",
    "plt.figure(figsize = (14,14))\n",
    "ax = sns.heatmap(data = PD_baseline_Tstats_sort, \n",
    "                 annot = False, \n",
    "                 linewidth = 0.5, \n",
    "                 square = True, \n",
    "                 cmap = \"vlag\", \n",
    "                 center = 0, \n",
    "                 vmax = 400,\n",
    "                 vmin = -400, \n",
    "                 xticklabels = 1,\n",
    "                 yticklabels = 1,\n",
    "                 cbar_kws={\"shrink\": .3})\n",
    "# plt.savefig(f'{StrainName}_Speed_{ISI}ISI.png_ByPlate', format='png', dpi=450)\n",
    "plt.show()"
   ]
  },
  {
   "cell_type": "markdown",
   "metadata": {},
   "source": [
    "# T stat analysis by gene"
   ]
  },
  {
   "cell_type": "code",
   "execution_count": null,
   "metadata": {},
   "outputs": [],
   "source": [
    "PD_gene_baseline_length_T = pd.DataFrame(columns = [\"Genotype\", \"length\"])\n",
    "PD_gene_baseline_midline_T = pd.DataFrame(columns = [\"Genotype\", \"midline\"])\n",
    "PD_gene_baseline_width_T = pd.DataFrame(columns = [\"Genotype\", \"width\"])\n",
    "PD_gene_baseline_morphwidth_T = pd.DataFrame(columns = [\"Genotype\", \"morphwidth\"])\n",
    "PD_gene_baseline_area_T = pd.DataFrame(columns = [\"Genotype\", \"area\"])\n",
    "\n",
    "print(PD_gene_baseline_midline_T)\n",
    "# # PD_baseline_aspectratio_T = pd.DataFrame(columns = [\"Genotype\", \"Aspect Ratio\"])\n",
    "\n",
    "# PD_gene_baseline_speed_T = pd.DataFrame(columns = [\"Genotype\", \"speed\"])\n",
    "# PD_gene_baseline_angularspeed_T = pd.DataFrame(columns = [\"Genotype\", \"angularspeed\"])\n",
    "# PD_gene_baseline_bias_T = pd.DataFrame(columns = [\"Genotype\", \"bias\"])\n",
    "# PD_gene_baseline_kink_T =  pd.DataFrame(columns = [\"Genotype\", \"kink\"])\n",
    "# PD_gene_baseline_curve_T = pd.DataFrame(columns = [\"Genotype\", \"curve\"])\n",
    "# PD_gene_baseline_crab_T = pd.DataFrame(columns = [\"Genotype\", \"crab\"])"
   ]
  },
  {
   "cell_type": "code",
   "execution_count": 7,
   "metadata": {},
   "outputs": [],
   "source": [
    "# NEW, CREATED BY BEN\n",
    "PD_baseline_last100_OffFood = PD_baseline_last100[PD_baseline_last100[\"Treatment\"] == \"OffFood\"].dropna().add_suffix('_OffFood')\n",
    "PD_baseline_last100_OffFood = PD_baseline_last100_OffFood.rename(columns = {'Genotype_OffFood': 'Genotype'})\n",
    "\n",
    "PD_baseline_last100_OnFood = PD_baseline_last100[PD_baseline_last100[\"Treatment\"] == \"OnFood\"].dropna().add_suffix('_OnFood')\n",
    "PD_baseline_last100_OnFood = PD_baseline_last100_OnFood.rename(columns = {'Genotype_OnFood': 'Genotype'})\n",
    "\n",
    "# print(PD_baseline_last100_OffFood.head())\n",
    "# print(PD_baseline_last100_OnFood.columns)\n",
    "# print(PD_baseline_last100.shape)\n",
    "# print(PD_baseline_last100_OffFood.shape)\n",
    "# print(PD_baseline_last100_OnFood.shape)"
   ]
  },
  {
   "cell_type": "code",
   "execution_count": null,
   "metadata": {},
   "outputs": [],
   "source": [
    "# NEW, CREATED BY BEN\n",
    "PD_gene_baseline_speed_T_OffFood = pd.DataFrame(columns = [\"Genotype\", \"speed_OffFood\"])\n",
    "PD_gene_baseline_angularspeed_T_OffFood = pd.DataFrame(columns = [\"Genotype\", \"angularspeed_OffFood\"])\n",
    "PD_gene_baseline_bias_T_OffFood = pd.DataFrame(columns = [\"Genotype\", \"bias_OffFood\"])\n",
    "PD_gene_baseline_curve_T_OffFood = pd.DataFrame(columns = [\"Genotype\", \"curve_OffFood\"])\n",
    "PD_gene_baseline_crab_T_OffFood = pd.DataFrame(columns = [\"Genotype\", \"crab_OffFood\"])\n",
    "PD_gene_baseline_kink_T_OffFood = pd.DataFrame(columns = [\"Genotype\", \"kink_OffFood\"])\n",
    "\n",
    "PD_gene_baseline_speed_T_OnFood = pd.DataFrame(columns = [\"Genotype\", \"speed_OnFood\"])\n",
    "PD_gene_baseline_angularspeed_T_OnFood = pd.DataFrame(columns = [\"Genotype\", \"angularspeed_OnFood\"])\n",
    "PD_gene_baseline_bias_T_OnFood = pd.DataFrame(columns = [\"Genotype\", \"bias_OnFood\"])\n",
    "PD_gene_baseline_curve_T_OnFood = pd.DataFrame(columns = [\"Genotype\", \"curve_OnFood\"])\n",
    "PD_gene_baseline_crab_T_OnFood = pd.DataFrame(columns = [\"Genotype\", \"crab_OnFood\"])\n",
    "PD_gene_baseline_kink_T_OnFood = pd.DataFrame(columns = [\"Genotype\", \"kink_OnFood\"])"
   ]
  },
  {
   "cell_type": "code",
   "execution_count": null,
   "metadata": {},
   "outputs": [],
   "source": [
    "# PD_baseline_last100.to_csv('/Users/Joseph/Desktop/PD_Screen_TapHab/Baseline100Data.csv')\n",
    "PD_baseline_last100 = PD_baseline_last100.dropna()\n",
    "print(PD_baseline_last100)"
   ]
  },
  {
   "cell_type": "code",
   "execution_count": null,
   "metadata": {},
   "outputs": [],
   "source": [
    "# print(PD_baseline_last100.Genotype.unique())\n",
    "# print(PD_baseline_last100_OffFood.Genotype.unique())\n",
    "# print(PD_baseline_last100_OnFood.Genotype.unique())\n",
    "# print((PD_baseline_last100.Genotype.unique() == PD_baseline_last100_OffFood.Genotype.unique()) & \n",
    "#       (PD_baseline_last100.Genotype.unique()== PD_baseline_last100_OnFood.Genotype.unique()))\n",
    "\n",
    "type(PD_baseline_last100.Genotype.unique()[1])"
   ]
  },
  {
   "cell_type": "code",
   "execution_count": null,
   "metadata": {},
   "outputs": [],
   "source": [
    "# ttest = ttest_ind(PD_baseline_last100[PD_baseline_last100.Gene=='F53B2.5']['Instantaneous Speed'],\n",
    "#          PD_baseline_last100[PD_baseline_last100.Gene=='N2']['Instantaneous Speed'],\n",
    "#          equal_var=False)\n",
    "# ttest[0]"
   ]
  },
  {
   "cell_type": "code",
   "execution_count": null,
   "metadata": {},
   "outputs": [],
   "source": [
    "def TTest_Gene(DatasetList, Type, DF_ref, output):\n",
    "    for a in DatasetList:\n",
    "        Tstat = ttest_ind(DF_ref[DF_ref.Genotype == a][Type], DF_ref[DF_ref.Genotype == \"N2\"][Type], equal_var = False)[0]\n",
    "        row = [a, Tstat]\n",
    "        output.loc[len(output)] = row\n",
    "    print(output)"
   ]
  },
  {
   "cell_type": "code",
   "execution_count": null,
   "metadata": {},
   "outputs": [],
   "source": [
    "# TTest_Gene(PD_baseline_last100.Gene.unique(), 'Instantaneous Speed', PD_baseline_last100, PD_gene_baseline_instantspeed_T)"
   ]
  },
  {
   "cell_type": "code",
   "execution_count": null,
   "metadata": {},
   "outputs": [],
   "source": [
    "# PD_gene_baseline_instantspeed_T.to_csv('/Users/Joseph/Desktop/PD_Screen_TapHab/baselineinstantspeedgene.csv')\n",
    "# PD_baseline_last100.to_csv('/Users/Joseph/Desktop/PD_Screen_TapHab/Baseline100Data.csv')"
   ]
  },
  {
   "cell_type": "code",
   "execution_count": null,
   "metadata": {},
   "outputs": [],
   "source": [
    "# # TTest_New(PD_baseline_last100[\"Genotype\"].unique(), \"Instantaneous Speed\", PD_baseline_last100, PD_baseline_instantspeed_T)\n",
    "# # TTest_New(PD_baseline_last100[\"Genotype\"].unique(), \"Interval Speed\", PD_baseline_last100, PD_baseline_intspeed_T)\n",
    "\n",
    "TTest_Gene(PD_baseline_last100[\"Genotype\"].unique(), \"length\", PD_baseline_last100, PD_gene_baseline_length_T)\n",
    "TTest_Gene(PD_baseline_last100[\"Genotype\"].unique(), \"midline\", PD_baseline_last100, PD_gene_baseline_midline_T)\n",
    "TTest_Gene(PD_baseline_last100[\"Genotype\"].unique(), \"width\", PD_baseline_last100, PD_gene_baseline_width_T)\n",
    "TTest_Gene(PD_baseline_last100[\"Genotype\"].unique(), \"morphwidth\", PD_baseline_last100, PD_gene_baseline_morphwidth_T)\n",
    "TTest_Gene(PD_baseline_last100[\"Genotype\"].unique(), \"area\", PD_baseline_last100, PD_gene_baseline_area_T)\n",
    "\n",
    "# # TTest_New(PD_baseline_last100[\"Genotype\"].unique(), \"Aspect Ratio\", PD_baseline_last100, PD_baseline_aspectratio_T)\n",
    "# TTest_Gene(PD_baseline_last100[\"Genotype\"].unique(), \"speed\", PD_baseline_last100, PD_gene_baseline_speed_T)\n",
    "# TTest_Gene(PD_baseline_last100[\"Genotype\"].unique(), \"angularspeed\", PD_baseline_last100, PD_gene_baseline_angularspeed_T)\n",
    "# TTest_Gene(PD_baseline_last100[\"Genotype\"].unique(), \"bias\", PD_baseline_last100, PD_gene_baseline_bias_T)\n",
    "# TTest_Gene(PD_baseline_last100[\"Genotype\"].unique(), \"kink\", PD_baseline_last100, PD_gene_baseline_kink_T)\n",
    "# TTest_Gene(PD_baseline_last100[\"Genotype\"].unique(), \"curve\", PD_baseline_last100, PD_gene_baseline_curve_T)\n",
    "# TTest_Gene(PD_baseline_last100[\"Genotype\"].unique(), \"crab\", PD_baseline_last100, PD_gene_baseline_crab_T)"
   ]
  },
  {
   "cell_type": "code",
   "execution_count": null,
   "metadata": {},
   "outputs": [],
   "source": [
    "# NEW, CREATED BY BEN\n",
    "\n",
    "TTest_Gene(PD_baseline_last100[\"Genotype\"].unique(), \"speed_OffFood\",\n",
    "           PD_baseline_last100_OffFood, PD_gene_baseline_speed_T_OffFood)\n",
    "TTest_Gene(PD_baseline_last100[\"Genotype\"].unique(), \"angularspeed_OffFood\",\n",
    "           PD_baseline_last100_OffFood, PD_gene_baseline_angularspeed_T_OffFood)\n",
    "TTest_Gene(PD_baseline_last100[\"Genotype\"].unique(), \"bias_OffFood\",\n",
    "           PD_baseline_last100_OffFood, PD_gene_baseline_bias_T_OffFood)\n",
    "TTest_Gene(PD_baseline_last100[\"Genotype\"].unique(), \"curve_OffFood\",\n",
    "           PD_baseline_last100_OffFood, PD_gene_baseline_curve_T_OffFood)\n",
    "TTest_Gene(PD_baseline_last100[\"Genotype\"].unique(), \"crab_OffFood\",\n",
    "           PD_baseline_last100_OffFood, PD_gene_baseline_crab_T_OffFood)\n",
    "TTest_Gene(PD_baseline_last100[\"Genotype\"].unique(), \"kink_OffFood\",\n",
    "           PD_baseline_last100_OffFood, PD_gene_baseline_kink_T_OffFood)\n",
    "\n",
    "TTest_Gene(PD_baseline_last100[\"Genotype\"].unique(), \"speed_OnFood\",\n",
    "           PD_baseline_last100_OnFood, PD_gene_baseline_speed_T_OnFood)\n",
    "TTest_Gene(PD_baseline_last100[\"Genotype\"].unique(), \"angularspeed_OnFood\",\n",
    "           PD_baseline_last100_OnFood, PD_gene_baseline_angularspeed_T_OnFood)\n",
    "TTest_Gene(PD_baseline_last100[\"Genotype\"].unique(), \"bias_OnFood\",\n",
    "           PD_baseline_last100_OnFood, PD_gene_baseline_bias_T_OnFood)\n",
    "TTest_Gene(PD_baseline_last100[\"Genotype\"].unique(), \"curve_OnFood\",\n",
    "           PD_baseline_last100_OnFood, PD_gene_baseline_curve_T_OnFood)\n",
    "TTest_Gene(PD_baseline_last100[\"Genotype\"].unique(), \"crab_OnFood\",\n",
    "           PD_baseline_last100_OnFood, PD_gene_baseline_crab_T_OnFood)\n",
    "TTest_Gene(PD_baseline_last100[\"Genotype\"].unique(), \"kink_OnFood\",\n",
    "           PD_baseline_last100_OnFood, PD_gene_baseline_kink_T_OnFood)"
   ]
  },
  {
   "cell_type": "code",
   "execution_count": null,
   "metadata": {},
   "outputs": [],
   "source": [
    "PD_gene_baseline_Tstats = PD_gene_baseline_length_T\n",
    "PD_gene_baseline_Tstats = PD_gene_baseline_Tstats.join(PD_gene_baseline_midline_T.iloc[:,1])\n",
    "PD_gene_baseline_Tstats = PD_gene_baseline_Tstats.join(PD_gene_baseline_width_T.iloc[:,1])\n",
    "PD_gene_baseline_Tstats = PD_gene_baseline_Tstats.join(PD_gene_baseline_morphwidth_T.iloc[:,1])\n",
    "PD_gene_baseline_Tstats = PD_gene_baseline_Tstats.join(PD_gene_baseline_area_T.iloc[:,1])\n",
    "\n",
    "# # PD_baseline_Tstats = PD_baseline_speed_T\n",
    "# # PD_baseline_Tstats = PD_baseline_Tstats.join(PD_baseline_intspeed_T.iloc[:,1])\n",
    "\n",
    "# PD_gene_baseline_Tstats = PD_gene_baseline_Tstats.join(PD_gene_baseline_speed_T.iloc[:,1])\n",
    "# PD_gene_baseline_Tstats = PD_gene_baseline_Tstats.join(PD_gene_baseline_angularspeed_T.iloc[:,1])\n",
    "# PD_gene_baseline_Tstats = PD_gene_baseline_Tstats.join(PD_gene_baseline_bias_T.iloc[:,1])\n",
    "# PD_gene_baseline_Tstats = PD_gene_baseline_Tstats.join(PD_gene_baseline_kink_T.iloc[:,1])\n",
    "# PD_gene_baseline_Tstats = PD_gene_baseline_Tstats.join(PD_gene_baseline_curve_T.iloc[:,1])\n",
    "# PD_gene_baseline_Tstats = PD_gene_baseline_Tstats.join(PD_gene_baseline_crab_T.iloc[:,1])\n",
    "# PD_gene_baseline_Tstats = PD_gene_baseline_Tstats.set_index(\"Genotype\")\n",
    "# print(PD_gene_baseline_Tstats)\n",
    "\n",
    "# # PD_gene_habituation_Tstats=PD_gene_recovery_dura\n",
    "# # PD_gene_habituation_Tstats=PD_gene_habituation_Tstats.join(PD_gene_recovery_prob.iloc[:,1])\n",
    "# # PD_gene_habituation_Tstats=PD_gene_habituation_Tstats.join(PD_gene_recovery_speed.iloc[:,1])\n",
    "# # PD_gene_habituation_Tstats=PD_gene_habituation_Tstats.join(PD_gene_init_dura.iloc[:,1])\n",
    "# # PD_gene_habituation_Tstats=PD_gene_habituation_Tstats.join(PD_gene_init_prob.iloc[:,1])\n",
    "# # PD_gene_habituation_Tstats=PD_gene_habituation_Tstats.join(PD_gene_init_speed.iloc[:,1])\n",
    "# # PD_gene_habituation_Tstats=PD_gene_habituation_Tstats.join(PD_gene_final_dura.iloc[:,1])\n",
    "# # PD_gene_habituation_Tstats=PD_gene_habituation_Tstats.join(PD_gene_final_prob.iloc[:,1])\n",
    "# # PD_gene_habituation_Tstats=PD_gene_habituation_Tstats.join(PD_gene_final_speed.iloc[:,1])\n",
    "# # PD_gene_habituation_Tstats=PD_gene_habituation_Tstats.join(PD_gene_hab_dura.iloc[:,1])\n",
    "# # PD_gene_habituation_Tstats=PD_gene_habituation_Tstats.join(PD_gene_hab_prob.iloc[:,1])\n",
    "# # PD_gene_habituation_Tstats=PD_gene_habituation_Tstats.join(PD_gene_hab_speed.iloc[:,1])\n",
    "# # PD_gene_habituation_Tstats=PD_gene_habituation_Tstats.set_index(\"dataset\").dropna()                                        \n",
    "# # print(PD_gene_habituation_Tstats)"
   ]
  },
  {
   "cell_type": "code",
   "execution_count": null,
   "metadata": {},
   "outputs": [],
   "source": [
    "# PD_gene_baseline_speed_T_OffFood\n",
    "# PD_gene_baseline_speed_T_OffFood.iloc[:,1]"
   ]
  },
  {
   "cell_type": "code",
   "execution_count": null,
   "metadata": {},
   "outputs": [],
   "source": [
    "# NEW, CREATED BY BEN\n",
    "\n",
    "PD_gene_baseline_Tstats = PD_gene_baseline_Tstats.join(PD_gene_baseline_speed_T_OffFood.iloc[:,1])\n",
    "PD_gene_baseline_Tstats = PD_gene_baseline_Tstats.join(PD_gene_baseline_angularspeed_T_OffFood.iloc[:,1])\n",
    "PD_gene_baseline_Tstats = PD_gene_baseline_Tstats.join(PD_gene_baseline_bias_T_OffFood.iloc[:,1])\n",
    "PD_gene_baseline_Tstats = PD_gene_baseline_Tstats.join(PD_gene_baseline_curve_T_OffFood.iloc[:,1])\n",
    "PD_gene_baseline_Tstats = PD_gene_baseline_Tstats.join(PD_gene_baseline_crab_T_OffFood.iloc[:,1])\n",
    "PD_gene_baseline_Tstats = PD_gene_baseline_Tstats.join(PD_gene_baseline_kink_T_OffFood.iloc[:,1])\n",
    "\n",
    "PD_gene_baseline_Tstats = PD_gene_baseline_Tstats.join(PD_gene_baseline_speed_T_OnFood.iloc[:,1])\n",
    "PD_gene_baseline_Tstats = PD_gene_baseline_Tstats.join(PD_gene_baseline_angularspeed_T_OnFood.iloc[:,1])\n",
    "PD_gene_baseline_Tstats = PD_gene_baseline_Tstats.join(PD_gene_baseline_bias_T_OnFood.iloc[:,1])\n",
    "PD_gene_baseline_Tstats = PD_gene_baseline_Tstats.join(PD_gene_baseline_curve_T_OnFood.iloc[:,1])\n",
    "PD_gene_baseline_Tstats = PD_gene_baseline_Tstats.join(PD_gene_baseline_crab_T_OnFood.iloc[:,1])\n",
    "PD_gene_baseline_Tstats = PD_gene_baseline_Tstats.join(PD_gene_baseline_kink_T_OnFood.iloc[:,1])\n",
    "\n",
    "PD_gene_baseline_Tstats = PD_gene_baseline_Tstats.set_index(\"Genotype\")\n",
    "print(PD_gene_baseline_Tstats)"
   ]
  },
  {
   "cell_type": "code",
   "execution_count": null,
   "metadata": {},
   "outputs": [],
   "source": [
    "# PD_gene_baseline_Tstats_scaled = PD_gene_baseline_Tstats/40\n",
    "# print(PD_gene_baseline_Tstats_scaled)"
   ]
  },
  {
   "cell_type": "code",
   "execution_count": null,
   "metadata": {},
   "outputs": [],
   "source": [
    "# # # FROM BEFORE\n",
    "# # PD_gene_baseline_Tstats_scaled_sort = PD_gene_baseline_Tstats_scaled.sort_index()\n",
    "# # print(PD_gene_baseline_Tstats_scaled_sort)"
   ]
  },
  {
   "cell_type": "code",
   "execution_count": null,
   "metadata": {},
   "outputs": [],
   "source": [
    "# PD_gene_Tstats_combined = pd.merge(PD_gene_baseline_Tstats, PD_gene_habituation_Tstats, on =['dataset'], how ='left')\n",
    "# PD_gene_baseline_Tstats = PD_gene_baseline_Tstats.dropna().sort_index().drop(index=\"N2\")\n",
    "PD_gene_baseline_Tstats = PD_gene_baseline_Tstats.dropna().sort_index()\n",
    "# PD_gene_baseline_Tstats = PD_gene_baseline_Tstats.dropna().sort_index()\n",
    "PD_gene_baseline_Tstats_normalize = (PD_gene_baseline_Tstats - PD_gene_baseline_Tstats.mean())/PD_gene_baseline_Tstats.std()\n",
    "PD_gene_baseline_Tstats_normalize_2 = PD_gene_baseline_Tstats_normalize - PD_gene_baseline_Tstats_normalize[PD_gene_baseline_Tstats_normalize.index == 'N2'].squeeze()\n",
    "PD_gene_baseline_Tstats_normalize_2 = PD_gene_baseline_Tstats_normalize_2.drop(index = 'N2')\n",
    "# PD_gene_Tstats_combined=PD_gene_Tstats_combined.set_index(\"dataset\")\n",
    "# PD_gene_Tstats_combined=PD_gene_Tstats_combined.sort_index()\n",
    "# PD_gene_Tstats_combined=PD_gene_Tstats_combined.drop(index=\"N2\")\n",
    "\n",
    "print(PD_gene_baseline_Tstats_normalize)\n",
    "print(PD_gene_baseline_Tstats_normalize_2)\n",
    "PD_gene_baseline_Tstats_normalize_2.to_csv('NormalizedtoN2_baseline_Tstats.csv')"
   ]
  },
  {
   "cell_type": "code",
   "execution_count": null,
   "metadata": {},
   "outputs": [],
   "source": [
    "# Gene_Orthology=pd.read_csv('/Users/Joseph/Desktop/PD_Screen_TapHab/Gene_Orthology.csv')\n",
    "# Gene_Orthology=Gene_Orthology.rename(columns={\"Gene\":\"Orthology\", \"Worm Gene\":\"dataset\"})\n",
    "# print(Gene_Orthology)"
   ]
  },
  {
   "cell_type": "code",
   "execution_count": null,
   "metadata": {},
   "outputs": [],
   "source": [
    "# PD_gene_Tstats_combined_normalize_joined=pd.merge(PD_gene_Tstats_combined_normalize,\n",
    "#                                                  Gene_Orthology,\n",
    "#                                                  on='dataset',\n",
    "#                                                  how='inner')\n",
    "\n",
    "# print(PD_gene_Tstats_combined_normalize_joined)"
   ]
  },
  {
   "cell_type": "code",
   "execution_count": null,
   "metadata": {},
   "outputs": [],
   "source": [
    "# # PD_gene_Tstats_combined_normalize_heatmap=PD_gene_Tstats_combined_normalize_joined.set_index(\"Orthology\").sort_index()\n",
    "# # PD_gene_Tstats_combined_normalize_heatmap=PD_gene_Tstats_combined_normalize_heatmap.drop(columns=['dataset','Unnamed: 0','Human Gene'])\n",
    "# # print(PD_gene_Tstats_combined_normalize_heatmap)"
   ]
  },
  {
   "cell_type": "code",
   "execution_count": null,
   "metadata": {},
   "outputs": [],
   "source": [
    "sns.set_context('notebook')\n",
    "plt.figure(figsize=(20,14))\n",
    "plt.rc('xtick', labelsize=16)\n",
    "plt.rc('ytick', labelsize=16) \n",
    "ax = sns.heatmap(data = PD_gene_baseline_Tstats_normalize, \n",
    "                 annot = False, \n",
    "                 linewidth = 0.5, \n",
    "                 square = True, \n",
    "                 cmap = \"vlag\", \n",
    "                 center = 0, \n",
    "                 vmax = 3,\n",
    "                 vmin = -3, \n",
    "                 # xticklabels = 1,\n",
    "                 xticklabels = ['Length', 'Midline', 'Width', 'Morphwidth', 'Area',\n",
    "                                'Speed (Off Food)', 'Angular Speed (Off Food)', 'Bias (Off Food)',\n",
    "                                'Curve (Off Food)', 'Crab (Off Food)', 'Kink (Off Food)',\n",
    "                                'Speed (On Food)', 'Angular Speed (On Food)', 'Bias (On Food)',\n",
    "                                'Curve (On Food)', 'Crab (On Food)', 'Kink (On Food)'],\n",
    "                 yticklabels = 1,\n",
    "                 cbar_kws = {\"shrink\": .5, \"label\": \"Normalized T-score\"})\n",
    "ax.set_ylabel('Genotype', fontsize = 24)\n",
    "# ax.set_xlabel('Morphological Phenotype', fontsize = 24)\n",
    "# ax.set_title('Morphology Heatmap', fontsize = 24)\n",
    "ax.set_xlabel('Phenotype', fontsize = 24)\n",
    "ax.set_title('Phenotype Heatmap', fontsize = 24)\n",
    "plt.savefig('Tstat_GENE_normalized_square.jpg', format = 'jpg', dpi = 450, bbox_inches = \"tight\")\n",
    "plt.show()"
   ]
  },
  {
   "cell_type": "code",
   "execution_count": null,
   "metadata": {},
   "outputs": [],
   "source": [
    "# PD_gene_Tstats_melted=PD_gene_Tstats_combined_normalize.reset_index()\n",
    "# print(PD_gene_Tstats_melted)\n",
    "# PD_gene_Tstats_melted_gene=pd.melt(PD_gene_Tstats_melted, id_vars=['dataset'],\n",
    "#                                    var_name='Metric',\n",
    "#                                    value_name='Normalized T_score')\n",
    "# PD_gene_Tstats_melted_gene_sorted=PD_gene_Tstats_melted_gene.sort_values(by=['Normalized T_score'])\n",
    "# print(PD_gene_Tstats_melted_gene)\n",
    "# print(PD_gene_Tstats_melted_gene_sorted)\n",
    "# # PD_gene_Tstats_melted_metric=pd.melt(PD_gene_Tstats_melted_gene, id_vars=['dataset'],\n",
    "# #                              value_name='metric')\n"
   ]
  },
  {
   "cell_type": "code",
   "execution_count": null,
   "metadata": {},
   "outputs": [],
   "source": [
    "# metric_palette=[\"k\",\"k\",\"k\",\"k\",\"k\",\"k\",\"k\",\"k\",\"k\",\"k\",\n",
    "#                 \"darkgray\",\"darkgray\",\"darkgray\",\"darkgray\",\n",
    "#                 \"darkgray\",\"darkgray\",\"darkgray\",\"darkgray\",\n",
    "#                 \"darkgray\",\"darkgray\",\"darkgray\",\"darkgray\"]"
   ]
  },
  {
   "cell_type": "code",
   "execution_count": null,
   "metadata": {},
   "outputs": [],
   "source": [
    "# PD_gene_Tstats_combined_normalize_orthology_melted=PD_gene_Tstats_combined_normalize_heatmap.reset_index()\n",
    "# PD_gene_Tstats_combined_normalize_orthology_melted=pd.melt(PD_gene_Tstats_combined_normalize_orthology_melted, id_vars=['Orthology'],\n",
    "#                                    var_name='Metric',\n",
    "#                                    value_name='Normalized T_score')\n",
    "# PD_gene_Tstats_orthology_melted_gene_sorted=PD_gene_Tstats_combined_normalize_orthology_melted.sort_values(by=['Normalized T_score'])\n",
    "# # print(PD_gene_Tstats_melted_gene)\n",
    "# print(PD_gene_Tstats_orthology_melted_gene_sorted)\n",
    "# # PD_gene_Tstats_melted_metric=pd.melt(PD_gene_Tstats_melted_gene, id_vars=['dataset'],\n",
    "# #                              value_name='metric')\n",
    "\n"
   ]
  },
  {
   "cell_type": "code",
   "execution_count": null,
   "metadata": {},
   "outputs": [],
   "source": [
    "# print(PD_gene_Tstats_melted_gene.dataset.unique())\n",
    "# PD_gene_Tstats_combined_normalize_orthology=PD_gene_Tstats_combined_normalize_heatmap.reset_index()\n",
    "# print(PD_gene_Tstats_combined_normalize_orthology.Orthology.unique())"
   ]
  },
  {
   "cell_type": "code",
   "execution_count": null,
   "metadata": {},
   "outputs": [],
   "source": [
    "# # sns.barplot(data=PD_gene_Tstats_melted_gene[PD_gene_Tstats_melted_gene.dataset==\"F53B2.5\"], x=\"Metric\", y=\"T_score\")\n",
    "# # plt.xticks(rotation=90)\n",
    "\n",
    "# sns.set_context('notebook')\n",
    "# # # plt.figure(figsize=(14,14))\n",
    "# # ax = sns.barplot(data = PD_gene_Tstats_melted_gene[PD_gene_Tstats_melted_gene.dataset==\"F53B2.5\"], \n",
    "# #                 x=\"Metric\",\n",
    "# #                 y=\"T_score\",\n",
    "# #                 palette=metric_palette)\n",
    "# # plt.xticks(rotation=90)\n",
    "# # # plt.savefig('/Users/Joseph/Desktop/PD_Screen_TapHab/Tstat_GENE.png', format='png', dpi=450, bbox_inches = \"tight\")\n",
    "# # # '/Users/Joseph/Desktop/PD_Screen_TapHab/Baseline100Data.csv'\n",
    "# # plt.show()\n",
    "\n",
    "# for x in PD_gene_Tstats_combined_normalize_orthology_melted.Orthology.unique():\n",
    "#     plt.figure()\n",
    "#     ax = sns.barplot(data = PD_gene_Tstats_combined_normalize_orthology_melted[PD_gene_Tstats_combined_normalize_orthology_melted.Orthology==f\"{x}\"], \n",
    "#                 x=\"Metric\",\n",
    "#                 y=\"Normalized T_score\",\n",
    "#                 palette=metric_palette).set_title(f\"{x}\")\n",
    "#     plt.ylim(-3,3)\n",
    "#     plt.xticks(rotation=90)\n",
    "#     plt.savefig(f'/Users/Joseph/Desktop/PD_Screen_TapHab/Gene_Metrics/{x}_Metrics.png', format='png', dpi=450, bbox_inches = \"tight\")\n",
    "#     plt.show()\n",
    "# print(\"done\")"
   ]
  },
  {
   "cell_type": "code",
   "execution_count": null,
   "metadata": {},
   "outputs": [],
   "source": [
    "# # sns.barplot(data=PD_gene_Tstats_melted_gene_sorted[PD_gene_Tstats_melted_gene_sorted.Metric==\"Instantaneous Speed\"],\n",
    "# #             x=\"dataset\", y=\"T_score\")\n",
    "# # plt.xticks(rotation=90)\n",
    "\n",
    "# for x in PD_gene_Tstats_melted_gene_sorted.Metric.unique():\n",
    "#     plt.figure()\n",
    "#     ax = sns.barplot(data = PD_gene_Tstats_melted_gene_sorted[PD_gene_Tstats_melted_gene_sorted.Metric==f\"{x}\"], \n",
    "#                 x=\"dataset\",\n",
    "#                 y=\"Normalized T_score\",\n",
    "#                 palette=[\"dimgray\"]).set_title(f\"{x}\")\n",
    "#     plt.xticks(rotation=90)\n",
    "#     plt.ylim(-3,3)\n",
    "#     plt.savefig(f'/Users/Joseph/Desktop/PD_Screen_TapHab/Metric_Scores/{x}_Metrics.png', format='png', dpi=450, bbox_inches = \"tight\")\n",
    "#     plt.show()\n",
    "# print(\"done\")"
   ]
  },
  {
   "cell_type": "code",
   "execution_count": null,
   "metadata": {},
   "outputs": [],
   "source": [
    "# # print(PD_recov_taps)\n",
    "# # print(PD_habit_levels)\n",
    "# # print(PD_baseline_last100)"
   ]
  }
 ],
 "metadata": {
  "kernelspec": {
   "display_name": "Python 3 (ipykernel)",
   "language": "python",
   "name": "python3"
  },
  "language_info": {
   "codemirror_mode": {
    "name": "ipython",
    "version": 3
   },
   "file_extension": ".py",
   "mimetype": "text/x-python",
   "name": "python",
   "nbconvert_exporter": "python",
   "pygments_lexer": "ipython3",
   "version": "3.11.1"
  }
 },
 "nbformat": 4,
 "nbformat_minor": 4
}
