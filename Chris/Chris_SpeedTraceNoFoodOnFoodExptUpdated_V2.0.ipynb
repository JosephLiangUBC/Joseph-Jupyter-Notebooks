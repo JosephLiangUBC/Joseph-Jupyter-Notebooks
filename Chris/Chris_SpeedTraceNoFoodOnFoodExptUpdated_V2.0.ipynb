{
 "cells": [
  {
   "cell_type": "markdown",
   "metadata": {
    "jp-MarkdownHeadingCollapsed": true,
    "tags": []
   },
   "source": [
    "# Jupyter Notebook UI to graph your speed trace (with opto) data!\n",
    "\n",
    "Version 1.3 - Joseph Liang, Rankin Lab\n",
    "Updated:\n",
    "1. Upgraded folder path selection application\n",
    "2. Upgraded dataset management (less moving parts for end-user)\n",
    "3. output changed from tif -> png\n",
    "\n",
    "## Known bug: Step 2 an empty windows displays in Mac. May also apply to linux/windows.\n",
    "\n",
    "## Beginner Essentials:\n",
    "1. Shift-Enter to run each cell. After you run, you should see an output \"done step #\". If not, an error has occured\n",
    "2. When inputting your own code/revising the code, make sure you close all your quotation marks '' and brackets (), [], {}.\n",
    "3. Don't leave any commas (,) hanging! (make sure an object always follows a comma. If there is nothing after a comma, remove the comma!\n",
    "4. Learning to code? Each line of code is annotated to help you understand how this code works!\n",
    "\n",
    "## 3. Run all cells/steps sequentially, even the ones that do not require input\n",
    "\n",
    "## Steps that require input: #3, #6.1, #7"
   ]
  },
  {
   "cell_type": "markdown",
   "metadata": {},
   "source": [
    "# 1. Importing Packages Required (No input required, just run)"
   ]
  },
  {
   "cell_type": "code",
   "execution_count": 1,
   "metadata": {},
   "outputs": [
    {
     "name": "stdout",
     "output_type": "stream",
     "text": [
      "done step 1\n"
     ]
    }
   ],
   "source": [
    "import pandas as pd #<- package used to import and organize data\n",
    "import numpy as np #<- package used to import and organize data\n",
    "import seaborn as sns #<- package used to plot graphs\n",
    "from matplotlib import pyplot as plt #<- package used to plot graphs\n",
    "import os #<- package used to work with system filepaths\n",
    "from ipywidgets import widgets #<- widget tool to generate button\n",
    "from IPython.display import display #<- displays button\n",
    "from tkinter import Tk, filedialog #<- Tkinter is a GUI package\n",
    "from tqdm.notebook import tqdm\n",
    "# import dask.dataframe as dd\n",
    "import pingouin as pg\n",
    "pd.set_option('display.max_columns', 50)\n",
    "print(\"done step 1\")"
   ]
  },
  {
   "cell_type": "markdown",
   "metadata": {},
   "source": [
    "# 2. Pick filepath (just run and click button)\n",
    "\n",
    "Run the following cell and clicke the button 'Select Folder' to pick a filepath.\n",
    "\n",
    "## Important: Later on, this script uses the total file path for each file to import and group data. That means if your folder has whatever your strain is named, the script will not work.\n",
    "\n",
    "(ex. if your folder has \"N2\" in it this script sees all files inside this folder as having the \"N2\" search key)\n",
    "\n",
    "## An easy fix is to just rename your folder to something else (make your strains lower-case, or just have the date)"
   ]
  },
  {
   "cell_type": "code",
   "execution_count": 2,
   "metadata": {},
   "outputs": [
    {
     "data": {
      "application/vnd.jupyter.widget-view+json": {
       "model_id": "20835cebf9d540cb975d72a01243c42d",
       "version_major": 2,
       "version_minor": 0
      },
      "text/plain": [
       "Button(description='Select Folder', style=ButtonStyle())"
      ]
     },
     "metadata": {},
     "output_type": "display_data"
    }
   ],
   "source": [
    "### Select Folder App - After you run, you can select your folder for filepath\n",
    "button = widgets.Button(description = 'Select Folder') #<- creates a button variable\n",
    "display(button) #<- displays the button in output\n",
    "\n",
    "def select_folder(b): #<- defines an action. This action requires a variable, so an arbitrary one 'b' is there\n",
    "    global folder_path #<- sets a variable as a global variable, not just within this action\n",
    "    #Tk().withdraw() #<- Tkinter likes to create annoying empty windows. This removes them\n",
    "    folder_path = filedialog.askdirectory() #<- Opens up a file explorer window, and determines folder path\n",
    "    #Tk().update() #<- below\n",
    "    #Tk().destroy() #<- this and the line above it removes the file explorer window after a selection is made\n",
    "    print(folder_path) #<- this helps confirm that this action was performed\n",
    "    print('done step 2')\n",
    "button.on_click(select_folder)"
   ]
  },
  {
   "cell_type": "markdown",
   "metadata": {},
   "source": [
    "# 3. User Defined Variables (Add input here)\n",
    "\n",
    "Here, we add some constants to help you blaze through this code.\n",
    "\n",
    "## 3.1: Setting time bins\n",
    "pretty self explanatory\n",
    "\n",
    "\n",
    "\n",
    "## 3.2: Setting view range for your graph\n",
    "Top, bottom = y axis view range\n",
    "left, right = x axis view range\n",
    "\n"
   ]
  },
  {
   "cell_type": "code",
   "execution_count": 3,
   "metadata": {},
   "outputs": [
    {
     "name": "stdout",
     "output_type": "stream",
     "text": [
      "[  0.   1.   2.   3.   4.   5.   6.   7.   8.   9.  10.  11.  12.  13.\n",
      "  14.  15.  16.  17.  18.  19.  20.  21.  22.  23.  24.  25.  26.  27.\n",
      "  28.  29.  30.  31.  32.  33.  34.  35.  36.  37.  38.  39.  40.  41.\n",
      "  42.  43.  44.  45.  46.  47.  48.  49.  50.  51.  52.  53.  54.  55.\n",
      "  56.  57.  58.  59.  60.  61.  62.  63.  64.  65.  66.  67.  68.  69.\n",
      "  70.  71.  72.  73.  74.  75.  76.  77.  78.  79.  80.  81.  82.  83.\n",
      "  84.  85.  86.  87.  88.  89.  90.  91.  92.  93.  94.  95.  96.  97.\n",
      "  98.  99. 100. 101. 102. 103. 104. 105. 106. 107. 108. 109. 110. 111.\n",
      " 112. 113. 114. 115. 116. 117. 118. 119. 120. 121. 122. 123. 124. 125.\n",
      " 126. 127. 128. 129. 130. 131. 132. 133. 134. 135. 136. 137. 138. 139.\n",
      " 140. 141. 142. 143. 144. 145. 146. 147. 148. 149. 150. 151. 152. 153.\n",
      " 154. 155. 156. 157. 158. 159. 160. 161. 162. 163. 164. 165. 166. 167.\n",
      " 168. 169. 170. 171. 172. 173. 174. 175. 176. 177. 178. 179. 180. 181.\n",
      " 182. 183. 184. 185. 186. 187. 188. 189. 190. 191. 192. 193. 194. 195.\n",
      " 196. 197. 198. 199. 200. 201. 202. 203. 204. 205. 206. 207. 208. 209.\n",
      " 210. 211. 212. 213. 214. 215. 216. 217. 218. 219. 220. 221. 222. 223.\n",
      " 224. 225. 226. 227. 228. 229. 230. 231. 232. 233. 234. 235. 236. 237.\n",
      " 238. 239. 240. 241. 242. 243. 244. 245. 246. 247. 248. 249. 250. 251.\n",
      " 252. 253. 254. 255. 256. 257. 258. 259. 260. 261. 262. 263. 264. 265.\n",
      " 266. 267. 268. 269. 270. 271. 272. 273. 274. 275. 276. 277. 278. 279.\n",
      " 280. 281. 282. 283. 284. 285. 286. 287. 288. 289. 290. 291. 292. 293.\n",
      " 294. 295. 296. 297. 298. 299. 300. 301. 302. 303. 304. 305. 306. 307.\n",
      " 308. 309. 310. 311. 312. 313. 314. 315. 316. 317. 318. 319. 320. 321.\n",
      " 322. 323. 324. 325. 326. 327. 328. 329. 330. 331. 332. 333. 334. 335.\n",
      " 336. 337. 338. 339. 340. 341. 342. 343. 344. 345. 346. 347. 348. 349.\n",
      " 350. 351. 352. 353. 354. 355. 356. 357. 358. 359. 360. 361. 362. 363.\n",
      " 364. 365. 366. 367. 368. 369. 370. 371. 372. 373. 374. 375. 376. 377.\n",
      " 378. 379. 380. 381. 382. 383. 384. 385. 386. 387. 388. 389. 390. 391.\n",
      " 392. 393. 394. 395. 396. 397. 398. 399. 400. 401. 402. 403. 404. 405.\n",
      " 406. 407. 408. 409. 410. 411. 412. 413. 414. 415. 416. 417. 418. 419.\n",
      " 420.]\n",
      "done step 3\n"
     ]
    }
   ],
   "source": [
    "# Setting 1s Bins: for 0.5s Bins: 0,360,721\n",
    "# bins = np.linspace(0,360,721) #<- np.linspace(start, end, steps in between)\n",
    "# bins = np.linspace(0,420,841) #<- np.linspace(start, end, steps in between)\n",
    "bins = np.linspace(0,420,421) # 1 second bins (smoother lines on graph)\n",
    "\n",
    "print(bins)\n",
    "\n",
    "\n",
    "print(\"done step 3\")"
   ]
  },
  {
   "cell_type": "markdown",
   "metadata": {},
   "source": [
    "# 4. Construct filelist from folder path (No input required, just run)"
   ]
  },
  {
   "cell_type": "code",
   "execution_count": 5,
   "metadata": {},
   "outputs": [
    {
     "name": "stdout",
     "output_type": "stream",
     "text": [
      "/Volumes/JosephBSR/PDScreen_BSR_Summer2024\n"
     ]
    },
    {
     "name": "stderr",
     "output_type": "stream",
     "text": [
      "IOPub data rate exceeded.\n",
      "The Jupyter server will temporarily stop sending output\n",
      "to the client in order to avoid crashing it.\n",
      "To change this limit, set the config variable\n",
      "`--ServerApp.iopub_data_rate_limit`.\n",
      "\n",
      "Current values:\n",
      "ServerApp.iopub_data_rate_limit=1000000.0 (bytes/sec)\n",
      "ServerApp.rate_limit_window=3.0 (secs)\n",
      "\n"
     ]
    }
   ],
   "source": [
    "#folder_path = '/Users/Joseph/Desktop/lrk1_ATR_NoATR_08_15_2019'\n",
    "print(folder_path)\n",
    "os.chdir(folder_path) #<- setting your working directory so that your images will be saved here\n",
    "\n",
    "filelist = list() #<- empty list\n",
    "for root, dirs, files in os.walk(folder_path): #<- this for loop goes through your folder \n",
    "    for name in files:\n",
    "        if name.endswith('.dat'): #<- and takes out all files with a .dat (file that contains your data)\n",
    "            filepath = os.path.join(root, name) #<- Notes down the file path of each data file\n",
    "            filelist.append(filepath) #<- saves it into the list\n",
    "    \n",
    "print(filelist)\n",
    "print('done step 4')"
   ]
  },
  {
   "cell_type": "code",
   "execution_count": 7,
   "metadata": {},
   "outputs": [
    {
     "name": "stdout",
     "output_type": "stream",
     "text": [
      "/Volumes/JosephBSR/PDScreen_BSR_Summer2024/PDScreen_BSR_September27_2024/cpr-9(tm1759)_OffFood/20240927_170511/FX01759_7x3_n72h20C_420s_B0924db.00726.dat\n"
     ]
    }
   ],
   "source": [
    "print(filelist[0])"
   ]
  },
  {
   "cell_type": "markdown",
   "metadata": {},
   "source": [
    "# 5. Process Data Function (No input required, just run)"
   ]
  },
  {
   "cell_type": "code",
   "execution_count": 8,
   "metadata": {},
   "outputs": [
    {
     "name": "stdout",
     "output_type": "stream",
     "text": [
      "done step 5\n"
     ]
    }
   ],
   "source": [
    "def ProcessData(strain): #<- an example of a user-defined function\n",
    "    strain_filelist = []  #<- empty list\n",
    "    for i in filelist: #<- goes through the list and filters for keyword\n",
    "        if strain in i:\n",
    "            strain_filelist.append(i)\n",
    "    Strain_N = len(strain_filelist) #<- N per strain, or number of plates\n",
    "    print(f'This Strain has {Strain_N} worms tracked') #<- prints out number of plates per strain\n",
    "    for i, f in tqdm(enumerate(strain_filelist, start=1)): #<- a progress bar function integrated into data import\n",
    "        N = len(strain_filelist)\n",
    "        # statement = f\"Processing {i} of {N} worms\" #<- progress bar statement\n",
    "        DF_Read = pd.read_csv(f, sep=' ', skiprows = 0, header = None) #<- imports and cleans data\n",
    "        if i==1:\n",
    "            DF_Total = DF_Read\n",
    "            DF_Total = DF_Total.dropna(axis=0)\n",
    "            DF_Total[\"worm\"]=i\n",
    "#             DF_Total[\"x_0\"] = DF_Total.iloc[:,2] - DF_Total.iloc[0,2]\n",
    "#             DF_Total[\"y_0\"] = DF_Total.iloc[:,3] - DF_Total.iloc[0,3]\n",
    "#             pathlen_i = np.array(DF_Total.iloc[1:,5])\n",
    "#             pathlen_i_1 = np.array(DF_Total.iloc[0:-1,5])\n",
    "#             result = np.abs(pathlen_i - pathlen_i_1).tolist()\n",
    "#             result.insert(0,0)\n",
    "#             resultS=pd.Series(result)\n",
    "#             DF_Total[\"distance\"]=resultS.cumsum()\n",
    "            DF_Total=DF_Total.dropna()\n",
    "#             print(DF_Total)\n",
    "        else:\n",
    "            DF_Add = DF_Read\n",
    "            DF_Add = DF_Add.dropna(axis=0)\n",
    "            DF_Add[\"worm\"]=i\n",
    "#             DF_Add[\"x_0\"] = DF_Add.iloc[:,2] - DF_Add.iloc[0,2]\n",
    "#             DF_Add[\"y_0\"] = DF_Add.iloc[:,3] - DF_Add.iloc[0,3]\n",
    "#             pathlen_i = np.array(DF_Add.iloc[1:,5])\n",
    "#             pathlen_i_1 = np.array(DF_Add.iloc[0:-1,5])\n",
    "#             result = np.abs(pathlen_i - pathlen_i_1).tolist()\n",
    "#             result.insert(0,0)\n",
    "#             resultS=pd.Series(result)\n",
    "#             DF_Add[\"distance\"]=resultS.cumsum()\n",
    "#             DF_Add = DF_Add.dropna()\n",
    "            DF_Total = pd.concat((DF_Total, DF_Add), ignore_index = True)  #<- imports and cleans data\n",
    "        # print(statement)\n",
    "#         print(DF_Total)\n",
    "    DF_Total = DF_Total.dropna(axis = 0) #<- more data cleaning\n",
    "    DF_Total = DF_Total.rename( #<- more data cleaning\n",
    "                {0:'time',\n",
    "                1:'speed',\n",
    "                2: \"x\",\n",
    "                3: \"y\",\n",
    "                4: \"angularspeed\",\n",
    "                5: \"pathlength\",\n",
    "                6: \"kink\",\n",
    "                7: \"bias\",\n",
    "                8: \"curve\",\n",
    "                9: \"dir\",\n",
    "                10: \"crab\",\n",
    "                11: \"length\",\n",
    "                12: \"midline\",\n",
    "                13: \"width\",\n",
    "                14: \"morphwidth\",\n",
    "                15: \"area\"\n",
    "                }, axis=1)\n",
    "#     print(DF_Total)\n",
    "\n",
    "    #0.5s Bins\n",
    "    Bins = [float(i) for i in bins] #<- adds time bins into the data frame\n",
    "    DF_Total['time_bin'] = pd.cut(DF_Total['time'], Bins, labels = Bins[1:])\n",
    "    DF_Total['time_bin'] = DF_Total['time_bin'].astype(np.float64)\n",
    "    DF_time_bin=DF_Total.groupby([\"time_bin\", \"worm\"], as_index=False).mean()\n",
    "#     print(DF_time_bin)\n",
    "    #     DF_Speed_DF = DF_Total[[\"time\", \"time_bin\", \"speed\", \"x\", \"y\", \"x_0\",\"y_0\", \"pathlength\", \"worm\"]].copy()\n",
    "    \n",
    "    return{\n",
    "            'N': Strain_N,\n",
    "            'Confirm':DF_time_bin, #DF_Total if want to non-binned data\n",
    "#             'Speed_DF': DF_Speed_DF, #<- this is the finished product we will use for analysis\n",
    "            'Filelist':strain_filelist} \n",
    "\n",
    "print('done step 5')"
   ]
  },
  {
   "cell_type": "markdown",
   "metadata": {},
   "source": [
    "# 6.1 Processing Data (Please Read, Input Here)\n",
    "\n",
    "Here is the hardest part - From your naming convention, you need to pick a unique identifier for each group.\n",
    "\n",
    "This means that all of names of your files for that strain should have that in common but is not commone with across all other files! If you did a good job naming your files and following a good naming convention, this should be easy.\n",
    "\n",
    "## Be careful and really look hard in your naming structure. Note you want an unique identifier in the entire file path for the same group of files. An easy mistake is to have the strain name in the folder name, in this case if you use your strain name as a keyword it would include all files in that folder!\n",
    "\n",
    "For example, if all your N2 files have a certain pattern like \"N2_5x4\" in this following example:\n",
    "'/Users/Joseph/Desktop/AVR14_10sISI_TapHab_0710_2019/N2/20190710_141740/N2_5x4_f94h20c_100s30x10s10s_C0710ab.trv'\n",
    "\n",
    "Then you need to set that identifier for the strain keyword:\n",
    "'Strain_1' = 'N2_5x4'\n",
    "\n",
    "In the same example, if the identifier for your second strain is 'AVR14', then the N2 files will also be included, as this identifier can also be found in this file path.\n",
    "\n",
    "## Depending on how many strains you are running for comparison, you may need to add/delete some lines.\n",
    "\n",
    "You are not naming your data groups here, we have a step for that later.\n",
    "## Here, you want to note down ALL the strains you have in the folder\n",
    "\n",
    "If you have just 2 strains, add hashtags (#) in front of the lines you do not need.\n",
    "If you need more strains, just add more lines, following the same format!"
   ]
  },
  {
   "cell_type": "code",
   "execution_count": 10,
   "metadata": {},
   "outputs": [
    {
     "name": "stdout",
     "output_type": "stream",
     "text": [
      "['mbk-1(pk1389)_OffFood', 'LRRK(G2019S)_OnFood', 'unc-10(md1117)_OffFood', 'dve-1(tm4803)_OffFood', 'cpr-9(tm1759)_OffFood', 'snb1-LRRK2(G2019S)_OffFood', 'chd-7(gk290)_OnFood', 'cat-2(e1112)_Food', 'ncs-7(tm4648)_NoFood', 'unc-10(e102)_OffFood', 'scav-1(tm10524)_OnFood', 'T20F7.3(tm2936)_OnFood', 'pamn-1(tm4430)_OffFood', 'scav-1(tm10524)_OffFood', 'dve-1(tm4803)_OnFood', 'snb1-LRRK2(WT)_OffFood', 'mbk-1(ok402)_OffFood', 'unc119-ABeta(myo2control)_OffFood', 'LRRK(G2019S)_OffFood', 'unc-43(n498)_OnFood', 'mbk-1(pk1389)_OnFood', 'cpr-2(ok2833)_OnFood', 'mbk-1(ok402)_OnFood', 'LRRK(WT)_OnFood', 'ncs-5(tm4951)_OnFood', 'N2_NoFood', 'unc-43(n498n1186)_OnFood', 'unc119-ABeta(42)_OffFood', 'dat1-hSNCA(hSNCA)_OnFood', 'unc119-ABeta(myo2control)_OnFood', 'scav-5(ok1606)_OffFood', 'unc119-ABeta(42)_OnFood', 'scav-5(ok1606)_OnFood', 'chd-7(gk290)_OffFood', 'snb1-LRRK2(WT)_OnFood', 'unc-10(e102)_OnFood', 'ncs-5(tm4371)_OnFood', 'gbf-1(tm3107)_OnFood', 'N2_OnFood', 'gbf-1(tm3107)_OffFood', 'dve-1(tm7599)_OnFood', 'cpr-2(ok2833)_OffFood', 'unc-43(n498n1179)_OffFood', 'scav-2(ok877)_OffFood', 'C29E4.10(ok2752)_OffFood', 'C29E4.10(ok2752)_OnFood', 'N2_OffFood', 'unc-43(n498n1186)_OffFood', 'LRRK(WT)_OffFood', 'ncs-5(tm4951)_OffFood', 'cpr-9(tm1759)_OnFood', 'unc-43(n498)_OffFood', 'unc-43(n498n1179)_OnFood', 'N2_Food', 'cat-2(e1112)_NoFood', 'ncs-5(tm4371)_OffFood', 'ncs-7(tm4648)_Food', 'ncs-7(tm5037)_NoFood', 'T20F7.3(tm2936)_OffFood', 'unc-10(md1117)_OnFood', 'dat1-hSNCA(hSNCA)_OffFood', 'pamn-1(tm4430)_OnFood', 'ncs-7(tm5037)_Food', 'dve-1(tm7599)_OffFood', 'snb1-LRRK2(G2019S)_OnFood', 'scav-2(ok877)_OnFood']\n",
      "{1: 'N2_OffFood', 2: 'N2_OnFood', 3: 'C29E4.10(ok2752)_OffFood', 4: 'C29E4.10(ok2752)_OnFood', 5: 'LRRK(G2019S)_OffFood', 6: 'LRRK(G2019S)_OnFood', 7: 'LRRK(WT)_OffFood', 8: 'LRRK(WT)_OnFood', 9: 'N2_Food', 10: 'N2_NoFood', 11: 'T20F7.3(tm2936)_OffFood', 12: 'T20F7.3(tm2936)_OnFood', 13: 'cat-2(e1112)_Food', 14: 'cat-2(e1112)_NoFood', 15: 'chd-7(gk290)_OffFood', 16: 'chd-7(gk290)_OnFood', 17: 'cpr-2(ok2833)_OffFood', 18: 'cpr-2(ok2833)_OnFood', 19: 'cpr-9(tm1759)_OffFood', 20: 'cpr-9(tm1759)_OnFood', 21: 'dat1-hSNCA(hSNCA)_OffFood', 22: 'dat1-hSNCA(hSNCA)_OnFood', 23: 'dve-1(tm4803)_OffFood', 24: 'dve-1(tm4803)_OnFood', 25: 'dve-1(tm7599)_OffFood', 26: 'dve-1(tm7599)_OnFood', 27: 'gbf-1(tm3107)_OffFood', 28: 'gbf-1(tm3107)_OnFood', 29: 'mbk-1(ok402)_OffFood', 30: 'mbk-1(ok402)_OnFood', 31: 'mbk-1(pk1389)_OffFood', 32: 'mbk-1(pk1389)_OnFood', 33: 'ncs-5(tm4371)_OffFood', 34: 'ncs-5(tm4371)_OnFood', 35: 'ncs-5(tm4951)_OffFood', 36: 'ncs-5(tm4951)_OnFood', 37: 'ncs-7(tm4648)_Food', 38: 'ncs-7(tm4648)_NoFood', 39: 'ncs-7(tm5037)_Food', 40: 'ncs-7(tm5037)_NoFood', 41: 'pamn-1(tm4430)_OffFood', 42: 'pamn-1(tm4430)_OnFood', 43: 'scav-1(tm10524)_OffFood', 44: 'scav-1(tm10524)_OnFood', 45: 'scav-2(ok877)_OffFood', 46: 'scav-2(ok877)_OnFood', 47: 'scav-5(ok1606)_OffFood', 48: 'scav-5(ok1606)_OnFood', 49: 'snb1-LRRK2(G2019S)_OffFood', 50: 'snb1-LRRK2(G2019S)_OnFood', 51: 'snb1-LRRK2(WT)_OffFood', 52: 'snb1-LRRK2(WT)_OnFood', 53: 'unc-10(e102)_OffFood', 54: 'unc-10(e102)_OnFood', 55: 'unc-10(md1117)_OffFood', 56: 'unc-10(md1117)_OnFood', 57: 'unc-43(n498)_OffFood', 58: 'unc-43(n498)_OnFood', 59: 'unc-43(n498n1179)_OffFood', 60: 'unc-43(n498n1179)_OnFood', 61: 'unc-43(n498n1186)_OffFood', 62: 'unc-43(n498n1186)_OnFood', 63: 'unc119-ABeta(42)_OffFood', 64: 'unc119-ABeta(42)_OnFood', 65: 'unc119-ABeta(myo2control)_OffFood', 66: 'unc119-ABeta(myo2control)_OnFood'}\n",
      "done step 6.1\n"
     ]
    }
   ],
   "source": [
    "# TotalConcatenated[['Genotype', 'Treatment']] = TotalConcatenated['Strain'].str.split(' - ', 1, expand=True)\n",
    "# print(list(set(filelist)))\n",
    "# nfiles = list(range(1, len(filelist.unique())+1))\n",
    "# print(nfiles)\n",
    "# strainnames = []\n",
    "strainnames=[]\n",
    "for f in filelist:\n",
    "    strainnames.append(f.split('/')[-3])\n",
    "ustrainnames=list(set(strainnames))\n",
    "print(ustrainnames)\n",
    "# print(ustrainnames)\n",
    "ustrainnames.sort()\n",
    "# print(ustrainnames)\n",
    "ustrainnames.insert(0, ustrainnames.pop(ustrainnames.index(\"N2_OnFood\")))\n",
    "# ustrainnames.insert(0, ustrainnames.pop(ustrainnames.index(\"N2_OnFood\")))\n",
    "# print(ustrainnames)\n",
    "ustrainnames.insert(0, ustrainnames.pop(ustrainnames.index(\"N2_OffFood\")))\n",
    "# ustrainnames.insert(0, ustrainnames.pop(ustrainnames.index(\"N2_OffFood\")))\n",
    "# print(ustrainnames)\n",
    "nstrains=list(range(1,len(ustrainnames)+1))\n",
    "# print(nstrains)\n",
    "\n",
    "StrainNames = {}\n",
    "StrainNames = {nstrains[i]: ustrainnames[i] for i in range(len(nstrains))}\n",
    "print(StrainNames)\n",
    "print(\"done step 6.1\")\n",
    "\n",
    "# <---------------- Test element to use for dictionary buidling -------------------\n",
    "# s = '/Users/Joseph/Desktop/OnFoodOffFoodTest/N2_OnFood/20220401_163048/N2_10x1_n96h20C_360sA0401_ka.00065.dat'\n",
    "# slist=s.split('/')[5]\n",
    "# print(slist)\n",
    "# print(list(range(1,5+1)))"
   ]
  },
  {
   "cell_type": "code",
   "execution_count": null,
   "metadata": {},
   "outputs": [],
   "source": [
    "# # ------------This Cell Is Now Defunct ----------------\n",
    "\n",
    "\n",
    "# #Format: Strain_# = 'unique_identifier'\n",
    "\n",
    "# ### Make into dictionary\n",
    "# StrainNames = {\n",
    "#     'Strain_1' : 'No_Parafilm',   #<- each strain will be designated to a unique identifier here\n",
    "#     'Strain_2' : 'Yes_Parafilm',\n",
    "# #     'Strain_3' : 'e1112_OffFood',\n",
    "# #     'Strain_4' : 'e1112_OnFood',\n",
    "# #     'Strain_5' : 'Test_OffFood',\n",
    "# #     'Strain_6' : 'Test_OnFood',\n",
    "# #     'Strain_5' : 'N2_NoFood',\n",
    "# #     'Strain_6' : 'N2_Food',\n",
    "# #     'Strain_9' : 'LX636_NoFood',  #<- empty entries are for those hardcore trackers that tracking this many strains\n",
    "# #     'Strain_10' : 'LX636_Food',\n",
    "# #     'Strain_11' : '',\n",
    "# #     'Strain_12' : '',\n",
    "# #     'Strain_13' : '',\n",
    "# #     'Strain_14' : '',\n",
    "# #     'Strain_15' : '',\n",
    "# }\n",
    "# #...etc, etc\n",
    "\n",
    "# print('done step 6.1')\n",
    "# print(StrainNames)"
   ]
  },
  {
   "cell_type": "markdown",
   "metadata": {},
   "source": [
    "# Cell below is to run testing/debugging. Do not need to run (commented out)"
   ]
  },
  {
   "cell_type": "code",
   "execution_count": null,
   "metadata": {},
   "outputs": [],
   "source": [
    "\n",
    "\n",
    "# DF_Read = pd.read_csv('/Users/Joseph/Desktop/OnFoodOffFoodTest/N2_OnFood/20220401_163048/N2_10x1_n96h20C_360sA0401_ka.00065.dat'\n",
    "#                       , sep=' ', header = None, index_col=False) #<- imports and cleans data\n",
    "# DF_Read[\"worm\"]=1\n",
    "# # print(DF_Read)\n",
    "# DF_Total = DF_Read #<- more data cleaning\n",
    "# DF_Total = DF_Total.rename( #<- more data cleaning\n",
    "#             {0:'time',\n",
    "#             1:'speed',\n",
    "#             2: \"x\",\n",
    "#             3: \"y\",\n",
    "#             4: \"angularspeed\",\n",
    "#             5: \"pathlength\",\n",
    "#             6: \"kink\",\n",
    "#             7: \"bias\",\n",
    "#             8: \"curve\",\n",
    "#             9: \"dir\",\n",
    "#             10: \"crab\",\n",
    "#             11: \"length\",\n",
    "#             12: \"midline\",\n",
    "#             13: \"width\",\n",
    "#             14: \"morphwidth\",\n",
    "#             15: \"area\"\n",
    "#             }, axis=1)\n",
    "# DF_Total[\"x_0\"] = DF_Total.x - DF_Total.x.iloc[0]\n",
    "# DF_Total[\"y_0\"] = DF_Total.y - DF_Total.y.iloc[0]\n",
    "\n",
    "# DF_Total[\"x_test\"] = DF_Total.iloc[:,2] - DF_Total.iloc[0,2]\n",
    "# DF_Total[\"y_test\"] = DF_Total.iloc[:,3] - DF_Total.iloc[0,3]\n",
    "# DF_Total[\"distance\"]= 0\n",
    "# print(DF_Total)\n",
    "\n",
    "# A_i = np.array(DF_Total['pathlength'][1:])\n",
    "# A_i_1 = np.array(DF_Total['pathlength'][0:-1])\n",
    "# result = np.abs(A_i - A_i_1).tolist()\n",
    "# result.insert(0,0)\n",
    "# curr_sum = 0\n",
    "# new_list = []\n",
    "# for i in range(len(result)):\n",
    "#     curr_sum += result[i]\n",
    "#     new_list.append(curr_sum)\n",
    "# DF_Total[\"distance\"]=new_list\n",
    "# print(DF_Total)\n",
    "\n",
    "\n",
    "\n",
    "        \n",
    "\n",
    "\n",
    "# A_i = np.array(DF_Total.iloc[1:,5])\n",
    "# A_i_1 = np.array(DF_Total.iloc[0:-1,5])\n",
    "# result = np.abs(A_i - A_i_1).tolist()\n",
    "# result.insert(0,0)\n",
    "# curr_sum = 0\n",
    "# new_list = []\n",
    "# for i in range(len(result)):\n",
    "#     curr_sum += result[i]\n",
    "#     new_list.append(curr_sum)\n",
    "# print(A_i)\n",
    "# print(A_i_1)\n",
    "# print(len(A_i))\n",
    "# print(len(A_i_1))\n",
    "# # resultS=pd.Series(result)\n",
    "# # print(resultS.cumsum())\n",
    "# # print(new_list)\n",
    "\n",
    "# curr_sum = 0\n",
    "# new_list = []\n",
    "# for i in range(len(result)):\n",
    "#     curr_sum += result[i]\n",
    "#     new_list.append(curr_sum)\n",
    "    \n",
    "    \n",
    "# import matplotlib.pyplot as plt\n",
    "# plt.plot(new_list)"
   ]
  },
  {
   "cell_type": "markdown",
   "metadata": {},
   "source": [
    "# 6.2 Process Data (just run this cell)"
   ]
  },
  {
   "cell_type": "code",
   "execution_count": 11,
   "metadata": {},
   "outputs": [],
   "source": [
    "import warnings\n",
    "warnings.filterwarnings('ignore')"
   ]
  },
  {
   "cell_type": "code",
   "execution_count": 12,
   "metadata": {},
   "outputs": [
    {
     "data": {
      "application/vnd.jupyter.widget-view+json": {
       "model_id": "13b8a58ebb8a45f5b5960c8962e96aca",
       "version_major": 2,
       "version_minor": 0
      },
      "text/plain": [
       "  0%|          | 0/66 [00:00<?, ?it/s]"
      ]
     },
     "metadata": {},
     "output_type": "display_data"
    },
    {
     "name": "stdout",
     "output_type": "stream",
     "text": [
      "This Strain has 19456 worms tracked\n"
     ]
    },
    {
     "data": {
      "application/vnd.jupyter.widget-view+json": {
       "model_id": "6d4ba820ae434d1199b5f07355073829",
       "version_major": 2,
       "version_minor": 0
      },
      "text/plain": [
       "0it [00:00, ?it/s]"
      ]
     },
     "metadata": {},
     "output_type": "display_data"
    },
    {
     "name": "stdout",
     "output_type": "stream",
     "text": [
      "This Strain has 19615 worms tracked\n"
     ]
    },
    {
     "data": {
      "application/vnd.jupyter.widget-view+json": {
       "model_id": "0e0b55e696ef4182aeb3e1583af879ab",
       "version_major": 2,
       "version_minor": 0
      },
      "text/plain": [
       "0it [00:00, ?it/s]"
      ]
     },
     "metadata": {},
     "output_type": "display_data"
    },
    {
     "name": "stdout",
     "output_type": "stream",
     "text": [
      "This Strain has 1257 worms tracked\n"
     ]
    },
    {
     "data": {
      "application/vnd.jupyter.widget-view+json": {
       "model_id": "8b4052fc25944c8f827283a9d62739ce",
       "version_major": 2,
       "version_minor": 0
      },
      "text/plain": [
       "0it [00:00, ?it/s]"
      ]
     },
     "metadata": {},
     "output_type": "display_data"
    },
    {
     "name": "stdout",
     "output_type": "stream",
     "text": [
      "This Strain has 1335 worms tracked\n"
     ]
    },
    {
     "data": {
      "application/vnd.jupyter.widget-view+json": {
       "model_id": "1483c440855642c1922d97c1d69388fd",
       "version_major": 2,
       "version_minor": 0
      },
      "text/plain": [
       "0it [00:00, ?it/s]"
      ]
     },
     "metadata": {},
     "output_type": "display_data"
    },
    {
     "name": "stdout",
     "output_type": "stream",
     "text": [
      "This Strain has 2909 worms tracked\n"
     ]
    },
    {
     "data": {
      "application/vnd.jupyter.widget-view+json": {
       "model_id": "ca4d1f81abf34d229a99930bba9da535",
       "version_major": 2,
       "version_minor": 0
      },
      "text/plain": [
       "0it [00:00, ?it/s]"
      ]
     },
     "metadata": {},
     "output_type": "display_data"
    },
    {
     "name": "stdout",
     "output_type": "stream",
     "text": [
      "This Strain has 2267 worms tracked\n"
     ]
    },
    {
     "data": {
      "application/vnd.jupyter.widget-view+json": {
       "model_id": "edcffd00904045b79bc7966f3562af6e",
       "version_major": 2,
       "version_minor": 0
      },
      "text/plain": [
       "0it [00:00, ?it/s]"
      ]
     },
     "metadata": {},
     "output_type": "display_data"
    },
    {
     "name": "stdout",
     "output_type": "stream",
     "text": [
      "This Strain has 2724 worms tracked\n"
     ]
    },
    {
     "data": {
      "application/vnd.jupyter.widget-view+json": {
       "model_id": "c612d4ea4706452b89dac42bc918c349",
       "version_major": 2,
       "version_minor": 0
      },
      "text/plain": [
       "0it [00:00, ?it/s]"
      ]
     },
     "metadata": {},
     "output_type": "display_data"
    },
    {
     "name": "stdout",
     "output_type": "stream",
     "text": [
      "This Strain has 1616 worms tracked\n"
     ]
    },
    {
     "data": {
      "application/vnd.jupyter.widget-view+json": {
       "model_id": "614f9a573e224962a9de6fd742100510",
       "version_major": 2,
       "version_minor": 0
      },
      "text/plain": [
       "0it [00:00, ?it/s]"
      ]
     },
     "metadata": {},
     "output_type": "display_data"
    },
    {
     "name": "stdout",
     "output_type": "stream",
     "text": [
      "This Strain has 914 worms tracked\n"
     ]
    },
    {
     "data": {
      "application/vnd.jupyter.widget-view+json": {
       "model_id": "f68b6c02c7ea4707941402d2261eb551",
       "version_major": 2,
       "version_minor": 0
      },
      "text/plain": [
       "0it [00:00, ?it/s]"
      ]
     },
     "metadata": {},
     "output_type": "display_data"
    },
    {
     "name": "stdout",
     "output_type": "stream",
     "text": [
      "This Strain has 1063 worms tracked\n"
     ]
    },
    {
     "data": {
      "application/vnd.jupyter.widget-view+json": {
       "model_id": "14060b2d9b484e26a8011bae428c16bd",
       "version_major": 2,
       "version_minor": 0
      },
      "text/plain": [
       "0it [00:00, ?it/s]"
      ]
     },
     "metadata": {},
     "output_type": "display_data"
    },
    {
     "name": "stdout",
     "output_type": "stream",
     "text": [
      "This Strain has 1182 worms tracked\n"
     ]
    },
    {
     "data": {
      "application/vnd.jupyter.widget-view+json": {
       "model_id": "7dd303e569bb4dd2a1ea5f978c8bb554",
       "version_major": 2,
       "version_minor": 0
      },
      "text/plain": [
       "0it [00:00, ?it/s]"
      ]
     },
     "metadata": {},
     "output_type": "display_data"
    },
    {
     "name": "stdout",
     "output_type": "stream",
     "text": [
      "This Strain has 859 worms tracked\n"
     ]
    },
    {
     "data": {
      "application/vnd.jupyter.widget-view+json": {
       "model_id": "eec93b5d7f2f4e25ac03b1892df75f86",
       "version_major": 2,
       "version_minor": 0
      },
      "text/plain": [
       "0it [00:00, ?it/s]"
      ]
     },
     "metadata": {},
     "output_type": "display_data"
    },
    {
     "name": "stdout",
     "output_type": "stream",
     "text": [
      "This Strain has 1583 worms tracked\n"
     ]
    },
    {
     "data": {
      "application/vnd.jupyter.widget-view+json": {
       "model_id": "54232bd8bcf2449ba1d05295e3e2a648",
       "version_major": 2,
       "version_minor": 0
      },
      "text/plain": [
       "0it [00:00, ?it/s]"
      ]
     },
     "metadata": {},
     "output_type": "display_data"
    },
    {
     "name": "stdout",
     "output_type": "stream",
     "text": [
      "This Strain has 1324 worms tracked\n"
     ]
    },
    {
     "data": {
      "application/vnd.jupyter.widget-view+json": {
       "model_id": "ecbdd7db7755444c8d77a137eafb34fe",
       "version_major": 2,
       "version_minor": 0
      },
      "text/plain": [
       "0it [00:00, ?it/s]"
      ]
     },
     "metadata": {},
     "output_type": "display_data"
    },
    {
     "name": "stdout",
     "output_type": "stream",
     "text": [
      "This Strain has 414 worms tracked\n"
     ]
    },
    {
     "data": {
      "application/vnd.jupyter.widget-view+json": {
       "model_id": "8b1857143bcc4e9aab8cdff95c2ed2a1",
       "version_major": 2,
       "version_minor": 0
      },
      "text/plain": [
       "0it [00:00, ?it/s]"
      ]
     },
     "metadata": {},
     "output_type": "display_data"
    },
    {
     "name": "stdout",
     "output_type": "stream",
     "text": [
      "This Strain has 484 worms tracked\n"
     ]
    },
    {
     "data": {
      "application/vnd.jupyter.widget-view+json": {
       "model_id": "e0803a48984b4ea290adf7879f4c7a94",
       "version_major": 2,
       "version_minor": 0
      },
      "text/plain": [
       "0it [00:00, ?it/s]"
      ]
     },
     "metadata": {},
     "output_type": "display_data"
    },
    {
     "name": "stdout",
     "output_type": "stream",
     "text": [
      "This Strain has 1063 worms tracked\n"
     ]
    },
    {
     "data": {
      "application/vnd.jupyter.widget-view+json": {
       "model_id": "55f1b5366dbb47b7bb8cb2dc93e16c18",
       "version_major": 2,
       "version_minor": 0
      },
      "text/plain": [
       "0it [00:00, ?it/s]"
      ]
     },
     "metadata": {},
     "output_type": "display_data"
    },
    {
     "name": "stdout",
     "output_type": "stream",
     "text": [
      "This Strain has 1103 worms tracked\n"
     ]
    },
    {
     "data": {
      "application/vnd.jupyter.widget-view+json": {
       "model_id": "ecc03c74bc454861ad2b5426b34ae82d",
       "version_major": 2,
       "version_minor": 0
      },
      "text/plain": [
       "0it [00:00, ?it/s]"
      ]
     },
     "metadata": {},
     "output_type": "display_data"
    },
    {
     "name": "stdout",
     "output_type": "stream",
     "text": [
      "This Strain has 1206 worms tracked\n"
     ]
    },
    {
     "data": {
      "application/vnd.jupyter.widget-view+json": {
       "model_id": "9bf3ed9b34224cebadad49151fdfc34a",
       "version_major": 2,
       "version_minor": 0
      },
      "text/plain": [
       "0it [00:00, ?it/s]"
      ]
     },
     "metadata": {},
     "output_type": "display_data"
    },
    {
     "name": "stdout",
     "output_type": "stream",
     "text": [
      "This Strain has 808 worms tracked\n"
     ]
    },
    {
     "data": {
      "application/vnd.jupyter.widget-view+json": {
       "model_id": "787b82f85b1f4425bd6e10be1c0ad8a9",
       "version_major": 2,
       "version_minor": 0
      },
      "text/plain": [
       "0it [00:00, ?it/s]"
      ]
     },
     "metadata": {},
     "output_type": "display_data"
    },
    {
     "name": "stdout",
     "output_type": "stream",
     "text": [
      "This Strain has 2938 worms tracked\n"
     ]
    },
    {
     "data": {
      "application/vnd.jupyter.widget-view+json": {
       "model_id": "19a5e0d6ca8e4e20bf3c8cf859abbc1e",
       "version_major": 2,
       "version_minor": 0
      },
      "text/plain": [
       "0it [00:00, ?it/s]"
      ]
     },
     "metadata": {},
     "output_type": "display_data"
    },
    {
     "name": "stdout",
     "output_type": "stream",
     "text": [
      "This Strain has 2568 worms tracked\n"
     ]
    },
    {
     "data": {
      "application/vnd.jupyter.widget-view+json": {
       "model_id": "f2252e61215e4a0a954384b87bb17ebc",
       "version_major": 2,
       "version_minor": 0
      },
      "text/plain": [
       "0it [00:00, ?it/s]"
      ]
     },
     "metadata": {},
     "output_type": "display_data"
    },
    {
     "name": "stdout",
     "output_type": "stream",
     "text": [
      "This Strain has 2366 worms tracked\n"
     ]
    },
    {
     "data": {
      "application/vnd.jupyter.widget-view+json": {
       "model_id": "d999255de8344f5ea7eff11537dafdeb",
       "version_major": 2,
       "version_minor": 0
      },
      "text/plain": [
       "0it [00:00, ?it/s]"
      ]
     },
     "metadata": {},
     "output_type": "display_data"
    },
    {
     "name": "stdout",
     "output_type": "stream",
     "text": [
      "This Strain has 1990 worms tracked\n"
     ]
    },
    {
     "data": {
      "application/vnd.jupyter.widget-view+json": {
       "model_id": "7323ea0ff31944f1a6604da21deb4e36",
       "version_major": 2,
       "version_minor": 0
      },
      "text/plain": [
       "0it [00:00, ?it/s]"
      ]
     },
     "metadata": {},
     "output_type": "display_data"
    },
    {
     "name": "stdout",
     "output_type": "stream",
     "text": [
      "This Strain has 2778 worms tracked\n"
     ]
    },
    {
     "data": {
      "application/vnd.jupyter.widget-view+json": {
       "model_id": "6a800748d8b7467f9ec93d82ea6e03fe",
       "version_major": 2,
       "version_minor": 0
      },
      "text/plain": [
       "0it [00:00, ?it/s]"
      ]
     },
     "metadata": {},
     "output_type": "display_data"
    },
    {
     "name": "stdout",
     "output_type": "stream",
     "text": [
      "This Strain has 2197 worms tracked\n"
     ]
    },
    {
     "data": {
      "application/vnd.jupyter.widget-view+json": {
       "model_id": "e89c1433332d47318da740bbdaa06779",
       "version_major": 2,
       "version_minor": 0
      },
      "text/plain": [
       "0it [00:00, ?it/s]"
      ]
     },
     "metadata": {},
     "output_type": "display_data"
    },
    {
     "name": "stdout",
     "output_type": "stream",
     "text": [
      "This Strain has 1544 worms tracked\n"
     ]
    },
    {
     "data": {
      "application/vnd.jupyter.widget-view+json": {
       "model_id": "f0f9f68b4c674653b3498a9cf9603b44",
       "version_major": 2,
       "version_minor": 0
      },
      "text/plain": [
       "0it [00:00, ?it/s]"
      ]
     },
     "metadata": {},
     "output_type": "display_data"
    },
    {
     "name": "stdout",
     "output_type": "stream",
     "text": [
      "This Strain has 1634 worms tracked\n"
     ]
    },
    {
     "data": {
      "application/vnd.jupyter.widget-view+json": {
       "model_id": "449cefe8974546e28537d21f8752d46b",
       "version_major": 2,
       "version_minor": 0
      },
      "text/plain": [
       "0it [00:00, ?it/s]"
      ]
     },
     "metadata": {},
     "output_type": "display_data"
    },
    {
     "name": "stdout",
     "output_type": "stream",
     "text": [
      "This Strain has 1409 worms tracked\n"
     ]
    },
    {
     "data": {
      "application/vnd.jupyter.widget-view+json": {
       "model_id": "4b74f8efbbc24cef951be492f2cced31",
       "version_major": 2,
       "version_minor": 0
      },
      "text/plain": [
       "0it [00:00, ?it/s]"
      ]
     },
     "metadata": {},
     "output_type": "display_data"
    },
    {
     "name": "stdout",
     "output_type": "stream",
     "text": [
      "This Strain has 1337 worms tracked\n"
     ]
    },
    {
     "data": {
      "application/vnd.jupyter.widget-view+json": {
       "model_id": "13902698e9354ff5aaa5999aecbd43e2",
       "version_major": 2,
       "version_minor": 0
      },
      "text/plain": [
       "0it [00:00, ?it/s]"
      ]
     },
     "metadata": {},
     "output_type": "display_data"
    },
    {
     "name": "stdout",
     "output_type": "stream",
     "text": [
      "This Strain has 1527 worms tracked\n"
     ]
    },
    {
     "data": {
      "application/vnd.jupyter.widget-view+json": {
       "model_id": "85d0f889607c42e3bcc63a3157064fb5",
       "version_major": 2,
       "version_minor": 0
      },
      "text/plain": [
       "0it [00:00, ?it/s]"
      ]
     },
     "metadata": {},
     "output_type": "display_data"
    },
    {
     "name": "stdout",
     "output_type": "stream",
     "text": [
      "This Strain has 826 worms tracked\n"
     ]
    },
    {
     "data": {
      "application/vnd.jupyter.widget-view+json": {
       "model_id": "dd400df501e44537b8b904d058436d4e",
       "version_major": 2,
       "version_minor": 0
      },
      "text/plain": [
       "0it [00:00, ?it/s]"
      ]
     },
     "metadata": {},
     "output_type": "display_data"
    },
    {
     "name": "stdout",
     "output_type": "stream",
     "text": [
      "This Strain has 1113 worms tracked\n"
     ]
    },
    {
     "data": {
      "application/vnd.jupyter.widget-view+json": {
       "model_id": "cebb06a3eed646bdb0ef005e585763a1",
       "version_major": 2,
       "version_minor": 0
      },
      "text/plain": [
       "0it [00:00, ?it/s]"
      ]
     },
     "metadata": {},
     "output_type": "display_data"
    },
    {
     "name": "stdout",
     "output_type": "stream",
     "text": [
      "This Strain has 1100 worms tracked\n"
     ]
    },
    {
     "data": {
      "application/vnd.jupyter.widget-view+json": {
       "model_id": "ce9081ad30db4199929e67ee2771ca6b",
       "version_major": 2,
       "version_minor": 0
      },
      "text/plain": [
       "0it [00:00, ?it/s]"
      ]
     },
     "metadata": {},
     "output_type": "display_data"
    },
    {
     "name": "stdout",
     "output_type": "stream",
     "text": [
      "This Strain has 811 worms tracked\n"
     ]
    },
    {
     "data": {
      "application/vnd.jupyter.widget-view+json": {
       "model_id": "3e68fa761c2640ef8a64ca174774a4e7",
       "version_major": 2,
       "version_minor": 0
      },
      "text/plain": [
       "0it [00:00, ?it/s]"
      ]
     },
     "metadata": {},
     "output_type": "display_data"
    },
    {
     "name": "stdout",
     "output_type": "stream",
     "text": [
      "This Strain has 538 worms tracked\n"
     ]
    },
    {
     "data": {
      "application/vnd.jupyter.widget-view+json": {
       "model_id": "85fbb6f3d4e44f35928cc2f21d3ca389",
       "version_major": 2,
       "version_minor": 0
      },
      "text/plain": [
       "0it [00:00, ?it/s]"
      ]
     },
     "metadata": {},
     "output_type": "display_data"
    },
    {
     "name": "stdout",
     "output_type": "stream",
     "text": [
      "This Strain has 901 worms tracked\n"
     ]
    },
    {
     "data": {
      "application/vnd.jupyter.widget-view+json": {
       "model_id": "2e107815012548b89841febd4e806438",
       "version_major": 2,
       "version_minor": 0
      },
      "text/plain": [
       "0it [00:00, ?it/s]"
      ]
     },
     "metadata": {},
     "output_type": "display_data"
    },
    {
     "name": "stdout",
     "output_type": "stream",
     "text": [
      "This Strain has 1151 worms tracked\n"
     ]
    },
    {
     "data": {
      "application/vnd.jupyter.widget-view+json": {
       "model_id": "74e1ec557f3346d38d3ca66b20358ae3",
       "version_major": 2,
       "version_minor": 0
      },
      "text/plain": [
       "0it [00:00, ?it/s]"
      ]
     },
     "metadata": {},
     "output_type": "display_data"
    },
    {
     "name": "stdout",
     "output_type": "stream",
     "text": [
      "This Strain has 1470 worms tracked\n"
     ]
    },
    {
     "data": {
      "application/vnd.jupyter.widget-view+json": {
       "model_id": "30d5dc35f84145ebacb510d605321217",
       "version_major": 2,
       "version_minor": 0
      },
      "text/plain": [
       "0it [00:00, ?it/s]"
      ]
     },
     "metadata": {},
     "output_type": "display_data"
    },
    {
     "name": "stdout",
     "output_type": "stream",
     "text": [
      "This Strain has 1767 worms tracked\n"
     ]
    },
    {
     "data": {
      "application/vnd.jupyter.widget-view+json": {
       "model_id": "a92ac8ceca424a96a945cb7abea4a786",
       "version_major": 2,
       "version_minor": 0
      },
      "text/plain": [
       "0it [00:00, ?it/s]"
      ]
     },
     "metadata": {},
     "output_type": "display_data"
    },
    {
     "name": "stdout",
     "output_type": "stream",
     "text": [
      "This Strain has 692 worms tracked\n"
     ]
    },
    {
     "data": {
      "application/vnd.jupyter.widget-view+json": {
       "model_id": "ff9f066948804a6b97f9360b7cfb8f94",
       "version_major": 2,
       "version_minor": 0
      },
      "text/plain": [
       "0it [00:00, ?it/s]"
      ]
     },
     "metadata": {},
     "output_type": "display_data"
    },
    {
     "name": "stdout",
     "output_type": "stream",
     "text": [
      "This Strain has 744 worms tracked\n"
     ]
    },
    {
     "data": {
      "application/vnd.jupyter.widget-view+json": {
       "model_id": "82dff5020551412e8a5c8263cce898b9",
       "version_major": 2,
       "version_minor": 0
      },
      "text/plain": [
       "0it [00:00, ?it/s]"
      ]
     },
     "metadata": {},
     "output_type": "display_data"
    },
    {
     "name": "stdout",
     "output_type": "stream",
     "text": [
      "This Strain has 1514 worms tracked\n"
     ]
    },
    {
     "data": {
      "application/vnd.jupyter.widget-view+json": {
       "model_id": "c1198c43e2c2411db0ca8b2de2df5cf3",
       "version_major": 2,
       "version_minor": 0
      },
      "text/plain": [
       "0it [00:00, ?it/s]"
      ]
     },
     "metadata": {},
     "output_type": "display_data"
    },
    {
     "name": "stdout",
     "output_type": "stream",
     "text": [
      "This Strain has 800 worms tracked\n"
     ]
    },
    {
     "data": {
      "application/vnd.jupyter.widget-view+json": {
       "model_id": "7b0a3a7ec76f49e2b49a5520c8f5f63d",
       "version_major": 2,
       "version_minor": 0
      },
      "text/plain": [
       "0it [00:00, ?it/s]"
      ]
     },
     "metadata": {},
     "output_type": "display_data"
    },
    {
     "name": "stdout",
     "output_type": "stream",
     "text": [
      "This Strain has 1829 worms tracked\n"
     ]
    },
    {
     "data": {
      "application/vnd.jupyter.widget-view+json": {
       "model_id": "c2bdabc881e04f19affdcfd78c0b5fa2",
       "version_major": 2,
       "version_minor": 0
      },
      "text/plain": [
       "0it [00:00, ?it/s]"
      ]
     },
     "metadata": {},
     "output_type": "display_data"
    },
    {
     "name": "stdout",
     "output_type": "stream",
     "text": [
      "This Strain has 2163 worms tracked\n"
     ]
    },
    {
     "data": {
      "application/vnd.jupyter.widget-view+json": {
       "model_id": "7d59156fc0e84abba8379299c859fcf8",
       "version_major": 2,
       "version_minor": 0
      },
      "text/plain": [
       "0it [00:00, ?it/s]"
      ]
     },
     "metadata": {},
     "output_type": "display_data"
    },
    {
     "name": "stdout",
     "output_type": "stream",
     "text": [
      "This Strain has 1315 worms tracked\n"
     ]
    },
    {
     "data": {
      "application/vnd.jupyter.widget-view+json": {
       "model_id": "d919dc4226b94e29b4381d81796652de",
       "version_major": 2,
       "version_minor": 0
      },
      "text/plain": [
       "0it [00:00, ?it/s]"
      ]
     },
     "metadata": {},
     "output_type": "display_data"
    },
    {
     "name": "stdout",
     "output_type": "stream",
     "text": [
      "This Strain has 1098 worms tracked\n"
     ]
    },
    {
     "data": {
      "application/vnd.jupyter.widget-view+json": {
       "model_id": "4d6800d5c1b640e0817d82209e06c3fc",
       "version_major": 2,
       "version_minor": 0
      },
      "text/plain": [
       "0it [00:00, ?it/s]"
      ]
     },
     "metadata": {},
     "output_type": "display_data"
    },
    {
     "name": "stdout",
     "output_type": "stream",
     "text": [
      "This Strain has 1034 worms tracked\n"
     ]
    },
    {
     "data": {
      "application/vnd.jupyter.widget-view+json": {
       "model_id": "7f90456d799e440193d8c9a6c73fbf39",
       "version_major": 2,
       "version_minor": 0
      },
      "text/plain": [
       "0it [00:00, ?it/s]"
      ]
     },
     "metadata": {},
     "output_type": "display_data"
    },
    {
     "name": "stdout",
     "output_type": "stream",
     "text": [
      "This Strain has 811 worms tracked\n"
     ]
    },
    {
     "data": {
      "application/vnd.jupyter.widget-view+json": {
       "model_id": "a1ca4cfe1471472f87f9498e654bb31f",
       "version_major": 2,
       "version_minor": 0
      },
      "text/plain": [
       "0it [00:00, ?it/s]"
      ]
     },
     "metadata": {},
     "output_type": "display_data"
    },
    {
     "name": "stdout",
     "output_type": "stream",
     "text": [
      "This Strain has 1261 worms tracked\n"
     ]
    },
    {
     "data": {
      "application/vnd.jupyter.widget-view+json": {
       "model_id": "037841e3d3f94181895eac36bb045c84",
       "version_major": 2,
       "version_minor": 0
      },
      "text/plain": [
       "0it [00:00, ?it/s]"
      ]
     },
     "metadata": {},
     "output_type": "display_data"
    },
    {
     "name": "stdout",
     "output_type": "stream",
     "text": [
      "This Strain has 664 worms tracked\n"
     ]
    },
    {
     "data": {
      "application/vnd.jupyter.widget-view+json": {
       "model_id": "cf23c4d5cbc247c0af5f525de8bb5874",
       "version_major": 2,
       "version_minor": 0
      },
      "text/plain": [
       "0it [00:00, ?it/s]"
      ]
     },
     "metadata": {},
     "output_type": "display_data"
    },
    {
     "name": "stdout",
     "output_type": "stream",
     "text": [
      "This Strain has 650 worms tracked\n"
     ]
    },
    {
     "data": {
      "application/vnd.jupyter.widget-view+json": {
       "model_id": "a3ffd5b8df644aafb2609477b03c7526",
       "version_major": 2,
       "version_minor": 0
      },
      "text/plain": [
       "0it [00:00, ?it/s]"
      ]
     },
     "metadata": {},
     "output_type": "display_data"
    },
    {
     "name": "stdout",
     "output_type": "stream",
     "text": [
      "This Strain has 575 worms tracked\n"
     ]
    },
    {
     "data": {
      "application/vnd.jupyter.widget-view+json": {
       "model_id": "7271ee9b76b04da888e2e819971f722d",
       "version_major": 2,
       "version_minor": 0
      },
      "text/plain": [
       "0it [00:00, ?it/s]"
      ]
     },
     "metadata": {},
     "output_type": "display_data"
    },
    {
     "name": "stdout",
     "output_type": "stream",
     "text": [
      "This Strain has 616 worms tracked\n"
     ]
    },
    {
     "data": {
      "application/vnd.jupyter.widget-view+json": {
       "model_id": "d09794234dd148189161782c0be66bd2",
       "version_major": 2,
       "version_minor": 0
      },
      "text/plain": [
       "0it [00:00, ?it/s]"
      ]
     },
     "metadata": {},
     "output_type": "display_data"
    },
    {
     "name": "stdout",
     "output_type": "stream",
     "text": [
      "This Strain has 706 worms tracked\n"
     ]
    },
    {
     "data": {
      "application/vnd.jupyter.widget-view+json": {
       "model_id": "0cffb34ff8664645aa1e0a3376ce57a2",
       "version_major": 2,
       "version_minor": 0
      },
      "text/plain": [
       "0it [00:00, ?it/s]"
      ]
     },
     "metadata": {},
     "output_type": "display_data"
    },
    {
     "name": "stdout",
     "output_type": "stream",
     "text": [
      "This Strain has 13 worms tracked\n"
     ]
    },
    {
     "data": {
      "application/vnd.jupyter.widget-view+json": {
       "model_id": "7382f6cf0d42475a9dbd1042608d9d9f",
       "version_major": 2,
       "version_minor": 0
      },
      "text/plain": [
       "0it [00:00, ?it/s]"
      ]
     },
     "metadata": {},
     "output_type": "display_data"
    },
    {
     "name": "stdout",
     "output_type": "stream",
     "text": [
      "This Strain has 6 worms tracked\n"
     ]
    },
    {
     "data": {
      "application/vnd.jupyter.widget-view+json": {
       "model_id": "6d13016f8c0c4d259308082916f00c66",
       "version_major": 2,
       "version_minor": 0
      },
      "text/plain": [
       "0it [00:00, ?it/s]"
      ]
     },
     "metadata": {},
     "output_type": "display_data"
    },
    {
     "name": "stdout",
     "output_type": "stream",
     "text": [
      "This Strain has 494 worms tracked\n"
     ]
    },
    {
     "data": {
      "application/vnd.jupyter.widget-view+json": {
       "model_id": "cf8694692d19433aa107267cc760b4e4",
       "version_major": 2,
       "version_minor": 0
      },
      "text/plain": [
       "0it [00:00, ?it/s]"
      ]
     },
     "metadata": {},
     "output_type": "display_data"
    },
    {
     "name": "stdout",
     "output_type": "stream",
     "text": [
      "This Strain has 484 worms tracked\n"
     ]
    },
    {
     "data": {
      "application/vnd.jupyter.widget-view+json": {
       "model_id": "8298b275d26e48ca87c097ffc7961fcc",
       "version_major": 2,
       "version_minor": 0
      },
      "text/plain": [
       "0it [00:00, ?it/s]"
      ]
     },
     "metadata": {},
     "output_type": "display_data"
    },
    {
     "name": "stdout",
     "output_type": "stream",
     "text": [
      "This Strain has 258 worms tracked\n"
     ]
    },
    {
     "data": {
      "application/vnd.jupyter.widget-view+json": {
       "model_id": "ed64129443dc4a3ba48045c25b89e489",
       "version_major": 2,
       "version_minor": 0
      },
      "text/plain": [
       "0it [00:00, ?it/s]"
      ]
     },
     "metadata": {},
     "output_type": "display_data"
    },
    {
     "name": "stdout",
     "output_type": "stream",
     "text": [
      "This Strain has 292 worms tracked\n"
     ]
    },
    {
     "data": {
      "application/vnd.jupyter.widget-view+json": {
       "model_id": "791a915ac1f14edfb2fcf185e939efa6",
       "version_major": 2,
       "version_minor": 0
      },
      "text/plain": [
       "0it [00:00, ?it/s]"
      ]
     },
     "metadata": {},
     "output_type": "display_data"
    },
    {
     "name": "stdout",
     "output_type": "stream",
     "text": [
      "This Strain has 2587 worms tracked\n"
     ]
    },
    {
     "data": {
      "application/vnd.jupyter.widget-view+json": {
       "model_id": "3666d51ac690459abe45db55066ab63b",
       "version_major": 2,
       "version_minor": 0
      },
      "text/plain": [
       "0it [00:00, ?it/s]"
      ]
     },
     "metadata": {},
     "output_type": "display_data"
    },
    {
     "name": "stdout",
     "output_type": "stream",
     "text": [
      "This Strain has 2779 worms tracked\n"
     ]
    },
    {
     "data": {
      "application/vnd.jupyter.widget-view+json": {
       "model_id": "bf974028c77e4d7a9abd197f279e3b7d",
       "version_major": 2,
       "version_minor": 0
      },
      "text/plain": [
       "0it [00:00, ?it/s]"
      ]
     },
     "metadata": {},
     "output_type": "display_data"
    },
    {
     "name": "stdout",
     "output_type": "stream",
     "text": [
      "This Strain has 4507 worms tracked\n"
     ]
    },
    {
     "data": {
      "application/vnd.jupyter.widget-view+json": {
       "model_id": "5022ead5b8eb4d639bd2278c8b5d13fd",
       "version_major": 2,
       "version_minor": 0
      },
      "text/plain": [
       "0it [00:00, ?it/s]"
      ]
     },
     "metadata": {},
     "output_type": "display_data"
    },
    {
     "name": "stdout",
     "output_type": "stream",
     "text": [
      "This Strain has 4454 worms tracked\n"
     ]
    },
    {
     "data": {
      "application/vnd.jupyter.widget-view+json": {
       "model_id": "9ce92ae6a4ff4cb898ae6fd7c92792a4",
       "version_major": 2,
       "version_minor": 0
      },
      "text/plain": [
       "0it [00:00, ?it/s]"
      ]
     },
     "metadata": {},
     "output_type": "display_data"
    },
    {
     "ename": "UnicodeDecodeError",
     "evalue": "'utf-8' codec can't decode byte 0xb0 in position 37: invalid start byte",
     "output_type": "error",
     "traceback": [
      "\u001b[0;31m---------------------------------------------------------------------------\u001b[0m",
      "\u001b[0;31mUnicodeDecodeError\u001b[0m                        Traceback (most recent call last)",
      "Cell \u001b[0;32mIn[12], line 6\u001b[0m\n\u001b[1;32m      4\u001b[0m \u001b[38;5;28;01mfor\u001b[39;00m s \u001b[38;5;129;01min\u001b[39;00m tqdm(StrainNames\u001b[38;5;241m.\u001b[39mvalues()): \u001b[38;5;66;03m#<- goes through the dictionary in step 6.1 and processes data\u001b[39;00m\n\u001b[1;32m      5\u001b[0m     \u001b[38;5;28;01mif\u001b[39;00m \u001b[38;5;129;01mnot\u001b[39;00m s \u001b[38;5;241m==\u001b[39m \u001b[38;5;124m'\u001b[39m\u001b[38;5;124m'\u001b[39m:\n\u001b[0;32m----> 6\u001b[0m         DataLists\u001b[38;5;241m.\u001b[39mappend(\u001b[43mProcessData\u001b[49m\u001b[43m(\u001b[49m\u001b[43ms\u001b[49m\u001b[43m)\u001b[49m[\u001b[38;5;124m'\u001b[39m\u001b[38;5;124mConfirm\u001b[39m\u001b[38;5;124m'\u001b[39m]) \u001b[38;5;66;03m#<- appends all data into a list of dataframes\u001b[39;00m\n\u001b[1;32m      7\u001b[0m \u001b[38;5;66;03m# print(DataLists[2])\u001b[39;00m\n\u001b[1;32m      8\u001b[0m \u001b[38;5;28mprint\u001b[39m(\u001b[38;5;124m'\u001b[39m\u001b[38;5;124mdone step 6.2\u001b[39m\u001b[38;5;124m'\u001b[39m)\n",
      "Cell \u001b[0;32mIn[8], line 11\u001b[0m, in \u001b[0;36mProcessData\u001b[0;34m(strain)\u001b[0m\n\u001b[1;32m      9\u001b[0m N \u001b[38;5;241m=\u001b[39m \u001b[38;5;28mlen\u001b[39m(strain_filelist)\n\u001b[1;32m     10\u001b[0m \u001b[38;5;66;03m# statement = f\"Processing {i} of {N} worms\" #<- progress bar statement\u001b[39;00m\n\u001b[0;32m---> 11\u001b[0m DF_Read \u001b[38;5;241m=\u001b[39m \u001b[43mpd\u001b[49m\u001b[38;5;241;43m.\u001b[39;49m\u001b[43mread_csv\u001b[49m\u001b[43m(\u001b[49m\u001b[43mf\u001b[49m\u001b[43m,\u001b[49m\u001b[43m \u001b[49m\u001b[43msep\u001b[49m\u001b[38;5;241;43m=\u001b[39;49m\u001b[38;5;124;43m'\u001b[39;49m\u001b[38;5;124;43m \u001b[39;49m\u001b[38;5;124;43m'\u001b[39;49m\u001b[43m,\u001b[49m\u001b[43m \u001b[49m\u001b[43mskiprows\u001b[49m\u001b[43m \u001b[49m\u001b[38;5;241;43m=\u001b[39;49m\u001b[43m \u001b[49m\u001b[38;5;241;43m0\u001b[39;49m\u001b[43m,\u001b[49m\u001b[43m \u001b[49m\u001b[43mheader\u001b[49m\u001b[43m \u001b[49m\u001b[38;5;241;43m=\u001b[39;49m\u001b[43m \u001b[49m\u001b[38;5;28;43;01mNone\u001b[39;49;00m\u001b[43m)\u001b[49m \u001b[38;5;66;03m#<- imports and cleans data\u001b[39;00m\n\u001b[1;32m     12\u001b[0m \u001b[38;5;28;01mif\u001b[39;00m i\u001b[38;5;241m==\u001b[39m\u001b[38;5;241m1\u001b[39m:\n\u001b[1;32m     13\u001b[0m     DF_Total \u001b[38;5;241m=\u001b[39m DF_Read\n",
      "File \u001b[0;32m/Library/Frameworks/Python.framework/Versions/3.11/lib/python3.11/site-packages/pandas/io/parsers/readers.py:1026\u001b[0m, in \u001b[0;36mread_csv\u001b[0;34m(filepath_or_buffer, sep, delimiter, header, names, index_col, usecols, dtype, engine, converters, true_values, false_values, skipinitialspace, skiprows, skipfooter, nrows, na_values, keep_default_na, na_filter, verbose, skip_blank_lines, parse_dates, infer_datetime_format, keep_date_col, date_parser, date_format, dayfirst, cache_dates, iterator, chunksize, compression, thousands, decimal, lineterminator, quotechar, quoting, doublequote, escapechar, comment, encoding, encoding_errors, dialect, on_bad_lines, delim_whitespace, low_memory, memory_map, float_precision, storage_options, dtype_backend)\u001b[0m\n\u001b[1;32m   1013\u001b[0m kwds_defaults \u001b[38;5;241m=\u001b[39m _refine_defaults_read(\n\u001b[1;32m   1014\u001b[0m     dialect,\n\u001b[1;32m   1015\u001b[0m     delimiter,\n\u001b[0;32m   (...)\u001b[0m\n\u001b[1;32m   1022\u001b[0m     dtype_backend\u001b[38;5;241m=\u001b[39mdtype_backend,\n\u001b[1;32m   1023\u001b[0m )\n\u001b[1;32m   1024\u001b[0m kwds\u001b[38;5;241m.\u001b[39mupdate(kwds_defaults)\n\u001b[0;32m-> 1026\u001b[0m \u001b[38;5;28;01mreturn\u001b[39;00m \u001b[43m_read\u001b[49m\u001b[43m(\u001b[49m\u001b[43mfilepath_or_buffer\u001b[49m\u001b[43m,\u001b[49m\u001b[43m \u001b[49m\u001b[43mkwds\u001b[49m\u001b[43m)\u001b[49m\n",
      "File \u001b[0;32m/Library/Frameworks/Python.framework/Versions/3.11/lib/python3.11/site-packages/pandas/io/parsers/readers.py:620\u001b[0m, in \u001b[0;36m_read\u001b[0;34m(filepath_or_buffer, kwds)\u001b[0m\n\u001b[1;32m    617\u001b[0m _validate_names(kwds\u001b[38;5;241m.\u001b[39mget(\u001b[38;5;124m\"\u001b[39m\u001b[38;5;124mnames\u001b[39m\u001b[38;5;124m\"\u001b[39m, \u001b[38;5;28;01mNone\u001b[39;00m))\n\u001b[1;32m    619\u001b[0m \u001b[38;5;66;03m# Create the parser.\u001b[39;00m\n\u001b[0;32m--> 620\u001b[0m parser \u001b[38;5;241m=\u001b[39m \u001b[43mTextFileReader\u001b[49m\u001b[43m(\u001b[49m\u001b[43mfilepath_or_buffer\u001b[49m\u001b[43m,\u001b[49m\u001b[43m \u001b[49m\u001b[38;5;241;43m*\u001b[39;49m\u001b[38;5;241;43m*\u001b[39;49m\u001b[43mkwds\u001b[49m\u001b[43m)\u001b[49m\n\u001b[1;32m    622\u001b[0m \u001b[38;5;28;01mif\u001b[39;00m chunksize \u001b[38;5;129;01mor\u001b[39;00m iterator:\n\u001b[1;32m    623\u001b[0m     \u001b[38;5;28;01mreturn\u001b[39;00m parser\n",
      "File \u001b[0;32m/Library/Frameworks/Python.framework/Versions/3.11/lib/python3.11/site-packages/pandas/io/parsers/readers.py:1620\u001b[0m, in \u001b[0;36mTextFileReader.__init__\u001b[0;34m(self, f, engine, **kwds)\u001b[0m\n\u001b[1;32m   1617\u001b[0m     \u001b[38;5;28mself\u001b[39m\u001b[38;5;241m.\u001b[39moptions[\u001b[38;5;124m\"\u001b[39m\u001b[38;5;124mhas_index_names\u001b[39m\u001b[38;5;124m\"\u001b[39m] \u001b[38;5;241m=\u001b[39m kwds[\u001b[38;5;124m\"\u001b[39m\u001b[38;5;124mhas_index_names\u001b[39m\u001b[38;5;124m\"\u001b[39m]\n\u001b[1;32m   1619\u001b[0m \u001b[38;5;28mself\u001b[39m\u001b[38;5;241m.\u001b[39mhandles: IOHandles \u001b[38;5;241m|\u001b[39m \u001b[38;5;28;01mNone\u001b[39;00m \u001b[38;5;241m=\u001b[39m \u001b[38;5;28;01mNone\u001b[39;00m\n\u001b[0;32m-> 1620\u001b[0m \u001b[38;5;28mself\u001b[39m\u001b[38;5;241m.\u001b[39m_engine \u001b[38;5;241m=\u001b[39m \u001b[38;5;28;43mself\u001b[39;49m\u001b[38;5;241;43m.\u001b[39;49m\u001b[43m_make_engine\u001b[49m\u001b[43m(\u001b[49m\u001b[43mf\u001b[49m\u001b[43m,\u001b[49m\u001b[43m \u001b[49m\u001b[38;5;28;43mself\u001b[39;49m\u001b[38;5;241;43m.\u001b[39;49m\u001b[43mengine\u001b[49m\u001b[43m)\u001b[49m\n",
      "File \u001b[0;32m/Library/Frameworks/Python.framework/Versions/3.11/lib/python3.11/site-packages/pandas/io/parsers/readers.py:1898\u001b[0m, in \u001b[0;36mTextFileReader._make_engine\u001b[0;34m(self, f, engine)\u001b[0m\n\u001b[1;32m   1895\u001b[0m     \u001b[38;5;28;01mraise\u001b[39;00m \u001b[38;5;167;01mValueError\u001b[39;00m(msg)\n\u001b[1;32m   1897\u001b[0m \u001b[38;5;28;01mtry\u001b[39;00m:\n\u001b[0;32m-> 1898\u001b[0m     \u001b[38;5;28;01mreturn\u001b[39;00m \u001b[43mmapping\u001b[49m\u001b[43m[\u001b[49m\u001b[43mengine\u001b[49m\u001b[43m]\u001b[49m\u001b[43m(\u001b[49m\u001b[43mf\u001b[49m\u001b[43m,\u001b[49m\u001b[43m \u001b[49m\u001b[38;5;241;43m*\u001b[39;49m\u001b[38;5;241;43m*\u001b[39;49m\u001b[38;5;28;43mself\u001b[39;49m\u001b[38;5;241;43m.\u001b[39;49m\u001b[43moptions\u001b[49m\u001b[43m)\u001b[49m\n\u001b[1;32m   1899\u001b[0m \u001b[38;5;28;01mexcept\u001b[39;00m \u001b[38;5;167;01mException\u001b[39;00m:\n\u001b[1;32m   1900\u001b[0m     \u001b[38;5;28;01mif\u001b[39;00m \u001b[38;5;28mself\u001b[39m\u001b[38;5;241m.\u001b[39mhandles \u001b[38;5;129;01mis\u001b[39;00m \u001b[38;5;129;01mnot\u001b[39;00m \u001b[38;5;28;01mNone\u001b[39;00m:\n",
      "File \u001b[0;32m/Library/Frameworks/Python.framework/Versions/3.11/lib/python3.11/site-packages/pandas/io/parsers/c_parser_wrapper.py:93\u001b[0m, in \u001b[0;36mCParserWrapper.__init__\u001b[0;34m(self, src, **kwds)\u001b[0m\n\u001b[1;32m     90\u001b[0m \u001b[38;5;28;01mif\u001b[39;00m kwds[\u001b[38;5;124m\"\u001b[39m\u001b[38;5;124mdtype_backend\u001b[39m\u001b[38;5;124m\"\u001b[39m] \u001b[38;5;241m==\u001b[39m \u001b[38;5;124m\"\u001b[39m\u001b[38;5;124mpyarrow\u001b[39m\u001b[38;5;124m\"\u001b[39m:\n\u001b[1;32m     91\u001b[0m     \u001b[38;5;66;03m# Fail here loudly instead of in cython after reading\u001b[39;00m\n\u001b[1;32m     92\u001b[0m     import_optional_dependency(\u001b[38;5;124m\"\u001b[39m\u001b[38;5;124mpyarrow\u001b[39m\u001b[38;5;124m\"\u001b[39m)\n\u001b[0;32m---> 93\u001b[0m \u001b[38;5;28mself\u001b[39m\u001b[38;5;241m.\u001b[39m_reader \u001b[38;5;241m=\u001b[39m \u001b[43mparsers\u001b[49m\u001b[38;5;241;43m.\u001b[39;49m\u001b[43mTextReader\u001b[49m\u001b[43m(\u001b[49m\u001b[43msrc\u001b[49m\u001b[43m,\u001b[49m\u001b[43m \u001b[49m\u001b[38;5;241;43m*\u001b[39;49m\u001b[38;5;241;43m*\u001b[39;49m\u001b[43mkwds\u001b[49m\u001b[43m)\u001b[49m\n\u001b[1;32m     95\u001b[0m \u001b[38;5;28mself\u001b[39m\u001b[38;5;241m.\u001b[39munnamed_cols \u001b[38;5;241m=\u001b[39m \u001b[38;5;28mself\u001b[39m\u001b[38;5;241m.\u001b[39m_reader\u001b[38;5;241m.\u001b[39munnamed_cols\n\u001b[1;32m     97\u001b[0m \u001b[38;5;66;03m# error: Cannot determine type of 'names'\u001b[39;00m\n",
      "File \u001b[0;32mparsers.pyx:574\u001b[0m, in \u001b[0;36mpandas._libs.parsers.TextReader.__cinit__\u001b[0;34m()\u001b[0m\n",
      "File \u001b[0;32mparsers.pyx:782\u001b[0m, in \u001b[0;36mpandas._libs.parsers.TextReader._get_header\u001b[0;34m()\u001b[0m\n",
      "File \u001b[0;32mparsers.pyx:874\u001b[0m, in \u001b[0;36mpandas._libs.parsers.TextReader._tokenize_rows\u001b[0;34m()\u001b[0m\n",
      "File \u001b[0;32mparsers.pyx:891\u001b[0m, in \u001b[0;36mpandas._libs.parsers.TextReader._check_tokenize_status\u001b[0;34m()\u001b[0m\n",
      "File \u001b[0;32mparsers.pyx:2053\u001b[0m, in \u001b[0;36mpandas._libs.parsers.raise_parser_error\u001b[0;34m()\u001b[0m\n",
      "\u001b[0;31mUnicodeDecodeError\u001b[0m: 'utf-8' codec can't decode byte 0xb0 in position 37: invalid start byte"
     ]
    }
   ],
   "source": [
    "DataLists = [0] #<- generates empty list. 0 is there to account for python's index starting at 0. \n",
    "# we want indexing to start at 1 (when I say #1 I want the first point, not the second point)\n",
    "\n",
    "for s in tqdm(StrainNames.values()): #<- goes through the dictionary in step 6.1 and processes data\n",
    "    if not s == '':\n",
    "        DataLists.append(ProcessData(s)['Confirm']) #<- appends all data into a list of dataframes\n",
    "# print(DataLists[2])\n",
    "print('done step 6.2')"
   ]
  },
  {
   "cell_type": "markdown",
   "metadata": {},
   "source": [
    "# Convert float64 data to float32 to reduce memory load (can also convert to 16 if needed)\n",
    "\n",
    "For plain english:\n",
    "\n",
    "float16 = 4 decimal points\n",
    "\n",
    "float32 = 8 decimal points\n",
    "\n",
    "float64 = 16 decimal points\n",
    "\n",
    "more decimal points = more data/memory that computer has to keep track of"
   ]
  },
  {
   "cell_type": "code",
   "execution_count": 13,
   "metadata": {},
   "outputs": [
    {
     "data": {
      "application/vnd.jupyter.widget-view+json": {
       "model_id": "e0d0b7b66cd9406c9e755148be2e2311",
       "version_major": 2,
       "version_minor": 0
      },
      "text/plain": [
       "  0%|          | 0/65 [00:00<?, ?it/s]"
      ]
     },
     "metadata": {},
     "output_type": "display_data"
    },
    {
     "name": "stdout",
     "output_type": "stream",
     "text": [
      "done this strain\n",
      "done this strain\n",
      "done this strain\n",
      "done this strain\n",
      "done this strain\n",
      "done this strain\n",
      "done this strain\n",
      "done this strain\n",
      "done this strain\n",
      "done this strain\n",
      "done this strain\n",
      "done this strain\n",
      "done this strain\n",
      "done this strain\n",
      "done this strain\n",
      "done this strain\n",
      "done this strain\n",
      "done this strain\n",
      "done this strain\n",
      "done this strain\n",
      "done this strain\n",
      "done this strain\n",
      "done this strain\n",
      "done this strain\n",
      "done this strain\n",
      "done this strain\n",
      "done this strain\n",
      "done this strain\n",
      "done this strain\n",
      "done this strain\n",
      "done this strain\n",
      "done this strain\n",
      "done this strain\n",
      "done this strain\n",
      "done this strain\n",
      "done this strain\n",
      "done this strain\n",
      "done this strain\n",
      "done this strain\n",
      "done this strain\n",
      "done this strain\n",
      "done this strain\n",
      "done this strain\n",
      "done this strain\n",
      "done this strain\n",
      "done this strain\n",
      "done this strain\n",
      "done this strain\n",
      "done this strain\n",
      "done this strain\n",
      "done this strain\n",
      "done this strain\n",
      "done this strain\n",
      "done this strain\n",
      "done this strain\n",
      "done this strain\n",
      "done this strain\n",
      "done this strain\n",
      "done this strain\n",
      "done this strain\n",
      "done this strain\n",
      "done this strain\n",
      "done this strain\n",
      "done this strain\n",
      "done this strain\n"
     ]
    }
   ],
   "source": [
    "#No need to run here\n",
    "for n in tqdm(DataLists[1:]):\n",
    "#     print(n)\n",
    "    TestData=n\n",
    "    TestData[TestData.select_dtypes(np.float64).columns] = TestData.select_dtypes(np.float64).astype(np.float16)\n",
    "    print(\"done this strain\")"
   ]
  },
  {
   "cell_type": "code",
   "execution_count": 14,
   "metadata": {},
   "outputs": [
    {
     "ename": "NameError",
     "evalue": "name 'TotalConcatenated' is not defined",
     "output_type": "error",
     "traceback": [
      "\u001b[0;31m---------------------------------------------------------------------------\u001b[0m",
      "\u001b[0;31mNameError\u001b[0m                                 Traceback (most recent call last)",
      "Cell \u001b[0;32mIn[14], line 4\u001b[0m\n\u001b[1;32m      1\u001b[0m \u001b[38;5;66;03m#No need to run here\u001b[39;00m\n\u001b[1;32m      2\u001b[0m \n\u001b[1;32m      3\u001b[0m \u001b[38;5;66;03m# print(TotalConcatenated.dtypes)\u001b[39;00m\n\u001b[0;32m----> 4\u001b[0m TotalConcatenated[\u001b[38;5;124m'\u001b[39m\u001b[38;5;124mtime_bin\u001b[39m\u001b[38;5;124m'\u001b[39m] \u001b[38;5;241m=\u001b[39m \u001b[43mTotalConcatenated\u001b[49m[\u001b[38;5;124m'\u001b[39m\u001b[38;5;124mtime_bin\u001b[39m\u001b[38;5;124m'\u001b[39m]\u001b[38;5;241m.\u001b[39mastype(np\u001b[38;5;241m.\u001b[39mfloat16)\n\u001b[1;32m      5\u001b[0m \u001b[38;5;66;03m# print(TotalConcatenated.dtypes)\u001b[39;00m\n\u001b[1;32m      6\u001b[0m \u001b[38;5;66;03m# TotalConcatenated.dtypes\u001b[39;00m\n\u001b[1;32m      7\u001b[0m \u001b[38;5;66;03m# Test Cell\u001b[39;00m\n\u001b[1;32m      8\u001b[0m \u001b[38;5;66;03m# DataLists[1].to_csv(\"test.csv\")\u001b[39;00m\n\u001b[1;32m      9\u001b[0m Test \u001b[38;5;241m=\u001b[39m TotalConcatenated\u001b[38;5;241m.\u001b[39mreset_index(drop\u001b[38;5;241m=\u001b[39m\u001b[38;5;28;01mTrue\u001b[39;00m)\n",
      "\u001b[0;31mNameError\u001b[0m: name 'TotalConcatenated' is not defined"
     ]
    }
   ],
   "source": [
    "#No need to run here\n",
    "\n",
    "# print(TotalConcatenated.dtypes)\n",
    "TotalConcatenated['time_bin'] = TotalConcatenated['time_bin'].astype(np.float16)\n",
    "# print(TotalConcatenated.dtypes)\n",
    "# TotalConcatenated.dtypes\n",
    "# Test Cell\n",
    "# DataLists[1].to_csv(\"test.csv\")\n",
    "Test = TotalConcatenated.reset_index(drop=True)\n",
    "print(Test)"
   ]
  },
  {
   "cell_type": "markdown",
   "metadata": {},
   "source": [
    "# 7. Grouping Data and Naming (Optional: Add input here)\n",
    "\n",
    "Here, you get to name your data groups/strain! Name your groups however you like under between the quotation marks for each strain.\n",
    "\n",
    "For example: If your Strain1 is N2 and you wish for the group to be called N2,\n",
    "your line should look like:\n",
    "\n",
    "DataLists[x].assign(dataset = 'N2')\n",
    "\n",
    "## Go back to step 6.1 to check which strain is which item on the DataLists.\n",
    "In this example, the first item on DataLists is AQ2028_b.\n",
    "\n",
    "\n",
    "## Remember: Put your name in quotes. (ex: 'N2' and not N2)\n",
    "\n",
    "As default, the names are set to the unique identifier labels.\n",
    "\n",
    "## Depending on the number of strains you are running the comparison, you may have to delete/add lines of code (following the same format). \n",
    "## Remember to add/delete commas too.\n",
    "\n",
    "# If you want to change your groups, you do that here. \n",
    "For example, if you have 5 strains in your folder but only want to compare between 2 or 3 strains, designate that here and follow through with steps 6 and 7. Once you are done, come back to step 6 and change your groups again (You are going to have to change your graph titles for the second run-through though)!"
   ]
  },
  {
   "cell_type": "code",
   "execution_count": 15,
   "metadata": {},
   "outputs": [
    {
     "name": "stdout",
     "output_type": "stream",
     "text": [
      "        time_bin  worm        time     speed          x          y  \\\n",
      "0            3.0    58    2.900391  0.343994  23.828125  32.875000   \n",
      "1            3.0    75    2.953125  0.406006  23.640625  34.156250   \n",
      "2            3.0   326    2.875000  0.343750  29.156250  21.437500   \n",
      "3            3.0   975    2.919922  0.409424  27.093750  31.578125   \n",
      "4            3.0  9910    2.876953  0.303467  23.500000  26.046875   \n",
      "...          ...   ...         ...       ...        ...        ...   \n",
      "240744     420.0  4400  419.500000  0.190674   5.312500  34.062500   \n",
      "240745     420.0  4405  419.500000  0.400146  15.148438  53.000000   \n",
      "240746     420.0  4467  419.500000  0.178711  44.031250  33.875000   \n",
      "240747     420.0  4468  419.500000  0.212769  36.250000  38.843750   \n",
      "240748     420.0  4492  419.500000  0.225464  10.000000  44.125000   \n",
      "\n",
      "        angularspeed  pathlength       kink      bias      curve       dir  \\\n",
      "0           6.300781    0.054504  43.656250  1.000000  37.593750  0.000000   \n",
      "1           3.300781    0.032013  59.812500  1.000000  31.296875  0.000000   \n",
      "2          14.031250    0.070312  47.156250  1.000000  28.296875  0.000000   \n",
      "3          39.812500    0.066345  22.000000  1.000000  35.562500  0.000000   \n",
      "4          45.281250    0.050323  24.734375  1.000000  27.937500  0.000000   \n",
      "...              ...         ...        ...       ...        ...       ...   \n",
      "240744      3.099609    2.082031  73.937500  0.856934  43.343750  0.000000   \n",
      "240745     31.500000    5.617188  44.250000  0.856934  41.843750  0.000000   \n",
      "240746      3.078125    6.738281  38.968750 -0.856934  27.515625  0.000000   \n",
      "240747     14.125000   11.437500  50.718750 -0.357178  30.421875  0.428467   \n",
      "240748     29.203125    8.687500  35.000000  0.856934  45.531250  0.000000   \n",
      "\n",
      "            crab    length   midline     width  morphwidth      area  \\\n",
      "0       0.032349  0.924805  1.127930  0.168701    0.129517  0.129395   \n",
      "1       0.030594  0.958496  1.103516  0.164673    0.117188  0.129028   \n",
      "2       0.052582  0.898926  1.107422  0.312256    0.138672  0.130981   \n",
      "3       0.013634  0.952148  1.165039  0.255615    0.135254  0.136108   \n",
      "4       0.014435  0.723633  1.003906  0.287109    0.095581  0.107178   \n",
      "...          ...       ...       ...       ...         ...       ...   \n",
      "240744  0.011955  0.922852  1.159180  0.275635    0.091492  0.113098   \n",
      "240745  0.071899  0.907715  1.172852  0.338135    0.099121  0.109741   \n",
      "240746  0.012138  1.046875  1.192383  0.157593    0.108276  0.142700   \n",
      "240747  0.034424  0.968262  1.103516  0.239502    0.089844  0.109741   \n",
      "240748  0.032532  0.803223  1.125000  0.336914    0.110168  0.110596   \n",
      "\n",
      "                                   Strain  \n",
      "0                              N2_OffFood  \n",
      "1                              N2_OffFood  \n",
      "2                              N2_OffFood  \n",
      "3                              N2_OffFood  \n",
      "4                              N2_OffFood  \n",
      "...                                   ...  \n",
      "240744  unc119-ABeta(myo2control)_OffFood  \n",
      "240745  unc119-ABeta(myo2control)_OffFood  \n",
      "240746  unc119-ABeta(myo2control)_OffFood  \n",
      "240747  unc119-ABeta(myo2control)_OffFood  \n",
      "240748  unc119-ABeta(myo2control)_OffFood  \n",
      "\n",
      "[8306176 rows x 19 columns]\n",
      "done step 7\n"
     ]
    }
   ],
   "source": [
    "TotalConcatenated=pd.concat(df.assign(Strain=StrainNames.get(i+1)) for i,df in enumerate(DataLists[1:]))\n",
    "# TotalConcatenated[['Genotype', 'Treatment']] = TotalConcatenated['Strain'].str.split('_', 1, expand=True)\n",
    "# TotalConcatenated=TotalConcatenated.dropna()\n",
    "# TotalConcatenated = TotalConcatenated.reset_index(drop=True)\n",
    "print(TotalConcatenated)\n",
    "TotalConcatenated.to_csv(\"baseline_output.csv\")\n",
    "# print(\"done output\")\n",
    "print('done step 7')"
   ]
  },
  {
   "cell_type": "code",
   "execution_count": null,
   "metadata": {},
   "outputs": [],
   "source": [
    "# # <------------------- This cell is now DEFUNCT -----------------------\n",
    "\n",
    "\n",
    "# #to add a line, add a comma to the last line and press 'enter' to type into a new line\n",
    "\n",
    "\n",
    "# TotalConcatenated = pd.concat([DataLists[1].assign(Strain = \"Wildtype - No Food\"),\n",
    "#                                DataLists[2].assign(Strain = \"Wildtype - Food\"),\n",
    "#                                DataLists[3].assign(Strain = \"Test - No Food\"),\n",
    "#                                DataLists[4].assign(Strain = \"Test - Food\"),\n",
    "#                                DataLists[5].assign(Strain = \"cat-2 (e1112) - No Food\"),\n",
    "#                                DataLists[6].assign(Strain = \"cat-2 (e1112) - Food\"),\n",
    "# #                                DataLists[5].assign(Strain = \"Wildtype - No Food\"),\n",
    "# #                                DataLists[6].assign(Strain = \"Wildtype - Food\"),\n",
    "# #                                DataLists[9].assign(Strain = \"dop-1 (vs101) - No Food\"),\n",
    "# #                                DataLists[10].assign(Strain = \"dop-1 (vs101) - Food\")\n",
    "#                               ])\n",
    "# # TotalConcatenated=TotalConcatenated.dropna()\n",
    "# TotalConcatenated['time_bin'] = TotalConcatenated['time_bin'].astype(np.float16)\n",
    "# TotalConcatenated[['Genotype', 'Treatment']] = TotalConcatenated['Strain'].str.split(' - ', 1, expand=True)\n",
    "# TotalConcatenated=TotalConcatenated.dropna()\n",
    "# TotalConcatenated = TotalConcatenated.reset_index(drop=True)\n",
    "# print(TotalConcatenated)\n",
    "# TotalConcatenated.to_csv(\"output.csv\")\n",
    "# # print(\"done output\")\n",
    "# print('done step 7')"
   ]
  },
  {
   "cell_type": "markdown",
   "metadata": {},
   "source": [
    "# ..... TO Here"
   ]
  },
  {
   "cell_type": "markdown",
   "metadata": {},
   "source": [
    "# 8.1 Graphing with Light Pulses (Skip to 7.2 if you are not using ChR2)\n",
    "\n",
    "## Here, feel free to change the graph title and axis labels! Images are automatically saved in your folder with your data.\n",
    "\n",
    "# Here, you may need to be patient - this code goes through millions of rows of data to plot your graph, so it may take a minute (or two.... or more...)\n",
    "\n",
    "Palette:\n",
    "\n",
    "Wildtype (ce314): (0.2980392156862745, 0.4470588235294118, 0.6901960784313725)\n",
    "\n",
    "lrk-1: (0.8666666666666667, 0.5176470588235295, 0.3215686274509804)\n",
    "\n",
    "vps-35 (hu68): (0.7686274509803922, 0.3058823529411765, 0.3215686274509804)\n",
    "\n",
    "vps-35 (ok1880): (0.5058823529411764, 0.4470588235294118, 0.7019607843137254)\n",
    "\n",
    "cat-2 (e1112): #8B008B\n",
    "\n",
    "cat-2 (e1112) No ATR: #FF00FF\n",
    "\n",
    "ce314 without ATR: #20B2AA (light see green)\n",
    "\n",
    "ok530 with ATR: #8B4513 (saddle brown)\n",
    "\n",
    "ok530 without ATR: #D2691E (chocolate)\n",
    "\n",
    "control + ATR: \"black\"\n",
    "\n",
    "control - ATR: \"gray\"\n",
    "\n",
    "lrk-1_1 + ATR: \"navy\"\n",
    "\n",
    "lrk-1_1 - ATR: \"royalblue\"\n",
    "\n",
    "lrk-1_2 + ATR: \"green\"\n",
    "\n",
    "lrk-1_2 - ATR: \"lightgreen\""
   ]
  },
  {
   "cell_type": "markdown",
   "metadata": {},
   "source": [
    "# 8.2 Speed Trace Plot"
   ]
  },
  {
   "cell_type": "code",
   "execution_count": null,
   "metadata": {},
   "outputs": [],
   "source": [
    "# Setting viewing range for your graph\n",
    "top = 0.35\n",
    "bottom = 0\n",
    "left = 0\n",
    "right = 420\n",
    "\n",
    "sns.set_context(\"talk\")\n",
    "plt.figure(linewidth = 2.5)\n",
    "plt.figure(figsize=(12,7))\n",
    "plt.gca().xaxis.grid(False)\n",
    "ax = sns.lineplot(x=\"time_bin\", \n",
    "             y=\"speed\", \n",
    "             data = TotalConcatenated,\n",
    "             hue = 'Strain',\n",
    "             palette = ['black',\n",
    "                        'grey',\n",
    "                        '#FF00FF',\n",
    "                        '#8B008B',\n",
    "                        'green',\n",
    "                        'lightgreen',\n",
    "                        'royalblue',\n",
    "                        'lightblue',\n",
    "#                         '#FFB5C5',\n",
    "#                         '#CD6889'\n",
    "                       ])\n",
    "plt.xlabel(\"Time (s)\")\n",
    "# plt.ylabel(\"Speed (mm/s)\")\n",
    "# plt.title(\"Speed Trace\")\n",
    "# plt.ylim(top = top)\n",
    "plt.ylim(bottom = bottom)\n",
    "plt.xlim(left= left)\n",
    "plt.xlim(right = right)\n",
    "ax.legend(loc = 'upper right', fontsize = '10')\n",
    "# plt.savefig(f'Speed_Trace_{left}to{right}s.png', format='png', dpi=450)\n",
    "plt.show()"
   ]
  },
  {
   "cell_type": "markdown",
   "metadata": {},
   "source": [
    "# BSR bar plot (differences of differences)"
   ]
  },
  {
   "cell_type": "markdown",
   "metadata": {},
   "source": [
    "Calculates worm speed average over designated time period"
   ]
  },
  {
   "cell_type": "code",
   "execution_count": null,
   "metadata": {},
   "outputs": [],
   "source": [
    "start = 100 #<----- set the start time of the range\n",
    "point = 400 #<------- set the end time of your range\n",
    "chunkeddata0 = TotalConcatenated[TotalConcatenated[\"time\"] >= start]\n",
    "chunkeddata = chunkeddata0[chunkeddata0[\"time\"] <= point]\n",
    "chunkeddata_mean = chunkeddata.groupby([\"Strain\",\"worm\"], as_index=False).mean()\n",
    "chunkeddata_mean[['Genotype', 'Treatment']] = chunkeddata_mean['Strain'].str.split('_', 1, expand=True)\n",
    "worm_avg_speed = chunkeddata_mean[['Genotype', 'Treatment', 'Strain', 'speed']]\n",
    "avg_speed = worm_avg_speed.groupby([\"Strain\", 'Treatment', 'Genotype'], as_index=False).mean()\n",
    "# print(avg_speed)\n",
    "\n",
    "# avg_speed.to_csv(\"avg_speed.csv\")\n",
    "\n",
    "speed_diff = avg_speed.drop(columns=[\"Strain\", \"Treatment\"]).groupby(\"Genotype\", as_index=False).diff(periods=-1).dropna()\n",
    "speed_diff.insert(loc=0, column='Genotype', value=avg_speed['Genotype'].unique())\n",
    "speed_diff.reset_index(drop=True)\n",
    "# print(speed_diff)\n",
    "# print(speed_diff.iloc[1,1])\n",
    "speed_diff['Score']=speed_diff['speed']-speed_diff.iloc[1,1]\n",
    "speed_diff=speed_diff.sort_values(by=[\"Score\"])\n",
    "print(speed_diff)"
   ]
  },
  {
   "cell_type": "code",
   "execution_count": null,
   "metadata": {},
   "outputs": [],
   "source": [
    "print(speed_diff.iloc[0,1])"
   ]
  },
  {
   "cell_type": "code",
   "execution_count": null,
   "metadata": {},
   "outputs": [],
   "source": [
    "avg_speed[\"new\"] = range(1,len(avg_speed)+1)\n",
    "avg_speed.loc[avg_speed.index==4, 'new'] = 0\n",
    "avg_speed.loc[avg_speed.index==4, 'new'] = 0\n",
    "print(avg_speed)\n",
    "# avg_speed.sort_values(\"new\").drop('new', axis=1)"
   ]
  },
  {
   "cell_type": "markdown",
   "metadata": {},
   "source": [
    "## Making the bar plot"
   ]
  },
  {
   "cell_type": "code",
   "execution_count": null,
   "metadata": {},
   "outputs": [],
   "source": [
    "Title = \"BSR Score\" #<---------------- Input Here -----------------\n",
    "sns.set_context(\"talk\")\n",
    "plt.figure(linewidth = 1)\n",
    "plt.figure(figsize=(15, 5))\n",
    "plt.gca().xaxis.grid(False)\n",
    "ax = sns.barplot(x=\"Genotype\", \n",
    "             y = 'Score', \n",
    "             data = speed_diff, #<--------------- Input Here -------------\n",
    "             color = 'CornflowerBlue',\n",
    "             edgecolor=\"DodgerBlue\",\n",
    "             linewidth = 2.5,\n",
    "#              seed=5,\n",
    "#              ci = 95, # 'sd' for SD, '68' for SEM\n",
    "#              palette = ['grey',\n",
    "#                         'black'\n",
    "#                        ]\n",
    "                )\n",
    "plt.xlabel(\"Genotype\")\n",
    "plt.xticks(rotation=90)\n",
    "plt.ylabel(\"BSR Score (Normalized to N2)\")\n",
    "plt.ylim(top = 0.1)\n",
    "plt.ylim(bottom = -0.1)\n",
    "plt.title(Title)\n",
    "# plt.legend(bbox_to_anchor=(1.02, 1), loc=2, borderaxespad=0.)\n",
    "plt.savefig(f'{Title}.png', format='png', dpi=450, bbox_inches = 'tight')\n",
    "plt.show()"
   ]
  },
  {
   "cell_type": "code",
   "execution_count": null,
   "metadata": {},
   "outputs": [],
   "source": []
  },
  {
   "cell_type": "markdown",
   "metadata": {},
   "source": [
    "# 8.3 Graphing Bar Graphs"
   ]
  },
  {
   "cell_type": "markdown",
   "metadata": {},
   "source": [
    "# Speed Barplots Comparison"
   ]
  },
  {
   "cell_type": "code",
   "execution_count": null,
   "metadata": {},
   "outputs": [],
   "source": [
    "# Valid Measurement inputs(change var)\n",
    "# 1:'speed', <---\n",
    "# 2: \"x\",\n",
    "# 3: \"y\",\n",
    "# 4: \"angularspeed\", <-----\n",
    "# 5: \"pathlength\",\n",
    "# 6: \"kink\",  <---\n",
    "# 7: \"bias\", <----\n",
    "# 8: \"curve\", <---\n",
    "# 9: \"dir\",<----\n",
    "# 10: \"crab\",<----\n",
    "# 11: \"length\",<---\n",
    "# 12: \"midline\",<----\n",
    "# 13: \"width\",<----\n",
    "# 14: \"morphwidth\",<----\n",
    "# 15: \"area\"<----\n",
    "\n",
    "start = 200\n",
    "point = 400\n",
    "var = \"area\"\n",
    "chunkeddata0 = TotalConcatenated[TotalConcatenated[\"time\"] >= start]\n",
    "chunkeddata = chunkeddata0[chunkeddata0[\"time\"] <= point]\n",
    "chunkeddata_mean = chunkeddata.groupby([\"Strain\",\"worm\"], as_index=False).mean()\n",
    "chunkeddata_mean[['Genotype', 'Treatment']] = chunkeddata_mean['Strain'].str.split(' - ', 1, expand=True)\n",
    "\n",
    "Title = f\"{var} - {start}-{point} seconds\" #<---------------- Input Here -----------------\n",
    "sns.set_context(\"talk\")\n",
    "plt.figure(linewidth = 2.5)\n",
    "plt.figure(figsize=(15, 3))\n",
    "plt.gca().xaxis.grid(False)\n",
    "ax = sns.barplot(x=\"Genotype\", \n",
    "             y = var, \n",
    "             data = chunkeddata_mean, #<--------------- Input Here -------------\n",
    "             hue = 'Treatment',\n",
    "             edgecolor=\"black\",\n",
    "             linewidth = 2.5,\n",
    "#              seed=5,\n",
    "             ci = 95, # 'sd' for SD, '68' for SEM\n",
    "             palette = ['grey',\n",
    "                        'black'\n",
    "                       ]\n",
    "                )\n",
    "plt.xlabel(\"Strain and Condition\")\n",
    "# plt.ylabel(\"Average Speed (mm/s)\")\n",
    "plt.title(Title)\n",
    "plt.legend(bbox_to_anchor=(1.02, 1), loc=2, borderaxespad=0.)\n",
    "plt.savefig(f'{Title}.png', format='png', dpi=450, bbox_inches = 'tight')\n",
    "plt.show()"
   ]
  },
  {
   "cell_type": "code",
   "execution_count": null,
   "metadata": {},
   "outputs": [],
   "source": [
    "# Test Cell\n",
    "# chunkeddata_mean"
   ]
  },
  {
   "cell_type": "code",
   "execution_count": null,
   "metadata": {},
   "outputs": [],
   "source": [
    "# Test Cell\n",
    "# TotalConcatenated.describe()\n",
    "# chunkeddata0\n",
    "# chunkeddata"
   ]
  },
  {
   "cell_type": "markdown",
   "metadata": {},
   "source": [
    "# Bias Barplots Comparison"
   ]
  },
  {
   "cell_type": "code",
   "execution_count": null,
   "metadata": {},
   "outputs": [],
   "source": [
    "point = 420\n",
    "var = \"bias\"\n",
    "chunkeddata0 = TotalConcatenated[TotalConcatenated[\"time\"] >= 0]\n",
    "chunkeddata = chunkeddata0[chunkeddata0[\"time\"] <= point]\n",
    "\n",
    "Title = f\"{var} - First {point} seconds\" #<---------------- Input Here -----------------\n",
    "sns.set_context(\"talk\")\n",
    "plt.figure(linewidth = 2.5)\n",
    "plt.figure(figsize=(15, 5))\n",
    "plt.gca().xaxis.grid(False)\n",
    "ax = sns.barplot(x=\"Genotype\", \n",
    "             y = var, \n",
    "             data = chunkeddata, #<--------------- Input Here -------------\n",
    "             hue = 'Treatment',\n",
    "             edgecolor=\"black\",\n",
    "             linewidth = 2.5,\n",
    "             ci = None,\n",
    "             palette = ['black',\n",
    "                        'grey'\n",
    "                       ]\n",
    "                )\n",
    "plt.xlabel(\"Strain and Condition\")\n",
    "# plt.ylabel(\"Average Speed (mm/s)\")\n",
    "plt.title(Title)\n",
    "plt.legend(bbox_to_anchor=(1.02, 1), loc=2, borderaxespad=0.)\n",
    "# plt.savefig(f'{Title}.png', format='png', dpi=450, bbox_inches = 'tight')\n",
    "plt.show()"
   ]
  },
  {
   "cell_type": "markdown",
   "metadata": {},
   "source": [
    "# Dispersion Plot (starburst) - *Not Functional In Current Iteration"
   ]
  },
  {
   "cell_type": "code",
   "execution_count": null,
   "metadata": {},
   "outputs": [],
   "source": [
    "timepoint=60 # <---------------------- indicate end timepoint\n",
    "\n",
    "\n",
    "chunkeddata0 = TotalConcatenated[TotalConcatenated[\"time\"] >= 0]\n",
    "chunkeddata = chunkeddata0[chunkeddata0[\"time\"] <= timepoint]\n",
    "\n",
    "Title = f\"0 - {timepoint} seconds\" #<--------------------\n",
    "sns.set(context=\"talk\")\n",
    "# sns.set_context(\"talk\", fontscale=0.5)\n",
    "plt.figure(linewidth = 2.5)\n",
    "plt.figure(figsize=(16, 4))\n",
    "g = sns.FacetGrid(chunkeddata, row = \"Treatment\", col = \"Genotype\", margin_titles=True) #<--------------------------\n",
    "g.map_dataframe(sns.scatterplot, \"x_0\", \"y_0\", hue=\"time\", palette = \"YlOrBr\", linewidth=0, alpha=0.7, s=2)\n",
    "g.set_axis_labels(\"x position\", \"y position\")\n",
    "g.set_titles(col_template=\"{col_name}\", row_template=\"{row_name}\")\n",
    "# g.fig.subplots_adjust(top=0.8)\n",
    "g.fig.suptitle(f\"{Title} Dispersion map\", y=1.05)\n",
    "g.tight_layout()\n",
    "# plt.savefig(f'{Title} Dispersion map.png', format='png', dpi=900, bbox_inches = 'tight')"
   ]
  },
  {
   "cell_type": "markdown",
   "metadata": {},
   "source": [
    "# Total Distance Traveled Trace - *Not Functional In Current Iteration"
   ]
  },
  {
   "cell_type": "code",
   "execution_count": null,
   "metadata": {},
   "outputs": [],
   "source": [
    "start=50\n",
    "timepoint=420 # <---------------------- indicate end timepoint\n",
    "\n",
    "\n",
    "chunkeddata0 = TotalConcatenated[TotalConcatenated[\"time\"] >= start]\n",
    "chunkeddata = chunkeddata0[chunkeddata0[\"time\"] <= timepoint]\n",
    "\n",
    "Title = f\"{start} - {timepoint} seconds\" #<--------------------\n",
    "sns.set(context=\"talk\")\n",
    "# sns.set_context(\"talk\", fontscale=0.5)\n",
    "plt.figure(linewidth = 2.5)\n",
    "plt.figure(figsize=(16, 4))\n",
    "g = sns.FacetGrid(chunkeddata, row = \"Treatment\", col = \"Genotype\", margin_titles=True, ylim=[0,15]) #<---- set y-lim\n",
    "g.map_dataframe(sns.scatterplot, \"time\", \"distance\", hue=\"worm\", palette = \"colorblind\", linewidth=0, alpha=0.7, s=2)\n",
    "# g.set_axis_labels(\"x position\", \"y position\")\n",
    "g.set_titles(col_template=\"{col_name}\", row_template=\"{row_name}\")\n",
    "# g.fig.subplots_adjust(top=0.8)\n",
    "g.fig.suptitle(f'{Title} Total Distance Traveled Trace', y=1.05)\n",
    "g.tight_layout()\n",
    "# plt.savefig(f'{Title} Total Distance Traveled Trace.png', format='png', dpi=900, bbox_inches = 'tight')"
   ]
  },
  {
   "cell_type": "code",
   "execution_count": null,
   "metadata": {},
   "outputs": [],
   "source": []
  },
  {
   "cell_type": "markdown",
   "metadata": {},
   "source": [
    "# Done!"
   ]
  },
  {
   "cell_type": "code",
   "execution_count": null,
   "metadata": {},
   "outputs": [],
   "source": [
    "AfterOneHundredSecs = TotalConcatenated[TotalConcatenated[\"time_bin\"] >= 100].reset_index(drop=True)\n",
    "print(AfterOneHundredSecs)"
   ]
  },
  {
   "cell_type": "code",
   "execution_count": null,
   "metadata": {},
   "outputs": [],
   "source": [
    "AfterOneHundredMean = AfterOneHundredSecs.groupby([\"Strain\", \"worm\", \"Genotype\", \"Treatment\"], as_index=False).mean()\n",
    "print(AfterOneHundredMean)"
   ]
  },
  {
   "cell_type": "code",
   "execution_count": null,
   "metadata": {},
   "outputs": [],
   "source": [
    "# Valid Measurement inputs(change var)\n",
    "# 1:'speed', <---\n",
    "# 2: \"x\",\n",
    "# 3: \"y\",\n",
    "# 4: \"angularspeed\", <-----\n",
    "# 5: \"pathlength\",\n",
    "# 6: \"kink\",  <---\n",
    "# 7: \"bias\", <----\n",
    "# 8: \"curve\", <---\n",
    "# 9: \"dir\",<----\n",
    "# 10: \"crab\",<----\n",
    "# 11: \"length\",<---\n",
    "# 12: \"midline\",<----\n",
    "# 13: \"width\",<----\n",
    "# 14: \"morphwidth\",<----\n",
    "# 15: \"area\"<----\n",
    "\n",
    "\n",
    "var = \"speed\"\n",
    "\n",
    "Title = f\"{var}\" #<---------------- Input Here -----------------\n",
    "sns.set_context(\"talk\")\n",
    "plt.figure(linewidth = 2.5)\n",
    "plt.figure(figsize=(15, 3))\n",
    "plt.gca().xaxis.grid(False)\n",
    "ax = sns.barplot(x=\"Genotype\", \n",
    "             y = var, \n",
    "             data = AfterOneHundredMean, #<--------------- Input Here -------------\n",
    "             hue = 'Treatment',\n",
    "             edgecolor=\"black\",\n",
    "             linewidth = 2.5,\n",
    "#              seed=5,\n",
    "             ci = 95, # 'sd' for SD, '68' for SEM\n",
    "             palette = ['grey',\n",
    "                        'black'\n",
    "                       ]\n",
    "                )\n",
    "plt.xlabel(\"Strain and Condition\")\n",
    "# plt.ylabel(\"Average Speed (mm/s)\")\n",
    "plt.title(Title)\n",
    "plt.legend(bbox_to_anchor=(1.02, 1), loc=2, borderaxespad=0.)\n",
    "# plt.savefig(f'{Title}.png', format='png', dpi=450, bbox_inches = 'tight')\n",
    "plt.show()"
   ]
  },
  {
   "cell_type": "code",
   "execution_count": null,
   "metadata": {},
   "outputs": [],
   "source": [
    "AfterOneHundredCAT = AfterOneHundredMean[AfterOneHundredMean.Genotype != \"Test\"]\n",
    "AfterOneHundredTEST = AfterOneHundredMean[AfterOneHundredMean.Genotype != \"cat-2 (e1112)\"]\n"
   ]
  },
  {
   "cell_type": "code",
   "execution_count": null,
   "metadata": {},
   "outputs": [],
   "source": [
    "print(AfterOneHundredMean)\n",
    "print(AfterOneHundredCAT)\n",
    "print(AfterOneHundredTEST)"
   ]
  },
  {
   "cell_type": "code",
   "execution_count": null,
   "metadata": {},
   "outputs": [],
   "source": [
    "AfterOneHundredCAT.anova(dv=\"speed\", between=[\"Genotype\",\"Treatment\"])"
   ]
  },
  {
   "cell_type": "code",
   "execution_count": null,
   "metadata": {},
   "outputs": [],
   "source": [
    "AfterOneHundredTEST.anova(dv=\"speed\", between=[\"Genotype\",\"Treatment\"]).round(7)"
   ]
  },
  {
   "cell_type": "code",
   "execution_count": null,
   "metadata": {},
   "outputs": [],
   "source": []
  }
 ],
 "metadata": {
  "kernelspec": {
   "display_name": "Python 3 (ipykernel)",
   "language": "python",
   "name": "python3"
  },
  "language_info": {
   "codemirror_mode": {
    "name": "ipython",
    "version": 3
   },
   "file_extension": ".py",
   "mimetype": "text/x-python",
   "name": "python",
   "nbconvert_exporter": "python",
   "pygments_lexer": "ipython3",
   "version": "3.11.1"
  }
 },
 "nbformat": 4,
 "nbformat_minor": 4
}
