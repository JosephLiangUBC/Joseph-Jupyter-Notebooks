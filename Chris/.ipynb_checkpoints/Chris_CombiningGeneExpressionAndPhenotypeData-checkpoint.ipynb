{
 "cells": [
  {
   "cell_type": "markdown",
   "id": "83193368",
   "metadata": {},
   "source": [
    "# Contents\n",
    "\n",
    "#### 1. Prepare to work with data (import packages and set working directory)\n",
    "#### 2. Read in and process data (create separate dataframes for gene expression data and phenotype data)\n",
    "#### 3. Combine dataframes (with gene name as index)"
   ]
  },
  {
   "cell_type": "markdown",
   "id": "4d85c708",
   "metadata": {},
   "source": [
    "## 1 - Prepare to work with data"
   ]
  },
  {
   "cell_type": "markdown",
   "id": "ec5692de",
   "metadata": {},
   "source": [
    "### 1.1 - Import Packages"
   ]
  },
  {
   "cell_type": "code",
   "execution_count": 20,
   "id": "963a5576",
   "metadata": {},
   "outputs": [
    {
     "name": "stdout",
     "output_type": "stream",
     "text": [
      "done step 1\n"
     ]
    }
   ],
   "source": [
    "import os  # <- package used to work with system filepaths\n",
    "import pandas as pd  # <- package used to import and organize data\n",
    "import numpy as np  # <- package used to import and organize data\n",
    "import math\n",
    "import seaborn as sns  # <- package used to plot graphs\n",
    "from matplotlib import pyplot as plt  # <- another package used to plot graphs\n",
    "from itertools import cycle  # <- package used to iterate down rows\n",
    "from ipywidgets import widgets  # <- widget tool to generate button\n",
    "from IPython.display import display  # <- displays button\n",
    "from tkinter import Tk, filedialog  # <- Tkinter is a GUI package\n",
    "from tqdm.notebook import tqdm\n",
    "import pingouin as pg\n",
    "from pingouin import ttest\n",
    "from scipy.stats import ttest_ind\n",
    "from scipy.stats import ttest_1samp\n",
    "import requests\n",
    "pd.set_option('display.max_columns', 50)\n",
    "print(\"done step 1\")"
   ]
  },
  {
   "cell_type": "markdown",
   "id": "94e59c9f",
   "metadata": {},
   "source": [
    "### 1.2 - Set working directory to where the CSV file with experiment data is\n"
   ]
  },
  {
   "cell_type": "code",
   "execution_count": 12,
   "id": "9a864e86",
   "metadata": {},
   "outputs": [],
   "source": [
    "os.getcwd()\n",
    "os.chdir('C:\\\\Users\\\\chris\\\\Desktop\\\\Rankin_Lab\\\\valid_data')"
   ]
  },
  {
   "cell_type": "markdown",
   "id": "78423e04",
   "metadata": {},
   "source": [
    "## 2 - Read in and tidy data\n"
   ]
  },
  {
   "cell_type": "markdown",
   "id": "bcb1d57b",
   "metadata": {},
   "source": [
    "### 2.1.A - Read in and combine CeNGEN data into one dataframe (for dopaminergic (dopamine-synthesizing) neurons)"
   ]
  },
  {
   "cell_type": "code",
   "execution_count": 19,
   "id": "663b5c01",
   "metadata": {},
   "outputs": [
    {
     "name": "stdout",
     "output_type": "stream",
     "text": [
      "(18475, 4)\n",
      "  Gene name  ADE_exp_level  PDE_exp_level  CEP_exp_level\n",
      "0    flp-33       98000.31       16699.05       1082.030\n",
      "1    unc-54       77625.40       80205.59     133461.200\n",
      "2  F09E10.7       59164.51      116352.90      84678.650\n",
      "3     flp-9       40632.57         953.48        695.145\n",
      "4   F59F3.6       27777.23       26628.37      16785.460\n"
     ]
    }
   ],
   "source": [
    "df1 = pd.read_csv('GenesExpressed_in_ADE-thrsUnfiltered.csv')\n",
    "df2 = pd.read_csv('GenesExpressed_in_PDE-thrsUnfiltered.csv')\n",
    "df3 = pd.read_csv('GenesExpressed_in_CEP-thrsUnfiltered.csv')\n",
    "\n",
    "ExpressionData_DopaminergicNeurons = pd.merge(df1, df2, on='Gene name', how='outer')\n",
    "ExpressionData_DopaminergicNeurons = pd.merge(ExpressionData_DopaminergicNeurons, df3, on='Gene name', how='outer')\n",
    "ExpressionData_DopaminergicNeurons = ExpressionData_DopaminergicNeurons.drop(['Unnamed: 0_x','Gene ID_x', 'Unnamed: 0_y', 'Gene ID_y', 'Unnamed: 0'], axis=1)\n",
    "\n",
    "# Rearrange columns\n",
    "new_column_order = ['Gene name', 'ADE_exp_level', 'PDE_exp_level', 'CEP_exp_level']\n",
    "ExpressionData_DopaminergicNeurons = ExpressionData_DopaminergicNeurons.reindex(columns=new_column_order)\n",
    "\n",
    "# ExpressionData_DopaminergicNeurons = ExpressionData_DopaminergicNeurons.dropna()\n",
    "\n",
    "# Save the merged DataFrame as a CSV file to a specific directory\n",
    "ExpressionData_DopaminergicNeurons.to_csv('C:\\\\Users\\\\chris\\\\Desktop\\\\Rankin_Lab\\\\valid_data\\\\ExpressionData_DopaminergicNeurons.csv', index=True)\n",
    "\n",
    "\n",
    "print(ExpressionData_DopaminergicNeurons.shape)\n",
    "print(ExpressionData_DopaminergicNeurons.head())"
   ]
  },
  {
   "cell_type": "markdown",
   "id": "60566be6",
   "metadata": {},
   "source": [
    "### 2.1.B - Read in and combine CeNGEN data into one dataframe (for all neurons with dopamine-receptors)"
   ]
  },
  {
   "cell_type": "markdown",
   "id": "5fc35401",
   "metadata": {},
   "source": [
    "### 2.2 - Calculate mean gene expression level across each neuron and calculate a t-score for the expression level of each gene in that neuron"
   ]
  },
  {
   "cell_type": "code",
   "execution_count": 22,
   "id": "33b68dec",
   "metadata": {},
   "outputs": [
    {
     "name": "stdout",
     "output_type": "stream",
     "text": [
      "  Gene name  ADE_t_score  PDE_t_score  CEP_t_score\n",
      "0    flp-33    86.882787    14.631959     0.851163\n",
      "1    unc-54    68.809301    70.458295   110.468799\n",
      "2  F09E10.7    52.433639   102.234107    70.074016\n",
      "3     flp-9    35.994952     0.790589     0.530800\n",
      "4   F59F3.6    24.591672    23.360470    13.854515\n"
     ]
    }
   ],
   "source": [
    "# Calculate t-score for each gene in each neuron type\n",
    "t_scores = {}\n",
    "for neuron_type in ['ADE', 'PDE', 'CEP']:\n",
    "    # Calculate mean expression level and standard deviation for the current neuron type\n",
    "    mean_expression = ExpressionData_DopaminergicNeurons[f'{neuron_type}_exp_level'].mean()\n",
    "    sd_expression = ExpressionData_DopaminergicNeurons[f'{neuron_type}_exp_level'].std()\n",
    "\n",
    "    # Initialize list to store t-scores\n",
    "    t_scores[neuron_type] = []\n",
    "    \n",
    "    # Calculate t-score for each gene in the current neuron type\n",
    "    for index, row in ExpressionData_DopaminergicNeurons.iterrows():\n",
    "        t_score = (row[f'{neuron_type}_exp_level'] - mean_expression) / sd_expression\n",
    "        t_scores[neuron_type].append(t_score)\n",
    "\n",
    "# Create a new DataFrame with gene names and corresponding t-scores for each neuron type\n",
    "ExpressionData_DopaminergicNeurons_T = pd.DataFrame({'Gene name': ExpressionData_DopaminergicNeurons['Gene name']})\n",
    "for neuron_type in ['ADE', 'PDE', 'CEP']:\n",
    "    ExpressionData_DopaminergicNeurons_T[f'{neuron_type}_t_score'] = t_scores[neuron_type]\n",
    "\n",
    "print(ExpressionData_DopaminergicNeurons_T.head())\n"
   ]
  },
  {
   "cell_type": "code",
   "execution_count": null,
   "id": "b4f8e1dd",
   "metadata": {},
   "outputs": [],
   "source": []
  },
  {
   "cell_type": "markdown",
   "id": "d7fe1c9d",
   "metadata": {},
   "source": [
    "### 2.2.2 (Maybe 3.X) - Standardize t-scores (just as phenotype t-scores were)"
   ]
  },
  {
   "cell_type": "markdown",
   "id": "4f52a3c5",
   "metadata": {},
   "source": [
    "## 3 - Combine DataFrames"
   ]
  },
  {
   "cell_type": "markdown",
   "id": "d12105b5",
   "metadata": {},
   "source": [
    "### 3.X - Use pd.DataFrame.merge to combine gene expression and phenotype dataframes only for dopaminergic neurons"
   ]
  },
  {
   "cell_type": "code",
   "execution_count": null,
   "id": "9bfc860f",
   "metadata": {},
   "outputs": [],
   "source": []
  },
  {
   "cell_type": "markdown",
   "id": "f9c8b52c",
   "metadata": {},
   "source": [
    "### 3.X - Use pd.DataFrame.merge to combine gene expression and phenotype dataframes for dopamine-receptor-expressing neurons"
   ]
  },
  {
   "cell_type": "code",
   "execution_count": null,
   "id": "b3f2d732",
   "metadata": {},
   "outputs": [],
   "source": []
  },
  {
   "cell_type": "markdown",
   "id": "192e4efa",
   "metadata": {},
   "source": [
    "### 3.X - Use Pandas xlookup equivalent to sort combined DataFrame by gene name"
   ]
  },
  {
   "cell_type": "code",
   "execution_count": null,
   "id": "2a116a1b",
   "metadata": {},
   "outputs": [],
   "source": []
  },
  {
   "cell_type": "markdown",
   "id": "28c2c58e",
   "metadata": {},
   "source": [
    "### 3.X - Delete rows for which there is not both gene expression and phenotype data"
   ]
  },
  {
   "cell_type": "code",
   "execution_count": null,
   "id": "9b24c0fd",
   "metadata": {},
   "outputs": [],
   "source": []
  }
 ],
 "metadata": {
  "kernelspec": {
   "display_name": "Python 3 (ipykernel)",
   "language": "python",
   "name": "python3"
  },
  "language_info": {
   "codemirror_mode": {
    "name": "ipython",
    "version": 3
   },
   "file_extension": ".py",
   "mimetype": "text/x-python",
   "name": "python",
   "nbconvert_exporter": "python",
   "pygments_lexer": "ipython3",
   "version": "3.10.9"
  }
 },
 "nbformat": 4,
 "nbformat_minor": 5
}
