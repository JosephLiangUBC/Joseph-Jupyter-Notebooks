{
 "cells": [
  {
   "cell_type": "markdown",
   "id": "83193368",
   "metadata": {},
   "source": [
    "# Contents\n",
    "\n",
    "#### 1. Prepare to work with data (import packages and set working directory)\n",
    "#### 2. Read in and process data (create separate dataframes for gene expression data and phenotype data)\n",
    "#### 3. Combine dataframes (with gene name as index)"
   ]
  },
  {
   "cell_type": "markdown",
   "id": "4d85c708",
   "metadata": {},
   "source": [
    "## 1 - Prepare to work with data"
   ]
  },
  {
   "cell_type": "markdown",
   "id": "ec5692de",
   "metadata": {},
   "source": [
    "### 1.1 - Import Packages"
   ]
  },
  {
   "cell_type": "code",
   "execution_count": 1,
   "id": "963a5576",
   "metadata": {},
   "outputs": [
    {
     "name": "stdout",
     "output_type": "stream",
     "text": [
      "done step 1\n"
     ]
    },
    {
     "name": "stderr",
     "output_type": "stream",
     "text": [
      "C:\\Users\\chris\\anaconda3\\lib\\site-packages\\outdated\\utils.py:14: OutdatedPackageWarning: The package pingouin is out of date. Your version is 0.5.3, the latest is 0.5.4.\n",
      "Set the environment variable OUTDATED_IGNORE=1 to disable these warnings.\n",
      "  return warn(\n"
     ]
    }
   ],
   "source": [
    "import os  # <- package used to work with system filepaths\n",
    "import pandas as pd  # <- package used to import and organize data\n",
    "import numpy as np  # <- package used to import and organize data\n",
    "import math\n",
    "import seaborn as sns  # <- package used to plot graphs\n",
    "from matplotlib import pyplot as plt  # <- another package used to plot graphs\n",
    "from itertools import cycle  # <- package used to iterate down rows\n",
    "from ipywidgets import widgets  # <- widget tool to generate button\n",
    "from IPython.display import display  # <- displays button\n",
    "from tkinter import Tk, filedialog  # <- Tkinter is a GUI package\n",
    "from tqdm.notebook import tqdm\n",
    "import pingouin as pg\n",
    "from pingouin import ttest\n",
    "from scipy.stats import ttest_ind\n",
    "from scipy.stats import ttest_1samp\n",
    "import requests\n",
    "pd.set_option('display.max_columns', 50)\n",
    "print(\"done step 1\")"
   ]
  },
  {
   "cell_type": "markdown",
   "id": "94e59c9f",
   "metadata": {},
   "source": [
    "### 1.2 - Set working directory to where the CSV file with experiment data is\n"
   ]
  },
  {
   "cell_type": "code",
   "execution_count": 2,
   "id": "9a864e86",
   "metadata": {},
   "outputs": [],
   "source": [
    "os.getcwd()\n",
    "os.chdir('C:\\\\Users\\\\chris\\\\Desktop\\\\Rankin_Lab\\\\valid_data')"
   ]
  },
  {
   "cell_type": "markdown",
   "id": "78423e04",
   "metadata": {},
   "source": [
    "## 2 - Read in and tidy data\n"
   ]
  },
  {
   "cell_type": "markdown",
   "id": "bcb1d57b",
   "metadata": {},
   "source": [
    "### 2.1.A - Read in and combine CeNGEN data into one dataframe (for dopaminergic (dopamine-synthesizing) neurons)"
   ]
  },
  {
   "cell_type": "code",
   "execution_count": 7,
   "id": "663b5c01",
   "metadata": {},
   "outputs": [
    {
     "name": "stdout",
     "output_type": "stream",
     "text": [
      "(18475, 4)\n",
      "  Gene name  ADE_exp_level  PDE_exp_level  CEP_exp_level\n",
      "0    flp-33       98000.31       16699.05       1082.030\n",
      "1    unc-54       77625.40       80205.59     133461.200\n",
      "2  F09E10.7       59164.51      116352.90      84678.650\n",
      "3     flp-9       40632.57         953.48        695.145\n",
      "4   F59F3.6       27777.23       26628.37      16785.460\n"
     ]
    }
   ],
   "source": [
    "df1 = pd.read_csv('GenesExpressed_in_ADE-thrsUnfiltered.csv')\n",
    "df2 = pd.read_csv('GenesExpressed_in_PDE-thrsUnfiltered.csv')\n",
    "df3 = pd.read_csv('GenesExpressed_in_CEP-thrsUnfiltered.csv')\n",
    "\n",
    "ExpressionData_DopaminergicNeurons = pd.merge(df1, df2, on='Gene name', how='outer')\n",
    "ExpressionData_DopaminergicNeurons = pd.merge(ExpressionData_DopaminergicNeurons, df3, on='Gene name', how='outer')\n",
    "ExpressionData_DopaminergicNeurons = ExpressionData_DopaminergicNeurons.drop(['Unnamed: 0_x','Gene ID_x', 'Unnamed: 0_y', 'Gene ID_y', 'Unnamed: 0'], axis=1)\n",
    "\n",
    "# Rearrange columns\n",
    "new_column_order = ['Gene name', 'ADE_exp_level', 'PDE_exp_level', 'CEP_exp_level']\n",
    "ExpressionData_DopaminergicNeurons = ExpressionData_DopaminergicNeurons.reindex(columns=new_column_order)\n",
    "\n",
    "# ExpressionData_DopaminergicNeurons = ExpressionData_DopaminergicNeurons.dropna()\n",
    "\n",
    "# Save the merged DataFrame as a CSV file to a specific directory\n",
    "ExpressionData_DopaminergicNeurons.to_csv('C:\\\\Users\\\\chris\\\\Desktop\\\\Rankin_Lab\\\\valid_data\\\\ExpressionData_DopaminergicNeurons.csv', index=False)\n",
    "\n",
    "\n",
    "print(ExpressionData_DopaminergicNeurons.shape)\n",
    "print(ExpressionData_DopaminergicNeurons.head())"
   ]
  },
  {
   "cell_type": "markdown",
   "id": "4d625d13",
   "metadata": {},
   "source": [
    "### 2.1.B - Read in and combine CeNGEN data into one dataframe (for all neurons with dopamine-receptors)"
   ]
  },
  {
   "cell_type": "markdown",
   "id": "6a87e7c6",
   "metadata": {},
   "source": [
    "### 2.2 - Calculate mean gene expression level across each neuron and calculate a t-score for the expression level of each gene in that neuron"
   ]
  },
  {
   "cell_type": "code",
   "execution_count": 9,
   "id": "2a79b08c",
   "metadata": {},
   "outputs": [
    {
     "name": "stdout",
     "output_type": "stream",
     "text": [
      "  Gene name  ADE_t_score  PDE_t_score  CEP_t_score\n",
      "0    flp-33    86.882787    14.631959     0.851163\n",
      "1    unc-54    68.809301    70.458295   110.468799\n",
      "2  F09E10.7    52.433639   102.234107    70.074016\n",
      "3     flp-9    35.994952     0.790589     0.530800\n",
      "4   F59F3.6    24.591672    23.360470    13.854515\n"
     ]
    }
   ],
   "source": [
    "# Calculate t-score for each gene in each neuron type\n",
    "t_scores = {}\n",
    "for neuron_type in ['ADE', 'PDE', 'CEP']:\n",
    "    # Calculate mean expression level and standard deviation for the current neuron type\n",
    "    mean_expression = ExpressionData_DopaminergicNeurons[f'{neuron_type}_exp_level'].mean()\n",
    "    sd_expression = ExpressionData_DopaminergicNeurons[f'{neuron_type}_exp_level'].std()\n",
    "\n",
    "    # Initialize list to store t-scores\n",
    "    t_scores[neuron_type] = []\n",
    "    \n",
    "    # Calculate t-score for each gene in the current neuron type\n",
    "    for index, row in ExpressionData_DopaminergicNeurons.iterrows():\n",
    "        t_score = (row[f'{neuron_type}_exp_level'] - mean_expression) / sd_expression\n",
    "        t_scores[neuron_type].append(t_score)\n",
    "\n",
    "# Create a new DataFrame with gene names and corresponding t-scores for each neuron type\n",
    "ExpressionData_DopaminergicNeurons_T = pd.DataFrame({'Gene name': ExpressionData_DopaminergicNeurons['Gene name']})\n",
    "for neuron_type in ['ADE', 'PDE', 'CEP']:\n",
    "    ExpressionData_DopaminergicNeurons_T[f'{neuron_type}_t_score'] = t_scores[neuron_type]\n",
    "\n",
    "    \n",
    "ExpressionData_DopaminergicNeurons_T.to_csv('C:\\\\Users\\\\chris\\\\Desktop\\\\Rankin_Lab\\\\valid_data\\\\ExpressionData_DopaminergicNeurons_T.csv', index=False)\n",
    "print(ExpressionData_DopaminergicNeurons_T.head())\n"
   ]
  },
  {
   "cell_type": "markdown",
   "id": "17590ec5",
   "metadata": {},
   "source": [
    "### 2.2.2(?) Standardize t-scores by calculating t-scores of t-scores"
   ]
  },
  {
   "cell_type": "code",
   "execution_count": 5,
   "id": "2ada537e",
   "metadata": {},
   "outputs": [
    {
     "name": "stdout",
     "output_type": "stream",
     "text": [
      "  Gene name  ADE_t_score2  PDE_t_score2  CEP_t_score2\n",
      "0    flp-33     86.882787     14.631959      0.851163\n",
      "1    unc-54     68.809301     70.458295    110.468799\n",
      "2  F09E10.7     52.433639    102.234107     70.074016\n",
      "3     flp-9     35.994952      0.790589      0.530800\n",
      "4   F59F3.6     24.591672     23.360470     13.854515\n"
     ]
    }
   ],
   "source": [
    "t_scores2 = {}\n",
    "for neuron_type in ['ADE', 'PDE', 'CEP']:\n",
    "    mean_t_score = ExpressionData_DopaminergicNeurons_T[f'{neuron_type}_t_score'].mean()\n",
    "    sd_t_score = ExpressionData_DopaminergicNeurons_T[f'{neuron_type}_t_score'].std()\n",
    "\n",
    "    t_scores2[neuron_type] = []\n",
    "    \n",
    "    for index, row in ExpressionData_DopaminergicNeurons_T.iterrows():\n",
    "        t_score2 = (row[f'{neuron_type}_t_score'] - mean_t_score) / sd_t_score\n",
    "        t_scores2[neuron_type].append(t_score2)\n",
    "\n",
    "ExpressionData_DopaminergicNeurons_T_2 = pd.DataFrame({'Gene name': ExpressionData_DopaminergicNeurons_T['Gene name']})\n",
    "for neuron_type in ['ADE', 'PDE', 'CEP']:\n",
    "    ExpressionData_DopaminergicNeurons_T_2[f'{neuron_type}_t_score2'] = t_scores2[neuron_type]\n",
    "\n",
    "    \n",
    "# ExpressionData_DopaminergicNeurons_T_2.to_csv('C:\\\\Users\\\\chris\\\\Desktop\\\\Rankin_Lab\\\\valid_data\\\\ExpressionData_DopaminergicNeurons_T.csv', index=False)\n",
    "print(ExpressionData_DopaminergicNeurons_T_2.head())"
   ]
  },
  {
   "cell_type": "markdown",
   "id": "4f52a3c5",
   "metadata": {},
   "source": [
    "## 3 - Combine DataFrames"
   ]
  },
  {
   "cell_type": "markdown",
   "id": "d12105b5",
   "metadata": {},
   "source": [
    "### 3.X - Use pd.DataFrame.merge to combine gene expression and phenotype dataframes only for dopaminergic neurons"
   ]
  },
  {
   "cell_type": "code",
   "execution_count": 13,
   "id": "9bfc860f",
   "metadata": {},
   "outputs": [
    {
     "name": "stdout",
     "output_type": "stream",
     "text": [
      "                     length   midline     width  morphwidth      area  \\\n",
      "Genotype                                                                \n",
      "cat-2(e1112)      -0.196739  0.034824  0.820231    0.642903  0.220447   \n",
      "catp-7(tm4438)    -0.153820 -0.593807 -1.044253   -1.314471 -0.877247   \n",
      "catp-7(tm8556)    -0.222941 -0.540317 -1.118052   -1.812675 -0.986798   \n",
      "cpr-4(ok3413)     -1.864113 -1.906107 -0.997679   -1.620419 -2.039700   \n",
      "cpr-5(ok2344)     -2.861594 -2.770649 -0.587235   -1.388041 -2.622915   \n",
      "cpr-6(tm12210)    -0.242207 -0.668439 -0.973411   -0.796693 -0.632821   \n",
      "cpr-8(ok2956)     -1.949782 -2.444358 -2.381636   -2.525663 -2.678514   \n",
      "djr-1.1(tm918)    -2.127705 -2.688475 -2.934645   -3.169808 -2.780524   \n",
      "djr-1.2(tm817)    -0.763554 -1.326812 -1.995792   -1.266041 -1.006309   \n",
      "djr-1.2(tm951)    -0.505632 -1.525355 -2.796270   -1.757783 -1.404218   \n",
      "exp-2(sa26ad1426) -0.762081 -0.772575 -0.363025    0.182574 -0.452432   \n",
      "kvs-5(tm6152)     -0.745869 -1.237666 -1.422290   -1.322103 -1.416604   \n",
      "lfe-2(sy326)      -1.714275 -2.176405 -1.980557   -0.946404 -1.739479   \n",
      "mbr-1(qa5901)      0.655881  0.715874  0.505680    0.568273  0.768134   \n",
      "mbr-1(tm1235)     -0.136022 -0.417128 -0.871320   -0.705887 -0.456997   \n",
      "ncs-4(tm4409)      0.422344 -0.170964 -1.415494   -1.273484 -0.445305   \n",
      "rme-8(b1023)      -2.367672 -1.958099 -1.249986   -1.982661 -2.047552   \n",
      "sipa-1(tm11702)   -1.185280 -1.488703 -1.210673   -0.385721 -0.987523   \n",
      "\n",
      "                   speed_OffFood  angularspeed_OffFood  bias_OffFood  \\\n",
      "Genotype                                                               \n",
      "cat-2(e1112)            0.546916              1.114518     -0.838736   \n",
      "catp-7(tm4438)         -0.347633             -0.987315     -0.443802   \n",
      "catp-7(tm8556)         -0.694318             -1.164572     -0.255302   \n",
      "cpr-4(ok3413)          -2.288677             -0.544758     -1.134086   \n",
      "cpr-5(ok2344)          -1.722517              0.554926      0.067946   \n",
      "cpr-6(tm12210)          0.133692             -0.490707      0.355962   \n",
      "cpr-8(ok2956)          -2.593366             -1.295817     -0.601526   \n",
      "djr-1.1(tm918)         -1.243906             -1.016907     -0.517251   \n",
      "djr-1.2(tm817)         -1.323304             -2.230496     -0.208253   \n",
      "djr-1.2(tm951)         -0.423827             -2.305555     -0.102276   \n",
      "exp-2(sa26ad1426)      -1.584262             -0.188203     -1.010221   \n",
      "kvs-5(tm6152)          -2.294630             -2.266041     -1.025439   \n",
      "lfe-2(sy326)           -0.796390             -0.344264     -0.368756   \n",
      "mbr-1(qa5901)          -0.508384             -0.222020      3.043478   \n",
      "mbr-1(tm1235)          -0.969319             -0.860055     -0.274077   \n",
      "ncs-4(tm4409)          -1.584253             -2.354038      1.578128   \n",
      "rme-8(b1023)           -2.932418              0.137756     -1.157340   \n",
      "sipa-1(tm11702)         0.150159             -0.034035     -0.007060   \n",
      "\n",
      "                   curve_OffFood  crab_OffFood  kink_OffFood  speed_OnFood  \\\n",
      "Genotype                                                                     \n",
      "cat-2(e1112)            0.166456      1.067971      1.080272      2.215465   \n",
      "catp-7(tm4438)         -1.116516     -1.119525     -0.774086     -2.111741   \n",
      "catp-7(tm8556)         -1.552498     -1.220904     -0.955623     -1.386794   \n",
      "cpr-4(ok3413)          -0.027803     -1.228046      0.346570     -1.337599   \n",
      "cpr-5(ok2344)           0.358080     -0.526782      0.589375     -1.157379   \n",
      "cpr-6(tm12210)         -1.154813     -0.462757     -0.978348     -0.882256   \n",
      "cpr-8(ok2956)          -1.609078     -2.380532     -0.638902     -1.290990   \n",
      "djr-1.1(tm918)         -1.712017     -1.240273     -1.353200     -1.896156   \n",
      "djr-1.2(tm817)         -2.593112     -2.367360     -1.943995     -1.299695   \n",
      "djr-1.2(tm951)         -3.302157     -2.300779     -2.633445     -1.273377   \n",
      "exp-2(sa26ad1426)       0.489520     -0.476516      0.897781     -0.663924   \n",
      "kvs-5(tm6152)          -1.788846     -2.520011     -0.512157     -1.849345   \n",
      "lfe-2(sy326)           -0.808342     -1.097942     -0.861550     -0.989386   \n",
      "mbr-1(qa5901)          -0.589957      0.128178      0.498000     -0.101740   \n",
      "mbr-1(tm1235)          -1.109931     -1.016340     -0.398775     -0.833225   \n",
      "ncs-4(tm4409)          -1.495518     -2.397673     -1.274375     -2.500461   \n",
      "rme-8(b1023)           -0.316211     -0.286710      0.660546     -0.742724   \n",
      "sipa-1(tm11702)        -1.160119     -0.466194     -1.145722     -0.707604   \n",
      "\n",
      "                   angularspeed_OnFood  bias_OnFood  curve_OnFood  \\\n",
      "Genotype                                                            \n",
      "cat-2(e1112)                  2.464597    -0.217851      0.356245   \n",
      "catp-7(tm4438)               -1.550851    -3.088151     -1.926329   \n",
      "catp-7(tm8556)               -1.047807    -2.579119     -1.738450   \n",
      "cpr-4(ok3413)                -0.338599    -1.989292     -0.486964   \n",
      "cpr-5(ok2344)                 0.256583    -1.003510      0.155415   \n",
      "cpr-6(tm12210)               -0.877820    -1.439533     -1.635374   \n",
      "cpr-8(ok2956)                -0.768438    -1.678321     -2.027561   \n",
      "djr-1.1(tm918)               -0.972593    -2.741348     -2.278806   \n",
      "djr-1.2(tm817)               -0.849011    -2.459251     -2.061732   \n",
      "djr-1.2(tm951)               -1.123365    -2.423486     -2.924011   \n",
      "exp-2(sa26ad1426)            -0.604628    -1.103385     -1.126920   \n",
      "kvs-5(tm6152)                -1.351786    -2.972082     -1.811643   \n",
      "lfe-2(sy326)                 -1.056703    -1.634797     -1.791308   \n",
      "mbr-1(qa5901)                 0.088967    -0.136333     -0.092694   \n",
      "mbr-1(tm1235)                -0.776078    -1.703166     -1.901984   \n",
      "ncs-4(tm4409)                -2.461343    -3.132195     -2.639443   \n",
      "rme-8(b1023)                  0.409682    -0.737354     -0.193109   \n",
      "sipa-1(tm11702)              -0.618126    -1.762949     -1.128940   \n",
      "\n",
      "                   crab_OnFood  kink_OnFood     speed  angularspeed      bias  \\\n",
      "Genotype                                                                        \n",
      "cat-2(e1112)          2.379071     0.676379  2.361218      2.253290 -0.038513   \n",
      "catp-7(tm4438)       -1.520286    -0.456483 -1.606105     -0.111199 -2.083041   \n",
      "catp-7(tm8556)       -0.785359     0.169731 -0.750850      1.045051 -2.270627   \n",
      "cpr-4(ok3413)        -0.827547     0.849559  0.757285      0.594759 -1.412834   \n",
      "cpr-5(ok2344)        -0.399041     1.874805  0.246825     -0.263653 -0.955003   \n",
      "cpr-6(tm12210)       -0.949300    -0.627282 -0.973961     -0.033148 -0.681195   \n",
      "cpr-8(ok2956)        -1.228434    -1.680533  0.950004      1.581193 -2.939903   \n",
      "djr-1.1(tm918)       -1.510447    -1.076426 -0.659650      0.566912 -1.772556   \n",
      "djr-1.2(tm817)       -1.321236    -0.640465  0.229142      2.449009 -3.023141   \n",
      "djr-1.2(tm951)       -1.502895    -1.952969 -0.593877      1.999155 -1.723316   \n",
      "exp-2(sa26ad1426)    -0.622539    -0.447811  1.160572     -0.361509 -0.170153   \n",
      "kvs-5(tm6152)        -1.418570    -0.430729  0.809813      2.385453 -1.958561   \n",
      "lfe-2(sy326)         -1.272385    -1.557448  0.322768     -0.438950 -0.154177   \n",
      "mbr-1(qa5901)         0.160515     1.044209  0.747522     -0.030401 -1.131469   \n",
      "mbr-1(tm1235)        -0.470417    -0.839618  0.016608      0.186788 -1.191626   \n",
      "ncs-4(tm4409)        -2.328051    -1.212302 -0.555498      1.115358 -2.679445   \n",
      "rme-8(b1023)          0.220482     0.509047  1.799796      1.024195 -0.133093   \n",
      "sipa-1(tm11702)      -1.081530    -0.320834 -0.653360     -0.284971 -0.782024   \n",
      "\n",
      "                      curve      crab      kink  ADE_t_score  PDE_t_score  \\\n",
      "Genotype                                                                    \n",
      "cat-2(e1112)       0.529940  2.743054 -0.102462     0.437733     1.394333   \n",
      "catp-7(tm4438)    -1.865370  0.179013 -0.245509    -0.048013    -0.042891   \n",
      "catp-7(tm8556)    -0.331525  1.120352  1.083368    -0.048013    -0.042891   \n",
      "cpr-4(ok3413)      0.162013  1.211918  0.554172    -0.046641    -0.047581   \n",
      "cpr-5(ok2344)      0.261012  0.234585  1.005800    -0.048013    -0.047581   \n",
      "cpr-6(tm12210)    -0.491492 -0.304149  0.043912    -0.048013    -0.047581   \n",
      "cpr-8(ok2956)     -0.809390  2.160551 -0.159358    -0.048013    -0.047581   \n",
      "djr-1.1(tm918)    -0.442522  0.634137  0.794909    -0.041406    -0.039142   \n",
      "djr-1.2(tm817)     1.074093  2.388200  1.998252    -0.013097     0.062662   \n",
      "djr-1.2(tm951)     0.392082  1.773829  1.298944    -0.013097     0.062662   \n",
      "exp-2(sa26ad1426) -1.605087 -0.150671 -2.362860     0.010126     0.039603   \n",
      "kvs-5(tm6152)      1.417286  2.611581  1.639676    -0.023734    -0.047581   \n",
      "lfe-2(sy326)      -0.761287  0.547338 -0.860857    -0.048013    -0.047581   \n",
      "mbr-1(qa5901)      1.021725  0.102008 -0.153180    -0.048013    -0.047581   \n",
      "mbr-1(tm1235)     -1.615678  0.754540 -0.651407    -0.048013    -0.047581   \n",
      "ncs-4(tm4409)     -1.885763  1.421645  0.015942    -0.041913    -0.047581   \n",
      "rme-8(b1023)       0.554814  0.826985 -0.429158    -0.028701    -0.014931   \n",
      "sipa-1(tm11702)   -0.079374 -0.340355  0.550760     0.122083     0.036533   \n",
      "\n",
      "                   CEP_t_score  \n",
      "Genotype                        \n",
      "cat-2(e1112)          0.508222  \n",
      "catp-7(tm4438)       -0.044441  \n",
      "catp-7(tm8556)       -0.044441  \n",
      "cpr-4(ok3413)        -0.039947  \n",
      "cpr-5(ok2344)        -0.038098  \n",
      "cpr-6(tm12210)       -0.044820  \n",
      "cpr-8(ok2956)        -0.044820  \n",
      "djr-1.1(tm918)       -0.031166  \n",
      "djr-1.2(tm817)       -0.044820  \n",
      "djr-1.2(tm951)       -0.044820  \n",
      "exp-2(sa26ad1426)     0.216568  \n",
      "kvs-5(tm6152)         0.001258  \n",
      "lfe-2(sy326)         -0.026707  \n",
      "mbr-1(qa5901)        -0.044381  \n",
      "mbr-1(tm1235)        -0.044381  \n",
      "ncs-4(tm4409)        -0.041767  \n",
      "rme-8(b1023)         -0.030305  \n",
      "sipa-1(tm11702)       0.057759  \n"
     ]
    }
   ],
   "source": [
    "Phenotype_df = pd.read_csv('phenotype_heatmap_dataframe.csv')\n",
    "ExpressionData_DopaminergicNeurons_df = pd.read_csv('ExpressionData_DopaminergicNeurons_T.csv')\n",
    "\n",
    "# Step 1: Add an extra column with just the gene name of each genotype in dataframe 1\n",
    "Phenotype_df['Gene name'] = Phenotype_df['Genotype'].str.split('(').str[0]\n",
    "\n",
    "# Step 2: Merge the two dataframes by gene name\n",
    "MergedDopaminergicNeurons_df = pd.merge(Phenotype_df, ExpressionData_DopaminergicNeurons_df, on='Gene name')\n",
    "\n",
    "# Step 3: Remove the gene name column from the merged dataframe\n",
    "MergedDopaminergicNeurons_df = MergedDopaminergicNeurons_df.drop(columns=['Gene name'])\n",
    "\n",
    "# Step 4: Remove all rows (genotypes) with any empty data for any phenotype or expression level measure\n",
    "MergedDopaminergicNeurons_df = MergedDopaminergicNeurons_df.dropna()\n",
    "\n",
    "# Set genotype as index\n",
    "MergedDopaminergicNeurons_df.set_index('Genotype', inplace=True)\n",
    "\n",
    "# Save the merged DataFrame as a CSV file to a specific directory\n",
    "MergedDopaminergicNeurons_df.to_csv('C:\\\\Users\\\\chris\\\\Desktop\\\\Rankin_Lab\\\\valid_data\\\\MergedDopaminergicNeurons_df.csv', index=True)\n",
    "\n",
    "print(MergedDopaminergicNeurons_df)"
   ]
  },
  {
   "cell_type": "markdown",
   "id": "f9c8b52c",
   "metadata": {},
   "source": [
    "### 3.X - Use pd.DataFrame.merge to combine gene expression and phenotype dataframes for dopamine-receptor-expressing neurons"
   ]
  },
  {
   "cell_type": "code",
   "execution_count": null,
   "id": "b3f2d732",
   "metadata": {},
   "outputs": [],
   "source": []
  },
  {
   "cell_type": "markdown",
   "id": "192e4efa",
   "metadata": {},
   "source": [
    "### 3.X - Use Pandas xlookup equivalent to sort combined DataFrame by gene name"
   ]
  },
  {
   "cell_type": "code",
   "execution_count": null,
   "id": "2a116a1b",
   "metadata": {},
   "outputs": [],
   "source": []
  },
  {
   "cell_type": "markdown",
   "id": "28c2c58e",
   "metadata": {},
   "source": [
    "### 3.X - Delete rows for which there is not both gene expression and phenotype data"
   ]
  },
  {
   "cell_type": "code",
   "execution_count": null,
   "id": "1b79917b",
   "metadata": {},
   "outputs": [],
   "source": []
  },
  {
   "cell_type": "markdown",
   "id": "62393143",
   "metadata": {},
   "source": [
    "### 3.X - use StandardScaler to normalize the distribution of each column (phenotype measure or neuron cell type) to mean = 0 and SD = 1; this will standardize the data neatly before performing clustering"
   ]
  },
  {
   "cell_type": "code",
   "execution_count": null,
   "id": "646c5da8",
   "metadata": {},
   "outputs": [],
   "source": [
    "from sklearn.preprocessing import StandardScaler\n",
    "data = [[0, 0], [0, 0], [1, 1], [1, 1]]\n",
    "scaler = StandardScaler()\n",
    "print(scaler.fit(data))\n",
    "print(scaler.mean_)\n",
    "print(scaler.transform(data))\n",
    "print(scaler.transform([[2, 2]]))"
   ]
  }
 ],
 "metadata": {
  "kernelspec": {
   "display_name": "Python 3 (ipykernel)",
   "language": "python",
   "name": "python3"
  },
  "language_info": {
   "codemirror_mode": {
    "name": "ipython",
    "version": 3
   },
   "file_extension": ".py",
   "mimetype": "text/x-python",
   "name": "python",
   "nbconvert_exporter": "python",
   "pygments_lexer": "ipython3",
   "version": "3.10.9"
  }
 },
 "nbformat": 4,
 "nbformat_minor": 5
}
