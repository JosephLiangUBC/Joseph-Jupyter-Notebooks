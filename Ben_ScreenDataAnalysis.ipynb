{
 "cells": [
  {
   "cell_type": "markdown",
   "metadata": {},
   "source": [
    "# THIS NOTEBOOK NOW OBSOLETE, USE Ben_postcsv_completeOffFoodOnFoodExpt.ipynb"
   ]
  },
  {
   "cell_type": "code",
   "execution_count": null,
   "metadata": {},
   "outputs": [],
   "source": [
    "import pandas as pd #<- package used to import and organize data\n",
    "import numpy as np #<- package used to import and organize data\n",
    "import math\n",
    "import os #<- package used to work with system file paths\n",
    "import seaborn as sns #<- package used to plot graphs\n",
    "from matplotlib import pyplot as plt #<- another package used to plot graphs\n",
    "from itertools import cycle #<- package used to iterate down rows (used in step 5 to add tap column)\n",
    "import ipywidgets as widgets #<- widget tool to generate button and tab for graphs\n",
    "from IPython.display import display #<- displays widgets\n",
    "from tkinter import Tk, filedialog #<- Tkinter is a GUI package\n",
    "import pingouin as pg\n",
    "from pingouin import ttest\n",
    "from scipy.stats import ttest_ind\n",
    "print(\"done step 1\")"
   ]
  },
  {
   "cell_type": "markdown",
   "metadata": {},
   "source": [
    "# PD Data ONLY"
   ]
  },
  {
   "cell_type": "code",
   "execution_count": null,
   "metadata": {},
   "outputs": [],
   "source": [
    "os.chdir('/Volumes/JosephBSR/Ben_BSR_all')"
   ]
  },
  {
   "cell_type": "code",
   "execution_count": null,
   "metadata": {},
   "outputs": [],
   "source": [
    "# PD_tap=pd.read_csv('/Users/Joseph/Desktop/PD_Screen_TapHab/hab_output.csv')\n",
    "# PD_tap = PD_tap.iloc[: , 1:]\n",
    "PD_baseline = pd.read_csv('baseline_output.csv')\n",
    "PD_baseline = PD_baseline.iloc[: , 1:]\n",
    "PD_baseline = PD_baseline.drop(columns=[\"x\", \"y\"])\n",
    "PD_baseline[['Genotype', 'Treatment']] = PD_baseline['Strain'].str.split('_', 1, expand=True)\n",
    "# print(PD_tap)\n",
    "print(PD_baseline)"
   ]
  },
  {
   "cell_type": "code",
   "execution_count": null,
   "metadata": {
    "scrolled": true
   },
   "outputs": [],
   "source": [
    "PD_baseline_last100 = PD_baseline[((PD_baseline.time <= 420) & (PD_baseline.time >= 320))]\n",
    "PD_baseline_last100 = PD_baseline_last100.reset_index()\n",
    "print(PD_baseline_last100)"
   ]
  },
  {
   "cell_type": "code",
   "execution_count": null,
   "metadata": {},
   "outputs": [],
   "source": [
    "tt = ttest_ind(PD_baseline_last100[\"bias\"], PD_baseline_last100[PD_baseline_last100.Genotype == \"N2\"][\"bias\"], equal_var = False)\n",
    "print(tt)"
   ]
  },
  {
   "cell_type": "code",
   "execution_count": null,
   "metadata": {},
   "outputs": [],
   "source": [
    "list = PD_baseline_last100[\"Genotype\"].unique()\n",
    "print(list)"
   ]
  },
  {
   "cell_type": "code",
   "execution_count": null,
   "metadata": {},
   "outputs": [],
   "source": [
    "def TTest_New(DatasetList, Type, DF_ref, output):\n",
    "    for a in DatasetList:\n",
    "        Tstat = ttest_ind(DF_ref[DF_ref.Genotype == a][Type], DF_ref[DF_ref.Genotype == \"N2\"][Type],equal_var=False)[0]\n",
    "        row = [a, Tstat]\n",
    "        output.loc[len(output)] = row\n",
    "    print(output)"
   ]
  },
  {
   "cell_type": "code",
   "execution_count": null,
   "metadata": {},
   "outputs": [],
   "source": [
    "# # PD_baseline_instantspeed_T = pd.DataFrame(columns = [\"Genotype\", \"Instantaneous Speed\"])\n",
    "# # PD_baseline_intspeed_T = pd.DataFrame(columns = [\"Genotype\", \"Interval Speed\"])\n",
    "\n",
    "PD_baseline_length_T = pd.DataFrame(columns = [\"Genotype\", \"length\"])\n",
    "PD_baseline_midline_T = pd.DataFrame(columns = [\"Genotype\", \"midline\"])\n",
    "PD_baseline_width_T = pd.DataFrame(columns = [\"Genotype\", \"width\"])\n",
    "PD_baseline_morphwidth_T = pd.DataFrame(columns = [\"Genotype\", \"morphwidth\"])\n",
    "PD_baseline_area_T = pd.DataFrame(columns = [\"Genotype\", \"area\"])\n",
    "\n",
    "# # PD_baseline_aspectratio_T = pd.DataFrame(columns = [\"Genotype\", \"Aspect Ratio\"])\n",
    "\n",
    "# PD_baseline_speed_T = pd.DataFrame(columns = [\"Genotype\", \"speed\"])\n",
    "# PD_baseline_angularspeed_T = pd.DataFrame(columns = [\"Genotype\", \"angularspeed\"])\n",
    "# PD_baseline_bias_T = pd.DataFrame(columns = [\"Genotype\", \"bias\"])\n",
    "# PD_baseline_kink_T =  pd.DataFrame(columns = [\"Genotype\", \"kink\"])\n",
    "# PD_baseline_curve_T = pd.DataFrame(columns = [\"Genotype\", \"curve\"])\n",
    "# PD_baseline_crab_T = pd.DataFrame(columns = [\"Genotype\", \"crab\"])"
   ]
  },
  {
   "cell_type": "code",
   "execution_count": null,
   "metadata": {},
   "outputs": [],
   "source": [
    "# # TTest_New(PD_baseline_last100[\"Genotype\"].unique(), \"Instantaneous Speed\", PD_baseline_last100, PD_baseline_instantspeed_T)\n",
    "# # TTest_New(PD_baseline_last100[\"Genotype\"].unique(), \"Interval Speed\", PD_baseline_last100, PD_baseline_intspeed_T)\n",
    "\n",
    "TTest_New(PD_baseline_last100[\"Genotype\"].unique(), \"length\", PD_baseline_last100, PD_baseline_length_T)\n",
    "TTest_New(PD_baseline_last100[\"Genotype\"].unique(), \"midline\", PD_baseline_last100, PD_baseline_midline_T)\n",
    "TTest_New(PD_baseline_last100[\"Genotype\"].unique(), \"width\", PD_baseline_last100, PD_baseline_width_T)\n",
    "TTest_New(PD_baseline_last100[\"Genotype\"].unique(), \"morphwidth\", PD_baseline_last100, PD_baseline_morphwidth_T)\n",
    "TTest_New(PD_baseline_last100[\"Genotype\"].unique(), \"area\", PD_baseline_last100, PD_baseline_area_T)\n",
    "\n",
    "# # TTest_New(PD_baseline_last100[\"Genotype\"].unique(), \"Aspect Ratio\", PD_baseline_last100, PD_baseline_aspectratio_T)\n",
    "# TTest_New(PD_baseline_last100[\"Genotype\"].unique(), \"speed\", PD_baseline_last100, PD_baseline_speed_T)\n",
    "# TTest_New(PD_baseline_last100[\"Genotype\"].unique(), \"angularspeed\", PD_baseline_last100, PD_baseline_angularspeed_T)\n",
    "# TTest_New(PD_baseline_last100[\"Genotype\"].unique(), \"bias\", PD_baseline_last100, PD_baseline_bias_T)\n",
    "# TTest_New(PD_baseline_last100[\"Genotype\"].unique(), \"kink\", PD_baseline_last100, PD_baseline_kink_T)\n",
    "# TTest_New(PD_baseline_last100[\"Genotype\"].unique(), \"curve\", PD_baseline_last100, PD_baseline_curve_T)\n",
    "# TTest_New(PD_baseline_last100[\"Genotype\"].unique(), \"crab\", PD_baseline_last100, PD_baseline_crab_T)"
   ]
  },
  {
   "cell_type": "code",
   "execution_count": null,
   "metadata": {},
   "outputs": [],
   "source": [
    "print(PD_baseline_length_T.iloc[:,1])"
   ]
  },
  {
   "cell_type": "code",
   "execution_count": null,
   "metadata": {},
   "outputs": [],
   "source": [
    "# # PD_baseline_Tstats = PD_baseline_instantspeed_T\n",
    "\n",
    "PD_baseline_Tstats = PD_baseline_length_T\n",
    "PD_baseline_Tstats = PD_baseline_Tstats.join(PD_baseline_midline_T.iloc[:,1])\n",
    "PD_baseline_Tstats = PD_baseline_Tstats.join(PD_baseline_width_T.iloc[:,1])\n",
    "PD_baseline_Tstats = PD_baseline_Tstats.join(PD_baseline_morphwidth_T.iloc[:,1])\n",
    "PD_baseline_Tstats = PD_baseline_Tstats.join(PD_baseline_area_T.iloc[:,1])\n",
    "\n",
    "# # PD_baseline_Tstats = PD_baseline_speed_T\n",
    "# # PD_baseline_Tstats = PD_baseline_Tstats.join(PD_baseline_intspeed_T.iloc[:,1])\n",
    "\n",
    "# PD_baseline_Tstats = PD_baseline_Tstats.join(PD_baseline_speed_T.iloc[:,1])\n",
    "# PD_baseline_Tstats = PD_baseline_Tstats.join(PD_baseline_angularspeed_T.iloc[:,1])\n",
    "# PD_baseline_Tstats = PD_baseline_Tstats.join(PD_baseline_bias_T.iloc[:,1])\n",
    "# PD_baseline_Tstats = PD_baseline_Tstats.join(PD_baseline_kink_T.iloc[:,1])\n",
    "# PD_baseline_Tstats = PD_baseline_Tstats.join(PD_baseline_curve_T.iloc[:,1])\n",
    "# PD_baseline_Tstats = PD_baseline_Tstats.join(PD_baseline_crab_T.iloc[:,1])\n",
    "\n",
    "# # PD_baseline_Tstats = PD_baseline_Tstats.join(PD_baseline_width_T.iloc[:,1])\n",
    "# # PD_baseline_Tstats = PD_baseline_Tstats.join(PD_baseline_length_T.iloc[:,1])\n",
    "# # PD_baseline_Tstats = PD_baseline_Tstats.join(PD_baseline_area_T.iloc[:,1])\n",
    "# # PD_baseline_Tstats = PD_baseline_Tstats.join(PD_baseline_angularspeed_T.iloc[:,1])\n",
    "\n",
    "print(PD_baseline_Tstats)"
   ]
  },
  {
   "cell_type": "code",
   "execution_count": null,
   "metadata": {},
   "outputs": [],
   "source": [
    "PD_baseline_Tstats = PD_baseline_Tstats.set_index(\"Genotype\")\n",
    "print(PD_baseline_Tstats)"
   ]
  },
  {
   "cell_type": "code",
   "execution_count": null,
   "metadata": {},
   "outputs": [],
   "source": [
    "PD_baseline_Tstats_sort = PD_baseline_Tstats.sort_index()\n",
    "print(PD_baseline_Tstats_sort)"
   ]
  },
  {
   "cell_type": "code",
   "execution_count": null,
   "metadata": {},
   "outputs": [],
   "source": [
    "sns.set_context('notebook')\n",
    "plt.figure(figsize = (14,14))\n",
    "ax = sns.heatmap(data = PD_baseline_Tstats_sort, \n",
    "                 annot = False, \n",
    "                 linewidth = 0.5, \n",
    "                 square = True, \n",
    "                 cmap = \"vlag\", \n",
    "                 center = 0, \n",
    "                 vmax = 400,\n",
    "                 vmin = -400, \n",
    "                 xticklabels = 1,\n",
    "                 yticklabels = 1,\n",
    "                 cbar_kws={\"shrink\": .3})\n",
    "# plt.savefig(f'{StrainName}_Speed_{ISI}ISI.png_ByPlate', format='png', dpi=450)\n",
    "plt.show()"
   ]
  },
  {
   "cell_type": "markdown",
   "metadata": {},
   "source": [
    "# T stat analysis by gene"
   ]
  },
  {
   "cell_type": "code",
   "execution_count": null,
   "metadata": {},
   "outputs": [],
   "source": [
    "PD_gene_baseline_length_T = pd.DataFrame(columns = [\"Genotype\", \"length\"])\n",
    "PD_gene_baseline_midline_T = pd.DataFrame(columns = [\"Genotype\", \"midline\"])\n",
    "PD_gene_baseline_width_T = pd.DataFrame(columns = [\"Genotype\", \"width\"])\n",
    "PD_gene_baseline_morphwidth_T = pd.DataFrame(columns = [\"Genotype\", \"morphwidth\"])\n",
    "PD_gene_baseline_area_T = pd.DataFrame(columns = [\"Genotype\", \"area\"])\n",
    "\n",
    "print(PD_gene_baseline_midline_T)\n",
    "# # PD_baseline_aspectratio_T = pd.DataFrame(columns = [\"Genotype\", \"Aspect Ratio\"])\n",
    "\n",
    "# PD_gene_baseline_speed_T = pd.DataFrame(columns = [\"Genotype\", \"speed\"])\n",
    "# PD_gene_baseline_angularspeed_T = pd.DataFrame(columns = [\"Genotype\", \"angularspeed\"])\n",
    "# PD_gene_baseline_bias_T = pd.DataFrame(columns = [\"Genotype\", \"bias\"])\n",
    "# PD_gene_baseline_kink_T =  pd.DataFrame(columns = [\"Genotype\", \"kink\"])\n",
    "# PD_gene_baseline_curve_T = pd.DataFrame(columns = [\"Genotype\", \"curve\"])\n",
    "# PD_gene_baseline_crab_T = pd.DataFrame(columns = [\"Genotype\", \"crab\"])"
   ]
  },
  {
   "cell_type": "code",
   "execution_count": null,
   "metadata": {},
   "outputs": [],
   "source": [
    "# NEW, CREATED BY BEN\n",
    "PD_baseline_last100_OffFood = PD_baseline_last100[PD_baseline_last100[\"Treatment\"] == \"OffFood\"].dropna().add_suffix('_OffFood')\n",
    "PD_baseline_last100_OffFood = PD_baseline_last100_OffFood.rename(columns = {'Genotype_OffFood': 'Genotype'})\n",
    "\n",
    "PD_baseline_last100_OnFood = PD_baseline_last100[PD_baseline_last100[\"Treatment\"] == \"OnFood\"].dropna().add_suffix('_OnFood')\n",
    "PD_baseline_last100_OnFood = PD_baseline_last100_OnFood.rename(columns = {'Genotype_OnFood': 'Genotype'})\n",
    "\n",
    "# print(PD_baseline_last100_OffFood.head())\n",
    "# print(PD_baseline_last100_OnFood.columns)\n",
    "# print(PD_baseline_last100.shape)\n",
    "# print(PD_baseline_last100_OffFood.shape)\n",
    "# print(PD_baseline_last100_OnFood.shape)"
   ]
  },
  {
   "cell_type": "code",
   "execution_count": null,
   "metadata": {},
   "outputs": [],
   "source": [
    "# NEW, CREATED BY BEN\n",
    "PD_gene_baseline_speed_T_OffFood = pd.DataFrame(columns = [\"Genotype\", \"speed_OffFood\"])\n",
    "PD_gene_baseline_angularspeed_T_OffFood = pd.DataFrame(columns = [\"Genotype\", \"angularspeed_OffFood\"])\n",
    "PD_gene_baseline_bias_T_OffFood = pd.DataFrame(columns = [\"Genotype\", \"bias_OffFood\"])\n",
    "PD_gene_baseline_curve_T_OffFood = pd.DataFrame(columns = [\"Genotype\", \"curve_OffFood\"])\n",
    "PD_gene_baseline_crab_T_OffFood = pd.DataFrame(columns = [\"Genotype\", \"crab_OffFood\"])\n",
    "PD_gene_baseline_kink_T_OffFood = pd.DataFrame(columns = [\"Genotype\", \"kink_OffFood\"])\n",
    "\n",
    "PD_gene_baseline_speed_T_OnFood = pd.DataFrame(columns = [\"Genotype\", \"speed_OnFood\"])\n",
    "PD_gene_baseline_angularspeed_T_OnFood = pd.DataFrame(columns = [\"Genotype\", \"angularspeed_OnFood\"])\n",
    "PD_gene_baseline_bias_T_OnFood = pd.DataFrame(columns = [\"Genotype\", \"bias_OnFood\"])\n",
    "PD_gene_baseline_curve_T_OnFood = pd.DataFrame(columns = [\"Genotype\", \"curve_OnFood\"])\n",
    "PD_gene_baseline_crab_T_OnFood = pd.DataFrame(columns = [\"Genotype\", \"crab_OnFood\"])\n",
    "PD_gene_baseline_kink_T_OnFood = pd.DataFrame(columns = [\"Genotype\", \"kink_OnFood\"])"
   ]
  },
  {
   "cell_type": "code",
   "execution_count": null,
   "metadata": {},
   "outputs": [],
   "source": [
    "# PD_baseline_last100.to_csv('/Users/Joseph/Desktop/PD_Screen_TapHab/Baseline100Data.csv')\n",
    "PD_baseline_last100 = PD_baseline_last100.dropna()\n",
    "print(PD_baseline_last100)"
   ]
  },
  {
   "cell_type": "code",
   "execution_count": null,
   "metadata": {},
   "outputs": [],
   "source": [
    "# print(PD_baseline_last100.Genotype.unique())\n",
    "# print(PD_baseline_last100_OffFood.Genotype.unique())\n",
    "# print(PD_baseline_last100_OnFood.Genotype.unique())\n",
    "# print((PD_baseline_last100.Genotype.unique() == PD_baseline_last100_OffFood.Genotype.unique()) & \n",
    "#       (PD_baseline_last100.Genotype.unique()== PD_baseline_last100_OnFood.Genotype.unique()))\n",
    "\n",
    "type(PD_baseline_last100.Genotype.unique()[1])"
   ]
  },
  {
   "cell_type": "code",
   "execution_count": null,
   "metadata": {},
   "outputs": [],
   "source": [
    "# ttest = ttest_ind(PD_baseline_last100[PD_baseline_last100.Gene=='F53B2.5']['Instantaneous Speed'],\n",
    "#          PD_baseline_last100[PD_baseline_last100.Gene=='N2']['Instantaneous Speed'],\n",
    "#          equal_var=False)\n",
    "# ttest[0]"
   ]
  },
  {
   "cell_type": "code",
   "execution_count": null,
   "metadata": {},
   "outputs": [],
   "source": [
    "def TTest_Gene(DatasetList, Type, DF_ref, output):\n",
    "    for a in DatasetList:\n",
    "        Tstat = ttest_ind(DF_ref[DF_ref.Genotype == a][Type], DF_ref[DF_ref.Genotype == \"N2\"][Type], equal_var = False)[0]\n",
    "        row = [a, Tstat]\n",
    "        output.loc[len(output)] = row\n",
    "    print(output)"
   ]
  },
  {
   "cell_type": "code",
   "execution_count": null,
   "metadata": {},
   "outputs": [],
   "source": [
    "# TTest_Gene(PD_baseline_last100.Gene.unique(), 'Instantaneous Speed', PD_baseline_last100, PD_gene_baseline_instantspeed_T)"
   ]
  },
  {
   "cell_type": "code",
   "execution_count": null,
   "metadata": {},
   "outputs": [],
   "source": [
    "# PD_gene_baseline_instantspeed_T.to_csv('/Users/Joseph/Desktop/PD_Screen_TapHab/baselineinstantspeedgene.csv')\n",
    "# PD_baseline_last100.to_csv('/Users/Joseph/Desktop/PD_Screen_TapHab/Baseline100Data.csv')"
   ]
  },
  {
   "cell_type": "code",
   "execution_count": null,
   "metadata": {},
   "outputs": [],
   "source": [
    "# # TTest_New(PD_baseline_last100[\"Genotype\"].unique(), \"Instantaneous Speed\", PD_baseline_last100, PD_baseline_instantspeed_T)\n",
    "# # TTest_New(PD_baseline_last100[\"Genotype\"].unique(), \"Interval Speed\", PD_baseline_last100, PD_baseline_intspeed_T)\n",
    "\n",
    "TTest_Gene(PD_baseline_last100[\"Genotype\"].unique(), \"length\", PD_baseline_last100, PD_gene_baseline_length_T)\n",
    "TTest_Gene(PD_baseline_last100[\"Genotype\"].unique(), \"midline\", PD_baseline_last100, PD_gene_baseline_midline_T)\n",
    "TTest_Gene(PD_baseline_last100[\"Genotype\"].unique(), \"width\", PD_baseline_last100, PD_gene_baseline_width_T)\n",
    "TTest_Gene(PD_baseline_last100[\"Genotype\"].unique(), \"morphwidth\", PD_baseline_last100, PD_gene_baseline_morphwidth_T)\n",
    "TTest_Gene(PD_baseline_last100[\"Genotype\"].unique(), \"area\", PD_baseline_last100, PD_gene_baseline_area_T)\n",
    "\n",
    "# # TTest_New(PD_baseline_last100[\"Genotype\"].unique(), \"Aspect Ratio\", PD_baseline_last100, PD_baseline_aspectratio_T)\n",
    "# TTest_Gene(PD_baseline_last100[\"Genotype\"].unique(), \"speed\", PD_baseline_last100, PD_gene_baseline_speed_T)\n",
    "# TTest_Gene(PD_baseline_last100[\"Genotype\"].unique(), \"angularspeed\", PD_baseline_last100, PD_gene_baseline_angularspeed_T)\n",
    "# TTest_Gene(PD_baseline_last100[\"Genotype\"].unique(), \"bias\", PD_baseline_last100, PD_gene_baseline_bias_T)\n",
    "# TTest_Gene(PD_baseline_last100[\"Genotype\"].unique(), \"kink\", PD_baseline_last100, PD_gene_baseline_kink_T)\n",
    "# TTest_Gene(PD_baseline_last100[\"Genotype\"].unique(), \"curve\", PD_baseline_last100, PD_gene_baseline_curve_T)\n",
    "# TTest_Gene(PD_baseline_last100[\"Genotype\"].unique(), \"crab\", PD_baseline_last100, PD_gene_baseline_crab_T)"
   ]
  },
  {
   "cell_type": "code",
   "execution_count": null,
   "metadata": {},
   "outputs": [],
   "source": [
    "# NEW, CREATED BY BEN\n",
    "\n",
    "TTest_Gene(PD_baseline_last100[\"Genotype\"].unique(), \"speed_OffFood\",\n",
    "           PD_baseline_last100_OffFood, PD_gene_baseline_speed_T_OffFood)\n",
    "TTest_Gene(PD_baseline_last100[\"Genotype\"].unique(), \"angularspeed_OffFood\",\n",
    "           PD_baseline_last100_OffFood, PD_gene_baseline_angularspeed_T_OffFood)\n",
    "TTest_Gene(PD_baseline_last100[\"Genotype\"].unique(), \"bias_OffFood\",\n",
    "           PD_baseline_last100_OffFood, PD_gene_baseline_bias_T_OffFood)\n",
    "TTest_Gene(PD_baseline_last100[\"Genotype\"].unique(), \"curve_OffFood\",\n",
    "           PD_baseline_last100_OffFood, PD_gene_baseline_curve_T_OffFood)\n",
    "TTest_Gene(PD_baseline_last100[\"Genotype\"].unique(), \"crab_OffFood\",\n",
    "           PD_baseline_last100_OffFood, PD_gene_baseline_crab_T_OffFood)\n",
    "TTest_Gene(PD_baseline_last100[\"Genotype\"].unique(), \"kink_OffFood\",\n",
    "           PD_baseline_last100_OffFood, PD_gene_baseline_kink_T_OffFood)\n",
    "\n",
    "TTest_Gene(PD_baseline_last100[\"Genotype\"].unique(), \"speed_OnFood\",\n",
    "           PD_baseline_last100_OnFood, PD_gene_baseline_speed_T_OnFood)\n",
    "TTest_Gene(PD_baseline_last100[\"Genotype\"].unique(), \"angularspeed_OnFood\",\n",
    "           PD_baseline_last100_OnFood, PD_gene_baseline_angularspeed_T_OnFood)\n",
    "TTest_Gene(PD_baseline_last100[\"Genotype\"].unique(), \"bias_OnFood\",\n",
    "           PD_baseline_last100_OnFood, PD_gene_baseline_bias_T_OnFood)\n",
    "TTest_Gene(PD_baseline_last100[\"Genotype\"].unique(), \"curve_OnFood\",\n",
    "           PD_baseline_last100_OnFood, PD_gene_baseline_curve_T_OnFood)\n",
    "TTest_Gene(PD_baseline_last100[\"Genotype\"].unique(), \"crab_OnFood\",\n",
    "           PD_baseline_last100_OnFood, PD_gene_baseline_crab_T_OnFood)\n",
    "TTest_Gene(PD_baseline_last100[\"Genotype\"].unique(), \"kink_OnFood\",\n",
    "           PD_baseline_last100_OnFood, PD_gene_baseline_kink_T_OnFood)"
   ]
  },
  {
   "cell_type": "code",
   "execution_count": null,
   "metadata": {},
   "outputs": [],
   "source": [
    "PD_gene_baseline_Tstats = PD_gene_baseline_length_T\n",
    "PD_gene_baseline_Tstats = PD_gene_baseline_Tstats.join(PD_gene_baseline_midline_T.iloc[:,1])\n",
    "PD_gene_baseline_Tstats = PD_gene_baseline_Tstats.join(PD_gene_baseline_width_T.iloc[:,1])\n",
    "PD_gene_baseline_Tstats = PD_gene_baseline_Tstats.join(PD_gene_baseline_morphwidth_T.iloc[:,1])\n",
    "PD_gene_baseline_Tstats = PD_gene_baseline_Tstats.join(PD_gene_baseline_area_T.iloc[:,1])\n",
    "\n",
    "# # PD_baseline_Tstats = PD_baseline_speed_T\n",
    "# # PD_baseline_Tstats = PD_baseline_Tstats.join(PD_baseline_intspeed_T.iloc[:,1])\n",
    "\n",
    "# PD_gene_baseline_Tstats = PD_gene_baseline_Tstats.join(PD_gene_baseline_speed_T.iloc[:,1])\n",
    "# PD_gene_baseline_Tstats = PD_gene_baseline_Tstats.join(PD_gene_baseline_angularspeed_T.iloc[:,1])\n",
    "# PD_gene_baseline_Tstats = PD_gene_baseline_Tstats.join(PD_gene_baseline_bias_T.iloc[:,1])\n",
    "# PD_gene_baseline_Tstats = PD_gene_baseline_Tstats.join(PD_gene_baseline_kink_T.iloc[:,1])\n",
    "# PD_gene_baseline_Tstats = PD_gene_baseline_Tstats.join(PD_gene_baseline_curve_T.iloc[:,1])\n",
    "# PD_gene_baseline_Tstats = PD_gene_baseline_Tstats.join(PD_gene_baseline_crab_T.iloc[:,1])\n",
    "# PD_gene_baseline_Tstats = PD_gene_baseline_Tstats.set_index(\"Genotype\")\n",
    "# print(PD_gene_baseline_Tstats)\n",
    "\n",
    "# # PD_gene_habituation_Tstats=PD_gene_recovery_dura\n",
    "# # PD_gene_habituation_Tstats=PD_gene_habituation_Tstats.join(PD_gene_recovery_prob.iloc[:,1])\n",
    "# # PD_gene_habituation_Tstats=PD_gene_habituation_Tstats.join(PD_gene_recovery_speed.iloc[:,1])\n",
    "# # PD_gene_habituation_Tstats=PD_gene_habituation_Tstats.join(PD_gene_init_dura.iloc[:,1])\n",
    "# # PD_gene_habituation_Tstats=PD_gene_habituation_Tstats.join(PD_gene_init_prob.iloc[:,1])\n",
    "# # PD_gene_habituation_Tstats=PD_gene_habituation_Tstats.join(PD_gene_init_speed.iloc[:,1])\n",
    "# # PD_gene_habituation_Tstats=PD_gene_habituation_Tstats.join(PD_gene_final_dura.iloc[:,1])\n",
    "# # PD_gene_habituation_Tstats=PD_gene_habituation_Tstats.join(PD_gene_final_prob.iloc[:,1])\n",
    "# # PD_gene_habituation_Tstats=PD_gene_habituation_Tstats.join(PD_gene_final_speed.iloc[:,1])\n",
    "# # PD_gene_habituation_Tstats=PD_gene_habituation_Tstats.join(PD_gene_hab_dura.iloc[:,1])\n",
    "# # PD_gene_habituation_Tstats=PD_gene_habituation_Tstats.join(PD_gene_hab_prob.iloc[:,1])\n",
    "# # PD_gene_habituation_Tstats=PD_gene_habituation_Tstats.join(PD_gene_hab_speed.iloc[:,1])\n",
    "# # PD_gene_habituation_Tstats=PD_gene_habituation_Tstats.set_index(\"dataset\").dropna()                                        \n",
    "# # print(PD_gene_habituation_Tstats)"
   ]
  },
  {
   "cell_type": "code",
   "execution_count": null,
   "metadata": {},
   "outputs": [],
   "source": [
    "# PD_gene_baseline_speed_T_OffFood\n",
    "# PD_gene_baseline_speed_T_OffFood.iloc[:,1]"
   ]
  },
  {
   "cell_type": "code",
   "execution_count": null,
   "metadata": {},
   "outputs": [],
   "source": [
    "# NEW, CREATED BY BEN\n",
    "\n",
    "PD_gene_baseline_Tstats = PD_gene_baseline_Tstats.join(PD_gene_baseline_speed_T_OffFood.iloc[:,1])\n",
    "PD_gene_baseline_Tstats = PD_gene_baseline_Tstats.join(PD_gene_baseline_angularspeed_T_OffFood.iloc[:,1])\n",
    "PD_gene_baseline_Tstats = PD_gene_baseline_Tstats.join(PD_gene_baseline_bias_T_OffFood.iloc[:,1])\n",
    "PD_gene_baseline_Tstats = PD_gene_baseline_Tstats.join(PD_gene_baseline_curve_T_OffFood.iloc[:,1])\n",
    "PD_gene_baseline_Tstats = PD_gene_baseline_Tstats.join(PD_gene_baseline_crab_T_OffFood.iloc[:,1])\n",
    "PD_gene_baseline_Tstats = PD_gene_baseline_Tstats.join(PD_gene_baseline_kink_T_OffFood.iloc[:,1])\n",
    "\n",
    "PD_gene_baseline_Tstats = PD_gene_baseline_Tstats.join(PD_gene_baseline_speed_T_OnFood.iloc[:,1])\n",
    "PD_gene_baseline_Tstats = PD_gene_baseline_Tstats.join(PD_gene_baseline_angularspeed_T_OnFood.iloc[:,1])\n",
    "PD_gene_baseline_Tstats = PD_gene_baseline_Tstats.join(PD_gene_baseline_bias_T_OnFood.iloc[:,1])\n",
    "PD_gene_baseline_Tstats = PD_gene_baseline_Tstats.join(PD_gene_baseline_curve_T_OnFood.iloc[:,1])\n",
    "PD_gene_baseline_Tstats = PD_gene_baseline_Tstats.join(PD_gene_baseline_crab_T_OnFood.iloc[:,1])\n",
    "PD_gene_baseline_Tstats = PD_gene_baseline_Tstats.join(PD_gene_baseline_kink_T_OnFood.iloc[:,1])\n",
    "\n",
    "PD_gene_baseline_Tstats = PD_gene_baseline_Tstats.set_index(\"Genotype\")\n",
    "print(PD_gene_baseline_Tstats)"
   ]
  },
  {
   "cell_type": "code",
   "execution_count": null,
   "metadata": {},
   "outputs": [],
   "source": [
    "# PD_gene_baseline_Tstats_scaled = PD_gene_baseline_Tstats/40\n",
    "# print(PD_gene_baseline_Tstats_scaled)"
   ]
  },
  {
   "cell_type": "code",
   "execution_count": null,
   "metadata": {},
   "outputs": [],
   "source": [
    "# # # FROM BEFORE\n",
    "# # PD_gene_baseline_Tstats_scaled_sort = PD_gene_baseline_Tstats_scaled.sort_index()\n",
    "# # print(PD_gene_baseline_Tstats_scaled_sort)"
   ]
  },
  {
   "cell_type": "code",
   "execution_count": null,
   "metadata": {},
   "outputs": [],
   "source": [
    "# PD_gene_Tstats_combined = pd.merge(PD_gene_baseline_Tstats, PD_gene_habituation_Tstats, on =['dataset'], how ='left')\n",
    "# PD_gene_baseline_Tstats = PD_gene_baseline_Tstats.dropna().sort_index().drop(index=\"N2\")\n",
    "PD_gene_baseline_Tstats = PD_gene_baseline_Tstats.dropna().sort_index()\n",
    "# PD_gene_baseline_Tstats = PD_gene_baseline_Tstats.dropna().sort_index()\n",
    "PD_gene_baseline_Tstats_normalize = (PD_gene_baseline_Tstats - PD_gene_baseline_Tstats.mean())/PD_gene_baseline_Tstats.std()\n",
    "PD_gene_baseline_Tstats_normalize_2 = PD_gene_baseline_Tstats_normalize - PD_gene_baseline_Tstats_normalize[PD_gene_baseline_Tstats_normalize.index == 'N2'].squeeze()\n",
    "PD_gene_baseline_Tstats_normalize_2 = PD_gene_baseline_Tstats_normalize_2.drop(index = 'N2')\n",
    "# PD_gene_Tstats_combined=PD_gene_Tstats_combined.set_index(\"dataset\")\n",
    "# PD_gene_Tstats_combined=PD_gene_Tstats_combined.sort_index()\n",
    "# PD_gene_Tstats_combined=PD_gene_Tstats_combined.drop(index=\"N2\")\n",
    "\n",
    "print(PD_gene_baseline_Tstats_normalize)\n",
    "print(PD_gene_baseline_Tstats_normalize_2)\n",
    "PD_gene_baseline_Tstats_normalize_2.to_csv('NormalizedtoN2_baseline_Tstats.csv')"
   ]
  },
  {
   "cell_type": "code",
   "execution_count": null,
   "metadata": {},
   "outputs": [],
   "source": [
    "# Gene_Orthology=pd.read_csv('/Users/Joseph/Desktop/PD_Screen_TapHab/Gene_Orthology.csv')\n",
    "# Gene_Orthology=Gene_Orthology.rename(columns={\"Gene\":\"Orthology\", \"Worm Gene\":\"dataset\"})\n",
    "# print(Gene_Orthology)"
   ]
  },
  {
   "cell_type": "code",
   "execution_count": null,
   "metadata": {},
   "outputs": [],
   "source": [
    "# PD_gene_Tstats_combined_normalize_joined=pd.merge(PD_gene_Tstats_combined_normalize,\n",
    "#                                                  Gene_Orthology,\n",
    "#                                                  on='dataset',\n",
    "#                                                  how='inner')\n",
    "\n",
    "# print(PD_gene_Tstats_combined_normalize_joined)"
   ]
  },
  {
   "cell_type": "code",
   "execution_count": null,
   "metadata": {},
   "outputs": [],
   "source": [
    "# # PD_gene_Tstats_combined_normalize_heatmap=PD_gene_Tstats_combined_normalize_joined.set_index(\"Orthology\").sort_index()\n",
    "# # PD_gene_Tstats_combined_normalize_heatmap=PD_gene_Tstats_combined_normalize_heatmap.drop(columns=['dataset','Unnamed: 0','Human Gene'])\n",
    "# # print(PD_gene_Tstats_combined_normalize_heatmap)"
   ]
  },
  {
   "cell_type": "code",
   "execution_count": null,
   "metadata": {},
   "outputs": [],
   "source": [
    "sns.set_context('notebook')\n",
    "plt.figure(figsize=(20,14))\n",
    "plt.rc('xtick', labelsize=16)\n",
    "plt.rc('ytick', labelsize=16) \n",
    "ax = sns.heatmap(data = PD_gene_baseline_Tstats_normalize, \n",
    "                 annot = False, \n",
    "                 linewidth = 0.5, \n",
    "                 square = True, \n",
    "                 cmap = \"vlag\", \n",
    "                 center = 0, \n",
    "                 vmax = 3,\n",
    "                 vmin = -3, \n",
    "                 # xticklabels = 1,\n",
    "                 xticklabels = ['Length', 'Midline', 'Width', 'Morphwidth', 'Area',\n",
    "                                'Speed (Off Food)', 'Angular Speed (Off Food)', 'Bias (Off Food)',\n",
    "                                'Curve (Off Food)', 'Crab (Off Food)', 'Kink (Off Food)',\n",
    "                                'Speed (On Food)', 'Angular Speed (On Food)', 'Bias (On Food)',\n",
    "                                'Curve (On Food)', 'Crab (On Food)', 'Kink (On Food)'],\n",
    "                 yticklabels = 1,\n",
    "                 cbar_kws = {\"shrink\": .5, \"label\": \"Normalized T-score\"})\n",
    "ax.set_ylabel('Genotype', fontsize = 24)\n",
    "# ax.set_xlabel('Morphological Phenotype', fontsize = 24)\n",
    "# ax.set_title('Morphology Heatmap', fontsize = 24)\n",
    "ax.set_xlabel('Phenotype', fontsize = 24)\n",
    "ax.set_title('Phenotype Heatmap', fontsize = 24)\n",
    "plt.savefig('Tstat_GENE_normalized_square.jpg', format = 'jpg', dpi = 450, bbox_inches = \"tight\")\n",
    "plt.show()"
   ]
  },
  {
   "cell_type": "code",
   "execution_count": null,
   "metadata": {},
   "outputs": [],
   "source": [
    "# PD_gene_Tstats_melted=PD_gene_Tstats_combined_normalize.reset_index()\n",
    "# print(PD_gene_Tstats_melted)\n",
    "# PD_gene_Tstats_melted_gene=pd.melt(PD_gene_Tstats_melted, id_vars=['dataset'],\n",
    "#                                    var_name='Metric',\n",
    "#                                    value_name='Normalized T_score')\n",
    "# PD_gene_Tstats_melted_gene_sorted=PD_gene_Tstats_melted_gene.sort_values(by=['Normalized T_score'])\n",
    "# print(PD_gene_Tstats_melted_gene)\n",
    "# print(PD_gene_Tstats_melted_gene_sorted)\n",
    "# # PD_gene_Tstats_melted_metric=pd.melt(PD_gene_Tstats_melted_gene, id_vars=['dataset'],\n",
    "# #                              value_name='metric')\n"
   ]
  },
  {
   "cell_type": "code",
   "execution_count": null,
   "metadata": {},
   "outputs": [],
   "source": [
    "# metric_palette=[\"k\",\"k\",\"k\",\"k\",\"k\",\"k\",\"k\",\"k\",\"k\",\"k\",\n",
    "#                 \"darkgray\",\"darkgray\",\"darkgray\",\"darkgray\",\n",
    "#                 \"darkgray\",\"darkgray\",\"darkgray\",\"darkgray\",\n",
    "#                 \"darkgray\",\"darkgray\",\"darkgray\",\"darkgray\"]"
   ]
  },
  {
   "cell_type": "code",
   "execution_count": null,
   "metadata": {},
   "outputs": [],
   "source": [
    "# PD_gene_Tstats_combined_normalize_orthology_melted=PD_gene_Tstats_combined_normalize_heatmap.reset_index()\n",
    "# PD_gene_Tstats_combined_normalize_orthology_melted=pd.melt(PD_gene_Tstats_combined_normalize_orthology_melted, id_vars=['Orthology'],\n",
    "#                                    var_name='Metric',\n",
    "#                                    value_name='Normalized T_score')\n",
    "# PD_gene_Tstats_orthology_melted_gene_sorted=PD_gene_Tstats_combined_normalize_orthology_melted.sort_values(by=['Normalized T_score'])\n",
    "# # print(PD_gene_Tstats_melted_gene)\n",
    "# print(PD_gene_Tstats_orthology_melted_gene_sorted)\n",
    "# # PD_gene_Tstats_melted_metric=pd.melt(PD_gene_Tstats_melted_gene, id_vars=['dataset'],\n",
    "# #                              value_name='metric')\n",
    "\n"
   ]
  },
  {
   "cell_type": "code",
   "execution_count": null,
   "metadata": {},
   "outputs": [],
   "source": [
    "# print(PD_gene_Tstats_melted_gene.dataset.unique())\n",
    "# PD_gene_Tstats_combined_normalize_orthology=PD_gene_Tstats_combined_normalize_heatmap.reset_index()\n",
    "# print(PD_gene_Tstats_combined_normalize_orthology.Orthology.unique())"
   ]
  },
  {
   "cell_type": "code",
   "execution_count": null,
   "metadata": {},
   "outputs": [],
   "source": [
    "# # sns.barplot(data=PD_gene_Tstats_melted_gene[PD_gene_Tstats_melted_gene.dataset==\"F53B2.5\"], x=\"Metric\", y=\"T_score\")\n",
    "# # plt.xticks(rotation=90)\n",
    "\n",
    "# sns.set_context('notebook')\n",
    "# # # plt.figure(figsize=(14,14))\n",
    "# # ax = sns.barplot(data = PD_gene_Tstats_melted_gene[PD_gene_Tstats_melted_gene.dataset==\"F53B2.5\"], \n",
    "# #                 x=\"Metric\",\n",
    "# #                 y=\"T_score\",\n",
    "# #                 palette=metric_palette)\n",
    "# # plt.xticks(rotation=90)\n",
    "# # # plt.savefig('/Users/Joseph/Desktop/PD_Screen_TapHab/Tstat_GENE.png', format='png', dpi=450, bbox_inches = \"tight\")\n",
    "# # # '/Users/Joseph/Desktop/PD_Screen_TapHab/Baseline100Data.csv'\n",
    "# # plt.show()\n",
    "\n",
    "# for x in PD_gene_Tstats_combined_normalize_orthology_melted.Orthology.unique():\n",
    "#     plt.figure()\n",
    "#     ax = sns.barplot(data = PD_gene_Tstats_combined_normalize_orthology_melted[PD_gene_Tstats_combined_normalize_orthology_melted.Orthology==f\"{x}\"], \n",
    "#                 x=\"Metric\",\n",
    "#                 y=\"Normalized T_score\",\n",
    "#                 palette=metric_palette).set_title(f\"{x}\")\n",
    "#     plt.ylim(-3,3)\n",
    "#     plt.xticks(rotation=90)\n",
    "#     plt.savefig(f'/Users/Joseph/Desktop/PD_Screen_TapHab/Gene_Metrics/{x}_Metrics.png', format='png', dpi=450, bbox_inches = \"tight\")\n",
    "#     plt.show()\n",
    "# print(\"done\")"
   ]
  },
  {
   "cell_type": "code",
   "execution_count": null,
   "metadata": {},
   "outputs": [],
   "source": [
    "# # sns.barplot(data=PD_gene_Tstats_melted_gene_sorted[PD_gene_Tstats_melted_gene_sorted.Metric==\"Instantaneous Speed\"],\n",
    "# #             x=\"dataset\", y=\"T_score\")\n",
    "# # plt.xticks(rotation=90)\n",
    "\n",
    "# for x in PD_gene_Tstats_melted_gene_sorted.Metric.unique():\n",
    "#     plt.figure()\n",
    "#     ax = sns.barplot(data = PD_gene_Tstats_melted_gene_sorted[PD_gene_Tstats_melted_gene_sorted.Metric==f\"{x}\"], \n",
    "#                 x=\"dataset\",\n",
    "#                 y=\"Normalized T_score\",\n",
    "#                 palette=[\"dimgray\"]).set_title(f\"{x}\")\n",
    "#     plt.xticks(rotation=90)\n",
    "#     plt.ylim(-3,3)\n",
    "#     plt.savefig(f'/Users/Joseph/Desktop/PD_Screen_TapHab/Metric_Scores/{x}_Metrics.png', format='png', dpi=450, bbox_inches = \"tight\")\n",
    "#     plt.show()\n",
    "# print(\"done\")"
   ]
  },
  {
   "cell_type": "code",
   "execution_count": null,
   "metadata": {},
   "outputs": [],
   "source": [
    "# # print(PD_recov_taps)\n",
    "# # print(PD_habit_levels)\n",
    "# # print(PD_baseline_last100)"
   ]
  }
 ],
 "metadata": {
  "kernelspec": {
   "display_name": "Python 3",
   "language": "python",
   "name": "python3"
  },
  "language_info": {
   "codemirror_mode": {
    "name": "ipython",
    "version": 3
   },
   "file_extension": ".py",
   "mimetype": "text/x-python",
   "name": "python",
   "nbconvert_exporter": "python",
   "pygments_lexer": "ipython3",
   "version": "3.9.12"
  }
 },
 "nbformat": 4,
 "nbformat_minor": 4
}
