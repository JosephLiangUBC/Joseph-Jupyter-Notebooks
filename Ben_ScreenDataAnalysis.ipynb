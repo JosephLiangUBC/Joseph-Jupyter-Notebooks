{
 "cells": [
  {
   "cell_type": "code",
   "execution_count": 1,
   "metadata": {},
   "outputs": [
    {
     "name": "stdout",
     "output_type": "stream",
     "text": [
      "done step 1\n"
     ]
    }
   ],
   "source": [
    "import pandas as pd #<- package used to import and organize data\n",
    "import numpy as np #<- package used to import and organize data\n",
    "import math\n",
    "import os #<- package used to work with system file paths\n",
    "import seaborn as sns #<- package used to plot graphs\n",
    "from matplotlib import pyplot as plt #<- another package used to plot graphs\n",
    "from itertools import cycle #<- package used to iterate down rows (used in step 5 to add tap column)\n",
    "import ipywidgets as widgets #<- widget tool to generate button and tab for graphs\n",
    "from IPython.display import display #<- displays widgets\n",
    "from tkinter import Tk, filedialog #<- Tkinter is a GUI package\n",
    "import pingouin as pg\n",
    "from pingouin import ttest\n",
    "from scipy.stats import ttest_ind\n",
    "print(\"done step 1\")"
   ]
  },
  {
   "cell_type": "markdown",
   "metadata": {},
   "source": [
    "# PD Data ONLY"
   ]
  },
  {
   "cell_type": "code",
   "execution_count": 2,
   "metadata": {},
   "outputs": [
    {
     "name": "stderr",
     "output_type": "stream",
     "text": [
      "/opt/miniconda3/lib/python3.9/site-packages/outdated/utils.py:14: OutdatedPackageWarning: The package pingouin is out of date. Your version is 0.5.2, the latest is 0.5.3.\n",
      "Set the environment variable OUTDATED_IGNORE=1 to disable these warnings.\n",
      "  return warn(\n",
      "/opt/miniconda3/lib/python3.9/site-packages/outdated/utils.py:14: OutdatedPackageWarning: The package outdated is out of date. Your version is 0.2.1, the latest is 0.2.2.\n",
      "Set the environment variable OUTDATED_IGNORE=1 to disable these warnings.\n",
      "  return warn(\n"
     ]
    }
   ],
   "source": [
    "os.chdir('/Volumes/JosephBSR/Ben_BSR_all')"
   ]
  },
  {
   "cell_type": "code",
   "execution_count": 3,
   "metadata": {},
   "outputs": [
    {
     "name": "stderr",
     "output_type": "stream",
     "text": [
      "<ipython-input-3-3ae5d874cfcc>:6: FutureWarning: In a future version of pandas all arguments of StringMethods.split except for the argument 'pat' will be keyword-only.\n",
      "  PD_baseline[['Genotype', 'Treatment']] = PD_baseline['Strain'].str.split('_', 1, expand=True)\n"
     ]
    },
    {
     "name": "stdout",
     "output_type": "stream",
     "text": [
      "         time_bin  worm     time     speed  angularspeed  pathlength   kink  \\\n",
      "0             4.0   166    3.959  0.187700        9.7000     0.02400  49.30   \n",
      "1             4.0   242    3.715  0.214500       24.7500     0.06700  74.44   \n",
      "2             4.0   243    3.803  0.303000       17.7500     0.06300  48.25   \n",
      "3             4.0   370    3.785  0.227900       32.5600     0.05680  19.78   \n",
      "4             4.0   462    3.863  0.237500        1.2000     0.04565  44.22   \n",
      "...           ...   ...      ...       ...           ...         ...    ...   \n",
      "1442153     420.0   102  419.500  0.017470        1.9620     3.87500  43.12   \n",
      "1442154     420.0   105  419.500  0.014080        0.7153    17.27000  20.16   \n",
      "1442155     420.0   106  419.500  0.007717        0.5615    28.58000  40.97   \n",
      "1442156     420.0   107  419.500  0.030330        4.4920     4.98400  35.88   \n",
      "1442157     420.0   108  419.500  0.022920        3.0080     7.01600  44.66   \n",
      "\n",
      "           bias  curve  dir      crab  length  midline   width  morphwidth  \\\n",
      "0        1.0000  33.80  0.0  0.004200  0.9326   1.0550  0.2241     0.16750   \n",
      "1        1.0000  33.16  0.0  0.045530  0.8833   1.0830  0.2542     0.10180   \n",
      "2        1.0000  31.10  0.0  0.037100  0.8670   1.0750  0.2340     0.08795   \n",
      "3        1.0000  33.97  0.0  0.039030  0.8140   0.9730  0.2203     0.23440   \n",
      "4        1.0000  38.34  0.0  0.008570  0.8057   1.0110  0.1313     0.13390   \n",
      "...         ...    ...  ...       ...     ...      ...     ...         ...   \n",
      "1442153  0.0000  28.66  0.0  0.008194  0.7110   0.8570  0.1813     0.09520   \n",
      "1442154  0.0000  18.53  0.0  0.006040  0.7886   0.8150  0.1527     0.06690   \n",
      "1442155  0.0000  23.81  0.0  0.004616  0.6830   0.9116  0.1632     0.11957   \n",
      "1442156 -0.5386  32.00  0.0  0.008040  0.5930   0.8677  0.1996     0.10060   \n",
      "1442157  0.0000  12.74  0.0  0.005547  0.6626   0.7250  0.1327     0.09250   \n",
      "\n",
      "            area                Strain       Genotype Treatment  \n",
      "0        0.14870            N2_OffFood             N2   OffFood  \n",
      "1        0.11460            N2_OffFood             N2   OffFood  \n",
      "2        0.10974            N2_OffFood             N2   OffFood  \n",
      "3        0.20390            N2_OffFood             N2   OffFood  \n",
      "4        0.11664            N2_OffFood             N2   OffFood  \n",
      "...          ...                   ...            ...       ...  \n",
      "1442153  0.08800  set-2(ok1484)_OnFood  set-2(ok1484)    OnFood  \n",
      "1442154  0.07697  set-2(ok1484)_OnFood  set-2(ok1484)    OnFood  \n",
      "1442155  0.10560  set-2(ok1484)_OnFood  set-2(ok1484)    OnFood  \n",
      "1442156  0.08734  set-2(ok1484)_OnFood  set-2(ok1484)    OnFood  \n",
      "1442157  0.07465  set-2(ok1484)_OnFood  set-2(ok1484)    OnFood  \n",
      "\n",
      "[1442158 rows x 19 columns]\n"
     ]
    }
   ],
   "source": [
    "# PD_tap=pd.read_csv('/Users/Joseph/Desktop/PD_Screen_TapHab/hab_output.csv')\n",
    "# PD_tap = PD_tap.iloc[: , 1:]\n",
    "PD_baseline=pd.read_csv('baseline_output.csv')\n",
    "PD_baseline = PD_baseline.iloc[: , 1:]\n",
    "PD_baseline = PD_baseline.drop(columns=[\"x\",\"y\"])\n",
    "PD_baseline[['Genotype', 'Treatment']] = PD_baseline['Strain'].str.split('_', 1, expand=True)\n",
    "# print(PD_tap)\n",
    "print(PD_baseline)"
   ]
  },
  {
   "cell_type": "code",
   "execution_count": 4,
   "metadata": {
    "scrolled": true
   },
   "outputs": [
    {
     "name": "stdout",
     "output_type": "stream",
     "text": [
      "          index  time_bin  worm   time     speed  angularspeed  pathlength  \\\n",
      "0        208005     320.0   374  320.0  0.259800      137.0000      -0.034   \n",
      "1        208536     321.0     9  320.5  0.238800        8.9450      41.840   \n",
      "2        208537     321.0    11  320.5  0.246200       18.7300       3.623   \n",
      "3        208538     321.0    12  320.5  0.270300       31.0000      11.030   \n",
      "4        208539     321.0    14  320.5  0.250000       28.0500       8.390   \n",
      "...         ...       ...   ...    ...       ...           ...         ...   \n",
      "321157  1442153     420.0   102  419.5  0.017470        1.9620       3.875   \n",
      "321158  1442154     420.0   105  419.5  0.014080        0.7153      17.270   \n",
      "321159  1442155     420.0   106  419.5  0.007717        0.5615      28.580   \n",
      "321160  1442156     420.0   107  419.5  0.030330        4.4920       4.984   \n",
      "321161  1442157     420.0   108  419.5  0.022920        3.0080       7.016   \n",
      "\n",
      "         kink    bias  curve       dir      crab  length  midline   width  \\\n",
      "0       77.40 -1.0000  41.40  0.000000  0.044650  0.5713   0.8590  0.3890   \n",
      "1       86.44  1.0000  32.78  0.000000  0.024780  0.9570   1.1510  0.2406   \n",
      "2       37.84  1.0000  40.88  0.000000  0.032840  0.9340   1.1240  0.2324   \n",
      "3       72.10 -1.0000  53.70  0.002285  0.068600  0.6733   1.1600  0.4885   \n",
      "4       71.90  1.0000  57.12  0.000087  0.077150  0.6357   1.1580  0.4695   \n",
      "...       ...     ...    ...       ...       ...     ...      ...     ...   \n",
      "321157  43.12  0.0000  28.66  0.000000  0.008194  0.7110   0.8570  0.1813   \n",
      "321158  20.16  0.0000  18.53  0.000000  0.006040  0.7886   0.8150  0.1527   \n",
      "321159  40.97  0.0000  23.81  0.000000  0.004616  0.6830   0.9116  0.1632   \n",
      "321160  35.88 -0.5386  32.00  0.000000  0.008040  0.5930   0.8677  0.1996   \n",
      "321161  44.66  0.0000  12.74  0.000000  0.005547  0.6626   0.7250  0.1327   \n",
      "\n",
      "        morphwidth     area                Strain       Genotype Treatment  \n",
      "0          0.16850  0.11300            N2_OffFood             N2   OffFood  \n",
      "1          0.12140  0.11790            N2_OffFood             N2   OffFood  \n",
      "2          0.11970  0.11680            N2_OffFood             N2   OffFood  \n",
      "3          0.15040  0.12560            N2_OffFood             N2   OffFood  \n",
      "4          0.15170  0.12006            N2_OffFood             N2   OffFood  \n",
      "...            ...      ...                   ...            ...       ...  \n",
      "321157     0.09520  0.08800  set-2(ok1484)_OnFood  set-2(ok1484)    OnFood  \n",
      "321158     0.06690  0.07697  set-2(ok1484)_OnFood  set-2(ok1484)    OnFood  \n",
      "321159     0.11957  0.10560  set-2(ok1484)_OnFood  set-2(ok1484)    OnFood  \n",
      "321160     0.10060  0.08734  set-2(ok1484)_OnFood  set-2(ok1484)    OnFood  \n",
      "321161     0.09250  0.07465  set-2(ok1484)_OnFood  set-2(ok1484)    OnFood  \n",
      "\n",
      "[321162 rows x 20 columns]\n"
     ]
    }
   ],
   "source": [
    "PD_baseline_last100 = PD_baseline[((PD_baseline.time <= 420) & (PD_baseline.time >= 320))]\n",
    "PD_baseline_last100 = PD_baseline_last100.reset_index()\n",
    "print(PD_baseline_last100)"
   ]
  },
  {
   "cell_type": "code",
   "execution_count": 5,
   "metadata": {},
   "outputs": [
    {
     "name": "stdout",
     "output_type": "stream",
     "text": [
      "Ttest_indResult(statistic=-37.89446950769279, pvalue=0.0)\n"
     ]
    }
   ],
   "source": [
    "tt = ttest_ind(PD_baseline_last100[\"bias\"], PD_baseline_last100[PD_baseline_last100.Genotype == \"N2\"][\"bias\"], equal_var = False)\n",
    "print(tt)"
   ]
  },
  {
   "cell_type": "code",
   "execution_count": 6,
   "metadata": {},
   "outputs": [
    {
     "name": "stdout",
     "output_type": "stream",
     "text": [
      "['N2' 'R07G3.8(tm5683)' 'cat-2(e1112)' 'gba-2(tm4623)' 'gba-4(tm3314)'\n",
      " 'hipr-1(ok1081)' 'igcm-2(ok1527)' 'lfe-2(tm14109)' 'rskd-1(tm4031)'\n",
      " 'sac-2(ok2743)' 'set-2(ok1484)']\n"
     ]
    }
   ],
   "source": [
    "list = PD_baseline_last100[\"Genotype\"].unique()\n",
    "print(list)"
   ]
  },
  {
   "cell_type": "code",
   "execution_count": 7,
   "metadata": {},
   "outputs": [],
   "source": [
    "def TTest_New(DatasetList, Type, DF_ref, output):\n",
    "    for a in DatasetList:\n",
    "        Tstat = ttest_ind(DF_ref[DF_ref.Genotype == a][Type], DF_ref[DF_ref.Genotype == \"N2\"][Type],equal_var=False)[0]\n",
    "        row = [a, Tstat]\n",
    "        output.loc[len(output)] = row\n",
    "    print(output)"
   ]
  },
  {
   "cell_type": "code",
   "execution_count": 8,
   "metadata": {},
   "outputs": [],
   "source": [
    "# # PD_baseline_instantspeed_T = pd.DataFrame(columns = [\"Genotype\", \"Instantaneous Speed\"])\n",
    "# # PD_baseline_intspeed_T = pd.DataFrame(columns = [\"Genotype\", \"Interval Speed\"])\n",
    "\n",
    "PD_baseline_length_T = pd.DataFrame(columns = [\"Genotype\", \"length\"])\n",
    "PD_baseline_midline_T = pd.DataFrame(columns = [\"Genotype\", \"midline\"])\n",
    "PD_baseline_width_T = pd.DataFrame(columns = [\"Genotype\", \"width\"])\n",
    "PD_baseline_morphwidth_T = pd.DataFrame(columns = [\"Genotype\", \"morphwidth\"])\n",
    "PD_baseline_area_T = pd.DataFrame(columns = [\"Genotype\", \"area\"])\n",
    "\n",
    "# # PD_baseline_aspectratio_T = pd.DataFrame(columns = [\"Genotype\", \"Aspect Ratio\"])\n",
    "\n",
    "# PD_baseline_speed_T = pd.DataFrame(columns = [\"Genotype\", \"speed\"])\n",
    "# PD_baseline_angularspeed_T = pd.DataFrame(columns = [\"Genotype\", \"angularspeed\"])\n",
    "# PD_baseline_bias_T = pd.DataFrame(columns = [\"Genotype\", \"bias\"])\n",
    "# PD_baseline_kink_T =  pd.DataFrame(columns = [\"Genotype\", \"kink\"])\n",
    "# PD_baseline_curve_T = pd.DataFrame(columns = [\"Genotype\", \"curve\"])\n",
    "# PD_baseline_crab_T = pd.DataFrame(columns = [\"Genotype\", \"crab\"])"
   ]
  },
  {
   "cell_type": "code",
   "execution_count": 9,
   "metadata": {},
   "outputs": [
    {
     "name": "stdout",
     "output_type": "stream",
     "text": [
      "           Genotype      length\n",
      "0                N2    0.000000\n",
      "1   R07G3.8(tm5683)   16.483056\n",
      "2      cat-2(e1112)  -56.269253\n",
      "3     gba-2(tm4623)  -53.158078\n",
      "4     gba-4(tm3314)  -21.875496\n",
      "5    hipr-1(ok1081)  -90.858139\n",
      "6    igcm-2(ok1527)  -74.607594\n",
      "7    lfe-2(tm14109)   54.290409\n",
      "8    rskd-1(tm4031) -135.587794\n",
      "9     sac-2(ok2743)  -55.015440\n",
      "10    set-2(ok1484) -146.529812\n",
      "           Genotype     midline\n",
      "0                N2    0.000000\n",
      "1   R07G3.8(tm5683)  -19.011565\n",
      "2      cat-2(e1112)  -42.054900\n",
      "3     gba-2(tm4623)  -95.773314\n",
      "4     gba-4(tm3314)  -75.423044\n",
      "5    hipr-1(ok1081) -108.750670\n",
      "6    igcm-2(ok1527)  -84.087971\n",
      "7    lfe-2(tm14109)   62.974980\n",
      "8    rskd-1(tm4031) -177.199850\n",
      "9     sac-2(ok2743)  -39.036855\n",
      "10    set-2(ok1484) -260.012825\n",
      "           Genotype      width\n",
      "0                N2   0.000000\n",
      "1   R07G3.8(tm5683) -45.286536\n",
      "2      cat-2(e1112)  40.429079\n",
      "3     gba-2(tm4623) -37.197459\n",
      "4     gba-4(tm3314) -75.318120\n",
      "5    hipr-1(ok1081)   9.065174\n",
      "6    igcm-2(ok1527)  16.834926\n",
      "7    lfe-2(tm14109)   0.023915\n",
      "8    rskd-1(tm4031) -38.244528\n",
      "9     sac-2(ok2743)  30.651788\n",
      "10    set-2(ok1484) -98.528556\n",
      "           Genotype  morphwidth\n",
      "0                N2    0.000000\n",
      "1   R07G3.8(tm5683)  -23.672209\n",
      "2      cat-2(e1112)   15.231186\n",
      "3     gba-2(tm4623)  -91.309138\n",
      "4     gba-4(tm3314)  -79.190786\n",
      "5    hipr-1(ok1081)  -24.302509\n",
      "6    igcm-2(ok1527)   14.071444\n",
      "7    lfe-2(tm14109)   18.130469\n",
      "8    rskd-1(tm4031)  -52.170800\n",
      "9     sac-2(ok2743)   25.031645\n",
      "10    set-2(ok1484) -139.962875\n",
      "           Genotype        area\n",
      "0                N2    0.000000\n",
      "1   R07G3.8(tm5683)   -8.875923\n",
      "2      cat-2(e1112)  -32.520982\n",
      "3     gba-2(tm4623) -161.265268\n",
      "4     gba-4(tm3314) -123.175722\n",
      "5    hipr-1(ok1081) -109.904018\n",
      "6    igcm-2(ok1527)  -62.311014\n",
      "7    lfe-2(tm14109)   49.468157\n",
      "8    rskd-1(tm4031) -153.794442\n",
      "9     sac-2(ok2743)  -18.219690\n",
      "10    set-2(ok1484) -253.170860\n"
     ]
    }
   ],
   "source": [
    "# # TTest_New(PD_baseline_last100[\"Genotype\"].unique(), \"Instantaneous Speed\", PD_baseline_last100, PD_baseline_instantspeed_T)\n",
    "# # TTest_New(PD_baseline_last100[\"Genotype\"].unique(), \"Interval Speed\", PD_baseline_last100, PD_baseline_intspeed_T)\n",
    "\n",
    "TTest_New(PD_baseline_last100[\"Genotype\"].unique(), \"length\", PD_baseline_last100, PD_baseline_length_T)\n",
    "TTest_New(PD_baseline_last100[\"Genotype\"].unique(), \"midline\", PD_baseline_last100, PD_baseline_midline_T)\n",
    "TTest_New(PD_baseline_last100[\"Genotype\"].unique(), \"width\", PD_baseline_last100, PD_baseline_width_T)\n",
    "TTest_New(PD_baseline_last100[\"Genotype\"].unique(), \"morphwidth\", PD_baseline_last100, PD_baseline_morphwidth_T)\n",
    "TTest_New(PD_baseline_last100[\"Genotype\"].unique(), \"area\", PD_baseline_last100, PD_baseline_area_T)\n",
    "\n",
    "# # TTest_New(PD_baseline_last100[\"Genotype\"].unique(), \"Aspect Ratio\", PD_baseline_last100, PD_baseline_aspectratio_T)\n",
    "# TTest_New(PD_baseline_last100[\"Genotype\"].unique(), \"speed\", PD_baseline_last100, PD_baseline_speed_T)\n",
    "# TTest_New(PD_baseline_last100[\"Genotype\"].unique(), \"angularspeed\", PD_baseline_last100, PD_baseline_angularspeed_T)\n",
    "# TTest_New(PD_baseline_last100[\"Genotype\"].unique(), \"bias\", PD_baseline_last100, PD_baseline_bias_T)\n",
    "# TTest_New(PD_baseline_last100[\"Genotype\"].unique(), \"kink\", PD_baseline_last100, PD_baseline_kink_T)\n",
    "# TTest_New(PD_baseline_last100[\"Genotype\"].unique(), \"curve\", PD_baseline_last100, PD_baseline_curve_T)\n",
    "# TTest_New(PD_baseline_last100[\"Genotype\"].unique(), \"crab\", PD_baseline_last100, PD_baseline_crab_T)"
   ]
  },
  {
   "cell_type": "code",
   "execution_count": 10,
   "metadata": {},
   "outputs": [
    {
     "name": "stdout",
     "output_type": "stream",
     "text": [
      "0       0.000000\n",
      "1      16.483056\n",
      "2     -56.269253\n",
      "3     -53.158078\n",
      "4     -21.875496\n",
      "5     -90.858139\n",
      "6     -74.607594\n",
      "7      54.290409\n",
      "8    -135.587794\n",
      "9     -55.015440\n",
      "10   -146.529812\n",
      "Name: length, dtype: float64\n"
     ]
    }
   ],
   "source": [
    "print(PD_baseline_length_T.iloc[:,1])"
   ]
  },
  {
   "cell_type": "code",
   "execution_count": 11,
   "metadata": {},
   "outputs": [
    {
     "name": "stdout",
     "output_type": "stream",
     "text": [
      "           Genotype      length     midline      width  morphwidth        area\n",
      "0                N2    0.000000    0.000000   0.000000    0.000000    0.000000\n",
      "1   R07G3.8(tm5683)   16.483056  -19.011565 -45.286536  -23.672209   -8.875923\n",
      "2      cat-2(e1112)  -56.269253  -42.054900  40.429079   15.231186  -32.520982\n",
      "3     gba-2(tm4623)  -53.158078  -95.773314 -37.197459  -91.309138 -161.265268\n",
      "4     gba-4(tm3314)  -21.875496  -75.423044 -75.318120  -79.190786 -123.175722\n",
      "5    hipr-1(ok1081)  -90.858139 -108.750670   9.065174  -24.302509 -109.904018\n",
      "6    igcm-2(ok1527)  -74.607594  -84.087971  16.834926   14.071444  -62.311014\n",
      "7    lfe-2(tm14109)   54.290409   62.974980   0.023915   18.130469   49.468157\n",
      "8    rskd-1(tm4031) -135.587794 -177.199850 -38.244528  -52.170800 -153.794442\n",
      "9     sac-2(ok2743)  -55.015440  -39.036855  30.651788   25.031645  -18.219690\n",
      "10    set-2(ok1484) -146.529812 -260.012825 -98.528556 -139.962875 -253.170860\n"
     ]
    }
   ],
   "source": [
    "# # PD_baseline_Tstats = PD_baseline_instantspeed_T\n",
    "\n",
    "PD_baseline_Tstats = PD_baseline_length_T\n",
    "PD_baseline_Tstats = PD_baseline_Tstats.join(PD_baseline_midline_T.iloc[:,1])\n",
    "PD_baseline_Tstats = PD_baseline_Tstats.join(PD_baseline_width_T.iloc[:,1])\n",
    "PD_baseline_Tstats = PD_baseline_Tstats.join(PD_baseline_morphwidth_T.iloc[:,1])\n",
    "PD_baseline_Tstats = PD_baseline_Tstats.join(PD_baseline_area_T.iloc[:,1])\n",
    "\n",
    "# # PD_baseline_Tstats = PD_baseline_speed_T\n",
    "# # PD_baseline_Tstats = PD_baseline_Tstats.join(PD_baseline_intspeed_T.iloc[:,1])\n",
    "\n",
    "# PD_baseline_Tstats = PD_baseline_Tstats.join(PD_baseline_speed_T.iloc[:,1])\n",
    "# PD_baseline_Tstats = PD_baseline_Tstats.join(PD_baseline_angularspeed_T.iloc[:,1])\n",
    "# PD_baseline_Tstats = PD_baseline_Tstats.join(PD_baseline_bias_T.iloc[:,1])\n",
    "# PD_baseline_Tstats = PD_baseline_Tstats.join(PD_baseline_kink_T.iloc[:,1])\n",
    "# PD_baseline_Tstats = PD_baseline_Tstats.join(PD_baseline_curve_T.iloc[:,1])\n",
    "# PD_baseline_Tstats = PD_baseline_Tstats.join(PD_baseline_crab_T.iloc[:,1])\n",
    "\n",
    "# # PD_baseline_Tstats = PD_baseline_Tstats.join(PD_baseline_width_T.iloc[:,1])\n",
    "# # PD_baseline_Tstats = PD_baseline_Tstats.join(PD_baseline_length_T.iloc[:,1])\n",
    "# # PD_baseline_Tstats = PD_baseline_Tstats.join(PD_baseline_area_T.iloc[:,1])\n",
    "# # PD_baseline_Tstats = PD_baseline_Tstats.join(PD_baseline_angularspeed_T.iloc[:,1])\n",
    "\n",
    "print(PD_baseline_Tstats)"
   ]
  },
  {
   "cell_type": "code",
   "execution_count": 12,
   "metadata": {},
   "outputs": [
    {
     "name": "stdout",
     "output_type": "stream",
     "text": [
      "                     length     midline      width  morphwidth        area\n",
      "Genotype                                                                  \n",
      "N2                 0.000000    0.000000   0.000000    0.000000    0.000000\n",
      "R07G3.8(tm5683)   16.483056  -19.011565 -45.286536  -23.672209   -8.875923\n",
      "cat-2(e1112)     -56.269253  -42.054900  40.429079   15.231186  -32.520982\n",
      "gba-2(tm4623)    -53.158078  -95.773314 -37.197459  -91.309138 -161.265268\n",
      "gba-4(tm3314)    -21.875496  -75.423044 -75.318120  -79.190786 -123.175722\n",
      "hipr-1(ok1081)   -90.858139 -108.750670   9.065174  -24.302509 -109.904018\n",
      "igcm-2(ok1527)   -74.607594  -84.087971  16.834926   14.071444  -62.311014\n",
      "lfe-2(tm14109)    54.290409   62.974980   0.023915   18.130469   49.468157\n",
      "rskd-1(tm4031)  -135.587794 -177.199850 -38.244528  -52.170800 -153.794442\n",
      "sac-2(ok2743)    -55.015440  -39.036855  30.651788   25.031645  -18.219690\n",
      "set-2(ok1484)   -146.529812 -260.012825 -98.528556 -139.962875 -253.170860\n"
     ]
    }
   ],
   "source": [
    "PD_baseline_Tstats = PD_baseline_Tstats.set_index(\"Genotype\")\n",
    "print(PD_baseline_Tstats)"
   ]
  },
  {
   "cell_type": "code",
   "execution_count": 13,
   "metadata": {},
   "outputs": [
    {
     "name": "stdout",
     "output_type": "stream",
     "text": [
      "                     length     midline      width  morphwidth        area\n",
      "Genotype                                                                  \n",
      "N2                 0.000000    0.000000   0.000000    0.000000    0.000000\n",
      "R07G3.8(tm5683)   16.483056  -19.011565 -45.286536  -23.672209   -8.875923\n",
      "cat-2(e1112)     -56.269253  -42.054900  40.429079   15.231186  -32.520982\n",
      "gba-2(tm4623)    -53.158078  -95.773314 -37.197459  -91.309138 -161.265268\n",
      "gba-4(tm3314)    -21.875496  -75.423044 -75.318120  -79.190786 -123.175722\n",
      "hipr-1(ok1081)   -90.858139 -108.750670   9.065174  -24.302509 -109.904018\n",
      "igcm-2(ok1527)   -74.607594  -84.087971  16.834926   14.071444  -62.311014\n",
      "lfe-2(tm14109)    54.290409   62.974980   0.023915   18.130469   49.468157\n",
      "rskd-1(tm4031)  -135.587794 -177.199850 -38.244528  -52.170800 -153.794442\n",
      "sac-2(ok2743)    -55.015440  -39.036855  30.651788   25.031645  -18.219690\n",
      "set-2(ok1484)   -146.529812 -260.012825 -98.528556 -139.962875 -253.170860\n"
     ]
    }
   ],
   "source": [
    "PD_baseline_Tstats_sort = PD_baseline_Tstats.sort_index()\n",
    "print(PD_baseline_Tstats_sort)"
   ]
  },
  {
   "cell_type": "code",
   "execution_count": 14,
   "metadata": {},
   "outputs": [
    {
     "data": {
      "image/png": "[encoded data removed]",
      "text/plain": [
       "<Figure size 1008x1008 with 2 Axes>"
      ]
     },
     "metadata": {
      "needs_background": "light"
     },
     "output_type": "display_data"
    }
   ],
   "source": [
    "sns.set_context('notebook')\n",
    "plt.figure(figsize = (14,14))\n",
    "ax = sns.heatmap(data = PD_baseline_Tstats_sort, \n",
    "                 annot = False, \n",
    "                 linewidth = 0.5, \n",
    "                 square = True, \n",
    "                 cmap = \"vlag\", \n",
    "                 center = 0, \n",
    "                 vmax = 400,\n",
    "                 vmin = -400, \n",
    "                 xticklabels = 1,\n",
    "                 yticklabels = 1,\n",
    "                 cbar_kws={\"shrink\": .3})\n",
    "# plt.savefig(f'{StrainName}_Speed_{ISI}ISI.png_ByPlate', format='png', dpi=450)\n",
    "plt.show()"
   ]
  },
  {
   "cell_type": "markdown",
   "metadata": {},
   "source": [
    "# T stat analysis by gene"
   ]
  },
  {
   "cell_type": "code",
   "execution_count": 15,
   "metadata": {},
   "outputs": [],
   "source": [
    "PD_gene_baseline_length_T = pd.DataFrame(columns = [\"Genotype\", \"length\"])\n",
    "PD_gene_baseline_midline_T = pd.DataFrame(columns = [\"Genotype\", \"midline\"])\n",
    "PD_gene_baseline_width_T = pd.DataFrame(columns = [\"Genotype\", \"width\"])\n",
    "PD_gene_baseline_morphwidth_T = pd.DataFrame(columns = [\"Genotype\", \"morphwidth\"])\n",
    "PD_gene_baseline_area_T = pd.DataFrame(columns = [\"Genotype\", \"area\"])\n",
    "\n",
    "# # PD_baseline_aspectratio_T = pd.DataFrame(columns = [\"Genotype\", \"Aspect Ratio\"])\n",
    "\n",
    "# PD_gene_baseline_speed_T = pd.DataFrame(columns = [\"Genotype\", \"speed\"])\n",
    "# PD_gene_baseline_angularspeed_T = pd.DataFrame(columns = [\"Genotype\", \"angularspeed\"])\n",
    "# PD_gene_baseline_bias_T = pd.DataFrame(columns = [\"Genotype\", \"bias\"])\n",
    "# PD_gene_baseline_kink_T =  pd.DataFrame(columns = [\"Genotype\", \"kink\"])\n",
    "# PD_gene_baseline_curve_T = pd.DataFrame(columns = [\"Genotype\", \"curve\"])\n",
    "# PD_gene_baseline_crab_T = pd.DataFrame(columns = [\"Genotype\", \"crab\"])"
   ]
  },
  {
   "cell_type": "code",
   "execution_count": 16,
   "metadata": {},
   "outputs": [
    {
     "name": "stdout",
     "output_type": "stream",
     "text": [
      "          index  time_bin  worm   time     speed  angularspeed  pathlength  \\\n",
      "0        208005     320.0   374  320.0  0.259800      137.0000      -0.034   \n",
      "1        208536     321.0     9  320.5  0.238800        8.9450      41.840   \n",
      "2        208537     321.0    11  320.5  0.246200       18.7300       3.623   \n",
      "3        208538     321.0    12  320.5  0.270300       31.0000      11.030   \n",
      "4        208539     321.0    14  320.5  0.250000       28.0500       8.390   \n",
      "...         ...       ...   ...    ...       ...           ...         ...   \n",
      "321157  1442153     420.0   102  419.5  0.017470        1.9620       3.875   \n",
      "321158  1442154     420.0   105  419.5  0.014080        0.7153      17.270   \n",
      "321159  1442155     420.0   106  419.5  0.007717        0.5615      28.580   \n",
      "321160  1442156     420.0   107  419.5  0.030330        4.4920       4.984   \n",
      "321161  1442157     420.0   108  419.5  0.022920        3.0080       7.016   \n",
      "\n",
      "         kink    bias  curve       dir      crab  length  midline   width  \\\n",
      "0       77.40 -1.0000  41.40  0.000000  0.044650  0.5713   0.8590  0.3890   \n",
      "1       86.44  1.0000  32.78  0.000000  0.024780  0.9570   1.1510  0.2406   \n",
      "2       37.84  1.0000  40.88  0.000000  0.032840  0.9340   1.1240  0.2324   \n",
      "3       72.10 -1.0000  53.70  0.002285  0.068600  0.6733   1.1600  0.4885   \n",
      "4       71.90  1.0000  57.12  0.000087  0.077150  0.6357   1.1580  0.4695   \n",
      "...       ...     ...    ...       ...       ...     ...      ...     ...   \n",
      "321157  43.12  0.0000  28.66  0.000000  0.008194  0.7110   0.8570  0.1813   \n",
      "321158  20.16  0.0000  18.53  0.000000  0.006040  0.7886   0.8150  0.1527   \n",
      "321159  40.97  0.0000  23.81  0.000000  0.004616  0.6830   0.9116  0.1632   \n",
      "321160  35.88 -0.5386  32.00  0.000000  0.008040  0.5930   0.8677  0.1996   \n",
      "321161  44.66  0.0000  12.74  0.000000  0.005547  0.6626   0.7250  0.1327   \n",
      "\n",
      "        morphwidth     area                Strain       Genotype Treatment  \n",
      "0          0.16850  0.11300            N2_OffFood             N2   OffFood  \n",
      "1          0.12140  0.11790            N2_OffFood             N2   OffFood  \n",
      "2          0.11970  0.11680            N2_OffFood             N2   OffFood  \n",
      "3          0.15040  0.12560            N2_OffFood             N2   OffFood  \n",
      "4          0.15170  0.12006            N2_OffFood             N2   OffFood  \n",
      "...            ...      ...                   ...            ...       ...  \n",
      "321157     0.09520  0.08800  set-2(ok1484)_OnFood  set-2(ok1484)    OnFood  \n",
      "321158     0.06690  0.07697  set-2(ok1484)_OnFood  set-2(ok1484)    OnFood  \n",
      "321159     0.11957  0.10560  set-2(ok1484)_OnFood  set-2(ok1484)    OnFood  \n",
      "321160     0.10060  0.08734  set-2(ok1484)_OnFood  set-2(ok1484)    OnFood  \n",
      "321161     0.09250  0.07465  set-2(ok1484)_OnFood  set-2(ok1484)    OnFood  \n",
      "\n",
      "[321162 rows x 20 columns]\n"
     ]
    }
   ],
   "source": [
    "# PD_baseline_last100.to_csv('/Users/Joseph/Desktop/PD_Screen_TapHab/Baseline100Data.csv')\n",
    "PD_baseline_last100 = PD_baseline_last100.dropna()\n",
    "print(PD_baseline_last100)"
   ]
  },
  {
   "cell_type": "code",
   "execution_count": 17,
   "metadata": {},
   "outputs": [
    {
     "data": {
      "text/plain": [
       "str"
      ]
     },
     "execution_count": 17,
     "metadata": {},
     "output_type": "execute_result"
    }
   ],
   "source": [
    "# print(PD_baseline_last100.Genotype.unique())\n",
    "type(PD_baseline_last100.Genotype.unique()[1])"
   ]
  },
  {
   "cell_type": "code",
   "execution_count": 18,
   "metadata": {},
   "outputs": [],
   "source": [
    "# ttest = ttest_ind(PD_baseline_last100[PD_baseline_last100.Gene=='F53B2.5']['Instantaneous Speed'],\n",
    "#          PD_baseline_last100[PD_baseline_last100.Gene=='N2']['Instantaneous Speed'],\n",
    "#          equal_var=False)\n",
    "# ttest[0]"
   ]
  },
  {
   "cell_type": "code",
   "execution_count": 19,
   "metadata": {},
   "outputs": [],
   "source": [
    "def TTest_Gene(DatasetList, Type, DF_ref, output):\n",
    "    for a in DatasetList:\n",
    "        Tstat = ttest_ind(DF_ref[DF_ref.Genotype == a][Type], DF_ref[DF_ref.Genotype == \"N2\"][Type],equal_var=False)[0]\n",
    "        row=[a, Tstat]\n",
    "        output.loc[len(output)]=row\n",
    "    print(output)"
   ]
  },
  {
   "cell_type": "code",
   "execution_count": 20,
   "metadata": {},
   "outputs": [],
   "source": [
    "# TTest_Gene(PD_baseline_last100.Gene.unique(), 'Instantaneous Speed', PD_baseline_last100, PD_gene_baseline_instantspeed_T)"
   ]
  },
  {
   "cell_type": "code",
   "execution_count": 21,
   "metadata": {},
   "outputs": [],
   "source": [
    "# PD_gene_baseline_instantspeed_T.to_csv('/Users/Joseph/Desktop/PD_Screen_TapHab/baselineinstantspeedgene.csv')\n",
    "# PD_baseline_last100.to_csv('/Users/Joseph/Desktop/PD_Screen_TapHab/Baseline100Data.csv')"
   ]
  },
  {
   "cell_type": "code",
   "execution_count": 22,
   "metadata": {},
   "outputs": [
    {
     "name": "stdout",
     "output_type": "stream",
     "text": [
      "           Genotype      length\n",
      "0                N2    0.000000\n",
      "1   R07G3.8(tm5683)   16.483056\n",
      "2      cat-2(e1112)  -56.269253\n",
      "3     gba-2(tm4623)  -53.158078\n",
      "4     gba-4(tm3314)  -21.875496\n",
      "5    hipr-1(ok1081)  -90.858139\n",
      "6    igcm-2(ok1527)  -74.607594\n",
      "7    lfe-2(tm14109)   54.290409\n",
      "8    rskd-1(tm4031) -135.587794\n",
      "9     sac-2(ok2743)  -55.015440\n",
      "10    set-2(ok1484) -146.529812\n",
      "           Genotype     midline\n",
      "0                N2    0.000000\n",
      "1   R07G3.8(tm5683)  -19.011565\n",
      "2      cat-2(e1112)  -42.054900\n",
      "3     gba-2(tm4623)  -95.773314\n",
      "4     gba-4(tm3314)  -75.423044\n",
      "5    hipr-1(ok1081) -108.750670\n",
      "6    igcm-2(ok1527)  -84.087971\n",
      "7    lfe-2(tm14109)   62.974980\n",
      "8    rskd-1(tm4031) -177.199850\n",
      "9     sac-2(ok2743)  -39.036855\n",
      "10    set-2(ok1484) -260.012825\n",
      "           Genotype      width\n",
      "0                N2   0.000000\n",
      "1   R07G3.8(tm5683) -45.286536\n",
      "2      cat-2(e1112)  40.429079\n",
      "3     gba-2(tm4623) -37.197459\n",
      "4     gba-4(tm3314) -75.318120\n",
      "5    hipr-1(ok1081)   9.065174\n",
      "6    igcm-2(ok1527)  16.834926\n",
      "7    lfe-2(tm14109)   0.023915\n",
      "8    rskd-1(tm4031) -38.244528\n",
      "9     sac-2(ok2743)  30.651788\n",
      "10    set-2(ok1484) -98.528556\n",
      "           Genotype  morphwidth\n",
      "0                N2    0.000000\n",
      "1   R07G3.8(tm5683)  -23.672209\n",
      "2      cat-2(e1112)   15.231186\n",
      "3     gba-2(tm4623)  -91.309138\n",
      "4     gba-4(tm3314)  -79.190786\n",
      "5    hipr-1(ok1081)  -24.302509\n",
      "6    igcm-2(ok1527)   14.071444\n",
      "7    lfe-2(tm14109)   18.130469\n",
      "8    rskd-1(tm4031)  -52.170800\n",
      "9     sac-2(ok2743)   25.031645\n",
      "10    set-2(ok1484) -139.962875\n",
      "           Genotype        area\n",
      "0                N2    0.000000\n",
      "1   R07G3.8(tm5683)   -8.875923\n",
      "2      cat-2(e1112)  -32.520982\n",
      "3     gba-2(tm4623) -161.265268\n",
      "4     gba-4(tm3314) -123.175722\n",
      "5    hipr-1(ok1081) -109.904018\n",
      "6    igcm-2(ok1527)  -62.311014\n",
      "7    lfe-2(tm14109)   49.468157\n",
      "8    rskd-1(tm4031) -153.794442\n",
      "9     sac-2(ok2743)  -18.219690\n",
      "10    set-2(ok1484) -253.170860\n"
     ]
    }
   ],
   "source": [
    "# # TTest_New(PD_baseline_last100[\"Genotype\"].unique(), \"Instantaneous Speed\", PD_baseline_last100, PD_baseline_instantspeed_T)\n",
    "# # TTest_New(PD_baseline_last100[\"Genotype\"].unique(), \"Interval Speed\", PD_baseline_last100, PD_baseline_intspeed_T)\n",
    "\n",
    "TTest_Gene(PD_baseline_last100[\"Genotype\"].unique(), \"length\", PD_baseline_last100, PD_gene_baseline_length_T)\n",
    "TTest_Gene(PD_baseline_last100[\"Genotype\"].unique(), \"midline\", PD_baseline_last100, PD_gene_baseline_midline_T)\n",
    "TTest_Gene(PD_baseline_last100[\"Genotype\"].unique(), \"width\", PD_baseline_last100, PD_gene_baseline_width_T)\n",
    "TTest_Gene(PD_baseline_last100[\"Genotype\"].unique(), \"morphwidth\", PD_baseline_last100, PD_gene_baseline_morphwidth_T)\n",
    "TTest_Gene(PD_baseline_last100[\"Genotype\"].unique(), \"area\", PD_baseline_last100, PD_gene_baseline_area_T)\n",
    "\n",
    "# # TTest_New(PD_baseline_last100[\"Genotype\"].unique(), \"Aspect Ratio\", PD_baseline_last100, PD_baseline_aspectratio_T)\n",
    "# TTest_Gene(PD_baseline_last100[\"Genotype\"].unique(), \"speed\", PD_baseline_last100, PD_gene_baseline_speed_T)\n",
    "# TTest_Gene(PD_baseline_last100[\"Genotype\"].unique(), \"angularspeed\", PD_baseline_last100, PD_gene_baseline_angularspeed_T)\n",
    "# TTest_Gene(PD_baseline_last100[\"Genotype\"].unique(), \"bias\", PD_baseline_last100, PD_gene_baseline_bias_T)\n",
    "# TTest_Gene(PD_baseline_last100[\"Genotype\"].unique(), \"kink\", PD_baseline_last100, PD_gene_baseline_kink_T)\n",
    "# TTest_Gene(PD_baseline_last100[\"Genotype\"].unique(), \"curve\", PD_baseline_last100, PD_gene_baseline_curve_T)\n",
    "# TTest_Gene(PD_baseline_last100[\"Genotype\"].unique(), \"crab\", PD_baseline_last100, PD_gene_baseline_crab_T)"
   ]
  },
  {
   "cell_type": "code",
   "execution_count": 23,
   "metadata": {},
   "outputs": [
    {
     "name": "stdout",
     "output_type": "stream",
     "text": [
      "                     length     midline      width  morphwidth        area\n",
      "Genotype                                                                  \n",
      "N2                 0.000000    0.000000   0.000000    0.000000    0.000000\n",
      "R07G3.8(tm5683)   16.483056  -19.011565 -45.286536  -23.672209   -8.875923\n",
      "cat-2(e1112)     -56.269253  -42.054900  40.429079   15.231186  -32.520982\n",
      "gba-2(tm4623)    -53.158078  -95.773314 -37.197459  -91.309138 -161.265268\n",
      "gba-4(tm3314)    -21.875496  -75.423044 -75.318120  -79.190786 -123.175722\n",
      "hipr-1(ok1081)   -90.858139 -108.750670   9.065174  -24.302509 -109.904018\n",
      "igcm-2(ok1527)   -74.607594  -84.087971  16.834926   14.071444  -62.311014\n",
      "lfe-2(tm14109)    54.290409   62.974980   0.023915   18.130469   49.468157\n",
      "rskd-1(tm4031)  -135.587794 -177.199850 -38.244528  -52.170800 -153.794442\n",
      "sac-2(ok2743)    -55.015440  -39.036855  30.651788   25.031645  -18.219690\n",
      "set-2(ok1484)   -146.529812 -260.012825 -98.528556 -139.962875 -253.170860\n"
     ]
    }
   ],
   "source": [
    "PD_gene_baseline_Tstats = PD_gene_baseline_length_T\n",
    "PD_gene_baseline_Tstats = PD_gene_baseline_Tstats.join(PD_gene_baseline_midline_T.iloc[:,1])\n",
    "PD_gene_baseline_Tstats = PD_gene_baseline_Tstats.join(PD_gene_baseline_width_T.iloc[:,1])\n",
    "PD_gene_baseline_Tstats = PD_gene_baseline_Tstats.join(PD_gene_baseline_morphwidth_T.iloc[:,1])\n",
    "PD_gene_baseline_Tstats = PD_gene_baseline_Tstats.join(PD_gene_baseline_area_T.iloc[:,1])\n",
    "\n",
    "# # PD_baseline_Tstats = PD_baseline_speed_T\n",
    "# # PD_baseline_Tstats = PD_baseline_Tstats.join(PD_baseline_intspeed_T.iloc[:,1])\n",
    "\n",
    "# PD_gene_baseline_Tstats = PD_gene_baseline_Tstats.join(PD_gene_baseline_speed_T.iloc[:,1])\n",
    "# PD_gene_baseline_Tstats = PD_gene_baseline_Tstats.join(PD_gene_baseline_angularspeed_T.iloc[:,1])\n",
    "# PD_gene_baseline_Tstats = PD_gene_baseline_Tstats.join(PD_gene_baseline_bias_T.iloc[:,1])\n",
    "# PD_gene_baseline_Tstats = PD_gene_baseline_Tstats.join(PD_gene_baseline_kink_T.iloc[:,1])\n",
    "# PD_gene_baseline_Tstats = PD_gene_baseline_Tstats.join(PD_gene_baseline_curve_T.iloc[:,1])\n",
    "# PD_gene_baseline_Tstats = PD_gene_baseline_Tstats.join(PD_gene_baseline_crab_T.iloc[:,1])\n",
    "PD_gene_baseline_Tstats = PD_gene_baseline_Tstats.set_index(\"Genotype\")\n",
    "print(PD_gene_baseline_Tstats)\n",
    "\n",
    "# # PD_gene_habituation_Tstats=PD_gene_recovery_dura\n",
    "# # PD_gene_habituation_Tstats=PD_gene_habituation_Tstats.join(PD_gene_recovery_prob.iloc[:,1])\n",
    "# # PD_gene_habituation_Tstats=PD_gene_habituation_Tstats.join(PD_gene_recovery_speed.iloc[:,1])\n",
    "# # PD_gene_habituation_Tstats=PD_gene_habituation_Tstats.join(PD_gene_init_dura.iloc[:,1])\n",
    "# # PD_gene_habituation_Tstats=PD_gene_habituation_Tstats.join(PD_gene_init_prob.iloc[:,1])\n",
    "# # PD_gene_habituation_Tstats=PD_gene_habituation_Tstats.join(PD_gene_init_speed.iloc[:,1])\n",
    "# # PD_gene_habituation_Tstats=PD_gene_habituation_Tstats.join(PD_gene_final_dura.iloc[:,1])\n",
    "# # PD_gene_habituation_Tstats=PD_gene_habituation_Tstats.join(PD_gene_final_prob.iloc[:,1])\n",
    "# # PD_gene_habituation_Tstats=PD_gene_habituation_Tstats.join(PD_gene_final_speed.iloc[:,1])\n",
    "# # PD_gene_habituation_Tstats=PD_gene_habituation_Tstats.join(PD_gene_hab_dura.iloc[:,1])\n",
    "# # PD_gene_habituation_Tstats=PD_gene_habituation_Tstats.join(PD_gene_hab_prob.iloc[:,1])\n",
    "# # PD_gene_habituation_Tstats=PD_gene_habituation_Tstats.join(PD_gene_hab_speed.iloc[:,1])\n",
    "# # PD_gene_habituation_Tstats=PD_gene_habituation_Tstats.set_index(\"dataset\").dropna()                                        \n",
    "# # print(PD_gene_habituation_Tstats)"
   ]
  },
  {
   "cell_type": "code",
   "execution_count": 24,
   "metadata": {},
   "outputs": [],
   "source": [
    "# PD_gene_baseline_Tstats_scaled = PD_gene_baseline_Tstats/40\n",
    "# print(PD_gene_baseline_Tstats_scaled)"
   ]
  },
  {
   "cell_type": "code",
   "execution_count": 25,
   "metadata": {},
   "outputs": [],
   "source": [
    "# # # FROM BEFORE\n",
    "# # PD_gene_baseline_Tstats_scaled_sort = PD_gene_baseline_Tstats_scaled.sort_index()\n",
    "# # print(PD_gene_baseline_Tstats_scaled_sort)"
   ]
  },
  {
   "cell_type": "code",
   "execution_count": 26,
   "metadata": {},
   "outputs": [
    {
     "name": "stdout",
     "output_type": "stream",
     "text": [
      "                   length   midline     width  morphwidth      area\n",
      "Genotype                                                           \n",
      "R07G3.8(tm5683)  1.172677  0.734547 -0.551095    0.181761  0.874899\n",
      "cat-2(e1112)     0.000702  0.473442  1.299213    0.878963  0.611373\n",
      "gba-2(tm4623)    0.050820 -0.135244 -0.376479   -1.030384 -0.823489\n",
      "gba-4(tm3314)    0.554755  0.095346 -1.199375   -0.813207 -0.398979\n",
      "hipr-1(ok1081)  -0.556495 -0.282291  0.622173    0.170465 -0.251065\n",
      "igcm-2(ok1527)  -0.294713 -0.002837  0.789896    0.858178  0.279362\n",
      "lfe-2(tm14109)   1.781720  1.663541  0.427003    0.930922  1.525147\n",
      "rskd-1(tm4031)  -1.277050 -1.057892 -0.399082   -0.328972 -0.740226\n",
      "sac-2(ok2743)    0.020900  0.507639  1.088155    1.054600  0.770762\n",
      "set-2(ok1484)   -1.453316 -1.996250 -1.700409   -1.902325 -1.847782\n"
     ]
    }
   ],
   "source": [
    "# PD_gene_Tstats_combined = pd.merge(PD_gene_baseline_Tstats, PD_gene_habituation_Tstats, on =['dataset'], how ='left')\n",
    "PD_gene_baseline_Tstats = PD_gene_baseline_Tstats.dropna().sort_index().drop(index=\"N2\")\n",
    "# PD_gene_baseline_Tstats = PD_gene_baseline_Tstats.dropna().sort_index()\n",
    "PD_gene_baseline_Tstats_normalize = (PD_gene_baseline_Tstats - PD_gene_baseline_Tstats.mean())/PD_gene_baseline_Tstats.std()\n",
    "# PD_gene_Tstats_combined=PD_gene_Tstats_combined.set_index(\"dataset\")\n",
    "# PD_gene_Tstats_combined=PD_gene_Tstats_combined.sort_index()\n",
    "# PD_gene_Tstats_combined=PD_gene_Tstats_combined.drop(index=\"N2\")\n",
    "\n",
    "print(PD_gene_baseline_Tstats_normalize)"
   ]
  },
  {
   "cell_type": "code",
   "execution_count": 27,
   "metadata": {},
   "outputs": [],
   "source": [
    "# Gene_Orthology=pd.read_csv('/Users/Joseph/Desktop/PD_Screen_TapHab/Gene_Orthology.csv')\n",
    "# Gene_Orthology=Gene_Orthology.rename(columns={\"Gene\":\"Orthology\", \"Worm Gene\":\"dataset\"})\n",
    "# print(Gene_Orthology)"
   ]
  },
  {
   "cell_type": "code",
   "execution_count": 28,
   "metadata": {},
   "outputs": [],
   "source": [
    "# PD_gene_Tstats_combined_normalize_joined=pd.merge(PD_gene_Tstats_combined_normalize,\n",
    "#                                                  Gene_Orthology,\n",
    "#                                                  on='dataset',\n",
    "#                                                  how='inner')\n",
    "\n",
    "# print(PD_gene_Tstats_combined_normalize_joined)"
   ]
  },
  {
   "cell_type": "code",
   "execution_count": 29,
   "metadata": {},
   "outputs": [],
   "source": [
    "# # PD_gene_Tstats_combined_normalize_heatmap=PD_gene_Tstats_combined_normalize_joined.set_index(\"Orthology\").sort_index()\n",
    "# # PD_gene_Tstats_combined_normalize_heatmap=PD_gene_Tstats_combined_normalize_heatmap.drop(columns=['dataset','Unnamed: 0','Human Gene'])\n",
    "# # print(PD_gene_Tstats_combined_normalize_heatmap)"
   ]
  },
  {
   "cell_type": "code",
   "execution_count": 38,
   "metadata": {},
   "outputs": [
    {
     "data": {
      "image/png": "[encoded data removed]",
      "text/plain": [
       "<Figure size 1440x1008 with 2 Axes>"
      ]
     },
     "metadata": {
      "needs_background": "light"
     },
     "output_type": "display_data"
    }
   ],
   "source": [
    "sns.set_context('notebook')\n",
    "plt.figure(figsize=(20,14))\n",
    "ax = sns.heatmap(data = PD_gene_baseline_Tstats_normalize, \n",
    "                 annot=False, \n",
    "                 linewidth=0.5, \n",
    "                 square=True, \n",
    "                 cmap=\"vlag\", \n",
    "                 center=0, \n",
    "                 vmax=3,\n",
    "                 vmin=-3, \n",
    "                 xticklabels=1,\n",
    "                 yticklabels=1,\n",
    "                 cbar_kws={\"shrink\": .3})\n",
    "ax.set_ylabel('')    \n",
    "plt.savefig('Tstat_GENE_normalized_square.png', format='png', dpi=450, bbox_inches = \"tight\")\n",
    "plt.show()"
   ]
  },
  {
   "cell_type": "code",
   "execution_count": 31,
   "metadata": {},
   "outputs": [],
   "source": [
    "# PD_gene_Tstats_melted=PD_gene_Tstats_combined_normalize.reset_index()\n",
    "# print(PD_gene_Tstats_melted)\n",
    "# PD_gene_Tstats_melted_gene=pd.melt(PD_gene_Tstats_melted, id_vars=['dataset'],\n",
    "#                                    var_name='Metric',\n",
    "#                                    value_name='Normalized T_score')\n",
    "# PD_gene_Tstats_melted_gene_sorted=PD_gene_Tstats_melted_gene.sort_values(by=['Normalized T_score'])\n",
    "# print(PD_gene_Tstats_melted_gene)\n",
    "# print(PD_gene_Tstats_melted_gene_sorted)\n",
    "# # PD_gene_Tstats_melted_metric=pd.melt(PD_gene_Tstats_melted_gene, id_vars=['dataset'],\n",
    "# #                              value_name='metric')\n"
   ]
  },
  {
   "cell_type": "code",
   "execution_count": 32,
   "metadata": {},
   "outputs": [],
   "source": [
    "# metric_palette=[\"k\",\"k\",\"k\",\"k\",\"k\",\"k\",\"k\",\"k\",\"k\",\"k\",\n",
    "#                 \"darkgray\",\"darkgray\",\"darkgray\",\"darkgray\",\n",
    "#                 \"darkgray\",\"darkgray\",\"darkgray\",\"darkgray\",\n",
    "#                 \"darkgray\",\"darkgray\",\"darkgray\",\"darkgray\"]"
   ]
  },
  {
   "cell_type": "code",
   "execution_count": 33,
   "metadata": {},
   "outputs": [],
   "source": [
    "# PD_gene_Tstats_combined_normalize_orthology_melted=PD_gene_Tstats_combined_normalize_heatmap.reset_index()\n",
    "# PD_gene_Tstats_combined_normalize_orthology_melted=pd.melt(PD_gene_Tstats_combined_normalize_orthology_melted, id_vars=['Orthology'],\n",
    "#                                    var_name='Metric',\n",
    "#                                    value_name='Normalized T_score')\n",
    "# PD_gene_Tstats_orthology_melted_gene_sorted=PD_gene_Tstats_combined_normalize_orthology_melted.sort_values(by=['Normalized T_score'])\n",
    "# # print(PD_gene_Tstats_melted_gene)\n",
    "# print(PD_gene_Tstats_orthology_melted_gene_sorted)\n",
    "# # PD_gene_Tstats_melted_metric=pd.melt(PD_gene_Tstats_melted_gene, id_vars=['dataset'],\n",
    "# #                              value_name='metric')\n",
    "\n"
   ]
  },
  {
   "cell_type": "code",
   "execution_count": 34,
   "metadata": {},
   "outputs": [],
   "source": [
    "# print(PD_gene_Tstats_melted_gene.dataset.unique())\n",
    "# PD_gene_Tstats_combined_normalize_orthology=PD_gene_Tstats_combined_normalize_heatmap.reset_index()\n",
    "# print(PD_gene_Tstats_combined_normalize_orthology.Orthology.unique())"
   ]
  },
  {
   "cell_type": "code",
   "execution_count": 35,
   "metadata": {},
   "outputs": [],
   "source": [
    "# # sns.barplot(data=PD_gene_Tstats_melted_gene[PD_gene_Tstats_melted_gene.dataset==\"F53B2.5\"], x=\"Metric\", y=\"T_score\")\n",
    "# # plt.xticks(rotation=90)\n",
    "\n",
    "# sns.set_context('notebook')\n",
    "# # # plt.figure(figsize=(14,14))\n",
    "# # ax = sns.barplot(data = PD_gene_Tstats_melted_gene[PD_gene_Tstats_melted_gene.dataset==\"F53B2.5\"], \n",
    "# #                 x=\"Metric\",\n",
    "# #                 y=\"T_score\",\n",
    "# #                 palette=metric_palette)\n",
    "# # plt.xticks(rotation=90)\n",
    "# # # plt.savefig('/Users/Joseph/Desktop/PD_Screen_TapHab/Tstat_GENE.png', format='png', dpi=450, bbox_inches = \"tight\")\n",
    "# # # '/Users/Joseph/Desktop/PD_Screen_TapHab/Baseline100Data.csv'\n",
    "# # plt.show()\n",
    "\n",
    "# for x in PD_gene_Tstats_combined_normalize_orthology_melted.Orthology.unique():\n",
    "#     plt.figure()\n",
    "#     ax = sns.barplot(data = PD_gene_Tstats_combined_normalize_orthology_melted[PD_gene_Tstats_combined_normalize_orthology_melted.Orthology==f\"{x}\"], \n",
    "#                 x=\"Metric\",\n",
    "#                 y=\"Normalized T_score\",\n",
    "#                 palette=metric_palette).set_title(f\"{x}\")\n",
    "#     plt.ylim(-3,3)\n",
    "#     plt.xticks(rotation=90)\n",
    "#     plt.savefig(f'/Users/Joseph/Desktop/PD_Screen_TapHab/Gene_Metrics/{x}_Metrics.png', format='png', dpi=450, bbox_inches = \"tight\")\n",
    "#     plt.show()\n",
    "# print(\"done\")"
   ]
  },
  {
   "cell_type": "code",
   "execution_count": 36,
   "metadata": {},
   "outputs": [],
   "source": [
    "# # sns.barplot(data=PD_gene_Tstats_melted_gene_sorted[PD_gene_Tstats_melted_gene_sorted.Metric==\"Instantaneous Speed\"],\n",
    "# #             x=\"dataset\", y=\"T_score\")\n",
    "# # plt.xticks(rotation=90)\n",
    "\n",
    "# for x in PD_gene_Tstats_melted_gene_sorted.Metric.unique():\n",
    "#     plt.figure()\n",
    "#     ax = sns.barplot(data = PD_gene_Tstats_melted_gene_sorted[PD_gene_Tstats_melted_gene_sorted.Metric==f\"{x}\"], \n",
    "#                 x=\"dataset\",\n",
    "#                 y=\"Normalized T_score\",\n",
    "#                 palette=[\"dimgray\"]).set_title(f\"{x}\")\n",
    "#     plt.xticks(rotation=90)\n",
    "#     plt.ylim(-3,3)\n",
    "#     plt.savefig(f'/Users/Joseph/Desktop/PD_Screen_TapHab/Metric_Scores/{x}_Metrics.png', format='png', dpi=450, bbox_inches = \"tight\")\n",
    "#     plt.show()\n",
    "# print(\"done\")"
   ]
  },
  {
   "cell_type": "code",
   "execution_count": 37,
   "metadata": {},
   "outputs": [],
   "source": [
    "# # print(PD_recov_taps)\n",
    "# # print(PD_habit_levels)\n",
    "# # print(PD_baseline_last100)"
   ]
  }
 ],
 "metadata": {
  "kernelspec": {
   "display_name": "Python 3",
   "language": "python",
   "name": "python3"
  },
  "language_info": {
   "codemirror_mode": {
    "name": "ipython",
    "version": 3
   },
   "file_extension": ".py",
   "mimetype": "text/x-python",
   "name": "python",
   "nbconvert_exporter": "python",
   "pygments_lexer": "ipython3",
   "version": "3.9.12"
  }
 },
 "nbformat": 4,
 "nbformat_minor": 4
}
