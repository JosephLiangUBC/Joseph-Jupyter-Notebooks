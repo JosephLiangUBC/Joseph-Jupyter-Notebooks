{
 "cells": [
  {
   "cell_type": "code",
   "execution_count": 3,
   "metadata": {},
   "outputs": [],
   "source": [
    "from matplotlib import pyplot as plt #<- package used to plot graphs\n",
    "import pandas as pd\n",
    "import numpy as np\n",
    "import plotly.graph_objects as go\n",
    "import plotly.express as px\n",
    "import seaborn as sns\n",
    "import pingouin as pg"
   ]
  },
  {
   "cell_type": "code",
   "execution_count": null,
   "metadata": {},
   "outputs": [],
   "source": [
    "df = pd.read_csv('/Users/Joseph/Desktop/2020_10_23_Quantifications.csv')\n",
    "gui = show(df)"
   ]
  },
  {
   "cell_type": "code",
   "execution_count": null,
   "metadata": {},
   "outputs": [],
   "source": [
    "df = pd.read_csv('/Users/Joseph/Desktop/2020_10_23_Quantifications.csv')\n",
    "# fig = px.violin(df, \n",
    "#                 y='Average Size', \n",
    "#                 x='Genotype', \n",
    "#                 color = 'Strain', \n",
    "#                 points='all',\n",
    "#                 pointpos=0,\n",
    "#                 box=True,\n",
    "#                )\n",
    "# fig.show()\n",
    "\n",
    "# ### define the chart\n",
    "# data = go.Violin(y=df['Average Size'], \n",
    "#                  x=df['Genotype'],\n",
    "#                  color = 'Genotype',\n",
    "#                  points='all', \n",
    "#                  pointpos=0,\n",
    "#                  box=True,\n",
    "#                 )\n",
    "\n",
    "# ### assign the chart to the figure\n",
    "# fig = go.Figure(data=data)\n",
    "\n",
    "# ### show the plot\n",
    "# fig.show()\n",
    "\n",
    "sns.set_context(\"talk\")\n",
    "plt.figure(linewidth = 2.5)#<- Make your figure lines THICCCC for clean display (posters)\n",
    "plt.figure(figsize=(10,6))#<- set your figure size (width, length)\n",
    "ax = sns.violinplot(data=df,\n",
    "                   y=\"Average Size\",\n",
    "                   x=\"Genotype\",\n",
    "                   palette = [\"grey\", '#8B008B', (0.5058823529411764, 0.4470588235294118, 0.7019607843137254), (0.7686274509803922, 0.3058823529411765, 0.3215686274509804)],\n",
    "                   scale=\"count\",\n",
    "                   inner=\"point\")\n",
    "plt.savefig('/Users/Joseph/Desktop/AverageSize.png', format='png', dpi=450) #<- saves the figure to a png file\n",
    "plt.show()"
   ]
  },
  {
   "cell_type": "markdown",
   "metadata": {},
   "source": [
    "# Figure 7C: GFP Area Quantification - Violin Plot "
   ]
  },
  {
   "cell_type": "code",
   "execution_count": null,
   "metadata": {},
   "outputs": [],
   "source": [
    "# Figure 7C\n",
    "df = pd.read_csv('/Users/Joseph/Desktop/Figure_7C_RAW.csv')\n",
    "fig = px.violin(df, \n",
    "                y='GFP Area', \n",
    "                x='Age (hrs)', \n",
    "                color = 'Genotype', \n",
    "                points='all', \n",
    "                box=True, \n",
    "                color_discrete_sequence=px.colors.qualitative.D3,\n",
    "               labels={\n",
    "                   \"GFP Area\": \"GFP Aea (Pixels<sup>2</sup>)\"\n",
    "               })\n",
    "fig.show()"
   ]
  },
  {
   "cell_type": "code",
   "execution_count": null,
   "metadata": {},
   "outputs": [],
   "source": [
    "config = {\n",
    "  'toImageButtonOptions': {\n",
    "    'format': 'png', # one of png, svg, jpeg, webp\n",
    "    'filename': 'custom_image',\n",
    "    'height': 900,\n",
    "    'width': 1400,\n",
    "    'scale': 1 # Multiply title/legend/axis/canvas sizes by this factor\n",
    "  }\n",
    "}\n",
    "\n",
    "\n",
    "df = pd.read_csv('/Users/Joseph/Desktop/MahrazData/Figure_7C_RAW.csv')\n",
    "fig = go.Figure()\n",
    "\n",
    "fig.add_trace(go.Violin(x=df['Age (hrs)'][ df['Genotype'] == 'WT' ],\n",
    "                        y=df['GFP Area'][ df['Genotype'] == 'WT' ],\n",
    "                        legendgroup='Yes', scalegroup='Yes', name='Wildtype',\n",
    "                        side='negative', points = \"all\", meanline=dict(color=\"black\"),\n",
    "                        line=dict(color='#1F77B4', width=4))\n",
    "             )\n",
    "fig.add_trace(go.Violin(x=df['Age (hrs)'][ df['Genotype'] == '<i>sel-12 (ok2078)</i>' ],\n",
    "                        y=df['GFP Area'][ df['Genotype'] == '<i>sel-12 (ok2078)</i>' ],\n",
    "                        legendgroup='No', scalegroup='No', name='<i>sel-12 (ok2078)</i>',\n",
    "                        side='positive', points = \"all\",meanline=dict(color=\"black\"),\n",
    "                        line=dict(color='#FF7F0E', width=4))\n",
    "             )\n",
    "fig.update_traces(meanline_visible=True)\n",
    "fig.update_layout(violingap=0, violinmode='overlay')\n",
    "fig.show(config=config)"
   ]
  },
  {
   "cell_type": "code",
   "execution_count": null,
   "metadata": {},
   "outputs": [],
   "source": [
    "config = {\n",
    "  'toImageButtonOptions': {\n",
    "    'format': 'png', # one of png, svg, jpeg, webp\n",
    "    'filename': 'custom_image',\n",
    "    'height': 900,\n",
    "    'width': 1400,\n",
    "    'scale': 1 # Multiply title/legend/axis/canvas sizes by this factor\n",
    "  }\n",
    "}\n",
    "\n",
    "\n",
    "df = pd.read_csv('/Users/Joseph/Desktop/ASH_May20_2021/May22_7C_RAW.csv')\n",
    "fig = go.Figure()\n",
    "\n",
    "fig.add_trace(go.Violin(x=df['Age (hrs)'][ df['Genotype'] == 'WT' ],\n",
    "                        y=df['GFP Area'][ df['Genotype'] == 'WT' ],\n",
    "                        legendgroup='Yes', scalegroup='Yes', name='Wildtype',\n",
    "                        side='negative', points = \"all\", meanline=dict(color=\"black\"),\n",
    "                        line=dict(color='#1F77B4', width=4))\n",
    "             )\n",
    "fig.add_trace(go.Violin(x=df['Age (hrs)'][ df['Genotype'] == '<i>sel-12 (ok2078)</i>' ],\n",
    "                        y=df['GFP Area'][ df['Genotype'] == '<i>sel-12 (ok2078)</i>' ],\n",
    "                        legendgroup='No', scalegroup='No', name='<i>sel-12 (ok2078)</i>',\n",
    "                        side='positive', points = \"all\",meanline=dict(color=\"black\"),\n",
    "                        line=dict(color='#FF7F0E', width=4))\n",
    "             )\n",
    "fig.update_traces(meanline_visible=True)\n",
    "fig.update_layout(violingap=0, violinmode='overlay')\n",
    "fig.show(config=config)"
   ]
  },
  {
   "cell_type": "code",
   "execution_count": null,
   "metadata": {},
   "outputs": [],
   "source": [
    "config = {\n",
    "  'toImageButtonOptions': {\n",
    "    'format': 'png', # one of png, svg, jpeg, webp\n",
    "    'filename': 'custom_image',\n",
    "    'height': 900,\n",
    "    'width': 1400,\n",
    "    'scale': 1 # Multiply title/legend/axis/canvas sizes by this factor\n",
    "  }\n",
    "}\n",
    "\n",
    "\n",
    "df = pd.read_csv('/Users/Joseph/Desktop/MahrazData/Figure_7C_RAW.csv')\n",
    "fig = go.Figure()\n",
    "\n",
    "\n",
    "fig.add_trace(go.Violin(x=df['Age (hrs)'][ df['Genotype'] == 'WT' ],\n",
    "                        y=df['GFP Area'][ df['Genotype'] == 'WT' ],line_color=\"#1F77B4\",\n",
    "                        legendgroup='Yes', scalegroup='Yes', name='Wildtype',\n",
    "                        side='negative', points =False, meanline=dict(color=\"black\"),\n",
    "                        line=dict(color='#1F77B4', width=4))\n",
    "             )\n",
    "fig.add_trace(go.Violin(x=df['Age (hrs)'][ df['Genotype'] == '<i>sel-12 (ok2078)</i>' ],\n",
    "                        y=df['GFP Area'][ df['Genotype'] == '<i>sel-12 (ok2078)</i>' ],line_color=\"#FF7F0E\",\n",
    "                        legendgroup='No', scalegroup='No', name='<i>sel-12 (ok2078)</i>',\n",
    "                        side='positive', points =False ,meanline=dict(color=\"black\"),\n",
    "                        line=dict(color='#FF7F0E', width=4))\n",
    "             )\n",
    "fig.update_traces(meanline_visible=True)\n",
    "fig.update_layout(violingap=0, violinmode='overlay')\n",
    "\n",
    "x = [68,78,88,98,108]\n",
    "y1 = [14634,14590,14321,14202,13905]\n",
    "y2 = [15933,15920,15777,15120,15126]\n",
    "y3 = [15531,15423,15459,14991,14892]\n",
    "y4 = [16808,16805,16722,15291,15144]\n",
    "y5 = [16312,16315,16202,15902,15331]\n",
    "y6 = [15593,15542,15410,15320,15108]\n",
    "y7 = [14822,14721,14728,14731,14627]\n",
    "y8 = [15004,14999,14592,14720,14620]\n",
    "y9 = [15610,15613,15201,14899,14323]\n",
    "y10 = [14337,14233,14200,14102,13490]\n",
    "y11 = [13120,11781,11291,11003,10112]\n",
    "y12 = [14854,14741,12531,11029,10190]\n",
    "y13 = [13779,13790,13100,12781,11621]\n",
    "y14 = [14209,14153,13568,13533,12230]\n",
    "y15 = [15192,15042,13903,13291,12392]\n",
    "y16 = [12846,12730,12107,11009,10204]\n",
    "y17 = [15032,14829,13592,13440,12721]\n",
    "y18 = [14843,12940,12489,12091,11700]\n",
    "y19 = [15024,14740,13249,13099,13040]\n",
    "y20 = [16903,16777,15401,15193,13762]\n",
    "\n",
    "wt_list=[y1, y2, y3, y4, y5, y6, y7, y8, y9, y10]\n",
    "for y in wt_list:\n",
    "    fig.add_trace(go.Scatter(x=x, y=y,\n",
    "                        mode='lines+markers', name=\"WT\", line_shape=\"spline\",\n",
    "                        line=dict(color='#1F77B4', width=2, dash='dot'))\n",
    "                 )\n",
    "sel12_list=[y11, y12, y13, y14, y15, y16, y17, y18, y19, y20]\n",
    "for y in sel12_list:\n",
    "    fig.add_trace(go.Scatter(x=x, y=y,\n",
    "                        mode='lines+markers', name=\"<i>sel-12 (ok2078)</i>\", line_shape=\"spline\",\n",
    "                        line=dict(color='#FF7F0E', width=2, dash='dot'))\n",
    "                 )\n",
    "fig.update_traces(marker_line_width=2, marker_size=10)\n",
    "fig.show(config=config)"
   ]
  },
  {
   "cell_type": "code",
   "execution_count": null,
   "metadata": {},
   "outputs": [],
   "source": [
    "#New\n",
    "config = {\n",
    "  'toImageButtonOptions': {\n",
    "    'format': 'png', # one of png, svg, jpeg, webp\n",
    "    'filename': 'custom_image',\n",
    "    'height': 900,\n",
    "    'width': 1400,\n",
    "    'scale': 1 # Multiply title/legend/axis/canvas sizes by this factor\n",
    "  }\n",
    "}\n",
    "\n",
    "\n",
    "df = pd.read_csv('/Users/Joseph/Desktop/ASH_May20_2021/May22_7C_RAW.csv')\n",
    "fig = go.Figure()\n",
    "\n",
    "\n",
    "fig.add_trace(go.Violin(x=df['Age (hrs)'][ df['Genotype'] == 'WT' ],\n",
    "                        y=df['GFP Area'][ df['Genotype'] == 'WT' ],line_color=\"#1F77B4\",\n",
    "                        legendgroup='Yes', scalegroup='Yes', name='Wildtype',\n",
    "                        side='negative', points =False, meanline=dict(color=\"black\"),\n",
    "                        line=dict(color='#1F77B4', width=4))\n",
    "             )\n",
    "fig.add_trace(go.Violin(x=df['Age (hrs)'][ df['Genotype'] == '<i>sel-12 (ok2078)</i>' ],\n",
    "                        y=df['GFP Area'][ df['Genotype'] == '<i>sel-12 (ok2078)</i>' ],line_color=\"#FF7F0E\",\n",
    "                        legendgroup='No', scalegroup='No', name='<i>sel-12 (ok2078)</i>',\n",
    "                        side='positive', points =False ,meanline=dict(color=\"black\"),\n",
    "                        line=dict(color='#FF7F0E', width=4))\n",
    "             )\n",
    "fig.update_traces(meanline_visible=True)\n",
    "fig.update_layout(violingap=0, violinmode='overlay')\n",
    "\n",
    "x = [68,78,88,98,108]\n",
    "y1 = [961.236,1014.854,803.136,792.593,782.905]\n",
    "y2 = [934.217,1058.055,1016.85,1125.559,1039.789]\n",
    "y3 = [1044.746,839.451,972.54,1066.004,969.405]\n",
    "y4 = [1403.927,1038.549,825.647,1090.367,976.672]\n",
    "y5 = [974.528,1067.735,993.341,895.745,1085.808]\n",
    "y6 = [1120.165,998.672,894.321,928.372,965.416]\n",
    "y7 = [1053.126,952.148,1052.896,1149.922,910.99]\n",
    "y8 = [1017.15,971.653,818.809,849.013,882.21]\n",
    "y9 = [1234.017,1036.671,1001.605,1081.249,1080.394]\n",
    "y10 = [629.795,1055.02,1010.581,1219.023,822.94]\n",
    "y11 = [942.886,993.326,806.983,757.259,674.053]\n",
    "y12 = [699.146,971.795,924.668,915.55,953.876]\n",
    "y13 = [1267.825,1233.926,902.727,849.298,817.954]\n",
    "y14 = [982.185,979.639,893.466,943.902,973.68]\n",
    "yy1 = [883.793,833.238,723.35,741.872,746.716]\n",
    "yy2 = [566.079,705.225,569.618,539.983,537.846]\n",
    "yy3 = [407.438,586.604,470.598,652.967,690.865]\n",
    "yy4 = [826.868,782.379,774.499,619.912,821.658]\n",
    "yy5 = [979.585,623.158,578.737,679.895,708.817]\n",
    "yy6 = [528.224,555.396,471.88,492.254,438.826]\n",
    "yy7 = [670.25,733.255,721.64,620.482,341.087]\n",
    "yy8 = [914.857,690.632,511.346,442.102,396.083]\n",
    "yy9 = [985.075,867.047,658.523,654.391,616.778]\n",
    "yy10 = [837.126,834.169,703.688,661.943,600.963]\n",
    "yy11 = [1004.869,984.345,615.923,446.662,437.543]\n",
    "#yy12 = [16903,16777,15401,15193,13762]\n",
    "\n",
    "wt_list=[y1, y2, y3, y4, y5, y6, y7, y8, y9, y10, y11, y12, y13, y14]\n",
    "for y in wt_list:\n",
    "    fig.add_trace(go.Scatter(x=x, y=y,\n",
    "                        mode='lines+markers', name=\"WT\", line_shape=\"spline\",\n",
    "                        line=dict(color='#1F77B4', width=2, dash='dot'))\n",
    "                 )\n",
    "sel12_list=[yy1, yy2, yy3, yy4, yy5, yy6, yy7, yy8, yy9, yy10, yy11]\n",
    "for y in sel12_list:\n",
    "    fig.add_trace(go.Scatter(x=x, y=y,\n",
    "                        mode='lines+markers', name=\"<i>sel-12 (ok2078)</i>\", line_shape=\"spline\",\n",
    "                        line=dict(color='#FF7F0E', width=2, dash='dot'))\n",
    "                 )\n",
    "fig.update_traces(marker_line_width=2, marker_size=10)\n",
    "fig.show(config=config)"
   ]
  },
  {
   "cell_type": "code",
   "execution_count": null,
   "metadata": {},
   "outputs": [],
   "source": [
    "config = {\n",
    "  'toImageButtonOptions': {\n",
    "    'format': 'png', # one of png, svg, jpeg, webp\n",
    "    'filename': 'custom_image',\n",
    "    'height': 900,\n",
    "    'width': 1400,\n",
    "    'scale': 1 # Multiply title/legend/axis/canvas sizes by this factor\n",
    "  }\n",
    "}\n",
    "\n",
    "\n",
    "df = pd.read_csv('/Users/Joseph/Desktop/MahrazData/Figure_7C_RAW.csv')\n",
    "fig = go.Figure()\n",
    "\n",
    "\n",
    "fig.add_trace(go.Violin(x=df['Age (hrs)'][ df['Genotype'] == 'WT' ],\n",
    "                        y=df['GFP Area'][ df['Genotype'] == 'WT' ],line_color=\"black\",\n",
    "                        legendgroup='Yes', scalegroup='Yes', name='Wildtype',\n",
    "                        side='negative', points =False, meanline=dict(color=\"black\"),\n",
    "                        line=dict(color='#1F77B4', width=4))\n",
    "             )\n",
    "fig.add_trace(go.Violin(x=df['Age (hrs)'][ df['Genotype'] == '<i>sel-12 (ok2078)</i>' ],\n",
    "                        y=df['GFP Area'][ df['Genotype'] == '<i>sel-12 (ok2078)</i>' ],line_color=\"grey\",\n",
    "                        legendgroup='No', scalegroup='No', name='<i>sel-12 (ok2078)</i>',\n",
    "                        side='positive', points =False ,meanline=dict(color=\"black\"),\n",
    "                        line=dict(color='#FF7F0E', width=4))\n",
    "             )\n",
    "fig.update_traces(meanline_visible=True)\n",
    "fig.update_layout(violingap=0, violinmode='overlay')\n",
    "\n",
    "x = [68,78,88,98,108]\n",
    "y1 = [14634,14590,14321,14202,13905]\n",
    "y2 = [15933,15920,15777,15120,15126]\n",
    "y3 = [15531,15423,15459,14991,14892]\n",
    "y4 = [16808,16805,16722,15291,15144]\n",
    "y5 = [16312,16315,16202,15902,15331]\n",
    "y6 = [15593,15542,15410,15320,15108]\n",
    "y7 = [14822,14721,14728,14731,14627]\n",
    "y8 = [15004,14999,14592,14720,14620]\n",
    "y9 = [15610,15613,15201,14899,14323]\n",
    "y10 = [14337,14233,14200,14102,13490]\n",
    "y11 = [13120,12940,11291,11003,10112]\n",
    "y12 = [14854,14741,12531,11029,10190]\n",
    "y13 = [13779,13790,13100,12781,11621]\n",
    "y14 = [14209,14153,13568,13533,12230]\n",
    "y15 = [15192,15042,13903,13291,12392]\n",
    "y16 = [12846,12730,12107,11009,10204]\n",
    "y17 = [15032,14829,13592,13440,12721]\n",
    "y18 = [14843,14740,12489,12091,11700]\n",
    "y19 = [15024,11781,13249,13099,13040]\n",
    "y20 = [16903,16777,15401,15193,13762]\n",
    "\n",
    "wt_list=[y1, y2, y3, y4, y5, y6, y7, y8, y9, y10]\n",
    "for y in wt_list:\n",
    "    fig.add_trace(go.Scatter(x=x, y=y,\n",
    "                        mode='lines+markers', name=\"WT\", line_shape=\"spline\",\n",
    "                        line=dict(color='black', width=2, dash='dot'))\n",
    "                 )\n",
    "sel12_list=[yy1, yy2, yy3, yy4, yy5, yy6, yy7, yy8, yy9, yy10, yy11]\n",
    "sel12_list=[y11, y12, y13, y14, y15, y16, y17, y18, y19, y20]\n",
    "for y in sel12_list:\n",
    "    fig.add_trace(go.Scatter(x=x, y=y,\n",
    "                        mode='lines+markers', name=\"<i>sel-12 (ok2078)</i>\", line_shape=\"spline\",\n",
    "                        line=dict(color='lightgrey', width=2, dash='dot'))\n",
    "                 )\n",
    "fig.update_traces(marker_line_width=2, marker_size=10)\n",
    "fig.show(config=config)"
   ]
  },
  {
   "cell_type": "code",
   "execution_count": null,
   "metadata": {},
   "outputs": [],
   "source": [
    "config = {\n",
    "  'toImageButtonOptions': {\n",
    "    'format': 'png', # one of png, svg, jpeg, webp\n",
    "    'filename': 'custom_image',\n",
    "    'height': 900,\n",
    "    'width': 1400,\n",
    "    'scale': 1 # Multiply title/legend/axis/canvas sizes by this factor\n",
    "  }\n",
    "}\n",
    "\n",
    "\n",
    "df = pd.read_csv('/Users/Joseph/Desktop/MahrazData/Figure_7C_RAW.csv')\n",
    "fig = go.Figure()\n",
    "\n",
    "\n",
    "fig.add_trace(go.Violin(x=df['Age (hrs)'][ df['Genotype'] == 'WT' ],\n",
    "                        y=df['GFP Area'][ df['Genotype'] == 'WT' ],line_color=\"black\",\n",
    "                        legendgroup='Yes', scalegroup='Yes', name='Wildtype',\n",
    "                        side='negative', points =False, meanline=dict(color=\"black\"),\n",
    "                        line=dict(color='#1F77B4', width=4))\n",
    "             )\n",
    "fig.add_trace(go.Violin(x=df['Age (hrs)'][ df['Genotype'] == '<i>sel-12 (ok2078)</i>' ],\n",
    "                        y=df['GFP Area'][ df['Genotype'] == '<i>sel-12 (ok2078)</i>' ],line_color=\"grey\",\n",
    "                        legendgroup='No', scalegroup='No', name='<i>sel-12 (ok2078)</i>',\n",
    "                        side='positive', points =False ,meanline=dict(color=\"black\"),\n",
    "                        line=dict(color='#FF7F0E', width=4))\n",
    "             )\n",
    "fig.update_traces(meanline_visible=True)\n",
    "fig.update_layout(violingap=0, violinmode='overlay')\n",
    "\n",
    "x = [68,78,88,98,108]\n",
    "y1 = [14634,14590,14321,14202,13905]\n",
    "y2 = [15933,15920,15777,15120,15126]\n",
    "y3 = [15531,15423,15459,14991,14892]\n",
    "y4 = [16808,16805,16722,15291,15144]\n",
    "y5 = [16312,16315,16202,15902,15331]\n",
    "y6 = [15593,15542,15410,15320,15108]\n",
    "y7 = [14822,14721,14728,14731,14627]\n",
    "y8 = [15004,14999,14592,14720,14620]\n",
    "y9 = [15610,15613,15201,14899,14323]\n",
    "y10 = [14337,14233,14200,14102,13490]\n",
    "y11 = [13120,11781,11291,11003,10112]\n",
    "y12 = [14854,14741,12531,11029,10190]\n",
    "y13 = [13779,13790,13100,12781,11621]\n",
    "y14 = [14209,14153,13568,13533,12230]\n",
    "y15 = [15192,15042,13903,13291,12392]\n",
    "y16 = [12846,12730,12107,11009,10204]\n",
    "y17 = [15032,14829,13592,13440,12721]\n",
    "y18 = [14843,12940,12489,12091,11700]\n",
    "y19 = [15024,14740,13249,13099,13040]\n",
    "y20 = [16903,16777,15401,15193,13762]\n",
    "\n",
    "wt_list=[y1, y2, y3, y4, y5, y6, y7, y8, y9, y10]\n",
    "for y in wt_list:\n",
    "    fig.add_trace(go.Scatter(x=x, y=y,\n",
    "                        mode='lines+markers', name=\"WT\", line_shape=\"spline\",\n",
    "                        line=dict(color='black', width=2, dash='dot'))\n",
    "                 )\n",
    "sel12_list=[y11, y12, y13, y14, y15, y16, y17, y18, y19, y20]\n",
    "for y in sel12_list:\n",
    "    fig.add_trace(go.Scatter(x=x, y=y,\n",
    "                        mode='lines+markers', name=\"<i>sel-12 (ok2078)</i>\", line_shape=\"spline\",\n",
    "                        line=dict(color='lightgrey', width=2, dash='dot'))\n",
    "                 )\n",
    "fig.update_traces(marker_line_width=2, marker_size=10)\n",
    "fig.show(config=config)"
   ]
  },
  {
   "cell_type": "markdown",
   "metadata": {},
   "source": [
    "# Figure 6B: Neurodegeneration Category Quantification (Bar Plot)"
   ]
  },
  {
   "cell_type": "code",
   "execution_count": 44,
   "metadata": {},
   "outputs": [
    {
     "data": {
      "text/html": [
       "<div>\n",
       "<style scoped>\n",
       "    .dataframe tbody tr th:only-of-type {\n",
       "        vertical-align: middle;\n",
       "    }\n",
       "\n",
       "    .dataframe tbody tr th {\n",
       "        vertical-align: top;\n",
       "    }\n",
       "\n",
       "    .dataframe thead th {\n",
       "        text-align: right;\n",
       "    }\n",
       "</style>\n",
       "<table border=\"1\" class=\"dataframe\">\n",
       "  <thead>\n",
       "    <tr style=\"text-align: right;\">\n",
       "      <th>Category</th>\n",
       "      <th>Normal</th>\n",
       "      <th>Gapped Arm</th>\n",
       "      <th>Blebs</th>\n",
       "    </tr>\n",
       "    <tr>\n",
       "      <th>Condition</th>\n",
       "      <th></th>\n",
       "      <th></th>\n",
       "      <th></th>\n",
       "    </tr>\n",
       "  </thead>\n",
       "  <tbody>\n",
       "    <tr>\n",
       "      <th>&lt;i&gt;sel-12 (ok2078)&lt;/i&gt;_108</th>\n",
       "      <td>43</td>\n",
       "      <td>26</td>\n",
       "      <td>31</td>\n",
       "    </tr>\n",
       "    <tr>\n",
       "      <th>&lt;i&gt;sel-12 (ok2078)&lt;/i&gt;_78</th>\n",
       "      <td>51</td>\n",
       "      <td>49</td>\n",
       "      <td>0</td>\n",
       "    </tr>\n",
       "    <tr>\n",
       "      <th>&lt;i&gt;sel-12 (ok2078)&lt;/i&gt;_98</th>\n",
       "      <td>45</td>\n",
       "      <td>46</td>\n",
       "      <td>9</td>\n",
       "    </tr>\n",
       "    <tr>\n",
       "      <th>PS1 C410Y_108</th>\n",
       "      <td>44</td>\n",
       "      <td>30</td>\n",
       "      <td>26</td>\n",
       "    </tr>\n",
       "    <tr>\n",
       "      <th>PS1 C410Y_78</th>\n",
       "      <td>49</td>\n",
       "      <td>46</td>\n",
       "      <td>5</td>\n",
       "    </tr>\n",
       "    <tr>\n",
       "      <th>PS1 C410Y_98</th>\n",
       "      <td>52</td>\n",
       "      <td>33</td>\n",
       "      <td>15</td>\n",
       "    </tr>\n",
       "    <tr>\n",
       "      <th>PS1 Δ169_108</th>\n",
       "      <td>66</td>\n",
       "      <td>22</td>\n",
       "      <td>12</td>\n",
       "    </tr>\n",
       "    <tr>\n",
       "      <th>PS1 Δ169_78</th>\n",
       "      <td>73</td>\n",
       "      <td>24</td>\n",
       "      <td>3</td>\n",
       "    </tr>\n",
       "    <tr>\n",
       "      <th>PS1 Δ169_98</th>\n",
       "      <td>64</td>\n",
       "      <td>30</td>\n",
       "      <td>6</td>\n",
       "    </tr>\n",
       "    <tr>\n",
       "      <th>WT PS1_108</th>\n",
       "      <td>72</td>\n",
       "      <td>20</td>\n",
       "      <td>8</td>\n",
       "    </tr>\n",
       "    <tr>\n",
       "      <th>WT PS1_78</th>\n",
       "      <td>70</td>\n",
       "      <td>25</td>\n",
       "      <td>5</td>\n",
       "    </tr>\n",
       "    <tr>\n",
       "      <th>WT PS1_98</th>\n",
       "      <td>68</td>\n",
       "      <td>32</td>\n",
       "      <td>0</td>\n",
       "    </tr>\n",
       "    <tr>\n",
       "      <th>Wildtype_108</th>\n",
       "      <td>74</td>\n",
       "      <td>26</td>\n",
       "      <td>0</td>\n",
       "    </tr>\n",
       "    <tr>\n",
       "      <th>Wildtype_78</th>\n",
       "      <td>76</td>\n",
       "      <td>24</td>\n",
       "      <td>0</td>\n",
       "    </tr>\n",
       "    <tr>\n",
       "      <th>Wildtype_98</th>\n",
       "      <td>71</td>\n",
       "      <td>29</td>\n",
       "      <td>0</td>\n",
       "    </tr>\n",
       "  </tbody>\n",
       "</table>\n",
       "</div>"
      ],
      "text/plain": [
       "Category                    Normal  Gapped Arm  Blebs\n",
       "Condition                                            \n",
       "<i>sel-12 (ok2078)</i>_108      43          26     31\n",
       "<i>sel-12 (ok2078)</i>_78       51          49      0\n",
       "<i>sel-12 (ok2078)</i>_98       45          46      9\n",
       "PS1 C410Y_108                   44          30     26\n",
       "PS1 C410Y_78                    49          46      5\n",
       "PS1 C410Y_98                    52          33     15\n",
       "PS1 Δ169_108                    66          22     12\n",
       "PS1 Δ169_78                     73          24      3\n",
       "PS1 Δ169_98                     64          30      6\n",
       "WT PS1_108                      72          20      8\n",
       "WT PS1_78                       70          25      5\n",
       "WT PS1_98                       68          32      0\n",
       "Wildtype_108                    74          26      0\n",
       "Wildtype_78                     76          24      0\n",
       "Wildtype_98                     71          29      0"
      ]
     },
     "execution_count": 44,
     "metadata": {},
     "output_type": "execute_result"
    }
   ],
   "source": [
    "#Figure 6B\n",
    "df = pd.read_csv('/Users/Joseph/Desktop/Figure_6B_Data.csv')\n",
    "df['Condition'] = df['Genotype'] + \"_\" + df[\"Age\"].astype(str)\n",
    "df = df.drop(columns=['Genotype','Age'])\n",
    "df = df.pivot(index='Condition',columns=\"Category\",values='Count')\n",
    "df = df.reset_index()\n",
    "df = df.set_index('Condition')\n",
    "\n",
    "second_column = df.pop('Gapped Arm')\n",
    "df.insert(0,'Gapped Arm', second_column)\n",
    "\n",
    "first_column = df.pop('Normal')\n",
    "df.insert(0,'Normal', first_column)\n",
    "\n",
    "df\n",
    "\n",
    "# fig = px.bar(df, \n",
    "#                 y='Count', \n",
    "#                 x=['Genotype','ge'], \n",
    "#                 color = 'Category', \n",
    "#                 color_discrete_sequence=['#1f77b4','#9467bd','#d62728'],\n",
    "#                 text = 'Age',\n",
    "#                labels={\n",
    "#                    \"Count\": \"Percentage (%)\",\n",
    "#                },\n",
    "# #                 error_y=\"SEM\",\n",
    "#             barmode = \"relative\"\n",
    "#             )\n",
    "# fig.update_yaxes(range=[0, 100])\n",
    "# # fig.update_traces(marker_color=['#1F77B4', '#FF7F0E', '#2CA02C', '#D62728', '#9467BD'], showlegend=False)\n",
    "# # fig.update_traces(textposition=\"inside\", textangle=1)\n",
    "# # fig.update_layout(uniformtext_minsize=7, uniformtext_mode='show')\n",
    "# fig.show()"
   ]
  },
  {
   "cell_type": "code",
   "execution_count": 55,
   "metadata": {},
   "outputs": [
    {
     "name": "stdout",
     "output_type": "stream",
     "text": [
      "Chi2 result of the contingency table: 233.33169934640523, p-value: 2.880366028798425e-34, dof:28\n"
     ]
    }
   ],
   "source": [
    "from scipy.stats import chi2_contingency\n",
    "chi2, p, dof, ex = chi2_contingency(df, correction=True)\n",
    "print(f\"Chi2 result of the contingency table: {chi2}, p-value: {p}, dof:{dof}\")"
   ]
  },
  {
   "cell_type": "code",
   "execution_count": 58,
   "metadata": {},
   "outputs": [
    {
     "data": {
      "text/html": [
       "<div>\n",
       "<style scoped>\n",
       "    .dataframe tbody tr th:only-of-type {\n",
       "        vertical-align: middle;\n",
       "    }\n",
       "\n",
       "    .dataframe tbody tr th {\n",
       "        vertical-align: top;\n",
       "    }\n",
       "\n",
       "    .dataframe thead th {\n",
       "        text-align: right;\n",
       "    }\n",
       "</style>\n",
       "<table border=\"1\" class=\"dataframe\">\n",
       "  <thead>\n",
       "    <tr style=\"text-align: right;\">\n",
       "      <th></th>\n",
       "      <th>Normal</th>\n",
       "      <th>Gapped</th>\n",
       "    </tr>\n",
       "  </thead>\n",
       "  <tbody>\n",
       "    <tr>\n",
       "      <th>0</th>\n",
       "      <td>76</td>\n",
       "      <td>24</td>\n",
       "    </tr>\n",
       "    <tr>\n",
       "      <th>1</th>\n",
       "      <td>51</td>\n",
       "      <td>49</td>\n",
       "    </tr>\n",
       "  </tbody>\n",
       "</table>\n",
       "</div>"
      ],
      "text/plain": [
       "   Normal  Gapped\n",
       "0      76      24\n",
       "1      51      49"
      ]
     },
     "execution_count": 58,
     "metadata": {},
     "output_type": "execute_result"
    }
   ],
   "source": [
    "df_pair= pd.DataFrame(np.array([[76,24],[51,49]]),columns=['Normal','Gapped'])\n",
    "df_pair"
   ]
  },
  {
   "cell_type": "code",
   "execution_count": 59,
   "metadata": {},
   "outputs": [
    {
     "name": "stdout",
     "output_type": "stream",
     "text": [
      "Chi2 result of the contingency table: 12.42584402977025, p-value: 0.00042343312784518466, dof:1\n"
     ]
    }
   ],
   "source": [
    "chi2, p, dof, ex = chi2_contingency(df_pair, correction=True)\n",
    "print(f\"Chi2 result of the contingency table: {chi2}, p-value: {p}, dof:{dof}\")"
   ]
  },
  {
   "cell_type": "code",
   "execution_count": 46,
   "metadata": {},
   "outputs": [
    {
     "name": "stdout",
     "output_type": "stream",
     "text": [
      "Significance results:\n",
      "Chi2 result for pair ('<i>sel-12 (ok2078)</i>_108', '<i>sel-12 (ok2078)</i>_78'): 38.73418439716312, p-value: 3.881313543045705e-09\n",
      "Chi2 result for pair ('<i>sel-12 (ok2078)</i>_108', '<i>sel-12 (ok2078)</i>_98'): 17.7010101010101, p-value: 0.00014330933954151426\n",
      "Chi2 result for pair ('<i>sel-12 (ok2078)</i>_108', 'PS1 C410Y_108'): 0.7358050298159191, p-value: 0.6921846560847107\n",
      "Chi2 result for pair ('<i>sel-12 (ok2078)</i>_108', 'PS1 C410Y_78'): 24.72463768115942, p-value: 4.276742909301065e-06\n",
      "Chi2 result for pair ('<i>sel-12 (ok2078)</i>_108', 'PS1 C410Y_98'): 7.248357444827987, p-value: 0.026670992632512425\n",
      "Chi2 result for pair ('<i>sel-12 (ok2078)</i>_108', 'PS1 Δ169_108'): 13.581893179716946, p-value: 0.0011239043939873263\n",
      "Chi2 result for pair ('<i>sel-12 (ok2078)</i>_108', 'PS1 Δ169_78'): 30.897444219066934, p-value: 1.953013455299047e-07\n",
      "Chi2 result for pair ('<i>sel-12 (ok2078)</i>_108', 'PS1 Δ169_98'): 21.29910150470898, p-value: 2.3711491537087343e-05\n",
      "Chi2 result for pair ('<i>sel-12 (ok2078)</i>_108', 'WT PS1_108'): 21.659754738015607, p-value: 1.979903479839479e-05\n",
      "Chi2 result for pair ('<i>sel-12 (ok2078)</i>_108', 'WT PS1_78'): 25.24871305454335, p-value: 3.290876789673491e-06\n",
      "Chi2 result for pair ('<i>sel-12 (ok2078)</i>_108', 'WT PS1_98'): 37.25132028580305, p-value: 8.146640991750698e-09\n",
      "Chi2 result for pair ('<i>sel-12 (ok2078)</i>_108', 'Wildtype_108'): 39.21367521367522, p-value: 3.0539267760737923e-09\n",
      "Chi2 result for pair ('<i>sel-12 (ok2078)</i>_108', 'Wildtype_78'): 40.23126050420168, p-value: 1.8360849952677045e-09\n",
      "Chi2 result for pair ('<i>sel-12 (ok2078)</i>_108', 'Wildtype_98'): 38.04082934609251, p-value: 5.489576783312608e-09\n",
      "Chi2 result for pair ('<i>sel-12 (ok2078)</i>_78', '<i>sel-12 (ok2078)</i>_98'): 9.469736842105263, p-value: 0.008783604493162192\n",
      "Chi2 result for pair ('<i>sel-12 (ok2078)</i>_78', 'PS1 C410Y_108'): 31.085409726848766, p-value: 1.777825143084965e-07\n",
      "Chi2 result for pair ('<i>sel-12 (ok2078)</i>_78', 'PS1 C410Y_78'): 5.134736842105263, p-value: 0.07673721999887077\n",
      "Chi2 result for pair ('<i>sel-12 (ok2078)</i>_78', 'PS1 C410Y_98'): 18.13165995737627, p-value: 0.00011554737040723827\n",
      "Chi2 result for pair ('<i>sel-12 (ok2078)</i>_78', 'PS1 Δ169_108'): 24.19068255687974, p-value: 5.585473890616917e-06\n",
      "Chi2 result for pair ('<i>sel-12 (ok2078)</i>_78', 'PS1 Δ169_78'): 15.464869642068052, p-value: 0.0004383754508557269\n",
      "Chi2 result for pair ('<i>sel-12 (ok2078)</i>_78', 'PS1 Δ169_98'): 12.03918547055586, p-value: 0.0024306593152623244\n",
      "Chi2 result for pair ('<i>sel-12 (ok2078)</i>_78', 'WT PS1_108'): 23.773771650759986, p-value: 6.880041834923715e-06\n",
      "Chi2 result for pair ('<i>sel-12 (ok2078)</i>_78', 'WT PS1_78'): 15.767254858163948, p-value: 0.00037686352862753244\n",
      "error in calculating Chi2 result for pair ('<i>sel-12 (ok2078)</i>_78', 'WT PS1_98')\n",
      "error in calculating Chi2 result for pair ('<i>sel-12 (ok2078)</i>_78', 'Wildtype_108')\n",
      "error in calculating Chi2 result for pair ('<i>sel-12 (ok2078)</i>_78', 'Wildtype_78')\n",
      "error in calculating Chi2 result for pair ('<i>sel-12 (ok2078)</i>_78', 'Wildtype_98')\n",
      "Chi2 result for pair ('<i>sel-12 (ok2078)</i>_98', 'PS1 C410Y_108'): 11.636799864830616, p-value: 0.002972357314459723\n",
      "Chi2 result for pair ('<i>sel-12 (ok2078)</i>_98', 'PS1 C410Y_78'): 1.3130699088145896, p-value: 0.5186453543156082\n",
      "Chi2 result for pair ('<i>sel-12 (ok2078)</i>_98', 'PS1 C410Y_98'): 4.1443951455043715, p-value: 0.12590878374251402\n",
      "Chi2 result for pair ('<i>sel-12 (ok2078)</i>_98', 'PS1 Δ169_108'): 12.87213263683852, p-value: 0.0016026988036577944\n",
      "Chi2 result for pair ('<i>sel-12 (ok2078)</i>_98', 'PS1 Δ169_78'): 16.558353510895884, p-value: 0.00025374600909206917\n",
      "Chi2 result for pair ('<i>sel-12 (ok2078)</i>_98', 'PS1 Δ169_98'): 7.280347658136165, p-value: 0.02624778094180602\n",
      "Chi2 result for pair ('<i>sel-12 (ok2078)</i>_98', 'WT PS1_108'): 16.532017002605237, p-value: 0.0002571094980638602\n",
      "Chi2 result for pair ('<i>sel-12 (ok2078)</i>_98', 'WT PS1_78'): 12.788907357186599, p-value: 0.0016707984073072407\n",
      "Chi2 result for pair ('<i>sel-12 (ok2078)</i>_98', 'WT PS1_98'): 16.194236442024053, p-value: 0.0003044151323937795\n",
      "Chi2 result for pair ('<i>sel-12 (ok2078)</i>_98', 'Wildtype_108'): 21.62278244631186, p-value: 2.0168446623746725e-05\n",
      "Chi2 result for pair ('<i>sel-12 (ok2078)</i>_98', 'Wildtype_78'): 23.856434474616293, p-value: 6.601476397824729e-06\n",
      "Chi2 result for pair ('<i>sel-12 (ok2078)</i>_98', 'Wildtype_98'): 18.680919540229887, p-value: 8.779905942192332e-05\n",
      "Chi2 result for pair ('PS1 C410Y_108', 'PS1 C410Y_78'): 17.86304470854556, p-value: 0.00013215668202196313\n",
      "Chi2 result for pair ('PS1 C410Y_108', 'PS1 C410Y_98'): 3.7607433217189317, p-value: 0.1525334045244993\n",
      "Chi2 result for pair ('PS1 C410Y_108', 'PS1 Δ169_108'): 10.788663967611337, p-value: 0.004542253684565934\n",
      "Chi2 result for pair ('PS1 C410Y_108', 'PS1 Δ169_78'): 26.096080165045684, p-value: 2.154309975809101e-06\n",
      "Chi2 result for pair ('PS1 C410Y_108', 'PS1 Δ169_98'): 16.203703703703702, p-value: 0.0003029775487145488\n",
      "Chi2 result for pair ('PS1 C410Y_108', 'WT PS1_108'): 18.288032454361055, p-value: 0.00010685730334222163\n",
      "Chi2 result for pair ('PS1 C410Y_108', 'WT PS1_78'): 20.610176467561867, p-value: 3.34623967796192e-05\n",
      "Chi2 result for pair ('PS1 C410Y_108', 'WT PS1_98'): 31.207373271889402, p-value: 1.6726496987829847e-07\n",
      "Chi2 result for pair ('PS1 C410Y_108', 'Wildtype_108'): 33.912832929782084, p-value: 4.3243605470564505e-08\n",
      "Chi2 result for pair ('PS1 C410Y_108', 'Wildtype_78'): 35.2, p-value: 2.2720459927738582e-08\n",
      "Chi2 result for pair ('PS1 C410Y_108', 'Wildtype_98'): 32.356079587324984, p-value: 9.418171394735977e-08\n",
      "Chi2 result for pair ('PS1 C410Y_78', 'PS1 C410Y_98'): 7.228349417220203, p-value: 0.026939148693012664\n",
      "Chi2 result for pair ('PS1 C410Y_78', 'PS1 Δ169_108'): 13.86598465473146, p-value: 0.0009750787437902958\n",
      "Chi2 result for pair ('PS1 C410Y_78', 'PS1 Δ169_78'): 12.13559718969555, p-value: 0.0023162666435133845\n",
      "Chi2 result for pair ('PS1 C410Y_78', 'PS1 Δ169_98'): 5.4504805860185455, p-value: 0.06553045431591806\n",
      "Chi2 result for pair ('PS1 C410Y_78', 'WT PS1_108'): 15.306632761178216, p-value: 0.0004744680004788464\n",
      "Chi2 result for pair ('PS1 C410Y_78', 'WT PS1_78'): 9.91714995857498, p-value: 0.00702292852390598\n",
      "Chi2 result for pair ('PS1 C410Y_78', 'WT PS1_98'): 10.598290598290598, p-value: 0.004995862050221815\n",
      "Chi2 result for pair ('PS1 C410Y_78', 'Wildtype_108'): 15.636856368563684, p-value: 0.0004022534544613814\n",
      "Chi2 result for pair ('PS1 C410Y_78', 'Wildtype_78'): 17.746285714285715, p-value: 0.00014010157578059324\n",
      "Chi2 result for pair ('PS1 C410Y_78', 'Wildtype_98'): 12.886666666666667, p-value: 0.0015910941840900554\n",
      "Chi2 result for pair ('PS1 C410Y_98', 'PS1 Δ169_108'): 4.194350282485876, p-value: 0.1228028394176385\n",
      "Chi2 result for pair ('PS1 C410Y_98', 'PS1 Δ169_78'): 12.949052631578947, p-value: 0.001542229294021671\n",
      "Chi2 result for pair ('PS1 C410Y_98', 'PS1 Δ169_98'): 5.241379310344827, p-value: 0.07275267126594448\n",
      "Chi2 result for pair ('PS1 C410Y_98', 'WT PS1_108'): 8.544920479504617, p-value: 0.013947426894262697\n",
      "Chi2 result for pair ('PS1 C410Y_98', 'WT PS1_78'): 8.759185980780103, p-value: 0.012530457599997536\n",
      "Chi2 result for pair ('PS1 C410Y_98', 'WT PS1_98'): 17.148717948717948, p-value: 0.00018888749695237988\n",
      "Chi2 result for pair ('PS1 C410Y_98', 'Wildtype_108'): 19.67177831584611, p-value: 5.349677651556492e-05\n",
      "Chi2 result for pair ('PS1 C410Y_98', 'Wildtype_78'): 20.921052631578945, p-value: 2.8645152801839515e-05\n",
      "Chi2 result for pair ('PS1 C410Y_98', 'Wildtype_98'): 18.19302386572253, p-value: 0.00011205598641503322\n",
      "Chi2 result for pair ('PS1 Δ169_108', 'PS1 Δ169_78'): 5.8394745073506416, p-value: 0.05394786004030671\n",
      "Chi2 result for pair ('PS1 Δ169_108', 'PS1 Δ169_98'): 3.2615384615384615, p-value: 0.19577891702235775\n",
      "Chi2 result for pair ('PS1 Δ169_108', 'WT PS1_108'): 1.1561076604554867, p-value: 0.5609890848591693\n",
      "Chi2 result for pair ('PS1 Δ169_108', 'WT PS1_78'): 3.1914893617021276, p-value: 0.20275748265430635\n",
      "Chi2 result for pair ('PS1 Δ169_108', 'WT PS1_98'): 13.881702598120508, p-value: 0.0009674456609210987\n",
      "Chi2 result for pair ('PS1 Δ169_108', 'Wildtype_108'): 12.790476190476191, p-value: 0.0016694883191211165\n",
      "Chi2 result for pair ('PS1 Δ169_108', 'Wildtype_78'): 12.791181873851807, p-value: 0.0016688993579559578\n",
      "Chi2 result for pair ('PS1 Δ169_108', 'Wildtype_98'): 13.143266065550307, p-value: 0.001399510099155379\n",
      "Chi2 result for pair ('PS1 Δ169_78', 'PS1 Δ169_98'): 2.2579075425790753, p-value: 0.3233713999464436\n",
      "Chi2 result for pair ('PS1 Δ169_78', 'WT PS1_108'): 2.6432601880877744, p-value: 0.26670020102527575\n",
      "Chi2 result for pair ('PS1 Δ169_78', 'WT PS1_78'): 0.5833452262023691, p-value: 0.7470130582329904\n",
      "Chi2 result for pair ('PS1 Δ169_78', 'WT PS1_98'): 4.32016210739615, p-value: 0.11531577388933707\n",
      "Chi2 result for pair ('PS1 Δ169_78', 'Wildtype_108'): 3.0868027210884352, p-value: 0.21365315271698698\n",
      "Chi2 result for pair ('PS1 Δ169_78', 'Wildtype_78'): 3.0604026845637584, p-value: 0.21649207391938566\n",
      "Chi2 result for pair ('PS1 Δ169_78', 'Wildtype_98'): 3.499475890985325, p-value: 0.17381948766285657\n",
      "Chi2 result for pair ('PS1 Δ169_98', 'WT PS1_108'): 2.7563025210084033, p-value: 0.25204408645949206\n",
      "Chi2 result for pair ('PS1 Δ169_98', 'WT PS1_78'): 0.8141112618724559, p-value: 0.6656071609220191\n",
      "Chi2 result for pair ('PS1 Δ169_98', 'WT PS1_98'): 6.185728250244379, p-value: 0.04537181756695727\n",
      "Chi2 result for pair ('PS1 Δ169_98', 'Wildtype_108'): 7.010351966873706, p-value: 0.03004148607498323\n",
      "Chi2 result for pair ('PS1 Δ169_98', 'Wildtype_78'): 7.6952380952380945, p-value: 0.021330462842128344\n",
      "Chi2 result for pair ('PS1 Δ169_98', 'Wildtype_98'): 6.379912115505336, p-value: 0.041173680163354064\n",
      "Chi2 result for pair ('WT PS1_108', 'WT PS1_78'): 1.2760322619477549, p-value: 0.5283395414793095\n",
      "Chi2 result for pair ('WT PS1_108', 'WT PS1_98'): 10.883516483516484, p-value: 0.0043318601136834835\n",
      "Chi2 result for pair ('WT PS1_108', 'Wildtype_108'): 8.810005955926147, p-value: 0.01221607003578374\n",
      "Chi2 result for pair ('WT PS1_108', 'Wildtype_78'): 8.471744471744472, p-value: 0.014467185894367556\n",
      "Chi2 result for pair ('WT PS1_108', 'Wildtype_98'): 9.660054231482803, p-value: 0.00798630470844623\n",
      "Chi2 result for pair ('WT PS1_78', 'WT PS1_98'): 5.888634630053394, p-value: 0.052637982712690795\n",
      "Chi2 result for pair ('WT PS1_78', 'Wildtype_108'): 5.1307189542483655, p-value: 0.07689153572499438\n",
      "Chi2 result for pair ('WT PS1_78', 'Wildtype_78'): 5.2669835057310594, p-value: 0.07182722095320848\n",
      "Chi2 result for pair ('WT PS1_78', 'Wildtype_98'): 5.303388494877857, p-value: 0.0705316137676514\n",
      "error in calculating Chi2 result for pair ('WT PS1_98', 'Wildtype_108')\n",
      "error in calculating Chi2 result for pair ('WT PS1_98', 'Wildtype_78')\n",
      "error in calculating Chi2 result for pair ('WT PS1_98', 'Wildtype_98')\n",
      "error in calculating Chi2 result for pair ('Wildtype_108', 'Wildtype_78')\n",
      "error in calculating Chi2 result for pair ('Wildtype_108', 'Wildtype_98')\n",
      "error in calculating Chi2 result for pair ('Wildtype_78', 'Wildtype_98')\n"
     ]
    }
   ],
   "source": [
    "from itertools import combinations\n",
    "\n",
    "# gathering all combinations for post-hoc chi2\n",
    "all_combinations = list(combinations(df.index, 2))\n",
    "print(\"Significance results:\")\n",
    "for comb in all_combinations:\n",
    "    try:\n",
    "        # subset df into a dataframe containing only the pair \"comb\"\n",
    "        new_df = df[(df.index == comb[0]) | (df.index == comb[1])]\n",
    "        # running chi2 test\n",
    "        chi2, p, dof, ex = chi2_contingency(new_df, correction=False)\n",
    "        print(f\"Chi2 result for pair {comb}: {chi2}, p-value: {p}\")\n",
    "    except:\n",
    "        print(f\"error in calculating Chi2 result for pair {comb}\")"
   ]
  },
  {
   "cell_type": "code",
   "execution_count": 40,
   "metadata": {},
   "outputs": [
    {
     "name": "stdout",
     "output_type": "stream",
     "text": [
      "Chi2 result for pair ('<i>sel-12 (ok2078)</i>_108', '<i>sel-12 (ok2078)</i>_78'): 38.73418439716312, p-value: 3.881313543045705e-09\n",
      "Chi2 result for pair ('<i>sel-12 (ok2078)</i>_108', '<i>sel-12 (ok2078)</i>_98'): 17.7010101010101, p-value: 0.00014330933954151426\n",
      "Chi2 result for pair ('<i>sel-12 (ok2078)</i>_108', 'PS1 C410Y_108'): 0.7358050298159191, p-value: 0.6921846560847107\n",
      "Chi2 result for pair ('<i>sel-12 (ok2078)</i>_108', 'PS1 C410Y_78'): 24.72463768115942, p-value: 4.276742909301065e-06\n",
      "Chi2 result for pair ('<i>sel-12 (ok2078)</i>_108', 'PS1 C410Y_98'): 7.248357444827988, p-value: 0.026670992632512425\n",
      "Chi2 result for pair ('<i>sel-12 (ok2078)</i>_108', 'PS1 Δ169_108'): 13.58189317971695, p-value: 0.0011239043939873252\n",
      "Chi2 result for pair ('<i>sel-12 (ok2078)</i>_108', 'PS1 Δ169_78'): 30.897444219066934, p-value: 1.953013455299047e-07\n",
      "Chi2 result for pair ('<i>sel-12 (ok2078)</i>_108', 'PS1 Δ169_98'): 21.299101504708982, p-value: 2.3711491537087302e-05\n",
      "Chi2 result for pair ('<i>sel-12 (ok2078)</i>_108', 'WT PS1_108'): 21.659754738015607, p-value: 1.979903479839479e-05\n",
      "Chi2 result for pair ('<i>sel-12 (ok2078)</i>_108', 'WT PS1_78'): 25.24871305454335, p-value: 3.290876789673491e-06\n",
      "Chi2 result for pair ('<i>sel-12 (ok2078)</i>_108', 'WT PS1_98'): 37.25132028580305, p-value: 8.146640991750698e-09\n",
      "Chi2 result for pair ('<i>sel-12 (ok2078)</i>_108', 'Wildtype_108'): 39.21367521367522, p-value: 3.0539267760737923e-09\n",
      "Chi2 result for pair ('<i>sel-12 (ok2078)</i>_108', 'Wildtype_78'): 40.231260504201686, p-value: 1.8360849952676975e-09\n",
      "Chi2 result for pair ('<i>sel-12 (ok2078)</i>_108', 'Wildtype_98'): 38.0408293460925, p-value: 5.4895767833126285e-09\n",
      "Chi2 result for pair ('<i>sel-12 (ok2078)</i>_78', '<i>sel-12 (ok2078)</i>_98'): 9.469736842105263, p-value: 0.008783604493162192\n",
      "Chi2 result for pair ('<i>sel-12 (ok2078)</i>_78', 'PS1 C410Y_108'): 31.085409726848766, p-value: 1.777825143084965e-07\n",
      "Chi2 result for pair ('<i>sel-12 (ok2078)</i>_78', 'PS1 C410Y_78'): 5.134736842105262, p-value: 0.0767372199988708\n",
      "Chi2 result for pair ('<i>sel-12 (ok2078)</i>_78', 'PS1 C410Y_98'): 18.131659957376275, p-value: 0.00011554737040723807\n",
      "Chi2 result for pair ('<i>sel-12 (ok2078)</i>_78', 'PS1 Δ169_108'): 24.190682556879736, p-value: 5.585473890616916e-06\n",
      "Chi2 result for pair ('<i>sel-12 (ok2078)</i>_78', 'PS1 Δ169_78'): 15.46486964206805, p-value: 0.0004383754508557273\n",
      "Chi2 result for pair ('<i>sel-12 (ok2078)</i>_78', 'PS1 Δ169_98'): 12.039185470555864, p-value: 0.0024306593152623192\n",
      "Chi2 result for pair ('<i>sel-12 (ok2078)</i>_78', 'WT PS1_108'): 23.773771650759986, p-value: 6.880041834923715e-06\n",
      "Chi2 result for pair ('<i>sel-12 (ok2078)</i>_78', 'WT PS1_78'): 15.76725485816395, p-value: 0.0003768635286275324\n",
      "error in calculating Chi2 result for pair ('<i>sel-12 (ok2078)</i>_78', 'WT PS1_98')\n",
      "error in calculating Chi2 result for pair ('<i>sel-12 (ok2078)</i>_78', 'Wildtype_108')\n",
      "error in calculating Chi2 result for pair ('<i>sel-12 (ok2078)</i>_78', 'Wildtype_78')\n",
      "error in calculating Chi2 result for pair ('<i>sel-12 (ok2078)</i>_78', 'Wildtype_98')\n",
      "Chi2 result for pair ('<i>sel-12 (ok2078)</i>_98', 'PS1 C410Y_108'): 11.636799864830616, p-value: 0.002972357314459723\n",
      "Chi2 result for pair ('<i>sel-12 (ok2078)</i>_98', 'PS1 C410Y_78'): 1.3130699088145896, p-value: 0.5186453543156082\n",
      "Chi2 result for pair ('<i>sel-12 (ok2078)</i>_98', 'PS1 C410Y_98'): 4.1443951455043715, p-value: 0.12590878374251402\n",
      "Chi2 result for pair ('<i>sel-12 (ok2078)</i>_98', 'PS1 Δ169_108'): 12.872132636838518, p-value: 0.001602698803657795\n",
      "Chi2 result for pair ('<i>sel-12 (ok2078)</i>_98', 'PS1 Δ169_78'): 16.558353510895884, p-value: 0.00025374600909206917\n",
      "Chi2 result for pair ('<i>sel-12 (ok2078)</i>_98', 'PS1 Δ169_98'): 7.280347658136166, p-value: 0.026247780941806\n",
      "Chi2 result for pair ('<i>sel-12 (ok2078)</i>_98', 'WT PS1_108'): 16.532017002605237, p-value: 0.0002571094980638602\n",
      "Chi2 result for pair ('<i>sel-12 (ok2078)</i>_98', 'WT PS1_78'): 12.788907357186599, p-value: 0.0016707984073072407\n",
      "Chi2 result for pair ('<i>sel-12 (ok2078)</i>_98', 'WT PS1_98'): 16.194236442024053, p-value: 0.0003044151323937795\n",
      "Chi2 result for pair ('<i>sel-12 (ok2078)</i>_98', 'Wildtype_108'): 21.62278244631186, p-value: 2.0168446623746725e-05\n",
      "Chi2 result for pair ('<i>sel-12 (ok2078)</i>_98', 'Wildtype_78'): 23.856434474616293, p-value: 6.601476397824729e-06\n",
      "Chi2 result for pair ('<i>sel-12 (ok2078)</i>_98', 'Wildtype_98'): 18.680919540229887, p-value: 8.779905942192332e-05\n",
      "Chi2 result for pair ('PS1 C410Y_108', 'PS1 C410Y_78'): 17.86304470854556, p-value: 0.00013215668202196313\n",
      "Chi2 result for pair ('PS1 C410Y_108', 'PS1 C410Y_98'): 3.7607433217189317, p-value: 0.1525334045244993\n",
      "Chi2 result for pair ('PS1 C410Y_108', 'PS1 Δ169_108'): 10.788663967611335, p-value: 0.004542253684565939\n",
      "Chi2 result for pair ('PS1 C410Y_108', 'PS1 Δ169_78'): 26.096080165045684, p-value: 2.154309975809101e-06\n",
      "Chi2 result for pair ('PS1 C410Y_108', 'PS1 Δ169_98'): 16.203703703703702, p-value: 0.0003029775487145488\n",
      "Chi2 result for pair ('PS1 C410Y_108', 'WT PS1_108'): 18.288032454361055, p-value: 0.00010685730334222163\n",
      "Chi2 result for pair ('PS1 C410Y_108', 'WT PS1_78'): 20.610176467561864, p-value: 3.346239677961923e-05\n",
      "Chi2 result for pair ('PS1 C410Y_108', 'WT PS1_98'): 31.207373271889402, p-value: 1.6726496987829847e-07\n",
      "Chi2 result for pair ('PS1 C410Y_108', 'Wildtype_108'): 33.912832929782084, p-value: 4.3243605470564505e-08\n",
      "Chi2 result for pair ('PS1 C410Y_108', 'Wildtype_78'): 35.2, p-value: 2.2720459927738582e-08\n",
      "Chi2 result for pair ('PS1 C410Y_108', 'Wildtype_98'): 32.356079587324984, p-value: 9.418171394735977e-08\n",
      "Chi2 result for pair ('PS1 C410Y_78', 'PS1 C410Y_98'): 7.228349417220203, p-value: 0.026939148693012664\n",
      "Chi2 result for pair ('PS1 C410Y_78', 'PS1 Δ169_108'): 13.86598465473146, p-value: 0.0009750787437902958\n",
      "Chi2 result for pair ('PS1 C410Y_78', 'PS1 Δ169_78'): 12.135597189695549, p-value: 0.0023162666435133845\n",
      "Chi2 result for pair ('PS1 C410Y_78', 'PS1 Δ169_98'): 5.4504805860185455, p-value: 0.06553045431591806\n",
      "Chi2 result for pair ('PS1 C410Y_78', 'WT PS1_108'): 15.306632761178216, p-value: 0.0004744680004788464\n",
      "Chi2 result for pair ('PS1 C410Y_78', 'WT PS1_78'): 9.91714995857498, p-value: 0.00702292852390598\n",
      "Chi2 result for pair ('PS1 C410Y_78', 'WT PS1_98'): 10.598290598290598, p-value: 0.004995862050221815\n",
      "Chi2 result for pair ('PS1 C410Y_78', 'Wildtype_108'): 15.636856368563686, p-value: 0.0004022534544613806\n",
      "Chi2 result for pair ('PS1 C410Y_78', 'Wildtype_78'): 17.746285714285715, p-value: 0.00014010157578059324\n",
      "Chi2 result for pair ('PS1 C410Y_78', 'Wildtype_98'): 12.886666666666667, p-value: 0.0015910941840900554\n",
      "Chi2 result for pair ('PS1 C410Y_98', 'PS1 Δ169_108'): 4.1943502824858765, p-value: 0.12280283941763848\n",
      "Chi2 result for pair ('PS1 C410Y_98', 'PS1 Δ169_78'): 12.949052631578947, p-value: 0.001542229294021671\n",
      "Chi2 result for pair ('PS1 C410Y_98', 'PS1 Δ169_98'): 5.241379310344827, p-value: 0.07275267126594448\n",
      "Chi2 result for pair ('PS1 C410Y_98', 'WT PS1_108'): 8.544920479504619, p-value: 0.013947426894262689\n",
      "Chi2 result for pair ('PS1 C410Y_98', 'WT PS1_78'): 8.759185980780103, p-value: 0.012530457599997536\n",
      "Chi2 result for pair ('PS1 C410Y_98', 'WT PS1_98'): 17.148717948717948, p-value: 0.00018888749695237988\n",
      "Chi2 result for pair ('PS1 C410Y_98', 'Wildtype_108'): 19.67177831584611, p-value: 5.349677651556492e-05\n",
      "Chi2 result for pair ('PS1 C410Y_98', 'Wildtype_78'): 20.921052631578945, p-value: 2.8645152801839515e-05\n",
      "Chi2 result for pair ('PS1 C410Y_98', 'Wildtype_98'): 18.193023865722527, p-value: 0.00011205598641503343\n",
      "Chi2 result for pair ('PS1 Δ169_108', 'PS1 Δ169_78'): 5.839474507350642, p-value: 0.05394786004030668\n",
      "Chi2 result for pair ('PS1 Δ169_108', 'PS1 Δ169_98'): 3.2615384615384615, p-value: 0.19577891702235775\n",
      "Chi2 result for pair ('PS1 Δ169_108', 'WT PS1_108'): 1.1561076604554865, p-value: 0.5609890848591693\n",
      "Chi2 result for pair ('PS1 Δ169_108', 'WT PS1_78'): 3.191489361702127, p-value: 0.20275748265430632\n",
      "Chi2 result for pair ('PS1 Δ169_108', 'WT PS1_98'): 13.881702598120508, p-value: 0.0009674456609210987\n",
      "Chi2 result for pair ('PS1 Δ169_108', 'Wildtype_108'): 12.79047619047619, p-value: 0.001669488319121118\n",
      "Chi2 result for pair ('PS1 Δ169_108', 'Wildtype_78'): 12.791181873851805, p-value: 0.0016688993579559595\n",
      "Chi2 result for pair ('PS1 Δ169_108', 'Wildtype_98'): 13.143266065550307, p-value: 0.001399510099155379\n",
      "Chi2 result for pair ('PS1 Δ169_78', 'PS1 Δ169_98'): 2.2579075425790753, p-value: 0.3233713999464436\n",
      "Chi2 result for pair ('PS1 Δ169_78', 'WT PS1_108'): 2.6432601880877744, p-value: 0.26670020102527575\n",
      "Chi2 result for pair ('PS1 Δ169_78', 'WT PS1_78'): 0.5833452262023691, p-value: 0.7470130582329904\n",
      "Chi2 result for pair ('PS1 Δ169_78', 'WT PS1_98'): 4.32016210739615, p-value: 0.11531577388933707\n",
      "Chi2 result for pair ('PS1 Δ169_78', 'Wildtype_108'): 3.0868027210884357, p-value: 0.21365315271698693\n",
      "Chi2 result for pair ('PS1 Δ169_78', 'Wildtype_78'): 3.0604026845637584, p-value: 0.21649207391938566\n",
      "Chi2 result for pair ('PS1 Δ169_78', 'Wildtype_98'): 3.499475890985325, p-value: 0.17381948766285657\n",
      "Chi2 result for pair ('PS1 Δ169_98', 'WT PS1_108'): 2.7563025210084033, p-value: 0.25204408645949206\n",
      "Chi2 result for pair ('PS1 Δ169_98', 'WT PS1_78'): 0.814111261872456, p-value: 0.6656071609220191\n",
      "Chi2 result for pair ('PS1 Δ169_98', 'WT PS1_98'): 6.185728250244379, p-value: 0.04537181756695727\n",
      "Chi2 result for pair ('PS1 Δ169_98', 'Wildtype_108'): 7.010351966873706, p-value: 0.03004148607498323\n",
      "Chi2 result for pair ('PS1 Δ169_98', 'Wildtype_78'): 7.695238095238095, p-value: 0.021330462842128337\n",
      "Chi2 result for pair ('PS1 Δ169_98', 'Wildtype_98'): 6.379912115505336, p-value: 0.041173680163354064\n",
      "Chi2 result for pair ('WT PS1_108', 'WT PS1_78'): 1.2760322619477549, p-value: 0.5283395414793095\n",
      "Chi2 result for pair ('WT PS1_108', 'WT PS1_98'): 10.883516483516484, p-value: 0.0043318601136834835\n",
      "Chi2 result for pair ('WT PS1_108', 'Wildtype_108'): 8.810005955926146, p-value: 0.012216070035783743\n",
      "Chi2 result for pair ('WT PS1_108', 'Wildtype_78'): 8.471744471744472, p-value: 0.014467185894367556\n",
      "Chi2 result for pair ('WT PS1_108', 'Wildtype_98'): 9.660054231482803, p-value: 0.00798630470844623\n",
      "Chi2 result for pair ('WT PS1_78', 'WT PS1_98'): 5.888634630053394, p-value: 0.052637982712690795\n",
      "Chi2 result for pair ('WT PS1_78', 'Wildtype_108'): 5.1307189542483655, p-value: 0.07689153572499438\n",
      "Chi2 result for pair ('WT PS1_78', 'Wildtype_78'): 5.2669835057310594, p-value: 0.07182722095320848\n",
      "Chi2 result for pair ('WT PS1_78', 'Wildtype_98'): 5.303388494877856, p-value: 0.07053161376765142\n",
      "error in calculating Chi2 result for pair ('WT PS1_98', 'Wildtype_108')\n",
      "error in calculating Chi2 result for pair ('WT PS1_98', 'Wildtype_78')\n",
      "error in calculating Chi2 result for pair ('WT PS1_98', 'Wildtype_98')\n",
      "error in calculating Chi2 result for pair ('Wildtype_108', 'Wildtype_78')\n",
      "error in calculating Chi2 result for pair ('Wildtype_108', 'Wildtype_98')\n",
      "error in calculating Chi2 result for pair ('Wildtype_78', 'Wildtype_98')\n"
     ]
    }
   ],
   "source": [
    "from itertools import combinations\n",
    "\n",
    "# gathering all combinations for post-hoc chi2\n",
    "all_combinations = list(combinations(df.index, 2))\n",
    "p_vals = []\n",
    "for comb in all_combinations:\n",
    "    try:\n",
    "        # subset df into a dataframe containing only the pair \"comb\"\n",
    "        new_df = df[(df.index == comb[0]) | (df.index == comb[1])]\n",
    "        # running chi2 test\n",
    "        chi2, p, dof, ex = chi2_contingency(new_df, correction=True)\n",
    "        print(f\"Chi2 result for pair {comb}: {chi2}, p-value: {p}\")\n",
    "        p_vals.append(p)\n",
    "    except:\n",
    "        print(f\"error in calculating Chi2 result for pair {comb}\")\n",
    "        p_vals.append(0)"
   ]
  },
  {
   "cell_type": "code",
   "execution_count": 41,
   "metadata": {},
   "outputs": [],
   "source": [
    "from statsmodels.sandbox.stats.multicomp import multipletests\n",
    "\n",
    "reject_list, corrected_p_vals = multipletests(p_vals, method='fdr_bh')[:2]"
   ]
  },
  {
   "cell_type": "code",
   "execution_count": 42,
   "metadata": {},
   "outputs": [
    {
     "name": "stdout",
     "output_type": "stream",
     "text": [
      "original p-value\tcorrected p-value\treject?\n",
      "3.881313543045705e-09 \t 3.1349070924599924e-08 \t True\n",
      "0.00014330933954151426 \t 0.00037618701629647496 \t True\n",
      "0.6921846560847107 \t 0.6988402777778329 \t False\n",
      "4.276742909301065e-06 \t 1.871075022819216e-05 \t True\n",
      "0.026670992632512425 \t 0.037218560694293815 \t True\n",
      "0.0011239043939873252 \t 0.0022694223340128683 \t True\n",
      "1.953013455299047e-07 \t 9.765067276495235e-07 \t True\n",
      "2.3711491537087302e-05 \t 8.299022037980557e-05 \t True\n",
      "1.979903479839479e-05 \t 7.302368605149676e-05 \t True\n",
      "3.290876789673491e-06 \t 1.502356795285724e-05 \t True\n",
      "8.146640991750698e-09 \t 5.702648694225489e-08 \t True\n",
      "3.0539267760737923e-09 \t 2.6721859290645685e-08 \t True\n",
      "1.8360849952676975e-09 \t 1.752626586391893e-08 \t True\n",
      "5.4895767833126285e-09 \t 4.117182587484471e-08 \t True\n",
      "0.008783604493162192 \t 0.013562918702676913 \t True\n",
      "1.777825143084965e-07 \t 9.333582001196067e-07 \t True\n",
      "0.0767372199988708 \t 0.09280012932326907 \t False\n",
      "0.00011554737040723807 \t 0.0003279046998043242 \t True\n",
      "5.585473890616916e-06 \t 2.345899034059105e-05 \t True\n",
      "0.0004383754508557273 \t 0.0009589462987469034 \t True\n",
      "0.0024306593152623192 \t 0.004183921772172844 \t True\n",
      "6.880041834923715e-06 \t 2.6755718246925562e-05 \t True\n",
      "0.0003768635286275324 \t 0.0008602319675193674 \t True\n",
      "0 \t 0.0 \t True\n",
      "0 \t 0.0 \t True\n",
      "0 \t 0.0 \t True\n",
      "0 \t 0.0 \t True\n",
      "0.002972357314459723 \t 0.005033830935778564 \t True\n",
      "0.5186453543156082 \t 0.5445776220313886 \t False\n",
      "0.12590878374251402 \t 0.14689358103293304 \t False\n",
      "0.001602698803657795 \t 0.0029734547926654285 \t True\n",
      "0.00025374600909206917 \t 0.0006278255185280308 \t True\n",
      "0.026247780941806 \t 0.037218560694293815 \t True\n",
      "0.0002571094980638602 \t 0.0006278255185280308 \t True\n",
      "0.0016707984073072407 \t 0.0029734547926654285 \t True\n",
      "0.0003044151323937795 \t 0.0007103019755854856 \t True\n",
      "2.0168446623746725e-05 \t 7.302368605149676e-05 \t True\n",
      "6.601476397824729e-06 \t 2.665980852967679e-05 \t True\n",
      "8.779905942192332e-05 \t 0.0002711441540971161 \t True\n",
      "0.00013215668202196313 \t 0.0003651697792712139 \t True\n",
      "0.1525334045244993 \t 0.176000082143653 \t False\n",
      "0.004542253684565939 \t 0.007452134951240993 \t True\n",
      "2.154309975809101e-06 \t 1.0281933975452526e-05 \t True\n",
      "0.0003029775487145488 \t 0.0007103019755854856 \t True\n",
      "0.00010685730334222163 \t 0.00032057191002666494 \t True\n",
      "3.346239677961923e-05 \t 0.00010979848943312559 \t True\n",
      "1.6726496987829847e-07 \t 9.243590440642811e-07 \t True\n",
      "4.3243605470564505e-08 \t 2.670928573181925e-07 \t True\n",
      "2.2720459927738582e-08 \t 1.4910301827578445e-07 \t True\n",
      "9.418171394735977e-08 \t 5.493933313595987e-07 \t True\n",
      "0.026939148693012664 \t 0.037218560694293815 \t True\n",
      "0.0009750787437902958 \t 0.0020075150607447266 \t True\n",
      "0.0023162666435133845 \t 0.004053466626148423 \t True\n",
      "0.06553045431591806 \t 0.08391094759965118 \t False\n",
      "0.0004744680004788464 \t 0.0010167171438832422 \t True\n",
      "0.00702292852390598 \t 0.011172840833486786 \t True\n",
      "0.004995862050221815 \t 0.008070238696512163 \t True\n",
      "0.0004022534544613806 \t 0.0008986513344349992 \t True\n",
      "0.00014010157578059324 \t 0.00037618701629647496 \t True\n",
      "0.0015910941840900554 \t 0.0029734547926654285 \t True\n",
      "0.12280283941763848 \t 0.14487975436912404 \t False\n",
      "0.001542229294021671 \t 0.0029734547926654285 \t True\n",
      "0.07275267126594448 \t 0.08987094685793141 \t False\n",
      "0.013947426894262689 \t 0.020626476392923695 \t True\n",
      "0.012530457599997536 \t 0.018795686399996306 \t True\n",
      "0.00018888749695237988 \t 0.00048373627268292406 \t True\n",
      "5.349677651556492e-05 \t 0.0001702170161858884 \t True\n",
      "2.8645152801839515e-05 \t 9.70239046513919e-05 \t True\n",
      "0.00011205598641503343 \t 0.00032682996037718083 \t True\n",
      "0.05394786004030668 \t 0.0699324111633605 \t False\n",
      "0.19577891702235775 \t 0.22104071276717813 \t False\n",
      "0.5609890848591693 \t 0.5774887638256154 \t False\n",
      "0.20275748265430632 \t 0.2264844221138528 \t False\n",
      "0.0009674456609210987 \t 0.0020075150607447266 \t True\n",
      "0.001669488319121118 \t 0.0029734547926654285 \t True\n",
      "0.0016688993579559595 \t 0.0029734547926654285 \t True\n",
      "0.001399510099155379 \t 0.0027726143473832984 \t True\n",
      "0.3233713999464436 \t 0.34296966660986444 \t False\n",
      "0.26670020102527575 \t 0.285750215384224 \t False\n",
      "0.7470130582329904 \t 0.7470130582329904 \t False\n",
      "0.11531577388933707 \t 0.13759268475432265 \t False\n",
      "0.21365315271698693 \t 0.23614295826614345 \t False\n",
      "0.21649207391938566 \t 0.23678820584932808 \t False\n",
      "0.17381948766285657 \t 0.1983809370065211 \t False\n",
      "0.25204408645949206 \t 0.27283122761079037 \t False\n",
      "0.6656071609220191 \t 0.6785315718137088 \t False\n",
      "0.04537181756695727 \t 0.060304314487728015 \t False\n",
      "0.03004148607498323 \t 0.04096566282952259 \t True\n",
      "0.021330462842128337 \t 0.030680802718129802 \t True\n",
      "0.041173680163354064 \t 0.05542610791220739 \t False\n",
      "0.5283395414793095 \t 0.5492638797557178 \t False\n",
      "0.0043318601136834835 \t 0.0072197668561391395 \t True\n",
      "0.012216070035783743 \t 0.018589671793583958 \t True\n",
      "0.014467185894367556 \t 0.02109797942928602 \t True\n",
      "0.00798630470844623 \t 0.012515850662490361 \t True\n",
      "0.052637982712690795 \t 0.06908735231040668 \t False\n",
      "0.07689153572499438 \t 0.09280012932326907 \t False\n",
      "0.07182722095320848 \t 0.0897840261915106 \t False\n",
      "0.07053161376765142 \t 0.08922674030847469 \t False\n",
      "0 \t 0.0 \t True\n",
      "0 \t 0.0 \t True\n",
      "0 \t 0.0 \t True\n",
      "0 \t 0.0 \t True\n",
      "0 \t 0.0 \t True\n",
      "0 \t 0.0 \t True\n"
     ]
    }
   ],
   "source": [
    "print(\"original p-value\\tcorrected p-value\\treject?\")\n",
    "for p_val, corr_p_val, reject in zip(p_vals, corrected_p_vals, reject_list):\n",
    "    print(p_val, \"\\t\", corr_p_val, \"\\t\", reject)"
   ]
  },
  {
   "cell_type": "code",
   "execution_count": 53,
   "metadata": {},
   "outputs": [],
   "source": [
    "def get_asterisks_for_pval(p_val):\n",
    "    \"\"\"Receives the p-value and returns asterisks string.\"\"\"\n",
    "    if p_val > 0.05:\n",
    "        p_text = \"ns\"  # above threshold => not significant\n",
    "    elif p_val < 1e-4:  \n",
    "        p_text = '****'\n",
    "    elif p_val < 1e-3:\n",
    "        p_text = '***'\n",
    "    elif p_val < 1e-2:\n",
    "        p_text = '**'\n",
    "    else:\n",
    "        p_text = '*'\n",
    "    \n",
    "    return p_text\n",
    "\n",
    "def chisq_and_posthoc_corrected(df):\n",
    "    \"\"\"Receives a dataframe and performs chi2 test and then post hoc.\n",
    "    Prints the p-values and corrected p-values (after FDR correction)\"\"\"\n",
    "    # start by running chi2 test on the matrix\n",
    "    chi2, p, dof, ex = chi2_contingency(df, correction=True)\n",
    "    print(f\"Chi2 result of the contingency table: {chi2}, p-value: {p}\")\n",
    "    \n",
    "    # post-hoc\n",
    "    all_combinations = list(combinations(df.index, 2))  # gathering all combinations for post-hoc chi2\n",
    "    p_vals = []\n",
    "    print(\"Significance results:\")\n",
    "    for comb in all_combinations:\n",
    "        try:\n",
    "            new_df = df[(df.index == comb[0]) | (df.index == comb[1])]\n",
    "            chi2, p, dof, ex = chi2_contingency(new_df, correction=True)\n",
    "            p_vals.append(p)\n",
    "        # print(f\"For {comb}: {p}\")  # uncorrected\n",
    "        except:\n",
    "            # print(f\"error in calculating Chi2 result for pair {comb}\")\n",
    "            p_vals.append(9.99)\n",
    "\n",
    "    # checking significance\n",
    "    # correction for multiple testing\n",
    "    reject_list, corrected_p_vals = multipletests(p_vals, method='fdr_bh')[:2]\n",
    "    for p_val, corr_p_val, reject, comb in zip(p_vals, corrected_p_vals, reject_list, all_combinations):\n",
    "        print(f\"{comb}: p_value: {p_val:5f}; corrected: {corr_p_val:5f} ({get_asterisks_for_pval(p_val)}) reject: {reject}\")"
   ]
  },
  {
   "cell_type": "code",
   "execution_count": 54,
   "metadata": {},
   "outputs": [
    {
     "name": "stdout",
     "output_type": "stream",
     "text": [
      "Chi2 result of the contingency table: 233.33169934640523, p-value: 2.880366028798425e-34\n",
      "Significance results:\n",
      "('<i>sel-12 (ok2078)</i>_108', '<i>sel-12 (ok2078)</i>_78'): p_value: 0.000000; corrected: 0.000000 (****) reject: True\n",
      "('<i>sel-12 (ok2078)</i>_108', '<i>sel-12 (ok2078)</i>_98'): p_value: 0.000143; corrected: 0.000502 (***) reject: True\n",
      "('<i>sel-12 (ok2078)</i>_108', 'PS1 C410Y_108'): p_value: 0.692185; corrected: 0.773185 (ns) reject: False\n",
      "('<i>sel-12 (ok2078)</i>_108', 'PS1 C410Y_78'): p_value: 0.000004; corrected: 0.000032 (****) reject: True\n",
      "('<i>sel-12 (ok2078)</i>_108', 'PS1 C410Y_98'): p_value: 0.026671; corrected: 0.042858 (*) reject: True\n",
      "('<i>sel-12 (ok2078)</i>_108', 'PS1 Δ169_108'): p_value: 0.001124; corrected: 0.002810 (**) reject: True\n",
      "('<i>sel-12 (ok2078)</i>_108', 'PS1 Δ169_78'): p_value: 0.000000; corrected: 0.000002 (****) reject: True\n",
      "('<i>sel-12 (ok2078)</i>_108', 'PS1 Δ169_98'): p_value: 0.000024; corrected: 0.000124 (****) reject: True\n",
      "('<i>sel-12 (ok2078)</i>_108', 'WT PS1_108'): p_value: 0.000020; corrected: 0.000111 (****) reject: True\n",
      "('<i>sel-12 (ok2078)</i>_108', 'WT PS1_78'): p_value: 0.000003; corrected: 0.000027 (****) reject: True\n",
      "('<i>sel-12 (ok2078)</i>_108', 'WT PS1_98'): p_value: 0.000000; corrected: 0.000000 (****) reject: True\n",
      "('<i>sel-12 (ok2078)</i>_108', 'Wildtype_108'): p_value: 0.000000; corrected: 0.000000 (****) reject: True\n",
      "('<i>sel-12 (ok2078)</i>_108', 'Wildtype_78'): p_value: 0.000000; corrected: 0.000000 (****) reject: True\n",
      "('<i>sel-12 (ok2078)</i>_108', 'Wildtype_98'): p_value: 0.000000; corrected: 0.000000 (****) reject: True\n",
      "('<i>sel-12 (ok2078)</i>_78', '<i>sel-12 (ok2078)</i>_98'): p_value: 0.008784; corrected: 0.015901 (**) reject: True\n",
      "('<i>sel-12 (ok2078)</i>_78', 'PS1 C410Y_108'): p_value: 0.000000; corrected: 0.000002 (****) reject: True\n",
      "('<i>sel-12 (ok2078)</i>_78', 'PS1 C410Y_78'): p_value: 0.076737; corrected: 0.104852 (ns) reject: False\n",
      "('<i>sel-12 (ok2078)</i>_78', 'PS1 C410Y_98'): p_value: 0.000116; corrected: 0.000449 (***) reject: True\n",
      "('<i>sel-12 (ok2078)</i>_78', 'PS1 Δ169_108'): p_value: 0.000006; corrected: 0.000039 (****) reject: True\n",
      "('<i>sel-12 (ok2078)</i>_78', 'PS1 Δ169_78'): p_value: 0.000438; corrected: 0.001211 (***) reject: True\n",
      "('<i>sel-12 (ok2078)</i>_78', 'PS1 Δ169_98'): p_value: 0.002431; corrected: 0.005004 (**) reject: True\n",
      "('<i>sel-12 (ok2078)</i>_78', 'WT PS1_108'): p_value: 0.000007; corrected: 0.000042 (****) reject: True\n",
      "('<i>sel-12 (ok2078)</i>_78', 'WT PS1_78'): p_value: 0.000377; corrected: 0.001099 (***) reject: True\n",
      "('<i>sel-12 (ok2078)</i>_78', 'WT PS1_98'): p_value: 9.990000; corrected: 1.000000 (ns) reject: False\n",
      "('<i>sel-12 (ok2078)</i>_78', 'Wildtype_108'): p_value: 9.990000; corrected: 1.000000 (ns) reject: False\n",
      "('<i>sel-12 (ok2078)</i>_78', 'Wildtype_78'): p_value: 9.990000; corrected: 1.000000 (ns) reject: False\n",
      "('<i>sel-12 (ok2078)</i>_78', 'Wildtype_98'): p_value: 9.990000; corrected: 1.000000 (ns) reject: False\n",
      "('<i>sel-12 (ok2078)</i>_98', 'PS1 C410Y_108'): p_value: 0.002972; corrected: 0.006002 (**) reject: True\n",
      "('<i>sel-12 (ok2078)</i>_98', 'PS1 C410Y_78'): p_value: 0.518645; corrected: 0.605086 (ns) reject: False\n",
      "('<i>sel-12 (ok2078)</i>_98', 'PS1 C410Y_98'): p_value: 0.125909; corrected: 0.165255 (ns) reject: False\n",
      "('<i>sel-12 (ok2078)</i>_98', 'PS1 Δ169_108'): p_value: 0.001603; corrected: 0.003580 (**) reject: True\n",
      "('<i>sel-12 (ok2078)</i>_98', 'PS1 Δ169_78'): p_value: 0.000254; corrected: 0.000818 (***) reject: True\n",
      "('<i>sel-12 (ok2078)</i>_98', 'PS1 Δ169_98'): p_value: 0.026248; corrected: 0.042858 (*) reject: True\n",
      "('<i>sel-12 (ok2078)</i>_98', 'WT PS1_108'): p_value: 0.000257; corrected: 0.000818 (***) reject: True\n",
      "('<i>sel-12 (ok2078)</i>_98', 'WT PS1_78'): p_value: 0.001671; corrected: 0.003580 (**) reject: True\n",
      "('<i>sel-12 (ok2078)</i>_98', 'WT PS1_98'): p_value: 0.000304; corrected: 0.000913 (***) reject: True\n",
      "('<i>sel-12 (ok2078)</i>_98', 'Wildtype_108'): p_value: 0.000020; corrected: 0.000111 (****) reject: True\n",
      "('<i>sel-12 (ok2078)</i>_98', 'Wildtype_78'): p_value: 0.000007; corrected: 0.000042 (****) reject: True\n",
      "('<i>sel-12 (ok2078)</i>_98', 'Wildtype_98'): p_value: 0.000088; corrected: 0.000384 (****) reject: True\n",
      "('PS1 C410Y_108', 'PS1 C410Y_78'): p_value: 0.000132; corrected: 0.000496 (***) reject: True\n",
      "('PS1 C410Y_108', 'PS1 C410Y_98'): p_value: 0.152533; corrected: 0.197728 (ns) reject: False\n",
      "('PS1 C410Y_108', 'PS1 Δ169_108'): p_value: 0.004542; corrected: 0.008832 (**) reject: True\n",
      "('PS1 C410Y_108', 'PS1 Δ169_78'): p_value: 0.000002; corrected: 0.000019 (****) reject: True\n",
      "('PS1 C410Y_108', 'PS1 Δ169_98'): p_value: 0.000303; corrected: 0.000913 (***) reject: True\n",
      "('PS1 C410Y_108', 'WT PS1_108'): p_value: 0.000107; corrected: 0.000449 (***) reject: True\n",
      "('PS1 C410Y_108', 'WT PS1_78'): p_value: 0.000033; corrected: 0.000160 (****) reject: True\n",
      "('PS1 C410Y_108', 'WT PS1_98'): p_value: 0.000000; corrected: 0.000002 (****) reject: True\n",
      "('PS1 C410Y_108', 'Wildtype_108'): p_value: 0.000000; corrected: 0.000001 (****) reject: True\n",
      "('PS1 C410Y_108', 'Wildtype_78'): p_value: 0.000000; corrected: 0.000000 (****) reject: True\n",
      "('PS1 C410Y_108', 'Wildtype_98'): p_value: 0.000000; corrected: 0.000001 (****) reject: True\n",
      "('PS1 C410Y_78', 'PS1 C410Y_98'): p_value: 0.026939; corrected: 0.042858 (*) reject: True\n",
      "('PS1 C410Y_78', 'PS1 Δ169_108'): p_value: 0.000975; corrected: 0.002497 (***) reject: True\n",
      "('PS1 C410Y_78', 'PS1 Δ169_78'): p_value: 0.002316; corrected: 0.004864 (**) reject: True\n",
      "('PS1 C410Y_78', 'PS1 Δ169_98'): p_value: 0.065530; corrected: 0.095565 (ns) reject: False\n",
      "('PS1 C410Y_78', 'WT PS1_108'): p_value: 0.000474; corrected: 0.001277 (***) reject: True\n",
      "('PS1 C410Y_78', 'WT PS1_78'): p_value: 0.007023; corrected: 0.013168 (**) reject: True\n",
      "('PS1 C410Y_78', 'WT PS1_98'): p_value: 0.004996; corrected: 0.009538 (**) reject: True\n",
      "('PS1 C410Y_78', 'Wildtype_108'): p_value: 0.000402; corrected: 0.001142 (***) reject: True\n",
      "('PS1 C410Y_78', 'Wildtype_78'): p_value: 0.000140; corrected: 0.000502 (***) reject: True\n",
      "('PS1 C410Y_78', 'Wildtype_98'): p_value: 0.001591; corrected: 0.003580 (**) reject: True\n",
      "('PS1 C410Y_98', 'PS1 Δ169_108'): p_value: 0.122803; corrected: 0.163219 (ns) reject: False\n",
      "('PS1 C410Y_98', 'PS1 Δ169_78'): p_value: 0.001542; corrected: 0.003580 (**) reject: True\n",
      "('PS1 C410Y_98', 'PS1 Δ169_98'): p_value: 0.072753; corrected: 0.101854 (ns) reject: False\n",
      "('PS1 C410Y_98', 'WT PS1_108'): p_value: 0.013947; corrected: 0.024008 (*) reject: True\n",
      "('PS1 C410Y_98', 'WT PS1_78'): p_value: 0.012530; corrected: 0.021928 (*) reject: True\n",
      "('PS1 C410Y_98', 'WT PS1_98'): p_value: 0.000189; corrected: 0.000640 (***) reject: True\n",
      "('PS1 C410Y_98', 'Wildtype_108'): p_value: 0.000053; corrected: 0.000244 (****) reject: True\n",
      "('PS1 C410Y_98', 'Wildtype_78'): p_value: 0.000029; corrected: 0.000143 (****) reject: True\n",
      "('PS1 C410Y_98', 'Wildtype_98'): p_value: 0.000112; corrected: 0.000449 (***) reject: True\n",
      "('PS1 Δ169_108', 'PS1 Δ169_78'): p_value: 0.053948; corrected: 0.079782 (ns) reject: False\n",
      "('PS1 Δ169_108', 'PS1 Δ169_98'): p_value: 0.195779; corrected: 0.247672 (ns) reject: False\n",
      "('PS1 Δ169_108', 'WT PS1_108'): p_value: 0.560989; corrected: 0.640259 (ns) reject: False\n",
      "('PS1 Δ169_108', 'WT PS1_78'): p_value: 0.202757; corrected: 0.253447 (ns) reject: False\n",
      "('PS1 Δ169_108', 'WT PS1_98'): p_value: 0.000967; corrected: 0.002497 (***) reject: True\n",
      "('PS1 Δ169_108', 'Wildtype_108'): p_value: 0.001669; corrected: 0.003580 (**) reject: True\n",
      "('PS1 Δ169_108', 'Wildtype_78'): p_value: 0.001669; corrected: 0.003580 (**) reject: True\n",
      "('PS1 Δ169_108', 'Wildtype_98'): p_value: 0.001400; corrected: 0.003417 (**) reject: True\n",
      "('PS1 Δ169_78', 'PS1 Δ169_98'): p_value: 0.323371; corrected: 0.381506 (ns) reject: False\n",
      "('PS1 Δ169_78', 'WT PS1_108'): p_value: 0.266700; corrected: 0.318222 (ns) reject: False\n",
      "('PS1 Δ169_78', 'WT PS1_78'): p_value: 0.747013; corrected: 0.825646 (ns) reject: False\n",
      "('PS1 Δ169_78', 'WT PS1_98'): p_value: 0.115316; corrected: 0.155233 (ns) reject: False\n",
      "('PS1 Δ169_78', 'Wildtype_108'): p_value: 0.213653; corrected: 0.263924 (ns) reject: False\n",
      "('PS1 Δ169_78', 'Wildtype_78'): p_value: 0.216492; corrected: 0.264322 (ns) reject: False\n",
      "('PS1 Δ169_78', 'Wildtype_98'): p_value: 0.173819; corrected: 0.222574 (ns) reject: False\n",
      "('PS1 Δ169_98', 'WT PS1_108'): p_value: 0.252044; corrected: 0.304191 (ns) reject: False\n",
      "('PS1 Δ169_98', 'WT PS1_78'): p_value: 0.665607; corrected: 0.751492 (ns) reject: False\n",
      "('PS1 Δ169_98', 'WT PS1_98'): p_value: 0.045372; corrected: 0.069044 (*) reject: False\n",
      "('PS1 Δ169_98', 'Wildtype_108'): p_value: 0.030041; corrected: 0.047080 (*) reject: True\n",
      "('PS1 Δ169_98', 'Wildtype_78'): p_value: 0.021330; corrected: 0.035551 (*) reject: True\n",
      "('PS1 Δ169_98', 'Wildtype_98'): p_value: 0.041174; corrected: 0.063577 (*) reject: False\n",
      "('WT PS1_108', 'WT PS1_78'): p_value: 0.528340; corrected: 0.609623 (ns) reject: False\n",
      "('WT PS1_108', 'WT PS1_98'): p_value: 0.004332; corrected: 0.008582 (**) reject: True\n",
      "('WT PS1_108', 'Wildtype_108'): p_value: 0.012216; corrected: 0.021740 (*) reject: True\n",
      "('WT PS1_108', 'Wildtype_78'): p_value: 0.014467; corrected: 0.024501 (*) reject: True\n",
      "('WT PS1_108', 'Wildtype_98'): p_value: 0.007986; corrected: 0.014712 (**) reject: True\n",
      "('WT PS1_78', 'WT PS1_98'): p_value: 0.052638; corrected: 0.078957 (ns) reject: False\n",
      "('WT PS1_78', 'Wildtype_108'): p_value: 0.076892; corrected: 0.104852 (ns) reject: False\n",
      "('WT PS1_78', 'Wildtype_78'): p_value: 0.071827; corrected: 0.101854 (ns) reject: False\n",
      "('WT PS1_78', 'Wildtype_98'): p_value: 0.070532; corrected: 0.101450 (ns) reject: False\n",
      "('WT PS1_98', 'Wildtype_108'): p_value: 9.990000; corrected: 1.000000 (ns) reject: False\n",
      "('WT PS1_98', 'Wildtype_78'): p_value: 9.990000; corrected: 1.000000 (ns) reject: False\n",
      "('WT PS1_98', 'Wildtype_98'): p_value: 9.990000; corrected: 1.000000 (ns) reject: False\n",
      "('Wildtype_108', 'Wildtype_78'): p_value: 9.990000; corrected: 1.000000 (ns) reject: False\n",
      "('Wildtype_108', 'Wildtype_98'): p_value: 9.990000; corrected: 1.000000 (ns) reject: False\n",
      "('Wildtype_78', 'Wildtype_98'): p_value: 9.990000; corrected: 1.000000 (ns) reject: False\n"
     ]
    }
   ],
   "source": [
    "chisq_and_posthoc_corrected(df)"
   ]
  },
  {
   "cell_type": "code",
   "execution_count": null,
   "metadata": {},
   "outputs": [],
   "source": [
    "import plotly.graph_objects as go\n",
    "x = [\n",
    "    [\"78h\", \"78h\", \"78h\", \"78h\", \"78h\", \"78h\",\n",
    "     \"98h\", \"98h\", \"98h\", \"98h\", \"98h\", \"98h\",\n",
    "     \"108h\", \"108h\", \"108h\", \"108h\", \"108h\"],\n",
    "    [\"Wildtype\", \"<i>sel-12 (ok2078)</i>\", \"WT PS1\",\"PS1 C410Y\",\"PS1 Δ169\",\"\",\n",
    "    \"Wildtype\", \"<i>sel-12 (ok2078)</i>\", \"WT PS1\",\"PS1 C410Y\",\"PS1 Δ169\",\"\",\n",
    "    \"Wildtype\", \"<i>sel-12 (ok2078)</i>\", \"WT PS1\",\"PS1 C410Y\",\"PS1 Δ169\"]\n",
    "]\n",
    "fig = go.Figure()\n",
    "fig.add_bar(x=x,y=[76,51,70,49,73,0,71,45,68,52,64,0,74,43,72,44,66], name=\"Normal\", marker=dict(color='rgb(0,0,0)'))\n",
    "fig.add_bar(x=x,y=[24,49,25,46,24,0,29,46,32,33,30,0,26,26,20,30,22], name=\"Gapped Arm\", marker=dict(color='rgb(100,100,100)'))\n",
    "fig.add_bar(x=x,y=[0,0,5,5,3,0,0,9,0,15,6,0,0,31,8,26,12], name=\"Blebs\", marker=dict(color='rgb(200,200,200)'))\n",
    "fig.update_layout(barmode=\"relative\")\n",
    "fig.update_traces(marker_line_color='rgb(0,0,0)',marker_line_width=2)\n",
    "fig.show()"
   ]
  },
  {
   "cell_type": "markdown",
   "metadata": {},
   "source": [
    "# Figure 6C: GFP Area Quantification (Violin Plot)"
   ]
  },
  {
   "cell_type": "code",
   "execution_count": null,
   "metadata": {},
   "outputs": [],
   "source": [
    "# Figure 6C\n",
    "df = pd.read_csv('/Users/Joseph/Desktop/MahrazData/Figure_6C.csv')\n",
    "# fig = px.violin(df, \n",
    "#                 y='GFP Area', \n",
    "#                 x='Age (hrs)', \n",
    "#                 color = 'Genotype', \n",
    "#                 points='all', \n",
    "#                 box=True, \n",
    "#                 color_discrete_sequence=px.colors.qualitative.D3,\n",
    "#                labels={\n",
    "#                    \"GFP Area\": \"GFP Aea (Pixels<sup>2</sup>)\"\n",
    "#                })\n",
    "\n",
    "color_discrete_sequence=px.colors.qualitative.D3\n",
    "\n",
    "fig=go.Figure()\n",
    "Genotypes=['Wildtype', '<i>sel-12 (ok2078)</i>', 'WT PS1', 'PS1 Δ169', 'PS1 C410Y']\n",
    "for f in Genotypes:\n",
    "    fig.add_trace(go.Violin(x=df['Age (hrs)'][df['Genotype']==f],\n",
    "                            y=df['GFP Area'][df['Genotype']==f],\n",
    "                            legendgroup=f,\n",
    "                            scalegroup=f,\n",
    "                            name=f,\n",
    "                            line_color=color_discrete_sequence[Genotypes.index(f)])\n",
    "                 )\n",
    "\n",
    "\n",
    "\n",
    "fig.update_traces(box_visible=True, meanline_visible=True, points='all', scalemode='count')\n",
    "fig.update_layout(violinmode='group')\n",
    "fig.show(width=2500, height=500)"
   ]
  },
  {
   "cell_type": "markdown",
   "metadata": {},
   "source": [
    "# Figure 6C - GFP Area quantification - Original Plot Style"
   ]
  },
  {
   "cell_type": "code",
   "execution_count": null,
   "metadata": {},
   "outputs": [],
   "source": [
    "# Figure 6C\n",
    "df = pd.read_csv('/Users/Joseph/Desktop/MahrazData/Figure_6C_SEM.csv')\n",
    "fig = px.scatter(df, \n",
    "                y='GFP Area', \n",
    "                x='Age (hrs)', \n",
    "                color = 'Genotype', \n",
    "                color_discrete_sequence=px.colors.qualitative.D3,\n",
    "               labels={\n",
    "                   \"GFP Area\": \"GFP Aea (Pixels<sup>2</sup>)\",\n",
    "               },\n",
    "                error_y=\"SEM\")\n",
    "fig.show()"
   ]
  },
  {
   "cell_type": "markdown",
   "metadata": {},
   "source": [
    "# Figure 6C - GFP Area Quantification - Bar Graph"
   ]
  },
  {
   "cell_type": "code",
   "execution_count": null,
   "metadata": {},
   "outputs": [],
   "source": [
    "# Figure 6C\n",
    "df = pd.read_csv('/Users/Joseph/Desktop/MahrazData/Figure_6C_SEM.csv')\n",
    "fig = px.bar(df, \n",
    "                y='GFP Area', \n",
    "                x='Genotype', \n",
    "                color = 'Age (hrs)', \n",
    "                color_discrete_sequence=['#1f77b4','#9467bd','#d62728'],\n",
    "#                 text = 'Age (hrs)',\n",
    "#                labels={\n",
    "#                    \"GFP Area\": \"GFP Aea (Pixels<sup>2</sup>)\",\n",
    "#                },\n",
    "                error_y=\"SEM\",\n",
    "            barmode = \"group\")\n",
    "fig.update_yaxes(range=[12000, 16000])\n",
    "fig.update_traces(marker_color=['#1F77B4', '#FF7F0E', '#2CA02C', '#D62728', '#9467BD'], showlegend=False)\n",
    "# fig.update_traces(textposition=\"inside\", textangle=1)\n",
    "# fig.update_layout(uniformtext_minsize=7, uniformtext_mode='show')\n",
    "fig.show()"
   ]
  },
  {
   "cell_type": "code",
   "execution_count": null,
   "metadata": {},
   "outputs": [],
   "source": [
    "# Figure 6C\n",
    "df = pd.read_csv('/Users/Joseph/Desktop/MahrazData/Figure_6C_SEM.csv')\n",
    "fig = px.bar(df, \n",
    "             y='GFP Area', \n",
    "             x='Genotype', \n",
    "             color = 'Age', \n",
    "             labels={\n",
    "                   \"GFP Area\": \"GFP Aea (Pixels<sup>2</sup>)\",\n",
    "               },\n",
    "             error_y=\"SEM\",\n",
    "             barmode=\"group\"\n",
    "            )\n",
    "fig.update_yaxes(range=[12000, 16000])\n",
    "fig.update_traces(marker_color=['rgb(10,10,10)','rgb(50,50,50)','rgb(100,100,100)','rgb(150,150,150)','rgb(200,200,200)'], \n",
    "                  showlegend=False,\n",
    "                  marker_line_color=['rgb(150,150,150)','rgb(0,0,0)','rgb(0,0,0)','rgb(0,0,0)','rgb(0,0,0)'],\n",
    "                  marker_line_width=2)\n",
    "# fig.update_traces(textposition=\"inside\", textangle=1)\n",
    "# fig.update_layout(uniformtext_minsize=7, uniformtext_mode='show')\n",
    "# fig.update_layout(barmode='group')\n",
    "fig.show()"
   ]
  },
  {
   "cell_type": "code",
   "execution_count": null,
   "metadata": {},
   "outputs": [],
   "source": [
    "print(px.colors.qualitative.D3)"
   ]
  },
  {
   "cell_type": "code",
   "execution_count": null,
   "metadata": {},
   "outputs": [],
   "source": [
    "Age = ['78 hrs', '98 hrs', '108 hrs']\n",
    "Genotype = []\n",
    "\n",
    "\n",
    "fig = go.Figure()\n",
    "fig.add_trace(go.Bar(\n",
    "    x=Age,\n",
    "    y=[15560.06, 15132.4, 15293.91],\n",
    "    name='Wildtype',\n",
    "    marker_color='rgb(0,0,0)'\n",
    "))\n",
    "fig.add_trace(go.Bar(\n",
    "    x=Age,\n",
    "    y=[14596.85, 13765.16, 12410.66],\n",
    "    name='<i>sel-12 (ok2078)</i>',\n",
    "    marker_color='rgb(50,50,50)'\n",
    "))\n",
    "fig.add_trace(go.Bar(\n",
    "    x=Age,\n",
    "    y=[15233.74, 14640.73, 14455.82],\n",
    "    name='WT PS1',\n",
    "    marker_color='rgb(100,100,100)'\n",
    "))\n",
    "fig.add_trace(go.Bar(\n",
    "    x=Age,\n",
    "    y=[13908.6, 13372.43, 13096.62],\n",
    "    name='PS1 C410Y',\n",
    "    marker_color='rgb(150,150,150)'\n",
    "))\n",
    "fig.add_trace(go.Bar(\n",
    "    x=Age,\n",
    "    y=[15003.78, 15053.65, 14613.03],\n",
    "    name='PS1 Δ169',\n",
    "    marker_color='rgb(200,200,200)'\n",
    "))\n",
    "\n",
    "# Here we modify the tickangle of the xaxis, resulting in rotated labels.\n",
    "fig.update_yaxes(range=[12000, 16000])\n",
    "fig.update_layout(barmode='group')\n",
    "fig.show()"
   ]
  },
  {
   "cell_type": "code",
   "execution_count": null,
   "metadata": {},
   "outputs": [],
   "source": [
    "Age = ['78 hrs', '98 hrs', '108 hrs']\n",
    "Strain = ['Wildtype','<i>sel-12 (ok2078)</i>','WT PS1','PS1 C410Y','PS1 Δ169']\n",
    "\n",
    "\n",
    "fig = go.Figure()\n",
    "fig.add_trace(go.Bar(\n",
    "    x=Age,\n",
    "    y=[15560.06, 15132.4, 15293.91],\n",
    "    name='Wildtype',\n",
    "    marker_color='rgb(0,0,0)'\n",
    "))\n",
    "fig.add_trace(go.Bar(\n",
    "    x=Age,\n",
    "    y=[14596.85, 13765.16, 12410.66],\n",
    "    name='<i>sel-12 (ok2078)</i>',\n",
    "    marker_color='rgb(50,50,50)'\n",
    "))\n",
    "fig.add_trace(go.Bar(\n",
    "    x=Age,\n",
    "    y=[15233.74, 14640.73, 14455.82],\n",
    "    name='WT PS1',\n",
    "    marker_color='rgb(100,100,100)'\n",
    "))\n",
    "fig.add_trace(go.Bar(\n",
    "    x=Age,\n",
    "    y=[13908.6, 13372.43, 13096.62],\n",
    "    name='PS1 C410Y',\n",
    "    marker_color='rgb(150,150,150)'\n",
    "))\n",
    "fig.add_trace(go.Bar(\n",
    "    x=Age,\n",
    "    y=[15003.78, 15053.65, 14613.03],\n",
    "    name='PS1 Δ169',\n",
    "    marker_color='rgb(200,200,200)'\n",
    "))\n",
    "\n",
    "# Here we modify the tickangle of the xaxis, resulting in rotated labels.\n",
    "fig.update_layout(barmode='group')\n",
    "fig.show()"
   ]
  },
  {
   "cell_type": "code",
   "execution_count": null,
   "metadata": {
    "scrolled": true
   },
   "outputs": [],
   "source": [
    "Age = ['78 hrs', '98 hrs', '108 hrs']\n",
    "Genotype = ['Wildtype','<i>sel-12 (ok2078)</i>','WT PS1','PS1 C410Y','PS1 Δ169']\n",
    "\n",
    "x=[\n",
    "    ['78 hrs', '98 hrs', '108 hrs','78 hrs', '98 hrs', '108 hrs','78 hrs', '98 hrs', '108 hrs','78 hrs', '98 hrs', '108 hrs','78 hrs', '98 hrs', '108 hrs'],\n",
    "    ['Wildtype','<i>sel-12 (ok2078)</i>','WT PS1','PS1 C410Y','PS1 Δ169','Wildtype','<i>sel-12 (ok2078)</i>','WT PS1','PS1 C410Y','PS1 Δ169','Wildtype','<i>sel-12 (ok2078)</i>','WT PS1','PS1 C410Y','PS1 Δ169']\n",
    "]\n",
    "\n",
    "\n",
    "fig = go.Figure()\n",
    "fig.add_trace(go.Bar(\n",
    "    x=x,\n",
    "    y=[15560.06, 15132.4, 15293.91],\n",
    "    name='Wildtype',\n",
    "    marker_color='rgb(0,0,0)'\n",
    "))\n",
    "fig.add_trace(go.Bar(\n",
    "    x=x,\n",
    "    y=[14596.85, 13765.16, 12410.66],\n",
    "    name='<i>sel-12 (ok2078)</i>',\n",
    "    marker_color='rgb(50,50,50)'\n",
    "))\n",
    "fig.add_trace(go.Bar(\n",
    "    x=x,\n",
    "    y=[15233.74, 14640.73, 14455.82],\n",
    "    name='WT PS1',\n",
    "    marker_color='rgb(100,100,100)'\n",
    "))\n",
    "fig.add_trace(go.Bar(\n",
    "    x=x,\n",
    "    y=[13908.6, 13372.43, 13096.62],\n",
    "    name='PS1 C410Y',\n",
    "    marker_color='rgb(150,150,150)'\n",
    "))\n",
    "fig.add_trace(go.Bar(\n",
    "    x=x,\n",
    "    y=[15003.78, 15053.65, 14613.03],\n",
    "    name='PS1 Δ169',\n",
    "    marker_color='rgb(200,200,200)'\n",
    "))\n",
    "\n",
    "\n",
    "fig.update_layout(barmode='group')\n",
    "fig.show()"
   ]
  },
  {
   "cell_type": "markdown",
   "metadata": {},
   "source": [
    "# Fig6D Regression Analysis"
   ]
  },
  {
   "cell_type": "code",
   "execution_count": 3,
   "metadata": {},
   "outputs": [
    {
     "name": "stdout",
     "output_type": "stream",
     "text": [
      "      GFP Area   Genotype  Age (hrs)\n",
      "0        11808   Wildtype         78\n",
      "1        14008   Wildtype         78\n",
      "2        16029   Wildtype         78\n",
      "3        12209   Wildtype         78\n",
      "4        16004   Wildtype         78\n",
      "...        ...        ...        ...\n",
      "1495     12442  PS1 C410Y        108\n",
      "1496     13293  PS1 C410Y        108\n",
      "1497     16231  PS1 C410Y        108\n",
      "1498     10928  PS1 C410Y        108\n",
      "1499     10045  PS1 C410Y        108\n",
      "\n",
      "[1500 rows x 3 columns]\n",
      "        GFP   Genotype  Age\n",
      "0     11808   Wildtype   78\n",
      "1     14008   Wildtype   78\n",
      "2     16029   Wildtype   78\n",
      "3     12209   Wildtype   78\n",
      "4     16004   Wildtype   78\n",
      "...     ...        ...  ...\n",
      "1495  12442  PS1 C410Y  108\n",
      "1496  13293  PS1 C410Y  108\n",
      "1497  16231  PS1 C410Y  108\n",
      "1498  10928  PS1 C410Y  108\n",
      "1499  10045  PS1 C410Y  108\n",
      "\n",
      "[1500 rows x 3 columns]\n"
     ]
    }
   ],
   "source": [
    "df = pd.read_csv('/Users/Joseph/Desktop/Figure_6C.csv')\n",
    "print(df)\n",
    "# df2 = pg.read_dataset(\"tips\")\n",
    "# print(df2)\n",
    "# print(df[\"Genotype\"].unique())\n",
    "\n",
    "\n",
    "mapping = {df.columns[0]: \"GFP\", \n",
    "          df.columns[1]: \"Genotype\",\n",
    "          df.columns[2]: \"Age\"}\n",
    "\n",
    "df = df.rename(columns=mapping)\n",
    "print(df)\n",
    "\n",
    "\n",
    "    "
   ]
  },
  {
   "cell_type": "code",
   "execution_count": 4,
   "metadata": {},
   "outputs": [
    {
     "name": "stdout",
     "output_type": "stream",
     "text": [
      "       GFP  Genotype  Age\n",
      "0    11808  Wildtype   78\n",
      "1    14008  Wildtype   78\n",
      "2    16029  Wildtype   78\n",
      "3    12209  Wildtype   78\n",
      "4    16004  Wildtype   78\n",
      "..     ...       ...  ...\n",
      "295  13280  Wildtype  108\n",
      "296  10840  Wildtype  108\n",
      "297  10293  Wildtype  108\n",
      "298  15230  Wildtype  108\n",
      "299  16666  Wildtype  108\n",
      "\n",
      "[300 rows x 3 columns]\n"
     ]
    }
   ],
   "source": [
    "Wildtype_df = df[df[\"Genotype\"]=='Wildtype']\n",
    "sel12_df = df[df[\"Genotype\"]=='<i>sel-12 (ok2078)</i>']\n",
    "WTPS1_df = df[df[\"Genotype\"]=='WT PS1']\n",
    "PS1D169_df = df[df[\"Genotype\"]=='PS1 Δ169']\n",
    "PS1C410Y_df = df[df[\"Genotype\"]=='PS1 C410Y']\n",
    "\n",
    "print(Wildtype_df)"
   ]
  },
  {
   "cell_type": "code",
   "execution_count": 11,
   "metadata": {},
   "outputs": [
    {
     "data": {
      "application/vnd.plotly.v1+json": {
       "config": {
        "plotlyServerURL": "https://plotly.com"
       },
       "data": [
        {
         "hovertemplate": "Age=%{x}<br>GFP=%{y}<extra></extra>",
         "legendgroup": "",
         "marker": {
          "color": "#636efa",
          "symbol": "circle"
         },
         "mode": "markers",
         "name": "",
         "orientation": "v",
         "showlegend": false,
         "type": "scatter",
         "x": [
          78,
          78,
          78,
          78,
          78,
          78,
          78,
          78,
          78,
          78,
          78,
          78,
          78,
          78,
          78,
          78,
          78,
          78,
          78,
          78,
          78,
          78,
          78,
          78,
          78,
          78,
          78,
          78,
          78,
          78,
          78,
          78,
          78,
          78,
          78,
          78,
          78,
          78,
          78,
          78,
          78,
          78,
          78,
          78,
          78,
          78,
          78,
          78,
          78,
          78,
          78,
          78,
          78,
          78,
          78,
          78,
          78,
          78,
          78,
          78,
          78,
          78,
          78,
          78,
          78,
          78,
          78,
          78,
          78,
          78,
          78,
          78,
          78,
          78,
          78,
          78,
          78,
          78,
          78,
          78,
          78,
          78,
          78,
          78,
          78,
          78,
          78,
          78,
          78,
          78,
          78,
          78,
          78,
          78,
          78,
          78,
          78,
          78,
          78,
          78,
          98,
          98,
          98,
          98,
          98,
          98,
          98,
          98,
          98,
          98,
          98,
          98,
          98,
          98,
          98,
          98,
          98,
          98,
          98,
          98,
          98,
          98,
          98,
          98,
          98,
          98,
          98,
          98,
          98,
          98,
          98,
          98,
          98,
          98,
          98,
          98,
          98,
          98,
          98,
          98,
          98,
          98,
          98,
          98,
          98,
          98,
          98,
          98,
          98,
          98,
          98,
          98,
          98,
          98,
          98,
          98,
          98,
          98,
          98,
          98,
          98,
          98,
          98,
          98,
          98,
          98,
          98,
          98,
          98,
          98,
          98,
          98,
          98,
          98,
          98,
          98,
          98,
          98,
          98,
          98,
          98,
          98,
          98,
          98,
          98,
          98,
          98,
          98,
          98,
          98,
          98,
          98,
          98,
          98,
          98,
          98,
          98,
          98,
          98,
          98,
          108,
          108,
          108,
          108,
          108,
          108,
          108,
          108,
          108,
          108,
          108,
          108,
          108,
          108,
          108,
          108,
          108,
          108,
          108,
          108,
          108,
          108,
          108,
          108,
          108,
          108,
          108,
          108,
          108,
          108,
          108,
          108,
          108,
          108,
          108,
          108,
          108,
          108,
          108,
          108,
          108,
          108,
          108,
          108,
          108,
          108,
          108,
          108,
          108,
          108,
          108,
          108,
          108,
          108,
          108,
          108,
          108,
          108,
          108,
          108,
          108,
          108,
          108,
          108,
          108,
          108,
          108,
          108,
          108,
          108,
          108,
          108,
          108,
          108,
          108,
          108,
          108,
          108,
          108,
          108,
          108,
          108,
          108,
          108,
          108,
          108,
          108,
          108,
          108,
          108,
          108,
          108,
          108,
          108,
          108,
          108,
          108,
          108,
          108,
          108
         ],
         "xaxis": "x",
         "y": [
          16863,
          14518,
          16135,
          16789,
          16618,
          17209,
          15796,
          12396,
          17996,
          12725,
          16905,
          15771,
          13422,
          15424,
          10192,
          14875,
          16457,
          16067,
          14680,
          15064,
          14048,
          12392,
          15714,
          16354,
          17455,
          15424,
          14234,
          13244,
          14525,
          16442,
          17643,
          16895,
          16023,
          12457,
          17285,
          17485,
          15256,
          14562,
          16643,
          11566,
          17253,
          15311,
          13552,
          13861,
          16332,
          13394,
          12662,
          14010,
          15202,
          15831,
          16372,
          14389,
          13987,
          14447,
          12081,
          14038,
          16560,
          15318,
          16655,
          15340,
          14247,
          11033,
          16834,
          17234,
          13222,
          16429,
          14258,
          16522,
          17034,
          15902,
          14266,
          17355,
          16002,
          15247,
          15491,
          15348,
          11748,
          15445,
          17675,
          13153,
          15776,
          13482,
          16556,
          16910,
          15441,
          15743,
          13768,
          15733,
          12930,
          17332,
          16723,
          14839,
          16844,
          15922,
          16255,
          17275,
          16989,
          13928,
          11083,
          17256,
          15386,
          17186,
          14636,
          14990,
          10084,
          12789,
          16659,
          13771,
          16792,
          15232,
          16251,
          13848,
          15521,
          16703,
          16071,
          11804,
          15482,
          13869,
          17626,
          15835,
          14686,
          15617,
          17747,
          13040,
          16715,
          11610,
          14338,
          15353,
          15479,
          14242,
          16079,
          15163,
          14051,
          13811,
          11893,
          13727,
          10554,
          16921,
          15990,
          14912,
          15094,
          10177,
          16349,
          14373,
          13559,
          15092,
          16271,
          14519,
          10461,
          15402,
          13257,
          15500,
          11025,
          14789,
          12350,
          17622,
          16167,
          15658,
          16200,
          14567,
          13324,
          14511,
          13782,
          15247,
          14006,
          16518,
          14389,
          14112,
          15572,
          16062,
          14256,
          15425,
          12903,
          11321,
          14266,
          16520,
          14295,
          13245,
          17953,
          15121,
          13244,
          10844,
          17322,
          13566,
          12521,
          11969,
          15249,
          14234,
          17525,
          16336,
          16451,
          17241,
          15266,
          14294,
          13442,
          15241,
          14129,
          14200,
          12014,
          15262,
          16422,
          14021,
          13992,
          11482,
          15877,
          16964,
          14524,
          12723,
          14498,
          15250,
          13789,
          16018,
          15016,
          15492,
          10245,
          16255,
          12391,
          12664,
          17244,
          16928,
          15228,
          14228,
          14242,
          13456,
          16284,
          17482,
          16329,
          11203,
          15382,
          12034,
          14928,
          13245,
          14284,
          13285,
          16729,
          15834,
          13772,
          15249,
          15268,
          12195,
          14069,
          16686,
          14996,
          15352,
          14136,
          16782,
          15244,
          16534,
          15687,
          13714,
          13784,
          15028,
          14029,
          12182,
          16334,
          17213,
          13492,
          16849,
          15294,
          17234,
          10238,
          14242,
          13693,
          14295,
          13495,
          15294,
          15938,
          13349,
          11942,
          14628,
          12304,
          15034,
          14950,
          10429,
          13793,
          10963,
          14035,
          15638,
          14628,
          14892,
          13948,
          14953,
          15530,
          12039,
          13473,
          15360,
          13059,
          16344,
          15249,
          14242,
          15023,
          16034,
          15039,
          13022,
          13824,
          13245,
          15231,
          16727,
          11029,
          11340
         ],
         "yaxis": "y"
        }
       ],
       "layout": {
        "legend": {
         "tracegroupgap": 0
        },
        "margin": {
         "t": 60
        },
        "template": {
         "data": {
          "bar": [
           {
            "error_x": {
             "color": "#2a3f5f"
            },
            "error_y": {
             "color": "#2a3f5f"
            },
            "marker": {
             "line": {
              "color": "#E5ECF6",
              "width": 0.5
             },
             "pattern": {
              "fillmode": "overlay",
              "size": 10,
              "solidity": 0.2
             }
            },
            "type": "bar"
           }
          ],
          "barpolar": [
           {
            "marker": {
             "line": {
              "color": "#E5ECF6",
              "width": 0.5
             },
             "pattern": {
              "fillmode": "overlay",
              "size": 10,
              "solidity": 0.2
             }
            },
            "type": "barpolar"
           }
          ],
          "carpet": [
           {
            "aaxis": {
             "endlinecolor": "#2a3f5f",
             "gridcolor": "white",
             "linecolor": "white",
             "minorgridcolor": "white",
             "startlinecolor": "#2a3f5f"
            },
            "baxis": {
             "endlinecolor": "#2a3f5f",
             "gridcolor": "white",
             "linecolor": "white",
             "minorgridcolor": "white",
             "startlinecolor": "#2a3f5f"
            },
            "type": "carpet"
           }
          ],
          "choropleth": [
           {
            "colorbar": {
             "outlinewidth": 0,
             "ticks": ""
            },
            "type": "choropleth"
           }
          ],
          "contour": [
           {
            "colorbar": {
             "outlinewidth": 0,
             "ticks": ""
            },
            "colorscale": [
             [
              0,
              "#0d0887"
             ],
             [
              0.1111111111111111,
              "#46039f"
             ],
             [
              0.2222222222222222,
              "#7201a8"
             ],
             [
              0.3333333333333333,
              "#9c179e"
             ],
             [
              0.4444444444444444,
              "#bd3786"
             ],
             [
              0.5555555555555556,
              "#d8576b"
             ],
             [
              0.6666666666666666,
              "#ed7953"
             ],
             [
              0.7777777777777778,
              "#fb9f3a"
             ],
             [
              0.8888888888888888,
              "#fdca26"
             ],
             [
              1,
              "#f0f921"
             ]
            ],
            "type": "contour"
           }
          ],
          "contourcarpet": [
           {
            "colorbar": {
             "outlinewidth": 0,
             "ticks": ""
            },
            "type": "contourcarpet"
           }
          ],
          "heatmap": [
           {
            "colorbar": {
             "outlinewidth": 0,
             "ticks": ""
            },
            "colorscale": [
             [
              0,
              "#0d0887"
             ],
             [
              0.1111111111111111,
              "#46039f"
             ],
             [
              0.2222222222222222,
              "#7201a8"
             ],
             [
              0.3333333333333333,
              "#9c179e"
             ],
             [
              0.4444444444444444,
              "#bd3786"
             ],
             [
              0.5555555555555556,
              "#d8576b"
             ],
             [
              0.6666666666666666,
              "#ed7953"
             ],
             [
              0.7777777777777778,
              "#fb9f3a"
             ],
             [
              0.8888888888888888,
              "#fdca26"
             ],
             [
              1,
              "#f0f921"
             ]
            ],
            "type": "heatmap"
           }
          ],
          "heatmapgl": [
           {
            "colorbar": {
             "outlinewidth": 0,
             "ticks": ""
            },
            "colorscale": [
             [
              0,
              "#0d0887"
             ],
             [
              0.1111111111111111,
              "#46039f"
             ],
             [
              0.2222222222222222,
              "#7201a8"
             ],
             [
              0.3333333333333333,
              "#9c179e"
             ],
             [
              0.4444444444444444,
              "#bd3786"
             ],
             [
              0.5555555555555556,
              "#d8576b"
             ],
             [
              0.6666666666666666,
              "#ed7953"
             ],
             [
              0.7777777777777778,
              "#fb9f3a"
             ],
             [
              0.8888888888888888,
              "#fdca26"
             ],
             [
              1,
              "#f0f921"
             ]
            ],
            "type": "heatmapgl"
           }
          ],
          "histogram": [
           {
            "marker": {
             "pattern": {
              "fillmode": "overlay",
              "size": 10,
              "solidity": 0.2
             }
            },
            "type": "histogram"
           }
          ],
          "histogram2d": [
           {
            "colorbar": {
             "outlinewidth": 0,
             "ticks": ""
            },
            "colorscale": [
             [
              0,
              "#0d0887"
             ],
             [
              0.1111111111111111,
              "#46039f"
             ],
             [
              0.2222222222222222,
              "#7201a8"
             ],
             [
              0.3333333333333333,
              "#9c179e"
             ],
             [
              0.4444444444444444,
              "#bd3786"
             ],
             [
              0.5555555555555556,
              "#d8576b"
             ],
             [
              0.6666666666666666,
              "#ed7953"
             ],
             [
              0.7777777777777778,
              "#fb9f3a"
             ],
             [
              0.8888888888888888,
              "#fdca26"
             ],
             [
              1,
              "#f0f921"
             ]
            ],
            "type": "histogram2d"
           }
          ],
          "histogram2dcontour": [
           {
            "colorbar": {
             "outlinewidth": 0,
             "ticks": ""
            },
            "colorscale": [
             [
              0,
              "#0d0887"
             ],
             [
              0.1111111111111111,
              "#46039f"
             ],
             [
              0.2222222222222222,
              "#7201a8"
             ],
             [
              0.3333333333333333,
              "#9c179e"
             ],
             [
              0.4444444444444444,
              "#bd3786"
             ],
             [
              0.5555555555555556,
              "#d8576b"
             ],
             [
              0.6666666666666666,
              "#ed7953"
             ],
             [
              0.7777777777777778,
              "#fb9f3a"
             ],
             [
              0.8888888888888888,
              "#fdca26"
             ],
             [
              1,
              "#f0f921"
             ]
            ],
            "type": "histogram2dcontour"
           }
          ],
          "mesh3d": [
           {
            "colorbar": {
             "outlinewidth": 0,
             "ticks": ""
            },
            "type": "mesh3d"
           }
          ],
          "parcoords": [
           {
            "line": {
             "colorbar": {
              "outlinewidth": 0,
              "ticks": ""
             }
            },
            "type": "parcoords"
           }
          ],
          "pie": [
           {
            "automargin": true,
            "type": "pie"
           }
          ],
          "scatter": [
           {
            "fillpattern": {
             "fillmode": "overlay",
             "size": 10,
             "solidity": 0.2
            },
            "type": "scatter"
           }
          ],
          "scatter3d": [
           {
            "line": {
             "colorbar": {
              "outlinewidth": 0,
              "ticks": ""
             }
            },
            "marker": {
             "colorbar": {
              "outlinewidth": 0,
              "ticks": ""
             }
            },
            "type": "scatter3d"
           }
          ],
          "scattercarpet": [
           {
            "marker": {
             "colorbar": {
              "outlinewidth": 0,
              "ticks": ""
             }
            },
            "type": "scattercarpet"
           }
          ],
          "scattergeo": [
           {
            "marker": {
             "colorbar": {
              "outlinewidth": 0,
              "ticks": ""
             }
            },
            "type": "scattergeo"
           }
          ],
          "scattergl": [
           {
            "marker": {
             "colorbar": {
              "outlinewidth": 0,
              "ticks": ""
             }
            },
            "type": "scattergl"
           }
          ],
          "scattermapbox": [
           {
            "marker": {
             "colorbar": {
              "outlinewidth": 0,
              "ticks": ""
             }
            },
            "type": "scattermapbox"
           }
          ],
          "scatterpolar": [
           {
            "marker": {
             "colorbar": {
              "outlinewidth": 0,
              "ticks": ""
             }
            },
            "type": "scatterpolar"
           }
          ],
          "scatterpolargl": [
           {
            "marker": {
             "colorbar": {
              "outlinewidth": 0,
              "ticks": ""
             }
            },
            "type": "scatterpolargl"
           }
          ],
          "scatterternary": [
           {
            "marker": {
             "colorbar": {
              "outlinewidth": 0,
              "ticks": ""
             }
            },
            "type": "scatterternary"
           }
          ],
          "surface": [
           {
            "colorbar": {
             "outlinewidth": 0,
             "ticks": ""
            },
            "colorscale": [
             [
              0,
              "#0d0887"
             ],
             [
              0.1111111111111111,
              "#46039f"
             ],
             [
              0.2222222222222222,
              "#7201a8"
             ],
             [
              0.3333333333333333,
              "#9c179e"
             ],
             [
              0.4444444444444444,
              "#bd3786"
             ],
             [
              0.5555555555555556,
              "#d8576b"
             ],
             [
              0.6666666666666666,
              "#ed7953"
             ],
             [
              0.7777777777777778,
              "#fb9f3a"
             ],
             [
              0.8888888888888888,
              "#fdca26"
             ],
             [
              1,
              "#f0f921"
             ]
            ],
            "type": "surface"
           }
          ],
          "table": [
           {
            "cells": {
             "fill": {
              "color": "#EBF0F8"
             },
             "line": {
              "color": "white"
             }
            },
            "header": {
             "fill": {
              "color": "#C8D4E3"
             },
             "line": {
              "color": "white"
             }
            },
            "type": "table"
           }
          ]
         },
         "layout": {
          "annotationdefaults": {
           "arrowcolor": "#2a3f5f",
           "arrowhead": 0,
           "arrowwidth": 1
          },
          "autotypenumbers": "strict",
          "coloraxis": {
           "colorbar": {
            "outlinewidth": 0,
            "ticks": ""
           }
          },
          "colorscale": {
           "diverging": [
            [
             0,
             "#8e0152"
            ],
            [
             0.1,
             "#c51b7d"
            ],
            [
             0.2,
             "#de77ae"
            ],
            [
             0.3,
             "#f1b6da"
            ],
            [
             0.4,
             "#fde0ef"
            ],
            [
             0.5,
             "#f7f7f7"
            ],
            [
             0.6,
             "#e6f5d0"
            ],
            [
             0.7,
             "#b8e186"
            ],
            [
             0.8,
             "#7fbc41"
            ],
            [
             0.9,
             "#4d9221"
            ],
            [
             1,
             "#276419"
            ]
           ],
           "sequential": [
            [
             0,
             "#0d0887"
            ],
            [
             0.1111111111111111,
             "#46039f"
            ],
            [
             0.2222222222222222,
             "#7201a8"
            ],
            [
             0.3333333333333333,
             "#9c179e"
            ],
            [
             0.4444444444444444,
             "#bd3786"
            ],
            [
             0.5555555555555556,
             "#d8576b"
            ],
            [
             0.6666666666666666,
             "#ed7953"
            ],
            [
             0.7777777777777778,
             "#fb9f3a"
            ],
            [
             0.8888888888888888,
             "#fdca26"
            ],
            [
             1,
             "#f0f921"
            ]
           ],
           "sequentialminus": [
            [
             0,
             "#0d0887"
            ],
            [
             0.1111111111111111,
             "#46039f"
            ],
            [
             0.2222222222222222,
             "#7201a8"
            ],
            [
             0.3333333333333333,
             "#9c179e"
            ],
            [
             0.4444444444444444,
             "#bd3786"
            ],
            [
             0.5555555555555556,
             "#d8576b"
            ],
            [
             0.6666666666666666,
             "#ed7953"
            ],
            [
             0.7777777777777778,
             "#fb9f3a"
            ],
            [
             0.8888888888888888,
             "#fdca26"
            ],
            [
             1,
             "#f0f921"
            ]
           ]
          },
          "colorway": [
           "#636efa",
           "#EF553B",
           "#00cc96",
           "#ab63fa",
           "#FFA15A",
           "#19d3f3",
           "#FF6692",
           "#B6E880",
           "#FF97FF",
           "#FECB52"
          ],
          "font": {
           "color": "#2a3f5f"
          },
          "geo": {
           "bgcolor": "white",
           "lakecolor": "white",
           "landcolor": "#E5ECF6",
           "showlakes": true,
           "showland": true,
           "subunitcolor": "white"
          },
          "hoverlabel": {
           "align": "left"
          },
          "hovermode": "closest",
          "mapbox": {
           "style": "light"
          },
          "paper_bgcolor": "white",
          "plot_bgcolor": "#E5ECF6",
          "polar": {
           "angularaxis": {
            "gridcolor": "white",
            "linecolor": "white",
            "ticks": ""
           },
           "bgcolor": "#E5ECF6",
           "radialaxis": {
            "gridcolor": "white",
            "linecolor": "white",
            "ticks": ""
           }
          },
          "scene": {
           "xaxis": {
            "backgroundcolor": "#E5ECF6",
            "gridcolor": "white",
            "gridwidth": 2,
            "linecolor": "white",
            "showbackground": true,
            "ticks": "",
            "zerolinecolor": "white"
           },
           "yaxis": {
            "backgroundcolor": "#E5ECF6",
            "gridcolor": "white",
            "gridwidth": 2,
            "linecolor": "white",
            "showbackground": true,
            "ticks": "",
            "zerolinecolor": "white"
           },
           "zaxis": {
            "backgroundcolor": "#E5ECF6",
            "gridcolor": "white",
            "gridwidth": 2,
            "linecolor": "white",
            "showbackground": true,
            "ticks": "",
            "zerolinecolor": "white"
           }
          },
          "shapedefaults": {
           "line": {
            "color": "#2a3f5f"
           }
          },
          "ternary": {
           "aaxis": {
            "gridcolor": "white",
            "linecolor": "white",
            "ticks": ""
           },
           "baxis": {
            "gridcolor": "white",
            "linecolor": "white",
            "ticks": ""
           },
           "bgcolor": "#E5ECF6",
           "caxis": {
            "gridcolor": "white",
            "linecolor": "white",
            "ticks": ""
           }
          },
          "title": {
           "x": 0.05
          },
          "xaxis": {
           "automargin": true,
           "gridcolor": "white",
           "linecolor": "white",
           "ticks": "",
           "title": {
            "standoff": 15
           },
           "zerolinecolor": "white",
           "zerolinewidth": 2
          },
          "yaxis": {
           "automargin": true,
           "gridcolor": "white",
           "linecolor": "white",
           "ticks": "",
           "title": {
            "standoff": 15
           },
           "zerolinecolor": "white",
           "zerolinewidth": 2
          }
         }
        },
        "xaxis": {
         "anchor": "y",
         "domain": [
          0,
          1
         ],
         "title": {
          "text": "Age"
         }
        },
        "yaxis": {
         "anchor": "x",
         "domain": [
          0,
          1
         ],
         "title": {
          "text": "GFP"
         }
        }
       }
      },
      "text/html": [
       "<div>                            <div id=\"518a4ea4-c35d-4a15-a135-85b3f8ed486f\" class=\"plotly-graph-div\" style=\"height:525px; width:100%;\"></div>            <script type=\"text/javascript\">                require([\"plotly\"], function(Plotly) {                    window.PLOTLYENV=window.PLOTLYENV || {};                                    if (document.getElementById(\"518a4ea4-c35d-4a15-a135-85b3f8ed486f\")) {                    Plotly.newPlot(                        \"518a4ea4-c35d-4a15-a135-85b3f8ed486f\",                        [{\"hovertemplate\":\"Age=%{x}<br>GFP=%{y}<extra></extra>\",\"legendgroup\":\"\",\"marker\":{\"color\":\"#636efa\",\"symbol\":\"circle\"},\"mode\":\"markers\",\"name\":\"\",\"orientation\":\"v\",\"showlegend\":false,\"x\":[78,78,78,78,78,78,78,78,78,78,78,78,78,78,78,78,78,78,78,78,78,78,78,78,78,78,78,78,78,78,78,78,78,78,78,78,78,78,78,78,78,78,78,78,78,78,78,78,78,78,78,78,78,78,78,78,78,78,78,78,78,78,78,78,78,78,78,78,78,78,78,78,78,78,78,78,78,78,78,78,78,78,78,78,78,78,78,78,78,78,78,78,78,78,78,78,78,78,78,78,98,98,98,98,98,98,98,98,98,98,98,98,98,98,98,98,98,98,98,98,98,98,98,98,98,98,98,98,98,98,98,98,98,98,98,98,98,98,98,98,98,98,98,98,98,98,98,98,98,98,98,98,98,98,98,98,98,98,98,98,98,98,98,98,98,98,98,98,98,98,98,98,98,98,98,98,98,98,98,98,98,98,98,98,98,98,98,98,98,98,98,98,98,98,98,98,98,98,98,98,108,108,108,108,108,108,108,108,108,108,108,108,108,108,108,108,108,108,108,108,108,108,108,108,108,108,108,108,108,108,108,108,108,108,108,108,108,108,108,108,108,108,108,108,108,108,108,108,108,108,108,108,108,108,108,108,108,108,108,108,108,108,108,108,108,108,108,108,108,108,108,108,108,108,108,108,108,108,108,108,108,108,108,108,108,108,108,108,108,108,108,108,108,108,108,108,108,108,108,108],\"xaxis\":\"x\",\"y\":[16863,14518,16135,16789,16618,17209,15796,12396,17996,12725,16905,15771,13422,15424,10192,14875,16457,16067,14680,15064,14048,12392,15714,16354,17455,15424,14234,13244,14525,16442,17643,16895,16023,12457,17285,17485,15256,14562,16643,11566,17253,15311,13552,13861,16332,13394,12662,14010,15202,15831,16372,14389,13987,14447,12081,14038,16560,15318,16655,15340,14247,11033,16834,17234,13222,16429,14258,16522,17034,15902,14266,17355,16002,15247,15491,15348,11748,15445,17675,13153,15776,13482,16556,16910,15441,15743,13768,15733,12930,17332,16723,14839,16844,15922,16255,17275,16989,13928,11083,17256,15386,17186,14636,14990,10084,12789,16659,13771,16792,15232,16251,13848,15521,16703,16071,11804,15482,13869,17626,15835,14686,15617,17747,13040,16715,11610,14338,15353,15479,14242,16079,15163,14051,13811,11893,13727,10554,16921,15990,14912,15094,10177,16349,14373,13559,15092,16271,14519,10461,15402,13257,15500,11025,14789,12350,17622,16167,15658,16200,14567,13324,14511,13782,15247,14006,16518,14389,14112,15572,16062,14256,15425,12903,11321,14266,16520,14295,13245,17953,15121,13244,10844,17322,13566,12521,11969,15249,14234,17525,16336,16451,17241,15266,14294,13442,15241,14129,14200,12014,15262,16422,14021,13992,11482,15877,16964,14524,12723,14498,15250,13789,16018,15016,15492,10245,16255,12391,12664,17244,16928,15228,14228,14242,13456,16284,17482,16329,11203,15382,12034,14928,13245,14284,13285,16729,15834,13772,15249,15268,12195,14069,16686,14996,15352,14136,16782,15244,16534,15687,13714,13784,15028,14029,12182,16334,17213,13492,16849,15294,17234,10238,14242,13693,14295,13495,15294,15938,13349,11942,14628,12304,15034,14950,10429,13793,10963,14035,15638,14628,14892,13948,14953,15530,12039,13473,15360,13059,16344,15249,14242,15023,16034,15039,13022,13824,13245,15231,16727,11029,11340],\"yaxis\":\"y\",\"type\":\"scatter\"}],                        {\"template\":{\"data\":{\"histogram2dcontour\":[{\"type\":\"histogram2dcontour\",\"colorbar\":{\"outlinewidth\":0,\"ticks\":\"\"},\"colorscale\":[[0.0,\"#0d0887\"],[0.1111111111111111,\"#46039f\"],[0.2222222222222222,\"#7201a8\"],[0.3333333333333333,\"#9c179e\"],[0.4444444444444444,\"#bd3786\"],[0.5555555555555556,\"#d8576b\"],[0.6666666666666666,\"#ed7953\"],[0.7777777777777778,\"#fb9f3a\"],[0.8888888888888888,\"#fdca26\"],[1.0,\"#f0f921\"]]}],\"choropleth\":[{\"type\":\"choropleth\",\"colorbar\":{\"outlinewidth\":0,\"ticks\":\"\"}}],\"histogram2d\":[{\"type\":\"histogram2d\",\"colorbar\":{\"outlinewidth\":0,\"ticks\":\"\"},\"colorscale\":[[0.0,\"#0d0887\"],[0.1111111111111111,\"#46039f\"],[0.2222222222222222,\"#7201a8\"],[0.3333333333333333,\"#9c179e\"],[0.4444444444444444,\"#bd3786\"],[0.5555555555555556,\"#d8576b\"],[0.6666666666666666,\"#ed7953\"],[0.7777777777777778,\"#fb9f3a\"],[0.8888888888888888,\"#fdca26\"],[1.0,\"#f0f921\"]]}],\"heatmap\":[{\"type\":\"heatmap\",\"colorbar\":{\"outlinewidth\":0,\"ticks\":\"\"},\"colorscale\":[[0.0,\"#0d0887\"],[0.1111111111111111,\"#46039f\"],[0.2222222222222222,\"#7201a8\"],[0.3333333333333333,\"#9c179e\"],[0.4444444444444444,\"#bd3786\"],[0.5555555555555556,\"#d8576b\"],[0.6666666666666666,\"#ed7953\"],[0.7777777777777778,\"#fb9f3a\"],[0.8888888888888888,\"#fdca26\"],[1.0,\"#f0f921\"]]}],\"heatmapgl\":[{\"type\":\"heatmapgl\",\"colorbar\":{\"outlinewidth\":0,\"ticks\":\"\"},\"colorscale\":[[0.0,\"#0d0887\"],[0.1111111111111111,\"#46039f\"],[0.2222222222222222,\"#7201a8\"],[0.3333333333333333,\"#9c179e\"],[0.4444444444444444,\"#bd3786\"],[0.5555555555555556,\"#d8576b\"],[0.6666666666666666,\"#ed7953\"],[0.7777777777777778,\"#fb9f3a\"],[0.8888888888888888,\"#fdca26\"],[1.0,\"#f0f921\"]]}],\"contourcarpet\":[{\"type\":\"contourcarpet\",\"colorbar\":{\"outlinewidth\":0,\"ticks\":\"\"}}],\"contour\":[{\"type\":\"contour\",\"colorbar\":{\"outlinewidth\":0,\"ticks\":\"\"},\"colorscale\":[[0.0,\"#0d0887\"],[0.1111111111111111,\"#46039f\"],[0.2222222222222222,\"#7201a8\"],[0.3333333333333333,\"#9c179e\"],[0.4444444444444444,\"#bd3786\"],[0.5555555555555556,\"#d8576b\"],[0.6666666666666666,\"#ed7953\"],[0.7777777777777778,\"#fb9f3a\"],[0.8888888888888888,\"#fdca26\"],[1.0,\"#f0f921\"]]}],\"surface\":[{\"type\":\"surface\",\"colorbar\":{\"outlinewidth\":0,\"ticks\":\"\"},\"colorscale\":[[0.0,\"#0d0887\"],[0.1111111111111111,\"#46039f\"],[0.2222222222222222,\"#7201a8\"],[0.3333333333333333,\"#9c179e\"],[0.4444444444444444,\"#bd3786\"],[0.5555555555555556,\"#d8576b\"],[0.6666666666666666,\"#ed7953\"],[0.7777777777777778,\"#fb9f3a\"],[0.8888888888888888,\"#fdca26\"],[1.0,\"#f0f921\"]]}],\"mesh3d\":[{\"type\":\"mesh3d\",\"colorbar\":{\"outlinewidth\":0,\"ticks\":\"\"}}],\"scatter\":[{\"fillpattern\":{\"fillmode\":\"overlay\",\"size\":10,\"solidity\":0.2},\"type\":\"scatter\"}],\"parcoords\":[{\"type\":\"parcoords\",\"line\":{\"colorbar\":{\"outlinewidth\":0,\"ticks\":\"\"}}}],\"scatterpolargl\":[{\"type\":\"scatterpolargl\",\"marker\":{\"colorbar\":{\"outlinewidth\":0,\"ticks\":\"\"}}}],\"bar\":[{\"error_x\":{\"color\":\"#2a3f5f\"},\"error_y\":{\"color\":\"#2a3f5f\"},\"marker\":{\"line\":{\"color\":\"#E5ECF6\",\"width\":0.5},\"pattern\":{\"fillmode\":\"overlay\",\"size\":10,\"solidity\":0.2}},\"type\":\"bar\"}],\"scattergeo\":[{\"type\":\"scattergeo\",\"marker\":{\"colorbar\":{\"outlinewidth\":0,\"ticks\":\"\"}}}],\"scatterpolar\":[{\"type\":\"scatterpolar\",\"marker\":{\"colorbar\":{\"outlinewidth\":0,\"ticks\":\"\"}}}],\"histogram\":[{\"marker\":{\"pattern\":{\"fillmode\":\"overlay\",\"size\":10,\"solidity\":0.2}},\"type\":\"histogram\"}],\"scattergl\":[{\"type\":\"scattergl\",\"marker\":{\"colorbar\":{\"outlinewidth\":0,\"ticks\":\"\"}}}],\"scatter3d\":[{\"type\":\"scatter3d\",\"line\":{\"colorbar\":{\"outlinewidth\":0,\"ticks\":\"\"}},\"marker\":{\"colorbar\":{\"outlinewidth\":0,\"ticks\":\"\"}}}],\"scattermapbox\":[{\"type\":\"scattermapbox\",\"marker\":{\"colorbar\":{\"outlinewidth\":0,\"ticks\":\"\"}}}],\"scatterternary\":[{\"type\":\"scatterternary\",\"marker\":{\"colorbar\":{\"outlinewidth\":0,\"ticks\":\"\"}}}],\"scattercarpet\":[{\"type\":\"scattercarpet\",\"marker\":{\"colorbar\":{\"outlinewidth\":0,\"ticks\":\"\"}}}],\"carpet\":[{\"aaxis\":{\"endlinecolor\":\"#2a3f5f\",\"gridcolor\":\"white\",\"linecolor\":\"white\",\"minorgridcolor\":\"white\",\"startlinecolor\":\"#2a3f5f\"},\"baxis\":{\"endlinecolor\":\"#2a3f5f\",\"gridcolor\":\"white\",\"linecolor\":\"white\",\"minorgridcolor\":\"white\",\"startlinecolor\":\"#2a3f5f\"},\"type\":\"carpet\"}],\"table\":[{\"cells\":{\"fill\":{\"color\":\"#EBF0F8\"},\"line\":{\"color\":\"white\"}},\"header\":{\"fill\":{\"color\":\"#C8D4E3\"},\"line\":{\"color\":\"white\"}},\"type\":\"table\"}],\"barpolar\":[{\"marker\":{\"line\":{\"color\":\"#E5ECF6\",\"width\":0.5},\"pattern\":{\"fillmode\":\"overlay\",\"size\":10,\"solidity\":0.2}},\"type\":\"barpolar\"}],\"pie\":[{\"automargin\":true,\"type\":\"pie\"}]},\"layout\":{\"autotypenumbers\":\"strict\",\"colorway\":[\"#636efa\",\"#EF553B\",\"#00cc96\",\"#ab63fa\",\"#FFA15A\",\"#19d3f3\",\"#FF6692\",\"#B6E880\",\"#FF97FF\",\"#FECB52\"],\"font\":{\"color\":\"#2a3f5f\"},\"hovermode\":\"closest\",\"hoverlabel\":{\"align\":\"left\"},\"paper_bgcolor\":\"white\",\"plot_bgcolor\":\"#E5ECF6\",\"polar\":{\"bgcolor\":\"#E5ECF6\",\"angularaxis\":{\"gridcolor\":\"white\",\"linecolor\":\"white\",\"ticks\":\"\"},\"radialaxis\":{\"gridcolor\":\"white\",\"linecolor\":\"white\",\"ticks\":\"\"}},\"ternary\":{\"bgcolor\":\"#E5ECF6\",\"aaxis\":{\"gridcolor\":\"white\",\"linecolor\":\"white\",\"ticks\":\"\"},\"baxis\":{\"gridcolor\":\"white\",\"linecolor\":\"white\",\"ticks\":\"\"},\"caxis\":{\"gridcolor\":\"white\",\"linecolor\":\"white\",\"ticks\":\"\"}},\"coloraxis\":{\"colorbar\":{\"outlinewidth\":0,\"ticks\":\"\"}},\"colorscale\":{\"sequential\":[[0.0,\"#0d0887\"],[0.1111111111111111,\"#46039f\"],[0.2222222222222222,\"#7201a8\"],[0.3333333333333333,\"#9c179e\"],[0.4444444444444444,\"#bd3786\"],[0.5555555555555556,\"#d8576b\"],[0.6666666666666666,\"#ed7953\"],[0.7777777777777778,\"#fb9f3a\"],[0.8888888888888888,\"#fdca26\"],[1.0,\"#f0f921\"]],\"sequentialminus\":[[0.0,\"#0d0887\"],[0.1111111111111111,\"#46039f\"],[0.2222222222222222,\"#7201a8\"],[0.3333333333333333,\"#9c179e\"],[0.4444444444444444,\"#bd3786\"],[0.5555555555555556,\"#d8576b\"],[0.6666666666666666,\"#ed7953\"],[0.7777777777777778,\"#fb9f3a\"],[0.8888888888888888,\"#fdca26\"],[1.0,\"#f0f921\"]],\"diverging\":[[0,\"#8e0152\"],[0.1,\"#c51b7d\"],[0.2,\"#de77ae\"],[0.3,\"#f1b6da\"],[0.4,\"#fde0ef\"],[0.5,\"#f7f7f7\"],[0.6,\"#e6f5d0\"],[0.7,\"#b8e186\"],[0.8,\"#7fbc41\"],[0.9,\"#4d9221\"],[1,\"#276419\"]]},\"xaxis\":{\"gridcolor\":\"white\",\"linecolor\":\"white\",\"ticks\":\"\",\"title\":{\"standoff\":15},\"zerolinecolor\":\"white\",\"automargin\":true,\"zerolinewidth\":2},\"yaxis\":{\"gridcolor\":\"white\",\"linecolor\":\"white\",\"ticks\":\"\",\"title\":{\"standoff\":15},\"zerolinecolor\":\"white\",\"automargin\":true,\"zerolinewidth\":2},\"scene\":{\"xaxis\":{\"backgroundcolor\":\"#E5ECF6\",\"gridcolor\":\"white\",\"linecolor\":\"white\",\"showbackground\":true,\"ticks\":\"\",\"zerolinecolor\":\"white\",\"gridwidth\":2},\"yaxis\":{\"backgroundcolor\":\"#E5ECF6\",\"gridcolor\":\"white\",\"linecolor\":\"white\",\"showbackground\":true,\"ticks\":\"\",\"zerolinecolor\":\"white\",\"gridwidth\":2},\"zaxis\":{\"backgroundcolor\":\"#E5ECF6\",\"gridcolor\":\"white\",\"linecolor\":\"white\",\"showbackground\":true,\"ticks\":\"\",\"zerolinecolor\":\"white\",\"gridwidth\":2}},\"shapedefaults\":{\"line\":{\"color\":\"#2a3f5f\"}},\"annotationdefaults\":{\"arrowcolor\":\"#2a3f5f\",\"arrowhead\":0,\"arrowwidth\":1},\"geo\":{\"bgcolor\":\"white\",\"landcolor\":\"#E5ECF6\",\"subunitcolor\":\"white\",\"showland\":true,\"showlakes\":true,\"lakecolor\":\"white\"},\"title\":{\"x\":0.05},\"mapbox\":{\"style\":\"light\"}}},\"xaxis\":{\"anchor\":\"y\",\"domain\":[0.0,1.0],\"title\":{\"text\":\"Age\"}},\"yaxis\":{\"anchor\":\"x\",\"domain\":[0.0,1.0],\"title\":{\"text\":\"GFP\"}},\"legend\":{\"tracegroupgap\":0},\"margin\":{\"t\":60}},                        {\"responsive\": true}                    ).then(function(){\n",
       "                            \n",
       "var gd = document.getElementById('518a4ea4-c35d-4a15-a135-85b3f8ed486f');\n",
       "var x = new MutationObserver(function (mutations, observer) {{\n",
       "        var display = window.getComputedStyle(gd).display;\n",
       "        if (!display || display === 'none') {{\n",
       "            console.log([gd, 'removed!']);\n",
       "            Plotly.purge(gd);\n",
       "            observer.disconnect();\n",
       "        }}\n",
       "}});\n",
       "\n",
       "// Listen for the removal of the full notebook cells\n",
       "var notebookContainer = gd.closest('#notebook-container');\n",
       "if (notebookContainer) {{\n",
       "    x.observe(notebookContainer, {childList: true});\n",
       "}}\n",
       "\n",
       "// Listen for the clearing of the current output cell\n",
       "var outputEl = gd.closest('.output');\n",
       "if (outputEl) {{\n",
       "    x.observe(outputEl, {childList: true});\n",
       "}}\n",
       "\n",
       "                        })                };                });            </script>        </div>"
      ]
     },
     "metadata": {},
     "output_type": "display_data"
    }
   ],
   "source": [
    "import plotly.express as px\n",
    "fig = px.scatter(WTPS1_df, x=\"Age\", y=\"GFP\")\n",
    "fig.show()"
   ]
  },
  {
   "cell_type": "markdown",
   "metadata": {},
   "source": [
    "# Linear Regression Analysis"
   ]
  },
  {
   "cell_type": "code",
   "execution_count": 14,
   "metadata": {
    "scrolled": true
   },
   "outputs": [
    {
     "name": "stdout",
     "output_type": "stream",
     "text": [
      "Wildtype\n",
      "       names       coef        se        T    pval      r2  adj_r2  \\\n",
      "0  Intercept  16337.842  808.2096  20.2149  0.0000  0.0053   0.002   \n",
      "1        Age    -10.659    8.4643  -1.2593  0.2089  0.0053   0.002   \n",
      "\n",
      "     CI[2.5%]   CI[97.5%]  \n",
      "0  14747.3207  17928.3633  \n",
      "1    -27.3163      5.9983  \n",
      "sel-12\n",
      "       names        coef        se        T  pval     r2  adj_r2    CI[2.5%]  \\\n",
      "0  Intercept  20066.3943  761.4243  26.3538   0.0  0.198  0.1953  18567.9443   \n",
      "1        Age    -68.4032    7.9743  -8.5780   0.0  0.198  0.1953    -84.0963   \n",
      "\n",
      "    CI[97.5%]  \n",
      "0  21564.8443  \n",
      "1    -52.7101  \n",
      "WT PS1\n",
      "       names        coef        se        T    pval      r2  adj_r2  \\\n",
      "0  Intercept  17281.8394  774.0776  22.3257  0.0000  0.0345  0.0313   \n",
      "1        Age    -26.4621    8.1068  -3.2642  0.0012  0.0345  0.0313   \n",
      "\n",
      "     CI[2.5%]   CI[97.5%]  \n",
      "0  15758.4885  18805.1904  \n",
      "1    -42.4159    -10.5082  \n",
      "PS1 169\n",
      "       names        coef        se        T    pval      r2  adj_r2  \\\n",
      "0  Intercept  15913.3174  749.4480  21.2334  0.0000  0.0063   0.003   \n",
      "1        Age    -10.8081    7.8489  -1.3770  0.1695  0.0063   0.003   \n",
      "\n",
      "     CI[2.5%]   CI[97.5%]  \n",
      "0  14438.4363  17388.1985  \n",
      "1    -26.2543      4.6382  \n",
      "PS1 C410Y\n",
      "       names        coef        se        T    pval      r2  adj_r2  \\\n",
      "0  Intercept  16017.9823  906.6004  17.6682  0.0000  0.0265  0.0232   \n",
      "1        Age    -27.0292    9.4947  -2.8468  0.0047  0.0265  0.0232   \n",
      "\n",
      "     CI[2.5%]   CI[97.5%]  \n",
      "0  14233.8321  17802.1325  \n",
      "1    -45.7144     -8.3440  \n"
     ]
    }
   ],
   "source": [
    "lm_wt = pg.linear_regression(Wildtype_df[\"Age\"], Wildtype_df[\"GFP\"])\n",
    "print(\"Wildtype\")\n",
    "print(lm_wt.round(4))\n",
    "lm_sel12 = pg.linear_regression(sel12_df[\"Age\"], sel12_df[\"GFP\"])\n",
    "print(\"sel-12\")\n",
    "print(lm_sel12.round(4))\n",
    "lm_wtps1 = pg.linear_regression(WTPS1_df[\"Age\"], WTPS1_df[\"GFP\"])\n",
    "print(\"WT PS1\")\n",
    "print(lm_wtps1.round(4))\n",
    "lm_169 = pg.linear_regression(PS1D169_df[\"Age\"], PS1D169_df[\"GFP\"])\n",
    "print(\"PS1 169\")\n",
    "print(lm_169.round(4))\n",
    "lm_C410Y = pg.linear_regression(PS1C410Y_df[\"Age\"], PS1C410Y_df[\"GFP\"])\n",
    "print(\"PS1 C410Y\")\n",
    "print(lm_C410Y.round(4))"
   ]
  },
  {
   "cell_type": "markdown",
   "metadata": {},
   "source": [
    "# Kendall Correlation (correlation test for ordinal data)"
   ]
  },
  {
   "cell_type": "code",
   "execution_count": 16,
   "metadata": {},
   "outputs": [
    {
     "name": "stdout",
     "output_type": "stream",
     "text": [
      "Wildtype\n",
      "           n       r         CI95%   p-val   power\n",
      "kendall  300 -0.0147  [-1.0, 0.08]  0.3998  0.0822\n",
      "sel-12\n",
      "           n       r          CI95%  p-val  power\n",
      "kendall  300 -0.3729  [-1.0, -0.29]    0.0    1.0\n",
      "WT PS1\n",
      "           n       r          CI95%   p-val   power\n",
      "kendall  300 -0.1504  [-1.0, -0.06]  0.0045  0.8343\n",
      "PS1 169\n",
      "           n       r         CI95%   p-val   power\n",
      "kendall  300 -0.0147  [-1.0, 0.08]  0.3998  0.0822\n",
      "P1 C410Y\n",
      "           n      r          CI95%   p-val   power\n",
      "kendall  300 -0.125  [-1.0, -0.03]  0.0152  0.7002\n"
     ]
    }
   ],
   "source": [
    "kc_wt = pg.corr(Wildtype_df[\"Age\"], Wildtype_df[\"GFP\"], alternative='less', method='kendall')\n",
    "print(\"Wildtype\")\n",
    "print(kc_wt.round(4))\n",
    "kc_sel12 = pg.corr(sel12_df[\"Age\"], sel12_df[\"GFP\"], alternative='less', method='kendall')\n",
    "print(\"sel-12\")\n",
    "print(kc_sel12.round(4))\n",
    "kc_wtps1 = pg.corr(WTPS1_df[\"Age\"], WTPS1_df[\"GFP\"], alternative='less', method='kendall')\n",
    "print(\"WT PS1\")\n",
    "print(kc_wtps1.round(4))\n",
    "kc_169 = pg.corr(PS1D169_df[\"Age\"], PS1D169_df[\"GFP\"], alternative='less', method='kendall')\n",
    "print(\"PS1 169\")\n",
    "print(kc_wt.round(4))\n",
    "kc_c410y = pg.corr(PS1C410Y_df[\"Age\"], PS1C410Y_df[\"GFP\"], alternative='less', method='kendall')\n",
    "print(\"P1 C410Y\")\n",
    "print(kc_c410y.round(4))"
   ]
  },
  {
   "cell_type": "markdown",
   "metadata": {},
   "source": [
    "# Figure Supp1A: N2, sel-12 Locomotion Speed Across 68, 78, 88, 98, 108 hrs"
   ]
  },
  {
   "cell_type": "code",
   "execution_count": null,
   "metadata": {},
   "outputs": [],
   "source": [
    "df1 = pd.read_csv('/Users/Joseph/Desktop/Mahraz Data/Sel12AgeSpeedMeanData.csv')\n",
    "# gui = show(df1)"
   ]
  },
  {
   "cell_type": "code",
   "execution_count": null,
   "metadata": {},
   "outputs": [],
   "source": [
    "df1 = pd.read_csv('/Users/Joseph/Desktop/MahrazData/Sel12AgeSpeedMeanData.csv')\n",
    "colors=['rgb(50,50,50)', 'rgb(200,200,200)']\n",
    "fig = px.bar(df1, \n",
    "                y='Speed (mm/s)', \n",
    "                x='Age (hrs)', \n",
    "                color = 'Strain', \n",
    "                color_discrete_sequence=colors,\n",
    "               labels={\n",
    "                   \"Speed (mm/s)\": \"Forward Movement Speed (mm/s)\",\n",
    "               },\n",
    "                error_y=\"SEM\",\n",
    "                barmode='group')\n",
    "fig.update_traces(marker_line_color='rgb(0,0,0)',marker_line_width=2)\n",
    "fig.show()"
   ]
  },
  {
   "cell_type": "markdown",
   "metadata": {},
   "source": [
    "# Supp1A T Test Analyses"
   ]
  },
  {
   "cell_type": "code",
   "execution_count": 2,
   "metadata": {},
   "outputs": [
    {
     "name": "stdout",
     "output_type": "stream",
     "text": [
      "            Strain  Age (hrs)  Plate  Speed (mm/s)\n",
      "0               N2         68      1         0.234\n",
      "1               N2         68      2         0.187\n",
      "2               N2         68      3         0.195\n",
      "3               N2         78      1         0.288\n",
      "4               N2         78      2         0.303\n",
      "5               N2         78      3         0.297\n",
      "6               N2         88      1         0.328\n",
      "7               N2         88      2         0.311\n",
      "8               N2         88      3         0.327\n",
      "9               N2         98      1         0.276\n",
      "10              N2         98      2         0.255\n",
      "11              N2         98      3         0.304\n",
      "12              N2        108      1         0.213\n",
      "13              N2        108      2         0.160\n",
      "14              N2        108      3         0.214\n",
      "15  sel-12(ok2078)         68      1         0.280\n",
      "16  sel-12(ok2078)         68      2         0.200\n",
      "17  sel-12(ok2078)         68      3         0.160\n",
      "18  sel-12(ok2078)         78      1         0.290\n",
      "19  sel-12(ok2078)         78      2         0.225\n",
      "20  sel-12(ok2078)         78      3         0.149\n",
      "21  sel-12(ok2078)         88      1         0.205\n",
      "22  sel-12(ok2078)         88      2         0.249\n",
      "23  sel-12(ok2078)         88      3         0.192\n",
      "24  sel-12(ok2078)         98      1         0.160\n",
      "25  sel-12(ok2078)         98      2         0.141\n",
      "26  sel-12(ok2078)         98      3         0.185\n",
      "27  sel-12(ok2078)        108      1         0.159\n",
      "28  sel-12(ok2078)        108      2         0.090\n",
      "29  sel-12(ok2078)        108      3         0.289\n"
     ]
    }
   ],
   "source": [
    "df1 = pd.read_csv('/Users/Joseph/Desktop/Sel12AgeSpeedData.csv')\n",
    "print(df1)"
   ]
  },
  {
   "cell_type": "code",
   "execution_count": 5,
   "metadata": {},
   "outputs": [
    {
     "name": "stdout",
     "output_type": "stream",
     "text": [
      "            Strain  Age (hrs)  Plate  Speed (mm/s)\n",
      "12              N2        108      1         0.213\n",
      "13              N2        108      2         0.160\n",
      "14              N2        108      3         0.214\n",
      "27  sel-12(ok2078)        108      1         0.159\n",
      "28  sel-12(ok2078)        108      2         0.090\n",
      "29  sel-12(ok2078)        108      3         0.289\n"
     ]
    }
   ],
   "source": [
    "df_68 = df1[df1[\"Age (hrs)\"]==68]\n",
    "df_78 = df1[df1[\"Age (hrs)\"]==78]\n",
    "df_88 = df1[df1[\"Age (hrs)\"]==88]\n",
    "df_98 = df1[df1[\"Age (hrs)\"]==98]\n",
    "df_108 = df1[df1[\"Age (hrs)\"]==108]\n",
    "\n",
    "print(df_108)"
   ]
  },
  {
   "cell_type": "code",
   "execution_count": 9,
   "metadata": {},
   "outputs": [
    {
     "name": "stdout",
     "output_type": "stream",
     "text": [
      "            Strain  Age (hrs)  Plate  Speed (mm/s)\n",
      "27  sel-12(ok2078)        108      1         0.159\n",
      "28  sel-12(ok2078)        108      2         0.090\n",
      "29  sel-12(ok2078)        108      3         0.289\n"
     ]
    }
   ],
   "source": [
    "df_68_N2 = df_68[df_68[\"Strain\"]==\"N2\"]\n",
    "df_78_N2 = df_78[df_78[\"Strain\"]==\"N2\"]\n",
    "df_88_N2 = df_88[df_88[\"Strain\"]==\"N2\"]\n",
    "df_98_N2 = df_98[df_98[\"Strain\"]==\"N2\"]\n",
    "df_108_N2 = df_108[df_108[\"Strain\"]==\"N2\"]\n",
    "\n",
    "df_68_sel12 = df_68[df_68[\"Strain\"]==\"sel-12(ok2078)\"]\n",
    "df_78_sel12 = df_78[df_78[\"Strain\"]==\"sel-12(ok2078)\"]\n",
    "df_88_sel12 = df_88[df_88[\"Strain\"]==\"sel-12(ok2078)\"]\n",
    "df_98_sel12 = df_98[df_98[\"Strain\"]==\"sel-12(ok2078)\"]\n",
    "df_108_sel12 = df_108[df_108[\"Strain\"]==\"sel-12(ok2078)\"]\n",
    "\n",
    "\n",
    "print(df_108_sel12)"
   ]
  },
  {
   "cell_type": "code",
   "execution_count": 6,
   "metadata": {},
   "outputs": [],
   "source": [
    "from pingouin import ttest"
   ]
  },
  {
   "cell_type": "markdown",
   "metadata": {},
   "source": [
    "## 68 hrs"
   ]
  },
  {
   "cell_type": "code",
   "execution_count": 18,
   "metadata": {},
   "outputs": [
    {
     "data": {
      "text/html": [
       "<div>\n",
       "<style scoped>\n",
       "    .dataframe tbody tr th:only-of-type {\n",
       "        vertical-align: middle;\n",
       "    }\n",
       "\n",
       "    .dataframe tbody tr th {\n",
       "        vertical-align: top;\n",
       "    }\n",
       "\n",
       "    .dataframe thead th {\n",
       "        text-align: right;\n",
       "    }\n",
       "</style>\n",
       "<table border=\"1\" class=\"dataframe\">\n",
       "  <thead>\n",
       "    <tr style=\"text-align: right;\">\n",
       "      <th></th>\n",
       "      <th>T</th>\n",
       "      <th>dof</th>\n",
       "      <th>alternative</th>\n",
       "      <th>p-val</th>\n",
       "      <th>CI95%</th>\n",
       "      <th>cohen-d</th>\n",
       "      <th>BF10</th>\n",
       "      <th>power</th>\n",
       "    </tr>\n",
       "  </thead>\n",
       "  <tbody>\n",
       "    <tr>\n",
       "      <th>T-test</th>\n",
       "      <td>-0.209713</td>\n",
       "      <td>4</td>\n",
       "      <td>greater</td>\n",
       "      <td>0.57793</td>\n",
       "      <td>[-0.09, inf]</td>\n",
       "      <td>0.17123</td>\n",
       "      <td>0.878</td>\n",
       "      <td>0.034148</td>\n",
       "    </tr>\n",
       "  </tbody>\n",
       "</table>\n",
       "</div>"
      ],
      "text/plain": [
       "               T  dof alternative    p-val         CI95%  cohen-d   BF10  \\\n",
       "T-test -0.209713    4     greater  0.57793  [-0.09, inf]  0.17123  0.878   \n",
       "\n",
       "           power  \n",
       "T-test  0.034148  "
      ]
     },
     "execution_count": 18,
     "metadata": {},
     "output_type": "execute_result"
    }
   ],
   "source": [
    "ttest(df_68_N2[\"Speed (mm/s)\"], df_68_sel12[\"Speed (mm/s)\"], paired=False, alternative='greater')"
   ]
  },
  {
   "cell_type": "markdown",
   "metadata": {},
   "source": [
    "## 78 hrs"
   ]
  },
  {
   "cell_type": "code",
   "execution_count": 21,
   "metadata": {},
   "outputs": [
    {
     "data": {
      "text/html": [
       "<div>\n",
       "<style scoped>\n",
       "    .dataframe tbody tr th:only-of-type {\n",
       "        vertical-align: middle;\n",
       "    }\n",
       "\n",
       "    .dataframe tbody tr th {\n",
       "        vertical-align: top;\n",
       "    }\n",
       "\n",
       "    .dataframe thead th {\n",
       "        text-align: right;\n",
       "    }\n",
       "</style>\n",
       "<table border=\"1\" class=\"dataframe\">\n",
       "  <thead>\n",
       "    <tr style=\"text-align: right;\">\n",
       "      <th></th>\n",
       "      <th>T</th>\n",
       "      <th>dof</th>\n",
       "      <th>alternative</th>\n",
       "      <th>p-val</th>\n",
       "      <th>CI95%</th>\n",
       "      <th>cohen-d</th>\n",
       "      <th>BF10</th>\n",
       "      <th>power</th>\n",
       "    </tr>\n",
       "  </thead>\n",
       "  <tbody>\n",
       "    <tr>\n",
       "      <th>T-test</th>\n",
       "      <td>1.822162</td>\n",
       "      <td>4</td>\n",
       "      <td>two-sided</td>\n",
       "      <td>0.142519</td>\n",
       "      <td>[-0.04, 0.19]</td>\n",
       "      <td>1.487789</td>\n",
       "      <td>1.147</td>\n",
       "      <td>0.289389</td>\n",
       "    </tr>\n",
       "  </tbody>\n",
       "</table>\n",
       "</div>"
      ],
      "text/plain": [
       "               T  dof alternative     p-val          CI95%   cohen-d   BF10  \\\n",
       "T-test  1.822162    4   two-sided  0.142519  [-0.04, 0.19]  1.487789  1.147   \n",
       "\n",
       "           power  \n",
       "T-test  0.289389  "
      ]
     },
     "execution_count": 21,
     "metadata": {},
     "output_type": "execute_result"
    }
   ],
   "source": [
    "ttest(df_78_N2[\"Speed (mm/s)\"], df_78_sel12[\"Speed (mm/s)\"])"
   ]
  },
  {
   "cell_type": "code",
   "execution_count": 20,
   "metadata": {},
   "outputs": [
    {
     "data": {
      "text/html": [
       "<div>\n",
       "<style scoped>\n",
       "    .dataframe tbody tr th:only-of-type {\n",
       "        vertical-align: middle;\n",
       "    }\n",
       "\n",
       "    .dataframe tbody tr th {\n",
       "        vertical-align: top;\n",
       "    }\n",
       "\n",
       "    .dataframe thead th {\n",
       "        text-align: right;\n",
       "    }\n",
       "</style>\n",
       "<table border=\"1\" class=\"dataframe\">\n",
       "  <thead>\n",
       "    <tr style=\"text-align: right;\">\n",
       "      <th></th>\n",
       "      <th>T</th>\n",
       "      <th>dof</th>\n",
       "      <th>alternative</th>\n",
       "      <th>p-val</th>\n",
       "      <th>CI95%</th>\n",
       "      <th>cohen-d</th>\n",
       "      <th>BF10</th>\n",
       "      <th>power</th>\n",
       "    </tr>\n",
       "  </thead>\n",
       "  <tbody>\n",
       "    <tr>\n",
       "      <th>T-test</th>\n",
       "      <td>1.822162</td>\n",
       "      <td>4</td>\n",
       "      <td>greater</td>\n",
       "      <td>0.071259</td>\n",
       "      <td>[-0.01, inf]</td>\n",
       "      <td>1.487789</td>\n",
       "      <td>2.294</td>\n",
       "      <td>0.447034</td>\n",
       "    </tr>\n",
       "  </tbody>\n",
       "</table>\n",
       "</div>"
      ],
      "text/plain": [
       "               T  dof alternative     p-val         CI95%   cohen-d   BF10  \\\n",
       "T-test  1.822162    4     greater  0.071259  [-0.01, inf]  1.487789  2.294   \n",
       "\n",
       "           power  \n",
       "T-test  0.447034  "
      ]
     },
     "execution_count": 20,
     "metadata": {},
     "output_type": "execute_result"
    }
   ],
   "source": [
    "ttest(df_78_N2[\"Speed (mm/s)\"], df_78_sel12[\"Speed (mm/s)\"], paired=False, alternative=\"greater\")"
   ]
  },
  {
   "cell_type": "markdown",
   "metadata": {},
   "source": [
    "## 88 hrs"
   ]
  },
  {
   "cell_type": "code",
   "execution_count": 12,
   "metadata": {},
   "outputs": [
    {
     "data": {
      "text/html": [
       "<div>\n",
       "<style scoped>\n",
       "    .dataframe tbody tr th:only-of-type {\n",
       "        vertical-align: middle;\n",
       "    }\n",
       "\n",
       "    .dataframe tbody tr th {\n",
       "        vertical-align: top;\n",
       "    }\n",
       "\n",
       "    .dataframe thead th {\n",
       "        text-align: right;\n",
       "    }\n",
       "</style>\n",
       "<table border=\"1\" class=\"dataframe\">\n",
       "  <thead>\n",
       "    <tr style=\"text-align: right;\">\n",
       "      <th></th>\n",
       "      <th>T</th>\n",
       "      <th>dof</th>\n",
       "      <th>alternative</th>\n",
       "      <th>p-val</th>\n",
       "      <th>CI95%</th>\n",
       "      <th>cohen-d</th>\n",
       "      <th>BF10</th>\n",
       "      <th>power</th>\n",
       "    </tr>\n",
       "  </thead>\n",
       "  <tbody>\n",
       "    <tr>\n",
       "      <th>T-test</th>\n",
       "      <td>5.891678</td>\n",
       "      <td>4</td>\n",
       "      <td>two-sided</td>\n",
       "      <td>0.00415</td>\n",
       "      <td>[0.06, 0.16]</td>\n",
       "      <td>4.810535</td>\n",
       "      <td>8.84</td>\n",
       "      <td>0.989046</td>\n",
       "    </tr>\n",
       "  </tbody>\n",
       "</table>\n",
       "</div>"
      ],
      "text/plain": [
       "               T  dof alternative    p-val         CI95%   cohen-d  BF10  \\\n",
       "T-test  5.891678    4   two-sided  0.00415  [0.06, 0.16]  4.810535  8.84   \n",
       "\n",
       "           power  \n",
       "T-test  0.989046  "
      ]
     },
     "execution_count": 12,
     "metadata": {},
     "output_type": "execute_result"
    }
   ],
   "source": [
    "ttest(df_88_N2[\"Speed (mm/s)\"], df_88_sel12[\"Speed (mm/s)\"])"
   ]
  },
  {
   "cell_type": "code",
   "execution_count": 17,
   "metadata": {},
   "outputs": [
    {
     "data": {
      "text/html": [
       "<div>\n",
       "<style scoped>\n",
       "    .dataframe tbody tr th:only-of-type {\n",
       "        vertical-align: middle;\n",
       "    }\n",
       "\n",
       "    .dataframe tbody tr th {\n",
       "        vertical-align: top;\n",
       "    }\n",
       "\n",
       "    .dataframe thead th {\n",
       "        text-align: right;\n",
       "    }\n",
       "</style>\n",
       "<table border=\"1\" class=\"dataframe\">\n",
       "  <thead>\n",
       "    <tr style=\"text-align: right;\">\n",
       "      <th></th>\n",
       "      <th>T</th>\n",
       "      <th>dof</th>\n",
       "      <th>alternative</th>\n",
       "      <th>p-val</th>\n",
       "      <th>CI95%</th>\n",
       "      <th>cohen-d</th>\n",
       "      <th>BF10</th>\n",
       "      <th>power</th>\n",
       "    </tr>\n",
       "  </thead>\n",
       "  <tbody>\n",
       "    <tr>\n",
       "      <th>T-test</th>\n",
       "      <td>5.891678</td>\n",
       "      <td>4</td>\n",
       "      <td>greater</td>\n",
       "      <td>0.002075</td>\n",
       "      <td>[0.07, inf]</td>\n",
       "      <td>4.810535</td>\n",
       "      <td>17.68</td>\n",
       "      <td>0.9988</td>\n",
       "    </tr>\n",
       "  </tbody>\n",
       "</table>\n",
       "</div>"
      ],
      "text/plain": [
       "               T  dof alternative     p-val        CI95%   cohen-d   BF10  \\\n",
       "T-test  5.891678    4     greater  0.002075  [0.07, inf]  4.810535  17.68   \n",
       "\n",
       "         power  \n",
       "T-test  0.9988  "
      ]
     },
     "execution_count": 17,
     "metadata": {},
     "output_type": "execute_result"
    }
   ],
   "source": [
    "ttest(df_88_N2[\"Speed (mm/s)\"], df_88_sel12[\"Speed (mm/s)\"], paired=False, alternative='greater')"
   ]
  },
  {
   "cell_type": "markdown",
   "metadata": {},
   "source": [
    "## 98 hrs"
   ]
  },
  {
   "cell_type": "code",
   "execution_count": 13,
   "metadata": {},
   "outputs": [
    {
     "data": {
      "text/html": [
       "<div>\n",
       "<style scoped>\n",
       "    .dataframe tbody tr th:only-of-type {\n",
       "        vertical-align: middle;\n",
       "    }\n",
       "\n",
       "    .dataframe tbody tr th {\n",
       "        vertical-align: top;\n",
       "    }\n",
       "\n",
       "    .dataframe thead th {\n",
       "        text-align: right;\n",
       "    }\n",
       "</style>\n",
       "<table border=\"1\" class=\"dataframe\">\n",
       "  <thead>\n",
       "    <tr style=\"text-align: right;\">\n",
       "      <th></th>\n",
       "      <th>T</th>\n",
       "      <th>dof</th>\n",
       "      <th>alternative</th>\n",
       "      <th>p-val</th>\n",
       "      <th>CI95%</th>\n",
       "      <th>cohen-d</th>\n",
       "      <th>BF10</th>\n",
       "      <th>power</th>\n",
       "    </tr>\n",
       "  </thead>\n",
       "  <tbody>\n",
       "    <tr>\n",
       "      <th>T-test</th>\n",
       "      <td>6.099386</td>\n",
       "      <td>4</td>\n",
       "      <td>two-sided</td>\n",
       "      <td>0.003655</td>\n",
       "      <td>[0.06, 0.17]</td>\n",
       "      <td>4.980127</td>\n",
       "      <td>9.595</td>\n",
       "      <td>0.992446</td>\n",
       "    </tr>\n",
       "  </tbody>\n",
       "</table>\n",
       "</div>"
      ],
      "text/plain": [
       "               T  dof alternative     p-val         CI95%   cohen-d   BF10  \\\n",
       "T-test  6.099386    4   two-sided  0.003655  [0.06, 0.17]  4.980127  9.595   \n",
       "\n",
       "           power  \n",
       "T-test  0.992446  "
      ]
     },
     "execution_count": 13,
     "metadata": {},
     "output_type": "execute_result"
    }
   ],
   "source": [
    "ttest(df_98_N2[\"Speed (mm/s)\"], df_98_sel12[\"Speed (mm/s)\"])"
   ]
  },
  {
   "cell_type": "code",
   "execution_count": 19,
   "metadata": {},
   "outputs": [
    {
     "data": {
      "text/html": [
       "<div>\n",
       "<style scoped>\n",
       "    .dataframe tbody tr th:only-of-type {\n",
       "        vertical-align: middle;\n",
       "    }\n",
       "\n",
       "    .dataframe tbody tr th {\n",
       "        vertical-align: top;\n",
       "    }\n",
       "\n",
       "    .dataframe thead th {\n",
       "        text-align: right;\n",
       "    }\n",
       "</style>\n",
       "<table border=\"1\" class=\"dataframe\">\n",
       "  <thead>\n",
       "    <tr style=\"text-align: right;\">\n",
       "      <th></th>\n",
       "      <th>T</th>\n",
       "      <th>dof</th>\n",
       "      <th>alternative</th>\n",
       "      <th>p-val</th>\n",
       "      <th>CI95%</th>\n",
       "      <th>cohen-d</th>\n",
       "      <th>BF10</th>\n",
       "      <th>power</th>\n",
       "    </tr>\n",
       "  </thead>\n",
       "  <tbody>\n",
       "    <tr>\n",
       "      <th>T-test</th>\n",
       "      <td>6.099386</td>\n",
       "      <td>4</td>\n",
       "      <td>greater</td>\n",
       "      <td>0.001828</td>\n",
       "      <td>[0.08, inf]</td>\n",
       "      <td>4.980127</td>\n",
       "      <td>19.19</td>\n",
       "      <td>0.999293</td>\n",
       "    </tr>\n",
       "  </tbody>\n",
       "</table>\n",
       "</div>"
      ],
      "text/plain": [
       "               T  dof alternative     p-val        CI95%   cohen-d   BF10  \\\n",
       "T-test  6.099386    4     greater  0.001828  [0.08, inf]  4.980127  19.19   \n",
       "\n",
       "           power  \n",
       "T-test  0.999293  "
      ]
     },
     "execution_count": 19,
     "metadata": {},
     "output_type": "execute_result"
    }
   ],
   "source": [
    "ttest(df_98_N2[\"Speed (mm/s)\"], df_98_sel12[\"Speed (mm/s)\"], paired=False, alternative=\"greater\")"
   ]
  },
  {
   "cell_type": "markdown",
   "metadata": {},
   "source": [
    "## 108 hrs"
   ]
  },
  {
   "cell_type": "code",
   "execution_count": 14,
   "metadata": {},
   "outputs": [
    {
     "data": {
      "text/html": [
       "<div>\n",
       "<style scoped>\n",
       "    .dataframe tbody tr th:only-of-type {\n",
       "        vertical-align: middle;\n",
       "    }\n",
       "\n",
       "    .dataframe tbody tr th {\n",
       "        vertical-align: top;\n",
       "    }\n",
       "\n",
       "    .dataframe thead th {\n",
       "        text-align: right;\n",
       "    }\n",
       "</style>\n",
       "<table border=\"1\" class=\"dataframe\">\n",
       "  <thead>\n",
       "    <tr style=\"text-align: right;\">\n",
       "      <th></th>\n",
       "      <th>T</th>\n",
       "      <th>dof</th>\n",
       "      <th>alternative</th>\n",
       "      <th>p-val</th>\n",
       "      <th>CI95%</th>\n",
       "      <th>cohen-d</th>\n",
       "      <th>BF10</th>\n",
       "      <th>power</th>\n",
       "    </tr>\n",
       "  </thead>\n",
       "  <tbody>\n",
       "    <tr>\n",
       "      <th>T-test</th>\n",
       "      <td>0.26774</td>\n",
       "      <td>4</td>\n",
       "      <td>two-sided</td>\n",
       "      <td>0.802139</td>\n",
       "      <td>[-0.15, 0.19]</td>\n",
       "      <td>0.218608</td>\n",
       "      <td>0.574</td>\n",
       "      <td>0.0551</td>\n",
       "    </tr>\n",
       "  </tbody>\n",
       "</table>\n",
       "</div>"
      ],
      "text/plain": [
       "              T  dof alternative     p-val          CI95%   cohen-d   BF10  \\\n",
       "T-test  0.26774    4   two-sided  0.802139  [-0.15, 0.19]  0.218608  0.574   \n",
       "\n",
       "         power  \n",
       "T-test  0.0551  "
      ]
     },
     "execution_count": 14,
     "metadata": {},
     "output_type": "execute_result"
    }
   ],
   "source": [
    "ttest(df_108_N2[\"Speed (mm/s)\"], df_108_sel12[\"Speed (mm/s)\"])"
   ]
  },
  {
   "cell_type": "code",
   "execution_count": 22,
   "metadata": {},
   "outputs": [
    {
     "data": {
      "text/html": [
       "<div>\n",
       "<style scoped>\n",
       "    .dataframe tbody tr th:only-of-type {\n",
       "        vertical-align: middle;\n",
       "    }\n",
       "\n",
       "    .dataframe tbody tr th {\n",
       "        vertical-align: top;\n",
       "    }\n",
       "\n",
       "    .dataframe thead th {\n",
       "        text-align: right;\n",
       "    }\n",
       "</style>\n",
       "<table border=\"1\" class=\"dataframe\">\n",
       "  <thead>\n",
       "    <tr style=\"text-align: right;\">\n",
       "      <th></th>\n",
       "      <th>T</th>\n",
       "      <th>dof</th>\n",
       "      <th>alternative</th>\n",
       "      <th>p-val</th>\n",
       "      <th>CI95%</th>\n",
       "      <th>cohen-d</th>\n",
       "      <th>BF10</th>\n",
       "      <th>power</th>\n",
       "    </tr>\n",
       "  </thead>\n",
       "  <tbody>\n",
       "    <tr>\n",
       "      <th>T-test</th>\n",
       "      <td>0.26774</td>\n",
       "      <td>4</td>\n",
       "      <td>greater</td>\n",
       "      <td>0.401069</td>\n",
       "      <td>[-0.11, inf]</td>\n",
       "      <td>0.218608</td>\n",
       "      <td>1.149</td>\n",
       "      <td>0.078006</td>\n",
       "    </tr>\n",
       "  </tbody>\n",
       "</table>\n",
       "</div>"
      ],
      "text/plain": [
       "              T  dof alternative     p-val         CI95%   cohen-d   BF10  \\\n",
       "T-test  0.26774    4     greater  0.401069  [-0.11, inf]  0.218608  1.149   \n",
       "\n",
       "           power  \n",
       "T-test  0.078006  "
      ]
     },
     "execution_count": 22,
     "metadata": {},
     "output_type": "execute_result"
    }
   ],
   "source": [
    "ttest(df_108_N2[\"Speed (mm/s)\"], df_108_sel12[\"Speed (mm/s)\"], paired=False, alternative='greater')"
   ]
  },
  {
   "cell_type": "markdown",
   "metadata": {},
   "source": [
    "# Fig1B Stats Analyses"
   ]
  },
  {
   "cell_type": "code",
   "execution_count": 23,
   "metadata": {},
   "outputs": [
    {
     "name": "stdout",
     "output_type": "stream",
     "text": [
      "                       Strain    Group                             Groups  \\\n",
      "0                          N2  Control                         N2-Control   \n",
      "1                          N2  Control                         N2-Control   \n",
      "2                          N2  Control                         N2-Control   \n",
      "3                          N2  Control                         N2-Control   \n",
      "4                          N2     Test                            N2-Test   \n",
      "5                          N2     Test                            N2-Test   \n",
      "6                          N2     Test                            N2-Test   \n",
      "7                          N2     Test                            N2-Test   \n",
      "8              sel-12(ok2078)  Control             sel-12(ok2078)-Control   \n",
      "9              sel-12(ok2078)  Control             sel-12(ok2078)-Control   \n",
      "10             sel-12(ok2078)  Control             sel-12(ok2078)-Control   \n",
      "11             sel-12(ok2078)  Control             sel-12(ok2078)-Control   \n",
      "12             sel-12(ok2078)     Test                sel-12(ok2078)-Test   \n",
      "13             sel-12(ok2078)     Test                sel-12(ok2078)-Test   \n",
      "14             sel-12(ok2078)     Test                sel-12(ok2078)-Test   \n",
      "15             sel-12(ok2078)     Test                sel-12(ok2078)-Test   \n",
      "16               hop-1(ar179)  Control               hop-1(ar179)-Control   \n",
      "17               hop-1(ar179)  Control               hop-1(ar179)-Control   \n",
      "18               hop-1(ar179)  Control               hop-1(ar179)-Control   \n",
      "19               hop-1(ar179)  Control               hop-1(ar179)-Control   \n",
      "20               hop-1(ar179)     Test                  hop-1(ar179)-Test   \n",
      "21               hop-1(ar179)     Test                  hop-1(ar179)-Test   \n",
      "22               hop-1(ar179)     Test                  hop-1(ar179)-Test   \n",
      "23               hop-1(ar179)     Test                  hop-1(ar179)-Test   \n",
      "24  hop-1(ep369); sel-12(ep6)  Control  hop-1(ep369); sel-12(ep6)-Control   \n",
      "25  hop-1(ep369); sel-12(ep6)  Control  hop-1(ep369); sel-12(ep6)-Control   \n",
      "26  hop-1(ep369); sel-12(ep6)  Control  hop-1(ep369); sel-12(ep6)-Control   \n",
      "27  hop-1(ep369); sel-12(ep6)  Control  hop-1(ep369); sel-12(ep6)-Control   \n",
      "28  hop-1(ep369); sel-12(ep6)     Test     hop-1(ep369); sel-12(ep6)-Test   \n",
      "29  hop-1(ep369); sel-12(ep6)     Test     hop-1(ep369); sel-12(ep6)-Test   \n",
      "30  hop-1(ep369); sel-12(ep6)     Test     hop-1(ep369); sel-12(ep6)-Test   \n",
      "31  hop-1(ep369); sel-12(ep6)     Test     hop-1(ep369); sel-12(ep6)-Test   \n",
      "\n",
      "        C.I.  \n",
      "0  -0.057140  \n",
      "1  -0.102941  \n",
      "2   0.142857  \n",
      "3  -0.093023  \n",
      "4  -0.544715  \n",
      "5  -0.483871  \n",
      "6  -0.544828  \n",
      "7  -0.693252  \n",
      "8  -0.037815  \n",
      "9  -0.050000  \n",
      "10 -0.138461  \n",
      "11  0.147706  \n",
      "12  0.020000  \n",
      "13  0.115942  \n",
      "14 -0.121212  \n",
      "15 -0.247706  \n",
      "16  0.142466  \n",
      "17  0.045455  \n",
      "18 -0.050000  \n",
      "19 -0.011236  \n",
      "20 -0.265306  \n",
      "21 -0.296296  \n",
      "22 -0.216783  \n",
      "23 -0.186992  \n",
      "24 -0.177778  \n",
      "25  0.123529  \n",
      "26 -0.030769  \n",
      "27 -0.115385  \n",
      "28 -0.169026  \n",
      "29 -0.208451  \n",
      "30 -0.146392  \n",
      "31 -0.163218  \n"
     ]
    }
   ],
   "source": [
    "df1 = pd.read_csv('/Users/Joseph/Desktop/Fig1B_Data.csv')\n",
    "print(df1)"
   ]
  },
  {
   "cell_type": "markdown",
   "metadata": {},
   "source": [
    "## Tukey Test"
   ]
  },
  {
   "cell_type": "code",
   "execution_count": 26,
   "metadata": {},
   "outputs": [
    {
     "data": {
      "text/html": [
       "<div>\n",
       "<style scoped>\n",
       "    .dataframe tbody tr th:only-of-type {\n",
       "        vertical-align: middle;\n",
       "    }\n",
       "\n",
       "    .dataframe tbody tr th {\n",
       "        vertical-align: top;\n",
       "    }\n",
       "\n",
       "    .dataframe thead th {\n",
       "        text-align: right;\n",
       "    }\n",
       "</style>\n",
       "<table border=\"1\" class=\"dataframe\">\n",
       "  <thead>\n",
       "    <tr style=\"text-align: right;\">\n",
       "      <th></th>\n",
       "      <th>A</th>\n",
       "      <th>B</th>\n",
       "      <th>mean(A)</th>\n",
       "      <th>mean(B)</th>\n",
       "      <th>diff</th>\n",
       "      <th>se</th>\n",
       "      <th>T</th>\n",
       "      <th>p-tukey</th>\n",
       "      <th>hedges</th>\n",
       "    </tr>\n",
       "  </thead>\n",
       "  <tbody>\n",
       "    <tr>\n",
       "      <th>0</th>\n",
       "      <td>N2-Control</td>\n",
       "      <td>N2-Test</td>\n",
       "      <td>-0.02756</td>\n",
       "      <td>-0.56667</td>\n",
       "      <td>0.53910</td>\n",
       "      <td>0.07426</td>\n",
       "      <td>7.25961</td>\n",
       "      <td>0.00000</td>\n",
       "      <td>4.46375</td>\n",
       "    </tr>\n",
       "    <tr>\n",
       "      <th>1</th>\n",
       "      <td>N2-Control</td>\n",
       "      <td>hop-1(ar179)-Control</td>\n",
       "      <td>-0.02756</td>\n",
       "      <td>0.03167</td>\n",
       "      <td>-0.05923</td>\n",
       "      <td>0.07426</td>\n",
       "      <td>-0.79763</td>\n",
       "      <td>0.99164</td>\n",
       "      <td>-0.49045</td>\n",
       "    </tr>\n",
       "    <tr>\n",
       "      <th>2</th>\n",
       "      <td>N2-Control</td>\n",
       "      <td>hop-1(ar179)-Test</td>\n",
       "      <td>-0.02756</td>\n",
       "      <td>-0.24134</td>\n",
       "      <td>0.21378</td>\n",
       "      <td>0.07426</td>\n",
       "      <td>2.87881</td>\n",
       "      <td>0.12184</td>\n",
       "      <td>1.77011</td>\n",
       "    </tr>\n",
       "    <tr>\n",
       "      <th>3</th>\n",
       "      <td>N2-Control</td>\n",
       "      <td>hop-1(ep369); sel-12(ep6)-Control</td>\n",
       "      <td>-0.02756</td>\n",
       "      <td>-0.05010</td>\n",
       "      <td>0.02254</td>\n",
       "      <td>0.07426</td>\n",
       "      <td>0.30351</td>\n",
       "      <td>0.99998</td>\n",
       "      <td>0.18662</td>\n",
       "    </tr>\n",
       "    <tr>\n",
       "      <th>4</th>\n",
       "      <td>N2-Control</td>\n",
       "      <td>hop-1(ep369); sel-12(ep6)-Test</td>\n",
       "      <td>-0.02756</td>\n",
       "      <td>-0.17177</td>\n",
       "      <td>0.14421</td>\n",
       "      <td>0.07426</td>\n",
       "      <td>1.94194</td>\n",
       "      <td>0.53775</td>\n",
       "      <td>1.19405</td>\n",
       "    </tr>\n",
       "    <tr>\n",
       "      <th>5</th>\n",
       "      <td>N2-Control</td>\n",
       "      <td>sel-12(ok2078)-Control</td>\n",
       "      <td>-0.02756</td>\n",
       "      <td>-0.01964</td>\n",
       "      <td>-0.00792</td>\n",
       "      <td>0.07426</td>\n",
       "      <td>-0.10664</td>\n",
       "      <td>1.00000</td>\n",
       "      <td>-0.06557</td>\n",
       "    </tr>\n",
       "    <tr>\n",
       "      <th>6</th>\n",
       "      <td>N2-Control</td>\n",
       "      <td>sel-12(ok2078)-Test</td>\n",
       "      <td>-0.02756</td>\n",
       "      <td>-0.05824</td>\n",
       "      <td>0.03068</td>\n",
       "      <td>0.07426</td>\n",
       "      <td>0.41317</td>\n",
       "      <td>0.99987</td>\n",
       "      <td>0.25405</td>\n",
       "    </tr>\n",
       "    <tr>\n",
       "      <th>7</th>\n",
       "      <td>N2-Test</td>\n",
       "      <td>hop-1(ar179)-Control</td>\n",
       "      <td>-0.56667</td>\n",
       "      <td>0.03167</td>\n",
       "      <td>-0.59834</td>\n",
       "      <td>0.07426</td>\n",
       "      <td>-8.05724</td>\n",
       "      <td>0.00000</td>\n",
       "      <td>-4.95420</td>\n",
       "    </tr>\n",
       "    <tr>\n",
       "      <th>8</th>\n",
       "      <td>N2-Test</td>\n",
       "      <td>hop-1(ar179)-Test</td>\n",
       "      <td>-0.56667</td>\n",
       "      <td>-0.24134</td>\n",
       "      <td>-0.32532</td>\n",
       "      <td>0.07426</td>\n",
       "      <td>-4.38080</td>\n",
       "      <td>0.00422</td>\n",
       "      <td>-2.69365</td>\n",
       "    </tr>\n",
       "    <tr>\n",
       "      <th>9</th>\n",
       "      <td>N2-Test</td>\n",
       "      <td>hop-1(ep369); sel-12(ep6)-Control</td>\n",
       "      <td>-0.56667</td>\n",
       "      <td>-0.05010</td>\n",
       "      <td>-0.51657</td>\n",
       "      <td>0.07426</td>\n",
       "      <td>-6.95610</td>\n",
       "      <td>0.00001</td>\n",
       "      <td>-4.27713</td>\n",
       "    </tr>\n",
       "    <tr>\n",
       "      <th>10</th>\n",
       "      <td>N2-Test</td>\n",
       "      <td>hop-1(ep369); sel-12(ep6)-Test</td>\n",
       "      <td>-0.56667</td>\n",
       "      <td>-0.17177</td>\n",
       "      <td>-0.39489</td>\n",
       "      <td>0.07426</td>\n",
       "      <td>-5.31767</td>\n",
       "      <td>0.00043</td>\n",
       "      <td>-3.26970</td>\n",
       "    </tr>\n",
       "    <tr>\n",
       "      <th>11</th>\n",
       "      <td>N2-Test</td>\n",
       "      <td>sel-12(ok2078)-Control</td>\n",
       "      <td>-0.56667</td>\n",
       "      <td>-0.01964</td>\n",
       "      <td>-0.54702</td>\n",
       "      <td>0.07426</td>\n",
       "      <td>-7.36625</td>\n",
       "      <td>0.00000</td>\n",
       "      <td>-4.52932</td>\n",
       "    </tr>\n",
       "    <tr>\n",
       "      <th>12</th>\n",
       "      <td>N2-Test</td>\n",
       "      <td>sel-12(ok2078)-Test</td>\n",
       "      <td>-0.56667</td>\n",
       "      <td>-0.05824</td>\n",
       "      <td>-0.50842</td>\n",
       "      <td>0.07426</td>\n",
       "      <td>-6.84644</td>\n",
       "      <td>0.00001</td>\n",
       "      <td>-4.20971</td>\n",
       "    </tr>\n",
       "    <tr>\n",
       "      <th>13</th>\n",
       "      <td>hop-1(ar179)-Control</td>\n",
       "      <td>hop-1(ar179)-Test</td>\n",
       "      <td>0.03167</td>\n",
       "      <td>-0.24134</td>\n",
       "      <td>0.27302</td>\n",
       "      <td>0.07426</td>\n",
       "      <td>3.67644</td>\n",
       "      <td>0.02223</td>\n",
       "      <td>2.26055</td>\n",
       "    </tr>\n",
       "    <tr>\n",
       "      <th>14</th>\n",
       "      <td>hop-1(ar179)-Control</td>\n",
       "      <td>hop-1(ep369); sel-12(ep6)-Control</td>\n",
       "      <td>0.03167</td>\n",
       "      <td>-0.05010</td>\n",
       "      <td>0.08177</td>\n",
       "      <td>0.07426</td>\n",
       "      <td>1.10114</td>\n",
       "      <td>0.95034</td>\n",
       "      <td>0.67706</td>\n",
       "    </tr>\n",
       "    <tr>\n",
       "      <th>15</th>\n",
       "      <td>hop-1(ar179)-Control</td>\n",
       "      <td>hop-1(ep369); sel-12(ep6)-Test</td>\n",
       "      <td>0.03167</td>\n",
       "      <td>-0.17177</td>\n",
       "      <td>0.20344</td>\n",
       "      <td>0.07426</td>\n",
       "      <td>2.73957</td>\n",
       "      <td>0.15870</td>\n",
       "      <td>1.68450</td>\n",
       "    </tr>\n",
       "    <tr>\n",
       "      <th>16</th>\n",
       "      <td>hop-1(ar179)-Control</td>\n",
       "      <td>sel-12(ok2078)-Control</td>\n",
       "      <td>0.03167</td>\n",
       "      <td>-0.01964</td>\n",
       "      <td>0.05131</td>\n",
       "      <td>0.07426</td>\n",
       "      <td>0.69099</td>\n",
       "      <td>0.99649</td>\n",
       "      <td>0.42487</td>\n",
       "    </tr>\n",
       "    <tr>\n",
       "      <th>17</th>\n",
       "      <td>hop-1(ar179)-Control</td>\n",
       "      <td>sel-12(ok2078)-Test</td>\n",
       "      <td>0.03167</td>\n",
       "      <td>-0.05824</td>\n",
       "      <td>0.08992</td>\n",
       "      <td>0.07426</td>\n",
       "      <td>1.21080</td>\n",
       "      <td>0.92081</td>\n",
       "      <td>0.74449</td>\n",
       "    </tr>\n",
       "    <tr>\n",
       "      <th>18</th>\n",
       "      <td>hop-1(ar179)-Test</td>\n",
       "      <td>hop-1(ep369); sel-12(ep6)-Control</td>\n",
       "      <td>-0.24134</td>\n",
       "      <td>-0.05010</td>\n",
       "      <td>-0.19124</td>\n",
       "      <td>0.07426</td>\n",
       "      <td>-2.57530</td>\n",
       "      <td>0.21318</td>\n",
       "      <td>-1.58349</td>\n",
       "    </tr>\n",
       "    <tr>\n",
       "      <th>19</th>\n",
       "      <td>hop-1(ar179)-Test</td>\n",
       "      <td>hop-1(ep369); sel-12(ep6)-Test</td>\n",
       "      <td>-0.24134</td>\n",
       "      <td>-0.17177</td>\n",
       "      <td>-0.06957</td>\n",
       "      <td>0.07426</td>\n",
       "      <td>-0.93687</td>\n",
       "      <td>0.97897</td>\n",
       "      <td>-0.57606</td>\n",
       "    </tr>\n",
       "    <tr>\n",
       "      <th>20</th>\n",
       "      <td>hop-1(ar179)-Test</td>\n",
       "      <td>sel-12(ok2078)-Control</td>\n",
       "      <td>-0.24134</td>\n",
       "      <td>-0.01964</td>\n",
       "      <td>-0.22170</td>\n",
       "      <td>0.07426</td>\n",
       "      <td>-2.98545</td>\n",
       "      <td>0.09873</td>\n",
       "      <td>-1.83568</td>\n",
       "    </tr>\n",
       "    <tr>\n",
       "      <th>21</th>\n",
       "      <td>hop-1(ar179)-Test</td>\n",
       "      <td>sel-12(ok2078)-Test</td>\n",
       "      <td>-0.24134</td>\n",
       "      <td>-0.05824</td>\n",
       "      <td>-0.18310</td>\n",
       "      <td>0.07426</td>\n",
       "      <td>-2.46564</td>\n",
       "      <td>0.25670</td>\n",
       "      <td>-1.51606</td>\n",
       "    </tr>\n",
       "    <tr>\n",
       "      <th>22</th>\n",
       "      <td>hop-1(ep369); sel-12(ep6)-Control</td>\n",
       "      <td>hop-1(ep369); sel-12(ep6)-Test</td>\n",
       "      <td>-0.05010</td>\n",
       "      <td>-0.17177</td>\n",
       "      <td>0.12167</td>\n",
       "      <td>0.07426</td>\n",
       "      <td>1.63843</td>\n",
       "      <td>0.72372</td>\n",
       "      <td>1.00743</td>\n",
       "    </tr>\n",
       "    <tr>\n",
       "      <th>23</th>\n",
       "      <td>hop-1(ep369); sel-12(ep6)-Control</td>\n",
       "      <td>sel-12(ok2078)-Control</td>\n",
       "      <td>-0.05010</td>\n",
       "      <td>-0.01964</td>\n",
       "      <td>-0.03046</td>\n",
       "      <td>0.07426</td>\n",
       "      <td>-0.41015</td>\n",
       "      <td>0.99988</td>\n",
       "      <td>-0.25219</td>\n",
       "    </tr>\n",
       "    <tr>\n",
       "      <th>24</th>\n",
       "      <td>hop-1(ep369); sel-12(ep6)-Control</td>\n",
       "      <td>sel-12(ok2078)-Test</td>\n",
       "      <td>-0.05010</td>\n",
       "      <td>-0.05824</td>\n",
       "      <td>0.00814</td>\n",
       "      <td>0.07426</td>\n",
       "      <td>0.10966</td>\n",
       "      <td>1.00000</td>\n",
       "      <td>0.06743</td>\n",
       "    </tr>\n",
       "    <tr>\n",
       "      <th>25</th>\n",
       "      <td>hop-1(ep369); sel-12(ep6)-Test</td>\n",
       "      <td>sel-12(ok2078)-Control</td>\n",
       "      <td>-0.17177</td>\n",
       "      <td>-0.01964</td>\n",
       "      <td>-0.15213</td>\n",
       "      <td>0.07426</td>\n",
       "      <td>-2.04858</td>\n",
       "      <td>0.47284</td>\n",
       "      <td>-1.25962</td>\n",
       "    </tr>\n",
       "    <tr>\n",
       "      <th>26</th>\n",
       "      <td>hop-1(ep369); sel-12(ep6)-Test</td>\n",
       "      <td>sel-12(ok2078)-Test</td>\n",
       "      <td>-0.17177</td>\n",
       "      <td>-0.05824</td>\n",
       "      <td>-0.11353</td>\n",
       "      <td>0.07426</td>\n",
       "      <td>-1.52877</td>\n",
       "      <td>0.78498</td>\n",
       "      <td>-0.94000</td>\n",
       "    </tr>\n",
       "    <tr>\n",
       "      <th>27</th>\n",
       "      <td>sel-12(ok2078)-Control</td>\n",
       "      <td>sel-12(ok2078)-Test</td>\n",
       "      <td>-0.01964</td>\n",
       "      <td>-0.05824</td>\n",
       "      <td>0.03860</td>\n",
       "      <td>0.07426</td>\n",
       "      <td>0.51981</td>\n",
       "      <td>0.99942</td>\n",
       "      <td>0.31962</td>\n",
       "    </tr>\n",
       "  </tbody>\n",
       "</table>\n",
       "</div>"
      ],
      "text/plain": [
       "                                    A                                  B  \\\n",
       "0                          N2-Control                            N2-Test   \n",
       "1                          N2-Control               hop-1(ar179)-Control   \n",
       "2                          N2-Control                  hop-1(ar179)-Test   \n",
       "3                          N2-Control  hop-1(ep369); sel-12(ep6)-Control   \n",
       "4                          N2-Control     hop-1(ep369); sel-12(ep6)-Test   \n",
       "5                          N2-Control             sel-12(ok2078)-Control   \n",
       "6                          N2-Control                sel-12(ok2078)-Test   \n",
       "7                             N2-Test               hop-1(ar179)-Control   \n",
       "8                             N2-Test                  hop-1(ar179)-Test   \n",
       "9                             N2-Test  hop-1(ep369); sel-12(ep6)-Control   \n",
       "10                            N2-Test     hop-1(ep369); sel-12(ep6)-Test   \n",
       "11                            N2-Test             sel-12(ok2078)-Control   \n",
       "12                            N2-Test                sel-12(ok2078)-Test   \n",
       "13               hop-1(ar179)-Control                  hop-1(ar179)-Test   \n",
       "14               hop-1(ar179)-Control  hop-1(ep369); sel-12(ep6)-Control   \n",
       "15               hop-1(ar179)-Control     hop-1(ep369); sel-12(ep6)-Test   \n",
       "16               hop-1(ar179)-Control             sel-12(ok2078)-Control   \n",
       "17               hop-1(ar179)-Control                sel-12(ok2078)-Test   \n",
       "18                  hop-1(ar179)-Test  hop-1(ep369); sel-12(ep6)-Control   \n",
       "19                  hop-1(ar179)-Test     hop-1(ep369); sel-12(ep6)-Test   \n",
       "20                  hop-1(ar179)-Test             sel-12(ok2078)-Control   \n",
       "21                  hop-1(ar179)-Test                sel-12(ok2078)-Test   \n",
       "22  hop-1(ep369); sel-12(ep6)-Control     hop-1(ep369); sel-12(ep6)-Test   \n",
       "23  hop-1(ep369); sel-12(ep6)-Control             sel-12(ok2078)-Control   \n",
       "24  hop-1(ep369); sel-12(ep6)-Control                sel-12(ok2078)-Test   \n",
       "25     hop-1(ep369); sel-12(ep6)-Test             sel-12(ok2078)-Control   \n",
       "26     hop-1(ep369); sel-12(ep6)-Test                sel-12(ok2078)-Test   \n",
       "27             sel-12(ok2078)-Control                sel-12(ok2078)-Test   \n",
       "\n",
       "    mean(A)  mean(B)     diff       se        T  p-tukey   hedges  \n",
       "0  -0.02756 -0.56667  0.53910  0.07426  7.25961  0.00000  4.46375  \n",
       "1  -0.02756  0.03167 -0.05923  0.07426 -0.79763  0.99164 -0.49045  \n",
       "2  -0.02756 -0.24134  0.21378  0.07426  2.87881  0.12184  1.77011  \n",
       "3  -0.02756 -0.05010  0.02254  0.07426  0.30351  0.99998  0.18662  \n",
       "4  -0.02756 -0.17177  0.14421  0.07426  1.94194  0.53775  1.19405  \n",
       "5  -0.02756 -0.01964 -0.00792  0.07426 -0.10664  1.00000 -0.06557  \n",
       "6  -0.02756 -0.05824  0.03068  0.07426  0.41317  0.99987  0.25405  \n",
       "7  -0.56667  0.03167 -0.59834  0.07426 -8.05724  0.00000 -4.95420  \n",
       "8  -0.56667 -0.24134 -0.32532  0.07426 -4.38080  0.00422 -2.69365  \n",
       "9  -0.56667 -0.05010 -0.51657  0.07426 -6.95610  0.00001 -4.27713  \n",
       "10 -0.56667 -0.17177 -0.39489  0.07426 -5.31767  0.00043 -3.26970  \n",
       "11 -0.56667 -0.01964 -0.54702  0.07426 -7.36625  0.00000 -4.52932  \n",
       "12 -0.56667 -0.05824 -0.50842  0.07426 -6.84644  0.00001 -4.20971  \n",
       "13  0.03167 -0.24134  0.27302  0.07426  3.67644  0.02223  2.26055  \n",
       "14  0.03167 -0.05010  0.08177  0.07426  1.10114  0.95034  0.67706  \n",
       "15  0.03167 -0.17177  0.20344  0.07426  2.73957  0.15870  1.68450  \n",
       "16  0.03167 -0.01964  0.05131  0.07426  0.69099  0.99649  0.42487  \n",
       "17  0.03167 -0.05824  0.08992  0.07426  1.21080  0.92081  0.74449  \n",
       "18 -0.24134 -0.05010 -0.19124  0.07426 -2.57530  0.21318 -1.58349  \n",
       "19 -0.24134 -0.17177 -0.06957  0.07426 -0.93687  0.97897 -0.57606  \n",
       "20 -0.24134 -0.01964 -0.22170  0.07426 -2.98545  0.09873 -1.83568  \n",
       "21 -0.24134 -0.05824 -0.18310  0.07426 -2.46564  0.25670 -1.51606  \n",
       "22 -0.05010 -0.17177  0.12167  0.07426  1.63843  0.72372  1.00743  \n",
       "23 -0.05010 -0.01964 -0.03046  0.07426 -0.41015  0.99988 -0.25219  \n",
       "24 -0.05010 -0.05824  0.00814  0.07426  0.10966  1.00000  0.06743  \n",
       "25 -0.17177 -0.01964 -0.15213  0.07426 -2.04858  0.47284 -1.25962  \n",
       "26 -0.17177 -0.05824 -0.11353  0.07426 -1.52877  0.78498 -0.94000  \n",
       "27 -0.01964 -0.05824  0.03860  0.07426  0.51981  0.99942  0.31962  "
      ]
     },
     "execution_count": 26,
     "metadata": {},
     "output_type": "execute_result"
    }
   ],
   "source": [
    "pg.pairwise_tukey(data=df1, dv=\"C.I.\", between=\"Groups\").round(5)"
   ]
  },
  {
   "cell_type": "markdown",
   "metadata": {},
   "source": [
    "## One-way ANOVA"
   ]
  },
  {
   "cell_type": "code",
   "execution_count": 30,
   "metadata": {},
   "outputs": [
    {
     "data": {
      "text/html": [
       "<div>\n",
       "<style scoped>\n",
       "    .dataframe tbody tr th:only-of-type {\n",
       "        vertical-align: middle;\n",
       "    }\n",
       "\n",
       "    .dataframe tbody tr th {\n",
       "        vertical-align: top;\n",
       "    }\n",
       "\n",
       "    .dataframe thead th {\n",
       "        text-align: right;\n",
       "    }\n",
       "</style>\n",
       "<table border=\"1\" class=\"dataframe\">\n",
       "  <thead>\n",
       "    <tr style=\"text-align: right;\">\n",
       "      <th></th>\n",
       "      <th>Source</th>\n",
       "      <th>SS</th>\n",
       "      <th>DF</th>\n",
       "      <th>MS</th>\n",
       "      <th>F</th>\n",
       "      <th>p-unc</th>\n",
       "      <th>np2</th>\n",
       "    </tr>\n",
       "  </thead>\n",
       "  <tbody>\n",
       "    <tr>\n",
       "      <th>0</th>\n",
       "      <td>Groups</td>\n",
       "      <td>1.058624</td>\n",
       "      <td>7</td>\n",
       "      <td>0.151232</td>\n",
       "      <td>13.711787</td>\n",
       "      <td>0.000001</td>\n",
       "      <td>0.799971</td>\n",
       "    </tr>\n",
       "    <tr>\n",
       "      <th>1</th>\n",
       "      <td>Within</td>\n",
       "      <td>0.264704</td>\n",
       "      <td>24</td>\n",
       "      <td>0.011029</td>\n",
       "      <td>NaN</td>\n",
       "      <td>NaN</td>\n",
       "      <td>NaN</td>\n",
       "    </tr>\n",
       "  </tbody>\n",
       "</table>\n",
       "</div>"
      ],
      "text/plain": [
       "   Source        SS  DF        MS          F     p-unc       np2\n",
       "0  Groups  1.058624   7  0.151232  13.711787  0.000001  0.799971\n",
       "1  Within  0.264704  24  0.011029        NaN       NaN       NaN"
      ]
     },
     "execution_count": 30,
     "metadata": {},
     "output_type": "execute_result"
    }
   ],
   "source": [
    "pg.anova(data=df1, dv='C.I.', between='Groups', detailed=True).round(6)"
   ]
  },
  {
   "cell_type": "code",
   "execution_count": null,
   "metadata": {},
   "outputs": [],
   "source": []
  }
 ],
 "metadata": {
  "kernelspec": {
   "display_name": "Python 3 (ipykernel)",
   "language": "python",
   "name": "python3"
  },
  "language_info": {
   "codemirror_mode": {
    "name": "ipython",
    "version": 3
   },
   "file_extension": ".py",
   "mimetype": "text/x-python",
   "name": "python",
   "nbconvert_exporter": "python",
   "pygments_lexer": "ipython3",
   "version": "3.11.1"
  }
 },
 "nbformat": 4,
 "nbformat_minor": 4
}
