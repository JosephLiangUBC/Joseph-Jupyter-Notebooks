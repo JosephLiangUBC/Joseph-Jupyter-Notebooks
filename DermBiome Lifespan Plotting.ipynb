{
 "cells": [
  {
   "cell_type": "code",
   "execution_count": null,
   "metadata": {},
   "outputs": [],
   "source": [
    "import pandas as pd #<- package used to import and organize data\n",
    "import numpy as np #<- package used to import and organize data\n",
    "import seaborn as sns #<- package used to plot graphs\n",
    "from matplotlib import pyplot as plt #<- package used to plot graphs\n",
    "import plotly.graph_objects as go\n",
    "import plotly.express as px\n",
    "import os"
   ]
  },
  {
   "cell_type": "code",
   "execution_count": null,
   "metadata": {},
   "outputs": [],
   "source": [
    "df = pd.read_csv('/Users/Joseph/Desktop/DermBiome_Raw_Final.csv')\n",
    "os.chdir('/Users/Joseph/Desktop')\n",
    "sns.color_palette(\"colorblind\")\n",
    "sns.set(rc={'figure.figsize':(16,10)})\n",
    "sns.set_context(\"talk\")\n",
    "plt.figure(linewidth = 2.5)#<- Make your figure lines THICCCC for clean display (posters)\n",
    "ax = sns.relplot(x=\"Day\",\n",
    "                y=\"% Alive\", \n",
    "                data = df,\n",
    "                hue = 'Treatment',\n",
    "                 style='Plate',\n",
    "               dashes=False,\n",
    "               markers=True,\n",
    "                 col='Drug',\n",
    "                 row='Concentration',\n",
    "               kind=\"line\",\n",
    "                palette=['black',\n",
    "                        'darkgrey',\n",
    "                        'maroon',\n",
    "                        'red',\n",
    "                        'sienna']\n",
    "                )\n",
    "plt.ylabel(\"% Alive\")#<- Y-Axis title\n",
    "plt.title(\"\")#<- Figure Title\n",
    "plt.ylim(bottom = -5)\n",
    "plt.savefig('Drug_Lifespan.png', format='png', dpi=450)\n",
    "plt.show()"
   ]
  },
  {
   "cell_type": "code",
   "execution_count": null,
   "metadata": {},
   "outputs": [],
   "source": [
    "df = pd.read_csv('/Users/Joseph/Desktop/DermBiome_Raw_Total_Final.csv')\n",
    "os.chdir('/Users/Joseph/Desktop')\n",
    "sns.color_palette(\"colorblind\")\n",
    "sns.set_context(\"talk\")\n",
    "plt.figure(linewidth = 2.5)#<- Make your figure lines THICCCC for clean display (posters)\n",
    "plt.figure(figsize=(5,20))#<- set your figure size (width, length)\n",
    "ax = sns.relplot(x=\"Day\",\n",
    "                y=\"% Alive\", \n",
    "                data = df,\n",
    "                hue = 'Concentration',\n",
    "               dashes=False,\n",
    "               markers=True,\n",
    "                 col='Drug',\n",
    "               kind=\"line\",\n",
    "                palette=['black',\n",
    "                        'darkgrey',\n",
    "                        'blueviolet',\n",
    "                        'mediumblue',\n",
    "                        'dodgerblue',\n",
    "                        'skyblue'])\n",
    "plt.ylabel(\"% Alive\")#<- Y-Axis title\n",
    "plt.title(\"\")#<- Figure Title\n",
    "plt.ylim(bottom = 0)\n",
    "plt.savefig('Drug_Lifespan.png', format='png', dpi=450)\n",
    "plt.show()"
   ]
  }
 ],
 "metadata": {
  "kernelspec": {
   "display_name": "Python 3",
   "language": "python",
   "name": "python3"
  },
  "language_info": {
   "codemirror_mode": {
    "name": "ipython",
    "version": 3
   },
   "file_extension": ".py",
   "mimetype": "text/x-python",
   "name": "python",
   "nbconvert_exporter": "python",
   "pygments_lexer": "ipython3",
   "version": "3.8.3"
  }
 },
 "nbformat": 4,
 "nbformat_minor": 4
}
