{
 "cells": [
  {
   "cell_type": "markdown",
   "metadata": {},
   "source": [
    "# Jupyter Notebook UI to graph your TAP data!\n",
    "\n",
    "Version 1.7 - Joseph Liang, Rankin Lab\n",
    "Updated:\n",
    "1. Upgraded folder path selection application\n",
    "2. Upgraded dataset management (less moving parts for end-user)\n",
    "3. output changed from tif -> png\n",
    "4. Added tap-correction function for missing taps (should be working now)\n",
    "5. Added plate column to evaluate plate-discrepancies\n",
    "6. Added separate graphing function for plate-discrepancies\n",
    "7. Added colour palette-setting function\n",
    "\n",
    "## Known bug: Step 2 an empty windows displays in Mac. May also apply to linux/windows.\n",
    "\n",
    "## Beginner Essentials:\n",
    "1. Shift-Enter to run each cell. After you run, you should see an output \"done step #\". If not, an error has occured\n",
    "2. When inputting your own code/revising the code, make sure you close all your quotation marks '' and brackets (), [], {}.\n",
    "3. Don't leave any commas (,) hanging! (make sure an object always follows a comma. If there is nothing after a comma, remove the comma!\n",
    "4. Learning to code? Each line of code is annotated to help you understand how this code works!\n",
    "\n",
    "## 3. Run all cells/steps sequentially, even the ones that do not need input\n",
    "\n",
    "## Steps that require input: #3, #6.1, #7"
   ]
  },
  {
   "cell_type": "markdown",
   "metadata": {},
   "source": [
    "# 1. Importing Packages Required (No input required, just run)"
   ]
  },
  {
   "cell_type": "code",
   "execution_count": 1,
   "metadata": {},
   "outputs": [
    {
     "name": "stdout",
     "output_type": "stream",
     "text": [
      "done step 1\n"
     ]
    }
   ],
   "source": [
    "import pandas as pd #<- package used to import and organize data\n",
    "import numpy as np #<- package used to import and organize data\n",
    "import math\n",
    "import os #<- package used to work with system file paths\n",
    "import seaborn as sns #<- package used to plot graphs\n",
    "from matplotlib import pyplot as plt #<- another package used to plot graphs\n",
    "from itertools import cycle #<- package used to iterate down rows (used in step 5 to add tap column)\n",
    "import ipywidgets as widgets #<- widget tool to generate button and tab for graphs\n",
    "from IPython.display import display #<- displays widgets\n",
    "from tkinter import Tk, filedialog #<- Tkinter is a GUI package\n",
    "print(\"done step 1\")"
   ]
  },
  {
   "cell_type": "markdown",
   "metadata": {},
   "source": [
    "# 2. Pick filepath (just run and click button from output)\n",
    "\n",
    "Run the following cell and click the button 'Select Folder' to pick a filepath.\n",
    "\n",
    "## Important: Later on, this script uses the total file path for each file to import and group data. That means if your folder has whatever your strain is named, the script will not work.\n",
    "\n",
    "(ex. if your folder has \"N2\" in it this script sees all files inside this folder as having the \"N2\" search key)\n",
    "\n",
    "## An easy fix is to just rename your folder to something else (make your strains lower-case, or just have the date)"
   ]
  },
  {
   "cell_type": "code",
   "execution_count": 2,
   "metadata": {},
   "outputs": [
    {
     "data": {
      "application/vnd.jupyter.widget-view+json": {
       "model_id": "051bca515dcc45e0b97dc5e8df4c4cbe",
       "version_major": 2,
       "version_minor": 0
      },
      "text/plain": [
       "Button(description='Select Folder', style=ButtonStyle())"
      ]
     },
     "metadata": {},
     "output_type": "display_data"
    },
    {
     "name": "stdout",
     "output_type": "stream",
     "text": [
      "C:/Users/Joshk/OneDrive/Documents Backup/Documents/Rankin_Lab/2021_02_16\n",
      "done step 2\n"
     ]
    }
   ],
   "source": [
    "### Select Folder App - After you run, you can select your folder for filepath\n",
    "button = widgets.Button(description = 'Select Folder') #<- Creates a button variable\n",
    "display(button) #<- displays this button on output\n",
    "def select_folder(b): #<- This is an action. Requires a variable, so I put in an arbitrary one 'b'\n",
    "    global folder_path #<- sets a variable as a global variable, not just within this action\n",
    "    Tk().withdraw() #<- Tkinter likes to create annoying empty windows. This removes them\n",
    "    folder_path = filedialog.askdirectory() #<- Opens up a file explorer window, and determines folder path\n",
    "    Tk().update()#<- below\n",
    "    Tk().destroy()#<- this and the line above it removes the file explorer window after a selection is made\n",
    "    print(folder_path) #<- this helps confirm that this action was performed\n",
    "    print('done step 2')\n",
    "button.on_click(select_folder) #<- describes what happens when you click on this button"
   ]
  },
  {
   "cell_type": "markdown",
   "metadata": {},
   "source": [
    "# 3. User Defined Variables (Add input here)\n",
    "\n",
    "Here, we add some constants to help you blaze through this code.\n",
    "\n",
    "3.1: Number of taps is pretty self-explanatory. How any taps does your experiment have? put in that number + 1 (N+1)!\n",
    "\n",
    "This may be a bit confusing, but this is due to some coding syntax that you don't have to worry about.\n",
    "\n",
    "3.2: Change your ISI number. This will be reflected in the name/title of the output figure."
   ]
  },
  {
   "cell_type": "code",
   "execution_count": 3,
   "metadata": {},
   "outputs": [
    {
     "name": "stdout",
     "output_type": "stream",
     "text": [
      "[(1, (599, 601)), (2, (609, 611)), (3, (619, 621)), (4, (629, 631)), (5, (639, 641)), (6, (649, 651)), (7, (659, 661)), (8, (669, 671)), (9, (679, 681)), (10, (689, 691)), (11, (699, 701)), (12, (709, 711)), (13, (719, 721)), (14, (729, 731)), (15, (739, 741)), (16, (749, 751)), (17, (759, 761)), (18, (769, 771)), (19, (779, 781)), (20, (789, 791)), (21, (799, 801)), (22, (809, 811)), (23, (819, 821)), (24, (829, 831)), (25, (839, 841)), (26, (849, 851)), (27, (859, 861)), (28, (869, 871)), (29, (879, 881)), (30, (889, 891))]\n",
      "done step 3\n"
     ]
    }
   ],
   "source": [
    "\n",
    "number_of_taps = 30 ###<------ Taps in your experiment.\n",
    "\n",
    "number_taps = range(1, number_of_taps + 1)  #<- do not change this\n",
    "\n",
    "\n",
    "# if you have different ISIs in the same folder, then come back and change this \n",
    "# when you are graphing for the second set of data with the other ISI \n",
    "# (Generally data from same ISIs are graphed together)\n",
    "# If changing ISI mid-analysis, you can just skip straight to step 8 after running this cell again\n",
    "\n",
    "ISI = 10  ### <- What is your ISI? change accordingly\n",
    "first_tap = 600 ### <- when is your first tap? check your TRV files\n",
    "\n",
    "#Here, open up one of the trv files to determine the times for each of these taps. \n",
    "lower = np.arange(first_tap-1, first_tap-1+(number_of_taps*ISI), ISI) #(first tap, last tap+10s, ISI)\n",
    "upper = np.arange(first_tap+1, first_tap+1+(number_of_taps*ISI), ISI) #(first tap, last tap+10s, ISI)\n",
    "tolerances = list(zip(lower, upper)) \n",
    "taps = [i for i in range(1,number_of_taps+1)]\n",
    "\n",
    "#assign each tolerance to a tap number\n",
    "\n",
    "accurate_taps = list((zip(taps, tolerances)))\n",
    "print(accurate_taps)\n",
    "\n",
    "for pair in accurate_taps:\n",
    "   tap = pair[0]\n",
    "   tolerance = pair[1]\n",
    "   #print(\"tap \"+str(tap), \"tolerance=\"+str(tolerance))\n",
    "\n",
    "print(\"done step 3\")"
   ]
  },
  {
   "cell_type": "markdown",
   "metadata": {},
   "source": [
    "# 4. Constructing Filelist From Source File/Select File (Just run)"
   ]
  },
  {
   "cell_type": "code",
   "execution_count": 4,
   "metadata": {},
   "outputs": [
    {
     "name": "stdout",
     "output_type": "stream",
     "text": [
      "['C:/Users/Joshk/OneDrive/Documents Backup/Documents/Rankin_Lab/2021_02_16\\\\N2NEW\\\\20210216_142149\\\\N2NEW_5x4_t96h20C_600s30x10s_B_2021_02_16C.trv', 'C:/Users/Joshk/OneDrive/Documents Backup/Documents/Rankin_Lab/2021_02_16\\\\N2NEW\\\\20210216_142735\\\\N2NEW_5x4_t96h20C_600s30x10s_A_2021_02_16A.trv', 'C:/Users/Joshk/OneDrive/Documents Backup/Documents/Rankin_Lab/2021_02_16\\\\N2NEW\\\\20210216_143950\\\\N2NEW_5x4_t96h20C_600s30x10s_C_2021_02_16E.trv', 'C:/Users/Joshk/OneDrive/Documents Backup/Documents/Rankin_Lab/2021_02_16\\\\N2NEW\\\\20210216_144542\\\\N2NEW_5x4_t96h20C_600s30x10s_B_2021_02_16D.trv', 'C:/Users/Joshk/OneDrive/Documents Backup/Documents/Rankin_Lab/2021_02_16\\\\N2NEW\\\\20210216_144601\\\\N2NEW_5x4_t96h20C_600s30x10s_A_2021_02_16B.trv', 'C:/Users/Joshk/OneDrive/Documents Backup/Documents/Rankin_Lab/2021_02_16\\\\N2NEW\\\\20210216_150048\\\\N2NEW_5x4_t96h20C_600s30x10s_C_2021_02_16F.trv', 'C:/Users/Joshk/OneDrive/Documents Backup/Documents/Rankin_Lab/2021_02_16\\\\N2NEW\\\\20210216_154316\\\\N2NEW_5x4_t96h20C_600s30x10s_B_2021_02_16I.trv', 'C:/Users/Joshk/OneDrive/Documents Backup/Documents/Rankin_Lab/2021_02_16\\\\N2NEW\\\\20210216_154955\\\\N2NEW_5x4_t96h20C_600s30x10s_A_2021_02_16G.trv', 'C:/Users/Joshk/OneDrive/Documents Backup/Documents/Rankin_Lab/2021_02_16\\\\N2NEW\\\\20210216_160021\\\\N2NEW_5x4_t96h20C_600s30x10s_B_2021_02_16J.trv', 'C:/Users/Joshk/OneDrive/Documents Backup/Documents/Rankin_Lab/2021_02_16\\\\N2NEW\\\\20210216_160730\\\\N2NEW_5x4_t96h20C_600s30x10s_A_2021_02_16H.trv', 'C:/Users/Joshk/OneDrive/Documents Backup/Documents/Rankin_Lab/2021_02_16\\\\N2OLD\\\\20210216_135731\\\\N2OLD_5x4_t96h20C_600s30x10s_C_2021_02_16B.trv', 'C:/Users/Joshk/OneDrive/Documents Backup/Documents/Rankin_Lab/2021_02_16\\\\N2OLD\\\\20210216_140325\\\\N2OLD_5x4_t96h20C_600s30x10s_B_2021_02_16A.trv', 'C:/Users/Joshk/OneDrive/Documents Backup/Documents/Rankin_Lab/2021_02_16\\\\N2OLD\\\\20210216_141558\\\\N2OLD_5x4_t96h20C_600s30x10s_C_2021_02_16C.trv', 'C:/Users/Joshk/OneDrive/Documents Backup/Documents/Rankin_Lab/2021_02_16\\\\N2OLD\\\\20210216_150633\\\\N2OLD_5x4_t96h20C_600s30x10s_B_2021_02_16F.trv', 'C:/Users/Joshk/OneDrive/Documents Backup/Documents/Rankin_Lab/2021_02_16\\\\N2OLD\\\\20210216_150953\\\\N2OLD_5x4_t96h20C_600s30x10s_A_2021_02_16D.trv', 'C:/Users/Joshk/OneDrive/Documents Backup/Documents/Rankin_Lab/2021_02_16\\\\N2OLD\\\\20210216_151947\\\\N2OLD_5x4_t96h20C_600s30x10s_C_2021_02_16H.trv', 'C:/Users/Joshk/OneDrive/Documents Backup/Documents/Rankin_Lab/2021_02_16\\\\N2OLD\\\\20210216_152541\\\\N2OLD_5x4_t96h20C_600s30x10s_B_2021_02_16G.trv', 'C:/Users/Joshk/OneDrive/Documents Backup/Documents/Rankin_Lab/2021_02_16\\\\N2OLD\\\\20210216_153041\\\\N2OLD_5x4_t96h20C_600s30x10s_A_2021_02_16E.trv', 'C:/Users/Joshk/OneDrive/Documents Backup/Documents/Rankin_Lab/2021_02_16\\\\N2OLD\\\\20210216_153726\\\\N2OLD_5x4_t96h20C_600s30x10s_C_2021_02_16I.trv', 'C:/Users/Joshk/OneDrive/Documents Backup/Documents/Rankin_Lab/2021_02_16\\\\N2OLD\\\\20210216_162432\\\\N2OLD_5x4_t96h20C_600s30x10s_A_2021_02_16J.trv']\n",
      "done step 4\n"
     ]
    }
   ],
   "source": [
    "#folder_path = '/Users/Joseph/Desktop/AVR14_10sISI' #- manual folder path if Tkinter is acting up\n",
    "\n",
    "os.chdir(folder_path) #<- setting your working directory so that your images will be saved here\n",
    "\n",
    "filelist = list() #<- empty list\n",
    "for root, dirs, files in os.walk(folder_path): #<- this for loop goes through your folder \n",
    "    for name in files:\n",
    "        if name.endswith('.trv'): #<- and takes out all files with a .trv (file that contains your data)\n",
    "            filepath = os.path.join(root, name) #<- Notes down the file path of each data file\n",
    "            filelist.append(filepath) #<- saves it into the list\n",
    "    \n",
    "print(filelist)\n",
    "print('done step 4')"
   ]
  },
  {
   "cell_type": "markdown",
   "metadata": {},
   "source": [
    "# 5. Process Data Function (Just Run)"
   ]
  },
  {
   "cell_type": "code",
   "execution_count": 5,
   "metadata": {},
   "outputs": [
    {
     "name": "stdout",
     "output_type": "stream",
     "text": [
      "done step 5\n"
     ]
    }
   ],
   "source": [
    "def ProcessData(strain): #<- an example of a user-defined function\n",
    "    strain_filelist = [x for x in filelist if strain in x] #<- goes through the list and filters for keyword\n",
    "    Strain_N = len(strain_filelist) #<- N per strain, or number of plates\n",
    "    Plate_N = 1\n",
    "    print(f'this strain/treatment has {Strain_N} plates') #<- will output as the first number\n",
    "    if Strain_N == 0:\n",
    "        raise AssertionError ('{} is not a good identifier'.format(strain))\n",
    "    else:\n",
    "        pass\n",
    "#     for f in strain_filelist:\n",
    "#         DF_Total = pd.concat(pd.read_csv(f, sep=' ', skiprows = 4, header = None))\n",
    "        DF_Total = pd.concat([pd.read_csv(f, sep=' ', skiprows = 4, header = None) for f in strain_filelist],\n",
    "                      ignore_index=True) #<- imports your data files\n",
    "        DF_Total = DF_Total.dropna(axis = 1) #<- cleans your data\n",
    "        DF_Total = DF_Total.rename( #<- more cleaning\n",
    "                    {0:'time',\n",
    "                    2:'rev_before',\n",
    "                    3:'no_rev',\n",
    "                    4:'stim_rev',\n",
    "                    7:'dist',\n",
    "                    8:'dist_std',\n",
    "                    9:'dist_stderr',\n",
    "                    11:'dist_0th',\n",
    "                    12:'dist_1st',\n",
    "                    13:'dist_2nd',\n",
    "                    14:'dist_3rd',\n",
    "                    15:'dist_100th',\n",
    "                    18:'dura',\n",
    "                    19:'dura_std',\n",
    "                    20:'dura_stderr',\n",
    "                    22:'dura_0th',\n",
    "                    23:'dura_1st',\n",
    "                    24:'dura_2nd',\n",
    "                    25:'dura_3rd',\n",
    "                    26:'dura_100th'}, axis=1)\n",
    "        #check function here for NaN Columns\n",
    "        DF_Total['plate'] = 0\n",
    "        DF_Total['prob'] = DF_Total['stim_rev']/ (DF_Total['no_rev'] + DF_Total['stim_rev']) #<- calculate prob\n",
    "        DF_Total['speed'] = DF_Total['dist']/DF_Total['dura'] #<- calculate speed\n",
    "        DF_Total_rows = int(DF_Total.shape[0])\n",
    "        print(f'this strain/treatment has {DF_Total_rows} total taps') #<- Outputs as the second number. Check if you are missing taps!\n",
    "        DF_Final = DF_Total[[\"time\", \"dura\", \"dist\", \"prob\", \"speed\", \"plate\"]].copy()\n",
    "\n",
    "    return{\n",
    "            'N': Strain_N,\n",
    "            'Confirm':DF_Total,\n",
    "            'Final': DF_Final}\n",
    "    print('done!')\n",
    "\n",
    "\n",
    "\n",
    "def assign_taps(DF, tolerances):\n",
    "    DF['taps'] = \"\"\n",
    "    for taps, tolerance in enumerate(tolerances): #[(99, 101), (109,111), ...]\n",
    "        tap_lower,tap_upper = tolerance\n",
    "        TimesInTapRange = DF['time'].between(tap_lower,tap_upper, inclusive=True)\n",
    "        DF.loc[TimesInTapRange,'taps'] = taps+1 #set the tap to i where times are between\n",
    "\n",
    "\n",
    "\n",
    "    \n",
    "def insert_plates(df):   \n",
    "    \"\"\"This function inserts a plate column into a dataframe.\n",
    "    \n",
    "    :param df: any dataframe\n",
    "    :type: pandas.core.frame.DataFrame\n",
    "    \n",
    "    :return: dataframe with a plate column\n",
    "    :type: pandas.core.frame.DataFrame\n",
    "    \"\"\"\n",
    "    df['plate']=(df['taps'] ==1).cumsum()\n",
    "\n",
    "\n",
    "            \n",
    "print('done step 5')"
   ]
  },
  {
   "cell_type": "markdown",
   "metadata": {},
   "source": [
    "# 6.1 Process Data (PLEASE READ, Add input here)"
   ]
  },
  {
   "cell_type": "markdown",
   "metadata": {},
   "source": [
    "Here is the hardest part - From your naming convention, you need to pick a unique identifier for each group.\n",
    "\n",
    "This means that all of names of your files for that strain should have that in common but is not commone with across all other files! If you did a good job naming your files and following a good naming convention, this should be easy.\n",
    "\n",
    "## Be careful and really look hard in your naming structure. Note you want an unique identifier in the entire file path for the same group of files. An easy mistake is to have the strain name in the overall folder name, in this case if you use your strain name as a keyword it would include all files in that folder!\n",
    "\n",
    "For example, if all your N2 files have a certain pattern like \"N2_5x4\" in this following example:\n",
    "'/Users/Joseph/Desktop/AVR14_10sISI_TapHab_0710_2019/N2/20190710_141740/N2_5x4_f94h20c_100s30x10s10s_C0710ab.trv'\n",
    "\n",
    "Then you need to set that identifier for the strain keyword:\n",
    "'Strain_1' = 'N2_5x4'\n",
    "\n",
    "## Depending on how many strains you are running for comparison, you may need to add/delete some lines!\n",
    "\n",
    "## You are not naming your data groups here, we have a step for that later!\n",
    "## Here, you want to note down ALL the strains you have in the folder\n",
    "\n",
    "If you have just 2 strains, add hashtags (#) in front of the lines you do not need.\n",
    "If you need more strains, just add more lines, following the same format!"
   ]
  },
  {
   "cell_type": "code",
   "execution_count": 6,
   "metadata": {},
   "outputs": [
    {
     "name": "stdout",
     "output_type": "stream",
     "text": [
      "done step 6.1\n"
     ]
    }
   ],
   "source": [
    "#Format: 'Strain_#'' = 'unique_identifier'\n",
    "\n",
    "### Make into dictionary\n",
    "StrainNames = {\n",
    "    'Strain_1' : 'N2NEW',  #<- each strain will be designated to a unique identifier here\n",
    "    'Strain_2' : 'N2OLD',\n",
    " #   'Strain_3' : 'MEC7C1',\n",
    " #   'Strain_4' : 'MEC7C2',\n",
    " #   'Strain_5' : 'MEC7C5',\n",
    " #   'Strain_6' : '',\n",
    " #   'Strain_7' : '', #<- empty entries are for those hardcore trackers that tracks this many strains\n",
    " #   'Strain_8' : '',\n",
    " #   'Strain_9' : '',\n",
    " #   'Strain_10' : '',\n",
    " #   'Strain_11' : '',\n",
    " #   'Strain_12' : '',\n",
    " #   'Strain_13' : '',\n",
    " #   'Strain_14' : '',\n",
    " #   'Strain_15' : '',\n",
    "}\n",
    "#...etc, etc\n",
    "\n",
    "print('done step 6.1')"
   ]
  },
  {
   "cell_type": "markdown",
   "metadata": {},
   "source": [
    "# 6.2 Process Data (just run this cell)"
   ]
  },
  {
   "cell_type": "code",
   "execution_count": 7,
   "metadata": {},
   "outputs": [
    {
     "name": "stdout",
     "output_type": "stream",
     "text": [
      "this strain/treatment has 10 plates\n",
      "this strain/treatment has 300 total taps\n",
      "this strain/treatment has 10 plates\n",
      "this strain/treatment has 300 total taps\n",
      "        time  dura   dist      prob     speed  plate taps\n",
      "0    599.998  3.53  0.840  0.952381  0.237960      1    1\n",
      "1    609.995  2.87  0.636  0.880952  0.221603      1    2\n",
      "2    619.918  2.26  0.512  0.764706  0.226549      1    3\n",
      "3    629.999  1.89  0.417  0.734694  0.220635      1    4\n",
      "4    639.962  1.55  0.323  0.576271  0.208387      1    5\n",
      "..       ...   ...    ...       ...       ...    ...  ...\n",
      "295  849.971  1.19  0.252  0.250000  0.211765     10   26\n",
      "296  859.985  0.19  0.034  0.240000  0.178947     10   27\n",
      "297  869.957  0.47  0.090  0.347826  0.191489     10   28\n",
      "298  879.975  0.68  0.110  0.384615  0.161765     10   29\n",
      "299  889.970  1.65  0.392  0.263158  0.237576     10   30\n",
      "\n",
      "[300 rows x 7 columns]\n",
      "3\n",
      "done step 6.2\n"
     ]
    }
   ],
   "source": [
    "DataLists = [0]  #<- generates empty list. 0 is there to account for python's index starting at 0. \n",
    "# we want indexing to start at 1 (when I say #1 I want the first point, not the second point)\n",
    "\n",
    "for s in StrainNames.values(): #<- goes through the dictionary in step 6.1 and processes data\n",
    "    if not s == '':\n",
    "        DataLists.append(ProcessData(s)['Final']) #<- appends all data into a list of dataframes\n",
    "\n",
    "\n",
    "for df in DataLists[1:]: \n",
    "    assign_taps(df, tolerances)\n",
    "for df in DataLists[1:]:    \n",
    "    insert_plates(df)\n",
    "\n",
    "# print(x)\n",
    "print(DataLists[2])\n",
    "print(len(DataLists))        \n",
    "print('done step 6.2')"
   ]
  },
  {
   "cell_type": "markdown",
   "metadata": {},
   "source": [
    "# 7. Grouping Data and Naming (Optional: Add input here)\n",
    "\n",
    "Here, you get to name your data groups/strain! Name your groups however you like under between the quotation marks for each strain.\n",
    "\n",
    "For example: If your Strain1 is N2 and you wish for the group to be called N2,\n",
    "your line should look like:\n",
    "\n",
    "DataLists[x].assign(dataset = 'N2')\n",
    "\n",
    "## Go back to step 6.1 to check which strain is which item on the DataLists.\n",
    "In this example, the first item on DataLists is N2.\n",
    "\n",
    "\n",
    "## Remember: Put your name in quotes. (ex: 'N2' and not N2)\n",
    "\n",
    "As default, the names are set to the unique identifier labels.\n",
    "\n",
    "## Depending on the number of strains you are running the comparison, you may have to delete/add lines of code (following the same format). \n",
    "## Remember to add/delete commas too.\n",
    "\n",
    "# If you want to change your groups, you do that here. \n",
    "For example, if you have 5 strains in your folder but only want to compare between 2 or 3 strains, designate that here and follow through with steps 6 and 7. Once you are done, come back to step 6 and change your groups again (You are going to have to change your graph titles for the second run-through though)!"
   ]
  },
  {
   "cell_type": "code",
   "execution_count": 8,
   "metadata": {},
   "outputs": [
    {
     "name": "stdout",
     "output_type": "stream",
     "text": [
      "        time  dura   dist      prob     speed  plate taps dataset\n",
      "0    599.992  2.49  0.430  0.894737  0.172691      1    1    None\n",
      "1    609.956  2.65  0.449  0.777778  0.169434      1    2    None\n",
      "2    619.916  2.39  0.472  0.764706  0.197490      1    3    None\n",
      "3    629.996  2.83  0.523  0.650000  0.184806      1    4    None\n",
      "4    639.918  1.72  0.272  0.600000  0.158140      1    5    None\n",
      "..       ...   ...    ...       ...       ...    ...  ...     ...\n",
      "295  849.971  1.19  0.252  0.250000  0.211765     10   26    None\n",
      "296  859.985  0.19  0.034  0.240000  0.178947     10   27    None\n",
      "297  869.957  0.47  0.090  0.347826  0.191489     10   28    None\n",
      "298  879.975  0.68  0.110  0.384615  0.161765     10   29    None\n",
      "299  889.970  1.65  0.392  0.263158  0.237576     10   30    None\n",
      "\n",
      "[600 rows x 8 columns]\n",
      "done step 7\n"
     ]
    }
   ],
   "source": [
    "TotalConcatenated = pd.concat([ #<- this function joins your data together with an extra column for which group \n",
    "                          DataLists[1].assign(dataset = StrainNames.get(\"N2_new_plate\")), \n",
    "                          DataLists[2].assign(dataset = StrainNames.get(\"N2_old_plate\")),\n",
    "                        #  DataLists[3].assign(dataset = StrainNames.get(\"Strain_3\")),\n",
    "                         # DataLists[4].assign(dataset = StrainNames.get(\"Strain_4\")),\n",
    "                         # DataLists[5].assign(dataset = StrainNames.get(\"Strain_5\")),\n",
    "                          \n",
    "])\n",
    "# ...etc etc\n",
    "\n",
    "TotalConcatenated.reset_index(inplace=False)\n",
    "print(TotalConcatenated)\n",
    "\n",
    "#if TotalConcatenated[\"taps\"].loc[ind] is not 1:\n",
    "#   TotalConcatenated[\"taps\"].loc[ind:indices[c+1]] = list(range(1,len(TotalConcatenated[\"taps\"].loc[ind:indices[c+1]])+1))\n",
    "# missing_taps(TotalConcatenated, accurate_taps, tolerances)\n",
    "\n",
    "print('done step 7')"
   ]
  },
  {
   "cell_type": "markdown",
   "metadata": {},
   "source": [
    "# Setting Colour Palette - Only run the below cell ONCE\n",
    "\n",
    "The following code sets the colour palette for the whole experiment - and then designate one colour to each strain. After this, if as you are graphing you take away some strains, you can do so with the colours still matching accordingly."
   ]
  },
  {
   "cell_type": "code",
   "execution_count": 9,
   "metadata": {},
   "outputs": [
    {
     "name": "stdout",
     "output_type": "stream",
     "text": [
      "palette is:{None: (0.2980392156862745, 0.4470588235294118, 0.6901960784313725)}\n",
      "done setting colour palette\n"
     ]
    }
   ],
   "source": [
    "strains = TotalConcatenated['dataset'].unique()\n",
    "pal = dict(zip(strains, sns.color_palette(\"deep\", n_colors=len(strains))))\n",
    "print('palette is:' + str(pal))\n",
    "print('done setting colour palette')"
   ]
  },
  {
   "cell_type": "markdown",
   "metadata": {},
   "source": [
    "# 7.5: BONUS - Graph by plates to check for anomolies across each strain/treatment\n",
    "\n",
    "Here, we will be graphing each strain on their own by their individual plates - this will help us find any anomolies or outliers that we can then exclude!\n"
   ]
  },
  {
   "cell_type": "code",
   "execution_count": 14,
   "metadata": {},
   "outputs": [
    {
     "data": {
      "application/vnd.jupyter.widget-view+json": {
       "model_id": "d4a3ac780734400f9d1b19ae920a3368",
       "version_major": 2,
       "version_minor": 0
      },
      "text/plain": [
       "interactive(children=(Dropdown(description='name', options=('Greys', 'Reds', 'Greens', 'Blues', 'Oranges', 'Pu…"
      ]
     },
     "metadata": {},
     "output_type": "display_data"
    }
   ],
   "source": [
    "Strain1_pal = sns.choose_colorbrewer_palette('sequential')\n",
    "# Strain2_pal = sns.choose_colorbrewer_palette('sequential')\n",
    "# Strain3_pal = sns.choose_colorbrewer_palette('sequential')\n",
    "# Strain4_pal = sns.choose_colorbrewer_palette('sequential')\n",
    "# Strain5_pal = sns.choose_colorbrewer_palette('sequential')\n",
    "# Strain6_pal = sns.choose_colorbrewer_palette('sequential')\n",
    "# Strain7_pal = sns.choose_colorbrewer_palette('sequential')\n",
    "# Strain8_pal = sns.choose_colorbrewer_palette('sequential')"
   ]
  },
  {
   "cell_type": "code",
   "execution_count": 15,
   "metadata": {},
   "outputs": [
    {
     "data": {
      "application/vnd.jupyter.widget-view+json": {
       "model_id": "17f93896c4794f20a3091613e44dc3e3",
       "version_major": 2,
       "version_minor": 0
      },
      "text/plain": [
       "Tab(children=(Output(), Output(), Output(), Output()), _titles={'0': 'Probability', '1': 'Distance', '2': 'Dur…"
      ]
     },
     "metadata": {},
     "output_type": "display_data"
    },
    {
     "data": {
      "text/plain": [
       "<Figure size 432x288 with 0 Axes>"
      ]
     },
     "metadata": {},
     "output_type": "display_data"
    },
    {
     "data": {
      "image/png": "[encoded data removed]",
      "text/plain": [
       "<Figure size 864x720 with 1 Axes>"
      ]
     },
     "metadata": {
      "needs_background": "light"
     },
     "output_type": "display_data"
    },
    {
     "data": {
      "text/plain": [
       "<Figure size 432x288 with 0 Axes>"
      ]
     },
     "metadata": {},
     "output_type": "display_data"
    },
    {
     "data": {
      "image/png": "[encoded data removed]",
      "text/plain": [
       "<Figure size 864x720 with 1 Axes>"
      ]
     },
     "metadata": {
      "needs_background": "light"
     },
     "output_type": "display_data"
    },
    {
     "data": {
      "text/plain": [
       "<Figure size 432x288 with 0 Axes>"
      ]
     },
     "metadata": {},
     "output_type": "display_data"
    },
    {
     "data": {
      "image/png": "[encoded data removed]",
      "text/plain": [
       "<Figure size 864x720 with 1 Axes>"
      ]
     },
     "metadata": {
      "needs_background": "light"
     },
     "output_type": "display_data"
    },
    {
     "data": {
      "text/plain": [
       "<Figure size 432x288 with 0 Axes>"
      ]
     },
     "metadata": {},
     "output_type": "display_data"
    },
    {
     "data": {
      "image/png": "[encoded data removed]",
      "text/plain": [
       "<Figure size 864x720 with 1 Axes>"
      ]
     },
     "metadata": {
      "needs_background": "light"
     },
     "output_type": "display_data"
    }
   ],
   "source": [
    "StrainConcatenated = TotalConcatenated[\n",
    "    TotalConcatenated.dataset == StrainNames.get(\"N2_new_plate\")] #Change/dictate which strain you are analyzing\n",
    "StrainName = StrainNames.get(\"N2_new_plate\") #Also change this, for labeling purposes\n",
    "\n",
    "\n",
    "out1 = widgets.Output() #<- this is part of the code that helps display your graphs in tabs\n",
    "out2 = widgets.Output()\n",
    "out3 = widgets.Output()\n",
    "out4 = widgets.Output()\n",
    "\n",
    "tab = widgets.Tab(children = [out1, out2, out3, out4]) #<- more code to support tab display\n",
    "tab.set_title(0, 'Probability')\n",
    "tab.set_title(1, 'Distance')\n",
    "tab.set_title(2, 'Duration')\n",
    "tab.set_title(3, 'Speed')\n",
    "display(tab)\n",
    "\n",
    "plt.rcParams.update({'lines.markeredgewidth': 1})\n",
    "\n",
    "# Probability\n",
    "with out1:\n",
    "    plt.figure(linewidth = 2.5) #<- Make your figure lines THICCCC for clean display (posters)\n",
    "    plt.figure(figsize=(12,10)) #<- set your figure size (width, length)\n",
    "    plt.gca().xaxis.grid(False) #<- gets rid of x-axis markers to make data look clean \n",
    "    ax = sns.pointplot(x=\"taps\", #<- Here we use seaborn as our graphing package. \n",
    "                 y=\"prob\",  \n",
    "                 data = StrainConcatenated,\n",
    "                 hue = 'plate', #<- Here we use the extra column from step 6 to separate by group\n",
    "                 palette = Strain1_pal, #<- Change colour palette here if you like\n",
    "                 ci = 95) #<- Confidence interval. 95 = standard error\n",
    "    plt.xlabel(\"Taps\") #<- X-axis title\n",
    "    plt.ylabel(\"Probability\") #<- Y-Axis title\n",
    "    plt.title(f\"{StrainName} Probability of Tap Habituation, {ISI}ISI\") #<- Figure Title\n",
    "    plt.ylim(0,1)\n",
    "    ax.legend(loc = 'upper right', fontsize = '12') #<- location of your legend\n",
    "#     plt.savefig(f'{StrainName}_Probability_{ISI}ISI_ByPlate.png', format='png', dpi=900) #<- saves your file to your folder at certain DPI\n",
    "    plt.show()\n",
    "\n",
    "# Distance\n",
    "with out2:\n",
    "    plt.figure(linewidth = 2.5)\n",
    "    plt.figure(figsize=(12,10))\n",
    "    plt.gca().xaxis.grid(False)\n",
    "    ax = sns.pointplot(x=\"taps\", \n",
    "                 y=\"dist\", \n",
    "                 data = StrainConcatenated,\n",
    "                 hue = 'plate',\n",
    "                 palette = Strain1_pal,\n",
    "                 ci = 95)\n",
    "    plt.xlabel(\"Taps\", fontsize = '12')\n",
    "    plt.ylabel(\"Distance\", fontsize = '12')\n",
    "    plt.title(f\"{StrainName} Distance of Tap Habituation, {ISI}ISI\", fontsize = '16')\n",
    "    plt.ylim(0,1.5)\n",
    "    ax.legend(loc = 'upper right', fontsize = '12')\n",
    "#     plt.savefig(f'{StrainName}_Distance_{ISI}ISI_ByPlate.png', format='png', dpi=900)\n",
    "    plt.show()\n",
    "\n",
    "# Duration\n",
    "with out3:\n",
    "    plt.figure(linewidth = 2.5)\n",
    "    plt.figure(figsize=(12,10))\n",
    "    plt.gca().xaxis.grid(False)\n",
    "    ax = sns.pointplot(x=\"taps\", \n",
    "                 y=\"dura\", \n",
    "                 data = StrainConcatenated,\n",
    "                 hue = 'plate',\n",
    "                 palette = Strain1_pal,\n",
    "                 ci = 95)\n",
    "    plt.xlabel(\"Taps\", fontsize = '12')\n",
    "    plt.ylabel(\"Duration\", fontsize = '12')\n",
    "    plt.title(f\"{StrainName} Duration of Tap Habituation, {ISI}ISI\", fontsize = '16')\n",
    "    plt.ylim(0,3)\n",
    "    ax.legend(loc = 'upper right', fontsize = '12')\n",
    "#     plt.savefig(f'{StrainName}_Duration_{ISI}ISI_ByPlate.png', format='png', dpi=900)\n",
    "    plt.show()\n",
    "\n",
    "# Speed\n",
    "with out4:\n",
    "    plt.figure(linewidth = 2.5)\n",
    "    plt.figure(figsize=(12,10))\n",
    "    plt.gca().xaxis.grid(False)\n",
    "    ax = sns.pointplot(x=\"taps\", \n",
    "                 y=\"speed\", \n",
    "                 data = StrainConcatenated,\n",
    "                 hue = 'plate',\n",
    "                 palette = Strain1_pal,\n",
    "                 ci = 95)\n",
    "    plt.xlabel(\"Taps\", fontsize = '12')\n",
    "    plt.ylabel(\"Speed\", fontsize = '12')\n",
    "    plt.title(f\"{StrainName} Speed of Tap Habituation, {ISI}ISI\", fontsize = '16')\n",
    "    plt.ylim(0,0.5)\n",
    "    ax.legend(loc = 'upper right', fontsize = '12')\n",
    "#     plt.savefig(f'{StrainName}_Speed_{ISI}ISI.png_ByPlate', format='png', dpi=900)\n",
    "    plt.show()"
   ]
  },
  {
   "cell_type": "markdown",
   "metadata": {},
   "source": [
    "# 8. Graph Data (Probability, Distance, Duration, Speed of Tap Habituation)\n",
    "\n",
    "## Here, feel free to change the graph title and axis labels! Images are automatically saved in your folder with your data!\n",
    "\n",
    "Note: It has been agreed by the lab that distance is quite an outdated measure, and the three top measures we consider are:\n",
    "\n",
    "## probability, duration and speed."
   ]
  },
  {
   "cell_type": "code",
   "execution_count": 13,
   "metadata": {},
   "outputs": [
    {
     "data": {
      "application/vnd.jupyter.widget-view+json": {
       "model_id": "e9ddb68b73d84d11ac5da9a1a88f4668",
       "version_major": 2,
       "version_minor": 0
      },
      "text/plain": [
       "Tab(children=(Output(), Output(), Output(), Output()), _titles={'0': 'Probability', '1': 'Distance', '2': 'Dur…"
      ]
     },
     "metadata": {},
     "output_type": "display_data"
    },
    {
     "data": {
      "text/plain": [
       "<Figure size 432x288 with 0 Axes>"
      ]
     },
     "metadata": {},
     "output_type": "display_data"
    },
    {
     "data": {
      "image/png": "[encoded data removed]",
      "text/plain": [
       "<Figure size 864x720 with 1 Axes>"
      ]
     },
     "metadata": {
      "needs_background": "light"
     },
     "output_type": "display_data"
    },
    {
     "data": {
      "text/plain": [
       "<Figure size 432x288 with 0 Axes>"
      ]
     },
     "metadata": {},
     "output_type": "display_data"
    },
    {
     "data": {
      "image/png": "[encoded data removed]",
      "text/plain": [
       "<Figure size 864x720 with 1 Axes>"
      ]
     },
     "metadata": {
      "needs_background": "light"
     },
     "output_type": "display_data"
    },
    {
     "data": {
      "text/plain": [
       "<Figure size 432x288 with 0 Axes>"
      ]
     },
     "metadata": {},
     "output_type": "display_data"
    },
    {
     "data": {
      "image/png": "[encoded data removed]",
      "text/plain": [
       "<Figure size 864x720 with 1 Axes>"
      ]
     },
     "metadata": {
      "needs_background": "light"
     },
     "output_type": "display_data"
    },
    {
     "data": {
      "text/plain": [
       "<Figure size 432x288 with 0 Axes>"
      ]
     },
     "metadata": {},
     "output_type": "display_data"
    },
    {
     "data": {
      "image/png": "[encoded data removed]",
      "text/plain": [
       "<Figure size 864x720 with 1 Axes>"
      ]
     },
     "metadata": {
      "needs_background": "light"
     },
     "output_type": "display_data"
    }
   ],
   "source": [
    "out1 = widgets.Output() #<- this is part of the code that helps display your graphs in tabs\n",
    "out2 = widgets.Output()\n",
    "out3 = widgets.Output()\n",
    "out4 = widgets.Output()\n",
    "\n",
    "tab = widgets.Tab(children = [out1, out2, out3, out4]) #<- more code to support tab display\n",
    "tab.set_title(0, 'Probability')\n",
    "tab.set_title(1, 'Distance')\n",
    "tab.set_title(2, 'Duration')\n",
    "tab.set_title(3, 'Speed')\n",
    "display(tab)\n",
    "\n",
    "plt.rcParams.update({'lines.markeredgewidth': 1})\n",
    "\n",
    "# Probability\n",
    "with out1:\n",
    "    plt.figure(linewidth = 2.5) #<- Make your figure lines THICCCC for clean display (posters)\n",
    "    plt.figure(figsize=(12,10)) #<- set your figure size (width, length)\n",
    "    plt.gca().xaxis.grid(False) #<- gets rid of x-axis markers to make data look clean \n",
    "    ax = sns.pointplot(x=\"taps\", #<- Here we use seaborn as our graphing package. \n",
    "                 y=\"prob\",  \n",
    "                 data = TotalConcatenated,\n",
    "                 hue = 'dataset', #<- Here we use the extra column from step 6 to separate by group\n",
    "                 palette = pal, #<- Change colour palette here if you like\n",
    "                 ci = 95) #<- Confidence interval. 95 = standard error\n",
    "    plt.xlabel(\"Taps\") #<- X-axis title\n",
    "    plt.ylabel(\"Probability\") #<- Y-Axis title\n",
    "    plt.title(f\"Probability of Tap Habituation, {ISI}ISI\") #<- Figure Title\n",
    "    plt.ylim(0,1)\n",
    "    ax.legend(loc = 'upper right', fontsize = '12') #<- location of your legend\n",
    "#     plt.savefig(f'Probability_{ISI}ISI.png', format='png', dpi=900) #<- saves your file to your folder at certain DPI\n",
    "    plt.show()\n",
    "\n",
    "# Distance\n",
    "with out2:\n",
    "    plt.figure(linewidth = 2.5)\n",
    "    plt.figure(figsize=(12,10))\n",
    "    plt.gca().xaxis.grid(False)\n",
    "    ax = sns.pointplot(x=\"taps\", \n",
    "                 y=\"dist\", \n",
    "                 data = TotalConcatenated,\n",
    "                 hue = 'dataset',\n",
    "                 palette = pal,\n",
    "                 ci = 68  #ci=68 for sem\n",
    "                      )\n",
    "    plt.xlabel(\"Taps\", fontsize = '12')\n",
    "    plt.ylabel(\"Distance\", fontsize = '12')\n",
    "    plt.title(f\"Distance of Tap Habituation, {ISI}ISI\", fontsize = '16')\n",
    "    plt.ylim(0,None)\n",
    "    ax.legend(loc = 'upper right', fontsize = '12')\n",
    "#     plt.savefig(f'Distance_{ISI}ISI.png', format='png', dpi=900)\n",
    "    plt.show()\n",
    "\n",
    "# Duration\n",
    "with out3:\n",
    "    plt.figure(linewidth = 2.5)\n",
    "    plt.figure(figsize=(12,10))\n",
    "    plt.gca().xaxis.grid(False)\n",
    "    ax = sns.pointplot(x=\"taps\", \n",
    "                 y=\"dura\", \n",
    "                 data = TotalConcatenated,\n",
    "                 hue = 'dataset',\n",
    "                 palette = pal,\n",
    "                 ci = 68  #ci=68 for sem\n",
    "                      )\n",
    "    plt.xlabel(\"Taps\", fontsize = '12')\n",
    "    plt.ylabel(\"Duration\", fontsize = '12')\n",
    "    plt.title(f\"Duration of Tap Habituation, {ISI}ISI\", fontsize = '16')\n",
    "    plt.ylim(0,None)\n",
    "    ax.legend(loc = 'upper right', fontsize = '12')\n",
    "#     plt.savefig(f'Duration_{ISI}ISI.png', format='png', dpi=900)\n",
    "    plt.show()\n",
    "\n",
    "# Speed\n",
    "with out4:\n",
    "    plt.figure(linewidth = 2.5)\n",
    "    plt.figure(figsize=(12,10))\n",
    "    plt.gca().xaxis.grid(False)\n",
    "    ax = sns.pointplot(x=\"taps\", \n",
    "                 y=\"speed\", \n",
    "                 data = TotalConcatenated,\n",
    "                 hue = 'dataset',\n",
    "                 palette = pal,\n",
    "                 ci = 68 #ci=68 for sem\n",
    "                      )\n",
    "    plt.xlabel(\"Taps\", fontsize = '12')\n",
    "    plt.ylabel(\"Speed\", fontsize = '12')\n",
    "    plt.title(f\"Speed of Tap Habituation, {ISI}ISI\", fontsize = '16')\n",
    "    plt.ylim(0,None)\n",
    "    ax.legend(loc = 'upper right', fontsize = '12')\n",
    "#     plt.savefig(f'Speed_{ISI}ISI.png', format='png', dpi=900)\n",
    "    plt.show()"
   ]
  },
  {
   "cell_type": "markdown",
   "metadata": {},
   "source": [
    "# Done!"
   ]
  },
  {
   "cell_type": "code",
   "execution_count": null,
   "metadata": {},
   "outputs": [],
   "source": []
  }
 ],
 "metadata": {
  "kernelspec": {
   "display_name": "Python 3",
   "language": "python",
   "name": "python3"
  },
  "language_info": {
   "codemirror_mode": {
    "name": "ipython",
    "version": 3
   },
   "file_extension": ".py",
   "mimetype": "text/x-python",
   "name": "python",
   "nbconvert_exporter": "python",
   "pygments_lexer": "ipython3",
   "version": "3.8.3"
  }
 },
 "nbformat": 4,
 "nbformat_minor": 4
}
