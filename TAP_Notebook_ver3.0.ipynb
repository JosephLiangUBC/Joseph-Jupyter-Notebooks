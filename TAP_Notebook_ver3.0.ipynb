{
 "cells": [
  {
   "cell_type": "markdown",
   "metadata": {},
   "source": [
    "# Jupyter Notebook UI to graph your TAP data!\n",
    "\n",
    "Version 1.7 - Joseph Liang, Rankin Lab\n",
    "Updated:\n",
    "1. Upgraded folder path selection application\n",
    "2. Upgraded dataset management (less moving parts for end-user)\n",
    "3. output changed from tif -> png\n",
    "4. Added tap-correction function for missing taps (should be working now)\n",
    "5. Added plate column to evaluate plate-discrepancies\n",
    "6. Added separate graphing function for plate-discrepancies\n",
    "7. Added colour palette-setting function\n",
    "8. Added automatic strain identifier function\n",
    "9. Replaced tkinter (which has a variety of bugs) with ipyfilechooser widget for compatibility with Notebooks\n",
    "\n",
    "## Known bug: Step 2 an empty windows displays in Mac. May also apply to linux/windows.\n",
    "\n",
    "## Beginner Essentials:\n",
    "1. Shift-Enter to run each cell. After you run, you should see an output \"done step #\". If not, an error has occured\n",
    "2. When inputting your own code/revising the code, make sure you close all your quotation marks '' and brackets (), [], {}.\n",
    "3. Don't leave any commas (,) hanging! (make sure an object always follows a comma. If there is nothing after a comma, remove the comma!\n",
    "4. Learning to code? Each line of code is annotated to help you understand how this code works!\n",
    "\n",
    "## 3. Run all cells/steps sequentially, even the ones that do not need input\n",
    "\n",
    "## Steps that require input: #3, #6.1, #7"
   ]
  },
  {
   "cell_type": "markdown",
   "metadata": {},
   "source": [
    "# 1. Importing Packages Required (No input required, just run)"
   ]
  },
  {
   "cell_type": "code",
   "execution_count": 1,
   "metadata": {},
   "outputs": [
    {
     "name": "stdout",
     "output_type": "stream",
     "text": [
      "done step 1\n"
     ]
    }
   ],
   "source": [
    "import pandas as pd #<- package used to import and organize data\n",
    "import numpy as np #<- package used to import and organize data\n",
    "import math\n",
    "import os #<- package used to work with system file paths\n",
    "import seaborn as sns #<- package used to plot graphs\n",
    "from matplotlib import pyplot as plt #<- another package used to plot graphs\n",
    "from itertools import cycle #<- package used to iterate down rows (used in step 5 to add tap column)\n",
    "import ipywidgets as widgets #<- widget tool to generate button and tab for graphs\n",
    "from IPython.display import display #<- displays widgets\n",
    "from ipyfilechooser import FileChooser\n",
    "# from tkinter import Tk, filedialog #<- Tkinter is a GUI package\n",
    "print(\"done step 1\")"
   ]
  },
  {
   "cell_type": "markdown",
   "metadata": {},
   "source": [
    "# 2. Pick filepath (just run and click button from output)\n",
    "\n",
    "Run the following cell and click the button 'Select Folder' to pick a filepath.\n",
    "\n",
    "## Important: Later on, this script uses the total file path for each file to import and group data. That means if your folder has whatever your strain is named, the script will not work.\n",
    "\n",
    "(ex. if your folder has \"N2\" in it this script sees all files inside this folder as having the \"N2\" search key)\n",
    "\n",
    "## An easy fix is to just rename your folder to something else (make your strains lower-case, or just have the date)"
   ]
  },
  {
   "cell_type": "code",
   "execution_count": 2,
   "metadata": {},
   "outputs": [
    {
     "data": {
      "application/vnd.jupyter.widget-view+json": {
       "model_id": "45ecd11c828b4e5fb74df77a32003c33",
       "version_major": 2,
       "version_minor": 0
      },
      "text/plain": [
       "FileChooser(path='/Users/Joseph', filename='', title='', show_hidden=False, select_desc='Select', change_desc=…"
      ]
     },
     "metadata": {},
     "output_type": "display_data"
    }
   ],
   "source": [
    "starting_directory = '/Users/Joseph'\n",
    "chooser = FileChooser(starting_directory)\n",
    "display(chooser)"
   ]
  },
  {
   "cell_type": "code",
   "execution_count": 3,
   "metadata": {},
   "outputs": [
    {
     "name": "stdout",
     "output_type": "stream",
     "text": [
      "/Users/Joseph/Desktop/PD_Uncertain_Loci_TapHab_Screen_Apr09_2025\n"
     ]
    }
   ],
   "source": [
    "print(chooser.selected_path)\n",
    "folder_path=chooser.selected_path"
   ]
  },
  {
   "cell_type": "code",
   "execution_count": null,
   "metadata": {},
   "outputs": [],
   "source": [
    "# Obsolete\n",
    "# ### Select Folder App - After you run, you can select your folder for filepath\n",
    "# button = widgets.Button(description = 'Select Folder') #<- Creates a button variable\n",
    "# display(button) #<- displays this button on output\n",
    "# def select_folder(b): #<- This is an action. Requires a variable, so I put in an arbitrary one 'b'\n",
    "#     global folder_path #<- sets a variable as a global variable, not just within this action\n",
    "#     Tk().withdraw() #<- Tkinter likes to create annoying empty windows. This removes them\n",
    "#     folder_path = filedialog.askdirectory() #<- Opens up a file explorer window, and determines folder path\n",
    "#     Tk().update()#<- below\n",
    "#     Tk().destroy()#<- this and the line above it removes the file explorer window after a selection is made\n",
    "#     print(folder_path) #<- this helps confirm that this action was performed\n",
    "#     print('done step 2')\n",
    "# button.on_click(select_folder) #<- describes what happens when you click on this button"
   ]
  },
  {
   "cell_type": "markdown",
   "metadata": {},
   "source": [
    "# 3. User Defined Variables (Add input here)\n",
    "\n",
    "Here, we add some constants to help you blaze through this code.\n",
    "\n",
    "3.1: Number of taps is pretty self-explanatory. How any taps does your experiment have? put in that number + 1 (N+1)!\n",
    "\n",
    "This may be a bit confusing, but this is due to some coding syntax that you don't have to worry about.\n",
    "\n",
    "3.2: Change your ISI number. This will be reflected in the name/title of the output figure."
   ]
  },
  {
   "cell_type": "code",
   "execution_count": 4,
   "metadata": {
    "scrolled": true
   },
   "outputs": [
    {
     "name": "stdout",
     "output_type": "stream",
     "text": [
      "[(1, (599, 601)), (2, (609, 611)), (3, (619, 621)), (4, (629, 631)), (5, (639, 641)), (6, (649, 651)), (7, (659, 661)), (8, (669, 671)), (9, (679, 681)), (10, (689, 691)), (11, (699, 701)), (12, (709, 711)), (13, (719, 721)), (14, (729, 731)), (15, (739, 741)), (16, (749, 751)), (17, (759, 761)), (18, (769, 771)), (19, (779, 781)), (20, (789, 791)), (21, (799, 801)), (22, (809, 811)), (23, (819, 821)), (24, (829, 831)), (25, (839, 841)), (26, (849, 851)), (27, (859, 861)), (28, (869, 871)), (29, (879, 881)), (30, (889, 891)), (31, (1188, 1191))]\n",
      "tap 1 tolerance=(599, 601)\n",
      "tap 2 tolerance=(609, 611)\n",
      "tap 3 tolerance=(619, 621)\n",
      "tap 4 tolerance=(629, 631)\n",
      "tap 5 tolerance=(639, 641)\n",
      "tap 6 tolerance=(649, 651)\n",
      "tap 7 tolerance=(659, 661)\n",
      "tap 8 tolerance=(669, 671)\n",
      "tap 9 tolerance=(679, 681)\n",
      "tap 10 tolerance=(689, 691)\n",
      "tap 11 tolerance=(699, 701)\n",
      "tap 12 tolerance=(709, 711)\n",
      "tap 13 tolerance=(719, 721)\n",
      "tap 14 tolerance=(729, 731)\n",
      "tap 15 tolerance=(739, 741)\n",
      "tap 16 tolerance=(749, 751)\n",
      "tap 17 tolerance=(759, 761)\n",
      "tap 18 tolerance=(769, 771)\n",
      "tap 19 tolerance=(779, 781)\n",
      "tap 20 tolerance=(789, 791)\n",
      "tap 21 tolerance=(799, 801)\n",
      "tap 22 tolerance=(809, 811)\n",
      "tap 23 tolerance=(819, 821)\n",
      "tap 24 tolerance=(829, 831)\n",
      "tap 25 tolerance=(839, 841)\n",
      "tap 26 tolerance=(849, 851)\n",
      "tap 27 tolerance=(859, 861)\n",
      "tap 28 tolerance=(869, 871)\n",
      "tap 29 tolerance=(879, 881)\n",
      "tap 30 tolerance=(889, 891)\n",
      "tap 31 tolerance=(1188, 1191)\n",
      "done step 3\n"
     ]
    }
   ],
   "source": [
    "\n",
    "number_of_taps = 30 ###<------ Taps in your experiment.\n",
    "\n",
    "number_taps = range(1, number_of_taps + 1)  #<- do not change this\n",
    "\n",
    "\n",
    "# if you have different ISIs in the same folder, then come back and change this \n",
    "# when you are graphing for the second set of data with the other ISI \n",
    "# (Generally data from same ISIs are graphed together)\n",
    "# If changing ISI mid-analysis, you can just skip straight to step 8 after running this cell again\n",
    "\n",
    "ISI = 10  ### <- What is your ISI? change accordingly\n",
    "first_tap = 600 ### <- when is your first tap? check your TRV files\n",
    "\n",
    "#Here, open up one of the trv files to determine the times for each of these taps. \n",
    "lower = np.arange(first_tap-1, first_tap-1+(number_of_taps*ISI), ISI) #(first tap, last tap+10s, ISI)\n",
    "upper = np.arange(first_tap+1, first_tap+1+(number_of_taps*ISI), ISI) #(first tap, last tap+10s, ISI)\n",
    "tolerances = list(zip(lower, upper)) \n",
    "taps = [i for i in range(1,number_of_taps+1)]\n",
    "\n",
    "#### Add 31st Tap Here --------------------------------------------------<------------\n",
    "tolerances.append((1188,1191))\n",
    "taps.append(31)\n",
    "\n",
    "\n",
    "#assign each tolerance to a tap number\n",
    "accurate_taps = list((zip(taps, tolerances)))\n",
    "print(accurate_taps)\n",
    "\n",
    "for pair in accurate_taps:\n",
    "   tap = pair[0]\n",
    "   tolerance = pair[1]\n",
    "   print(\"tap \"+str(tap), \"tolerance=\"+str(tolerance))\n",
    "\n",
    "print(\"done step 3\")"
   ]
  },
  {
   "cell_type": "markdown",
   "metadata": {},
   "source": [
    "# 4. Constructing Filelist From Source File/Select File (Just run)"
   ]
  },
  {
   "cell_type": "code",
   "execution_count": 5,
   "metadata": {},
   "outputs": [
    {
     "name": "stdout",
     "output_type": "stream",
     "text": [
      "['/Users/Joseph/Desktop/PD_Uncertain_Loci_TapHab_Screen_Apr09_2025/N2/20250409_113506/N2_6x2_f72h20C_600s31x10s10s_B0409ac.trv', '/Users/Joseph/Desktop/PD_Uncertain_Loci_TapHab_Screen_Apr09_2025/N2/20250409_120346/N2_6X2_f96h20C_600s31x10s10s_C0409ae.trv', '/Users/Joseph/Desktop/PD_Uncertain_Loci_TapHab_Screen_Apr09_2025/N2/20250409_043625/N2_6x2_f96h20C_600s31x10s10s_A0409ad.trv', '/Users/Joseph/Desktop/PD_Uncertain_Loci_TapHab_Screen_Apr09_2025/N2/20250409_111339/N2_6X2_f96h20C_600s31x10s10s_C0409ab.trv', '/Users/Joseph/Desktop/PD_Uncertain_Loci_TapHab_Screen_Apr09_2025/N2/20250409_034619/N2_6x2_f96h20C_600s31x10s10s_A0409aa.trv', '/Users/Joseph/Desktop/PD_Uncertain_Loci_TapHab_Screen_Apr09_2025/clec-52_tm8126/20250409_041057/FX08125_10x2_f96h20C_600s31x10s10s_A0409bb.trv', '/Users/Joseph/Desktop/PD_Uncertain_Loci_TapHab_Screen_Apr09_2025/clec-52_tm8126/20250409_120033/FX08125_10x2_f72h20C_600s31x10s10s_B0409bd.trv', '/Users/Joseph/Desktop/PD_Uncertain_Loci_TapHab_Screen_Apr09_2025/clec-52_tm8126/20250409_113817/FX08125_10X2_f96h20C_600s31x10s10s_C0409bc.trv', '/Users/Joseph/Desktop/PD_Uncertain_Loci_TapHab_Screen_Apr09_2025/clec-52_tm8126/20250409_111027/FX08125_10x2_f72h20C_600s31x10s10s_B0409ba.trv']\n",
      "done step 4\n"
     ]
    }
   ],
   "source": [
    "#folder_path = '/Users/Joseph/Desktop/AVR14_10sISI' #- manual folder path if Tkinter is acting up\n",
    "\n",
    "os.chdir(folder_path) #<- setting your working directory so that your images will be saved here\n",
    "\n",
    "filelist = list() #<- empty list\n",
    "for root, dirs, files in os.walk(folder_path): #<- this for loop goes through your folder \n",
    "    for name in files:\n",
    "        if name.endswith('.trv'): #<- and takes out all files with a .trv (file that contains your data)\n",
    "            filepath = os.path.join(root, name) #<- Notes down the file path of each data file\n",
    "            filelist.append(filepath) #<- saves it into the list\n",
    "    \n",
    "print(filelist)\n",
    "print('done step 4')"
   ]
  },
  {
   "cell_type": "code",
   "execution_count": 6,
   "metadata": {},
   "outputs": [
    {
     "name": "stdout",
     "output_type": "stream",
     "text": [
      "9\n"
     ]
    }
   ],
   "source": [
    "# print(filelist)\n",
    "print(len(filelist))"
   ]
  },
  {
   "cell_type": "code",
   "execution_count": 10,
   "metadata": {},
   "outputs": [
    {
     "name": "stdout",
     "output_type": "stream",
     "text": [
      "['N2' 'clec-52_tm8126']\n",
      "2\n",
      "[(1, 'N2'), (2, 'clec-52_tm8126')]\n",
      "{1: 'N2', 2: 'clec-52_tm8126'}\n"
     ]
    }
   ],
   "source": [
    "genotype=[]\n",
    "for f in filelist:\n",
    "    genotype.append(f.split('/')[-3])\n",
    "# print(np.unique(genotype))\n",
    "genotypes=np.unique(genotype)\n",
    "print(genotypes)\n",
    "print(len(np.unique(genotypes)))\n",
    "strainNs = enumerate(genotypes,1)\n",
    "strain_enum=list(strainNs)\n",
    "print(strain_enum)\n",
    "StrainNames=dict(strain_enum)\n",
    "print(StrainNames)"
   ]
  },
  {
   "cell_type": "code",
   "execution_count": 15,
   "metadata": {},
   "outputs": [
    {
     "name": "stdout",
     "output_type": "stream",
     "text": [
      "B0409ac\n",
      "20250409\n",
      "0409\n"
     ]
    }
   ],
   "source": [
    "string='/Users/Joseph/Desktop/PD_Uncertain_Loci_TapHab_Screen_Apr09_2025/N2/20250409_113506/N2_6x2_f72h20C_600s31x10s10s_B0409ac.trv'\n",
    "print(string.split('/')[-1].split('_')[-1].split('.')[0])\n",
    "print(string.split('/')[-2].split('_')[0])\n",
    "print(string.split('/')[-1].split('_')[4].split('.')[0][1:5])"
   ]
  },
  {
   "cell_type": "code",
   "execution_count": 18,
   "metadata": {},
   "outputs": [
    {
     "name": "stdout",
     "output_type": "stream",
     "text": [
      "['B0409ac.trv', 'C0409ae.trv', 'A0409ad.trv', 'C0409ab.trv', 'A0409aa.trv', 'A0409bb.trv', 'B0409bd.trv', 'C0409bc.trv', 'B0409ba.trv']\n",
      "done\n"
     ]
    }
   ],
   "source": [
    "# Adjust below code for plate_id functionality\n",
    "\n",
    "plate_id=[]\n",
    "for f in filelist:\n",
    "    plate_id.append(f.split('/')[-1].split('_')[-1])\n",
    "    # plate_id.append(f.split('/')[6].split('_')[4].split('.')[0])\n",
    "    # plate_id.append(f.split('/')[7].split('.')[0].split('_')[-1])\n",
    "print(plate_id)\n",
    "                    \n",
    "print(\"done\")"
   ]
  },
  {
   "cell_type": "markdown",
   "metadata": {},
   "source": [
    "# 5. Process Data Function (Just Run)"
   ]
  },
  {
   "cell_type": "code",
   "execution_count": null,
   "metadata": {},
   "outputs": [],
   "source": []
  },
  {
   "cell_type": "code",
   "execution_count": null,
   "metadata": {},
   "outputs": [],
   "source": []
  },
  {
   "cell_type": "code",
   "execution_count": null,
   "metadata": {},
   "outputs": [],
   "source": []
  },
  {
   "cell_type": "code",
   "execution_count": 19,
   "metadata": {},
   "outputs": [
    {
     "name": "stdout",
     "output_type": "stream",
     "text": [
      "done step 5\n"
     ]
    }
   ],
   "source": [
    "def ProcessData(strain): #<- an example of a user-defined function\n",
    "    strain_filelist = [x for x in filelist if strain in x] #<- goes through the list and filters for keyword\n",
    "    Strain_N = len(strain_filelist) #<- N per strain, or number of plates\n",
    "    Plate_N = 1\n",
    "    print(f'this strain/treatment has {Strain_N} plates') #<- will output as the first number\n",
    "    if Strain_N == 0:\n",
    "        raise AssertionError ('{} is not a good identifier'.format(strain))\n",
    "    else:\n",
    "        pass\n",
    "#     for f in strain_filelist:\n",
    "#         DF_Total = pd.concat(pd.read_csv(f, sep=' ', skiprows = 4, header = None))\n",
    "        strain_filelist = [file for file in filelist if strain in file]\n",
    "        df_list=[]\n",
    "        for file in strain_filelist:\n",
    "            df= pd.read_csv(file, sep=' ', header = None)\n",
    "            df['plate_id'] = file.split('/')[-1].split('_')[-1].split('.')[0]\n",
    "            df['date'] = file.split('/')[-2].split('_')[0]\n",
    "            df_list.append(df)\n",
    "        DF_Total = pd.concat(df_list, ignore_index = True)\n",
    "        \n",
    "#         DF_Total = pd.concat([pd.read_csv(f, sep=' ', header = None, encoding_errors='ignore') for f in strain_filelist],\n",
    "#                       ignore_index=True) #<- imports your data files\n",
    "#         DF_Total = DF_Total.dropna(axis = 1) #<- cleans your data\n",
    "        DF_Total = DF_Total.rename( #<- more cleaning\n",
    "                    {0:'time',\n",
    "                    2:'rev_before',\n",
    "                    3:'no_rev',\n",
    "                    4:'stim_rev',\n",
    "                    7:'dist',\n",
    "                    8:'dist_std',\n",
    "                    9:'dist_stderr',\n",
    "                    11:'dist_0th',\n",
    "                    12:'dist_1st',\n",
    "                    13:'dist_2nd',\n",
    "                    14:'dist_3rd',\n",
    "                    15:'dist_100th',\n",
    "                    18:'dura',\n",
    "                    19:'dura_std',\n",
    "                    20:'dura_stderr',\n",
    "                    22:'dura_0th',\n",
    "                    23:'dura_1st',\n",
    "                    24:'dura_2nd',\n",
    "                    25:'dura_3rd',\n",
    "                    26:'dura_100th'}, axis=1)\n",
    "        #check function here for NaN Columns\n",
    "        DF_Total['plate'] = 0\n",
    "        DF_Total['prob'] = DF_Total['stim_rev']/ (DF_Total['no_rev'] + DF_Total['stim_rev']) #<- calculate prob\n",
    "        DF_Total['speed'] = DF_Total['dist']/DF_Total['dura'] #<- calculate speed\n",
    "        DF_Total_rows = int(DF_Total.shape[0])\n",
    "        print(f'this strain/treatment has {DF_Total_rows} total taps') #<- Outputs as the second number. Check if you are missing taps!\n",
    "        DF_Final = DF_Total[[\"time\", \"dura\", \"dist\", \"prob\", \"speed\", \"plate\", \"plate_id\", \"date\"]].copy()\n",
    "\n",
    "    return{\n",
    "            'N': Strain_N,\n",
    "            'Confirm':DF_Total,\n",
    "            'Final': DF_Final}\n",
    "    print('done!')\n",
    "\n",
    "\n",
    "\n",
    "def assign_taps(DF, tolerances):\n",
    "    DF['taps'] = \"\"\n",
    "    for taps, tolerance in enumerate(tolerances): #[(99, 101), (109,111), ...]\n",
    "        tap_lower,tap_upper = tolerance\n",
    "        TimesInTapRange = DF['time'].between(tap_lower,tap_upper, inclusive=\"both\")\n",
    "        DF.loc[TimesInTapRange,'taps'] = taps+1 #set the tap to i where times are between\n",
    "\n",
    "\n",
    "\n",
    "    \n",
    "def insert_plates(df):   \n",
    "    \"\"\"This function inserts a plate column into a dataframe.\n",
    "    \n",
    "    :param df: any dataframe\n",
    "    :type: pandas.core.frame.DataFrame\n",
    "    \n",
    "    :return: dataframe with a plate column\n",
    "    :type: pandas.core.frame.DataFrame\n",
    "    \"\"\"\n",
    "    df['plate']=(df['taps'] ==1).cumsum()\n",
    "\n",
    "\n",
    "            \n",
    "print('done step 5')"
   ]
  },
  {
   "cell_type": "markdown",
   "metadata": {},
   "source": [
    "# 6.1 Process Data (PLEASE READ, Add input here)"
   ]
  },
  {
   "cell_type": "markdown",
   "metadata": {},
   "source": [
    "Here is the hardest part - From your naming convention, you need to pick a unique identifier for each group.\n",
    "\n",
    "This means that all of names of your files for that strain should have that in common but is not commone with across all other files! If you did a good job naming your files and following a good naming convention, this should be easy.\n",
    "\n",
    "## Be careful and really look hard in your naming structure. Note you want an unique identifier in the entire file path for the same group of files. An easy mistake is to have the strain name in the overall folder name, in this case if you use your strain name as a keyword it would include all files in that folder!\n",
    "\n",
    "For example, if all your N2 files have a certain pattern like \"N2_5x4\" in this following example:\n",
    "'/Users/Joseph/Desktop/AVR14_10sISI_TapHab_0710_2019/N2/20190710_141740/N2_5x4_f94h20c_100s30x10s10s_C0710ab.trv'\n",
    "\n",
    "Then you need to set that identifier for the strain keyword:\n",
    "'Strain_1' = 'N2_5x4'\n",
    "\n",
    "## Depending on how many strains you are running for comparison, you may need to add/delete some lines!\n",
    "\n",
    "## You are not naming your data groups here, we have a step for that later!\n",
    "## Here, you want to note down ALL the strains you have in the folder\n",
    "\n",
    "If you have just 2 strains, add hashtags (#) in front of the lines you do not need.\n",
    "If you need more strains, just add more lines, following the same format!"
   ]
  },
  {
   "cell_type": "code",
   "execution_count": null,
   "metadata": {},
   "outputs": [],
   "source": [
    "# #Format: 'Strain_#'' = 'unique_identifier'\n",
    "\n",
    "# ### Make into dictionary\n",
    "# StrainNames = {\n",
    "#     'Strain_1' : 'N2',  #<- each strain will be designated to a unique identifier here\n",
    "#     'Strain_2' : 'cat-2_e1112',\n",
    "#     'Strain_3' : 'cat-2_n4547',\n",
    "#     'Strain_4' : 'cat-2_tm2261',\n",
    "#     'Strain_5' : 'dat-1_ok157',\n",
    "#     'Strain_6' : 'cat-1_ok411',\n",
    "#     'Strain_7' : 'pdr-1_gk448', #<- empty entries are for those hardcore trackers that tracks this many strains\n",
    "#     'Strain_8' : 'pdr-1_tm395',\n",
    "#     'Strain_9' : 'pdr-1_tm598',\n",
    "#     'Strain_10' : 'dop-1_vs101',\n",
    "#     'Strain_11' : 'dop-3_ok295',\n",
    "#     'Strain_12' : 'snb-5_ok1434',\n",
    "#     'Strain_13' : 'unc-10_ad591',\n",
    "# #     'Strain_14' : '',\n",
    "# #     'Strain_15' : '',\n",
    "# }\n",
    "# #...etc, etc\n",
    "\n",
    "# print('done step 6.1')"
   ]
  },
  {
   "cell_type": "code",
   "execution_count": 20,
   "metadata": {},
   "outputs": [
    {
     "name": "stdout",
     "output_type": "stream",
     "text": [
      "['N2', 'clec-52_tm8126']\n",
      "<class 'list'>\n",
      "<class 'numpy.str_'>\n"
     ]
    }
   ],
   "source": [
    "print(list(StrainNames.values()))\n",
    "print(type(list(StrainNames.values())))\n",
    "print(type(list(StrainNames.values())[0]))"
   ]
  },
  {
   "cell_type": "markdown",
   "metadata": {},
   "source": [
    "# 6.2 Process Data (just run this cell)"
   ]
  },
  {
   "cell_type": "code",
   "execution_count": 21,
   "metadata": {},
   "outputs": [
    {
     "name": "stdout",
     "output_type": "stream",
     "text": [
      "this strain/treatment has 5 plates\n",
      "this strain/treatment has 154 total taps\n",
      "this strain/treatment has 4 plates\n",
      "this strain/treatment has 124 total taps\n",
      "done step 6.2\n"
     ]
    }
   ],
   "source": [
    "DataLists = [0]  #<- generates empty list. 0 is there to account for python's index starting at 0. \n",
    "# we want indexing to start at 1 (when I say #1 I want the first point, not the second point)\n",
    "\n",
    "for s in list(StrainNames.values()): #<- goes through the dictionary in step 6.1 and processes data\n",
    "    if not s == '':\n",
    "#         threading.Thread(target=DataLists.append(ProcessData(s)['Final'])).start()\n",
    "        DataLists.append(ProcessData(s)['Final']) #<- appends all data into a list of dataframes\n",
    "\n",
    "\n",
    "for df in DataLists[1:]: \n",
    "    assign_taps(df, tolerances)\n",
    "for df in DataLists[1:]:    \n",
    "    insert_plates(df)\n",
    "\n",
    "# print(x)\n",
    "# print(DataLists[0])\n",
    "# print(DataLists[1])\n",
    "#print(DataLists[2])\n",
    "#print(len(DataLists))        \n",
    "print('done step 6.2')"
   ]
  },
  {
   "cell_type": "markdown",
   "metadata": {},
   "source": [
    "# 7. Grouping Data and Naming (Optional: Add input here)\n",
    "\n",
    "Here, you get to name your data groups/strain! Name your groups however you like under between the quotation marks for each strain.\n",
    "\n",
    "For example: If your Strain1 is N2 and you wish for the group to be called N2,\n",
    "your line should look like:\n",
    "\n",
    "DataLists[x].assign(dataset = 'N2')\n",
    "\n",
    "## Go back to step 6.1 to check which strain is which item on the DataLists.\n",
    "In this example, the first item on DataLists is N2.\n",
    "\n",
    "\n",
    "## Remember: Put your name in quotes. (ex: 'N2' and not N2)\n",
    "\n",
    "As default, the names are set to the unique identifier labels.\n",
    "\n",
    "## Depending on the number of strains you are running the comparison, you may have to delete/add lines of code (following the same format). \n",
    "## Remember to add/delete commas too.\n",
    "\n",
    "# If you want to change your groups, you do that here. \n",
    "For example, if you have 5 strains in your folder but only want to compare between 2 or 3 strains, designate that here and follow through with steps 6 and 7. Once you are done, come back to step 6 and change your groups again (You are going to have to change your graph titles for the second run-through though)!"
   ]
  },
  {
   "cell_type": "code",
   "execution_count": 22,
   "metadata": {},
   "outputs": [
    {
     "name": "stdout",
     "output_type": "stream",
     "text": [
      "1\n",
      "2\n",
      "         time  dura   dist      prob     speed  plate plate_id      date taps  \\\n",
      "0     599.993  2.85  0.679  0.947368  0.238246      1  B0409ac  20250409    1   \n",
      "1     609.992  2.44  0.606  0.805556  0.248361      1  B0409ac  20250409    2   \n",
      "2     619.990  2.72  0.724  0.702703  0.266176      1  B0409ac  20250409    3   \n",
      "3     629.994  2.05  0.489  0.657895  0.238537      1  B0409ac  20250409    4   \n",
      "4     639.955  1.87  0.428  0.609756  0.228877      1  B0409ac  20250409    5   \n",
      "..        ...   ...    ...       ...       ...    ...      ...       ...  ...   \n",
      "119   859.998  1.62  0.303  0.666667  0.187037      4  B0409ba  20250409   27   \n",
      "120   869.961  2.57  0.509  0.666667  0.198054      4  B0409ba  20250409   28   \n",
      "121   879.965  2.83  0.434  1.000000  0.153357      4  B0409ba  20250409   29   \n",
      "122   889.946  1.10  0.210  1.000000  0.190909      4  B0409ba  20250409   30   \n",
      "123  1189.959  1.27  0.166  0.750000  0.130709      4  B0409ba  20250409   31   \n",
      "\n",
      "            dataset  \n",
      "0                N2  \n",
      "1                N2  \n",
      "2                N2  \n",
      "3                N2  \n",
      "4                N2  \n",
      "..              ...  \n",
      "119  clec-52_tm8126  \n",
      "120  clec-52_tm8126  \n",
      "121  clec-52_tm8126  \n",
      "122  clec-52_tm8126  \n",
      "123  clec-52_tm8126  \n",
      "\n",
      "[278 rows x 10 columns]\n",
      "done step 7\n"
     ]
    }
   ],
   "source": [
    "TotalConcatenated=pd.DataFrame()\n",
    "for d in range(1,len(np.unique(genotypes))+1):\n",
    "    print(d)\n",
    "    TotalConcatenated=pd.concat([TotalConcatenated,\n",
    "                                 DataLists[d].assign(dataset=StrainNames.get(d))])\n",
    "\n",
    "\n",
    "\n",
    "# TotalConcatenated = pd.concat([ #<- this function joins your data together with an extra column for which group \n",
    "#                           DataLists[1].assign(dataset = \"Wildtype (N2)\"), \n",
    "#                           DataLists[2].assign(dataset = \"cat-2 (e1112)\"),\n",
    "#                           DataLists[3].assign(dataset = \"cat-2 (n4547)\"),\n",
    "#                           DataLists[4].assign(dataset = \"cat-2 (tm2261)\"),\n",
    "#                           DataLists[5].assign(dataset = \"dat-1 (ok157)\"),\n",
    "#                           DataLists[6].assign(dataset = \"cat-1 (ok441)\"),\n",
    "#                           DataLists[7].assign(dataset = \"pdr-1 (gk448)\"),\n",
    "#                           DataLists[8].assign(dataset = \"pdr-1 (tm395)\"),\n",
    "#                           DataLists[9].assign(dataset = \"pdr-1 (tm598)\"),\n",
    "#                           DataLists[10].assign(dataset = \"dop-1 (vs101)\"),\n",
    "#                           DataLists[11].assign(dataset = \"dop-3 (ok295)\"),\n",
    "#                           DataLists[12].assign(dataset = \"snb-5 (ok1434)\"),\n",
    "#                           DataLists[13].assign(dataset = \"unc-10 (ad591)\"),\n",
    "# #                           DataLists[14].assign(dataset = \"GOA1 Mutant (n3055)\"),\n",
    "# #                           DataLists[5].assign(dataset = StrainNames.get(\"Strain_5\")),\n",
    "# #                         DataLists[5].assign(dataset = \"StrainNameOnePoster\"), #<----- example of custom name\n",
    "                          \n",
    "# ])\n",
    "# # ...etc etc\n",
    "\n",
    "TotalConcatenated.reset_index(inplace=False)\n",
    "print(TotalConcatenated)\n",
    "\n",
    "#if TotalConcatenated[\"taps\"].loc[ind] is not 1:\n",
    "#   TotalConcatenated[\"taps\"].loc[ind:indices[c+1]] = list(range(1,len(TotalConcatenated[\"taps\"].loc[ind:indices[c+1]])+1))\n",
    "# missing_taps(TotalConcatenated, accurate_taps, tolerances)\n",
    "\n",
    "print('done step 7')"
   ]
  },
  {
   "cell_type": "code",
   "execution_count": 27,
   "metadata": {},
   "outputs": [
    {
     "name": "stdout",
     "output_type": "stream",
     "text": [
      "         time  dura   dist      prob     speed  plate plate_id      date  \\\n",
      "0     599.959  3.21  0.581  0.803922  0.180997      0  B0407ba  20230407   \n",
      "1     609.960  2.54  0.509  0.648148  0.200394      0  B0407ba  20230407   \n",
      "2     619.914  1.84  0.409  0.750000  0.222283      0  B0407ba  20230407   \n",
      "3     629.897  1.73  0.364  0.474576  0.210405      0  B0407ba  20230407   \n",
      "4     639.989  1.21  0.247  0.536232  0.204132      0  B0407ba  20230407   \n",
      "..        ...   ...    ...       ...       ...    ...      ...       ...   \n",
      "149   859.999  5.11  1.145  0.046512  0.224070      0  A0506be  20220510   \n",
      "150   869.974  1.18  0.236  0.068182  0.200000      0  A0506be  20220510   \n",
      "151   879.970  2.54  0.840  0.113636  0.330709      0  A0506be  20220510   \n",
      "152   889.987  0.90  0.181  0.133333  0.201111      0  A0506be  20220510   \n",
      "153  1189.963  2.38  0.663  0.625000  0.278571      0  A0506be  20220510   \n",
      "\n",
      "            dataset  \n",
      "0    F32D8.13_gk584  \n",
      "1    F32D8.13_gk584  \n",
      "2    F32D8.13_gk584  \n",
      "3    F32D8.13_gk584  \n",
      "4    F32D8.13_gk584  \n",
      "..              ...  \n",
      "149     cat-2_n4547  \n",
      "150     cat-2_n4547  \n",
      "151     cat-2_n4547  \n",
      "152     cat-2_n4547  \n",
      "153     cat-2_n4547  \n",
      "\n",
      "[6799 rows x 9 columns]\n",
      "          time  dura   dist      prob     speed  plate plate_id      date  \\\n",
      "0      599.962  2.59  0.562  0.944444  0.216988      0  B0506ac  20220510   \n",
      "1      609.963  2.17  0.552  0.843750  0.254378      0  B0506ac  20220510   \n",
      "2      619.961  2.41  0.674  0.787879  0.279668      0  B0506ac  20220510   \n",
      "3      629.925  2.08  0.519  0.861111  0.249519      0  B0506ac  20220510   \n",
      "4      639.984  1.56  0.363  0.692308  0.232692      0  B0506ac  20220510   \n",
      "...        ...   ...    ...       ...       ...    ...      ...       ...   \n",
      "5184   859.963  1.07  0.223  0.137931  0.208411      0  C0324ac  20230324   \n",
      "5185   869.919  1.03  0.208  0.304348  0.201942      0  C0324ac  20230324   \n",
      "5186   879.964  0.81  0.161  0.204082  0.198765      0  C0324ac  20230324   \n",
      "5187   889.963  1.12  0.208  0.236364  0.185714      0  C0324ac  20230324   \n",
      "5188  1189.956  3.37  0.966  0.815789  0.286647      0  C0324ac  20230324   \n",
      "\n",
      "     dataset  \n",
      "0         N2  \n",
      "1         N2  \n",
      "2         N2  \n",
      "3         N2  \n",
      "4         N2  \n",
      "...      ...  \n",
      "5184      N2  \n",
      "5185      N2  \n",
      "5186      N2  \n",
      "5187      N2  \n",
      "5188      N2  \n",
      "\n",
      "[5189 rows x 9 columns]\n"
     ]
    }
   ],
   "source": [
    "print(TotalConcatenated)\n",
    "N2data=TotalConcatenated[TotalConcatenated.dataset=='N2']\n",
    "print(N2data)"
   ]
  },
  {
   "cell_type": "code",
   "execution_count": 38,
   "metadata": {},
   "outputs": [
    {
     "name": "stdout",
     "output_type": "stream",
     "text": [
      "     taps      date        time    dura     dist      prob     speed  plate\n",
      "0       1  20220510   599.97460  2.2560  0.56620  0.609048  0.480907    3.0\n",
      "1       1  20220511   599.96460  2.5560  0.52840  0.916057  0.208252    8.0\n",
      "2       1  20220513   599.96940  2.3900  0.55220  0.787177  0.233872   13.0\n",
      "3       1  20220524   599.96770  2.5440  0.66240  0.862771  0.263577   20.5\n",
      "4       1  20220627   599.95340  2.7800  0.52740  0.848760  0.189861   28.0\n",
      "...   ...       ...         ...     ...      ...       ...       ...    ...\n",
      "1080   31  20230307  1189.96700  2.9820  0.68060  0.721271  0.224023  145.0\n",
      "1081   31  20230324  1189.95200  2.6725  0.63475  0.728563  0.233296  164.5\n",
      "1082   31  20230328  1189.93600  2.8020  0.57020  0.657163  0.201345  162.0\n",
      "1083   31  20230331  1189.94675  1.8650  0.33200  0.619236  0.179072  157.5\n",
      "1084   31  20230407  1189.98000  2.3575  0.52550  0.809232  0.221691  154.0\n",
      "\n",
      "[1085 rows x 8 columns]\n"
     ]
    }
   ],
   "source": [
    "# TotalByDate=N2data.drop(['plate_id','dataset'], axis=1).groupby(['taps','date'], as_index=False).mean()\n",
    "TotalByDate=TotalConcatenated.drop(['plate_id','dataset'], axis=1).groupby(['taps','date'], as_index=False).mean()\n",
    "print(TotalByDate)"
   ]
  },
  {
   "cell_type": "markdown",
   "metadata": {},
   "source": [
    "# Setting Colour Palette - Only run the below cell ONCE\n",
    "\n",
    "The following code sets the colour palette for the whole experiment - and then designate one colour to each strain. After this, if as you are graphing you take away some strains, you can do so with the colours still matching accordingly."
   ]
  },
  {
   "cell_type": "code",
   "execution_count": 28,
   "metadata": {},
   "outputs": [
    {
     "name": "stdout",
     "output_type": "stream",
     "text": [
      "palette is:{'N2': (0.2980392156862745, 0.4470588235294118, 0.6901960784313725), 'clec-52_tm8126': (0.8666666666666667, 0.5176470588235295, 0.3215686274509804)}\n",
      "palette is:{'N2': (0.2980392156862745, 0.4470588235294118, 0.6901960784313725), 'clec-52_tm8126': (0.8666666666666667, 0.5176470588235295, 0.3215686274509804)}\n",
      "done setting colour palette\n"
     ]
    }
   ],
   "source": [
    "# If you want the default colour palette #\n",
    "strains = TotalConcatenated['dataset'].unique()\n",
    "pal = dict(zip(strains, sns.color_palette(\"deep\", n_colors=len(strains))))\n",
    "print('palette is:' + str(pal))\n",
    "\n",
    "\n",
    "# pal = {'Wildtype (N2)': 'black', \n",
    "#        'cat-2 (e1112)': 'lavender', \n",
    "#        'cat-2 (n4547)': 'cornflowerblue', \n",
    "#        'cat-2 (tm2261)': 'blue', \n",
    "#        'dat-1 (ok157)': 'blueviolet', \n",
    "#        'cat-1 (ok441)': 'magenta', \n",
    "#        'pdr-1 (gk448)': 'rosybrown', \n",
    "#        'pdr-1 (tm395)': 'lightcoral', \n",
    "#        'pdr-1 (tm598)': 'indianred', \n",
    "#        'dop-1 (vs101)': 'slategray', \n",
    "#        'dop-3 (ok295)': 'darkslategray', \n",
    "#        'snb-5 (ok1434)': 'mediumseagreen', \n",
    "#        'unc-10 (ad591)': 'darkorange'}\n",
    "\n",
    "print('palette is:' + str(pal))\n",
    "# IF YOU WANT TO CUSTOMIZE THE COLOR PALETTE OF THE GRAPHS\n",
    "# pal = {\"N2\": (0.2980392156862745, 0.4470588235294118, 0.6901960784313725),\n",
    "#        \"LX2060\": (0.8666666666666667, 0.5176470588235295, 0.3215686274509804)\n",
    "#     }\n",
    "\n",
    "print('done setting colour palette')"
   ]
  },
  {
   "cell_type": "code",
   "execution_count": null,
   "metadata": {},
   "outputs": [],
   "source": [
    "# Outputs final data onto a spreadsheet\n",
    "TotalConcatenated.to_csv(\"tap_output.csv\")\n",
    "print('done')\n"
   ]
  },
  {
   "cell_type": "markdown",
   "metadata": {},
   "source": [
    "# 7.5: BONUS - Graph by plates to check for anomolies across each strain/treatment\n",
    "\n",
    "Here, we will be graphing each strain on their own by their individual plates - this will help us find any anomolies or outliers that we can then exclude!\n"
   ]
  },
  {
   "cell_type": "code",
   "execution_count": null,
   "metadata": {},
   "outputs": [],
   "source": [
    "Strain_pal = sns.choose_colorbrewer_palette('sequential')\n"
   ]
  },
  {
   "cell_type": "code",
   "execution_count": null,
   "metadata": {},
   "outputs": [],
   "source": [
    "StrainNames.get(\"Strain_1\")"
   ]
  },
  {
   "cell_type": "code",
   "execution_count": null,
   "metadata": {},
   "outputs": [],
   "source": [
    "StrainConcatenated = TotalConcatenated[TotalConcatenated.dataset==StrainNames.get(\"Strain_1\")] #Change/dictate which strain you are analyzing\n",
    "print(StrainConcatenated)"
   ]
  },
  {
   "cell_type": "code",
   "execution_count": null,
   "metadata": {},
   "outputs": [],
   "source": [
    "StrainConcatenated = TotalConcatenated[\n",
    "    TotalConcatenated.dataset == 'unc-10 (ad591)'] #Change/dictate which strain you are analyzing\n",
    "StrainName = \"unc-10 (ad591)\" #Also change this, for labeling purposes\n",
    "\n",
    "\n",
    "out1 = widgets.Output() #<- this is part of the code that helps display your graphs in tabs\n",
    "out2 = widgets.Output()\n",
    "out3 = widgets.Output()\n",
    "out4 = widgets.Output()\n",
    "\n",
    "tab = widgets.Tab(children = [out1, out2, out3, out4]) #<- more code to support tab display\n",
    "tab.set_title(0, 'Probability')\n",
    "tab.set_title(1, 'Distance')\n",
    "tab.set_title(2, 'Duration')\n",
    "tab.set_title(3, 'Speed')\n",
    "display(tab)\n",
    "\n",
    "plt.rcParams.update({'lines.markeredgewidth': 1})\n",
    "\n",
    "# Probability\n",
    "with out1:\n",
    "    plt.figure(linewidth = 2.5) #<- Make your figure lines THICCCC for clean display (posters)\n",
    "    plt.figure(figsize=(12,10)) #<- set your figure size (width, length)\n",
    "    plt.gca().xaxis.grid(False) #<- gets rid of x-axis markers to make data look clean \n",
    "    ax = sns.pointplot(x=\"taps\", #<- Here we use seaborn as our graphing package. \n",
    "                     y=\"prob\",  \n",
    "                     data = StrainConcatenated,\n",
    "                     hue = 'plate_id', #<- Here we use the extra column from step 6 to separate by group\n",
    "                     palette = Strain_pal, #<- Change colour palette here if you like\n",
    "                     ci = 95) #<- Confidence interval. 95 = standard error\n",
    "    plt.xlabel(\"Taps\") #<- X-axis title\n",
    "    plt.ylabel(\"Probability\") #<- Y-Axis title\n",
    "    plt.title(f\"{StrainName} Probability of Tap Habituation, {ISI}ISI\") #<- Figure Title\n",
    "    plt.ylim(0,1)\n",
    "    ax.legend(loc = 'upper right', fontsize = '12') #<- location of your legend\n",
    "    plt.savefig(f'{StrainName}_Probability_{ISI}ISI_ByPlate.png', format='png', dpi=450) #<- saves your file to your folder at certain DPI\n",
    "    plt.show()\n",
    "\n",
    "# Distance\n",
    "with out2:\n",
    "    plt.figure(linewidth = 2.5)\n",
    "    plt.figure(figsize=(12,10))\n",
    "    plt.gca().xaxis.grid(False)\n",
    "    ax = sns.pointplot(x=\"taps\", \n",
    "                     y=\"dist\", \n",
    "                     data = StrainConcatenated,\n",
    "                     hue = 'plate_id',\n",
    "                     palette = Strain_pal,\n",
    "                     ci = 95)\n",
    "    plt.xlabel(\"Taps\", fontsize = '12')\n",
    "    plt.ylabel(\"Distance\", fontsize = '12')\n",
    "    plt.title(f\"{StrainName} Distance of Tap Habituation, {ISI}ISI\", fontsize = '16')\n",
    "    plt.ylim(0,1.5)\n",
    "    ax.legend(loc = 'upper right', fontsize = '12')\n",
    "    plt.savefig(f'{StrainName}_Distance_{ISI}ISI_ByPlate.png', format='png', dpi=450)\n",
    "    plt.show()\n",
    "\n",
    "# Duration\n",
    "with out3:\n",
    "    plt.figure(linewidth = 2.5)\n",
    "    plt.figure(figsize=(12,10))\n",
    "    plt.gca().xaxis.grid(False)\n",
    "    ax = sns.pointplot(x=\"taps\", \n",
    "                     y=\"dura\", \n",
    "                     data = StrainConcatenated,\n",
    "                     hue = 'plate_id',\n",
    "                     palette = Strain_pal,\n",
    "                     ci = 95)\n",
    "    plt.xlabel(\"Taps\", fontsize = '12')\n",
    "    plt.ylabel(\"Duration\", fontsize = '12')\n",
    "    plt.title(f\"{StrainName} Duration of Tap Habituation, {ISI}ISI\", fontsize = '16')\n",
    "    plt.ylim(0,3)\n",
    "    ax.legend(loc = 'upper right', fontsize = '12')\n",
    "    plt.savefig(f'{StrainName}_Duration_{ISI}ISI_ByPlate.png', format='png', dpi=450)\n",
    "    plt.show()\n",
    "\n",
    "# Speed\n",
    "with out4:\n",
    "    plt.figure(linewidth = 2.5)\n",
    "    plt.figure(figsize=(12,10))\n",
    "    plt.gca().xaxis.grid(False)\n",
    "    ax = sns.pointplot(x=\"taps\", \n",
    "                     y=\"speed\", \n",
    "                     data = StrainConcatenated,\n",
    "                     hue = 'plate_id',\n",
    "                     palette = Strain_pal,\n",
    "                     ci = 95)\n",
    "    plt.xlabel(\"Taps\", fontsize = '12')\n",
    "    plt.ylabel(\"Speed\", fontsize = '12')\n",
    "    plt.title(f\"{StrainName} Speed of Tap Habituation, {ISI}ISI\", fontsize = '16')\n",
    "    plt.ylim(0,0.5)\n",
    "    ax.legend(loc = 'upper right', fontsize = '12')\n",
    "    plt.savefig(f'{StrainName}_Speed_{ISI}ISI.png_ByPlate', format='png', dpi=450)\n",
    "    plt.show()"
   ]
  },
  {
   "cell_type": "markdown",
   "metadata": {},
   "source": [
    "# 8. Graph Data (Probability, Distance, Duration, Speed of Tap Habituation)\n",
    "\n",
    "## Here, feel free to change the graph title and axis labels! Images are automatically saved in your folder with your data!\n",
    "\n",
    "Note: It has been agreed by the lab that distance is quite an outdated measure, and the three top measures we consider are:\n",
    "\n",
    "## probability, duration and speed."
   ]
  },
  {
   "cell_type": "code",
   "execution_count": null,
   "metadata": {},
   "outputs": [],
   "source": [
    "# PD_tap=pd.read_csv('/Users/Joseph/Desktop/NewData/hab_output.csv').iloc[: , 1:]\n",
    "# N2=PD_tap[PD_tap.dataset=='N2']\n",
    "# mutant=PD_tap[PD_tap.Allele=='js125']\n",
    "# data=pd.concat([N2,mutant], ignore_index=True, sort=False)\n",
    "# data['Time']=data.time.round(-1)\n",
    "# # print(N2)\n",
    "# # print(mutant)\n",
    "# print(data)\n",
    "# data.to_csv('/Users/Joseph/Desktop/NewData/unc_output.csv')"
   ]
  },
  {
   "cell_type": "code",
   "execution_count": 24,
   "metadata": {},
   "outputs": [
    {
     "data": {
      "application/vnd.jupyter.widget-view+json": {
       "model_id": "1714fdc83acf435a9539e265abe86e4c",
       "version_major": 2,
       "version_minor": 0
      },
      "text/plain": [
       "Tab(children=(Output(), Output(), Output(), Output()), selected_index=0, titles=('Probability', 'Distance', 'D…"
      ]
     },
     "metadata": {},
     "output_type": "display_data"
    },
    {
     "data": {
      "text/plain": [
       "<Figure size 640x480 with 0 Axes>"
      ]
     },
     "metadata": {},
     "output_type": "display_data"
    },
    {
     "data": {
      "image/png": "[encoded data removed]",
      "text/plain": [
       "<Figure size 1200x1000 with 1 Axes>"
      ]
     },
     "metadata": {},
     "output_type": "display_data"
    },
    {
     "data": {
      "text/plain": [
       "<Figure size 640x480 with 0 Axes>"
      ]
     },
     "metadata": {},
     "output_type": "display_data"
    },
    {
     "data": {
      "image/png": "[encoded data removed]",
      "text/plain": [
       "<Figure size 1200x1000 with 1 Axes>"
      ]
     },
     "metadata": {},
     "output_type": "display_data"
    },
    {
     "data": {
      "text/plain": [
       "<Figure size 640x480 with 0 Axes>"
      ]
     },
     "metadata": {},
     "output_type": "display_data"
    },
    {
     "data": {
      "image/png": "[encoded data removed]",
      "text/plain": [
       "<Figure size 1200x1000 with 1 Axes>"
      ]
     },
     "metadata": {},
     "output_type": "display_data"
    },
    {
     "data": {
      "text/plain": [
       "<Figure size 640x480 with 0 Axes>"
      ]
     },
     "metadata": {},
     "output_type": "display_data"
    },
    {
     "data": {
      "image/png": "[encoded data removed]",
      "text/plain": [
       "<Figure size 1200x1000 with 1 Axes>"
      ]
     },
     "metadata": {},
     "output_type": "display_data"
    }
   ],
   "source": [
    "out1 = widgets.Output() #<- this is part of the code that helps display your graphs in tabs\n",
    "out2 = widgets.Output()\n",
    "out3 = widgets.Output()\n",
    "out4 = widgets.Output()\n",
    "\n",
    "tab = widgets.Tab(children = [out1, out2, out3, out4]) #<- more code to support tab display\n",
    "tab.set_title(0, 'Probability')\n",
    "tab.set_title(1, 'Distance')\n",
    "tab.set_title(2, 'Duration')\n",
    "tab.set_title(3, 'Speed')\n",
    "display(tab)\n",
    "\n",
    "plt.rcParams.update({'lines.markeredgewidth': 1})\n",
    "sns.set_context(\"poster\")\n",
    "# Probability\n",
    "with out1:\n",
    "    plt.figure(linewidth = 2.5) #<- Make your figure lines THICCCC for clean display (posters)\n",
    "    plt.figure(figsize=(12,10)) #<- set your figure size (width, length)\n",
    "    plt.gca().xaxis.grid(False) #<- gets rid of x-axis markers to make data look clean \n",
    "    ax = sns.lineplot(x=\"Time\", #<- Here we use seaborn as our graphing package. \n",
    "                 y=\"prob\",  \n",
    "                 data = TotalConcatenated,\n",
    "                 hue = 'Gene', #<- Here we use the extra column from step 6 to separate by group\n",
    "                 palette = 'deep',\n",
    "                 linewidth=3,\n",
    "                 style='Gene',\n",
    "                 dashes=False,\n",
    "                 markers=['o','o'],\n",
    "                 markersize=12,\n",
    "                 err_style='bars',\n",
    "                 errorbar = 'se') #<- Confidence interval. 95 = standard error\n",
    "    plt.xlabel(\"Time (s)\") #<- X-axis title\n",
    "    plt.ylabel(\"Probability\") #<- Y-Axis title\n",
    "    plt.title(\"Probability of Tap Habituation\") #<- Figure Title\n",
    "    plt.ylim(0,1)\n",
    "    plt.xlim(550,None)\n",
    "    plt.xticks(rotation=90)\n",
    "    ax.legend(loc = 'upper right', fontsize = '20') #<- location of your legend\n",
    "    plt.savefig('/Users/Joseph/Desktop/NewData/unc43prob.png', format='png', dpi=900,bbox_inches='tight') #<- saves your file to your folder at certain DPI\n",
    "    plt.show()\n",
    "    \n",
    "# Distance\n",
    "with out2:\n",
    "    plt.figure(linewidth = 2.5)\n",
    "    plt.figure(figsize=(12,10))\n",
    "    plt.gca().xaxis.grid(False)\n",
    "    ax = sns.pointplot(x=\"Time\", \n",
    "                 y=\"dist\", \n",
    "                 data = TotalConcatenated,\n",
    "                 hue = 'dataset',\n",
    "                 palette = 'deep',\n",
    "#                  palette = pal,\n",
    "                 errorbar = 'se'\n",
    "                      )\n",
    "    plt.xlabel(\"Time (s)\", fontsize = '12')\n",
    "    plt.ylabel(\"Distance\", fontsize = '12')\n",
    "    plt.title(\"Distance of Tap Habituation\", fontsize = '16')\n",
    "    plt.ylim(0,None)\n",
    "    ax.legend(loc = 'upper right', fontsize = '12')\n",
    "#     plt.savefig(f'Distance_{ISI}ISI.png', format='png', dpi=900)\n",
    "    plt.show()\n",
    "\n",
    "# Duration\n",
    "with out3:\n",
    "    plt.figure(linewidth = 2.5)\n",
    "    plt.figure(figsize=(12,10))\n",
    "    plt.gca().xaxis.grid(False)\n",
    "    ax = sns.pointplot(x=\"Time\", \n",
    "                 y=\"dura\", \n",
    "                 data = TotalConcatenated,\n",
    "                 hue = 'dataset',\n",
    "                 palette = 'deep',\n",
    "#                  palette = pal,\n",
    "                 errorbar = 'se'\n",
    "                      )\n",
    "    plt.xlabel(\"Time (s)\", fontsize = '12')\n",
    "    plt.ylabel(\"Duration\", fontsize = '12')\n",
    "    plt.title(\"Duration of Tap Habituation\", fontsize = '16')\n",
    "    plt.ylim(0,None)\n",
    "    ax.legend(loc = 'upper right', fontsize = '12')\n",
    "#     plt.savefig(f'Duration_{ISI}ISI.png', format='png', dpi=900)\n",
    "    plt.show()\n",
    "\n",
    "# Speed\n",
    "with out4:\n",
    "    plt.figure(linewidth = 2.5)\n",
    "    plt.figure(figsize=(12,10))\n",
    "    plt.gca().xaxis.grid(False)\n",
    "    ax = sns.pointplot(x=\"Time\", \n",
    "                 y=\"speed\", \n",
    "                 data = data,\n",
    "                 hue = 'dataset',\n",
    "                 palette = 'deep',\n",
    "#                  palette = pal,\n",
    "                 errorbar = 'se'\n",
    "                      )\n",
    "    plt.xlabel(\"Time (s)\", fontsize = '12')\n",
    "    plt.ylabel(\"Speed\", fontsize = '12')\n",
    "    plt.title(\"Speed of Tap Habituation\", fontsize = '16')\n",
    "    plt.ylim(0,None)\n",
    "    plt.xticks(rotation=90)\n",
    "    ax.legend(loc = 'upper right', fontsize = '12')\n",
    "#     plt.savefig(f'Speed_{ISI}ISI.png', format='png', dpi=900)\n",
    "    plt.show()"
   ]
  },
  {
   "cell_type": "code",
   "execution_count": 31,
   "metadata": {},
   "outputs": [
    {
     "data": {
      "application/vnd.jupyter.widget-view+json": {
       "model_id": "06cc56bf0bda4f9b910f0f78d4425d89",
       "version_major": 2,
       "version_minor": 0
      },
      "text/plain": [
       "Tab(children=(Output(), Output(), Output(), Output()), selected_index=0, titles=('Probability', 'Distance', 'D…"
      ]
     },
     "metadata": {},
     "output_type": "display_data"
    },
    {
     "data": {
      "text/plain": [
       "<Figure size 640x480 with 0 Axes>"
      ]
     },
     "metadata": {},
     "output_type": "display_data"
    },
    {
     "data": {
      "image/png": "[encoded data removed]",
      "text/plain": [
       "<Figure size 1200x1000 with 1 Axes>"
      ]
     },
     "metadata": {},
     "output_type": "display_data"
    }
   ],
   "source": [
    "out1 = widgets.Output() #<- this is part of the code that helps display your graphs in tabs\n",
    "out2 = widgets.Output()\n",
    "out3 = widgets.Output()\n",
    "out4 = widgets.Output()\n",
    "\n",
    "tab = widgets.Tab(children = [out1, out2, out3, out4]) #<- more code to support tab display\n",
    "tab.set_title(0, 'Probability')\n",
    "tab.set_title(1, 'Distance')\n",
    "tab.set_title(2, 'Duration')\n",
    "tab.set_title(3, 'Speed')\n",
    "display(tab)\n",
    "\n",
    "plt.rcParams.update({'lines.markeredgewidth': 1})\n",
    "sns.set_context(\"notebook\")\n",
    "# Probability\n",
    "with out1:\n",
    "    plt.figure(linewidth = 2.5) #<- Make your figure lines THICCCC for clean display (posters)\n",
    "    plt.figure(figsize=(12,10)) #<- set your figure size (width, length)\n",
    "    plt.gca().xaxis.grid(False) #<- gets rid of x-axis markers to make data look clean \n",
    "    ax = sns.pointplot(x=\"taps\", #<- Here we use seaborn as our graphing package. \n",
    "                 y=\"prob\",  \n",
    "                 data = TotalConcatenated,\n",
    "                 hue = 'dataset', #<- Here we use the extra column from step 6 to separate by group    \n",
    "                 palette = pal, #<- Change colour palette here if you like\n",
    "                 errorbar = 'se') #<- Confidence interval. 95 = standard error\n",
    "    plt.xlabel(\"Taps\") #<- X-axis title\n",
    "    plt.ylabel(\"Probability\") #<- Y-Axis title\n",
    "    plt.title(f\"Probability of Tap Habituation, {ISI}ISI\") #<- Figure Title\n",
    "    plt.ylim(0,1)\n",
    "    ax.legend(loc = 'upper right', fontsize = '12') #<- location of your legend\n",
    "#     plt.savefig(f'Probability_{ISI}ISI.png', format='png', dpi=900) #<- saves your file to your folder at certain DPI\n",
    "    plt.show()\n",
    "\n",
    "# Distance\n",
    "with out2:\n",
    "    plt.figure(linewidth = 2.5)\n",
    "    plt.figure(figsize=(12,10))\n",
    "    plt.gca().xaxis.grid(False)\n",
    "    ax = sns.pointplot(x=\"taps\", \n",
    "                 y=\"dist\", \n",
    "                 data = TotalConcatenated,\n",
    "                 hue = 'dataset',\n",
    "                 palette = pal,\n",
    "                 errorbar = 'se'  #ci=68 for sem\n",
    "                      )\n",
    "    plt.xlabel(\"Taps\", fontsize = '12')\n",
    "    plt.ylabel(\"Distance\", fontsize = '12')\n",
    "    plt.title(f\"Distance of Tap Habituation, {ISI}ISI\", fontsize = '16')\n",
    "    plt.ylim(0,None)\n",
    "    ax.legend(loc = 'upper right', fontsize = '12')\n",
    "#     plt.savefig(f'Distance_{ISI}ISI.png', format='png', dpi=900)\n",
    "    plt.show()\n",
    "\n",
    "# Duration\n",
    "with out3:\n",
    "    plt.figure(linewidth = 2.5)\n",
    "    plt.figure(figsize=(12,10))\n",
    "    plt.gca().xaxis.grid(False)\n",
    "    ax = sns.pointplot(x=\"taps\", \n",
    "                 y=\"dura\", \n",
    "                 data = TotalConcatenated,\n",
    "                 hue = 'dataset',\n",
    "                 palette = pal,\n",
    "                 errorbar = 'se'  #ci=68 for sem\n",
    "                      )\n",
    "    plt.xlabel(\"Taps\", fontsize = '12')\n",
    "    plt.ylabel(\"Duration\", fontsize = '12')\n",
    "    plt.title(f\"Duration of Tap Habituation, {ISI}ISI\", fontsize = '16')\n",
    "    plt.ylim(0,None)\n",
    "    ax.legend(loc = 'upper right', fontsize = '12')\n",
    "#     plt.savefig(f'Duration_{ISI}ISI.png', format='png', dpi=900)\n",
    "    plt.show()\n",
    "\n",
    "# Speed\n",
    "with out4:\n",
    "    plt.figure(linewidth = 2.5)\n",
    "    plt.figure(figsize=(12,10))\n",
    "    plt.gca().xaxis.grid(False)\n",
    "    ax = sns.pointplot(x=\"taps\", \n",
    "                 y=\"speed\", \n",
    "                 data = TotalConcatenated,\n",
    "                 hue = 'dataset',\n",
    "                 palette = pal,\n",
    "                 errorbar = 'se' #ci=68 for sem\n",
    "                      )\n",
    "    plt.xlabel(\"Taps\", fontsize = '12')\n",
    "    plt.ylabel(\"Speed\", fontsize = '12')\n",
    "    plt.title(f\"Speed of Tap Habituation, {ISI}ISI\", fontsize = '16')\n",
    "    plt.ylim(0,None)\n",
    "    ax.legend(loc = 'upper right', fontsize = '12')\n",
    "#     plt.savefig(f'Speed_{ISI}ISI.png', format='png', dpi=900)\n",
    "    plt.show()"
   ]
  },
  {
   "cell_type": "markdown",
   "metadata": {},
   "source": [
    "# Done!"
   ]
  },
  {
   "cell_type": "code",
   "execution_count": null,
   "metadata": {},
   "outputs": [],
   "source": [
    "out1 = widgets.Output() #<- this is part of the code that helps display your graphs in tabs\n",
    "out2 = widgets.Output()\n",
    "out3 = widgets.Output()\n",
    "out4 = widgets.Output()\n",
    "\n",
    "tab = widgets.Tab(children = [out1, out2, out3, out4]) #<- more code to support tab display\n",
    "tab.set_title(0, 'Probability')\n",
    "tab.set_title(1, 'Distance')\n",
    "tab.set_title(2, 'Duration')\n",
    "tab.set_title(3, 'Speed')\n",
    "display(tab)\n",
    "\n",
    "plt.rcParams.update({'lines.markeredgewidth': 1})\n",
    "sns.set_context(\"notebook\")\n",
    "# Probability\n",
    "with out1:\n",
    "    plt.figure(linewidth = 2.5) #<- Make your figure lines THICCCC for clean display (posters)\n",
    "    plt.figure(figsize=(12,10)) #<- set your figure size (width, length)\n",
    "    plt.gca().xaxis.grid(False) #<- gets rid of x-axis markers to make data look clean \n",
    "    ax = sns.violinplot(x=\"taps\", #<- Here we use seaborn as our graphing package. \n",
    "                        y=\"prob\",  \n",
    "                        data = TotalConcatenated,\n",
    "                        hue = 'date', #<- Here we use the extra column from step 6 to separate by group    \n",
    "                        palette = pal, #<- Change colour palette here if you like\n",
    "                        errorbar = 'se') #<- Confidence interval. 95 = standard error\n",
    "    plt.xlabel(\"Taps\") #<- X-axis title\n",
    "    plt.ylabel(\"Probability\") #<- Y-Axis title\n",
    "    plt.title(f\"Probability of Tap Habituation, {ISI}ISI\") #<- Figure Title\n",
    "    plt.ylim(0,1)\n",
    "    ax.legend(loc = 'upper right', fontsize = '12') #<- location of your legend\n",
    "#     plt.savefig(f'Probability_{ISI}ISI.png', format='png', dpi=900) #<- saves your file to your folder at certain DPI\n",
    "    plt.show()\n",
    "\n",
    "# Distance\n",
    "with out2:\n",
    "    plt.figure(linewidth = 2.5)\n",
    "    plt.figure(figsize=(12,10))\n",
    "    plt.gca().xaxis.grid(False)\n",
    "    ax = sns.pointplot(x=\"taps\", \n",
    "                 y=\"dist\", \n",
    "                 data = TotalConcatenated,\n",
    "                 hue = 'date',\n",
    "                 palette = pal,\n",
    "                 errorbar = 'se'  #ci=68 for sem\n",
    "                      )\n",
    "    plt.xlabel(\"Taps\", fontsize = '12')\n",
    "    plt.ylabel(\"Distance\", fontsize = '12')\n",
    "    plt.title(f\"Distance of Tap Habituation, {ISI}ISI\", fontsize = '16')\n",
    "    plt.ylim(0,None)\n",
    "    ax.legend(loc = 'upper right', fontsize = '12')\n",
    "#     plt.savefig(f'Distance_{ISI}ISI.png', format='png', dpi=900)\n",
    "    plt.show()\n",
    "\n",
    "# Duration\n",
    "with out3:\n",
    "    plt.figure(linewidth = 2.5)\n",
    "    plt.figure(figsize=(12,10))\n",
    "    plt.gca().xaxis.grid(False)\n",
    "    ax = sns.pointplot(x=\"taps\", \n",
    "                 y=\"dura\", \n",
    "                 data = TotalConcatenated,\n",
    "                 hue = 'date',\n",
    "                 palette = pal,\n",
    "                 errorbar = 'se'  #ci=68 for sem\n",
    "                      )\n",
    "    plt.xlabel(\"Taps\", fontsize = '12')\n",
    "    plt.ylabel(\"Duration\", fontsize = '12')\n",
    "    plt.title(f\"Duration of Tap Habituation, {ISI}ISI\", fontsize = '16')\n",
    "    plt.ylim(0,None)\n",
    "    ax.legend(loc = 'upper right', fontsize = '12')\n",
    "#     plt.savefig(f'Duration_{ISI}ISI.png', format='png', dpi=900)\n",
    "    plt.show()\n",
    "\n",
    "# Speed\n",
    "with out4:\n",
    "    plt.figure(linewidth = 2.5)\n",
    "    plt.figure(figsize=(12,10))\n",
    "    plt.gca().xaxis.grid(False)\n",
    "    ax = sns.pointplot(x=\"taps\", \n",
    "                 y=\"speed\", \n",
    "                 data = TotalConcatenated,\n",
    "                 hue = 'date',\n",
    "                 palette = pal,\n",
    "                 errorbar = 'se' #ci=68 for sem\n",
    "                      )\n",
    "    plt.xlabel(\"Taps\", fontsize = '12')\n",
    "    plt.ylabel(\"Speed\", fontsize = '12')\n",
    "    plt.title(f\"Speed of Tap Habituation, {ISI}ISI\", fontsize = '16')\n",
    "    plt.ylim(0,None)\n",
    "    ax.legend(loc = 'upper right', fontsize = '12')\n",
    "#     plt.savefig(f'Speed_{ISI}ISI.png', format='png', dpi=900)\n",
    "    plt.show()"
   ]
  },
  {
   "cell_type": "markdown",
   "metadata": {},
   "source": [
    "# Strip Plot For Batch Effects"
   ]
  },
  {
   "cell_type": "code",
   "execution_count": 40,
   "metadata": {},
   "outputs": [
    {
     "name": "stdout",
     "output_type": "stream",
     "text": [
      "     taps      date        time    dura     dist      prob     speed  plate\n",
      "0       1  20220510   599.97460  2.2560  0.56620  0.609048  0.480907    3.0\n",
      "1       1  20220511   599.96460  2.5560  0.52840  0.916057  0.208252    8.0\n",
      "2       1  20220513   599.96940  2.3900  0.55220  0.787177  0.233872   13.0\n",
      "3       1  20220524   599.96770  2.5440  0.66240  0.862771  0.263577   20.5\n",
      "4       1  20220627   599.95340  2.7800  0.52740  0.848760  0.189861   28.0\n",
      "...   ...       ...         ...     ...      ...       ...       ...    ...\n",
      "1080   31  20230307  1189.96700  2.9820  0.68060  0.721271  0.224023  145.0\n",
      "1081   31  20230324  1189.95200  2.6725  0.63475  0.728563  0.233296  164.5\n",
      "1082   31  20230328  1189.93600  2.8020  0.57020  0.657163  0.201345  162.0\n",
      "1083   31  20230331  1189.94675  1.8650  0.33200  0.619236  0.179072  157.5\n",
      "1084   31  20230407  1189.98000  2.3575  0.52550  0.809232  0.221691  154.0\n",
      "\n",
      "[1085 rows x 8 columns]\n"
     ]
    }
   ],
   "source": [
    "TotalByDate=TotalConcatenated.drop(['plate_id','dataset'], axis=1).groupby(['taps','date'], as_index=False).mean()\n",
    "print(TotalByDate)"
   ]
  },
  {
   "cell_type": "code",
   "execution_count": 41,
   "metadata": {},
   "outputs": [
    {
     "data": {
      "application/vnd.jupyter.widget-view+json": {
       "model_id": "3b0e53a1036545d6b8a595bbba05a09f",
       "version_major": 2,
       "version_minor": 0
      },
      "text/plain": [
       "Tab(children=(Output(), Output(), Output(), Output()), selected_index=0, titles=('Probability', 'Distance', 'D…"
      ]
     },
     "metadata": {},
     "output_type": "display_data"
    }
   ],
   "source": [
    "out1 = widgets.Output() #<- this is part of the code that helps display your graphs in tabs\n",
    "out2 = widgets.Output()\n",
    "out3 = widgets.Output()\n",
    "out4 = widgets.Output()\n",
    "\n",
    "tab = widgets.Tab(children = [out1, out2, out3, out4]) #<- more code to support tab display\n",
    "tab.set_title(0, 'Probability')\n",
    "tab.set_title(1, 'Distance')\n",
    "tab.set_title(2, 'Duration')\n",
    "tab.set_title(3, 'Speed')\n",
    "display(tab)\n",
    "\n",
    "plt.rcParams.update({'lines.markeredgewidth': 1})\n",
    "sns.set_context(\"notebook\")\n",
    "# Probability\n",
    "with out1:\n",
    "    plt.figure(linewidth = 2.5) #<- Make your figure lines THICCCC for clean display (posters)\n",
    "    plt.figure(figsize=(15,10)) #<- set your figure size (width, length)\n",
    "    plt.gca().xaxis.grid(False) #<- gets rid of x-axis markers to make data look clean \n",
    "    ax = sns.violinplot(x=\"taps\", #<- Here we use seaborn as our graphing package. \n",
    "                     y=\"prob\",  \n",
    "                     data = TotalByDate,\n",
    "                    inner='point') \n",
    "    plt.xlabel(\"Taps\", fontsize = '20') #<- X-axis title\n",
    "    plt.ylabel(\"Probability\", fontsize = '20') #<- Y-Axis title\n",
    "    plt.title(f\"N2 Probability of Tap Habituation, {ISI}ISI, PD Dataset\", fontsize = '20') #<- Figure Title\n",
    "    plt.ylim(0,1)\n",
    "#     ax.legend(loc = 'upper right', fontsize = '12') #<- location of your legend\n",
    "    plt.savefig('/Volumes/JOSEPH/PD_N2_Probability_variability_by_date.png', format='png', dpi=450, bbox_inches='tight') #<- saves your file to your folder at certain DPI\n",
    "    plt.show()\n",
    "\n",
    "# Distance\n",
    "with out2:\n",
    "    plt.figure(linewidth = 2.5)\n",
    "    plt.figure(figsize=(15,10))\n",
    "    plt.gca().xaxis.grid(False)\n",
    "    ax = sns.violinplot(x=\"taps\", #<- Here we use seaborn as our graphing package. \n",
    "                     y=\"dist\",  \n",
    "                     data = TotalByDate,\n",
    "                    inner='point') \n",
    "    plt.xlabel(\"Taps\", fontsize = '20')\n",
    "    plt.ylabel(\"Distance\", fontsize = '20')\n",
    "    plt.title(f\"N2 Distance of Tap Habituation, {ISI}ISI, PD Dataset\", fontsize = '20')\n",
    "    plt.ylim(0,1.2)\n",
    "#     ax.legend(loc = 'upper right', fontsize = '12')\n",
    "    plt.savefig('/Volumes/JOSEPH/PD_N2_Distance_variability_by_date.png', format='png', dpi=450, bbox_inches='tight')\n",
    "    plt.show()\n",
    "\n",
    "# Duration\n",
    "with out3:\n",
    "    plt.figure(linewidth = 2.5)\n",
    "    plt.figure(figsize=(15,10))\n",
    "    plt.gca().xaxis.grid(False)\n",
    "    ax = sns.violinplot(x=\"taps\", #<- Here we use seaborn as our graphing package. \n",
    "                     y=\"dura\",  \n",
    "                     data = TotalByDate,\n",
    "                    inner='point') \n",
    "    plt.xlabel(\"Taps\", fontsize = '20')\n",
    "    plt.ylabel(\"Duration\", fontsize = '20')\n",
    "    plt.title(f\"N2 Duration of Tap Habituation, {ISI}ISI, PD Dataset\", fontsize = '20')\n",
    "    plt.ylim(0,4)\n",
    "#     ax.legend(loc = 'upper right', fontsize = '12')\n",
    "    plt.savefig('/Volumes/JOSEPH/PD_N2_Duration_variability_by_date.png', format='png', dpi=450, bbox_inches='tight')\n",
    "    plt.show()\n",
    "\n",
    "# Speed\n",
    "with out4:\n",
    "    plt.figure(linewidth = 2.5)\n",
    "    plt.figure(figsize=(15,10))\n",
    "    plt.gca().xaxis.grid(False)\n",
    "    ax = sns.violinplot(x=\"taps\", #<- Here we use seaborn as our graphing package. \n",
    "                     y=\"speed\",  \n",
    "                     data = TotalByDate,\n",
    "                    inner='point') \n",
    "    plt.xlabel(\"Taps\", fontsize = '20')\n",
    "    plt.ylabel(\"Speed\", fontsize = '20')\n",
    "    plt.title(f\"N2 Speed of Tap Habituation, {ISI}ISI, PD Dataset\", fontsize = '20')\n",
    "    plt.ylim(0,0.5)\n",
    "#     ax.legend(loc = 'upper right', fontsize = '12')\n",
    "    plt.savefig('/Volumes/JOSEPH/PD_N2_Speed_variability_by_date.png', format='png', dpi=450, bbox_inches='tight')\n",
    "    plt.show()"
   ]
  },
  {
   "cell_type": "code",
   "execution_count": null,
   "metadata": {},
   "outputs": [],
   "source": []
  }
 ],
 "metadata": {
  "kernelspec": {
   "display_name": "Python 3 (ipykernel)",
   "language": "python",
   "name": "python3"
  },
  "language_info": {
   "codemirror_mode": {
    "name": "ipython",
    "version": 3
   },
   "file_extension": ".py",
   "mimetype": "text/x-python",
   "name": "python",
   "nbconvert_exporter": "python",
   "pygments_lexer": "ipython3",
   "version": "3.11.1"
  }
 },
 "nbformat": 4,
 "nbformat_minor": 4
}
