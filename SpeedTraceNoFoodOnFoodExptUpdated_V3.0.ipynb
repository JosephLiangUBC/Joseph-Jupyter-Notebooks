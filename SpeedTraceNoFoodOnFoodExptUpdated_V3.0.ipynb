{
 "cells": [
  {
   "cell_type": "markdown",
   "metadata": {
    "jp-MarkdownHeadingCollapsed": true,
    "tags": []
   },
   "source": [
    "# Jupyter Notebook UI to graph your speed trace (with opto) data!\n",
    "\n",
    "Version 1.3 - Joseph Liang, Rankin Lab\n",
    "Updated:\n",
    "1. Upgraded folder path selection application\n",
    "2. Upgraded dataset management (less moving parts for end-user)\n",
    "3. output changed from tif -> png\n",
    "\n",
    "## Known bug: Step 2 an empty windows displays in Mac. May also apply to linux/windows.\n",
    "\n",
    "## Beginner Essentials:\n",
    "1. Shift-Enter to run each cell. After you run, you should see an output \"done step #\". If not, an error has occured\n",
    "2. When inputting your own code/revising the code, make sure you close all your quotation marks '' and brackets (), [], {}.\n",
    "3. Don't leave any commas (,) hanging! (make sure an object always follows a comma. If there is nothing after a comma, remove the comma!\n",
    "4. Learning to code? Each line of code is annotated to help you understand how this code works!\n",
    "\n",
    "## 3. Run all cells/steps sequentially, even the ones that do not require input\n",
    "\n",
    "## Steps that require input: #3, #6.1, #7"
   ]
  },
  {
   "cell_type": "markdown",
   "metadata": {},
   "source": [
    "# 1. Importing Packages Required (No input required, just run)"
   ]
  },
  {
   "cell_type": "code",
   "execution_count": null,
   "metadata": {},
   "outputs": [],
   "source": [
    "import pandas as pd #<- package used to import and organize data\n",
    "import numpy as np #<- package used to import and organize data\n",
    "import seaborn as sns #<- package used to plot graphs\n",
    "from matplotlib import pyplot as plt #<- package used to plot graphs\n",
    "import os #<- package used to work with system filepaths\n",
    "from ipywidgets import widgets #<- widget tool to generate button\n",
    "from IPython.display import display #<- displays button\n",
    "# from tkinter import Tk, filedialog #<- Tkinter is a GUI package\n",
    "from tqdm.notebook import tqdm\n",
    "from ipyfilechooser import FileChooser\n",
    "# import dask.dataframe as dd\n",
    "import pingouin as pg\n",
    "import random\n",
    "pd.set_option('display.max_columns', 50)\n",
    "print(\"done step 1\")"
   ]
  },
  {
   "cell_type": "markdown",
   "metadata": {},
   "source": [
    "# 2. Pick filepath (just run and click button)\n",
    "\n",
    "Run the following cell and clicke the button 'Select Folder' to pick a filepath.\n",
    "\n",
    "## Important: Later on, this script uses the total file path for each file to import and group data. That means if your folder has whatever your strain is named, the script will not work.\n",
    "\n",
    "(ex. if your folder has \"N2\" in it this script sees all files inside this folder as having the \"N2\" search key)\n",
    "\n",
    "## An easy fix is to just rename your folder to something else (make your strains lower-case, or just have the date)"
   ]
  },
  {
   "cell_type": "code",
   "execution_count": null,
   "metadata": {},
   "outputs": [],
   "source": [
    "starting_directory='/Users/Joseph/Desktop/'\n",
    "chooser=FileChooser(starting_directory)\n",
    "display(chooser)"
   ]
  },
  {
   "cell_type": "code",
   "execution_count": null,
   "metadata": {},
   "outputs": [],
   "source": [
    "folder_path=chooser.selected_path\n",
    "print(folder_path)"
   ]
  },
  {
   "cell_type": "code",
   "execution_count": null,
   "metadata": {},
   "outputs": [],
   "source": [
    "# *********** OBSOLETE ***********\n",
    "# ### Select Folder App - After you run, you can select your folder for filepath\n",
    "# button = widgets.Button(description = 'Select Folder') #<- creates a button variable\n",
    "# display(button) #<- displays the button in output\n",
    "\n",
    "# def select_folder(b): #<- defines an action. This action requires a variable, so an arbitrary one 'b' is there\n",
    "#     global folder_path #<- sets a variable as a global variable, not just within this action\n",
    "#     #Tk().withdraw() #<- Tkinter likes to create annoying empty windows. This removes them\n",
    "#     folder_path = filedialog.askdirectory() #<- Opens up a file explorer window, and determines folder path\n",
    "#     #Tk().update() #<- below\n",
    "#     #Tk().destroy() #<- this and the line above it removes the file explorer window after a selection is made\n",
    "#     print(folder_path) #<- this helps confirm that this action was performed\n",
    "#     print('done step 2')\n",
    "# button.on_click(select_folder)"
   ]
  },
  {
   "cell_type": "markdown",
   "metadata": {},
   "source": [
    "# 3. User Defined Variables (Add input here)\n",
    "\n",
    "Here, we add some constants to help you blaze through this code.\n",
    "\n",
    "## 3.1: Setting time bins\n",
    "pretty self explanatory\n",
    "\n",
    "\n",
    "\n",
    "## 3.2: Setting view range for your graph\n",
    "Top, bottom = y axis view range\n",
    "left, right = x axis view range\n",
    "\n"
   ]
  },
  {
   "cell_type": "code",
   "execution_count": null,
   "metadata": {},
   "outputs": [],
   "source": [
    "# Setting 1s Bins: for 0.5s Bins: 0,360,721\n",
    "# bins = np.linspace(0,360,721) #<- np.linspace(start, end, steps in between)\n",
    "# bins = np.linspace(0,420,841) #<- np.linspace(start, end, steps in between)\n",
    "bins = np.linspace(0,420,421) # 1 second bins (smoother lines on graph)\n",
    "\n",
    "print(bins)\n",
    "\n",
    "\n",
    "print(\"done step 3\")"
   ]
  },
  {
   "cell_type": "markdown",
   "metadata": {},
   "source": [
    "# 4. Construct filelist from folder path (No input required, just run)"
   ]
  },
  {
   "cell_type": "code",
   "execution_count": null,
   "metadata": {},
   "outputs": [],
   "source": [
    "#folder_path = '/Users/Joseph/Desktop/lrk1_ATR_NoATR_08_15_2019'\n",
    "print(folder_path)\n",
    "os.chdir(folder_path) #<- setting your working directory so that your images will be saved here\n",
    "\n",
    "filelist = list() #<- empty list\n",
    "for root, dirs, files in os.walk(folder_path): #<- this for loop goes through your folder \n",
    "    for name in files:\n",
    "        if name.endswith('.dat'): #<- and takes out all files with a .dat (file that contains your data)\n",
    "            filepath = os.path.join(root, name) #<- Notes down the file path of each data file\n",
    "            filelist.append(filepath) #<- saves it into the list\n",
    "    \n",
    "print(filelist)\n",
    "print('done step 4')"
   ]
  },
  {
   "cell_type": "markdown",
   "metadata": {},
   "source": [
    "# 5. Process Data Function (No input required, just run)"
   ]
  },
  {
   "cell_type": "code",
   "execution_count": null,
   "metadata": {},
   "outputs": [],
   "source": [
    "string=filelist[0]\n",
    "print(string)\n",
    "print('date')\n",
    "print(string.split('/')[-3].split('_')[0])\n",
    "print(string.split('/')[-3].split('_')[1])\n",
    "# print(string.split('/')[6].split('_')[4].split('.')[0][1:5])\n",
    "'/Volumes/JOSEPH/BSR/acr-3(ok2049)_OffFood/20230217_101835/RB1659_6x2_n72h20C_420s_C0217_RN1.00201.dat'\n",
    "'/Volumes/JOSEPH/BSR/N2_OffFood/20220630_133223/N2_6x2_n72h20C_420s_A0630_NN1.00332.dat'"
   ]
  },
  {
   "cell_type": "code",
   "execution_count": null,
   "metadata": {},
   "outputs": [],
   "source": [
    "def ProcessData(strain): #<- an example of a user-defined function\n",
    "    strain_filelist = []  #<- empty list\n",
    "    for i in filelist: #<- goes through the list and filters for keyword\n",
    "        if strain in i:\n",
    "            strain_filelist.append(i)\n",
    "    Strain_N = len(strain_filelist) #<- N per strain, or number of plates\n",
    "    if Strain_N > 1000:\n",
    "        strain_filelist = random.sample(strain_filelist,1000)\n",
    "    Strain_N = len(strain_filelist)\n",
    "    print(f'This Strain has {Strain_N} worms tracked') #<- prints out number of plates per strain\n",
    "    for i, f in tqdm(enumerate(strain_filelist, start=1)): #<- a progress bar function integrated into data import\n",
    "        N = len(strain_filelist)\n",
    "        statement = f\"Processing {i} of {N} worms\" #<- progress bar statement\n",
    "        try:\n",
    "            DF_Read = pd.read_csv(f, sep=' ', skiprows = 0, header = None) #<- imports and cleans data\n",
    "        except Exception:\n",
    "            pass\n",
    "        DF_Read['plate_id'] = f.split('/')[-2].split('_')[1]\n",
    "        DF_Read['date'] = f.split('/')[-2].split('_')[0]\n",
    "        if i==1:\n",
    "            DF_Total = DF_Read\n",
    "            DF_Total = DF_Total.dropna(axis=0)\n",
    "            DF_Total[\"worm\"]=i\n",
    "#             DF_Total[\"x_0\"] = DF_Total.iloc[:,2] - DF_Total.iloc[0,2]\n",
    "#             DF_Total[\"y_0\"] = DF_Total.iloc[:,3] - DF_Total.iloc[0,3]\n",
    "#             pathlen_i = np.array(DF_Total.iloc[1:,5])\n",
    "#             pathlen_i_1 = np.array(DF_Total.iloc[0:-1,5])\n",
    "#             result = np.abs(pathlen_i - pathlen_i_1).tolist()\n",
    "#             result.insert(0,0)\n",
    "#             resultS=pd.Series(result)\n",
    "#             DF_Total[\"distance\"]=resultS.cumsum()\n",
    "            DF_Total=DF_Total.dropna()\n",
    "#             print(DF_Total)\n",
    "        else:\n",
    "            DF_Add = DF_Read\n",
    "            DF_Add = DF_Add.dropna(axis=0)\n",
    "            DF_Add[\"worm\"]=i\n",
    "#             DF_Add[\"x_0\"] = DF_Add.iloc[:,2] - DF_Add.iloc[0,2]\n",
    "#             DF_Add[\"y_0\"] = DF_Add.iloc[:,3] - DF_Add.iloc[0,3]\n",
    "#             pathlen_i = np.array(DF_Add.iloc[1:,5])\n",
    "#             pathlen_i_1 = np.array(DF_Add.iloc[0:-1,5])\n",
    "#             result = np.abs(pathlen_i - pathlen_i_1).tolist()\n",
    "#             result.insert(0,0)\n",
    "#             resultS=pd.Series(result)\n",
    "#             DF_Add[\"distance\"]=resultS.cumsum()\n",
    "#             DF_Add = DF_Add.dropna()\n",
    "            DF_Total = pd.concat((DF_Total, DF_Add), ignore_index = True)  #<- imports and cleans data\n",
    "        print(statement)\n",
    "#         print(DF_Total)\n",
    "    DF_Total = DF_Total.dropna(axis = 0) #<- more data cleaning\n",
    "    DF_Total = DF_Total.rename( #<- more data cleaning\n",
    "                {0:'time',\n",
    "                1:'speed',\n",
    "                2: \"x\",\n",
    "                3: \"y\",\n",
    "                4: \"angularspeed\",\n",
    "                5: \"pathlength\",\n",
    "                6: \"kink\",\n",
    "                7: \"bias\",\n",
    "                8: \"curve\",\n",
    "                9: \"dir\",\n",
    "                10: \"crab\",\n",
    "                11: \"length\",\n",
    "                12: \"midline\",\n",
    "                13: \"width\",\n",
    "                14: \"morphwidth\",\n",
    "                15: \"area\"\n",
    "                }, axis=1)\n",
    "#     print(DF_Total)\n",
    "\n",
    "    #0.5s Bins\n",
    "    Bins = [float(i) for i in bins] #<- adds time bins into the data frame\n",
    "    DF_Total['time_bin'] = pd.cut(DF_Total['time'], Bins, labels = Bins[1:])\n",
    "    DF_Total['time_bin'] = DF_Total['time_bin'].astype(np.float64)\n",
    "    DF_time_bin=DF_Total.groupby([\"time_bin\", \"worm\", \"plate_id\", \"date\"], as_index=False).mean()\n",
    "    DF_time_bin = DF_time_bin[(300 <= DF_time_bin[\"time_bin\"])&(400 >= DF_time_bin[\"time_bin\"])]\n",
    "    \n",
    "    # DF_time_bin=DF_Total.groupby([\"date\", \"plate_id\"], as_index=False).mean()\n",
    "#     print(DF_time_bin)\n",
    "    #     DF_Speed_DF = DF_Total[[\"time\", \"time_bin\", \"speed\", \"x\", \"y\", \"x_0\",\"y_0\", \"pathlength\", \"worm\"]].copy()\n",
    "    \n",
    "    return{\n",
    "            'N': Strain_N,\n",
    "            'Confirm':DF_time_bin, #DF_Total if want to non-binned data\n",
    "#             'Speed_DF': DF_Speed_DF, #<- this is the finished product we will use for analysis\n",
    "            'Filelist':strain_filelist} \n",
    "\n",
    "print('done step 5')"
   ]
  },
  {
   "cell_type": "markdown",
   "metadata": {},
   "source": [
    "# 6.1 Processing Data (Please Read, Input Here)\n",
    "\n",
    "Here is the hardest part - From your naming convention, you need to pick a unique identifier for each group.\n",
    "\n",
    "This means that all of names of your files for that strain should have that in common but is not commone with across all other files! If you did a good job naming your files and following a good naming convention, this should be easy.\n",
    "\n",
    "## Be careful and really look hard in your naming structure. Note you want an unique identifier in the entire file path for the same group of files. An easy mistake is to have the strain name in the folder name, in this case if you use your strain name as a keyword it would include all files in that folder!\n",
    "\n",
    "For example, if all your N2 files have a certain pattern like \"N2_5x4\" in this following example:\n",
    "'/Users/Joseph/Desktop/AVR14_10sISI_TapHab_0710_2019/N2/20190710_141740/N2_5x4_f94h20c_100s30x10s10s_C0710ab.trv'\n",
    "\n",
    "Then you need to set that identifier for the strain keyword:\n",
    "'Strain_1' = 'N2_5x4'\n",
    "\n",
    "In the same example, if the identifier for your second strain is 'AVR14', then the N2 files will also be included, as this identifier can also be found in this file path.\n",
    "\n",
    "## Depending on how many strains you are running for comparison, you may need to add/delete some lines.\n",
    "\n",
    "You are not naming your data groups here, we have a step for that later.\n",
    "## Here, you want to note down ALL the strains you have in the folder\n",
    "\n",
    "If you have just 2 strains, add hashtags (#) in front of the lines you do not need.\n",
    "If you need more strains, just add more lines, following the same format!"
   ]
  },
  {
   "cell_type": "code",
   "execution_count": null,
   "metadata": {},
   "outputs": [],
   "source": [
    "# TotalConcatenated[['Genotype', 'Treatment']] = TotalConcatenated['Strain'].str.split(' - ', 1, expand=True)\n",
    "# print(list(set(filelist)))\n",
    "# nfiles = list(range(1, len(filelist.unique())+1))\n",
    "# print(nfiles)\n",
    "# strainnames = []\n",
    "strainnames=[]\n",
    "for f in filelist:\n",
    "    strainnames.append(f.split('/')[-3])\n",
    "ustrainnames=list(set(strainnames))\n",
    "print(ustrainnames)\n",
    "ustrainnames.sort()\n",
    "# print(ustrainnames)\n",
    "ustrainnames.insert(0, ustrainnames.pop(ustrainnames.index(\"cat-2(e1112)_OnFood\")))\n",
    "# print(ustrainnames)\n",
    "ustrainnames.insert(0, ustrainnames.pop(ustrainnames.index(\"cat-2(e1112)_OffFood\")))\n",
    "\n",
    "ustrainnames.insert(0, ustrainnames.pop(ustrainnames.index(\"N2_OnFood\")))\n",
    "# print(ustrainnames)\n",
    "ustrainnames.insert(0, ustrainnames.pop(ustrainnames.index(\"N2_OffFood\")))\n",
    "# print(ustrainnames)\n",
    "nstrains=list(range(1,len(ustrainnames)+1))\n",
    "# print(nstrains)\n",
    "\n",
    "StrainNames = {}\n",
    "StrainNames = {nstrains[i]: ustrainnames[i] for i in range(len(nstrains))}\n",
    "print(StrainNames)\n",
    "print(\"done step 6.1\")\n",
    "\n",
    "# <---------------- Test element to use for dictionary buidling -------------------\n",
    "# s = '/Users/Joseph/Desktop/OnFoodOffFoodTest/N2_OnFood/20220401_163048/N2_10x1_n96h20C_360sA0401_ka.00065.dat'\n",
    "# slist=s.split('/')[5]\n",
    "# print(slist)\n",
    "# print(list(range(1,5+1)))"
   ]
  },
  {
   "cell_type": "code",
   "execution_count": null,
   "metadata": {},
   "outputs": [],
   "source": [
    "# # ------------This Cell Is Now Defunct ----------------\n",
    "\n",
    "\n",
    "# #Format: Strain_# = 'unique_identifier'\n",
    "\n",
    "# ### Make into dictionary\n",
    "# StrainNames = {\n",
    "#     'Strain_1' : 'No_Parafilm',   #<- each strain will be designated to a unique identifier here\n",
    "#     'Strain_2' : 'Yes_Parafilm',\n",
    "# #     'Strain_3' : 'e1112_OffFood',\n",
    "# #     'Strain_4' : 'e1112_OnFood',\n",
    "# #     'Strain_5' : 'Test_OffFood',\n",
    "# #     'Strain_6' : 'Test_OnFood',\n",
    "# #     'Strain_5' : 'N2_NoFood',\n",
    "# #     'Strain_6' : 'N2_Food',\n",
    "# #     'Strain_9' : 'LX636_NoFood',  #<- empty entries are for those hardcore trackers that tracking this many strains\n",
    "# #     'Strain_10' : 'LX636_Food',\n",
    "# #     'Strain_11' : '',\n",
    "# #     'Strain_12' : '',\n",
    "# #     'Strain_13' : '',\n",
    "# #     'Strain_14' : '',\n",
    "# #     'Strain_15' : '',\n",
    "# }\n",
    "# #...etc, etc\n",
    "\n",
    "# print('done step 6.1')\n",
    "# print(StrainNames)"
   ]
  },
  {
   "cell_type": "markdown",
   "metadata": {},
   "source": [
    "# Cell below is to run testing/debugging. Do not need to run (commented out)"
   ]
  },
  {
   "cell_type": "code",
   "execution_count": null,
   "metadata": {},
   "outputs": [],
   "source": [
    "\n",
    "\n",
    "# DF_Read = pd.read_csv('/Users/Joseph/Desktop/OnFoodOffFoodTest/N2_OnFood/20220401_163048/N2_10x1_n96h20C_360sA0401_ka.00065.dat'\n",
    "#                       , sep=' ', header = None, index_col=False) #<- imports and cleans data\n",
    "# DF_Read[\"worm\"]=1\n",
    "# # print(DF_Read)\n",
    "# DF_Total = DF_Read #<- more data cleaning\n",
    "# DF_Total = DF_Total.rename( #<- more data cleaning\n",
    "#             {0:'time',\n",
    "#             1:'speed',\n",
    "#             2: \"x\",\n",
    "#             3: \"y\",\n",
    "#             4: \"angularspeed\",\n",
    "#             5: \"pathlength\",\n",
    "#             6: \"kink\",\n",
    "#             7: \"bias\",\n",
    "#             8: \"curve\",\n",
    "#             9: \"dir\",\n",
    "#             10: \"crab\",\n",
    "#             11: \"length\",\n",
    "#             12: \"midline\",\n",
    "#             13: \"width\",\n",
    "#             14: \"morphwidth\",\n",
    "#             15: \"area\"\n",
    "#             }, axis=1)\n",
    "# DF_Total[\"x_0\"] = DF_Total.x - DF_Total.x.iloc[0]\n",
    "# DF_Total[\"y_0\"] = DF_Total.y - DF_Total.y.iloc[0]\n",
    "\n",
    "# DF_Total[\"x_test\"] = DF_Total.iloc[:,2] - DF_Total.iloc[0,2]\n",
    "# DF_Total[\"y_test\"] = DF_Total.iloc[:,3] - DF_Total.iloc[0,3]\n",
    "# DF_Total[\"distance\"]= 0\n",
    "print(DF_Total)\n",
    "\n",
    "# A_i = np.array(DF_Total['pathlength'][1:])\n",
    "# A_i_1 = np.array(DF_Total['pathlength'][0:-1])\n",
    "# result = np.abs(A_i - A_i_1).tolist()\n",
    "# result.insert(0,0)\n",
    "# curr_sum = 0\n",
    "# new_list = []\n",
    "# for i in range(len(result)):\n",
    "#     curr_sum += result[i]\n",
    "#     new_list.append(curr_sum)\n",
    "# DF_Total[\"distance\"]=new_list\n",
    "# print(DF_Total)\n",
    "\n",
    "\n",
    "\n",
    "        \n",
    "\n",
    "\n",
    "# A_i = np.array(DF_Total.iloc[1:,5])\n",
    "# A_i_1 = np.array(DF_Total.iloc[0:-1,5])\n",
    "# result = np.abs(A_i - A_i_1).tolist()\n",
    "# result.insert(0,0)\n",
    "# curr_sum = 0\n",
    "# new_list = []\n",
    "# for i in range(len(result)):\n",
    "#     curr_sum += result[i]\n",
    "#     new_list.append(curr_sum)\n",
    "# print(A_i)\n",
    "# print(A_i_1)\n",
    "# print(len(A_i))\n",
    "# print(len(A_i_1))\n",
    "# # resultS=pd.Series(result)\n",
    "# # print(resultS.cumsum())\n",
    "# # print(new_list)\n",
    "\n",
    "# curr_sum = 0\n",
    "# new_list = []\n",
    "# for i in range(len(result)):\n",
    "#     curr_sum += result[i]\n",
    "#     new_list.append(curr_sum)\n",
    "    \n",
    "    \n",
    "# import matplotlib.pyplot as plt\n",
    "# plt.plot(new_list)"
   ]
  },
  {
   "cell_type": "markdown",
   "metadata": {},
   "source": [
    "# 6.2 Process Data (just run this cell)"
   ]
  },
  {
   "cell_type": "code",
   "execution_count": null,
   "metadata": {},
   "outputs": [],
   "source": [
    "import warnings\n",
    "warnings.filterwarnings('ignore')"
   ]
  },
  {
   "cell_type": "code",
   "execution_count": null,
   "metadata": {},
   "outputs": [],
   "source": [
    "DataLists = [0] #<- generates empty list. 0 is there to account for python's index starting at 0. \n",
    "# we want indexing to start at 1 (when I say #1 I want the first point, not the second point)\n",
    "\n",
    "for s in tqdm(StrainNames.values()): #<- goes through the dictionary in step 6.1 and processes data\n",
    "    if not s == '':\n",
    "        DataLists.append(ProcessData(s)['Confirm']) #<- appends all data into a list of dataframes\n",
    "# print(DataLists[2])\n",
    "print('done step 6.2')"
   ]
  },
  {
   "cell_type": "markdown",
   "metadata": {},
   "source": [
    "# Convert float64 data to float32 to reduce memory load (can also convert to 16 if needed)\n",
    "\n",
    "For plain english:\n",
    "\n",
    "float16 = 4 decimal points\n",
    "\n",
    "float32 = 8 decimal points\n",
    "\n",
    "float64 = 16 decimal points\n",
    "\n",
    "more decimal points = more data/memory that computer has to keep track of"
   ]
  },
  {
   "cell_type": "code",
   "execution_count": null,
   "metadata": {},
   "outputs": [],
   "source": [
    "#No need to run here\n",
    "for n in tqdm(DataLists[1:]):\n",
    "#     print(n)\n",
    "    TestData=n\n",
    "    TestData[TestData.select_dtypes(np.float64).columns] = TestData.select_dtypes(np.float64).astype(np.float16)\n",
    "    print(\"done this strain\")"
   ]
  },
  {
   "cell_type": "code",
   "execution_count": null,
   "metadata": {},
   "outputs": [],
   "source": [
    "#No need to run here\n",
    "\n",
    "# print(TotalConcatenated.dtypes)\n",
    "TotalConcatenated['time_bin'] = TotalConcatenated['time_bin'].astype(np.float16)\n",
    "# print(TotalConcatenated.dtypes)\n",
    "# TotalConcatenated.dtypes\n",
    "# Test Cell\n",
    "# DataLists[1].to_csv(\"test.csv\")\n",
    "Test = TotalConcatenated.reset_index(drop=True)\n",
    "print(Test)"
   ]
  },
  {
   "cell_type": "markdown",
   "metadata": {},
   "source": [
    "# 7. Grouping Data and Naming (Optional: Add input here)\n",
    "\n",
    "Here, you get to name your data groups/strain! Name your groups however you like under between the quotation marks for each strain.\n",
    "\n",
    "For example: If your Strain1 is N2 and you wish for the group to be called N2,\n",
    "your line should look like:\n",
    "\n",
    "DataLists[x].assign(dataset = 'N2')\n",
    "\n",
    "## Go back to step 6.1 to check which strain is which item on the DataLists.\n",
    "In this example, the first item on DataLists is AQ2028_b.\n",
    "\n",
    "\n",
    "## Remember: Put your name in quotes. (ex: 'N2' and not N2)\n",
    "\n",
    "As default, the names are set to the unique identifier labels.\n",
    "\n",
    "## Depending on the number of strains you are running the comparison, you may have to delete/add lines of code (following the same format). \n",
    "## Remember to add/delete commas too.\n",
    "\n",
    "# If you want to change your groups, you do that here. \n",
    "For example, if you have 5 strains in your folder but only want to compare between 2 or 3 strains, designate that here and follow through with steps 6 and 7. Once you are done, come back to step 6 and change your groups again (You are going to have to change your graph titles for the second run-through though)!"
   ]
  },
  {
   "cell_type": "code",
   "execution_count": null,
   "metadata": {},
   "outputs": [],
   "source": [
    "TotalConcatenated=pd.concat(df.assign(Strain=StrainNames.get(i+1)) for i,df in enumerate(DataLists[1:]))\n",
    "# TotalConcatenated[['Genotype', 'Treatment']] = TotalConcatenated['Strain'].str.split('_', 1, expand=True)\n",
    "# TotalConcatenated=TotalConcatenated.dropna()\n",
    "# TotalConcatenated = TotalConcatenated.reset_index(drop=True)\n",
    "print(TotalConcatenated)\n",
    "print(os.getcwd())\n",
    "TotalConcatenated.to_csv(\"/Users/Joseph/Desktop/BSR_baseline_output.csv\")\n",
    "# print(\"done output\")\n",
    "print('done step 7')"
   ]
  },
  {
   "cell_type": "code",
   "execution_count": null,
   "metadata": {},
   "outputs": [],
   "source": [
    "# day5=TotalConcatenated[TotalConcatenated['Strain'].isin(['Day5_OffFood', 'Day5_OnFood'])]\n",
    "# day5.to_csv(\"/Users/Joseph/Desktop/cat2_days/baseline_output.csv\")\n",
    "# print(day5)\n"
   ]
  },
  {
   "cell_type": "code",
   "execution_count": null,
   "metadata": {},
   "outputs": [],
   "source": [
    "# OffFood=day5[day5['Strain'].isin(['Day5_OffFood'])]\n",
    "# print(OffFood)\n",
    "# OnFood=day5[day5['Strain'].isin(['Day5_OnFood'])]\n",
    "# print(OnFood)\n",
    "# OffFood.Strain='cat-2(e1112)_OffFood'\n",
    "# print(OffFood)\n",
    "# OnFood.Strain='cat-2(e1112)_OnFood'\n",
    "# print(OnFood)"
   ]
  },
  {
   "cell_type": "code",
   "execution_count": null,
   "metadata": {},
   "outputs": [],
   "source": [
    "TotalConcatenated = pd.read_csv(\"/Users/Joseph/Desktop/BSR_baseline_output.csv\")\n",
    "print(TotalConcatenated)"
   ]
  },
  {
   "cell_type": "code",
   "execution_count": null,
   "metadata": {},
   "outputs": [],
   "source": [
    "# # <------------------- This cell is now DEFUNCT -----------------------\n",
    "\n",
    "\n",
    "# #to add a line, add a comma to the last line and press 'enter' to type into a new line\n",
    "\n",
    "\n",
    "# TotalConcatenated = pd.concat([DataLists[1].assign(Strain = \"Wildtype - No Food\"),\n",
    "#                                DataLists[2].assign(Strain = \"Wildtype - Food\"),\n",
    "#                                DataLists[3].assign(Strain = \"Test - No Food\"),\n",
    "#                                DataLists[4].assign(Strain = \"Test - Food\"),\n",
    "#                                DataLists[5].assign(Strain = \"cat-2 (e1112) - No Food\"),\n",
    "#                                DataLists[6].assign(Strain = \"cat-2 (e1112) - Food\"),\n",
    "# #                                DataLists[5].assign(Strain = \"Wildtype - No Food\"),\n",
    "# #                                DataLists[6].assign(Strain = \"Wildtype - Food\"),\n",
    "# #                                DataLists[9].assign(Strain = \"dop-1 (vs101) - No Food\"),\n",
    "# #                                DataLists[10].assign(Strain = \"dop-1 (vs101) - Food\")\n",
    "#                               ])\n",
    "# # TotalConcatenated=TotalConcatenated.dropna()\n",
    "# TotalConcatenated['time_bin'] = TotalConcatenated['time_bin'].astype(np.float16)\n",
    "# TotalConcatenated[['Genotype', 'Treatment']] = TotalConcatenated['Strain'].str.split(' - ', 1, expand=True)\n",
    "# TotalConcatenated=TotalConcatenated.dropna()\n",
    "# TotalConcatenated = TotalConcatenated.reset_index(drop=True)\n",
    "# print(TotalConcatenated)\n",
    "# TotalConcatenated.to_csv(\"output.csv\")\n",
    "# # print(\"done output\")\n",
    "# print('done step 7')"
   ]
  },
  {
   "cell_type": "markdown",
   "metadata": {},
   "source": [
    "# ..... TO Here"
   ]
  },
  {
   "cell_type": "markdown",
   "metadata": {},
   "source": [
    "# 8.1 Graphing with Light Pulses (Skip to 7.2 if you are not using ChR2)\n",
    "\n",
    "## Here, feel free to change the graph title and axis labels! Images are automatically saved in your folder with your data.\n",
    "\n",
    "# Here, you may need to be patient - this code goes through millions of rows of data to plot your graph, so it may take a minute (or two.... or more...)\n",
    "\n",
    "Palette:\n",
    "\n",
    "Wildtype (ce314): (0.2980392156862745, 0.4470588235294118, 0.6901960784313725)\n",
    "\n",
    "lrk-1: (0.8666666666666667, 0.5176470588235295, 0.3215686274509804)\n",
    "\n",
    "vps-35 (hu68): (0.7686274509803922, 0.3058823529411765, 0.3215686274509804)\n",
    "\n",
    "vps-35 (ok1880): (0.5058823529411764, 0.4470588235294118, 0.7019607843137254)\n",
    "\n",
    "cat-2 (e1112): #8B008B\n",
    "\n",
    "cat-2 (e1112) No ATR: #FF00FF\n",
    "\n",
    "ce314 without ATR: #20B2AA (light see green)\n",
    "\n",
    "ok530 with ATR: #8B4513 (saddle brown)\n",
    "\n",
    "ok530 without ATR: #D2691E (chocolate)\n",
    "\n",
    "control + ATR: \"black\"\n",
    "\n",
    "control - ATR: \"gray\"\n",
    "\n",
    "lrk-1_1 + ATR: \"navy\"\n",
    "\n",
    "lrk-1_1 - ATR: \"royalblue\"\n",
    "\n",
    "lrk-1_2 + ATR: \"green\"\n",
    "\n",
    "lrk-1_2 - ATR: \"lightgreen\""
   ]
  },
  {
   "cell_type": "markdown",
   "metadata": {},
   "source": [
    "# 8.2 Speed Trace Plot"
   ]
  },
  {
   "cell_type": "code",
   "execution_count": null,
   "metadata": {},
   "outputs": [],
   "source": [
    "# Setting viewing range for your graph\n",
    "top = 0.35\n",
    "bottom = 0\n",
    "left = 0\n",
    "right = 420\n",
    "\n",
    "sns.set_context(\"talk\")\n",
    "plt.figure(linewidth = 2.5)\n",
    "plt.figure(figsize=(12,7))\n",
    "plt.gca().xaxis.grid(False)\n",
    "ax = sns.lineplot(x=\"time_bin\", \n",
    "             y=\"speed\", \n",
    "             data = day5,\n",
    "             hue = 'Strain',\n",
    "             palette = ['black',\n",
    "                        'grey',\n",
    "                        # '#FF00FF',\n",
    "                        # '#8B008B',\n",
    "                        # 'green',\n",
    "                        # 'lightgreen',\n",
    "                        # 'royalblue',\n",
    "                        # 'lightblue',\n",
    "                        # '#FFB5C5',\n",
    "                        # '#CD6889',\n",
    "                        # 'maroon',\n",
    "                        # 'firebrick'\n",
    "                       ])\n",
    "plt.xlabel(\"Time (s)\")\n",
    "# plt.ylabel(\"Speed (mm/s)\")\n",
    "# plt.title(\"Speed Trace\")\n",
    "# plt.ylim(top = top)\n",
    "plt.ylim(bottom = bottom)\n",
    "plt.xlim(left= left)\n",
    "plt.xlim(right = right)\n",
    "ax.legend(loc = 'upper right', fontsize = '10')\n",
    "# plt.savefig(f'Speed_Trace_{left}to{right}s.png', format='png', dpi=450)\n",
    "plt.show()"
   ]
  },
  {
   "cell_type": "markdown",
   "metadata": {},
   "source": [
    "# BSR bar plot (differences of differences)"
   ]
  },
  {
   "cell_type": "markdown",
   "metadata": {},
   "source": [
    "Calculates worm speed average over designated time period"
   ]
  },
  {
   "cell_type": "code",
   "execution_count": null,
   "metadata": {},
   "outputs": [],
   "source": [
    "TotalConcatenated['Genotype']"
   ]
  },
  {
   "cell_type": "code",
   "execution_count": null,
   "metadata": {},
   "outputs": [],
   "source": [
    "TotalConcatenated = pd.read_csv(\"/Users/Joseph/Desktop/BSR_baseline_output.csv\")\n",
    "print(TotalConcatenated)\n",
    "TotalConcatenated = TotalConcatenated.astype({'plate_id': int, 'worm':int, 'date':int})\n",
    "TotalConcatenated[['Genotype', 'Treatment']] = TotalConcatenated['Strain'].str.split('_', expand=True)\n",
    "TotalConcatenated['Gene'] = TotalConcatenated['Genotype'].str.split('(', expand=True)[0]\n",
    "# for i in TotalConcatenated.index:\n",
    "#     try:\n",
    "#         TotalConcatenated.loc[i,'Gene'] = TotalConcatenated.loc[i,'Genotype'].str.split('(')[0]\n",
    "#     except Exception:\n",
    "#         TotalConcatenated.loc[i,'Gene'] = TotalConcatenated.loc[i,'Genotype']\n",
    "TotalConcatenated\n",
    "# TotalConcatenated[\"date\"].unique()"
   ]
  },
  {
   "cell_type": "code",
   "execution_count": null,
   "metadata": {},
   "outputs": [],
   "source": [
    "chunkeddata_mean = TotalConcatenated.groupby([\"Strain\",\"Genotype\",\"Treatment\",\"Gene\",\"plate_id\"], as_index=False).mean()\n",
    "print(chunkeddata_mean)\n",
    "# chunkeddata_mean[['Genotype', 'Treatment']] = chunkeddata_mean['Strain'].str.split('_', expand=True)\n",
    "worm_avg_speed = chunkeddata_mean[['Gene', 'Treatment', 'speed']]\n",
    "# worm_avg_speed = chunkeddata_mean[['Gene', 'Treatment', 'bias']]\n",
    "avg_speed = worm_avg_speed.groupby([\"Gene\", 'Treatment'], as_index=False).mean()\n",
    "print(avg_speed)\n",
    "# print(avg_speed)\n",
    "\n",
    "# avg_speed.to_csv(\"avg_speed.csv\")\n",
    "speed_diff = avg_speed.drop(columns=[\"Treatment\"]).groupby(\"Gene\", as_index=False).diff(periods=-1).dropna()\n",
    "print(\"-\"*40)\n",
    "print(speed_diff)\n",
    "# speed_diff.to_csv(\"speed_diff.csv\")\n",
    "speed_diff.reset_index(drop=False).dropna()\n",
    "speed_diff.insert(loc=0, column='Gene', value=avg_speed['Gene'])\n",
    "speed_diff=speed_diff.sort_values(by=[\"speed\"])\n",
    "# speed_diff=speed_diff.sort_values(by=[\"bias\"])\n",
    "# speed_diff=speed_diff.reset_index(drop=True).dropna()\n",
    "print(speed_diff)\n",
    "# print(speed_diff.iloc[1,1])\n",
    "# speed_diff['Score']=speed_diff['speed']-speed_diff.iloc[1,1]\n",
    "# speed_diff=speed_diff.sort_values(by=[\"Score\"])\n",
    "# print(speed_diff)"
   ]
  },
  {
   "cell_type": "code",
   "execution_count": null,
   "metadata": {},
   "outputs": [],
   "source": [
    "Gene_Orthology=pd.read_csv('/Users/Joseph/Desktop/GRC_Data/Gene_Orthology.csv')\n",
    "Gene_Orthology=Gene_Orthology.rename(columns={\"Gene\":\"Orthology\", \"Worm Gene\":\"Gene\"})\n",
    "print(Gene_Orthology)"
   ]
  },
  {
   "cell_type": "code",
   "execution_count": null,
   "metadata": {},
   "outputs": [],
   "source": [
    "speed_diff=pd.merge(speed_diff,\n",
    "                     Gene_Orthology,\n",
    "                     on='Gene',\n",
    "                     how='inner')\n",
    "speed_diff=speed_diff.rename(columns={\"Gene\":\"Worm Gene\", \"Orthology\":\"Gene\"})\n",
    "print(speed_diff)"
   ]
  },
  {
   "cell_type": "code",
   "execution_count": null,
   "metadata": {},
   "outputs": [],
   "source": [
    "df1 = speed_diff[speed_diff.isna().any(axis=1)]\n",
    "df1"
   ]
  },
  {
   "cell_type": "code",
   "execution_count": null,
   "metadata": {},
   "outputs": [],
   "source": [
    "start = 100 #<----- set the start time of the range\n",
    "point = 400 #<------- set the end time of your range\n",
    "chunkeddata0 = TotalConcatenated[TotalConcatenated[\"time\"] >= start]\n",
    "chunkeddata = chunkeddata0[chunkeddata0[\"time\"] <= point]\n",
    "chunkeddata_mean = chunkeddata.groupby([\"Strain\",\"worm\"], as_index=False).mean()\n",
    "chunkeddata_mean[['Genotype', 'Treatment']] = chunkeddata_mean['Strain'].str.split('_', expand=True)\n",
    "worm_avg_speed = chunkeddata_mean[['Genotype', 'Treatment', 'Strain', 'speed']]\n",
    "avg_speed = worm_avg_speed.groupby([\"Strain\", 'Treatment', 'Genotype'], as_index=False).mean()\n",
    "print(avg_speed)\n",
    "# print(avg_speed)\n",
    "\n",
    "# avg_speed.to_csv(\"avg_speed.csv\")\n",
    "\n",
    "speed_diff = avg_speed.drop(columns=[\"Strain\", \"Treatment\"]).groupby(\"Genotype\", as_index=False).diff(periods=-1)\n",
    "# print(speed_diff)\n",
    "# speed_diff.to_csv(\"speed_diff.csv\")\n",
    "speed_diff.reset_index(drop=False)\n",
    "speed_diff.insert(loc=0, column='Genotype', value=avg_speed['Genotype'])\n",
    "speed_diff=speed_diff.reset_index(drop=True).dropna()\n",
    "print(speed_diff)\n",
    "# print(speed_diff.iloc[1,1])\n",
    "speed_diff['Score']=speed_diff['speed']-speed_diff.iloc[1,1]\n",
    "speed_diff=speed_diff.sort_values(by=[\"Score\"])\n",
    "print(speed_diff)"
   ]
  },
  {
   "cell_type": "code",
   "execution_count": null,
   "metadata": {},
   "outputs": [],
   "source": [
    "print(speed_diff.iloc[0,1])"
   ]
  },
  {
   "cell_type": "code",
   "execution_count": null,
   "metadata": {},
   "outputs": [],
   "source": [
    "avg_speed[\"new\"] = range(1,len(avg_speed)+1)\n",
    "avg_speed.loc[avg_speed.index==4, 'new'] = 0\n",
    "avg_speed.loc[avg_speed.index==4, 'new'] = 0\n",
    "print(avg_speed)\n",
    "# avg_speed.sort_values(\"new\").drop('new', axis=1)"
   ]
  },
  {
   "cell_type": "markdown",
   "metadata": {},
   "source": [
    "## Making the bar plot"
   ]
  },
  {
   "cell_type": "code",
   "execution_count": null,
   "metadata": {},
   "outputs": [],
   "source": [
    "Title = \"Basal Slowing (Speed Off Food - Speed On Food), mm/s\" #<---------------- Input Here -----------------\n",
    "FileName = \"Bias Difference\"\n",
    "sns.set_context(\"poster\")\n",
    "plt.figure(linewidth = 1)\n",
    "plt.figure(figsize=(25, 5))\n",
    "plt.gca().xaxis.grid(False)\n",
    "ax = sns.barplot(x=\"Gene\", \n",
    "             y = 'speed', \n",
    "             data = speed_diff, #<--------------- Input Here -------------\n",
    "             color = 'CornflowerBlue',\n",
    "             edgecolor=\"DodgerBlue\",\n",
    "             linewidth = 2.5,\n",
    "#              seed=5,\n",
    "#              ci = 95, # 'sd' for SD, '68' for SEM\n",
    "#              palette = ['grey',\n",
    "#                         'black'\n",
    "#                        ]\n",
    "                )\n",
    "plt.xlabel(\"Gene\")\n",
    "plt.xticks(rotation=90)\n",
    "plt.ylabel(\"Basal Slowing\")\n",
    "# plt.ylim(top = 0.2)\n",
    "# plt.ylim(bottom = -0.03)\n",
    "plt.title(Title)\n",
    "# plt.legend(bbox_to_anchor=(1.02, 1), loc=2, borderaxespad=0.)\n",
    "plt.savefig(f'/Users/Joseph/Desktop/{FileName}.png', format='png', dpi=450, bbox_inches = 'tight')\n",
    "plt.show()"
   ]
  },
  {
   "cell_type": "code",
   "execution_count": null,
   "metadata": {},
   "outputs": [],
   "source": []
  },
  {
   "cell_type": "markdown",
   "metadata": {},
   "source": [
    "# 8.3 Graphing Bar Graphs"
   ]
  },
  {
   "cell_type": "markdown",
   "metadata": {},
   "source": [
    "# Speed Barplots Comparison"
   ]
  },
  {
   "cell_type": "code",
   "execution_count": null,
   "metadata": {},
   "outputs": [],
   "source": [
    "# Valid Measurement inputs(change var)\n",
    "# 1:'speed', <---\n",
    "# 2: \"x\",\n",
    "# 3: \"y\",\n",
    "# 4: \"angularspeed\", <-----\n",
    "# 5: \"pathlength\",\n",
    "# 6: \"kink\",  <---\n",
    "# 7: \"bias\", <----\n",
    "# 8: \"curve\", <---\n",
    "# 9: \"dir\",<----\n",
    "# 10: \"crab\",<----\n",
    "# 11: \"length\",<---\n",
    "# 12: \"midline\",<----\n",
    "# 13: \"width\",<----\n",
    "# 14: \"morphwidth\",<----\n",
    "# 15: \"area\"<----\n",
    "\n",
    "start = 200\n",
    "point = 400\n",
    "var = \"area\"\n",
    "chunkeddata0 = TotalConcatenated[TotalConcatenated[\"time\"] >= start]\n",
    "chunkeddata = chunkeddata0[chunkeddata0[\"time\"] <= point]\n",
    "chunkeddata_mean = chunkeddata.groupby([\"Strain\",\"worm\"], as_index=False).mean()\n",
    "chunkeddata_mean[['Genotype', 'Treatment']] = chunkeddata_mean['Strain'].str.split(' - ', 1, expand=True)\n",
    "\n",
    "Title = f\"{var} - {start}-{point} seconds\" #<---------------- Input Here -----------------\n",
    "sns.set_context(\"talk\")\n",
    "plt.figure(linewidth = 2.5)\n",
    "plt.figure(figsize=(15, 3))\n",
    "plt.gca().xaxis.grid(False)\n",
    "ax = sns.barplot(x=\"Genotype\", \n",
    "             y = var, \n",
    "             data = chunkeddata_mean, #<--------------- Input Here -------------\n",
    "             hue = 'Treatment',\n",
    "             edgecolor=\"black\",\n",
    "             linewidth = 2.5,\n",
    "#              seed=5,\n",
    "             ci = 95, # 'sd' for SD, '68' for SEM\n",
    "             palette = ['grey',\n",
    "                        'black'\n",
    "                       ]\n",
    "                )\n",
    "plt.xlabel(\"Strain and Condition\")\n",
    "# plt.ylabel(\"Average Speed (mm/s)\")\n",
    "plt.title(Title)\n",
    "plt.legend(bbox_to_anchor=(1.02, 1), loc=2, borderaxespad=0.)\n",
    "plt.savefig(f'{Title}.png', format='png', dpi=450, bbox_inches = 'tight')\n",
    "plt.show()"
   ]
  },
  {
   "cell_type": "code",
   "execution_count": null,
   "metadata": {},
   "outputs": [],
   "source": [
    "# Test Cell\n",
    "# chunkeddata_mean"
   ]
  },
  {
   "cell_type": "code",
   "execution_count": null,
   "metadata": {},
   "outputs": [],
   "source": [
    "# Test Cell\n",
    "# TotalConcatenated.describe()\n",
    "# chunkeddata0\n",
    "# chunkeddata"
   ]
  },
  {
   "cell_type": "markdown",
   "metadata": {},
   "source": [
    "# Bias Barplots Comparison"
   ]
  },
  {
   "cell_type": "code",
   "execution_count": null,
   "metadata": {},
   "outputs": [],
   "source": [
    "point = 420\n",
    "var = \"bias\"\n",
    "chunkeddata0 = TotalConcatenated[TotalConcatenated[\"time\"] >= 0]\n",
    "chunkeddata = chunkeddata0[chunkeddata0[\"time\"] <= point]\n",
    "\n",
    "Title = f\"{var} - First {point} seconds\" #<---------------- Input Here -----------------\n",
    "sns.set_context(\"talk\")\n",
    "plt.figure(linewidth = 2.5)\n",
    "plt.figure(figsize=(15, 5))\n",
    "plt.gca().xaxis.grid(False)\n",
    "ax = sns.barplot(x=\"Genotype\", \n",
    "             y = var, \n",
    "             data = chunkeddata, #<--------------- Input Here -------------\n",
    "             hue = 'Treatment',\n",
    "             edgecolor=\"black\",\n",
    "             linewidth = 2.5,\n",
    "             ci = None,\n",
    "             palette = ['black',\n",
    "                        'grey'\n",
    "                       ]\n",
    "                )\n",
    "plt.xlabel(\"Strain and Condition\")\n",
    "# plt.ylabel(\"Average Speed (mm/s)\")\n",
    "plt.title(Title)\n",
    "plt.legend(bbox_to_anchor=(1.02, 1), loc=2, borderaxespad=0.)\n",
    "# plt.savefig(f'{Title}.png', format='png', dpi=450, bbox_inches = 'tight')\n",
    "plt.show()"
   ]
  },
  {
   "cell_type": "markdown",
   "metadata": {},
   "source": [
    "# Dispersion Plot (starburst) - *Not Functional In Current Iteration"
   ]
  },
  {
   "cell_type": "code",
   "execution_count": null,
   "metadata": {},
   "outputs": [],
   "source": [
    "timepoint=60 # <---------------------- indicate end timepoint\n",
    "\n",
    "\n",
    "chunkeddata0 = TotalConcatenated[TotalConcatenated[\"time\"] >= 0]\n",
    "chunkeddata = chunkeddata0[chunkeddata0[\"time\"] <= timepoint]\n",
    "\n",
    "Title = f\"0 - {timepoint} seconds\" #<--------------------\n",
    "sns.set(context=\"talk\")\n",
    "# sns.set_context(\"talk\", fontscale=0.5)\n",
    "plt.figure(linewidth = 2.5)\n",
    "plt.figure(figsize=(16, 4))\n",
    "g = sns.FacetGrid(chunkeddata, row = \"Treatment\", col = \"Genotype\", margin_titles=True) #<--------------------------\n",
    "g.map_dataframe(sns.scatterplot, \"x_0\", \"y_0\", hue=\"time\", palette = \"YlOrBr\", linewidth=0, alpha=0.7, s=2)\n",
    "g.set_axis_labels(\"x position\", \"y position\")\n",
    "g.set_titles(col_template=\"{col_name}\", row_template=\"{row_name}\")\n",
    "# g.fig.subplots_adjust(top=0.8)\n",
    "g.fig.suptitle(f\"{Title} Dispersion map\", y=1.05)\n",
    "g.tight_layout()\n",
    "# plt.savefig(f'{Title} Dispersion map.png', format='png', dpi=900, bbox_inches = 'tight')"
   ]
  },
  {
   "cell_type": "markdown",
   "metadata": {},
   "source": [
    "# Total Distance Traveled Trace - *Not Functional In Current Iteration"
   ]
  },
  {
   "cell_type": "code",
   "execution_count": null,
   "metadata": {},
   "outputs": [],
   "source": [
    "start=50\n",
    "timepoint=420 # <---------------------- indicate end timepoint\n",
    "\n",
    "\n",
    "chunkeddata0 = TotalConcatenated[TotalConcatenated[\"time\"] >= start]\n",
    "chunkeddata = chunkeddata0[chunkeddata0[\"time\"] <= timepoint]\n",
    "\n",
    "Title = f\"{start} - {timepoint} seconds\" #<--------------------\n",
    "sns.set(context=\"talk\")\n",
    "# sns.set_context(\"talk\", fontscale=0.5)\n",
    "plt.figure(linewidth = 2.5)\n",
    "plt.figure(figsize=(16, 4))\n",
    "g = sns.FacetGrid(chunkeddata, row = \"Treatment\", col = \"Genotype\", margin_titles=True, ylim=[0,15]) #<---- set y-lim\n",
    "g.map_dataframe(sns.scatterplot, \"time\", \"distance\", hue=\"worm\", palette = \"colorblind\", linewidth=0, alpha=0.7, s=2)\n",
    "# g.set_axis_labels(\"x position\", \"y position\")\n",
    "g.set_titles(col_template=\"{col_name}\", row_template=\"{row_name}\")\n",
    "# g.fig.subplots_adjust(top=0.8)\n",
    "g.fig.suptitle(f'{Title} Total Distance Traveled Trace', y=1.05)\n",
    "g.tight_layout()\n",
    "# plt.savefig(f'{Title} Total Distance Traveled Trace.png', format='png', dpi=900, bbox_inches = 'tight')"
   ]
  },
  {
   "cell_type": "code",
   "execution_count": null,
   "metadata": {},
   "outputs": [],
   "source": []
  },
  {
   "cell_type": "markdown",
   "metadata": {},
   "source": [
    "# Done!"
   ]
  },
  {
   "cell_type": "code",
   "execution_count": null,
   "metadata": {},
   "outputs": [],
   "source": [
    "AfterOneHundredSecs = TotalConcatenated[TotalConcatenated[\"time_bin\"] >= 100].reset_index(drop=True)\n",
    "print(AfterOneHundredSecs)"
   ]
  },
  {
   "cell_type": "code",
   "execution_count": null,
   "metadata": {},
   "outputs": [],
   "source": [
    "AfterOneHundredMean = AfterOneHundredSecs.groupby([\"Strain\", \"worm\", \"Genotype\", \"Treatment\"], as_index=False).mean()\n",
    "print(AfterOneHundredMean)"
   ]
  },
  {
   "cell_type": "code",
   "execution_count": null,
   "metadata": {},
   "outputs": [],
   "source": [
    "# Valid Measurement inputs(change var)\n",
    "# 1:'speed', <---\n",
    "# 2: \"x\",\n",
    "# 3: \"y\",\n",
    "# 4: \"angularspeed\", <-----\n",
    "# 5: \"pathlength\",\n",
    "# 6: \"kink\",  <---\n",
    "# 7: \"bias\", <----\n",
    "# 8: \"curve\", <---\n",
    "# 9: \"dir\",<----\n",
    "# 10: \"crab\",<----\n",
    "# 11: \"length\",<---\n",
    "# 12: \"midline\",<----\n",
    "# 13: \"width\",<----\n",
    "# 14: \"morphwidth\",<----\n",
    "# 15: \"area\"<----\n",
    "\n",
    "\n",
    "var = \"speed\"\n",
    "\n",
    "Title = f\"{var}\" #<---------------- Input Here -----------------\n",
    "sns.set_context(\"talk\")\n",
    "plt.figure(linewidth = 2.5)\n",
    "plt.figure(figsize=(15, 3))\n",
    "plt.gca().xaxis.grid(False)\n",
    "ax = sns.barplot(x=\"Genotype\", \n",
    "             y = var, \n",
    "             data = AfterOneHundredMean, #<--------------- Input Here -------------\n",
    "             hue = 'Treatment',\n",
    "             edgecolor=\"black\",\n",
    "             linewidth = 2.5,\n",
    "#              seed=5,\n",
    "             ci = 95, # 'sd' for SD, '68' for SEM\n",
    "             palette = ['grey',\n",
    "                        'black'\n",
    "                       ]\n",
    "                )\n",
    "plt.xlabel(\"Strain and Condition\")\n",
    "# plt.ylabel(\"Average Speed (mm/s)\")\n",
    "plt.title(Title)\n",
    "plt.legend(bbox_to_anchor=(1.02, 1), loc=2, borderaxespad=0.)\n",
    "# plt.savefig(f'{Title}.png', format='png', dpi=450, bbox_inches = 'tight')\n",
    "plt.show()"
   ]
  },
  {
   "cell_type": "code",
   "execution_count": null,
   "metadata": {},
   "outputs": [],
   "source": [
    "AfterOneHundredCAT = AfterOneHundredMean[AfterOneHundredMean.Genotype != \"Test\"]\n",
    "AfterOneHundredTEST = AfterOneHundredMean[AfterOneHundredMean.Genotype != \"cat-2 (e1112)\"]\n"
   ]
  },
  {
   "cell_type": "code",
   "execution_count": null,
   "metadata": {},
   "outputs": [],
   "source": [
    "print(AfterOneHundredMean)\n",
    "print(AfterOneHundredCAT)\n",
    "print(AfterOneHundredTEST)"
   ]
  },
  {
   "cell_type": "code",
   "execution_count": null,
   "metadata": {},
   "outputs": [],
   "source": [
    "AfterOneHundredCAT.anova(dv=\"speed\", between=[\"Genotype\",\"Treatment\"])"
   ]
  },
  {
   "cell_type": "code",
   "execution_count": null,
   "metadata": {},
   "outputs": [],
   "source": [
    "AfterOneHundredTEST.anova(dv=\"speed\", between=[\"Genotype\",\"Treatment\"]).round(7)"
   ]
  },
  {
   "cell_type": "code",
   "execution_count": null,
   "metadata": {},
   "outputs": [],
   "source": []
  }
 ],
 "metadata": {
  "kernelspec": {
   "display_name": "Python 3 (ipykernel)",
   "language": "python",
   "name": "python3"
  },
  "language_info": {
   "codemirror_mode": {
    "name": "ipython",
    "version": 3
   },
   "file_extension": ".py",
   "mimetype": "text/x-python",
   "name": "python",
   "nbconvert_exporter": "python",
   "pygments_lexer": "ipython3",
   "version": "3.10.9"
  }
 },
 "nbformat": 4,
 "nbformat_minor": 4
}
