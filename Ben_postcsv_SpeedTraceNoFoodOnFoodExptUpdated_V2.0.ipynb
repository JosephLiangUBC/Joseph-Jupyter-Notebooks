{
 "cells": [
  {
   "cell_type": "code",
   "execution_count": 1,
   "metadata": {},
   "outputs": [
    {
     "name": "stdout",
     "output_type": "stream",
     "text": [
      "done step 1\n"
     ]
    },
    {
     "name": "stderr",
     "output_type": "stream",
     "text": [
      "/opt/miniconda3/lib/python3.9/site-packages/outdated/utils.py:14: OutdatedPackageWarning: The package pingouin is out of date. Your version is 0.5.2, the latest is 0.5.3.\n",
      "Set the environment variable OUTDATED_IGNORE=1 to disable these warnings.\n",
      "  return warn(\n",
      "/opt/miniconda3/lib/python3.9/site-packages/outdated/utils.py:14: OutdatedPackageWarning: The package outdated is out of date. Your version is 0.2.1, the latest is 0.2.2.\n",
      "Set the environment variable OUTDATED_IGNORE=1 to disable these warnings.\n",
      "  return warn(\n"
     ]
    }
   ],
   "source": [
    "import pandas as pd #<- package used to import and organize data\n",
    "import numpy as np #<- package used to import and organize data\n",
    "import seaborn as sns #<- package used to plot graphs\n",
    "from matplotlib import pyplot as plt #<- package used to plot graphs\n",
    "import os #<- package used to work with system filepaths\n",
    "from ipywidgets import widgets #<- widget tool to generate button\n",
    "from IPython.display import display #<- displays button\n",
    "from tkinter import Tk, filedialog #<- Tkinter is a GUI package\n",
    "from tqdm.notebook import tqdm\n",
    "import dask.dataframe as dd\n",
    "import pingouin as pg\n",
    "pd.set_option('display.max_columns', 50)\n",
    "print(\"done step 1\")"
   ]
  },
  {
   "cell_type": "markdown",
   "metadata": {},
   "source": [
    "# 8.2 Speed Trace Plot"
   ]
  },
  {
   "cell_type": "code",
   "execution_count": null,
   "metadata": {},
   "outputs": [],
   "source": [
    "# Setting viewing range for your graph\n",
    "top = 0.35\n",
    "bottom = 0\n",
    "left = 0\n",
    "right = 420\n",
    "\n",
    "sns.set_context(\"talk\")\n",
    "plt.figure(linewidth = 2.5)\n",
    "plt.figure(figsize=(12,7))\n",
    "plt.gca().xaxis.grid(False)\n",
    "ax = sns.lineplot(x=\"time_bin\", \n",
    "             y=\"speed\", \n",
    "             data = TotalConcatenated,\n",
    "             hue = 'Strain',\n",
    "             palette = ['black',\n",
    "                        'grey',\n",
    "                        '#FF00FF',\n",
    "                        '#8B008B',\n",
    "                        'green',\n",
    "                        'lightgreen',\n",
    "                        'royalblue',\n",
    "                        'lightblue',\n",
    "#                         '#FFB5C5',\n",
    "#                         '#CD6889'\n",
    "                       ])\n",
    "plt.xlabel(\"Time (s)\")\n",
    "# plt.ylabel(\"Speed (mm/s)\")\n",
    "# plt.title(\"Speed Trace\")\n",
    "# plt.ylim(top = top)\n",
    "plt.ylim(bottom = bottom)\n",
    "plt.xlim(left= left)\n",
    "plt.xlim(right = right)\n",
    "ax.legend(loc = 'upper right', fontsize = '10')\n",
    "# plt.savefig(f'Speed_Trace_{left}to{right}s.png', format='png', dpi=450)\n",
    "plt.show()"
   ]
  },
  {
   "cell_type": "markdown",
   "metadata": {},
   "source": [
    "# BSR bar plot (differences of differences)"
   ]
  },
  {
   "cell_type": "markdown",
   "metadata": {},
   "source": [
    "Calculates worm speed average over designated time period"
   ]
  },
  {
   "cell_type": "code",
   "execution_count": 22,
   "metadata": {},
   "outputs": [
    {
     "name": "stdout",
     "output_type": "stream",
     "text": [
      "           Genotype     speed     Score\n",
      "4      cat-2(e1112)  0.026952 -0.060597\n",
      "16   rskd-1(tm4031)  0.046121 -0.041428\n",
      "18    sac-2(ok2743)  0.059842 -0.027706\n",
      "20    set-2(ok1484)  0.066314 -0.021235\n",
      "12   igcm-2(ok1527)  0.067801 -0.019748\n",
      "8     gba-4(tm3314)  0.076095 -0.011454\n",
      "14   lfe-2(tm14109)  0.078571 -0.008978\n",
      "0                N2  0.084881 -0.002668\n",
      "2   R07G3.8(tm5683)  0.087549  0.000000\n",
      "10   hipr-1(ok1081)  0.097154  0.009605\n",
      "6     gba-2(tm4623)  0.098493  0.010944\n"
     ]
    }
   ],
   "source": [
    "start = 100 #<----- set the start time of the range\n",
    "point = 400 #<------- set the end time of your range\n",
    "chunkeddata0 = TotalConcatenated[TotalConcatenated[\"time\"] >= start]\n",
    "chunkeddata = chunkeddata0[chunkeddata0[\"time\"] <= point]\n",
    "chunkeddata_mean = chunkeddata.groupby([\"Strain\",\"worm\"], as_index=False).mean()\n",
    "chunkeddata_mean[['Genotype', 'Treatment']] = chunkeddata_mean['Strain'].str.split('_', 1, expand=True)\n",
    "worm_avg_speed = chunkeddata_mean[['Genotype', 'Treatment', 'Strain', 'speed']]\n",
    "avg_speed = worm_avg_speed.groupby([\"Strain\", 'Treatment', 'Genotype'], as_index=False).mean()\n",
    "# print(avg_speed)\n",
    "\n",
    "# avg_speed.to_csv(\"avg_speed.csv\")\n",
    "\n",
    "speed_diff = avg_speed.drop(columns=[\"Strain\", \"Treatment\"]).groupby(\"Genotype\", as_index=False).diff(periods=-1).dropna()\n",
    "speed_diff.insert(loc=0, column='Genotype', value=avg_speed['Genotype'].unique())\n",
    "speed_diff.reset_index(drop=True)\n",
    "# print(speed_diff)\n",
    "# print(speed_diff.iloc[1,1])\n",
    "speed_diff['Score']=speed_diff['speed']-speed_diff.iloc[1,1]\n",
    "speed_diff=speed_diff.sort_values(by=[\"Score\"])\n",
    "print(speed_diff)"
   ]
  },
  {
   "cell_type": "code",
   "execution_count": 23,
   "metadata": {},
   "outputs": [
    {
     "name": "stdout",
     "output_type": "stream",
     "text": [
      "0.02695176\n"
     ]
    }
   ],
   "source": [
    "print(speed_diff.iloc[0,1])"
   ]
  },
  {
   "cell_type": "code",
   "execution_count": 24,
   "metadata": {},
   "outputs": [
    {
     "name": "stdout",
     "output_type": "stream",
     "text": [
      "                     Strain Treatment         Genotype     speed  new\n",
      "0                N2_OffFood   OffFood               N2  0.184379    1\n",
      "1                 N2_OnFood    OnFood               N2  0.099498    2\n",
      "2   R07G3.8(tm5683)_OffFood   OffFood  R07G3.8(tm5683)  0.162168    3\n",
      "3    R07G3.8(tm5683)_OnFood    OnFood  R07G3.8(tm5683)  0.074619    4\n",
      "4      cat-2(e1112)_OffFood   OffFood     cat-2(e1112)  0.206655    0\n",
      "5       cat-2(e1112)_OnFood    OnFood     cat-2(e1112)  0.179703    6\n",
      "6     gba-2(tm4623)_OffFood   OffFood    gba-2(tm4623)  0.165795    7\n",
      "7      gba-2(tm4623)_OnFood    OnFood    gba-2(tm4623)  0.067302    8\n",
      "8     gba-4(tm3314)_OffFood   OffFood    gba-4(tm3314)  0.134118    9\n",
      "9      gba-4(tm3314)_OnFood    OnFood    gba-4(tm3314)  0.058024   10\n",
      "10   hipr-1(ok1081)_OffFood   OffFood   hipr-1(ok1081)  0.183673   11\n",
      "11    hipr-1(ok1081)_OnFood    OnFood   hipr-1(ok1081)  0.086518   12\n",
      "12   igcm-2(ok1527)_OffFood   OffFood   igcm-2(ok1527)  0.169181   13\n",
      "13    igcm-2(ok1527)_OnFood    OnFood   igcm-2(ok1527)  0.101381   14\n",
      "14   lfe-2(tm14109)_OffFood   OffFood   lfe-2(tm14109)  0.159593   15\n",
      "15    lfe-2(tm14109)_OnFood    OnFood   lfe-2(tm14109)  0.081022   16\n",
      "16   rskd-1(tm4031)_OffFood   OffFood   rskd-1(tm4031)  0.092762   17\n",
      "17    rskd-1(tm4031)_OnFood    OnFood   rskd-1(tm4031)  0.046641   18\n",
      "18    sac-2(ok2743)_OffFood   OffFood    sac-2(ok2743)  0.137757   19\n",
      "19     sac-2(ok2743)_OnFood    OnFood    sac-2(ok2743)  0.077915   20\n",
      "20    set-2(ok1484)_OffFood   OffFood    set-2(ok1484)  0.142987   21\n",
      "21     set-2(ok1484)_OnFood    OnFood    set-2(ok1484)  0.076673   22\n"
     ]
    }
   ],
   "source": [
    "avg_speed[\"new\"] = range(1,len(avg_speed)+1)\n",
    "avg_speed.loc[avg_speed.index==4, 'new'] = 0\n",
    "avg_speed.loc[avg_speed.index==4, 'new'] = 0\n",
    "print(avg_speed)\n",
    "# avg_speed.sort_values(\"new\").drop('new', axis=1)"
   ]
  },
  {
   "cell_type": "markdown",
   "metadata": {},
   "source": [
    "## Making the bar plot"
   ]
  },
  {
   "cell_type": "code",
   "execution_count": 25,
   "metadata": {},
   "outputs": [
    {
     "data": {
      "text/plain": [
       "<Figure size 432x288 with 0 Axes>"
      ]
     },
     "metadata": {},
     "output_type": "display_data"
    },
    {
     "data": {
      "image/png": "[encoded data removed]",
      "text/plain": [
       "<Figure size 1080x360 with 1 Axes>"
      ]
     },
     "metadata": {
      "needs_background": "light"
     },
     "output_type": "display_data"
    }
   ],
   "source": [
    "Title = \"BSR Score\" #<---------------- Input Here -----------------\n",
    "sns.set_context(\"talk\")\n",
    "plt.figure(linewidth = 1)\n",
    "plt.figure(figsize=(15, 5))\n",
    "plt.gca().xaxis.grid(False)\n",
    "ax = sns.barplot(x=\"Genotype\", \n",
    "             y = 'Score', \n",
    "             data = speed_diff, #<--------------- Input Here -------------\n",
    "             color = 'CornflowerBlue',\n",
    "             edgecolor=\"DodgerBlue\",\n",
    "             linewidth = 2.5,\n",
    "#              seed=5,\n",
    "#              ci = 95, # 'sd' for SD, '68' for SEM\n",
    "#              palette = ['grey',\n",
    "#                         'black'\n",
    "#                        ]\n",
    "                )\n",
    "plt.xlabel(\"Genotype\")\n",
    "plt.xticks(rotation=90)\n",
    "plt.ylabel(\"BSR Score (Normalized to N2)\")\n",
    "plt.ylim(top = 0.1)\n",
    "plt.ylim(bottom = -0.1)\n",
    "plt.title(Title)\n",
    "# plt.legend(bbox_to_anchor=(1.02, 1), loc=2, borderaxespad=0.)\n",
    "plt.savefig(f'{Title}.png', format='png', dpi=450, bbox_inches = 'tight')\n",
    "plt.show()"
   ]
  },
  {
   "cell_type": "code",
   "execution_count": null,
   "metadata": {},
   "outputs": [],
   "source": []
  },
  {
   "cell_type": "markdown",
   "metadata": {},
   "source": [
    "# 8.3 Graphing Bar Graphs"
   ]
  },
  {
   "cell_type": "markdown",
   "metadata": {},
   "source": [
    "# Speed Barplots Comparison"
   ]
  },
  {
   "cell_type": "code",
   "execution_count": 26,
   "metadata": {},
   "outputs": [
    {
     "ename": "ValueError",
     "evalue": "Columns must be same length as key",
     "output_type": "error",
     "traceback": [
      "\u001b[0;31m---------------------------------------------------------------------------\u001b[0m",
      "\u001b[0;31mValueError\u001b[0m                                Traceback (most recent call last)",
      "Cell \u001b[0;32mIn [26], line 24\u001b[0m\n\u001b[1;32m     22\u001b[0m chunkeddata \u001b[38;5;241m=\u001b[39m chunkeddata0[chunkeddata0[\u001b[38;5;124m\"\u001b[39m\u001b[38;5;124mtime\u001b[39m\u001b[38;5;124m\"\u001b[39m] \u001b[38;5;241m<\u001b[39m\u001b[38;5;241m=\u001b[39m point]\n\u001b[1;32m     23\u001b[0m chunkeddata_mean \u001b[38;5;241m=\u001b[39m chunkeddata\u001b[38;5;241m.\u001b[39mgroupby([\u001b[38;5;124m\"\u001b[39m\u001b[38;5;124mStrain\u001b[39m\u001b[38;5;124m\"\u001b[39m,\u001b[38;5;124m\"\u001b[39m\u001b[38;5;124mworm\u001b[39m\u001b[38;5;124m\"\u001b[39m], as_index\u001b[38;5;241m=\u001b[39m\u001b[38;5;28;01mFalse\u001b[39;00m)\u001b[38;5;241m.\u001b[39mmean()\n\u001b[0;32m---> 24\u001b[0m \u001b[43mchunkeddata_mean\u001b[49m\u001b[43m[\u001b[49m\u001b[43m[\u001b[49m\u001b[38;5;124;43m'\u001b[39;49m\u001b[38;5;124;43mGenotype\u001b[39;49m\u001b[38;5;124;43m'\u001b[39;49m\u001b[43m,\u001b[49m\u001b[43m \u001b[49m\u001b[38;5;124;43m'\u001b[39;49m\u001b[38;5;124;43mTreatment\u001b[39;49m\u001b[38;5;124;43m'\u001b[39;49m\u001b[43m]\u001b[49m\u001b[43m]\u001b[49m \u001b[38;5;241m=\u001b[39m chunkeddata_mean[\u001b[38;5;124m'\u001b[39m\u001b[38;5;124mStrain\u001b[39m\u001b[38;5;124m'\u001b[39m]\u001b[38;5;241m.\u001b[39mstr\u001b[38;5;241m.\u001b[39msplit(\u001b[38;5;124m'\u001b[39m\u001b[38;5;124m - \u001b[39m\u001b[38;5;124m'\u001b[39m, \u001b[38;5;241m1\u001b[39m, expand\u001b[38;5;241m=\u001b[39m\u001b[38;5;28;01mTrue\u001b[39;00m)\n\u001b[1;32m     26\u001b[0m Title \u001b[38;5;241m=\u001b[39m \u001b[38;5;124mf\u001b[39m\u001b[38;5;124m\"\u001b[39m\u001b[38;5;132;01m{\u001b[39;00mvar\u001b[38;5;132;01m}\u001b[39;00m\u001b[38;5;124m - \u001b[39m\u001b[38;5;132;01m{\u001b[39;00mstart\u001b[38;5;132;01m}\u001b[39;00m\u001b[38;5;124m-\u001b[39m\u001b[38;5;132;01m{\u001b[39;00mpoint\u001b[38;5;132;01m}\u001b[39;00m\u001b[38;5;124m seconds\u001b[39m\u001b[38;5;124m\"\u001b[39m \u001b[38;5;66;03m#<---------------- Input Here -----------------\u001b[39;00m\n\u001b[1;32m     27\u001b[0m sns\u001b[38;5;241m.\u001b[39mset_context(\u001b[38;5;124m\"\u001b[39m\u001b[38;5;124mtalk\u001b[39m\u001b[38;5;124m\"\u001b[39m)\n",
      "File \u001b[0;32m/opt/miniconda3/lib/python3.9/site-packages/pandas/core/frame.py:3966\u001b[0m, in \u001b[0;36mDataFrame.__setitem__\u001b[0;34m(self, key, value)\u001b[0m\n\u001b[1;32m   3964\u001b[0m     \u001b[38;5;28mself\u001b[39m\u001b[38;5;241m.\u001b[39m_setitem_frame(key, value)\n\u001b[1;32m   3965\u001b[0m \u001b[38;5;28;01melif\u001b[39;00m \u001b[38;5;28misinstance\u001b[39m(key, (Series, np\u001b[38;5;241m.\u001b[39mndarray, \u001b[38;5;28mlist\u001b[39m, Index)):\n\u001b[0;32m-> 3966\u001b[0m     \u001b[38;5;28;43mself\u001b[39;49m\u001b[38;5;241;43m.\u001b[39;49m\u001b[43m_setitem_array\u001b[49m\u001b[43m(\u001b[49m\u001b[43mkey\u001b[49m\u001b[43m,\u001b[49m\u001b[43m \u001b[49m\u001b[43mvalue\u001b[49m\u001b[43m)\u001b[49m\n\u001b[1;32m   3967\u001b[0m \u001b[38;5;28;01melif\u001b[39;00m \u001b[38;5;28misinstance\u001b[39m(value, DataFrame):\n\u001b[1;32m   3968\u001b[0m     \u001b[38;5;28mself\u001b[39m\u001b[38;5;241m.\u001b[39m_set_item_frame_value(key, value)\n",
      "File \u001b[0;32m/opt/miniconda3/lib/python3.9/site-packages/pandas/core/frame.py:4008\u001b[0m, in \u001b[0;36mDataFrame._setitem_array\u001b[0;34m(self, key, value)\u001b[0m\n\u001b[1;32m   4003\u001b[0m \u001b[38;5;28;01melse\u001b[39;00m:\n\u001b[1;32m   4004\u001b[0m     \u001b[38;5;66;03m# Note: unlike self.iloc[:, indexer] = value, this will\u001b[39;00m\n\u001b[1;32m   4005\u001b[0m     \u001b[38;5;66;03m#  never try to overwrite values inplace\u001b[39;00m\n\u001b[1;32m   4007\u001b[0m     \u001b[38;5;28;01mif\u001b[39;00m \u001b[38;5;28misinstance\u001b[39m(value, DataFrame):\n\u001b[0;32m-> 4008\u001b[0m         \u001b[43mcheck_key_length\u001b[49m\u001b[43m(\u001b[49m\u001b[38;5;28;43mself\u001b[39;49m\u001b[38;5;241;43m.\u001b[39;49m\u001b[43mcolumns\u001b[49m\u001b[43m,\u001b[49m\u001b[43m \u001b[49m\u001b[43mkey\u001b[49m\u001b[43m,\u001b[49m\u001b[43m \u001b[49m\u001b[43mvalue\u001b[49m\u001b[43m)\u001b[49m\n\u001b[1;32m   4009\u001b[0m         \u001b[38;5;28;01mfor\u001b[39;00m k1, k2 \u001b[38;5;129;01min\u001b[39;00m \u001b[38;5;28mzip\u001b[39m(key, value\u001b[38;5;241m.\u001b[39mcolumns):\n\u001b[1;32m   4010\u001b[0m             \u001b[38;5;28mself\u001b[39m[k1] \u001b[38;5;241m=\u001b[39m value[k2]\n",
      "File \u001b[0;32m/opt/miniconda3/lib/python3.9/site-packages/pandas/core/indexers/utils.py:402\u001b[0m, in \u001b[0;36mcheck_key_length\u001b[0;34m(columns, key, value)\u001b[0m\n\u001b[1;32m    400\u001b[0m \u001b[38;5;28;01mif\u001b[39;00m columns\u001b[38;5;241m.\u001b[39mis_unique:\n\u001b[1;32m    401\u001b[0m     \u001b[38;5;28;01mif\u001b[39;00m \u001b[38;5;28mlen\u001b[39m(value\u001b[38;5;241m.\u001b[39mcolumns) \u001b[38;5;241m!=\u001b[39m \u001b[38;5;28mlen\u001b[39m(key):\n\u001b[0;32m--> 402\u001b[0m         \u001b[38;5;28;01mraise\u001b[39;00m \u001b[38;5;167;01mValueError\u001b[39;00m(\u001b[38;5;124m\"\u001b[39m\u001b[38;5;124mColumns must be same length as key\u001b[39m\u001b[38;5;124m\"\u001b[39m)\n\u001b[1;32m    403\u001b[0m \u001b[38;5;28;01melse\u001b[39;00m:\n\u001b[1;32m    404\u001b[0m     \u001b[38;5;66;03m# Missing keys in columns are represented as -1\u001b[39;00m\n\u001b[1;32m    405\u001b[0m     \u001b[38;5;28;01mif\u001b[39;00m \u001b[38;5;28mlen\u001b[39m(columns\u001b[38;5;241m.\u001b[39mget_indexer_non_unique(key)[\u001b[38;5;241m0\u001b[39m]) \u001b[38;5;241m!=\u001b[39m \u001b[38;5;28mlen\u001b[39m(value\u001b[38;5;241m.\u001b[39mcolumns):\n",
      "\u001b[0;31mValueError\u001b[0m: Columns must be same length as key"
     ]
    }
   ],
   "source": [
    "# Valid Measurement inputs(change var)\n",
    "# 1:'speed', <---\n",
    "# 2: \"x\",\n",
    "# 3: \"y\",\n",
    "# 4: \"angularspeed\", <-----\n",
    "# 5: \"pathlength\",\n",
    "# 6: \"kink\",  <---\n",
    "# 7: \"bias\", <----\n",
    "# 8: \"curve\", <---\n",
    "# 9: \"dir\",<----\n",
    "# 10: \"crab\",<----\n",
    "# 11: \"length\",<---\n",
    "# 12: \"midline\",<----\n",
    "# 13: \"width\",<----\n",
    "# 14: \"morphwidth\",<----\n",
    "# 15: \"area\"<----\n",
    "\n",
    "start = 200\n",
    "point = 400\n",
    "var = \"area\"\n",
    "chunkeddata0 = TotalConcatenated[TotalConcatenated[\"time\"] >= start]\n",
    "chunkeddata = chunkeddata0[chunkeddata0[\"time\"] <= point]\n",
    "chunkeddata_mean = chunkeddata.groupby([\"Strain\",\"worm\"], as_index=False).mean()\n",
    "chunkeddata_mean[['Genotype', 'Treatment']] = chunkeddata_mean['Strain'].str.split(' - ', 1, expand=True)\n",
    "\n",
    "Title = f\"{var} - {start}-{point} seconds\" #<---------------- Input Here -----------------\n",
    "sns.set_context(\"talk\")\n",
    "plt.figure(linewidth = 2.5)\n",
    "plt.figure(figsize=(15, 3))\n",
    "plt.gca().xaxis.grid(False)\n",
    "ax = sns.barplot(x=\"Genotype\", \n",
    "             y = var, \n",
    "             data = chunkeddata_mean, #<--------------- Input Here -------------\n",
    "             hue = 'Treatment',\n",
    "             edgecolor=\"black\",\n",
    "             linewidth = 2.5,\n",
    "#              seed=5,\n",
    "             ci = 95, # 'sd' for SD, '68' for SEM\n",
    "             palette = ['grey',\n",
    "                        'black'\n",
    "                       ]\n",
    "                )\n",
    "plt.xlabel(\"Strain and Condition\")\n",
    "# plt.ylabel(\"Average Speed (mm/s)\")\n",
    "plt.title(Title)\n",
    "plt.legend(bbox_to_anchor=(1.02, 1), loc=2, borderaxespad=0.)\n",
    "plt.savefig(f'{Title}.png', format='png', dpi=450, bbox_inches = 'tight')\n",
    "plt.show()"
   ]
  },
  {
   "cell_type": "code",
   "execution_count": 27,
   "metadata": {},
   "outputs": [],
   "source": [
    "# Test Cell\n",
    "# chunkeddata_mean"
   ]
  },
  {
   "cell_type": "code",
   "execution_count": 28,
   "metadata": {},
   "outputs": [],
   "source": [
    "# Test Cell\n",
    "# TotalConcatenated.describe()\n",
    "# chunkeddata0\n",
    "# chunkeddata"
   ]
  },
  {
   "cell_type": "markdown",
   "metadata": {},
   "source": [
    "# Bias Barplots Comparison"
   ]
  },
  {
   "cell_type": "code",
   "execution_count": 29,
   "metadata": {},
   "outputs": [
    {
     "ename": "ValueError",
     "evalue": "Could not interpret input 'Genotype'",
     "output_type": "error",
     "traceback": [
      "\u001b[0;31m---------------------------------------------------------------------------\u001b[0m",
      "\u001b[0;31mValueError\u001b[0m                                Traceback (most recent call last)",
      "Cell \u001b[0;32mIn [29], line 11\u001b[0m\n\u001b[1;32m      9\u001b[0m plt\u001b[38;5;241m.\u001b[39mfigure(figsize\u001b[38;5;241m=\u001b[39m(\u001b[38;5;241m15\u001b[39m, \u001b[38;5;241m5\u001b[39m))\n\u001b[1;32m     10\u001b[0m plt\u001b[38;5;241m.\u001b[39mgca()\u001b[38;5;241m.\u001b[39mxaxis\u001b[38;5;241m.\u001b[39mgrid(\u001b[38;5;28;01mFalse\u001b[39;00m)\n\u001b[0;32m---> 11\u001b[0m ax \u001b[38;5;241m=\u001b[39m \u001b[43msns\u001b[49m\u001b[38;5;241;43m.\u001b[39;49m\u001b[43mbarplot\u001b[49m\u001b[43m(\u001b[49m\u001b[43mx\u001b[49m\u001b[38;5;241;43m=\u001b[39;49m\u001b[38;5;124;43m\"\u001b[39;49m\u001b[38;5;124;43mGenotype\u001b[39;49m\u001b[38;5;124;43m\"\u001b[39;49m\u001b[43m,\u001b[49m\u001b[43m \u001b[49m\n\u001b[1;32m     12\u001b[0m \u001b[43m             \u001b[49m\u001b[43my\u001b[49m\u001b[43m \u001b[49m\u001b[38;5;241;43m=\u001b[39;49m\u001b[43m \u001b[49m\u001b[43mvar\u001b[49m\u001b[43m,\u001b[49m\u001b[43m \u001b[49m\n\u001b[1;32m     13\u001b[0m \u001b[43m             \u001b[49m\u001b[43mdata\u001b[49m\u001b[43m \u001b[49m\u001b[38;5;241;43m=\u001b[39;49m\u001b[43m \u001b[49m\u001b[43mchunkeddata\u001b[49m\u001b[43m,\u001b[49m\u001b[43m \u001b[49m\u001b[38;5;66;43;03m#<--------------- Input Here -------------\u001b[39;49;00m\n\u001b[1;32m     14\u001b[0m \u001b[43m             \u001b[49m\u001b[43mhue\u001b[49m\u001b[43m \u001b[49m\u001b[38;5;241;43m=\u001b[39;49m\u001b[43m \u001b[49m\u001b[38;5;124;43m'\u001b[39;49m\u001b[38;5;124;43mTreatment\u001b[39;49m\u001b[38;5;124;43m'\u001b[39;49m\u001b[43m,\u001b[49m\n\u001b[1;32m     15\u001b[0m \u001b[43m             \u001b[49m\u001b[43medgecolor\u001b[49m\u001b[38;5;241;43m=\u001b[39;49m\u001b[38;5;124;43m\"\u001b[39;49m\u001b[38;5;124;43mblack\u001b[39;49m\u001b[38;5;124;43m\"\u001b[39;49m\u001b[43m,\u001b[49m\n\u001b[1;32m     16\u001b[0m \u001b[43m             \u001b[49m\u001b[43mlinewidth\u001b[49m\u001b[43m \u001b[49m\u001b[38;5;241;43m=\u001b[39;49m\u001b[43m \u001b[49m\u001b[38;5;241;43m2.5\u001b[39;49m\u001b[43m,\u001b[49m\n\u001b[1;32m     17\u001b[0m \u001b[43m             \u001b[49m\u001b[43mci\u001b[49m\u001b[43m \u001b[49m\u001b[38;5;241;43m=\u001b[39;49m\u001b[43m \u001b[49m\u001b[38;5;28;43;01mNone\u001b[39;49;00m\u001b[43m,\u001b[49m\n\u001b[1;32m     18\u001b[0m \u001b[43m             \u001b[49m\u001b[43mpalette\u001b[49m\u001b[43m \u001b[49m\u001b[38;5;241;43m=\u001b[39;49m\u001b[43m \u001b[49m\u001b[43m[\u001b[49m\u001b[38;5;124;43m'\u001b[39;49m\u001b[38;5;124;43mblack\u001b[39;49m\u001b[38;5;124;43m'\u001b[39;49m\u001b[43m,\u001b[49m\n\u001b[1;32m     19\u001b[0m \u001b[43m                        \u001b[49m\u001b[38;5;124;43m'\u001b[39;49m\u001b[38;5;124;43mgrey\u001b[39;49m\u001b[38;5;124;43m'\u001b[39;49m\n\u001b[1;32m     20\u001b[0m \u001b[43m                       \u001b[49m\u001b[43m]\u001b[49m\n\u001b[1;32m     21\u001b[0m \u001b[43m                \u001b[49m\u001b[43m)\u001b[49m\n\u001b[1;32m     22\u001b[0m plt\u001b[38;5;241m.\u001b[39mxlabel(\u001b[38;5;124m\"\u001b[39m\u001b[38;5;124mStrain and Condition\u001b[39m\u001b[38;5;124m\"\u001b[39m)\n\u001b[1;32m     23\u001b[0m \u001b[38;5;66;03m# plt.ylabel(\"Average Speed (mm/s)\")\u001b[39;00m\n",
      "File \u001b[0;32m/opt/miniconda3/lib/python3.9/site-packages/seaborn/categorical.py:2753\u001b[0m, in \u001b[0;36mbarplot\u001b[0;34m(data, x, y, hue, order, hue_order, estimator, errorbar, n_boot, units, seed, orient, color, palette, saturation, width, errcolor, errwidth, capsize, dodge, ci, ax, **kwargs)\u001b[0m\n\u001b[1;32m   2750\u001b[0m \u001b[38;5;28;01mif\u001b[39;00m estimator \u001b[38;5;129;01mis\u001b[39;00m \u001b[38;5;28mlen\u001b[39m:\n\u001b[1;32m   2751\u001b[0m     estimator \u001b[38;5;241m=\u001b[39m \u001b[38;5;124m\"\u001b[39m\u001b[38;5;124msize\u001b[39m\u001b[38;5;124m\"\u001b[39m\n\u001b[0;32m-> 2753\u001b[0m plotter \u001b[38;5;241m=\u001b[39m \u001b[43m_BarPlotter\u001b[49m\u001b[43m(\u001b[49m\u001b[43mx\u001b[49m\u001b[43m,\u001b[49m\u001b[43m \u001b[49m\u001b[43my\u001b[49m\u001b[43m,\u001b[49m\u001b[43m \u001b[49m\u001b[43mhue\u001b[49m\u001b[43m,\u001b[49m\u001b[43m \u001b[49m\u001b[43mdata\u001b[49m\u001b[43m,\u001b[49m\u001b[43m \u001b[49m\u001b[43morder\u001b[49m\u001b[43m,\u001b[49m\u001b[43m \u001b[49m\u001b[43mhue_order\u001b[49m\u001b[43m,\u001b[49m\n\u001b[1;32m   2754\u001b[0m \u001b[43m                      \u001b[49m\u001b[43mestimator\u001b[49m\u001b[43m,\u001b[49m\u001b[43m \u001b[49m\u001b[43merrorbar\u001b[49m\u001b[43m,\u001b[49m\u001b[43m \u001b[49m\u001b[43mn_boot\u001b[49m\u001b[43m,\u001b[49m\u001b[43m \u001b[49m\u001b[43munits\u001b[49m\u001b[43m,\u001b[49m\u001b[43m \u001b[49m\u001b[43mseed\u001b[49m\u001b[43m,\u001b[49m\n\u001b[1;32m   2755\u001b[0m \u001b[43m                      \u001b[49m\u001b[43morient\u001b[49m\u001b[43m,\u001b[49m\u001b[43m \u001b[49m\u001b[43mcolor\u001b[49m\u001b[43m,\u001b[49m\u001b[43m \u001b[49m\u001b[43mpalette\u001b[49m\u001b[43m,\u001b[49m\u001b[43m \u001b[49m\u001b[43msaturation\u001b[49m\u001b[43m,\u001b[49m\n\u001b[1;32m   2756\u001b[0m \u001b[43m                      \u001b[49m\u001b[43mwidth\u001b[49m\u001b[43m,\u001b[49m\u001b[43m \u001b[49m\u001b[43merrcolor\u001b[49m\u001b[43m,\u001b[49m\u001b[43m \u001b[49m\u001b[43merrwidth\u001b[49m\u001b[43m,\u001b[49m\u001b[43m \u001b[49m\u001b[43mcapsize\u001b[49m\u001b[43m,\u001b[49m\u001b[43m \u001b[49m\u001b[43mdodge\u001b[49m\u001b[43m)\u001b[49m\n\u001b[1;32m   2758\u001b[0m \u001b[38;5;28;01mif\u001b[39;00m ax \u001b[38;5;129;01mis\u001b[39;00m \u001b[38;5;28;01mNone\u001b[39;00m:\n\u001b[1;32m   2759\u001b[0m     ax \u001b[38;5;241m=\u001b[39m plt\u001b[38;5;241m.\u001b[39mgca()\n",
      "File \u001b[0;32m/opt/miniconda3/lib/python3.9/site-packages/seaborn/categorical.py:1530\u001b[0m, in \u001b[0;36m_BarPlotter.__init__\u001b[0;34m(self, x, y, hue, data, order, hue_order, estimator, errorbar, n_boot, units, seed, orient, color, palette, saturation, width, errcolor, errwidth, capsize, dodge)\u001b[0m\n\u001b[1;32m   1525\u001b[0m \u001b[38;5;28;01mdef\u001b[39;00m \u001b[38;5;21m__init__\u001b[39m(\u001b[38;5;28mself\u001b[39m, x, y, hue, data, order, hue_order,\n\u001b[1;32m   1526\u001b[0m              estimator, errorbar, n_boot, units, seed,\n\u001b[1;32m   1527\u001b[0m              orient, color, palette, saturation, width,\n\u001b[1;32m   1528\u001b[0m              errcolor, errwidth, capsize, dodge):\n\u001b[1;32m   1529\u001b[0m     \u001b[38;5;124;03m\"\"\"Initialize the plotter.\"\"\"\u001b[39;00m\n\u001b[0;32m-> 1530\u001b[0m     \u001b[38;5;28;43mself\u001b[39;49m\u001b[38;5;241;43m.\u001b[39;49m\u001b[43mestablish_variables\u001b[49m\u001b[43m(\u001b[49m\u001b[43mx\u001b[49m\u001b[43m,\u001b[49m\u001b[43m \u001b[49m\u001b[43my\u001b[49m\u001b[43m,\u001b[49m\u001b[43m \u001b[49m\u001b[43mhue\u001b[49m\u001b[43m,\u001b[49m\u001b[43m \u001b[49m\u001b[43mdata\u001b[49m\u001b[43m,\u001b[49m\u001b[43m \u001b[49m\u001b[43morient\u001b[49m\u001b[43m,\u001b[49m\n\u001b[1;32m   1531\u001b[0m \u001b[43m                             \u001b[49m\u001b[43morder\u001b[49m\u001b[43m,\u001b[49m\u001b[43m \u001b[49m\u001b[43mhue_order\u001b[49m\u001b[43m,\u001b[49m\u001b[43m \u001b[49m\u001b[43munits\u001b[49m\u001b[43m)\u001b[49m\n\u001b[1;32m   1532\u001b[0m     \u001b[38;5;28mself\u001b[39m\u001b[38;5;241m.\u001b[39mestablish_colors(color, palette, saturation)\n\u001b[1;32m   1533\u001b[0m     \u001b[38;5;28mself\u001b[39m\u001b[38;5;241m.\u001b[39mestimate_statistic(estimator, errorbar, n_boot, seed)\n",
      "File \u001b[0;32m/opt/miniconda3/lib/python3.9/site-packages/seaborn/categorical.py:541\u001b[0m, in \u001b[0;36m_CategoricalPlotter.establish_variables\u001b[0;34m(self, x, y, hue, data, orient, order, hue_order, units)\u001b[0m\n\u001b[1;32m    539\u001b[0m     \u001b[38;5;28;01mif\u001b[39;00m \u001b[38;5;28misinstance\u001b[39m(var, \u001b[38;5;28mstr\u001b[39m):\n\u001b[1;32m    540\u001b[0m         err \u001b[38;5;241m=\u001b[39m \u001b[38;5;124mf\u001b[39m\u001b[38;5;124m\"\u001b[39m\u001b[38;5;124mCould not interpret input \u001b[39m\u001b[38;5;124m'\u001b[39m\u001b[38;5;132;01m{\u001b[39;00mvar\u001b[38;5;132;01m}\u001b[39;00m\u001b[38;5;124m'\u001b[39m\u001b[38;5;124m\"\u001b[39m\n\u001b[0;32m--> 541\u001b[0m         \u001b[38;5;28;01mraise\u001b[39;00m \u001b[38;5;167;01mValueError\u001b[39;00m(err)\n\u001b[1;32m    543\u001b[0m \u001b[38;5;66;03m# Figure out the plotting orientation\u001b[39;00m\n\u001b[1;32m    544\u001b[0m orient \u001b[38;5;241m=\u001b[39m infer_orient(\n\u001b[1;32m    545\u001b[0m     x, y, orient, require_numeric\u001b[38;5;241m=\u001b[39m\u001b[38;5;28mself\u001b[39m\u001b[38;5;241m.\u001b[39mrequire_numeric\n\u001b[1;32m    546\u001b[0m )\n",
      "\u001b[0;31mValueError\u001b[0m: Could not interpret input 'Genotype'"
     ]
    },
    {
     "data": {
      "text/plain": [
       "<Figure size 432x288 with 0 Axes>"
      ]
     },
     "metadata": {},
     "output_type": "display_data"
    },
    {
     "data": {
      "image/png": "[encoded data removed]",
      "text/plain": [
       "<Figure size 1080x360 with 1 Axes>"
      ]
     },
     "metadata": {
      "needs_background": "light"
     },
     "output_type": "display_data"
    }
   ],
   "source": [
    "point = 420\n",
    "var = \"bias\"\n",
    "chunkeddata0 = TotalConcatenated[TotalConcatenated[\"time\"] >= 0]\n",
    "chunkeddata = chunkeddata0[chunkeddata0[\"time\"] <= point]\n",
    "\n",
    "Title = f\"{var} - First {point} seconds\" #<---------------- Input Here -----------------\n",
    "sns.set_context(\"talk\")\n",
    "plt.figure(linewidth = 2.5)\n",
    "plt.figure(figsize=(15, 5))\n",
    "plt.gca().xaxis.grid(False)\n",
    "ax = sns.barplot(x=\"Genotype\", \n",
    "             y = var, \n",
    "             data = chunkeddata, #<--------------- Input Here -------------\n",
    "             hue = 'Treatment',\n",
    "             edgecolor=\"black\",\n",
    "             linewidth = 2.5,\n",
    "             ci = None,\n",
    "             palette = ['black',\n",
    "                        'grey'\n",
    "                       ]\n",
    "                )\n",
    "plt.xlabel(\"Strain and Condition\")\n",
    "# plt.ylabel(\"Average Speed (mm/s)\")\n",
    "plt.title(Title)\n",
    "plt.legend(bbox_to_anchor=(1.02, 1), loc=2, borderaxespad=0.)\n",
    "# plt.savefig(f'{Title}.png', format='png', dpi=450, bbox_inches = 'tight')\n",
    "plt.show()"
   ]
  },
  {
   "cell_type": "markdown",
   "metadata": {},
   "source": [
    "# Dispersion Plot (starburst) - *Not Functional In Current Iteration"
   ]
  },
  {
   "cell_type": "code",
   "execution_count": null,
   "metadata": {},
   "outputs": [],
   "source": [
    "timepoint=60 # <---------------------- indicate end timepoint\n",
    "\n",
    "\n",
    "chunkeddata0 = TotalConcatenated[TotalConcatenated[\"time\"] >= 0]\n",
    "chunkeddata = chunkeddata0[chunkeddata0[\"time\"] <= timepoint]\n",
    "\n",
    "Title = f\"0 - {timepoint} seconds\" #<--------------------\n",
    "sns.set(context=\"talk\")\n",
    "# sns.set_context(\"talk\", fontscale=0.5)\n",
    "plt.figure(linewidth = 2.5)\n",
    "plt.figure(figsize=(16, 4))\n",
    "g = sns.FacetGrid(chunkeddata, row = \"Treatment\", col = \"Genotype\", margin_titles=True) #<--------------------------\n",
    "g.map_dataframe(sns.scatterplot, \"x_0\", \"y_0\", hue=\"time\", palette = \"YlOrBr\", linewidth=0, alpha=0.7, s=2)\n",
    "g.set_axis_labels(\"x position\", \"y position\")\n",
    "g.set_titles(col_template=\"{col_name}\", row_template=\"{row_name}\")\n",
    "# g.fig.subplots_adjust(top=0.8)\n",
    "g.fig.suptitle(f\"{Title} Dispersion map\", y=1.05)\n",
    "g.tight_layout()\n",
    "# plt.savefig(f'{Title} Dispersion map.png', format='png', dpi=900, bbox_inches = 'tight')"
   ]
  },
  {
   "cell_type": "markdown",
   "metadata": {},
   "source": [
    "# Total Distance Traveled Trace - *Not Functional In Current Iteration"
   ]
  },
  {
   "cell_type": "code",
   "execution_count": null,
   "metadata": {},
   "outputs": [],
   "source": [
    "start=50\n",
    "timepoint=420 # <---------------------- indicate end timepoint\n",
    "\n",
    "\n",
    "chunkeddata0 = TotalConcatenated[TotalConcatenated[\"time\"] >= start]\n",
    "chunkeddata = chunkeddata0[chunkeddata0[\"time\"] <= timepoint]\n",
    "\n",
    "Title = f\"{start} - {timepoint} seconds\" #<--------------------\n",
    "sns.set(context=\"talk\")\n",
    "# sns.set_context(\"talk\", fontscale=0.5)\n",
    "plt.figure(linewidth = 2.5)\n",
    "plt.figure(figsize=(16, 4))\n",
    "g = sns.FacetGrid(chunkeddata, row = \"Treatment\", col = \"Genotype\", margin_titles=True, ylim=[0,15]) #<---- set y-lim\n",
    "g.map_dataframe(sns.scatterplot, \"time\", \"distance\", hue=\"worm\", palette = \"colorblind\", linewidth=0, alpha=0.7, s=2)\n",
    "# g.set_axis_labels(\"x position\", \"y position\")\n",
    "g.set_titles(col_template=\"{col_name}\", row_template=\"{row_name}\")\n",
    "# g.fig.subplots_adjust(top=0.8)\n",
    "g.fig.suptitle(f'{Title} Total Distance Traveled Trace', y=1.05)\n",
    "g.tight_layout()\n",
    "# plt.savefig(f'{Title} Total Distance Traveled Trace.png', format='png', dpi=900, bbox_inches = 'tight')"
   ]
  },
  {
   "cell_type": "code",
   "execution_count": null,
   "metadata": {},
   "outputs": [],
   "source": []
  },
  {
   "cell_type": "markdown",
   "metadata": {},
   "source": [
    "# Done!"
   ]
  },
  {
   "cell_type": "code",
   "execution_count": null,
   "metadata": {},
   "outputs": [],
   "source": [
    "AfterOneHundredSecs = TotalConcatenated[TotalConcatenated[\"time_bin\"] >= 100].reset_index(drop=True)\n",
    "print(AfterOneHundredSecs)"
   ]
  },
  {
   "cell_type": "code",
   "execution_count": null,
   "metadata": {},
   "outputs": [],
   "source": [
    "AfterOneHundredMean = AfterOneHundredSecs.groupby([\"Strain\", \"worm\", \"Genotype\", \"Treatment\"], as_index=False).mean()\n",
    "print(AfterOneHundredMean)"
   ]
  },
  {
   "cell_type": "code",
   "execution_count": null,
   "metadata": {},
   "outputs": [],
   "source": [
    "# Valid Measurement inputs(change var)\n",
    "# 1:'speed', <---\n",
    "# 2: \"x\",\n",
    "# 3: \"y\",\n",
    "# 4: \"angularspeed\", <-----\n",
    "# 5: \"pathlength\",\n",
    "# 6: \"kink\",  <---\n",
    "# 7: \"bias\", <----\n",
    "# 8: \"curve\", <---\n",
    "# 9: \"dir\",<----\n",
    "# 10: \"crab\",<----\n",
    "# 11: \"length\",<---\n",
    "# 12: \"midline\",<----\n",
    "# 13: \"width\",<----\n",
    "# 14: \"morphwidth\",<----\n",
    "# 15: \"area\"<----\n",
    "\n",
    "\n",
    "var = \"speed\"\n",
    "\n",
    "Title = f\"{var}\" #<---------------- Input Here -----------------\n",
    "sns.set_context(\"talk\")\n",
    "plt.figure(linewidth = 2.5)\n",
    "plt.figure(figsize=(15, 3))\n",
    "plt.gca().xaxis.grid(False)\n",
    "ax = sns.barplot(x=\"Genotype\", \n",
    "             y = var, \n",
    "             data = AfterOneHundredMean, #<--------------- Input Here -------------\n",
    "             hue = 'Treatment',\n",
    "             edgecolor=\"black\",\n",
    "             linewidth = 2.5,\n",
    "#              seed=5,\n",
    "             ci = 95, # 'sd' for SD, '68' for SEM\n",
    "             palette = ['grey',\n",
    "                        'black'\n",
    "                       ]\n",
    "                )\n",
    "plt.xlabel(\"Strain and Condition\")\n",
    "# plt.ylabel(\"Average Speed (mm/s)\")\n",
    "plt.title(Title)\n",
    "plt.legend(bbox_to_anchor=(1.02, 1), loc=2, borderaxespad=0.)\n",
    "# plt.savefig(f'{Title}.png', format='png', dpi=450, bbox_inches = 'tight')\n",
    "plt.show()"
   ]
  },
  {
   "cell_type": "code",
   "execution_count": null,
   "metadata": {},
   "outputs": [],
   "source": [
    "AfterOneHundredCAT = AfterOneHundredMean[AfterOneHundredMean.Genotype != \"Test\"]\n",
    "AfterOneHundredTEST = AfterOneHundredMean[AfterOneHundredMean.Genotype != \"cat-2 (e1112)\"]\n"
   ]
  },
  {
   "cell_type": "code",
   "execution_count": null,
   "metadata": {},
   "outputs": [],
   "source": [
    "print(AfterOneHundredMean)\n",
    "print(AfterOneHundredCAT)\n",
    "print(AfterOneHundredTEST)"
   ]
  },
  {
   "cell_type": "code",
   "execution_count": null,
   "metadata": {},
   "outputs": [],
   "source": [
    "AfterOneHundredCAT.anova(dv=\"speed\", between=[\"Genotype\",\"Treatment\"])"
   ]
  },
  {
   "cell_type": "code",
   "execution_count": null,
   "metadata": {},
   "outputs": [],
   "source": [
    "AfterOneHundredTEST.anova(dv=\"speed\", between=[\"Genotype\",\"Treatment\"]).round(7)"
   ]
  },
  {
   "cell_type": "code",
   "execution_count": null,
   "metadata": {},
   "outputs": [],
   "source": []
  }
 ],
 "metadata": {
  "kernelspec": {
   "display_name": "Python 3",
   "language": "python",
   "name": "python3"
  },
  "language_info": {
   "codemirror_mode": {
    "name": "ipython",
    "version": 3
   },
   "file_extension": ".py",
   "mimetype": "text/x-python",
   "name": "python",
   "nbconvert_exporter": "python",
   "pygments_lexer": "ipython3",
   "version": "3.9.12"
  }
 },
 "nbformat": 4,
 "nbformat_minor": 4
}
