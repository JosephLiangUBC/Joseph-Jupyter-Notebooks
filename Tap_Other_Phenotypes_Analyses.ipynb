{
 "cells": [
  {
   "cell_type": "markdown",
   "metadata": {
    "jp-MarkdownHeadingCollapsed": true,
    "tags": []
   },
   "source": [
    "# Jupyter Notebook UI to graph your speed trace (with opto) data!\n",
    "\n",
    "Version 1.3 - Joseph Liang, Rankin Lab\n",
    "Updated:\n",
    "1. Upgraded folder path selection application\n",
    "2. Upgraded dataset management (less moving parts for end-user)\n",
    "3. output changed from tif -> png\n",
    "\n",
    "## Known bug: Step 2 an empty windows displays in Mac. May also apply to linux/windows.\n",
    "\n",
    "## Beginner Essentials:\n",
    "1. Shift-Enter to run each cell. After you run, you should see an output \"done step #\". If not, an error has occured\n",
    "2. When inputting your own code/revising the code, make sure you close all your quotation marks '' and brackets (), [], {}.\n",
    "3. Don't leave any commas (,) hanging! (make sure an object always follows a comma. If there is nothing after a comma, remove the comma!\n",
    "4. Learning to code? Each line of code is annotated to help you understand how this code works!\n",
    "\n",
    "## 3. Run all cells/steps sequentially, even the ones that do not require input\n",
    "\n",
    "## Steps that require input: #3, #6.1, #7"
   ]
  },
  {
   "cell_type": "markdown",
   "metadata": {},
   "source": [
    "# 1. Importing Packages Required (No input required, just run)"
   ]
  },
  {
   "cell_type": "code",
   "execution_count": 1,
   "metadata": {},
   "outputs": [
    {
     "name": "stdout",
     "output_type": "stream",
     "text": [
      "done step 1\n"
     ]
    }
   ],
   "source": [
    "import pandas as pd #<- package used to import and organize data\n",
    "import numpy as np #<- package used to import and organize data\n",
    "import seaborn as sns #<- package used to plot graphs\n",
    "from matplotlib import pyplot as plt #<- package used to plot graphs\n",
    "import os #<- package used to work with system filepaths\n",
    "from ipywidgets import widgets #<- widget tool to generate button\n",
    "from IPython.display import display #<- displays button\n",
    "from tkinter import Tk, filedialog #<- Tkinter is a GUI package\n",
    "from tqdm.notebook import tqdm\n",
    "import dask.dataframe as dd\n",
    "import pingouin as pg\n",
    "pd.set_option('display.max_columns', 50)\n",
    "print(\"done step 1\")"
   ]
  },
  {
   "cell_type": "markdown",
   "metadata": {},
   "source": [
    "# 2. Pick filepath (just run and click button)\n",
    "\n",
    "Run the following cell and clicke the button 'Select Folder' to pick a filepath.\n",
    "\n",
    "## Important: Later on, this script uses the total file path for each file to import and group data. That means if your folder has whatever your strain is named, the script will not work.\n",
    "\n",
    "(ex. if your folder has \"N2\" in it this script sees all files inside this folder as having the \"N2\" search key)\n",
    "\n",
    "## An easy fix is to just rename your folder to something else (make your strains lower-case, or just have the date)"
   ]
  },
  {
   "cell_type": "code",
   "execution_count": 2,
   "metadata": {},
   "outputs": [
    {
     "name": "stderr",
     "output_type": "stream",
     "text": [
      "/Library/Frameworks/Python.framework/Versions/3.8/lib/python3.8/site-packages/outdated/utils.py:14: OutdatedCheckFailedWarning: Failed to check for latest version of package.\n",
      "Set the environment variable OUTDATED_RAISE_EXCEPTION=1 for a full traceback.\n",
      "Set the environment variable OUTDATED_IGNORE=1 to disable these warnings.\n",
      "  return warn(\n"
     ]
    },
    {
     "data": {
      "application/vnd.jupyter.widget-view+json": {
       "model_id": "a9a40ce66c374697aa7fa9622f608217",
       "version_major": 2,
       "version_minor": 0
      },
      "text/plain": [
       "Button(description='Select Folder', style=ButtonStyle())"
      ]
     },
     "metadata": {},
     "output_type": "display_data"
    },
    {
     "name": "stdout",
     "output_type": "stream",
     "text": [
      "/Volumes/JOSEPH/PD_Screen\n",
      "done step 2\n"
     ]
    }
   ],
   "source": [
    "### Select Folder App - After you run, you can select your folder for filepath\n",
    "button = widgets.Button(description = 'Select Folder') #<- creates a button variable\n",
    "display(button) #<- displays the button in output\n",
    "\n",
    "def select_folder(b): #<- defines an action. This action requires a variable, so an arbitrary one 'b' is there\n",
    "    global folder_path #<- sets a variable as a global variable, not just within this action\n",
    "    #Tk().withdraw() #<- Tkinter likes to create annoying empty windows. This removes them\n",
    "    folder_path = filedialog.askdirectory() #<- Opens up a file explorer window, and determines folder path\n",
    "    #Tk().update() #<- below\n",
    "    #Tk().destroy() #<- this and the line above it removes the file explorer window after a selection is made\n",
    "    print(folder_path) #<- this helps confirm that this action was performed\n",
    "    print('done step 2')\n",
    "button.on_click(select_folder)"
   ]
  },
  {
   "cell_type": "markdown",
   "metadata": {},
   "source": [
    "# 3. User Defined Variables (Add input here)\n",
    "\n",
    "Here, we add some constants to help you blaze through this code.\n",
    "\n",
    "## 3.1: Setting time bins\n",
    "pretty self explanatory\n",
    "\n",
    "\n",
    "\n",
    "## 3.2: Setting view range for your graph\n",
    "Top, bottom = y axis view range\n",
    "left, right = x axis view range\n",
    "\n"
   ]
  },
  {
   "cell_type": "code",
   "execution_count": 7,
   "metadata": {},
   "outputs": [
    {
     "name": "stdout",
     "output_type": "stream",
     "text": [
      "[0.000e+00 1.000e+00 2.000e+00 ... 1.198e+03 1.199e+03 1.200e+03]\n",
      "done step 3\n"
     ]
    }
   ],
   "source": [
    "# Setting 1s Bins: for 0.5s Bins: 0,360,721\n",
    "# bins = np.linspace(0,360,721) #<- np.linspace(start, end, steps in between)\n",
    "# bins = np.linspace(0,420,841) #<- np.linspace(start, end, steps in between)\n",
    "# bins = np.linspace(0,420,421) # 1 second bins (smoother lines on graph)\n",
    "bins = np.linspace(0,1200,1201) # 1 second bins (smoother lines on graph)\n",
    "print(bins)\n",
    "\n",
    "\n",
    "print(\"done step 3\")"
   ]
  },
  {
   "cell_type": "markdown",
   "metadata": {},
   "source": [
    "# 4. Construct filelist from folder path (No input required, just run)"
   ]
  },
  {
   "cell_type": "code",
   "execution_count": 8,
   "metadata": {},
   "outputs": [
    {
     "name": "stdout",
     "output_type": "stream",
     "text": [
      "/Volumes/JOSEPH/PD_Screen\n",
      "['/Volumes/JOSEPH/PD_Screen/bas-1_ad446/20220829_093557/MT7988_10x2_f72h20C_600s31x10s10s_C0829bb.dat', '/Volumes/JOSEPH/PD_Screen/bas-1_ad446/20220829_113141/MT7988_10x2_f72h20C_600s31x10s10s_C0829be.dat', '/Volumes/JOSEPH/PD_Screen/bas-1_ad446/20220829_091759/MT7988_10x2_f72h20C_600s31x10s10s_B0829ba.dat', '/Volumes/JOSEPH/PD_Screen/bas-1_ad446/20220829_111159/MT7988_10x2_f72h20C_600s31x10s10s_B0829bd.dat', '/Volumes/JOSEPH/PD_Screen/bas-1_ad446/20220829_112352/MT7988_10x2_f96h20C_600s31x10s10s_A0829bc.dat', '/Volumes/JOSEPH/PD_Screen/bas-1_tm351/20220809_103216/LC33_10x2_f72h20C_600s31x10s10s_B0809db.dat', '/Volumes/JOSEPH/PD_Screen/bas-1_tm351/20220809_104010/LC33_10x2_f96h20C_600s31x10s10s_A0809da.dat', '/Volumes/JOSEPH/PD_Screen/bas-1_tm351/20220809_105433/LC33_10x2_f72h20C_600s31x10s10s_C0809dc.dat', '/Volumes/JOSEPH/PD_Screen/bas-1_tm351/20220809_123426/LC33_10x2_f72h20C_600s31x10s10s_B0809de.dat', '/Volumes/JOSEPH/PD_Screen/bas-1_tm351/20220809_124913/LC33_10x2_f96h20C_600s31x10s10s_A0809dd.dat', '/Volumes/JOSEPH/PD_Screen/cat-1_e1111/20220725_110611/E1111_10x2_f72h20C_600s31x10s10s_C0721dc.dat', '/Volumes/JOSEPH/PD_Screen/cat-1_e1111/20220725_123540/E1111_10x2_f72h20C_600s31x10s10s_B0721de.dat', '/Volumes/JOSEPH/PD_Screen/cat-1_e1111/20220725_105117/E1111_10x2_f72h20C_600s31x10s10s_B0721db.dat', '/Volumes/JOSEPH/PD_Screen/cat-1_e1111/20220725_105933/E1111_10x2_f96h20C_600s30x10s10s_A0721da.dat', '/Volumes/JOSEPH/PD_Screen/cat-1_e1111/20220725_124939/E1111_10x2_f96h20C_600s30x10s10s_A0721dd.dat', '/Volumes/JOSEPH/PD_Screen/cat-1_ok411/20220511_200145/RB681_10x2_f72h20C_600s31x10s10s_B0507ed.dat', '/Volumes/JOSEPH/PD_Screen/cat-1_ok411/20220511_181739/RB681_10x2_f72h20C_600s31x10s10s_B0507ea.dat', '/Volumes/JOSEPH/PD_Screen/cat-1_ok411/20220511_191217/RB681_10x2_f72h20C_600s31x10s10s_C0507ec.dat', '/Volumes/JOSEPH/PD_Screen/cat-1_ok411/20220511_193434_babies/RB681_10x2_f96h20C_600s30x10s10s_A0507eb.dat', '/Volumes/JOSEPH/PD_Screen/cat-1_ok411/20220511_211836/RB681_10x2_f96h20C_600s30x10s10s_A0507ee.dat', '/Volumes/JOSEPH/PD_Screen/cat-2_e1112/20220510_190557/CB1112_10x2_f72h20C_600s31x10s10s_B0506cb.dat', '/Volumes/JOSEPH/PD_Screen/cat-2_e1112/20220510_205607/CB1112_10x2_f72h20C_600s31x10s10s_B0506ce.dat', '/Volumes/JOSEPH/PD_Screen/cat-2_e1112/20220510_180925/CB1112_10x2_f72h20C_600s31x10s10s_C0506ca.dat', '/Volumes/JOSEPH/PD_Screen/cat-2_e1112/20220510_200412/CB1112_10x2_f72h20C_600s31x10s10s_C0506cd.dat', '/Volumes/JOSEPH/PD_Screen/cat-2_e1112/20220510_202529/CB1112_10x2_f96h20C_600s30x10s10s_A0506cc.dat', '/Volumes/JOSEPH/PD_Screen/cat-2_n4547/20220510_181819/MT15620_10x2_f72h20C_600s31x10s10s_B0506ba.dat', '/Volumes/JOSEPH/PD_Screen/cat-2_n4547/20220510_201238/MT15620_10x2_f72h20C_600s31x10s10s_B0506bd.dat', '/Volumes/JOSEPH/PD_Screen/cat-2_n4547/20220510_191913/MT15620_10x2_f72h20C_600s31x10s10s_C0506bc.dat', '/Volumes/JOSEPH/PD_Screen/cat-2_n4547/20220510_194102/MT15620_10x2_f96h20C_600s30x10s10s_A0506bb.dat', '/Volumes/JOSEPH/PD_Screen/cat-2_n4547/20220510_213039/MT15620_10x2_f96h20C_600s30x10s10s_A0506be.dat', '/Volumes/JOSEPH/PD_Screen/cat-2_tm2261/20220510_195051/FX17845_10x2_f72h20C_600s31x10s10s_B0506dc.dat', '/Volumes/JOSEPH/PD_Screen/cat-2_tm2261/20220510_185808/FX17845_10x2_f72h20C_600s31x10s10s_C0506db.dat', '/Volumes/JOSEPH/PD_Screen/cat-2_tm2261/20220510_204742/FX17845_10x2_f72h20C_600s31x10s10s_C0506de.dat', '/Volumes/JOSEPH/PD_Screen/cat-2_tm2261/20220510_191916/FX17845_10x2_f96h20C_600s30x10s10s_A0506da.dat', '/Volumes/JOSEPH/PD_Screen/cat-2_tm2261/20220510_210847/FX17845_10x2_f96h20C_600s30x10s10s_A0506dd.dat', '/Volumes/JOSEPH/PD_Screen/cpr-1_ok1344/20220524_103040/RB1262_10x2_f72h20C_600s31x10s10s_B0520ba.dat', '/Volumes/JOSEPH/PD_Screen/cpr-1_ok1344/20220524_122029/RB1262_10x2_f72h20C_600s31x10s10s_B0520bd.dat', '/Volumes/JOSEPH/PD_Screen/cpr-1_ok1344/20220524_123250/RB1262_10x2_f96h20C_600s30x10s10s_A0520bc.dat', '/Volumes/JOSEPH/PD_Screen/cpr-1_ok1344/20220524_123505/RB1262_10x2_f72h20C_600s31x10s10s_C0520be.dat', '/Volumes/JOSEPH/PD_Screen/cpr-1_ok1344/20220524_104829/RB1262_10x2_f72h20C_600s31x10s10s_C0520bb.dat', '/Volumes/JOSEPH/PD_Screen/dat-1_ok157/20220510_203346/RM2702_10x2_f72h20C_600s31x10s10s_B0506ed.dat', '/Volumes/JOSEPH/PD_Screen/dat-1_ok157/20220510_184407/RM2702_10x2_f72h20C_600s31x10s10s_B0506ea.dat', '/Volumes/JOSEPH/PD_Screen/dat-1_ok157/20220510_194231/RM2702_10x2_f72h20C_600s31x10s10s_C0506ec.dat', '/Volumes/JOSEPH/PD_Screen/dat-1_ok157/20220510_200156/RM2702_10x2_f96h20C_600s30x10s10s_A0506eb.dat', '/Volumes/JOSEPH/PD_Screen/dat-1_ok157/20220510_215121/RM2702_10x2_f96h20C_600s30x10s10s_A0506ee.dat', '/Volumes/JOSEPH/PD_Screen/djr-1.2_tm1346/20220627_100406/TM1346_10x2_f72h20C_600s31x10s10s_C0623ca.dat', '/Volumes/JOSEPH/PD_Screen/djr-1.2_tm1346/20220627_121921/TM1346_10x2_f72h20C_600s31x10s10s_C0623cd.dat', '/Volumes/JOSEPH/PD_Screen/djr-1.2_tm1346/20220627_110836/TM1346_10x2_f72h20C_600s31x10s10s_B0623cb.dat', '/Volumes/JOSEPH/PD_Screen/djr-1.2_tm1346/20220627_133646/TM1346_10x2_f72h20C_600s31x10s10s_B0623ce.dat', '/Volumes/JOSEPH/PD_Screen/djr-1.2_tm1346/20220627_123917/TM1346_10x2_f96h20C_600s30x10s10s_A0623cc.dat', '/Volumes/JOSEPH/PD_Screen/dop-1_vs101/20220513_133207/LX636_10x2_f72h20C_600s31x10s10s_B0509dc.dat', '/Volumes/JOSEPH/PD_Screen/dop-1_vs101/20220513_123554/LX636_10x2_f72h20C_600s31x10s10s_C0509db.dat', '/Volumes/JOSEPH/PD_Screen/dop-1_vs101/20220513_144448/LX636_10x2_f72h20C_600s31x10s10s_C0509de.dat', '/Volumes/JOSEPH/PD_Screen/dop-1_vs101/20220513_125759/LX636_10x2_f96h20C_600s30x10s10s_A0509da.dat', '/Volumes/JOSEPH/PD_Screen/dop-1_vs101/20220513_150434/LX636_10x2_f96h20C_600s30x10s10s_A0509dd.dat', '/Volumes/JOSEPH/PD_Screen/dop-3_ok295/20220513_122149/BZ873_10x2_f72h20C_600s31x10s10s_B0509ea.dat', '/Volumes/JOSEPH/PD_Screen/dop-3_ok295/20220513_142826/BZ873_10x2_f72h20C_600s31x10s10s_B0509ed.dat', '/Volumes/JOSEPH/PD_Screen/dop-3_ok295/20220513_132223/BZ873_10x2_f72h20C_600s31x10s10s_C0509ec.dat', '/Volumes/JOSEPH/PD_Screen/dop-3_ok295/20220513_134516/BZ873_10x2_f96h20C_600s30x10s10s_A0509eb.dat', '/Volumes/JOSEPH/PD_Screen/dop-3_ok295/20220513_155148/BZ873_10x2_f96h20C_600s30x10s10s_A0509ee.dat', '/Volumes/JOSEPH/PD_Screen/dop-3_tm1356/20220913_175328/FX01355_10x2_f96h20C_600s31x10s10s_A0913bb.dat', '/Volumes/JOSEPH/PD_Screen/dop-3_tm1356/20220913_162106/FX01355_10x2_f72h20C_600s31x10s10s_B0913ba.dat', '/Volumes/JOSEPH/PD_Screen/dop-3_tm1356/20220913_181321/FX01355_10x2_f72h20C_600s31x10s10s_B0913bc.dat', '/Volumes/JOSEPH/PD_Screen/dop-3_tm1356/20220913_193233/FX01355_10x2_f72h20C_600s31x10s10s_B0913bd.dat', '/Volumes/JOSEPH/PD_Screen/dpy-22_e652/20220725_101126/E652_10x2_f72h20C_600s31x10s10s_C0721bb.dat', '/Volumes/JOSEPH/PD_Screen/dpy-22_e652/20220725_120131/E652_10x2_f72h20C_600s31x10s10s_C0721be.dat', '/Volumes/JOSEPH/PD_Screen/dpy-22_e652/20220725_114415/E652_10x2_f72h20C_600s31x10s10s_B0721bd.dat', '/Volumes/JOSEPH/PD_Screen/dpy-22_e652/20220725_095335/E652_10x2_f72h20C_600s31x10s10s_B0721ba.dat', '/Volumes/JOSEPH/PD_Screen/dpy-22_e652/20220725_115415/E652_10x2_f96h20C_600s30x10s10s_A0721bc.dat', '/Volumes/JOSEPH/PD_Screen/dpy-22_sy622/20220627_104042/SY622_10x2_f72h20C_600s31x10s10s_B0623ea.dat', '/Volumes/JOSEPH/PD_Screen/dpy-22_sy622/20220627_115234/PS4087_10x2_f72h20C_600s31x10s10s_C0623ec.dat', '/Volumes/JOSEPH/PD_Screen/dpy-22_sy622/20220627_121337/PS4087_10x2_f96h20C_600s30x10s10s_A0623eb.dat', '/Volumes/JOSEPH/PD_Screen/dpy-22_sy622/20220627_131006/PS4087_10x2_f72h20C_600s31x10s10s_B0623ed.dat', '/Volumes/JOSEPH/PD_Screen/dpy-22_sy622/20220627_144944/PS4087_10x2_f96h20C_600s30x10s10s_A0623ee.dat', '/Volumes/JOSEPH/PD_Screen/dpy-22_tm12356/20220806_143025/FX31749_10x2_f72h20C_600s31x10s10s_C0802ca.dat', '/Volumes/JOSEPH/PD_Screen/dpy-22_tm12356/20220806_154417/FX31749_10x2_f72h20C_600s31x10s10s_B0802cc.dat', '/Volumes/JOSEPH/PD_Screen/dpy-22_tm12356/20220806_160021/FX31749_10x2_f96h20C_600s31x10s10s_A0802cb.dat', '/Volumes/JOSEPH/PD_Screen/dpy-22_tm12356/20220806_160501/FX31749_10x2_f72h20C_600s31x10s10s_B0802cd.dat', '/Volumes/JOSEPH/PD_Screen/dpy-22_tm12356/20220806_170345/FX31749_10x2_f96h20C_600s31x10s10s_A0802ce.dat', '/Volumes/JOSEPH/PD_Screen/F53B2.5_ok226/20220524_141642/ZE1_10x2_f72h20C_600s31x10s10s_B0520ba.dat', '/Volumes/JOSEPH/PD_Screen/F53B2.5_ok226/20220524_160812/ZE1_10x2_f72h20C_600s31x10s10s_B0520bd.dat', '/Volumes/JOSEPH/PD_Screen/F53B2.5_ok226/20220524_171947/ZE1_10x2_f96h20C_600s30x10s10s_A0520be.dat', '/Volumes/JOSEPH/PD_Screen/F53B2.5_ok226/20220524_161221/ZE1_10x2_f96h20C_600s30x10s10s_A0520bc.dat', '/Volumes/JOSEPH/PD_Screen/F53B2.5_ok226/20220524_143039/ZE1_10x2_f72h20C_600s31x10s10s_C0520bb.dat', '/Volumes/JOSEPH/PD_Screen/gba-1_tm3816/20220928_111511/FX03816_10x2_f72h20C_600s31x10s10s_B0928ba.dat', '/Volumes/JOSEPH/PD_Screen/gba-1_tm3816/20220928_125344/FX03816_10x2_f72h20C_600s31x10s10s_B0928bd.dat', '/Volumes/JOSEPH/PD_Screen/gba-1_tm3816/20220928_115808/FX03816_10x2_f72h20C_600s31x10s10s_C0928bc.dat', '/Volumes/JOSEPH/PD_Screen/gba-1_tm3816/20220928_121613/FX03816_10x2_f96h20C_600s31x10s10s_A0928bb.dat', '/Volumes/JOSEPH/PD_Screen/gba-1_tm3816/20220928_142035/FX03816_10x2_f96h20C_600s31x10s10s_A0928be.dat', '/Volumes/JOSEPH/PD_Screen/gba-2_tm4623/20220928_114249/FX04623_10x2_f72h20C_600s31x10s10s_B0928ac.dat', '/Volumes/JOSEPH/PD_Screen/gba-2_tm4623/20220928_113402/FX04623_10x2_f72h20C_600s31x10s10s_C0928ab.dat', '/Volumes/JOSEPH/PD_Screen/gba-2_tm4623/20220928_131204/FX04623_10x2_f72h20C_600s31x10s10s_C0928ae.dat', '/Volumes/JOSEPH/PD_Screen/gba-2_tm4623/20220928_115052/FX04623_10x2_f96h20C_600s31x10s10s_A0928aa.dat', '/Volumes/JOSEPH/PD_Screen/gba-2_tm4623/20220928_133054/FX04623_10x2_f96h20C_600s31x10s10s_A0928ad.dat', '/Volumes/JOSEPH/PD_Screen/gba-2_tm4808/20220920_175102/FX04808_10x2_f96h20C_600s31x10s10s_A0920da.dat', '/Volumes/JOSEPH/PD_Screen/gba-2_tm4808/20220920_202535/FX04808_10x2_f96h20C_600s31x10s10s_A0920dd.dat', '/Volumes/JOSEPH/PD_Screen/gba-2_tm4808/20220920_184603/FX04808_10x2_f72h20C_600s31x10s10s_B0920dc.dat', '/Volumes/JOSEPH/PD_Screen/gba-2_tm4808/20220920_173136/FX04808_10x2_f72h20C_600s31x10s10s_C0920db.dat', '/Volumes/JOSEPH/PD_Screen/gba-2_tm4808/20220920_200259/FX04808_10x2_f72h20C_600s31x10s10s_C0920de.dat', '/Volumes/JOSEPH/PD_Screen/gba-3_gk3287/20220524_115629/VC3135_10x2_f72h20C_600s31x10s10s_B0520cc.dat', '/Volumes/JOSEPH/PD_Screen/gba-3_gk3287/20220524_120155/VC3135_10x2_f96h20C_600s30x10s10s_A0520cb.dat', '/Volumes/JOSEPH/PD_Screen/gba-3_gk3287/20220524_134314/VC3135_10x2_f96h20C_600s30x10s10s_A0520ce.dat', '/Volumes/JOSEPH/PD_Screen/gba-3_gk3287/20220524_102050/VC3135_10x2_f72h20C_600s31x10s10s_C0520ca.dat', '/Volumes/JOSEPH/PD_Screen/gba-3_gk3287/20220524_121047/VC3135_10x2_f72h20C_600s31x10s10s_C0520cd.dat', '/Volumes/JOSEPH/PD_Screen/gba-3_tm3302/20220808_095158/TM3302_10x2_f72h20C_600s31x10s10s_B0804ba.dat', '/Volumes/JOSEPH/PD_Screen/gba-3_tm3302/20220808_103540/TM3302_10x2_f72h20C_600s31x10s10s_C0804bc.dat', '/Volumes/JOSEPH/PD_Screen/gba-3_tm3302/20220808_105848/TM3302_10x2_f96h20C_600s31x10s10s_A0804bb.dat', '/Volumes/JOSEPH/PD_Screen/gba-3_tm3302/20220808_111234/TM3302_10x2_f72h20C_600s31x10s10s_B0804bd.dat', '/Volumes/JOSEPH/PD_Screen/gck-3_tm1223/20220913_201234/FX01223_10x2_f96h20C_600s31x10s10s_A0913ce.dat', '/Volumes/JOSEPH/PD_Screen/gck-3_tm1223/20220913_171419/FX01223_10x2_f72h20C_600s31x10s10s_B0913cb.dat', '/Volumes/JOSEPH/PD_Screen/gck-3_tm1223/20220920_163537/FX01223_10x2_f72h20C_600s31x10s10s_B0920ba.dat', '/Volumes/JOSEPH/PD_Screen/gck-3_tm1223/20220920_180329/FX01223_10x2_f72h20C_600s31x10s10s_C0920bc.dat', '/Volumes/JOSEPH/PD_Screen/gck-3_tm1223/20220920_182313/FX01223_10x2_f96h20C_600s31x10s10s_A0920bb.dat', '/Volumes/JOSEPH/PD_Screen/gck-3_tm1223/20220920_191529/FX01223_10x2_f72h20C_600s31x10s10s_B0920bd.dat', '/Volumes/JOSEPH/PD_Screen/gck-3_tm1223/20220920_205248/FX01223_10x2_f96h20C_600s31x10s10s_A0920be.dat', '/Volumes/JOSEPH/PD_Screen/gck-3_tm1296/20220820_113436/EV232_10x2_f72h20C_600s31x10s10s_C0816bb.dat', '/Volumes/JOSEPH/PD_Screen/gck-3_tm1296/20220820_131341/EV232_10x2_f72h20C_600s31x10s10s_C0816be.dat', '/Volumes/JOSEPH/PD_Screen/gck-3_tm1296/20220820_131856/EV232_10x2_f96h20C_600s31x10s10s_A0816bc.dat', '/Volumes/JOSEPH/PD_Screen/gck-3_tm1296/20220820_112203/EV232_10x2_f72h20C_600s31x10s10s_B0816ba.dat', '/Volumes/JOSEPH/PD_Screen/gck-3_tm1296/20220820_130218/EV232_10x2_f72h20C_600s31x10s10s_B0816bd.dat', '/Volumes/JOSEPH/PD_Screen/glo-1_tm3240/20220726_165510/FX16792_10x2_f96h20C_600s30x10s10s_A0726bb.dat', '/Volumes/JOSEPH/PD_Screen/glo-1_tm3240/20220726_170141/FX16792_10x2_f72h20C_600s31x10s10s_B0726bd.dat', '/Volumes/JOSEPH/PD_Screen/glo-1_tm3240/20220726_154437/FX16792_10x2_f72h20C_600s31x10s10s_B0726ba.dat', '/Volumes/JOSEPH/PD_Screen/glo-1_tm3240/20220726_172957/FX16792_10x2_f72h20C_600s31x10s10s_B0726be.dat', '/Volumes/JOSEPH/PD_Screen/glo-1_tm3240/20220806_112406/FX16792_10x2_f72h20C_600s31x10s10s_B0802db.dat', '/Volumes/JOSEPH/PD_Screen/glo-1_tm3240/20220806_113605/FX16792_10x2_f72h20C_600s31x10s10s_C0802dc.dat', '/Volumes/JOSEPH/PD_Screen/glo-1_tm3240/20220806_113958/FX16792_10x2_f96h20C_600s31x10s10s_A0802da.dat', '/Volumes/JOSEPH/PD_Screen/glo-1_tm3240/20220806_120635/FX16792_10x2_f72h20C_600s31x10s10s_B0802dd.dat', '/Volumes/JOSEPH/PD_Screen/glo-1_tm3240/20220806_121804/FX16792_10x2_f72h20C_600s31x10s10s_C0802de.dat', '/Volumes/JOSEPH/PD_Screen/glo-1_tm3240/20220809_092208/FX16792_10x2_f72h20C_600s31x10s10s_C0809ca.dat', '/Volumes/JOSEPH/PD_Screen/glo-1_tm3240/20220809_110414/FX16792_10x2_f72h20C_600s31x10s10s_B0809cc.dat', '/Volumes/JOSEPH/PD_Screen/glo-1_tm3240/20220809_111018/FX16792_10x2_f96h20C_600s31x10s10s_A0809cb.dat', '/Volumes/JOSEPH/PD_Screen/glo-1_tm3240/20220809_112919/FX16792_10x2_f72h20C_600s31x10s10s_C0809cd.dat', '/Volumes/JOSEPH/PD_Screen/glo-1_tm3240/20220809_131112/FX16792_10x2_f96h20C_600s31x10s10s_A0809ce.dat', '/Volumes/JOSEPH/PD_Screen/glo-1_tm15275/20220920_185329/FX31756_10x2_f96h20C_600s31x10s10s_A0920eb.dat', '/Volumes/JOSEPH/PD_Screen/glo-1_tm15275/20220920_211502/FX31756_10x2_f96h20C_600s31x10s10s_A0920ee.dat', '/Volumes/JOSEPH/PD_Screen/glo-1_tm15275/20220920_171141/FX31756_10x2_f72h20C_600s31x10s10s_B0920ea.dat', '/Volumes/JOSEPH/PD_Screen/glo-1_tm15275/20220920_194612/FX31756_10x2_f72h20C_600s31x10s10s_B0920ed.dat', '/Volumes/JOSEPH/PD_Screen/glo-1_tm15275/20220920_183559/FX31756_10x2_f72h20C_600s31x10s10s_C0920ec.dat', '/Volumes/JOSEPH/PD_Screen/glo-1_zu391/20220806_103007/JJ1271_10x2_f72h20C_600s31x10s10s_C0802ca.dat', '/Volumes/JOSEPH/PD_Screen/glo-1_zu391/20220806_114523/JJ1271_10x2_f72h20C_600s31x10s10s_B0802cc.dat', '/Volumes/JOSEPH/PD_Screen/glo-1_zu391/20220806_115715/JJ1271_10x2_f72h20C_600s31x10s10s_C0802cd.dat', '/Volumes/JOSEPH/PD_Screen/glo-1_zu391/20220806_120124/JJ1271_10x2_f96h20C_600s31x10s10s_A0802cb.dat', '/Volumes/JOSEPH/PD_Screen/glo-1_zu391/20220806_130444/JJ1271_10x2_f96h20C_600s31x10s10s_A0802ce.dat', '/Volumes/JOSEPH/PD_Screen/hipr-1_ok1081/20220920_171445/RB1102_10x2_f96h20C_600s31x10s10s_A0920aa.dat', '/Volumes/JOSEPH/PD_Screen/hipr-1_ok1081/20220920_195239/RB1102_10x2_f96h20C_600s31x10s10s_A0920ad.dat', '/Volumes/JOSEPH/PD_Screen/hipr-1_ok1081/20220920_181406/RB1102_10x2_f72h20C_600s31x10s10s_B0920ac.dat', '/Volumes/JOSEPH/PD_Screen/hipr-1_ok1081/20220920_170102/RB1102_10x2_f72h20C_600s31x10s10s_C0920ab.dat', '/Volumes/JOSEPH/PD_Screen/hipr-1_ok1081/20220920_193543/RB1102_10x2_f72h20C_600s31x10s10s_C0920ae.dat', '/Volumes/JOSEPH/PD_Screen/hipr-1_tm2207/20221012_115959/FX18308_10x2_f96h20C_600s31x10s10s_A1012eb.dat', '/Volumes/JOSEPH/PD_Screen/hipr-1_tm2207/20221012_100951/FX18308_10x2_f72h20C_600s31x10s10s_B01012ea.dat', '/Volumes/JOSEPH/PD_Screen/hipr-1_tm2207/20221012_115000/FX18308_10x2_f72h20C_600s31x10s10s_B01012ed.dat', '/Volumes/JOSEPH/PD_Screen/hipr-1_tm2207/20221012_121212/FX18308_10x2_f72h20C_600s31x10s10s_B01012ee.dat', '/Volumes/JOSEPH/PD_Screen/hipr-1_tm10120/20220913_182530/FX31344_10x2_f96h20C_600s31x10s10s_A0913eb.dat', '/Volumes/JOSEPH/PD_Screen/hipr-1_tm10120/20220913_164748/FX31344_10x2_f72h20C_600s31x10s10s_B0913ea.dat', '/Volumes/JOSEPH/PD_Screen/hipr-1_tm10120/20220913_184351/FX31344_10x2_f72h20C_600s31x10s10s_B0913ed.dat', '/Volumes/JOSEPH/PD_Screen/hipr-1_tm10120/20220913_190852/FX31344_10x2_f72h20C_600s31x10s10s_B0913ec.dat', '/Volumes/JOSEPH/PD_Screen/hipr-1_tm10120/20220913_195518/FX31344_10x2_f72h20C_600s31x10s10s_B0913ee.dat', '/Volumes/JOSEPH/PD_Screen/let-19_gk149538/20220524_151243/VC20144_10x2_f72h20C_600s31x10s10s_B0520db.dat', '/Volumes/JOSEPH/PD_Screen/let-19_gk149538/20220524_151656/VC20144_10x2_f96h20C_600s30x10s10s_A0520da.dat', '/Volumes/JOSEPH/PD_Screen/let-19_gk149538/20220524_165649/VC20144_10x2_f96h20C_600s30x10s10s_A0520dd.dat', '/Volumes/JOSEPH/PD_Screen/let-19_gk149538/20220524_152601/VC20144_10x2_f72h20C_600s31x10s10s_C0520dc.dat', '/Volumes/JOSEPH/PD_Screen/let-19_gk149538/20220524_163330/VC20144_10x2_f72h20C_600s31x10s10s_C0520de.dat', '/Volumes/JOSEPH/PD_Screen/lrk-1_tm1898/20220524_112535/FX1898_10x2_f72h20C_600s31x10s10s_B0520db.dat', '/Volumes/JOSEPH/PD_Screen/lrk-1_tm1898/20220524_130650/FX1898_10x2_f72h20C_600s31x10s10s_B0520ee.dat', '/Volumes/JOSEPH/PD_Screen/lrk-1_tm1898/20220524_132110/FX1898_10x2_f96h20C_600s30x10s10s_A0520dd.dat', '/Volumes/JOSEPH/PD_Screen/lrk-1_tm1898/20220524_113445/FX1898_10x2_f96h20C_600s30x10s10s_A0520da.dat', '/Volumes/JOSEPH/PD_Screen/lrk-1_tm1898/20220524_114643/FX1898_10x2_f72h20C_600s31x10s10s_C0520dc.dat', '/Volumes/JOSEPH/PD_Screen/lrk-1_tm7568/20220806_152302/FX7568_10x2_f72h20C_600s31x10s10s_B0802db.dat', '/Volumes/JOSEPH/PD_Screen/lrk-1_tm7568/20220806_153924/FX7568_10x2_f96h20C_600s31x10s10s_A0802da.dat', '/Volumes/JOSEPH/PD_Screen/lrk-1_tm7568/20220906_174158/FX07568_10x2_f72h20C_600s31x10s10s_C0906ca.dat', '/Volumes/JOSEPH/PD_Screen/lrk-1_tm7568/20220906_184938/FX07568_10x2_f72h20C_600s31x10s10s_B0906cc.dat', '/Volumes/JOSEPH/PD_Screen/lrk-1_tm7568/20220906_190128/FX07568_10x2_f96h20C_600s31x10s10s_A0906cb.dat', '/Volumes/JOSEPH/PD_Screen/lrk-1_tm7568/20220906_190602/FX07568_10x2_f72h20C_600s31x10s10s_C0906cd.dat', '/Volumes/JOSEPH/PD_Screen/N2/20220510_192657/N2_10x2_f72h20C_600s31x10s10s_B0506ac.dat', '/Volumes/JOSEPH/PD_Screen/N2/20220510_183526/N2_10x2_f72h20C_600s31x10s10s_C0506ab.dat', '/Volumes/JOSEPH/PD_Screen/N2/20220510_202509/N2_10x2_f72h20C_600s31x10s10s_C0506ae.dat', '/Volumes/JOSEPH/PD_Screen/N2/20220510_185420/N2_10x2_f96h20C_600s30x10s10s_A0506aa.dat', '/Volumes/JOSEPH/PD_Screen/N2/20220510_204745/N2_10x2_f96h20C_600s30x10s10s_A0506ad.dat', '/Volumes/JOSEPH/PD_Screen/N2/20220511_185919/N2_10x2_f72h20C_600s31x10s10s_B0507ac.dat', '/Volumes/JOSEPH/PD_Screen/N2/20220511_180954/N2_10x2_f72h20C_600s31x10s10s_C0507ab.dat', '/Volumes/JOSEPH/PD_Screen/N2/20220511_195428/N2_10x2_f72h20C_600s31x10s10s_C0507ae.dat', '/Volumes/JOSEPH/PD_Screen/N2/20220511_183227/N2_10x2_f96h20C_600s30x10s10s_A0507aa.dat', '/Volumes/JOSEPH/PD_Screen/N2/20220511_201614/N2_10x2_f96h20C_600s30x10s10s_A0507ad.dat', '/Volumes/JOSEPH/PD_Screen/N2/20220513_130909/N2_10x2_f72h20C_600s31x10s10s_B0509ac.dat', '/Volumes/JOSEPH/PD_Screen/N2/20220513_141844/N2_10x2_f72h20C_600s31x10s10s_C0509ea.dat', '/Volumes/JOSEPH/PD_Screen/N2/20220513_121207/N2_10x2_f72h20C_600s31x10s10s_C0509ab.dat', '/Volumes/JOSEPH/PD_Screen/N2/20220513_144050/N2_10x2_f96h20C_600s30x10s10s_A0509ad.dat', '/Volumes/JOSEPH/PD_Screen/N2/20220513_123501/N2_10x2_f96h20C_600s30x10s10s_A0509aa.dat', '/Volumes/JOSEPH/PD_Screen/N2/20220524_144029/N2_10x2_f72h20C_600s31x10s10s_B0520ab.dat', '/Volumes/JOSEPH/PD_Screen/N2/20220524_145312/N2_10x2_f96h20C_600s30x10s10s_A0520aa.dat', '/Volumes/JOSEPH/PD_Screen/N2/20220524_163521/N2_10x2_f96h20C_600s30x10s10s_A0520ad.dat', '/Volumes/JOSEPH/PD_Screen/N2/20220524_161112/N2_10x2_f72h20C_600s31x10s10s_C0520ae.dat', '/Volumes/JOSEPH/PD_Screen/N2/20220524_150255/N2_10x2_f72h20C_600s31x10s10s_C0520ac.dat', '/Volumes/JOSEPH/PD_Screen/N2/20220524_105817/N2_10x2_f72h20C_600s31x10s10s_B0520ab.dat', '/Volumes/JOSEPH/PD_Screen/N2/20220524_124446/N2_10x2_f72h20C_600s31x10s10s_B0520ae.dat', '/Volumes/JOSEPH/PD_Screen/N2/20220524_110703/N2_10x2_f96h20C_600s30x10s10s_A0520aa.dat', '/Volumes/JOSEPH/PD_Screen/N2/20220524_125648/N2_10x2_f96h20C_600s30x10s10s_A0520ad.dat', '/Volumes/JOSEPH/PD_Screen/N2/20220524_111539/N2_10x2_f72h20C_600s31x10s10s_C0520ac.dat', '/Volumes/JOSEPH/PD_Screen/N2/20220627_103050/N2_10x2_f72h20C_600s31x10s10s_C0623ab.dat', '/Volumes/JOSEPH/PD_Screen/N2/20220627_105101/N2_10x2_f96h20C_600s30x10s10s_A0623aa.dat', '/Volumes/JOSEPH/PD_Screen/N2/20220627_113629/N2_10x2_f72h20C_600s31x10s10s_B0623ac.dat', '/Volumes/JOSEPH/PD_Screen/N2/20220627_130010/N2_10x2_f72h20C_600s31x10s10s_C0623ae.dat', '/Volumes/JOSEPH/PD_Screen/N2/20220627_130628/N2_10x2_f96h20C_600s30x10s10s_A0623ad.dat', '/Volumes/JOSEPH/PD_Screen/N2/20220725_102136/N2_10x2_f72h20C_600s31x10s10s_B0721ab.dat', '/Volumes/JOSEPH/PD_Screen/N2/20220725_103133/N2_10x2_f96h20C_600s30x10s10s_A0721aa.dat', '/Volumes/JOSEPH/PD_Screen/N2/20220725_104105/N2_10x2_f72h20C_600s31x10s10s_C0721ac.dat', '/Volumes/JOSEPH/PD_Screen/N2/20220725_121146/N2_10x2_f72h20C_600s31x10s10s_B0721ae.dat', '/Volumes/JOSEPH/PD_Screen/N2/20220725_122157/N2_10x2_f96h20C_600s30x10s10s_A0721ad.dat', '/Volumes/JOSEPH/PD_Screen/N2/20220726_153458/N2_10x2_f72h20C_600s31x10s10s_C0726ab.dat', '/Volumes/JOSEPH/PD_Screen/N2/20220726_161553/N2_10x2_f72h20C_600s31x10s10s_C0726ae.dat', '/Volumes/JOSEPH/PD_Screen/N2/20220726_162138/N2_10x2_f96h20C_600s30x10s10s_A0726aa.dat', '/Volumes/JOSEPH/PD_Screen/N2/20220726_163135/N2_10x2_f72h20C_600s31x10s10s_B0726ac.dat', '/Volumes/JOSEPH/PD_Screen/N2/20220806_150214/N2_10x2_f72h20C_600s31x10s10s_B0802ab.dat', '/Volumes/JOSEPH/PD_Screen/N2/20220806_151348/N2_10x2_f72h20C_600s31x10s10s_C0802ac.dat', '/Volumes/JOSEPH/PD_Screen/N2/20220806_151746/N2_10x2_f96h20C_600s31x10s10s_A0802aa.dat', '/Volumes/JOSEPH/PD_Screen/N2/20220806_153445/N2_10x2_f72h20C_600s31x10s10s_C0802ad.dat', '/Volumes/JOSEPH/PD_Screen/N2/20220806_164217/N2_10x2_f96h20C_600s31x10s10s_A0802ae.dat', '/Volumes/JOSEPH/PD_Screen/N2/20220806_110241/N2_10x2_f72h20C_600s31x10s10s_B0802ab.dat', '/Volumes/JOSEPH/PD_Screen/N2/20220806_111456/N2_10x2_f72h20C_600s31x10s10s_C0802ac.dat', '/Volumes/JOSEPH/PD_Screen/N2/20220806_111834/N2_10x2_f96h20C_600s31x10s10s_A0802aa.dat', '/Volumes/JOSEPH/PD_Screen/N2/20220806_122724/N2_10x2_f72h20C_600s31x10s10s_B0802ae.dat', '/Volumes/JOSEPH/PD_Screen/N2/20220806_124345/N2_10x2_f96h20C_600s31x10s10s_A0802ad.dat', '/Volumes/JOSEPH/PD_Screen/N2/20220808_101022/N2_10x2_f72h20C_600s31x10s10s_C0804ab.dat', '/Volumes/JOSEPH/PD_Screen/N2/20220808_103012/N2_10x2_f96h20C_600s31x10s10s_A0804aa.dat', '/Volumes/JOSEPH/PD_Screen/N2/20220808_104602/N2_10x2_f72h20C_600s31x10s10s_B0804ac.dat', '/Volumes/JOSEPH/PD_Screen/N2/20220808_112820/N2_10x2_f72h20C_600s31x10s10s_C0804ae.dat', '/Volumes/JOSEPH/PD_Screen/N2/20220808_115051/N2_10x2_f96h20C_600s31x10s10s_A0804ad.dat', '/Volumes/JOSEPH/PD_Screen/N2/20220809_100208/N2_10x2_f72h20C_600s31x10s10s_B0809ab.dat', '/Volumes/JOSEPH/PD_Screen/N2/20220809_101044/N2_10x2_f96h20C_600s31x10s10s_A0809aa.dat', '/Volumes/JOSEPH/PD_Screen/N2/20220809_102236/N2_10x2_f72h20C_600s31x10s10s_C0809ac.dat', '/Volumes/JOSEPH/PD_Screen/N2/20220809_121105/N2_10x2_f72h20C_600s31x10s10s_B0809ae.dat', '/Volumes/JOSEPH/PD_Screen/N2/20220809_121732/N2_10x2_f96h20C_600s31x10s10s_A0809ad.dat', '/Volumes/JOSEPH/PD_Screen/N2/20220820_115753/N2_10x2_f72h20C_600s31x10s10s_B0816ab.dat', '/Volumes/JOSEPH/PD_Screen/N2/20220820_120009/N2_10x2_f96h20C_600s31x10s10s_A0816aa.dat', '/Volumes/JOSEPH/PD_Screen/N2/20220820_121032/N2_10x2_f72h20C_600s31x10s10s_C0816ac.dat', '/Volumes/JOSEPH/PD_Screen/N2/20220820_132316/N2_10x2_f72h20C_600s31x10s10s_B0816ae.dat', '/Volumes/JOSEPH/PD_Screen/N2/20220820_133947/N2_10x2_f96h20C_600s31x10s10s_A0816ad.dat', '/Volumes/JOSEPH/PD_Screen/N2/20220829_094607/N2_10x2_f72h20C_600s31x10s10s_B0829ab.dat', '/Volumes/JOSEPH/PD_Screen/N2/20220829_100305/N2_10x2_f72h20C_600s31x10s10s_C0829ac.dat', '/Volumes/JOSEPH/PD_Screen/N2/20220829_114159/N2_10x2_f72h20C_600s31x10s10s_B0829ae.dat', '/Volumes/JOSEPH/PD_Screen/N2/20221012_100159/N2_10x2_f72h20C_600s31x10s10s_C1012ab.dat', '/Volumes/JOSEPH/PD_Screen/N2/20221012_102251/N2_10x2_f96h20C_600s31x10s10s_A1012aa.dat', '/Volumes/JOSEPH/PD_Screen/N2/20221012_103735/N2_10x2_f72h20C_600s31x10s10s_B01012ac.dat', '/Volumes/JOSEPH/PD_Screen/N2/20221012_120331/N2_10x2_f72h20C_600s31x10s10s_C1012ae.dat', '/Volumes/JOSEPH/PD_Screen/N2/20221012_122645/N2_10x2_f96h20C_600s31x10s10s_A1012ad.dat', '/Volumes/JOSEPH/PD_Screen/N2/20220906_182242/N2_10x2_f72h20C_600s31x10s10s_B0906ab.dat', '/Volumes/JOSEPH/PD_Screen/N2/20220906_183103/N2_10x2_f96h20C_600s31x10s10s_A0906aa.dat', '/Volumes/JOSEPH/PD_Screen/N2/20220906_183906/N2_10x2_f72h20C_600s31x10s10s_C0906ac.dat', '/Volumes/JOSEPH/PD_Screen/N2/20220906_192821/N2_10x2_f96h20C_600s31x10s10s_A0906ad.dat', '/Volumes/JOSEPH/PD_Screen/N2/20220906_193351/N2_10x2_f72h20C_600s31x10s10s_C0906ae.dat', '/Volumes/JOSEPH/PD_Screen/N2/20220913_163713/N2_10x2_f72h20C_600s31x10s10s_C0913ab.dat', '/Volumes/JOSEPH/PD_Screen/N2/20220913_165939/N2_10x2_f96h20C_600s31x10s10s_A0913aa.dat', '/Volumes/JOSEPH/PD_Screen/N2/20220913_170355/N2_10x2_f72h20C_600s31x10s10s_C0913ae.dat', '/Volumes/JOSEPH/PD_Screen/N2/20220913_180254/N2_10x2_f72h20C_600s31x10s10s_C0913ac.dat', '/Volumes/JOSEPH/PD_Screen/N2/20220913_194807/N2_10x2_f96h20C_600s31x10s10s_A0913ad.dat', '/Volumes/JOSEPH/PD_Screen/N2/20220920_162455/N2_10x2_f72h20C_600s31x10s10s_C0920ca.dat', '/Volumes/JOSEPH/PD_Screen/N2/20220920_174259/N2_10x2_f72h20C_600s31x10s10s_B0920cb.dat', '/Volumes/JOSEPH/PD_Screen/N2/20220920_190524/FX31756_10x2_f72h20C_600s31x10s10s_C0920ec.dat', '/Volumes/JOSEPH/PD_Screen/N2/20220920_201326/N2_10x2_f72h20C_600s31x10s10s_B0920ce.dat', '/Volumes/JOSEPH/PD_Screen/N2/20220928_110810/N2_10x2_f72h20C_600s31x10s10s_C0928ca.dat', '/Volumes/JOSEPH/PD_Screen/N2/20220928_123016/N2_10x2_f72h20C_600s31x10s10s_B0928cb.dat', '/Volumes/JOSEPH/PD_Screen/N2/20220928_135756/N2_10x2_f96h20C_600s31x10s10s_A0928cc.dat', '/Volumes/JOSEPH/PD_Screen/N2/20220928_140815/N2_10x2_f72h20C_600s31x10s10s_B0928ce.dat', '/Volumes/JOSEPH/PD_Screen/pdr-1_gk448/20220511_192020/VC1024_10x2_f72h20C_600s31x10s10s_B0507dc.dat', '/Volumes/JOSEPH/PD_Screen/pdr-1_gk448/20220511_201521/VC1024_10x2_f72h20C_600s31x10s10s_C0507de.dat', '/Volumes/JOSEPH/PD_Screen/pdr-1_gk448/20220511_183040/VC1024_10x2_f72h20C_600s31x10s10s_C0507db.dat', '/Volumes/JOSEPH/PD_Screen/pdr-1_gk448/20220511_185305/VC1024_10x2_f96h20C_600s30x10s10s_A0507da.dat', '/Volumes/JOSEPH/PD_Screen/pdr-1_gk448/20220511_203705/VC1024_10x2_f96h20C_600s30x10s10s_A0507dd.dat', '/Volumes/JOSEPH/PD_Screen/pdr-1_tm395/20220511_183825/FX0395_10x2_f72h20C_600s31x10s10s_B0507cb.dat', '/Volumes/JOSEPH/PD_Screen/pdr-1_tm395/20220511_202230/FX0395_10x2_f72h20C_600s31x10s10s_B0507ce.dat', '/Volumes/JOSEPH/PD_Screen/pdr-1_tm395/20220511_174902/FX0395_10x2_f72h20C_600s31x10s10s_C0507ca.dat', '/Volumes/JOSEPH/PD_Screen/pdr-1_tm395/20220511_193326/FX0395_10x2_f72h20C_600s31x10s10s_C0507cd.dat', '/Volumes/JOSEPH/PD_Screen/pdr-1_tm395/20220511_195529/FX0395_10x2_f96h20C_600s30x10s10s_A0507cc.dat', '/Volumes/JOSEPH/PD_Screen/pdr-1_tm598/20220511_175701/FX0598_10x2_f72h20C_600s31x10s10s_B0507ba.dat', '/Volumes/JOSEPH/PD_Screen/pdr-1_tm598/20220511_194103/FX0598_10x2_f72h20C_600s31x10s10s_B0507bd.dat', '/Volumes/JOSEPH/PD_Screen/pdr-1_tm598/20220511_185125/FX0598_10x2_f72h20C_600s31x10s10s_C0507bc.dat', '/Volumes/JOSEPH/PD_Screen/pdr-1_tm598/20220511_191346/FX0598_10x2_f96h20C_600s30x10s10s_A0507bb.dat', '/Volumes/JOSEPH/PD_Screen/pdr-1_tm598/20220511_205751/FX0598_10x2_f96h20C_600s30x10s10s_A0507be.dat', '/Volumes/JOSEPH/PD_Screen/pgrn-1_tm985/20220806_122237/FX00985_10x2_f96h20C_600s31x10s10s_A0802bc.dat', '/Volumes/JOSEPH/PD_Screen/pgrn-1_tm985/20220806_104023/FX00985_10x2_f72h20C_600s31x10s10s_B0802ba.dat', '/Volumes/JOSEPH/PD_Screen/pgrn-1_tm985/20220806_105354/FX00985_10x2_f72h20C_600s31x10s10s_C0802bb.dat', '/Volumes/JOSEPH/PD_Screen/pgrn-1_tm985/20220806_144006/FX00985_10x2_f72h20C_600s31x10s10s_B0802ba.dat', '/Volumes/JOSEPH/PD_Screen/pgrn-1_tm985/20220806_145245/FX00985_10x2_f72h20C_600s31x10s10s_C0802bb.dat', '/Volumes/JOSEPH/PD_Screen/pgrn-1_tm985/20220806_155558/FX00985_10x2_f72h20C_600s31x10s10s_C0802bd.dat', '/Volumes/JOSEPH/PD_Screen/pgrn-1_tm985/20220806_162131/FX00985_10x2_f96h20C_600s31x10s10s_A0802bc.dat', '/Volumes/JOSEPH/PD_Screen/pink-1_ok3538/20220725_094323/OK3538_10x2_f72h20C_600s31x10s10s_C0721ca.dat', '/Volumes/JOSEPH/PD_Screen/pink-1_ok3538/20220725_113421/OK3538_10x2_f72h20C_600s31x10s10s_C0721cd.dat', '/Volumes/JOSEPH/PD_Screen/pink-1_ok3538/20220725_111623/OK3538_10x2_f72h20C_600s31x10s10s_B0721cc.dat', '/Volumes/JOSEPH/PD_Screen/pink-1_ok3538/20220725_131338/OK3538_10x2_f96h20C_600s30x10s10s_A0721ce.dat', '/Volumes/JOSEPH/PD_Screen/pink-1_ok3538/20220725_112912/OK3538_10x2_f96h20C_600s30x10s10s_A0721cb.dat', '/Volumes/JOSEPH/PD_Screen/pink-1_tm1779/20220627_112636/TM1779_10x2_f72h20C_600s31x10s10s_C0623bc.dat', '/Volumes/JOSEPH/PD_Screen/pink-1_tm1779/20220627_101353/TM1779_10x2_f72h20C_600s31x10s10s_B0623ba.dat', '/Volumes/JOSEPH/PD_Screen/pink-1_tm1779/20220627_122916/TM1779_10x2_f72h20C_600s31x10s10s_B0623bd.dat', '/Volumes/JOSEPH/PD_Screen/pink-1_tm1779/20220627_114543/TM1779_10x2_f96h20C_600s30x10s10s_A0623bb.dat', '/Volumes/JOSEPH/PD_Screen/pink-1_tm1779/20220627_141357/TM1779_10x2_f96h20C_600s30x10s10s_A0623be.dat', '/Volumes/JOSEPH/PD_Screen/sac-2_ok2743/20220820_123127/RB2077_10x2_f72h20C_600s31x10s10s_C0816dc.dat', '/Volumes/JOSEPH/PD_Screen/sac-2_ok2743/20220820_140045/RB2077_10x2_f96h20C_600s31x10s10s_A0816dd.dat', '/Volumes/JOSEPH/PD_Screen/sac-2_ok2743/20220820_122202/RB2077_10x2_f96h20C_600s31x10s10s_A0816da.dat', '/Volumes/JOSEPH/PD_Screen/sac-2_ok2743/20220820_122017/RB2077_10x2_f72h20C_600s31x10s10s_B0816db.dat', '/Volumes/JOSEPH/PD_Screen/sac-2_ok2743/20220820_134401/RB2077_10x2_f72h20C_600s31x10s10s_B0816de.dat', '/Volumes/JOSEPH/PD_Screen/set-2_ok952/20221012_111358/RB1025_10x2_f96h20C_600s31x10s10s_A1012bb.dat', '/Volumes/JOSEPH/PD_Screen/set-2_ok952/20221012_113708/RB1025_10x2_f96h20C_600s31x10s10s_A1012be.dat', '/Volumes/JOSEPH/PD_Screen/set-2_ok952/20221012_094305/RB1025_10x2_f72h20C_600s31x10s10s_B01012ba.dat', '/Volumes/JOSEPH/PD_Screen/set-2_ok952/20221012_110113/RB1025_10x2_f72h20C_600s31x10s10s_B01012bd.dat', '/Volumes/JOSEPH/PD_Screen/set-2_ok952/20221012_102903/RB1025_10x2_f72h20C_600s31x10s10s_C1012bc.dat', '/Volumes/JOSEPH/PD_Screen/sipa-1_ok879/20220524_164318/RB975_10x2_f72h20C_600s31x10s10s_B0520ce.dat', '/Volumes/JOSEPH/PD_Screen/sipa-1_ok879/20220524_153551/RB975_10x2_f72h20C_600s31x10s10s_B0520cc.dat', '/Volumes/JOSEPH/PD_Screen/sipa-1_ok879/20220524_154911/RB975_10x2_f96h20C_600s30x10s10s_A0520cb.dat', '/Volumes/JOSEPH/PD_Screen/sipa-1_ok879/20220524_140653/RB975_10x2_f72h20C_600s31x10s10s_C0520ca.dat', '/Volumes/JOSEPH/PD_Screen/sipa-1_ok879/20220524_154902/RB975_10x2_f72h20C_600s31x10s10s_C0520cd.dat', '/Volumes/JOSEPH/PD_Screen/snb-5_ok1434/20220513_124557/VC885_10x2_f72h20C_600s31x10s10s_B0509cb.dat', '/Volumes/JOSEPH/PD_Screen/snb-5_ok1434/20220513_145430/VC885_10x2_f72h20C_600s31x10s10s_B0509ce.dat', '/Volumes/JOSEPH/PD_Screen/snb-5_ok1434/20220513_114921/VC885_10x2_f72h20C_600s31x10s10s_C0509ca.dat', '/Volumes/JOSEPH/PD_Screen/snb-5_ok1434/20220513_135455/VC885_10x2_f72h20C_600s31x10s10s_C0509cd.dat', '/Volumes/JOSEPH/PD_Screen/snb-5_ok1434/20220513_140815/VC885_10x2_f96h20C_600s30x10s10s_A0509cc.dat', '/Volumes/JOSEPH/PD_Screen/src-1_ok2685/20220906_175225/RB2027_10x2_f72h20C_600s31x10s10s_B0906ba.dat', '/Volumes/JOSEPH/PD_Screen/src-1_ok2685/20220906_181210/RB2027_10x2_f72h20C_600s31x10s10s_C0906bb.dat', '/Volumes/JOSEPH/PD_Screen/src-1_ok2685/20220906_191634/RB2027_10x2_f72h20C_600s31x10s10s_B0906bd.dat', '/Volumes/JOSEPH/PD_Screen/src-1_ok2685/20220906_194414/RB2027_10x2_f72h20C_600s31x10s10s_B0906be.dat', '/Volumes/JOSEPH/PD_Screen/src-1_ok2685/20220906_195515/RB2027_10x2_f96h20C_600s31x10s10s_A0906bc.dat', '/Volumes/JOSEPH/PD_Screen/unc-10_ad591/20220513_115851/DA591_10x2_f72h20C_600s31x10s10s_B0509ba.dat', '/Volumes/JOSEPH/PD_Screen/unc-10_ad591/20220513_140438/DA591_10x2_f72h20C_600s31x10s10s_B0509bd.dat', '/Volumes/JOSEPH/PD_Screen/unc-10_ad591/20220513_125927/DA591_10x2_f72h20C_600s31x10s10s_C0509bc.dat', '/Volumes/JOSEPH/PD_Screen/unc-10_ad591/20220513_132225/DA591_10x2_f96h20C_600s30x10s10s_A0509bb.dat', '/Volumes/JOSEPH/PD_Screen/unc-10_ad591/20220513_153039/DA591_10x2_f96h20C_600s30x10s10s_A0509be.dat', '/Volumes/JOSEPH/PD_Screen/unc-59_e261/20221012_104921/CB261_10x2_f96h20C_600s31x10s10s_A1012da.dat', '/Volumes/JOSEPH/PD_Screen/unc-59_e261/20221012_125037/CB261_10x2_f96h20C_600s31x10s10s_A1012dd.dat', '/Volumes/JOSEPH/PD_Screen/unc-59_e261/20221012_112357/CB261_10x2_f72h20C_600s31x10s10s_B01012dc.dat', '/Volumes/JOSEPH/PD_Screen/unc-59_e261/20221012_105237/CB261_10x2_f72h20C_600s31x10s10s_C1012db.dat', '/Volumes/JOSEPH/PD_Screen/unc-59_e261/20221012_114117/CB261_10x2_f72h20C_600s31x10s10s_C1012de.dat', '/Volumes/JOSEPH/PD_Screen/unc-59_e1005/20220928_132047/CB1005_10x2_f72h20C_600s31x10s10s_B0928dc.dat', '/Volumes/JOSEPH/PD_Screen/unc-59_e1005/20220928_122150/CB1005_10x2_f72h20C_600s31x10s10s_C0928db.dat', '/Volumes/JOSEPH/PD_Screen/unc-59_e1005/20220928_133508/CB1005_10x2_f72h20C_600s31x10s10s_C0928de.dat', '/Volumes/JOSEPH/PD_Screen/unc-59_e1005/20220928_124128/CB1005_10x2_f96h20C_600s31x10s10s_A0928da.dat', '/Volumes/JOSEPH/PD_Screen/unc-59_e1005/20220928_144505/CB1005_10x2_f96h20C_600s31x10s10s_A0928dd.dat', '/Volumes/JOSEPH/PD_Screen/vps-35_ok1880/20220809_093226/VC1390_10x2_f72h20C_600s31x10s10s_B0809ba.dat', '/Volumes/JOSEPH/PD_Screen/vps-35_ok1880/20220809_114206/VC1390_10x2_f96h20C_600s31x10s10s_A0809bc.dat', '/Volumes/JOSEPH/PD_Screen/vps-35_ok1880/20220809_120049/VC1390_10x2_f72h20C_600s31x10s10s_C0809be.dat', '/Volumes/JOSEPH/PD_Screen/vps-35_ok1880/20220913_172646/VC1390_10x2_f96h20C_600s31x10s10s_A0913da.dat', '/Volumes/JOSEPH/PD_Screen/vps-35_ok1880/20220913_174619/VC1390_10x2_f72h20C_600s31x10s10s_B0913dc.dat', '/Volumes/JOSEPH/PD_Screen/vps-35_ok1880/20220913_192234/VC1390_10x2_f96h20C_600s31x10s10s_A0913dd.dat', '/Volumes/JOSEPH/PD_Screen/Y18D10A.22_ok3535/20220928_120638/RB2545_10x2_f72h20C_600s31x10s10s_B0928ea.dat', '/Volumes/JOSEPH/PD_Screen/Y18D10A.22_ok3535/20220928_134302/RB2545_10x2_f72h20C_600s31x10s10s_B0928ed.dat', '/Volumes/JOSEPH/PD_Screen/Y18D10A.22_ok3535/20220928_124518/RB2545_10x2_f72h20C_600s31x10s10s_C0928ec.dat', '/Volumes/JOSEPH/PD_Screen/Y18D10A.22_ok3535/20220928_130637/RB2545_10x2_f96h20C_600s31x10s10s_A0928eb.dat', '/Volumes/JOSEPH/PD_Screen/Y18D10A.22_ok3535/20220928_151613/RB2545_10x2_f96h20C_600s31x10s10s_A0928ee.dat']\n",
      "done step 4\n"
     ]
    }
   ],
   "source": [
    "#folder_path = '/Users/Joseph/Desktop/lrk1_ATR_NoATR_08_15_2019'\n",
    "print(folder_path)\n",
    "os.chdir(folder_path) #<- setting your working directory so that your images will be saved here\n",
    "\n",
    "filelist = list() #<- empty list\n",
    "for root, dirs, files in os.walk(folder_path): #<- this for loop goes through your folder \n",
    "    for name in files:\n",
    "        if name.endswith('.dat'): #<- and takes out all files with a .dat (file that contains your data)\n",
    "            filepath = os.path.join(root, name) #<- Notes down the file path of each data file\n",
    "            filelist.append(filepath) #<- saves it into the list\n",
    "    \n",
    "print(filelist)\n",
    "print('done step 4')"
   ]
  },
  {
   "cell_type": "markdown",
   "metadata": {},
   "source": [
    "# 5. Process Data Function (No input required, just run)"
   ]
  },
  {
   "cell_type": "code",
   "execution_count": 9,
   "metadata": {},
   "outputs": [
    {
     "name": "stdout",
     "output_type": "stream",
     "text": [
      "done step 5\n"
     ]
    }
   ],
   "source": [
    "def ProcessData(strain): #<- an example of a user-defined function\n",
    "    strain_filelist = [x for x in filelist if strain in x] #<- goes through the list and filters for keyword\n",
    "    Strain_N = len(strain_filelist) #<- N per strain, or number of plates\n",
    "    Plate_N = 1\n",
    "    print(f'this strain/treatment has {Strain_N} plates') #<- will output as the first number\n",
    "    if Strain_N == 0:\n",
    "        raise AssertionError ('{} is not a good identifier'.format(strain))\n",
    "    else:\n",
    "        pass\n",
    "#     for f in strain_filelist:\n",
    "#         DF_Total = pd.concat(pd.read_csv(f, sep=' ', skiprows = 4, header = None))\n",
    "        DF_Total = pd.concat([pd.read_csv(f, sep=' ', header = None) for f in strain_filelist],\n",
    "                      ignore_index=True) #<- imports your data files\n",
    "#         DF_Total = DF_Total.dropna(axis = 1) #<- cleans your data\n",
    "        DF_Total = DF_Total.rename( #<- more cleaning\n",
    "                    {0:'Time',\n",
    "                    1:'n',\n",
    "                    2:'Number',\n",
    "                    3:'Instantaneous Speed',\n",
    "                    4:'Interval Speed',\n",
    "                    5:'Bias',\n",
    "                    6:'Tap',\n",
    "                    7:'Puff',\n",
    "                    8:'x',\n",
    "                    9:'y',\n",
    "                    10:'Width',\n",
    "                    11:'Length',\n",
    "                    12:'Area',\n",
    "                    13:'Angular Speed',\n",
    "                    14:'Aspect Ratio',\n",
    "                    15:'Kink',\n",
    "                    16:'Curve',\n",
    "                    17:'Crab'}, axis=1)\n",
    "        #check function here for NaN Columns\n",
    "        DF_Total['plate'] = 0\n",
    "        # DF_Total['prob'] = DF_Total['stim_rev']/ (DF_Total['no_rev'] + DF_Total['stim_rev']) #<- calculate prob\n",
    "        # DF_Total['speed'] = DF_Total['dist']/DF_Total['dura'] #<- calculate speed\n",
    "        # DF_Total_rows = int(DF_Total.shape[0])\n",
    "        # print(f'this strain/treatment has {DF_Total_rows} total taps') #<- Outputs as the second number. Check if you are missing taps!\n",
    "        # DF_Final = DF_Total[[\"time\", \"dura\", \"dist\", \"prob\", \"speed\", \"plate\"]].copy()\n",
    "\n",
    "    return{\n",
    "            'N': Strain_N,\n",
    "            'Confirm':DF_Total\n",
    "            # 'Final': DF_Final\n",
    "    }\n",
    "    print('done!')\n",
    "\n",
    "\n",
    "print('done step 5')"
   ]
  },
  {
   "cell_type": "markdown",
   "metadata": {},
   "source": [
    "# 6.1 Processing Data (Please Read, Input Here)\n",
    "\n",
    "Here is the hardest part - From your naming convention, you need to pick a unique identifier for each group.\n",
    "\n",
    "This means that all of names of your files for that strain should have that in common but is not commone with across all other files! If you did a good job naming your files and following a good naming convention, this should be easy.\n",
    "\n",
    "## Be careful and really look hard in your naming structure. Note you want an unique identifier in the entire file path for the same group of files. An easy mistake is to have the strain name in the folder name, in this case if you use your strain name as a keyword it would include all files in that folder!\n",
    "\n",
    "For example, if all your N2 files have a certain pattern like \"N2_5x4\" in this following example:\n",
    "'/Users/Joseph/Desktop/AVR14_10sISI_TapHab_0710_2019/N2/20190710_141740/N2_5x4_f94h20c_100s30x10s10s_C0710ab.trv'\n",
    "\n",
    "Then you need to set that identifier for the strain keyword:\n",
    "'Strain_1' = 'N2_5x4'\n",
    "\n",
    "In the same example, if the identifier for your second strain is 'AVR14', then the N2 files will also be included, as this identifier can also be found in this file path.\n",
    "\n",
    "## Depending on how many strains you are running for comparison, you may need to add/delete some lines.\n",
    "\n",
    "You are not naming your data groups here, we have a step for that later.\n",
    "## Here, you want to note down ALL the strains you have in the folder\n",
    "\n",
    "If you have just 2 strains, add hashtags (#) in front of the lines you do not need.\n",
    "If you need more strains, just add more lines, following the same format!"
   ]
  },
  {
   "cell_type": "code",
   "execution_count": 12,
   "metadata": {},
   "outputs": [
    {
     "name": "stdout",
     "output_type": "stream",
     "text": [
      "['F53B2.5_ok226', 'glo-1_tm15275', 'hipr-1_tm2207', 'dop-3_tm1356', 'dop-1_vs101', 'gck-3_tm1223', 'hipr-1_ok1081', 'sipa-1_ok879', 'gba-3_gk3287', 'cat-1_e1111', 'pink-1_ok3538', 'djr-1.2_tm1346', 'pink-1_tm1779', 'cat-2_n4547', 'bas-1_tm351', 'gba-2_tm4808', 'pdr-1_tm395', 'glo-1_zu391', 'gba-1_tm3816', 'set-2_ok952', 'unc-10_ad591', 'snb-5_ok1434', 'cat-1_ok411', 'N2', 'src-1_ok2685', 'pdr-1_tm598', 'let-19_gk149538', 'lrk-1_tm1898', 'cat-2_e1112', 'dat-1_ok157', 'sac-2_ok2743', 'lrk-1_tm7568', 'dpy-22_e652', 'unc-59_e1005', 'bas-1_ad446', 'gba-3_tm3302', 'pdr-1_gk448', 'Y18D10A.22_ok3535', 'vps-35_ok1880', 'gck-3_tm1296', 'dpy-22_tm12356', 'cat-2_tm2261', 'dop-3_ok295', 'glo-1_tm3240', 'pgrn-1_tm985', 'dpy-22_sy622', 'gba-2_tm4623', 'hipr-1_tm10120', 'cpr-1_ok1344', 'unc-59_e261']\n",
      "[1, 2, 3, 4, 5, 6, 7, 8, 9, 10, 11, 12, 13, 14, 15, 16, 17, 18, 19, 20, 21, 22, 23, 24, 25, 26, 27, 28, 29, 30, 31, 32, 33, 34, 35, 36, 37, 38, 39, 40, 41, 42, 43, 44, 45, 46, 47, 48, 49, 50]\n",
      "{1: 'F53B2.5_ok226', 2: 'glo-1_tm15275', 3: 'hipr-1_tm2207', 4: 'dop-3_tm1356', 5: 'dop-1_vs101', 6: 'gck-3_tm1223', 7: 'hipr-1_ok1081', 8: 'sipa-1_ok879', 9: 'gba-3_gk3287', 10: 'cat-1_e1111', 11: 'pink-1_ok3538', 12: 'djr-1.2_tm1346', 13: 'pink-1_tm1779', 14: 'cat-2_n4547', 15: 'bas-1_tm351', 16: 'gba-2_tm4808', 17: 'pdr-1_tm395', 18: 'glo-1_zu391', 19: 'gba-1_tm3816', 20: 'set-2_ok952', 21: 'unc-10_ad591', 22: 'snb-5_ok1434', 23: 'cat-1_ok411', 24: 'N2', 25: 'src-1_ok2685', 26: 'pdr-1_tm598', 27: 'let-19_gk149538', 28: 'lrk-1_tm1898', 29: 'cat-2_e1112', 30: 'dat-1_ok157', 31: 'sac-2_ok2743', 32: 'lrk-1_tm7568', 33: 'dpy-22_e652', 34: 'unc-59_e1005', 35: 'bas-1_ad446', 36: 'gba-3_tm3302', 37: 'pdr-1_gk448', 38: 'Y18D10A.22_ok3535', 39: 'vps-35_ok1880', 40: 'gck-3_tm1296', 41: 'dpy-22_tm12356', 42: 'cat-2_tm2261', 43: 'dop-3_ok295', 44: 'glo-1_tm3240', 45: 'pgrn-1_tm985', 46: 'dpy-22_sy622', 47: 'gba-2_tm4623', 48: 'hipr-1_tm10120', 49: 'cpr-1_ok1344', 50: 'unc-59_e261'}\n",
      "done step 6.1\n"
     ]
    }
   ],
   "source": [
    "# TotalConcatenated[['Genotype', 'Treatment']] = TotalConcatenated['Strain'].str.split(' - ', 1, expand=True)\n",
    "# print(list(set(filelist)))\n",
    "# nfiles = list(range(1, len(filelist.unique())+1))\n",
    "# print(nfiles)\n",
    "# strainnames = []\n",
    "strainnames=[]\n",
    "for f in filelist:\n",
    "    strainnames.append(f.split('/')[4])\n",
    "ustrainnames=list(set(strainnames))\n",
    "print(ustrainnames)\n",
    "# ustrainnames.sort()\n",
    "# # print(ustrainnames)\n",
    "# ustrainnames.insert(0, ustrainnames.pop(ustrainnames.index(\"N2_OnFood\")))\n",
    "# # print(ustrainnames)\n",
    "# ustrainnames.insert(0, ustrainnames.pop(ustrainnames.index(\"N2_OffFood\")))\n",
    "# # print(ustrainnames)\n",
    "nstrains=list(range(1,len(ustrainnames)+1))\n",
    "print(nstrains)\n",
    "\n",
    "StrainNames = {}\n",
    "StrainNames = {nstrains[i]: ustrainnames[i] for i in range(len(nstrains))}\n",
    "print(StrainNames)\n",
    "print(\"done step 6.1\")\n",
    "\n",
    "# <---------------- Test element to use for dictionary buidling -------------------\n",
    "# s = '/Users/Joseph/Desktop/OnFoodOffFoodTest/N2_OnFood/20220401_163048/N2_10x1_n96h20C_360sA0401_ka.00065.dat'\n",
    "# slist=s.split('/')[5]\n",
    "# print(slist)\n",
    "# print(list(range(1,5+1)))"
   ]
  },
  {
   "cell_type": "code",
   "execution_count": null,
   "metadata": {},
   "outputs": [],
   "source": [
    "# # ------------This Cell Is Now Defunct ----------------\n",
    "\n",
    "\n",
    "# #Format: Strain_# = 'unique_identifier'\n",
    "\n",
    "# ### Make into dictionary\n",
    "# StrainNames = {\n",
    "#     'Strain_1' : 'No_Parafilm',   #<- each strain will be designated to a unique identifier here\n",
    "#     'Strain_2' : 'Yes_Parafilm',\n",
    "# #     'Strain_3' : 'e1112_OffFood',\n",
    "# #     'Strain_4' : 'e1112_OnFood',\n",
    "# #     'Strain_5' : 'Test_OffFood',\n",
    "# #     'Strain_6' : 'Test_OnFood',\n",
    "# #     'Strain_5' : 'N2_NoFood',\n",
    "# #     'Strain_6' : 'N2_Food',\n",
    "# #     'Strain_9' : 'LX636_NoFood',  #<- empty entries are for those hardcore trackers that tracking this many strains\n",
    "# #     'Strain_10' : 'LX636_Food',\n",
    "# #     'Strain_11' : '',\n",
    "# #     'Strain_12' : '',\n",
    "# #     'Strain_13' : '',\n",
    "# #     'Strain_14' : '',\n",
    "# #     'Strain_15' : '',\n",
    "# }\n",
    "# #...etc, etc\n",
    "\n",
    "# print('done step 6.1')\n",
    "# print(StrainNames)"
   ]
  },
  {
   "cell_type": "markdown",
   "metadata": {},
   "source": [
    "# Cell below is to run testing/debugging. Do not need to run (commented out)"
   ]
  },
  {
   "cell_type": "code",
   "execution_count": null,
   "metadata": {},
   "outputs": [],
   "source": [
    "\n",
    "\n",
    "# DF_Read = pd.read_csv('/Users/Joseph/Desktop/OnFoodOffFoodTest/N2_OnFood/20220401_163048/N2_10x1_n96h20C_360sA0401_ka.00065.dat'\n",
    "#                       , sep=' ', header = None, index_col=False) #<- imports and cleans data\n",
    "# DF_Read[\"worm\"]=1\n",
    "# # print(DF_Read)\n",
    "# DF_Total = DF_Read #<- more data cleaning\n",
    "# DF_Total = DF_Total.rename( #<- more data cleaning\n",
    "#             {0:'time',\n",
    "#             1:'speed',\n",
    "#             2: \"x\",\n",
    "#             3: \"y\",\n",
    "#             4: \"angularspeed\",\n",
    "#             5: \"pathlength\",\n",
    "#             6: \"kink\",\n",
    "#             7: \"bias\",\n",
    "#             8: \"curve\",\n",
    "#             9: \"dir\",\n",
    "#             10: \"crab\",\n",
    "#             11: \"length\",\n",
    "#             12: \"midline\",\n",
    "#             13: \"width\",\n",
    "#             14: \"morphwidth\",\n",
    "#             15: \"area\"\n",
    "#             }, axis=1)\n",
    "# DF_Total[\"x_0\"] = DF_Total.x - DF_Total.x.iloc[0]\n",
    "# DF_Total[\"y_0\"] = DF_Total.y - DF_Total.y.iloc[0]\n",
    "\n",
    "# DF_Total[\"x_test\"] = DF_Total.iloc[:,2] - DF_Total.iloc[0,2]\n",
    "# DF_Total[\"y_test\"] = DF_Total.iloc[:,3] - DF_Total.iloc[0,3]\n",
    "# DF_Total[\"distance\"]= 0\n",
    "print(DF_Total)\n",
    "\n",
    "# A_i = np.array(DF_Total['pathlength'][1:])\n",
    "# A_i_1 = np.array(DF_Total['pathlength'][0:-1])\n",
    "# result = np.abs(A_i - A_i_1).tolist()\n",
    "# result.insert(0,0)\n",
    "# curr_sum = 0\n",
    "# new_list = []\n",
    "# for i in range(len(result)):\n",
    "#     curr_sum += result[i]\n",
    "#     new_list.append(curr_sum)\n",
    "# DF_Total[\"distance\"]=new_list\n",
    "# print(DF_Total)\n",
    "\n",
    "\n",
    "\n",
    "        \n",
    "\n",
    "\n",
    "# A_i = np.array(DF_Total.iloc[1:,5])\n",
    "# A_i_1 = np.array(DF_Total.iloc[0:-1,5])\n",
    "# result = np.abs(A_i - A_i_1).tolist()\n",
    "# result.insert(0,0)\n",
    "# curr_sum = 0\n",
    "# new_list = []\n",
    "# for i in range(len(result)):\n",
    "#     curr_sum += result[i]\n",
    "#     new_list.append(curr_sum)\n",
    "# print(A_i)\n",
    "# print(A_i_1)\n",
    "# print(len(A_i))\n",
    "# print(len(A_i_1))\n",
    "# # resultS=pd.Series(result)\n",
    "# # print(resultS.cumsum())\n",
    "# # print(new_list)\n",
    "\n",
    "# curr_sum = 0\n",
    "# new_list = []\n",
    "# for i in range(len(result)):\n",
    "#     curr_sum += result[i]\n",
    "#     new_list.append(curr_sum)\n",
    "    \n",
    "    \n",
    "# import matplotlib.pyplot as plt\n",
    "# plt.plot(new_list)"
   ]
  },
  {
   "cell_type": "markdown",
   "metadata": {},
   "source": [
    "# 6.2 Process Data (just run this cell)"
   ]
  },
  {
   "cell_type": "code",
   "execution_count": 13,
   "metadata": {},
   "outputs": [
    {
     "data": {
      "application/vnd.jupyter.widget-view+json": {
       "model_id": "e3d499fa5ee34372858c9a40a33b2881",
       "version_major": 2,
       "version_minor": 0
      },
      "text/plain": [
       "  0%|          | 0/50 [00:00<?, ?it/s]"
      ]
     },
     "metadata": {},
     "output_type": "display_data"
    },
    {
     "name": "stdout",
     "output_type": "stream",
     "text": [
      "this strain/treatment has 5 plates\n",
      "this strain/treatment has 5 plates\n",
      "this strain/treatment has 4 plates\n",
      "this strain/treatment has 4 plates\n",
      "this strain/treatment has 5 plates\n",
      "this strain/treatment has 7 plates\n",
      "this strain/treatment has 5 plates\n",
      "this strain/treatment has 5 plates\n",
      "this strain/treatment has 5 plates\n",
      "this strain/treatment has 5 plates\n",
      "this strain/treatment has 5 plates\n",
      "this strain/treatment has 5 plates\n",
      "this strain/treatment has 5 plates\n",
      "this strain/treatment has 5 plates\n",
      "this strain/treatment has 5 plates\n",
      "this strain/treatment has 5 plates\n",
      "this strain/treatment has 5 plates\n",
      "this strain/treatment has 5 plates\n",
      "this strain/treatment has 5 plates\n",
      "this strain/treatment has 5 plates\n",
      "this strain/treatment has 5 plates\n",
      "this strain/treatment has 5 plates\n",
      "this strain/treatment has 5 plates\n",
      "this strain/treatment has 90 plates\n",
      "this strain/treatment has 5 plates\n",
      "this strain/treatment has 5 plates\n",
      "this strain/treatment has 5 plates\n",
      "this strain/treatment has 5 plates\n",
      "this strain/treatment has 5 plates\n",
      "this strain/treatment has 5 plates\n",
      "this strain/treatment has 5 plates\n",
      "this strain/treatment has 6 plates\n",
      "this strain/treatment has 5 plates\n",
      "this strain/treatment has 5 plates\n",
      "this strain/treatment has 5 plates\n",
      "this strain/treatment has 4 plates\n",
      "this strain/treatment has 5 plates\n",
      "this strain/treatment has 5 plates\n",
      "this strain/treatment has 6 plates\n",
      "this strain/treatment has 5 plates\n",
      "this strain/treatment has 5 plates\n",
      "this strain/treatment has 5 plates\n",
      "this strain/treatment has 5 plates\n",
      "this strain/treatment has 14 plates\n",
      "this strain/treatment has 7 plates\n",
      "this strain/treatment has 5 plates\n",
      "this strain/treatment has 5 plates\n",
      "this strain/treatment has 5 plates\n",
      "this strain/treatment has 5 plates\n",
      "this strain/treatment has 5 plates\n",
      "done step 6.2\n"
     ]
    }
   ],
   "source": [
    "DataLists = [0] #<- generates empty list. 0 is there to account for python's index starting at 0. \n",
    "# we want indexing to start at 1 (when I say #1 I want the first point, not the second point)\n",
    "\n",
    "for s in tqdm(StrainNames.values()): #<- goes through the dictionary in step 6.1 and processes data\n",
    "    if not s == '':\n",
    "        DataLists.append(ProcessData(s)['Confirm']) #<- appends all data into a list of dataframes\n",
    "\n",
    "# print(DataLists[2])\n",
    "print('done step 6.2')"
   ]
  },
  {
   "cell_type": "markdown",
   "metadata": {},
   "source": [
    "# Convert float64 data to float32 to reduce memory load (can also convert to 16 if needed)\n",
    "\n",
    "For plain english:\n",
    "\n",
    "float16 = 4 decimal points\n",
    "\n",
    "float32 = 8 decimal points\n",
    "\n",
    "float64 = 16 decimal points\n",
    "\n",
    "more decimal points = more data/memory that computer has to keep track of"
   ]
  },
  {
   "cell_type": "code",
   "execution_count": 17,
   "metadata": {},
   "outputs": [
    {
     "name": "stdout",
     "output_type": "stream",
     "text": [
      "            Time   n  Number  Instantaneous Speed  Interval Speed   Bias  Tap  \\\n",
      "0          0.007  49       0               0.0000          0.0000  0.000    0   \n",
      "1          0.081  50       0               0.0000          0.0000  0.000    0   \n",
      "2          0.163  50       0               0.0000          0.0000  0.000    0   \n",
      "3          0.243  54       0               0.0000          0.0000  0.000    0   \n",
      "4          0.325  54       0               0.0000          0.0000  0.000    0   \n",
      "...          ...  ..     ...                  ...             ...    ...  ...   \n",
      "101784  1199.830  64      40               0.2031          0.1354  0.467    0   \n",
      "101785  1199.916  64      40               0.1535          0.0984  0.033    0   \n",
      "101786  1199.991  64      40               0.1553          0.1064  0.033    0   \n",
      "101787  1200.071  64      40               0.0000          0.0000  0.033    0   \n",
      "101788  1200.142  64      40               0.0000          0.0000  0.033    0   \n",
      "\n",
      "        Puff        x        y   Width  Length      Area  Angular Speed  \\\n",
      "0          0   0.0000   0.0000  0.0000  0.0000  0.000000            0.0   \n",
      "1          0   0.0000   0.0000  0.0000  0.0000  0.000000            0.0   \n",
      "2          0   0.0000   0.0000  0.0000  0.0000  0.000000            0.0   \n",
      "3          0   0.0000   0.0000  0.0000  0.0000  0.000000            0.0   \n",
      "4          0   0.0000   0.0000  0.0000  0.0000  0.000000            0.0   \n",
      "...      ...      ...      ...     ...     ...       ...            ...   \n",
      "101784     0  22.9285  29.7168  0.1258  1.0208  0.141390           13.5   \n",
      "101785     0  22.9289  29.7159  0.1288  1.0337  0.145727            9.6   \n",
      "101786     0  22.9263  29.7155  0.1253  1.0251  0.141699            9.4   \n",
      "101787     0  22.9288  29.7132  0.1207  1.0328  0.141681            0.0   \n",
      "101788     0  22.9310  29.7117  0.1244  1.0361  0.146183            0.0   \n",
      "\n",
      "        Aspect Ratio  Kink  Curve    Crab  plate  \n",
      "0              0.000   0.0    0.0  0.0000      0  \n",
      "1              0.000   0.0    0.0  0.0000      0  \n",
      "2              0.000   0.0    0.0  0.0000      0  \n",
      "3              0.000   0.0    0.0  0.0000      0  \n",
      "4              0.000   0.0    0.0  0.0000      0  \n",
      "...              ...   ...    ...     ...    ...  \n",
      "101784         0.332  51.9   32.4  0.0274      0  \n",
      "101785         0.317  55.7   33.9  0.0244      0  \n",
      "101786         0.318  54.1   33.7  0.0211      0  \n",
      "101787         0.319  52.7   32.1  0.0000      0  \n",
      "101788         0.317  54.1   31.6  0.0000      0  \n",
      "\n",
      "[101789 rows x 19 columns]\n"
     ]
    }
   ],
   "source": [
    "print(DataLists[1])"
   ]
  },
  {
   "cell_type": "code",
   "execution_count": null,
   "metadata": {},
   "outputs": [],
   "source": [
    "#No need to run here\n",
    "for n in tqdm(DataLists[1:]):\n",
    "#     print(n)\n",
    "    TestData=n\n",
    "    TestData[TestData.select_dtypes(np.float64).columns] = TestData.select_dtypes(np.float64).astype(np.float16)\n",
    "    print(\"done this strain\")"
   ]
  },
  {
   "cell_type": "code",
   "execution_count": null,
   "metadata": {},
   "outputs": [],
   "source": [
    "#No need to run here\n",
    "\n",
    "# print(TotalConcatenated.dtypes)\n",
    "TotalConcatenated['time_bin'] = TotalConcatenated['time_bin'].astype(np.float16)\n",
    "# print(TotalConcatenated.dtypes)\n",
    "# TotalConcatenated.dtypes\n",
    "# Test Cell\n",
    "# DataLists[1].to_csv(\"test.csv\")\n",
    "Test = TotalConcatenated.reset_index(drop=True)\n",
    "print(Test)"
   ]
  },
  {
   "cell_type": "markdown",
   "metadata": {},
   "source": [
    "# 7. Grouping Data and Naming (Optional: Add input here)\n",
    "\n",
    "Here, you get to name your data groups/strain! Name your groups however you like under between the quotation marks for each strain.\n",
    "\n",
    "For example: If your Strain1 is N2 and you wish for the group to be called N2,\n",
    "your line should look like:\n",
    "\n",
    "DataLists[x].assign(dataset = 'N2')\n",
    "\n",
    "## Go back to step 6.1 to check which strain is which item on the DataLists.\n",
    "In this example, the first item on DataLists is AQ2028_b.\n",
    "\n",
    "\n",
    "## Remember: Put your name in quotes. (ex: 'N2' and not N2)\n",
    "\n",
    "As default, the names are set to the unique identifier labels.\n",
    "\n",
    "## Depending on the number of strains you are running the comparison, you may have to delete/add lines of code (following the same format). \n",
    "## Remember to add/delete commas too.\n",
    "\n",
    "# If you want to change your groups, you do that here. \n",
    "For example, if you have 5 strains in your folder but only want to compare between 2 or 3 strains, designate that here and follow through with steps 6 and 7. Once you are done, come back to step 6 and change your groups again (You are going to have to change your graph titles for the second run-through though)!"
   ]
  },
  {
   "cell_type": "code",
   "execution_count": 16,
   "metadata": {},
   "outputs": [
    {
     "name": "stdout",
     "output_type": "stream",
     "text": [
      "            Time   n  Number  Instantaneous Speed  Interval Speed   Bias  Tap  \\\n",
      "0          0.007  49       0               0.0000          0.0000  0.000    0   \n",
      "1          0.081  50       0               0.0000          0.0000  0.000    0   \n",
      "2          0.163  50       0               0.0000          0.0000  0.000    0   \n",
      "3          0.243  54       0               0.0000          0.0000  0.000    0   \n",
      "4          0.325  54       0               0.0000          0.0000  0.000    0   \n",
      "...          ...  ..     ...                  ...             ...    ...  ...   \n",
      "109266  1199.821  73      41               0.0761          0.0771  0.517    0   \n",
      "109267  1199.901  73      41               0.0787          0.0762  0.000    0   \n",
      "109268  1199.980  73      41               0.0739          0.0758  0.000    0   \n",
      "109269  1200.059  73      41               0.0000          0.0000  0.000    0   \n",
      "109270  1200.141  73      41               0.0000          0.0000  0.000    0   \n",
      "\n",
      "        Puff        x        y   Width  Length      Area  Angular Speed  \\\n",
      "0          0   0.0000   0.0000  0.0000  0.0000  0.000000            0.0   \n",
      "1          0   0.0000   0.0000  0.0000  0.0000  0.000000            0.0   \n",
      "2          0   0.0000   0.0000  0.0000  0.0000  0.000000            0.0   \n",
      "3          0   0.0000   0.0000  0.0000  0.0000  0.000000            0.0   \n",
      "4          0   0.0000   0.0000  0.0000  0.0000  0.000000            0.0   \n",
      "...      ...      ...      ...     ...     ...       ...            ...   \n",
      "109266     0  18.6774  31.7641  0.1269  0.9022  0.121903           14.1   \n",
      "109267     0  18.6780  31.7657  0.1255  0.9111  0.126615           12.7   \n",
      "109268     0  18.6806  31.7665  0.1222  0.9188  0.125192           12.1   \n",
      "109269     0  18.6815  31.7679  0.1206  0.9144  0.122988            0.0   \n",
      "109270     0  18.6835  31.7693  0.1268  0.9114  0.125850            0.0   \n",
      "\n",
      "        Aspect Ratio  Kink  Curve    Crab  plate        dataset     Gene  \\\n",
      "0              0.000   0.0    0.0  0.0000      0  F53B2.5_ok226  F53B2.5   \n",
      "1              0.000   0.0    0.0  0.0000      0  F53B2.5_ok226  F53B2.5   \n",
      "2              0.000   0.0    0.0  0.0000      0  F53B2.5_ok226  F53B2.5   \n",
      "3              0.000   0.0    0.0  0.0000      0  F53B2.5_ok226  F53B2.5   \n",
      "4              0.000   0.0    0.0  0.0000      0  F53B2.5_ok226  F53B2.5   \n",
      "...              ...   ...    ...     ...    ...            ...      ...   \n",
      "109266         0.443  65.2   34.6  0.0138      0    unc-59_e261   unc-59   \n",
      "109267         0.433  64.6   34.5  0.0134      0    unc-59_e261   unc-59   \n",
      "109268         0.429  65.6   34.3  0.0121      0    unc-59_e261   unc-59   \n",
      "109269         0.439  66.2   33.6  0.0000      0    unc-59_e261   unc-59   \n",
      "109270         0.452  69.8   35.0  0.0000      0    unc-59_e261   unc-59   \n",
      "\n",
      "       Allele  \n",
      "0       ok226  \n",
      "1       ok226  \n",
      "2       ok226  \n",
      "3       ok226  \n",
      "4       ok226  \n",
      "...       ...  \n",
      "109266   e261  \n",
      "109267   e261  \n",
      "109268   e261  \n",
      "109269   e261  \n",
      "109270   e261  \n",
      "\n",
      "[7231931 rows x 22 columns]\n",
      "done step 7\n"
     ]
    }
   ],
   "source": [
    "TotalConcatenated=pd.concat(df.assign(dataset=StrainNames.get(i+1)) for i,df in enumerate(DataLists[1:]))\n",
    "TotalConcatenated[['Gene', 'Allele']] = TotalConcatenated['dataset'].str.split('_', 1, expand=True)\n",
    "TotalConcatenated['Allele']=TotalConcatenated['Allele'].fillna('N2')\n",
    "# TotalConcatenated=TotalConcatenated.dropna()\n",
    "# TotalConcatenated = TotalConcatenated.reset_index(drop=True)\n",
    "print(TotalConcatenated)\n",
    "TotalConcatenated.to_csv(\"baseline_output.csv\")\n",
    "# print(\"done output\")\n",
    "print('done step 7')"
   ]
  },
  {
   "cell_type": "code",
   "execution_count": null,
   "metadata": {},
   "outputs": [],
   "source": [
    "# # <------------------- This cell is now DEFUNCT -----------------------\n",
    "\n",
    "\n",
    "# #to add a line, add a comma to the last line and press 'enter' to type into a new line\n",
    "\n",
    "\n",
    "# TotalConcatenated = pd.concat([DataLists[1].assign(Strain = \"Wildtype - No Food\"),\n",
    "#                                DataLists[2].assign(Strain = \"Wildtype - Food\"),\n",
    "#                                DataLists[3].assign(Strain = \"Test - No Food\"),\n",
    "#                                DataLists[4].assign(Strain = \"Test - Food\"),\n",
    "#                                DataLists[5].assign(Strain = \"cat-2 (e1112) - No Food\"),\n",
    "#                                DataLists[6].assign(Strain = \"cat-2 (e1112) - Food\"),\n",
    "# #                                DataLists[5].assign(Strain = \"Wildtype - No Food\"),\n",
    "# #                                DataLists[6].assign(Strain = \"Wildtype - Food\"),\n",
    "# #                                DataLists[9].assign(Strain = \"dop-1 (vs101) - No Food\"),\n",
    "# #                                DataLists[10].assign(Strain = \"dop-1 (vs101) - Food\")\n",
    "#                               ])\n",
    "# # TotalConcatenated=TotalConcatenated.dropna()\n",
    "# TotalConcatenated['time_bin'] = TotalConcatenated['time_bin'].astype(np.float16)\n",
    "# TotalConcatenated[['Genotype', 'Treatment']] = TotalConcatenated['Strain'].str.split(' - ', 1, expand=True)\n",
    "# TotalConcatenated=TotalConcatenated.dropna()\n",
    "# TotalConcatenated = TotalConcatenated.reset_index(drop=True)\n",
    "# print(TotalConcatenated)\n",
    "# TotalConcatenated.to_csv(\"output.csv\")\n",
    "# # print(\"done output\")\n",
    "# print('done step 7')"
   ]
  },
  {
   "cell_type": "markdown",
   "metadata": {},
   "source": [
    "# ..... TO Here"
   ]
  },
  {
   "cell_type": "markdown",
   "metadata": {},
   "source": [
    "# 8.1 Graphing with Light Pulses (Skip to 7.2 if you are not using ChR2)\n",
    "\n",
    "## Here, feel free to change the graph title and axis labels! Images are automatically saved in your folder with your data.\n",
    "\n",
    "# Here, you may need to be patient - this code goes through millions of rows of data to plot your graph, so it may take a minute (or two.... or more...)\n",
    "\n",
    "Palette:\n",
    "\n",
    "Wildtype (ce314): (0.2980392156862745, 0.4470588235294118, 0.6901960784313725)\n",
    "\n",
    "lrk-1: (0.8666666666666667, 0.5176470588235295, 0.3215686274509804)\n",
    "\n",
    "vps-35 (hu68): (0.7686274509803922, 0.3058823529411765, 0.3215686274509804)\n",
    "\n",
    "vps-35 (ok1880): (0.5058823529411764, 0.4470588235294118, 0.7019607843137254)\n",
    "\n",
    "cat-2 (e1112): #8B008B\n",
    "\n",
    "cat-2 (e1112) No ATR: #FF00FF\n",
    "\n",
    "ce314 without ATR: #20B2AA (light see green)\n",
    "\n",
    "ok530 with ATR: #8B4513 (saddle brown)\n",
    "\n",
    "ok530 without ATR: #D2691E (chocolate)\n",
    "\n",
    "control + ATR: \"black\"\n",
    "\n",
    "control - ATR: \"gray\"\n",
    "\n",
    "lrk-1_1 + ATR: \"navy\"\n",
    "\n",
    "lrk-1_1 - ATR: \"royalblue\"\n",
    "\n",
    "lrk-1_2 + ATR: \"green\"\n",
    "\n",
    "lrk-1_2 - ATR: \"lightgreen\""
   ]
  },
  {
   "cell_type": "markdown",
   "metadata": {},
   "source": [
    "# 8.2 Speed Trace Plot"
   ]
  },
  {
   "cell_type": "code",
   "execution_count": null,
   "metadata": {},
   "outputs": [],
   "source": [
    "# Setting viewing range for your graph\n",
    "top = 0.35\n",
    "bottom = 0\n",
    "left = 0\n",
    "right = 420\n",
    "\n",
    "sns.set_context(\"talk\")\n",
    "plt.figure(linewidth = 2.5)\n",
    "plt.figure(figsize=(12,7))\n",
    "plt.gca().xaxis.grid(False)\n",
    "ax = sns.lineplot(x=\"time_bin\", \n",
    "             y=\"speed\", \n",
    "             data = TotalConcatenated,\n",
    "             hue = 'Strain',\n",
    "             palette = ['black',\n",
    "                        'grey',\n",
    "                        '#FF00FF',\n",
    "                        '#8B008B',\n",
    "                        'green',\n",
    "                        'lightgreen',\n",
    "#                         'royalblue',\n",
    "#                         'lightblue',\n",
    "#                         '#FFB5C5',\n",
    "#                         '#CD6889'\n",
    "                       ])\n",
    "plt.xlabel(\"Time (s)\")\n",
    "# plt.ylabel(\"Speed (mm/s)\")\n",
    "# plt.title(\"Speed Trace\")\n",
    "# plt.ylim(top = top)\n",
    "plt.ylim(bottom = bottom)\n",
    "plt.xlim(left= left)\n",
    "plt.xlim(right = right)\n",
    "ax.legend(loc = 'upper right', fontsize = '10')\n",
    "# plt.savefig(f'Speed_Trace_{left}to{right}s.png', format='png', dpi=450)\n",
    "plt.show()"
   ]
  },
  {
   "cell_type": "markdown",
   "metadata": {},
   "source": [
    "# BSR bar plot (differences of differences)"
   ]
  },
  {
   "cell_type": "markdown",
   "metadata": {},
   "source": [
    "Calculates worm speed average over designated time period"
   ]
  },
  {
   "cell_type": "code",
   "execution_count": null,
   "metadata": {},
   "outputs": [],
   "source": [
    "start = 100 #<----- set the start time of the range\n",
    "point = 400 #<------- set the end time of your range\n",
    "chunkeddata0 = TotalConcatenated[TotalConcatenated[\"time\"] >= start]\n",
    "chunkeddata = chunkeddata0[chunkeddata0[\"time\"] <= point]\n",
    "chunkeddata_mean = chunkeddata.groupby([\"Strain\",\"worm\"], as_index=False).mean()\n",
    "chunkeddata_mean[['Genotype', 'Treatment']] = chunkeddata_mean['Strain'].str.split('_', 1, expand=True)\n",
    "worm_avg_speed = chunkeddata_mean[['Genotype', 'Treatment', 'Strain', 'speed']]\n",
    "avg_speed = worm_avg_speed.groupby([\"Strain\", 'Treatment', 'Genotype'], as_index=False).mean()\n",
    "# print(avg_speed)\n",
    "\n",
    "# avg_speed.to_csv(\"avg_speed.csv\")\n",
    "\n",
    "speed_diff = avg_speed.drop(columns=[\"Strain\", \"Treatment\"]).groupby(\"Genotype\", as_index=False).diff(periods=-1).dropna()\n",
    "speed_diff.insert(loc=0, column='Genotype', value=avg_speed['Genotype'].unique())\n",
    "speed_diff.reset_index(drop=True)\n",
    "# print(speed_diff)\n",
    "# print(speed_diff.iloc[1,1])\n",
    "speed_diff['Score']=speed_diff['speed']-speed_diff.iloc[1,1]\n",
    "speed_diff=speed_diff.sort_values(by=[\"Score\"])\n",
    "print(speed_diff)"
   ]
  },
  {
   "cell_type": "code",
   "execution_count": null,
   "metadata": {},
   "outputs": [],
   "source": [
    "print(speed_diff.iloc[0,1])"
   ]
  },
  {
   "cell_type": "code",
   "execution_count": null,
   "metadata": {},
   "outputs": [],
   "source": [
    "avg_speed[\"new\"] = range(1,len(avg_speed)+1)\n",
    "avg_speed.loc[avg_speed.index==4, 'new'] = 0\n",
    "avg_speed.loc[avg_speed.index==4, 'new'] = 0\n",
    "print(avg_speed)\n",
    "# avg_speed.sort_values(\"new\").drop('new', axis=1)"
   ]
  },
  {
   "cell_type": "markdown",
   "metadata": {},
   "source": [
    "## Making the bar plot"
   ]
  },
  {
   "cell_type": "code",
   "execution_count": null,
   "metadata": {},
   "outputs": [],
   "source": [
    "Title = \"BSR Score\" #<---------------- Input Here -----------------\n",
    "sns.set_context(\"talk\")\n",
    "plt.figure(linewidth = 1)\n",
    "plt.figure(figsize=(15, 5))\n",
    "plt.gca().xaxis.grid(False)\n",
    "ax = sns.barplot(x=\"Genotype\", \n",
    "             y = 'Score', \n",
    "             data = speed_diff, #<--------------- Input Here -------------\n",
    "             color = 'CornflowerBlue',\n",
    "             edgecolor=\"DodgerBlue\",\n",
    "             linewidth = 2.5,\n",
    "#              seed=5,\n",
    "#              ci = 95, # 'sd' for SD, '68' for SEM\n",
    "#              palette = ['grey',\n",
    "#                         'black'\n",
    "#                        ]\n",
    "                )\n",
    "plt.xlabel(\"Genotype\")\n",
    "plt.xticks(rotation=90)\n",
    "plt.ylabel(\"BSR Score (Normalized to N2)\")\n",
    "plt.ylim(top = 0.1)\n",
    "plt.ylim(bottom = -0.1)\n",
    "plt.title(Title)\n",
    "# plt.legend(bbox_to_anchor=(1.02, 1), loc=2, borderaxespad=0.)\n",
    "plt.savefig(f'{Title}.png', format='png', dpi=450, bbox_inches = 'tight')\n",
    "plt.show()"
   ]
  },
  {
   "cell_type": "code",
   "execution_count": null,
   "metadata": {},
   "outputs": [],
   "source": []
  },
  {
   "cell_type": "markdown",
   "metadata": {},
   "source": [
    "# 8.3 Graphing Bar Graphs"
   ]
  },
  {
   "cell_type": "markdown",
   "metadata": {},
   "source": [
    "# Speed Barplots Comparison"
   ]
  },
  {
   "cell_type": "code",
   "execution_count": null,
   "metadata": {},
   "outputs": [],
   "source": [
    "# Valid Measurement inputs(change var)\n",
    "# 1:'speed', <---\n",
    "# 2: \"x\",\n",
    "# 3: \"y\",\n",
    "# 4: \"angularspeed\", <-----\n",
    "# 5: \"pathlength\",\n",
    "# 6: \"kink\",  <---\n",
    "# 7: \"bias\", <----\n",
    "# 8: \"curve\", <---\n",
    "# 9: \"dir\",<----\n",
    "# 10: \"crab\",<----\n",
    "# 11: \"length\",<---\n",
    "# 12: \"midline\",<----\n",
    "# 13: \"width\",<----\n",
    "# 14: \"morphwidth\",<----\n",
    "# 15: \"area\"<----\n",
    "\n",
    "start = 200\n",
    "point = 400\n",
    "var = \"area\"\n",
    "chunkeddata0 = TotalConcatenated[TotalConcatenated[\"time\"] >= start]\n",
    "chunkeddata = chunkeddata0[chunkeddata0[\"time\"] <= point]\n",
    "chunkeddata_mean = chunkeddata.groupby([\"Strain\",\"worm\"], as_index=False).mean()\n",
    "chunkeddata_mean[['Genotype', 'Treatment']] = chunkeddata_mean['Strain'].str.split(' - ', 1, expand=True)\n",
    "\n",
    "Title = f\"{var} - {start}-{point} seconds\" #<---------------- Input Here -----------------\n",
    "sns.set_context(\"talk\")\n",
    "plt.figure(linewidth = 2.5)\n",
    "plt.figure(figsize=(15, 3))\n",
    "plt.gca().xaxis.grid(False)\n",
    "ax = sns.barplot(x=\"Genotype\", \n",
    "             y = var, \n",
    "             data = chunkeddata_mean, #<--------------- Input Here -------------\n",
    "             hue = 'Treatment',\n",
    "             edgecolor=\"black\",\n",
    "             linewidth = 2.5,\n",
    "#              seed=5,\n",
    "             ci = 95, # 'sd' for SD, '68' for SEM\n",
    "             palette = ['grey',\n",
    "                        'black'\n",
    "                       ]\n",
    "                )\n",
    "plt.xlabel(\"Strain and Condition\")\n",
    "# plt.ylabel(\"Average Speed (mm/s)\")\n",
    "plt.title(Title)\n",
    "plt.legend(bbox_to_anchor=(1.02, 1), loc=2, borderaxespad=0.)\n",
    "plt.savefig(f'{Title}.png', format='png', dpi=450, bbox_inches = 'tight')\n",
    "plt.show()"
   ]
  },
  {
   "cell_type": "code",
   "execution_count": null,
   "metadata": {},
   "outputs": [],
   "source": [
    "# Test Cell\n",
    "# chunkeddata_mean"
   ]
  },
  {
   "cell_type": "code",
   "execution_count": null,
   "metadata": {},
   "outputs": [],
   "source": [
    "# Test Cell\n",
    "# TotalConcatenated.describe()\n",
    "# chunkeddata0\n",
    "# chunkeddata"
   ]
  },
  {
   "cell_type": "markdown",
   "metadata": {},
   "source": [
    "# Bias Barplots Comparison"
   ]
  },
  {
   "cell_type": "code",
   "execution_count": null,
   "metadata": {},
   "outputs": [],
   "source": [
    "point = 420\n",
    "var = \"bias\"\n",
    "chunkeddata0 = TotalConcatenated[TotalConcatenated[\"time\"] >= 0]\n",
    "chunkeddata = chunkeddata0[chunkeddata0[\"time\"] <= point]\n",
    "\n",
    "Title = f\"{var} - First {point} seconds\" #<---------------- Input Here -----------------\n",
    "sns.set_context(\"talk\")\n",
    "plt.figure(linewidth = 2.5)\n",
    "plt.figure(figsize=(15, 5))\n",
    "plt.gca().xaxis.grid(False)\n",
    "ax = sns.barplot(x=\"Genotype\", \n",
    "             y = var, \n",
    "             data = chunkeddata, #<--------------- Input Here -------------\n",
    "             hue = 'Treatment',\n",
    "             edgecolor=\"black\",\n",
    "             linewidth = 2.5,\n",
    "             ci = None,\n",
    "             palette = ['black',\n",
    "                        'grey'\n",
    "                       ]\n",
    "                )\n",
    "plt.xlabel(\"Strain and Condition\")\n",
    "# plt.ylabel(\"Average Speed (mm/s)\")\n",
    "plt.title(Title)\n",
    "plt.legend(bbox_to_anchor=(1.02, 1), loc=2, borderaxespad=0.)\n",
    "# plt.savefig(f'{Title}.png', format='png', dpi=450, bbox_inches = 'tight')\n",
    "plt.show()"
   ]
  },
  {
   "cell_type": "markdown",
   "metadata": {},
   "source": [
    "# Dispersion Plot (starburst) - *Not Functional In Current Iteration"
   ]
  },
  {
   "cell_type": "code",
   "execution_count": null,
   "metadata": {},
   "outputs": [],
   "source": [
    "timepoint=60 # <---------------------- indicate end timepoint\n",
    "\n",
    "\n",
    "chunkeddata0 = TotalConcatenated[TotalConcatenated[\"time\"] >= 0]\n",
    "chunkeddata = chunkeddata0[chunkeddata0[\"time\"] <= timepoint]\n",
    "\n",
    "Title = f\"0 - {timepoint} seconds\" #<--------------------\n",
    "sns.set(context=\"talk\")\n",
    "# sns.set_context(\"talk\", fontscale=0.5)\n",
    "plt.figure(linewidth = 2.5)\n",
    "plt.figure(figsize=(16, 4))\n",
    "g = sns.FacetGrid(chunkeddata, row = \"Treatment\", col = \"Genotype\", margin_titles=True) #<--------------------------\n",
    "g.map_dataframe(sns.scatterplot, \"x_0\", \"y_0\", hue=\"time\", palette = \"YlOrBr\", linewidth=0, alpha=0.7, s=2)\n",
    "g.set_axis_labels(\"x position\", \"y position\")\n",
    "g.set_titles(col_template=\"{col_name}\", row_template=\"{row_name}\")\n",
    "# g.fig.subplots_adjust(top=0.8)\n",
    "g.fig.suptitle(f\"{Title} Dispersion map\", y=1.05)\n",
    "g.tight_layout()\n",
    "# plt.savefig(f'{Title} Dispersion map.png', format='png', dpi=900, bbox_inches = 'tight')"
   ]
  },
  {
   "cell_type": "markdown",
   "metadata": {},
   "source": [
    "# Total Distance Traveled Trace - *Not Functional In Current Iteration"
   ]
  },
  {
   "cell_type": "code",
   "execution_count": null,
   "metadata": {},
   "outputs": [],
   "source": [
    "start=50\n",
    "timepoint=420 # <---------------------- indicate end timepoint\n",
    "\n",
    "\n",
    "chunkeddata0 = TotalConcatenated[TotalConcatenated[\"time\"] >= start]\n",
    "chunkeddata = chunkeddata0[chunkeddata0[\"time\"] <= timepoint]\n",
    "\n",
    "Title = f\"{start} - {timepoint} seconds\" #<--------------------\n",
    "sns.set(context=\"talk\")\n",
    "# sns.set_context(\"talk\", fontscale=0.5)\n",
    "plt.figure(linewidth = 2.5)\n",
    "plt.figure(figsize=(16, 4))\n",
    "g = sns.FacetGrid(chunkeddata, row = \"Treatment\", col = \"Genotype\", margin_titles=True, ylim=[0,15]) #<---- set y-lim\n",
    "g.map_dataframe(sns.scatterplot, \"time\", \"distance\", hue=\"worm\", palette = \"colorblind\", linewidth=0, alpha=0.7, s=2)\n",
    "# g.set_axis_labels(\"x position\", \"y position\")\n",
    "g.set_titles(col_template=\"{col_name}\", row_template=\"{row_name}\")\n",
    "# g.fig.subplots_adjust(top=0.8)\n",
    "g.fig.suptitle(f'{Title} Total Distance Traveled Trace', y=1.05)\n",
    "g.tight_layout()\n",
    "# plt.savefig(f'{Title} Total Distance Traveled Trace.png', format='png', dpi=900, bbox_inches = 'tight')"
   ]
  },
  {
   "cell_type": "code",
   "execution_count": null,
   "metadata": {},
   "outputs": [],
   "source": []
  },
  {
   "cell_type": "markdown",
   "metadata": {},
   "source": [
    "# Done!"
   ]
  },
  {
   "cell_type": "code",
   "execution_count": null,
   "metadata": {},
   "outputs": [],
   "source": [
    "AfterOneHundredSecs = TotalConcatenated[TotalConcatenated[\"time_bin\"] >= 100].reset_index(drop=True)\n",
    "print(AfterOneHundredSecs)"
   ]
  },
  {
   "cell_type": "code",
   "execution_count": null,
   "metadata": {},
   "outputs": [],
   "source": [
    "AfterOneHundredMean = AfterOneHundredSecs.groupby([\"Strain\", \"worm\", \"Genotype\", \"Treatment\"], as_index=False).mean()\n",
    "print(AfterOneHundredMean)"
   ]
  },
  {
   "cell_type": "code",
   "execution_count": null,
   "metadata": {},
   "outputs": [],
   "source": [
    "# Valid Measurement inputs(change var)\n",
    "# 1:'speed', <---\n",
    "# 2: \"x\",\n",
    "# 3: \"y\",\n",
    "# 4: \"angularspeed\", <-----\n",
    "# 5: \"pathlength\",\n",
    "# 6: \"kink\",  <---\n",
    "# 7: \"bias\", <----\n",
    "# 8: \"curve\", <---\n",
    "# 9: \"dir\",<----\n",
    "# 10: \"crab\",<----\n",
    "# 11: \"length\",<---\n",
    "# 12: \"midline\",<----\n",
    "# 13: \"width\",<----\n",
    "# 14: \"morphwidth\",<----\n",
    "# 15: \"area\"<----\n",
    "\n",
    "\n",
    "var = \"speed\"\n",
    "\n",
    "Title = f\"{var}\" #<---------------- Input Here -----------------\n",
    "sns.set_context(\"talk\")\n",
    "plt.figure(linewidth = 2.5)\n",
    "plt.figure(figsize=(15, 3))\n",
    "plt.gca().xaxis.grid(False)\n",
    "ax = sns.barplot(x=\"Genotype\", \n",
    "             y = var, \n",
    "             data = AfterOneHundredMean, #<--------------- Input Here -------------\n",
    "             hue = 'Treatment',\n",
    "             edgecolor=\"black\",\n",
    "             linewidth = 2.5,\n",
    "#              seed=5,\n",
    "             ci = 95, # 'sd' for SD, '68' for SEM\n",
    "             palette = ['grey',\n",
    "                        'black'\n",
    "                       ]\n",
    "                )\n",
    "plt.xlabel(\"Strain and Condition\")\n",
    "# plt.ylabel(\"Average Speed (mm/s)\")\n",
    "plt.title(Title)\n",
    "plt.legend(bbox_to_anchor=(1.02, 1), loc=2, borderaxespad=0.)\n",
    "# plt.savefig(f'{Title}.png', format='png', dpi=450, bbox_inches = 'tight')\n",
    "plt.show()"
   ]
  },
  {
   "cell_type": "code",
   "execution_count": null,
   "metadata": {},
   "outputs": [],
   "source": [
    "AfterOneHundredCAT = AfterOneHundredMean[AfterOneHundredMean.Genotype != \"Test\"]\n",
    "AfterOneHundredTEST = AfterOneHundredMean[AfterOneHundredMean.Genotype != \"cat-2 (e1112)\"]\n"
   ]
  },
  {
   "cell_type": "code",
   "execution_count": null,
   "metadata": {},
   "outputs": [],
   "source": [
    "print(AfterOneHundredMean)\n",
    "print(AfterOneHundredCAT)\n",
    "print(AfterOneHundredTEST)"
   ]
  },
  {
   "cell_type": "code",
   "execution_count": null,
   "metadata": {},
   "outputs": [],
   "source": [
    "AfterOneHundredCAT.anova(dv=\"speed\", between=[\"Genotype\",\"Treatment\"])"
   ]
  },
  {
   "cell_type": "code",
   "execution_count": null,
   "metadata": {},
   "outputs": [],
   "source": [
    "AfterOneHundredTEST.anova(dv=\"speed\", between=[\"Genotype\",\"Treatment\"]).round(7)"
   ]
  },
  {
   "cell_type": "code",
   "execution_count": null,
   "metadata": {},
   "outputs": [],
   "source": []
  }
 ],
 "metadata": {
  "kernelspec": {
   "display_name": "Python 3 (ipykernel)",
   "language": "python",
   "name": "python3"
  },
  "language_info": {
   "codemirror_mode": {
    "name": "ipython",
    "version": 3
   },
   "file_extension": ".py",
   "mimetype": "text/x-python",
   "name": "python",
   "nbconvert_exporter": "python",
   "pygments_lexer": "ipython3",
   "version": "3.8.3"
  }
 },
 "nbformat": 4,
 "nbformat_minor": 4
}
