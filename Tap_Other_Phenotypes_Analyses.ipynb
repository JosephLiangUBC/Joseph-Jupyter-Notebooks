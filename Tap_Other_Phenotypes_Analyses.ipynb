{
 "cells": [
  {
   "cell_type": "markdown",
   "metadata": {
    "jp-MarkdownHeadingCollapsed": true,
    "tags": []
   },
   "source": [
    "# Jupyter Notebook UI to analyze baseline data from tap-habituation experiments!\n",
    "\n",
    "Version 1.3 - Joseph Liang, Rankin Lab\n",
    "Updated:\n",
    "1. Upgraded folder path selection application\n",
    "2. Upgraded dataset management (less moving parts for end-user)\n",
    "3. output changed from tif -> png\n",
    "\n",
    "## Known bug: Step 2 an empty windows displays in Mac. May also apply to linux/windows.\n",
    "\n",
    "## Beginner Essentials:\n",
    "1. Shift-Enter to run each cell. After you run, you should see an output \"done step #\". If not, an error has occured\n",
    "2. When inputting your own code/revising the code, make sure you close all your quotation marks '' and brackets (), [], {}.\n",
    "3. Don't leave any commas (,) hanging! (make sure an object always follows a comma. If there is nothing after a comma, remove the comma!\n",
    "4. Learning to code? Each line of code is annotated to help you understand how this code works!\n",
    "\n",
    "## 3. Run all cells/steps sequentially, even the ones that do not require input\n",
    "\n",
    "## Steps that require input: #3, #6.1, #7"
   ]
  },
  {
   "cell_type": "markdown",
   "metadata": {},
   "source": [
    "# 1. Importing Packages Required (No input required, just run)"
   ]
  },
  {
   "cell_type": "code",
   "execution_count": 1,
   "metadata": {},
   "outputs": [
    {
     "name": "stdout",
     "output_type": "stream",
     "text": [
      "done step 1\n"
     ]
    }
   ],
   "source": [
    "import pandas as pd #<- package used to import and organize data\n",
    "import numpy as np #<- package used to import and organize data\n",
    "import seaborn as sns #<- package used to plot graphs\n",
    "from matplotlib import pyplot as plt #<- package used to plot graphs\n",
    "import os #<- package used to work with system filepaths\n",
    "from ipywidgets import widgets #<- widget tool to generate button\n",
    "from IPython.display import display #<- displays button\n",
    "from ipyfilechooser import FileChooser\n",
    "# from tkinter import Tk, filedialog #<- Tkinter is a GUI package\n",
    "from tqdm.notebook import tqdm\n",
    "# import dask.dataframe as dd\n",
    "import pingouin as pg\n",
    "pd.set_option('display.max_columns', 50)\n",
    "print(\"done step 1\")"
   ]
  },
  {
   "cell_type": "markdown",
   "metadata": {},
   "source": [
    "# 2. Pick filepath (just run and click button)\n",
    "\n",
    "Run the following cell and clicke the button 'Select Folder' to pick a filepath.\n",
    "\n",
    "## Important: Later on, this script uses the total file path for each file to import and group data. That means if your folder has whatever your strain is named, the script will not work.\n",
    "\n",
    "(ex. if your folder has \"N2\" in it this script sees all files inside this folder as having the \"N2\" search key)\n",
    "\n",
    "## An easy fix is to just rename your folder to something else (make your strains lower-case, or just have the date)"
   ]
  },
  {
   "cell_type": "code",
   "execution_count": 2,
   "metadata": {},
   "outputs": [
    {
     "data": {
      "application/vnd.jupyter.widget-view+json": {
       "model_id": "4bdab415f6a64de3bb623ce0f888fb5f",
       "version_major": 2,
       "version_minor": 0
      },
      "text/plain": [
       "FileChooser(path='/Users/Joseph', filename='', title='', show_hidden=False, select_desc='Select', change_desc=…"
      ]
     },
     "metadata": {},
     "output_type": "display_data"
    }
   ],
   "source": [
    "starting_directory = '/Users/Joseph'\n",
    "chooser = FileChooser(starting_directory)\n",
    "display(chooser)"
   ]
  },
  {
   "cell_type": "code",
   "execution_count": 3,
   "metadata": {},
   "outputs": [
    {
     "name": "stdout",
     "output_type": "stream",
     "text": [
      "/Volumes/JosephSSD2T/ASD_Screen\n"
     ]
    }
   ],
   "source": [
    "print(chooser.selected_path)\n",
    "folder_path=chooser.selected_path"
   ]
  },
  {
   "cell_type": "code",
   "execution_count": null,
   "metadata": {},
   "outputs": [],
   "source": [
    "# Obsolete\n",
    "# ### Select Folder App - After you run, you can select your folder for filepath\n",
    "# button = widgets.Button(description = 'Select Folder') #<- creates a button variable\n",
    "# display(button) #<- displays the button in output\n",
    "\n",
    "# def select_folder(b): #<- defines an action. This action requires a variable, so an arbitrary one 'b' is there\n",
    "#     global folder_path #<- sets a variable as a global variable, not just within this action\n",
    "#     #Tk().withdraw() #<- Tkinter likes to create annoying empty windows. This removes them\n",
    "#     folder_path = filedialog.askdirectory() #<- Opens up a file explorer window, and determines folder path\n",
    "#     #Tk().update() #<- below\n",
    "#     #Tk().destroy() #<- this and the line above it removes the file explorer window after a selection is made\n",
    "#     print(folder_path) #<- this helps confirm that this action was performed\n",
    "#     print('done step 2')\n",
    "# button.on_click(select_folder)"
   ]
  },
  {
   "cell_type": "markdown",
   "metadata": {},
   "source": [
    "# 3. User Defined Variables (Add input here)\n",
    "\n",
    "Here, we add some constants to help you blaze through this code.\n",
    "\n",
    "## 3.1: Setting time bins\n",
    "pretty self explanatory\n",
    "\n",
    "\n",
    "\n",
    "## 3.2: Setting view range for your graph\n",
    "Top, bottom = y axis view range\n",
    "left, right = x axis view range\n",
    "\n"
   ]
  },
  {
   "cell_type": "code",
   "execution_count": 4,
   "metadata": {},
   "outputs": [
    {
     "name": "stdout",
     "output_type": "stream",
     "text": [
      "[0.000e+00 1.000e+00 2.000e+00 ... 1.198e+03 1.199e+03 1.200e+03]\n",
      "done step 3\n"
     ]
    }
   ],
   "source": [
    "# Setting 1s Bins: for 0.5s Bins: 0,360,721\n",
    "# bins = np.linspace(0,360,721) #<- np.linspace(start, end, steps in between)\n",
    "# bins = np.linspace(0,420,841) #<- np.linspace(start, end, steps in between)\n",
    "# bins = np.linspace(0,420,421) # 1 second bins (smoother lines on graph)\n",
    "bins = np.linspace(0,1200,1201) # 1 second bins (smoother lines on graph)\n",
    "print(bins)\n",
    "\n",
    "\n",
    "print(\"done step 3\")"
   ]
  },
  {
   "cell_type": "markdown",
   "metadata": {},
   "source": [
    "# 4. Construct filelist from folder path (No input required, just run)"
   ]
  },
  {
   "cell_type": "code",
   "execution_count": 17,
   "metadata": {},
   "outputs": [
    {
     "name": "stdout",
     "output_type": "stream",
     "text": [
      "/Volumes/JosephSSD2T/ASD_Screen\n",
      "['/Volumes/JosephSSD2T/ASD_Screen/vab-10_gk45/20160406_155046/VC117_5x4_f94h20C_600s30x10s10s_A0406bc.dat', '/Volumes/JosephSSD2T/ASD_Screen/vab-10_gk45/20160406_152736/VC117_5x4_f94h20C_600s30x10s10s_B0406ba.dat', '/Volumes/JosephSSD2T/ASD_Screen/vab-10_gk45/20160406_154716/VC117_5x4_f94h20C_600s30x10s10s_C0406be.dat', '/Volumes/JosephSSD2T/ASD_Screen/vab-10_gk45/20160406_152655/VC117_5x4_f94h20C_600s30x10s10s_C0406bb.dat', '/Volumes/JosephSSD2T/ASD_Screen/vab-10_gk45/20160406_154821/VC117_5x4_f94h20C_600s30x10s10s_B0406bd.dat', '/Volumes/JosephSSD2T/ASD_Screen/gab-1_tm3577/20160526_134238/Tm3577_5x4_f96h20C_600s30x10s10s_B0526cc.dat', '/Volumes/JosephSSD2T/ASD_Screen/gab-1_tm3577/20160526_134254/Tm3577_5x4_f96h20C_600s30x10s10s_C0526cd.dat', '/Volumes/JosephSSD2T/ASD_Screen/gab-1_tm3577/20160526_130715/Tm3577_5x4_f96h20C_600s30x10s10s_C0526cb.dat', '/Volumes/JosephSSD2T/ASD_Screen/gab-1_tm3577/20160526_130648/Tm3577_5x4_f96h20C_600s30x10s10s_B0526ca.dat', '/Volumes/JosephSSD2T/ASD_Screen/gab-1_tm3577/20160526_142102/Tm3577_5x4_f96h20C_600s30x10s10s_B0526ce.dat', '/Volumes/JosephSSD2T/ASD_Screen/hmp-2_qm39/20151010_141004/MQ468_5x4_f96h20C_600s31x10s10s_C1010ec.dat', '/Volumes/JosephSSD2T/ASD_Screen/hmp-2_qm39/20151010_142950/MQ468_5x4_f96h20C_600s31x10s10s_B1010ee.dat', '/Volumes/JosephSSD2T/ASD_Screen/hmp-2_qm39/20151010_140905/MQ468_5x4_f96h20C_600s31x10s10s_A1010ea.dat', '/Volumes/JosephSSD2T/ASD_Screen/hmp-2_qm39/20151010_142940/MQ468_5x4_f96h20C_600s31x10s10s_A1010ed.dat', '/Volumes/JosephSSD2T/ASD_Screen/hmp-2_qm39/20151010_140923/MQ468_5x4_f96h20C_600s31x10s10s_B1010eb.dat', '/Volumes/JosephSSD2T/ASD_Screen/cls-3_tm5775/20160526_191436/Tm5775_5x4_f96h20C_600s30x10s10s_C0526ib.dat', '/Volumes/JosephSSD2T/ASD_Screen/cls-3_tm5775/20160526_191359/Tm5775_5x4_f96h20C_600s30x10s10s_B0526ia.dat', '/Volumes/JosephSSD2T/ASD_Screen/cls-3_tm5775/20160526_193511/Tm5775_5x4_f96h20C_600s30x10s10s_C0526id.dat', '/Volumes/JosephSSD2T/ASD_Screen/cls-3_tm5775/20160526_193426/Tm5775_5x4_f96h20C_600s30x10s10s_B0526ic.dat', '/Volumes/JosephSSD2T/ASD_Screen/nhx-5_ok661/20151117_113404/RB836_5x4_f96h20C_600s30x10s10s_C1117fc.dat', '/Volumes/JosephSSD2T/ASD_Screen/nhx-5_ok661/20151117_115717/RB836_5x4_f96h20C_600s31x10s10s_A1117fd.dat', '/Volumes/JosephSSD2T/ASD_Screen/nhx-5_ok661/20151117_113357/RB836_5x4_f96h20C_600s31x10s10s_B1117fb.dat', '/Volumes/JosephSSD2T/ASD_Screen/nhx-5_ok661/20151117_115620/RB836_5x4_f96h20C_600s31x10s10s_B1117fe.dat', '/Volumes/JosephSSD2T/ASD_Screen/nhx-5_ok661/20151117_113452/RB836_5x4_f96h20C_600s31x10s10s_A1117fa.dat', '/Volumes/JosephSSD2T/ASD_Screen/daf-18_ok480/20151004_130530/RB712_5x4_f96h20C_600s31x10s10s_B1004bc.dat', '/Volumes/JosephSSD2T/ASD_Screen/daf-18_ok480/20151004_130454/RB712_5x4_f96h20C_600s31x10s10s_A1004bb.dat', '/Volumes/JosephSSD2T/ASD_Screen/daf-18_ok480/20151004_132606/RB712_5x4_f96h20C_600s31x10s10s_A1004be.dat', '/Volumes/JosephSSD2T/ASD_Screen/daf-18_ok480/20151004_124306/RB712_5x4_f96h20C_600s31x10s10s_C1004ac.dat', '/Volumes/JosephSSD2T/ASD_Screen/daf-18_ok480/20151004_130628/RB712_5x4_f96h20C_600s31x10s10s_C1004bd.dat', '/Volumes/JosephSSD2T/ASD_Screen/tbx-38_gk186909/20160112_110859/VC20131_5x4_f96h20C_600s31x10s10s_B0112cc.dat', '/Volumes/JosephSSD2T/ASD_Screen/tbx-38_gk186909/20160112_113101/VC20131_5x4_f96h20C_600s31x10s10s_B0112ce.dat', '/Volumes/JosephSSD2T/ASD_Screen/tbx-38_gk186909/20160112_113247/VC20131_5x4_f96h20C_600s31x10s10s_A0112cd.dat', '/Volumes/JosephSSD2T/ASD_Screen/tbx-38_gk186909/20160112_111101/VC20131_5x4_f96h20C_600s31x10s10s_A0112cb.dat', '/Volumes/JosephSSD2T/ASD_Screen/tbx-38_gk186909/20160112_104754/VC20131_5x4_f96h20C_600s31x10s10s_B0112ca.dat', '/Volumes/JosephSSD2T/ASD_Screen/N2/20150516_111143/N2_5x4_f96h20C_600s31x10s10s_B0516ab.dat', '/Volumes/JosephSSD2T/ASD_Screen/N2/20150516_113617/N2_5x4_f96h20C_600s31x10s10s_A0516ad.dat', '/Volumes/JosephSSD2T/ASD_Screen/N2/20150516_111158/N2_5x4_f96h20C_600s31x10s10s_A0516aa.dat', '/Volumes/JosephSSD2T/ASD_Screen/N2/20150516_111130/N2_5x4_f96h20C_600s30x10s10s_C0516ac.dat', '/Volumes/JosephSSD2T/ASD_Screen/N2/20160212_145627/n2_5x4_f96h20C_600s30x10s10s_C0212ac.dat', '/Volumes/JosephSSD2T/ASD_Screen/N2/20160212_145633/N2_5x4_f96h20C_600s31x10s10s_B0212ab.dat', '/Volumes/JosephSSD2T/ASD_Screen/N2/20160212_145846/N2_5x4_f96h20C_600s31x10s10s_A0212_aa.dat', '/Volumes/JosephSSD2T/ASD_Screen/N2/20160212_151949/N2_5x4_f96h20C_600s31x10s10s_B0212ae.dat', '/Volumes/JosephSSD2T/ASD_Screen/N2/20160212_152140/N2_5x4_f96h20C_600s31x10s10s_A0212_ad.dat', '/Volumes/JosephSSD2T/ASD_Screen/N2/20150908_103748/N2_5x4_f96h20C_600s31x10s10s_B0908ca.dat', '/Volumes/JosephSSD2T/ASD_Screen/N2/20150908_104040/N2_5x4_f96h20C_600s30x10s10s_C0908cb.dat', '/Volumes/JosephSSD2T/ASD_Screen/N2/20150908_105840/N2_5x4_f96h20C_600s31x10s10s_A0908cc.dat', '/Volumes/JosephSSD2T/ASD_Screen/N2/20150915_080158/N2_5x4_f96h20C_600s30x10s10s_C0915aa.dat', '/Volumes/JosephSSD2T/ASD_Screen/N2/20150915_081101/N2_5x4_f96h20C_600s31x10s10s_B0015ac.dat', '/Volumes/JosephSSD2T/ASD_Screen/N2/20150915_081103/N2_5x4_f96h20C_600s31x10s10s_A0915ab.dat', '/Volumes/JosephSSD2T/ASD_Screen/N2/20150915_082604/N2_5x4_f96h20C_600s30x10s10s_C0915ad.dat', '/Volumes/JosephSSD2T/ASD_Screen/N2/20150915_083222/N2_5x4_f96h20C_600s31x10s10s_A0915ae.dat', '/Volumes/JosephSSD2T/ASD_Screen/N2/20160131_130133/N2_5x4_f96h20C_600s31x10s10s_A0131ab.dat', '/Volumes/JosephSSD2T/ASD_Screen/N2/20160131_130338/N2_5x4_f96h20C_600s31x10s10s_A0131aa.dat', '/Volumes/JosephSSD2T/ASD_Screen/N2/20160131_132239/N2_5x4_f96h20C_600s31x10s10s_A0131ad.dat', '/Volumes/JosephSSD2T/ASD_Screen/N2/20160131_132415/N2_5x4_f96h20C_600s31x10s10s_A0131ac.dat', '/Volumes/JosephSSD2T/ASD_Screen/N2/20160131_132541/N2_5x4_f96h20C_600s30x10s10s_C1206ae.dat', '/Volumes/JosephSSD2T/ASD_Screen/N2/20151004_122032/N2_5x4_f96h20C_600s31x10s10s_B1004ab.dat', '/Volumes/JosephSSD2T/ASD_Screen/N2/20151004_122053/N2_5x4_f96h20C_600s31x10s10s_A1004aa.dat', '/Volumes/JosephSSD2T/ASD_Screen/N2/20151004_122100/N2_5x4_f96h20C_600s31x10s10s_C1004ac.dat', '/Volumes/JosephSSD2T/ASD_Screen/N2/20151004_124123/N2_5x4_f96h20C_600s31x10s10s_A1004ad.dat', '/Volumes/JosephSSD2T/ASD_Screen/N2/20151004_124144/N2_5x4_f96h20C_600s31x10s10s_B1004ae.dat', '/Volumes/JosephSSD2T/ASD_Screen/N2/20151010_114958/N2_5x4_f96h20C_600s31x10s10s_C1010ac.dat', '/Volumes/JosephSSD2T/ASD_Screen/N2/20151010_115010/N2_5x4_f96h20C_600s31x10s10s_A1010aa.dat', '/Volumes/JosephSSD2T/ASD_Screen/N2/20151010_115013/N2_5x4_f96h20C_600s31x10s10s_B1010ab.dat', '/Volumes/JosephSSD2T/ASD_Screen/N2/20151010_121214/N2_5x4_f96h20C_600s31x10s10s_A1010ad.dat', '/Volumes/JosephSSD2T/ASD_Screen/N2/20151010_121220/N2_5x4_f96h20C_600s31x10s10s_B1010ae.dat', '/Volumes/JosephSSD2T/ASD_Screen/N2/20151117_090356/N2_5x4_f96h20C_600s31x10s10s_B1117ab.dat', '/Volumes/JosephSSD2T/ASD_Screen/N2/20151117_090408/N2_5x4_f96h20C_600s30x10s10s_C1117ac.dat', '/Volumes/JosephSSD2T/ASD_Screen/N2/20151117_090446/N2_5x4_f96h20C_600s31x10s10s_A1117aa.dat', '/Volumes/JosephSSD2T/ASD_Screen/N2/20151117_093001/N2_5x4_f96h20C_600s31x10s10s_A1117ad.dat', '/Volumes/JosephSSD2T/ASD_Screen/N2/20151206_102504/N2_5x4_f96h20C_600s31x10s10s_B1206ab.dat', '/Volumes/JosephSSD2T/ASD_Screen/N2/20151206_102511/N2_5x4_f96h20C_600s30x10s10s_C1206ac.dat', '/Volumes/JosephSSD2T/ASD_Screen/N2/20151206_102611/N2_5x4_f96h20C_600s31x10s10s_A1206aa.dat', '/Volumes/JosephSSD2T/ASD_Screen/N2/20151206_104807/N2_5x4_f96h20C_600s31x10s10s_B1206ae.dat', '/Volumes/JosephSSD2T/ASD_Screen/N2/20151206_104915/N2_5x4_f96h20C_600s31x10s10s_A1206ad.dat', '/Volumes/JosephSSD2T/ASD_Screen/N2/20150517_105027/N2_5x4_f96h20C_600s31x10s10s_B0517ab.dat', '/Volumes/JosephSSD2T/ASD_Screen/N2/20150517_105105/N2_5x4_f96h20C_600s30x10s10s_C0517ac.dat', '/Volumes/JosephSSD2T/ASD_Screen/N2/20150517_105151/N2_5x4_f96h20C_600s31x10s10s_A0517aa.dat', '/Volumes/JosephSSD2T/ASD_Screen/N2/20150517_112032/N2_5x4_f96h20C_600s31x10s10s_A0517ad.dat', '/Volumes/JosephSSD2T/ASD_Screen/N2/20160406_150531/N2_5x4_f94h20C_600s30x10s10s_C0406ac.dat', '/Volumes/JosephSSD2T/ASD_Screen/N2/20160406_150655/N2_5x4_f94h20C_600s30x10s10s_B0406ab.dat', '/Volumes/JosephSSD2T/ASD_Screen/N2/20160406_150904/N2_5x4_f94h20C_600s30x10s10s_A0406aa.dat', '/Volumes/JosephSSD2T/ASD_Screen/N2/20160406_152940/N2_5x4_f94h20C_600s30x10s10s_A0406ad.dat', '/Volumes/JosephSSD2T/ASD_Screen/N2/20160422_095247/N2_5x4_f96h20C_600s30x10s10s_C0422ac.dat', '/Volumes/JosephSSD2T/ASD_Screen/N2/20160422_095438/N2_5x4_f96h20C_600s31x10s10s_B0422ab.dat', '/Volumes/JosephSSD2T/ASD_Screen/N2/20160422_095545/N2_5x4_f94h20C_600s30x10s10s_A0422aa.dat', '/Volumes/JosephSSD2T/ASD_Screen/N2/20160422_101656/N2_5x4_f94h20C_600s30x10s10s_A0422ad.dat', '/Volumes/JosephSSD2T/ASD_Screen/N2/20160517_091959/N2_5x4_f96h20C_600s31x10s10s_C0517ac.dat', '/Volumes/JosephSSD2T/ASD_Screen/N2/20160517_092220/N2_5x4_f96h20C_600s31x10s10s_B0517ab.dat', '/Volumes/JosephSSD2T/ASD_Screen/N2/20160517_092558/N2_5x4_f9620C_600s31x10s10s_A0517aa.dat', '/Volumes/JosephSSD2T/ASD_Screen/N2/20160517_094345/N2_5x4_f96h20C_600s31x10s10s_B0517ae.dat', '/Volumes/JosephSSD2T/ASD_Screen/N2/20160517_094701/N2_5x4_f9620C_600s31x10s10s_A0517ad.dat', '/Volumes/JosephSSD2T/ASD_Screen/N2/20160526_183019/N2_5x4_f96h20C_600s30x10s10s_B0526ga.dat', '/Volumes/JosephSSD2T/ASD_Screen/N2/20160526_183053/N2_5x4_f96h20C_600s30x10s10s_C0526gb.dat', '/Volumes/JosephSSD2T/ASD_Screen/N2/20160526_185047/N2_5x4_f96h20C_600s30x10s10s_B0526gc.dat', '/Volumes/JosephSSD2T/ASD_Screen/N2/20160526_185130/N2_5x4_f96h20C_600s30x10s10s_C0526gd.dat', '/Volumes/JosephSSD2T/ASD_Screen/N2/20160628_130834/N2_5x4_f96h20C_600s30x10s10s_C0628ac.dat', '/Volumes/JosephSSD2T/ASD_Screen/N2/20160628_130849/N2_5x4_f96h20C_600s31x10s10s_B0628ab.dat', '/Volumes/JosephSSD2T/ASD_Screen/N2/20160628_130921/N2_5x4_f96h20C_600s31x10s10s_A0628aa.dat', '/Volumes/JosephSSD2T/ASD_Screen/N2/20160628_133001/N2_5x4_f96h20C_600s31x10s10s_A0628ad.dat', '/Volumes/JosephSSD2T/ASD_Screen/N2/20160723_101530/N2_5x4_f96h20C_600s31x10s10s_C0723ac.dat', '/Volumes/JosephSSD2T/ASD_Screen/N2/20160723_101559/N2_5x4_f96h20C_600s31x10s10s_B00723ab.dat', '/Volumes/JosephSSD2T/ASD_Screen/N2/20160723_101707/N2_5x4_f96h20C_600s31x10s10s_A0723aa.dat', '/Volumes/JosephSSD2T/ASD_Screen/N2/20160723_103905/N2_5x4_f96h20C_600s31x10s10s_B00723ae.dat', '/Volumes/JosephSSD2T/ASD_Screen/N2/20160723_104007/N2_5x4_f96h20C_600s31x10s10s_A0723ad.dat', '/Volumes/JosephSSD2T/ASD_Screen/N2/20160812_115405/N2_5x4_f96h20C_600s31x10s10s_C1010ac.dat', '/Volumes/JosephSSD2T/ASD_Screen/N2/20160812_115626/N2_5x4_f96h20C_600s31x10s10s_A1010aa.dat', '/Volumes/JosephSSD2T/ASD_Screen/N2/20160812_121648/N2_5x4_f96h20C_600s31x10s10s_C1010ae.dat', '/Volumes/JosephSSD2T/ASD_Screen/N2/20160812_121727/N2_5x4_f96h20C_600s31x10s10s_B0812ab.dat', '/Volumes/JosephSSD2T/ASD_Screen/N2/20160812_121908/N2_5x4_f96h20C_600s31x10s10s_A0812ad.dat', '/Volumes/JosephSSD2T/ASD_Screen/N2/20190514_095608/N2_5x4_f96h20C_600s31x10s10s_C0514ac.dat', '/Volumes/JosephSSD2T/ASD_Screen/N2/20190514_095631/N2_5x4_f96h20C_600s31x10s10s_B0514ab.dat', '/Volumes/JosephSSD2T/ASD_Screen/N2/20190514_095959/N2_5x4_f96h20C_600s31x10s10s_A0514aa.dat', '/Volumes/JosephSSD2T/ASD_Screen/N2/20190514_140535/N2_5x4_f96h20C_600s31x10s10s_C0514kc.dat', '/Volumes/JosephSSD2T/ASD_Screen/N2/20190514_140605/N2_5x4_f96h20C_600s31x10s10s_B0514kb.dat', '/Volumes/JosephSSD2T/ASD_Screen/N2/20190611_103301/N2_5x4_f96h20C_600s31x10s10s_C0611ac.dat', '/Volumes/JosephSSD2T/ASD_Screen/N2/20190611_103329/N2_5x4_f96h20C_600s31x10s10s_B0611ab.dat', '/Volumes/JosephSSD2T/ASD_Screen/N2/20190611_104112/N2_5x4_f96h20C_600s31x10s10s_A0611aa.dat', '/Volumes/JosephSSD2T/ASD_Screen/N2/20190611_142854/N2_5x4_f96h20C_600s31x10s10s_B0611jb.dat', '/Volumes/JosephSSD2T/ASD_Screen/N2/20190611_143647/N2_5x4_f96h20C_600s31x10s10s_A0611ja.dat', '/Volumes/JosephSSD2T/ASD_Screen/N2/20190626_105828/N2_5x4_f96h20C_600s31x10s10s_C0626ac.dat', '/Volumes/JosephSSD2T/ASD_Screen/N2/20190626_105907/N2_5x4_f96h20C_600s31x10s10s_B0626ab.dat', '/Volumes/JosephSSD2T/ASD_Screen/N2/20190626_110718/N2_5x4_f96h20C_600s31x10s10s_A0626aa.dat', '/Volumes/JosephSSD2T/ASD_Screen/N2/20190626_114106/N2_5x4_f96h20C_600s31x10s10s_A0626ba.dat', '/Volumes/JosephSSD2T/ASD_Screen/N2/20190718_095504/N2_5x4_f96h20C_600s31x10s10s_C0718ac.dat', '/Volumes/JosephSSD2T/ASD_Screen/N2/20190718_095607/N2_5x4_f96h20C_600s31x10s10s_B0718ab.dat', '/Volumes/JosephSSD2T/ASD_Screen/N2/20190718_100513/N2_5x4_f96h20C_600s31x10s10s_A0718aa.dat', '/Volumes/JosephSSD2T/ASD_Screen/N2/20190718_142729/N2_5x4_f96h20C_600s31x10s10s_B0718jb.dat', '/Volumes/JosephSSD2T/ASD_Screen/N2/20190718_143619/N2_5x4_f96h20C_600s31x10s10s_A0718ja.dat', '/Volumes/JosephSSD2T/ASD_Screen/N2/20190723_090725/N2_5x4_f96h20C_600s31x10s10s_C0723ac.dat', '/Volumes/JosephSSD2T/ASD_Screen/N2/20190723_090832/N2_5x4_f96h20C_600s31x10s10s_B0723ab.dat', '/Volumes/JosephSSD2T/ASD_Screen/N2/20190723_091746/N2_5x4_f96h20C_600s31x10s10s_A0723aa.dat', '/Volumes/JosephSSD2T/ASD_Screen/N2/20190723_121749/N2_5x4_f96h20C_600s31x10s10s_B0723ib.dat', '/Volumes/JosephSSD2T/ASD_Screen/N2/20190723_122649/N2_5x4_f96h20C_600s31x10s10s_A0723ia.dat', '/Volumes/JosephSSD2T/ASD_Screen/N2/20190723_141523/N2_5x4_f96h20C_600s31x10s10s_C0723nc.dat', '/Volumes/JosephSSD2T/ASD_Screen/N2/20190723_141619/N2_5x4_f96h20C_600s31x10s10s_B0723nb.dat', '/Volumes/JosephSSD2T/ASD_Screen/N2/20190730_094723/N2_5x4_f96h20C_600s31x10s10s_C0730ac.dat', '/Volumes/JosephSSD2T/ASD_Screen/N2/20190730_094820/N2_5x4_f96h20C_600s31x10s10s_B0730ab.dat', '/Volumes/JosephSSD2T/ASD_Screen/N2/20190730_095732/N2_5x4_f96h20C_600s31x10s10s_A0730aa.dat', '/Volumes/JosephSSD2T/ASD_Screen/N2/20190730_142147/N2_5x4_f96h20C_600s31x10s10s_B0730lb.dat', '/Volumes/JosephSSD2T/ASD_Screen/N2/20190730_155052/N2_5x4_f96h20C_600s31x10s10s_C0730oc.dat', '/Volumes/JosephSSD2T/ASD_Screen/N2/20190814_095439/N2_5x4_f96h20C_600s31x10s10s_C0814ac.dat', '/Volumes/JosephSSD2T/ASD_Screen/N2/20190814_095600/N2_5x4_f96h20C_600s31x10s10s_B0814ab.dat', '/Volumes/JosephSSD2T/ASD_Screen/N2/20190814_100550/N2_5x4_f96h20C_600s31x10s10s_A0814aa.dat', '/Volumes/JosephSSD2T/ASD_Screen/N2/20190814_121747/N2_5x4_f96h20C_600s31x10s10s_B0814fb.dat', '/Volumes/JosephSSD2T/ASD_Screen/N2/20190814_122723/N2_5x4_f96h20C_600s31x10s10s_A0814fa.dat', '/Volumes/JosephSSD2T/ASD_Screen/gab-1_gk189051/20160212_152117/VC20093_5x4_f96h20C_600s30x10s10s_C0212ba.dat', '/Volumes/JosephSSD2T/ASD_Screen/gab-1_gk189051/20160212_160354/VC20093_5x4_f96h20C_600s31x10s10s_A0212_be.dat', '/Volumes/JosephSSD2T/ASD_Screen/gab-1_gk189051/20160212_154251/VC20093_5x4_f96h20C_600s31x10s10s_A0212_bb.dat', '/Volumes/JosephSSD2T/ASD_Screen/gab-1_gk189051/20160212_154223/VC20093_5x4_f96h20C_600s30x10s10s_C0212bd.dat', '/Volumes/JosephSSD2T/ASD_Screen/gab-1_gk189051/20160212_154204/VC20093_5x4_f96h20C_600s31x10s10s_B0212bc.dat', '/Volumes/JosephSSD2T/ASD_Screen/hda-4_ok518/20151206_124646/RB758_5x4_f96h20C_600s30x10s10s_C1206dc.dat', '/Volumes/JosephSSD2T/ASD_Screen/hda-4_ok518/20151206_122317/RB758_5x4_f96h20C_600s31x10s10s_B1206db.dat', '/Volumes/JosephSSD2T/ASD_Screen/hda-4_ok518/20151206_124748/RB758_5x4_f96h20C_600s31x10s10s_A1206dd.dat', '/Volumes/JosephSSD2T/ASD_Screen/hda-4_ok518/20151206_122427/RB758_5x4_f96h20C_600s31x10s10s_A1206da.dat', '/Volumes/JosephSSD2T/ASD_Screen/hda-4_ok518/20151206_124639/RB758_5x4_f96h20C_600s31x10s10s_B1206de.dat', '/Volumes/JosephSSD2T/ASD_Screen/nrx-1_ok1649/20160221_130612/VC1416_5x4_f96h20C_600s31x10s10s_A0221ad.dat', '/Volumes/JosephSSD2T/ASD_Screen/nrx-1_ok1649/20160221_130414/VC1416_5x4_f96h20C_600s31x10s10s_A0221ae.dat', '/Volumes/JosephSSD2T/ASD_Screen/nrx-1_ok1649/20160221_124348/VC1416_5x4_f96h20C_600s31x10s10s_A0221ab.dat', '/Volumes/JosephSSD2T/ASD_Screen/nrx-1_ok1649/20160221_124536/VC1416_5x4_f96h20C_600s31x10s10s_A0221aa.dat', '/Volumes/JosephSSD2T/ASD_Screen/set-9_n4949/20160112_144030/MT16426_5x4_f96h20C_600s31x10s10s_B0112gb.dat', '/Volumes/JosephSSD2T/ASD_Screen/set-9_n4949/20160112_150124/MT16426_5x4_f96h20C_600s31x10s10s_B0112gd.dat', '/Volumes/JosephSSD2T/ASD_Screen/set-9_n4949/20160112_144122/MT16426_5x4_f96h20C_600s31x10s10s_A0112ga.dat', '/Volumes/JosephSSD2T/ASD_Screen/set-9_n4949/20160112_150849/MT16426_5x4_f96h20C_600s31x10s10s_A0112gc.dat', '/Volumes/JosephSSD2T/ASD_Screen/set-9_n4949/20160112_152219/MT16426_5x4_f96h20C_600s31x10s10s_B0112ge.dat', '/Volumes/JosephSSD2T/ASD_Screen/gap-2_ok1001/20151010_132125/VC680_5x4_f96h20C_600s31x10s10s_A1010dc.dat', '/Volumes/JosephSSD2T/ASD_Screen/gap-2_ok1001/20151010_130037/VC680_5x4_f96h20C_600s31x10s10s_B1010ca.dat', '/Volumes/JosephSSD2T/ASD_Screen/gap-2_ok1001/20151010_132231/vc680_5x4_f96h20C_600s31x10s10s_C1010ce.dat', '/Volumes/JosephSSD2T/ASD_Screen/gap-2_ok1001/20151010_130115/vc680_5x4_f96h20C_600s31x10s10s_C1010cb.dat', '/Volumes/JosephSSD2T/ASD_Screen/gap-2_ok1001/20151010_132202/VC680_5x4_f96h20C_600s31x10s10s_B1010cd.dat', '/Volumes/JosephSSD2T/ASD_Screen/cor-1_ok869/20190514_123601/VC624_5x4_f96h20C_600s31x10s10s_C0514gc.dat', '/Volumes/JosephSSD2T/ASD_Screen/cor-1_ok869/20190514_161337/VC624_5x4_f96h20C_600s31x10s10s_C0514pc.dat', '/Volumes/JosephSSD2T/ASD_Screen/cor-1_ok869/20190514_123617/VC624_5x4_f96h20C_600s31x10s10s_B0514gb.dat', '/Volumes/JosephSSD2T/ASD_Screen/cor-1_ok869/20190514_161408/VC624_5x4_f96h20C_600s31x10s10s_B0514pb.dat', '/Volumes/JosephSSD2T/ASD_Screen/cor-1_ok869/20190514_124326/VC624_5x4_f96h20C_600s31x10s10s_A0514ga.dat', '/Volumes/JosephSSD2T/ASD_Screen/unc-10_md1117/20160406_163235/NM1657_5x4_f94h20C_600s30x10s10s_A0406cd.dat', '/Volumes/JosephSSD2T/ASD_Screen/unc-10_md1117/20160406_163034/NM1657_5x4_f94h20C_600s30x10s10s_B0406ce.dat', '/Volumes/JosephSSD2T/ASD_Screen/unc-10_md1117/20160406_161011/NM1657_5x4_f94h20C_600s30x10s10s_B0406cb.dat', '/Volumes/JosephSSD2T/ASD_Screen/unc-10_md1117/20160406_160928/NM1657_5x4_f94h20C_600s30x10s10s_C0406cc.dat', '/Volumes/JosephSSD2T/ASD_Screen/unc-10_md1117/20160406_161159/NM1657_5x4_f94h20C_600s30x10s10s_A0406ca.dat', '/Volumes/JosephSSD2T/ASD_Screen/unc-16_n370/20150915_110039/MT1542_5x4_f96h20C_600s30x10s10s_C0915fb.dat', '/Volumes/JosephSSD2T/ASD_Screen/unc-16_n370/20150915_111027/MT1542_5x4_f96h20C_600s31x10s10s_B0015d.dat', '/Volumes/JosephSSD2T/ASD_Screen/unc-16_n370/20150915_112347/MT1542_5x4_f96h20C_600s30x10s10s_C0915fe.dat', '/Volumes/JosephSSD2T/ASD_Screen/unc-16_n370/20150915_104950/MT1542_5x4_f96h20C_600s31x10s10s_B0015fa.dat', '/Volumes/JosephSSD2T/ASD_Screen/unc-16_n370/20150915_110638/MT1542_5x4_f96h20C_600s31x10s10s_A0915fc.dat', '/Volumes/JosephSSD2T/ASD_Screen/spas-1_tm683/20160407_111643/FX683_5x4_f96h20C_600s30x10s10s_C0407_cc.dat', '/Volumes/JosephSSD2T/ASD_Screen/spas-1_tm683/20160407_114101/FX683_5x4_f96h20C_600s31x10s10s_A0407_cd.dat', '/Volumes/JosephSSD2T/ASD_Screen/spas-1_tm683/20160407_111735/FX683_5x4_f96h20C_600s31x10s10s_B0407_cb.dat', '/Volumes/JosephSSD2T/ASD_Screen/spas-1_tm683/20160407_113821/FX683_5x4_f96h20C_600s31x10s10s_B0407_ce.dat', '/Volumes/JosephSSD2T/ASD_Screen/spas-1_tm683/20160407_111939/FX683_5x4_f96h20C_600s31x10s10s_A0407_ca.dat', '/Volumes/JosephSSD2T/ASD_Screen/spas-1_tm683/20160628_133036/FX683_5x4_f96h20C_600s31x10s10s_B0628ba.dat', '/Volumes/JosephSSD2T/ASD_Screen/spas-1_tm683/20160628_133107/FX683_5x4_f96h20C_600s30x10s10s_C0628bb.dat', '/Volumes/JosephSSD2T/ASD_Screen/spas-1_tm683/20160628_135225/FX683_5x4_f96h20C_600s31x10s10s_A0628bc.dat', '/Volumes/JosephSSD2T/ASD_Screen/spas-1_tm683/20160628_135316/FX683_5x4_f96h20C_600s31x10s10s_B0628bd.dat', '/Volumes/JosephSSD2T/ASD_Screen/spas-1_tm683/20160628_135331/FX683_5x4_f96h20C_600s30x10s10s_C0628be.dat', '/Volumes/JosephSSD2T/ASD_Screen/spas-1_ok1608/20160812_140230/RB1411_5x4_f96h20C_600s31x10s10s_C0812ce.dat', '/Volumes/JosephSSD2T/ASD_Screen/spas-1_ok1608/20160812_140451/RB1411_5x4_f96h20C_600s31x10s10s_A0812cc.dat', '/Volumes/JosephSSD2T/ASD_Screen/spas-1_ok1608/20160812_133630/RB1411_5x4_f96h20C_600s31x10s10s_C0812cb.dat', '/Volumes/JosephSSD2T/ASD_Screen/spas-1_ok1608/20160812_140309/RB1411_5x4_f96h20C_600s31x10s10s_B0812cd.dat', '/Volumes/JosephSSD2T/ASD_Screen/spas-1_ok1608/20160812_133951/RB1411_5x4_f96h20C_600s31x10s10s_A0812ca.dat', '/Volumes/JosephSSD2T/ASD_Screen/snf-11_ok156/20150517_131853/RM2710_5x4_f96h20C_600s31x10s10s_A0517ec.dat', '/Volumes/JosephSSD2T/ASD_Screen/snf-11_ok156/20150517_125718/RM2710_5x4_f96h20C_600s31x10s10s_A0517ea.dat', '/Volumes/JosephSSD2T/ASD_Screen/snf-11_ok156/20150517_131913/RM2710_5x4_f96h20C_600s31x10s10s_B0517ed.dat', '/Volumes/JosephSSD2T/ASD_Screen/aps-2_tm2752/20190723_103844/TM2752_5x4_f96h20C_600s31x10s10s_C0723ec.dat', '/Volumes/JosephSSD2T/ASD_Screen/aps-2_tm2752/20190723_130535/TM2752_5x4_f96h20C_600s31x10s10s_C0723kc.dat', '/Volumes/JosephSSD2T/ASD_Screen/aps-2_tm2752/20190723_103952/TM2752_5x4_f96h20C_600s31x10s10s_B0723eb.dat', '/Volumes/JosephSSD2T/ASD_Screen/aps-2_tm2752/20190723_133906/TM2752_5x4_f96h20C_600s31x10s10s_A0723la.dat', '/Volumes/JosephSSD2T/ASD_Screen/aps-2_tm2752/20190723_104907/TM2752_5x4_f96h20C_600s31x10s10s_A0723ea.dat', '/Volumes/JosephSSD2T/ASD_Screen/ztf-11_ok646/20160112_093958/RB824_5x4_f96h20C_600s31x10s10s_A0112ac.dat', '/Volumes/JosephSSD2T/ASD_Screen/ztf-11_ok646/20160112_093759/RB824_5x4_f96h20C_600s31x10s10s_B0112ad.dat', '/Volumes/JosephSSD2T/ASD_Screen/ztf-11_ok646/20160112_091030/RB824_5x4_f96h20C_600s31x10s10s_A0112aa.dat', '/Volumes/JosephSSD2T/ASD_Screen/ztf-11_ok646/20160112_090844/RB824_5x4_f96h20C_600s31x10s10s_B0112ab.dat', '/Volumes/JosephSSD2T/ASD_Screen/mbk-1_pk1389/20151117_134043/EK228_5x4_f96h20C_600s30x10s10s_C1117ic.dat', '/Volumes/JosephSSD2T/ASD_Screen/mbk-1_pk1389/20151117_133947/EK228_5x4_f96h20C_600s31x10s10s_A1117ia.dat', '/Volumes/JosephSSD2T/ASD_Screen/mbk-1_pk1389/20151117_140110/EK228_5x4_f96h20C_600s31x10s10s_B1117ie.dat', '/Volumes/JosephSSD2T/ASD_Screen/mbk-1_pk1389/20151117_133941/EK228_5x4_f96h20C_600s31x10s10s_B1117ib.dat', '/Volumes/JosephSSD2T/ASD_Screen/mbk-1_pk1389/20151117_140015/EK228_5x4_f96h20C_600s31x10s10s_A1117id.dat', '/Volumes/JosephSSD2T/ASD_Screen/bar-1_mu63/20160812_185427/CF376_5x4_f96h20C_600s31x10s10s_A0812gd.dat', '/Volumes/JosephSSD2T/ASD_Screen/bar-1_mu63/20160812_180400/CF376_5x4_f96h20C_600s31x10s10s_C0812ga.dat', '/Volumes/JosephSSD2T/ASD_Screen/bar-1_mu63/20160812_185231/CF376_5x4_f96h20C_600s31x10s10s_B0812gc.dat', '/Volumes/JosephSSD2T/ASD_Screen/bar-1_mu63/20160812_183131/CF376_5x4_f96h20C_600s31x10s10s_A0812gb.dat', '/Volumes/JosephSSD2T/ASD_Screen/bar-1_mu63/20160812_191707/CF376_5x4_f96h20C_600s31x10s10s_A0812ge.dat', '/Volumes/JosephSSD2T/ASD_Screen/fkh-7_gk793/20160212_162414/VC1646_5x4_f96h20C_600s30x10s10s_C0212ce.dat', '/Volumes/JosephSSD2T/ASD_Screen/fkh-7_gk793/20160212_160334/VC1646_5x4_f96h20C_600s30x10s10s_C0212cb.dat', '/Volumes/JosephSSD2T/ASD_Screen/fkh-7_gk793/20160212_162350/VC1646_5x4_f96h20C_600s31x10s10s_B0212cd.dat', '/Volumes/JosephSSD2T/ASD_Screen/fkh-7_gk793/20160212_160253/VC1646_5x4_f96h20C_600s31x10s10s_B0212ca.dat', '/Volumes/JosephSSD2T/ASD_Screen/fkh-7_gk793/20160212_162501/VC1646_5x4_f96h20C_600s31x10s10s_A0212_cc.dat', '/Volumes/JosephSSD2T/ASD_Screen/ubr-4_tm3968/20160526_150832/Tm3968_5x4_f96h20C_600s30x10s10s_C0526de.dat', '/Volumes/JosephSSD2T/ASD_Screen/ubr-4_tm3968/20160526_144507/Tm3968_5x4_f96h20C_600s30x10s10s_C0526dc.dat', '/Volumes/JosephSSD2T/ASD_Screen/ubr-4_tm3968/20160526_144549/Tm3968_5x4_f96h20C_600s30x10s10s_B0526db.dat', '/Volumes/JosephSSD2T/ASD_Screen/ubr-4_tm3968/20160526_150824/Tm3968_5x4_f96h20C_600s30x10s10s_B0526dd.dat', '/Volumes/JosephSSD2T/ASD_Screen/ubr-4_tm3968/20160526_142143/Tm3968_5x4_f96h20C_600s30x10s10s_C0526da.dat', '/Volumes/JosephSSD2T/ASD_Screen/unc-10_e102/20150915_083324/CB102_5x4_f96h20C_600s31x10s10s_B0015ba.dat', '/Volumes/JosephSSD2T/ASD_Screen/unc-10_e102/20150915_085326/CB102_5x4_f96h20C_600s31x10s10s_A0915bc.dat', '/Volumes/JosephSSD2T/ASD_Screen/unc-10_e102/20150915_091052/CB102_5x4_f96h20C_600s30x10s10s_C0915be.dat', '/Volumes/JosephSSD2T/ASD_Screen/unc-10_e102/20150915_085440/CB102_5x4_f96h20C_600s31x10s10s_B0015bd.dat', '/Volumes/JosephSSD2T/ASD_Screen/unc-10_e102/20150915_084915/CB102_5x4_f96h20C_600s30x10s10s_C0915bb.dat', '/Volumes/JosephSSD2T/ASD_Screen/unc-4_e120/20151117_115627/CB120_5x4_f96h20C_600s30x10s10s_C1117ga.dat', '/Volumes/JosephSSD2T/ASD_Screen/unc-4_e120/20151117_124706/CB120_5x4_f96h20C_600s31x10s10s_A1117ge.dat', '/Volumes/JosephSSD2T/ASD_Screen/unc-4_e120/20151117_122613/CB120_5x4_f96h20C_600s31x10s10s_B1117gc.dat', '/Volumes/JosephSSD2T/ASD_Screen/unc-4_e120/20151117_122550/CB120_5x4_f96h20C_600s31x10s10s_A1117gb.dat', '/Volumes/JosephSSD2T/ASD_Screen/unc-4_gk705/20160517_100640/VC1528_5x4_f96h20C_600s31x10s10s_C0517bd.dat', '/Volumes/JosephSSD2T/ASD_Screen/unc-4_gk705/20160517_100833/VC1528_5x4_f9620C_600s31x10s10s_A0517bb.dat', '/Volumes/JosephSSD2T/ASD_Screen/unc-4_gk705/20160517_103017/VC1528_5x4_f9620C_600s31x10s10s_A0517be.dat', '/Volumes/JosephSSD2T/ASD_Screen/unc-4_gk705/20160517_100605/VC1528_5x4_f96h20C_600s31x10s10s_B0517bc.dat', '/Volumes/JosephSSD2T/ASD_Screen/unc-4_gk705/20160517_094526/VC1528_5x4_f96h20C_600s31x10s10s_C0517ba.dat', '/Volumes/JosephSSD2T/ASD_Screen/bcl-11_tm522/20190730_145328/TM522_5x4_f96h20C_600s31x10s10s_C0730mc.dat', '/Volumes/JosephSSD2T/ASD_Screen/bcl-11_tm522/20190730_101214/TM522_5x4_f96h20C_600s31x10s10s_C0730bc.dat', '/Volumes/JosephSSD2T/ASD_Screen/bcl-11_tm522/20190730_145426/TM522_5x4_f96h20C_600s31x10s10s_B0730mb.dat', '/Volumes/JosephSSD2T/ASD_Screen/bcl-11_tm522/20190730_101327/TM522_5x4_f96h20C_600s31x10s10s_B0730bb.dat', '/Volumes/JosephSSD2T/ASD_Screen/bcl-11_tm522/20190730_102254/TM522_5x4_f96h20C_600s31x10s10s_A0730ba.dat', '/Volumes/JosephSSD2T/ASD_Screen/cnt-2_ok1767/20150908_101429/RB1499_5x4_f96h20C_600s31x10s10s_A0908bb.dat', '/Volumes/JosephSSD2T/ASD_Screen/cnt-2_ok1767/20150908_101523/RB1499_5x4_f96h20C_600s31x10s10s_B0908bc.dat', '/Volumes/JosephSSD2T/ASD_Screen/cnt-2_ok1767/20150908_095629/RB1499_5x4_f96h20C_600s30x10s10s_C0908ba.dat', '/Volumes/JosephSSD2T/ASD_Screen/cnt-2_ok1767/20150908_103517/RB1499_5x4_f96h20C_600s31x10s10s_A0908be.dat', '/Volumes/JosephSSD2T/ASD_Screen/gap-2_tm748/20150516_145827/JN147_5x4_f96h20C_600s31x10s10s_A0516ga.dat', '/Volumes/JosephSSD2T/ASD_Screen/gap-2_tm748/20150516_144958/JN147_5x4_f96h20C_600s31x10s10s_B0516gb.dat', '/Volumes/JosephSSD2T/ASD_Screen/gap-2_tm748/20150516_151045/JN147_5x4_f96h20C_600s31x10s10s_B0516gd.dat', '/Volumes/JosephSSD2T/ASD_Screen/gap-2_tm748/20150516_151325/JN147_5x4_f96h20C_600s30x10s10s_C0516ge.dat', '/Volumes/JosephSSD2T/ASD_Screen/gap-2_tm748/20150516_145223/JN147_5x4_f96h20C_600s30x10s10s_C0516gc.dat', '/Volumes/JosephSSD2T/ASD_Screen/unc-2_gk366/20160406_173405/VC854_5x4_f94h20C_600s30x10s10s_C0406ed.dat', '/Volumes/JosephSSD2T/ASD_Screen/unc-2_gk366/20160406_173655/VC854_5x4_f94h20C_600s30x10s10s_A0406ec.dat', '/Volumes/JosephSSD2T/ASD_Screen/unc-2_gk366/20160406_171315/VC854_5x4_f94h20C_600s30x10s10s_C0406eb.dat', '/Volumes/JosephSSD2T/ASD_Screen/unc-2_gk366/20160406_173459/VC854_5x4_f94h20C_600s30x10s10s_B0406cd.dat', '/Volumes/JosephSSD2T/ASD_Screen/unc-2_gk366/20160406_171554/VC854_5x4_f94h20C_600s30x10s10s_A0406ea.dat', '/Volumes/JosephSSD2T/ASD_Screen/unc-2_gk366/20160422_122514/VC854_5x4_f96h20C_600s30x10s10s_C0422eb.dat', '/Volumes/JosephSSD2T/ASD_Screen/unc-2_gk366/20160422_122628/VC854_5x4_f96h20C_600s31x10s10s_B0422ea.dat', '/Volumes/JosephSSD2T/ASD_Screen/unc-2_gk366/20160422_124551/VC854_5x4_f96h20C_600s30x10s10s_C0422ee.dat', '/Volumes/JosephSSD2T/ASD_Screen/unc-2_gk366/20160422_124659/VC854_5x4_f96h20C_600s31x10s10s_B0422ed.dat', '/Volumes/JosephSSD2T/ASD_Screen/unc-2_gk366/20160422_124953/VC854_5x4_f94h20C_600s30x10s10s_A0422ec.dat', '/Volumes/JosephSSD2T/ASD_Screen/unc-2_gk366/20160517_122154/VC584_5x4_f96h20C_600s31x10s10s_C0517fc.dat', '/Volumes/JosephSSD2T/ASD_Screen/unc-2_gk366/20160517_122222/VC854_5x4_f96h20C_600s31x10s10s_B0517fb.dat', '/Volumes/JosephSSD2T/ASD_Screen/unc-2_gk366/20160517_122323/VC854_5x4_f9620C_600s31x10s10s_A0517fa.dat', '/Volumes/JosephSSD2T/ASD_Screen/unc-2_gk366/20160517_124317/VC854_5x4_f96h20C_600s31x10s10s_B0517fe.dat', '/Volumes/JosephSSD2T/ASD_Screen/unc-2_gk366/20160517_124353/VC854_5x4_f9620C_600s31x10s10s_A0517fd.dat', '/Volumes/JosephSSD2T/ASD_Screen/unc-2_e55/20151117_155952/CB55_5x4_f96h20C_600s31x10s10s_A1117mb.dat', '/Volumes/JosephSSD2T/ASD_Screen/unc-2_e55/20151117_162505/CB55_5x4_f96h20C_600s31x10s10s_A1117me.dat', '/Volumes/JosephSSD2T/ASD_Screen/unc-2_e55/20151117_155945/CB55_5x4_f96h20C_600s31x10s10s_B1117mc.dat', '/Volumes/JosephSSD2T/ASD_Screen/unc-2_e55/20151117_153955/CB55_5x4_f96h20C_600s30x10s10s_C1117ma.dat', '/Volumes/JosephSSD2T/ASD_Screen/unc-2_e55/20151117_160105/CB55_5x4_f96h20C_600s30x10s10s_C1117md.dat', '/Volumes/JosephSSD2T/ASD_Screen/set-11_n4488/20151206_113706/MT14480_5x4_f96h20C_600s30x10s10s_C1206cb.dat', '/Volumes/JosephSSD2T/ASD_Screen/set-11_n4488/20151206_120015/MT14480_5x4_f96h20C_600s30x10s10s_C1206ce.dat', '/Volumes/JosephSSD2T/ASD_Screen/set-11_n4488/20151206_120113/MT14480_5x4_f96h20C_600s31x10s10s_A1206cc.dat', '/Volumes/JosephSSD2T/ASD_Screen/set-11_n4488/20151206_113901/MT14480_5x4_f96h20C_600s31x10s10s_B1206ca.dat', '/Volumes/JosephSSD2T/ASD_Screen/set-11_n4488/20151206_120007/MT14480_5x4_f96h20C_600s31x10s10s_B1206cd.dat', '/Volumes/JosephSSD2T/ASD_Screen/mrck-1_ok586/20151206_144452/VC315_5x4_f96h20C_600s31x10s10s_B1206ge.dat', '/Volumes/JosephSSD2T/ASD_Screen/mrck-1_ok586/20151206_142439/VC315_5x4_f96h20C_600s31x10s10s_A1206ga.dat', '/Volumes/JosephSSD2T/ASD_Screen/mrck-1_ok586/20151206_142330/VC315_5x4_f96h20C_600s31x10s10s_B1206gb.dat', '/Volumes/JosephSSD2T/ASD_Screen/mrck-1_ok586/20151206_142336/VC315_5x4_f96h20C_600s30x10s10s_C1206gc.dat', '/Volumes/JosephSSD2T/ASD_Screen/mrck-1_ok586/20151206_144559/VC315_5x4_f96h20C_600s31x10s10s_A1206gd.dat', '/Volumes/JosephSSD2T/ASD_Screen/unc-36_ad698/20190514_120946/DA698_5x4_f96h20C_600s31x10s10s_C0514fc.dat', '/Volumes/JosephSSD2T/ASD_Screen/unc-36_ad698/20190514_152610/DA698_5x4_f96h20C_600s31x10s10s_C0514nc.dat', '/Volumes/JosephSSD2T/ASD_Screen/unc-36_ad698/20190514_121015/DA698_5x4_f96h20C_600s31x10s10s_B0514fb.dat', '/Volumes/JosephSSD2T/ASD_Screen/unc-36_ad698/20190514_152642/DA698_5x4_f96h20C_600s31x10s10s_B0514nb.dat', '/Volumes/JosephSSD2T/ASD_Screen/unc-36_ad698/20190514_121740/DA698_5x4_f96h20C_600s31x10s10s_A0514fa.dat', '/Volumes/JosephSSD2T/ASD_Screen/unc-36_ad698/20190723_115303/DA698_5x4_f96h20C_600s31x10s10s_C0723hc.dat', '/Volumes/JosephSSD2T/ASD_Screen/unc-36_ad698/20190723_115411/DA698_5x4_f96h20C_600s31x10s10s_B0723hb.dat', '/Volumes/JosephSSD2T/ASD_Screen/unc-36_ad698/20190723_142517/DA698_5x4_f96h20C_600s31x10s10s_A0723na.dat', '/Volumes/JosephSSD2T/ASD_Screen/unc-36_ad698/20190723_120326/DA698_5x4_f96h20C_600s31x10s10s_A0723ha.dat', '/Volumes/JosephSSD2T/ASD_Screen/unc-36_ad698/20190723_140219/DA698_5x4_f96h20C_600s31x10s10s_A0723ma.dat', '/Volumes/JosephSSD2T/ASD_Screen/set-4_ok1481/20160131_134657/VC997_5x4_f96h20C_600s30x10s10s_C1206bc.dat', '/Volumes/JosephSSD2T/ASD_Screen/set-4_ok1481/20160131_140802/VC997_5x4_f96h20C_600s31x10s10s_A0131bd.dat', '/Volumes/JosephSSD2T/ASD_Screen/set-4_ok1481/20160131_134531/VC997_5x4_f96h20C_600s31x10s10s_A0131bb.dat', '/Volumes/JosephSSD2T/ASD_Screen/set-4_ok1481/20160131_140645/VC997_5x4_f96h20C_600s31x10s10s_A0131be.dat', '/Volumes/JosephSSD2T/ASD_Screen/set-4_ok1481/20160131_134625/VC997_5x4_f96h20C_600s31x10s10s_A0131ba.dat', '/Volumes/JosephSSD2T/ASD_Screen/chd-1_ok2798/20160407_130424/RB2613_5x4_f96h20C_600s30x10s10s_C0407_fd.dat', '/Volumes/JosephSSD2T/ASD_Screen/chd-1_ok2798/20160407_124405/RB2613_5x4_f96h20C_600s30x10s10s_C0407_fa.dat', '/Volumes/JosephSSD2T/ASD_Screen/chd-1_ok2798/20160407_130710/RB2613_5x4_f96h20C_600s31x10s10s_A0407_fb.dat', '/Volumes/JosephSSD2T/ASD_Screen/chd-1_ok2798/20160407_130458/RB2613_5x4_f96h20C_600s31x10s10s_B0407_fc.dat', '/Volumes/JosephSSD2T/ASD_Screen/ztf-6_tm1803/20160526_153115/Tm1803_5x4_f96h20C_600s30x10s10s_B0526ea.dat', '/Volumes/JosephSSD2T/ASD_Screen/ztf-6_tm1803/20160526_155409/Tm1803_5x4_f96h20C_600s30x10s10s_B0526ec.dat', '/Volumes/JosephSSD2T/ASD_Screen/ztf-6_tm1803/20160526_161441/Tm1803_5x4_f96h20C_600s30x10s10s_B0526ee.dat', '/Volumes/JosephSSD2T/ASD_Screen/ztf-6_tm1803/20160526_161911/Tm1803_5x4_f96h20C_600s30x10s10s_C0526ed.dat', '/Volumes/JosephSSD2T/ASD_Screen/ztf-6_tm1803/20160526_155837/Tm1803_5x4_f96h20C_600s30x10s10s_C0526eb.dat', '/Volumes/JosephSSD2T/ASD_Screen/smg-4_tm5409/20160517_111505/TM5409_5x4_f96h20C_600s31x10s10s_C0517dc.dat', '/Volumes/JosephSSD2T/ASD_Screen/smg-4_tm5409/20160517_111556/TM5409_5x4_f96h20C_600s31x10s10s_B0517db.dat', '/Volumes/JosephSSD2T/ASD_Screen/smg-4_tm5409/20160517_111651/TM5409_5x4_f9620C_600s31x10s10s_A0517da.dat', '/Volumes/JosephSSD2T/ASD_Screen/smg-4_tm5409/20160517_113959/TM5409_5x4_f9620C_600s31x10s10s_A0517dd.dat', '/Volumes/JosephSSD2T/ASD_Screen/irk-3_tm7416/20160517_115939/TM7416_5x4_f96h20C_600s31x10s10s_C0517ee.dat', '/Volumes/JosephSSD2T/ASD_Screen/irk-3_tm7416/20160517_113911/TM7416_5x4_f96h20C_600s31x10s10s_C0517eb.dat', '/Volumes/JosephSSD2T/ASD_Screen/irk-3_tm7416/20160517_113810/TM7416_5x4_f96h20C_600s31x10s10s_B0517ea.dat', '/Volumes/JosephSSD2T/ASD_Screen/irk-3_tm7416/20160517_120113/TM7416_5x4_f9620C_600s31x10s10s_A0517ec.dat', '/Volumes/JosephSSD2T/ASD_Screen/irk-3_tm7416/20160517_115832/TM7416_5x4_f96h20C_600s31x10s10s_B0517ed.dat', '/Volumes/JosephSSD2T/ASD_Screen/cdkl-1_ok2694/20151117_102526/RB2036_5x4_f96h20C_600s31x10s10s_B1117dc.dat', '/Volumes/JosephSSD2T/ASD_Screen/cdkl-1_ok2694/20151117_102622/RB2036_5x4_f96h20C_600s31x10s10s_A1117db.dat', '/Volumes/JosephSSD2T/ASD_Screen/cdkl-1_ok2694/20151117_100346/RB2036_5x4_f96h20C_600s30x10s10s_C1117da.dat', '/Volumes/JosephSSD2T/ASD_Screen/cdkl-1_ok2694/20151117_104953/RB2036_5x4_f96h20C_600s31x10s10s_A1117de.dat', '/Volumes/JosephSSD2T/ASD_Screen/cdkl-1_ok2694/20151117_102533/RB2036_5x4_f96h20C_600s30x10s10s_C1117dd.dat', '/Volumes/JosephSSD2T/ASD_Screen/cdh-1_gk747/20150926_121531/VC1583_5x4_f96h20C_600s31x10s10s_C0926ea.dat', '/Volumes/JosephSSD2T/ASD_Screen/cdh-1_gk747/20150926_123644/VC1583_5x4_f96h20C_600s31x10s10s_A0926eb.dat', '/Volumes/JosephSSD2T/ASD_Screen/cdh-1_gk747/20150926_123756/VC1583_5x4_f96h20C_600s31x10s10s_B0926ec.dat', '/Volumes/JosephSSD2T/ASD_Screen/cdh-1_gk747/20150926_123845/VC1583_5x4_f96h20C_600s31x10s10s_C0926ed.dat', '/Volumes/JosephSSD2T/ASD_Screen/cdh-1_gk747/20150926_125950/VC1583_5x4_f96h20C_600s31x10s10s_A0926ee.dat', '/Volumes/JosephSSD2T/ASD_Screen/unc-36_e251/20190514_143235/CB251_5x4_f96h20C_600s31x10s10s_C0514lc.dat', '/Volumes/JosephSSD2T/ASD_Screen/unc-36_e251/20190514_102432/CB251_5x4_f96h20C_600s31x10s10s_C0514bc.dat', '/Volumes/JosephSSD2T/ASD_Screen/unc-36_e251/20190514_102455/CB251_5x4_f96h20C_600s31x10s10s_B0514bb.dat', '/Volumes/JosephSSD2T/ASD_Screen/unc-36_e251/20190514_102933/CB251_5x4_f96h20C_600s31x10s10s_A0514ba.dat', '/Volumes/JosephSSD2T/ASD_Screen/unc-36_e251/20190514_141337/CB251_5x4_f96h20C_600s31x10s10s_A0514ka.dat', '/Volumes/JosephSSD2T/ASD_Screen/unc-36_e251/20190730_132902/CB251_5x4_f96h20C_600s31x10s10s_C0730jc.dat', '/Volumes/JosephSSD2T/ASD_Screen/unc-36_e251/20190730_171444/CB251_5x4_f96h20C_600s31x10s10s_C0730rc.dat', '/Volumes/JosephSSD2T/ASD_Screen/unc-36_e251/20190730_171539/CB251_5x4_f96h20C_600s31x10s10s_B0730rb.dat', '/Volumes/JosephSSD2T/ASD_Screen/unc-36_e251/20190730_133013/CB251_5x4_f96h20C_600s31x10s10s_B0730jb.dat', '/Volumes/JosephSSD2T/ASD_Screen/unc-36_e251/20190730_133937/CB251_5x4_f96h20C_600s31x10s10s_A0730ja.dat', '/Volumes/JosephSSD2T/ASD_Screen/unc-75_e950/20190718_121318/CB950_5x4_f96h20C_600s31x10s10s_C0718fc.dat', '/Volumes/JosephSSD2T/ASD_Screen/unc-75_e950/20190718_121440/CB950_5x4_f96h20C_600s31x10s10s_B0718fb.dat', '/Volumes/JosephSSD2T/ASD_Screen/unc-75_e950/20190718_153926/CB950_5x4_f96h20C_600s31x10s10s_B0718mb.dat', '/Volumes/JosephSSD2T/ASD_Screen/unc-75_e950/20190718_154835/CB950_5x4_f96h20C_600s31x10s10s_A0718ma.dat', '/Volumes/JosephSSD2T/ASD_Screen/unc-75_e950/20190718_122351/CB950_5x4_f96h20C_600s31x10s10s_A0718fa.dat', '/Volumes/JosephSSD2T/ASD_Screen/dhp-1_tm1072/20190730_121656/TM1072_5x4_f96h20C_600s31x10s10s_C0730gc.dat', '/Volumes/JosephSSD2T/ASD_Screen/dhp-1_tm1072/20190730_164707/TM1072_5x4_f96h20C_600s31x10s10s_B0730qb.dat', '/Volumes/JosephSSD2T/ASD_Screen/dhp-1_tm1072/20190730_121805/TM1072_5x4_f96h20C_600s31x10s10s_B0730gb.dat', '/Volumes/JosephSSD2T/ASD_Screen/dhp-1_tm1072/20190730_163048/TM1072_5x4_f96h20C_600s31x10s10s_A0730pa.dat', '/Volumes/JosephSSD2T/ASD_Screen/dhp-1_tm1072/20190730_122730/TM1072_5x4_f96h20C_600s31x10s10s_A0730ga.dat', '/Volumes/JosephSSD2T/ASD_Screen/ifbp-1_ok1339/20160407_132653/VC812_5x4_f96h20C_600s31x10s10s_B0407_gb.dat', '/Volumes/JosephSSD2T/ASD_Screen/ifbp-1_ok1339/20160407_132603/VC812_5x4_f96h20C_600s30x10s10s_C0407_gc.dat', '/Volumes/JosephSSD2T/ASD_Screen/ifbp-1_ok1339/20160407_132849/VC812_5x4_f96h20C_600s31x10s10s_A0407_ga.dat', '/Volumes/JosephSSD2T/ASD_Screen/ifbp-1_ok1339/20160407_134958/VC812_5x4_f96h20C_600s31x10s10s_A0407_gd.dat', '/Volumes/JosephSSD2T/ASD_Screen/ifbp-1_ok1339/20160407_134716/VC812_5x4_f96h20C_600s31x10s10s_B0407_ge.dat', '/Volumes/JosephSSD2T/ASD_Screen/set-24_n4909/20150915_112814/MT16133_5x4_f96h20C_600s31x10s10s_A0915ga.dat', '/Volumes/JosephSSD2T/ASD_Screen/set-24_n4909/20150915_114600/MT16133_5x4_f96h20C_600s30x10s10s_C0915gc.dat', '/Volumes/JosephSSD2T/ASD_Screen/set-24_n4909/20150915_114947/MT16133_5x4_f96h20C_600s31x10s10s_A0915gd.dat', '/Volumes/JosephSSD2T/ASD_Screen/set-24_n4909/20150915_115317/MT16133_5x4_f96h20C_600s31x10s10s_B0915ge.dat', '/Volumes/JosephSSD2T/ASD_Screen/set-24_n4909/20150915_113210/MT16133_5x4_f96h20C_600s31x10s10s_B0915gb.dat', '/Volumes/JosephSSD2T/ASD_Screen/unc-75_tm9711/20190718_101910/FX30258_5x4_f96h20C_600s31x10s10s_C0718bc.dat', '/Volumes/JosephSSD2T/ASD_Screen/unc-75_tm9711/20190718_142642/FX30258_5x4_f96h20C_600s31x10s10s_C0718jc.dat', '/Volumes/JosephSSD2T/ASD_Screen/unc-75_tm9711/20190718_102016/FX30258_5x4_f96h20C_600s31x10s10s_B0718bb.dat', '/Volumes/JosephSSD2T/ASD_Screen/unc-75_tm9711/20190718_150201/FX30258_5x4_f96h20C_600s31x10s10s_A0718ka.dat', '/Volumes/JosephSSD2T/ASD_Screen/unc-75_tm9711/20190718_102923/FX30258_5x4_f96h20C_600s31x10s10s_A0718ba.dat', '/Volumes/JosephSSD2T/ASD_Screen/hcp-1_gk237614/20151004_132743/VC2077_5x4_f96h20C_600s31x10s10s_C1004cb.dat', '/Volumes/JosephSSD2T/ASD_Screen/hcp-1_gk237614/20151004_134909/VC2077_5x4_f96h20C_600s31x10s10s_C1004ce.dat', '/Volumes/JosephSSD2T/ASD_Screen/hcp-1_gk237614/20151004_134814/VC2077_5x4_f96h20C_600s31x10s10s_A1004cc.dat', '/Volumes/JosephSSD2T/ASD_Screen/hcp-1_gk237614/20151004_134828/VC2077_5x4_f96h20C_600s31x10s10s_B1004cd.dat', '/Volumes/JosephSSD2T/ASD_Screen/hcp-1_gk237614/20151004_132635/VC2077_5x4_f96h20C_600s31x10s10s_B1004ca.dat', '/Volumes/JosephSSD2T/ASD_Screen/F11E6.8_ok2754/20151206_111157/RB2088_5x4_f96h20C_600s31x10s10s_A1206bb.dat', '/Volumes/JosephSSD2T/ASD_Screen/F11E6.8_ok2754/20151206_111047/RB2088_5x4_f96h20C_600s31x10s10s_B1206bc.dat', '/Volumes/JosephSSD2T/ASD_Screen/F11E6.8_ok2754/20151206_111054/RB2088_5x4_f96h20C_600s30x10s10s_C1206bd.dat', '/Volumes/JosephSSD2T/ASD_Screen/F11E6.8_ok2754/20151206_104814/RB2088_5x4_f96h20C_600s30x10s10s_C1206ba.dat', '/Volumes/JosephSSD2T/ASD_Screen/F11E6.8_ok2754/20151206_113806/RB2088_5x4_f96h20C_600s31x10s10s_A1206be.dat', '/Volumes/JosephSSD2T/ASD_Screen/tbx-38_tm581/20160526_112004/Tm851_5x4_f96h20C_600s30x10s10s_B0526aa.dat', '/Volumes/JosephSSD2T/ASD_Screen/tbx-38_tm581/20160526_114124/Tm851_5x4_f96h20C_600s30x10s10s_C0526ad.dat', '/Volumes/JosephSSD2T/ASD_Screen/tbx-38_tm581/20160526_120155/Tm851_5x4_f96h20C_600s30x10s10s_B0526ae.dat', '/Volumes/JosephSSD2T/ASD_Screen/tbx-38_tm581/20160526_114035/Tm851_5x4_f96h20C_600s30x10s10s_B0526ac.dat', '/Volumes/JosephSSD2T/ASD_Screen/tbx-38_tm581/20160526_112049/Tm851_5x4_f96h20C_600s30x10s10s_C0526ab.dat', '/Volumes/JosephSSD2T/ASD_Screen/gex-3_zu196/20151010_134602/WM43_5x4_f96h20C_600s31x10s10s_B1010db.dat', '/Volumes/JosephSSD2T/ASD_Screen/gex-3_zu196/20151010_134531/WM43_5x4_f96h20C_600s31x10s10s_A1010da.dat', '/Volumes/JosephSSD2T/ASD_Screen/gex-3_zu196/20151010_134651/WM43_5x4_f96h20C_600s31x10s10s_C1010dc.dat', '/Volumes/JosephSSD2T/ASD_Screen/dhcr-7_tm6473/20160517_135516/TM6473_5x4_f9620C_600s31x10s10s_A0517hc.dat', '/Volumes/JosephSSD2T/ASD_Screen/dhcr-7_tm6473/20160517_135140/TM6473_5x4_f96h20C_600s31x10s10s_B0517hc.dat', '/Volumes/JosephSSD2T/ASD_Screen/dhcr-7_tm6473/20160517_132840/TM6473_5x4_f96h20C_600s31x10s10s_C0517hb.dat', '/Volumes/JosephSSD2T/ASD_Screen/dhcr-7_tm6473/20160517_132734/TM6473_5x4_f96h20C_600s31x10s10s_B0517ha.dat', '/Volumes/JosephSSD2T/ASD_Screen/nrx-1_ds1/20150516_113556/SG1_5x4_f96h20C_600s31x10s10s_B0516ba.dat', '/Volumes/JosephSSD2T/ASD_Screen/nrx-1_ds1/20150516_113542/SG1_5x4_f96h20C_600s30x10s10s_C0516bb.dat', '/Volumes/JosephSSD2T/ASD_Screen/nrx-1_ds1/20150516_120549/SG1_5x4_f96h20C_600s31x10s10s_A0516bc.dat', '/Volumes/JosephSSD2T/ASD_Screen/nrx-1_ds1/20150516_120534/SG1_5x4_f96h20C_600s31x10s10s_B0516bd.dat', '/Volumes/JosephSSD2T/ASD_Screen/nrx-1_ds1/20150516_120515/SG1_5x4_f96h20C_600s30x10s10s_C0516be.dat', '/Volumes/JosephSSD2T/ASD_Screen/pop-1_tm6676/20190723_095414/TM6676_5x4_f96h20C_600s31x10s10s_C0723cc.dat', '/Volumes/JosephSSD2T/ASD_Screen/pop-1_tm6676/20190723_124348/TM6676_5x4_f96h20C_600s31x10s10s_C0723jc.dat', '/Volumes/JosephSSD2T/ASD_Screen/pop-1_tm6676/20190723_095521/TM6676_5x4_f96h20C_600s31x10s10s_B0723cb.dat', '/Volumes/JosephSSD2T/ASD_Screen/pop-1_tm6676/20190723_124431/TM6676_5x4_f96h20C_600s31x10s10s_B0723jb.dat', '/Volumes/JosephSSD2T/ASD_Screen/pop-1_tm6676/20190723_100433/TM6676_5x4_f96h20C_600s31x10s10s_A0723ca.dat', '/Volumes/JosephSSD2T/ASD_Screen/cls-3_ok3375/20150517_121013/RB2448_5x4_f96h20C_600s31x10s10s_A0517cb.dat', '/Volumes/JosephSSD2T/ASD_Screen/cls-3_ok3375/20150517_114832/RB2448_5x4_f96h20C_600s30x10s10s_C0517ca.dat', '/Volumes/JosephSSD2T/ASD_Screen/cls-3_ok3375/20150517_121133/RB2448_5x4_f96h20C_600s30x10s10s_C0517cd.dat', '/Volumes/JosephSSD2T/ASD_Screen/lron-8_tm8188/20190723_101651/TM8188_5x4_f96h20C_600s31x10s10s_C0723dc.dat', '/Volumes/JosephSSD2T/ASD_Screen/lron-8_tm8188/20190723_130642/TM8188_5x4_f96h20C_600s31x10s10s_B0723kb.dat', '/Volumes/JosephSSD2T/ASD_Screen/lron-8_tm8188/20190723_101757/TM8188_5x4_f96h20C_600s31x10s10s_B0723db.dat', '/Volumes/JosephSSD2T/ASD_Screen/lron-8_tm8188/20190723_102711/TM8188_5x4_f96h20C_600s31x10s10s_A0723da.dat', '/Volumes/JosephSSD2T/ASD_Screen/lron-8_tm8188/20190723_131557/TM8188_5x4_f96h20C_600s31x10s10s_A0723ka.dat', '/Volumes/JosephSSD2T/ASD_Screen/C18H9.3_tm4671/20190723_113016/TM4671_5x4_f96h20C_600s31x10s10s_C0723gc.dat', '/Volumes/JosephSSD2T/ASD_Screen/C18H9.3_tm4671/20190723_135157/TM4671_5x4_f96h20C_600s31x10s10s_C0723mc.dat', '/Volumes/JosephSSD2T/ASD_Screen/C18H9.3_tm4671/20190723_135304/TM4671_5x4_f96h20C_600s31x10s10s_B0723mb.dat', '/Volumes/JosephSSD2T/ASD_Screen/C18H9.3_tm4671/20190723_113110/TM4671_5x4_f96h20C_600s31x10s10s_B0723gb.dat', '/Volumes/JosephSSD2T/ASD_Screen/C18H9.3_tm4671/20190723_114008/TM4671_5x4_f96h20C_600s31x10s10s_A0723ga.dat', '/Volumes/JosephSSD2T/ASD_Screen/let-19_gk149538/20160112_104551/VC20144_5x4_f96h20C_600s31x10s10s_A0112be.dat', '/Volumes/JosephSSD2T/ASD_Screen/let-19_gk149538/20160112_102648/VC20144_5x4_f96h20C_600s31x10s10s_B0112bd.dat', '/Volumes/JosephSSD2T/ASD_Screen/let-19_gk149538/20160112_100411/VC20144_5x4_f96h20C_600s31x10s10s_A0112bb.dat', '/Volumes/JosephSSD2T/ASD_Screen/let-19_gk149538/20160112_102438/VC20144_5x4_f96h20C_600s31x10s10s_A0112bc.dat', '/Volumes/JosephSSD2T/ASD_Screen/rme-6_b1014/20150517_114759/DH1370_5x4_f96h20C_600s31x10s10s_A0517bc.dat', '/Volumes/JosephSSD2T/ASD_Screen/rme-6_b1014/20150517_111714/DH1370_5x4_f96h20C_600s31x10s10s_B0517ba.dat', '/Volumes/JosephSSD2T/ASD_Screen/rme-6_b1014/20150517_111713/DH1370_5x4_f96h20C_600s30x10s10s_C0517bb.dat', '/Volumes/JosephSSD2T/ASD_Screen/rme-6_b1014/20150517_114531/DH1370_5x4_f96h20C_600s31x10s10s_B0517bd.dat', '/Volumes/JosephSSD2T/ASD_Screen/bar-1_ga80/20150926_121327/EW15_5x4_f96h20C_600s31x10s10s_B0926ddd.dat', '/Volumes/JosephSSD2T/ASD_Screen/bar-1_ga80/20150926_114930/EW15_5x4_f96h20C_600s31x10s10s_C0926db.dat', '/Volumes/JosephSSD2T/ASD_Screen/bar-1_ga80/20150926_114657/EW15_5x4_f96h20C_600s31x10s10s_B0926da.dat', '/Volumes/JosephSSD2T/ASD_Screen/bar-1_ga80/20150926_121253/EW15_5x4_f96h20C_600s31x10s10s_A0926dc.dat', '/Volumes/JosephSSD2T/ASD_Screen/bar-1_ga80/20160812_124323/EW15_5x4_f96h20C_600s31x10s10s_A0812ad.dat', '/Volumes/JosephSSD2T/ASD_Screen/bar-1_ga80/20160812_131003/EW15_5x4_f96h20C_600s31x10s10s_C0812bc.dat', '/Volumes/JosephSSD2T/ASD_Screen/bar-1_ga80/20160812_131227/EW15_5x4_f96h20C_600s31x10s10s_A0812bb.dat', '/Volumes/JosephSSD2T/ASD_Screen/bar-1_ga80/20160812_133922/N2_5x4_f96h20C_600s31x10s10s_B0628ab.dat', '/Volumes/JosephSSD2T/ASD_Screen/ptr-6_ok2988/20160723_110236/VC2301_5x4_f96h20C_600s31x10s10s_B00723bc.dat', '/Volumes/JosephSSD2T/ASD_Screen/ptr-6_ok2988/20160723_103828/VC2301_5x4_f96h20C_600s31x10s10s_C0723ba.dat', '/Volumes/JosephSSD2T/ASD_Screen/ptr-6_ok2988/20160723_110212/VC2301_5x4_f96h20C_600s31x10s10s_C0723bd.dat', '/Volumes/JosephSSD2T/ASD_Screen/ptr-6_ok2988/20160723_110335/VC2301_5x4_f96h20C_600s31x10s10s_A0723bb.dat', '/Volumes/JosephSSD2T/ASD_Screen/met-1_gk510/20190718_104809/VC1078_5x4_f96h20C_600s31x10s10s_C0718cc.dat', '/Volumes/JosephSSD2T/ASD_Screen/met-1_gk510/20190718_145241/VC1078_5x4_f96h20C_600s31x10s10s_C0718kc.dat', '/Volumes/JosephSSD2T/ASD_Screen/met-1_gk510/20190718_104901/VC1078_5x4_f96h20C_600s31x10s10s_B0718cb.dat', '/Volumes/JosephSSD2T/ASD_Screen/met-1_gk510/20190718_145346/VC1078_5x4_f96h20C_600s31x10s10s_B0718kb.dat', '/Volumes/JosephSSD2T/ASD_Screen/met-1_gk510/20190718_105754/VC1078_5x4_f96h20C_600s31x10s10s_A0718ca.dat', '/Volumes/JosephSSD2T/ASD_Screen/ubr-4_gk109613/20150926_130102/VC20674_5x4_f96h20C_600s31x10s10s_B0926fa.dat', '/Volumes/JosephSSD2T/ASD_Screen/ubr-4_gk109613/20150926_132304/VC20674_5x4_f96h20C_600s31x10s10s_B0926fd.dat', '/Volumes/JosephSSD2T/ASD_Screen/ubr-4_gk109613/20150926_132225/VC20674_5x4_f96h20C_600s31x10s10s_A0926fc.dat', '/Volumes/JosephSSD2T/ASD_Screen/ubr-4_gk109613/20150926_130208/VC20674_5x4_f96h20C_600s31x10s10s_C0926fb.dat', '/Volumes/JosephSSD2T/ASD_Screen/ubr-4_gk109613/20150926_132359/VC20674_5x4_f96h20C_600s31x10s10s_C0926fe.dat', '/Volumes/JosephSSD2T/ASD_Screen/unc-18_e81/20190718_132936/CB81_5x4_f96h20C_600s31x10s10s_C0718ic.dat', '/Volumes/JosephSSD2T/ASD_Screen/unc-18_e81/20190718_162607/CB81_5x4_f96h20C_600s31x10s10s_C0718oc.dat', '/Volumes/JosephSSD2T/ASD_Screen/unc-18_e81/20190718_133039/CB81_5x4_f96h20C_600s31x10s10s_B0718ib.dat', '/Volumes/JosephSSD2T/ASD_Screen/unc-18_e81/20190718_162710/CB81_5x4_f96h20C_600s31x10s10s_B0718ob.dat', '/Volumes/JosephSSD2T/ASD_Screen/unc-18_e81/20190718_133944/CB81_5x4_f96h20C_600s31x10s10s_A0718ia.dat', '/Volumes/JosephSSD2T/ASD_Screen/pph-5_ok3498/20190626_113233/RB2522_5x4_f96h20C_600s31x10s10s_C0626bc.dat', '/Volumes/JosephSSD2T/ASD_Screen/pph-5_ok3498/20190626_153133/RB2522_5x4_f96h20C_600s31x10s10s_A0626ka.dat', '/Volumes/JosephSSD2T/ASD_Screen/pph-5_ok3498/20190626_120845/RB2522_5x4_f96h20C_600s31x10s10s_A0626ca.dat', '/Volumes/JosephSSD2T/ASD_Screen/pph-5_ok3498/20190626_120011/RB2522_5x4_f96h20C_600s31x10s10s_B0626cb.dat', '/Volumes/JosephSSD2T/ASD_Screen/pph-5_ok3498/20190626_152832/RB2522_5x4_f96h20C_600s31x10s10s_C0626kc.dat', '/Volumes/JosephSSD2T/ASD_Screen/chd-7_gk306/20151010_123321/VC676_5x4_f96h20C_600s31x10s10s_B1010bc.dat', '/Volumes/JosephSSD2T/ASD_Screen/chd-7_gk306/20151010_123430/vc676_5x4_f96h20C_600s31x10s10s_C1010bd.dat', '/Volumes/JosephSSD2T/ASD_Screen/chd-7_gk306/20151010_130023/VC676_5x4_f96h20C_600s31x10s10s_A1010ae.dat', '/Volumes/JosephSSD2T/ASD_Screen/chd-7_gk306/20151010_123301/VC676_5x4_f96h20C_600s31x10s10s_A1010ad.dat', '/Volumes/JosephSSD2T/ASD_Screen/epi-1_gm57/20160406_180201/NG57_5x4_f94h20C_600s30x10s10s_A0406fa.dat', '/Volumes/JosephSSD2T/ASD_Screen/epi-1_gm57/20160406_175942/NG57_5x4_f94h20C_600s30x10s10s_B0406fb.dat', '/Volumes/JosephSSD2T/ASD_Screen/epi-1_gm57/20160406_182319/NG57_5x4_f94h20C_600s30x10s10s_A0406fd.dat', '/Volumes/JosephSSD2T/ASD_Screen/epi-1_gm57/20160406_182050/NG57_5x4_f94h20C_600s30x10s10s_B0406fe.dat', '/Volumes/JosephSSD2T/ASD_Screen/epi-1_gm57/20160406_175843/NG57_5x4_f94h20C_600s30x10s10s_C0406fc.dat', '/Volumes/JosephSSD2T/ASD_Screen/pcaf-1_tm3318nt2/20160526_122518/Tm3318nT2_5x4_f96h20C_600s30x10s10s_C0526bc.dat', '/Volumes/JosephSSD2T/ASD_Screen/pcaf-1_tm3318nt2/20160526_122306/Tm3318nT2_5x4_f96h20C_600s30x10s10s_B0526bb.dat', '/Volumes/JosephSSD2T/ASD_Screen/pcaf-1_tm3318nt2/20160526_124428/Tm3318nT2_5x4_f96h20C_600s30x10s10s_B0526bd.dat', '/Volumes/JosephSSD2T/ASD_Screen/pcaf-1_tm3318nt2/20160526_120431/Tm3318nT2_5x4_f96h20C_600s30x10s10s_C0526ba.dat', '/Volumes/JosephSSD2T/ASD_Screen/pcaf-1_tm3318nt2/20160526_124544/Tm3318nT2_5x4_f96h20C_600s30x10s10s_C0526be.dat', '/Volumes/JosephSSD2T/ASD_Screen/dhc-1_ie28/20190730_124203/CA1207_5x4_f96h20C_600s31x10s10s_C0730hc.dat', '/Volumes/JosephSSD2T/ASD_Screen/dhc-1_ie28/20190730_164610/CA1207_5x4_f96h20C_600s31x10s10s_C0730qc.dat', '/Volumes/JosephSSD2T/ASD_Screen/dhc-1_ie28/20190730_124301/CA1207_5x4_f96h20C_600s31x10s10s_B0730hb.dat', '/Volumes/JosephSSD2T/ASD_Screen/dhc-1_ie28/20190730_125213/CA1207_5x4_f96h20C_600s31x10s10s_A0730ha.dat', '/Volumes/JosephSSD2T/ASD_Screen/shn-1_ok1241/20151117_150922/RB1196_5x4_f96h20C_600s31x10s10s_B1117kd.dat', '/Volumes/JosephSSD2T/ASD_Screen/shn-1_ok1241/20151117_150919/RB1196_5x4_f96h20C_600s31x10s10s_A1117kc.dat', '/Volumes/JosephSSD2T/ASD_Screen/shn-1_ok1241/20151117_151004/RB1196_5x4_f96h20C_600s30x10s10s_C1117ke.dat', '/Volumes/JosephSSD2T/ASD_Screen/shn-1_ok1241/20151117_144637/RB1196_5x4_f96h20C_600s31x10s10s_B1117ka.dat', '/Volumes/JosephSSD2T/ASD_Screen/shn-1_ok1241/20151117_144755/RB1196_5x4_f96h20C_600s30x10s10s_C1117kb.dat', '/Volumes/JosephSSD2T/ASD_Screen/sin-3_tm1276/20190730_103541/TM1276_5x4_f96h20C_600s31x10s10s_C0730cc.dat', '/Volumes/JosephSSD2T/ASD_Screen/sin-3_tm1276/20190730_155204/TM1276_5x4_f96h20C_600s31x10s10s_B0730ob.dat', '/Volumes/JosephSSD2T/ASD_Screen/sin-3_tm1276/20190730_103651/TM1276_5x4_f96h20C_600s31x10s10s_B0730cb.dat', '/Volumes/JosephSSD2T/ASD_Screen/sin-3_tm1276/20190730_152943/TM1276_5x4_f96h20C_600s31x10s10s_B0730nb.dat', '/Volumes/JosephSSD2T/ASD_Screen/sin-3_tm1276/20190730_104615/TM1276_5x4_f96h20C_600s31x10s10s_A0730ca.dat', '/Volumes/JosephSSD2T/ASD_Screen/unc-16_e109/20150915_093233/CB109_5x4_f96h20C_600s30x10s10s_C0915cc.dat', '/Volumes/JosephSSD2T/ASD_Screen/unc-16_e109/20150915_091537/CB109_5x4_f96h20C_600s31x10s10s_B0015cb.dat', '/Volumes/JosephSSD2T/ASD_Screen/unc-16_e109/20150915_093642/CB109_5x4_f96h20C_600s31x10s10s_A0915cd.dat', '/Volumes/JosephSSD2T/ASD_Screen/unc-16_e109/20150915_091409/CB109_5x4_f96h20C_600s31x10s10s_A0915ca.dat', '/Volumes/JosephSSD2T/ASD_Screen/unc-16_e109/20150915_093749/CB109_5x4_f96h20C_600s31x10s10s_B0015ce.dat', '/Volumes/JosephSSD2T/ASD_Screen/dip-2_ok885/20190611_133616/RB979_5x4_f96h20C_600s31x10s10s_C0611hc.dat', '/Volumes/JosephSSD2T/ASD_Screen/dip-2_ok885/20190611_133645/RB979_5x4_f96h20C_600s31x10s10s_B0611hb.dat', '/Volumes/JosephSSD2T/ASD_Screen/dip-2_ok885/20190611_134436/RB979_5x4_f96h20C_600s31x10s10s_A0611ha.dat', '/Volumes/JosephSSD2T/ASD_Screen/dip-2_ok885/20190611_162435/RB979_5x4_f96h20C_600s31x10s10s_A0611na.dat', '/Volumes/JosephSSD2T/ASD_Screen/dip-2_ok885/20190611_164234/RB979_5x4_f96h20C_600s31x10s10s_B0611ob.dat', '/Volumes/JosephSSD2T/ASD_Screen/vab-10_e698/20150517_123417/CB698_5x4_f96h20C_600s31x10s10s_A0517da.dat', '/Volumes/JosephSSD2T/ASD_Screen/vab-10_e698/20150517_123343/CB698_5x4_f96h20C_600s31x10s10s_B0517db.dat', '/Volumes/JosephSSD2T/ASD_Screen/vab-10_e698/20150517_125711/CB698_5x4_f96h20C_600s31x10s10s_B0517dd.dat', '/Volumes/JosephSSD2T/ASD_Screen/vab-10_e698/20150517_123346/CB698_5x4_f96h20C_600s30x10s10s_C0517dc.dat', '/Volumes/JosephSSD2T/ASD_Screen/M03D4.4_tm559/20190814_115915/TM559_5x4_f96h20C_600s31x10s10s_A0814ea.dat', '/Volumes/JosephSSD2T/ASD_Screen/M03D4.4_tm559/20190814_133211/TM559_5x4_f96h20C_600s31x10s10s_B0814ib.dat', '/Volumes/JosephSSD2T/ASD_Screen/M03D4.4_tm559/20190814_114925/TM559_5x4_f96h20C_600s31x10s10s_B0814eb.dat', '/Volumes/JosephSSD2T/ASD_Screen/M03D4.4_tm559/20190814_114805/TM559_5x4_f96h20C_600s31x10s10s_C0814ec.dat', '/Volumes/JosephSSD2T/ASD_Screen/M03D4.4_tm559/20190814_133050/TM559_5x4_f96h20C_600s31x10s10s_C0814ic.dat', '/Volumes/JosephSSD2T/ASD_Screen/M03D4.4_tm10242/20190814_110156/TM10242_5x4_f96h20C_600s31x10s10s_A0814ca.dat', '/Volumes/JosephSSD2T/ASD_Screen/M03D4.4_tm10242/20190814_105156/TM10242_5x4_f96h20C_600s31x10s10s_B0814cb.dat', '/Volumes/JosephSSD2T/ASD_Screen/M03D4.4_tm10242/20190814_124258/TM10242_5x4_f96h20C_600s31x10s10s_B0814gb.dat', '/Volumes/JosephSSD2T/ASD_Screen/M03D4.4_tm10242/20190814_105036/TM10242_5x4_f96h20C_600s31x10s10s_C0814cc.dat', '/Volumes/JosephSSD2T/ASD_Screen/M03D4.4_tm10242/20190814_124152/TM10242_5x4_f96h20C_600s31x10s10s_C0814gc.dat', '/Volumes/JosephSSD2T/ASD_Screen/dys-1_cx18/20151117_111044/LS292_5x4_f96h20C_600s31x10s10s_B1117ed.dat', '/Volumes/JosephSSD2T/ASD_Screen/dys-1_cx18/20151117_111051/LS292_5x4_f96h20C_600s30x10s10s_C1117ee.dat', '/Volumes/JosephSSD2T/ASD_Screen/dys-1_cx18/20151117_104857/LS292_5x4_f96h20C_600s31x10s10s_B1117ea.dat', '/Volumes/JosephSSD2T/ASD_Screen/dys-1_cx18/20151117_104904/LS292_5x4_f96h20C_600s30x10s10s_C1117eb.dat', '/Volumes/JosephSSD2T/ASD_Screen/dys-1_cx18/20151117_111141/LS292_5x4_f96h20C_600s31x10s10s_A1117ec.dat', '/Volumes/JosephSSD2T/ASD_Screen/slo-1_eg142/20190514_131248/BZ142_5x4_f96h20C_600s31x10s10s_C0514ic.dat', '/Volumes/JosephSSD2T/ASD_Screen/slo-1_eg142/20190514_131318/BZ142_5x4_f96h20C_600s31x10s10s_B0514ib.dat', '/Volumes/JosephSSD2T/ASD_Screen/slo-1_eg142/20190514_155004/BZ142_5x4_f96h20C_600s31x10s10s_B0514ob.dat', '/Volumes/JosephSSD2T/ASD_Screen/slo-1_eg142/20190514_132043/BZ142_5x4_f96h20C_600s31x10s10s_A0514ia.dat', '/Volumes/JosephSSD2T/ASD_Screen/slo-1_eg142/20190514_155751/BZ142_5x4_f96h20C_600s31x10s10s_A0514oa.dat', '/Volumes/JosephSSD2T/ASD_Screen/jac-1_ok3000/20160112_131309/RB2218_5x4_f96h20C_600s31x10s10s_A0112ec.dat', '/Volumes/JosephSSD2T/ASD_Screen/jac-1_ok3000/20160112_131136/RB2218_5x4_f96h20C_600s31x10s10s_B0112ed.dat', '/Volumes/JosephSSD2T/ASD_Screen/jac-1_ok3000/20160112_125026/RB2218_5x4_f96h20C_600s31x10s10s_B0112eb.dat', '/Volumes/JosephSSD2T/ASD_Screen/jac-1_ok3000/20160112_125211/RB2218_5x4_f96h20C_600s31x10s10s_A0112ea.dat', '/Volumes/JosephSSD2T/ASD_Screen/jac-1_ok3000/20160112_133601/RB2218_5x4_f96h20C_600s31x10s10s_A0112ee.dat', '/Volumes/JosephSSD2T/ASD_Screen/rbr-2_ok2544/20160212_172803/RB1941_5x4_f96h20C_600s31x10s10s_A0212_eb.dat', '/Volumes/JosephSSD2T/ASD_Screen/rbr-2_ok2544/20160212_170715/RB1941_5x4_f96h20C_600s30x10s10s_C0212ea.dat', '/Volumes/JosephSSD2T/ASD_Screen/rbr-2_ok2544/20160212_172652/RB1941_5x4_f96h20C_600s31x10s10s_B0212ec.dat', '/Volumes/JosephSSD2T/ASD_Screen/rbr-2_ok2544/20160212_174842/RB1941_5x4_f96h20C_600s31x10s10s_A0212_ee.dat', '/Volumes/JosephSSD2T/ASD_Screen/rbr-2_ok2544/20160212_172744/RB1941_5x4_f96h20C_600s30x10s10s_C0212ed.dat', '/Volumes/JosephSSD2T/ASD_Screen/ZK858.6_ok2364/20190730_130343/RB2501_5x4_f96h20C_600s31x10s10s_C0730ic.dat', '/Volumes/JosephSSD2T/ASD_Screen/ZK858.6_ok2364/20190730_130454/RB2501_5x4_f96h20C_600s31x10s10s_B0730ib.dat', '/Volumes/JosephSSD2T/ASD_Screen/ZK858.6_ok2364/20190730_165609/RB2501_5x4_f96h20C_600s31x10s10s_A0730qa.dat', '/Volumes/JosephSSD2T/ASD_Screen/ZK858.6_ok2364/20190730_172439/RB2501_5x4_f96h20C_600s31x10s10s_A0730ra.dat', '/Volumes/JosephSSD2T/ASD_Screen/ZK858.6_ok2364/20190730_131418/RB2501_5x4_f96h20C_600s31x10s10s_A0730ia.dat', '/Volumes/JosephSSD2T/ASD_Screen/bra-1_nk1/20190626_123225/NU1_5x4_f96h20C_600s31x10s10s_A0626da.dat', '/Volumes/JosephSSD2T/ASD_Screen/bra-1_nk1/20190626_122419/NU1_5x4_f96h20C_600s31x10s10s_B0626db.dat', '/Volumes/JosephSSD2T/ASD_Screen/bra-1_nk1/20190626_152320/NU1_5x4_f96h20C_600s31x10s10s_B0611kb.dat', '/Volumes/JosephSSD2T/ASD_Screen/bra-1_nk1/20190626_122338/NU1_5x4_f96h20C_600s31x10s10s_C0626dc.dat', '/Volumes/JosephSSD2T/ASD_Screen/bra-1_nk1/20190626_115920/NU1_5x4_f96h20C_600s31x10s10s_C0626cc.dat', '/Volumes/JosephSSD2T/ASD_Screen/rme-6_tm6649/20160526_174914/Tm6649_5x4_f96h20C_600s30x10s10s_C0526fc.dat', '/Volumes/JosephSSD2T/ASD_Screen/rme-6_tm6649/20160526_172845/Tm6649_5x4_f96h20C_600s30x10s10s_C0526fa.dat', '/Volumes/JosephSSD2T/ASD_Screen/rme-6_tm6649/20160526_174757/Tm6649_5x4_f96h20C_600s30x10s10s_B0526fb.dat', '/Volumes/JosephSSD2T/ASD_Screen/rme-6_tm6649/20160526_180848/Tm6649_5x4_f96h20C_600s30x10s10s_B0526fd.dat', '/Volumes/JosephSSD2T/ASD_Screen/rme-6_tm6649/20160526_180946/Tm6649_5x4_f96h20C_600s30x10s10s_C0526fe.dat', '/Volumes/JosephSSD2T/ASD_Screen/smg-4_gk244058/20151117_153817/VC20276_5x4_f96h20C_600s31x10s10s_B1117lb.dat', '/Volumes/JosephSSD2T/ASD_Screen/smg-4_gk244058/20151117_153822/VC20276_5x4_f96h20C_600s31x10s10s_A1117la.dat', '/Volumes/JosephSSD2T/ASD_Screen/exc-7_ok370/20190611_140304/VC176_5x4_f96h20C_600s31x10s10s_C0611ic.dat', '/Volumes/JosephSSD2T/ASD_Screen/exc-7_ok370/20190611_140348/VC176_5x4_f96h20C_600s31x10s10s_B0611ib.dat', '/Volumes/JosephSSD2T/ASD_Screen/exc-7_ok370/20190611_141156/VC176_5x4_f96h20C_600s31x10s10s_A0611ia.dat', '/Volumes/JosephSSD2T/ASD_Screen/exc-7_ok370/20190611_164203/VC176_5x4_f96h20C_600s31x10s10s_C0611oc.dat', '/Volumes/JosephSSD2T/ASD_Screen/exc-7_ok370/20190611_165030/VC176_5x4_f96h20C_600s31x10s10s_A0611oa.dat', '/Volumes/JosephSSD2T/ASD_Screen/irk-3_gk542081/20151117_131738/VC40261_5x4_f96h20C_600s31x10s10s_A1117hc.dat', '/Volumes/JosephSSD2T/ASD_Screen/irk-3_gk542081/20151117_131754/VC40261_5x4_f96h20C_600s30x10s10s_C1117he.dat', '/Volumes/JosephSSD2T/ASD_Screen/irk-3_gk542081/20151117_125359/VC40261_5x4_f96h20C_600s31x10s10s_B1117hb.dat', '/Volumes/JosephSSD2T/ASD_Screen/irk-3_gk542081/20151117_131715/VC40261_5x4_f96h20C_600s31x10s10s_B1117hd.dat', '/Volumes/JosephSSD2T/ASD_Screen/irk-3_gk542081/20151117_125020/VC40261_5x4_f96h20C_600s30x10s10s_C1117ha.dat', '/Volumes/JosephSSD2T/ASD_Screen/unknown_unknown/20151117_092907/VC30150_5x4_f96h20C_600s31x10s10s_B1117ba.dat', '/Volumes/JosephSSD2T/ASD_Screen/unknown_unknown/20151117_095446/VC30150_5x4_f96h20C_600s31x10s10s_A1117bc.dat', '/Volumes/JosephSSD2T/ASD_Screen/unknown_unknown/20151117_095350/VC30150_5x4_f96h20C_600s31x10s10s_B1117bd.dat', '/Volumes/JosephSSD2T/ASD_Screen/unknown_unknown/20151117_092916/VC30150_5x4_f96h20C_600s30x10s10s_C1117bb.dat', '/Volumes/JosephSSD2T/ASD_Screen/exc-7_rh252/20190611_124807/NJ683_5x4_f96h20C_600s31x10s10s_C0611fc.dat', '/Volumes/JosephSSD2T/ASD_Screen/exc-7_rh252/20190611_124849/NJ683_5x4_f96h20C_600s31x10s10s_B0611fb.dat', '/Volumes/JosephSSD2T/ASD_Screen/exc-7_rh252/20190611_125659/NJ683_5x4_f96h20C_600s31x10s10s_A0611fa.dat', '/Volumes/JosephSSD2T/ASD_Screen/exc-7_rh252/20190611_154917/NJ683_5x4_f96h20C_600s31x10s10s_C0611mc.dat', '/Volumes/JosephSSD2T/ASD_Screen/exc-7_rh252/20190611_154959/NJ683_5x4_f96h20C_600s31x10s10s_B0611mb.dat', '/Volumes/JosephSSD2T/ASD_Screen/cdh-4_hd40/20160628_183540/VH1940_5x4_f96h20C_600s30x10s10s_C0628jc.dat', '/Volumes/JosephSSD2T/ASD_Screen/cdh-4_hd40/20160628_190136/VH1940_5x4_f96h20C_600s31x10s10s_A0628jd.dat', '/Volumes/JosephSSD2T/ASD_Screen/cdh-4_hd40/20160628_183603/VH1940_5x4_f96h20C_600s31x10s10s_A0628ja.dat', '/Volumes/JosephSSD2T/ASD_Screen/cdh-4_hd40/20160628_183545/VH1940_5x4_f96h20C_600s31x10s10s_B0628jb.dat', '/Volumes/JosephSSD2T/ASD_Screen/cdh-4_hd40/20160628_190118/VH1940_5x4_f96h20C_600s31x10s10s_B0628je.dat', '/Volumes/JosephSSD2T/ASD_Screen/cdh-4_ok1323/20150516_142546/RB1256_5x4_f96h20C_600s31x10s10s_A0516fc.dat', '/Volumes/JosephSSD2T/ASD_Screen/cdh-4_ok1323/20150516_140229/RB1256_5x4_f96h20C_600s31x10s10s_B0516fa.dat', '/Volumes/JosephSSD2T/ASD_Screen/cdh-4_ok1323/20150516_142542/RB1256_5x4_f96h20C_600s31x10s10s_B0516fd.dat', '/Volumes/JosephSSD2T/ASD_Screen/cdh-4_ok1323/20150516_140332/RB1256_5x4_f96h20C_600s30x10s10s_C0516fb.dat', '/Volumes/JosephSSD2T/ASD_Screen/cdh-4_ok1323/20150516_142540/RB1256_5x4_f96h20C_600s30x10s10s_C0516fe.dat', '/Volumes/JosephSSD2T/ASD_Screen/slo-1_gk602291/20190611_112916/JPS428_5x4_f96h20C_600s31x10s10s_C0611cc.dat', '/Volumes/JosephSSD2T/ASD_Screen/slo-1_gk602291/20190611_112959/JPS428_5x4_f96h20C_600s31x10s10s_B0611cb.dat', '/Volumes/JosephSSD2T/ASD_Screen/slo-1_gk602291/20190611_113806/JPS428_5x4_f96h20C_600s31x10s10s_A0611ca.dat', '/Volumes/JosephSSD2T/ASD_Screen/slo-1_gk602291/20190611_145330/JPS428_5x4_f96h20C_600s31x10s10s_C0611kc.dat', '/Volumes/JosephSSD2T/ASD_Screen/slo-1_gk602291/20190611_145359/JPS428_5x4_f96h20C_600s31x10s10s_B0611kb.dat', '/Volumes/JosephSSD2T/ASD_Screen/slo-1_js118/20190611_115408/NM1630_5x4_f96h20C_600s31x10s10s_C0611dc.dat', '/Volumes/JosephSSD2T/ASD_Screen/slo-1_js118/20190611_115453/NM1630_5x4_f96h20C_600s31x10s10s_B0611db.dat', '/Volumes/JosephSSD2T/ASD_Screen/slo-1_js118/20190611_120303/NM1630_5x4_f96h20C_600s31x10s10s_A0611da.dat', '/Volumes/JosephSSD2T/ASD_Screen/slo-1_js118/20190611_152224/NM1630_5x4_f96h20C_600s31x10s10s_C0611lc.dat', '/Volumes/JosephSSD2T/ASD_Screen/slo-1_js118/20190611_152253/NM1630_5x4_f96h20C_600s31x10s10s_B0611lb.dat', '/Volumes/JosephSSD2T/ASD_Screen/nlg-1_ok259/20160812_203438/VC228_5x4_f96h20C_600s31x10s10s_A0812ja.dat', '/Volumes/JosephSSD2T/ASD_Screen/nlg-1_ok259/20160812_203237/VC228_5x4_f96h20C_600s31x10s10s_B0812jb.dat', '/Volumes/JosephSSD2T/ASD_Screen/nlg-1_ok259/20160812_205523/VC228_5x4_f96h20C_600s31x10s10s_B0812je.dat', '/Volumes/JosephSSD2T/ASD_Screen/nlg-1_ok259/20160812_205725/VC228_5x4_f96h20C_600s31x10s10s_A0812jd.dat', '/Volumes/JosephSSD2T/ASD_Screen/nlg-1_ok259/20160812_203143/VC228_5x4_f96h20C_600s30x10s10s_C0812jc.dat', '/Volumes/JosephSSD2T/ASD_Screen/npax-2_tm2107/20190730_161441/TM2107_5x4_f96h20C_600s31x10s10s_C0730pc.dat', '/Volumes/JosephSSD2T/ASD_Screen/npax-2_tm2107/20190730_115146/TM2107_5x4_f96h20C_600s31x10s10s_C0730fc.dat', '/Volumes/JosephSSD2T/ASD_Screen/npax-2_tm2107/20190730_161550/TM2107_5x4_f96h20C_600s31x10s10s_B0730pb.dat', '/Volumes/JosephSSD2T/ASD_Screen/npax-2_tm2107/20190730_115241/TM2107_5x4_f96h20C_600s31x10s10s_B0730fb.dat', '/Volumes/JosephSSD2T/ASD_Screen/npax-2_tm2107/20190730_120148/TM2107_5x4_f96h20C_600s31x10s10s_A0730fa.dat', '/Volumes/JosephSSD2T/ASD_Screen/daf-6_e1377/20160221_134941/CB1377_5x4_f96h20C_600s31x10s10s_A0221be.dat', '/Volumes/JosephSSD2T/ASD_Screen/daf-6_e1377/20160221_132555/CB1377_5x4_f96h20C_600s31x10s10s_A0221bc.dat', '/Volumes/JosephSSD2T/ASD_Screen/daf-6_e1377/20160221_130928/CB1377_5x4_f96h20C_600s30x10s10s_C0221ba.dat', '/Volumes/JosephSSD2T/ASD_Screen/daf-6_e1377/20160221_132727/CB1377_5x4_f96h20C_600s31x10s10s_A0221ba.dat', '/Volumes/JosephSSD2T/ASD_Screen/daf-6_e1377/20160221_133014/CB1377_5x4_f96h20C_600s30x10s10s_C0221bd.dat', '/Volumes/JosephSSD2T/ASD_Screen/daf-6_e1377/20160628_173919/CB3335_5x4_f96h20C_600s30x10s10s_C0628ia.dat', '/Volumes/JosephSSD2T/ASD_Screen/daf-6_e1377/20160628_180421/CB1377_5x4_f96h20C_600s30x10s10s_C0628id.dat', '/Volumes/JosephSSD2T/ASD_Screen/daf-6_e1377/20160628_180424/CB1377_5x4_f96h20C_600s31x10s10s_B0628ic.dat', '/Volumes/JosephSSD2T/ASD_Screen/daf-6_e1377/20160628_180425/CB1377_5x4_f96h20C_600s31x10s10s_A0628ib.dat', '/Volumes/JosephSSD2T/ASD_Screen/shn-1_gk181/20151117_164758/VC376_5x4_f96h20C_600s31x10s10s_B1117nd.dat', '/Volumes/JosephSSD2T/ASD_Screen/shn-1_gk181/20151117_162426/VC376_5x4_f96h20C_600s30x10s10s_C1117nb.dat', '/Volumes/JosephSSD2T/ASD_Screen/shn-1_gk181/20151117_162417/VC376_5x4_f96h20C_600s31x10s10s_B1117na.dat', '/Volumes/JosephSSD2T/ASD_Screen/shn-1_gk181/20151117_164850/VC376_5x4_f96h20C_600s31x10s10s_A1117nc.dat', '/Volumes/JosephSSD2T/ASD_Screen/shn-1_gk181/20151117_164812/VC376_5x4_f96h20C_600s30x10s10s_C1117ne.dat', '/Volumes/JosephSSD2T/ASD_Screen/anc-1_e1802/20150908_093312/CB3335_5x4_f96h20C_600s31x10s10s_A0908aa.dat', '/Volumes/JosephSSD2T/ASD_Screen/anc-1_e1802/20150908_093401/CB3335_5x4_f96h20C_600s30x10s10s_C0908ac.dat', '/Volumes/JosephSSD2T/ASD_Screen/anc-1_e1802/20150908_093331/CB3335_5x4_f96h20C_600s31x10s10s_B0908ab.dat', '/Volumes/JosephSSD2T/ASD_Screen/anc-1_e1802/20150908_095424/CB3335_5x4_f96h20C_600s31x10s10s_B0908ae.dat', '/Volumes/JosephSSD2T/ASD_Screen/anc-1_e1802/20150908_095349/CB3335_5x4_f96h20C_600s31x10s10s_A0908ad.dat', '/Volumes/JosephSSD2T/ASD_Screen/slo-1_js379/20190514_114145/NM1968_5x4_f96h20C_600s31x10s10s_C0514ec.dat', '/Volumes/JosephSSD2T/ASD_Screen/slo-1_js379/20190514_145824/NM1968_5x4_f96h20C_600s31x10s10s_C0514mc.dat', '/Volumes/JosephSSD2T/ASD_Screen/slo-1_js379/20190514_114214/NM1968_5x4_f96h20C_600s31x10s10s_B0514eb.dat', '/Volumes/JosephSSD2T/ASD_Screen/slo-1_js379/20190514_153406/NM1968_5x4_f96h20C_600s31x10s10s_A0514na.dat', '/Volumes/JosephSSD2T/ASD_Screen/slo-1_js379/20190514_114938/NM1968_5x4_f96h20C_600s31x10s10s_A0514ea.dat', '/Volumes/JosephSSD2T/ASD_Screen/unc-18_e234/20190718_130555/CB234_5x4_f96h20C_600s31x10s10s_C0718hc.dat', '/Volumes/JosephSSD2T/ASD_Screen/unc-18_e234/20190718_130704/CB234_5x4_f96h20C_600s31x10s10s_B0718hb.dat', '/Volumes/JosephSSD2T/ASD_Screen/unc-18_e234/20190718_161103/CB234_5x4_f96h20C_600s31x10s10s_A0718na.dat', '/Volumes/JosephSSD2T/ASD_Screen/unc-18_e234/20190718_163616/CB234_5x4_f96h20C_600s31x10s10s_A0718oa.dat', '/Volumes/JosephSSD2T/ASD_Screen/unc-18_e234/20190718_131611/CB234_5x4_f96h20C_600s31x10s10s_A0718ha.dat', '/Volumes/JosephSSD2T/ASD_Screen/mtm-5_ok469/20150516_131707/VC263_5x4_f96h20C_600s31x10s10s_A0516dc.dat', '/Volumes/JosephSSD2T/ASD_Screen/mtm-5_ok469/20150516_131653/VC263_5x4_f96h20C_600s31x10s10s_B0516dd.dat', '/Volumes/JosephSSD2T/ASD_Screen/mtm-5_ok469/20150516_125558/VC263_5x4_f96h20C_600s31x10s10s_B0516da.dat', '/Volumes/JosephSSD2T/ASD_Screen/mtm-5_ok469/20150516_125649/VC263_5x4_f96h20C_600s30x10s10s_C0516db.dat', '/Volumes/JosephSSD2T/ASD_Screen/daf-18_e1375/20150516_123355/CB1375_5x4_f96h20C_600s31x10s10s_A0516ca.dat', '/Volumes/JosephSSD2T/ASD_Screen/daf-18_e1375/20150516_125500/CB1375_5x4_f96h20C_600s31x10s10s_A0516cd.dat', '/Volumes/JosephSSD2T/ASD_Screen/daf-18_e1375/20150516_123347/CB1375_5x4_f96h20C_600s31x10s10s_B0516cb.dat', '/Volumes/JosephSSD2T/ASD_Screen/daf-18_e1375/20150516_123341/CB1375_5x4_f96h20C_600s30x10s10s_C0516cc.dat', '/Volumes/JosephSSD2T/ASD_Screen/kqt-1_tm846/20190730_174149/TM846_5x4_f96h20C_600s31x10s10s_C0730sc.dat', '/Volumes/JosephSSD2T/ASD_Screen/kqt-1_tm846/20190730_112150/TM846_5x4_f96h20C_600s31x10s10s_C0730ec.dat', '/Volumes/JosephSSD2T/ASD_Screen/kqt-1_tm846/20190730_174258/TM846_5x4_f96h20C_600s31x10s10s_B0730sb.dat', '/Volumes/JosephSSD2T/ASD_Screen/kqt-1_tm846/20190730_112300/TM846_5x4_f96h20C_600s31x10s10s_B0730eb.dat', '/Volumes/JosephSSD2T/ASD_Screen/kqt-1_tm846/20190730_113227/TM846_5x4_f96h20C_600s31x10s10s_A0730ea.dat', '/Volumes/JosephSSD2T/ASD_Screen/kqt-1_tm8384/20190723_110721/TM8384_5x4_f96h20C_600s31x10s10s_C0723fc.dat', '/Volumes/JosephSSD2T/ASD_Screen/kqt-1_tm8384/20190723_132910/TM8384_5x4_f96h20C_600s31x10s10s_C0723lc.dat', '/Volumes/JosephSSD2T/ASD_Screen/kqt-1_tm8384/20190723_133005/TM8384_5x4_f96h20C_600s31x10s10s_B0723lb.dat', '/Volumes/JosephSSD2T/ASD_Screen/kqt-1_tm8384/20190723_110829/TM8384_5x4_f96h20C_600s31x10s10s_B0723fb.dat', '/Volumes/JosephSSD2T/ASD_Screen/kqt-1_tm8384/20190723_111745/TM8384_5x4_f96h20C_600s31x10s10s_A0723fa.dat', '/Volumes/JosephSSD2T/ASD_Screen/jmjd-3.3_tm3104/20190730_142033/TM3104_5x4_f96h20C_600s31x10s10s_C0730lc.dat', '/Volumes/JosephSSD2T/ASD_Screen/jmjd-3.3_tm3104/20190730_135408/TM3104_5x4_f96h20C_600s31x10s10s_C0730kc.dat', '/Volumes/JosephSSD2T/ASD_Screen/jmjd-3.3_tm3104/20190730_135814/TM3104_5x4_f96h20C_600s31x10s10s_B0730kb.dat', '/Volumes/JosephSSD2T/ASD_Screen/jmjd-3.3_tm3104/20190730_143114/TM3104_5x4_f96h20C_600s31x10s10s_A0730la.dat', '/Volumes/JosephSSD2T/ASD_Screen/jmjd-3.3_tm3104/20190730_140358/TM3104_5x4_f96h20C_600s31x10s10s_A0730ka.dat', '/Volumes/JosephSSD2T/ASD_Screen/jmjd-3.3_tm3197/20190730_152829/TM3197_5x4_f96h20C_600s31x10s10s_C0730nc.dat', '/Volumes/JosephSSD2T/ASD_Screen/jmjd-3.3_tm3197/20190730_105819/TM3197_5x4_f96h20C_600s31x10s10s_C0730dc.dat', '/Volumes/JosephSSD2T/ASD_Screen/jmjd-3.3_tm3197/20190730_105917/TM3197_5x4_f96h20C_600s31x10s10s_B0730db.dat', '/Volumes/JosephSSD2T/ASD_Screen/jmjd-3.3_tm3197/20190730_161014/TM3197_5x4_f96h20C_600s31x10s10s_A0730oa.dat', '/Volumes/JosephSSD2T/ASD_Screen/jmjd-3.3_tm3197/20190730_110829/TM3197_5x4_f96h20C_600s31x10s10s_A0730da.dat', '/Volumes/JosephSSD2T/ASD_Screen/set-16_gk190875/20160212_164546/VC20023_5x4_f96h20C_600s30x10s10s_C0212dc.dat', '/Volumes/JosephSSD2T/ASD_Screen/set-16_gk190875/20160212_164613/VC20023_5x4_f96h20C_600s31x10s10s_A0212_da.dat', '/Volumes/JosephSSD2T/ASD_Screen/set-16_gk190875/20160212_164513/VC20023_5x4_f96h20C_600s31x10s10s_B0212db.dat', '/Volumes/JosephSSD2T/ASD_Screen/set-16_gk190875/20160212_170606/VC20023_5x4_f96h20C_600s31x10s10s_B0212de.dat', '/Volumes/JosephSSD2T/ASD_Screen/set-16_gk190875/20160212_170648/VC20023_5x4_f96h20C_600s31x10s10s_A0212_dd.dat', '/Volumes/JosephSSD2T/ASD_Screen/met-1_n4337/20190718_114129/MT16973_5x4_f96h20C_600s31x10s10s_C0718ec.dat', '/Volumes/JosephSSD2T/ASD_Screen/met-1_n4337/20190718_151543/MT16973_5x4_f96h20C_600s31x10s10s_C0718lc.dat', '/Volumes/JosephSSD2T/ASD_Screen/met-1_n4337/20190718_153820/MT16973_5x4_f96h20C_600s31x10s10s_C0718mc.dat', '/Volumes/JosephSSD2T/ASD_Screen/met-1_n4337/20190718_114232/MT16973_5x4_f96h20C_600s31x10s10s_B0718eb.dat', '/Volumes/JosephSSD2T/ASD_Screen/met-1_n4337/20190718_115136/MT16973_5x4_f96h20C_600s31x10s10s_A0718ea.dat', '/Volumes/JosephSSD2T/ASD_Screen/met-1_ok2172/20190718_111619/VC1666_5x4_f96h20C_600s31x10s10s_C0718dc.dat', '/Volumes/JosephSSD2T/ASD_Screen/met-1_ok2172/20190718_151652/VC1666_5x4_f96h20C_600s31x10s10s_B0718lb.dat', '/Volumes/JosephSSD2T/ASD_Screen/met-1_ok2172/20190718_111712/VC1666_5x4_f96h20C_600s31x10s10s_B0718db.dat', '/Volumes/JosephSSD2T/ASD_Screen/met-1_ok2172/20190718_152601/VC1666_5x4_f96h20C_600s31x10s10s_A0718la.dat', '/Volumes/JosephSSD2T/ASD_Screen/met-1_ok2172/20190718_112605/VC1666_5x4_f96h20C_600s31x10s10s_A0718da.dat', '/Volumes/JosephSSD2T/ASD_Screen/pax-2_ok935/20190626_164656/RB1013_5x4_f96h20C_600s31x10s10s_A0626na.dat', '/Volumes/JosephSSD2T/ASD_Screen/pax-2_ok935/20190626_145906/RB1013_5x4_f96h20C_600s31x10s10s_A0626ja.dat', '/Volumes/JosephSSD2T/ASD_Screen/pax-2_ok935/20190626_145034/RB1013_5x4_f96h20C_600s31x10s10s_B0626jb.dat', '/Volumes/JosephSSD2T/ASD_Screen/pax-2_ok935/20190626_163729/RB1013_5x4_f96h20C_600s31x10s10s_C0626nc.dat', '/Volumes/JosephSSD2T/ASD_Screen/pax-2_ok935/20190626_144941/RB1013_5x4_f96h20C_600s31x10s10s_C0626jc.dat', '/Volumes/JosephSSD2T/ASD_Screen/pax-2_ok948/20190626_155809/RB1019_5x4_f96h20C_600s31x10s10s_A0626la.dat', '/Volumes/JosephSSD2T/ASD_Screen/pax-2_ok948/20190626_134446/RB1019_5x4_f96h20C_600s31x10s10s_A0626ga.dat', '/Volumes/JosephSSD2T/ASD_Screen/pax-2_ok948/20190626_154901/RB1019_5x4_f96h20C_600s31x10s10s_B0611lb.dat', '/Volumes/JosephSSD2T/ASD_Screen/pax-2_ok948/20190626_133615/RB1019_5x4_f96h20C_600s31x10s10s_B0626gb.dat', '/Volumes/JosephSSD2T/ASD_Screen/pax-2_ok948/20190626_133525/RB1019_5x4_f96h20C_600s31x10s10s_C0626gc.dat', '/Volumes/JosephSSD2T/ASD_Screen/pax-2_ok3078/20190626_132149/VC2438_5x4_f96h20C_600s31x10s10s_A0626fa.dat', '/Volumes/JosephSSD2T/ASD_Screen/pax-2_ok3078/20190626_131403/VC2438_5x4_f96h20C_600s31x10s10s_B0626fb.dat', '/Volumes/JosephSSD2T/ASD_Screen/pax-2_ok3078/20190626_130950/VC2438_5x4_f96h20C_600s31x10s10s_C0626fc.dat', '/Volumes/JosephSSD2T/ASD_Screen/pax-2_ok3078/20190626_155018/VC2438_5x4_f96h20C_600s31x10s10s_C0626lc.dat', '/Volumes/JosephSSD2T/ASD_Screen/pax-2_ok3078/20190626_161516/VC2438_5x4_f96h20C_600s31x10s10s_C0626mc.dat', '/Volumes/JosephSSD2T/ASD_Screen/nab-1_gk164/20190626_143612/VC284_5x4_f96h20C_600s31x10s10s_A0626ia.dat', '/Volumes/JosephSSD2T/ASD_Screen/nab-1_gk164/20190626_161411/VC284_5x4_f96h20C_600s31x10s10s_B0611mb.dat', '/Volumes/JosephSSD2T/ASD_Screen/nab-1_gk164/20190626_170252/VC284_5x4_f96h20C_600s31x10s10s_B0611ob.dat', '/Volumes/JosephSSD2T/ASD_Screen/nab-1_gk164/20190626_142741/VC284_5x4_f96h20C_600s31x10s10s_B0626ib.dat', '/Volumes/JosephSSD2T/ASD_Screen/nab-1_gk164/20190626_142651/VC284_5x4_f96h20C_600s31x10s10s_C0626ic.dat', '/Volumes/JosephSSD2T/ASD_Screen/nab-1_ok943/20190626_162218/RB1017_5x4_f96h20C_600s31x10s10s_A0626ma.dat', '/Volumes/JosephSSD2T/ASD_Screen/nab-1_ok943/20190626_140709/RB1017_5x4_f96h20C_600s31x10s10s_A0626ha.dat', '/Volumes/JosephSSD2T/ASD_Screen/nab-1_ok943/20190626_135851/RB1017_5x4_f96h20C_600s31x10s10s_B0626hb.dat', '/Volumes/JosephSSD2T/ASD_Screen/nab-1_ok943/20190626_163824/RB1017_5x4_f96h20C_600s31x10s10s_B0611nb.dat', '/Volumes/JosephSSD2T/ASD_Screen/nab-1_ok943/20190626_135811/RB1017_5x4_f96h20C_600s31x10s10s_C0626hc.dat', '/Volumes/JosephSSD2T/ASD_Screen/cca-1_ad1650/20151206_133305/JD21_5x4_f96h20C_600s31x10s10s_B1206ee.dat', '/Volumes/JosephSSD2T/ASD_Screen/cca-1_ad1650/20151206_131136/JD21_5x4_f96h20C_600s31x10s10s_A1206ea.dat', '/Volumes/JosephSSD2T/ASD_Screen/cca-1_ad1650/20151206_131032/JD21_5x4_f96h20C_600s30x10s10s_C1206ec.dat', '/Volumes/JosephSSD2T/ASD_Screen/cca-1_ad1650/20151206_133416/JD21_5x4_f96h20C_600s31x10s10s_A1206ed.dat', '/Volumes/JosephSSD2T/ASD_Screen/cca-1_ad1650/20151206_131026/JD21_5x4_f96h20C_600s31x10s10s_B1206eb.dat', '/Volumes/JosephSSD2T/ASD_Screen/ptr-10_ok2106/20160723_112607/RB1693_5x4_f96h20C_600s31x10s10s_B00723ca.dat', '/Volumes/JosephSSD2T/ASD_Screen/ptr-10_ok2106/20160723_114849/RB1693_5x4_f96h20C_600s31x10s10s_B00723cd.dat', '/Volumes/JosephSSD2T/ASD_Screen/ptr-10_ok2106/20160723_114825/RB1693_5x4_f96h20C_600s31x10s10s_C0723ce.dat', '/Volumes/JosephSSD2T/ASD_Screen/ptr-10_ok2106/20160723_112546/RB1693_5x4_f96h20C_600s31x10s10s_C0723cb.dat', '/Volumes/JosephSSD2T/ASD_Screen/unc-18_md299/20190718_123950/RM299_5x4_f96h20C_600s31x10s10s_C0718gc.dat', '/Volumes/JosephSSD2T/ASD_Screen/unc-18_md299/20190718_160045/RM299_5x4_f96h20C_600s31x10s10s_C0718nc.dat', '/Volumes/JosephSSD2T/ASD_Screen/unc-18_md299/20190718_124057/RM299_5x4_f96h20C_600s31x10s10s_B0718gb.dat', '/Volumes/JosephSSD2T/ASD_Screen/unc-18_md299/20190718_160149/RM299_5x4_f96h20C_600s31x10s10s_B0718nb.dat', '/Volumes/JosephSSD2T/ASD_Screen/unc-18_md299/20190718_125012/RM299_5x4_f96h20C_600s31x10s10s_A0718ga.dat', '/Volumes/JosephSSD2T/ASD_Screen/anc-1_e1753/20160812_200811/CB3339_5x4_f96h20C_600s31x10s10s_B0812id.dat', '/Volumes/JosephSSD2T/ASD_Screen/anc-1_e1753/20160812_200732/CB3339_5x4_f96h20C_600s30x10s10s_C0812ic.dat', '/Volumes/JosephSSD2T/ASD_Screen/anc-1_e1753/20160812_194720/CB3339_5x4_f96h20C_600s31x10s10s_A0812ia.dat', '/Volumes/JosephSSD2T/ASD_Screen/anc-1_e1753/20160812_200949/CB3339_5x4_f96h20C_600s31x10s10s_A0812ie.dat', '/Volumes/JosephSSD2T/ASD_Screen/anc-1_e1753/20160812_194416/CB3339_5x4_f96h20C_600s30x10s10s_C0812ib.dat', '/Volumes/JosephSSD2T/ASD_Screen/anc-1_e1753/20160812_194416/._CB3339_5x4_f96h20C_600s30x10s10s_C0812ib.dat', '/Volumes/JosephSSD2T/ASD_Screen/ZK858.6_ok2921/20190723_093021/RB2161_5x4_f96h20C_600s31x10s10s_C0723bc.dat', '/Volumes/JosephSSD2T/ASD_Screen/ZK858.6_ok2921/20190723_121654/RB2161_5x4_f96h20C_600s31x10s10s_C0723ic.dat', '/Volumes/JosephSSD2T/ASD_Screen/ZK858.6_ok2921/20190723_093129/RB2161_5x4_f96h20C_600s31x10s10s_B0723bb.dat', '/Volumes/JosephSSD2T/ASD_Screen/ZK858.6_ok2921/20190723_094042/RB2161_5x4_f96h20C_600s31x10s10s_A0723ba.dat', '/Volumes/JosephSSD2T/ASD_Screen/ZK858.6_ok2921/20190723_125308/RB2161_5x4_f96h20C_600s31x10s10s_A0723ja.dat', '/Volumes/JosephSSD2T/ASD_Screen/hgap-1_gk101481/20160221_141327/VC20358_5x4_f96h20C_600s31x10s10s_A0221cd.dat', '/Volumes/JosephSSD2T/ASD_Screen/hgap-1_gk101481/20160221_141517/VC20358_5x4_f96h20C_600s31x10s10s_A0221cc.dat', '/Volumes/JosephSSD2T/ASD_Screen/hgap-1_gk101481/20160221_135124/VC20358_5x4_f96h20C_600s30x10s10s_C0221cb.dat', '/Volumes/JosephSSD2T/ASD_Screen/hgap-1_gk101481/20160221_134933/VC20358_5x4_f96h20C_600s31x10s10s_A0221ca.dat', '/Volumes/JosephSSD2T/ASD_Screen/hgap-1_gk101481/20160221_141341/VC20358_5x4_f96h20C_600s30x10s10s_C0221ce.dat', '/Volumes/JosephSSD2T/ASD_Screen/cbp-1_ku258/20150915_100107/MH2430_5x4_f96h20C_600s31x10s10s_B0015dc.dat', '/Volumes/JosephSSD2T/ASD_Screen/cbp-1_ku258/20150915_100048/MH2430_5x4_f96h20C_600s31x10s10s_A0915db.dat', '/Volumes/JosephSSD2T/ASD_Screen/cbp-1_ku258/20150915_102220/MH2430_5x4_f96h20C_600s31x10s10s_A0915de.dat', '/Volumes/JosephSSD2T/ASD_Screen/cbp-1_ku258/20150915_101553/MH2430_5x4_f96h20C_600s30x10s10s_C0915dd.dat', '/Volumes/JosephSSD2T/ASD_Screen/cbp-1_ku258/20150915_095417/MH2430_5x4_f96h20C_600s30x10s10s_C0915da.dat', '/Volumes/JosephSSD2T/ASD_Screen/ztf-6_gk122271/20151117_140224/VC20236_5x4_f96h20C_600s30x10s10s_C1117ja.dat', '/Volumes/JosephSSD2T/ASD_Screen/ztf-6_gk122271/20151117_144627/VC20236_5x4_f96h20C_600s31x10s10s_A1117je.dat', '/Volumes/JosephSSD2T/ASD_Screen/ztf-6_gk122271/20151117_142251/VC20236_5x4_f96h20C_600s31x10s10s_B1117jc.dat', '/Volumes/JosephSSD2T/ASD_Screen/ztf-6_gk122271/20151117_142323/VC20236_5x4_f96h20C_600s30x10s10s_C1117jd.dat', '/Volumes/JosephSSD2T/ASD_Screen/ztf-6_gk122271/20151117_142252/VC20236_5x4_f96h20C_600s31x10s10s_A1117jb.dat', '/Volumes/JosephSSD2T/ASD_Screen/igcm-1_ok711/20150926_114744/RB870_5x4_f96h20C_600s31x10s10s_A0926ce.dat', '/Volumes/JosephSSD2T/ASD_Screen/igcm-1_ok711/20150926_112301/RB870_5x4_f96h20C_600s31x10s10s_B0926cc.dat', '/Volumes/JosephSSD2T/ASD_Screen/igcm-1_ok711/20150926_112345/RB870_5x4_f96h20C_600s31x10s10s_C0926cd.dat', '/Volumes/JosephSSD2T/ASD_Screen/igcm-1_ok711/20150926_110242/RB870_5x4_f96h20C_600s31x10s10s_C0926ca.dat', '/Volumes/JosephSSD2T/ASD_Screen/egl-19_n582/20180116_111847/MT1212_5x4_f96h20C_600s31x10s10s_C0117ac.dat', '/Volumes/JosephSSD2T/ASD_Screen/egl-19_n582/20180116_112322/MT1212_5x4_f94h20C_600s31x10s10s_B0116ba.dat', '/Volumes/JosephSSD2T/ASD_Screen/egl-19_n582/20180116_114137/MT1212_5x4_f96h20C_600s31x10s10s_C0117af.dat', '/Volumes/JosephSSD2T/ASD_Screen/egl-19_n582/20180116_114550/MT1212_5x4_f94h20C_600s31x10s10s_B0116ae.dat', '/Volumes/JosephSSD2T/ASD_Screen/gpa-16_ok2349/20190611_110237/RB1816_5x4_f96h20C_600s31x10s10s_C0611bc.dat', '/Volumes/JosephSSD2T/ASD_Screen/gpa-16_ok2349/20190611_110308/RB1816_5x4_f96h20C_600s31x10s10s_B0611bb.dat', '/Volumes/JosephSSD2T/ASD_Screen/gpa-16_ok2349/20190611_111101/Rb1816_5x4_f96h20C_600s31x10s10s_A0611ba.dat', '/Volumes/JosephSSD2T/ASD_Screen/gpa-16_ok2349/20190611_142824/RB1816_5x4_f96h20C_600s31x10s10s_C0611jc.dat', '/Volumes/JosephSSD2T/ASD_Screen/gpa-16_ok2349/20190611_150154/RB1816_5x4_f96h20C_600s31x10s10s_A0611ka.dat', '/Volumes/JosephSSD2T/ASD_Screen/gpa-16_ok2349/20190626_171111/RB1816_5x4_f96h20C_600s31x10s10s_A0626oa.dat', '/Volumes/JosephSSD2T/ASD_Screen/gpa-16_ok2349/20190626_125535/RB1816_5x4_f96h20C_600s31x10s10s_A0626ea.dat', '/Volumes/JosephSSD2T/ASD_Screen/gpa-16_ok2349/20190626_124704/RB1816_5x4_f96h20C_600s31x10s10s_B0626eb.dat', '/Volumes/JosephSSD2T/ASD_Screen/gpa-16_ok2349/20190626_170408/RB1816_5x4_f96h20C_600s31x10s10s_C0626ec.dat', '/Volumes/JosephSSD2T/ASD_Screen/gpa-16_ok2349/20190626_124613/RB1816_5x4_f96h20C_600s31x10s10s_C0626ec.dat', '/Volumes/JosephSSD2T/ASD_Screen/glr-1_n2461/20190514_104955/KP4_5x4_f96h20C_600s31x10s10s_C0514cc.dat', '/Volumes/JosephSSD2T/ASD_Screen/glr-1_n2461/20190514_105025/KP4_5x4_f96h20C_600s31x10s10s_B0514cb.dat', '/Volumes/JosephSSD2T/ASD_Screen/glr-1_n2461/20190514_143306/KP4_5x4_f96h20C_600s31x10s10s_B0514lb.dat', '/Volumes/JosephSSD2T/ASD_Screen/glr-1_n2461/20190514_144030/KP4_5x4_f96h20C_600s31x10s10s_A0514la.dat', '/Volumes/JosephSSD2T/ASD_Screen/glr-1_n2461/20190514_105750/KP4_5x4_f96h20C_600s31x10s10s_A0514ca.dat', '/Volumes/JosephSSD2T/ASD_Screen/glr-2_ok2342/20190514_111549/RB1808_5x4_f96h20C_600s31x10s10s_C0514dc.dat', '/Volumes/JosephSSD2T/ASD_Screen/glr-2_ok2342/20190514_111619/RB1808_5x4_f96h20C_600s31x10s10s_B0514db.dat', '/Volumes/JosephSSD2T/ASD_Screen/glr-2_ok2342/20190514_145830/RB1808_5x4_f96h20C_600s31x10s10s_B0514mb.dat', '/Volumes/JosephSSD2T/ASD_Screen/glr-2_ok2342/20190514_150515/RB1808_5x4_f96h20C_600s31x10s10s_A0514ma.dat', '/Volumes/JosephSSD2T/ASD_Screen/glr-2_ok2342/20190514_112349/RB1808_5x4_f96h20C_600s31x10s10s_A0514da.dat', '/Volumes/JosephSSD2T/ASD_Screen/nmr-2_ok3324/20160112_141859/VC2623_5x4_f96h20C_600s31x10s10s_A0112fd.dat', '/Volumes/JosephSSD2T/ASD_Screen/nmr-2_ok3324/20160112_141711/VC2623_5x4_f96h20C_600s31x10s10s_B0112fe.dat', '/Volumes/JosephSSD2T/ASD_Screen/nmr-2_ok3324/20160112_135556/VC2623_5x4_f96h20C_600s31x10s10s_B0112fc.dat', '/Volumes/JosephSSD2T/ASD_Screen/nmr-2_ok3324/20160112_135739/VC2623_5x4_f96h20C_600s31x10s10s_A0112fb.dat', '/Volumes/JosephSSD2T/ASD_Screen/nmr-2_ok3324/20160112_133415/VC2623_5x4_f96h20C_600s31x10s10s_B0112fa.dat', '/Volumes/JosephSSD2T/ASD_Screen/irx-1_tm238/20190814_125234/TM238_5x4_f96h20C_600s31x10s10s_A0814ga.dat', '/Volumes/JosephSSD2T/ASD_Screen/irx-1_tm238/20190814_103203/TM238_5x4_f96h20C_600s31x10s10s_A0814ba.dat', '/Volumes/JosephSSD2T/ASD_Screen/irx-1_tm238/20190814_102419/TM238_5x4_f96h20C_600s31x10s10s_B0814bb.dat', '/Volumes/JosephSSD2T/ASD_Screen/irx-1_tm238/20190814_102120/TM238_5x4_f96h20C_600s31x10s10s_C0814bc.dat', '/Volumes/JosephSSD2T/ASD_Screen/irx-1_tm238/20190814_121710/TM238_5x4_f96h20C_600s31x10s10s_C0814fc.dat', '/Volumes/JosephSSD2T/ASD_Screen/magu-3_ok533/20150926_104126/RB768_5x4_f96h20C_600s31x10s10s_C0926bc.dat', '/Volumes/JosephSSD2T/ASD_Screen/magu-3_ok533/20150926_110134/RB768_5x4_f96h20C_600s31x10s10s_A0926bd.dat', '/Volumes/JosephSSD2T/ASD_Screen/magu-3_ok533/20150926_103915/RB768_5x4_f96h20C_600s31x10s10s_A0926ba.dat', '/Volumes/JosephSSD2T/ASD_Screen/magu-3_ok533/20150926_110203/RB768_5x4_f96h20C_600s31x10s10s_B0926be.dat', '/Volumes/JosephSSD2T/ASD_Screen/magu-3_ok533/20150926_104018/RB768_5x4_f96h20C_600s31x10s10s_B0926bb.dat', '/Volumes/JosephSSD2T/ASD_Screen/jmjd-1.1_hc184/20190611_131158/BA1083_5x4_f96h20C_600s31x10s10s_C0611gc.dat', '/Volumes/JosephSSD2T/ASD_Screen/jmjd-1.1_hc184/20190611_131225/BA1083_5x4_f96h20C_600s31x10s10s_B0611gb.dat', '/Volumes/JosephSSD2T/ASD_Screen/jmjd-1.1_hc184/20190611_132018/BA1083_5x4_f96h20C_600s31x10s10s_A0611ga.dat', '/Volumes/JosephSSD2T/ASD_Screen/jmjd-1.1_hc184/20190611_161613/BA1083_5x4_f96h20C_600s31x10s10s_C0611nc.dat', '/Volumes/JosephSSD2T/ASD_Screen/jmjd-1.1_hc184/20190611_161642/BA1083_5x4_f96h20C_600s31x10s10s_B0611nb.dat', '/Volumes/JosephSSD2T/ASD_Screen/row-1_tm556/20190814_113301/TM556_5x4_f96h20C_600s31x10s10s_A0814da.dat', '/Volumes/JosephSSD2T/ASD_Screen/row-1_tm556/20190814_131001/TM556_5x4_f96h20C_600s31x10s10s_B0814hb.dat', '/Volumes/JosephSSD2T/ASD_Screen/row-1_tm556/20190814_112339/TM556_5x4_f96h20C_600s31x10s10s_B0814db.dat', '/Volumes/JosephSSD2T/ASD_Screen/row-1_tm556/20190814_112235/TM556_5x4_f96h20C_600s31x10s10s_C0814dc.dat', '/Volumes/JosephSSD2T/ASD_Screen/row-1_tm556/20190814_130840/TM556_5x4_f96h20C_600s31x10s10s_C0814hc.dat', '/Volumes/JosephSSD2T/ASD_Screen/pptr-2_ok1573/20160407_113745/RB1388_5x4_f96h20C_600s30x10s10s_C0407_da.dat', '/Volumes/JosephSSD2T/ASD_Screen/pptr-2_ok1573/20160407_120057/RB1388_5x4_f96h20C_600s30x10s10s_C0407_dd.dat', '/Volumes/JosephSSD2T/ASD_Screen/pptr-2_ok1573/20160407_120354/RB1388_5x4_f96h20C_600s31x10s10s_A0407_db.dat', '/Volumes/JosephSSD2T/ASD_Screen/pptr-2_ok1573/20160407_120201/RB1388_5x4_f96h20C_600s31x10s10s_B0407_dc.dat', '/Volumes/JosephSSD2T/ASD_Screen/dkf-1_ok2695/20160407_103206/RB2037_5x4_f96h20C_600s30x10s10s_C0407_ba.dat', '/Volumes/JosephSSD2T/ASD_Screen/dkf-1_ok2695/20160407_105348/RB2037_5x4_f96h20C_600s31x10s10s_B0407_bc.dat', '/Volumes/JosephSSD2T/ASD_Screen/dkf-1_ok2695/20160407_105301/RB2037_5x4_f96h20C_600s30x10s10s_C0407_bd.dat', '/Volumes/JosephSSD2T/ASD_Screen/dkf-1_ok2695/20160407_105600/RB2037_5x4_f96h20C_600s31x10s10s_A0407_bb.dat', '/Volumes/JosephSSD2T/ASD_Screen/R151.1_ok2347/20190611_122118/RB1814_5x4_f96h20C_600s31x10s10s_C0611ec.dat', '/Volumes/JosephSSD2T/ASD_Screen/R151.1_ok2347/20190611_122201/RB1814_5x4_f96h20C_600s31x10s10s_B0611eb.dat', '/Volumes/JosephSSD2T/ASD_Screen/R151.1_ok2347/20190611_123010/RB1814_5x4_f96h20C_600s31x10s10s_A0611ea.dat', '/Volumes/JosephSSD2T/ASD_Screen/R151.1_ok2347/20190611_153047/RB1814_5x4_f96h20C_600s31x10s10s_A0611la.dat', '/Volumes/JosephSSD2T/ASD_Screen/R151.1_ok2347/20190611_155820/RB1814_5x4_f96h20C_600s31x10s10s_A0611ma.dat', '/Volumes/JosephSSD2T/ASD_Screen/math-33_tm6724/20160526_203606/Tm6724_5x4_f96h20C_600s30x10s10s_B0526je.dat', '/Volumes/JosephSSD2T/ASD_Screen/math-33_tm6724/20160526_195520/Tm6724_5x4_f96h20C_600s30x10s10s_B0526ja.dat', '/Volumes/JosephSSD2T/ASD_Screen/math-33_tm6724/20160526_201630/Tm6724_5x4_f96h20C_600s30x10s10s_C0526jd.dat', '/Volumes/JosephSSD2T/ASD_Screen/math-33_tm6724/20160526_195600/Tm6724_5x4_f96h20C_600s30x10s10s_C0526jb.dat', '/Volumes/JosephSSD2T/ASD_Screen/math-33_tm6724/20160526_201544/Tm6724_5x4_f96h20C_600s30x10s10s_B0526jc.dat', '/Volumes/JosephSSD2T/ASD_Screen/let-526_gk110913/20160112_115725/VC20010_5x4_f96h20C_600s31x10s10s_A0112cd.dat', '/Volumes/JosephSSD2T/ASD_Screen/let-526_gk110913/20160112_122127/VC20010_5x4_f96h20C_600s31x10s10s_A0112dc.dat', '/Volumes/JosephSSD2T/ASD_Screen/let-526_gk110913/20160112_122744/VC20010_5x4_f96h20C_600s31x10s10s_B0112dd.dat', '/Volumes/JosephSSD2T/ASD_Screen/let-526_gk110913/20160112_120636/VC20010_5x4_f96h20C_600s31x10s10s_B0112db.dat']\n",
      "done step 4\n"
     ]
    }
   ],
   "source": [
    "#folder_path = '/Users/Joseph/Desktop/lrk1_ATR_NoATR_08_15_2019'\n",
    "print(folder_path)\n",
    "os.chdir(folder_path) #<- setting your working directory so that your images will be saved here\n",
    "\n",
    "filelist = list() #<- empty list\n",
    "for root, dirs, files in os.walk(folder_path): #<- this for loop goes through your folder \n",
    "    for name in files:\n",
    "        if name.endswith('.dat'): #<- and takes out all files with a .dat (file that contains your data)\n",
    "            if \"_\" in name.split(\".\")[-2]:\n",
    "                filepath = os.path.join(root, name) #<- Notes down the file path of each data file\n",
    "                filelist.append(filepath) #<- saves it into the list\n",
    "\n",
    "    \n",
    "print(filelist)\n",
    "print('done step 4')"
   ]
  },
  {
   "cell_type": "code",
   "execution_count": 9,
   "metadata": {},
   "outputs": [
    {
     "name": "stdout",
     "output_type": "stream",
     "text": [
      "/Volumes/JosephSSD2T/ASD_Screen/vab-10_gk45/20160406_155046/VC117_5x4_f94h20C_600s30x10s10s_A0406bc.00004.dat\n",
      "00004\n",
      "/Volumes/JosephSSD2T/ASD_Screen/vab-10_gk45/20160406_155046/VC117_5x4_f94h20C_600s30x10s10s_A0406bc\n"
     ]
    }
   ],
   "source": [
    "print(filelist[3])\n",
    "test=filelist[3]\n",
    "test1=filelist[0]\n",
    "print(test.split(\".\")[-2])\n",
    "print(test1.split(\".\")[-2])"
   ]
  },
  {
   "cell_type": "markdown",
   "metadata": {},
   "source": [
    "# 5. Process Data Function (No input required, just run)"
   ]
  },
  {
   "cell_type": "code",
   "execution_count": null,
   "metadata": {},
   "outputs": [],
   "source": [
    "string='/Volumes/JOSEPH/PD_Screen/cat-2_e1112/20220510_190557/CB1112_10x2_f72h20C_600s31x10s10s_B0506cb.dat'\n",
    "print(string.split('/')[-3])\n",
    "print(string.split('/')[-2].split('_')[0])\n",
    "print(string.split('/')[-1].split('_')[-1].split('.')[0])\n",
    "print(string.split('/')[-4])\n",
    "\n",
    "\n",
    "# genotype=[]\n",
    "# for f in filelist:\n",
    "#     genotype.append(f.split('/')[-3])\n",
    "# # print(np.unique(genotype))\n",
    "# genotypes=np.unique(genotype)\n",
    "# print(genotypes)\n",
    "# print(len(np.unique(genotypes)))\n",
    "# strainNs = enumerate(genotypes,1)\n",
    "# strain_enum=list(strainNs)\n",
    "# print(strain_enum)\n",
    "# StrainNames=dict(strain_enum)\n",
    "# print(StrainNames)"
   ]
  },
  {
   "cell_type": "code",
   "execution_count": 18,
   "metadata": {},
   "outputs": [
    {
     "name": "stdout",
     "output_type": "stream",
     "text": [
      "done step 5\n"
     ]
    }
   ],
   "source": [
    "def ProcessData(strain): #<- an example of a user-defined function\n",
    "    strain_filelist = [x for x in filelist if strain in x] #<- goes through the list and filters for keyword\n",
    "    Strain_N = len(strain_filelist) #<- N per strain, or number of plates\n",
    "    Plate_N = 1\n",
    "    print(f'this strain/treatment has {Strain_N} plates') #<- will output as the first number\n",
    "    if Strain_N == 0:\n",
    "        raise AssertionError ('{} is not a good identifier'.format(strain))\n",
    "    else:\n",
    "        pass\n",
    "        print(f'now working on strain {strain}')\n",
    "        strain_filelist = [file for file in filelist if strain in file]\n",
    "        df_list=[]\n",
    "        for file in strain_filelist:\n",
    "            if file.split('/')[-1].startswith('._'):\n",
    "                pass\n",
    "            else:\n",
    "                # print(f\"now processing file {file}\")\n",
    "                try:\n",
    "                    df= pd.read_csv(file, sep=' ', header = None, encoding_errors='ignore')\n",
    "                    df['Plate_id'] = file.split('/')[-1].split('_')[-1].split('.')[0]\n",
    "                    df['Date'] = file.split('/')[-2].split('_')[0]\n",
    "                    df['Screen'] = file.split('/')[-4]\n",
    "                    df_list.append(df)\n",
    "                except:\n",
    "                    print(f\"error in file {file}\")\n",
    "                    pass\n",
    "        DF_Total = pd.concat(df_list, ignore_index = True)\n",
    "#     for f in strain_filelist:\n",
    "#         DF_Total = pd.concat(pd.read_csv(f, sep=' ', skiprows = 4, header = None))\n",
    "        # DF_Total = pd.concat([pd.read_csv(f, sep=' ', header = None) for f in strain_filelist],\n",
    "        #               ignore_index=True) #<- imports your data files\n",
    "#         DF_Total = DF_Total.dropna(axis = 1) #<- cleans your data\n",
    "        DF_Total = DF_Total.rename( #<- more cleaning\n",
    "                    {0:'Time',\n",
    "                    1:'n',\n",
    "                    2:'Number',\n",
    "                    3:'Instantaneous Speed',\n",
    "                    4:'Interval Speed',\n",
    "                    5:'Bias',\n",
    "                    6:'Tap',\n",
    "                    7:'Puff',\n",
    "                    8:'x',\n",
    "                    9:'y',\n",
    "                    10:'Width',\n",
    "                    11:'Length',\n",
    "                    12:'Area',\n",
    "                    13:'Angular Speed',\n",
    "                    14:'Aspect Ratio',\n",
    "                    15:'Kink',\n",
    "                    16:'Curve',\n",
    "                    17:'Crab'}, axis=1)\n",
    "        #check function here for NaN Columns\n",
    "        DF_Total['plate'] = 0\n",
    "        # DF_Total['prob'] = DF_Total['stim_rev']/ (DF_Total['no_rev'] + DF_Total['stim_rev']) #<- calculate prob\n",
    "        # DF_Total['speed'] = DF_Total['dist']/DF_Total['dura'] #<- calculate speed\n",
    "        # DF_Total_rows = int(DF_Total.shape[0])\n",
    "        # print(f'this strain/treatment has {DF_Total_rows} total taps') #<- Outputs as the second number. Check if you are missing taps!\n",
    "        # DF_Final = DF_Total[[\"time\", \"dura\", \"dist\", \"prob\", \"speed\", \"plate\"]].copy()\n",
    "\n",
    "    return{\n",
    "            'N': Strain_N,\n",
    "            'Confirm':DF_Total\n",
    "            # 'Final': DF_Final\n",
    "    }\n",
    "    print('done!')\n",
    "\n",
    "\n",
    "print('done step 5')"
   ]
  },
  {
   "cell_type": "markdown",
   "metadata": {},
   "source": [
    "# 6.1 Processing Data (Please Read, Input Here)\n",
    "\n",
    "Here is the hardest part - From your naming convention, you need to pick a unique identifier for each group.\n",
    "\n",
    "This means that all of names of your files for that strain should have that in common but is not commone with across all other files! If you did a good job naming your files and following a good naming convention, this should be easy.\n",
    "\n",
    "## Be careful and really look hard in your naming structure. Note you want an unique identifier in the entire file path for the same group of files. An easy mistake is to have the strain name in the folder name, in this case if you use your strain name as a keyword it would include all files in that folder!\n",
    "\n",
    "For example, if all your N2 files have a certain pattern like \"N2_5x4\" in this following example:\n",
    "'/Users/Joseph/Desktop/AVR14_10sISI_TapHab_0710_2019/N2/20190710_141740/N2_5x4_f94h20c_100s30x10s10s_C0710ab.trv'\n",
    "\n",
    "Then you need to set that identifier for the strain keyword:\n",
    "'Strain_1' = 'N2_5x4'\n",
    "\n",
    "In the same example, if the identifier for your second strain is 'AVR14', then the N2 files will also be included, as this identifier can also be found in this file path.\n",
    "\n",
    "## Depending on how many strains you are running for comparison, you may need to add/delete some lines.\n",
    "\n",
    "You are not naming your data groups here, we have a step for that later.\n",
    "## Here, you want to note down ALL the strains you have in the folder\n",
    "\n",
    "If you have just 2 strains, add hashtags (#) in front of the lines you do not need.\n",
    "If you need more strains, just add more lines, following the same format!"
   ]
  },
  {
   "cell_type": "code",
   "execution_count": 19,
   "metadata": {},
   "outputs": [
    {
     "name": "stdout",
     "output_type": "stream",
     "text": [
      "['cdh-1_gk747', 'nrx-1_ok1649', 'chd-7_gk306', 'npax-2_tm2107', 'bra-1_nk1', 'exc-7_rh252', 'pop-1_tm6676', 'unc-2_e55', 'kqt-1_tm846', 'gex-3_zu196', 'unc-2_gk366', 'pph-5_ok3498', 'N2', 'hcp-1_gk237614', 'ptr-6_ok2988', 'met-1_ok2172', 'cca-1_ad1650', 'glr-2_ok2342', 'set-4_ok1481', 'vab-10_e698', 'exc-7_ok370', 'ztf-6_gk122271', 'nhx-5_ok661', 'fkh-7_gk793', 'met-1_gk510', 'pptr-2_ok1573', 'ztf-6_tm1803', 'igcm-1_ok711', 'cbp-1_ku258', 'daf-18_ok480', 'slo-1_gk602291', 'spas-1_tm683', 'epi-1_gm57', 'gab-1_gk189051', 'gpa-16_ok2349', 'M03D4.4_tm10242', 'lron-8_tm8188', 'cdkl-1_ok2694', 'rme-6_b1014', 'shn-1_gk181', 'set-9_n4949', 'sin-3_tm1276', 'hmp-2_qm39', 'nlg-1_ok259', 'unc-18_e81', 'cdh-4_ok1323', 'dhcr-7_tm6473', 'ifbp-1_ok1339', 'snf-11_ok156', 'jmjd-3.3_tm3197', 'unc-18_md299', 'vab-10_gk45', 'gab-1_tm3577', 'pcaf-1_tm3318nt2', 'dkf-1_ok2695', 'jmjd-1.1_hc184', 'let-19_gk149538', 'irx-1_tm238', 'shn-1_ok1241', 'nab-1_gk164', 'kqt-1_tm8384', 'dip-2_ok885', 'rme-6_tm6649', 'tbx-38_gk186909', 'smg-4_gk244058', 'ZK858.6_ok2921', 'math-33_tm6724', 'set-16_gk190875', 'set-24_n4909', 'pax-2_ok3078', 'pax-2_ok948', 'mrck-1_ok586', 'unc-75_e950', 'bar-1_mu63', 'mtm-5_ok469', 'egl-19_n582', 'unc-10_md1117', 'nmr-2_ok3324', 'ZK858.6_ok2364', 'slo-1_eg142', 'mbk-1_pk1389', 'R151.1_ok2347', 'slo-1_js379', 'anc-1_e1802', 'daf-6_e1377', 'irk-3_tm7416', 'jmjd-3.3_tm3104', 'unc-4_gk705', 'unc-16_e109', 'unc-4_e120', 'nab-1_ok943', 'gap-2_tm748', 'ptr-10_ok2106', 'unc-18_e234', 'unc-36_e251', 'cls-3_tm5775', 'nrx-1_ds1', 'aps-2_tm2752', 'magu-3_ok533', 'hda-4_ok518', 'gap-2_ok1001', 'F11E6.8_ok2754', 'jac-1_ok3000', 'M03D4.4_tm559', 'met-1_n4337', 'cdh-4_hd40', 'daf-18_e1375', 'unc-16_n370', 'set-11_n4488', 'anc-1_e1753', 'rbr-2_ok2544', 'bcl-11_tm522', 'pax-2_ok935', 'unc-36_ad698', 'bar-1_ga80', 'slo-1_js118', 'chd-1_ok2798', 'cor-1_ok869', 'unknown_unknown', 'dhp-1_tm1072', 'unc-75_tm9711', 'dys-1_cx18', 'irk-3_gk542081', 'C18H9.3_tm4671', 'hgap-1_gk101481', 'tbx-38_tm581', 'cnt-2_ok1767', 'spas-1_ok1608', 'smg-4_tm5409', 'ubr-4_gk109613', 'ubr-4_tm3968', 'ztf-11_ok646', 'unc-10_e102', 'row-1_tm556', 'glr-1_n2461', 'dhc-1_ie28', 'let-526_gk110913', 'cls-3_ok3375']\n",
      "[1, 2, 3, 4, 5, 6, 7, 8, 9, 10, 11, 12, 13, 14, 15, 16, 17, 18, 19, 20, 21, 22, 23, 24, 25, 26, 27, 28, 29, 30, 31, 32, 33, 34, 35, 36, 37, 38, 39, 40, 41, 42, 43, 44, 45, 46, 47, 48, 49, 50, 51, 52, 53, 54, 55, 56, 57, 58, 59, 60, 61, 62, 63, 64, 65, 66, 67, 68, 69, 70, 71, 72, 73, 74, 75, 76, 77, 78, 79, 80, 81, 82, 83, 84, 85, 86, 87, 88, 89, 90, 91, 92, 93, 94, 95, 96, 97, 98, 99, 100, 101, 102, 103, 104, 105, 106, 107, 108, 109, 110, 111, 112, 113, 114, 115, 116, 117, 118, 119, 120, 121, 122, 123, 124, 125, 126, 127, 128, 129, 130, 131, 132, 133, 134, 135, 136, 137, 138]\n",
      "{1: 'N2', 2: 'cdh-1_gk747', 3: 'nrx-1_ok1649', 4: 'chd-7_gk306', 5: 'npax-2_tm2107', 6: 'bra-1_nk1', 7: 'exc-7_rh252', 8: 'pop-1_tm6676', 9: 'unc-2_e55', 10: 'kqt-1_tm846', 11: 'gex-3_zu196', 12: 'unc-2_gk366', 13: 'pph-5_ok3498', 14: 'hcp-1_gk237614', 15: 'ptr-6_ok2988', 16: 'met-1_ok2172', 17: 'cca-1_ad1650', 18: 'glr-2_ok2342', 19: 'set-4_ok1481', 20: 'vab-10_e698', 21: 'exc-7_ok370', 22: 'ztf-6_gk122271', 23: 'nhx-5_ok661', 24: 'fkh-7_gk793', 25: 'met-1_gk510', 26: 'pptr-2_ok1573', 27: 'ztf-6_tm1803', 28: 'igcm-1_ok711', 29: 'cbp-1_ku258', 30: 'daf-18_ok480', 31: 'slo-1_gk602291', 32: 'spas-1_tm683', 33: 'epi-1_gm57', 34: 'gab-1_gk189051', 35: 'gpa-16_ok2349', 36: 'M03D4.4_tm10242', 37: 'lron-8_tm8188', 38: 'cdkl-1_ok2694', 39: 'rme-6_b1014', 40: 'shn-1_gk181', 41: 'set-9_n4949', 42: 'sin-3_tm1276', 43: 'hmp-2_qm39', 44: 'nlg-1_ok259', 45: 'unc-18_e81', 46: 'cdh-4_ok1323', 47: 'dhcr-7_tm6473', 48: 'ifbp-1_ok1339', 49: 'snf-11_ok156', 50: 'jmjd-3.3_tm3197', 51: 'unc-18_md299', 52: 'vab-10_gk45', 53: 'gab-1_tm3577', 54: 'pcaf-1_tm3318nt2', 55: 'dkf-1_ok2695', 56: 'jmjd-1.1_hc184', 57: 'let-19_gk149538', 58: 'irx-1_tm238', 59: 'shn-1_ok1241', 60: 'nab-1_gk164', 61: 'kqt-1_tm8384', 62: 'dip-2_ok885', 63: 'rme-6_tm6649', 64: 'tbx-38_gk186909', 65: 'smg-4_gk244058', 66: 'ZK858.6_ok2921', 67: 'math-33_tm6724', 68: 'set-16_gk190875', 69: 'set-24_n4909', 70: 'pax-2_ok3078', 71: 'pax-2_ok948', 72: 'mrck-1_ok586', 73: 'unc-75_e950', 74: 'bar-1_mu63', 75: 'mtm-5_ok469', 76: 'egl-19_n582', 77: 'unc-10_md1117', 78: 'nmr-2_ok3324', 79: 'ZK858.6_ok2364', 80: 'slo-1_eg142', 81: 'mbk-1_pk1389', 82: 'R151.1_ok2347', 83: 'slo-1_js379', 84: 'anc-1_e1802', 85: 'daf-6_e1377', 86: 'irk-3_tm7416', 87: 'jmjd-3.3_tm3104', 88: 'unc-4_gk705', 89: 'unc-16_e109', 90: 'unc-4_e120', 91: 'nab-1_ok943', 92: 'gap-2_tm748', 93: 'ptr-10_ok2106', 94: 'unc-18_e234', 95: 'unc-36_e251', 96: 'cls-3_tm5775', 97: 'nrx-1_ds1', 98: 'aps-2_tm2752', 99: 'magu-3_ok533', 100: 'hda-4_ok518', 101: 'gap-2_ok1001', 102: 'F11E6.8_ok2754', 103: 'jac-1_ok3000', 104: 'M03D4.4_tm559', 105: 'met-1_n4337', 106: 'cdh-4_hd40', 107: 'daf-18_e1375', 108: 'unc-16_n370', 109: 'set-11_n4488', 110: 'anc-1_e1753', 111: 'rbr-2_ok2544', 112: 'bcl-11_tm522', 113: 'pax-2_ok935', 114: 'unc-36_ad698', 115: 'bar-1_ga80', 116: 'slo-1_js118', 117: 'chd-1_ok2798', 118: 'cor-1_ok869', 119: 'unknown_unknown', 120: 'dhp-1_tm1072', 121: 'unc-75_tm9711', 122: 'dys-1_cx18', 123: 'irk-3_gk542081', 124: 'C18H9.3_tm4671', 125: 'hgap-1_gk101481', 126: 'tbx-38_tm581', 127: 'cnt-2_ok1767', 128: 'spas-1_ok1608', 129: 'smg-4_tm5409', 130: 'ubr-4_gk109613', 131: 'ubr-4_tm3968', 132: 'ztf-11_ok646', 133: 'unc-10_e102', 134: 'row-1_tm556', 135: 'glr-1_n2461', 136: 'dhc-1_ie28', 137: 'let-526_gk110913', 138: 'cls-3_ok3375'}\n",
      "done step 6.1\n"
     ]
    }
   ],
   "source": [
    "# TotalConcatenated[['Genotype', 'Treatment']] = TotalConcatenated['Strain'].str.split(' - ', 1, expand=True)\n",
    "# print(list(set(filelist)))\n",
    "# nfiles = list(range(1, len(filelist.unique())+1))\n",
    "# print(nfiles)\n",
    "# strainnames = []\n",
    "strainnames=[]\n",
    "for f in filelist:\n",
    "    strainnames.append(f.split('/')[-3])\n",
    "ustrainnames=list(set(strainnames))\n",
    "print(ustrainnames)\n",
    "# ustrainnames.sort()\n",
    "# # print(ustrainnames)\n",
    "ustrainnames.insert(0, ustrainnames.pop(ustrainnames.index(\"N2\")))\n",
    "# ustrainnames.insert(0, ustrainnames.pop(ustrainnames.index(\"N2_XJ1\")))\n",
    "# ustrainnames.insert(0, ustrainnames.pop(ustrainnames.index(\"N2_N2\")))\n",
    "# print(ustrainnames)\n",
    "# ustrainnames.insert(0, ustrainnames.pop(ustrainnames.index(\"N2_OffFood\")))\n",
    "# # print(ustrainnames)\n",
    "nstrains=list(range(1,len(ustrainnames)+1))\n",
    "print(nstrains)\n",
    "\n",
    "StrainNames = {}\n",
    "StrainNames = {nstrains[i]: ustrainnames[i] for i in range(len(nstrains))}\n",
    "print(StrainNames)\n",
    "print(\"done step 6.1\")\n",
    "\n",
    "# <---------------- Test element to use for dictionary buidling -------------------\n",
    "# s = '/Users/Joseph/Desktop/OnFoodOffFoodTest/N2_OnFood/20220401_163048/N2_10x1_n96h20C_360sA0401_ka.00065.dat'\n",
    "# slist=s.split('/')[5]\n",
    "# print(slist)\n",
    "# print(list(range(1,5+1)))"
   ]
  },
  {
   "cell_type": "code",
   "execution_count": null,
   "metadata": {},
   "outputs": [],
   "source": [
    "# # ------------This Cell Is Now Defunct ----------------\n",
    "\n",
    "\n",
    "# #Format: Strain_# = 'unique_identifier'\n",
    "\n",
    "# ### Make into dictionary\n",
    "# StrainNames = {\n",
    "#     'Strain_1' : 'No_Parafilm',   #<- each strain will be designated to a unique identifier here\n",
    "#     'Strain_2' : 'Yes_Parafilm',\n",
    "# #     'Strain_3' : 'e1112_OffFood',\n",
    "# #     'Strain_4' : 'e1112_OnFood',\n",
    "# #     'Strain_5' : 'Test_OffFood',\n",
    "# #     'Strain_6' : 'Test_OnFood',\n",
    "# #     'Strain_5' : 'N2_NoFood',\n",
    "# #     'Strain_6' : 'N2_Food',\n",
    "# #     'Strain_9' : 'LX636_NoFood',  #<- empty entries are for those hardcore trackers that tracking this many strains\n",
    "# #     'Strain_10' : 'LX636_Food',\n",
    "# #     'Strain_11' : '',\n",
    "# #     'Strain_12' : '',\n",
    "# #     'Strain_13' : '',\n",
    "# #     'Strain_14' : '',\n",
    "# #     'Strain_15' : '',\n",
    "# }\n",
    "# #...etc, etc\n",
    "\n",
    "# print('done step 6.1')\n",
    "# print(StrainNames)"
   ]
  },
  {
   "cell_type": "markdown",
   "metadata": {},
   "source": [
    "# Cell below is to run testing/debugging. Do not need to run (commented out)"
   ]
  },
  {
   "cell_type": "code",
   "execution_count": null,
   "metadata": {},
   "outputs": [],
   "source": [
    "\n",
    "\n",
    "# DF_Read = pd.read_csv('/Users/Joseph/Desktop/OnFoodOffFoodTest/N2_OnFood/20220401_163048/N2_10x1_n96h20C_360sA0401_ka.00065.dat'\n",
    "#                       , sep=' ', header = None, index_col=False) #<- imports and cleans data\n",
    "# DF_Read[\"worm\"]=1\n",
    "# # print(DF_Read)\n",
    "# DF_Total = DF_Read #<- more data cleaning\n",
    "# DF_Total = DF_Total.rename( #<- more data cleaning\n",
    "#             {0:'time',\n",
    "#             1:'speed',\n",
    "#             2: \"x\",\n",
    "#             3: \"y\",\n",
    "#             4: \"angularspeed\",\n",
    "#             5: \"pathlength\",\n",
    "#             6: \"kink\",\n",
    "#             7: \"bias\",\n",
    "#             8: \"curve\",\n",
    "#             9: \"dir\",\n",
    "#             10: \"crab\",\n",
    "#             11: \"length\",\n",
    "#             12: \"midline\",\n",
    "#             13: \"width\",\n",
    "#             14: \"morphwidth\",\n",
    "#             15: \"area\"\n",
    "#             }, axis=1)\n",
    "# DF_Total[\"x_0\"] = DF_Total.x - DF_Total.x.iloc[0]\n",
    "# DF_Total[\"y_0\"] = DF_Total.y - DF_Total.y.iloc[0]\n",
    "\n",
    "# DF_Total[\"x_test\"] = DF_Total.iloc[:,2] - DF_Total.iloc[0,2]\n",
    "# DF_Total[\"y_test\"] = DF_Total.iloc[:,3] - DF_Total.iloc[0,3]\n",
    "# DF_Total[\"distance\"]= 0\n",
    "print(DF_Total)\n",
    "\n",
    "# A_i = np.array(DF_Total['pathlength'][1:])\n",
    "# A_i_1 = np.array(DF_Total['pathlength'][0:-1])\n",
    "# result = np.abs(A_i - A_i_1).tolist()\n",
    "# result.insert(0,0)\n",
    "# curr_sum = 0\n",
    "# new_list = []\n",
    "# for i in range(len(result)):\n",
    "#     curr_sum += result[i]\n",
    "#     new_list.append(curr_sum)\n",
    "# DF_Total[\"distance\"]=new_list\n",
    "# print(DF_Total)\n",
    "\n",
    "\n",
    "\n",
    "        \n",
    "\n",
    "\n",
    "# A_i = np.array(DF_Total.iloc[1:,5])\n",
    "# A_i_1 = np.array(DF_Total.iloc[0:-1,5])\n",
    "# result = np.abs(A_i - A_i_1).tolist()\n",
    "# result.insert(0,0)\n",
    "# curr_sum = 0\n",
    "# new_list = []\n",
    "# for i in range(len(result)):\n",
    "#     curr_sum += result[i]\n",
    "#     new_list.append(curr_sum)\n",
    "# print(A_i)\n",
    "# print(A_i_1)\n",
    "# print(len(A_i))\n",
    "# print(len(A_i_1))\n",
    "# # resultS=pd.Series(result)\n",
    "# # print(resultS.cumsum())\n",
    "# # print(new_list)\n",
    "\n",
    "# curr_sum = 0\n",
    "# new_list = []\n",
    "# for i in range(len(result)):\n",
    "#     curr_sum += result[i]\n",
    "#     new_list.append(curr_sum)\n",
    "    \n",
    "    \n",
    "# import matplotlib.pyplot as plt\n",
    "# plt.plot(new_list)"
   ]
  },
  {
   "cell_type": "markdown",
   "metadata": {},
   "source": [
    "# 6.2 Process Data (just run this cell)"
   ]
  },
  {
   "cell_type": "code",
   "execution_count": 20,
   "metadata": {},
   "outputs": [
    {
     "data": {
      "application/vnd.jupyter.widget-view+json": {
       "model_id": "9606f509db024af997be08a70017d4d0",
       "version_major": 2,
       "version_minor": 0
      },
      "text/plain": [
       "  0%|          | 0/138 [00:00<?, ?it/s]"
      ]
     },
     "metadata": {},
     "output_type": "display_data"
    },
    {
     "name": "stdout",
     "output_type": "stream",
     "text": [
      "this strain/treatment has 113 plates\n",
      "now working on strain N2\n",
      "this strain/treatment has 5 plates\n",
      "now working on strain cdh-1_gk747\n",
      "this strain/treatment has 4 plates\n",
      "now working on strain nrx-1_ok1649\n",
      "this strain/treatment has 4 plates\n",
      "now working on strain chd-7_gk306\n",
      "this strain/treatment has 5 plates\n",
      "now working on strain npax-2_tm2107\n",
      "this strain/treatment has 5 plates\n",
      "now working on strain bra-1_nk1\n",
      "this strain/treatment has 5 plates\n",
      "now working on strain exc-7_rh252\n",
      "this strain/treatment has 5 plates\n",
      "now working on strain pop-1_tm6676\n",
      "this strain/treatment has 5 plates\n",
      "now working on strain unc-2_e55\n",
      "this strain/treatment has 5 plates\n",
      "now working on strain kqt-1_tm846\n",
      "this strain/treatment has 3 plates\n",
      "now working on strain gex-3_zu196\n",
      "this strain/treatment has 15 plates\n",
      "now working on strain unc-2_gk366\n",
      "this strain/treatment has 5 plates\n",
      "now working on strain pph-5_ok3498\n",
      "this strain/treatment has 5 plates\n",
      "now working on strain hcp-1_gk237614\n",
      "this strain/treatment has 4 plates\n",
      "now working on strain ptr-6_ok2988\n",
      "this strain/treatment has 5 plates\n",
      "now working on strain met-1_ok2172\n",
      "this strain/treatment has 5 plates\n",
      "now working on strain cca-1_ad1650\n",
      "this strain/treatment has 5 plates\n",
      "now working on strain glr-2_ok2342\n",
      "this strain/treatment has 5 plates\n",
      "now working on strain set-4_ok1481\n",
      "this strain/treatment has 4 plates\n",
      "now working on strain vab-10_e698\n",
      "this strain/treatment has 5 plates\n",
      "now working on strain exc-7_ok370\n",
      "this strain/treatment has 5 plates\n",
      "now working on strain ztf-6_gk122271\n",
      "this strain/treatment has 5 plates\n",
      "now working on strain nhx-5_ok661\n",
      "this strain/treatment has 5 plates\n",
      "now working on strain fkh-7_gk793\n",
      "this strain/treatment has 5 plates\n",
      "now working on strain met-1_gk510\n",
      "this strain/treatment has 4 plates\n",
      "now working on strain pptr-2_ok1573\n",
      "this strain/treatment has 5 plates\n",
      "now working on strain ztf-6_tm1803\n",
      "this strain/treatment has 4 plates\n",
      "now working on strain igcm-1_ok711\n",
      "this strain/treatment has 5 plates\n",
      "now working on strain cbp-1_ku258\n",
      "this strain/treatment has 5 plates\n",
      "now working on strain daf-18_ok480\n",
      "this strain/treatment has 5 plates\n",
      "now working on strain slo-1_gk602291\n",
      "this strain/treatment has 10 plates\n",
      "now working on strain spas-1_tm683\n",
      "this strain/treatment has 5 plates\n",
      "now working on strain epi-1_gm57\n",
      "this strain/treatment has 5 plates\n",
      "now working on strain gab-1_gk189051\n",
      "this strain/treatment has 10 plates\n",
      "now working on strain gpa-16_ok2349\n",
      "this strain/treatment has 5 plates\n",
      "now working on strain M03D4.4_tm10242\n",
      "this strain/treatment has 5 plates\n",
      "now working on strain lron-8_tm8188\n",
      "this strain/treatment has 5 plates\n",
      "now working on strain cdkl-1_ok2694\n",
      "this strain/treatment has 4 plates\n",
      "now working on strain rme-6_b1014\n",
      "this strain/treatment has 5 plates\n",
      "now working on strain shn-1_gk181\n",
      "this strain/treatment has 5 plates\n",
      "now working on strain set-9_n4949\n",
      "this strain/treatment has 5 plates\n",
      "now working on strain sin-3_tm1276\n",
      "this strain/treatment has 5 plates\n",
      "now working on strain hmp-2_qm39\n",
      "this strain/treatment has 5 plates\n",
      "now working on strain nlg-1_ok259\n",
      "this strain/treatment has 5 plates\n",
      "now working on strain unc-18_e81\n",
      "this strain/treatment has 5 plates\n",
      "now working on strain cdh-4_ok1323\n",
      "this strain/treatment has 4 plates\n",
      "now working on strain dhcr-7_tm6473\n",
      "this strain/treatment has 5 plates\n",
      "now working on strain ifbp-1_ok1339\n",
      "this strain/treatment has 3 plates\n",
      "now working on strain snf-11_ok156\n",
      "this strain/treatment has 5 plates\n",
      "now working on strain jmjd-3.3_tm3197\n",
      "this strain/treatment has 5 plates\n",
      "now working on strain unc-18_md299\n",
      "this strain/treatment has 5 plates\n",
      "now working on strain vab-10_gk45\n",
      "this strain/treatment has 5 plates\n",
      "now working on strain gab-1_tm3577\n",
      "this strain/treatment has 5 plates\n",
      "now working on strain pcaf-1_tm3318nt2\n",
      "this strain/treatment has 4 plates\n",
      "now working on strain dkf-1_ok2695\n",
      "this strain/treatment has 5 plates\n",
      "now working on strain jmjd-1.1_hc184\n",
      "this strain/treatment has 4 plates\n",
      "now working on strain let-19_gk149538\n",
      "this strain/treatment has 5 plates\n",
      "now working on strain irx-1_tm238\n",
      "this strain/treatment has 5 plates\n",
      "now working on strain shn-1_ok1241\n",
      "this strain/treatment has 5 plates\n",
      "now working on strain nab-1_gk164\n",
      "this strain/treatment has 5 plates\n",
      "now working on strain kqt-1_tm8384\n",
      "this strain/treatment has 5 plates\n",
      "now working on strain dip-2_ok885\n",
      "this strain/treatment has 5 plates\n",
      "now working on strain rme-6_tm6649\n",
      "this strain/treatment has 5 plates\n",
      "now working on strain tbx-38_gk186909\n",
      "this strain/treatment has 2 plates\n",
      "now working on strain smg-4_gk244058\n",
      "this strain/treatment has 5 plates\n",
      "now working on strain ZK858.6_ok2921\n",
      "this strain/treatment has 5 plates\n",
      "now working on strain math-33_tm6724\n",
      "this strain/treatment has 5 plates\n",
      "now working on strain set-16_gk190875\n",
      "this strain/treatment has 5 plates\n",
      "now working on strain set-24_n4909\n",
      "this strain/treatment has 5 plates\n",
      "now working on strain pax-2_ok3078\n",
      "this strain/treatment has 5 plates\n",
      "now working on strain pax-2_ok948\n",
      "this strain/treatment has 5 plates\n",
      "now working on strain mrck-1_ok586\n",
      "this strain/treatment has 5 plates\n",
      "now working on strain unc-75_e950\n",
      "this strain/treatment has 5 plates\n",
      "now working on strain bar-1_mu63\n",
      "this strain/treatment has 4 plates\n",
      "now working on strain mtm-5_ok469\n",
      "this strain/treatment has 4 plates\n",
      "now working on strain egl-19_n582\n",
      "this strain/treatment has 5 plates\n",
      "now working on strain unc-10_md1117\n",
      "this strain/treatment has 5 plates\n",
      "now working on strain nmr-2_ok3324\n",
      "this strain/treatment has 5 plates\n",
      "now working on strain ZK858.6_ok2364\n",
      "this strain/treatment has 5 plates\n",
      "now working on strain slo-1_eg142\n",
      "this strain/treatment has 5 plates\n",
      "now working on strain mbk-1_pk1389\n",
      "this strain/treatment has 5 plates\n",
      "now working on strain R151.1_ok2347\n",
      "this strain/treatment has 5 plates\n",
      "now working on strain slo-1_js379\n",
      "this strain/treatment has 5 plates\n",
      "now working on strain anc-1_e1802\n",
      "this strain/treatment has 9 plates\n",
      "now working on strain daf-6_e1377\n",
      "this strain/treatment has 5 plates\n",
      "now working on strain irk-3_tm7416\n",
      "this strain/treatment has 5 plates\n",
      "now working on strain jmjd-3.3_tm3104\n",
      "this strain/treatment has 5 plates\n",
      "now working on strain unc-4_gk705\n",
      "this strain/treatment has 5 plates\n",
      "now working on strain unc-16_e109\n",
      "this strain/treatment has 4 plates\n",
      "now working on strain unc-4_e120\n",
      "this strain/treatment has 5 plates\n",
      "now working on strain nab-1_ok943\n",
      "this strain/treatment has 5 plates\n",
      "now working on strain gap-2_tm748\n",
      "this strain/treatment has 4 plates\n",
      "now working on strain ptr-10_ok2106\n",
      "this strain/treatment has 5 plates\n",
      "now working on strain unc-18_e234\n",
      "this strain/treatment has 10 plates\n",
      "now working on strain unc-36_e251\n",
      "this strain/treatment has 4 plates\n",
      "now working on strain cls-3_tm5775\n",
      "this strain/treatment has 5 plates\n",
      "now working on strain nrx-1_ds1\n",
      "this strain/treatment has 5 plates\n",
      "now working on strain aps-2_tm2752\n",
      "this strain/treatment has 5 plates\n",
      "now working on strain magu-3_ok533\n",
      "this strain/treatment has 5 plates\n",
      "now working on strain hda-4_ok518\n",
      "this strain/treatment has 5 plates\n",
      "now working on strain gap-2_ok1001\n",
      "this strain/treatment has 5 plates\n",
      "now working on strain F11E6.8_ok2754\n",
      "this strain/treatment has 5 plates\n",
      "now working on strain jac-1_ok3000\n",
      "this strain/treatment has 5 plates\n",
      "now working on strain M03D4.4_tm559\n",
      "this strain/treatment has 5 plates\n",
      "now working on strain met-1_n4337\n",
      "this strain/treatment has 5 plates\n",
      "now working on strain cdh-4_hd40\n",
      "this strain/treatment has 4 plates\n",
      "now working on strain daf-18_e1375\n",
      "this strain/treatment has 5 plates\n",
      "now working on strain unc-16_n370\n",
      "this strain/treatment has 5 plates\n",
      "now working on strain set-11_n4488\n",
      "this strain/treatment has 6 plates\n",
      "now working on strain anc-1_e1753\n",
      "this strain/treatment has 5 plates\n",
      "now working on strain rbr-2_ok2544\n",
      "this strain/treatment has 5 plates\n",
      "now working on strain bcl-11_tm522\n",
      "this strain/treatment has 5 plates\n",
      "now working on strain pax-2_ok935\n",
      "this strain/treatment has 10 plates\n",
      "now working on strain unc-36_ad698\n",
      "this strain/treatment has 8 plates\n",
      "now working on strain bar-1_ga80\n",
      "this strain/treatment has 5 plates\n",
      "now working on strain slo-1_js118\n",
      "this strain/treatment has 4 plates\n",
      "now working on strain chd-1_ok2798\n",
      "this strain/treatment has 5 plates\n",
      "now working on strain cor-1_ok869\n",
      "this strain/treatment has 4 plates\n",
      "now working on strain unknown_unknown\n",
      "this strain/treatment has 5 plates\n",
      "now working on strain dhp-1_tm1072\n",
      "this strain/treatment has 5 plates\n",
      "now working on strain unc-75_tm9711\n",
      "this strain/treatment has 5 plates\n",
      "now working on strain dys-1_cx18\n",
      "this strain/treatment has 5 plates\n",
      "now working on strain irk-3_gk542081\n",
      "this strain/treatment has 5 plates\n",
      "now working on strain C18H9.3_tm4671\n",
      "this strain/treatment has 5 plates\n",
      "now working on strain hgap-1_gk101481\n",
      "this strain/treatment has 5 plates\n",
      "now working on strain tbx-38_tm581\n",
      "this strain/treatment has 4 plates\n",
      "now working on strain cnt-2_ok1767\n",
      "this strain/treatment has 5 plates\n",
      "now working on strain spas-1_ok1608\n",
      "this strain/treatment has 4 plates\n",
      "now working on strain smg-4_tm5409\n",
      "this strain/treatment has 5 plates\n",
      "now working on strain ubr-4_gk109613\n",
      "this strain/treatment has 5 plates\n",
      "now working on strain ubr-4_tm3968\n",
      "this strain/treatment has 4 plates\n",
      "now working on strain ztf-11_ok646\n",
      "this strain/treatment has 5 plates\n",
      "now working on strain unc-10_e102\n",
      "this strain/treatment has 5 plates\n",
      "now working on strain row-1_tm556\n",
      "this strain/treatment has 5 plates\n",
      "now working on strain glr-1_n2461\n",
      "this strain/treatment has 4 plates\n",
      "now working on strain dhc-1_ie28\n",
      "this strain/treatment has 4 plates\n",
      "now working on strain let-526_gk110913\n",
      "this strain/treatment has 3 plates\n",
      "now working on strain cls-3_ok3375\n",
      "done step 6.2\n"
     ]
    }
   ],
   "source": [
    "DataLists = [0] #<- generates empty list. 0 is there to account for python's index starting at 0. \n",
    "# we want indexing to start at 1 (when I say #1 I want the first point, not the second point)\n",
    "\n",
    "for s in tqdm(StrainNames.values()): #<- goes through the dictionary in step 6.1 and processes data\n",
    "    if not s == '':\n",
    "        DataLists.append(ProcessData(s)['Confirm']) #<- appends all data into a list of dataframes\n",
    "\n",
    "# print(DataLists[2])\n",
    "print('done step 6.2')"
   ]
  },
  {
   "cell_type": "markdown",
   "metadata": {},
   "source": [
    "# Convert float64 data to float32 to reduce memory load (can also convert to 16 if needed)\n",
    "\n",
    "For plain english:\n",
    "\n",
    "float16 = 4 decimal points\n",
    "\n",
    "float32 = 8 decimal points\n",
    "\n",
    "float64 = 16 decimal points\n",
    "\n",
    "more decimal points = more data/memory that computer has to keep track of"
   ]
  },
  {
   "cell_type": "code",
   "execution_count": null,
   "metadata": {},
   "outputs": [],
   "source": [
    "print(DataLists[1])"
   ]
  },
  {
   "cell_type": "code",
   "execution_count": null,
   "metadata": {},
   "outputs": [],
   "source": [
    "#No need to run here\n",
    "for n in tqdm(DataLists[1:]):\n",
    "#     print(n)\n",
    "    TestData=n\n",
    "    TestData[TestData.select_dtypes(np.float64).columns] = TestData.select_dtypes(np.float64).astype(np.float16)\n",
    "    print(\"done this strain\")"
   ]
  },
  {
   "cell_type": "code",
   "execution_count": null,
   "metadata": {},
   "outputs": [],
   "source": [
    "#No need to run here\n",
    "\n",
    "# print(TotalConcatenated.dtypes)\n",
    "TotalConcatenated['time_bin'] = TotalConcatenated['time_bin'].astype(np.float16)\n",
    "# print(TotalConcatenated.dtypes)\n",
    "# TotalConcatenated.dtypes\n",
    "# Test Cell\n",
    "# DataLists[1].to_csv(\"test.csv\")\n",
    "Test = TotalConcatenated.reset_index(drop=True)\n",
    "print(Test)"
   ]
  },
  {
   "cell_type": "markdown",
   "metadata": {},
   "source": [
    "# 7. Grouping Data and Naming (Optional: Add input here)\n",
    "\n",
    "Here, you get to name your data groups/strain! Name your groups however you like under between the quotation marks for each strain.\n",
    "\n",
    "For example: If your Strain1 is N2 and you wish for the group to be called N2,\n",
    "your line should look like:\n",
    "\n",
    "DataLists[x].assign(dataset = 'N2')\n",
    "\n",
    "## Go back to step 6.1 to check which strain is which item on the DataLists.\n",
    "In this example, the first item on DataLists is AQ2028_b.\n",
    "\n",
    "\n",
    "## Remember: Put your name in quotes. (ex: 'N2' and not N2)\n",
    "\n",
    "As default, the names are set to the unique identifier labels.\n",
    "\n",
    "## Depending on the number of strains you are running the comparison, you may have to delete/add lines of code (following the same format). \n",
    "## Remember to add/delete commas too.\n",
    "\n",
    "# If you want to change your groups, you do that here. \n",
    "For example, if you have 5 strains in your folder but only want to compare between 2 or 3 strains, designate that here and follow through with steps 6 and 7. Once you are done, come back to step 6 and change your groups again (You are going to have to change your graph titles for the second run-through though)!"
   ]
  },
  {
   "cell_type": "code",
   "execution_count": 21,
   "metadata": {},
   "outputs": [
    {
     "name": "stdout",
     "output_type": "stream",
     "text": [
      "         index     Time   n  Number  Instantaneous Speed  Interval Speed  \\\n",
      "0         6444  490.035  90      37               0.0767          0.0733   \n",
      "1         6445  490.119  88      37               0.0783          0.0771   \n",
      "2         6446  490.196  88      37               0.0825          0.0884   \n",
      "3         6447  490.272  90      37               0.0832          0.0852   \n",
      "4         6448  490.360  91      37               0.0858          0.0930   \n",
      "...        ...      ...  ..     ...                  ...             ...   \n",
      "1886633  97985  589.823  49      27               0.1467          0.1174   \n",
      "1886634  97986  589.862  50      27               0.1501          0.1184   \n",
      "1886635  97987  589.897  49      27               0.1413          0.1118   \n",
      "1886636  97988  589.943  49      27               0.1391          0.1090   \n",
      "1886637  97989  589.983  49      27               0.1428          0.1214   \n",
      "\n",
      "          Bias   Width  Length      Area  Angular Speed  Aspect Ratio  Kink  \\\n",
      "0        0.459  0.1211  1.0885  0.151770            4.6         0.297  43.3   \n",
      "1        0.405  0.1206  1.0790  0.149484            4.3         0.296  41.6   \n",
      "2        0.351  0.1240  1.0991  0.154903            4.2         0.292  42.1   \n",
      "3        0.351  0.1199  1.0800  0.148972            4.0         0.286  41.5   \n",
      "4        0.297  0.1213  1.0702  0.146509            4.1         0.290  45.2   \n",
      "...        ...     ...     ...       ...            ...           ...   ...   \n",
      "1886633  0.462  0.1588  1.1366  0.191943            7.3         0.380  53.0   \n",
      "1886634  0.462  0.1592  1.1361  0.193563            6.9         0.382  52.7   \n",
      "1886635  0.462  0.1600  1.1453  0.194346            6.3         0.378  54.3   \n",
      "1886636  0.500  0.1598  1.1418  0.193833            6.3         0.386  53.3   \n",
      "1886637  0.462  0.1669  1.1332  0.191862            6.0         0.391  56.7   \n",
      "\n",
      "         Curve    Crab Plate_id      Date      Screen       dataset   Gene  \\\n",
      "0         28.5  0.0091  B0516ab  20150516  ASD_Screen            N2     N2   \n",
      "1         27.8  0.0080  B0516ab  20150516  ASD_Screen            N2     N2   \n",
      "2         28.1  0.0078  B0516ab  20150516  ASD_Screen            N2     N2   \n",
      "3         27.8  0.0084  B0516ab  20150516  ASD_Screen            N2     N2   \n",
      "4         28.2  0.0063  B0516ab  20150516  ASD_Screen            N2     N2   \n",
      "...        ...     ...      ...       ...         ...           ...    ...   \n",
      "1886633   29.7  0.0227  C0517cd  20150517  ASD_Screen  cls-3_ok3375  cls-3   \n",
      "1886634   29.8  0.0219  C0517cd  20150517  ASD_Screen  cls-3_ok3375  cls-3   \n",
      "1886635   30.1  0.0204  C0517cd  20150517  ASD_Screen  cls-3_ok3375  cls-3   \n",
      "1886636   29.1  0.0244  C0517cd  20150517  ASD_Screen  cls-3_ok3375  cls-3   \n",
      "1886637   30.6  0.0273  C0517cd  20150517  ASD_Screen  cls-3_ok3375  cls-3   \n",
      "\n",
      "         Allele  \n",
      "0            N2  \n",
      "1            N2  \n",
      "2            N2  \n",
      "3            N2  \n",
      "4            N2  \n",
      "...         ...  \n",
      "1886633  ok3375  \n",
      "1886634  ok3375  \n",
      "1886635  ok3375  \n",
      "1886636  ok3375  \n",
      "1886637  ok3375  \n",
      "\n",
      "[1886638 rows x 21 columns]\n",
      "done step 7\n"
     ]
    }
   ],
   "source": [
    "TotalConcatenated=pd.concat(df.assign(dataset=StrainNames.get(i+1)) for i,df in enumerate(DataLists[1:]))\n",
    "TotalConcatenated[['Gene', 'Allele']] = TotalConcatenated['dataset'].str.split('_', n=1, expand=True)\n",
    "TotalConcatenated['Allele']=TotalConcatenated['Allele'].fillna('N2')\n",
    "Baseline_data=TotalConcatenated[((TotalConcatenated.Time<=590)&(TotalConcatenated.Time >=490))]\n",
    "Baseline_data=Baseline_data.drop(columns=[\"plate\", \"Tap\", \"Puff\", \"x\",\"y\"]).reset_index()\n",
    "# TotalConcatenated=TotalConcatenated.dropna()\n",
    "# TotalConcatenated = TotalConcatenated.reset_index(drop=True)\n",
    "print(Baseline_data)\n",
    "# TotalConcatenated.to_csv(\"tap_baseline_output.csv\")\n",
    "# print(\"done output\")\n",
    "print('done step 7')"
   ]
  },
  {
   "cell_type": "code",
   "execution_count": 11,
   "metadata": {},
   "outputs": [
    {
     "name": "stdout",
     "output_type": "stream",
     "text": [
      "done\n"
     ]
    }
   ],
   "source": [
    "Baseline_data.to_csv(\"ASD_new_tap_baseline_output.csv\")\n",
    "print('done')"
   ]
  },
  {
   "cell_type": "code",
   "execution_count": null,
   "metadata": {},
   "outputs": [],
   "source": [
    "# # <------------------- This cell is now DEFUNCT -----------------------\n",
    "\n",
    "\n",
    "# #to add a line, add a comma to the last line and press 'enter' to type into a new line\n",
    "\n",
    "\n",
    "# TotalConcatenated = pd.concat([DataLists[1].assign(Strain = \"Wildtype - No Food\"),\n",
    "#                                DataLists[2].assign(Strain = \"Wildtype - Food\"),\n",
    "#                                DataLists[3].assign(Strain = \"Test - No Food\"),\n",
    "#                                DataLists[4].assign(Strain = \"Test - Food\"),\n",
    "#                                DataLists[5].assign(Strain = \"cat-2 (e1112) - No Food\"),\n",
    "#                                DataLists[6].assign(Strain = \"cat-2 (e1112) - Food\"),\n",
    "# #                                DataLists[5].assign(Strain = \"Wildtype - No Food\"),\n",
    "# #                                DataLists[6].assign(Strain = \"Wildtype - Food\"),\n",
    "# #                                DataLists[9].assign(Strain = \"dop-1 (vs101) - No Food\"),\n",
    "# #                                DataLists[10].assign(Strain = \"dop-1 (vs101) - Food\")\n",
    "#                               ])\n",
    "# # TotalConcatenated=TotalConcatenated.dropna()\n",
    "# TotalConcatenated['time_bin'] = TotalConcatenated['time_bin'].astype(np.float16)\n",
    "# TotalConcatenated[['Genotype', 'Treatment']] = TotalConcatenated['Strain'].str.split(' - ', 1, expand=True)\n",
    "# TotalConcatenated=TotalConcatenated.dropna()\n",
    "# TotalConcatenated = TotalConcatenated.reset_index(drop=True)\n",
    "# print(TotalConcatenated)\n",
    "# TotalConcatenated.to_csv(\"output.csv\")\n",
    "# # print(\"done output\")\n",
    "# print('done step 7')"
   ]
  },
  {
   "cell_type": "markdown",
   "metadata": {},
   "source": [
    "# END"
   ]
  },
  {
   "cell_type": "markdown",
   "metadata": {},
   "source": [
    "# ..... TO Here"
   ]
  },
  {
   "cell_type": "markdown",
   "metadata": {},
   "source": [
    "# 8.1 Graphing with Light Pulses (Skip to 7.2 if you are not using ChR2)\n",
    "\n",
    "## Here, feel free to change the graph title and axis labels! Images are automatically saved in your folder with your data.\n",
    "\n",
    "# Here, you may need to be patient - this code goes through millions of rows of data to plot your graph, so it may take a minute (or two.... or more...)\n",
    "\n",
    "Palette:\n",
    "\n",
    "Wildtype (ce314): (0.2980392156862745, 0.4470588235294118, 0.6901960784313725)\n",
    "\n",
    "lrk-1: (0.8666666666666667, 0.5176470588235295, 0.3215686274509804)\n",
    "\n",
    "vps-35 (hu68): (0.7686274509803922, 0.3058823529411765, 0.3215686274509804)\n",
    "\n",
    "vps-35 (ok1880): (0.5058823529411764, 0.4470588235294118, 0.7019607843137254)\n",
    "\n",
    "cat-2 (e1112): #8B008B\n",
    "\n",
    "cat-2 (e1112) No ATR: #FF00FF\n",
    "\n",
    "ce314 without ATR: #20B2AA (light see green)\n",
    "\n",
    "ok530 with ATR: #8B4513 (saddle brown)\n",
    "\n",
    "ok530 without ATR: #D2691E (chocolate)\n",
    "\n",
    "control + ATR: \"black\"\n",
    "\n",
    "control - ATR: \"gray\"\n",
    "\n",
    "lrk-1_1 + ATR: \"navy\"\n",
    "\n",
    "lrk-1_1 - ATR: \"royalblue\"\n",
    "\n",
    "lrk-1_2 + ATR: \"green\"\n",
    "\n",
    "lrk-1_2 - ATR: \"lightgreen\""
   ]
  },
  {
   "cell_type": "markdown",
   "metadata": {},
   "source": [
    "# 8.2 Speed Trace Plot"
   ]
  },
  {
   "cell_type": "code",
   "execution_count": null,
   "metadata": {},
   "outputs": [],
   "source": [
    "# Setting viewing range for your graph\n",
    "top = 0.35\n",
    "bottom = 0\n",
    "left = 0\n",
    "right = 420\n",
    "\n",
    "sns.set_context(\"talk\")\n",
    "plt.figure(linewidth = 2.5)\n",
    "plt.figure(figsize=(12,7))\n",
    "plt.gca().xaxis.grid(False)\n",
    "ax = sns.lineplot(x=\"time_bin\", \n",
    "             y=\"speed\", \n",
    "             data = TotalConcatenated,\n",
    "             hue = 'Strain',\n",
    "             palette = ['black',\n",
    "                        'grey',\n",
    "                        '#FF00FF',\n",
    "                        '#8B008B',\n",
    "                        'green',\n",
    "                        'lightgreen',\n",
    "#                         'royalblue',\n",
    "#                         'lightblue',\n",
    "#                         '#FFB5C5',\n",
    "#                         '#CD6889'\n",
    "                       ])\n",
    "plt.xlabel(\"Time (s)\")\n",
    "# plt.ylabel(\"Speed (mm/s)\")\n",
    "# plt.title(\"Speed Trace\")\n",
    "# plt.ylim(top = top)\n",
    "plt.ylim(bottom = bottom)\n",
    "plt.xlim(left= left)\n",
    "plt.xlim(right = right)\n",
    "ax.legend(loc = 'upper right', fontsize = '10')\n",
    "# plt.savefig(f'Speed_Trace_{left}to{right}s.png', format='png', dpi=450)\n",
    "plt.show()"
   ]
  },
  {
   "cell_type": "markdown",
   "metadata": {},
   "source": [
    "# BSR bar plot (differences of differences)"
   ]
  },
  {
   "cell_type": "markdown",
   "metadata": {},
   "source": [
    "Calculates worm speed average over designated time period"
   ]
  },
  {
   "cell_type": "code",
   "execution_count": null,
   "metadata": {},
   "outputs": [],
   "source": [
    "start = 100 #<----- set the start time of the range\n",
    "point = 400 #<------- set the end time of your range\n",
    "chunkeddata0 = TotalConcatenated[TotalConcatenated[\"time\"] >= start]\n",
    "chunkeddata = chunkeddata0[chunkeddata0[\"time\"] <= point]\n",
    "chunkeddata_mean = chunkeddata.groupby([\"Strain\",\"worm\"], as_index=False).mean()\n",
    "chunkeddata_mean[['Genotype', 'Treatment']] = chunkeddata_mean['Strain'].str.split('_', 1, expand=True)\n",
    "worm_avg_speed = chunkeddata_mean[['Genotype', 'Treatment', 'Strain', 'speed']]\n",
    "avg_speed = worm_avg_speed.groupby([\"Strain\", 'Treatment', 'Genotype'], as_index=False).mean()\n",
    "# print(avg_speed)\n",
    "\n",
    "# avg_speed.to_csv(\"avg_speed.csv\")\n",
    "\n",
    "speed_diff = avg_speed.drop(columns=[\"Strain\", \"Treatment\"]).groupby(\"Genotype\", as_index=False).diff(periods=-1).dropna()\n",
    "speed_diff.insert(loc=0, column='Genotype', value=avg_speed['Genotype'].unique())\n",
    "speed_diff.reset_index(drop=True)\n",
    "# print(speed_diff)\n",
    "# print(speed_diff.iloc[1,1])\n",
    "speed_diff['Score']=speed_diff['speed']-speed_diff.iloc[1,1]\n",
    "speed_diff=speed_diff.sort_values(by=[\"Score\"])\n",
    "print(speed_diff)"
   ]
  },
  {
   "cell_type": "code",
   "execution_count": null,
   "metadata": {},
   "outputs": [],
   "source": [
    "print(speed_diff.iloc[0,1])"
   ]
  },
  {
   "cell_type": "code",
   "execution_count": null,
   "metadata": {},
   "outputs": [],
   "source": [
    "avg_speed[\"new\"] = range(1,len(avg_speed)+1)\n",
    "avg_speed.loc[avg_speed.index==4, 'new'] = 0\n",
    "avg_speed.loc[avg_speed.index==4, 'new'] = 0\n",
    "print(avg_speed)\n",
    "# avg_speed.sort_values(\"new\").drop('new', axis=1)"
   ]
  },
  {
   "cell_type": "markdown",
   "metadata": {},
   "source": [
    "## Making the bar plot"
   ]
  },
  {
   "cell_type": "code",
   "execution_count": null,
   "metadata": {},
   "outputs": [],
   "source": [
    "Title = \"BSR Score\" #<---------------- Input Here -----------------\n",
    "sns.set_context(\"talk\")\n",
    "plt.figure(linewidth = 1)\n",
    "plt.figure(figsize=(15, 5))\n",
    "plt.gca().xaxis.grid(False)\n",
    "ax = sns.barplot(x=\"Genotype\", \n",
    "             y = 'Score', \n",
    "             data = speed_diff, #<--------------- Input Here -------------\n",
    "             color = 'CornflowerBlue',\n",
    "             edgecolor=\"DodgerBlue\",\n",
    "             linewidth = 2.5,\n",
    "#              seed=5,\n",
    "#              ci = 95, # 'sd' for SD, '68' for SEM\n",
    "#              palette = ['grey',\n",
    "#                         'black'\n",
    "#                        ]\n",
    "                )\n",
    "plt.xlabel(\"Genotype\")\n",
    "plt.xticks(rotation=90)\n",
    "plt.ylabel(\"BSR Score (Normalized to N2)\")\n",
    "plt.ylim(top = 0.1)\n",
    "plt.ylim(bottom = -0.1)\n",
    "plt.title(Title)\n",
    "# plt.legend(bbox_to_anchor=(1.02, 1), loc=2, borderaxespad=0.)\n",
    "plt.savefig(f'{Title}.png', format='png', dpi=450, bbox_inches = 'tight')\n",
    "plt.show()"
   ]
  },
  {
   "cell_type": "code",
   "execution_count": null,
   "metadata": {},
   "outputs": [],
   "source": []
  },
  {
   "cell_type": "markdown",
   "metadata": {},
   "source": [
    "# 8.3 Graphing Bar Graphs"
   ]
  },
  {
   "cell_type": "markdown",
   "metadata": {},
   "source": [
    "# Speed Barplots Comparison"
   ]
  },
  {
   "cell_type": "code",
   "execution_count": null,
   "metadata": {},
   "outputs": [],
   "source": [
    "# Valid Measurement inputs(change var)\n",
    "# 1:'speed', <---\n",
    "# 2: \"x\",\n",
    "# 3: \"y\",\n",
    "# 4: \"angularspeed\", <-----\n",
    "# 5: \"pathlength\",\n",
    "# 6: \"kink\",  <---\n",
    "# 7: \"bias\", <----\n",
    "# 8: \"curve\", <---\n",
    "# 9: \"dir\",<----\n",
    "# 10: \"crab\",<----\n",
    "# 11: \"length\",<---\n",
    "# 12: \"midline\",<----\n",
    "# 13: \"width\",<----\n",
    "# 14: \"morphwidth\",<----\n",
    "# 15: \"area\"<----\n",
    "\n",
    "start = 200\n",
    "point = 400\n",
    "var = \"area\"\n",
    "chunkeddata0 = TotalConcatenated[TotalConcatenated[\"time\"] >= start]\n",
    "chunkeddata = chunkeddata0[chunkeddata0[\"time\"] <= point]\n",
    "chunkeddata_mean = chunkeddata.groupby([\"Strain\",\"worm\"], as_index=False).mean()\n",
    "chunkeddata_mean[['Genotype', 'Treatment']] = chunkeddata_mean['Strain'].str.split(' - ', 1, expand=True)\n",
    "\n",
    "Title = f\"{var} - {start}-{point} seconds\" #<---------------- Input Here -----------------\n",
    "sns.set_context(\"talk\")\n",
    "plt.figure(linewidth = 2.5)\n",
    "plt.figure(figsize=(15, 3))\n",
    "plt.gca().xaxis.grid(False)\n",
    "ax = sns.barplot(x=\"Genotype\", \n",
    "             y = var, \n",
    "             data = chunkeddata_mean, #<--------------- Input Here -------------\n",
    "             hue = 'Treatment',\n",
    "             edgecolor=\"black\",\n",
    "             linewidth = 2.5,\n",
    "#              seed=5,\n",
    "             ci = 95, # 'sd' for SD, '68' for SEM\n",
    "             palette = ['grey',\n",
    "                        'black'\n",
    "                       ]\n",
    "                )\n",
    "plt.xlabel(\"Strain and Condition\")\n",
    "# plt.ylabel(\"Average Speed (mm/s)\")\n",
    "plt.title(Title)\n",
    "plt.legend(bbox_to_anchor=(1.02, 1), loc=2, borderaxespad=0.)\n",
    "plt.savefig(f'{Title}.png', format='png', dpi=450, bbox_inches = 'tight')\n",
    "plt.show()"
   ]
  },
  {
   "cell_type": "code",
   "execution_count": null,
   "metadata": {},
   "outputs": [],
   "source": [
    "# Test Cell\n",
    "# chunkeddata_mean"
   ]
  },
  {
   "cell_type": "code",
   "execution_count": null,
   "metadata": {},
   "outputs": [],
   "source": [
    "# Test Cell\n",
    "# TotalConcatenated.describe()\n",
    "# chunkeddata0\n",
    "# chunkeddata"
   ]
  },
  {
   "cell_type": "markdown",
   "metadata": {},
   "source": [
    "# Bias Barplots Comparison"
   ]
  },
  {
   "cell_type": "code",
   "execution_count": null,
   "metadata": {},
   "outputs": [],
   "source": [
    "point = 420\n",
    "var = \"bias\"\n",
    "chunkeddata0 = TotalConcatenated[TotalConcatenated[\"time\"] >= 0]\n",
    "chunkeddata = chunkeddata0[chunkeddata0[\"time\"] <= point]\n",
    "\n",
    "Title = f\"{var} - First {point} seconds\" #<---------------- Input Here -----------------\n",
    "sns.set_context(\"talk\")\n",
    "plt.figure(linewidth = 2.5)\n",
    "plt.figure(figsize=(15, 5))\n",
    "plt.gca().xaxis.grid(False)\n",
    "ax = sns.barplot(x=\"Genotype\", \n",
    "             y = var, \n",
    "             data = chunkeddata, #<--------------- Input Here -------------\n",
    "             hue = 'Treatment',\n",
    "             edgecolor=\"black\",\n",
    "             linewidth = 2.5,\n",
    "             ci = None,\n",
    "             palette = ['black',\n",
    "                        'grey'\n",
    "                       ]\n",
    "                )\n",
    "plt.xlabel(\"Strain and Condition\")\n",
    "# plt.ylabel(\"Average Speed (mm/s)\")\n",
    "plt.title(Title)\n",
    "plt.legend(bbox_to_anchor=(1.02, 1), loc=2, borderaxespad=0.)\n",
    "# plt.savefig(f'{Title}.png', format='png', dpi=450, bbox_inches = 'tight')\n",
    "plt.show()"
   ]
  },
  {
   "cell_type": "markdown",
   "metadata": {},
   "source": [
    "# Dispersion Plot (starburst) - *Not Functional In Current Iteration"
   ]
  },
  {
   "cell_type": "code",
   "execution_count": null,
   "metadata": {},
   "outputs": [],
   "source": [
    "timepoint=60 # <---------------------- indicate end timepoint\n",
    "\n",
    "\n",
    "chunkeddata0 = TotalConcatenated[TotalConcatenated[\"time\"] >= 0]\n",
    "chunkeddata = chunkeddata0[chunkeddata0[\"time\"] <= timepoint]\n",
    "\n",
    "Title = f\"0 - {timepoint} seconds\" #<--------------------\n",
    "sns.set(context=\"talk\")\n",
    "# sns.set_context(\"talk\", fontscale=0.5)\n",
    "plt.figure(linewidth = 2.5)\n",
    "plt.figure(figsize=(16, 4))\n",
    "g = sns.FacetGrid(chunkeddata, row = \"Treatment\", col = \"Genotype\", margin_titles=True) #<--------------------------\n",
    "g.map_dataframe(sns.scatterplot, \"x_0\", \"y_0\", hue=\"time\", palette = \"YlOrBr\", linewidth=0, alpha=0.7, s=2)\n",
    "g.set_axis_labels(\"x position\", \"y position\")\n",
    "g.set_titles(col_template=\"{col_name}\", row_template=\"{row_name}\")\n",
    "# g.fig.subplots_adjust(top=0.8)\n",
    "g.fig.suptitle(f\"{Title} Dispersion map\", y=1.05)\n",
    "g.tight_layout()\n",
    "# plt.savefig(f'{Title} Dispersion map.png', format='png', dpi=900, bbox_inches = 'tight')"
   ]
  },
  {
   "cell_type": "markdown",
   "metadata": {},
   "source": [
    "# Total Distance Traveled Trace - *Not Functional In Current Iteration"
   ]
  },
  {
   "cell_type": "code",
   "execution_count": null,
   "metadata": {},
   "outputs": [],
   "source": [
    "start=50\n",
    "timepoint=420 # <---------------------- indicate end timepoint\n",
    "\n",
    "\n",
    "chunkeddata0 = TotalConcatenated[TotalConcatenated[\"time\"] >= start]\n",
    "chunkeddata = chunkeddata0[chunkeddata0[\"time\"] <= timepoint]\n",
    "\n",
    "Title = f\"{start} - {timepoint} seconds\" #<--------------------\n",
    "sns.set(context=\"talk\")\n",
    "# sns.set_context(\"talk\", fontscale=0.5)\n",
    "plt.figure(linewidth = 2.5)\n",
    "plt.figure(figsize=(16, 4))\n",
    "g = sns.FacetGrid(chunkeddata, row = \"Treatment\", col = \"Genotype\", margin_titles=True, ylim=[0,15]) #<---- set y-lim\n",
    "g.map_dataframe(sns.scatterplot, \"time\", \"distance\", hue=\"worm\", palette = \"colorblind\", linewidth=0, alpha=0.7, s=2)\n",
    "# g.set_axis_labels(\"x position\", \"y position\")\n",
    "g.set_titles(col_template=\"{col_name}\", row_template=\"{row_name}\")\n",
    "# g.fig.subplots_adjust(top=0.8)\n",
    "g.fig.suptitle(f'{Title} Total Distance Traveled Trace', y=1.05)\n",
    "g.tight_layout()\n",
    "# plt.savefig(f'{Title} Total Distance Traveled Trace.png', format='png', dpi=900, bbox_inches = 'tight')"
   ]
  },
  {
   "cell_type": "code",
   "execution_count": null,
   "metadata": {},
   "outputs": [],
   "source": []
  },
  {
   "cell_type": "markdown",
   "metadata": {},
   "source": [
    "# Done!"
   ]
  },
  {
   "cell_type": "code",
   "execution_count": null,
   "metadata": {},
   "outputs": [],
   "source": [
    "AfterOneHundredSecs = TotalConcatenated[TotalConcatenated[\"time_bin\"] >= 100].reset_index(drop=True)\n",
    "print(AfterOneHundredSecs)"
   ]
  },
  {
   "cell_type": "code",
   "execution_count": null,
   "metadata": {},
   "outputs": [],
   "source": [
    "AfterOneHundredMean = AfterOneHundredSecs.groupby([\"Strain\", \"worm\", \"Genotype\", \"Treatment\"], as_index=False).mean()\n",
    "print(AfterOneHundredMean)"
   ]
  },
  {
   "cell_type": "code",
   "execution_count": null,
   "metadata": {},
   "outputs": [],
   "source": [
    "# Valid Measurement inputs(change var)\n",
    "# 1:'speed', <---\n",
    "# 2: \"x\",\n",
    "# 3: \"y\",\n",
    "# 4: \"angularspeed\", <-----\n",
    "# 5: \"pathlength\",\n",
    "# 6: \"kink\",  <---\n",
    "# 7: \"bias\", <----\n",
    "# 8: \"curve\", <---\n",
    "# 9: \"dir\",<----\n",
    "# 10: \"crab\",<----\n",
    "# 11: \"length\",<---\n",
    "# 12: \"midline\",<----\n",
    "# 13: \"width\",<----\n",
    "# 14: \"morphwidth\",<----\n",
    "# 15: \"area\"<----\n",
    "\n",
    "\n",
    "var = \"speed\"\n",
    "\n",
    "Title = f\"{var}\" #<---------------- Input Here -----------------\n",
    "sns.set_context(\"talk\")\n",
    "plt.figure(linewidth = 2.5)\n",
    "plt.figure(figsize=(15, 3))\n",
    "plt.gca().xaxis.grid(False)\n",
    "ax = sns.barplot(x=\"Genotype\", \n",
    "             y = var, \n",
    "             data = AfterOneHundredMean, #<--------------- Input Here -------------\n",
    "             hue = 'Treatment',\n",
    "             edgecolor=\"black\",\n",
    "             linewidth = 2.5,\n",
    "#              seed=5,\n",
    "             ci = 95, # 'sd' for SD, '68' for SEM\n",
    "             palette = ['grey',\n",
    "                        'black'\n",
    "                       ]\n",
    "                )\n",
    "plt.xlabel(\"Strain and Condition\")\n",
    "# plt.ylabel(\"Average Speed (mm/s)\")\n",
    "plt.title(Title)\n",
    "plt.legend(bbox_to_anchor=(1.02, 1), loc=2, borderaxespad=0.)\n",
    "# plt.savefig(f'{Title}.png', format='png', dpi=450, bbox_inches = 'tight')\n",
    "plt.show()"
   ]
  },
  {
   "cell_type": "code",
   "execution_count": null,
   "metadata": {},
   "outputs": [],
   "source": [
    "AfterOneHundredCAT = AfterOneHundredMean[AfterOneHundredMean.Genotype != \"Test\"]\n",
    "AfterOneHundredTEST = AfterOneHundredMean[AfterOneHundredMean.Genotype != \"cat-2 (e1112)\"]\n"
   ]
  },
  {
   "cell_type": "code",
   "execution_count": null,
   "metadata": {},
   "outputs": [],
   "source": [
    "print(AfterOneHundredMean)\n",
    "print(AfterOneHundredCAT)\n",
    "print(AfterOneHundredTEST)"
   ]
  },
  {
   "cell_type": "code",
   "execution_count": null,
   "metadata": {},
   "outputs": [],
   "source": [
    "AfterOneHundredCAT.anova(dv=\"speed\", between=[\"Genotype\",\"Treatment\"])"
   ]
  },
  {
   "cell_type": "code",
   "execution_count": null,
   "metadata": {},
   "outputs": [],
   "source": [
    "AfterOneHundredTEST.anova(dv=\"speed\", between=[\"Genotype\",\"Treatment\"]).round(7)"
   ]
  },
  {
   "cell_type": "code",
   "execution_count": null,
   "metadata": {},
   "outputs": [],
   "source": []
  }
 ],
 "metadata": {
  "kernelspec": {
   "display_name": "Python 3 (ipykernel)",
   "language": "python",
   "name": "python3"
  },
  "language_info": {
   "codemirror_mode": {
    "name": "ipython",
    "version": 3
   },
   "file_extension": ".py",
   "mimetype": "text/x-python",
   "name": "python",
   "nbconvert_exporter": "python",
   "pygments_lexer": "ipython3",
   "version": "3.11.1"
  }
 },
 "nbformat": 4,
 "nbformat_minor": 4
}
