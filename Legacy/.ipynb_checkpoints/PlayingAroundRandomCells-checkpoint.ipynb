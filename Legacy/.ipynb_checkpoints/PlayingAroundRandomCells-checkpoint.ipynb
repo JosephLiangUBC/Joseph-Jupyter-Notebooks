{
 "cells": [
  {
   "cell_type": "code",
   "execution_count": 2,
   "id": "b65df115-ff9a-4ad1-811f-df33002845cf",
   "metadata": {},
   "outputs": [
    {
     "name": "stdout",
     "output_type": "stream",
     "text": [
      "365\n"
     ]
    }
   ],
   "source": [
    "print(str(int(float(\"345\")+float(\"20\"))))"
   ]
  },
  {
   "cell_type": "code",
   "execution_count": 3,
   "id": "5d33c616-2839-4572-af70-233af783302a",
   "metadata": {},
   "outputs": [
    {
     "ename": "ValueError",
     "evalue": "could not convert string to float: '124,78'",
     "output_type": "error",
     "traceback": [
      "\u001b[0;31m---------------------------------------------------------------------------\u001b[0m",
      "\u001b[0;31mValueError\u001b[0m                                Traceback (most recent call last)",
      "Cell \u001b[0;32mIn[3], line 2\u001b[0m\n\u001b[1;32m      1\u001b[0m strval\u001b[38;5;241m=\u001b[39m\u001b[38;5;124m'\u001b[39m\u001b[38;5;124m124,78\u001b[39m\u001b[38;5;124m'\u001b[39m\n\u001b[0;32m----> 2\u001b[0m val\u001b[38;5;241m=\u001b[39m\u001b[38;5;28;43mfloat\u001b[39;49m\u001b[43m(\u001b[49m\u001b[43mstrval\u001b[49m\u001b[43m)\u001b[49m\n\u001b[1;32m      3\u001b[0m \u001b[38;5;28mprint\u001b[39m(val)\n",
      "\u001b[0;31mValueError\u001b[0m: could not convert string to float: '124,78'"
     ]
    }
   ],
   "source": [
    "strval='124,78'\n",
    "val=float(strval)\n",
    "print(val)"
   ]
  },
  {
   "cell_type": "code",
   "execution_count": 21,
   "id": "e04b0111-fe78-42fd-a437-cf6fba4d9751",
   "metadata": {},
   "outputs": [],
   "source": [
    "from ipyfilechooser import FileChooser"
   ]
  },
  {
   "cell_type": "code",
   "execution_count": 22,
   "id": "d047872c-f454-4b21-ae5f-fbe76ded5a3b",
   "metadata": {},
   "outputs": [
    {
     "data": {
      "application/vnd.jupyter.widget-view+json": {
       "model_id": "63b1d6312a3c42f1b7adba5cb343cba7",
       "version_major": 2,
       "version_minor": 0
      },
      "text/plain": [
       "FileChooser(path='/Users/Joseph', filename='', title='', show_hidden=False, select_desc='Select', change_desc=…"
      ]
     },
     "metadata": {},
     "output_type": "display_data"
    }
   ],
   "source": [
    "starting_directory = '/Users/Joseph'\n",
    "chooser = FileChooser(starting_directory)\n",
    "display(chooser)"
   ]
  },
  {
   "cell_type": "code",
   "execution_count": 29,
   "id": "5ad41b49-c54a-41bc-b2a4-12865e70cb27",
   "metadata": {},
   "outputs": [
    {
     "name": "stdout",
     "output_type": "stream",
     "text": [
      "/Users/Joseph/Desktop/GRC_Data/tap_baseline_output.csv\n"
     ]
    }
   ],
   "source": [
    "print(chooser.selected)\n",
    "file=chooser.selected\n",
    "folder_path=chooser.selected_path"
   ]
  },
  {
   "cell_type": "code",
   "execution_count": 30,
   "id": "8bdae795-4e5b-4371-acd2-40d77be2796a",
   "metadata": {},
   "outputs": [
    {
     "name": "stdout",
     "output_type": "stream",
     "text": [
      "           Time   n  Number  Instantaneous Speed  Interval Speed   Bias  Tap  \\\n",
      "0         0.006  68       0               0.0000          0.0000  0.000    0   \n",
      "1         0.058  72       0               0.0000          0.0000  0.000    0   \n",
      "2         0.120  78       0               0.0000          0.0000  0.000    0   \n",
      "3         0.162  81       0               0.0000          0.0000  0.000    0   \n",
      "4         0.226  81       0               0.0000          0.0000  0.000    0   \n",
      "...         ...  ..     ...                  ...             ...    ...  ...   \n",
      "80052  1199.893  52      28               0.1992          0.1135  0.545    0   \n",
      "80053  1199.950  51      28               0.1832          0.1068  0.000    0   \n",
      "80054  1199.991  51      28               0.0000          0.0000  0.000    0   \n",
      "80055  1200.034  51      28               0.0000          0.0000  0.000    0   \n",
      "80056  1200.075  51      28               0.0000          0.0000  0.000    0   \n",
      "\n",
      "       Puff        x        y  ...      Area  Angular Speed  Aspect Ratio  \\\n",
      "0         0   0.0000   0.0000  ...  0.000000            0.0         0.000   \n",
      "1         0   0.0000   0.0000  ...  0.000000            0.0         0.000   \n",
      "2         0   0.0000   0.0000  ...  0.000000            0.0         0.000   \n",
      "3         0   0.0000   0.0000  ...  0.000000            0.0         0.000   \n",
      "4         0   0.0000   0.0000  ...  0.000000            0.0         0.000   \n",
      "...     ...      ...      ...  ...       ...            ...           ...   \n",
      "80052     0  26.3854  31.0040  ...  0.119712            8.8         0.241   \n",
      "80053     0  26.3865  31.0040  ...  0.122342            8.2         0.253   \n",
      "80054     0  26.3872  31.0035  ...  0.125596            0.0         0.251   \n",
      "80055     0  26.3874  31.0041  ...  0.123357            0.0         0.248   \n",
      "80056     0  26.3873  31.0040  ...  0.121379            0.0         0.249   \n",
      "\n",
      "       Kink  Curve    Crab  plate       dataset   Gene  Allele  \n",
      "0       0.0    0.0  0.0000      0  set-2_ok1484  set-2  ok1484  \n",
      "1       0.0    0.0  0.0000      0  set-2_ok1484  set-2  ok1484  \n",
      "2       0.0    0.0  0.0000      0  set-2_ok1484  set-2  ok1484  \n",
      "3       0.0    0.0  0.0000      0  set-2_ok1484  set-2  ok1484  \n",
      "4       0.0    0.0  0.0000      0  set-2_ok1484  set-2  ok1484  \n",
      "...     ...    ...     ...    ...           ...    ...     ...  \n",
      "80052  40.5   23.9  0.0134      0  dop-3_tm1356  dop-3  tm1356  \n",
      "80053  40.8   23.4  0.0158      0  dop-3_tm1356  dop-3  tm1356  \n",
      "80054  40.7   23.4  0.0000      0  dop-3_tm1356  dop-3  tm1356  \n",
      "80055  40.4   23.8  0.0000      0  dop-3_tm1356  dop-3  tm1356  \n",
      "80056  39.9   23.8  0.0000      0  dop-3_tm1356  dop-3  tm1356  \n",
      "\n",
      "[13290439 rows x 22 columns]\n"
     ]
    }
   ],
   "source": [
    "baseline_output = pd.read_csv(file, index_col=0)\n",
    "print(baseline_output)"
   ]
  },
  {
   "cell_type": "code",
   "execution_count": 37,
   "id": "a3581dfb-50a2-41f2-87d2-5ca53439c229",
   "metadata": {},
   "outputs": [
    {
     "name": "stdout",
     "output_type": "stream",
     "text": [
      "          Time    n  Number  Instantaneous Speed  Interval Speed   Bias  Tap  \\\n",
      "3969   350.055  157      83               0.1114          0.0899  0.654    0   \n",
      "3970   350.202  156      82               0.1180          0.0942  0.688    0   \n",
      "3971   350.314  156      82               0.1324          0.1029  0.663    0   \n",
      "3972   350.396  156      82               0.1265          0.0939  0.637    0   \n",
      "3973   350.476  155      82               0.1332          0.0998  0.625    0   \n",
      "...        ...  ...     ...                  ...             ...    ...  ...   \n",
      "66298  359.680   84      47               0.0911          0.1051  0.435    0   \n",
      "66299  359.760   84      47               0.0886          0.1044  0.391    0   \n",
      "66300  359.843   84      47               0.0920          0.1116  0.391    0   \n",
      "66301  359.918   84      47               0.0805          0.0908  0.391    0   \n",
      "66302  359.993   84      47               0.0803          0.0796  0.391    0   \n",
      "\n",
      "       Puff        x        y  ...      Area  Angular Speed  Aspect Ratio  \\\n",
      "3969      0  22.7361  30.0410  ...  0.112793            6.2         0.280   \n",
      "3970      0  22.4732  29.8259  ...  0.108665            6.4         0.277   \n",
      "3971      0  22.4739  29.8276  ...  0.110630            7.2         0.283   \n",
      "3972      0  22.4739  29.8281  ...  0.109270            7.3         0.284   \n",
      "3973      0  22.4751  29.8285  ...  0.112168            7.9         0.278   \n",
      "...     ...      ...      ...  ...       ...            ...           ...   \n",
      "66298     0  23.8703  29.8696  ...  0.118858            6.8         0.244   \n",
      "66299     0  23.8727  29.8687  ...  0.125729            6.7         0.237   \n",
      "66300     0  23.8755  29.8687  ...  0.122084            6.4         0.238   \n",
      "66301     0  23.8779  29.8685  ...  0.118532            5.5         0.234   \n",
      "66302     0  23.8795  29.8689  ...  0.124675            5.8         0.231   \n",
      "\n",
      "       Kink  Curve    Crab  plate       dataset   Gene  Allele  \n",
      "3969   41.8   25.7  0.0109      0  set-2_ok1484  set-2  ok1484  \n",
      "3970   40.4   25.7  0.0112      0  set-2_ok1484  set-2  ok1484  \n",
      "3971   42.0   26.3  0.0113      0  set-2_ok1484  set-2  ok1484  \n",
      "3972   41.7   26.5  0.0116      0  set-2_ok1484  set-2  ok1484  \n",
      "3973   43.4   26.8  0.0125      0  set-2_ok1484  set-2  ok1484  \n",
      "...     ...    ...     ...    ...           ...    ...     ...  \n",
      "66298  33.6   23.4  0.0094      0  dop-3_tm1356  dop-3  tm1356  \n",
      "66299  31.4   23.2  0.0079      0  dop-3_tm1356  dop-3  tm1356  \n",
      "66300  33.9   23.7  0.0073      0  dop-3_tm1356  dop-3  tm1356  \n",
      "66301  33.3   24.0  0.0062      0  dop-3_tm1356  dop-3  tm1356  \n",
      "66302  35.2   24.2  0.0064      0  dop-3_tm1356  dop-3  tm1356  \n",
      "\n",
      "[111631 rows x 22 columns]\n"
     ]
    }
   ],
   "source": [
    "start = 350 #<----- set the start time of the range\n",
    "point = 360 #<------- set the end time of your range\n",
    "chunkeddata0 = baseline_output[baseline_output[\"Time\"] >= start]\n",
    "chunkeddata = chunkeddata0[chunkeddata0[\"Time\"] <= point]\n",
    "print(chunkeddata)"
   ]
  },
  {
   "cell_type": "code",
   "execution_count": 38,
   "id": "384b4a14-33d0-4c78-ad5a-215d649a3c50",
   "metadata": {},
   "outputs": [],
   "source": [
    "chunkeddata.to_csv('/Users/Joseph/Desktop/GRC_Data/sample_baseline_output.csv')"
   ]
  },
  {
   "cell_type": "code",
   "execution_count": null,
   "id": "21c07dbc-21ba-44ad-a272-d790d6629eb1",
   "metadata": {},
   "outputs": [],
   "source": []
  },
  {
   "cell_type": "code",
   "execution_count": null,
   "id": "b76c3485-f5fd-475e-ad6c-757e0eda810e",
   "metadata": {},
   "outputs": [],
   "source": []
  },
  {
   "cell_type": "code",
   "execution_count": null,
   "id": "eef79c93-3f50-4bb2-abdb-09e74ac6ea5e",
   "metadata": {},
   "outputs": [],
   "source": []
  },
  {
   "cell_type": "code",
   "execution_count": 18,
   "id": "f7611f10-536b-4cd4-a402-01aa76c5af69",
   "metadata": {},
   "outputs": [],
   "source": [
    "import pandas as pd\n",
    "import io\n",
    "import requests"
   ]
  },
  {
   "cell_type": "code",
   "execution_count": 19,
   "id": "33cd988a-0fe1-48b3-9296-ec3d24c04f62",
   "metadata": {},
   "outputs": [
    {
     "name": "stdout",
     "output_type": "stream",
     "text": [
      "         time  dura   dist      prob     speed  plate  taps         dataset  \\\n",
      "0     599.959  3.21  0.581  0.803922  0.180997      1   1.0  F32D8.13_gk584   \n",
      "1     609.960  2.54  0.509  0.648148  0.200394      1   2.0  F32D8.13_gk584   \n",
      "2     619.914  1.84  0.409  0.750000  0.222283      1   3.0  F32D8.13_gk584   \n",
      "3     629.897  1.73  0.364  0.474576  0.210405      1   4.0  F32D8.13_gk584   \n",
      "4     639.989  1.21  0.247  0.536232  0.204132      1   5.0  F32D8.13_gk584   \n",
      "..        ...   ...    ...       ...       ...    ...   ...             ...   \n",
      "334   859.979  0.79  0.163  0.450000  0.206329     11  27.0   vps-35_ok1880   \n",
      "335   869.983  1.04  0.203  0.350877  0.195192     11  28.0   vps-35_ok1880   \n",
      "336   879.979  0.82  0.163  0.456140  0.198780     11  29.0   vps-35_ok1880   \n",
      "337   889.911  0.72  0.133  0.415094  0.184722     11  30.0   vps-35_ok1880   \n",
      "338  1189.993  3.23  0.687  0.583333  0.212693     11  31.0   vps-35_ok1880   \n",
      "\n",
      "         Gene  Allele  \n",
      "0    F32D8.13   gk584  \n",
      "1    F32D8.13   gk584  \n",
      "2    F32D8.13   gk584  \n",
      "3    F32D8.13   gk584  \n",
      "4    F32D8.13   gk584  \n",
      "..        ...     ...  \n",
      "334    vps-35  ok1880  \n",
      "335    vps-35  ok1880  \n",
      "336    vps-35  ok1880  \n",
      "337    vps-35  ok1880  \n",
      "338    vps-35  ok1880  \n",
      "\n",
      "[20499 rows x 10 columns]\n"
     ]
    }
   ],
   "source": [
    "# tap_url = 'https://osf.io/du9bj/files/osfstorage/650a2f9f1e76a4230e8a99a5?raw=true'\n",
    "tap_url='https://github.com/MyYummyPancake/NRSC510B/blob/main/tap_output.csv?raw=true'\n",
    "# s=requests.get(tap_url).content\n",
    "# tap_output=pd.read_csv(io.StringIO(s.decode('utf-8')))\n",
    "tap_output=pd.read_csv(tap_url, on_bad_lines='skip', index_col=0)\n",
    "print(tap_output)"
   ]
  },
  {
   "cell_type": "code",
   "execution_count": 20,
   "id": "aaaf3cc6-37e8-43e4-a57e-d9f3d868ca68",
   "metadata": {},
   "outputs": [],
   "source": [
    "import sqlite3\n",
    "from sqlite3 import Error"
   ]
  },
  {
   "cell_type": "code",
   "execution_count": null,
   "id": "79bb657e-8fb0-4085-b59f-f4676282be5f",
   "metadata": {},
   "outputs": [],
   "source": []
  }
 ],
 "metadata": {
  "kernelspec": {
   "display_name": "Python 3 (ipykernel)",
   "language": "python",
   "name": "python3"
  },
  "language_info": {
   "codemirror_mode": {
    "name": "ipython",
    "version": 3
   },
   "file_extension": ".py",
   "mimetype": "text/x-python",
   "name": "python",
   "nbconvert_exporter": "python",
   "pygments_lexer": "ipython3",
   "version": "3.11.1"
  }
 },
 "nbformat": 4,
 "nbformat_minor": 5
}
