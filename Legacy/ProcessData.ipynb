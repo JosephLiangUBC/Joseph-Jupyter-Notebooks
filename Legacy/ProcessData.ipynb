{
 "cells": [
  {
   "cell_type": "code",
   "execution_count": null,
   "metadata": {},
   "outputs": [],
   "source": [
    "def ProcessData(strain): #<- an example of a user-defined function\n",
    "    strain_filelist = [x for x in filelist if strain in x] #<- goes through the list and filters for keyword\n",
    "    Strain_N = len(strain_filelist) #<- N per strain, or number of plates\n",
    "    Plate_N = 1\n",
    "    print(f'this strain/treatment has {Strain_N} plates') #<- will output as the first number\n",
    "    if Strain_N == 0:\n",
    "        raise AssertionError ('{} is not a good identifier'.format(strain))\n",
    "    else:\n",
    "        pass\n",
    "    DF_Total = pd.concat([pd.read_csv(f, sep=' ', skiprows = 4, header = None) for f in strain_filelist],\n",
    "                      ignore_index=True) #<- imports your data files\n",
    "    DF_Total = DF_Total.dropna(axis = 1) #<- cleans your data\n",
    "    DF_Total = DF_Total.rename( #<- more cleaning\n",
    "                {0:'time',\n",
    "                2:'rev_before',\n",
    "                3:'no_rev',\n",
    "                4:'stim_rev',\n",
    "                7:'dist',\n",
    "                8:'dist_std',\n",
    "                9:'dist_stderr',\n",
    "                11:'dist_0th',\n",
    "                12:'dist_1st',\n",
    "                13:'dist_2nd',\n",
    "                14:'dist_3rd',\n",
    "                15:'dist_100th',\n",
    "                18:'dura',\n",
    "                19:'dura_std',\n",
    "                20:'dura_stderr',\n",
    "                22:'dura_0th',\n",
    "                23:'dura_1st',\n",
    "                24:'dura_2nd',\n",
    "                25:'dura_3rd',\n",
    "                26:'dura_100th'}, axis=1)\n",
    "    #check function here for NaN Columns\n",
    "    DF_Total['prob'] = DF_Total['stim_rev']/ (DF_Total['no_rev'] + DF_Total['stim_rev']) #<- calculate prob\n",
    "    DF_Total['speed'] = DF_Total['dist']/DF_Total['dura'] #<- calculate speed\n",
    "    DF_Total[\"taps\"] = np.nan #<- add a column called taps, the x axis for your graphs\n",
    "    taps = cycle(number_taps) \n",
    "    DF_Total['taps'] = [next(taps) for count in range(DF_Total.shape[0])]\n",
    "    DF_Total_rows = int(DF_Total.shape[0])\n",
    "    print(f'this strain/treatment has {DF_Total_rows} total taps') #<- Outputs as the second number. Check if you are missing taps!\n",
    "    DF_Final = DF_Total[[\"time\", \"taps\", \"dura\", \"dist\", \"prob\", \"speed\"]].copy() #<- Finally, clean data!\n",
    "#     if type(DF_Total_rows/number_of_taps) == int:\n",
    "#         pass\n",
    "#     else:\n",
    "#         raise ValueError (\"{} is missing taps in your data!\".format(strain))\n",
    "    return{\n",
    "            'N': Strain_N,\n",
    "            'Confirm':DF_Total,\n",
    "            'Final': DF_Final}"
   ]
  }
 ],
 "metadata": {
  "kernelspec": {
   "display_name": "Python 3",
   "language": "python",
   "name": "python3"
  },
  "language_info": {
   "codemirror_mode": {
    "name": "ipython",
    "version": 3
   },
   "file_extension": ".py",
   "mimetype": "text/x-python",
   "name": "python",
   "nbconvert_exporter": "python",
   "pygments_lexer": "ipython3",
   "version": "3.7.3"
  }
 },
 "nbformat": 4,
 "nbformat_minor": 2
}
