{
 "cells": [
  {
   "cell_type": "code",
   "execution_count": 1,
   "metadata": {},
   "outputs": [],
   "source": [
    "import matplotlib.pyplot as plt\n",
    "import numpy as np\n"
   ]
  },
  {
   "cell_type": "code",
   "execution_count": 7,
   "metadata": {},
   "outputs": [
    {
     "name": "stdout",
     "output_type": "stream",
     "text": [
      "d1 = {1: 2, 3: 4, 5: 6, 7: 8, 9: 10}\n",
      "dict_items([(1, 2), (3, 4), (5, 6), (7, 8), (9, 10)])\n",
      "<class 'dict_items'>\n",
      "<class 'list'>\n",
      "d2 = [(1, 2), (3, 4), (5, 6), (7, 8), (9, 10)]\n",
      "Creating bar: 1-2\n",
      "Creating bar: 3-4\n",
      "Creating bar: 5-6\n",
      "Creating bar: 7-8\n",
      "Creating bar: 9-10\n"
     ]
    },
    {
     "data": {
      "image/png": "[encoded data removed]",
      "text/plain": [
       "<Figure size 432x288 with 1 Axes>"
      ]
     },
     "metadata": {
      "needs_background": "light"
     },
     "output_type": "display_data"
    }
   ],
   "source": [
    "\n",
    "lighton = np.arange(300, 940, 70) # where the bars start\n",
    "lightoff = np.arange(310, 950, 70) # where the bars end \n",
    "# create the dictionary\n",
    "d1 = dict( zip(lighton, lightoff) )\n",
    "# check\n",
    "print(\"d1 = {}\".format(d1))\n",
    "# turn the dictionary into an ITERABLE list of tuples\n",
    "d2 = list(d1.items()) \n",
    "\n",
    "\n",
    "# check\n",
    "print(\"d2 = {}\".format(d2))\n",
    "\n",
    "plt.plot(x, y)\n",
    "\n",
    "for tuple in d2:\n",
    "    print(\"Creating bar: {}-{}\".format(tuple[0], tuple[1]))\n",
    "    plt.axvspan(xmin=tuple[0], xmax=tuple[1], facecolor=\"#CCFFFF\", alpha=0.2) # alpha controls how transparent the bars are "
   ]
  },
  {
   "cell_type": "code",
   "execution_count": 11,
   "metadata": {},
   "outputs": [
    {
     "name": "stdout",
     "output_type": "stream",
     "text": [
      "[300 370 440 510 580 650 720 790 860 930]\n",
      "930\n",
      "940\n"
     ]
    }
   ],
   "source": [
    "lighton = np.arange(300, 940, 70) #start, end, stepsize\n",
    "print(lighton)\n",
    "print(lighton[-1])\n",
    "lightoff = np.arange(310, 950, 70)\n",
    "print(lightoff[-1])\n",
    "\n"
   ]
  },
  {
   "cell_type": "code",
   "execution_count": 13,
   "metadata": {},
   "outputs": [
    {
     "ename": "TypeError",
     "evalue": "exceptions must derive from BaseException",
     "output_type": "error",
     "traceback": [
      "\u001b[0;31m---------------------------------------------------------------------------\u001b[0m",
      "\u001b[0;31mTypeError\u001b[0m                                 Traceback (most recent call last)",
      "\u001b[0;32m<ipython-input-13-c56d91fb6bb3>\u001b[0m in \u001b[0;36m<module>\u001b[0;34m\u001b[0m\n\u001b[1;32m      4\u001b[0m     \u001b[0;32mpass\u001b[0m\u001b[0;34m\u001b[0m\u001b[0;34m\u001b[0m\u001b[0m\n\u001b[1;32m      5\u001b[0m \u001b[0;32melse\u001b[0m\u001b[0;34m:\u001b[0m\u001b[0;34m\u001b[0m\u001b[0;34m\u001b[0m\u001b[0m\n\u001b[0;32m----> 6\u001b[0;31m     \u001b[0;32mraise\u001b[0m\u001b[0;34m(\u001b[0m\u001b[0mValueError\u001b[0m\u001b[0;34m,\u001b[0m \u001b[0;34m\"missing taps in your data!\"\u001b[0m\u001b[0;34m)\u001b[0m\u001b[0;34m\u001b[0m\u001b[0;34m\u001b[0m\u001b[0m\n\u001b[0m",
      "\u001b[0;31mTypeError\u001b[0m: exceptions must derive from BaseException"
     ]
    }
   ],
   "source": [
    "a = 31\n",
    "    \n",
    "if type(a) != int:\n",
    "    pass\n",
    "else:\n",
    "    raise(ValueError, \"missing taps in your data!\")"
   ]
  },
  {
   "cell_type": "code",
   "execution_count": null,
   "metadata": {},
   "outputs": [],
   "source": []
  }
 ],
 "metadata": {
  "kernelspec": {
   "display_name": "Python 3",
   "language": "python",
   "name": "python3"
  },
  "language_info": {
   "codemirror_mode": {
    "name": "ipython",
    "version": 3
   },
   "file_extension": ".py",
   "mimetype": "text/x-python",
   "name": "python",
   "nbconvert_exporter": "python",
   "pygments_lexer": "ipython3",
   "version": "3.7.3"
  }
 },
 "nbformat": 4,
 "nbformat_minor": 4
}
