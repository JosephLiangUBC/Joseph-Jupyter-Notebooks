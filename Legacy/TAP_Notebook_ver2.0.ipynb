{
 "cells": [
  {
   "cell_type": "markdown",
   "metadata": {},
   "source": [
    "# Jupyter Notebook UI to graph your TAP data!\n",
    "\n",
    "Version 1.7 - Joseph Liang, Rankin Lab\n",
    "Updated:\n",
    "1. Upgraded folder path selection application\n",
    "2. Upgraded dataset management (less moving parts for end-user)\n",
    "3. output changed from tif -> png\n",
    "4. Added tap-correction function for missing taps (should be working now)\n",
    "5. Added plate column to evaluate plate-discrepancies\n",
    "6. Added separate graphing function for plate-discrepancies\n",
    "7. Added colour palette-setting function\n",
    "\n",
    "## Known bug: Step 2 an empty windows displays in Mac. May also apply to linux/windows.\n",
    "\n",
    "## Beginner Essentials:\n",
    "1. Shift-Enter to run each cell. After you run, you should see an output \"done step #\". If not, an error has occured\n",
    "2. When inputting your own code/revising the code, make sure you close all your quotation marks '' and brackets (), [], {}.\n",
    "3. Don't leave any commas (,) hanging! (make sure an object always follows a comma. If there is nothing after a comma, remove the comma!\n",
    "4. Learning to code? Each line of code is annotated to help you understand how this code works!\n",
    "\n",
    "## 3. Run all cells/steps sequentially, even the ones that do not need input\n",
    "\n",
    "## Steps that require input: #3, #6.1, #7"
   ]
  },
  {
   "cell_type": "markdown",
   "metadata": {},
   "source": [
    "# 1. Importing Packages Required (No input required, just run)"
   ]
  },
  {
   "cell_type": "code",
   "execution_count": 1,
   "metadata": {},
   "outputs": [
    {
     "name": "stdout",
     "output_type": "stream",
     "text": [
      "done step 1\n"
     ]
    }
   ],
   "source": [
    "import pandas as pd #<- package used to import and organize data\n",
    "import numpy as np #<- package used to import and organize data\n",
    "import math\n",
    "import os #<- package used to work with system file paths\n",
    "import seaborn as sns #<- package used to plot graphs\n",
    "from matplotlib import pyplot as plt #<- another package used to plot graphs\n",
    "from itertools import cycle #<- package used to iterate down rows (used in step 5 to add tap column)\n",
    "import ipywidgets as widgets #<- widget tool to generate button and tab for graphs\n",
    "from IPython.display import display #<- displays widgets\n",
    "from tkinter import Tk, filedialog #<- Tkinter is a GUI package\n",
    "print(\"done step 1\")"
   ]
  },
  {
   "cell_type": "markdown",
   "metadata": {},
   "source": [
    "# 2. Pick filepath (just run and click button from output)\n",
    "\n",
    "Run the following cell and click the button 'Select Folder' to pick a filepath.\n",
    "\n",
    "## Important: Later on, this script uses the total file path for each file to import and group data. That means if your folder has whatever your strain is named, the script will not work.\n",
    "\n",
    "(ex. if your folder has \"N2\" in it this script sees all files inside this folder as having the \"N2\" search key)\n",
    "\n",
    "## An easy fix is to just rename your folder to something else (make your strains lower-case, or just have the date)"
   ]
  },
  {
   "cell_type": "code",
   "execution_count": 2,
   "metadata": {},
   "outputs": [
    {
     "data": {
      "application/vnd.jupyter.widget-view+json": {
       "model_id": "081b6ee3428e4315b8d70613fa559f41",
       "version_major": 2,
       "version_minor": 0
      },
      "text/plain": [
       "Button(description='Select Folder', style=ButtonStyle())"
      ]
     },
     "metadata": {},
     "output_type": "display_data"
    },
    {
     "name": "stderr",
     "output_type": "stream",
     "text": [
      "1   HIToolbox                           0x0000000192c685c8 _ZN15MenuBarInstance22EnsureAutoShowObserverEv + 120\n",
      "2   HIToolbox                           0x0000000192c68188 _ZN15MenuBarInstance14EnableAutoShowEv + 60\n",
      "3   HIToolbox                           0x0000000192c0b310 SetMenuBarObscured + 372\n",
      "4   HIToolbox                           0x0000000192c0aee8 _ZN13HIApplication15HandleActivatedEP14OpaqueEventRefhP15OpaqueWindowPtrh + 172\n",
      "5   HIToolbox                           0x0000000192c04fcc _ZN13HIApplication13EventObserverEjP14OpaqueEventRefPv + 296\n",
      "6   HIToolbox                           0x0000000192bcbcd0 _NotifyEventLoopObservers + 176\n",
      "7   HIToolbox                           0x0000000192c0496c AcquireEventFromQueue + 432\n",
      "8   HIToolbox                           0x0000000192bf3c84 ReceiveNextEventCommon + 320\n",
      "9   HIToolbox                           0x0000000192bf3b2c _BlockUntilNextEventMatchingListInModeWithFilter + 72\n",
      "10  AppKit                              0x000000018c799838 _DPSNextEvent + 632\n",
      "11  AppKit                              0x000000018c7989c8 -[NSApplication(NSEvent) _nextEventMatchingEventMask:untilDate:inMode:dequeue:] + 728\n",
      "12  libtk8.6.dylib                      0x0000000179bc4ac8 TkMacOSXEventsCheckProc + 308\n",
      "13  libtcl8.6.dylib                     0x0000000179e91050 Tcl_DoOneEvent + 268\n",
      "14  libtk8.6.dylib                      0x0000000179bbc480 -[TKApplication(TKInit) applicationDidFinishLaunching:] + 212\n",
      "15  CoreFoundation                      0x000000018950a560 __CFNOTIFICATIONCENTER_IS_CALLING_OUT_TO_AN_OBSERVER__ + 148\n",
      "16  CoreFoundation                      0x00000001895a8044 ___CFXRegistrationPost_block_invoke + 88\n",
      "17  CoreFoundation                      0x00000001895a7f8c _CFXRegistrationPost + 440\n",
      "18  CoreFoundation                      0x00000001894dbb64 _CFXNotificationPost + 708\n",
      "19  Foundation                          0x000000018a3cb38c -[NSNotificationCenter postNotificationName:object:userInfo:] + 88\n",
      "20  AppKit                              0x000000018c7a0c24 -[NSApplication _postDidFinishNotification] + 284\n",
      "21  AppKit                              0x000000018c7a09d4 -[NSApplication _sendFinishLaunchingNotification] + 172\n",
      "22  AppKit                              0x000000018c799bdc _DPSNextEvent + 1564\n",
      "23  AppKit                              0x000000018c7989c8 -[NSApplication(NSEvent) _nextEventMatchingEventMask:untilDate:inMode:dequeue:] + 728\n",
      "24  libtk8.6.dylib                      0x0000000179bc4900 TkMacOSXEventsSetupProc + 152\n",
      "25  libtcl8.6.dylib                     0x0000000179e91008 Tcl_DoOneEvent + 196\n",
      "26  libtk8.6.dylib                      0x0000000179bbcb28 TkpInit + 416\n",
      "27  libtk8.6.dylib                      0x0000000179b3407c Initialize + 2292\n",
      "28  _tkinter.cpython-311-darwin.so      0x0000000142da2368 Tcl_AppInit + 92\n",
      "29  _tkinter.cpython-311-darwin.so      0x0000000142da2000 Tkapp_New + 548\n",
      "30  _tkinter.cpython-311-darwin.so      0x0000000142da1dd8 _tkinter_create_impl + 268\n",
      "31  _tkinter.cpython-311-darwin.so      0x0000000142da1a10 _tkinter_create + 240\n",
      "32  Python                              0x00000001017064e4 cfunction_vectorcall_FASTCALL + 80\n",
      "33  Python                              0x00000001017c4d4c _PyEval_EvalFrameDefault + 52772\n",
      "34  Python                              0x00000001017ca89c _PyEval_Vector + 156\n",
      "35  Python                              0x00000001016a1db4 _PyObject_FastCallDictTstate + 96\n",
      "36  Python                              0x000000010172ecfc slot_tp_init + 180\n",
      "37  Python                              0x0000000101725678 type_call + 136\n",
      "38  Python                              0x00000001016a1a94 _PyObject_MakeTpCall + 128\n",
      "39  Python                              0x00000001017c4e34 _PyEval_EvalFrameDefault + 53004\n",
      "40  Python                              0x00000001017ca89c _PyEval_Vector + 156\n",
      "41  Python                              0x00000001017c7980 _PyEval_EvalFrameDefault + 64088\n",
      "42  Python                              0x00000001017ca89c _PyEval_Vector + 156\n",
      "43  Python                              0x00000001016a1db4 _PyObject_FastCallDictTstate + 96\n",
      "44  Python                              0x000000010172d340 slot_tp_call + 180\n",
      "45  Python                              0x00000001016a1a94 _PyObject_MakeTpCall + 128\n",
      "46  Python                              0x00000001017c4e34 _PyEval_EvalFrameDefault + 53004\n",
      "47  Python                              0x00000001017ca89c _PyEval_Vector + 156\n",
      "48  Python                              0x00000001016a5d6c method_vectorcall + 164\n",
      "49  Python                              0x00000001017c7980 _PyEval_EvalFrameDefault + 64088\n",
      "50  Python                              0x00000001017ca89c _PyEval_Vector + 156\n",
      "51  Python                              0x00000001016a1db4 _PyObject_FastCallDictTstate + 96\n",
      "52  Python                              0x000000010172d340 slot_tp_call + 180\n",
      "53  Python                              0x00000001016a1a94 _PyObject_MakeTpCall + 128\n",
      "54  Python                              0x00000001017c4e34 _PyEval_EvalFrameDefault + 53004\n",
      "55  Python                              0x00000001017ca89c _PyEval_Vector + 156\n",
      "56  Python                              0x00000001017c7980 _PyEval_EvalFrameDefault + 64088\n",
      "57  Python                              0x00000001016c03e4 gen_send_ex2 + 204\n",
      "58  Python                              0x00000001017bba7c _PyEval_EvalFrameDefault + 15188\n",
      "59  Python                              0x00000001016c03e4 gen_send_ex2 + 204\n",
      "60  Python                              0x00000001017bba7c _PyEval_EvalFrameDefault + 15188\n",
      "61  Python                              0x00000001016c03e4 gen_send_ex2 + 204\n",
      "62  _asyncio.cpython-311-darwin.so      0x00000001011004e8 task_step_impl + 440\n",
      "63  _asyncio.cpython-311-darwin.so      0x00000001011002bc task_step + 52\n",
      "64  _asyncio.cpython-311-darwin.so      0x0000000101100d5c task_wakeup + 148\n",
      "65  Python                              0x0000000101706904 cfunction_vectorcall_O + 92\n",
      "66  Python                              0x00000001017f04f4 _PyObject_VectorcallTstate.4587 + 96\n",
      "67  Python                              0x00000001017f03dc context_run + 216\n",
      "68  Python                              0x0000000101706644 cfunction_vectorcall_FASTCALL_KEYWORDS + 80\n",
      "69  Python                              0x00000001017c7980 _PyEval_EvalFrameDefault + 64088\n",
      "70  Python                              0x00000001017b6cac PyEval_EvalCode + 276\n",
      "71  Python                              0x00000001017b150c builtin_exec + 428\n",
      "72  Python                              0x0000000101706644 cfunction_vectorcall_FASTCALL_KEYWORDS + 80\n",
      "73  Python                              0x00000001017c4d4c _PyEval_EvalFrameDefault + 52772\n",
      "74  Python                              0x00000001017ca89c _PyEval_Vector + 156\n",
      "75  Python                              0x000000010185784c pymain_run_module + 256\n",
      "76  Python                              0x00000001018572ec Py_RunMain + 1784\n",
      "77  Python                              0x000000010185849c pymain_main + 52\n",
      "78  Python                              0x0000000101858cd4 Py_BytesMain + 40\n",
      "79  dyld                                0x000000018910be50 start + 2544\n",
      "2023-06-26 04:34:44.986 Python[7085:12874348] +[CATransaction synchronize] called within transaction\n"
     ]
    },
    {
     "name": "stdout",
     "output_type": "stream",
     "text": [
      "/Users/Joseph/Desktop/N2_parafilm_micropub/ByPlate\n",
      "done step 2\n"
     ]
    }
   ],
   "source": [
    "### Select Folder App - After you run, you can select your folder for filepath\n",
    "button = widgets.Button(description = 'Select Folder') #<- Creates a button variable\n",
    "display(button) #<- displays this button on output\n",
    "def select_folder(b): #<- This is an action. Requires a variable, so I put in an arbitrary one 'b'\n",
    "    global folder_path #<- sets a variable as a global variable, not just within this action\n",
    "    Tk().withdraw() #<- Tkinter likes to create annoying empty windows. This removes them\n",
    "    folder_path = filedialog.askdirectory() #<- Opens up a file explorer window, and determines folder path\n",
    "    Tk().update()#<- below\n",
    "    Tk().destroy()#<- this and the line above it removes the file explorer window after a selection is made\n",
    "    print(folder_path) #<- this helps confirm that this action was performed\n",
    "    print('done step 2')\n",
    "button.on_click(select_folder) #<- describes what happens when you click on this button"
   ]
  },
  {
   "cell_type": "markdown",
   "metadata": {},
   "source": [
    "# 3. User Defined Variables (Add input here)\n",
    "\n",
    "Here, we add some constants to help you blaze through this code.\n",
    "\n",
    "3.1: Number of taps is pretty self-explanatory. How any taps does your experiment have? put in that number + 1 (N+1)!\n",
    "\n",
    "This may be a bit confusing, but this is due to some coding syntax that you don't have to worry about.\n",
    "\n",
    "3.2: Change your ISI number. This will be reflected in the name/title of the output figure."
   ]
  },
  {
   "cell_type": "code",
   "execution_count": 3,
   "metadata": {},
   "outputs": [
    {
     "name": "stdout",
     "output_type": "stream",
     "text": [
      "[(1, (597.5, 602.5)), (2, (607.5, 612.5)), (3, (617.5, 622.5)), (4, (627.5, 632.5)), (5, (637.5, 642.5)), (6, (647.5, 652.5)), (7, (657.5, 662.5)), (8, (667.5, 672.5)), (9, (677.5, 682.5)), (10, (687.5, 692.5)), (11, (697.5, 702.5)), (12, (707.5, 712.5)), (13, (717.5, 722.5)), (14, (727.5, 732.5)), (15, (737.5, 742.5)), (16, (747.5, 752.5)), (17, (757.5, 762.5)), (18, (767.5, 772.5)), (19, (777.5, 782.5)), (20, (787.5, 792.5)), (21, (797.5, 802.5)), (22, (807.5, 812.5)), (23, (817.5, 822.5)), (24, (827.5, 832.5)), (25, (837.5, 842.5)), (26, (847.5, 852.5)), (27, (857.5, 862.5)), (28, (867.5, 872.5)), (29, (877.5, 882.5)), (30, (887.5, 892.5))]\n",
      "done step 3\n"
     ]
    }
   ],
   "source": [
    "\n",
    "number_of_taps = 30 ###<------ Taps in your experiment.\n",
    "\n",
    "number_taps = range(1, number_of_taps + 1)  #<- do not change this\n",
    "\n",
    "\n",
    "# if you have different ISIs in the same folder, then come back and change this \n",
    "# when you are graphing for the second set of data with the other ISI \n",
    "# (Generally data from same ISIs are graphed together)\n",
    "# If changing ISI mid-analysis, you can just skip straight to step 8 after running this cell again\n",
    "\n",
    "ISI = 10  ### <- What is your ISI? change accordingly\n",
    "first_tap = 600 ### <- when is your first tap? check your TRV files\n",
    "\n",
    "#Here, open up one of the trv files to determine the times for each of these taps. \n",
    "lower = np.arange(first_tap-2.5, first_tap-2.5+(number_of_taps*ISI), ISI) #(first tap, last tap+10s, ISI)\n",
    "upper = np.arange(first_tap+2.5, first_tap+2.5+(number_of_taps*ISI), ISI) #(first tap, last tap+10s, ISI)\n",
    "tolerances = list(zip(lower, upper)) \n",
    "taps = [i for i in range(1,number_of_taps+1)]\n",
    "\n",
    "#assign each tolerance to a tap number\n",
    "\n",
    "accurate_taps = list((zip(taps, tolerances)))\n",
    "print(accurate_taps)\n",
    "\n",
    "for pair in accurate_taps:\n",
    "   tap = pair[0]\n",
    "   tolerance = pair[1]\n",
    "   #print(\"tap \"+str(tap), \"tolerance=\"+str(tolerance))\n",
    "\n",
    "print(\"done step 3\")"
   ]
  },
  {
   "cell_type": "markdown",
   "metadata": {},
   "source": [
    "# 4. Constructing Filelist From Source File/Select File (Just run)"
   ]
  },
  {
   "cell_type": "code",
   "execution_count": 4,
   "metadata": {},
   "outputs": [
    {
     "name": "stdout",
     "output_type": "stream",
     "text": [
      "['/Users/Joseph/Desktop/N2_parafilm_micropub/ByPlate/Yes_Parafilm/20220820_093722/N2_P_8_10x2_t96h20C_600s30x10s_B_2022_08_20.trv', '/Users/Joseph/Desktop/N2_parafilm_micropub/ByPlate/Yes_Parafilm/20220820_090154/N2_P_2_10x2_t96h20C_600s30x10s_B_2022_08_20.trv', '/Users/Joseph/Desktop/N2_parafilm_micropub/ByPlate/Yes_Parafilm/20220820_101520/N2_7_10x2_t96h20C_600s30x10s_A_2022_08_20.trv', '/Users/Joseph/Desktop/N2_parafilm_micropub/ByPlate/Yes_Parafilm/20220820_085200/N2_P_3_10x2_t96h20C_600s30x10s_C_2022_08_20.trv', '/Users/Joseph/Desktop/N2_parafilm_micropub/ByPlate/Yes_Parafilm/20220820_093953/N2_P_1_10x2_t96h20C_600s30x10s_A_2022_08_20.trv', '/Users/Joseph/Desktop/N2_parafilm_micropub/ByPlate/Yes_Parafilm/20220913_143423/N2_P_1_10x2_t96h20C_600s30x10s_C_2022_09_13.trv', '/Users/Joseph/Desktop/N2_parafilm_micropub/ByPlate/Yes_Parafilm/20220913_144636/N2_P_2_10x2_t96h20C_600s30x10s_B_2022_09_13.trv', '/Users/Joseph/Desktop/N2_parafilm_micropub/ByPlate/Yes_Parafilm/20220820_092820/N2_P_9_10x2_t96h20C_600s30x10s_C_2022_08_20.trv', '/Users/Joseph/Desktop/N2_parafilm_micropub/ByPlate/Yes_Parafilm/20220913_150244/N2_P_5_10x2_t96h20C_600s30x10s_B_2022_09_13.trv', '/Users/Joseph/Desktop/N2_parafilm_micropub/ByPlate/Yes_Parafilm/20220913_145105/N2_P_4_10x2_t96h20C_600s30x10s_C_2022_09_13.trv', '/Users/Joseph/Desktop/N2_parafilm_micropub/ByPlate/Yes_Parafilm/20220820_091210/N2_P_6_10x2_t96h20C_600s30x10s_C_2022_08_20.trv', '/Users/Joseph/Desktop/N2_parafilm_micropub/ByPlate/Yes_Parafilm/20220913_160644/N2_P_9_10x2_t96h20C_600s30x10s_A_2022_09_13.trv', '/Users/Joseph/Desktop/N2_parafilm_micropub/ByPlate/Yes_Parafilm/20220913_153238/N2_P_3_10x2_t96h20C_600s30x10s_A_2022_09_13.trv', '/Users/Joseph/Desktop/N2_parafilm_micropub/ByPlate/Yes_Parafilm/20220820_095755/N2_4_10x2_t96h20C_600s30x10s_A_2022_08_20.trv', '/Users/Joseph/Desktop/N2_parafilm_micropub/ByPlate/Yes_Parafilm/20220913_152451/N2_P_8_10x2_t96h20C_600s30x10s_B_2022_09_13.trv', '/Users/Joseph/Desktop/N2_parafilm_micropub/ByPlate/Yes_Parafilm/20220820_092112/N2_P_5_10x2_t96h20C_600s30x10s_B_2022_08_20.trv', '/Users/Joseph/Desktop/N2_parafilm_micropub/ByPlate/Yes_Parafilm/20220913_155006/N2_P_6_10x2_t96h20C_600s30x10s_A_2022_09_13.trv', '/Users/Joseph/Desktop/N2_parafilm_micropub/ByPlate/Yes_Parafilm/20220913_151313/N2_P_7_10x2_t96h20C_600s30x10s_C_2022_09_13.trv', '/Users/Joseph/Desktop/N2_parafilm_micropub/ByPlate/No_Parafilm/20220913_134426/N2_NP_4_10x2_t96h20C_600s30x10s_C_2022_09_13.trv', '/Users/Joseph/Desktop/N2_parafilm_micropub/ByPlate/No_Parafilm/20220913_133858/N2_NP_1_10x2_t96h20C_600s30x10s_B_2022_09_13.trv', '/Users/Joseph/Desktop/N2_parafilm_micropub/ByPlate/No_Parafilm/20220913_141213/N2_NP_3_10x2_t96h20C_600s30x10s_B_2022_09_13.trv', '/Users/Joseph/Desktop/N2_parafilm_micropub/ByPlate/No_Parafilm/20220820_094727/N2_NP_3_10x2_t96h20C_600s30x10s_C_2022_08_20.trv', '/Users/Joseph/Desktop/N2_parafilm_micropub/ByPlate/No_Parafilm/20220820_095637/N2_NP_2_10x2_t96h20C_600s30x10s_B_2022_08_20.trv', '/Users/Joseph/Desktop/N2_parafilm_micropub/ByPlate/No_Parafilm/20220913_142954/N2_NP_7_10x2_t96h20C_600s30x10s_B_2022_09_13.trv', '/Users/Joseph/Desktop/N2_parafilm_micropub/ByPlate/No_Parafilm/20220913_132811/N2_NP_2_10x2_t96h20C_600s30x10s_C_2022_09_13.trv', '/Users/Joseph/Desktop/N2_parafilm_micropub/ByPlate/No_Parafilm/20220820_101243/N2_NP_5_10x2_t96h20C_600s30x10s_B_2022_08_20.trv', '/Users/Joseph/Desktop/N2_parafilm_micropub/ByPlate/No_Parafilm/20220820_105048/N2_NP_4_10x2_t96h20C_600s30x10s_A_2022_08_20.trv', '/Users/Joseph/Desktop/N2_parafilm_micropub/ByPlate/No_Parafilm/20220820_100319/N2_NP_6_10x2_t96h20C_600s30x10s_C_2022_08_20.trv', '/Users/Joseph/Desktop/N2_parafilm_micropub/ByPlate/No_Parafilm/20220820_110745/N2_NP_7_10x2_t96h20C_600s30x10s_A_2022_08_20.trv', '/Users/Joseph/Desktop/N2_parafilm_micropub/ByPlate/No_Parafilm/20220820_103415/N2_NP_1_10x2_t96h20C_600s30x10s_A_2022_08_20.trv', '/Users/Joseph/Desktop/N2_parafilm_micropub/ByPlate/No_Parafilm/20220913_151616/N2_NP_9_10x2_t96h20C_600s30x10s_A_2022_09_13.trv', '/Users/Joseph/Desktop/N2_parafilm_micropub/ByPlate/No_Parafilm/20220820_102924/N2_NP_8_10x2_t96h20C_600s30x10s_B_2022_08_20.trv', '/Users/Joseph/Desktop/N2_parafilm_micropub/ByPlate/No_Parafilm/20220820_101905/N2_NP_9_10x2_t96h20C_600s30x10s_C_2022_08_20.trv', '/Users/Joseph/Desktop/N2_parafilm_micropub/ByPlate/No_Parafilm/20220913_135604/N2_NP_3_10x2_t96h20C_600s30x10s_B_2022_09_13.trv', '/Users/Joseph/Desktop/N2_parafilm_micropub/ByPlate/No_Parafilm/20220913_141724/N2_NP_8_10x2_t96h20C_600s30x10s_C_2022_09_13.trv', '/Users/Joseph/Desktop/N2_parafilm_micropub/ByPlate/No_Parafilm/20220913_140036/N2_NP_6_10x2_t96h20C_600s30x10s_C_2022_09_13.trv']\n",
      "done step 4\n"
     ]
    }
   ],
   "source": [
    "#folder_path = '/Users/Joseph/Desktop/AVR14_10sISI' #- manual folder path if Tkinter is acting up\n",
    "\n",
    "os.chdir(folder_path) #<- setting your working directory so that your images will be saved here\n",
    "\n",
    "filelist = list() #<- empty list\n",
    "for root, dirs, files in os.walk(folder_path): #<- this for loop goes through your folder \n",
    "    for name in files:\n",
    "        if name.endswith('.trv'): #<- and takes out all files with a .trv (file that contains your data)\n",
    "            filepath = os.path.join(root, name) #<- Notes down the file path of each data file\n",
    "            filelist.append(filepath) #<- saves it into the list\n",
    "    \n",
    "print(filelist)\n",
    "print('done step 4')"
   ]
  },
  {
   "cell_type": "markdown",
   "metadata": {},
   "source": [
    "# 5. Process Data Function (Just Run)"
   ]
  },
  {
   "cell_type": "code",
   "execution_count": 11,
   "metadata": {},
   "outputs": [
    {
     "name": "stdout",
     "output_type": "stream",
     "text": [
      "done step 5\n"
     ]
    }
   ],
   "source": [
    "def ProcessData(strain): #<- an example of a user-defined function\n",
    "    strain_filelist = [x for x in filelist if strain in x] #<- goes through the list and filters for keyword\n",
    "    Strain_N = len(strain_filelist) #<- N per strain, or number of plates\n",
    "    Plate_N = 1\n",
    "    print(f'this strain/treatment has {Strain_N} plates') #<- will output as the first number\n",
    "    if Strain_N == 0:\n",
    "        raise AssertionError ('{} is not a good identifier'.format(strain))\n",
    "    else:\n",
    "        pass\n",
    "        try:\n",
    "            DF_Total = pd.concat([pd.read_csv(f, sep=' ', skiprows=0, header=None) for f in strain_filelist], ignore_index=True)  # <- imports your data files\n",
    "        except:\n",
    "            DF_Total = pd.concat([pd.read_csv(f, sep=' ', skiprows=4, header=None) for f in strain_filelist], ignore_index=True)\n",
    "        else:\n",
    "            DF_Total = pd.concat([pd.read_csv(f, sep=' ', skiprows=0, header=None) for f in strain_filelist],ignore_index=True)\n",
    "#     for f in strain_filelist:\n",
    "#         DF_Total = pd.concat(pd.read_csv(f, sep=' ', skiprows = 4, header = None))\n",
    "\n",
    "#         DF_Total = pd.concat([pd.read_csv(f, sep=' ', header = None) for f in strain_filelist],\n",
    "#                       ignore_index=True) #<- imports your data files\n",
    "\n",
    "        DF_Total = DF_Total.dropna(axis = 1) #<- cleans your data\n",
    "        DF_Total = DF_Total.rename( #<- more cleaning\n",
    "                    {0:'time',\n",
    "                    2:'rev_before',\n",
    "                    3:'no_rev',\n",
    "                    4:'stim_rev',\n",
    "                    7:'dist',\n",
    "                    8:'dist_std',\n",
    "                    9:'dist_stderr',\n",
    "                    11:'dist_0th',\n",
    "                    12:'dist_1st',\n",
    "                    13:'dist_2nd',\n",
    "                    14:'dist_3rd',\n",
    "                    15:'dist_100th',\n",
    "                    18:'dura',\n",
    "                    19:'dura_std',\n",
    "                    20:'dura_stderr',\n",
    "                    22:'dura_0th',\n",
    "                    23:'dura_1st',\n",
    "                    24:'dura_2nd',\n",
    "                    25:'dura_3rd',\n",
    "                    26:'dura_100th'}, axis=1)\n",
    "        #check function here for NaN Columns\n",
    "        DF_Total['plate'] = 0\n",
    "        DF_Total['prob'] = DF_Total['stim_rev']/ (DF_Total['no_rev'] + DF_Total['stim_rev']) #<- calculate prob\n",
    "        DF_Total['speed'] = DF_Total['dist']/DF_Total['dura'] #<- calculate speed\n",
    "        DF_Total_rows = int(DF_Total.shape[0])\n",
    "        print(f'this strain/treatment has {DF_Total_rows} total taps') #<- Outputs as the second number. Check if you are missing taps!\n",
    "        DF_Final = DF_Total[[\"time\", \"dura\", \"dist\", \"prob\", \"speed\", \"plate\"]].copy()\n",
    "\n",
    "    return{\n",
    "            'N': Strain_N,\n",
    "            'Confirm':DF_Total,\n",
    "            'Final': DF_Final}\n",
    "    print('done!')\n",
    "\n",
    "\n",
    "\n",
    "def assign_taps(DF, tolerances):\n",
    "    DF['taps'] = \"\"\n",
    "    for taps, tolerance in enumerate(tolerances): #[(99, 101), (109,111), ...]\n",
    "        tap_lower,tap_upper = tolerance\n",
    "        TimesInTapRange = DF['time'].between(tap_lower,tap_upper, inclusive='both')\n",
    "        DF.loc[TimesInTapRange,'taps'] = taps+1 #set the tap to i where times are between\n",
    "\n",
    "\n",
    "\n",
    "    \n",
    "def insert_plates(df):   \n",
    "    \"\"\"This function inserts a plate column into a dataframe.\n",
    "    \n",
    "    :param df: any dataframe\n",
    "    :type: pandas.core.frame.DataFrame\n",
    "    \n",
    "    :return: dataframe with a plate column\n",
    "    :type: pandas.core.frame.DataFrame\n",
    "    \"\"\"\n",
    "    df['plate']=(df['taps'] ==1).cumsum()\n",
    "\n",
    "\n",
    "            \n",
    "print('done step 5')"
   ]
  },
  {
   "cell_type": "markdown",
   "metadata": {},
   "source": [
    "# 6.1 Process Data (PLEASE READ, Add input here)"
   ]
  },
  {
   "cell_type": "markdown",
   "metadata": {},
   "source": [
    "Here is the hardest part - From your naming convention, you need to pick a unique identifier for each group.\n",
    "\n",
    "This means that all of names of your files for that strain should have that in common but is not commone with across all other files! If you did a good job naming your files and following a good naming convention, this should be easy.\n",
    "\n",
    "## Be careful and really look hard in your naming structure. Note you want an unique identifier in the entire file path for the same group of files. An easy mistake is to have the strain name in the overall folder name, in this case if you use your strain name as a keyword it would include all files in that folder!\n",
    "\n",
    "For example, if all your N2 files have a certain pattern like \"N2_5x4\" in this following example:\n",
    "'/Users/Joseph/Desktop/AVR14_10sISI_TapHab_0710_2019/N2/20190710_141740/N2_5x4_f94h20c_100s30x10s10s_C0710ab.trv'\n",
    "\n",
    "Then you need to set that identifier for the strain keyword:\n",
    "'Strain_1' = 'N2_5x4'\n",
    "\n",
    "## Depending on how many strains you are running for comparison, you may need to add/delete some lines!\n",
    "\n",
    "## You are not naming your data groups here, we have a step for that later!\n",
    "## Here, you want to note down ALL the strains you have in the folder\n",
    "\n",
    "If you have just 2 strains, add hashtags (#) in front of the lines you do not need.\n",
    "If you need more strains, just add more lines, following the same format!"
   ]
  },
  {
   "cell_type": "code",
   "execution_count": 12,
   "metadata": {},
   "outputs": [
    {
     "name": "stdout",
     "output_type": "stream",
     "text": [
      "done step 6.1\n"
     ]
    }
   ],
   "source": [
    "#Format: 'Strain_#'' = 'unique_identifier'\n",
    "\n",
    "### Make into dictionary\n",
    "StrainNames = {\n",
    "    'Strain_1' : 'No_Parafilm',  #<- each strain will be designated to a unique identifier here\n",
    "    'Strain_2' : 'Yes_Parafilm',\n",
    "    'Strain_3' : '',\n",
    "    'Strain_4' : '',\n",
    "    'Strain_5' : '',\n",
    "    'Strain_6' : '',\n",
    "    'Strain_7' : '', #<- empty entries are for those hardcore trackers that tracks this many strains\n",
    "    'Strain_8' : '',\n",
    "    'Strain_9' : '',\n",
    "    'Strain_10' : '',\n",
    "    'Strain_11' : '',\n",
    "    'Strain_12' : '',\n",
    "    'Strain_13' : '',\n",
    "    'Strain_14' : '',\n",
    "    'Strain_15' : '',}\n",
    "#...etc, etc\n",
    "\n",
    "print('done step 6.1')"
   ]
  },
  {
   "cell_type": "markdown",
   "metadata": {},
   "source": [
    "# 6.2 Process Data (just run this cell)"
   ]
  },
  {
   "cell_type": "code",
   "execution_count": 13,
   "metadata": {},
   "outputs": [
    {
     "name": "stdout",
     "output_type": "stream",
     "text": [
      "this strain/treatment has 18 plates\n",
      "this strain/treatment has 540 total taps\n",
      "this strain/treatment has 18 plates\n",
      "this strain/treatment has 540 total taps\n",
      "        time  dura   dist      prob     speed  plate taps\n",
      "0    599.930  2.73  0.626  0.787879  0.229304      1    1\n",
      "1    609.929  2.65  0.568  0.805556  0.214340      1    2\n",
      "2    619.962  2.33  0.586  0.756757  0.251502      1    3\n",
      "3    629.958  1.62  0.371  0.767442  0.229012      1    4\n",
      "4    639.945  1.72  0.361  0.585366  0.209884      1    5\n",
      "..       ...   ...    ...       ...       ...    ...  ...\n",
      "535  849.970  1.63  0.287  0.181818  0.176074     18   26\n",
      "536  859.931  1.70  0.424  0.219512  0.249412     18   27\n",
      "537  869.971  1.71  0.329  0.225000  0.192398     18   28\n",
      "538  879.970  1.55  0.332  0.302326  0.214194     18   29\n",
      "539  889.928  1.58  0.392  0.250000  0.248101     18   30\n",
      "\n",
      "[540 rows x 7 columns]\n",
      "done step 6.2\n"
     ]
    }
   ],
   "source": [
    "DataLists = [0]  #<- generates empty list. 0 is there to account for python's index starting at 0. \n",
    "# we want indexing to start at 1 (when I say #1 I want the first point, not the second point)\n",
    "\n",
    "for s in StrainNames.values(): #<- goes through the dictionary in step 6.1 and processes data\n",
    "    if not s == '':\n",
    "        DataLists.append(ProcessData(s)['Final']) #<- appends all data into a list of dataframes\n",
    "\n",
    "\n",
    "for df in DataLists[1:]: \n",
    "    assign_taps(df, tolerances)\n",
    "for df in DataLists[1:]:    \n",
    "    insert_plates(df)\n",
    "\n",
    "# print(x)\n",
    "print(DataLists[2])\n",
    "#print(len(DataLists))        \n",
    "print('done step 6.2')"
   ]
  },
  {
   "cell_type": "markdown",
   "metadata": {},
   "source": [
    "# 7. Grouping Data and Naming (Optional: Add input here)\n",
    "\n",
    "Here, you get to name your data groups/strain! Name your groups however you like under between the quotation marks for each strain.\n",
    "\n",
    "For example: If your Strain1 is N2 and you wish for the group to be called N2,\n",
    "your line should look like:\n",
    "\n",
    "DataLists[x].assign(dataset = 'N2')\n",
    "\n",
    "## Go back to step 6.1 to check which strain is which item on the DataLists.\n",
    "In this example, the first item on DataLists is N2.\n",
    "\n",
    "\n",
    "## Remember: Put your name in quotes. (ex: 'N2' and not N2)\n",
    "\n",
    "As default, the names are set to the unique identifier labels.\n",
    "\n",
    "## Depending on the number of strains you are running the comparison, you may have to delete/add lines of code (following the same format). \n",
    "## Remember to add/delete commas too.\n",
    "\n",
    "# If you want to change your groups, you do that here. \n",
    "For example, if you have 5 strains in your folder but only want to compare between 2 or 3 strains, designate that here and follow through with steps 6 and 7. Once you are done, come back to step 6 and change your groups again (You are going to have to change your graph titles for the second run-through though)!"
   ]
  },
  {
   "cell_type": "code",
   "execution_count": 14,
   "metadata": {},
   "outputs": [
    {
     "name": "stdout",
     "output_type": "stream",
     "text": [
      "        time  dura   dist      prob     speed  plate taps       dataset\n",
      "0    599.982  3.57  0.868  0.880952  0.243137      1    1   No_Parafilm\n",
      "1    609.939  2.78  0.703  0.675676  0.252878      1    2   No_Parafilm\n",
      "2    619.980  2.54  0.685  0.660377  0.269685      1    3   No_Parafilm\n",
      "3    629.938  2.10  0.548  0.537037  0.260952      1    4   No_Parafilm\n",
      "4    639.900  1.92  0.553  0.327586  0.288021      1    5   No_Parafilm\n",
      "..       ...   ...    ...       ...       ...    ...  ...           ...\n",
      "535  849.970  1.63  0.287  0.181818  0.176074     18   26  Yes_Parafilm\n",
      "536  859.931  1.70  0.424  0.219512  0.249412     18   27  Yes_Parafilm\n",
      "537  869.971  1.71  0.329  0.225000  0.192398     18   28  Yes_Parafilm\n",
      "538  879.970  1.55  0.332  0.302326  0.214194     18   29  Yes_Parafilm\n",
      "539  889.928  1.58  0.392  0.250000  0.248101     18   30  Yes_Parafilm\n",
      "\n",
      "[1080 rows x 8 columns]\n",
      "done step 7\n"
     ]
    }
   ],
   "source": [
    "TotalConcatenated = pd.concat([ #<- this function joins your data together with an extra column for which group \n",
    "                          DataLists[1].assign(dataset = StrainNames.get(\"Strain_1\")), \n",
    "                          DataLists[2].assign(dataset = StrainNames.get(\"Strain_2\"))\n",
    "#                           DataLists[3].assign(dataset = StrainNames.get(\"Strain_3\")),\n",
    "#                           DataLists[4].assign(dataset = StrainNames.get(\"Strain_4\")),\n",
    "#                           DataLists[5].assign(dataset = StrainNames.get(\"Strain_5\")),\n",
    "                          \n",
    "])\n",
    "# ...etc etc\n",
    "\n",
    "TotalConcatenated.reset_index(inplace=False)\n",
    "print(TotalConcatenated)\n",
    "TotalConcatenated.to_csv(\"output.csv\", encoding='utf-8', index=False)\n",
    "#if TotalConcatenated[\"taps\"].loc[ind] is not 1:\n",
    "#   TotalConcatenated[\"taps\"].loc[ind:indices[c+1]] = list(range(1,len(TotalConcatenated[\"taps\"].loc[ind:indices[c+1]])+1))\n",
    "# missing_taps(TotalConcatenated, accurate_taps, tolerances)\n",
    "\n",
    "print('done step 7')"
   ]
  },
  {
   "cell_type": "markdown",
   "metadata": {},
   "source": [
    "# Setting Colour Palette - Only run the below cell ONCE\n",
    "\n",
    "The following code sets the colour palette for the whole experiment - and then designate one colour to each strain. After this, if as you are graphing you take away some strains, you can do so with the colours still matching accordingly."
   ]
  },
  {
   "cell_type": "code",
   "execution_count": 16,
   "metadata": {},
   "outputs": [
    {
     "name": "stdout",
     "output_type": "stream",
     "text": [
      "palette is:{'No_Parafilm': (0.2980392156862745, 0.4470588235294118, 0.6901960784313725), 'Yes_Parafilm': (0.8666666666666667, 0.5176470588235295, 0.3215686274509804)}\n",
      "done setting colour palette\n"
     ]
    }
   ],
   "source": [
    "strains = TotalConcatenated['dataset'].unique()\n",
    "pal = dict(zip(strains, sns.color_palette(\"deep\", n_colors=len(strains))))\n",
    "print('palette is:' + str(pal))\n",
    "print('done setting colour palette')"
   ]
  },
  {
   "cell_type": "markdown",
   "metadata": {},
   "source": [
    "# 7.5: BONUS - Graph by plates to check for anomolies across each strain/treatment\n",
    "\n",
    "Here, we will be graphing each strain on their own by their individual plates - this will help us find any anomolies or outliers that we can then exclude!\n"
   ]
  },
  {
   "cell_type": "code",
   "execution_count": null,
   "metadata": {},
   "outputs": [],
   "source": [
    "Strain1_pal = sns.choose_colorbrewer_palette('sequential')\n",
    "# Strain2_pal = sns.choose_colorbrewer_palette('sequential')\n",
    "# Strain3_pal = sns.choose_colorbrewer_palette('sequential')\n",
    "# Strain4_pal = sns.choose_colorbrewer_palette('sequential')\n",
    "# Strain5_pal = sns.choose_colorbrewer_palette('sequential')\n",
    "# Strain6_pal = sns.choose_colorbrewer_palette('sequential')\n",
    "# Strain7_pal = sns.choose_colorbrewer_palette('sequential')\n",
    "# Strain8_pal = sns.choose_colorbrewer_palette('sequential')"
   ]
  },
  {
   "cell_type": "code",
   "execution_count": null,
   "metadata": {},
   "outputs": [],
   "source": [
    "StrainConcatenated = TotalConcatenated[\n",
    "    TotalConcatenated.dataset == StrainNames.get(\"Strain_1\")] #Change/dictate which strain you are analyzing\n",
    "StrainName = StrainNames.get(\"Strain_1\") #Also change this, for labeling purposes\n",
    "\n",
    "\n",
    "out1 = widgets.Output() #<- this is part of the code that helps display your graphs in tabs\n",
    "out2 = widgets.Output()\n",
    "out3 = widgets.Output()\n",
    "out4 = widgets.Output()\n",
    "\n",
    "tab = widgets.Tab(children = [out1, out2, out3, out4]) #<- more code to support tab display\n",
    "tab.set_title(0, 'Probability')\n",
    "tab.set_title(1, 'Distance')\n",
    "tab.set_title(2, 'Duration')\n",
    "tab.set_title(3, 'Speed')\n",
    "display(tab)\n",
    "\n",
    "plt.rcParams.update({'lines.markeredgewidth': 1})\n",
    "\n",
    "# Probability\n",
    "with out1:\n",
    "    plt.figure(linewidth = 2.5) #<- Make your figure lines THICCCC for clean display (posters)\n",
    "    plt.figure(figsize=(12,10)) #<- set your figure size (width, length)\n",
    "    plt.gca().xaxis.grid(False) #<- gets rid of x-axis markers to make data look clean \n",
    "    ax = sns.pointplot(x=\"taps\", #<- Here we use seaborn as our graphing package. \n",
    "                 y=\"prob\",  \n",
    "                 data = StrainConcatenated,\n",
    "                 hue = 'plate', #<- Here we use the extra column from step 6 to separate by group\n",
    "                 palette = Strain1_pal, #<- Change colour palette here if you like\n",
    "                 ci = 95) #<- Confidence interval. 95 = standard error\n",
    "    plt.xlabel(\"Taps\") #<- X-axis title\n",
    "    plt.ylabel(\"Probability\") #<- Y-Axis title\n",
    "    plt.title(f\"{StrainName} Probability of Tap Habituation, {ISI}ISI\") #<- Figure Title\n",
    "    plt.ylim(0,1)\n",
    "    ax.legend(loc = 'upper right', fontsize = '12') #<- location of your legend\n",
    "#     plt.savefig(f'{StrainName}_Probability_{ISI}ISI_ByPlate.png', format='png', dpi=900) #<- saves your file to your folder at certain DPI\n",
    "    plt.show()\n",
    "\n",
    "# Distance\n",
    "with out2:\n",
    "    plt.figure(linewidth = 2.5)\n",
    "    plt.figure(figsize=(12,10))\n",
    "    plt.gca().xaxis.grid(False)\n",
    "    ax = sns.pointplot(x=\"taps\", \n",
    "                 y=\"dist\", \n",
    "                 data = StrainConcatenated,\n",
    "                 hue = 'plate',\n",
    "                 palette = Strain1_pal,\n",
    "                 ci = 95)\n",
    "    plt.xlabel(\"Taps\", fontsize = '12')\n",
    "    plt.ylabel(\"Distance\", fontsize = '12')\n",
    "    plt.title(f\"{StrainName} Distance of Tap Habituation, {ISI}ISI\", fontsize = '16')\n",
    "    plt.ylim(0,1.5)\n",
    "    ax.legend(loc = 'upper right', fontsize = '12')\n",
    "#     plt.savefig(f'{StrainName}_Distance_{ISI}ISI_ByPlate.png', format='png', dpi=900)\n",
    "    plt.show()\n",
    "\n",
    "# Duration\n",
    "with out3:\n",
    "    plt.figure(linewidth = 2.5)\n",
    "    plt.figure(figsize=(12,10))\n",
    "    plt.gca().xaxis.grid(False)\n",
    "    ax = sns.pointplot(x=\"taps\", \n",
    "                 y=\"dura\", \n",
    "                 data = StrainConcatenated,\n",
    "                 hue = 'plate',\n",
    "                 palette = Strain1_pal,\n",
    "                 ci = 95)\n",
    "    plt.xlabel(\"Taps\", fontsize = '12')\n",
    "    plt.ylabel(\"Duration\", fontsize = '12')\n",
    "    plt.title(f\"{StrainName} Duration of Tap Habituation, {ISI}ISI\", fontsize = '16')\n",
    "    plt.ylim(0,3)\n",
    "    ax.legend(loc = 'upper right', fontsize = '12')\n",
    "#     plt.savefig(f'{StrainName}_Duration_{ISI}ISI_ByPlate.png', format='png', dpi=900)\n",
    "    plt.show()\n",
    "\n",
    "# Speed\n",
    "with out4:\n",
    "    plt.figure(linewidth = 2.5)\n",
    "    plt.figure(figsize=(12,10))\n",
    "    plt.gca().xaxis.grid(False)\n",
    "    ax = sns.pointplot(x=\"taps\", \n",
    "                 y=\"speed\", \n",
    "                 data = StrainConcatenated,\n",
    "                 hue = 'plate',\n",
    "                 palette = Strain1_pal,\n",
    "                 ci = 95)\n",
    "    plt.xlabel(\"Taps\", fontsize = '12')\n",
    "    plt.ylabel(\"Speed\", fontsize = '12')\n",
    "    plt.title(f\"{StrainName} Speed of Tap Habituation, {ISI}ISI\", fontsize = '16')\n",
    "    plt.ylim(0,0.5)\n",
    "    ax.legend(loc = 'upper right', fontsize = '12')\n",
    "#     plt.savefig(f'{StrainName}_Speed_{ISI}ISI.png_ByPlate', format='png', dpi=900)\n",
    "    plt.show()"
   ]
  },
  {
   "cell_type": "markdown",
   "metadata": {},
   "source": [
    "# 8. Graph Data (Probability, Distance, Duration, Speed of Tap Habituation)\n",
    "\n",
    "## Here, feel free to change the graph title and axis labels! Images are automatically saved in your folder with your data!\n",
    "\n",
    "Note: It has been agreed by the lab that distance is quite an outdated measure, and the three top measures we consider are:\n",
    "\n",
    "## probability, duration and speed."
   ]
  },
  {
   "cell_type": "code",
   "execution_count": 17,
   "metadata": {},
   "outputs": [
    {
     "data": {
      "application/vnd.jupyter.widget-view+json": {
       "model_id": "3fae943fe220487385440c7d4f5b0405",
       "version_major": 2,
       "version_minor": 0
      },
      "text/plain": [
       "Tab(children=(Output(), Output(), Output(), Output()), selected_index=0, titles=('Probability', 'Distance', 'D…"
      ]
     },
     "metadata": {},
     "output_type": "display_data"
    }
   ],
   "source": [
    "out1 = widgets.Output() #<- this is part of the code that helps display your graphs in tabs\n",
    "out2 = widgets.Output()\n",
    "out3 = widgets.Output()\n",
    "out4 = widgets.Output()\n",
    "\n",
    "tab = widgets.Tab(children = [out1, out2, out3, out4]) #<- more code to support tab display\n",
    "tab.set_title(0, 'Probability')\n",
    "tab.set_title(1, 'Distance')\n",
    "tab.set_title(2, 'Duration')\n",
    "tab.set_title(3, 'Speed')\n",
    "display(tab)\n",
    "\n",
    "plt.rcParams.update({'lines.markeredgewidth': 1})\n",
    "\n",
    "# Probability\n",
    "with out1:\n",
    "    plt.figure(linewidth = 2.5) #<- Make your figure lines THICCCC for clean display (posters)\n",
    "    plt.figure(figsize=(12,10)) #<- set your figure size (width, length)\n",
    "    plt.gca().xaxis.grid(False) #<- gets rid of x-axis markers to make data look clean \n",
    "    ax = sns.pointplot(x=\"taps\", #<- Here we use seaborn as our graphing package. \n",
    "                 y=\"prob\",  \n",
    "                 data = TotalConcatenated,\n",
    "                 hue = 'dataset', #<- Here we use the extra column from step 6 to separate by group\n",
    "                 palette = pal, #<- Change colour palette here if you like\n",
    "                 ci = 95) #<- Confidence interval. 95 = standard error\n",
    "    plt.xlabel(\"Taps\") #<- X-axis title\n",
    "    plt.ylabel(\"Probability\") #<- Y-Axis title\n",
    "    plt.title(f\"Probability of Tap Habituation, {ISI}ISI\") #<- Figure Title\n",
    "    plt.ylim(0,1)\n",
    "    ax.legend(loc = 'upper right', fontsize = '12') #<- location of your legend\n",
    "#     plt.savefig(f'Probability_{ISI}ISI.png', format='png', dpi=900) #<- saves your file to your folder at certain DPI\n",
    "    plt.show()\n",
    "\n",
    "# Distance\n",
    "with out2:\n",
    "    plt.figure(linewidth = 2.5)\n",
    "    plt.figure(figsize=(12,10))\n",
    "    plt.gca().xaxis.grid(False)\n",
    "    ax = sns.pointplot(x=\"taps\", \n",
    "                 y=\"dist\", \n",
    "                 data = TotalConcatenated,\n",
    "                 hue = 'dataset',\n",
    "                 palette = pal,\n",
    "                 ci = 68  #ci=68 for sem\n",
    "                      )\n",
    "    plt.xlabel(\"Taps\", fontsize = '12')\n",
    "    plt.ylabel(\"Distance\", fontsize = '12')\n",
    "    plt.title(f\"Distance of Tap Habituation, {ISI}ISI\", fontsize = '16')\n",
    "    plt.ylim(0,None)\n",
    "    ax.legend(loc = 'upper right', fontsize = '12')\n",
    "#     plt.savefig(f'Distance_{ISI}ISI.png', format='png', dpi=900)\n",
    "    plt.show()\n",
    "\n",
    "# Duration\n",
    "with out3:\n",
    "    plt.figure(linewidth = 2.5)\n",
    "    plt.figure(figsize=(12,10))\n",
    "    plt.gca().xaxis.grid(False)\n",
    "    ax = sns.pointplot(x=\"taps\", \n",
    "                 y=\"dura\", \n",
    "                 data = TotalConcatenated,\n",
    "                 hue = 'dataset',\n",
    "                 palette = pal,\n",
    "                 ci = 68  #ci=68 for sem\n",
    "                      )\n",
    "    plt.xlabel(\"Taps\", fontsize = '12')\n",
    "    plt.ylabel(\"Duration\", fontsize = '12')\n",
    "    plt.title(f\"Duration of Tap Habituation, {ISI}ISI\", fontsize = '16')\n",
    "    plt.ylim(0,None)\n",
    "    ax.legend(loc = 'upper right', fontsize = '12')\n",
    "#     plt.savefig(f'Duration_{ISI}ISI.png', format='png', dpi=900)\n",
    "    plt.show()\n",
    "\n",
    "# Speed\n",
    "with out4:\n",
    "    plt.figure(linewidth = 2.5)\n",
    "    plt.figure(figsize=(12,10))\n",
    "    plt.gca().xaxis.grid(False)\n",
    "    ax = sns.pointplot(x=\"taps\", \n",
    "                 y=\"speed\", \n",
    "                 data = TotalConcatenated,\n",
    "                 hue = 'dataset',\n",
    "                 palette = pal,\n",
    "                 ci = 68 #ci=68 for sem\n",
    "                      )\n",
    "    plt.xlabel(\"Taps\", fontsize = '12')\n",
    "    plt.ylabel(\"Speed\", fontsize = '12')\n",
    "    plt.title(f\"Speed of Tap Habituation, {ISI}ISI\", fontsize = '16')\n",
    "    plt.ylim(0,None)\n",
    "    ax.legend(loc = 'upper right', fontsize = '12')\n",
    "#     plt.savefig(f'Speed_{ISI}ISI.png', format='png', dpi=900)\n",
    "    plt.show()"
   ]
  },
  {
   "cell_type": "markdown",
   "metadata": {},
   "source": [
    "# Done!"
   ]
  },
  {
   "cell_type": "code",
   "execution_count": null,
   "metadata": {},
   "outputs": [],
   "source": []
  }
 ],
 "metadata": {
  "kernelspec": {
   "display_name": "Python 3 (ipykernel)",
   "language": "python",
   "name": "python3"
  },
  "language_info": {
   "codemirror_mode": {
    "name": "ipython",
    "version": 3
   },
   "file_extension": ".py",
   "mimetype": "text/x-python",
   "name": "python",
   "nbconvert_exporter": "python",
   "pygments_lexer": "ipython3",
   "version": "3.11.1"
  }
 },
 "nbformat": 4,
 "nbformat_minor": 4
}
