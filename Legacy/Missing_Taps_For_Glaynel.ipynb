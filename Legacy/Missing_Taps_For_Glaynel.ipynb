{
 "cells": [
  {
   "cell_type": "markdown",
   "metadata": {},
   "source": [
    "# Importing packages"
   ]
  },
  {
   "cell_type": "code",
   "execution_count": null,
   "metadata": {},
   "outputs": [],
   "source": [
    "import pandas as pd #<- package used to import and organize data\n",
    "import numpy as np #<- package used to import and organize data\n",
    "import os #<- package used to work with system file paths\n",
    "import seaborn as sns #<- package used to plot graphs\n",
    "from matplotlib import pyplot as plt #<- another package used to plot graphs\n",
    "from itertools import cycle #<- package used to iterate down rows (used in step 5 to add tap column)\n",
    "import ipywidgets as widgets #<- widget tool to generate button and tab for graphs\n",
    "from IPython.display import display #<- displays widgets\n",
    "from tkinter import Tk, filedialog #<- Tkinter is a GUI package\n",
    "print(\"done importing\")"
   ]
  },
  {
   "cell_type": "markdown",
   "metadata": {},
   "source": [
    "# Set folder path to import data files"
   ]
  },
  {
   "cell_type": "code",
   "execution_count": null,
   "metadata": {},
   "outputs": [],
   "source": [
    "folder_path = '/Users/Joseph/Desktop/AVR14_10sISI' #- manual folder path \n",
    "\n",
    "os.chdir(folder_path) #<- setting your working directory so that your images will be saved here\n",
    "\n",
    "filelist = list() #<- empty list\n",
    "for root, dirs, files in os.walk(folder_path): #<- this for loop goes through your folder \n",
    "    for name in files:\n",
    "        if name.endswith('.trv'): #<- and takes out all files with a .trv (file that contains your data)\n",
    "            filepath = os.path.join(root, name) #<- Notes down the file path of each data file\n",
    "            filelist.append(filepath) #<- saves it into the list\n",
    "    \n",
    "print(filelist)\n",
    "print('done step 4')"
   ]
  },
  {
   "cell_type": "markdown",
   "metadata": {},
   "source": [
    "# This is the process data function"
   ]
  },
  {
   "cell_type": "code",
   "execution_count": null,
   "metadata": {},
   "outputs": [],
   "source": [
    "def ProcessData(strain): #<- an example of a user-defined function\n",
    "    strain_filelist = [x for x in filelist if strain in x] #<- goes through the list and filters for keyword\n",
    "    Strain_N = len(strain_filelist) #<- N per strain, or number of plates\n",
    "    Plate_N = 1\n",
    "    print(f'this strain/treatment has {Strain_N} plates') #<- will output as the first number\n",
    "    if Strain_N == 0:\n",
    "        raise AssertionError ('{} is not a good identifier'.format(strain))\n",
    "    else:\n",
    "        pass\n",
    "#     for f in strain_filelist:\n",
    "#         DF_Total = pd.concat(pd.read_csv(f, sep=' ', skiprows = 4, header = None))\n",
    "        DF_Total = pd.concat([pd.read_csv(f, sep=' ', skiprows = 4, header = None) for f in strain_filelist],\n",
    "                      ignore_index=True) #<- imports your data files\n",
    "        DF_Total = DF_Total.dropna(axis = 1) #<- cleans your data\n",
    "        DF_Total = DF_Total.rename( #<- more cleaning\n",
    "                    {0:'time',\n",
    "                    2:'rev_before',\n",
    "                    3:'no_rev',\n",
    "                    4:'stim_rev',\n",
    "                    7:'dist',\n",
    "                    8:'dist_std',\n",
    "                    9:'dist_stderr',\n",
    "                    11:'dist_0th',\n",
    "                    12:'dist_1st',\n",
    "                    13:'dist_2nd',\n",
    "                    14:'dist_3rd',\n",
    "                    15:'dist_100th',\n",
    "                    18:'dura',\n",
    "                    19:'dura_std',\n",
    "                    20:'dura_stderr',\n",
    "                    22:'dura_0th',\n",
    "                    23:'dura_1st',\n",
    "                    24:'dura_2nd',\n",
    "                    25:'dura_3rd',\n",
    "                    26:'dura_100th'}, axis=1)\n",
    "        #check function here for NaN Columns\n",
    "        DF_Total['File_ID'] = 0\n",
    "        DF_Total['prob'] = DF_Total['stim_rev']/ (DF_Total['no_rev'] + DF_Total['stim_rev']) #<- calculate prob\n",
    "        DF_Total['speed'] = DF_Total['dist']/DF_Total['dura'] #<- calculate speed\n",
    "        DF_Total[\"taps\"] = np.nan #<- add a column called taps, the x axis for your graphs\n",
    "        taps = cycle(number_taps) \n",
    "        DF_Total['taps'] = [next(taps) for count in range(DF_Total.shape[0])]\n",
    "        DF_Total_rows = int(DF_Total.shape[0])\n",
    "        print(f'this strain/treatment has {DF_Total_rows} total taps') #<- Outputs as the second number. Check if you are missing taps!\n",
    "        DF_Final = DF_Total[[\"time\", \"taps\", \"dura\", \"dist\", \"prob\", \"speed\", \"File_ID\"]].copy()\n",
    "#         DF_Final = missing_taps(DF_Total[[\"time\", \"taps\", \"dura\", \"dist\", \"prob\", \"speed\"]].copy(), accurate_taps, tolerances) #<- Finally, clean data!\n",
    "#     if type(DF_Total_rows/number_of_taps) == int:\n",
    "#         pass\n",
    "#     else:\n",
    "#         raise ValueError (\"{} is missing taps in your data!\".format(strain))\n",
    "    return{\n",
    "            'N': Strain_N,\n",
    "            'Confirm':DF_Total,\n",
    "            'Final': DF_Final}\n",
    "    print('done!')\n",
    "\n"
   ]
  },
  {
   "cell_type": "markdown",
   "metadata": {},
   "source": [
    "# This is the missing-taps function"
   ]
  },
  {
   "cell_type": "code",
   "execution_count": null,
   "metadata": {},
   "outputs": [],
   "source": [
    "\n",
    "def missing_taps(df, accurate_taps, tolerances):\n",
    "    \"\"\"This functions checks a dataframe for missing taps and renumbers the tap\n",
    "    column accordingly.\n",
    "    \n",
    "    :param df: dataframe with columns time, tap, speed\n",
    "    :type: pandas.core.frame.DataFrame\n",
    "    :param accurate_taps: list  of tuples (tuple[0] is the tap number and tuple[1] is a tuple of the tolerance range)\n",
    "    :type: list\n",
    "    :param tolerances: list of tuples of the tolerance ranges\n",
    "    :type: list\n",
    "    \n",
    "    :return: dataframe with accurate tap numbers\n",
    "    :type: pandas.core.frame.DataFrame\n",
    "    \"\"\"\n",
    "    for time, tol in zip(df[\"time\"], tolerances):\n",
    "        lower_limit = tol[0]\n",
    "        upper_limit = tol[1]\n",
    "        print(lower_limit, time, upper_limit)\n",
    "        if time >= lower_limit and time <= upper_limit:\n",
    "            pass\n",
    "        else:\n",
    "            for pair in tolerances:\n",
    "                lower_limit = pair[0]\n",
    "                upper_limit = pair[1]\n",
    "                # find the tolerance that should correspond to this time\n",
    "                if time >= lower_limit and time <= upper_limit:\n",
    "                    # find index of accurate tolerance\n",
    "                    index = tolerances.index(pair)\n",
    "                    # find the corresponding tap number to the correct tolerance\n",
    "                    correct_tap_num = accurate_taps[index][0]\n",
    "                    # find the index of the time value with the wrong tap number\n",
    "                    index_wrong_tap = df.time[df.time == time].index.values.astype(int)[0]\n",
    "                    wrong_tap_num = df.taps[index_wrong_tap]\n",
    "                    print(\"Changing tap {} to tap {}\".format(wrong_tap_num, correct_tap_num))\n",
    "                    # replace the wrong tap number with the correct value\n",
    "                    df.loc[index_wrong_tap, \"taps\"] = correct_tap_num\n",
    "                    break\n",
    "    print('finish working on fixing taps')\n",
    "\n"
   ]
  },
  {
   "cell_type": "markdown",
   "metadata": {},
   "source": [
    "# Organize strains by file name (in this example, only N2)"
   ]
  },
  {
   "cell_type": "code",
   "execution_count": null,
   "metadata": {},
   "outputs": [],
   "source": [
    "### Make into dictionary\n",
    "StrainNames = {\n",
    "    'Strain_1' : 'N2',  #<- each strain will be designated to a unique identifier here\n",
    "    'Strain_2' : '',\n",
    "    'Strain_3' : '',\n",
    "    'Strain_4' : '',\n",
    "    'Strain_5' : '',\n",
    "    'Strain_6' : '',\n",
    "    'Strain_7' : '', #<- empty entries are for those hardcore trackers that tracks this many strains\n",
    "    'Strain_8' : '',\n",
    "    'Strain_9' : '',\n",
    "    'Strain_10' : '',\n",
    "    'Strain_11' : '',\n",
    "    'Strain_12' : '',\n",
    "    'Strain_13' : '',\n",
    "    'Strain_14' : '',\n",
    "    'Strain_15' : '',}\n",
    "#...etc, etc\n",
    "\n",
    "DataLists = [0]  #<- generates empty list. 0 is there to account for python's index starting at 0. \n",
    "# we want indexing to start at 1 (when I say #1 I want the first point, not the second point)\n",
    "\n",
    "for s in StrainNames.values(): #<- goes through the dictionary in step 6.1 and processes data\n",
    "    if not s == '':\n",
    "        DataLists.append(ProcessData(s)['Final']) #<- appends all data into a list of dataframes\n",
    "\n"
   ]
  }
 ],
 "metadata": {
  "kernelspec": {
   "display_name": "Python 3",
   "language": "python",
   "name": "python3"
  },
  "language_info": {
   "codemirror_mode": {
    "name": "ipython",
    "version": 3
   },
   "file_extension": ".py",
   "mimetype": "text/x-python",
   "name": "python",
   "nbconvert_exporter": "python",
   "pygments_lexer": "ipython3",
   "version": "3.7.5"
  }
 },
 "nbformat": 4,
 "nbformat_minor": 2
}
