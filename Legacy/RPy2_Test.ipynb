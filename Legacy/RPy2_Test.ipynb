{
 "cells": [
  {
   "cell_type": "code",
   "execution_count": 1,
   "id": "a4bebb95-d80e-439c-9cf9-efa8c74c7566",
   "metadata": {},
   "outputs": [
    {
     "name": "stdout",
     "output_type": "stream",
     "text": [
      "finish import\n"
     ]
    }
   ],
   "source": [
    "import rpy2.robjects as robjects\n",
    "import rpy2.robjects.packages as rpackages\n",
    "from rpy2.robjects.packages import importr\n",
    "from rpy2.robjects.vectors import StrVector\n",
    "print('finish import')"
   ]
  },
  {
   "cell_type": "code",
   "execution_count": 2,
   "id": "05f066a0-e4b4-4f4b-a049-86ebd995b39c",
   "metadata": {},
   "outputs": [
    {
     "name": "stdout",
     "output_type": "stream",
     "text": [
      "done\n"
     ]
    }
   ],
   "source": [
    "package_names = ('lme4', 'lmerTest', 'emmeans', \"geepack\", \"afex\", \"dplyr\", 'reticulate')\n",
    "\n",
    "if all(rpackages.isinstalled(x) for x in package_names):\n",
    "   have_package=True\n",
    "else:\n",
    "   have_package=False\n",
    "       \n",
    "if not have_package:\n",
    "       utils = importr(\"utils\")\n",
    "       utils.chooseCRANmirror(ind=1)\n",
    "       packages_to_install = [x for x in package_names if not rpackages.isinstalled(x)]\n",
    "       print(packages_to_install)\n",
    "       if len(packages_to_install)>0:\n",
    "           utils.install_packages(StrVector(packages_to_install))\n",
    "\n",
    "print(\"done\")"
   ]
  },
  {
   "cell_type": "code",
   "execution_count": 3,
   "id": "1bf74f14-0528-4c9d-bf3c-4330d78ea37e",
   "metadata": {},
   "outputs": [],
   "source": [
    "%load_ext rpy2.ipython"
   ]
  },
  {
   "cell_type": "code",
   "execution_count": null,
   "id": "c4fa0174-64d4-4d4a-b2ee-7f7d87e0e20f",
   "metadata": {},
   "outputs": [],
   "source": [
    "%%R\n",
    "library(lme4)\n",
    "library(lmerTest)\n",
    "data(dietox, package='geepack')\n",
    "m<-lmer('Weight ~ Time + (1+Time|Pig)', data=dietox)\n",
    "print(summary(m))"
   ]
  },
  {
   "cell_type": "code",
   "execution_count": 4,
   "id": "fc11ace1-c0ea-4e5c-993d-a0848d801f2d",
   "metadata": {},
   "outputs": [
    {
     "name": "stderr",
     "output_type": "stream",
     "text": [
      "R[write to console]: Loading required package: Matrix\n",
      "\n",
      "R[write to console]: ************\n",
      "Welcome to afex. For support visit: http://afex.singmann.science/\n",
      "\n",
      "R[write to console]: - Functions for ANOVAs: aov_car(), aov_ez(), and aov_4()\n",
      "- Methods for calculating p-values with mixed(): 'S', 'KR', 'LRT', and 'PB'\n",
      "- 'afex_aov' and 'mixed' objects can be passed to emmeans() for follow-up tests\n",
      "- NEWS: emmeans() for ANOVA models now uses model = 'multivariate' as default.\n",
      "- Get and set global package options with: afex_options()\n",
      "- Set orthogonal sum-to-zero contrasts globally: set_sum_contrasts()\n",
      "- For example analyses see: browseVignettes(\"afex\")\n",
      "************\n",
      "\n",
      "R[write to console]: \n",
      "Attaching package: ‘afex’\n",
      "\n",
      "\n",
      "R[write to console]: The following object is masked from ‘package:lme4’:\n",
      "\n",
      "    lmer\n",
      "\n",
      "\n",
      "R[write to console]: \n",
      "Attaching package: ‘dplyr’\n",
      "\n",
      "\n",
      "R[write to console]: The following objects are masked from ‘package:stats’:\n",
      "\n",
      "    filter, lag\n",
      "\n",
      "\n",
      "R[write to console]: The following objects are masked from ‘package:base’:\n",
      "\n",
      "    intersect, setdiff, setequal, union\n",
      "\n",
      "\n"
     ]
    },
    {
     "name": "stdout",
     "output_type": "stream",
     "text": [
      "\n",
      "    WARNING: The R package \"reticulate\" only fixed recently\n",
      "    an issue that caused a segfault when used with rpy2:\n",
      "    https://github.com/rstudio/reticulate/pull/1188\n",
      "    Make sure that you use a version of that package that includes\n",
      "    the fix.\n",
      "    "
     ]
    }
   ],
   "source": [
    "%%R\n",
    "library(lme4)\n",
    "library(afex)\n",
    "library(emmeans)\n",
    "library(dplyr)\n",
    "library(reticulate)\n",
    "fhch <- get(data(\"fhch2010\")) %>% # load data from afex %>% \n",
    "  filter(correct == TRUE) %>% # subset the data to correct answers \n",
    "  select(id, task, stimulus, item, rt, log_rt) # keep only used cols"
   ]
  },
  {
   "cell_type": "code",
   "execution_count": 5,
   "id": "8512257d-faaf-486a-95e0-57cc296b113a",
   "metadata": {},
   "outputs": [
    {
     "name": "stdout",
     "output_type": "stream",
     "text": [
      "   id   task stimulus   item    rt      log_rt\n",
      "1  N1 naming     word potted 1.091  0.08709471\n",
      "2  N1 naming     word engine 0.876 -0.13238919\n",
      "3  N1 naming     word  ideal 0.710 -0.34249031\n",
      "4  N1 naming  nonword  uares 1.210  0.19062036\n",
      "5  N1 naming  nonword   xazz 0.843 -0.17078832\n",
      "6  N1 naming     word   fill 0.785 -0.24207156\n",
      "7  N1 naming  nonword bounge 0.662 -0.41248972\n",
      "8  N1 naming  nonword  psems 0.713 -0.33827386\n",
      "9  N1 naming     word   jolt 0.750 -0.28768207\n",
      "10 N1 naming  nonword flepts 0.779 -0.24974423\n"
     ]
    }
   ],
   "source": [
    "%%R\n",
    "head(fhch, 10)"
   ]
  },
  {
   "cell_type": "code",
   "execution_count": 6,
   "id": "8915fdc8-ff95-44c7-9d7a-dad508c9dd8c",
   "metadata": {},
   "outputs": [
    {
     "name": "stdout",
     "output_type": "stream",
     "text": [
      "Linear mixed model fit by REML ['lmerMod']\n",
      "Formula: log_rt ~ 1 + task * stimulus + (1 | id) + (1 | item)\n",
      "   Data: fhch\n",
      "\n",
      "REML criterion at convergence: 7387.7\n",
      "\n",
      "Scaled residuals: \n",
      "    Min      1Q  Median      3Q     Max \n",
      "-6.0260 -0.6083 -0.1062  0.4883  5.2923 \n",
      "\n",
      "Random effects:\n",
      " Groups   Name        Variance Std.Dev.\n",
      " item     (Intercept) 0.003497 0.05914 \n",
      " id       (Intercept) 0.037428 0.19346 \n",
      " Residual             0.099088 0.31478 \n",
      "Number of obs: 12960, groups:  item, 600; id, 45\n",
      "\n",
      "Fixed effects:\n",
      "                           Estimate Std. Error t value\n",
      "(Intercept)                -0.35293    0.04378  -8.061\n",
      "tasklexdec                  0.34360    0.05857   5.866\n",
      "stimulusnonword             0.31202    0.00957  32.604\n",
      "tasklexdec:stimulusnonword -0.25856    0.01118 -23.135\n",
      "\n",
      "Correlation of Fixed Effects:\n",
      "            (Intr) tsklxd stmlsn\n",
      "tasklexdec  -0.743              \n",
      "stimlsnnwrd -0.109  0.060       \n",
      "tsklxdc:stm  0.069 -0.095 -0.638\n"
     ]
    }
   ],
   "source": [
    "%%R\n",
    "m <- lme4::lmer(\n",
    "  log_rt ~ 1 + task * stimulus + \n",
    "    (1 | id) +\n",
    "    (1 | item), \n",
    "  data = fhch\n",
    ")\n",
    "summary(m)"
   ]
  },
  {
   "cell_type": "code",
   "execution_count": 8,
   "id": "e5683ddc-39da-4dfd-ae64-a12bbfc0c367",
   "metadata": {},
   "outputs": [
    {
     "name": "stdout",
     "output_type": "stream",
     "text": [
      " task   stimulus   emmean     SE  df asymp.LCL asymp.UCL\n",
      " naming word     -0.35293 0.0438 Inf   -0.4387   -0.2671\n",
      " lexdec word     -0.00933 0.0392 Inf   -0.0862    0.0675\n",
      " naming nonword  -0.04091 0.0438 Inf   -0.1267    0.0449\n",
      " lexdec nonword   0.04413 0.0392 Inf   -0.0327    0.1210\n",
      "\n",
      "Degrees-of-freedom method: asymptotic \n",
      "Confidence level used: 0.95 \n"
     ]
    }
   ],
   "source": [
    "%%R\n",
    "emm <- emmeans(m, ~task*stimulus, lmer.df = \"a\")\n",
    "emm"
   ]
  },
  {
   "cell_type": "code",
   "execution_count": 10,
   "id": "eef385bd-3e57-421e-b3ee-cbb6a0d8b069",
   "metadata": {},
   "outputs": [
    {
     "name": "stdout",
     "output_type": "stream",
     "text": [
      " contrast                        estimate      SE  df z.ratio p.value\n",
      " naming word - lexdec word        -0.3436 0.05857 Inf  -5.866  <.0001\n",
      " naming word - naming nonword     -0.3120 0.00957 Inf -32.604  <.0001\n",
      " naming word - lexdec nonword     -0.3971 0.05877 Inf  -6.756  <.0001\n",
      " lexdec word - naming nonword      0.0316 0.05877 Inf   0.537  0.5911\n",
      " lexdec word - lexdec nonword     -0.0535 0.00894 Inf  -5.979  <.0001\n",
      " naming nonword - lexdec nonword  -0.0850 0.05858 Inf  -1.452  0.1759\n",
      "\n",
      "Degrees-of-freedom method: asymptotic \n",
      "P value adjustment: BH method for 6 tests \n"
     ]
    }
   ],
   "source": [
    "%%R\n",
    "pairs(emm, adjust = \"BH\")"
   ]
  },
  {
   "cell_type": "code",
   "execution_count": null,
   "id": "2a6b22e7-79fb-4fca-9542-f0b0326bf1ff",
   "metadata": {},
   "outputs": [],
   "source": []
  }
 ],
 "metadata": {
  "kernelspec": {
   "display_name": "Python 3 (ipykernel)",
   "language": "python",
   "name": "python3"
  },
  "language_info": {
   "codemirror_mode": {
    "name": "ipython",
    "version": 3
   },
   "file_extension": ".py",
   "mimetype": "text/x-python",
   "name": "python",
   "nbconvert_exporter": "python",
   "pygments_lexer": "ipython3",
   "version": "3.8.3"
  }
 },
 "nbformat": 4,
 "nbformat_minor": 5
}
