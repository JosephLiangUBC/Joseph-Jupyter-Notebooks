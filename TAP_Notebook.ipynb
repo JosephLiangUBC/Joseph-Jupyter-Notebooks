{
 "cells": [
  {
   "cell_type": "markdown",
   "metadata": {},
   "source": [
    "# Jupyter Notebook UI to graph your TAP data!\n",
    "\n",
    "Version 1.5 - Joseph Liang, Rankin Lab\n",
    "Updated:\n",
    "1. Upgraded folder path selection application\n",
    "2. Upgraded dataset management (less moving parts for end-user)\n",
    "3. output changed from tif -> png\n",
    "4. Added tap-correction function for missing taps (Still in progress - taken out for now)\n",
    "5. Added plate column to evaluate plate-discrepancies\n",
    "\n",
    "## Known bug: Step 2 an empty windows displays in Mac. May also apply to linux/windows.\n",
    "\n",
    "## Beginner Essentials:\n",
    "1. Shift-Enter to run each cell. After you run, you should see an output \"done step #\". If not, an error has occured\n",
    "2. When inputting your own code/revising the code, make sure you close all your quotation marks '' and brackets (), [], {}.\n",
    "3. Don't leave any commas (,) hanging! (make sure an object always follows a comma. If there is nothing after a comma, remove the comma!\n",
    "4. Learning to code? Each line of code is annotated to help you understand how this code works!\n",
    "\n",
    "## 3. Run all cells/steps sequentially, even the ones that do not need input\n",
    "\n",
    "## Steps that require input: #3, #6.1, #7"
   ]
  },
  {
   "cell_type": "markdown",
   "metadata": {},
   "source": [
    "# 1. Importing Packages Required (No input required, just run)"
   ]
  },
  {
   "cell_type": "code",
   "execution_count": 1,
   "metadata": {},
   "outputs": [
    {
     "name": "stdout",
     "output_type": "stream",
     "text": [
      "done step 1\n"
     ]
    }
   ],
   "source": [
    "import pandas as pd #<- package used to import and organize data\n",
    "import numpy as np #<- package used to import and organize data\n",
    "import os #<- package used to work with system file paths\n",
    "import seaborn as sns #<- package used to plot graphs\n",
    "from matplotlib import pyplot as plt #<- another package used to plot graphs\n",
    "from itertools import cycle #<- package used to iterate down rows (used in step 5 to add tap column)\n",
    "import ipywidgets as widgets #<- widget tool to generate button and tab for graphs\n",
    "from IPython.display import display #<- displays widgets\n",
    "from tkinter import Tk, filedialog #<- Tkinter is a GUI package\n",
    "print(\"done step 1\")"
   ]
  },
  {
   "cell_type": "markdown",
   "metadata": {},
   "source": [
    "# 2. Pick filepath (just run and click button from output)\n",
    "\n",
    "Run the following cell and click the button 'Select Folder' to pick a filepath.\n",
    "\n",
    "## Important: Later on, this script uses the total file path for each file to import and group data. That means if your folder has whatever your strain is named, the script will not work.\n",
    "\n",
    "(ex. if your folder has \"N2\" in it this script sees all files inside this folder as having the \"N2\" search key)\n",
    "\n",
    "## An easy fix is to just rename your folder to something else (make your strains lower-case, or just have the date)"
   ]
  },
  {
   "cell_type": "code",
   "execution_count": null,
   "metadata": {},
   "outputs": [],
   "source": [
    "### Select Folder App - After you run, you can select your folder for filepath\n",
    "button = widgets.Button(description = 'Select Folder') #<- Creates a button variable\n",
    "display(button) #<- displays this button on output\n",
    "def select_folder(b): #<- This is an action. Requires a variable, so I put in an arbitrary one 'b'\n",
    "    global folder_path #<- sets a variable as a global variable, not just within this action\n",
    "    Tk().withdraw() #<- Tkinter likes to create annoying empty windows. This removes them\n",
    "    folder_path = filedialog.askdirectory() #<- Opens up a file explorer window, and determines folder path\n",
    "    Tk().update()#<- below\n",
    "    Tk().destroy()#<- this and the line above it removes the file explorer window after a selection is made\n",
    "    print(folder_path) #<- this helps confirm that this action was performed\n",
    "    print('done step 2')\n",
    "button.on_click(select_folder) #<- describes what happens when you click on this button"
   ]
  },
  {
   "cell_type": "markdown",
   "metadata": {},
   "source": [
    "# 3. User Defined Variables (Add input here)\n",
    "\n",
    "Here, we add some constants to help you blaze through this code.\n",
    "\n",
    "3.1: Number of taps is pretty self-explanatory. How any taps does your experiment have? put in that number + 1 (N+1)!\n",
    "\n",
    "This may be a bit confusing, but this is due to some coding syntax that you don't have to worry about.\n",
    "\n",
    "3.2: Change your ISI number. This will be reflected in the name/title of the output figure."
   ]
  },
  {
   "cell_type": "code",
   "execution_count": 2,
   "metadata": {},
   "outputs": [
    {
     "name": "stdout",
     "output_type": "stream",
     "text": [
      "done step 3\n"
     ]
    }
   ],
   "source": [
    "\n",
    "number_of_taps = 30 ###<------ Taps in your experiment.\n",
    "\n",
    "number_taps = range(1, number_of_taps + 1)  #<- do not change this\n",
    "\n",
    "\n",
    "# if you have different ISIs in the same folder, then come back and change this \n",
    "# when you are graphing for the second set of data with the other ISI \n",
    "# (Generally data from same ISIs are graphed together)\n",
    "# If changing ISI mid-analysis, you can just skip straight to step 8 after running this cell again\n",
    "\n",
    "ISI = 10  ### <- What is your ISI? change accordingly\n",
    "\n",
    "# Here, open up one of the trv files to determine the times for each of these taps. \n",
    "#lower = np.arange(99, 399, ISI) #(first tap, last tap+10s, ISI)\n",
    "#upper = np.arange(101, 401, ISI) #(first tap, last tap+10s, ISI)\n",
    "#tolerances = list(zip(lower, upper)) \n",
    "#taps = [i for i in range(1,31)]\n",
    "\n",
    "# assign each tolerance to a tap number\n",
    "\n",
    "#accurate_taps = list((zip(taps, tolerances)))\n",
    "\n",
    "#for pair in accurate_taps:\n",
    "#    tap = pair[0]\n",
    "#    tolerance = pair[1]\n",
    "#    print(\"tap \"+str(tap), \"tolerance=\"+str(tolerance))\n",
    "\n",
    "print(\"done step 3\")"
   ]
  },
  {
   "cell_type": "markdown",
   "metadata": {},
   "source": [
    "# 4. Constructing Filelist From Source File/Select File (Just run)"
   ]
  },
  {
   "cell_type": "code",
   "execution_count": 3,
   "metadata": {},
   "outputs": [
    {
     "name": "stdout",
     "output_type": "stream",
     "text": [
      "['/Users/Joseph/Desktop/AVR14_10sISI/N2_5x4_f94h20c_100s30x10s10s_C0706aa.trv', '/Users/Joseph/Desktop/AVR14_10sISI/AVR14_10sISI_TapHab_0706_2019/pMEC7_C1/20190706_154901/MEC7C1_5x4_f94h20c_100s30x10s10s_C0706ga.trv', '/Users/Joseph/Desktop/AVR14_10sISI/AVR14_10sISI_TapHab_0706_2019/pMEC7_C1/20190706_162142/MEC7C1_5x4_f94h20C_100s30x10s10s_A0706ga.trv', '/Users/Joseph/Desktop/AVR14_10sISI/AVR14_10sISI_TapHab_0706_2019/pAVR14_C4/20190706_151355/AVR14C4_5x4_f94h20C_100s30x10s10s_A0706ba.trv', '/Users/Joseph/Desktop/AVR14_10sISI/AVR14_10sISI_TapHab_0706_2019/pMEC7_C5/20190706_160037/MEC7C5_5x4_f94h20C_100s30x10s10s_B0706hc.trv', '/Users/Joseph/Desktop/AVR14_10sISI/AVR14_10sISI_TapHab_0706_2019/pMEC7_C5/20190706_150445/MEC7C5_5x4_f94h20c_100s30x10s10s_C0706ha.trv', '/Users/Joseph/Desktop/AVR14_10sISI/AVR14_10sISI_TapHab_0706_2019/pMEC7_C5/20190706_155800/MEC7C5_5x4_f94h20C_100s30x10s10s_A0706hb.trv', '/Users/Joseph/Desktop/AVR14_10sISI/AVR14_10sISI_TapHab_0706_2019/pMEC7_C2/20190706_161817/MEC7C2_5x4_f94h20C_100s30x10s10s_B0706ib.trv', '/Users/Joseph/Desktop/AVR14_10sISI/AVR14_10sISI_TapHab_0706_2019/pMEC7_C2/20190706_153307/MEC7C2_5x4_f94h20c_100s30x10s10s_C0706ia.trv', '/Users/Joseph/Desktop/AVR14_10sISI/AVR14_10sISI_TapHab_0706_2019/N2/20190706_151931/N2_5x4_f94h20c_100s30x10s10s_C0706aa.trv', '/Users/Joseph/Desktop/AVR14_10sISI/AVR14_10sISI_TapHab_0706_2019/N2/20190706_161010/N2_5x4_f94h20C_100s30x10s10s_A0706ab.trv', '/Users/Joseph/Desktop/AVR14_10sISI/AVR14_10sISI_TapHab_0706_2019/N2/20190706_161010/N2_5x4_f94h20C_100s30x10s10s_A0706ab copy.trv', '/Users/Joseph/Desktop/AVR14_10sISI/AVR14_10sISI_TapHab_0706_2019/pAVR14_C1/20190706_164103/AVR14C1_5x4_f94h20C_100s30x10s10s_B0706db.trv', '/Users/Joseph/Desktop/AVR14_10sISI/AVR14_10sISI_TapHab_0706_2019/pAVR14_C1/20190706_153008/AVR14C1_5x4_f94h20C_100s30x10s10s_A0706da.trv', '/Users/Joseph/Desktop/AVR14_10sISI/AVR14_10sISI_TapHab_0706_2019/pAVR14_C6/20190706_154330/AVR14C6_5x4_f94h20C_100s30x10s10s_A0706eb.trv', '/Users/Joseph/Desktop/AVR14_10sISI/AVR14_10sISI_TapHab_0706_2019/pAVR14_C6/20190706_163011/AVR14C6_5x4_f94h20C_100s30x10s10s_B0706da.trv', '/Users/Joseph/Desktop/AVR14_10sISI/AVR14_10sISI_TapHab_0706_2019/pMEC7_A1/20190706_155758/MEC7A1_5x4_f94h20c_100s30x10s10s_C0706fa.trv', '/Users/Joseph/Desktop/AVR14_10sISI/AVR14_10sISI_TapHab_0710_2019/pMec7_C1/20190710_142933/MEC7C1_5x4_f94h20c_100s30x10s10s_C0710cb.trv', '/Users/Joseph/Desktop/AVR14_10sISI/AVR14_10sISI_TapHab_0710_2019/pMec7_C1/20190710_145309/MEC7C1_5x4_f94h20C_100s30x10s10s_B0710cc.trv', '/Users/Joseph/Desktop/AVR14_10sISI/AVR14_10sISI_TapHab_0710_2019/pMec7_C1/20190710_142801/MEC7C1_5x4_f94h20C_100s30x10s10s_A0710ca.trv', '/Users/Joseph/Desktop/AVR14_10sISI/AVR14_10sISI_TapHab_0710_2019/pMec7_C5/20190710_140923/MEC7C5_5x4_f94h20c_100s30x10s10s_C0710ea.trv', '/Users/Joseph/Desktop/AVR14_10sISI/AVR14_10sISI_TapHab_0710_2019/pMec7_C5/20190710_145145/MEC7C5_5x4_f94h20C_100s30x10s10s_A0710ec.trv', '/Users/Joseph/Desktop/AVR14_10sISI/AVR14_10sISI_TapHab_0710_2019/pMec7_C5/20190710_143031/MEC7C5_5x4_f94h20C_100s30x10s10s_B0710eb.trv', '/Users/Joseph/Desktop/AVR14_10sISI/AVR14_10sISI_TapHab_0710_2019/pMec7_C2/20190710_141851/MEC7C2_5x4_f94h20C_100s30x10s10s_B0710da.trv', '/Users/Joseph/Desktop/AVR14_10sISI/AVR14_10sISI_TapHab_0710_2019/pMec7_C2/20190710_144156/MEC7C2_5x4_f94h20c_100s30x10s10s_C0710dc.trv', '/Users/Joseph/Desktop/AVR14_10sISI/AVR14_10sISI_TapHab_0710_2019/pMec7_C2/20190710_143923/MEC7C2_5x4_f94h20C_100s30x10s10s_A0710db.trv', '/Users/Joseph/Desktop/AVR14_10sISI/AVR14_10sISI_TapHab_0710_2019/N2/20190710_141740/N2_5x4_f94h20c_100s30x10s10s_C0710ab.trv', '/Users/Joseph/Desktop/AVR14_10sISI/AVR14_10sISI_TapHab_0710_2019/N2/20190710_141620/N2_5x4_f94h20C_100s30x10s10s_A0710aa.trv', '/Users/Joseph/Desktop/AVR14_10sISI/AVR14_10sISI_TapHab_0710_2019/N2/20190710_144254/N2_5x4_f94h20C_100s30x10s10s_B0710ac.trv', '/Users/Joseph/Desktop/AVR14_10sISI/AVR14_10sISI_TapHab_0710_2019/pMec7_A1/20190710_140747/MEC7A1_5x4_f94h20C_100s30x10s10s_B0710ba.trv', '/Users/Joseph/Desktop/AVR14_10sISI/AVR14_10sISI_TapHab_0710_2019/pMec7_A1/20190710_145221/MEC7A1_5x4_f94h20c_100s30x10s10s_C0710bb.trv']\n",
      "done step 4\n"
     ]
    }
   ],
   "source": [
    "folder_path = '/Users/Joseph/Desktop/AVR14_10sISI' #- manual folder path if Tkinter is acting up\n",
    "\n",
    "os.chdir(folder_path) #<- setting your working directory so that your images will be saved here\n",
    "\n",
    "filelist = list() #<- empty list\n",
    "for root, dirs, files in os.walk(folder_path): #<- this for loop goes through your folder \n",
    "    for name in files:\n",
    "        if name.endswith('.trv'): #<- and takes out all files with a .trv (file that contains your data)\n",
    "            filepath = os.path.join(root, name) #<- Notes down the file path of each data file\n",
    "            filelist.append(filepath) #<- saves it into the list\n",
    "    \n",
    "print(filelist)\n",
    "print('done step 4')"
   ]
  },
  {
   "cell_type": "markdown",
   "metadata": {},
   "source": [
    "# 5. Process Data Function (Just Run)"
   ]
  },
  {
   "cell_type": "code",
   "execution_count": 15,
   "metadata": {},
   "outputs": [
    {
     "name": "stdout",
     "output_type": "stream",
     "text": [
      "done step 5\n"
     ]
    }
   ],
   "source": [
    "def ProcessData(strain): #<- an example of a user-defined function\n",
    "    strain_filelist = [x for x in filelist if strain in x] #<- goes through the list and filters for keyword\n",
    "    Strain_N = len(strain_filelist) #<- N per strain, or number of plates\n",
    "    Plate_N = 1\n",
    "    print(f'this strain/treatment has {Strain_N} plates') #<- will output as the first number\n",
    "    if Strain_N == 0:\n",
    "        raise AssertionError ('{} is not a good identifier'.format(strain))\n",
    "    else:\n",
    "        pass\n",
    "#     for f in strain_filelist:\n",
    "#         DF_Total = pd.concat(pd.read_csv(f, sep=' ', skiprows = 4, header = None))\n",
    "        DF_Total = pd.concat([pd.read_csv(f, sep=' ', skiprows = 4, header = None) for f in strain_filelist],\n",
    "                      ignore_index=True) #<- imports your data files\n",
    "        DF_Total = DF_Total.dropna(axis = 1) #<- cleans your data\n",
    "        DF_Total = DF_Total.rename( #<- more cleaning\n",
    "                    {0:'time',\n",
    "                    2:'rev_before',\n",
    "                    3:'no_rev',\n",
    "                    4:'stim_rev',\n",
    "                    7:'dist',\n",
    "                    8:'dist_std',\n",
    "                    9:'dist_stderr',\n",
    "                    11:'dist_0th',\n",
    "                    12:'dist_1st',\n",
    "                    13:'dist_2nd',\n",
    "                    14:'dist_3rd',\n",
    "                    15:'dist_100th',\n",
    "                    18:'dura',\n",
    "                    19:'dura_std',\n",
    "                    20:'dura_stderr',\n",
    "                    22:'dura_0th',\n",
    "                    23:'dura_1st',\n",
    "                    24:'dura_2nd',\n",
    "                    25:'dura_3rd',\n",
    "                    26:'dura_100th'}, axis=1)\n",
    "        #check function here for NaN Columns\n",
    "        DF_Total['prob'] = DF_Total['stim_rev']/ (DF_Total['no_rev'] + DF_Total['stim_rev']) #<- calculate prob\n",
    "        DF_Total['speed'] = DF_Total['dist']/DF_Total['dura'] #<- calculate speed\n",
    "        DF_Total[\"taps\"] = np.nan #<- add a column called taps, the x axis for your graphs\n",
    "        taps = cycle(number_taps) \n",
    "        DF_Total['taps'] = [next(taps) for count in range(DF_Total.shape[0])]\n",
    "        DF_Total_rows = int(DF_Total.shape[0])\n",
    "        print(f'this strain/treatment has {DF_Total_rows} total taps') #<- Outputs as the second number. Check if you are missing taps!\n",
    "        DF_Final = DF_Total[[\"time\", \"taps\", \"dura\", \"dist\", \"prob\", \"speed\"]].copy()\n",
    "#         DF_Final = missing_taps(DF_Total[[\"time\", \"taps\", \"dura\", \"dist\", \"prob\", \"speed\"]].copy(), accurate_taps, tolerances) #<- Finally, clean data!\n",
    "#     if type(DF_Total_rows/number_of_taps) == int:\n",
    "#         pass\n",
    "#     else:\n",
    "#         raise ValueError (\"{} is missing taps in your data!\".format(strain))\n",
    "    return{\n",
    "            'N': Strain_N,\n",
    "            'Confirm':DF_Total,\n",
    "            'Final': DF_Final}\n",
    "    print('done!')\n",
    "\n",
    "# def missing_taps(df, accurate_taps, tolerances):\n",
    "#     \"\"\"This functions checks a dataframe for missing taps and renumbers the tap\n",
    "#     column accordingly.\n",
    "    \n",
    "#     :param df: dataframe with columns time, tap, speed\n",
    "#     :type: pandas.core.frame.DataFrame\n",
    "#     :param accurate_taps: list  of tuples (tuple[0] is the tap number and tuple[1] is a tuple of the tolerance range)\n",
    "#     :type: list\n",
    "#     :param tolerances: list of tuples of the tolerance ranges\n",
    "#     :type: list\n",
    "    \n",
    "#     :return: dataframe with accurate tap numbers\n",
    "#     :type: pandas.core.frame.DataFrame\n",
    "#     \"\"\"\n",
    "#     for time, tol in zip(df[\"time\"], tolerances):\n",
    "#         lower_limit = tol[0]\n",
    "#         upper_limit = tol[1]\n",
    "#         print(lower_limit, time, upper_limit)\n",
    "#         if time >= lower_limit and time <= upper_limit:\n",
    "#             pass\n",
    "#         else:\n",
    "#             for pair in tolerances:\n",
    "#                 lower_limit = pair[0]\n",
    "#                 upper_limit = pair[1]\n",
    "#                 # find the tolerance that should correspond to this time\n",
    "#                 if time >= lower_limit and time <= upper_limit:\n",
    "#                     # find index of accurate tolerance\n",
    "#                     index = tolerances.index(pair)\n",
    "#                     # find the corresponding tap number to the correct tolerance\n",
    "#                     correct_tap_num = accurate_taps[index][0]\n",
    "#                     # find the index of the time value with the wrong tap number\n",
    "#                     index_wrong_tap = df.time[df.time == time].index.values.astype(int)[0]\n",
    "#                     wrong_tap_num = df.taps[index_wrong_tap]\n",
    "#                     print(\"Changing tap {} to tap {}\".format(wrong_tap_num, correct_tap_num))\n",
    "#                     # replace the wrong tap number with the correct value\n",
    "#                     df.loc[index_wrong_tap, \"taps\"] = correct_tap_num\n",
    "#                     break\n",
    "#     print('finish working on fixing taps')\n",
    "\n",
    "    \n",
    "def insert_plates(df):   \n",
    "    \"\"\"This function inserts a plate column into a dataframe.\n",
    "    \n",
    "    :param df: any dataframe\n",
    "    :type: pandas.core.frame.DataFrame\n",
    "    \n",
    "    :return: dataframe with a plate column\n",
    "    :type: pandas.core.frame.DataFrame\n",
    "    \"\"\"\n",
    "    plate = 0 \n",
    "\n",
    "    # initialize plate column with nans\n",
    "    df[\"plate\"] = \"\"\n",
    "\n",
    "    # create array of start and end indices for each cycle of 30 taps. \n",
    "\n",
    "    for index, row in df.iterrows():\n",
    "        if len(df)-1 == index:\n",
    "            df[\"plate\"][index] = plate\n",
    "            print('yes')\n",
    "            break\n",
    "        if df[\"taps\"][index] == 1:\n",
    "            plate += 1\n",
    "            df[\"plate\"][index] = plate\n",
    "        else:\n",
    "            df[\"plate\"][index] = plate\n",
    "\n",
    "print('done step 5')"
   ]
  },
  {
   "cell_type": "markdown",
   "metadata": {},
   "source": [
    "# 6.1 Process Data (PLEASE READ, Add input here)"
   ]
  },
  {
   "cell_type": "markdown",
   "metadata": {},
   "source": [
    "Here is the hardest part - From your naming convention, you need to pick a unique identifier for each group.\n",
    "\n",
    "This means that all of names of your files for that strain should have that in common but is not commone with across all other files! If you did a good job naming your files and following a good naming convention, this should be easy.\n",
    "\n",
    "## Be careful and really look hard in your naming structure. Note you want an unique identifier in the entire file path for the same group of files. An easy mistake is to have the strain name in the overall folder name, in this case if you use your strain name as a keyword it would include all files in that folder!\n",
    "\n",
    "For example, if all your N2 files have a certain pattern like \"N2_5x4\" in this following example:\n",
    "'/Users/Joseph/Desktop/AVR14_10sISI_TapHab_0710_2019/N2/20190710_141740/N2_5x4_f94h20c_100s30x10s10s_C0710ab.trv'\n",
    "\n",
    "Then you need to set that identifier for the strain keyword:\n",
    "'Strain_1' = 'N2_5x4'\n",
    "\n",
    "## Depending on how many strains you are running for comparison, you may need to add/delete some lines!\n",
    "\n",
    "## You are not naming your data groups here, we have a step for that later!\n",
    "## Here, you want to note down ALL the strains you have in the folder\n",
    "\n",
    "If you have just 2 strains, add hashtags (#) in front of the lines you do not need.\n",
    "If you need more strains, just add more lines, following the same format!"
   ]
  },
  {
   "cell_type": "code",
   "execution_count": 5,
   "metadata": {},
   "outputs": [
    {
     "name": "stdout",
     "output_type": "stream",
     "text": [
      "done step 6.1\n"
     ]
    }
   ],
   "source": [
    "#Format: 'Strain_#'' = 'unique_identifier'\n",
    "\n",
    "### Make into dictionary\n",
    "StrainNames = {\n",
    "    'Strain_1' : 'N2',  #<- each strain will be designated to a unique identifier here\n",
    "    'Strain_2' : 'MEC7C5',\n",
    "    'Strain_3' : 'MEC7C1',\n",
    "    'Strain_4' : 'MEC7C2',\n",
    "    'Strain_5' : 'MEC7A1',\n",
    "    'Strain_6' : '',\n",
    "    'Strain_7' : '', #<- empty entries are for those hardcore trackers that tracks this many strains\n",
    "    'Strain_8' : '',\n",
    "    'Strain_9' : '',\n",
    "    'Strain_10' : '',\n",
    "    'Strain_11' : '',\n",
    "    'Strain_12' : '',\n",
    "    'Strain_13' : '',\n",
    "    'Strain_14' : '',\n",
    "    'Strain_15' : '',}\n",
    "#...etc, etc\n",
    "\n",
    "print('done step 6.1')"
   ]
  },
  {
   "cell_type": "markdown",
   "metadata": {},
   "source": [
    "# 6.2 Process Data (just run this cell)"
   ]
  },
  {
   "cell_type": "code",
   "execution_count": 18,
   "metadata": {},
   "outputs": [
    {
     "name": "stdout",
     "output_type": "stream",
     "text": [
      "this strain/treatment has 7 plates\n",
      "this strain/treatment has 208 total taps\n",
      "this strain/treatment has 6 plates\n",
      "this strain/treatment has 180 total taps\n",
      "this strain/treatment has 5 plates\n",
      "this strain/treatment has 150 total taps\n",
      "this strain/treatment has 5 plates\n",
      "this strain/treatment has 150 total taps\n",
      "this strain/treatment has 3 plates\n",
      "this strain/treatment has 90 total taps\n",
      "yes\n",
      "yes\n",
      "yes\n",
      "yes\n",
      "yes\n",
      "done step 6.2\n"
     ]
    },
    {
     "name": "stderr",
     "output_type": "stream",
     "text": [
      "/Users/Joseph/anaconda3/lib/python3.7/site-packages/ipykernel_launcher.py:119: SettingWithCopyWarning: \n",
      "A value is trying to be set on a copy of a slice from a DataFrame\n",
      "\n",
      "See the caveats in the documentation: http://pandas.pydata.org/pandas-docs/stable/user_guide/indexing.html#returning-a-view-versus-a-copy\n",
      "/Users/Joseph/anaconda3/lib/python3.7/site-packages/ipykernel_launcher.py:121: SettingWithCopyWarning: \n",
      "A value is trying to be set on a copy of a slice from a DataFrame\n",
      "\n",
      "See the caveats in the documentation: http://pandas.pydata.org/pandas-docs/stable/user_guide/indexing.html#returning-a-view-versus-a-copy\n",
      "/Users/Joseph/anaconda3/lib/python3.7/site-packages/ipykernel_launcher.py:114: SettingWithCopyWarning: \n",
      "A value is trying to be set on a copy of a slice from a DataFrame\n",
      "\n",
      "See the caveats in the documentation: http://pandas.pydata.org/pandas-docs/stable/user_guide/indexing.html#returning-a-view-versus-a-copy\n"
     ]
    }
   ],
   "source": [
    "DataLists = [0]  #<- generates empty list. 0 is there to account for python's index starting at 0. \n",
    "# we want indexing to start at 1 (when I say #1 I want the first point, not the second point)\n",
    "\n",
    "for s in StrainNames.values(): #<- goes through the dictionary in step 6.1 and processes data\n",
    "    if not s == '':\n",
    "        DataLists.append(ProcessData(s)['Final']) #<- appends all data into a list of dataframes\n",
    "\n",
    "\n",
    "#missing_taps(DataLists[1][90:120], accurate_taps, tolerances)\n",
    "#for df in DataLists[1:]:\n",
    "#    missing_taps(df, accurate_taps, tolerances)\n",
    "for df in DataLists[1:]: \n",
    "   insert_plates(df)\n",
    "# x = insert_plates(DataLists[1]) #something is wrong with mutating DataFrame here \n",
    "# print(x)\n",
    "#print(DataLists[1])\n",
    "#print(len(DataLists))        \n",
    "print('done step 6.2')"
   ]
  },
  {
   "cell_type": "code",
   "execution_count": 19,
   "metadata": {},
   "outputs": [
    {
     "name": "stdout",
     "output_type": "stream",
     "text": [
      "        time  taps  dura   dist      prob     speed plate\n",
      "90    99.983     1  0.00  0.000  0.000000       NaN     4\n",
      "91   109.982     2  2.23  0.767  0.750000  0.343946     4\n",
      "92   119.977     3  2.16  0.739  0.815789  0.342130     4\n",
      "93   129.992     4  1.70  0.527  0.688889  0.310000     4\n",
      "94   139.968     5  1.63  0.532  0.711111  0.326380     4\n",
      "95   149.967     6  2.22  0.720  0.490196  0.324324     4\n",
      "96   159.983     7  1.76  0.564  0.517241  0.320455     4\n",
      "97   169.942     8  1.52  0.472  0.600000  0.310526     4\n",
      "98   179.952     9  1.80  0.533  0.592593  0.296111     4\n",
      "99   189.973    10  1.77  0.536  0.545455  0.302825     4\n",
      "100  199.944    11  2.02  0.619  0.357143  0.306436     4\n",
      "101  209.941    12  2.02  0.630  0.488889  0.311881     4\n",
      "102  229.994    13  1.62  0.511  0.545455  0.315432     4\n",
      "103  239.946    14  1.38  0.362  0.510638  0.262319     4\n",
      "104  249.945    15  1.65  0.495  0.368421  0.300000     4\n",
      "105  259.982    16  1.57  0.447  0.474576  0.284713     4\n",
      "106  269.998    17  1.15  0.323  0.519231  0.280870     4\n",
      "107  279.971    18  1.68  0.451  0.410256  0.268452     4\n",
      "108  299.984    19  2.10  0.635  0.395833  0.302381     4\n",
      "109  309.978    20  1.71  0.448  0.266667  0.261988     4\n",
      "110  319.954    21  1.05  0.258  0.423077  0.245714     4\n",
      "111  329.949    22  1.39  0.375  0.510204  0.269784     4\n",
      "112  339.957    23  2.11  0.624  0.340426  0.295735     4\n",
      "113  349.961    24  1.56  0.455  0.489362  0.291667     4\n",
      "114  359.998    25  1.36  0.439  0.452381  0.322794     4\n",
      "115  369.971    26  1.24  0.363  0.384615  0.292742     4\n",
      "116  379.946    27  1.01  0.251  0.350000  0.248515     4\n",
      "117  389.947    28  1.99  0.599  0.325000  0.301005     4\n",
      "118   99.964    29  2.24  0.829  0.720000  0.370089     4\n",
      "119  109.962    30  2.61  0.893  0.720000  0.342146     4\n"
     ]
    }
   ],
   "source": [
    "print(DataLists[1][90:120])"
   ]
  },
  {
   "cell_type": "markdown",
   "metadata": {},
   "source": [
    "# 7. Grouping Data and Naming (Optional: Add input here)\n",
    "\n",
    "Here, you get to name your data groups/strain! Name your groups however you like under between the quotation marks for each strain.\n",
    "\n",
    "For example: If your Strain1 is N2 and you wish for the group to be called N2,\n",
    "your line should look like:\n",
    "\n",
    "DataLists[x].assign(dataset = 'N2')\n",
    "\n",
    "## Go back to step 6.1 to check which strain is which item on the DataLists.\n",
    "In this example, the first item on DataLists is N2.\n",
    "\n",
    "\n",
    "## Remember: Put your name in quotes. (ex: 'N2' and not N2)\n",
    "\n",
    "As default, the names are set to the unique identifier labels.\n",
    "\n",
    "## Depending on the number of strains you are running the comparison, you may have to delete/add lines of code (following the same format). \n",
    "## Remember to add/delete commas too.\n",
    "\n",
    "# If you want to change your groups, you do that here. \n",
    "For example, if you have 5 strains in your folder but only want to compare between 2 or 3 strains, designate that here and follow through with steps 6 and 7. Once you are done, come back to step 6 and change your groups again (You are going to have to change your graph titles for the second run-through though)!"
   ]
  },
  {
   "cell_type": "code",
   "execution_count": null,
   "metadata": {},
   "outputs": [],
   "source": [
    "TotalConcatenated = pd.concat([ #<- this function joins your data together with an extra column for which group \n",
    "                          DataLists[1].assign(dataset = StrainNames.get(\"Strain_1\")), \n",
    "                          DataLists[2].assign(dataset = StrainNames.get(\"Strain_2\")),\n",
    "                          DataLists[3].assign(dataset = StrainNames.get(\"Strain_3\")),\n",
    "                          DataLists[4].assign(dataset = StrainNames.get(\"Strain_4\")),\n",
    "                          DataLists[5].assign(dataset = StrainNames.get(\"Strain_5\")),\n",
    "                          \n",
    "])\n",
    "# ...etc etc\n",
    "print(TotalConcatenated)\n",
    "print('done step 7')"
   ]
  },
  {
   "cell_type": "markdown",
   "metadata": {},
   "source": [
    "# 8. Graph Data (Probability, Distance, Duration, Speed of Tap Habituation)\n",
    "\n",
    "## Here, feel free to change the graph title and axis labels! Images are automatically saved in your folder with your data!\n",
    "\n",
    "Note: It has been agreed by the lab that distance is quite an outdated measure, and the three top measures we consider are:\n",
    "\n",
    "## probability, duration and speed."
   ]
  },
  {
   "cell_type": "code",
   "execution_count": null,
   "metadata": {},
   "outputs": [],
   "source": [
    "out1 = widgets.Output() #<- this is part of the code that helps display your graphs in tabs\n",
    "out2 = widgets.Output()\n",
    "out3 = widgets.Output()\n",
    "out4 = widgets.Output()\n",
    "\n",
    "tab = widgets.Tab(children = [out1, out2, out3, out4]) #<- more code to support tab display\n",
    "tab.set_title(0, 'Probability')\n",
    "tab.set_title(1, 'Distance')\n",
    "tab.set_title(2, 'Duration')\n",
    "tab.set_title(3, 'Speed')\n",
    "display(tab)\n",
    "\n",
    "plt.rcParams.update({'lines.markeredgewidth': 1})\n",
    "\n",
    "# Probability\n",
    "with out1:\n",
    "    plt.figure(linewidth = 2.5) #<- Make your figure lines THICCCC for clean display (posters)\n",
    "    plt.figure(figsize=(12,10)) #<- set your figure size (width, length)\n",
    "    plt.gca().xaxis.grid(False) #<- gets rid of x-axis markers to make data look clean \n",
    "    ax = sns.pointplot(x=\"taps\", #<- Here we use seaborn as our graphing package. \n",
    "                 y=\"prob\",  \n",
    "                 data = TotalConcatenated,\n",
    "                 hue = 'dataset', #<- Here we use the extra column from step 6 to separate by group\n",
    "                 palette = 'deep', #<- Change colour palette here if you like\n",
    "                 ci = 95) #<- Confidence interval. 95 = standard error\n",
    "    plt.xlabel(\"Taps\") #<- X-axis title\n",
    "    plt.ylabel(\"Probability\") #<- Y-Axis title\n",
    "    plt.title(f\"Probability of Tap Habituation, {ISI}ISI\") #<- Figure Title\n",
    "    ax.legend(loc = 'upper right', fontsize = '12') #<- location of your legend\n",
    "    plt.savefig(f'Probability_{ISI}ISI.png', format='png', dpi=900) #<- saves your file to your folder at certain DPI\n",
    "    plt.show()\n",
    "\n",
    "# Distance\n",
    "with out2:\n",
    "    plt.figure(linewidth = 2.5)\n",
    "    plt.figure(figsize=(12,10))\n",
    "    plt.gca().xaxis.grid(False)\n",
    "    ax = sns.pointplot(x=\"taps\", \n",
    "                 y=\"dist\", \n",
    "                 data = TotalConcatenated,\n",
    "                 hue = 'dataset',\n",
    "                 palette = 'deep',\n",
    "                 ci = 95)\n",
    "    plt.xlabel(\"Taps\", fontsize = '12')\n",
    "    plt.ylabel(\"Distance\", fontsize = '12')\n",
    "    plt.title(f\"Distance of Tap Habituation, {ISI}ISI\", fontsize = '16')\n",
    "    ax.legend(loc = 'upper right', fontsize = '12')\n",
    "    plt.savefig(f'Distance_{ISI}ISI.png', format='png', dpi=900)\n",
    "    plt.show()\n",
    "\n",
    "# Duration\n",
    "with out3:\n",
    "    plt.figure(linewidth = 2.5)\n",
    "    plt.figure(figsize=(12,10))\n",
    "    plt.gca().xaxis.grid(False)\n",
    "    ax = sns.pointplot(x=\"taps\", \n",
    "                 y=\"dura\", \n",
    "                 data = TotalConcatenated,\n",
    "                 hue = 'dataset',\n",
    "                 palette = 'deep',\n",
    "                 ci = 95)\n",
    "    plt.xlabel(\"Taps\", fontsize = '12')\n",
    "    plt.ylabel(\"Duration\", fontsize = '12')\n",
    "    plt.title(f\"Duration of Tap Habituation, {ISI}ISI\", fontsize = '16')\n",
    "    ax.legend(loc = 'upper right', fontsize = '12')\n",
    "    plt.savefig(f'Duration_{ISI}ISI.png', format='png', dpi=900)\n",
    "    plt.show()\n",
    "\n",
    "# Speed\n",
    "with out4:\n",
    "    plt.figure(linewidth = 2.5)\n",
    "    plt.figure(figsize=(12,10))\n",
    "    plt.gca().xaxis.grid(False)\n",
    "    ax = sns.pointplot(x=\"taps\", \n",
    "                 y=\"speed\", \n",
    "                 data = TotalConcatenated,\n",
    "                 hue = 'dataset',\n",
    "                 palette = 'deep',\n",
    "                 ci = 95)\n",
    "    plt.xlabel(\"Taps\", fontsize = '12')\n",
    "    plt.ylabel(\"Speed\", fontsize = '12')\n",
    "    plt.title(f\"Speed of Tap Habituation, {ISI}ISI\", fontsize = '16')\n",
    "    ax.legend(loc = 'upper right', fontsize = '12')\n",
    "    plt.savefig(f'Speed_{ISI}ISI.png', format='png', dpi=900)\n",
    "    plt.show()"
   ]
  },
  {
   "cell_type": "markdown",
   "metadata": {},
   "source": [
    "# Done!"
   ]
  },
  {
   "cell_type": "code",
   "execution_count": null,
   "metadata": {},
   "outputs": [],
   "source": []
  }
 ],
 "metadata": {
  "kernelspec": {
   "display_name": "Python 3",
   "language": "python",
   "name": "python3"
  },
  "language_info": {
   "codemirror_mode": {
    "name": "ipython",
    "version": 3
   },
   "file_extension": ".py",
   "mimetype": "text/x-python",
   "name": "python",
   "nbconvert_exporter": "python",
   "pygments_lexer": "ipython3",
   "version": "3.7.4"
  }
 },
 "nbformat": 4,
 "nbformat_minor": 4
}
