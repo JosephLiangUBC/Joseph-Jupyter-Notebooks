{
 "cells": [
  {
   "cell_type": "code",
   "execution_count": 1,
   "id": "429fea60",
   "metadata": {},
   "outputs": [
    {
     "name": "stdout",
     "output_type": "stream",
     "text": [
      "done step 1\n"
     ]
    }
   ],
   "source": [
    "import pandas as pd #<- package used to import and organize data\n",
    "import numpy as np #<- package used to import and organize data\n",
    "import os #<- package used to work with system filepaths\n",
    "import subprocess\n",
    "from ipywidgets import widgets #<- widget tool to generate button\n",
    "from IPython.display import display #<- displays button\n",
    "# from tkinter import Tk, filedialog #<- Tkinter is a GUI package\n",
    "from tqdm.notebook import tqdm\n",
    "from ipyfilechooser import FileChooser\n",
    "\n",
    "print(\"done step 1\")"
   ]
  },
  {
   "cell_type": "code",
   "execution_count": 2,
   "id": "8aa35d04",
   "metadata": {},
   "outputs": [
    {
     "data": {
      "application/vnd.jupyter.widget-view+json": {
       "model_id": "8a1d9144ab0b434f910cd084953e5d49",
       "version_major": 2,
       "version_minor": 0
      },
      "text/plain": [
       "FileChooser(path='/Users/Joseph/Desktop', filename='', title='', show_hidden=False, select_desc='Select', chan…"
      ]
     },
     "metadata": {},
     "output_type": "display_data"
    }
   ],
   "source": [
    "starting_directory='/Users/Joseph/Desktop/'\n",
    "chooser=FileChooser(starting_directory)\n",
    "display(chooser)"
   ]
  },
  {
   "cell_type": "code",
   "execution_count": 3,
   "id": "5851fc51",
   "metadata": {},
   "outputs": [
    {
     "name": "stdout",
     "output_type": "stream",
     "text": [
      "/Volumes/USB STICK/N2_600s300sISIx30taps_Jul24_2023/N2\n"
     ]
    }
   ],
   "source": [
    "folder_path=chooser.selected_path\n",
    "print(folder_path)"
   ]
  },
  {
   "cell_type": "code",
   "execution_count": null,
   "id": "0f05552f",
   "metadata": {},
   "outputs": [],
   "source": [
    "# *************************************Redundant\n",
    "# ### Select Folder App - After you run, you can select your folder for filepath\n",
    "# button = widgets.Button(description = 'Select Folder') #<- creates a button variable\n",
    "# display(button) #<- displays the button in output\n",
    "\n",
    "# def select_folder(b): #<- defines an action. This action requires a variable, so an arbitrary one 'b' is there\n",
    "#     global folder_path #<- sets a variable as a global variable, not just within this action\n",
    "#     #Tk().withdraw() #<- Tkinter likes to create annoying empty windows. This removes them\n",
    "#     folder_path = filedialog.askdirectory() #<- Opens up a file explorer window, and determines folder path\n",
    "#     #Tk().update() #<- below\n",
    "#     #Tk().destroy() #<- this and the line above it removes the file explorer window after a selection is made\n",
    "#     print(folder_path) #<- this helps confirm that this action was performed\n",
    "#     print('done step 2')\n",
    "# button.on_click(select_folder)"
   ]
  },
  {
   "cell_type": "code",
   "execution_count": 4,
   "id": "62a1c37a",
   "metadata": {},
   "outputs": [
    {
     "name": "stdout",
     "output_type": "stream",
     "text": [
      "/Volumes/USB STICK/N2_600s300sISIx30taps_Jul24_2023/N2\n",
      "['/Volumes/USB STICK/N2_600s300sISIx30taps_Jul24_2023/N2/20230724_120002.zip', '/Volumes/USB STICK/N2_600s300sISIx30taps_Jul24_2023/N2/20230724_114809.zip', '/Volumes/USB STICK/N2_600s300sISIx30taps_Jul24_2023/N2/20230724_085532.zip', '/Volumes/USB STICK/N2_600s300sISIx30taps_Jul24_2023/N2/20230724_114138.zip', '/Volumes/USB STICK/N2_600s300sISIx30taps_Jul24_2023/N2/20230724_090157.zip', '/Volumes/USB STICK/N2_600s300sISIx30taps_Jul24_2023/N2/20230724_091402.zip']\n",
      "done step 3\n"
     ]
    }
   ],
   "source": [
    "#folder_path = '/Users/Joseph/Desktop/lrk1_ATR_NoATR_08_15_2019'\n",
    "print(folder_path)\n",
    "os.chdir(folder_path) #<- setting your working directory so that your images will be saved here\n",
    "\n",
    "filelist = list() #<- empty list\n",
    "for root, dirs, files in os.walk(folder_path): #<- this for loop goes through your folder \n",
    "    for name in files:\n",
    "        if name.endswith('.zip'): #<- and takes out all files with a .dat (file that contains your data)\n",
    "            filepath = os.path.join(root, name) #<- Notes down the file path of each data file\n",
    "            filelist.append(filepath) #<- saves it into the list\n",
    "    \n",
    "print(filelist)\n",
    "print('done step 3')"
   ]
  },
  {
   "cell_type": "markdown",
   "id": "6d1cb6b3",
   "metadata": {},
   "source": [
    "# For Analyzing Basal Slowing Statistics"
   ]
  },
  {
   "cell_type": "code",
   "execution_count": null,
   "id": "c88d3f08",
   "metadata": {},
   "outputs": [],
   "source": [
    "# for speed\n",
    "for f in tqdm(filelist):\n",
    "    subprocess.call(['java', '-jar', \n",
    "                     '/users/Joseph/Desktop/Chore.jar', \n",
    "                     '-p', '0.027', \n",
    "                     '-s', '0.1', \n",
    "                     '-t', '20', \n",
    "                     '-N', 'all', \n",
    "                     '-M', '2', \n",
    "                     '--shadowless', \n",
    "                     '-S', \n",
    "                     '-o', 'sxySPkbcdrlmwMe', \n",
    "                     f'{f}'])"
   ]
  },
  {
   "cell_type": "markdown",
   "id": "c0ef175d",
   "metadata": {},
   "source": [
    "# For Analyzing Tap Habituation Statistics"
   ]
  },
  {
   "cell_type": "code",
   "execution_count": 6,
   "id": "8feeac8a",
   "metadata": {},
   "outputs": [
    {
     "data": {
      "application/vnd.jupyter.widget-view+json": {
       "model_id": "91c64b41e0a14088ae0082377c489aaa",
       "version_major": 2,
       "version_minor": 0
      },
      "text/plain": [
       "  0%|          | 0/6 [00:00<?, ?it/s]"
      ]
     },
     "metadata": {},
     "output_type": "display_data"
    },
    {
     "name": "stdout",
     "output_type": "stream",
     "text": [
      "Reading files: 1 summary, 0 reference, 42 object.\n",
      "  Summary file has 146882 data points.\n",
      "  1983 out of 52477 objects meet criteria.\n",
      "Took 111.547 seconds to load data\n",
      "Writing summary file /Volumes/USB STICK/N2_600s300sISIx30taps_Jul24_2023/N2/20230724_120002/N2_7x3_f96h20C_600s30x300s_A0724_4.dat\n",
      "  Write successful.\n",
      "Reading files: 1 summary, 0 reference, 39 object.\n",
      "  Summary file has 104181 data points.\n",
      "  3574 out of 49484 objects meet criteria.\n",
      "Took 94.185 seconds to load data\n",
      "Writing summary file /Volumes/USB STICK/N2_600s300sISIx30taps_Jul24_2023/N2/20230724_114809/N2_7x3_f96h20C_600s30x300s_B0724_5.dat\n",
      "  Write successful.\n",
      "Reading files: 1 summary, 0 reference, 43 object.\n",
      "  Summary file has 111861 data points.\n",
      "  4053 out of 62096 objects meet criteria.\n",
      "Took 111.534 seconds to load data\n",
      "Writing summary file /Volumes/USB STICK/N2_600s300sISIx30taps_Jul24_2023/N2/20230724_085532/N2_7x3_f96h20C_600s30x300s_C0724_3.dat\n",
      "  Write successful.\n",
      "Reading files: 1 summary, 0 reference, 18 object.\n",
      "  Summary file has 119102 data points.\n",
      "  2112 out of 30788 objects meet criteria.\n",
      "Took 73.420 seconds to load data\n",
      "Writing summary file /Volumes/USB STICK/N2_600s300sISIx30taps_Jul24_2023/N2/20230724_114138/N2_7x3_f96h20C_600s30x300s_C0724_6.dat\n",
      "  Write successful.\n",
      "Reading files: 1 summary, 0 reference, 28 object.\n",
      "  Summary file has 107982 data points.\n",
      "  2897 out of 43985 objects meet criteria.\n",
      "Took 86.324 seconds to load data\n",
      "Writing summary file /Volumes/USB STICK/N2_600s300sISIx30taps_Jul24_2023/N2/20230724_090157/N2_7x3_f96h20C_600s30x300s_B0724_2.dat\n",
      "  Write successful.\n",
      "Reading files: 1 summary, 0 reference, 45 object.\n",
      "  Summary file has 149079 data points.\n",
      "  1987 out of 55080 objects meet criteria.\n",
      "Took 110.989 seconds to load data\n",
      "Writing summary file /Volumes/USB STICK/N2_600s300sISIx30taps_Jul24_2023/N2/20230724_091402/N2_7x3_f96h20C_600s30x300s_A0724_1.dat\n",
      "  Write successful.\n"
     ]
    }
   ],
   "source": [
    "# for tap habituation\n",
    "for f in tqdm(filelist):\n",
    "    subprocess.call(['java', '-Xms13g','-jar', '/users/Joseph/Desktop/Chore.jar', \n",
    "                     '-p', '0.027', \n",
    "                     '-s', '0.1', \n",
    "                     '-t', '20', \n",
    "                     '-M', '2', \n",
    "                     '--shadowless', \n",
    "                     '-S' ,\n",
    "                     '-o', 'nNss*b12xyMmeSakcr', \n",
    "                     '--plugin', 'Reoutline::exp',\n",
    "                     '--plugin', 'Respine',\n",
    "                     '--plugin', 'MeasureReversal::tap::dt=1::collect=0.5::postfix=trv',\n",
    "                     '--plugin', 'MeasureReversal::puff::dt=3::collect=0.5::postfix=prv',\n",
    "                     '--plugin', 'MeasureReversal::postfix=txt',\n",
    "                     f'{f}'])"
   ]
  },
  {
   "cell_type": "code",
   "execution_count": null,
   "id": "556619f0",
   "metadata": {},
   "outputs": [],
   "source": []
  },
  {
   "cell_type": "code",
   "execution_count": null,
   "id": "98775942-dff7-4d08-80cd-c76da3d040dd",
   "metadata": {},
   "outputs": [],
   "source": []
  }
 ],
 "metadata": {
  "kernelspec": {
   "display_name": "Python 3 (ipykernel)",
   "language": "python",
   "name": "python3"
  },
  "language_info": {
   "codemirror_mode": {
    "name": "ipython",
    "version": 3
   },
   "file_extension": ".py",
   "mimetype": "text/x-python",
   "name": "python",
   "nbconvert_exporter": "python",
   "pygments_lexer": "ipython3",
   "version": "3.11.1"
  }
 },
 "nbformat": 4,
 "nbformat_minor": 5
}
