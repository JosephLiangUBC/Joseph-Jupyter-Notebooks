{
 "cells": [
  {
   "cell_type": "code",
   "execution_count": 1,
   "metadata": {},
   "outputs": [
    {
     "name": "stdout",
     "output_type": "stream",
     "text": [
      "done step 1\n"
     ]
    }
   ],
   "source": [
    "import pandas as pd #<- package used to import and organize data\n",
    "import numpy as np #<- package used to import and organize data\n",
    "import math\n",
    "import os #<- package used to work with system file paths\n",
    "import seaborn as sns #<- package used to plot graphs\n",
    "from matplotlib import pyplot as plt #<- another package used to plot graphs\n",
    "from itertools import cycle #<- package used to iterate down rows (used in step 5 to add tap column)\n",
    "import ipywidgets as widgets #<- widget tool to generate button and tab for graphs\n",
    "from IPython.display import display #<- displays widgets\n",
    "from tkinter import Tk, filedialog #<- Tkinter is a GUI package\n",
    "import pingouin as pg\n",
    "from pingouin import ttest\n",
    "from scipy.stats import ttest_ind\n",
    "print(\"done step 1\")"
   ]
  },
  {
   "cell_type": "code",
   "execution_count": 22,
   "metadata": {},
   "outputs": [
    {
     "name": "stdout",
     "output_type": "stream",
     "text": [
      "       Unnamed: 0     time  Taps  dura   dist      prob     speed  plate  \\\n",
      "0               0  600.000     1  2.58  0.323  0.650000  0.125194      1   \n",
      "1               1  610.066     2  3.11  0.489  0.611111  0.157235      1   \n",
      "2               2  620.098     3  1.82  0.210  0.350000  0.115385      1   \n",
      "3               3  630.132     4  1.62  0.281  0.592593  0.173457      1   \n",
      "4               4  640.167     5  1.29  0.227  0.851852  0.175969      1   \n",
      "...           ...      ...   ...   ...    ...       ...       ...    ...   \n",
      "91135         115  852.177    26  1.12  0.231  0.425926  0.206250      4   \n",
      "91136         116  862.240    27  0.87  0.201  0.568627  0.231034      4   \n",
      "91137         117  872.308    28  0.78  0.160  0.516667  0.205128      4   \n",
      "91138         118  882.343    29  0.87  0.174  0.542373  0.200000      4   \n",
      "91139         119  892.374    30  1.60  0.366  0.466667  0.228750      4   \n",
      "\n",
      "        Gene Allele    Screen  \n",
      "0      lip-1  AH102  Neuronal  \n",
      "1      lip-1  AH102  Neuronal  \n",
      "2      lip-1  AH102  Neuronal  \n",
      "3      lip-1  AH102  Neuronal  \n",
      "4      lip-1  AH102  Neuronal  \n",
      "...      ...    ...       ...  \n",
      "91135  abl-1    XR1  Neuronal  \n",
      "91136  abl-1    XR1  Neuronal  \n",
      "91137  abl-1    XR1  Neuronal  \n",
      "91138  abl-1    XR1  Neuronal  \n",
      "91139  abl-1    XR1  Neuronal  \n",
      "\n",
      "[91140 rows x 11 columns]\n",
      "       Unnamed: 0      time  Taps  dura   dist      prob     speed  plate  \\\n",
      "0               0   599.988     1  3.27  0.576  0.846154  0.176147      1   \n",
      "1               1   609.991     2  2.59  0.417  0.714286  0.161004      1   \n",
      "2               2   619.990     3  1.74  0.254  0.533333  0.145977      1   \n",
      "3               3   629.990     4  1.78  0.375  0.800000  0.210674      1   \n",
      "4               4   639.990     5  1.89  0.356  0.500000  0.188360      1   \n",
      "...           ...       ...   ...   ...    ...       ...       ...    ...   \n",
      "24372         150   859.991    27  1.23  0.176  0.262295  0.143089      5   \n",
      "24373         151   869.991    28  1.18  0.140  0.283333  0.118644      5   \n",
      "24374         152   879.949    29  1.38  0.195  0.344828  0.141304      5   \n",
      "24375         153   889.995    30  1.63  0.189  0.229508  0.115951      5   \n",
      "24376         154  1189.950    31  1.22  0.226  0.350000  0.185246      5   \n",
      "\n",
      "        Gene  Allele Screen  \n",
      "0      cnt-2  ok1767    ASD  \n",
      "1      cnt-2  ok1767    ASD  \n",
      "2      cnt-2  ok1767    ASD  \n",
      "3      cnt-2  ok1767    ASD  \n",
      "4      cnt-2  ok1767    ASD  \n",
      "...      ...     ...    ...  \n",
      "24372  bra-1     nk1    ASD  \n",
      "24373  bra-1     nk1    ASD  \n",
      "24374  bra-1     nk1    ASD  \n",
      "24375  bra-1     nk1    ASD  \n",
      "24376  bra-1     nk1    ASD  \n",
      "\n",
      "[24377 rows x 11 columns]\n",
      "          time  Taps  dura   dist      prob     speed  plate   Gene Allele  \\\n",
      "0      600.000     1  2.58  0.323  0.650000  0.125194      1  lip-1  AH102   \n",
      "1      610.066     2  3.11  0.489  0.611111  0.157235      1  lip-1  AH102   \n",
      "2      620.098     3  1.82  0.210  0.350000  0.115385      1  lip-1  AH102   \n",
      "3      630.132     4  1.62  0.281  0.592593  0.173457      1  lip-1  AH102   \n",
      "4      640.167     5  1.29  0.227  0.851852  0.175969      1  lip-1  AH102   \n",
      "...        ...   ...   ...    ...       ...       ...    ...    ...    ...   \n",
      "91135  852.177    26  1.12  0.231  0.425926  0.206250      4  abl-1    XR1   \n",
      "91136  862.240    27  0.87  0.201  0.568627  0.231034      4  abl-1    XR1   \n",
      "91137  872.308    28  0.78  0.160  0.516667  0.205128      4  abl-1    XR1   \n",
      "91138  882.343    29  0.87  0.174  0.542373  0.200000      4  abl-1    XR1   \n",
      "91139  892.374    30  1.60  0.366  0.466667  0.228750      4  abl-1    XR1   \n",
      "\n",
      "         Screen  \n",
      "0      Neuronal  \n",
      "1      Neuronal  \n",
      "2      Neuronal  \n",
      "3      Neuronal  \n",
      "4      Neuronal  \n",
      "...         ...  \n",
      "91135  Neuronal  \n",
      "91136  Neuronal  \n",
      "91137  Neuronal  \n",
      "91138  Neuronal  \n",
      "91139  Neuronal  \n",
      "\n",
      "[91140 rows x 10 columns]\n",
      "           time  Taps  dura   dist      prob     speed  plate   Gene  Allele  \\\n",
      "0       599.988     1  3.27  0.576  0.846154  0.176147      1  cnt-2  ok1767   \n",
      "1       609.991     2  2.59  0.417  0.714286  0.161004      1  cnt-2  ok1767   \n",
      "2       619.990     3  1.74  0.254  0.533333  0.145977      1  cnt-2  ok1767   \n",
      "3       629.990     4  1.78  0.375  0.800000  0.210674      1  cnt-2  ok1767   \n",
      "4       639.990     5  1.89  0.356  0.500000  0.188360      1  cnt-2  ok1767   \n",
      "...         ...   ...   ...    ...       ...       ...    ...    ...     ...   \n",
      "24372   859.991    27  1.23  0.176  0.262295  0.143089      5  bra-1     nk1   \n",
      "24373   869.991    28  1.18  0.140  0.283333  0.118644      5  bra-1     nk1   \n",
      "24374   879.949    29  1.38  0.195  0.344828  0.141304      5  bra-1     nk1   \n",
      "24375   889.995    30  1.63  0.189  0.229508  0.115951      5  bra-1     nk1   \n",
      "24376  1189.950    31  1.22  0.226  0.350000  0.185246      5  bra-1     nk1   \n",
      "\n",
      "      Screen  \n",
      "0        ASD  \n",
      "1        ASD  \n",
      "2        ASD  \n",
      "3        ASD  \n",
      "4        ASD  \n",
      "...      ...  \n",
      "24372    ASD  \n",
      "24373    ASD  \n",
      "24374    ASD  \n",
      "24375    ASD  \n",
      "24376    ASD  \n",
      "\n",
      "[24377 rows x 10 columns]\n",
      "        Unnamed: 0      time  Taps  dura   dist      prob     speed  plate  \\\n",
      "0                0   600.000     1  2.58  0.323  0.650000  0.125194      1   \n",
      "1                1   610.066     2  3.11  0.489  0.611111  0.157235      1   \n",
      "2                2   620.098     3  1.82  0.210  0.350000  0.115385      1   \n",
      "3                3   630.132     4  1.62  0.281  0.592593  0.173457      1   \n",
      "4                4   640.167     5  1.29  0.227  0.851852  0.175969      1   \n",
      "...            ...       ...   ...   ...    ...       ...       ...    ...   \n",
      "115512       24372   859.991    27  1.23  0.176  0.262295  0.143089      5   \n",
      "115513       24373   869.991    28  1.18  0.140  0.283333  0.118644      5   \n",
      "115514       24374   879.949    29  1.38  0.195  0.344828  0.141304      5   \n",
      "115515       24375   889.995    30  1.63  0.189  0.229508  0.115951      5   \n",
      "115516       24376  1189.950    31  1.22  0.226  0.350000  0.185246      5   \n",
      "\n",
      "         Gene Allele    Screen  \n",
      "0       lip-1  AH102  Neuronal  \n",
      "1       lip-1  AH102  Neuronal  \n",
      "2       lip-1  AH102  Neuronal  \n",
      "3       lip-1  AH102  Neuronal  \n",
      "4       lip-1  AH102  Neuronal  \n",
      "...       ...    ...       ...  \n",
      "115512  bra-1    nk1       ASD  \n",
      "115513  bra-1    nk1       ASD  \n",
      "115514  bra-1    nk1       ASD  \n",
      "115515  bra-1    nk1       ASD  \n",
      "115516  bra-1    nk1       ASD  \n",
      "\n",
      "[115517 rows x 11 columns]\n"
     ]
    }
   ],
   "source": [
    "Neuron_df = pd.read_csv('/Users/Joseph/Desktop/ScreenData/AndrewMasterAdded.csv')\n",
    "ASD_df = pd.read_csv('/Users/Joseph/Desktop/ScreenData/ASDMaster.csv')\n",
    "\n",
    "print(Neuron_df)\n",
    "print(ASD_df)\n",
    "\n",
    "Neuron_df = Neuron_df.iloc[: , 1:]\n",
    "print(Neuron_df)\n",
    "\n",
    "ASD_df = ASD_df.iloc[: , 1:]\n",
    "print(ASD_df)\n",
    "\n",
    "\n",
    "# Master_DF = pd.concat([Neuron_df, ASD_df])\n",
    "Master_DF = pd.read_csv('/Users/Joseph/Desktop/ScreenData/MasterData.csv')\n",
    "print(Master_DF)"
   ]
  },
  {
   "cell_type": "code",
   "execution_count": null,
   "metadata": {},
   "outputs": [],
   "source": [
    "####### Save Master Data to CSV #######\n",
    "\n",
    "Master_DF.to_csv('/Users/Joseph/Desktop/ScreenData/MasterData.csv', sep=\",\")"
   ]
  },
  {
   "cell_type": "code",
   "execution_count": 23,
   "metadata": {},
   "outputs": [
    {
     "name": "stdout",
     "output_type": "stream",
     "text": [
      "          time  Taps  dura   dist      prob     speed  plate    Gene  Allele  \\\n",
      "0      600.000     1  2.58  0.323  0.650000  0.125194      1   lip-1   AH102   \n",
      "30     600.029     1  1.93  0.279  0.781250  0.144560      2   lip-1   AH102   \n",
      "60     600.030     1  3.05  0.398  0.600000  0.130492      3   lip-1   AH102   \n",
      "90     600.025     1  2.68  0.431  0.818182  0.160821      4   lip-1   AH102   \n",
      "120    600.012     1  2.80  0.667  0.930233  0.238214      1   nsy-1     AU3   \n",
      "...        ...   ...   ...    ...       ...       ...    ...     ...     ...   \n",
      "90990  600.008     1  2.30  0.431  0.966667  0.187391      4  inx-22  XM1011   \n",
      "91020  600.024     1  2.92  0.815  0.979167  0.279110      1   abl-1     XR1   \n",
      "91050  600.024     1  2.91  0.832  0.977778  0.285911      2   abl-1     XR1   \n",
      "91080  600.021     1  3.09  0.945  0.941176  0.305825      3   abl-1     XR1   \n",
      "91110  600.021     1  2.85  0.908  0.930233  0.318596      4   abl-1     XR1   \n",
      "\n",
      "         Screen  \n",
      "0      Neuronal  \n",
      "30     Neuronal  \n",
      "60     Neuronal  \n",
      "90     Neuronal  \n",
      "120    Neuronal  \n",
      "...         ...  \n",
      "90990  Neuronal  \n",
      "91020  Neuronal  \n",
      "91050  Neuronal  \n",
      "91080  Neuronal  \n",
      "91110  Neuronal  \n",
      "\n",
      "[3038 rows x 10 columns]\n",
      "          time  Taps  dura   dist      prob     speed  plate   Gene    Allele  \\\n",
      "0      599.988     1  3.27  0.576  0.846154  0.176147      1  cnt-2    ok1767   \n",
      "31     599.961     1  3.13  0.526  0.785714  0.168051      2  cnt-2    ok1767   \n",
      "62     599.999     1  2.94  0.557  0.956522  0.189456      3  cnt-2    ok1767   \n",
      "93     599.980     1  1.48  0.316  0.888889  0.213514      4  cnt-2    ok1767   \n",
      "124    599.996     1  2.95  0.919  0.933333  0.311525      1  hcp-1  gk237614   \n",
      "...        ...   ...   ...    ...       ...       ...    ...    ...       ...   \n",
      "24222  599.927     1  2.30  0.526  0.782609  0.228696      1  bra-1       nk1   \n",
      "24253  599.978     1  2.59  0.574  0.700000  0.221622      2  bra-1       nk1   \n",
      "24284  599.997     1  2.21  0.504  0.837209  0.228054      3  bra-1       nk1   \n",
      "24315  599.977     1  2.57  0.555  0.911111  0.215953      4  bra-1       nk1   \n",
      "24346  599.919     1  1.96  0.396  0.853659  0.202041      5  bra-1       nk1   \n",
      "\n",
      "      Screen  \n",
      "0        ASD  \n",
      "31       ASD  \n",
      "62       ASD  \n",
      "93       ASD  \n",
      "124      ASD  \n",
      "...      ...  \n",
      "24222    ASD  \n",
      "24253    ASD  \n",
      "24284    ASD  \n",
      "24315    ASD  \n",
      "24346    ASD  \n",
      "\n",
      "[785 rows x 10 columns]\n",
      "          time  Taps  dura   dist      prob     speed  plate   Gene Allele  \\\n",
      "27     871.349    28  1.41  0.174  0.451613  0.123404      1  lip-1  AH102   \n",
      "28     881.385    29  1.53  0.183  0.416667  0.119608      1  lip-1  AH102   \n",
      "29     891.419    30  1.49  0.193  0.451613  0.129530      1  lip-1  AH102   \n",
      "57     871.351    28  2.68  0.306  0.341463  0.114179      2  lip-1  AH102   \n",
      "58     881.384    29  1.67  0.164  0.256410  0.098204      2  lip-1  AH102   \n",
      "...        ...   ...   ...    ...       ...       ...    ...    ...    ...   \n",
      "91108  881.610    29  0.78  0.185  0.479167  0.237179      3  abl-1    XR1   \n",
      "91109  891.675    30  1.22  0.313  0.325581  0.256557      3  abl-1    XR1   \n",
      "91137  872.308    28  0.78  0.160  0.516667  0.205128      4  abl-1    XR1   \n",
      "91138  882.343    29  0.87  0.174  0.542373  0.200000      4  abl-1    XR1   \n",
      "91139  892.374    30  1.60  0.366  0.466667  0.228750      4  abl-1    XR1   \n",
      "\n",
      "         Screen  \n",
      "27     Neuronal  \n",
      "28     Neuronal  \n",
      "29     Neuronal  \n",
      "57     Neuronal  \n",
      "58     Neuronal  \n",
      "...         ...  \n",
      "91108  Neuronal  \n",
      "91109  Neuronal  \n",
      "91137  Neuronal  \n",
      "91138  Neuronal  \n",
      "91139  Neuronal  \n",
      "\n",
      "[9114 rows x 10 columns]\n",
      "          time  Taps  dura   dist      prob     speed  plate   Gene  Allele  \\\n",
      "27     869.985    28  0.36  0.056  0.500000  0.155556      1  cnt-2  ok1767   \n",
      "28     879.985    29  0.54  0.064  0.266667  0.118519      1  cnt-2  ok1767   \n",
      "29     889.985    30  0.18  0.052  0.142857  0.288889      1  cnt-2  ok1767   \n",
      "58     869.971    28  3.33  0.663  0.057143  0.199099      2  cnt-2  ok1767   \n",
      "59     879.982    29  0.23  0.035  0.357143  0.152174      2  cnt-2  ok1767   \n",
      "...        ...   ...   ...    ...       ...       ...    ...    ...     ...   \n",
      "24343  879.963    29  1.11  0.220  0.469697  0.198198      4  bra-1     nk1   \n",
      "24344  889.933    30  0.95  0.173  0.345455  0.182105      4  bra-1     nk1   \n",
      "24373  869.991    28  1.18  0.140  0.283333  0.118644      5  bra-1     nk1   \n",
      "24374  879.949    29  1.38  0.195  0.344828  0.141304      5  bra-1     nk1   \n",
      "24375  889.995    30  1.63  0.189  0.229508  0.115951      5  bra-1     nk1   \n",
      "\n",
      "      Screen  \n",
      "27       ASD  \n",
      "28       ASD  \n",
      "29       ASD  \n",
      "58       ASD  \n",
      "59       ASD  \n",
      "...      ...  \n",
      "24343    ASD  \n",
      "24344    ASD  \n",
      "24373    ASD  \n",
      "24374    ASD  \n",
      "24375    ASD  \n",
      "\n",
      "[2352 rows x 10 columns]\n"
     ]
    }
   ],
   "source": [
    "Initial_Neuron = Neuron_df[Neuron_df.Taps == 1]\n",
    "Initial_ASD = ASD_df[ASD_df.Taps == 1]\n",
    "\n",
    "Last3Taps = [28,29,30]\n",
    "FinalTaps_Neuron = Neuron_df[Neuron_df.Taps.isin(Last3Taps)]\n",
    "FinalTaps_ASD = ASD_df[ASD_df.Taps.isin(Last3Taps)]\n",
    "\n",
    "print(Initial_Neuron)\n",
    "print(Initial_ASD)\n",
    "print(FinalTaps_Neuron)\n",
    "print(FinalTaps_ASD)\n"
   ]
  },
  {
   "cell_type": "code",
   "execution_count": 24,
   "metadata": {},
   "outputs": [
    {
     "name": "stdout",
     "output_type": "stream",
     "text": [
      "{'AH102': 'lip-1', 'AU3': 'nsy-1', 'AU98': 'inx-14', 'BA1': 'fer-1', 'BA1070': 'cdh-5', 'BA1084': 'F09C12.2', 'BA1090': 'cav-2', 'BA1091': 'C35D10.2', 'BA1093': 'snf-10', 'BA785': 'spe-8', 'BB2': 'adr-1', 'BC96': 'unc-22', 'BQ5': 'eak-6', 'BR2815': 'nep-1', 'BS3383': 'pmk-3', 'BZ873': 'dop-3', 'CB1124': 'che-3', 'CB1220': 'unc-82', 'CB1309': 'lin-2', 'CB1375': 'daf-18', 'CB1387': 'daf-10', 'CB1417': 'lin-3', 'CB1460': 'unc-89', 'CB1482': 'sma-6', 'CB152': 'unc-5', 'CB193': 'unc-29', 'CB2': 'vab-1', 'CB246': 'unc-64', 'CB251': 'unc-36', 'CB268': 'unc-41', 'CB271': 'unc-40', 'CB30': 'sma-1', 'CB3031': 'snb-1', 'CB312': 'unc-13', 'CB3241': 'cir-1', 'CB3687': 'che-14', 'CE1047': 'egl-30', 'CX20': 'adp-1', 'CX2065': 'odr-1', 'CX51': 'dyn-1', 'CX5463': 'slt-1', 'CX6161': 'inx-19', 'CX6391': 'syg-2', 'CZ1251': 'rpm-1', 'CZ1893': 'syd-1', 'CZ2485': 'ahr-1', 'CZ540': 'ptp-3', 'CZ900': 'syd-2', 'DA1084': 'egl-30', 'DA1814': 'ser-1', 'DA464': 'eat-5', 'DG1856': 'goa-1', 'DH1370': 'rme-6', 'DR47': 'daf-11', 'EK228': 'mbk-1', 'EK273': 'hpk-1', 'FK163': 'cam-1', 'FK171': 'mek-1', 'FX1053': 'ins-11', 'FX794': 'rnf-5', 'GG53': 'emb-30', 'GH534': 'mrp-4', 'GR1310': 'akt-1', 'GS2381': 'sel-5', 'GS3662': 'dsl-1', 'HA865': 'grk-2', 'IC683': 'npr-9', 'IG10': 'tol-1', 'IG544': 'nipi-3', 'IG685': 'tir-1', 'IK105': 'pkc-1', 'IK591': 'ttx-7', 'JC1225': 'mrp-1', 'JD21': 'cca-1', 'JN147': 'gap-2', 'JT1058': 'hid-1', 'JT23': 'aex-5', 'JT24': 'aex-6', 'JT249': 'scd-2', 'JT609': 'eat-16', 'JY190': 'osm-9', 'KG421': 'gsa-1', 'KG518': 'acy-1', 'KG522': 'acy-1', 'KG524': 'gsa-1', 'KG532': 'kin-2', 'KG571': 'eat-16', 'KG6': 'unknown', 'KG744': 'pde-4', 'KJ461': 'cng-1', 'KP1097': 'dgk-1', 'KP1182': 'acy-1', 'KU12': 'dlk-1', 'KU2': 'jkk-1', 'KU21': 'kgb-1', 'KU4': 'sek-1', 'KU404': 'exc-5', 'KY50': 'aex-1', 'LE436': 'swan-2', 'LS292': 'dys-1', 'LS396': 'dyc-1', 'LS721': 'stn-1', 'LX147': 'rgs-1', 'LX160': 'rgs-2', 'LX475': 'rgs-5', 'LX533': 'rgs-6', 'LX604': 'rgs-4', 'LX645': 'dop-1', 'LX702': 'dop-2', 'LX734': 'dop-1, dop-2, dop-3', 'LY110': 'kcnl-1', 'LY130': 'twk-20', 'LY140': 'kvs-3', 'MH1019': 'soc-2', 'MH2407': 'ect-2', 'MH2430': 'cbp-1', 'ML514': 'che-14', 'MR127': 'inx-6', 'MT1079': 'egl-15', 'MT1083': 'egl-8', 'MT1212': 'egl-19', 'MT1215': 'egl-20', 'MT1241': 'egl-21', 'MT13032': 'sli-1', 'MT1434': 'egl-30', 'MT1443': 'egl-10', 'MT1520': 'egl-30', 'MT2426': 'goa-1', 'MT2840': 'dig-1', 'MT4698': 'let-60', 'MT4970': 'ced-6', 'MT5267': 'soc-1', 'MT5383': 'lin-44', 'MT7531': 'ppk-3', 'MT8504': 'egl-10', 'MT8628': 'unknown', 'MT8673': 'ksr-1', 'MT8943': 'bas-1; cat-4', 'MT8944': 'mod-5', 'MT9958': 'ced-10', 'MX124': 'ifta-1', 'MX52': 'bbs-8', 'N2': 'N2', 'NA654': 'kal-1', 'NG144': 'ina-1', 'NG324': 'wsp-1', 'NL1000': 'cdh-3', 'NL1106': 'prk-2', 'NL1137': 'gpa-5', 'NL1142': 'gpa-8', 'NL1146': 'gpa-6', 'NL1832': 'ucr-2.3', 'NL2001': 'gpb-2', 'NL2003': 'ric-19', 'NL2037': 'rsd-3', 'NL2330': 'gpa-13', 'NL332': 'gpa-1', 'NL335': 'gpa-3', 'NL594': 'gpa-12', 'NL787': 'gpa-11', 'NL790': 'gpa-4', 'NL792': 'gpc-1', 'NL793': 'gpa-9', 'NL795': 'gpa-7', 'NL797': 'gpa-15', 'NM1278': 'rbf-1', 'NM1380': 'egl-30', 'NM1568': 'ehs-1', 'NM1581': 'rpy-1', 'NM1815': 'tom-1', 'NM2739': 'aex-3', 'NM791': 'rab-3', 'NM833': 'snb-1', 'NS2937': 'trf-1', 'NS2938': 'cnx-1', 'NS3026': 'ikb-1', 'NU3': 'dbl-1', 'NW987': 'unc-129', 'OH313': 'ser-2', 'OH4149': 'wrk-1', 'ON167': 'pfn-3', 'OS122': 'cfi-1', 'PR811': 'osm-6', 'PS3653': 'ipp-5', 'PY1133': 'str-2', 'RB1001': 'cpna-3', 'RB1004': 'K08E3.4', 'RB1011': 'crb-1', 'RB1012': 'egl-8', 'RB1028': 'mrp-3', 'RB1030': 'snf-9', 'RB1038': 'C09G4.2', 'RB1066': 'Y52B11A.4', 'RB1068': 'nra-1', 'RB1070': 'mrp-6', 'RB1073': 'dgk-4', 'RB1075': 'pes-9', 'RB1086': 'inx-5', 'RB1091': 'Y64G10A.7', 'RB1100': 'ver-4', 'RB1106': 'ape-1', 'RB1117': 'Y47G6A.14', 'RB1119': 'F36A2.13', 'RB1126': 'H06H21.9', 'RB1136': 'R05G6.10', 'RB1139': 'clh-4', 'RB1142': 'F37E3.2', 'RB1147': 'F44D12.4', 'RB1149': 'scrm-3', 'RB1150': 'gpr-2', 'RB1157': 'pept-2', 'RB1162': 'cfz-2', 'RB1170': 'C04B4.2', 'RB1173': 'plc-4', 'RB1176': 'oxi-1', 'RB1178': 'wwp-1', 'RB1194': 'grk-1', 'RB1203': 'T10B11.2', 'RB1204': 'old-2', 'RB1211': 'C34G6.5', 'RB1231': 'pde-4', 'RB1244': 'W04B5.5', 'RB1256': 'cdh-4', 'RB1265': 'F45H7.6', 'RB1284': 'nmur-4', 'RB1287': 'VZC374L.1', 'RB1288': 'nmur-1', 'RB1289': 'npr-18', 'RB1321': 'C56G3.1', 'RB1323': 'C06G1.5', 'RB1324': 'ssr-2', 'RB1327': 'swd-3.2', 'RB1328': 'dsh-1', 'RB1329': 'C56G3.1', 'RB1335': 'T21C9.1', 'RB1340': 'nlp-1', 'RB1342': 'ogt-1', 'RB1344': 'zig-3', 'RB1348': 'M195.2', 'RB1349': 'F57H12.4', 'RB1365': 'npr-16', 'RB1372': 'nlp-18', 'RB1375': 'C44H4.6', 'RB1396': 'nlp-20', 'RB1410': 'Y45F10B.8', 'RB1416': 'nhr-83', 'RB1417': 'cul-6', 'RB1420': 'rbx-2', 'RB1423': 'C49A9.7', 'RB1470': 'cul-5', 'RB1473': 'tli-1', 'RB1481': 'ubc-25', 'RB1496': 'plc-2', 'RB1499': 'cnt-2', 'RB1501': 'frm-8', 'RB1536': 'dep-1', 'RB1537': 'rab-19', 'RB1544': 'F11A5.4', 'RB1548': 'F53C3.13', 'RB1553': 'K02E10.1', 'RB1557': 'hum-5', 'RB1566': 'F09A5.2', 'RB1576': 'rgl-1', 'RB1593': 'klp-15', 'RB1600': 'tub-1', 'RB1609': 'nlp-5', 'RB1625': 'par-1', 'RB1627': 'pll-1', 'RB1632': 'T02E9.1', 'RB1638': 'rab-18', 'RB1652': 'D1081.4', 'RB1654': 'F31E3.2', 'RB1660': 'clec-4', 'RB1668': 'npr-19', 'RB1674': 'frm-7', 'RB1679': 'cav-1', 'RB1712': 'rig-3', 'RB1713': 'mrp-2', 'RB1720': 'Y106G6A.1', 'RB1734': 'F47G4.4', 'RB1737': 'pld-1', 'RB1751': 'rga-5', 'RB1762': 'dsl-6', 'RB1775': 'strd-1', 'RB1777': 'F45E4.3', 'RB1797': 'W02B8.2', 'RB1798': 'zig-7', 'RB1800': 'gpa-17', 'RB1808': 'glr-2', 'RB1811': 'C03B1.5', 'RB1812': 'atn-1', 'RB1813': 'piki-1', 'RB1816': 'gpa-16', 'RB1822': 'elp-1', 'RB1827': 'hum-6', 'RB1834': 'inx-4', 'RB1836': 'npr-14', 'RB1861': 'arl-5', 'RB1863': 'flp-12', 'RB1868': 'hum-8', 'RB1871': 'stn-2', 'RB1875': 'vps-20', 'RB1902': 'flp-19', 'RB1907': 'K03E5.1', 'RB1908': 'mlk-1', 'RB1919': 'W07E6.3', 'RB1923': 'ckr-1', 'RB1929': 'inx-21', 'RB1938': 'npr-32', 'RB1940': 'F55D12.5', 'RB1975': 'klc-1', 'RB1978': 'ZK1248.15', 'RB1980': 'C02C6.3', 'RB1981': 'lin-23', 'RB2027': 'src-1', 'RB2030': 'nlp-3', 'RB2036': 'Y42A5A.4', 'RB2040': 'T19F4.1', 'RB2051': 'inx-10', 'RB2062': 'C13B9.3', 'RB2067': 'flp-9', 'RB2077': 'W09C5.7', 'RB2088': 'F11E6.8', 'RB2105': 'T07D10.2', 'RB2108': 'inx-11', 'RB2120': 'Y6B3B.5', 'RB2127': 'plk-3', 'RB2130': 'C03A3.3', 'RB2136': 'cdk-14', 'RB2148': 'F53B6.2', 'RB2160': 'cdh-10', 'RB2164': 'pde-1', 'RB2171': 'Y4C6A.1', 'RB2174': 'F59D6.7', 'RB2182': 'riok-3', 'RB2202': 'vit-4', 'RB2212': 'M02D8.1', 'RB2224': 'F38B6.6', 'RB2261': 'unknown', 'RB2266': 'skr-5', 'RB2271': 'Y106G6H.14', 'RB2272': 'F49C5.4', 'RB2304': 'arg-1', 'RB2315': 'T27A8.1', 'RB2320': 'F07A11.4', 'RB2327': 'cex-1', 'RB2341': 'ubc-16', 'RB2342': 'adm-2', 'RB2344': 'C49C3', 'RB2350': 'clec-43', 'RB2360': 'ZC477.2', 'RB2371': 'nhl-3', 'RB2372': 'atg-16.2', 'RB2402': 'snt-5', 'RB2412': 'ins-35', 'RB2414': 'C56E6.6', 'RB2428': 'T02C1.1', 'RB2448': 'cls-3', 'RB2462': 'oct-1', 'RB2464': 'tax-2', 'RB2468': 'ZK909.3', 'RB2476': 'tig-2', 'RB2482': 'W02C12.1', 'RB2491': 'ubc-24', 'RB2520': 'snt-6', 'RB2526': 'nmur-2', 'RB2531': 'F59E12.3', 'RB2534': 'F39E9.6', 'RB2543': 'efa-6', 'RB2544': 'ins-4', 'RB2552': 'ins-31', 'RB2563': 'qui-1', 'RB2575': 'flp-17', 'RB2580': 'wdfy-2', 'RB2588': 'efk-1', 'RB2594': 'ins-22', 'RB503': 'sng-1', 'RB545': 'pek-1', 'RB640': 'skr-3', 'RB641': 'snf-2', 'RB660': 'arr-1', 'RB662': 'apb-3', 'RB663': 'dylt-1', 'RB685': 'cdh-7', 'RB687': 'snf-5', 'RB689': 'pak-1', 'RB694': 'pfn-2', 'RB699': 'rgs-9', 'RB700': 'erp-1', 'RB709': 'snf-7', 'RB710': 'F44D12.1', 'RB737': 'snt-4', 'RB743': 'nph-1', 'RB746': 'T05C1.4', 'RB751': 'eps-8', 'RB756': 'gar-2', 'RB761': 'F35G8.1', 'RB768': 'C50F2.8', 'RB771': 'hum-4', 'RB779': 'zig-8', 'RB785': 'dop-5', 'RB787': 'T27A8.2', 'RB796': 'sta-1', 'RB797': 'dsl-5', 'RB809': 'ptl-1', 'RB812': 'fax-1', 'RB814': 'cdk-5', 'RB818': 'hum-1', 'RB821': 'clh-2', 'RB830': 'epac-1', 'RB849': 'kap-1', 'RB852': 'ras-2', 'RB866': 'klp-10', 'RB874': 'M110.7', 'RB876': 'zig-6', 'RB878': 'hlb-1', 'RB879': 'wnk-1', 'RB883': 'kqt-2', 'RB884': 'fkh-10', 'RB894': 'pgp-13', 'RB896': 'gar-1', 'RB901': 'nex-2', 'RB907': 'C11D9.1', 'RB911': 'fshr-1', 'RB914': 'pxn-1', 'RB919': 'snf-1', 'RB921': 'nhr-84', 'RB931': 'ZK836.3', 'RB936': 'src-2', 'RB942': 'cdc-42', 'RB949': 'cnk-1', 'RB960': 'exl-1', 'RB967': 'gcn-2', 'RB975': 'T27F2.2', 'RB976': 'rhgf-1', 'RB982': 'flp-21', 'RB983': 'ver-2', 'RB987': 'sbt-1', 'RM2209': 'ric-8', 'RM2702': 'dat-1', 'RM2710': 'snf-11', 'RT2': 'rab-10', 'SN5': 'old-1', 'SP1234': 'dyf-2', 'SP1745': 'dyf-5', 'SP2163': 'sym-1', 'SP2232': 'sym-4', 'ST36': 'plx-1', 'TG38': 'aak-2', 'TJ1052': 'age-1', 'TR1331': 'smg-1', 'TY1807': 'xol-1', 'UL768': 'pes-1', 'VB674': 'nnt-1', 'VC1000': 'C04E6.5', 'VC1005': 'klp-16', 'VC1024': 'pdr-1', 'VC1025': 'tag-333', 'VC1063': 'nlp-15', 'VC1065': 'Y48G8AL.1', 'VC1076': 'C14F11.2', 'VC1089': 'mkk-4', 'VC1115': 'let-92', 'VC1142': 'tag-344', 'VC116': 'inx-8', 'VC1164': 'ZK328.7', 'VC1179': 'F08B12.1', 'VC1218': 'ins-18', 'VC1228': 'klp-11', 'VC1241': 'skr-1', 'VC125': 'tyra-3', 'VC1263': 'ver-1', 'VC1383': 'dgk-5', 'VC1392': 'zip-5', 'VC14': 'rap-2', 'VC1408': 'magi-1', 'VC142': 'dgk-2', 'VC145': 'pes-7', 'VC161': 'mtm-6', 'VC1613': 'T15B12.1', 'VC1614': 'ebp-2', 'VC1620': 'F52B5.2', 'VC1622': 'bli-4', 'VC1655': 'nhr-99', 'VC1658': 'cdh-1', 'VC1663': 'F47C12.1', 'VC1682': 'T10B10.3', 'VC18': 'ubc-1', 'VC181': 'nex-4', 'VC1973': 'T01C3.3', 'VC1995': 'esyt-2', 'VC20': 'nhl-1', 'VC201': 'itsn-1', 'VC204': 'akt-2', 'VC2138': 'kcnl-2', 'VC214': 'nck-1', 'VC2141': 'C27B7.7', 'VC2154': 'F16B12.5', 'VC2167': 'gck-2', 'VC218': 'dgk-3', 'VC2199': 'bli-4', 'VC220': 'cmk-1', 'VC2205': 'F59A6.5', 'VC2213': 'C54E4.2', 'VC224': 'octr-1', 'VC228': 'nlg-1', 'VC230': 'vap-1', 'VC2324': 'flp-6', 'VC2392': 'elks-1', 'VC240': 'nex-1', 'VC246': 'rnf-1', 'VC259': 'pak-2', 'VC263': 'mtm-5', 'VC279': 'elp-1', 'VC282': 'pdl-1', 'VC290': 'tag-53', 'VC333': 'tap-1', 'VC376': 'shn-1', 'VC380': 'tag-68', 'VC381': 'atm-1', 'VC432': 'dapk-1', 'VC464': 'aka-1', 'VC504': 'tag-163', 'VC550': 'tag-180', 'VC619': 'inx-9', 'VC624': 'cor-1', 'VC636': 'cwn-2', 'VC689': 'dsl-4', 'VC691': 'ckk-1', 'VC700': 'rgs-10', 'VC723': 'zig-5', 'VC728': 'atl-1', 'VC781': 'cpn-3', 'VC808': 'tag-325', 'VC816': 'ric-4', 'VC822': 'kgb-2', 'VC830': 'tag-312', 'VC855': 'cle-1', 'VC867': 'igcm-3', 'VC885': 'snb-5', 'VC909': 'inft-1', 'VC913': 'nex-3', 'VC916': 'sphk-1', 'VC956': 'sph-1', 'VC980': 'fsn-1', 'VC998': 'dnj-7', 'XA406': 'ncs-1', 'XA7400': 'glc-3', 'XJ1': 'N2', 'XM1011': 'inx-22', 'XR1': 'abl-1'}\n",
      "{'ok1767': 'cnt-2', 'gk237614': 'hcp-1', 'tm2752': 'aps-2', 'e120': 'unc-4', 'gk705': 'unc-4', 'tm522': 'bcl-11', 'n582': 'egl-19', 'e55': 'unc-2', 'gk366': 'unc-2', 'ad1650': 'cca-1', 'ad698': 'unc-36', 'e251': 'unc-36', 'ok2694': 'cdkl-1', 'e950': 'unc-75', 'tm9711': 'unc-75', 'ok2798': 'chd-1', 'gk306': 'chd-7', 'ok3375': 'cls-3', 'tm5775': 'cls-3', 'ok869': 'cor-1', 'ku258': 'cbp-1', 'ga80': 'bar-1', 'mu63': 'bar-1', 'qm39': 'hmp-2', 'ok3000': 'jac-1', 'tm6473': 'dhcr-7', 'ok885': 'dip-2', 'cx18': 'dys-1', 'ok586': 'mrck-1', 'tm1072': 'dhp-1', 'ok711': 'igcm-1', 'e698': 'vab-10', 'gk45': 'vab-10', 'ie28': 'dhc-1', 'pk1389': 'mbk-1', 'n4488': 'set-11', 'ok370': 'exc-7', 'rh252': 'exc-7', 'hd40': 'cdh-4', 'ok1323': 'cdh-4', 'gk747': 'cdh-1', 'gk793': 'fkh-7', 'gk189051': 'gab-1', 'tm3577': 'gab-1', 'b1014': 'rme-6', 'tm6649': 'rme-6', 'tm4671': 'C18H9.3', 'ok2349': 'gpa-16', 'n2461': 'glr-1', 'ok2342': 'glr-2', 'ok3324': 'nmr-2', 'ok518': 'had-4', 'ok1339': 'tag-260', 'tm3318': 'pcaf-1', 'gk542081': 'irk-3', 'tm7416': 'irk-3', 'eg142': 'slo-1', 'gk602291': 'slo-1', 'js118': 'slo-1', 'js379': 'slo-1', 'tm8384': 'kqt-1', 'tm846': 'kqt-1', 'ok2544': 'rbr-2', 'tm3104': 'jmjd-3.3', 'tm3197': 'jmjd-3.3', 'gk190875': 'set-16', 'tm8188': 'lron-8', 'gk149538': 'let-19', 'ok2754': 'F11E6.8', 'tm238': 'irx-1', 'ok533': 'magu-3', 'ok646': 'ztf-11', 'N2': 'N2', 'zu196': 'gex-3', 'ok259': 'nlg-1', 'ds1': 'nrx-1', 'ok1649': 'nrx-1', 'gk510': 'met-1', 'n4337': 'met-1', 'ok2172': 'met-1', 'gm57': 'epi-1', 'ok3078': 'pax-2', 'ok935': 'pax-2', 'ok948': 'pax-2', 'tm2107': 'npax-2', 'hc184': 'jmjd-1.1', 'tm556': 'row-1', 'gk164': 'nab-1', 'ok943': 'nab-1', 'ok1573': 'pptr-2', 'ok3498': 'pph-5', 'ok2695': 'dkf-1', 'e1377': 'daf-6', 'ok2106': 'ptr-10', 'ok2988': 'ptr-6', 'e1375': 'daf-18', 'ok480': 'daf-18', 'e102': 'unc-10', 'md1117': 'unc-10', 'ok469': 'mtm-5', 'n4909': 'set-24', 'n4949': 'set-9', 'gk181': 'shn-1', 'ok1241': 'shn-1', 'tm1276': 'sin-3', 'ok156': 'snf-11', 'ok661': 'nhx-5', 'e109': 'unc-16', 'n370': 'unc-16', 'ok1608': 'spas-1', 'tm683': 'spas-1', 'e234': 'unc-18', 'e81': 'unc-18', 'md299': 'unc-18', 'ok1481': 'set-4', 'e1753': 'anc-1', 'e1802': 'anc-1', 'ok1001': 'gap-2', 'tm748': 'gap-2', 'gk186909': 'tbx-38', 'tm581': 'tbx-38', 'tm6676': 'pop-1', 'ok2347': 'R151.1', 'ok2364': 'ZK858.6', 'ok2921': 'ZK858.6', 'gk101481': 'hgap-1', 'gk109613': 'ubr-4', 'tm3968': 'ubr-4', 'gk244058': 'smg-4', 'tm5409': 'smg-4', 'tm6724': 'math-33', 'tm10242': 'M03D4.4', 'tm559': 'M03D4.4', 'gk425293': 'C25H3.11', 'gk122271': 'ztf-6', 'tm1803': 'ztf-6', 'nk1': 'bra-1'}\n"
     ]
    }
   ],
   "source": [
    "Neuron_strains = dict(zip(Initial_Neuron.Allele, Initial_Neuron.Gene))\n",
    "\n",
    "ASD_strains = dict(zip(Initial_ASD.Allele, Initial_ASD.Gene))\n",
    "\n",
    "print(Neuron_strains)\n",
    "print(ASD_strains)"
   ]
  },
  {
   "cell_type": "code",
   "execution_count": 25,
   "metadata": {},
   "outputs": [
    {
     "name": "stdout",
     "output_type": "stream",
     "text": [
      "['ok1767' 'gk237614' 'tm2752' 'e120' 'gk705' 'tm522' 'n582' 'e55' 'gk366'\n",
      " 'ad1650' 'ad698' 'e251' 'ok2694' 'e950' 'tm9711' 'ok2798' 'gk306'\n",
      " 'ok3375' 'tm5775' 'ok869' 'ku258' 'ga80' 'mu63' 'qm39' 'ok3000' 'tm6473'\n",
      " 'ok885' 'cx18' 'ok586' 'tm1072' 'ok711' 'e698' 'gk45' 'ie28' 'pk1389'\n",
      " 'n4488' 'ok370' 'rh252' 'hd40' 'ok1323' 'gk747' 'gk793' 'gk189051'\n",
      " 'tm3577' 'b1014' 'tm6649' 'tm4671' 'ok2349' 'n2461' 'ok2342' 'ok3324'\n",
      " 'ok518' 'ok1339' 'tm3318' 'gk542081' 'tm7416' 'eg142' 'gk602291' 'js118'\n",
      " 'js379' 'tm8384' 'tm846' 'ok2544' 'tm3104' 'tm3197' 'gk190875' 'tm8188'\n",
      " 'gk149538' 'ok2754' 'tm238' 'ok533' 'ok646' 'N2' 'zu196' 'ok259' 'ds1'\n",
      " 'ok1649' 'gk510' 'n4337' 'ok2172' 'gm57' 'ok3078' 'ok935' 'ok948'\n",
      " 'tm2107' 'hc184' 'tm556' 'gk164' 'ok943' 'ok1573' 'ok3498' 'ok2695'\n",
      " 'e1377' 'ok2106' 'ok2988' 'e1375' 'ok480' 'e102' 'md1117' 'ok469' 'n4909'\n",
      " 'n4949' 'gk181' 'ok1241' 'tm1276' 'ok156' 'ok661' 'e109' 'n370' 'ok1608'\n",
      " 'tm683' 'e234' 'e81' 'md299' 'ok1481' 'e1753' 'e1802' 'ok1001' 'tm748'\n",
      " 'gk186909' 'tm581' 'tm6676' 'ok2347' 'ok2364' 'ok2921' 'gk101481'\n",
      " 'gk109613' 'tm3968' 'gk244058' 'tm5409' 'tm6724' 'tm10242' 'tm559'\n",
      " 'gk425293' 'gk122271' 'tm1803' 'nk1']\n",
      "['cnt-2' 'hcp-1' 'aps-2' 'unc-4' 'bcl-11' 'egl-19' 'unc-2' 'cca-1'\n",
      " 'unc-36' 'cdkl-1' 'unc-75' 'chd-1' 'chd-7' 'cls-3' 'cor-1' 'cbp-1'\n",
      " 'bar-1' 'hmp-2' 'jac-1' 'dhcr-7' 'dip-2' 'dys-1' 'mrck-1' 'dhp-1'\n",
      " 'igcm-1' 'vab-10' 'dhc-1' 'mbk-1' 'set-11' 'exc-7' 'cdh-4' 'cdh-1'\n",
      " 'fkh-7' 'gab-1' 'rme-6' 'C18H9.3' 'gpa-16' 'glr-1' 'glr-2' 'nmr-2'\n",
      " 'had-4' 'tag-260' 'pcaf-1' 'irk-3' 'slo-1' 'kqt-1' 'rbr-2' 'jmjd-3.3'\n",
      " 'set-16' 'lron-8' 'let-19' 'F11E6.8' 'irx-1' 'magu-3' 'ztf-11' 'N2'\n",
      " 'gex-3' 'nlg-1' 'nrx-1' 'met-1' 'epi-1' 'pax-2' 'npax-2' 'jmjd-1.1'\n",
      " 'row-1' 'nab-1' 'pptr-2' 'pph-5' 'dkf-1' 'daf-6' 'ptr-10' 'ptr-6'\n",
      " 'daf-18' 'unc-10' 'mtm-5' 'set-24' 'set-9' 'shn-1' 'sin-3' 'snf-11'\n",
      " 'nhx-5' 'unc-16' 'spas-1' 'unc-18' 'set-4' 'anc-1' 'gap-2' 'tbx-38'\n",
      " 'pop-1' 'R151.1' 'ZK858.6' 'hgap-1' 'ubr-4' 'smg-4' 'math-33' 'M03D4.4'\n",
      " 'C25H3.11' 'ztf-6' 'bra-1']\n"
     ]
    }
   ],
   "source": [
    "Neuron_Alleles = Neuron_df[\"Allele\"].unique()\n",
    "Neuron_Genes = Neuron_df[\"Gene\"].unique()\n",
    "\n",
    "ASD_Alleles = ASD_df[\"Allele\"].unique()\n",
    "ASD_Genes = ASD_df[\"Gene\"].unique()\n",
    "\n",
    "# print(Neuron_Alleles)\n",
    "# print(Neuron_Genes)\n",
    "print(ASD_Alleles)\n",
    "print(ASD_Genes)"
   ]
  },
  {
   "cell_type": "code",
   "execution_count": null,
   "metadata": {},
   "outputs": [],
   "source": [
    "Neuron_Init_dura_Tstat = pd.DataFrame(columns = [\"Screen\", \"Gene\",\"Allele\",\"dura_T\"])\n",
    "Neuron_Init_dist_Tstat = pd.DataFrame(columns = [\"Screen\", \"Gene\",\"Allele\",\"dist_T\"])\n",
    "Neuron_Init_prob_Tstat = pd.DataFrame(columns = [\"Screen\", \"Gene\",\"Allele\",\"prob_T\"])\n",
    "Neuron_Init_speed_Tstat = pd.DataFrame(columns = [\"Screen\", \"Gene\",\"Allele\",\"speed_T\"])\n",
    "# Neuron_Init_dura_Tstat_trial = pd.DataFrame(columns = [\"Screen\", \"Gene\",\"Allele\",\"dura_T\"]) \n",
    "\n",
    "ASD_Init_dura_Tstat = pd.DataFrame(columns = [\"Screen\", \"Gene\",\"Allele\",\"dura_T\"])\n",
    "ASD_Init_dist_Tstat = pd.DataFrame(columns = [\"Screen\", \"Gene\",\"Allele\",\"dist_T\"])\n",
    "ASD_Init_prob_Tstat = pd.DataFrame(columns = [\"Screen\", \"Gene\",\"Allele\",\"prob_T\"])\n",
    "ASD_Init_speed_Tstat = pd.DataFrame(columns = [\"Screen\", \"Gene\",\"Allele\",\"speed_T\"])\n",
    "\n",
    "# print(Initial_Neuron_Dura)"
   ]
  },
  {
   "cell_type": "code",
   "execution_count": null,
   "metadata": {},
   "outputs": [],
   "source": [
    "def TTEST(List, Type, Screen, StrainsDict, DF_ref, DF_out):\n",
    "    for a in List:\n",
    "        TSTAT=ttest_ind(DF_ref[DF_ref.Allele == a][Type], DF_ref[DF_ref.Allele == \"N2\"][Type],equal_var=False)[0]\n",
    "        row = [Screen, StrainsDict.get(a), a, TSTAT]\n",
    "        DF_out.loc[len(DF_out)]=row\n",
    "    print(DF_out)\n"
   ]
  },
  {
   "cell_type": "code",
   "execution_count": null,
   "metadata": {},
   "outputs": [],
   "source": [
    "# ASD_Init_dura_Tstat = pd.DataFrame(columns = [\"Screen\", \"Gene\",\"Allele\",\"dura_T\"])\n",
    "# ASD_Init_dist_Tstat = pd.DataFrame(columns = [\"Screen\", \"Gene\",\"Allele\",\"dist_T\"])\n",
    "# ASD_Init_prob_Tstat = pd.DataFrame(columns = [\"Screen\", \"Gene\",\"Allele\",\"prob_T\"])\n",
    "# ASD_Init_speed_Tstat = pd.DataFrame(columns = [\"Screen\", \"Gene\",\"Allele\",\"speed_T\"])\n",
    "\n"
   ]
  },
  {
   "cell_type": "code",
   "execution_count": null,
   "metadata": {},
   "outputs": [],
   "source": [
    "TTEST(Neuron_Alleles, \"dura\", \"Neuronal\", Neuron_strains, Initial_Neuron, Neuron_Init_dura_Tstat)\n",
    "TTEST(Neuron_Alleles, \"dist\", \"Neuronal\", Neuron_strains, Initial_Neuron, Neuron_Init_dist_Tstat)\n",
    "TTEST(Neuron_Alleles, \"prob\", \"Neuronal\", Neuron_strains, Initial_Neuron, Neuron_Init_prob_Tstat)\n",
    "TTEST(Neuron_Alleles, \"speed\", \"Neuronal\", Neuron_strains, Initial_Neuron, Neuron_Init_speed_Tstat)"
   ]
  },
  {
   "cell_type": "code",
   "execution_count": null,
   "metadata": {},
   "outputs": [],
   "source": [
    "TTEST(ASD_Alleles, \"dura\", \"ASD\", ASD_strains, Initial_ASD, ASD_Init_dura_Tstat)\n",
    "TTEST(ASD_Alleles, \"dist\", \"ASD\", ASD_strains, Initial_ASD, ASD_Init_dist_Tstat)\n",
    "TTEST(ASD_Alleles, \"prob\", \"ASD\", ASD_strains, Initial_ASD, ASD_Init_prob_Tstat)\n",
    "TTEST(ASD_Alleles, \"speed\", \"ASD\", ASD_strains, Initial_ASD, ASD_Init_speed_Tstat)"
   ]
  },
  {
   "cell_type": "code",
   "execution_count": null,
   "metadata": {},
   "outputs": [],
   "source": [
    "Neuron_Init_TSTAT = pd.DataFrame()\n",
    "Neuron_Init_TSTAT = Neuron_Init_dura_Tstat\n",
    "Neuron_Init_TSTAT[\"dist_T\"] = Neuron_Init_dist_Tstat[\"dist_T\"]\n",
    "Neuron_Init_TSTAT[\"prob_T\"] = Neuron_Init_prob_Tstat[\"prob_T\"]\n",
    "Neuron_Init_TSTAT[\"speed_T\"] = Neuron_Init_speed_Tstat[\"speed_T\"]\n",
    "\n",
    "print(Neuron_Init_TSTAT)"
   ]
  },
  {
   "cell_type": "code",
   "execution_count": null,
   "metadata": {},
   "outputs": [],
   "source": [
    "ASD_Init_TSTAT = pd.DataFrame()\n",
    "ASD_Init_TSTAT = ASD_Init_dura_Tstat\n",
    "ASD_Init_TSTAT[\"dist_T\"] = ASD_Init_dist_Tstat[\"dist_T\"]\n",
    "ASD_Init_TSTAT[\"prob_T\"] = ASD_Init_prob_Tstat[\"prob_T\"]\n",
    "ASD_Init_TSTAT[\"speed_T\"] = ASD_Init_speed_Tstat[\"speed_T\"]\n",
    "print(ASD_Init_TSTAT)"
   ]
  },
  {
   "cell_type": "code",
   "execution_count": null,
   "metadata": {},
   "outputs": [],
   "source": [
    "#### T-Test ######\n",
    "\n",
    "Neuron_Init_dura_Tstat = pd.DataFrame(columns = [\"Gene\",\"Allele\",\"T\", \"Screen\"])\n",
    "Neuron_Init_dist_Tstat = pd.DataFrame(columns = [\"Gene\",\"Allele\",\"T\", \"Screen\"])\n",
    "Neuron_Init_prob_Tstat = pd.DataFrame(columns = [\"Gene\",\"Allele\",\"T\", \"Screen\"])\n",
    "Neuron_Init_speed_Tstat = pd.DataFrame(columns = [\"Gene\",\"Allele\",\"T\", \"Screen\"])\n",
    "# print(Neuron_Dura_Tstat)\n",
    "\n",
    "for a in Neuron_Alleles:\n",
    "    TSTAT=ttest_ind(Initial_Neuron_Dura[Initial_Neuron_Dura.Allele == a].dura, Initial_Neuron_Dura[Initial_Neuron_Dura.Allele == \"N2\"].dura,equal_var=False)[0]\n",
    "    row = [Neuron_strains.get(a),a, TSTAT, \"Neuronal\"]\n",
    "#     print(a,TSTAT)\n",
    "    Neuron_Init_Dura_Tstat.loc[len(Neuron_Dura_Tstat)]=row\n",
    "\n",
    "print(Neuron_Dura_Tstat)\n",
    "    \n",
    "    \n",
    "    \n",
    "# ttest(Initial_Neuron_Dura[Initial_Neuron_Dura.Allele == \"AH102\"].dura, Initial_Neuron_Dura[Initial_Neuron_Dura.Allele == \"N2\"].dura)[\"T\"]"
   ]
  },
  {
   "cell_type": "code",
   "execution_count": null,
   "metadata": {},
   "outputs": [],
   "source": [
    "Init_Ttest_Master = pd.concat([Neuron_Init_TSTAT, ASD_Init_TSTAT])\n",
    "print(Init_Ttest_Master)\n",
    "Init_Ttest_Master.to_csv('/Users/Joseph/Desktop/ScreenData/Init_Ttest_Master.csv', sep=\",\")"
   ]
  },
  {
   "cell_type": "code",
   "execution_count": null,
   "metadata": {},
   "outputs": [],
   "source": []
  },
  {
   "cell_type": "code",
   "execution_count": null,
   "metadata": {},
   "outputs": [],
   "source": [
    "FinalTaps_ASD.to_csv('/Users/Joseph/Desktop/ScreenData/ASD_FinalTaps.csv', sep=\",\")"
   ]
  },
  {
   "cell_type": "code",
   "execution_count": null,
   "metadata": {},
   "outputs": [],
   "source": [
    "Initial_DF1 = Master_DF[Master_DF.Taps == 1]\n",
    "\n",
    "Initial_DF = Initial_DF1.rename({\"dura\": \"init_dura\", \n",
    "                                 \"dist\": \"init_dist\", \n",
    "                                 \"prob\": \"init_prob\", \n",
    "                                 \"speed\": \"init_speed\"}, axis=1)\n",
    "print(Initial_DF)\n",
    "# Initial_DF.to_csv('/Users/Joseph/Desktop/ScreenData/FirstTaps.csv', sep=\",\")"
   ]
  },
  {
   "cell_type": "code",
   "execution_count": null,
   "metadata": {},
   "outputs": [],
   "source": [
    "Last3Taps = [28,29,30]\n",
    "\n",
    "FinalTaps_DF = Master_DF[Master_DF.Taps.isin(Last3Taps)]\n",
    "print(FinalTaps_DF)"
   ]
  },
  {
   "cell_type": "code",
   "execution_count": null,
   "metadata": {},
   "outputs": [],
   "source": [
    "### Calculate Mean of Final Habituated Level From 3 Taps\n",
    "\n",
    "FinalLevels1 = FinalTaps_DF.groupby([\"Gene\", \"Allele\", \"Screen\", \"plate\"]).mean().reset_index()\n",
    "\n",
    "FinalLevels = FinalLevels1.rename({\"dura\": \"final_dura\", \n",
    "                                   \"dist\": \"final_dist\", \n",
    "                                   \"prob\": \"final_prob\", \n",
    "                                   \"speed\": \"final_speed\"}, axis=1)\n",
    "\n",
    "print(FinalLevels)\n",
    "# FinalLevels.to_csv('/Users/Joseph/Desktop/ScreenData/FinalLevels.csv', sep=\",\")"
   ]
  },
  {
   "cell_type": "code",
   "execution_count": null,
   "metadata": {},
   "outputs": [],
   "source": [
    "InitialAndFinal = pd.merge(Initial_DF,\n",
    "                          FinalLevels,\n",
    "                          on = [\"Gene\", \"Allele\", \"plate\",\"Screen\"],\n",
    "                          how = \"inner\")\n",
    "print(InitialAndFinal)"
   ]
  },
  {
   "cell_type": "code",
   "execution_count": null,
   "metadata": {},
   "outputs": [],
   "source": [
    "InitialAndFinal[\"hab_dura\"]=InitialAndFinal[\"init_dura\"]-InitialAndFinal[\"final_dura\"]\n",
    "InitialAndFinal[\"hab_dist\"]=InitialAndFinal[\"init_dist\"]-InitialAndFinal[\"final_dist\"]\n",
    "InitialAndFinal[\"hab_prob\"]=InitialAndFinal[\"init_prob\"]-InitialAndFinal[\"final_prob\"]\n",
    "InitialAndFinal[\"hab_speed\"]=InitialAndFinal[\"init_speed\"]-InitialAndFinal[\"final_speed\"]\n",
    "# InitialAndFinal.drop(['taps_x','taps_y','time_x', 'time_y'], axis=1, inplace=True)\n",
    "print(InitialAndFinal)\n",
    "# InitialAndFinal.to_csv('/Users/Joseph/Desktop/ScreenData/HabituatedLevels.csv', sep=\",\")\n",
    "\n",
    "\n",
    "InitialAndFinal_ASD=InitialAndFinal[InitialAndFinal.Screen=='ASD']\n",
    "print(InitialAndFinal_ASD)\n",
    "InitialAndFinal_Neuron=InitialAndFinal[InitialAndFinal.Screen=='Neuronal']\n",
    "print(InitialAndFinal_Neuron)"
   ]
  },
  {
   "cell_type": "code",
   "execution_count": 16,
   "metadata": {},
   "outputs": [
    {
     "name": "stdout",
     "output_type": "stream",
     "text": [
      "      Unnamed: 0  init_dura  init_dist  init_prob  init_speed  plate   Gene  \\\n",
      "3037        3038       3.27      0.576   0.846154    0.176147      1  cnt-2   \n",
      "3038        3039       3.13      0.526   0.785714    0.168051      2  cnt-2   \n",
      "3039        3040       2.94      0.557   0.956522    0.189456      3  cnt-2   \n",
      "3040        3041       1.48      0.316   0.888889    0.213514      4  cnt-2   \n",
      "3041        3042       2.95      0.919   0.933333    0.311525      1  hcp-1   \n",
      "...          ...        ...        ...        ...         ...    ...    ...   \n",
      "3816        3817       2.30      0.526   0.782609    0.228696      1  bra-1   \n",
      "3817        3818       2.59      0.574   0.700000    0.221622      2  bra-1   \n",
      "3818        3819       2.21      0.504   0.837209    0.228054      3  bra-1   \n",
      "3819        3820       2.57      0.555   0.911111    0.215953      4  bra-1   \n",
      "3820        3821       1.96      0.396   0.853659    0.202041      5  bra-1   \n",
      "\n",
      "        Allele Screen  final_dura  final_dist  final_prob  final_speed  \\\n",
      "3037    ok1767    ASD    0.360000    0.057333    0.303175     0.187654   \n",
      "3038    ok1767    ASD    1.323333    0.260333    0.196919     0.184571   \n",
      "3039    ok1767    ASD    0.540000    0.077000    0.271483     0.141047   \n",
      "3040    ok1767    ASD    2.003333    0.445667    0.136752     0.207571   \n",
      "3041  gk237614    ASD    0.686667    0.139000    0.555053     0.201812   \n",
      "...        ...    ...         ...         ...         ...          ...   \n",
      "3816       nk1    ASD    1.023333    0.197333    0.433966     0.193065   \n",
      "3817       nk1    ASD    0.970000    0.211000    0.433046     0.217592   \n",
      "3818       nk1    ASD    1.210000    0.201667    0.466438     0.166959   \n",
      "3819       nk1    ASD    0.970000    0.187000    0.467273     0.192650   \n",
      "3820       nk1    ASD    1.396667    0.174667    0.285890     0.125300   \n",
      "\n",
      "      hab_dura  hab_dist  hab_prob  hab_speed  \n",
      "3037  2.910000  0.518667  0.542979  -0.011508  \n",
      "3038  1.806667  0.265667  0.588796  -0.016520  \n",
      "3039  2.400000  0.480000  0.685039   0.048409  \n",
      "3040 -0.523333 -0.129667  0.752137   0.005943  \n",
      "3041  2.263333  0.780000  0.378281   0.109714  \n",
      "...        ...       ...       ...        ...  \n",
      "3816  1.276667  0.328667  0.348643   0.035630  \n",
      "3817  1.620000  0.363000  0.266954   0.004030  \n",
      "3818  1.000000  0.302333  0.370772   0.061095  \n",
      "3819  1.600000  0.368000  0.443838   0.023303  \n",
      "3820  0.563333  0.221333  0.567769   0.076741  \n",
      "\n",
      "[784 rows x 17 columns]\n",
      "      Unnamed: 0  init_dura  init_dist  init_prob  init_speed  plate    Gene  \\\n",
      "0              0       2.58      0.323   0.650000    0.125194      1   lip-1   \n",
      "1              1       1.93      0.279   0.781250    0.144560      2   lip-1   \n",
      "2              2       3.05      0.398   0.600000    0.130492      3   lip-1   \n",
      "3              3       2.68      0.431   0.818182    0.160821      4   lip-1   \n",
      "4              4       2.80      0.667   0.930233    0.238214      1   nsy-1   \n",
      "...          ...        ...        ...        ...         ...    ...     ...   \n",
      "3032        3033       2.30      0.431   0.966667    0.187391      4  inx-22   \n",
      "3033        3034       2.92      0.815   0.979167    0.279110      1   abl-1   \n",
      "3034        3035       2.91      0.832   0.977778    0.285911      2   abl-1   \n",
      "3035        3036       3.09      0.945   0.941176    0.305825      3   abl-1   \n",
      "3036        3037       2.85      0.908   0.930233    0.318596      4   abl-1   \n",
      "\n",
      "      Allele    Screen  final_dura  final_dist  final_prob  final_speed  \\\n",
      "0      AH102  Neuronal    1.476667    0.183333    0.439964     0.124181   \n",
      "1      AH102  Neuronal    2.113333    0.239667    0.329373     0.112503   \n",
      "2      AH102  Neuronal    1.593333    0.205333    0.487563     0.128869   \n",
      "3      AH102  Neuronal    1.600000    0.238333    0.416667     0.148367   \n",
      "4        AU3  Neuronal    1.396667    0.277333    0.617503     0.198439   \n",
      "...      ...       ...         ...         ...         ...          ...   \n",
      "3032  XM1011  Neuronal    0.506667    0.053667    0.510443     0.107417   \n",
      "3033     XR1  Neuronal    0.960000    0.218000    0.468305     0.226823   \n",
      "3034     XR1  Neuronal    0.870000    0.196000    0.519697     0.226076   \n",
      "3035     XR1  Neuronal    1.126667    0.262333    0.395522     0.234386   \n",
      "3036     XR1  Neuronal    1.083333    0.233333    0.508569     0.211293   \n",
      "\n",
      "      hab_dura  hab_dist  hab_prob  hab_speed  \n",
      "0     1.103333  0.139667  0.210036   0.001013  \n",
      "1    -0.183333  0.039333  0.451877   0.032057  \n",
      "2     1.456667  0.192667  0.112437   0.001623  \n",
      "3     1.080000  0.192667  0.401515   0.012454  \n",
      "4     1.403333  0.389667  0.312730   0.039775  \n",
      "...        ...       ...       ...        ...  \n",
      "3032  1.793333  0.377333  0.456224   0.079974  \n",
      "3033  1.960000  0.597000  0.510862   0.052287  \n",
      "3034  2.040000  0.636000  0.458081   0.059834  \n",
      "3035  1.963333  0.682667  0.545654   0.071440  \n",
      "3036  1.766667  0.674667  0.421664   0.107304  \n",
      "\n",
      "[3037 rows x 17 columns]\n"
     ]
    }
   ],
   "source": [
    "# Testing Manually Updated Dataframe (removed blank N2 row in speed)\n",
    "\n",
    "InitialAndFinal = pd.read_csv('/Users/Joseph/Desktop/ScreenData/HabituatedLevels_new.csv')\n",
    "\n",
    "InitialAndFinal_ASD=InitialAndFinal[InitialAndFinal.Screen=='ASD']\n",
    "print(InitialAndFinal_ASD)\n",
    "InitialAndFinal_Neuron=InitialAndFinal[InitialAndFinal.Screen=='Neuronal']\n",
    "print(InitialAndFinal_Neuron)"
   ]
  },
  {
   "cell_type": "code",
   "execution_count": 92,
   "metadata": {},
   "outputs": [],
   "source": [
    "def TTEST_new_equalvar(List, Screen, StrainsDict, DF_ref, DF_out):\n",
    "    for a in List:\n",
    "        T_init_dura=ttest_ind(DF_ref[DF_ref.Allele == a][\"init_dura\"], DF_ref[DF_ref.Allele == \"N2\"][\"init_dura\"],equal_var=True)[0]\n",
    "        T_init_dist=ttest_ind(DF_ref[DF_ref.Allele == a][\"init_dist\"], DF_ref[DF_ref.Allele == \"N2\"][\"init_dist\"],equal_var=True)[0]\n",
    "        T_init_prob=ttest_ind(DF_ref[DF_ref.Allele == a][\"init_prob\"], DF_ref[DF_ref.Allele == \"N2\"][\"init_prob\"],equal_var=True)[0]\n",
    "        T_init_speed=ttest_ind(DF_ref[DF_ref.Allele == a][\"init_speed\"], DF_ref[DF_ref.Allele == \"N2\"][\"init_speed\"],equal_var=True)[0]\n",
    "        \n",
    "        T_final_dura=ttest_ind(DF_ref[DF_ref.Allele == a][\"final_dura\"], DF_ref[DF_ref.Allele == \"N2\"][\"final_dura\"],equal_var=True)[0]\n",
    "        T_final_dist=ttest_ind(DF_ref[DF_ref.Allele == a][\"final_dist\"], DF_ref[DF_ref.Allele == \"N2\"][\"final_dist\"],equal_var=True)[0]\n",
    "        T_final_prob=ttest_ind(DF_ref[DF_ref.Allele == a][\"final_prob\"], DF_ref[DF_ref.Allele == \"N2\"][\"final_prob\"],equal_var=True)[0]\n",
    "        T_final_speed=ttest_ind(DF_ref[DF_ref.Allele == a][\"final_speed\"], DF_ref[DF_ref.Allele == \"N2\"][\"final_speed\"],equal_var=False)[0]\n",
    "        \n",
    "        T_hab_dura=ttest_ind(DF_ref[DF_ref.Allele == a][\"hab_dura\"], DF_ref[DF_ref.Allele == \"N2\"][\"hab_dura\"],equal_var=True)[0]\n",
    "        T_hab_dist=ttest_ind(DF_ref[DF_ref.Allele == a][\"hab_dist\"], DF_ref[DF_ref.Allele == \"N2\"][\"hab_dist\"],equal_var=True)[0]\n",
    "        T_hab_prob=ttest_ind(DF_ref[DF_ref.Allele == a][\"hab_prob\"], DF_ref[DF_ref.Allele == \"N2\"][\"hab_prob\"],equal_var=True)[0]\n",
    "        T_hab_speed=ttest_ind(DF_ref[DF_ref.Allele == a][\"hab_speed\"], DF_ref[DF_ref.Allele == \"N2\"][\"hab_speed\"],equal_var=True)[0]\n",
    "        row = [Screen,\n",
    "               StrainsDict.get(a),\n",
    "               a,\n",
    "               T_init_dura,\n",
    "               T_init_dist,\n",
    "               T_init_prob,\n",
    "               T_init_speed,\n",
    "               T_final_dura,\n",
    "               T_final_dist,\n",
    "               T_final_prob,\n",
    "               T_final_speed,\n",
    "               T_hab_dura,\n",
    "               T_hab_dist,\n",
    "               T_hab_prob,\n",
    "               T_hab_speed]\n",
    "        DF_out.loc[len(DF_out)]=row\n",
    "    print(DF_out)\n",
    "    \n",
    "def TTEST_new_noequalvar(List, Screen, StrainsDict, DF_ref, DF_out):\n",
    "    for a in List:\n",
    "        T_init_dura=ttest_ind(DF_ref[DF_ref.Allele == a][\"init_dura\"], DF_ref[DF_ref.Allele == \"N2\"][\"init_dura\"],equal_var=False)[0]\n",
    "        T_init_dist=ttest_ind(DF_ref[DF_ref.Allele == a][\"init_dist\"], DF_ref[DF_ref.Allele == \"N2\"][\"init_dist\"],equal_var=False)[0]\n",
    "        T_init_prob=ttest_ind(DF_ref[DF_ref.Allele == a][\"init_prob\"], DF_ref[DF_ref.Allele == \"N2\"][\"init_prob\"],equal_var=False)[0]\n",
    "        T_init_speed=ttest_ind(DF_ref[DF_ref.Allele == a][\"init_speed\"], DF_ref[DF_ref.Allele == \"N2\"][\"init_speed\"],equal_var=False)[0]\n",
    "        \n",
    "        T_final_dura=ttest_ind(DF_ref[DF_ref.Allele == a][\"final_dura\"], DF_ref[DF_ref.Allele == \"N2\"][\"final_dura\"],equal_var=False)[0]\n",
    "        T_final_dist=ttest_ind(DF_ref[DF_ref.Allele == a][\"final_dist\"], DF_ref[DF_ref.Allele == \"N2\"][\"final_dist\"],equal_var=False)[0]\n",
    "        T_final_prob=ttest_ind(DF_ref[DF_ref.Allele == a][\"final_prob\"], DF_ref[DF_ref.Allele == \"N2\"][\"final_prob\"],equal_var=False)[0]\n",
    "        T_final_speed=ttest_ind(DF_ref[DF_ref.Allele == a][\"final_speed\"], DF_ref[DF_ref.Allele == \"N2\"][\"final_speed\"],equal_var=False)[0]\n",
    "        \n",
    "        T_hab_dura=ttest_ind(DF_ref[DF_ref.Allele == a][\"hab_dura\"], DF_ref[DF_ref.Allele == \"N2\"][\"hab_dura\"],equal_var=False)[0]\n",
    "        T_hab_dist=ttest_ind(DF_ref[DF_ref.Allele == a][\"hab_dist\"], DF_ref[DF_ref.Allele == \"N2\"][\"hab_dist\"],equal_var=False)[0]\n",
    "        T_hab_prob=ttest_ind(DF_ref[DF_ref.Allele == a][\"hab_prob\"], DF_ref[DF_ref.Allele == \"N2\"][\"hab_prob\"],equal_var=False)[0]\n",
    "        T_hab_speed=ttest_ind(DF_ref[DF_ref.Allele == a][\"hab_speed\"], DF_ref[DF_ref.Allele == \"N2\"][\"hab_speed\"],equal_var=False)[0]\n",
    "        row = [Screen,\n",
    "               StrainsDict.get(a),\n",
    "               a,\n",
    "               T_init_dura,\n",
    "               T_init_dist,\n",
    "               T_init_prob,\n",
    "               T_init_speed,\n",
    "               T_final_dura,\n",
    "               T_final_dist,\n",
    "               T_final_prob,\n",
    "               T_final_speed,\n",
    "               T_hab_dura,\n",
    "               T_hab_dist,\n",
    "               T_hab_prob,\n",
    "               T_hab_speed]\n",
    "        DF_out.loc[len(DF_out)]=row\n",
    "    print(DF_out)"
   ]
  },
  {
   "cell_type": "code",
   "execution_count": 93,
   "metadata": {},
   "outputs": [],
   "source": [
    "Tstat_Master_ASD = pd.DataFrame(columns = [\"Screen\",\n",
    "                                           \"Gene\",\n",
    "                                           \"Allele\",\n",
    "                                           \"T_init_dura\",\n",
    "                                           \"T_init_dist\",\n",
    "                                           \"T_init_prob\",\n",
    "                                           \"T_init_speed\",\n",
    "                                           \"T_final_dura\",\n",
    "                                           \"T_final_dist\",\n",
    "                                           \"T_final_prob\",\n",
    "                                           \"T_final_speed\",\n",
    "                                           \"T_hab_dura\",\n",
    "                                           \"T_hab_dist\",\n",
    "                                           \"T_hab_prob\",\n",
    "                                           \"T_hab_speed\"])\n",
    "Tstat_Master_Neuron = pd.DataFrame(columns = [\"Screen\",\n",
    "                                           \"Gene\",\n",
    "                                           \"Allele\",\n",
    "                                           \"T_init_dura\",\n",
    "                                           \"T_init_dist\",\n",
    "                                           \"T_init_prob\",\n",
    "                                           \"T_init_speed\",\n",
    "                                           \"T_final_dura\",\n",
    "                                           \"T_final_dist\",\n",
    "                                           \"T_final_prob\",\n",
    "                                           \"T_final_speed\",\n",
    "                                           \"T_hab_dura\",\n",
    "                                           \"T_hab_dist\",\n",
    "                                           \"T_hab_prob\",\n",
    "                                           \"T_hab_speed\"])"
   ]
  },
  {
   "cell_type": "code",
   "execution_count": 94,
   "metadata": {},
   "outputs": [
    {
     "name": "stdout",
     "output_type": "stream",
     "text": [
      "    Screen      Gene    Allele  T_init_dura  T_init_dist  T_init_prob  \\\n",
      "0      ASD     cnt-2    ok1767     0.530895    -2.195579     0.321809   \n",
      "1      ASD     hcp-1  gk237614     1.894756     3.521201     0.158998   \n",
      "2      ASD     aps-2    tm2752     2.588444     3.060893    -1.378205   \n",
      "3      ASD     unc-4      e120   -13.858852   -15.996151   -17.778152   \n",
      "4      ASD     unc-4     gk705    -5.614396   -17.096975   -13.918442   \n",
      "..     ...       ...       ...          ...          ...          ...   \n",
      "132    ASD   M03D4.4     tm559     3.362900     0.400464    -0.222107   \n",
      "133    ASD  C25H3.11  gk425293     0.035118    -1.159943     0.643831   \n",
      "134    ASD     ztf-6  gk122271     2.600547     1.926078    -0.407795   \n",
      "135    ASD     ztf-6    tm1803     0.161963    -0.591348   -10.139843   \n",
      "136    ASD     bra-1       nk1    -1.295531    -3.487395    -1.058306   \n",
      "\n",
      "     T_init_speed  T_final_dura  T_final_dist  T_final_prob  T_final_speed  \\\n",
      "0       -6.182380      0.444320      0.244560     -4.076479      -1.839479   \n",
      "1        5.340144     -0.422197     -0.303320      4.260624       0.500061   \n",
      "2        0.307786      1.578960      1.905002      4.414458       2.189882   \n",
      "3       -2.598226    -10.827280     -6.729877    -10.285486       0.227939   \n",
      "4       -9.812679    -10.344608    -15.485531    -10.608521      -1.749100   \n",
      "..            ...           ...           ...           ...            ...   \n",
      "132     -5.334563     -3.191995     -5.350217      6.691737      -1.972439   \n",
      "133     -0.469285      0.182722      0.313161      0.676517       0.967676   \n",
      "134     -0.130128     -1.131105     -1.305543     -0.449911       0.340283   \n",
      "135     -2.630371      5.017941      3.624595      1.025574     -10.241300   \n",
      "136     -5.300079      2.500019      0.627455      0.784561      -1.725270   \n",
      "\n",
      "     T_hab_dura  T_hab_dist  T_hab_prob  T_hab_speed  \n",
      "0      0.067838   -1.054787    3.485676    -2.626801  \n",
      "1      1.369536    2.649923   -1.914446     3.883349  \n",
      "2      1.746912    1.629026   -5.989285    -1.615369  \n",
      "3    -13.050556  -10.200755   -8.275600    -1.169131  \n",
      "4     -3.481785  -11.927725  -11.986782    -3.457625  \n",
      "..          ...         ...         ...          ...  \n",
      "132    4.173821    2.377756   -3.998446    -3.454044  \n",
      "133   -0.106041   -1.321866    0.513144    -0.693774  \n",
      "134    2.483514    2.082130   -0.019465    -0.612289  \n",
      "135   -1.461794   -1.358847  -22.716729    -0.821347  \n",
      "136   -1.895105   -4.099079   -1.285441    -0.484838  \n",
      "\n",
      "[137 rows x 15 columns]\n",
      "       Screen    Gene  Allele  T_init_dura  T_init_dist  T_init_prob  \\\n",
      "0    Neuronal   lip-1   AH102     1.331556    -7.274960    -3.806874   \n",
      "1    Neuronal   nsy-1     AU3     4.049438     1.823931    -0.894446   \n",
      "2    Neuronal  inx-14    AU98     2.291378     2.382959     2.558107   \n",
      "3    Neuronal   fer-1     BA1     3.042875     1.256523     0.336591   \n",
      "4    Neuronal   cdh-5  BA1070     2.032302     0.377497     1.068149   \n",
      "..        ...     ...     ...          ...          ...          ...   \n",
      "546  Neuronal   ncs-1   XA406    13.092311     1.124733     6.342023   \n",
      "547  Neuronal   glc-3  XA7400     6.354883     2.207846     5.993588   \n",
      "548  Neuronal      N2     XJ1    -9.634456   -10.296103    -0.890649   \n",
      "549  Neuronal  inx-22  XM1011     2.800752    -3.780373     1.231875   \n",
      "550  Neuronal   abl-1     XR1    11.923961     7.725933     3.414010   \n",
      "\n",
      "     T_init_speed  T_final_dura  T_final_dist  T_final_prob  T_final_speed  \\\n",
      "0      -15.989288      7.732949      7.685103      1.058305      -5.228859   \n",
      "1       -0.686721     23.415302     28.266599      5.743542      13.420975   \n",
      "2        2.646556     -6.120994     -4.014539     -0.488011       0.044494   \n",
      "3       -0.731393     -0.355186      0.172847     -1.722284      -0.672188   \n",
      "4       -3.358734     -3.087741     -3.640936      0.713103      -2.207479   \n",
      "..            ...           ...           ...           ...            ...   \n",
      "546     -3.127357      0.745050     -0.413735      2.433671      -0.904698   \n",
      "547     -2.850459      2.141598      1.796658     43.591413       2.854239   \n",
      "548     -5.934425     -3.385453     -4.404651     -5.311593      -2.734258   \n",
      "549    -11.872020      0.218445     -3.077849      1.585895      -5.408632   \n",
      "550      2.776724      6.937789      8.290452      3.147149      10.642061   \n",
      "\n",
      "     T_hab_dura  T_hab_dist  T_hab_prob  T_hab_speed  \n",
      "0     -2.194915   -9.945623   -2.926920   -12.080706  \n",
      "1     -3.560191   -1.757460   -3.558716    -3.356383  \n",
      "2      3.077729    2.923485    4.315149     3.714861  \n",
      "3      1.826786    0.639538    1.638449     0.417203  \n",
      "4      2.580574    0.828303    0.072713    -0.446571  \n",
      "..          ...         ...         ...          ...  \n",
      "546    7.509007    1.118149   -0.690844    -2.721944  \n",
      "547    6.657247    1.727192  -21.398820    -4.385632  \n",
      "548   -7.440208   -9.202114    4.456570    -3.183255  \n",
      "549    3.915605   -3.596605   -1.076337    -4.499756  \n",
      "550    4.354813    6.104082   -1.570629    -2.425502  \n",
      "\n",
      "[551 rows x 15 columns]\n"
     ]
    }
   ],
   "source": [
    "TTEST_new_noequalvar(ASD_Alleles, \"ASD\", ASD_strains, InitialAndFinal_ASD, Tstat_Master_ASD)\n",
    "TTEST_new_noequalvar(Neuron_Alleles, \"Neuronal\", Neuron_strains, InitialAndFinal_Neuron, Tstat_Master_Neuron)"
   ]
  },
  {
   "cell_type": "code",
   "execution_count": 95,
   "metadata": {},
   "outputs": [
    {
     "name": "stdout",
     "output_type": "stream",
     "text": [
      "       Screen    Gene    Allele  T_init_dura  T_init_dist  T_init_prob  \\\n",
      "0         ASD   cnt-2    ok1767     0.530895    -2.195579     0.321809   \n",
      "1         ASD   hcp-1  gk237614     1.894756     3.521201     0.158998   \n",
      "2         ASD   aps-2    tm2752     2.588444     3.060893    -1.378205   \n",
      "3         ASD   unc-4      e120   -13.858852   -15.996151   -17.778152   \n",
      "4         ASD   unc-4     gk705    -5.614396   -17.096975   -13.918442   \n",
      "..        ...     ...       ...          ...          ...          ...   \n",
      "546  Neuronal   ncs-1     XA406    13.092311     1.124733     6.342023   \n",
      "547  Neuronal   glc-3    XA7400     6.354883     2.207846     5.993588   \n",
      "548  Neuronal      N2       XJ1    -9.634456   -10.296103    -0.890649   \n",
      "549  Neuronal  inx-22    XM1011     2.800752    -3.780373     1.231875   \n",
      "550  Neuronal   abl-1       XR1    11.923961     7.725933     3.414010   \n",
      "\n",
      "     T_init_speed  T_final_dura  T_final_dist  T_final_prob  T_final_speed  \\\n",
      "0       -6.182380      0.444320      0.244560     -4.076479      -1.839479   \n",
      "1        5.340144     -0.422197     -0.303320      4.260624       0.500061   \n",
      "2        0.307786      1.578960      1.905002      4.414458       2.189882   \n",
      "3       -2.598226    -10.827280     -6.729877    -10.285486       0.227939   \n",
      "4       -9.812679    -10.344608    -15.485531    -10.608521      -1.749100   \n",
      "..            ...           ...           ...           ...            ...   \n",
      "546     -3.127357      0.745050     -0.413735      2.433671      -0.904698   \n",
      "547     -2.850459      2.141598      1.796658     43.591413       2.854239   \n",
      "548     -5.934425     -3.385453     -4.404651     -5.311593      -2.734258   \n",
      "549    -11.872020      0.218445     -3.077849      1.585895      -5.408632   \n",
      "550      2.776724      6.937789      8.290452      3.147149      10.642061   \n",
      "\n",
      "     T_hab_dura  T_hab_dist  T_hab_prob  T_hab_speed  \n",
      "0      0.067838   -1.054787    3.485676    -2.626801  \n",
      "1      1.369536    2.649923   -1.914446     3.883349  \n",
      "2      1.746912    1.629026   -5.989285    -1.615369  \n",
      "3    -13.050556  -10.200755   -8.275600    -1.169131  \n",
      "4     -3.481785  -11.927725  -11.986782    -3.457625  \n",
      "..          ...         ...         ...          ...  \n",
      "546    7.509007    1.118149   -0.690844    -2.721944  \n",
      "547    6.657247    1.727192  -21.398820    -4.385632  \n",
      "548   -7.440208   -9.202114    4.456570    -3.183255  \n",
      "549    3.915605   -3.596605   -1.076337    -4.499756  \n",
      "550    4.354813    6.104082   -1.570629    -2.425502  \n",
      "\n",
      "[688 rows x 15 columns]\n"
     ]
    }
   ],
   "source": [
    "Tstat_Master = pd.concat([Tstat_Master_ASD,Tstat_Master_Neuron])\n",
    "print(Tstat_Master)\n",
    "# Tstat_Master.to_csv('/Users/Joseph/Desktop/ScreenData/Tstat_Master.csv', sep=\",\")"
   ]
  },
  {
   "cell_type": "code",
   "execution_count": 4,
   "metadata": {},
   "outputs": [
    {
     "name": "stdout",
     "output_type": "stream",
     "text": [
      "           Screen    Gene    Allele  T_init_dura  T_init_dist  T_init_prob  \\\n",
      "0             ASD   cnt-2    ok1767     0.530895    -2.195579     0.321809   \n",
      "1             ASD   hcp-1  gk237614     1.894756     3.521201     0.158998   \n",
      "2             ASD   aps-2    tm2752     2.588444     3.060893    -1.378205   \n",
      "3             ASD   unc-4      e120   -13.858852   -15.996151   -17.778152   \n",
      "4             ASD   unc-4     gk705    -5.614396   -17.096975   -13.918442   \n",
      "..            ...     ...       ...          ...          ...          ...   \n",
      "683      Neuronal  inx-22    XM1011     2.793806    -3.809715     1.297769   \n",
      "684      Neuronal   abl-1       XR1    11.912426     7.689003     3.492087   \n",
      "685        ASD_N2      N2        N2     0.000000     0.000000     0.000000   \n",
      "686   Neuronal_N2      N2        N2     0.000000     0.000000     0.000000   \n",
      "687  Neuronal_XJ1      N2       XJ1    -9.674298   -10.362937    -0.693977   \n",
      "\n",
      "     T_init_speed  T_final_dura  T_final_dist  T_final_prob  T_final_speed  \\\n",
      "0       -6.182380      0.444320      0.244560     -4.076479      -1.839479   \n",
      "1        5.340144     -0.422197     -0.303320      4.260624       0.500061   \n",
      "2        0.307786      1.578960      1.905002      4.414458       2.189882   \n",
      "3       -2.598226    -10.827280     -6.729877    -10.285486       0.227939   \n",
      "4       -9.812679    -10.344608    -15.485531    -10.608520      -1.749100   \n",
      "..            ...           ...           ...           ...            ...   \n",
      "683    -11.907372      0.250739     -3.050619      1.617645            NaN   \n",
      "684      2.738478      6.960466      8.308424      3.177985            NaN   \n",
      "685      0.000000      0.000000      0.000000      0.000000       0.000000   \n",
      "686      0.000000      0.000000      0.000000      0.000000            NaN   \n",
      "687     -6.019460     -3.306110     -4.341104     -5.170122            NaN   \n",
      "\n",
      "     T_hab_dura  T_hab_dist  T_hab_prob  T_hab_speed  \n",
      "0      0.067838   -1.054787    3.485676    -2.626801  \n",
      "1      1.369536    2.649923   -1.914446     3.883349  \n",
      "2      1.746912    1.629026   -5.989285    -1.615369  \n",
      "3    -13.050556  -10.200755   -8.275600    -1.169131  \n",
      "4     -3.481785  -11.927725  -11.986783    -3.457625  \n",
      "..          ...         ...         ...          ...  \n",
      "683    3.889251   -3.638844   -1.061976          NaN  \n",
      "684    4.316179    6.031692   -1.559759          NaN  \n",
      "685    0.000000    0.000000    0.000000     0.000000  \n",
      "686    0.000000    0.000000    0.000000          NaN  \n",
      "687   -7.500914   -9.270504    4.496902          NaN  \n",
      "\n",
      "[688 rows x 15 columns]\n"
     ]
    }
   ],
   "source": [
    "Tstat_Master = pd.read_csv('/Users/Joseph/Desktop/ScreenData/Tstat_Master.csv')\n",
    "Tstat_Master_copy = pd.read_csv('/Users/Joseph/Desktop/ScreenData/Tstat_Master_copy.csv')\n",
    "Tstat_Master_copy = Tstat_Master_copy.iloc[: , 1:]\n",
    "print(Tstat_Master_copy)"
   ]
  },
  {
   "cell_type": "code",
   "execution_count": 98,
   "metadata": {},
   "outputs": [],
   "source": [
    "import chart_studio.plotly as py\n",
    "import chart_studio\n",
    "\n",
    "## Connect with chartstudio\n",
    "username = 'JosephLiangUBC' # Add your username\n",
    "api_key = 'ZASGSzLhSTdvXdzCZplK' # Add your api key \n",
    "\n",
    "chart_studio.tools.set_credentials_file(username = username, api_key = api_key)"
   ]
  },
  {
   "cell_type": "code",
   "execution_count": 32,
   "metadata": {},
   "outputs": [],
   "source": [
    "AxisNames = {\n",
    "    \"T_init_dura\": \"Initial Response Duration\",\n",
    "    \"T_init_dist\": \"Initial Response Distance\",\n",
    "    \"T_init_prob\": \"Initial Response Probability\",\n",
    "    \"T_init_speed\": \"Initial Response Speed\",\n",
    "    \"T_final_dura\": \"Final Response Duration\",\n",
    "    \"T_final_dist\": \"Final Response Distance\",\n",
    "    \"T_final_prob\": \"Final Response Probability\",\n",
    "    \"T_final_speed\": \"Final Response Speed\",\n",
    "    \"T_hab_dura\": \"Degree of Habituation of Response Duration\",\n",
    "    \"T_hab_dist\": \"Degree of Habituation of Response Distance\",\n",
    "    \"T_hab_prob\": \"Degree of Habituation of Response Probability\",\n",
    "    \"T_hab_speed\": \"Degree of Habituation of Response Speed\",\n",
    "}\n"
   ]
  },
  {
   "cell_type": "code",
   "execution_count": 104,
   "metadata": {},
   "outputs": [
    {
     "data": {
      "application/vnd.plotly.v1+json": {
       "config": {
        "plotlyServerURL": "https://plotly.com"
       },
       "data": [
        {
         "customdata": [
          [
           "ok1767"
          ],
          [
           "gk237614"
          ],
          [
           "tm2752"
          ],
          [
           "e120"
          ],
          [
           "gk705"
          ],
          [
           "tm522"
          ],
          [
           "n582"
          ],
          [
           "e55"
          ],
          [
           "gk366"
          ],
          [
           "ad1650"
          ],
          [
           "ad698"
          ],
          [
           "e251"
          ],
          [
           "ok2694"
          ],
          [
           "e950"
          ],
          [
           "tm9711"
          ],
          [
           "ok2798"
          ],
          [
           "gk306"
          ],
          [
           "ok3375"
          ],
          [
           "tm5775"
          ],
          [
           "ok869"
          ],
          [
           "ku258"
          ],
          [
           "ga80"
          ],
          [
           "mu63"
          ],
          [
           "qm39"
          ],
          [
           "ok3000"
          ],
          [
           "tm6473"
          ],
          [
           "ok885"
          ],
          [
           "cx18"
          ],
          [
           "ok586"
          ],
          [
           "tm1072"
          ],
          [
           "ok711"
          ],
          [
           "e698"
          ],
          [
           "gk45"
          ],
          [
           "ie28"
          ],
          [
           "pk1389"
          ],
          [
           "n4488"
          ],
          [
           "ok370"
          ],
          [
           "rh252"
          ],
          [
           "hd40"
          ],
          [
           "ok1323"
          ],
          [
           "gk747"
          ],
          [
           "gk793"
          ],
          [
           "gk189051"
          ],
          [
           "tm3577"
          ],
          [
           "b1014"
          ],
          [
           "tm6649"
          ],
          [
           "tm4671"
          ],
          [
           "ok2349"
          ],
          [
           "n2461"
          ],
          [
           "ok2342"
          ],
          [
           "ok3324"
          ],
          [
           "ok518"
          ],
          [
           "ok1339"
          ],
          [
           "tm3318"
          ],
          [
           "gk542081"
          ],
          [
           "tm7416"
          ],
          [
           "eg142"
          ],
          [
           "gk602291"
          ],
          [
           "js118"
          ],
          [
           "js379"
          ],
          [
           "tm8384"
          ],
          [
           "tm846"
          ],
          [
           "ok2544"
          ],
          [
           "tm3104"
          ],
          [
           "tm3197"
          ],
          [
           "gk190875"
          ],
          [
           "tm8188"
          ],
          [
           "gk149538"
          ],
          [
           "ok2754"
          ],
          [
           "tm238"
          ],
          [
           "ok533"
          ],
          [
           "ok646"
          ],
          [
           "N2"
          ],
          [
           "zu196"
          ],
          [
           "ok259"
          ],
          [
           "ds1"
          ],
          [
           "ok1649"
          ],
          [
           "gk510"
          ],
          [
           "n4337"
          ],
          [
           "ok2172"
          ],
          [
           "gm57"
          ],
          [
           "ok3078"
          ],
          [
           "ok935"
          ],
          [
           "ok948"
          ],
          [
           "tm2107"
          ],
          [
           "hc184"
          ],
          [
           "tm556"
          ],
          [
           "gk164"
          ],
          [
           "ok943"
          ],
          [
           "ok1573"
          ],
          [
           "ok3498"
          ],
          [
           "ok2695"
          ],
          [
           "e1377"
          ],
          [
           "ok2106"
          ],
          [
           "ok2988"
          ],
          [
           "e1375"
          ],
          [
           "ok480"
          ],
          [
           "e102"
          ],
          [
           "md1117"
          ],
          [
           "ok469"
          ],
          [
           "n4909"
          ],
          [
           "n4949"
          ],
          [
           "gk181"
          ],
          [
           "ok1241"
          ],
          [
           "tm1276"
          ],
          [
           "ok156"
          ],
          [
           "ok661"
          ],
          [
           "e109"
          ],
          [
           "n370"
          ],
          [
           "ok1608"
          ],
          [
           "tm683"
          ],
          [
           "e234"
          ],
          [
           "e81"
          ],
          [
           "md299"
          ],
          [
           "ok1481"
          ],
          [
           "e1753"
          ],
          [
           "e1802"
          ],
          [
           "ok1001"
          ],
          [
           "tm748"
          ],
          [
           "gk186909"
          ],
          [
           "tm581"
          ],
          [
           "tm6676"
          ],
          [
           "ok2347"
          ],
          [
           "ok2364"
          ],
          [
           "ok2921"
          ],
          [
           "gk101481"
          ],
          [
           "gk109613"
          ],
          [
           "tm3968"
          ],
          [
           "gk244058"
          ],
          [
           "tm5409"
          ],
          [
           "tm6724"
          ],
          [
           "tm10242"
          ],
          [
           "tm559"
          ],
          [
           "gk425293"
          ],
          [
           "gk122271"
          ],
          [
           "tm1803"
          ],
          [
           "nk1"
          ]
         ],
         "hovertemplate": "<b>%{hovertext}</b><br><br>Screen=ASD<br>Degree of Habituation of Response Probability=%{x}<br>Initial Response Probability=%{y}<br>Allele=%{customdata[0]}<extra></extra>",
         "hovertext": [
          "cnt-2",
          "hcp-1",
          "aps-2",
          "unc-4",
          "unc-4",
          "bcl-11",
          "egl-19",
          "unc-2",
          "unc-2",
          "cca-1",
          "unc-36",
          "unc-36",
          "cdkl-1",
          "unc-75",
          "unc-75",
          "chd-1",
          "chd-7",
          "cls-3",
          "cls-3",
          "cor-1",
          "cbp-1",
          "bar-1",
          "bar-1",
          "hmp-2",
          "jac-1",
          "dhcr-7",
          "dip-2",
          "dys-1",
          "mrck-1",
          "dhp-1",
          "igcm-1",
          "vab-10",
          "vab-10",
          "dhc-1",
          "mbk-1",
          "set-11",
          "exc-7",
          "exc-7",
          "cdh-4",
          "cdh-4",
          "cdh-1",
          "fkh-7",
          "gab-1",
          "gab-1",
          "rme-6",
          "rme-6",
          "C18H9.3",
          "gpa-16",
          "glr-1",
          "glr-2",
          "nmr-2",
          "had-4",
          "tag-260",
          "pcaf-1",
          "irk-3",
          "irk-3",
          "slo-1",
          "slo-1",
          "slo-1",
          "slo-1",
          "kqt-1",
          "kqt-1",
          "rbr-2",
          "jmjd-3.3",
          "jmjd-3.3",
          "set-16",
          "lron-8",
          "let-19",
          "F11E6.8",
          "irx-1",
          "magu-3",
          "ztf-11",
          "N2",
          "gex-3",
          "nlg-1",
          "nrx-1",
          "nrx-1",
          "met-1",
          "met-1",
          "met-1",
          "epi-1",
          "pax-2",
          "pax-2",
          "pax-2",
          "npax-2",
          "jmjd-1.1",
          "row-1",
          "nab-1",
          "nab-1",
          "pptr-2",
          "pph-5",
          "dkf-1",
          "daf-6",
          "ptr-10",
          "ptr-6",
          "daf-18",
          "daf-18",
          "unc-10",
          "unc-10",
          "mtm-5",
          "set-24",
          "set-9",
          "shn-1",
          "shn-1",
          "sin-3",
          "snf-11",
          "nhx-5",
          "unc-16",
          "unc-16",
          "spas-1",
          "spas-1",
          "unc-18",
          "unc-18",
          "unc-18",
          "set-4",
          "anc-1",
          "anc-1",
          "gap-2",
          "gap-2",
          "tbx-38",
          "tbx-38",
          "pop-1",
          "R151.1",
          "ZK858.6",
          "ZK858.6",
          "hgap-1",
          "ubr-4",
          "ubr-4",
          "smg-4",
          "smg-4",
          "math-33",
          "M03D4.4",
          "M03D4.4",
          "C25H3.11",
          "ztf-6",
          "ztf-6",
          "bra-1"
         ],
         "legendgroup": "ASD",
         "marker": {
          "color": "black",
          "opacity": 0.65,
          "symbol": "circle"
         },
         "mode": "markers",
         "name": "ASD",
         "orientation": "v",
         "showlegend": true,
         "type": "scatter",
         "x": [
          3.485675621578031,
          -1.9144455844786492,
          -5.989285439635338,
          -8.27559978467576,
          -11.986782483087653,
          -3.4505426037332727,
          -0.0775162583510839,
          -11.32373207561386,
          -24.420910975149003,
          0.6325069612196149,
          -17.536705560130944,
          -25.310072209057644,
          -10.238253638117776,
          -7.432469405525828,
          -3.292283028795515,
          2.3238006494485015,
          -0.9023477726655623,
          -0.2523068023970105,
          0.42144769952940225,
          -0.6063831999040532,
          -2.2086533988781354,
          -12.044593951441067,
          -1.3947277848857174,
          -2.3560553066799286,
          4.258624067746486,
          -1.708662946175073,
          -2.049133930273535,
          6.029569026509586,
          0.8305237000614296,
          -4.728496102441119,
          1.9500845327446965,
          0.6814644150835475,
          4.990356535366464,
          -0.6555323091810609,
          -0.8259374453769581,
          0.5655927445916423,
          0.7694038532574556,
          4.746679601586677,
          0.40889266464234036,
          -3.3607563507967546,
          0.16027192406364182,
          0.9064722514355352,
          -0.13640845540091925,
          1.7478806886143299,
          -4.042669454272817,
          -3.2748485082215435,
          -11.042225768427567,
          -0.15795155802596691,
          6.455478494179587,
          7.506324189681062,
          -0.9684659859473752,
          0.7905982037752606,
          0.7095070222639738,
          -0.017257514488529004,
          -0.328488120731565,
          -0.7894735925923072,
          -0.39579945323292576,
          0.2697882842341385,
          -2.6465348194004066,
          1.222502946505645,
          -4.776478078083833,
          -3.6007735129630474,
          3.0060677114585985,
          -4.500342752899704,
          -5.088480509436998,
          2.204556985965872,
          -3.6033001747936155,
          0.24577764446944741,
          1.969221966534404,
          -4.228724627734124,
          1.4885579917376484,
          0.0034924639110602675,
          0,
          -0.39607309138065,
          -2.921208564919186,
          2.4917385006436783,
          -0.5066730335538312,
          -0.09258066345193991,
          -0.21731695791117087,
          -2.1379033344266585,
          -1.856049999183115,
          -16.694725332283042,
          -2.858937596386524,
          -2.345777374645663,
          -5.147662982292533,
          0.2889111152028091,
          -6.765808504679964,
          -1.2062744821497804,
          -3.294173987172703,
          -1.6412622565731954,
          0.18605541094795247,
          -5.958214376182168,
          0.49316801351120626,
          -1.8164806436424632,
          -0.07565688566597739,
          -0.4075149271691543,
          0.9837747978772378,
          -2.4145737455775644,
          -2.6004653611424984,
          3.393032631817353,
          0.3099835982706871,
          0.6397670404536833,
          1.7869282878999615,
          -0.7065458670785243,
          -1.1753565468206075,
          -1.4645578170281628,
          0.5058234364972195,
          -6.762904405097963,
          2.6333824263788883,
          -1.3220198233301101,
          -2.4687293574478346,
          -11.979270576609872,
          -15.309790579308828,
          -10.658232750916271,
          1.881722935687447,
          -1.2539324574144866,
          -1.3554398143684427,
          0.8887131763930645,
          -0.8692013704533322,
          1.76919978046307,
          -0.5658055744544555,
          -4.771706143986819,
          -0.36507701408325616,
          0.09733498088780046,
          -2.197938685045516,
          -1.0105086448043652,
          -0.5583186343380091,
          -2.1635467357900815,
          3.722596086705141,
          -3.745362073164994,
          1.1566724879652277,
          -3.7488545475727424,
          -3.998446469017626,
          0.5131443898816274,
          -0.01946489981151053,
          -22.716729077560586,
          -1.2854407614401235
         ],
         "xaxis": "x",
         "y": [
          0.3218091079980962,
          0.15899797291352988,
          -1.3782047459929447,
          -17.778152327739086,
          -13.918442319633257,
          -0.7682153140227798,
          -1.8150261095485525,
          -23.074023229164204,
          -58.309229285489586,
          -1.426028006894076,
          -35.08056428740579,
          -54.59356970435131,
          -22.563129232313617,
          -10.271800640404116,
          -2.470311543371365,
          0.35615450287356487,
          0.36568847957002365,
          0.13254854549225592,
          3.409026769675302,
          -2.1681754713971126,
          -2.0484860035100705,
          -2.876351559119351,
          -0.09183317937936465,
          2.0923578660536837,
          -1.6454288250650762,
          2.255822796477306,
          -0.5748040578103069,
          3.5406211634122924,
          -0.22326614241223766,
          -0.3145875015800742,
          2.094559480574237,
          -0.8497873827882381,
          5.124329489342407,
          -0.568304043629971,
          -1.1552296105069217,
          -0.5027551012052928,
          -2.2668837488867815,
          -2.4241019906941155,
          0.36608013245029974,
          -0.4633789512964103,
          -0.7173526143685222,
          1.4152235510052003,
          -0.19961064805598944,
          4.798130824513789,
          -0.537329400599268,
          0.05243886387108838,
          -2.0480256680651845,
          -1.4967392527433416,
          -1.524773278328797,
          0.6960225624630426,
          2.473106760845165,
          0.013814809232788997,
          -0.4882152705862425,
          11.18832424553527,
          -0.8865821207822991,
          -1.5059835144015696,
          -1.401045698202618,
          -0.7620166861726808,
          -2.0897354049430747,
          0.21162727566187958,
          -1.762198248992916,
          -1.1163027335264635,
          0.10385902439164059,
          -1.47933040647512,
          -0.888691179420907,
          -0.8304852910455647,
          -0.36958374371024977,
          0.5653252264156656,
          0.1867722844392909,
          -0.7874937621092241,
          -0.373676227466333,
          -0.6828914101767469,
          0,
          -2.4664501087773765,
          -0.765505379574982,
          2.0024364162225363,
          -2.6581033202860254,
          -4.421391071170352,
          -2.5465469940486747,
          -0.5699174545433329,
          -3.1755590585493136,
          -26.21129073603707,
          -0.898187504675162,
          -1.8181270617910434,
          -1.105941577862878,
          -1.6559685712349081,
          -1.3224852223194639,
          -1.9514240856084728,
          -2.4915611806039446,
          -0.701651315488362,
          -1.0589332579064248,
          -6.153446949721217,
          1.7768051290419824,
          -1.568933002145029,
          -2.4630284416872152,
          -2.371244686942587,
          -0.520028000198435,
          -5.738278958519362,
          -18.61771433375479,
          0.5204413007007962,
          0.654308580308896,
          -0.9858087215188805,
          -0.008908514406909799,
          -0.811735035769409,
          -0.5471284042293766,
          -1.4616259606990805,
          0.4261360975481248,
          -8.782693447736778,
          -0.2309646729471886,
          -1.3834824025192785,
          1.8621526321240967,
          -67.07355749882414,
          -67.07355749882414,
          -67.07355749882414,
          2.2512933714106236,
          -1.3676000408620437,
          -1.9443581917226858,
          -0.3808798586697913,
          -1.8922670521567915,
          -0.75603591608915,
          0.7200830834739548,
          -1.2232897518500543,
          -2.1793060806412505,
          0.02786488905681593,
          -0.6288667424991915,
          -3.10693863992479,
          -0.38679618590779596,
          0.8256647773964887,
          11.18832424553527,
          -0.7828223240888973,
          1.7834842532008541,
          -1.8907243276850763,
          -0.22210670443094743,
          0.6438305745144701,
          -0.40779522080143277,
          -10.139843326584,
          -1.0583062443323186
         ],
         "yaxis": "y"
        },
        {
         "alignmentgroup": "True",
         "bingroup": "x",
         "hovertemplate": "Screen=ASD<br>Degree of Habituation of Response Probability=%{x}<br>count=%{y}<extra></extra>",
         "legendgroup": "ASD",
         "marker": {
          "color": "black"
         },
         "name": "ASD",
         "offsetgroup": "ASD",
         "opacity": 0.5,
         "showlegend": false,
         "type": "histogram",
         "x": [
          3.485675621578031,
          -1.9144455844786492,
          -5.989285439635338,
          -8.27559978467576,
          -11.986782483087653,
          -3.4505426037332727,
          -0.0775162583510839,
          -11.32373207561386,
          -24.420910975149003,
          0.6325069612196149,
          -17.536705560130944,
          -25.310072209057644,
          -10.238253638117776,
          -7.432469405525828,
          -3.292283028795515,
          2.3238006494485015,
          -0.9023477726655623,
          -0.2523068023970105,
          0.42144769952940225,
          -0.6063831999040532,
          -2.2086533988781354,
          -12.044593951441067,
          -1.3947277848857174,
          -2.3560553066799286,
          4.258624067746486,
          -1.708662946175073,
          -2.049133930273535,
          6.029569026509586,
          0.8305237000614296,
          -4.728496102441119,
          1.9500845327446965,
          0.6814644150835475,
          4.990356535366464,
          -0.6555323091810609,
          -0.8259374453769581,
          0.5655927445916423,
          0.7694038532574556,
          4.746679601586677,
          0.40889266464234036,
          -3.3607563507967546,
          0.16027192406364182,
          0.9064722514355352,
          -0.13640845540091925,
          1.7478806886143299,
          -4.042669454272817,
          -3.2748485082215435,
          -11.042225768427567,
          -0.15795155802596691,
          6.455478494179587,
          7.506324189681062,
          -0.9684659859473752,
          0.7905982037752606,
          0.7095070222639738,
          -0.017257514488529004,
          -0.328488120731565,
          -0.7894735925923072,
          -0.39579945323292576,
          0.2697882842341385,
          -2.6465348194004066,
          1.222502946505645,
          -4.776478078083833,
          -3.6007735129630474,
          3.0060677114585985,
          -4.500342752899704,
          -5.088480509436998,
          2.204556985965872,
          -3.6033001747936155,
          0.24577764446944741,
          1.969221966534404,
          -4.228724627734124,
          1.4885579917376484,
          0.0034924639110602675,
          0,
          -0.39607309138065,
          -2.921208564919186,
          2.4917385006436783,
          -0.5066730335538312,
          -0.09258066345193991,
          -0.21731695791117087,
          -2.1379033344266585,
          -1.856049999183115,
          -16.694725332283042,
          -2.858937596386524,
          -2.345777374645663,
          -5.147662982292533,
          0.2889111152028091,
          -6.765808504679964,
          -1.2062744821497804,
          -3.294173987172703,
          -1.6412622565731954,
          0.18605541094795247,
          -5.958214376182168,
          0.49316801351120626,
          -1.8164806436424632,
          -0.07565688566597739,
          -0.4075149271691543,
          0.9837747978772378,
          -2.4145737455775644,
          -2.6004653611424984,
          3.393032631817353,
          0.3099835982706871,
          0.6397670404536833,
          1.7869282878999615,
          -0.7065458670785243,
          -1.1753565468206075,
          -1.4645578170281628,
          0.5058234364972195,
          -6.762904405097963,
          2.6333824263788883,
          -1.3220198233301101,
          -2.4687293574478346,
          -11.979270576609872,
          -15.309790579308828,
          -10.658232750916271,
          1.881722935687447,
          -1.2539324574144866,
          -1.3554398143684427,
          0.8887131763930645,
          -0.8692013704533322,
          1.76919978046307,
          -0.5658055744544555,
          -4.771706143986819,
          -0.36507701408325616,
          0.09733498088780046,
          -2.197938685045516,
          -1.0105086448043652,
          -0.5583186343380091,
          -2.1635467357900815,
          3.722596086705141,
          -3.745362073164994,
          1.1566724879652277,
          -3.7488545475727424,
          -3.998446469017626,
          0.5131443898816274,
          -0.01946489981151053,
          -22.716729077560586,
          -1.2854407614401235
         ],
         "xaxis": "x3",
         "yaxis": "y3"
        },
        {
         "alignmentgroup": "True",
         "bingroup": "y",
         "hovertemplate": "Screen=ASD<br>Initial Response Probability=%{y}<br>count=%{x}<extra></extra>",
         "legendgroup": "ASD",
         "marker": {
          "color": "black"
         },
         "name": "ASD",
         "offsetgroup": "ASD",
         "opacity": 0.5,
         "showlegend": false,
         "type": "histogram",
         "xaxis": "x2",
         "y": [
          0.3218091079980962,
          0.15899797291352988,
          -1.3782047459929447,
          -17.778152327739086,
          -13.918442319633257,
          -0.7682153140227798,
          -1.8150261095485525,
          -23.074023229164204,
          -58.309229285489586,
          -1.426028006894076,
          -35.08056428740579,
          -54.59356970435131,
          -22.563129232313617,
          -10.271800640404116,
          -2.470311543371365,
          0.35615450287356487,
          0.36568847957002365,
          0.13254854549225592,
          3.409026769675302,
          -2.1681754713971126,
          -2.0484860035100705,
          -2.876351559119351,
          -0.09183317937936465,
          2.0923578660536837,
          -1.6454288250650762,
          2.255822796477306,
          -0.5748040578103069,
          3.5406211634122924,
          -0.22326614241223766,
          -0.3145875015800742,
          2.094559480574237,
          -0.8497873827882381,
          5.124329489342407,
          -0.568304043629971,
          -1.1552296105069217,
          -0.5027551012052928,
          -2.2668837488867815,
          -2.4241019906941155,
          0.36608013245029974,
          -0.4633789512964103,
          -0.7173526143685222,
          1.4152235510052003,
          -0.19961064805598944,
          4.798130824513789,
          -0.537329400599268,
          0.05243886387108838,
          -2.0480256680651845,
          -1.4967392527433416,
          -1.524773278328797,
          0.6960225624630426,
          2.473106760845165,
          0.013814809232788997,
          -0.4882152705862425,
          11.18832424553527,
          -0.8865821207822991,
          -1.5059835144015696,
          -1.401045698202618,
          -0.7620166861726808,
          -2.0897354049430747,
          0.21162727566187958,
          -1.762198248992916,
          -1.1163027335264635,
          0.10385902439164059,
          -1.47933040647512,
          -0.888691179420907,
          -0.8304852910455647,
          -0.36958374371024977,
          0.5653252264156656,
          0.1867722844392909,
          -0.7874937621092241,
          -0.373676227466333,
          -0.6828914101767469,
          0,
          -2.4664501087773765,
          -0.765505379574982,
          2.0024364162225363,
          -2.6581033202860254,
          -4.421391071170352,
          -2.5465469940486747,
          -0.5699174545433329,
          -3.1755590585493136,
          -26.21129073603707,
          -0.898187504675162,
          -1.8181270617910434,
          -1.105941577862878,
          -1.6559685712349081,
          -1.3224852223194639,
          -1.9514240856084728,
          -2.4915611806039446,
          -0.701651315488362,
          -1.0589332579064248,
          -6.153446949721217,
          1.7768051290419824,
          -1.568933002145029,
          -2.4630284416872152,
          -2.371244686942587,
          -0.520028000198435,
          -5.738278958519362,
          -18.61771433375479,
          0.5204413007007962,
          0.654308580308896,
          -0.9858087215188805,
          -0.008908514406909799,
          -0.811735035769409,
          -0.5471284042293766,
          -1.4616259606990805,
          0.4261360975481248,
          -8.782693447736778,
          -0.2309646729471886,
          -1.3834824025192785,
          1.8621526321240967,
          -67.07355749882414,
          -67.07355749882414,
          -67.07355749882414,
          2.2512933714106236,
          -1.3676000408620437,
          -1.9443581917226858,
          -0.3808798586697913,
          -1.8922670521567915,
          -0.75603591608915,
          0.7200830834739548,
          -1.2232897518500543,
          -2.1793060806412505,
          0.02786488905681593,
          -0.6288667424991915,
          -3.10693863992479,
          -0.38679618590779596,
          0.8256647773964887,
          11.18832424553527,
          -0.7828223240888973,
          1.7834842532008541,
          -1.8907243276850763,
          -0.22210670443094743,
          0.6438305745144701,
          -0.40779522080143277,
          -10.139843326584,
          -1.0583062443323186
         ],
         "yaxis": "y2"
        },
        {
         "hovertemplate": "<b>OLS trendline</b><br>T_init_prob = 1.75729 * T_hab_prob + -0.282465<br>R<sup>2</sup>=0.531520<br><br>Screen=ASD<br>Degree of Habituation of Response Probability=%{x}<br>Initial Response Probability=%{y} <b>(trend)</b><extra></extra>",
         "legendgroup": "ASD",
         "marker": {
          "color": "black",
          "symbol": "circle"
         },
         "mode": "lines",
         "name": "ASD",
         "showlegend": false,
         "type": "scatter",
         "x": [
          -25.310072209057644,
          -24.420910975149003,
          -22.716729077560586,
          -17.536705560130944,
          -16.694725332283042,
          -15.309790579308828,
          -12.044593951441067,
          -11.986782483087653,
          -11.979270576609872,
          -11.32373207561386,
          -11.042225768427567,
          -10.658232750916271,
          -10.238253638117776,
          -8.27559978467576,
          -7.432469405525828,
          -6.765808504679964,
          -6.762904405097963,
          -5.989285439635338,
          -5.958214376182168,
          -5.147662982292533,
          -5.088480509436998,
          -4.776478078083833,
          -4.771706143986819,
          -4.728496102441119,
          -4.500342752899704,
          -4.228724627734124,
          -4.042669454272817,
          -3.998446469017626,
          -3.7488545475727424,
          -3.745362073164994,
          -3.6033001747936155,
          -3.6007735129630474,
          -3.4505426037332727,
          -3.3607563507967546,
          -3.294173987172703,
          -3.292283028795515,
          -3.2748485082215435,
          -2.921208564919186,
          -2.858937596386524,
          -2.6465348194004066,
          -2.6004653611424984,
          -2.4687293574478346,
          -2.4145737455775644,
          -2.3560553066799286,
          -2.345777374645663,
          -2.2086533988781354,
          -2.197938685045516,
          -2.1635467357900815,
          -2.1379033344266585,
          -2.049133930273535,
          -1.9144455844786492,
          -1.856049999183115,
          -1.8164806436424632,
          -1.708662946175073,
          -1.6412622565731954,
          -1.4645578170281628,
          -1.3947277848857174,
          -1.3554398143684427,
          -1.3220198233301101,
          -1.2854407614401235,
          -1.2539324574144866,
          -1.2062744821497804,
          -1.1753565468206075,
          -1.0105086448043652,
          -0.9684659859473752,
          -0.9023477726655623,
          -0.8692013704533322,
          -0.8259374453769581,
          -0.7894735925923072,
          -0.7065458670785243,
          -0.6555323091810609,
          -0.6063831999040532,
          -0.5658055744544555,
          -0.5583186343380091,
          -0.5066730335538312,
          -0.4075149271691543,
          -0.39607309138065,
          -0.39579945323292576,
          -0.36507701408325616,
          -0.328488120731565,
          -0.2523068023970105,
          -0.21731695791117087,
          -0.15795155802596691,
          -0.13640845540091925,
          -0.09258066345193991,
          -0.0775162583510839,
          -0.07565688566597739,
          -0.01946489981151053,
          -0.017257514488529004,
          0,
          0.0034924639110602675,
          0.09733498088780046,
          0.16027192406364182,
          0.18605541094795247,
          0.24577764446944741,
          0.2697882842341385,
          0.2889111152028091,
          0.3099835982706871,
          0.40889266464234036,
          0.42144769952940225,
          0.49316801351120626,
          0.5058234364972195,
          0.5131443898816274,
          0.5655927445916423,
          0.6325069612196149,
          0.6397670404536833,
          0.6814644150835475,
          0.7095070222639738,
          0.7694038532574556,
          0.7905982037752606,
          0.8305237000614296,
          0.8887131763930645,
          0.9064722514355352,
          0.9837747978772378,
          1.1566724879652277,
          1.222502946505645,
          1.4885579917376484,
          1.7478806886143299,
          1.76919978046307,
          1.7869282878999615,
          1.881722935687447,
          1.9500845327446965,
          1.969221966534404,
          2.204556985965872,
          2.3238006494485015,
          2.4917385006436783,
          2.6333824263788883,
          3.0060677114585985,
          3.393032631817353,
          3.485675621578031,
          3.722596086705141,
          4.258624067746486,
          4.746679601586677,
          4.990356535366464,
          6.029569026509586,
          6.455478494179587,
          7.506324189681062
         ],
         "xaxis": "x",
         "y": [
          -44.759566829300134,
          -43.197053922250696,
          -40.20231448760783,
          -31.09951817110187,
          -29.61991590851835,
          -27.186185844252094,
          -21.44829300712251,
          -21.346701572371575,
          -21.333500984693586,
          -20.18153064476831,
          -19.68684281806128,
          -19.012056262825663,
          -18.27403175229437,
          -14.82508249413478,
          -13.343459083770693,
          -12.171943477295319,
          -12.166840136183286,
          -10.807368341219956,
          -10.752767515374327,
          -9.328394784669332,
          -9.224394099325263,
          -8.676115781030724,
          -8.66773011560377,
          -8.591797601843016,
          -8.190866319810027,
          -7.7135548827221205,
          -7.386602245933544,
          -7.308889697731523,
          -6.870284657520141,
          -6.86414737202957,
          -6.614503616386448,
          -6.610063542335246,
          -6.346064476971793,
          -6.18828411752876,
          -6.071279688436512,
          -6.067956728822021,
          -6.037319244430918,
          -5.415871800721354,
          -5.306443737107919,
          -4.933190756796305,
          -4.852233422621575,
          -4.620735244061561,
          -4.525568204261048,
          -4.42273441822654,
          -4.404673125348619,
          -4.1637067248445785,
          -4.144877880288217,
          -4.084441299653699,
          -4.039378442566619,
          -3.8833849799067344,
          -3.646698684206993,
          -3.5440807874079137,
          -3.4745460096892424,
          -3.285079198185786,
          -3.1666367341750488,
          -2.856116035574259,
          -2.7334045155919795,
          -2.664364212569359,
          -2.6056356430372367,
          -2.5413556742855437,
          -2.48598649056295,
          -2.402237673548512,
          -2.347905938010752,
          -2.058220597739984,
          -1.984339512279309,
          -1.8681507292958897,
          -1.8099029342911614,
          -1.7338757316157911,
          -1.6697982185124456,
          -1.5240702711772462,
          -1.4344247270289612,
          -1.3480555572016601,
          -1.2767489582581788,
          -1.2635922436825457,
          -1.172836017769651,
          -0.9985866070260437,
          -0.9784799993399567,
          -0.9779991381402384,
          -0.9240109458116329,
          -0.8597137003442861,
          -0.7258411374902758,
          -0.6643538823785728,
          -0.5600317414491658,
          -0.522174292624551,
          -0.44515621311750597,
          -0.4186837056470246,
          -0.41541625120940495,
          -0.3166707146047744,
          -0.3127917015231666,
          -0.28246526790956406,
          -0.2763280008647024,
          -0.11141961483262655,
          -0.0008212415654968441,
          0.04448778621159,
          0.1494369868250131,
          0.19163061055501385,
          0.22523494356953966,
          0.2622653780076242,
          0.4360771535734014,
          0.4581399733538529,
          0.584173264078403,
          0.6064124947215235,
          0.6192775227038612,
          0.7114444189456807,
          0.8290320095412602,
          0.8417900640726828,
          0.9150643854944971,
          0.964343339632117,
          1.0695993583940537,
          1.1068439491135844,
          1.1770045689072084,
          1.2792602727720144,
          1.310468093033296,
          1.4463109772670004,
          1.7501421184133052,
          1.8658252332677634,
          2.3333607333628366,
          2.789065554387814,
          2.8265293516271472,
          2.85768345578337,
          3.0242650104425226,
          3.144396066177956,
          3.178026060563535,
          3.591577609280943,
          3.8011231406987163,
          4.096238413461017,
          4.345147670552132,
          5.000063276403074,
          5.680072322656701,
          5.842872793176969,
          6.259210427553979,
          7.201166292223189,
          8.058820721926498,
          8.487031421697367,
          10.313227693705525,
          11.061673549294088,
          12.908312718796061
         ],
         "yaxis": "y"
        },
        {
         "customdata": [
          [
           "AH102"
          ],
          [
           "AU3"
          ],
          [
           "AU98"
          ],
          [
           "BA1"
          ],
          [
           "BA1070"
          ],
          [
           "BA1084"
          ],
          [
           "BA1090"
          ],
          [
           "BA1091"
          ],
          [
           "BA1093"
          ],
          [
           "BA785"
          ],
          [
           "BB2"
          ],
          [
           "BC96"
          ],
          [
           "BQ5"
          ],
          [
           "BR2815"
          ],
          [
           "BS3383"
          ],
          [
           "BZ873"
          ],
          [
           "CB1124"
          ],
          [
           "CB1220"
          ],
          [
           "CB1309"
          ],
          [
           "CB1375"
          ],
          [
           "CB1387"
          ],
          [
           "CB1417"
          ],
          [
           "CB1460"
          ],
          [
           "CB1482"
          ],
          [
           "CB152"
          ],
          [
           "CB193"
          ],
          [
           "CB2"
          ],
          [
           "CB246"
          ],
          [
           "CB251"
          ],
          [
           "CB268"
          ],
          [
           "CB271"
          ],
          [
           "CB30"
          ],
          [
           "CB3031"
          ],
          [
           "CB312"
          ],
          [
           "CB3241"
          ],
          [
           "CB3687"
          ],
          [
           "CE1047"
          ],
          [
           "CX20"
          ],
          [
           "CX2065"
          ],
          [
           "CX51"
          ],
          [
           "CX5463"
          ],
          [
           "CX6161"
          ],
          [
           "CX6391"
          ],
          [
           "CZ1251"
          ],
          [
           "CZ1893"
          ],
          [
           "CZ2485"
          ],
          [
           "CZ540"
          ],
          [
           "CZ900"
          ],
          [
           "DA1084"
          ],
          [
           "DA1814"
          ],
          [
           "DA464"
          ],
          [
           "DG1856"
          ],
          [
           "DH1370"
          ],
          [
           "DR47"
          ],
          [
           "EK228"
          ],
          [
           "EK273"
          ],
          [
           "FK163"
          ],
          [
           "FK171"
          ],
          [
           "FX1053"
          ],
          [
           "FX794"
          ],
          [
           "GG53"
          ],
          [
           "GH534"
          ],
          [
           "GR1310"
          ],
          [
           "GS2381"
          ],
          [
           "GS3662"
          ],
          [
           "HA865"
          ],
          [
           "IC683"
          ],
          [
           "IG10"
          ],
          [
           "IG544"
          ],
          [
           "IG685"
          ],
          [
           "IK105"
          ],
          [
           "IK591"
          ],
          [
           "JC1225"
          ],
          [
           "JD21"
          ],
          [
           "JN147"
          ],
          [
           "JT1058"
          ],
          [
           "JT23"
          ],
          [
           "JT24"
          ],
          [
           "JT249"
          ],
          [
           "JT609"
          ],
          [
           "JY190"
          ],
          [
           "KG421"
          ],
          [
           "KG518"
          ],
          [
           "KG522"
          ],
          [
           "KG524"
          ],
          [
           "KG532"
          ],
          [
           "KG571"
          ],
          [
           "KG6"
          ],
          [
           "KG744"
          ],
          [
           "KJ461"
          ],
          [
           "KP1097"
          ],
          [
           "KP1182"
          ],
          [
           "KU12"
          ],
          [
           "KU2"
          ],
          [
           "KU21"
          ],
          [
           "KU4"
          ],
          [
           "KU404"
          ],
          [
           "KY50"
          ],
          [
           "LE436"
          ],
          [
           "LS292"
          ],
          [
           "LS396"
          ],
          [
           "LS721"
          ],
          [
           "LX147"
          ],
          [
           "LX160"
          ],
          [
           "LX475"
          ],
          [
           "LX533"
          ],
          [
           "LX604"
          ],
          [
           "LX645"
          ],
          [
           "LX702"
          ],
          [
           "LX734"
          ],
          [
           "LY110"
          ],
          [
           "LY130"
          ],
          [
           "LY140"
          ],
          [
           "MH1019"
          ],
          [
           "MH2407"
          ],
          [
           "MH2430"
          ],
          [
           "ML514"
          ],
          [
           "MR127"
          ],
          [
           "MT1079"
          ],
          [
           "MT1083"
          ],
          [
           "MT1212"
          ],
          [
           "MT1215"
          ],
          [
           "MT1241"
          ],
          [
           "MT13032"
          ],
          [
           "MT1434"
          ],
          [
           "MT1443"
          ],
          [
           "MT1520"
          ],
          [
           "MT2426"
          ],
          [
           "MT2840"
          ],
          [
           "MT4698"
          ],
          [
           "MT4970"
          ],
          [
           "MT5267"
          ],
          [
           "MT5383"
          ],
          [
           "MT7531"
          ],
          [
           "MT8504"
          ],
          [
           "MT8628"
          ],
          [
           "MT8673"
          ],
          [
           "MT8943"
          ],
          [
           "MT8944"
          ],
          [
           "MT9958"
          ],
          [
           "MX124"
          ],
          [
           "MX52"
          ],
          [
           "N2"
          ],
          [
           "NA654"
          ],
          [
           "NG144"
          ],
          [
           "NG324"
          ],
          [
           "NL1000"
          ],
          [
           "NL1106"
          ],
          [
           "NL1137"
          ],
          [
           "NL1142"
          ],
          [
           "NL1146"
          ],
          [
           "NL1832"
          ],
          [
           "NL2001"
          ],
          [
           "NL2003"
          ],
          [
           "NL2037"
          ],
          [
           "NL2330"
          ],
          [
           "NL332"
          ],
          [
           "NL335"
          ],
          [
           "NL594"
          ],
          [
           "NL787"
          ],
          [
           "NL790"
          ],
          [
           "NL792"
          ],
          [
           "NL793"
          ],
          [
           "NL795"
          ],
          [
           "NL797"
          ],
          [
           "NM1278"
          ],
          [
           "NM1380"
          ],
          [
           "NM1568"
          ],
          [
           "NM1581"
          ],
          [
           "NM1815"
          ],
          [
           "NM2739"
          ],
          [
           "NM791"
          ],
          [
           "NM833"
          ],
          [
           "NS2937"
          ],
          [
           "NS2938"
          ],
          [
           "NS3026"
          ],
          [
           "NU3"
          ],
          [
           "NW987"
          ],
          [
           "OH313"
          ],
          [
           "OH4149"
          ],
          [
           "ON167"
          ],
          [
           "OS122"
          ],
          [
           "PR811"
          ],
          [
           "PS3653"
          ],
          [
           "PY1133"
          ],
          [
           "RB1001"
          ],
          [
           "RB1004"
          ],
          [
           "RB1011"
          ],
          [
           "RB1012"
          ],
          [
           "RB1028"
          ],
          [
           "RB1030"
          ],
          [
           "RB1038"
          ],
          [
           "RB1066"
          ],
          [
           "RB1068"
          ],
          [
           "RB1070"
          ],
          [
           "RB1073"
          ],
          [
           "RB1075"
          ],
          [
           "RB1086"
          ],
          [
           "RB1091"
          ],
          [
           "RB1100"
          ],
          [
           "RB1106"
          ],
          [
           "RB1117"
          ],
          [
           "RB1119"
          ],
          [
           "RB1126"
          ],
          [
           "RB1136"
          ],
          [
           "RB1139"
          ],
          [
           "RB1142"
          ],
          [
           "RB1147"
          ],
          [
           "RB1149"
          ],
          [
           "RB1150"
          ],
          [
           "RB1157"
          ],
          [
           "RB1162"
          ],
          [
           "RB1170"
          ],
          [
           "RB1173"
          ],
          [
           "RB1176"
          ],
          [
           "RB1178"
          ],
          [
           "RB1194"
          ],
          [
           "RB1203"
          ],
          [
           "RB1204"
          ],
          [
           "RB1211"
          ],
          [
           "RB1231"
          ],
          [
           "RB1244"
          ],
          [
           "RB1256"
          ],
          [
           "RB1265"
          ],
          [
           "RB1284"
          ],
          [
           "RB1287"
          ],
          [
           "RB1288"
          ],
          [
           "RB1289"
          ],
          [
           "RB1321"
          ],
          [
           "RB1323"
          ],
          [
           "RB1324"
          ],
          [
           "RB1327"
          ],
          [
           "RB1328"
          ],
          [
           "RB1329"
          ],
          [
           "RB1335"
          ],
          [
           "RB1340"
          ],
          [
           "RB1342"
          ],
          [
           "RB1344"
          ],
          [
           "RB1348"
          ],
          [
           "RB1349"
          ],
          [
           "RB1365"
          ],
          [
           "RB1372"
          ],
          [
           "RB1375"
          ],
          [
           "RB1396"
          ],
          [
           "RB1410"
          ],
          [
           "RB1416"
          ],
          [
           "RB1417"
          ],
          [
           "RB1420"
          ],
          [
           "RB1423"
          ],
          [
           "RB1470"
          ],
          [
           "RB1473"
          ],
          [
           "RB1481"
          ],
          [
           "RB1496"
          ],
          [
           "RB1499"
          ],
          [
           "RB1501"
          ],
          [
           "RB1536"
          ],
          [
           "RB1537"
          ],
          [
           "RB1544"
          ],
          [
           "RB1548"
          ],
          [
           "RB1553"
          ],
          [
           "RB1557"
          ],
          [
           "RB1566"
          ],
          [
           "RB1576"
          ],
          [
           "RB1593"
          ],
          [
           "RB1600"
          ],
          [
           "RB1609"
          ],
          [
           "RB1625"
          ],
          [
           "RB1627"
          ],
          [
           "RB1632"
          ],
          [
           "RB1638"
          ],
          [
           "RB1652"
          ],
          [
           "RB1654"
          ],
          [
           "RB1660"
          ],
          [
           "RB1668"
          ],
          [
           "RB1674"
          ],
          [
           "RB1679"
          ],
          [
           "RB1712"
          ],
          [
           "RB1713"
          ],
          [
           "RB1720"
          ],
          [
           "RB1734"
          ],
          [
           "RB1737"
          ],
          [
           "RB1751"
          ],
          [
           "RB1762"
          ],
          [
           "RB1775"
          ],
          [
           "RB1777"
          ],
          [
           "RB1797"
          ],
          [
           "RB1798"
          ],
          [
           "RB1800"
          ],
          [
           "RB1808"
          ],
          [
           "RB1811"
          ],
          [
           "RB1812"
          ],
          [
           "RB1813"
          ],
          [
           "RB1816"
          ],
          [
           "RB1822"
          ],
          [
           "RB1827"
          ],
          [
           "RB1834"
          ],
          [
           "RB1836"
          ],
          [
           "RB1861"
          ],
          [
           "RB1863"
          ],
          [
           "RB1868"
          ],
          [
           "RB1871"
          ],
          [
           "RB1875"
          ],
          [
           "RB1902"
          ],
          [
           "RB1907"
          ],
          [
           "RB1908"
          ],
          [
           "RB1919"
          ],
          [
           "RB1923"
          ],
          [
           "RB1929"
          ],
          [
           "RB1938"
          ],
          [
           "RB1940"
          ],
          [
           "RB1975"
          ],
          [
           "RB1978"
          ],
          [
           "RB1980"
          ],
          [
           "RB1981"
          ],
          [
           "RB2027"
          ],
          [
           "RB2030"
          ],
          [
           "RB2036"
          ],
          [
           "RB2040"
          ],
          [
           "RB2051"
          ],
          [
           "RB2062"
          ],
          [
           "RB2067"
          ],
          [
           "RB2077"
          ],
          [
           "RB2088"
          ],
          [
           "RB2105"
          ],
          [
           "RB2108"
          ],
          [
           "RB2120"
          ],
          [
           "RB2127"
          ],
          [
           "RB2130"
          ],
          [
           "RB2136"
          ],
          [
           "RB2148"
          ],
          [
           "RB2160"
          ],
          [
           "RB2164"
          ],
          [
           "RB2171"
          ],
          [
           "RB2174"
          ],
          [
           "RB2182"
          ],
          [
           "RB2202"
          ],
          [
           "RB2212"
          ],
          [
           "RB2224"
          ],
          [
           "RB2261"
          ],
          [
           "RB2266"
          ],
          [
           "RB2271"
          ],
          [
           "RB2272"
          ],
          [
           "RB2304"
          ],
          [
           "RB2315"
          ],
          [
           "RB2320"
          ],
          [
           "RB2327"
          ],
          [
           "RB2341"
          ],
          [
           "RB2342"
          ],
          [
           "RB2344"
          ],
          [
           "RB2350"
          ],
          [
           "RB2360"
          ],
          [
           "RB2371"
          ],
          [
           "RB2372"
          ],
          [
           "RB2402"
          ],
          [
           "RB2412"
          ],
          [
           "RB2414"
          ],
          [
           "RB2428"
          ],
          [
           "RB2448"
          ],
          [
           "RB2462"
          ],
          [
           "RB2464"
          ],
          [
           "RB2468"
          ],
          [
           "RB2476"
          ],
          [
           "RB2482"
          ],
          [
           "RB2491"
          ],
          [
           "RB2520"
          ],
          [
           "RB2526"
          ],
          [
           "RB2531"
          ],
          [
           "RB2534"
          ],
          [
           "RB2543"
          ],
          [
           "RB2544"
          ],
          [
           "RB2552"
          ],
          [
           "RB2563"
          ],
          [
           "RB2575"
          ],
          [
           "RB2580"
          ],
          [
           "RB2588"
          ],
          [
           "RB2594"
          ],
          [
           "RB503"
          ],
          [
           "RB545"
          ],
          [
           "RB640"
          ],
          [
           "RB641"
          ],
          [
           "RB660"
          ],
          [
           "RB662"
          ],
          [
           "RB663"
          ],
          [
           "RB685"
          ],
          [
           "RB687"
          ],
          [
           "RB689"
          ],
          [
           "RB694"
          ],
          [
           "RB699"
          ],
          [
           "RB700"
          ],
          [
           "RB709"
          ],
          [
           "RB710"
          ],
          [
           "RB737"
          ],
          [
           "RB743"
          ],
          [
           "RB746"
          ],
          [
           "RB751"
          ],
          [
           "RB756"
          ],
          [
           "RB761"
          ],
          [
           "RB768"
          ],
          [
           "RB771"
          ],
          [
           "RB779"
          ],
          [
           "RB785"
          ],
          [
           "RB787"
          ],
          [
           "RB796"
          ],
          [
           "RB797"
          ],
          [
           "RB809"
          ],
          [
           "RB812"
          ],
          [
           "RB814"
          ],
          [
           "RB818"
          ],
          [
           "RB821"
          ],
          [
           "RB830"
          ],
          [
           "RB849"
          ],
          [
           "RB852"
          ],
          [
           "RB866"
          ],
          [
           "RB874"
          ],
          [
           "RB876"
          ],
          [
           "RB878"
          ],
          [
           "RB879"
          ],
          [
           "RB883"
          ],
          [
           "RB884"
          ],
          [
           "RB894"
          ],
          [
           "RB896"
          ],
          [
           "RB901"
          ],
          [
           "RB907"
          ],
          [
           "RB911"
          ],
          [
           "RB914"
          ],
          [
           "RB919"
          ],
          [
           "RB921"
          ],
          [
           "RB931"
          ],
          [
           "RB936"
          ],
          [
           "RB942"
          ],
          [
           "RB949"
          ],
          [
           "RB960"
          ],
          [
           "RB967"
          ],
          [
           "RB975"
          ],
          [
           "RB976"
          ],
          [
           "RB982"
          ],
          [
           "RB983"
          ],
          [
           "RB987"
          ],
          [
           "RM2209"
          ],
          [
           "RM2702"
          ],
          [
           "RM2710"
          ],
          [
           "RT2"
          ],
          [
           "SN5"
          ],
          [
           "SP1234"
          ],
          [
           "SP1745"
          ],
          [
           "SP2163"
          ],
          [
           "SP2232"
          ],
          [
           "ST36"
          ],
          [
           "TG38"
          ],
          [
           "TJ1052"
          ],
          [
           "TR1331"
          ],
          [
           "TY1807"
          ],
          [
           "UL768"
          ],
          [
           "VB674"
          ],
          [
           "VC1000"
          ],
          [
           "VC1005"
          ],
          [
           "VC1024"
          ],
          [
           "VC1025"
          ],
          [
           "VC1063"
          ],
          [
           "VC1065"
          ],
          [
           "VC1076"
          ],
          [
           "VC1089"
          ],
          [
           "VC1115"
          ],
          [
           "VC1142"
          ],
          [
           "VC116"
          ],
          [
           "VC1164"
          ],
          [
           "VC1179"
          ],
          [
           "VC1218"
          ],
          [
           "VC1228"
          ],
          [
           "VC1241"
          ],
          [
           "VC125"
          ],
          [
           "VC1263"
          ],
          [
           "VC1383"
          ],
          [
           "VC1392"
          ],
          [
           "VC14"
          ],
          [
           "VC1408"
          ],
          [
           "VC142"
          ],
          [
           "VC145"
          ],
          [
           "VC161"
          ],
          [
           "VC1613"
          ],
          [
           "VC1614"
          ],
          [
           "VC1620"
          ],
          [
           "VC1622"
          ],
          [
           "VC1655"
          ],
          [
           "VC1658"
          ],
          [
           "VC1663"
          ],
          [
           "VC1682"
          ],
          [
           "VC18"
          ],
          [
           "VC181"
          ],
          [
           "VC1973"
          ],
          [
           "VC1995"
          ],
          [
           "VC20"
          ],
          [
           "VC201"
          ],
          [
           "VC204"
          ],
          [
           "VC2138"
          ],
          [
           "VC214"
          ],
          [
           "VC2141"
          ],
          [
           "VC2154"
          ],
          [
           "VC2167"
          ],
          [
           "VC218"
          ],
          [
           "VC2199"
          ],
          [
           "VC220"
          ],
          [
           "VC2205"
          ],
          [
           "VC2213"
          ],
          [
           "VC224"
          ],
          [
           "VC228"
          ],
          [
           "VC230"
          ],
          [
           "VC2324"
          ],
          [
           "VC2392"
          ],
          [
           "VC240"
          ],
          [
           "VC246"
          ],
          [
           "VC259"
          ],
          [
           "VC263"
          ],
          [
           "VC279"
          ],
          [
           "VC282"
          ],
          [
           "VC290"
          ],
          [
           "VC333"
          ],
          [
           "VC376"
          ],
          [
           "VC380"
          ],
          [
           "VC381"
          ],
          [
           "VC432"
          ],
          [
           "VC464"
          ],
          [
           "VC504"
          ],
          [
           "VC550"
          ],
          [
           "VC619"
          ],
          [
           "VC624"
          ],
          [
           "VC636"
          ],
          [
           "VC689"
          ],
          [
           "VC691"
          ],
          [
           "VC700"
          ],
          [
           "VC723"
          ],
          [
           "VC728"
          ],
          [
           "VC781"
          ],
          [
           "VC808"
          ],
          [
           "VC816"
          ],
          [
           "VC822"
          ],
          [
           "VC830"
          ],
          [
           "VC855"
          ],
          [
           "VC867"
          ],
          [
           "VC885"
          ],
          [
           "VC909"
          ],
          [
           "VC913"
          ],
          [
           "VC916"
          ],
          [
           "VC956"
          ],
          [
           "VC980"
          ],
          [
           "VC998"
          ],
          [
           "XA406"
          ],
          [
           "XA7400"
          ],
          [
           "XJ1"
          ],
          [
           "XM1011"
          ],
          [
           "XR1"
          ]
         ],
         "hovertemplate": "<b>%{hovertext}</b><br><br>Screen=Neuronal<br>Degree of Habituation of Response Probability=%{x}<br>Initial Response Probability=%{y}<br>Allele=%{customdata[0]}<extra></extra>",
         "hovertext": [
          "lip-1",
          "nsy-1",
          "inx-14",
          "fer-1",
          "cdh-5",
          "F09C12.2",
          "cav-2",
          "C35D10.2",
          "snf-10",
          "spe-8",
          "adr-1",
          "unc-22",
          "eak-6",
          "nep-1",
          "pmk-3",
          "dop-3",
          "che-3",
          "unc-82",
          "lin-2",
          "daf-18",
          "daf-10",
          "lin-3",
          "unc-89",
          "sma-6",
          "unc-5",
          "unc-29",
          "vab-1",
          "unc-64",
          "unc-36",
          "unc-41",
          "unc-40",
          "sma-1",
          "snb-1",
          "unc-13",
          "cir-1",
          "che-14",
          "egl-30",
          "adp-1",
          "odr-1",
          "dyn-1",
          "slt-1",
          "inx-19",
          "syg-2",
          "rpm-1",
          "syd-1",
          "ahr-1",
          "ptp-3",
          "syd-2",
          "egl-30",
          "ser-1",
          "eat-5",
          "goa-1",
          "rme-6",
          "daf-11",
          "mbk-1",
          "hpk-1",
          "cam-1",
          "mek-1",
          "ins-11",
          "rnf-5",
          "emb-30",
          "mrp-4",
          "akt-1",
          "sel-5",
          "dsl-1",
          "grk-2",
          "npr-9",
          "tol-1",
          "nipi-3",
          "tir-1",
          "pkc-1",
          "ttx-7",
          "mrp-1",
          "cca-1",
          "gap-2",
          "hid-1",
          "aex-5",
          "aex-6",
          "scd-2",
          "eat-16",
          "osm-9",
          "gsa-1",
          "acy-1",
          "acy-1",
          "gsa-1",
          "kin-2",
          "eat-16",
          "unknown",
          "pde-4",
          "cng-1",
          "dgk-1",
          "acy-1",
          "dlk-1",
          "jkk-1",
          "kgb-1",
          "sek-1",
          "exc-5",
          "aex-1",
          "swan-2",
          "dys-1",
          "dyc-1",
          "stn-1",
          "rgs-1",
          "rgs-2",
          "rgs-5",
          "rgs-6",
          "rgs-4",
          "dop-1",
          "dop-2",
          "dop-1, dop-2, dop-3",
          "kcnl-1",
          "twk-20",
          "kvs-3",
          "soc-2",
          "ect-2",
          "cbp-1",
          "che-14",
          "inx-6",
          "egl-15",
          "egl-8",
          "egl-19",
          "egl-20",
          "egl-21",
          "sli-1",
          "egl-30",
          "egl-10",
          "egl-30",
          "goa-1",
          "dig-1",
          "let-60",
          "ced-6",
          "soc-1",
          "lin-44",
          "ppk-3",
          "egl-10",
          "unknown",
          "ksr-1",
          "bas-1; cat-4",
          "mod-5",
          "ced-10",
          "ifta-1",
          "bbs-8",
          "N2",
          "kal-1",
          "ina-1",
          "wsp-1",
          "cdh-3",
          "prk-2",
          "gpa-5",
          "gpa-8",
          "gpa-6",
          "ucr-2.3",
          "gpb-2",
          "ric-19",
          "rsd-3",
          "gpa-13",
          "gpa-1",
          "gpa-3",
          "gpa-12",
          "gpa-11",
          "gpa-4",
          "gpc-1",
          "gpa-9",
          "gpa-7",
          "gpa-15",
          "rbf-1",
          "egl-30",
          "ehs-1",
          "rpy-1",
          "tom-1",
          "aex-3",
          "rab-3",
          "snb-1",
          "trf-1",
          "cnx-1",
          "ikb-1",
          "dbl-1",
          "unc-129",
          "ser-2",
          "wrk-1",
          "pfn-3",
          "cfi-1",
          "osm-6",
          "ipp-5",
          "str-2",
          "cpna-3",
          "K08E3.4",
          "crb-1",
          "egl-8",
          "mrp-3",
          "snf-9",
          "C09G4.2",
          "Y52B11A.4",
          "nra-1",
          "mrp-6",
          "dgk-4",
          "pes-9",
          "inx-5",
          "Y64G10A.7",
          "ver-4",
          "ape-1",
          "Y47G6A.14",
          "F36A2.13",
          "H06H21.9",
          "R05G6.10",
          "clh-4",
          "F37E3.2",
          "F44D12.4",
          "scrm-3",
          "gpr-2",
          "pept-2",
          "cfz-2",
          "C04B4.2",
          "plc-4",
          "oxi-1",
          "wwp-1",
          "grk-1",
          "T10B11.2",
          "old-2",
          "C34G6.5",
          "pde-4",
          "W04B5.5",
          "cdh-4",
          "F45H7.6",
          "nmur-4",
          "VZC374L.1",
          "nmur-1",
          "npr-18",
          "C56G3.1",
          "C06G1.5",
          "ssr-2",
          "swd-3.2",
          "dsh-1",
          "C56G3.1",
          "T21C9.1",
          "nlp-1",
          "ogt-1",
          "zig-3",
          "M195.2",
          "F57H12.4",
          "npr-16",
          "nlp-18",
          "C44H4.6",
          "nlp-20",
          "Y45F10B.8",
          "nhr-83",
          "cul-6",
          "rbx-2",
          "C49A9.7",
          "cul-5",
          "tli-1",
          "ubc-25",
          "plc-2",
          "cnt-2",
          "frm-8",
          "dep-1",
          "rab-19",
          "F11A5.4",
          "F53C3.13",
          "K02E10.1",
          "hum-5",
          "F09A5.2",
          "rgl-1",
          "klp-15",
          "tub-1",
          "nlp-5",
          "par-1",
          "pll-1",
          "T02E9.1",
          "rab-18",
          "D1081.4",
          "F31E3.2",
          "clec-4",
          "npr-19",
          "frm-7",
          "cav-1",
          "rig-3",
          "mrp-2",
          "Y106G6A.1",
          "F47G4.4",
          "pld-1",
          "rga-5",
          "dsl-6",
          "strd-1",
          "F45E4.3",
          "W02B8.2",
          "zig-7",
          "gpa-17",
          "glr-2",
          "C03B1.5",
          "atn-1",
          "piki-1",
          "gpa-16",
          "elp-1",
          "hum-6",
          "inx-4",
          "npr-14",
          "arl-5",
          "flp-12",
          "hum-8",
          "stn-2",
          "vps-20",
          "flp-19",
          "K03E5.1",
          "mlk-1",
          "W07E6.3",
          "ckr-1",
          "inx-21",
          "npr-32",
          "F55D12.5",
          "klc-1",
          "ZK1248.15",
          "C02C6.3",
          "lin-23",
          "src-1",
          "nlp-3",
          "Y42A5A.4",
          "T19F4.1",
          "inx-10",
          "C13B9.3",
          "flp-9",
          "W09C5.7",
          "F11E6.8",
          "T07D10.2",
          "inx-11",
          "Y6B3B.5",
          "plk-3",
          "C03A3.3",
          "cdk-14",
          "F53B6.2",
          "cdh-10",
          "pde-1",
          "Y4C6A.1",
          "F59D6.7",
          "riok-3",
          "vit-4",
          "M02D8.1",
          "F38B6.6",
          "unknown",
          "skr-5",
          "Y106G6H.14",
          "F49C5.4",
          "arg-1",
          "T27A8.1",
          "F07A11.4",
          "cex-1",
          "ubc-16",
          "adm-2",
          "C49C3",
          "clec-43",
          "ZC477.2",
          "nhl-3",
          "atg-16.2",
          "snt-5",
          "ins-35",
          "C56E6.6",
          "T02C1.1",
          "cls-3",
          "oct-1",
          "tax-2",
          "ZK909.3",
          "tig-2",
          "W02C12.1",
          "ubc-24",
          "snt-6",
          "nmur-2",
          "F59E12.3",
          "F39E9.6",
          "efa-6",
          "ins-4",
          "ins-31",
          "qui-1",
          "flp-17",
          "wdfy-2",
          "efk-1",
          "ins-22",
          "sng-1",
          "pek-1",
          "skr-3",
          "snf-2",
          "arr-1",
          "apb-3",
          "dylt-1",
          "cdh-7",
          "snf-5",
          "pak-1",
          "pfn-2",
          "rgs-9",
          "erp-1",
          "snf-7",
          "F44D12.1",
          "snt-4",
          "nph-1",
          "T05C1.4",
          "eps-8",
          "gar-2",
          "F35G8.1",
          "C50F2.8",
          "hum-4",
          "zig-8",
          "dop-5",
          "T27A8.2",
          "sta-1",
          "dsl-5",
          "ptl-1",
          "fax-1",
          "cdk-5",
          "hum-1",
          "clh-2",
          "epac-1",
          "kap-1",
          "ras-2",
          "klp-10",
          "M110.7",
          "zig-6",
          "hlb-1",
          "wnk-1",
          "kqt-2",
          "fkh-10",
          "pgp-13",
          "gar-1",
          "nex-2",
          "C11D9.1",
          "fshr-1",
          "pxn-1",
          "snf-1",
          "nhr-84",
          "ZK836.3",
          "src-2",
          "cdc-42",
          "cnk-1",
          "exl-1",
          "gcn-2",
          "T27F2.2",
          "rhgf-1",
          "flp-21",
          "ver-2",
          "sbt-1",
          "ric-8",
          "dat-1",
          "snf-11",
          "rab-10",
          "old-1",
          "dyf-2",
          "dyf-5",
          "sym-1",
          "sym-4",
          "plx-1",
          "aak-2",
          "age-1",
          "smg-1",
          "xol-1",
          "pes-1",
          "nnt-1",
          "C04E6.5",
          "klp-16",
          "pdr-1",
          "tag-333",
          "nlp-15",
          "Y48G8AL.1",
          "C14F11.2",
          "mkk-4",
          "let-92",
          "tag-344",
          "inx-8",
          "ZK328.7",
          "F08B12.1",
          "ins-18",
          "klp-11",
          "skr-1",
          "tyra-3",
          "ver-1",
          "dgk-5",
          "zip-5",
          "rap-2",
          "magi-1",
          "dgk-2",
          "pes-7",
          "mtm-6",
          "T15B12.1",
          "ebp-2",
          "F52B5.2",
          "bli-4",
          "nhr-99",
          "cdh-1",
          "F47C12.1",
          "T10B10.3",
          "ubc-1",
          "nex-4",
          "T01C3.3",
          "esyt-2",
          "nhl-1",
          "itsn-1",
          "akt-2",
          "kcnl-2",
          "nck-1",
          "C27B7.7",
          "F16B12.5",
          "gck-2",
          "dgk-3",
          "bli-4",
          "cmk-1",
          "F59A6.5",
          "C54E4.2",
          "octr-1",
          "nlg-1",
          "vap-1",
          "flp-6",
          "elks-1",
          "nex-1",
          "rnf-1",
          "pak-2",
          "mtm-5",
          "elp-1",
          "pdl-1",
          "tag-53",
          "tap-1",
          "shn-1",
          "tag-68",
          "atm-1",
          "dapk-1",
          "aka-1",
          "tag-163",
          "tag-180",
          "inx-9",
          "cor-1",
          "cwn-2",
          "dsl-4",
          "ckk-1",
          "rgs-10",
          "zig-5",
          "atl-1",
          "cpn-3",
          "tag-325",
          "ric-4",
          "kgb-2",
          "tag-312",
          "cle-1",
          "igcm-3",
          "snb-5",
          "inft-1",
          "nex-3",
          "sphk-1",
          "sph-1",
          "fsn-1",
          "dnj-7",
          "ncs-1",
          "glc-3",
          "N2",
          "inx-22",
          "abl-1"
         ],
         "legendgroup": "Neuronal",
         "marker": {
          "color": "red",
          "opacity": 0.65,
          "symbol": "circle"
         },
         "mode": "markers",
         "name": "Neuronal",
         "orientation": "v",
         "showlegend": true,
         "type": "scatter",
         "x": [
          -2.9269201590345744,
          -3.5587159013552765,
          4.315148918946964,
          1.6384488673854982,
          0.07271296063743016,
          -4.943347352388724,
          1.9530263008906723,
          -3.710658434196127,
          -10.037940693170384,
          -5.0825613224981385,
          2.183981972270994,
          -9.669632961675289,
          -5.946068812632951,
          -49.7854945128771,
          0.7611452762201333,
          -0.08531086373125839,
          0.7585091617879843,
          -1.8972471827498483,
          -1.2304237941782374,
          -2.8064047471124747,
          -2.223642330982019,
          -4.3913464925004,
          -0.9724084509004307,
          -2.540669546957292,
          -9.048309000672594,
          3.722874517340164,
          -7.333888803288086,
          -4.305106996366693,
          -83.93771503951183,
          -14.69170052785429,
          -4.157371079103396,
          -8.446963454145624,
          -1.5449534865772185,
          -0.10357798832332672,
          -12.905607783809051,
          -4.267128934010547,
          -10.416461887950444,
          -11.909697467150359,
          1.8079700380573553,
          25.815383674692622,
          -3.7918443886603557,
          -3.242190308039162,
          -17.675112445922135,
          -9.67157528982075,
          -9.03758707897204,
          -3.2934698259531316,
          -9.101387209939674,
          -21.891191856605882,
          -0.8180210025603358,
          -2.0194239470366977,
          -4.403399443764314,
          -10.47231948299202,
          -15.739909712742381,
          -11.95145460101005,
          -2.0944621265854,
          -3.826354949510879,
          -7.341788248930715,
          -5.010373708194842,
          -2.4137737928081364,
          -13.856722875669458,
          -3.779758916247131,
          -10.494596487982509,
          -5.916475762271647,
          -7.642759279033785,
          -7.115101233555751,
          -6.880786128332895,
          -37.11554926734025,
          -2.199125114865502,
          -8.436365476164159,
          -4.748652343113076,
          3.4168524030089076,
          -7.0559093836389515,
          -2.6010522339988205,
          -3.7550105877378672,
          -4.565676383354067,
          -1.5280543071009727,
          -4.373599080563715,
          -0.11759399599270894,
          -14.832493248817503,
          -5.486453039468474,
          -1.4045337735896584,
          -2.8093472740037186,
          -2.585499516932234,
          -2.5185972821463896,
          -1.4564630041282696,
          -2.876724259826326,
          -6.6544688931767775,
          -1.0328672710554425,
          2.1846869737291215,
          -8.537683624442762,
          -5.814653259689252,
          -8.696659540616949,
          -1.6047632264332088,
          12.603046412884959,
          -30.975925761525374,
          0.7011855569972631,
          6.3821598993172035,
          -3.0915110527488827,
          -24.203321133544915,
          -3.172366706894686,
          -3.9845069004038742,
          -5.448266990808383,
          -0.5200367197849127,
          -5.218455383723371,
          -0.3102431010364551,
          -2.5573443730711083,
          -3.5020298044519507,
          -2.9511523195128673,
          -2.25648945755612,
          5.643677866583025,
          -4.993341582212175,
          -8.042978806858924,
          0.18834379697887457,
          -1.6990828178933404,
          -9.921217079802853,
          -9.74680396027078,
          -9.305400050608768,
          -1.7426302489267247,
          0.21108012411225302,
          -2.6389573299448945,
          2.3043880395293033,
          -13.078623425380906,
          -2.488370939382492,
          -5.5945490995161,
          -1.6260266552025997,
          -2.673417329127967,
          -10.507540629313736,
          -3.3538003501043203,
          6.626996410769524,
          -0.09933430682440407,
          -13.655726534756026,
          -3.8526405143283466,
          -3.505424820016107,
          0.28120170647347864,
          0.7109750180715334,
          -2.3631299646666117,
          6.479251660324434,
          3.7923029596415985,
          -2.6290354591939833,
          -5.368943195698791,
          -0.6095580180671772,
          -9.15887243895084,
          0,
          -1.587445989361159,
          -0.6372128681615873,
          -19.3367580733655,
          -0.7555220751723729,
          -7.90514197778453,
          -3.7044842924072627,
          -4.105648759094665,
          -10.423371059524452,
          -0.79519687507836,
          -2.158115089475848,
          -2.889056679427496,
          -5.483708487527157,
          -3.366856279739074,
          -1.5029234994803498,
          -14.63037548961755,
          -3.914227752713337,
          -1.4603162408601085,
          -2.3832190749729127,
          -0.2311485901768597,
          -3.154855831532702,
          -1.5820259384034963,
          0.06542068392498573,
          3.9859632996771213,
          -7.076833412579282,
          -3.9506981086714617,
          -3.511460500021731,
          3.9780426983945234,
          8.650453411589444,
          -7.46586228740602,
          -13.992295313736243,
          0.09643200191947641,
          -8.972013166477476,
          -0.8415093711997126,
          -5.928395679684496,
          -2.360192912026523,
          -0.5420908461807852,
          -8.810934470232441,
          -17.87286039857314,
          -4.320036084833831,
          -4.434967479649103,
          -9.218028939308644,
          -5.757841256909577,
          0.29680929970288117,
          -1.5614201135152224,
          1.233702925227723,
          -1.1193435116018369,
          -2.662429060891792,
          -4.6970120936761255,
          -6.8368783800732595,
          -10.18818565725402,
          -4.830945916040436,
          -2.87078515324511,
          -7.95872039560527,
          0.2994886967407288,
          -7.562119942167294,
          -3.150813746747599,
          -3.792501725220277,
          -2.7691711201346387,
          -1.2020573138479496,
          0.15889283953549338,
          -8.413709035865399,
          -6.3205379062337625,
          -5.520437014583713,
          -11.288655147432117,
          -7.192414691561542,
          -6.644877216267254,
          -0.7886504812520778,
          -5.107198235189568,
          -4.2656450298268505,
          -6.127288856629809,
          -0.7615278642319001,
          -5.5731906867384104,
          -4.090453087432597,
          -3.2152761277791932,
          -10.643439284796031,
          -19.12790325353527,
          -4.231836998563296,
          -7.5790038332025516,
          -3.9576573780936983,
          -1.8990733455601314,
          -20.817230722304927,
          -1.4728256118811511,
          -3.4788173776821947,
          -2.4205024510276063,
          -10.423716149357675,
          1.390643644355686,
          -1.945411147195934,
          -0.3739416127082012,
          -4.224512612404866,
          -0.3951442116020422,
          -10.484524277023063,
          -4.2316886228310615,
          9.659138522433517,
          -1.8097768015350875,
          -5.048322344050695,
          9.612912519041942,
          0.4393541341467269,
          -7.729463095172824,
          -3.107768602210124,
          -3.153430679393358,
          -5.9294497715558645,
          -3.150923402098956,
          -2.95677942041533,
          -0.23358466905301153,
          0.11494761190135051,
          0.5325866305135342,
          3.251368630294429,
          1.1265409503542483,
          -4.067665477035959,
          8.076236422145978,
          -3.1583362204820267,
          -3.7271591056412117,
          -2.228213870524898,
          -3.2911374778929106,
          -2.2187157734959255,
          -5.737518066122293,
          9.86052556697658,
          -2.1237981240697397,
          -0.24914192378187297,
          -5.272172241452014,
          -12.534010855872403,
          -10.204688966199985,
          -6.294037775008137,
          -7.030395147768639,
          -9.732894057054004,
          0.6101080674845676,
          -3.4435430288140996,
          -10.059601211977697,
          3.406471546673738,
          -16.445944017945674,
          -1.5592818864745503,
          -0.44868408233733925,
          -3.540604007224312,
          -1.8381636505661567,
          -1.4043274951193712,
          -1.6286351271665416,
          0.6431830020213989,
          -1.3574767441134066,
          -3.8376316073392718,
          -1.9457364001136486,
          -0.4166574347072982,
          -7.743670775837309,
          -5.943301466579507,
          1.256228310976561,
          1.1774669956320067,
          6.183505010830405,
          -7.193616259821195,
          -1.6593819392200446,
          -0.058939124450026026,
          -9.806149385548393,
          -0.47492496185953154,
          -3.0217375938696667,
          -2.1538117970948445,
          0.6307375855910093,
          -2.7152356540636213,
          0.8410965355744099,
          -1.7558955881029308,
          -4.308962291204926,
          -2.9581221025624664,
          1.3892807948221462,
          0.14171359335766293,
          -7.399586442892587,
          -6.437946779932039,
          -0.09955022260351262,
          -10.729944630858704,
          -3.1185402838510914,
          -8.074489335877505,
          -3.783954253566772,
          -5.255094871711765,
          -4.188747787068825,
          -4.071157939585884,
          -24.46585913153768,
          0.7288824945065226,
          -21.820078709771856,
          -4.988617941627549,
          -2.413042249962512,
          -5.207306330191811,
          -1.2552673458803945,
          -5.556735656991481,
          14.521079953455903,
          -11.769115846709651,
          -3.471108541873522,
          2.414239497472098,
          -1.3098847207908366,
          -11.658500644592877,
          -8.95440885088198,
          0.1671301983246865,
          -7.013019549514622,
          -0.8910230495732888,
          -9.94972206127662,
          -1.3790423776225962,
          -3.51036436048834,
          -3.243945359208201,
          -4.511315342973053,
          -2.2509568440254744,
          0.8650787165922347,
          -5.871834880532199,
          0.5897697819789387,
          -11.544089983027487,
          0.2567753652287574,
          -0.057755460005595144,
          -8.80114953171091,
          -3.418447733258845,
          -19.575497640679252,
          1.528767226811555,
          -5.884727767210932,
          -7.226807942808753,
          1.3498079951507487,
          2.099235161115652,
          -6.605782100423973,
          11.40881933650242,
          -0.609001439152251,
          -1.8225199830373802,
          -15.262922907320029,
          -5.840983920468337,
          -2.1501627067341795,
          -4.997042678651697,
          -3.6552286337669537,
          -6.719552240212638,
          -4.206886189349536,
          2.1093983457639016,
          -7.106182117733784,
          -3.065319377456221,
          -4.724604125022057,
          -2.9342356479548726,
          -2.3471449465517056,
          -4.291080715448885,
          -9.295663067353642,
          -4.926335463456463,
          -1.8828492502576277,
          1.803477935632306,
          -35.62566382859322,
          1.526287008233372,
          -3.0233506964814887,
          -2.4973863195309756,
          -13.122089425788552,
          -4.42299499339439,
          -6.140091209666143,
          0.42888497005061416,
          -6.170948210326332,
          -0.6969710074696941,
          -3.7245258205661287,
          -6.53567087728214,
          -24.456966284605237,
          -4.0133764513121095,
          0.3825049350386796,
          -3.696296831061716,
          -6.217297916935292,
          -10.822472765719677,
          -5.086174359754183,
          -11.60845308959811,
          -23.20874318956885,
          -3.7207325619153204,
          -7.40046995271707,
          2.758033208055205,
          -1.3610625627628137,
          1.3978834812060164,
          -16.30056021535783,
          -8.048588041475409,
          -3.364027993076874,
          -7.748304006700686,
          -5.22803755327284,
          9.957471149189812,
          0.602339740516308,
          -6.374177418437995,
          -2.956159442687448,
          -1.5689474248370534,
          -5.318554312400836,
          -2.0587801131563306,
          -3.284291836277591,
          1.5109722322701982,
          -9.174384546203097,
          -24.007744814023066,
          -5.078863219314972,
          -4.153986338145295,
          -15.19181832842607,
          -7.673494023433729,
          -11.070910456218174,
          -13.828704240320443,
          -2.6093012981563555,
          -8.966665241579957,
          -2.912030528385515,
          -4.140270120536486,
          -2.9792386181040302,
          -13.984878736814462,
          -4.431815720300144,
          -2.6297197878270633,
          -3.2514153022419308,
          -12.374746444861708,
          -4.902975818541562,
          -2.8739669383434685,
          -11.207248506671874,
          -3.8055501626004755,
          1.1433557546385555,
          -8.075360565853245,
          2.2922604577003685,
          -4.42836233438255,
          -0.9609091084742951,
          -1.6656145434695464,
          -6.5343962191517475,
          -12.203478612476024,
          -5.738200660668924,
          -1.0834311743449712,
          -3.1567522748452563,
          -1.5718833844395645,
          6.8935816132635415,
          -4.1234964356175485,
          -1.9860808697792127,
          -2.8320042382258634,
          -10.974228601245516,
          -1.962299764150566,
          -30.59251451297307,
          -3.455580661097233,
          -8.325852373803897,
          -1.9917904550835803,
          -3.983421374193623,
          -4.962607226573921,
          -1.5139159025124722,
          0.9405882860434643,
          -1.22437946901069,
          -0.08557249094872084,
          -0.4492866903255945,
          -2.1564834140128166,
          -4.19697164000011,
          0.1324245902917508,
          -6.52357665462777,
          -7.678801983630953,
          -2.9566806881434182,
          -1.3653150558340574,
          -1.328805353948437,
          -2.5809022192263753,
          -3.6371368879723494,
          -1.4077661924530365,
          -3.4791063761801646,
          -3.621809678023648,
          -9.070071770848589,
          -3.473071167340067,
          -5.587505980546043,
          -2.681910751874105,
          -1.3795883941695553,
          -1.9977470389560106,
          -2.510975688259307,
          -4.124527753349803,
          -2.769490762522079,
          -0.03546417125693995,
          -13.61222473887362,
          -0.20899596287716982,
          -2.5097140534587643,
          0.49765737541383964,
          4.472617454533504,
          -0.3192046989894598,
          -2.913349216466523,
          -5.632103987796488,
          1.5219080810413257,
          -5.641344419599756,
          -2.071620866478779,
          -2.0377568823594623,
          -1.2836855648938754,
          -6.289986333789726,
          -6.8474267703625715,
          -2.909008529793218,
          -8.877070613957567,
          -10.260183480616272,
          -5.809720361948608,
          -3.154704817330085,
          -1.7682182657264673,
          -6.73305867263703,
          -6.583919769719504,
          -0.9563628380762978,
          -0.420403009362075,
          -0.22794388365329954,
          -1.3489071115618707,
          0.6003188224328337,
          -4.121149791546294,
          2.6617928071991996,
          -1.132320063527932,
          -5.902459537905083,
          -3.4619292273260003,
          -13.981511288061212,
          -7.054355996667725,
          -5.3383191758057,
          -1.836459132710274,
          -2.5142632397233164,
          -9.977455266241106,
          -4.7665561992514105,
          -5.36585862512329,
          0.44666556573128746,
          -2.820201227182107,
          -11.95473327905864,
          2.286100481244883,
          -2.5277973128484357,
          -2.1688761521805295,
          -11.736064321432668,
          -1.5301335929161206,
          0.48207062790946725,
          -1.2778356784180411,
          -16.315514787337413,
          -1.198787749599281,
          -5.863568569389007,
          -3.869162361839986,
          -4.321899579081587,
          -13.635488008487556,
          3.490171463581131,
          -0.690844238909378,
          -21.398820002427648,
          4.456570299488985,
          -1.0763366010187134,
          -1.5706290884421297
         ],
         "xaxis": "x",
         "y": [
          -3.8068739907464004,
          -0.894445640169834,
          2.5581069827956577,
          0.3365913283018061,
          1.0681490024974425,
          0.4524694437843516,
          3.5570571097166415,
          1.9833849743886725,
          3.4140603091104493,
          -4.370730059409194,
          -3.3859782880584084,
          -16.06475491313624,
          1.6701343750033313,
          9.033215682122009,
          1.6165635620562624,
          0.16520737400229527,
          -0.552771206880239,
          1.873589632256639,
          3.923758662270848,
          3.1447120961915047,
          0.46251939309780693,
          3.2181112301076507,
          1.1668639525891387,
          -0.7857973029818345,
          -9.708018474564343,
          -0.7684296028776137,
          -1.3611214410444805,
          -8.896104616158148,
          -189.06736351739042,
          -10.066388355367987,
          -2.15134348045641,
          1.8467342286583348,
          -1.6635227555651588,
          -2.93785074457449,
          1.7378328287236429,
          -3.0832694424312153,
          -3.782119464247481,
          5.025084233283501,
          0.16832581824033546,
          -0.9746555240569744,
          0.8445441397468165,
          -2.892288197237542,
          0.8484255314502587,
          3.864651984211738,
          -3.4605667910387004,
          -0.8014488136247057,
          0.40160865050301164,
          -41.85801257756761,
          -4.708355636275683,
          -0.45909496412590983,
          0.31510220554355184,
          -3.0042935641742234,
          0.45743757114571887,
          -2.882680408778703,
          5.7575306799866475,
          -2.8086822184984235,
          -0.8082255295227294,
          2.61191924990571,
          3.7157118550275015,
          3.997567015972746,
          0.11098068515320735,
          1.610436528700567,
          6.699976920621626,
          4.813434135548006,
          4.393791010302479,
          2.283214695019957,
          8.823478603413543,
          4.9109897830942035,
          7.04244385411901,
          6.230977768290133,
          0.41488135586673225,
          0.35616586885874957,
          2.3229616201151484,
          -1.6131851553766356,
          6.000321204116057,
          0.6238843670540766,
          0.7158746378178267,
          -2.911266471015448,
          1.2684827077352774,
          -3.6476282203200667,
          4.275329740869915,
          -3.196744773792235,
          1.3982260274872256,
          -1.8365397371305163,
          -1.3531368981883234,
          -2.6098013315638307,
          0.44874431918497354,
          -4.356603578096852,
          -1.0679659352394089,
          -0.754691135403873,
          -1.4326827381562124,
          3.178787663957825,
          1.8154212992519918,
          -4.577793004536521,
          4.72203733964365,
          -0.33442161167034296,
          -0.13822998825192823,
          1.972915295878419,
          18.42694035006433,
          4.158066937222138,
          -9.61384894128764,
          1.6631817287156705,
          2.820769040440677,
          2.474829643984609,
          1.0865890102744666,
          0.7235403384437968,
          -0.04263472679901915,
          -0.6151383516267741,
          3.2680125548963592,
          -0.7216743305281583,
          7.262529550417846,
          1.394367158023139,
          -2.065363073929944,
          3.139608493628572,
          1.776386582767151,
          3.095883728797979,
          2.0881012474571126,
          0.29168775716424994,
          -4.118024142223862,
          0.3547196315068346,
          -0.5926165805185938,
          5.096020670187573,
          -0.3593921492156851,
          2.2493573510970473,
          -2.7967483792164405,
          2.382892897599319,
          -6.4704705261724325,
          -2.479428760958375,
          -1.146422844100786,
          0.8667051442131635,
          1.5537057995055437,
          0.6999567645709223,
          1.448000284013804,
          1.0249426069802383,
          1.0752133871480662,
          -2.2504158280959965,
          6.110482888329748,
          3.172796116726535,
          4.9109897830942035,
          -1.9916528786932486,
          4.228255396433015,
          8.118990143293395,
          0,
          0.4366370242050116,
          -0.09697533802005062,
          4.788298095280515,
          5.69587120786349,
          -5.7431699461314,
          3.931864440782285,
          7.083866771745568,
          3.5094354088262896,
          -0.8375525790086932,
          0.12080394556864753,
          0.43437737387591396,
          0.011854487306527712,
          0.18182854897428577,
          0.7010422375665112,
          3.1683698640281257,
          2.0699367756366467,
          -0.6030544468238612,
          8.470259386826458,
          -1.4759647418108663,
          4.304214566923994,
          -0.9063660796193146,
          2.982908541069281,
          -2.2100590992703646,
          -5.5126931162277195,
          0.27338093359707416,
          0.3214855919987174,
          -0.16468525434005268,
          -1.1590455742636656,
          -3.570873163113276,
          -39.668361290654175,
          1.1357700460491422,
          0.2017897375205751,
          1.3634629178515545,
          -4.44278774310096,
          -3.3414620168458544,
          4.72204251881805,
          -1.923100662598371,
          0.4594613842151476,
          1.412043747533619,
          -0.6207831515693354,
          0.6793065632421741,
          -0.8599629870779653,
          0.07470937801867267,
          1.6534461981648978,
          -0.05792339777883323,
          -0.2947563076732574,
          3.7115748752584397,
          0.30108682816760113,
          -1.5037589902709234,
          -1.232101548577759,
          1.8307298758278865,
          3.337884987642589,
          -5.113289943982535,
          -0.7061018234502022,
          -0.08367486280641512,
          1.1238743227122254,
          -0.3655649529085794,
          1.8389185397395698,
          2.647902629917666,
          0.5294583106685017,
          1.8676342710490286,
          3.245323631578524,
          0.3757546375824717,
          1.285977927895071,
          2.2918541689241314,
          3.344613195200162,
          1.2207851450583889,
          2.059964548250065,
          -0.012639235376835983,
          0.6726557987901667,
          4.2858028011714815,
          1.120293423006201,
          -1.3374521727784237,
          0.7095280590862453,
          0.04194983435096971,
          6.392758952581087,
          -0.1011213115408494,
          -1.112994102980254,
          0.3436082025919354,
          18.42694035006433,
          8.645451998661565,
          5.3723929789403595,
          0.27955261204705784,
          0.14490881467824596,
          0.25268684125038854,
          -1.7940096188814947,
          4.788298095280515,
          3.1787876639578254,
          0.13345782363643477,
          2.344644585668209,
          -0.8273486780618388,
          -4.4764721850170055,
          3.000988266947623,
          -0.8705384103250505,
          -0.44031222533384784,
          0.37800189808460555,
          -0.8970347549519169,
          -0.2374990934447421,
          8.35952017260231,
          -0.7278863000437483,
          7.368399114805782,
          3.4126090363170802,
          1.7381511944629249,
          -0.36050436900500576,
          3.6292216659965697,
          5.286162679104781,
          -2.3527635811276646,
          2.675592559385444,
          1.658346380911086,
          -5.7093901083764,
          -2.6962040413704162,
          13.146908104108473,
          0.3481085129855248,
          -1.0262939347856526,
          2.644125904541152,
          2.1439333714287185,
          -0.9015436722597563,
          1.8102175931680335,
          -0.8181967945521328,
          1.4732419878782006,
          2.443630831827021,
          -0.8230855710590773,
          4.925637182492428,
          11.877623644143421,
          1.5350430106487813,
          -0.12579548307521785,
          2.9297366974281127,
          -0.5291516594227805,
          1.6019030528360485,
          3.920755259856852,
          -1.0625076314632764,
          0.6330513361913404,
          1.3405973885634617,
          -2.842919423341746,
          2.521208561519381,
          0.4698552155256949,
          3.4913109984747335,
          -4.537543779901157,
          9.04700323842442,
          -1.7376772715288842,
          -1.617801747474239,
          -0.8727719323253148,
          -6.5834930904289095,
          0.4360631085392608,
          -3.750733396157269,
          2.8814951786202023,
          5.973394891764964,
          2.2272646195335284,
          -0.04450516657881893,
          1.8644335959292904,
          0.594750302077366,
          -0.42708705156546717,
          -6.38472194092835,
          1.2477540785647752,
          2.4395525123037767,
          0.021963213161538243,
          0.4196656900300233,
          -0.19319704105144836,
          -0.2567539879849957,
          0.34497372127497133,
          1.0203798594112694,
          3.5782763441683856,
          0.6913751639255657,
          0.6585047073716852,
          2.2012519641625357,
          5.141503486011406,
          6.038292999375776,
          -4.996848109805531,
          -6.9943639593923095,
          -6.280772239200548,
          2.32766407280205,
          -15.343848022367995,
          7.155627737284126,
          -49.49888446850466,
          4.947952539660509,
          0.47715726453739793,
          -2.785823361624052,
          3.649073984571776,
          3.5185950730406517,
          -8.127248603884857,
          -2.3029303109893173,
          1.4504313880334185,
          0.4440915161414847,
          1.9998992467359833,
          4.83289659776271,
          6.552181003486918,
          -5.469815287506687,
          0.7269768574541761,
          -0.6851284005964945,
          4.483294484116003,
          -5.604187095555989,
          3.329783223285938,
          1.1958530771330584,
          1.9413511932246306,
          -0.9313506182106409,
          1.0272887714451155,
          -7.671400843695505,
          -0.45215335998417516,
          0.7453781130138237,
          0.3637974633456616,
          2.724142820204256,
          1.3465788287554168,
          -0.7850870502574039,
          -0.9138982620313321,
          -0.6586830225157664,
          2.5598946004696654,
          5.674980140367987,
          -0.8714662503520078,
          1.7525264270811538,
          3.0001144885513074,
          2.8937191135043108,
          -1.6497814770965866,
          -0.7223172920513244,
          1.2322922825199099,
          0.9037759646515265,
          2.226793365570806,
          -1.812150601178847,
          3.1886321989722295,
          -0.09816486605332592,
          -2.8006374122060054,
          -2.708518326174513,
          -6.156232434649381,
          -6.284874715126726,
          2.31293625768866,
          3.674281493576659,
          2.3358169818148227,
          1.9345350464317561,
          -0.6036673759769943,
          1.1238743227122254,
          -9.715192059152914,
          0.18002644521702665,
          -62.6588440828639,
          -0.25678258346042077,
          2.6790477354346267,
          7.3691373026952,
          -1.1571034084076937,
          5.394801884837828,
          -1.5661437614087708,
          1.5898736521489147,
          2.134001595029446,
          0.5085558104865885,
          -0.8868119291022121,
          6.1058769517574065,
          8.206295764764068,
          -1.786511638234157,
          0.7822914978317758,
          5.446619579038816,
          1.8660754650362321,
          -2.2494154819858325,
          2.403694435712039,
          4.894708726691603,
          2.4379020203328463,
          1.492281102811666,
          -0.5511749163060251,
          0.08738174434690513,
          -3.278049400024238,
          1.307168520160116,
          11.040212678678921,
          1.6669309718774241,
          0.6578306776138674,
          -0.6681163815803531,
          3.595964059337621,
          -30.0940082242728,
          -2.3116817379542725,
          2.527167371931891,
          2.0186967400892386,
          1.2373044600345564,
          7.872712759987824,
          1.8161015987938285,
          1.81931187950637,
          -0.6083640393670032,
          1.1999006132963117,
          2.1060587588777926,
          -1.728338192202664,
          1.7744086452019014,
          -0.5599306176583334,
          2.0341671996056223,
          0.5378255698577356,
          4.008829955355558,
          3.6226066491544664,
          3.033032923524613,
          8.489229321297591,
          0.8985999294606025,
          -1.8490857681499013,
          3.457467572910036,
          4.013199831401643,
          0.12847517308335119,
          2.039130924783824,
          5.340874215864869,
          2.7603798649920996,
          -0.5600216228014202,
          3.5468991015817686,
          2.1582277263739584,
          2.1645020992927577,
          -2.667749483163009,
          -2.3215492690960704,
          18.42694035006433,
          -0.45975195719111883,
          -1.8833535077315224,
          1.9928599631392134,
          -3.455404470792166,
          1.4987278400347592,
          1.972915295878419,
          -0.0848890070755674,
          2.8641878496054507,
          1.989970157694358,
          3.344613195200162,
          2.6619210122901737,
          0.6739860915069387,
          -2.9486958606040865,
          -1.1714726306410925,
          4.158066937222139,
          0.5796316210501543,
          3.3713489747674052,
          0.8792736863082564,
          -1.6211594828157239,
          0.8264346041954164,
          1.9676143727090054,
          -3.8497513079929164,
          1.0952049827685788,
          -0.00786658017754401,
          -3.1347222029797446,
          1.8743378124035033,
          0.588425262962772,
          2.1783685091719733,
          1.734513681831092,
          1.5292133883325854,
          -0.7985180679098979,
          0.11859254712512682,
          0.5981697361412586,
          -1.5447833101226323,
          -2.174958576708274,
          3.6292216659965697,
          -0.6240376820557715,
          1.4256252355630434,
          -1.9552597153425395,
          3.3648712852214193,
          0.40618312031169984,
          1.1074918676773216,
          2.063350475535148,
          1.784578200219606,
          1.3708470976265847,
          5.9840121530611174,
          1.9086121391349467,
          0.4216424585955687,
          -23.723819542600936,
          -5.596413297214256,
          0.03329932359689864,
          0.17135461646485917,
          -0.2216964714517069,
          5.289524741998723,
          2.668158702878591,
          1.5751026967792219,
          -3.073572043449969,
          4.9036489689537435,
          0.11507003102710538,
          -1.8765905652585786,
          18.42694035006433,
          -0.22947034630498905,
          18.42694035006433,
          0.9260233348927861,
          18.42694035006433,
          0.7975350694821142,
          2.4824237606311472,
          2.2188580234002235,
          -6.641558052358928,
          0.9419255232843536,
          4.791602037046027,
          0.30825422068557906,
          2.9282412790863255,
          2.3880275341613943,
          -1.5832404277924597,
          -0.4794959931324961,
          -1.0041133581921329,
          -0.229409794244851,
          -1.3539438450860086,
          1.6885542177514088,
          -4.355470206469564,
          2.538434730516299,
          1.2937349237656908,
          -0.38307665995584417,
          2.7283421970210884,
          -0.5601005815289674,
          -4.647509692734984,
          5.927409856892774,
          0.6035707985395482,
          0.2971681268224893,
          3.8079400303000845,
          -0.47595135795735793,
          1.7337731888417665,
          3.261619643956475,
          -12.946854586541841,
          5.081517353596984,
          2.3553359748470233,
          3.127892402281116,
          2.3926793364044365,
          1.6198957811870225,
          4.1013368611957945,
          1.7906080693519388,
          1.2955084510565344,
          2.9320189828355003,
          3.7793921353359727,
          -1.95483430280692,
          6.342022983140731,
          5.99358824187243,
          -0.8906487596081915,
          1.2318746304648411,
          3.414010236697237
         ],
         "yaxis": "y"
        },
        {
         "alignmentgroup": "True",
         "bingroup": "x",
         "hovertemplate": "Screen=Neuronal<br>Degree of Habituation of Response Probability=%{x}<br>count=%{y}<extra></extra>",
         "legendgroup": "Neuronal",
         "marker": {
          "color": "red"
         },
         "name": "Neuronal",
         "offsetgroup": "Neuronal",
         "opacity": 0.5,
         "showlegend": false,
         "type": "histogram",
         "x": [
          -2.9269201590345744,
          -3.5587159013552765,
          4.315148918946964,
          1.6384488673854982,
          0.07271296063743016,
          -4.943347352388724,
          1.9530263008906723,
          -3.710658434196127,
          -10.037940693170384,
          -5.0825613224981385,
          2.183981972270994,
          -9.669632961675289,
          -5.946068812632951,
          -49.7854945128771,
          0.7611452762201333,
          -0.08531086373125839,
          0.7585091617879843,
          -1.8972471827498483,
          -1.2304237941782374,
          -2.8064047471124747,
          -2.223642330982019,
          -4.3913464925004,
          -0.9724084509004307,
          -2.540669546957292,
          -9.048309000672594,
          3.722874517340164,
          -7.333888803288086,
          -4.305106996366693,
          -83.93771503951183,
          -14.69170052785429,
          -4.157371079103396,
          -8.446963454145624,
          -1.5449534865772185,
          -0.10357798832332672,
          -12.905607783809051,
          -4.267128934010547,
          -10.416461887950444,
          -11.909697467150359,
          1.8079700380573553,
          25.815383674692622,
          -3.7918443886603557,
          -3.242190308039162,
          -17.675112445922135,
          -9.67157528982075,
          -9.03758707897204,
          -3.2934698259531316,
          -9.101387209939674,
          -21.891191856605882,
          -0.8180210025603358,
          -2.0194239470366977,
          -4.403399443764314,
          -10.47231948299202,
          -15.739909712742381,
          -11.95145460101005,
          -2.0944621265854,
          -3.826354949510879,
          -7.341788248930715,
          -5.010373708194842,
          -2.4137737928081364,
          -13.856722875669458,
          -3.779758916247131,
          -10.494596487982509,
          -5.916475762271647,
          -7.642759279033785,
          -7.115101233555751,
          -6.880786128332895,
          -37.11554926734025,
          -2.199125114865502,
          -8.436365476164159,
          -4.748652343113076,
          3.4168524030089076,
          -7.0559093836389515,
          -2.6010522339988205,
          -3.7550105877378672,
          -4.565676383354067,
          -1.5280543071009727,
          -4.373599080563715,
          -0.11759399599270894,
          -14.832493248817503,
          -5.486453039468474,
          -1.4045337735896584,
          -2.8093472740037186,
          -2.585499516932234,
          -2.5185972821463896,
          -1.4564630041282696,
          -2.876724259826326,
          -6.6544688931767775,
          -1.0328672710554425,
          2.1846869737291215,
          -8.537683624442762,
          -5.814653259689252,
          -8.696659540616949,
          -1.6047632264332088,
          12.603046412884959,
          -30.975925761525374,
          0.7011855569972631,
          6.3821598993172035,
          -3.0915110527488827,
          -24.203321133544915,
          -3.172366706894686,
          -3.9845069004038742,
          -5.448266990808383,
          -0.5200367197849127,
          -5.218455383723371,
          -0.3102431010364551,
          -2.5573443730711083,
          -3.5020298044519507,
          -2.9511523195128673,
          -2.25648945755612,
          5.643677866583025,
          -4.993341582212175,
          -8.042978806858924,
          0.18834379697887457,
          -1.6990828178933404,
          -9.921217079802853,
          -9.74680396027078,
          -9.305400050608768,
          -1.7426302489267247,
          0.21108012411225302,
          -2.6389573299448945,
          2.3043880395293033,
          -13.078623425380906,
          -2.488370939382492,
          -5.5945490995161,
          -1.6260266552025997,
          -2.673417329127967,
          -10.507540629313736,
          -3.3538003501043203,
          6.626996410769524,
          -0.09933430682440407,
          -13.655726534756026,
          -3.8526405143283466,
          -3.505424820016107,
          0.28120170647347864,
          0.7109750180715334,
          -2.3631299646666117,
          6.479251660324434,
          3.7923029596415985,
          -2.6290354591939833,
          -5.368943195698791,
          -0.6095580180671772,
          -9.15887243895084,
          0,
          -1.587445989361159,
          -0.6372128681615873,
          -19.3367580733655,
          -0.7555220751723729,
          -7.90514197778453,
          -3.7044842924072627,
          -4.105648759094665,
          -10.423371059524452,
          -0.79519687507836,
          -2.158115089475848,
          -2.889056679427496,
          -5.483708487527157,
          -3.366856279739074,
          -1.5029234994803498,
          -14.63037548961755,
          -3.914227752713337,
          -1.4603162408601085,
          -2.3832190749729127,
          -0.2311485901768597,
          -3.154855831532702,
          -1.5820259384034963,
          0.06542068392498573,
          3.9859632996771213,
          -7.076833412579282,
          -3.9506981086714617,
          -3.511460500021731,
          3.9780426983945234,
          8.650453411589444,
          -7.46586228740602,
          -13.992295313736243,
          0.09643200191947641,
          -8.972013166477476,
          -0.8415093711997126,
          -5.928395679684496,
          -2.360192912026523,
          -0.5420908461807852,
          -8.810934470232441,
          -17.87286039857314,
          -4.320036084833831,
          -4.434967479649103,
          -9.218028939308644,
          -5.757841256909577,
          0.29680929970288117,
          -1.5614201135152224,
          1.233702925227723,
          -1.1193435116018369,
          -2.662429060891792,
          -4.6970120936761255,
          -6.8368783800732595,
          -10.18818565725402,
          -4.830945916040436,
          -2.87078515324511,
          -7.95872039560527,
          0.2994886967407288,
          -7.562119942167294,
          -3.150813746747599,
          -3.792501725220277,
          -2.7691711201346387,
          -1.2020573138479496,
          0.15889283953549338,
          -8.413709035865399,
          -6.3205379062337625,
          -5.520437014583713,
          -11.288655147432117,
          -7.192414691561542,
          -6.644877216267254,
          -0.7886504812520778,
          -5.107198235189568,
          -4.2656450298268505,
          -6.127288856629809,
          -0.7615278642319001,
          -5.5731906867384104,
          -4.090453087432597,
          -3.2152761277791932,
          -10.643439284796031,
          -19.12790325353527,
          -4.231836998563296,
          -7.5790038332025516,
          -3.9576573780936983,
          -1.8990733455601314,
          -20.817230722304927,
          -1.4728256118811511,
          -3.4788173776821947,
          -2.4205024510276063,
          -10.423716149357675,
          1.390643644355686,
          -1.945411147195934,
          -0.3739416127082012,
          -4.224512612404866,
          -0.3951442116020422,
          -10.484524277023063,
          -4.2316886228310615,
          9.659138522433517,
          -1.8097768015350875,
          -5.048322344050695,
          9.612912519041942,
          0.4393541341467269,
          -7.729463095172824,
          -3.107768602210124,
          -3.153430679393358,
          -5.9294497715558645,
          -3.150923402098956,
          -2.95677942041533,
          -0.23358466905301153,
          0.11494761190135051,
          0.5325866305135342,
          3.251368630294429,
          1.1265409503542483,
          -4.067665477035959,
          8.076236422145978,
          -3.1583362204820267,
          -3.7271591056412117,
          -2.228213870524898,
          -3.2911374778929106,
          -2.2187157734959255,
          -5.737518066122293,
          9.86052556697658,
          -2.1237981240697397,
          -0.24914192378187297,
          -5.272172241452014,
          -12.534010855872403,
          -10.204688966199985,
          -6.294037775008137,
          -7.030395147768639,
          -9.732894057054004,
          0.6101080674845676,
          -3.4435430288140996,
          -10.059601211977697,
          3.406471546673738,
          -16.445944017945674,
          -1.5592818864745503,
          -0.44868408233733925,
          -3.540604007224312,
          -1.8381636505661567,
          -1.4043274951193712,
          -1.6286351271665416,
          0.6431830020213989,
          -1.3574767441134066,
          -3.8376316073392718,
          -1.9457364001136486,
          -0.4166574347072982,
          -7.743670775837309,
          -5.943301466579507,
          1.256228310976561,
          1.1774669956320067,
          6.183505010830405,
          -7.193616259821195,
          -1.6593819392200446,
          -0.058939124450026026,
          -9.806149385548393,
          -0.47492496185953154,
          -3.0217375938696667,
          -2.1538117970948445,
          0.6307375855910093,
          -2.7152356540636213,
          0.8410965355744099,
          -1.7558955881029308,
          -4.308962291204926,
          -2.9581221025624664,
          1.3892807948221462,
          0.14171359335766293,
          -7.399586442892587,
          -6.437946779932039,
          -0.09955022260351262,
          -10.729944630858704,
          -3.1185402838510914,
          -8.074489335877505,
          -3.783954253566772,
          -5.255094871711765,
          -4.188747787068825,
          -4.071157939585884,
          -24.46585913153768,
          0.7288824945065226,
          -21.820078709771856,
          -4.988617941627549,
          -2.413042249962512,
          -5.207306330191811,
          -1.2552673458803945,
          -5.556735656991481,
          14.521079953455903,
          -11.769115846709651,
          -3.471108541873522,
          2.414239497472098,
          -1.3098847207908366,
          -11.658500644592877,
          -8.95440885088198,
          0.1671301983246865,
          -7.013019549514622,
          -0.8910230495732888,
          -9.94972206127662,
          -1.3790423776225962,
          -3.51036436048834,
          -3.243945359208201,
          -4.511315342973053,
          -2.2509568440254744,
          0.8650787165922347,
          -5.871834880532199,
          0.5897697819789387,
          -11.544089983027487,
          0.2567753652287574,
          -0.057755460005595144,
          -8.80114953171091,
          -3.418447733258845,
          -19.575497640679252,
          1.528767226811555,
          -5.884727767210932,
          -7.226807942808753,
          1.3498079951507487,
          2.099235161115652,
          -6.605782100423973,
          11.40881933650242,
          -0.609001439152251,
          -1.8225199830373802,
          -15.262922907320029,
          -5.840983920468337,
          -2.1501627067341795,
          -4.997042678651697,
          -3.6552286337669537,
          -6.719552240212638,
          -4.206886189349536,
          2.1093983457639016,
          -7.106182117733784,
          -3.065319377456221,
          -4.724604125022057,
          -2.9342356479548726,
          -2.3471449465517056,
          -4.291080715448885,
          -9.295663067353642,
          -4.926335463456463,
          -1.8828492502576277,
          1.803477935632306,
          -35.62566382859322,
          1.526287008233372,
          -3.0233506964814887,
          -2.4973863195309756,
          -13.122089425788552,
          -4.42299499339439,
          -6.140091209666143,
          0.42888497005061416,
          -6.170948210326332,
          -0.6969710074696941,
          -3.7245258205661287,
          -6.53567087728214,
          -24.456966284605237,
          -4.0133764513121095,
          0.3825049350386796,
          -3.696296831061716,
          -6.217297916935292,
          -10.822472765719677,
          -5.086174359754183,
          -11.60845308959811,
          -23.20874318956885,
          -3.7207325619153204,
          -7.40046995271707,
          2.758033208055205,
          -1.3610625627628137,
          1.3978834812060164,
          -16.30056021535783,
          -8.048588041475409,
          -3.364027993076874,
          -7.748304006700686,
          -5.22803755327284,
          9.957471149189812,
          0.602339740516308,
          -6.374177418437995,
          -2.956159442687448,
          -1.5689474248370534,
          -5.318554312400836,
          -2.0587801131563306,
          -3.284291836277591,
          1.5109722322701982,
          -9.174384546203097,
          -24.007744814023066,
          -5.078863219314972,
          -4.153986338145295,
          -15.19181832842607,
          -7.673494023433729,
          -11.070910456218174,
          -13.828704240320443,
          -2.6093012981563555,
          -8.966665241579957,
          -2.912030528385515,
          -4.140270120536486,
          -2.9792386181040302,
          -13.984878736814462,
          -4.431815720300144,
          -2.6297197878270633,
          -3.2514153022419308,
          -12.374746444861708,
          -4.902975818541562,
          -2.8739669383434685,
          -11.207248506671874,
          -3.8055501626004755,
          1.1433557546385555,
          -8.075360565853245,
          2.2922604577003685,
          -4.42836233438255,
          -0.9609091084742951,
          -1.6656145434695464,
          -6.5343962191517475,
          -12.203478612476024,
          -5.738200660668924,
          -1.0834311743449712,
          -3.1567522748452563,
          -1.5718833844395645,
          6.8935816132635415,
          -4.1234964356175485,
          -1.9860808697792127,
          -2.8320042382258634,
          -10.974228601245516,
          -1.962299764150566,
          -30.59251451297307,
          -3.455580661097233,
          -8.325852373803897,
          -1.9917904550835803,
          -3.983421374193623,
          -4.962607226573921,
          -1.5139159025124722,
          0.9405882860434643,
          -1.22437946901069,
          -0.08557249094872084,
          -0.4492866903255945,
          -2.1564834140128166,
          -4.19697164000011,
          0.1324245902917508,
          -6.52357665462777,
          -7.678801983630953,
          -2.9566806881434182,
          -1.3653150558340574,
          -1.328805353948437,
          -2.5809022192263753,
          -3.6371368879723494,
          -1.4077661924530365,
          -3.4791063761801646,
          -3.621809678023648,
          -9.070071770848589,
          -3.473071167340067,
          -5.587505980546043,
          -2.681910751874105,
          -1.3795883941695553,
          -1.9977470389560106,
          -2.510975688259307,
          -4.124527753349803,
          -2.769490762522079,
          -0.03546417125693995,
          -13.61222473887362,
          -0.20899596287716982,
          -2.5097140534587643,
          0.49765737541383964,
          4.472617454533504,
          -0.3192046989894598,
          -2.913349216466523,
          -5.632103987796488,
          1.5219080810413257,
          -5.641344419599756,
          -2.071620866478779,
          -2.0377568823594623,
          -1.2836855648938754,
          -6.289986333789726,
          -6.8474267703625715,
          -2.909008529793218,
          -8.877070613957567,
          -10.260183480616272,
          -5.809720361948608,
          -3.154704817330085,
          -1.7682182657264673,
          -6.73305867263703,
          -6.583919769719504,
          -0.9563628380762978,
          -0.420403009362075,
          -0.22794388365329954,
          -1.3489071115618707,
          0.6003188224328337,
          -4.121149791546294,
          2.6617928071991996,
          -1.132320063527932,
          -5.902459537905083,
          -3.4619292273260003,
          -13.981511288061212,
          -7.054355996667725,
          -5.3383191758057,
          -1.836459132710274,
          -2.5142632397233164,
          -9.977455266241106,
          -4.7665561992514105,
          -5.36585862512329,
          0.44666556573128746,
          -2.820201227182107,
          -11.95473327905864,
          2.286100481244883,
          -2.5277973128484357,
          -2.1688761521805295,
          -11.736064321432668,
          -1.5301335929161206,
          0.48207062790946725,
          -1.2778356784180411,
          -16.315514787337413,
          -1.198787749599281,
          -5.863568569389007,
          -3.869162361839986,
          -4.321899579081587,
          -13.635488008487556,
          3.490171463581131,
          -0.690844238909378,
          -21.398820002427648,
          4.456570299488985,
          -1.0763366010187134,
          -1.5706290884421297
         ],
         "xaxis": "x3",
         "yaxis": "y3"
        },
        {
         "alignmentgroup": "True",
         "bingroup": "y",
         "hovertemplate": "Screen=Neuronal<br>Initial Response Probability=%{y}<br>count=%{x}<extra></extra>",
         "legendgroup": "Neuronal",
         "marker": {
          "color": "red"
         },
         "name": "Neuronal",
         "offsetgroup": "Neuronal",
         "opacity": 0.5,
         "showlegend": false,
         "type": "histogram",
         "xaxis": "x2",
         "y": [
          -3.8068739907464004,
          -0.894445640169834,
          2.5581069827956577,
          0.3365913283018061,
          1.0681490024974425,
          0.4524694437843516,
          3.5570571097166415,
          1.9833849743886725,
          3.4140603091104493,
          -4.370730059409194,
          -3.3859782880584084,
          -16.06475491313624,
          1.6701343750033313,
          9.033215682122009,
          1.6165635620562624,
          0.16520737400229527,
          -0.552771206880239,
          1.873589632256639,
          3.923758662270848,
          3.1447120961915047,
          0.46251939309780693,
          3.2181112301076507,
          1.1668639525891387,
          -0.7857973029818345,
          -9.708018474564343,
          -0.7684296028776137,
          -1.3611214410444805,
          -8.896104616158148,
          -189.06736351739042,
          -10.066388355367987,
          -2.15134348045641,
          1.8467342286583348,
          -1.6635227555651588,
          -2.93785074457449,
          1.7378328287236429,
          -3.0832694424312153,
          -3.782119464247481,
          5.025084233283501,
          0.16832581824033546,
          -0.9746555240569744,
          0.8445441397468165,
          -2.892288197237542,
          0.8484255314502587,
          3.864651984211738,
          -3.4605667910387004,
          -0.8014488136247057,
          0.40160865050301164,
          -41.85801257756761,
          -4.708355636275683,
          -0.45909496412590983,
          0.31510220554355184,
          -3.0042935641742234,
          0.45743757114571887,
          -2.882680408778703,
          5.7575306799866475,
          -2.8086822184984235,
          -0.8082255295227294,
          2.61191924990571,
          3.7157118550275015,
          3.997567015972746,
          0.11098068515320735,
          1.610436528700567,
          6.699976920621626,
          4.813434135548006,
          4.393791010302479,
          2.283214695019957,
          8.823478603413543,
          4.9109897830942035,
          7.04244385411901,
          6.230977768290133,
          0.41488135586673225,
          0.35616586885874957,
          2.3229616201151484,
          -1.6131851553766356,
          6.000321204116057,
          0.6238843670540766,
          0.7158746378178267,
          -2.911266471015448,
          1.2684827077352774,
          -3.6476282203200667,
          4.275329740869915,
          -3.196744773792235,
          1.3982260274872256,
          -1.8365397371305163,
          -1.3531368981883234,
          -2.6098013315638307,
          0.44874431918497354,
          -4.356603578096852,
          -1.0679659352394089,
          -0.754691135403873,
          -1.4326827381562124,
          3.178787663957825,
          1.8154212992519918,
          -4.577793004536521,
          4.72203733964365,
          -0.33442161167034296,
          -0.13822998825192823,
          1.972915295878419,
          18.42694035006433,
          4.158066937222138,
          -9.61384894128764,
          1.6631817287156705,
          2.820769040440677,
          2.474829643984609,
          1.0865890102744666,
          0.7235403384437968,
          -0.04263472679901915,
          -0.6151383516267741,
          3.2680125548963592,
          -0.7216743305281583,
          7.262529550417846,
          1.394367158023139,
          -2.065363073929944,
          3.139608493628572,
          1.776386582767151,
          3.095883728797979,
          2.0881012474571126,
          0.29168775716424994,
          -4.118024142223862,
          0.3547196315068346,
          -0.5926165805185938,
          5.096020670187573,
          -0.3593921492156851,
          2.2493573510970473,
          -2.7967483792164405,
          2.382892897599319,
          -6.4704705261724325,
          -2.479428760958375,
          -1.146422844100786,
          0.8667051442131635,
          1.5537057995055437,
          0.6999567645709223,
          1.448000284013804,
          1.0249426069802383,
          1.0752133871480662,
          -2.2504158280959965,
          6.110482888329748,
          3.172796116726535,
          4.9109897830942035,
          -1.9916528786932486,
          4.228255396433015,
          8.118990143293395,
          0,
          0.4366370242050116,
          -0.09697533802005062,
          4.788298095280515,
          5.69587120786349,
          -5.7431699461314,
          3.931864440782285,
          7.083866771745568,
          3.5094354088262896,
          -0.8375525790086932,
          0.12080394556864753,
          0.43437737387591396,
          0.011854487306527712,
          0.18182854897428577,
          0.7010422375665112,
          3.1683698640281257,
          2.0699367756366467,
          -0.6030544468238612,
          8.470259386826458,
          -1.4759647418108663,
          4.304214566923994,
          -0.9063660796193146,
          2.982908541069281,
          -2.2100590992703646,
          -5.5126931162277195,
          0.27338093359707416,
          0.3214855919987174,
          -0.16468525434005268,
          -1.1590455742636656,
          -3.570873163113276,
          -39.668361290654175,
          1.1357700460491422,
          0.2017897375205751,
          1.3634629178515545,
          -4.44278774310096,
          -3.3414620168458544,
          4.72204251881805,
          -1.923100662598371,
          0.4594613842151476,
          1.412043747533619,
          -0.6207831515693354,
          0.6793065632421741,
          -0.8599629870779653,
          0.07470937801867267,
          1.6534461981648978,
          -0.05792339777883323,
          -0.2947563076732574,
          3.7115748752584397,
          0.30108682816760113,
          -1.5037589902709234,
          -1.232101548577759,
          1.8307298758278865,
          3.337884987642589,
          -5.113289943982535,
          -0.7061018234502022,
          -0.08367486280641512,
          1.1238743227122254,
          -0.3655649529085794,
          1.8389185397395698,
          2.647902629917666,
          0.5294583106685017,
          1.8676342710490286,
          3.245323631578524,
          0.3757546375824717,
          1.285977927895071,
          2.2918541689241314,
          3.344613195200162,
          1.2207851450583889,
          2.059964548250065,
          -0.012639235376835983,
          0.6726557987901667,
          4.2858028011714815,
          1.120293423006201,
          -1.3374521727784237,
          0.7095280590862453,
          0.04194983435096971,
          6.392758952581087,
          -0.1011213115408494,
          -1.112994102980254,
          0.3436082025919354,
          18.42694035006433,
          8.645451998661565,
          5.3723929789403595,
          0.27955261204705784,
          0.14490881467824596,
          0.25268684125038854,
          -1.7940096188814947,
          4.788298095280515,
          3.1787876639578254,
          0.13345782363643477,
          2.344644585668209,
          -0.8273486780618388,
          -4.4764721850170055,
          3.000988266947623,
          -0.8705384103250505,
          -0.44031222533384784,
          0.37800189808460555,
          -0.8970347549519169,
          -0.2374990934447421,
          8.35952017260231,
          -0.7278863000437483,
          7.368399114805782,
          3.4126090363170802,
          1.7381511944629249,
          -0.36050436900500576,
          3.6292216659965697,
          5.286162679104781,
          -2.3527635811276646,
          2.675592559385444,
          1.658346380911086,
          -5.7093901083764,
          -2.6962040413704162,
          13.146908104108473,
          0.3481085129855248,
          -1.0262939347856526,
          2.644125904541152,
          2.1439333714287185,
          -0.9015436722597563,
          1.8102175931680335,
          -0.8181967945521328,
          1.4732419878782006,
          2.443630831827021,
          -0.8230855710590773,
          4.925637182492428,
          11.877623644143421,
          1.5350430106487813,
          -0.12579548307521785,
          2.9297366974281127,
          -0.5291516594227805,
          1.6019030528360485,
          3.920755259856852,
          -1.0625076314632764,
          0.6330513361913404,
          1.3405973885634617,
          -2.842919423341746,
          2.521208561519381,
          0.4698552155256949,
          3.4913109984747335,
          -4.537543779901157,
          9.04700323842442,
          -1.7376772715288842,
          -1.617801747474239,
          -0.8727719323253148,
          -6.5834930904289095,
          0.4360631085392608,
          -3.750733396157269,
          2.8814951786202023,
          5.973394891764964,
          2.2272646195335284,
          -0.04450516657881893,
          1.8644335959292904,
          0.594750302077366,
          -0.42708705156546717,
          -6.38472194092835,
          1.2477540785647752,
          2.4395525123037767,
          0.021963213161538243,
          0.4196656900300233,
          -0.19319704105144836,
          -0.2567539879849957,
          0.34497372127497133,
          1.0203798594112694,
          3.5782763441683856,
          0.6913751639255657,
          0.6585047073716852,
          2.2012519641625357,
          5.141503486011406,
          6.038292999375776,
          -4.996848109805531,
          -6.9943639593923095,
          -6.280772239200548,
          2.32766407280205,
          -15.343848022367995,
          7.155627737284126,
          -49.49888446850466,
          4.947952539660509,
          0.47715726453739793,
          -2.785823361624052,
          3.649073984571776,
          3.5185950730406517,
          -8.127248603884857,
          -2.3029303109893173,
          1.4504313880334185,
          0.4440915161414847,
          1.9998992467359833,
          4.83289659776271,
          6.552181003486918,
          -5.469815287506687,
          0.7269768574541761,
          -0.6851284005964945,
          4.483294484116003,
          -5.604187095555989,
          3.329783223285938,
          1.1958530771330584,
          1.9413511932246306,
          -0.9313506182106409,
          1.0272887714451155,
          -7.671400843695505,
          -0.45215335998417516,
          0.7453781130138237,
          0.3637974633456616,
          2.724142820204256,
          1.3465788287554168,
          -0.7850870502574039,
          -0.9138982620313321,
          -0.6586830225157664,
          2.5598946004696654,
          5.674980140367987,
          -0.8714662503520078,
          1.7525264270811538,
          3.0001144885513074,
          2.8937191135043108,
          -1.6497814770965866,
          -0.7223172920513244,
          1.2322922825199099,
          0.9037759646515265,
          2.226793365570806,
          -1.812150601178847,
          3.1886321989722295,
          -0.09816486605332592,
          -2.8006374122060054,
          -2.708518326174513,
          -6.156232434649381,
          -6.284874715126726,
          2.31293625768866,
          3.674281493576659,
          2.3358169818148227,
          1.9345350464317561,
          -0.6036673759769943,
          1.1238743227122254,
          -9.715192059152914,
          0.18002644521702665,
          -62.6588440828639,
          -0.25678258346042077,
          2.6790477354346267,
          7.3691373026952,
          -1.1571034084076937,
          5.394801884837828,
          -1.5661437614087708,
          1.5898736521489147,
          2.134001595029446,
          0.5085558104865885,
          -0.8868119291022121,
          6.1058769517574065,
          8.206295764764068,
          -1.786511638234157,
          0.7822914978317758,
          5.446619579038816,
          1.8660754650362321,
          -2.2494154819858325,
          2.403694435712039,
          4.894708726691603,
          2.4379020203328463,
          1.492281102811666,
          -0.5511749163060251,
          0.08738174434690513,
          -3.278049400024238,
          1.307168520160116,
          11.040212678678921,
          1.6669309718774241,
          0.6578306776138674,
          -0.6681163815803531,
          3.595964059337621,
          -30.0940082242728,
          -2.3116817379542725,
          2.527167371931891,
          2.0186967400892386,
          1.2373044600345564,
          7.872712759987824,
          1.8161015987938285,
          1.81931187950637,
          -0.6083640393670032,
          1.1999006132963117,
          2.1060587588777926,
          -1.728338192202664,
          1.7744086452019014,
          -0.5599306176583334,
          2.0341671996056223,
          0.5378255698577356,
          4.008829955355558,
          3.6226066491544664,
          3.033032923524613,
          8.489229321297591,
          0.8985999294606025,
          -1.8490857681499013,
          3.457467572910036,
          4.013199831401643,
          0.12847517308335119,
          2.039130924783824,
          5.340874215864869,
          2.7603798649920996,
          -0.5600216228014202,
          3.5468991015817686,
          2.1582277263739584,
          2.1645020992927577,
          -2.667749483163009,
          -2.3215492690960704,
          18.42694035006433,
          -0.45975195719111883,
          -1.8833535077315224,
          1.9928599631392134,
          -3.455404470792166,
          1.4987278400347592,
          1.972915295878419,
          -0.0848890070755674,
          2.8641878496054507,
          1.989970157694358,
          3.344613195200162,
          2.6619210122901737,
          0.6739860915069387,
          -2.9486958606040865,
          -1.1714726306410925,
          4.158066937222139,
          0.5796316210501543,
          3.3713489747674052,
          0.8792736863082564,
          -1.6211594828157239,
          0.8264346041954164,
          1.9676143727090054,
          -3.8497513079929164,
          1.0952049827685788,
          -0.00786658017754401,
          -3.1347222029797446,
          1.8743378124035033,
          0.588425262962772,
          2.1783685091719733,
          1.734513681831092,
          1.5292133883325854,
          -0.7985180679098979,
          0.11859254712512682,
          0.5981697361412586,
          -1.5447833101226323,
          -2.174958576708274,
          3.6292216659965697,
          -0.6240376820557715,
          1.4256252355630434,
          -1.9552597153425395,
          3.3648712852214193,
          0.40618312031169984,
          1.1074918676773216,
          2.063350475535148,
          1.784578200219606,
          1.3708470976265847,
          5.9840121530611174,
          1.9086121391349467,
          0.4216424585955687,
          -23.723819542600936,
          -5.596413297214256,
          0.03329932359689864,
          0.17135461646485917,
          -0.2216964714517069,
          5.289524741998723,
          2.668158702878591,
          1.5751026967792219,
          -3.073572043449969,
          4.9036489689537435,
          0.11507003102710538,
          -1.8765905652585786,
          18.42694035006433,
          -0.22947034630498905,
          18.42694035006433,
          0.9260233348927861,
          18.42694035006433,
          0.7975350694821142,
          2.4824237606311472,
          2.2188580234002235,
          -6.641558052358928,
          0.9419255232843536,
          4.791602037046027,
          0.30825422068557906,
          2.9282412790863255,
          2.3880275341613943,
          -1.5832404277924597,
          -0.4794959931324961,
          -1.0041133581921329,
          -0.229409794244851,
          -1.3539438450860086,
          1.6885542177514088,
          -4.355470206469564,
          2.538434730516299,
          1.2937349237656908,
          -0.38307665995584417,
          2.7283421970210884,
          -0.5601005815289674,
          -4.647509692734984,
          5.927409856892774,
          0.6035707985395482,
          0.2971681268224893,
          3.8079400303000845,
          -0.47595135795735793,
          1.7337731888417665,
          3.261619643956475,
          -12.946854586541841,
          5.081517353596984,
          2.3553359748470233,
          3.127892402281116,
          2.3926793364044365,
          1.6198957811870225,
          4.1013368611957945,
          1.7906080693519388,
          1.2955084510565344,
          2.9320189828355003,
          3.7793921353359727,
          -1.95483430280692,
          6.342022983140731,
          5.99358824187243,
          -0.8906487596081915,
          1.2318746304648411,
          3.414010236697237
         ],
         "yaxis": "y2"
        },
        {
         "hovertemplate": "<b>OLS trendline</b><br>T_init_prob = 0.58915 * T_hab_prob + 2.8152<br>R<sup>2</sup>=0.176085<br><br>Screen=Neuronal<br>Degree of Habituation of Response Probability=%{x}<br>Initial Response Probability=%{y} <b>(trend)</b><extra></extra>",
         "legendgroup": "Neuronal",
         "marker": {
          "color": "red",
          "symbol": "circle"
         },
         "mode": "lines",
         "name": "Neuronal",
         "showlegend": false,
         "type": "scatter",
         "x": [
          -83.93771503951183,
          -49.7854945128771,
          -37.11554926734025,
          -35.62566382859322,
          -30.975925761525374,
          -30.59251451297307,
          -24.46585913153768,
          -24.456966284605237,
          -24.203321133544915,
          -24.007744814023066,
          -23.20874318956885,
          -21.891191856605882,
          -21.820078709771856,
          -21.398820002427648,
          -20.817230722304927,
          -19.575497640679252,
          -19.3367580733655,
          -19.12790325353527,
          -17.87286039857314,
          -17.675112445922135,
          -16.445944017945674,
          -16.315514787337413,
          -16.30056021535783,
          -15.739909712742381,
          -15.262922907320029,
          -15.19181832842607,
          -14.832493248817503,
          -14.69170052785429,
          -14.63037548961755,
          -13.992295313736243,
          -13.984878736814462,
          -13.981511288061212,
          -13.856722875669458,
          -13.828704240320443,
          -13.655726534756026,
          -13.635488008487556,
          -13.61222473887362,
          -13.122089425788552,
          -13.078623425380906,
          -12.905607783809051,
          -12.534010855872403,
          -12.374746444861708,
          -12.203478612476024,
          -11.95473327905864,
          -11.95145460101005,
          -11.909697467150359,
          -11.769115846709651,
          -11.736064321432668,
          -11.658500644592877,
          -11.60845308959811,
          -11.544089983027487,
          -11.288655147432117,
          -11.207248506671874,
          -11.070910456218174,
          -10.974228601245516,
          -10.822472765719677,
          -10.729944630858704,
          -10.643439284796031,
          -10.507540629313736,
          -10.494596487982509,
          -10.484524277023063,
          -10.47231948299202,
          -10.423716149357675,
          -10.423371059524452,
          -10.416461887950444,
          -10.260183480616272,
          -10.204688966199985,
          -10.18818565725402,
          -10.059601211977697,
          -10.037940693170384,
          -9.977455266241106,
          -9.94972206127662,
          -9.921217079802853,
          -9.806149385548393,
          -9.74680396027078,
          -9.732894057054004,
          -9.67157528982075,
          -9.669632961675289,
          -9.305400050608768,
          -9.295663067353642,
          -9.218028939308644,
          -9.174384546203097,
          -9.15887243895084,
          -9.101387209939674,
          -9.070071770848589,
          -9.048309000672594,
          -9.03758707897204,
          -8.972013166477476,
          -8.966665241579957,
          -8.95440885088198,
          -8.877070613957567,
          -8.810934470232441,
          -8.80114953171091,
          -8.696659540616949,
          -8.537683624442762,
          -8.446963454145624,
          -8.436365476164159,
          -8.413709035865399,
          -8.325852373803897,
          -8.075360565853245,
          -8.074489335877505,
          -8.048588041475409,
          -8.042978806858924,
          -7.95872039560527,
          -7.90514197778453,
          -7.748304006700686,
          -7.743670775837309,
          -7.729463095172824,
          -7.678801983630953,
          -7.673494023433729,
          -7.642759279033785,
          -7.5790038332025516,
          -7.562119942167294,
          -7.46586228740602,
          -7.40046995271707,
          -7.399586442892587,
          -7.341788248930715,
          -7.333888803288086,
          -7.226807942808753,
          -7.193616259821195,
          -7.192414691561542,
          -7.115101233555751,
          -7.106182117733784,
          -7.076833412579282,
          -7.0559093836389515,
          -7.054355996667725,
          -7.030395147768639,
          -7.013019549514622,
          -6.880786128332895,
          -6.8474267703625715,
          -6.8368783800732595,
          -6.73305867263703,
          -6.719552240212638,
          -6.6544688931767775,
          -6.644877216267254,
          -6.605782100423973,
          -6.583919769719504,
          -6.53567087728214,
          -6.5343962191517475,
          -6.52357665462777,
          -6.437946779932039,
          -6.374177418437995,
          -6.3205379062337625,
          -6.294037775008137,
          -6.289986333789726,
          -6.217297916935292,
          -6.170948210326332,
          -6.140091209666143,
          -6.127288856629809,
          -5.946068812632951,
          -5.943301466579507,
          -5.9294497715558645,
          -5.928395679684496,
          -5.916475762271647,
          -5.902459537905083,
          -5.884727767210932,
          -5.871834880532199,
          -5.863568569389007,
          -5.840983920468337,
          -5.814653259689252,
          -5.809720361948608,
          -5.757841256909577,
          -5.738200660668924,
          -5.737518066122293,
          -5.641344419599756,
          -5.632103987796488,
          -5.5945490995161,
          -5.587505980546043,
          -5.5731906867384104,
          -5.556735656991481,
          -5.520437014583713,
          -5.486453039468474,
          -5.483708487527157,
          -5.448266990808383,
          -5.368943195698791,
          -5.36585862512329,
          -5.3383191758057,
          -5.318554312400836,
          -5.272172241452014,
          -5.255094871711765,
          -5.22803755327284,
          -5.218455383723371,
          -5.207306330191811,
          -5.107198235189568,
          -5.086174359754183,
          -5.0825613224981385,
          -5.078863219314972,
          -5.048322344050695,
          -5.010373708194842,
          -4.997042678651697,
          -4.993341582212175,
          -4.988617941627549,
          -4.962607226573921,
          -4.943347352388724,
          -4.926335463456463,
          -4.902975818541562,
          -4.830945916040436,
          -4.7665561992514105,
          -4.748652343113076,
          -4.724604125022057,
          -4.6970120936761255,
          -4.565676383354067,
          -4.511315342973053,
          -4.434967479649103,
          -4.431815720300144,
          -4.42836233438255,
          -4.42299499339439,
          -4.403399443764314,
          -4.3913464925004,
          -4.373599080563715,
          -4.321899579081587,
          -4.320036084833831,
          -4.308962291204926,
          -4.305106996366693,
          -4.291080715448885,
          -4.267128934010547,
          -4.2656450298268505,
          -4.231836998563296,
          -4.2316886228310615,
          -4.224512612404866,
          -4.206886189349536,
          -4.19697164000011,
          -4.188747787068825,
          -4.157371079103396,
          -4.153986338145295,
          -4.140270120536486,
          -4.124527753349803,
          -4.1234964356175485,
          -4.121149791546294,
          -4.105648759094665,
          -4.090453087432597,
          -4.071157939585884,
          -4.067665477035959,
          -4.0133764513121095,
          -3.9845069004038742,
          -3.983421374193623,
          -3.9576573780936983,
          -3.9506981086714617,
          -3.914227752713337,
          -3.869162361839986,
          -3.8526405143283466,
          -3.8376316073392718,
          -3.826354949510879,
          -3.8055501626004755,
          -3.792501725220277,
          -3.7918443886603557,
          -3.783954253566772,
          -3.779758916247131,
          -3.7550105877378672,
          -3.7271591056412117,
          -3.7245258205661287,
          -3.7207325619153204,
          -3.710658434196127,
          -3.7044842924072627,
          -3.696296831061716,
          -3.6552286337669537,
          -3.6371368879723494,
          -3.621809678023648,
          -3.5587159013552765,
          -3.540604007224312,
          -3.511460500021731,
          -3.51036436048834,
          -3.505424820016107,
          -3.5020298044519507,
          -3.4791063761801646,
          -3.4788173776821947,
          -3.473071167340067,
          -3.471108541873522,
          -3.4619292273260003,
          -3.455580661097233,
          -3.4435430288140996,
          -3.418447733258845,
          -3.366856279739074,
          -3.364027993076874,
          -3.3538003501043203,
          -3.2934698259531316,
          -3.2911374778929106,
          -3.284291836277591,
          -3.2514153022419308,
          -3.243945359208201,
          -3.242190308039162,
          -3.2152761277791932,
          -3.172366706894686,
          -3.1583362204820267,
          -3.1567522748452563,
          -3.154855831532702,
          -3.154704817330085,
          -3.153430679393358,
          -3.150923402098956,
          -3.150813746747599,
          -3.1185402838510914,
          -3.107768602210124,
          -3.0915110527488827,
          -3.065319377456221,
          -3.0233506964814887,
          -3.0217375938696667,
          -2.9792386181040302,
          -2.9581221025624664,
          -2.95677942041533,
          -2.9566806881434182,
          -2.956159442687448,
          -2.9511523195128673,
          -2.9342356479548726,
          -2.9269201590345744,
          -2.913349216466523,
          -2.912030528385515,
          -2.909008529793218,
          -2.889056679427496,
          -2.876724259826326,
          -2.8739669383434685,
          -2.87078515324511,
          -2.8320042382258634,
          -2.820201227182107,
          -2.8093472740037186,
          -2.8064047471124747,
          -2.769490762522079,
          -2.7691711201346387,
          -2.7152356540636213,
          -2.681910751874105,
          -2.673417329127967,
          -2.662429060891792,
          -2.6389573299448945,
          -2.6297197878270633,
          -2.6290354591939833,
          -2.6093012981563555,
          -2.6010522339988205,
          -2.585499516932234,
          -2.5809022192263753,
          -2.5573443730711083,
          -2.540669546957292,
          -2.5277973128484357,
          -2.5185972821463896,
          -2.5142632397233164,
          -2.510975688259307,
          -2.5097140534587643,
          -2.4973863195309756,
          -2.488370939382492,
          -2.4205024510276063,
          -2.4137737928081364,
          -2.413042249962512,
          -2.3832190749729127,
          -2.3631299646666117,
          -2.360192912026523,
          -2.3471449465517056,
          -2.25648945755612,
          -2.2509568440254744,
          -2.228213870524898,
          -2.223642330982019,
          -2.2187157734959255,
          -2.199125114865502,
          -2.1688761521805295,
          -2.158115089475848,
          -2.1564834140128166,
          -2.1538117970948445,
          -2.1501627067341795,
          -2.1237981240697397,
          -2.0944621265854,
          -2.071620866478779,
          -2.0587801131563306,
          -2.0377568823594623,
          -2.0194239470366977,
          -1.9977470389560106,
          -1.9917904550835803,
          -1.9860808697792127,
          -1.962299764150566,
          -1.9457364001136486,
          -1.945411147195934,
          -1.8990733455601314,
          -1.8972471827498483,
          -1.8828492502576277,
          -1.8381636505661567,
          -1.836459132710274,
          -1.8225199830373802,
          -1.8097768015350875,
          -1.7682182657264673,
          -1.7558955881029308,
          -1.7426302489267247,
          -1.6990828178933404,
          -1.6656145434695464,
          -1.6593819392200446,
          -1.6286351271665416,
          -1.6260266552025997,
          -1.6047632264332088,
          -1.587445989361159,
          -1.5820259384034963,
          -1.5718833844395645,
          -1.5706290884421297,
          -1.5689474248370534,
          -1.5614201135152224,
          -1.5592818864745503,
          -1.5449534865772185,
          -1.5301335929161206,
          -1.5280543071009727,
          -1.5139159025124722,
          -1.5029234994803498,
          -1.4728256118811511,
          -1.4603162408601085,
          -1.4564630041282696,
          -1.4077661924530365,
          -1.4045337735896584,
          -1.4043274951193712,
          -1.3795883941695553,
          -1.3790423776225962,
          -1.3653150558340574,
          -1.3610625627628137,
          -1.3574767441134066,
          -1.3489071115618707,
          -1.328805353948437,
          -1.3098847207908366,
          -1.2836855648938754,
          -1.2778356784180411,
          -1.2552673458803945,
          -1.2304237941782374,
          -1.22437946901069,
          -1.2020573138479496,
          -1.198787749599281,
          -1.132320063527932,
          -1.1193435116018369,
          -1.0834311743449712,
          -1.0763366010187134,
          -1.0328672710554425,
          -0.9724084509004307,
          -0.9609091084742951,
          -0.9563628380762978,
          -0.8910230495732888,
          -0.8415093711997126,
          -0.8180210025603358,
          -0.79519687507836,
          -0.7886504812520778,
          -0.7615278642319001,
          -0.7555220751723729,
          -0.6969710074696941,
          -0.690844238909378,
          -0.6372128681615873,
          -0.6095580180671772,
          -0.609001439152251,
          -0.5420908461807852,
          -0.5200367197849127,
          -0.47492496185953154,
          -0.4492866903255945,
          -0.44868408233733925,
          -0.420403009362075,
          -0.4166574347072982,
          -0.3951442116020422,
          -0.3739416127082012,
          -0.3192046989894598,
          -0.3102431010364551,
          -0.24914192378187297,
          -0.23358466905301153,
          -0.2311485901768597,
          -0.22794388365329954,
          -0.20899596287716982,
          -0.11759399599270894,
          -0.10357798832332672,
          -0.09955022260351262,
          -0.09933430682440407,
          -0.08557249094872084,
          -0.08531086373125839,
          -0.058939124450026026,
          -0.057755460005595144,
          -0.03546417125693995,
          0,
          0.06542068392498573,
          0.07271296063743016,
          0.09643200191947641,
          0.11494761190135051,
          0.1324245902917508,
          0.14171359335766293,
          0.15889283953549338,
          0.1671301983246865,
          0.18834379697887457,
          0.21108012411225302,
          0.2567753652287574,
          0.28120170647347864,
          0.29680929970288117,
          0.2994886967407288,
          0.3825049350386796,
          0.42888497005061416,
          0.4393541341467269,
          0.44666556573128746,
          0.48207062790946725,
          0.49765737541383964,
          0.5325866305135342,
          0.5897697819789387,
          0.6003188224328337,
          0.602339740516308,
          0.6101080674845676,
          0.6307375855910093,
          0.6431830020213989,
          0.7011855569972631,
          0.7109750180715334,
          0.7288824945065226,
          0.7585091617879843,
          0.7611452762201333,
          0.8410965355744099,
          0.8650787165922347,
          0.9405882860434643,
          1.1265409503542483,
          1.1433557546385555,
          1.1774669956320067,
          1.233702925227723,
          1.256228310976561,
          1.3498079951507487,
          1.3892807948221462,
          1.390643644355686,
          1.3978834812060164,
          1.5109722322701982,
          1.5219080810413257,
          1.526287008233372,
          1.528767226811555,
          1.6384488673854982,
          1.803477935632306,
          1.8079700380573553,
          1.9530263008906723,
          2.099235161115652,
          2.1093983457639016,
          2.183981972270994,
          2.1846869737291215,
          2.286100481244883,
          2.2922604577003685,
          2.3043880395293033,
          2.414239497472098,
          2.6617928071991996,
          2.758033208055205,
          3.251368630294429,
          3.406471546673738,
          3.4168524030089076,
          3.490171463581131,
          3.722874517340164,
          3.7923029596415985,
          3.9780426983945234,
          3.9859632996771213,
          4.315148918946964,
          4.456570299488985,
          4.472617454533504,
          5.643677866583025,
          6.183505010830405,
          6.3821598993172035,
          6.479251660324434,
          6.626996410769524,
          6.8935816132635415,
          8.076236422145978,
          8.650453411589444,
          9.612912519041942,
          9.659138522433517,
          9.86052556697658,
          9.957471149189812,
          11.40881933650242,
          12.603046412884959,
          14.521079953455903,
          25.815383674692622
         ],
         "xaxis": "x",
         "y": [
          -46.63666976926178,
          -26.51590184802379,
          -19.05140835597033,
          -18.173642908219087,
          -15.434251468969773,
          -15.208364875607664,
          -11.598848154224154,
          -11.593608936787406,
          -11.444173991119614,
          -11.328950275785497,
          -10.858218768245667,
          -10.081983894317315,
          -10.040087610516956,
          -9.791903200994792,
          -9.449260094620408,
          -8.717693515046797,
          -8.577040188455907,
          -8.45399344964258,
          -7.71458542209699,
          -7.598082289918871,
          -6.873918171332807,
          -6.797075839011612,
          -6.788265358535591,
          -6.457958325080673,
          -6.176941727465563,
          -6.135050491463881,
          -5.923354255506226,
          -5.840406276727185,
          -5.8042766534378245,
          -5.428351957002995,
          -5.423982483489647,
          -5.421998552318964,
          -5.348479505935552,
          -5.3319723374225205,
          -5.230062587030288,
          -5.218139066865671,
          -5.204433520292904,
          -4.915670484317049,
          -4.890062506470203,
          -4.788130406093407,
          -4.569204215293389,
          -4.475373647247025,
          -4.374471267997093,
          -4.227923048056931,
          -4.225991416113624,
          -4.201390216352934,
          -4.118566607367594,
          -4.099094313640091,
          -4.05339770250483,
          -4.023912204240089,
          -3.985992704130647,
          -3.8355033664898985,
          -3.7875426746014456,
          -3.707219163283242,
          -3.6502590846674887,
          -3.560852191053423,
          -3.506339275084439,
          -3.4553746828783187,
          -3.3753100409428103,
          -3.367684004929655,
          -3.3617499656184866,
          -3.3545595157900894,
          -3.3259248799984724,
          -3.3257215704525875,
          -3.3216510346096766,
          -3.229579669510026,
          -3.1968850971439013,
          -3.187162178864685,
          -3.1114067011302784,
          -3.0986454145944395,
          -3.06301044799214,
          -3.0466714406831614,
          -3.0298777415330407,
          -2.962085652596383,
          -2.92712231753983,
          -2.9189273032738217,
          -2.882801374543814,
          -2.8816570526450014,
          -2.667069369623603,
          -2.661332829588774,
          -2.615594712152373,
          -2.589881634314428,
          -2.5807426821415063,
          -2.5468752810180315,
          -2.528425801816175,
          -2.5156042739248057,
          -2.5092874577740587,
          -2.4706546118083996,
          -2.4675038838597065,
          -2.4602830358743266,
          -2.4147192425807034,
          -2.3757551582963123,
          -2.3699903654342562,
          -2.3084301263495335,
          -2.2147695249279544,
          -2.1613217706040344,
          -2.155077975848928,
          -2.1417299425397256,
          -2.0899692230194398,
          -1.9423920682626732,
          -1.9418787834490483,
          -1.9266190455612056,
          -1.9233143670895365,
          -1.8736735556838817,
          -1.842107850908771,
          -1.749706819035755,
          -1.746977152809372,
          -1.7386067030716688,
          -1.7087597281971951,
          -1.7056325454367003,
          -1.6875251822944546,
          -1.6499636852818411,
          -1.6400165472073795,
          -1.5833063859871515,
          -1.5447805165176054,
          -1.5442599970356965,
          -1.51020821272883,
          -1.5055542572895972,
          -1.4424676084776755,
          -1.4229127408875253,
          -1.4222048373977612,
          -1.3766556425947551,
          -1.371400948851592,
          -1.354110170211238,
          -1.341782786404457,
          -1.34086760905265,
          -1.3267510839055254,
          -1.3165142567074493,
          -1.2386089861862,
          -1.2189553329428064,
          -1.2127407527579437,
          -1.151575411038917,
          -1.143618101439,
          -1.1052742719294466,
          -1.09962333907366,
          -1.076590466229474,
          -1.0637102822900752,
          -1.035284465396797,
          -1.0345335010370844,
          -1.0281591586535188,
          -0.9777103500750606,
          -0.9401406546549183,
          -0.9085389561466743,
          -0.8929264137687247,
          -0.890539508693589,
          -0.8477151551511994,
          -0.8204082428768111,
          -0.8022288525046699,
          -0.7946863510123019,
          -0.6879206300222522,
          -0.6862902491322114,
          -0.6781295282013682,
          -0.6775085103704801,
          -0.6704858954949051,
          -0.6622282421633536,
          -0.6517815761056847,
          -0.644185736751834,
          -0.6393156426404656,
          -0.6260099051947541,
          -0.6104972062668579,
          -0.6075909914120645,
          -0.5770264361253066,
          -0.5654551862124428,
          -0.5650530358911672,
          -0.5083923680933,
          -0.5029483711601994,
          -0.4808229228073344,
          -0.47667347190625264,
          -0.4682396219256031,
          -0.45854514731840057,
          -0.43715981575048346,
          -0.41713816955030225,
          -0.4155212178028762,
          -0.39464087329632713,
          -0.3479072891421957,
          -0.34609001554389707,
          -0.32986515930165705,
          -0.3182206974355801,
          -0.290894717722495,
          -0.28083359174151346,
          -0.26489278272571104,
          -0.25924745112753733,
          -0.25267899041866393,
          -0.19370034377381407,
          -0.18131413544189945,
          -0.17918551589685494,
          -0.17700677979273394,
          -0.159013634579094,
          -0.13665620998974104,
          -0.12880223893156062,
          -0.12662173935158005,
          -0.1238388082718136,
          -0.10851460524813739,
          -0.09716765759153123,
          -0.08714510960403121,
          -0.07338278355882721,
          -0.03094639350084316,
          0.006988784008795879,
          0.017536834141399282,
          0.031704832815199424,
          0.047960667739726404,
          0.12533705224451097,
          0.15736383880763904,
          0.20234415386579352,
          0.20420101170478944,
          0.20623557272363113,
          0.2093977396548472,
          0.22094245037397542,
          0.22804344209303684,
          0.23849932318288136,
          0.2689580651014145,
          0.2700559420389457,
          0.2765800634043809,
          0.27885140891316107,
          0.287114987058108,
          0.301226170114131,
          0.3021004117077113,
          0.3220184006536253,
          0.3221058161606525,
          0.3263335600133037,
          0.33671816054905124,
          0.3425593135817766,
          0.3474043934535156,
          0.36588996918972505,
          0.3678840880564138,
          0.37596499251909155,
          0.385239602246068,
          0.3858472027014339,
          0.38722972717636894,
          0.39636215463465296,
          0.40531467889823203,
          0.4166824080192981,
          0.4187399910214298,
          0.45072435017628454,
          0.467732835272062,
          0.46837237263191955,
          0.4835512212765045,
          0.48765127224791893,
          0.5091377687896617,
          0.5356880269298432,
          0.545421867198078,
          0.5542643591245722,
          0.5609079978570919,
          0.5731651302666396,
          0.5808526122579503,
          0.581239881845824,
          0.5858883519785758,
          0.5883600333878118,
          0.6029405018520833,
          0.6193491920891439,
          0.6209005910040366,
          0.6231353879162498,
          0.6290705564857055,
          0.6327080498062254,
          0.6375316895888674,
          0.6617270026305802,
          0.6723857478837436,
          0.6814157678795856,
          0.7185874427529271,
          0.7292580583909047,
          0.7464279447348026,
          0.7470737349300096,
          0.7499838633476292,
          0.7519840354946234,
          0.7654893646680527,
          0.7656596280248,
          0.769045005693886,
          0.7702012857518068,
          0.7756092754765946,
          0.7793495308905003,
          0.7864414974377776,
          0.8012263814071332,
          0.831621466909146,
          0.8332877509359919,
          0.8393133629594194,
          0.8748570686480734,
          0.8762311706334673,
          0.8802642778250303,
          0.8996334755283042,
          0.9040343896665028,
          0.9050683774048576,
          0.9209248566161834,
          0.9462049258456076,
          0.9544709816562698,
          0.9554041626344278,
          0.9565214515011335,
          0.9566104214619973,
          0.9573610793498069,
          0.9588382408279459,
          0.9589028442370933,
          0.9779167428047981,
          0.9842628750057874,
          0.9938410041767025,
          1.0092718198573716,
          1.0339976525215904,
          1.0349480113206706,
          1.0599862669621682,
          1.0724270541779122,
          1.0732180948615904,
          1.0732762629425772,
          1.0735833545075721,
          1.0765332992489463,
          1.0864997499560902,
          1.0908096675112582,
          1.0988049832381304,
          1.0995818878267434,
          1.1013622971645929,
          1.1131169223285664,
          1.1203825627137634,
          1.1220070376318014,
          1.1238815851298007,
          1.1467293466762856,
          1.153683086208332,
          1.1600776886547532,
          1.1618112772697176,
          1.1835591374538674,
          1.1837474546466094,
          1.2155235142645306,
          1.2351568678975773,
          1.240160764724688,
          1.246634498837056,
          1.2604628603259946,
          1.2659051548020037,
          1.2663083267596607,
          1.2779347003375892,
          1.2827946333938225,
          1.2919575108236345,
          1.2946660070437348,
          1.308545103275404,
          1.3183690708297666,
          1.3259527427298163,
          1.3313729373692769,
          1.3339263368382057,
          1.3358631965508816,
          1.336606488220695,
          1.3438693680431757,
          1.3491807758782215,
          1.3891654703518623,
          1.3931296568196119,
          1.3935606450128912,
          1.4111309573787363,
          1.4229664491852498,
          1.4246968126471982,
          1.4323840166156305,
          1.4857936639749865,
          1.489053201162655,
          1.50245221547527,
          1.5051455362833064,
          1.5080480157795082,
          1.5195898449680243,
          1.5374110099949911,
          1.543750886053648,
          1.5447121870410563,
          1.5462861691468184,
          1.5484360293649353,
          1.563968713358873,
          1.5812520052801138,
          1.594708925109837,
          1.6022740501163752,
          1.6146598786597497,
          1.6254607206330185,
          1.6382316629031226,
          1.6417409820587274,
          1.645104782100546,
          1.6591154115672677,
          1.668873711280807,
          1.669065333915357,
          1.6963652323792715,
          1.697441115514409,
          1.7059236520451067,
          1.7322501563528494,
          1.7332543724087008,
          1.7414666172133677,
          1.748974257818636,
          1.7734584536119835,
          1.7807183545147096,
          1.7885336241178322,
          1.814189576787308,
          1.833907398118436,
          1.8375793345757256,
          1.8556938073715423,
          1.8572305876513076,
          1.8697579287401551,
          1.879960372469752,
          1.8831535934597419,
          1.8891290753256353,
          1.8898680433423487,
          1.8908587948249045,
          1.8952935074685333,
          1.8965532431280265,
          1.9049948145565099,
          1.9137259493516787,
          1.9149509598102485,
          1.923280595573754,
          1.9297567656996044,
          1.9474889248964184,
          1.9548588161443028,
          1.957128949120472,
          1.9858186574648373,
          1.9877230358265179,
          1.9878445647099636,
          2.0024195967610456,
          2.0027412822050112,
          2.0108287286910147,
          2.013334083389882,
          2.015446667103029,
          2.020495462908422,
          2.0323384058711924,
          2.043485489803555,
          2.058920712679443,
          2.062367171103839,
          2.0756632957586088,
          2.090299864931279,
          2.0938608768380123,
          2.1070119661846354,
          2.108938228736136,
          2.1480976410695245,
          2.155742771772497,
          2.176900511805567,
          2.1810802770213167,
          2.2066902164746116,
          2.242309507705826,
          2.249084340985632,
          2.2517627744864335,
          2.2902576863902295,
          2.3194286514437197,
          2.333266815022946,
          2.346713641173282,
          2.350570446642107,
          2.3665497262925768,
          2.370088034665715,
          2.4045833742547624,
          2.408192957655441,
          2.439789859627674,
          2.4560827041943196,
          2.4564106124534133,
          2.495830963220982,
          2.508824143520076,
          2.5354017187915807,
          2.550506496855242,
          2.5508615231256337,
          2.5675233066677934,
          2.5697300105716185,
          2.582404517899805,
          2.5948960210902747,
          2.6271442532894285,
          2.632423975364168,
          2.668421711039805,
          2.6775872618316456,
          2.6790224767883615,
          2.680910528435426,
          2.6920736888580166,
          2.7459231233857846,
          2.7541806490502725,
          2.7565536057142848,
          2.75668081241461,
          2.7647885810791246,
          2.764942718656221,
          2.7804796189682595,
          2.7811769744319967,
          2.7943098788423324,
          2.8152035820445422,
          2.853746153455872,
          2.858042395547484,
          2.872016459827671,
          2.8829249245078783,
          2.893221479775302,
          2.8986940924495825,
          2.9088152388955764,
          2.9136682757384387,
          2.9261662594335935,
          2.9395613580414652,
          2.9664826922163003,
          2.9808734620043644,
          2.990068669704929,
          2.9916472354653996,
          3.0405562211398327,
          3.067881001381464,
          3.0740489054843017,
          3.0783564326616406,
          3.099215311772256,
          3.1083982382217332,
          3.1289767957704164,
          3.1626662280210396,
          3.1688811912501227,
          3.1700718143814566,
          3.1746485213028333,
          3.186802394162227,
          3.1941346065870015,
          3.228306790108657,
          3.2340742474309643,
          3.2446244304599845,
          3.262078970383241,
          3.263632036212789,
          3.31073529069147,
          3.3248643836483525,
          3.3693508181856298,
          3.478904760659596,
          3.4888111963006327,
          3.5089078211452565,
          3.542039197986421,
          3.5553100205566626,
          3.6104424564093516,
          3.6336978415392966,
          3.634500763831115,
          3.6387661109976195,
          3.7053923062955354,
          3.71183515749972,
          3.7144150008134647,
          3.7158762206590863,
          3.78049511808884,
          3.8777219317849676,
          3.880368452244811,
          3.9658282951184267,
          4.051967190313287,
          4.057954826739113,
          4.101895742337943,
          4.102311093682728,
          4.162058823620581,
          4.16568797144025,
          4.172832931728719,
          4.237551876997675,
          4.383397816627539,
          4.440097812715946,
          4.730746191800405,
          4.822125016844633,
          4.828240894463214,
          4.87143679151554,
          5.008533708408465,
          5.049437449164963,
          5.1588659466263325,
          5.163532365902922,
          5.357471950099855,
          5.440790303434097,
          5.450244478813266,
          6.14017428159788,
          6.458213241275929,
          6.575250694361739,
          6.632452268964107,
          6.719496033306413,
          6.876554605425762,
          7.573315242758305,
          7.911614966842524,
          8.478647389218422,
          8.505881421788658,
          8.624528523590863,
          8.681643977011541,
          9.536705217525963,
          10.240283651918304,
          11.370292393366928,
          18.02432719704097
         ],
         "yaxis": "y"
        }
       ],
       "layout": {
        "barmode": "overlay",
        "legend": {
         "title": {
          "text": "Screen"
         },
         "tracegroupgap": 0
        },
        "margin": {
         "t": 60
        },
        "template": {
         "data": {
          "bar": [
           {
            "error_x": {
             "color": "#2a3f5f"
            },
            "error_y": {
             "color": "#2a3f5f"
            },
            "marker": {
             "line": {
              "color": "#E5ECF6",
              "width": 0.5
             }
            },
            "type": "bar"
           }
          ],
          "barpolar": [
           {
            "marker": {
             "line": {
              "color": "#E5ECF6",
              "width": 0.5
             }
            },
            "type": "barpolar"
           }
          ],
          "carpet": [
           {
            "aaxis": {
             "endlinecolor": "#2a3f5f",
             "gridcolor": "white",
             "linecolor": "white",
             "minorgridcolor": "white",
             "startlinecolor": "#2a3f5f"
            },
            "baxis": {
             "endlinecolor": "#2a3f5f",
             "gridcolor": "white",
             "linecolor": "white",
             "minorgridcolor": "white",
             "startlinecolor": "#2a3f5f"
            },
            "type": "carpet"
           }
          ],
          "choropleth": [
           {
            "colorbar": {
             "outlinewidth": 0,
             "ticks": ""
            },
            "type": "choropleth"
           }
          ],
          "contour": [
           {
            "colorbar": {
             "outlinewidth": 0,
             "ticks": ""
            },
            "colorscale": [
             [
              0,
              "#0d0887"
             ],
             [
              0.1111111111111111,
              "#46039f"
             ],
             [
              0.2222222222222222,
              "#7201a8"
             ],
             [
              0.3333333333333333,
              "#9c179e"
             ],
             [
              0.4444444444444444,
              "#bd3786"
             ],
             [
              0.5555555555555556,
              "#d8576b"
             ],
             [
              0.6666666666666666,
              "#ed7953"
             ],
             [
              0.7777777777777778,
              "#fb9f3a"
             ],
             [
              0.8888888888888888,
              "#fdca26"
             ],
             [
              1,
              "#f0f921"
             ]
            ],
            "type": "contour"
           }
          ],
          "contourcarpet": [
           {
            "colorbar": {
             "outlinewidth": 0,
             "ticks": ""
            },
            "type": "contourcarpet"
           }
          ],
          "heatmap": [
           {
            "colorbar": {
             "outlinewidth": 0,
             "ticks": ""
            },
            "colorscale": [
             [
              0,
              "#0d0887"
             ],
             [
              0.1111111111111111,
              "#46039f"
             ],
             [
              0.2222222222222222,
              "#7201a8"
             ],
             [
              0.3333333333333333,
              "#9c179e"
             ],
             [
              0.4444444444444444,
              "#bd3786"
             ],
             [
              0.5555555555555556,
              "#d8576b"
             ],
             [
              0.6666666666666666,
              "#ed7953"
             ],
             [
              0.7777777777777778,
              "#fb9f3a"
             ],
             [
              0.8888888888888888,
              "#fdca26"
             ],
             [
              1,
              "#f0f921"
             ]
            ],
            "type": "heatmap"
           }
          ],
          "heatmapgl": [
           {
            "colorbar": {
             "outlinewidth": 0,
             "ticks": ""
            },
            "colorscale": [
             [
              0,
              "#0d0887"
             ],
             [
              0.1111111111111111,
              "#46039f"
             ],
             [
              0.2222222222222222,
              "#7201a8"
             ],
             [
              0.3333333333333333,
              "#9c179e"
             ],
             [
              0.4444444444444444,
              "#bd3786"
             ],
             [
              0.5555555555555556,
              "#d8576b"
             ],
             [
              0.6666666666666666,
              "#ed7953"
             ],
             [
              0.7777777777777778,
              "#fb9f3a"
             ],
             [
              0.8888888888888888,
              "#fdca26"
             ],
             [
              1,
              "#f0f921"
             ]
            ],
            "type": "heatmapgl"
           }
          ],
          "histogram": [
           {
            "marker": {
             "colorbar": {
              "outlinewidth": 0,
              "ticks": ""
             }
            },
            "type": "histogram"
           }
          ],
          "histogram2d": [
           {
            "colorbar": {
             "outlinewidth": 0,
             "ticks": ""
            },
            "colorscale": [
             [
              0,
              "#0d0887"
             ],
             [
              0.1111111111111111,
              "#46039f"
             ],
             [
              0.2222222222222222,
              "#7201a8"
             ],
             [
              0.3333333333333333,
              "#9c179e"
             ],
             [
              0.4444444444444444,
              "#bd3786"
             ],
             [
              0.5555555555555556,
              "#d8576b"
             ],
             [
              0.6666666666666666,
              "#ed7953"
             ],
             [
              0.7777777777777778,
              "#fb9f3a"
             ],
             [
              0.8888888888888888,
              "#fdca26"
             ],
             [
              1,
              "#f0f921"
             ]
            ],
            "type": "histogram2d"
           }
          ],
          "histogram2dcontour": [
           {
            "colorbar": {
             "outlinewidth": 0,
             "ticks": ""
            },
            "colorscale": [
             [
              0,
              "#0d0887"
             ],
             [
              0.1111111111111111,
              "#46039f"
             ],
             [
              0.2222222222222222,
              "#7201a8"
             ],
             [
              0.3333333333333333,
              "#9c179e"
             ],
             [
              0.4444444444444444,
              "#bd3786"
             ],
             [
              0.5555555555555556,
              "#d8576b"
             ],
             [
              0.6666666666666666,
              "#ed7953"
             ],
             [
              0.7777777777777778,
              "#fb9f3a"
             ],
             [
              0.8888888888888888,
              "#fdca26"
             ],
             [
              1,
              "#f0f921"
             ]
            ],
            "type": "histogram2dcontour"
           }
          ],
          "mesh3d": [
           {
            "colorbar": {
             "outlinewidth": 0,
             "ticks": ""
            },
            "type": "mesh3d"
           }
          ],
          "parcoords": [
           {
            "line": {
             "colorbar": {
              "outlinewidth": 0,
              "ticks": ""
             }
            },
            "type": "parcoords"
           }
          ],
          "pie": [
           {
            "automargin": true,
            "type": "pie"
           }
          ],
          "scatter": [
           {
            "marker": {
             "colorbar": {
              "outlinewidth": 0,
              "ticks": ""
             }
            },
            "type": "scatter"
           }
          ],
          "scatter3d": [
           {
            "line": {
             "colorbar": {
              "outlinewidth": 0,
              "ticks": ""
             }
            },
            "marker": {
             "colorbar": {
              "outlinewidth": 0,
              "ticks": ""
             }
            },
            "type": "scatter3d"
           }
          ],
          "scattercarpet": [
           {
            "marker": {
             "colorbar": {
              "outlinewidth": 0,
              "ticks": ""
             }
            },
            "type": "scattercarpet"
           }
          ],
          "scattergeo": [
           {
            "marker": {
             "colorbar": {
              "outlinewidth": 0,
              "ticks": ""
             }
            },
            "type": "scattergeo"
           }
          ],
          "scattergl": [
           {
            "marker": {
             "colorbar": {
              "outlinewidth": 0,
              "ticks": ""
             }
            },
            "type": "scattergl"
           }
          ],
          "scattermapbox": [
           {
            "marker": {
             "colorbar": {
              "outlinewidth": 0,
              "ticks": ""
             }
            },
            "type": "scattermapbox"
           }
          ],
          "scatterpolar": [
           {
            "marker": {
             "colorbar": {
              "outlinewidth": 0,
              "ticks": ""
             }
            },
            "type": "scatterpolar"
           }
          ],
          "scatterpolargl": [
           {
            "marker": {
             "colorbar": {
              "outlinewidth": 0,
              "ticks": ""
             }
            },
            "type": "scatterpolargl"
           }
          ],
          "scatterternary": [
           {
            "marker": {
             "colorbar": {
              "outlinewidth": 0,
              "ticks": ""
             }
            },
            "type": "scatterternary"
           }
          ],
          "surface": [
           {
            "colorbar": {
             "outlinewidth": 0,
             "ticks": ""
            },
            "colorscale": [
             [
              0,
              "#0d0887"
             ],
             [
              0.1111111111111111,
              "#46039f"
             ],
             [
              0.2222222222222222,
              "#7201a8"
             ],
             [
              0.3333333333333333,
              "#9c179e"
             ],
             [
              0.4444444444444444,
              "#bd3786"
             ],
             [
              0.5555555555555556,
              "#d8576b"
             ],
             [
              0.6666666666666666,
              "#ed7953"
             ],
             [
              0.7777777777777778,
              "#fb9f3a"
             ],
             [
              0.8888888888888888,
              "#fdca26"
             ],
             [
              1,
              "#f0f921"
             ]
            ],
            "type": "surface"
           }
          ],
          "table": [
           {
            "cells": {
             "fill": {
              "color": "#EBF0F8"
             },
             "line": {
              "color": "white"
             }
            },
            "header": {
             "fill": {
              "color": "#C8D4E3"
             },
             "line": {
              "color": "white"
             }
            },
            "type": "table"
           }
          ]
         },
         "layout": {
          "annotationdefaults": {
           "arrowcolor": "#2a3f5f",
           "arrowhead": 0,
           "arrowwidth": 1
          },
          "coloraxis": {
           "colorbar": {
            "outlinewidth": 0,
            "ticks": ""
           }
          },
          "colorscale": {
           "diverging": [
            [
             0,
             "#8e0152"
            ],
            [
             0.1,
             "#c51b7d"
            ],
            [
             0.2,
             "#de77ae"
            ],
            [
             0.3,
             "#f1b6da"
            ],
            [
             0.4,
             "#fde0ef"
            ],
            [
             0.5,
             "#f7f7f7"
            ],
            [
             0.6,
             "#e6f5d0"
            ],
            [
             0.7,
             "#b8e186"
            ],
            [
             0.8,
             "#7fbc41"
            ],
            [
             0.9,
             "#4d9221"
            ],
            [
             1,
             "#276419"
            ]
           ],
           "sequential": [
            [
             0,
             "#0d0887"
            ],
            [
             0.1111111111111111,
             "#46039f"
            ],
            [
             0.2222222222222222,
             "#7201a8"
            ],
            [
             0.3333333333333333,
             "#9c179e"
            ],
            [
             0.4444444444444444,
             "#bd3786"
            ],
            [
             0.5555555555555556,
             "#d8576b"
            ],
            [
             0.6666666666666666,
             "#ed7953"
            ],
            [
             0.7777777777777778,
             "#fb9f3a"
            ],
            [
             0.8888888888888888,
             "#fdca26"
            ],
            [
             1,
             "#f0f921"
            ]
           ],
           "sequentialminus": [
            [
             0,
             "#0d0887"
            ],
            [
             0.1111111111111111,
             "#46039f"
            ],
            [
             0.2222222222222222,
             "#7201a8"
            ],
            [
             0.3333333333333333,
             "#9c179e"
            ],
            [
             0.4444444444444444,
             "#bd3786"
            ],
            [
             0.5555555555555556,
             "#d8576b"
            ],
            [
             0.6666666666666666,
             "#ed7953"
            ],
            [
             0.7777777777777778,
             "#fb9f3a"
            ],
            [
             0.8888888888888888,
             "#fdca26"
            ],
            [
             1,
             "#f0f921"
            ]
           ]
          },
          "colorway": [
           "#636efa",
           "#EF553B",
           "#00cc96",
           "#ab63fa",
           "#FFA15A",
           "#19d3f3",
           "#FF6692",
           "#B6E880",
           "#FF97FF",
           "#FECB52"
          ],
          "font": {
           "color": "#2a3f5f"
          },
          "geo": {
           "bgcolor": "white",
           "lakecolor": "white",
           "landcolor": "#E5ECF6",
           "showlakes": true,
           "showland": true,
           "subunitcolor": "white"
          },
          "hoverlabel": {
           "align": "left"
          },
          "hovermode": "closest",
          "mapbox": {
           "style": "light"
          },
          "paper_bgcolor": "white",
          "plot_bgcolor": "#E5ECF6",
          "polar": {
           "angularaxis": {
            "gridcolor": "white",
            "linecolor": "white",
            "ticks": ""
           },
           "bgcolor": "#E5ECF6",
           "radialaxis": {
            "gridcolor": "white",
            "linecolor": "white",
            "ticks": ""
           }
          },
          "scene": {
           "xaxis": {
            "backgroundcolor": "#E5ECF6",
            "gridcolor": "white",
            "gridwidth": 2,
            "linecolor": "white",
            "showbackground": true,
            "ticks": "",
            "zerolinecolor": "white"
           },
           "yaxis": {
            "backgroundcolor": "#E5ECF6",
            "gridcolor": "white",
            "gridwidth": 2,
            "linecolor": "white",
            "showbackground": true,
            "ticks": "",
            "zerolinecolor": "white"
           },
           "zaxis": {
            "backgroundcolor": "#E5ECF6",
            "gridcolor": "white",
            "gridwidth": 2,
            "linecolor": "white",
            "showbackground": true,
            "ticks": "",
            "zerolinecolor": "white"
           }
          },
          "shapedefaults": {
           "line": {
            "color": "#2a3f5f"
           }
          },
          "ternary": {
           "aaxis": {
            "gridcolor": "white",
            "linecolor": "white",
            "ticks": ""
           },
           "baxis": {
            "gridcolor": "white",
            "linecolor": "white",
            "ticks": ""
           },
           "bgcolor": "#E5ECF6",
           "caxis": {
            "gridcolor": "white",
            "linecolor": "white",
            "ticks": ""
           }
          },
          "title": {
           "x": 0.05
          },
          "xaxis": {
           "automargin": true,
           "gridcolor": "white",
           "linecolor": "white",
           "ticks": "",
           "title": {
            "standoff": 15
           },
           "zerolinecolor": "white",
           "zerolinewidth": 2
          },
          "yaxis": {
           "automargin": true,
           "gridcolor": "white",
           "linecolor": "white",
           "ticks": "",
           "title": {
            "standoff": 15
           },
           "zerolinecolor": "white",
           "zerolinewidth": 2
          }
         }
        },
        "xaxis": {
         "anchor": "y",
         "domain": [
          0,
          0.7363
         ],
         "title": {
          "text": "Degree of Habituation of Response Probability"
         }
        },
        "xaxis2": {
         "anchor": "y2",
         "domain": [
          0.7413,
          1
         ],
         "matches": "x2",
         "showgrid": true,
         "showline": false,
         "showticklabels": false,
         "ticks": ""
        },
        "xaxis3": {
         "anchor": "y3",
         "domain": [
          0,
          0.7363
         ],
         "matches": "x",
         "showgrid": true,
         "showticklabels": false
        },
        "xaxis4": {
         "anchor": "y4",
         "domain": [
          0.7413,
          1
         ],
         "matches": "x2",
         "showgrid": true,
         "showline": false,
         "showticklabels": false,
         "ticks": ""
        },
        "yaxis": {
         "anchor": "x",
         "domain": [
          0,
          0.7326
         ],
         "title": {
          "text": "Initial Response Probability"
         }
        },
        "yaxis2": {
         "anchor": "x2",
         "domain": [
          0,
          0.7326
         ],
         "matches": "y",
         "showgrid": true,
         "showticklabels": false
        },
        "yaxis3": {
         "anchor": "x3",
         "domain": [
          0.7426,
          1
         ],
         "matches": "y3",
         "showgrid": true,
         "showline": false,
         "showticklabels": false,
         "ticks": ""
        },
        "yaxis4": {
         "anchor": "x4",
         "domain": [
          0.7426,
          1
         ],
         "matches": "y3",
         "showgrid": true,
         "showline": false,
         "showticklabels": false,
         "ticks": ""
        }
       }
      },
      "text/html": [
       "<div>                            <div id=\"92c283af-feb4-49c7-85b7-f151bddd5405\" class=\"plotly-graph-div\" style=\"height:525px; width:100%;\"></div>            <script type=\"text/javascript\">                require([\"plotly\"], function(Plotly) {                    window.PLOTLYENV=window.PLOTLYENV || {};                                    if (document.getElementById(\"92c283af-feb4-49c7-85b7-f151bddd5405\")) {                    Plotly.newPlot(                        \"92c283af-feb4-49c7-85b7-f151bddd5405\",                        [{\"customdata\": [[\"ok1767\"], [\"gk237614\"], [\"tm2752\"], [\"e120\"], [\"gk705\"], [\"tm522\"], [\"n582\"], [\"e55\"], [\"gk366\"], [\"ad1650\"], [\"ad698\"], [\"e251\"], [\"ok2694\"], [\"e950\"], [\"tm9711\"], [\"ok2798\"], [\"gk306\"], [\"ok3375\"], [\"tm5775\"], [\"ok869\"], [\"ku258\"], [\"ga80\"], [\"mu63\"], [\"qm39\"], [\"ok3000\"], [\"tm6473\"], [\"ok885\"], [\"cx18\"], [\"ok586\"], [\"tm1072\"], [\"ok711\"], [\"e698\"], [\"gk45\"], [\"ie28\"], [\"pk1389\"], [\"n4488\"], [\"ok370\"], [\"rh252\"], [\"hd40\"], [\"ok1323\"], [\"gk747\"], [\"gk793\"], [\"gk189051\"], [\"tm3577\"], [\"b1014\"], [\"tm6649\"], [\"tm4671\"], [\"ok2349\"], [\"n2461\"], [\"ok2342\"], [\"ok3324\"], [\"ok518\"], [\"ok1339\"], [\"tm3318\"], [\"gk542081\"], [\"tm7416\"], [\"eg142\"], [\"gk602291\"], [\"js118\"], [\"js379\"], [\"tm8384\"], [\"tm846\"], [\"ok2544\"], [\"tm3104\"], [\"tm3197\"], [\"gk190875\"], [\"tm8188\"], [\"gk149538\"], [\"ok2754\"], [\"tm238\"], [\"ok533\"], [\"ok646\"], [\"N2\"], [\"zu196\"], [\"ok259\"], [\"ds1\"], [\"ok1649\"], [\"gk510\"], [\"n4337\"], [\"ok2172\"], [\"gm57\"], [\"ok3078\"], [\"ok935\"], [\"ok948\"], [\"tm2107\"], [\"hc184\"], [\"tm556\"], [\"gk164\"], [\"ok943\"], [\"ok1573\"], [\"ok3498\"], [\"ok2695\"], [\"e1377\"], [\"ok2106\"], [\"ok2988\"], [\"e1375\"], [\"ok480\"], [\"e102\"], [\"md1117\"], [\"ok469\"], [\"n4909\"], [\"n4949\"], [\"gk181\"], [\"ok1241\"], [\"tm1276\"], [\"ok156\"], [\"ok661\"], [\"e109\"], [\"n370\"], [\"ok1608\"], [\"tm683\"], [\"e234\"], [\"e81\"], [\"md299\"], [\"ok1481\"], [\"e1753\"], [\"e1802\"], [\"ok1001\"], [\"tm748\"], [\"gk186909\"], [\"tm581\"], [\"tm6676\"], [\"ok2347\"], [\"ok2364\"], [\"ok2921\"], [\"gk101481\"], [\"gk109613\"], [\"tm3968\"], [\"gk244058\"], [\"tm5409\"], [\"tm6724\"], [\"tm10242\"], [\"tm559\"], [\"gk425293\"], [\"gk122271\"], [\"tm1803\"], [\"nk1\"]], \"hovertemplate\": \"<b>%{hovertext}</b><br><br>Screen=ASD<br>Degree of Habituation of Response Probability=%{x}<br>Initial Response Probability=%{y}<br>Allele=%{customdata[0]}<extra></extra>\", \"hovertext\": [\"cnt-2\", \"hcp-1\", \"aps-2\", \"unc-4\", \"unc-4\", \"bcl-11\", \"egl-19\", \"unc-2\", \"unc-2\", \"cca-1\", \"unc-36\", \"unc-36\", \"cdkl-1\", \"unc-75\", \"unc-75\", \"chd-1\", \"chd-7\", \"cls-3\", \"cls-3\", \"cor-1\", \"cbp-1\", \"bar-1\", \"bar-1\", \"hmp-2\", \"jac-1\", \"dhcr-7\", \"dip-2\", \"dys-1\", \"mrck-1\", \"dhp-1\", \"igcm-1\", \"vab-10\", \"vab-10\", \"dhc-1\", \"mbk-1\", \"set-11\", \"exc-7\", \"exc-7\", \"cdh-4\", \"cdh-4\", \"cdh-1\", \"fkh-7\", \"gab-1\", \"gab-1\", \"rme-6\", \"rme-6\", \"C18H9.3\", \"gpa-16\", \"glr-1\", \"glr-2\", \"nmr-2\", \"had-4\", \"tag-260\", \"pcaf-1\", \"irk-3\", \"irk-3\", \"slo-1\", \"slo-1\", \"slo-1\", \"slo-1\", \"kqt-1\", \"kqt-1\", \"rbr-2\", \"jmjd-3.3\", \"jmjd-3.3\", \"set-16\", \"lron-8\", \"let-19\", \"F11E6.8\", \"irx-1\", \"magu-3\", \"ztf-11\", \"N2\", \"gex-3\", \"nlg-1\", \"nrx-1\", \"nrx-1\", \"met-1\", \"met-1\", \"met-1\", \"epi-1\", \"pax-2\", \"pax-2\", \"pax-2\", \"npax-2\", \"jmjd-1.1\", \"row-1\", \"nab-1\", \"nab-1\", \"pptr-2\", \"pph-5\", \"dkf-1\", \"daf-6\", \"ptr-10\", \"ptr-6\", \"daf-18\", \"daf-18\", \"unc-10\", \"unc-10\", \"mtm-5\", \"set-24\", \"set-9\", \"shn-1\", \"shn-1\", \"sin-3\", \"snf-11\", \"nhx-5\", \"unc-16\", \"unc-16\", \"spas-1\", \"spas-1\", \"unc-18\", \"unc-18\", \"unc-18\", \"set-4\", \"anc-1\", \"anc-1\", \"gap-2\", \"gap-2\", \"tbx-38\", \"tbx-38\", \"pop-1\", \"R151.1\", \"ZK858.6\", \"ZK858.6\", \"hgap-1\", \"ubr-4\", \"ubr-4\", \"smg-4\", \"smg-4\", \"math-33\", \"M03D4.4\", \"M03D4.4\", \"C25H3.11\", \"ztf-6\", \"ztf-6\", \"bra-1\"], \"legendgroup\": \"ASD\", \"marker\": {\"color\": \"black\", \"opacity\": 0.65, \"symbol\": \"circle\"}, \"mode\": \"markers\", \"name\": \"ASD\", \"orientation\": \"v\", \"showlegend\": true, \"type\": \"scatter\", \"x\": [3.485675621578031, -1.9144455844786492, -5.989285439635338, -8.27559978467576, -11.986782483087653, -3.4505426037332727, -0.0775162583510839, -11.32373207561386, -24.420910975149003, 0.6325069612196149, -17.536705560130944, -25.310072209057644, -10.238253638117776, -7.432469405525828, -3.292283028795515, 2.3238006494485015, -0.9023477726655623, -0.2523068023970105, 0.42144769952940225, -0.6063831999040532, -2.2086533988781354, -12.044593951441067, -1.3947277848857174, -2.3560553066799286, 4.258624067746486, -1.708662946175073, -2.049133930273535, 6.029569026509586, 0.8305237000614296, -4.728496102441119, 1.9500845327446965, 0.6814644150835475, 4.990356535366464, -0.6555323091810609, -0.8259374453769581, 0.5655927445916423, 0.7694038532574556, 4.746679601586677, 0.40889266464234036, -3.3607563507967546, 0.16027192406364182, 0.9064722514355352, -0.13640845540091925, 1.7478806886143299, -4.042669454272817, -3.2748485082215435, -11.042225768427567, -0.15795155802596691, 6.455478494179587, 7.506324189681062, -0.9684659859473752, 0.7905982037752606, 0.7095070222639738, -0.017257514488529004, -0.328488120731565, -0.7894735925923072, -0.39579945323292576, 0.2697882842341385, -2.6465348194004066, 1.222502946505645, -4.776478078083833, -3.6007735129630474, 3.0060677114585985, -4.500342752899704, -5.088480509436998, 2.204556985965872, -3.6033001747936155, 0.24577764446944741, 1.969221966534404, -4.228724627734124, 1.4885579917376484, 0.0034924639110602675, 0.0, -0.39607309138065, -2.921208564919186, 2.4917385006436783, -0.5066730335538312, -0.09258066345193991, -0.21731695791117087, -2.1379033344266585, -1.856049999183115, -16.694725332283042, -2.858937596386524, -2.345777374645663, -5.147662982292533, 0.2889111152028091, -6.765808504679964, -1.2062744821497804, -3.294173987172703, -1.6412622565731954, 0.18605541094795247, -5.958214376182168, 0.49316801351120626, -1.8164806436424632, -0.07565688566597739, -0.4075149271691543, 0.9837747978772378, -2.4145737455775644, -2.6004653611424984, 3.393032631817353, 0.3099835982706871, 0.6397670404536833, 1.7869282878999615, -0.7065458670785243, -1.1753565468206075, -1.4645578170281628, 0.5058234364972195, -6.762904405097963, 2.6333824263788883, -1.3220198233301101, -2.4687293574478346, -11.979270576609872, -15.309790579308828, -10.658232750916271, 1.881722935687447, -1.2539324574144866, -1.3554398143684427, 0.8887131763930645, -0.8692013704533322, 1.76919978046307, -0.5658055744544555, -4.771706143986819, -0.36507701408325616, 0.09733498088780046, -2.197938685045516, -1.0105086448043652, -0.5583186343380091, -2.1635467357900815, 3.722596086705141, -3.745362073164994, 1.1566724879652277, -3.7488545475727424, -3.998446469017626, 0.5131443898816274, -0.01946489981151053, -22.716729077560586, -1.2854407614401235], \"xaxis\": \"x\", \"y\": [0.3218091079980962, 0.15899797291352988, -1.3782047459929447, -17.778152327739086, -13.918442319633257, -0.7682153140227798, -1.8150261095485525, -23.074023229164204, -58.309229285489586, -1.426028006894076, -35.08056428740579, -54.59356970435131, -22.563129232313617, -10.271800640404116, -2.470311543371365, 0.35615450287356487, 0.36568847957002365, 0.13254854549225592, 3.409026769675302, -2.1681754713971126, -2.0484860035100705, -2.876351559119351, -0.09183317937936465, 2.0923578660536837, -1.6454288250650762, 2.255822796477306, -0.5748040578103069, 3.5406211634122924, -0.22326614241223766, -0.3145875015800742, 2.094559480574237, -0.8497873827882381, 5.124329489342407, -0.568304043629971, -1.1552296105069217, -0.5027551012052928, -2.2668837488867815, -2.4241019906941155, 0.36608013245029974, -0.4633789512964103, -0.7173526143685222, 1.4152235510052003, -0.19961064805598944, 4.798130824513789, -0.537329400599268, 0.05243886387108838, -2.0480256680651845, -1.4967392527433416, -1.524773278328797, 0.6960225624630426, 2.473106760845165, 0.013814809232788997, -0.4882152705862425, 11.18832424553527, -0.8865821207822991, -1.5059835144015696, -1.401045698202618, -0.7620166861726808, -2.0897354049430747, 0.21162727566187958, -1.762198248992916, -1.1163027335264635, 0.10385902439164059, -1.47933040647512, -0.888691179420907, -0.8304852910455647, -0.36958374371024977, 0.5653252264156656, 0.1867722844392909, -0.7874937621092241, -0.373676227466333, -0.6828914101767469, 0.0, -2.4664501087773765, -0.765505379574982, 2.0024364162225363, -2.6581033202860254, -4.421391071170352, -2.5465469940486747, -0.5699174545433329, -3.1755590585493136, -26.21129073603707, -0.898187504675162, -1.8181270617910434, -1.105941577862878, -1.6559685712349081, -1.3224852223194639, -1.9514240856084728, -2.4915611806039446, -0.701651315488362, -1.0589332579064248, -6.153446949721217, 1.7768051290419824, -1.568933002145029, -2.4630284416872152, -2.371244686942587, -0.520028000198435, -5.738278958519362, -18.61771433375479, 0.5204413007007962, 0.654308580308896, -0.9858087215188805, -0.008908514406909799, -0.811735035769409, -0.5471284042293766, -1.4616259606990805, 0.4261360975481248, -8.782693447736778, -0.2309646729471886, -1.3834824025192785, 1.8621526321240967, -67.07355749882414, -67.07355749882414, -67.07355749882414, 2.2512933714106236, -1.3676000408620437, -1.9443581917226858, -0.3808798586697913, -1.8922670521567915, -0.75603591608915, 0.7200830834739548, -1.2232897518500543, -2.1793060806412505, 0.02786488905681593, -0.6288667424991915, -3.10693863992479, -0.38679618590779596, 0.8256647773964887, 11.18832424553527, -0.7828223240888973, 1.7834842532008541, -1.8907243276850763, -0.22210670443094743, 0.6438305745144701, -0.40779522080143277, -10.139843326584, -1.0583062443323186], \"yaxis\": \"y\"}, {\"alignmentgroup\": \"True\", \"bingroup\": \"x\", \"hovertemplate\": \"Screen=ASD<br>Degree of Habituation of Response Probability=%{x}<br>count=%{y}<extra></extra>\", \"legendgroup\": \"ASD\", \"marker\": {\"color\": \"black\"}, \"name\": \"ASD\", \"offsetgroup\": \"ASD\", \"opacity\": 0.5, \"showlegend\": false, \"type\": \"histogram\", \"x\": [3.485675621578031, -1.9144455844786492, -5.989285439635338, -8.27559978467576, -11.986782483087653, -3.4505426037332727, -0.0775162583510839, -11.32373207561386, -24.420910975149003, 0.6325069612196149, -17.536705560130944, -25.310072209057644, -10.238253638117776, -7.432469405525828, -3.292283028795515, 2.3238006494485015, -0.9023477726655623, -0.2523068023970105, 0.42144769952940225, -0.6063831999040532, -2.2086533988781354, -12.044593951441067, -1.3947277848857174, -2.3560553066799286, 4.258624067746486, -1.708662946175073, -2.049133930273535, 6.029569026509586, 0.8305237000614296, -4.728496102441119, 1.9500845327446965, 0.6814644150835475, 4.990356535366464, -0.6555323091810609, -0.8259374453769581, 0.5655927445916423, 0.7694038532574556, 4.746679601586677, 0.40889266464234036, -3.3607563507967546, 0.16027192406364182, 0.9064722514355352, -0.13640845540091925, 1.7478806886143299, -4.042669454272817, -3.2748485082215435, -11.042225768427567, -0.15795155802596691, 6.455478494179587, 7.506324189681062, -0.9684659859473752, 0.7905982037752606, 0.7095070222639738, -0.017257514488529004, -0.328488120731565, -0.7894735925923072, -0.39579945323292576, 0.2697882842341385, -2.6465348194004066, 1.222502946505645, -4.776478078083833, -3.6007735129630474, 3.0060677114585985, -4.500342752899704, -5.088480509436998, 2.204556985965872, -3.6033001747936155, 0.24577764446944741, 1.969221966534404, -4.228724627734124, 1.4885579917376484, 0.0034924639110602675, 0.0, -0.39607309138065, -2.921208564919186, 2.4917385006436783, -0.5066730335538312, -0.09258066345193991, -0.21731695791117087, -2.1379033344266585, -1.856049999183115, -16.694725332283042, -2.858937596386524, -2.345777374645663, -5.147662982292533, 0.2889111152028091, -6.765808504679964, -1.2062744821497804, -3.294173987172703, -1.6412622565731954, 0.18605541094795247, -5.958214376182168, 0.49316801351120626, -1.8164806436424632, -0.07565688566597739, -0.4075149271691543, 0.9837747978772378, -2.4145737455775644, -2.6004653611424984, 3.393032631817353, 0.3099835982706871, 0.6397670404536833, 1.7869282878999615, -0.7065458670785243, -1.1753565468206075, -1.4645578170281628, 0.5058234364972195, -6.762904405097963, 2.6333824263788883, -1.3220198233301101, -2.4687293574478346, -11.979270576609872, -15.309790579308828, -10.658232750916271, 1.881722935687447, -1.2539324574144866, -1.3554398143684427, 0.8887131763930645, -0.8692013704533322, 1.76919978046307, -0.5658055744544555, -4.771706143986819, -0.36507701408325616, 0.09733498088780046, -2.197938685045516, -1.0105086448043652, -0.5583186343380091, -2.1635467357900815, 3.722596086705141, -3.745362073164994, 1.1566724879652277, -3.7488545475727424, -3.998446469017626, 0.5131443898816274, -0.01946489981151053, -22.716729077560586, -1.2854407614401235], \"xaxis\": \"x3\", \"yaxis\": \"y3\"}, {\"alignmentgroup\": \"True\", \"bingroup\": \"y\", \"hovertemplate\": \"Screen=ASD<br>Initial Response Probability=%{y}<br>count=%{x}<extra></extra>\", \"legendgroup\": \"ASD\", \"marker\": {\"color\": \"black\"}, \"name\": \"ASD\", \"offsetgroup\": \"ASD\", \"opacity\": 0.5, \"showlegend\": false, \"type\": \"histogram\", \"xaxis\": \"x2\", \"y\": [0.3218091079980962, 0.15899797291352988, -1.3782047459929447, -17.778152327739086, -13.918442319633257, -0.7682153140227798, -1.8150261095485525, -23.074023229164204, -58.309229285489586, -1.426028006894076, -35.08056428740579, -54.59356970435131, -22.563129232313617, -10.271800640404116, -2.470311543371365, 0.35615450287356487, 0.36568847957002365, 0.13254854549225592, 3.409026769675302, -2.1681754713971126, -2.0484860035100705, -2.876351559119351, -0.09183317937936465, 2.0923578660536837, -1.6454288250650762, 2.255822796477306, -0.5748040578103069, 3.5406211634122924, -0.22326614241223766, -0.3145875015800742, 2.094559480574237, -0.8497873827882381, 5.124329489342407, -0.568304043629971, -1.1552296105069217, -0.5027551012052928, -2.2668837488867815, -2.4241019906941155, 0.36608013245029974, -0.4633789512964103, -0.7173526143685222, 1.4152235510052003, -0.19961064805598944, 4.798130824513789, -0.537329400599268, 0.05243886387108838, -2.0480256680651845, -1.4967392527433416, -1.524773278328797, 0.6960225624630426, 2.473106760845165, 0.013814809232788997, -0.4882152705862425, 11.18832424553527, -0.8865821207822991, -1.5059835144015696, -1.401045698202618, -0.7620166861726808, -2.0897354049430747, 0.21162727566187958, -1.762198248992916, -1.1163027335264635, 0.10385902439164059, -1.47933040647512, -0.888691179420907, -0.8304852910455647, -0.36958374371024977, 0.5653252264156656, 0.1867722844392909, -0.7874937621092241, -0.373676227466333, -0.6828914101767469, 0.0, -2.4664501087773765, -0.765505379574982, 2.0024364162225363, -2.6581033202860254, -4.421391071170352, -2.5465469940486747, -0.5699174545433329, -3.1755590585493136, -26.21129073603707, -0.898187504675162, -1.8181270617910434, -1.105941577862878, -1.6559685712349081, -1.3224852223194639, -1.9514240856084728, -2.4915611806039446, -0.701651315488362, -1.0589332579064248, -6.153446949721217, 1.7768051290419824, -1.568933002145029, -2.4630284416872152, -2.371244686942587, -0.520028000198435, -5.738278958519362, -18.61771433375479, 0.5204413007007962, 0.654308580308896, -0.9858087215188805, -0.008908514406909799, -0.811735035769409, -0.5471284042293766, -1.4616259606990805, 0.4261360975481248, -8.782693447736778, -0.2309646729471886, -1.3834824025192785, 1.8621526321240967, -67.07355749882414, -67.07355749882414, -67.07355749882414, 2.2512933714106236, -1.3676000408620437, -1.9443581917226858, -0.3808798586697913, -1.8922670521567915, -0.75603591608915, 0.7200830834739548, -1.2232897518500543, -2.1793060806412505, 0.02786488905681593, -0.6288667424991915, -3.10693863992479, -0.38679618590779596, 0.8256647773964887, 11.18832424553527, -0.7828223240888973, 1.7834842532008541, -1.8907243276850763, -0.22210670443094743, 0.6438305745144701, -0.40779522080143277, -10.139843326584, -1.0583062443323186], \"yaxis\": \"y2\"}, {\"hovertemplate\": \"<b>OLS trendline</b><br>T_init_prob = 1.75729 * T_hab_prob + -0.282465<br>R<sup>2</sup>=0.531520<br><br>Screen=ASD<br>Degree of Habituation of Response Probability=%{x}<br>Initial Response Probability=%{y} <b>(trend)</b><extra></extra>\", \"legendgroup\": \"ASD\", \"marker\": {\"color\": \"black\", \"symbol\": \"circle\"}, \"mode\": \"lines\", \"name\": \"ASD\", \"showlegend\": false, \"type\": \"scatter\", \"x\": [-25.310072209057644, -24.420910975149003, -22.716729077560586, -17.536705560130944, -16.694725332283042, -15.309790579308828, -12.044593951441067, -11.986782483087653, -11.979270576609872, -11.32373207561386, -11.042225768427567, -10.658232750916271, -10.238253638117776, -8.27559978467576, -7.432469405525828, -6.765808504679964, -6.762904405097963, -5.989285439635338, -5.958214376182168, -5.147662982292533, -5.088480509436998, -4.776478078083833, -4.771706143986819, -4.728496102441119, -4.500342752899704, -4.228724627734124, -4.042669454272817, -3.998446469017626, -3.7488545475727424, -3.745362073164994, -3.6033001747936155, -3.6007735129630474, -3.4505426037332727, -3.3607563507967546, -3.294173987172703, -3.292283028795515, -3.2748485082215435, -2.921208564919186, -2.858937596386524, -2.6465348194004066, -2.6004653611424984, -2.4687293574478346, -2.4145737455775644, -2.3560553066799286, -2.345777374645663, -2.2086533988781354, -2.197938685045516, -2.1635467357900815, -2.1379033344266585, -2.049133930273535, -1.9144455844786492, -1.856049999183115, -1.8164806436424632, -1.708662946175073, -1.6412622565731954, -1.4645578170281628, -1.3947277848857174, -1.3554398143684427, -1.3220198233301101, -1.2854407614401235, -1.2539324574144866, -1.2062744821497804, -1.1753565468206075, -1.0105086448043652, -0.9684659859473752, -0.9023477726655623, -0.8692013704533322, -0.8259374453769581, -0.7894735925923072, -0.7065458670785243, -0.6555323091810609, -0.6063831999040532, -0.5658055744544555, -0.5583186343380091, -0.5066730335538312, -0.4075149271691543, -0.39607309138065, -0.39579945323292576, -0.36507701408325616, -0.328488120731565, -0.2523068023970105, -0.21731695791117087, -0.15795155802596691, -0.13640845540091925, -0.09258066345193991, -0.0775162583510839, -0.07565688566597739, -0.01946489981151053, -0.017257514488529004, 0.0, 0.0034924639110602675, 0.09733498088780046, 0.16027192406364182, 0.18605541094795247, 0.24577764446944741, 0.2697882842341385, 0.2889111152028091, 0.3099835982706871, 0.40889266464234036, 0.42144769952940225, 0.49316801351120626, 0.5058234364972195, 0.5131443898816274, 0.5655927445916423, 0.6325069612196149, 0.6397670404536833, 0.6814644150835475, 0.7095070222639738, 0.7694038532574556, 0.7905982037752606, 0.8305237000614296, 0.8887131763930645, 0.9064722514355352, 0.9837747978772378, 1.1566724879652277, 1.222502946505645, 1.4885579917376484, 1.7478806886143299, 1.76919978046307, 1.7869282878999615, 1.881722935687447, 1.9500845327446965, 1.969221966534404, 2.204556985965872, 2.3238006494485015, 2.4917385006436783, 2.6333824263788883, 3.0060677114585985, 3.393032631817353, 3.485675621578031, 3.722596086705141, 4.258624067746486, 4.746679601586677, 4.990356535366464, 6.029569026509586, 6.455478494179587, 7.506324189681062], \"xaxis\": \"x\", \"y\": [-44.759566829300134, -43.197053922250696, -40.20231448760783, -31.09951817110187, -29.61991590851835, -27.186185844252094, -21.44829300712251, -21.346701572371575, -21.333500984693586, -20.18153064476831, -19.68684281806128, -19.012056262825663, -18.27403175229437, -14.82508249413478, -13.343459083770693, -12.171943477295319, -12.166840136183286, -10.807368341219956, -10.752767515374327, -9.328394784669332, -9.224394099325263, -8.676115781030724, -8.66773011560377, -8.591797601843016, -8.190866319810027, -7.7135548827221205, -7.386602245933544, -7.308889697731523, -6.870284657520141, -6.86414737202957, -6.614503616386448, -6.610063542335246, -6.346064476971793, -6.18828411752876, -6.071279688436512, -6.067956728822021, -6.037319244430918, -5.415871800721354, -5.306443737107919, -4.933190756796305, -4.852233422621575, -4.620735244061561, -4.525568204261048, -4.42273441822654, -4.404673125348619, -4.1637067248445785, -4.144877880288217, -4.084441299653699, -4.039378442566619, -3.8833849799067344, -3.646698684206993, -3.5440807874079137, -3.4745460096892424, -3.285079198185786, -3.1666367341750488, -2.856116035574259, -2.7334045155919795, -2.664364212569359, -2.6056356430372367, -2.5413556742855437, -2.48598649056295, -2.402237673548512, -2.347905938010752, -2.058220597739984, -1.984339512279309, -1.8681507292958897, -1.8099029342911614, -1.7338757316157911, -1.6697982185124456, -1.5240702711772462, -1.4344247270289612, -1.3480555572016601, -1.2767489582581788, -1.2635922436825457, -1.172836017769651, -0.9985866070260437, -0.9784799993399567, -0.9779991381402384, -0.9240109458116329, -0.8597137003442861, -0.7258411374902758, -0.6643538823785728, -0.5600317414491658, -0.522174292624551, -0.44515621311750597, -0.4186837056470246, -0.41541625120940495, -0.3166707146047744, -0.3127917015231666, -0.28246526790956406, -0.2763280008647024, -0.11141961483262655, -0.0008212415654968441, 0.04448778621159, 0.1494369868250131, 0.19163061055501385, 0.22523494356953966, 0.2622653780076242, 0.4360771535734014, 0.4581399733538529, 0.584173264078403, 0.6064124947215235, 0.6192775227038612, 0.7114444189456807, 0.8290320095412602, 0.8417900640726828, 0.9150643854944971, 0.964343339632117, 1.0695993583940537, 1.1068439491135844, 1.1770045689072084, 1.2792602727720144, 1.310468093033296, 1.4463109772670004, 1.7501421184133052, 1.8658252332677634, 2.3333607333628366, 2.789065554387814, 2.8265293516271472, 2.85768345578337, 3.0242650104425226, 3.144396066177956, 3.178026060563535, 3.591577609280943, 3.8011231406987163, 4.096238413461017, 4.345147670552132, 5.000063276403074, 5.680072322656701, 5.842872793176969, 6.259210427553979, 7.201166292223189, 8.058820721926498, 8.487031421697367, 10.313227693705525, 11.061673549294088, 12.908312718796061], \"yaxis\": \"y\"}, {\"customdata\": [[\"AH102\"], [\"AU3\"], [\"AU98\"], [\"BA1\"], [\"BA1070\"], [\"BA1084\"], [\"BA1090\"], [\"BA1091\"], [\"BA1093\"], [\"BA785\"], [\"BB2\"], [\"BC96\"], [\"BQ5\"], [\"BR2815\"], [\"BS3383\"], [\"BZ873\"], [\"CB1124\"], [\"CB1220\"], [\"CB1309\"], [\"CB1375\"], [\"CB1387\"], [\"CB1417\"], [\"CB1460\"], [\"CB1482\"], [\"CB152\"], [\"CB193\"], [\"CB2\"], [\"CB246\"], [\"CB251\"], [\"CB268\"], [\"CB271\"], [\"CB30\"], [\"CB3031\"], [\"CB312\"], [\"CB3241\"], [\"CB3687\"], [\"CE1047\"], [\"CX20\"], [\"CX2065\"], [\"CX51\"], [\"CX5463\"], [\"CX6161\"], [\"CX6391\"], [\"CZ1251\"], [\"CZ1893\"], [\"CZ2485\"], [\"CZ540\"], [\"CZ900\"], [\"DA1084\"], [\"DA1814\"], [\"DA464\"], [\"DG1856\"], [\"DH1370\"], [\"DR47\"], [\"EK228\"], [\"EK273\"], [\"FK163\"], [\"FK171\"], [\"FX1053\"], [\"FX794\"], [\"GG53\"], [\"GH534\"], [\"GR1310\"], [\"GS2381\"], [\"GS3662\"], [\"HA865\"], [\"IC683\"], [\"IG10\"], [\"IG544\"], [\"IG685\"], [\"IK105\"], [\"IK591\"], [\"JC1225\"], [\"JD21\"], [\"JN147\"], [\"JT1058\"], [\"JT23\"], [\"JT24\"], [\"JT249\"], [\"JT609\"], [\"JY190\"], [\"KG421\"], [\"KG518\"], [\"KG522\"], [\"KG524\"], [\"KG532\"], [\"KG571\"], [\"KG6\"], [\"KG744\"], [\"KJ461\"], [\"KP1097\"], [\"KP1182\"], [\"KU12\"], [\"KU2\"], [\"KU21\"], [\"KU4\"], [\"KU404\"], [\"KY50\"], [\"LE436\"], [\"LS292\"], [\"LS396\"], [\"LS721\"], [\"LX147\"], [\"LX160\"], [\"LX475\"], [\"LX533\"], [\"LX604\"], [\"LX645\"], [\"LX702\"], [\"LX734\"], [\"LY110\"], [\"LY130\"], [\"LY140\"], [\"MH1019\"], [\"MH2407\"], [\"MH2430\"], [\"ML514\"], [\"MR127\"], [\"MT1079\"], [\"MT1083\"], [\"MT1212\"], [\"MT1215\"], [\"MT1241\"], [\"MT13032\"], [\"MT1434\"], [\"MT1443\"], [\"MT1520\"], [\"MT2426\"], [\"MT2840\"], [\"MT4698\"], [\"MT4970\"], [\"MT5267\"], [\"MT5383\"], [\"MT7531\"], [\"MT8504\"], [\"MT8628\"], [\"MT8673\"], [\"MT8943\"], [\"MT8944\"], [\"MT9958\"], [\"MX124\"], [\"MX52\"], [\"N2\"], [\"NA654\"], [\"NG144\"], [\"NG324\"], [\"NL1000\"], [\"NL1106\"], [\"NL1137\"], [\"NL1142\"], [\"NL1146\"], [\"NL1832\"], [\"NL2001\"], [\"NL2003\"], [\"NL2037\"], [\"NL2330\"], [\"NL332\"], [\"NL335\"], [\"NL594\"], [\"NL787\"], [\"NL790\"], [\"NL792\"], [\"NL793\"], [\"NL795\"], [\"NL797\"], [\"NM1278\"], [\"NM1380\"], [\"NM1568\"], [\"NM1581\"], [\"NM1815\"], [\"NM2739\"], [\"NM791\"], [\"NM833\"], [\"NS2937\"], [\"NS2938\"], [\"NS3026\"], [\"NU3\"], [\"NW987\"], [\"OH313\"], [\"OH4149\"], [\"ON167\"], [\"OS122\"], [\"PR811\"], [\"PS3653\"], [\"PY1133\"], [\"RB1001\"], [\"RB1004\"], [\"RB1011\"], [\"RB1012\"], [\"RB1028\"], [\"RB1030\"], [\"RB1038\"], [\"RB1066\"], [\"RB1068\"], [\"RB1070\"], [\"RB1073\"], [\"RB1075\"], [\"RB1086\"], [\"RB1091\"], [\"RB1100\"], [\"RB1106\"], [\"RB1117\"], [\"RB1119\"], [\"RB1126\"], [\"RB1136\"], [\"RB1139\"], [\"RB1142\"], [\"RB1147\"], [\"RB1149\"], [\"RB1150\"], [\"RB1157\"], [\"RB1162\"], [\"RB1170\"], [\"RB1173\"], [\"RB1176\"], [\"RB1178\"], [\"RB1194\"], [\"RB1203\"], [\"RB1204\"], [\"RB1211\"], [\"RB1231\"], [\"RB1244\"], [\"RB1256\"], [\"RB1265\"], [\"RB1284\"], [\"RB1287\"], [\"RB1288\"], [\"RB1289\"], [\"RB1321\"], [\"RB1323\"], [\"RB1324\"], [\"RB1327\"], [\"RB1328\"], [\"RB1329\"], [\"RB1335\"], [\"RB1340\"], [\"RB1342\"], [\"RB1344\"], [\"RB1348\"], [\"RB1349\"], [\"RB1365\"], [\"RB1372\"], [\"RB1375\"], [\"RB1396\"], [\"RB1410\"], [\"RB1416\"], [\"RB1417\"], [\"RB1420\"], [\"RB1423\"], [\"RB1470\"], [\"RB1473\"], [\"RB1481\"], [\"RB1496\"], [\"RB1499\"], [\"RB1501\"], [\"RB1536\"], [\"RB1537\"], [\"RB1544\"], [\"RB1548\"], [\"RB1553\"], [\"RB1557\"], [\"RB1566\"], [\"RB1576\"], [\"RB1593\"], [\"RB1600\"], [\"RB1609\"], [\"RB1625\"], [\"RB1627\"], [\"RB1632\"], [\"RB1638\"], [\"RB1652\"], [\"RB1654\"], [\"RB1660\"], [\"RB1668\"], [\"RB1674\"], [\"RB1679\"], [\"RB1712\"], [\"RB1713\"], [\"RB1720\"], [\"RB1734\"], [\"RB1737\"], [\"RB1751\"], [\"RB1762\"], [\"RB1775\"], [\"RB1777\"], [\"RB1797\"], [\"RB1798\"], [\"RB1800\"], [\"RB1808\"], [\"RB1811\"], [\"RB1812\"], [\"RB1813\"], [\"RB1816\"], [\"RB1822\"], [\"RB1827\"], [\"RB1834\"], [\"RB1836\"], [\"RB1861\"], [\"RB1863\"], [\"RB1868\"], [\"RB1871\"], [\"RB1875\"], [\"RB1902\"], [\"RB1907\"], [\"RB1908\"], [\"RB1919\"], [\"RB1923\"], [\"RB1929\"], [\"RB1938\"], [\"RB1940\"], [\"RB1975\"], [\"RB1978\"], [\"RB1980\"], [\"RB1981\"], [\"RB2027\"], [\"RB2030\"], [\"RB2036\"], [\"RB2040\"], [\"RB2051\"], [\"RB2062\"], [\"RB2067\"], [\"RB2077\"], [\"RB2088\"], [\"RB2105\"], [\"RB2108\"], [\"RB2120\"], [\"RB2127\"], [\"RB2130\"], [\"RB2136\"], [\"RB2148\"], [\"RB2160\"], [\"RB2164\"], [\"RB2171\"], [\"RB2174\"], [\"RB2182\"], [\"RB2202\"], [\"RB2212\"], [\"RB2224\"], [\"RB2261\"], [\"RB2266\"], [\"RB2271\"], [\"RB2272\"], [\"RB2304\"], [\"RB2315\"], [\"RB2320\"], [\"RB2327\"], [\"RB2341\"], [\"RB2342\"], [\"RB2344\"], [\"RB2350\"], [\"RB2360\"], [\"RB2371\"], [\"RB2372\"], [\"RB2402\"], [\"RB2412\"], [\"RB2414\"], [\"RB2428\"], [\"RB2448\"], [\"RB2462\"], [\"RB2464\"], [\"RB2468\"], [\"RB2476\"], [\"RB2482\"], [\"RB2491\"], [\"RB2520\"], [\"RB2526\"], [\"RB2531\"], [\"RB2534\"], [\"RB2543\"], [\"RB2544\"], [\"RB2552\"], [\"RB2563\"], [\"RB2575\"], [\"RB2580\"], [\"RB2588\"], [\"RB2594\"], [\"RB503\"], [\"RB545\"], [\"RB640\"], [\"RB641\"], [\"RB660\"], [\"RB662\"], [\"RB663\"], [\"RB685\"], [\"RB687\"], [\"RB689\"], [\"RB694\"], [\"RB699\"], [\"RB700\"], [\"RB709\"], [\"RB710\"], [\"RB737\"], [\"RB743\"], [\"RB746\"], [\"RB751\"], [\"RB756\"], [\"RB761\"], [\"RB768\"], [\"RB771\"], [\"RB779\"], [\"RB785\"], [\"RB787\"], [\"RB796\"], [\"RB797\"], [\"RB809\"], [\"RB812\"], [\"RB814\"], [\"RB818\"], [\"RB821\"], [\"RB830\"], [\"RB849\"], [\"RB852\"], [\"RB866\"], [\"RB874\"], [\"RB876\"], [\"RB878\"], [\"RB879\"], [\"RB883\"], [\"RB884\"], [\"RB894\"], [\"RB896\"], [\"RB901\"], [\"RB907\"], [\"RB911\"], [\"RB914\"], [\"RB919\"], [\"RB921\"], [\"RB931\"], [\"RB936\"], [\"RB942\"], [\"RB949\"], [\"RB960\"], [\"RB967\"], [\"RB975\"], [\"RB976\"], [\"RB982\"], [\"RB983\"], [\"RB987\"], [\"RM2209\"], [\"RM2702\"], [\"RM2710\"], [\"RT2\"], [\"SN5\"], [\"SP1234\"], [\"SP1745\"], [\"SP2163\"], [\"SP2232\"], [\"ST36\"], [\"TG38\"], [\"TJ1052\"], [\"TR1331\"], [\"TY1807\"], [\"UL768\"], [\"VB674\"], [\"VC1000\"], [\"VC1005\"], [\"VC1024\"], [\"VC1025\"], [\"VC1063\"], [\"VC1065\"], [\"VC1076\"], [\"VC1089\"], [\"VC1115\"], [\"VC1142\"], [\"VC116\"], [\"VC1164\"], [\"VC1179\"], [\"VC1218\"], [\"VC1228\"], [\"VC1241\"], [\"VC125\"], [\"VC1263\"], [\"VC1383\"], [\"VC1392\"], [\"VC14\"], [\"VC1408\"], [\"VC142\"], [\"VC145\"], [\"VC161\"], [\"VC1613\"], [\"VC1614\"], [\"VC1620\"], [\"VC1622\"], [\"VC1655\"], [\"VC1658\"], [\"VC1663\"], [\"VC1682\"], [\"VC18\"], [\"VC181\"], [\"VC1973\"], [\"VC1995\"], [\"VC20\"], [\"VC201\"], [\"VC204\"], [\"VC2138\"], [\"VC214\"], [\"VC2141\"], [\"VC2154\"], [\"VC2167\"], [\"VC218\"], [\"VC2199\"], [\"VC220\"], [\"VC2205\"], [\"VC2213\"], [\"VC224\"], [\"VC228\"], [\"VC230\"], [\"VC2324\"], [\"VC2392\"], [\"VC240\"], [\"VC246\"], [\"VC259\"], [\"VC263\"], [\"VC279\"], [\"VC282\"], [\"VC290\"], [\"VC333\"], [\"VC376\"], [\"VC380\"], [\"VC381\"], [\"VC432\"], [\"VC464\"], [\"VC504\"], [\"VC550\"], [\"VC619\"], [\"VC624\"], [\"VC636\"], [\"VC689\"], [\"VC691\"], [\"VC700\"], [\"VC723\"], [\"VC728\"], [\"VC781\"], [\"VC808\"], [\"VC816\"], [\"VC822\"], [\"VC830\"], [\"VC855\"], [\"VC867\"], [\"VC885\"], [\"VC909\"], [\"VC913\"], [\"VC916\"], [\"VC956\"], [\"VC980\"], [\"VC998\"], [\"XA406\"], [\"XA7400\"], [\"XJ1\"], [\"XM1011\"], [\"XR1\"]], \"hovertemplate\": \"<b>%{hovertext}</b><br><br>Screen=Neuronal<br>Degree of Habituation of Response Probability=%{x}<br>Initial Response Probability=%{y}<br>Allele=%{customdata[0]}<extra></extra>\", \"hovertext\": [\"lip-1\", \"nsy-1\", \"inx-14\", \"fer-1\", \"cdh-5\", \"F09C12.2\", \"cav-2\", \"C35D10.2\", \"snf-10\", \"spe-8\", \"adr-1\", \"unc-22\", \"eak-6\", \"nep-1\", \"pmk-3\", \"dop-3\", \"che-3\", \"unc-82\", \"lin-2\", \"daf-18\", \"daf-10\", \"lin-3\", \"unc-89\", \"sma-6\", \"unc-5\", \"unc-29\", \"vab-1\", \"unc-64\", \"unc-36\", \"unc-41\", \"unc-40\", \"sma-1\", \"snb-1\", \"unc-13\", \"cir-1\", \"che-14\", \"egl-30\", \"adp-1\", \"odr-1\", \"dyn-1\", \"slt-1\", \"inx-19\", \"syg-2\", \"rpm-1\", \"syd-1\", \"ahr-1\", \"ptp-3\", \"syd-2\", \"egl-30\", \"ser-1\", \"eat-5\", \"goa-1\", \"rme-6\", \"daf-11\", \"mbk-1\", \"hpk-1\", \"cam-1\", \"mek-1\", \"ins-11\", \"rnf-5\", \"emb-30\", \"mrp-4\", \"akt-1\", \"sel-5\", \"dsl-1\", \"grk-2\", \"npr-9\", \"tol-1\", \"nipi-3\", \"tir-1\", \"pkc-1\", \"ttx-7\", \"mrp-1\", \"cca-1\", \"gap-2\", \"hid-1\", \"aex-5\", \"aex-6\", \"scd-2\", \"eat-16\", \"osm-9\", \"gsa-1\", \"acy-1\", \"acy-1\", \"gsa-1\", \"kin-2\", \"eat-16\", \"unknown\", \"pde-4\", \"cng-1\", \"dgk-1\", \"acy-1\", \"dlk-1\", \"jkk-1\", \"kgb-1\", \"sek-1\", \"exc-5\", \"aex-1\", \"swan-2\", \"dys-1\", \"dyc-1\", \"stn-1\", \"rgs-1\", \"rgs-2\", \"rgs-5\", \"rgs-6\", \"rgs-4\", \"dop-1\", \"dop-2\", \"dop-1, dop-2, dop-3\", \"kcnl-1\", \"twk-20\", \"kvs-3\", \"soc-2\", \"ect-2\", \"cbp-1\", \"che-14\", \"inx-6\", \"egl-15\", \"egl-8\", \"egl-19\", \"egl-20\", \"egl-21\", \"sli-1\", \"egl-30\", \"egl-10\", \"egl-30\", \"goa-1\", \"dig-1\", \"let-60\", \"ced-6\", \"soc-1\", \"lin-44\", \"ppk-3\", \"egl-10\", \"unknown\", \"ksr-1\", \"bas-1; cat-4\", \"mod-5\", \"ced-10\", \"ifta-1\", \"bbs-8\", \"N2\", \"kal-1\", \"ina-1\", \"wsp-1\", \"cdh-3\", \"prk-2\", \"gpa-5\", \"gpa-8\", \"gpa-6\", \"ucr-2.3\", \"gpb-2\", \"ric-19\", \"rsd-3\", \"gpa-13\", \"gpa-1\", \"gpa-3\", \"gpa-12\", \"gpa-11\", \"gpa-4\", \"gpc-1\", \"gpa-9\", \"gpa-7\", \"gpa-15\", \"rbf-1\", \"egl-30\", \"ehs-1\", \"rpy-1\", \"tom-1\", \"aex-3\", \"rab-3\", \"snb-1\", \"trf-1\", \"cnx-1\", \"ikb-1\", \"dbl-1\", \"unc-129\", \"ser-2\", \"wrk-1\", \"pfn-3\", \"cfi-1\", \"osm-6\", \"ipp-5\", \"str-2\", \"cpna-3\", \"K08E3.4\", \"crb-1\", \"egl-8\", \"mrp-3\", \"snf-9\", \"C09G4.2\", \"Y52B11A.4\", \"nra-1\", \"mrp-6\", \"dgk-4\", \"pes-9\", \"inx-5\", \"Y64G10A.7\", \"ver-4\", \"ape-1\", \"Y47G6A.14\", \"F36A2.13\", \"H06H21.9\", \"R05G6.10\", \"clh-4\", \"F37E3.2\", \"F44D12.4\", \"scrm-3\", \"gpr-2\", \"pept-2\", \"cfz-2\", \"C04B4.2\", \"plc-4\", \"oxi-1\", \"wwp-1\", \"grk-1\", \"T10B11.2\", \"old-2\", \"C34G6.5\", \"pde-4\", \"W04B5.5\", \"cdh-4\", \"F45H7.6\", \"nmur-4\", \"VZC374L.1\", \"nmur-1\", \"npr-18\", \"C56G3.1\", \"C06G1.5\", \"ssr-2\", \"swd-3.2\", \"dsh-1\", \"C56G3.1\", \"T21C9.1\", \"nlp-1\", \"ogt-1\", \"zig-3\", \"M195.2\", \"F57H12.4\", \"npr-16\", \"nlp-18\", \"C44H4.6\", \"nlp-20\", \"Y45F10B.8\", \"nhr-83\", \"cul-6\", \"rbx-2\", \"C49A9.7\", \"cul-5\", \"tli-1\", \"ubc-25\", \"plc-2\", \"cnt-2\", \"frm-8\", \"dep-1\", \"rab-19\", \"F11A5.4\", \"F53C3.13\", \"K02E10.1\", \"hum-5\", \"F09A5.2\", \"rgl-1\", \"klp-15\", \"tub-1\", \"nlp-5\", \"par-1\", \"pll-1\", \"T02E9.1\", \"rab-18\", \"D1081.4\", \"F31E3.2\", \"clec-4\", \"npr-19\", \"frm-7\", \"cav-1\", \"rig-3\", \"mrp-2\", \"Y106G6A.1\", \"F47G4.4\", \"pld-1\", \"rga-5\", \"dsl-6\", \"strd-1\", \"F45E4.3\", \"W02B8.2\", \"zig-7\", \"gpa-17\", \"glr-2\", \"C03B1.5\", \"atn-1\", \"piki-1\", \"gpa-16\", \"elp-1\", \"hum-6\", \"inx-4\", \"npr-14\", \"arl-5\", \"flp-12\", \"hum-8\", \"stn-2\", \"vps-20\", \"flp-19\", \"K03E5.1\", \"mlk-1\", \"W07E6.3\", \"ckr-1\", \"inx-21\", \"npr-32\", \"F55D12.5\", \"klc-1\", \"ZK1248.15\", \"C02C6.3\", \"lin-23\", \"src-1\", \"nlp-3\", \"Y42A5A.4\", \"T19F4.1\", \"inx-10\", \"C13B9.3\", \"flp-9\", \"W09C5.7\", \"F11E6.8\", \"T07D10.2\", \"inx-11\", \"Y6B3B.5\", \"plk-3\", \"C03A3.3\", \"cdk-14\", \"F53B6.2\", \"cdh-10\", \"pde-1\", \"Y4C6A.1\", \"F59D6.7\", \"riok-3\", \"vit-4\", \"M02D8.1\", \"F38B6.6\", \"unknown\", \"skr-5\", \"Y106G6H.14\", \"F49C5.4\", \"arg-1\", \"T27A8.1\", \"F07A11.4\", \"cex-1\", \"ubc-16\", \"adm-2\", \"C49C3\", \"clec-43\", \"ZC477.2\", \"nhl-3\", \"atg-16.2\", \"snt-5\", \"ins-35\", \"C56E6.6\", \"T02C1.1\", \"cls-3\", \"oct-1\", \"tax-2\", \"ZK909.3\", \"tig-2\", \"W02C12.1\", \"ubc-24\", \"snt-6\", \"nmur-2\", \"F59E12.3\", \"F39E9.6\", \"efa-6\", \"ins-4\", \"ins-31\", \"qui-1\", \"flp-17\", \"wdfy-2\", \"efk-1\", \"ins-22\", \"sng-1\", \"pek-1\", \"skr-3\", \"snf-2\", \"arr-1\", \"apb-3\", \"dylt-1\", \"cdh-7\", \"snf-5\", \"pak-1\", \"pfn-2\", \"rgs-9\", \"erp-1\", \"snf-7\", \"F44D12.1\", \"snt-4\", \"nph-1\", \"T05C1.4\", \"eps-8\", \"gar-2\", \"F35G8.1\", \"C50F2.8\", \"hum-4\", \"zig-8\", \"dop-5\", \"T27A8.2\", \"sta-1\", \"dsl-5\", \"ptl-1\", \"fax-1\", \"cdk-5\", \"hum-1\", \"clh-2\", \"epac-1\", \"kap-1\", \"ras-2\", \"klp-10\", \"M110.7\", \"zig-6\", \"hlb-1\", \"wnk-1\", \"kqt-2\", \"fkh-10\", \"pgp-13\", \"gar-1\", \"nex-2\", \"C11D9.1\", \"fshr-1\", \"pxn-1\", \"snf-1\", \"nhr-84\", \"ZK836.3\", \"src-2\", \"cdc-42\", \"cnk-1\", \"exl-1\", \"gcn-2\", \"T27F2.2\", \"rhgf-1\", \"flp-21\", \"ver-2\", \"sbt-1\", \"ric-8\", \"dat-1\", \"snf-11\", \"rab-10\", \"old-1\", \"dyf-2\", \"dyf-5\", \"sym-1\", \"sym-4\", \"plx-1\", \"aak-2\", \"age-1\", \"smg-1\", \"xol-1\", \"pes-1\", \"nnt-1\", \"C04E6.5\", \"klp-16\", \"pdr-1\", \"tag-333\", \"nlp-15\", \"Y48G8AL.1\", \"C14F11.2\", \"mkk-4\", \"let-92\", \"tag-344\", \"inx-8\", \"ZK328.7\", \"F08B12.1\", \"ins-18\", \"klp-11\", \"skr-1\", \"tyra-3\", \"ver-1\", \"dgk-5\", \"zip-5\", \"rap-2\", \"magi-1\", \"dgk-2\", \"pes-7\", \"mtm-6\", \"T15B12.1\", \"ebp-2\", \"F52B5.2\", \"bli-4\", \"nhr-99\", \"cdh-1\", \"F47C12.1\", \"T10B10.3\", \"ubc-1\", \"nex-4\", \"T01C3.3\", \"esyt-2\", \"nhl-1\", \"itsn-1\", \"akt-2\", \"kcnl-2\", \"nck-1\", \"C27B7.7\", \"F16B12.5\", \"gck-2\", \"dgk-3\", \"bli-4\", \"cmk-1\", \"F59A6.5\", \"C54E4.2\", \"octr-1\", \"nlg-1\", \"vap-1\", \"flp-6\", \"elks-1\", \"nex-1\", \"rnf-1\", \"pak-2\", \"mtm-5\", \"elp-1\", \"pdl-1\", \"tag-53\", \"tap-1\", \"shn-1\", \"tag-68\", \"atm-1\", \"dapk-1\", \"aka-1\", \"tag-163\", \"tag-180\", \"inx-9\", \"cor-1\", \"cwn-2\", \"dsl-4\", \"ckk-1\", \"rgs-10\", \"zig-5\", \"atl-1\", \"cpn-3\", \"tag-325\", \"ric-4\", \"kgb-2\", \"tag-312\", \"cle-1\", \"igcm-3\", \"snb-5\", \"inft-1\", \"nex-3\", \"sphk-1\", \"sph-1\", \"fsn-1\", \"dnj-7\", \"ncs-1\", \"glc-3\", \"N2\", \"inx-22\", \"abl-1\"], \"legendgroup\": \"Neuronal\", \"marker\": {\"color\": \"red\", \"opacity\": 0.65, \"symbol\": \"circle\"}, \"mode\": \"markers\", \"name\": \"Neuronal\", \"orientation\": \"v\", \"showlegend\": true, \"type\": \"scatter\", \"x\": [-2.9269201590345744, -3.5587159013552765, 4.315148918946964, 1.6384488673854982, 0.07271296063743016, -4.943347352388724, 1.9530263008906723, -3.710658434196127, -10.037940693170384, -5.0825613224981385, 2.183981972270994, -9.669632961675289, -5.946068812632951, -49.7854945128771, 0.7611452762201333, -0.08531086373125839, 0.7585091617879843, -1.8972471827498483, -1.2304237941782374, -2.8064047471124747, -2.223642330982019, -4.3913464925004, -0.9724084509004307, -2.540669546957292, -9.048309000672594, 3.722874517340164, -7.333888803288086, -4.305106996366693, -83.93771503951183, -14.69170052785429, -4.157371079103396, -8.446963454145624, -1.5449534865772185, -0.10357798832332672, -12.905607783809051, -4.267128934010547, -10.416461887950444, -11.909697467150359, 1.8079700380573553, 25.815383674692622, -3.7918443886603557, -3.242190308039162, -17.675112445922135, -9.67157528982075, -9.03758707897204, -3.2934698259531316, -9.101387209939674, -21.891191856605882, -0.8180210025603358, -2.0194239470366977, -4.403399443764314, -10.47231948299202, -15.739909712742381, -11.95145460101005, -2.0944621265854, -3.826354949510879, -7.341788248930715, -5.010373708194842, -2.4137737928081364, -13.856722875669458, -3.779758916247131, -10.494596487982509, -5.916475762271647, -7.642759279033785, -7.115101233555751, -6.880786128332895, -37.11554926734025, -2.199125114865502, -8.436365476164159, -4.748652343113076, 3.4168524030089076, -7.0559093836389515, -2.6010522339988205, -3.7550105877378672, -4.565676383354067, -1.5280543071009727, -4.373599080563715, -0.11759399599270894, -14.832493248817503, -5.486453039468474, -1.4045337735896584, -2.8093472740037186, -2.585499516932234, -2.5185972821463896, -1.4564630041282696, -2.876724259826326, -6.6544688931767775, -1.0328672710554425, 2.1846869737291215, -8.537683624442762, -5.814653259689252, -8.696659540616949, -1.6047632264332088, 12.603046412884959, -30.975925761525374, 0.7011855569972631, 6.3821598993172035, -3.0915110527488827, -24.203321133544915, -3.172366706894686, -3.9845069004038742, -5.448266990808383, -0.5200367197849127, -5.218455383723371, -0.3102431010364551, -2.5573443730711083, -3.5020298044519507, -2.9511523195128673, -2.25648945755612, 5.643677866583025, -4.993341582212175, -8.042978806858924, 0.18834379697887457, -1.6990828178933404, -9.921217079802853, -9.74680396027078, -9.305400050608768, -1.7426302489267247, 0.21108012411225302, -2.6389573299448945, 2.3043880395293033, -13.078623425380906, -2.488370939382492, -5.5945490995161, -1.6260266552025997, -2.673417329127967, -10.507540629313736, -3.3538003501043203, 6.626996410769524, -0.09933430682440407, -13.655726534756026, -3.8526405143283466, -3.505424820016107, 0.28120170647347864, 0.7109750180715334, -2.3631299646666117, 6.479251660324434, 3.7923029596415985, -2.6290354591939833, -5.368943195698791, -0.6095580180671772, -9.15887243895084, 0.0, -1.587445989361159, -0.6372128681615873, -19.3367580733655, -0.7555220751723729, -7.90514197778453, -3.7044842924072627, -4.105648759094665, -10.423371059524452, -0.79519687507836, -2.158115089475848, -2.889056679427496, -5.483708487527157, -3.366856279739074, -1.5029234994803498, -14.63037548961755, -3.914227752713337, -1.4603162408601085, -2.3832190749729127, -0.2311485901768597, -3.154855831532702, -1.5820259384034963, 0.06542068392498573, 3.9859632996771213, -7.076833412579282, -3.9506981086714617, -3.511460500021731, 3.9780426983945234, 8.650453411589444, -7.46586228740602, -13.992295313736243, 0.09643200191947641, -8.972013166477476, -0.8415093711997126, -5.928395679684496, -2.360192912026523, -0.5420908461807852, -8.810934470232441, -17.87286039857314, -4.320036084833831, -4.434967479649103, -9.218028939308644, -5.757841256909577, 0.29680929970288117, -1.5614201135152224, 1.233702925227723, -1.1193435116018369, -2.662429060891792, -4.6970120936761255, -6.8368783800732595, -10.18818565725402, -4.830945916040436, -2.87078515324511, -7.95872039560527, 0.2994886967407288, -7.562119942167294, -3.150813746747599, -3.792501725220277, -2.7691711201346387, -1.2020573138479496, 0.15889283953549338, -8.413709035865399, -6.3205379062337625, -5.520437014583713, -11.288655147432117, -7.192414691561542, -6.644877216267254, -0.7886504812520778, -5.107198235189568, -4.2656450298268505, -6.127288856629809, -0.7615278642319001, -5.5731906867384104, -4.090453087432597, -3.2152761277791932, -10.643439284796031, -19.12790325353527, -4.231836998563296, -7.5790038332025516, -3.9576573780936983, -1.8990733455601314, -20.817230722304927, -1.4728256118811511, -3.4788173776821947, -2.4205024510276063, -10.423716149357675, 1.390643644355686, -1.945411147195934, -0.3739416127082012, -4.224512612404866, -0.3951442116020422, -10.484524277023063, -4.2316886228310615, 9.659138522433517, -1.8097768015350875, -5.048322344050695, 9.612912519041942, 0.4393541341467269, -7.729463095172824, -3.107768602210124, -3.153430679393358, -5.9294497715558645, -3.150923402098956, -2.95677942041533, -0.23358466905301153, 0.11494761190135051, 0.5325866305135342, 3.251368630294429, 1.1265409503542483, -4.067665477035959, 8.076236422145978, -3.1583362204820267, -3.7271591056412117, -2.228213870524898, -3.2911374778929106, -2.2187157734959255, -5.737518066122293, 9.86052556697658, -2.1237981240697397, -0.24914192378187297, -5.272172241452014, -12.534010855872403, -10.204688966199985, -6.294037775008137, -7.030395147768639, -9.732894057054004, 0.6101080674845676, -3.4435430288140996, -10.059601211977697, 3.406471546673738, -16.445944017945674, -1.5592818864745503, -0.44868408233733925, -3.540604007224312, -1.8381636505661567, -1.4043274951193712, -1.6286351271665416, 0.6431830020213989, -1.3574767441134066, -3.8376316073392718, -1.9457364001136486, -0.4166574347072982, -7.743670775837309, -5.943301466579507, 1.256228310976561, 1.1774669956320067, 6.183505010830405, -7.193616259821195, -1.6593819392200446, -0.058939124450026026, -9.806149385548393, -0.47492496185953154, -3.0217375938696667, -2.1538117970948445, 0.6307375855910093, -2.7152356540636213, 0.8410965355744099, -1.7558955881029308, -4.308962291204926, -2.9581221025624664, 1.3892807948221462, 0.14171359335766293, -7.399586442892587, -6.437946779932039, -0.09955022260351262, -10.729944630858704, -3.1185402838510914, -8.074489335877505, -3.783954253566772, -5.255094871711765, -4.188747787068825, -4.071157939585884, -24.46585913153768, 0.7288824945065226, -21.820078709771856, -4.988617941627549, -2.413042249962512, -5.207306330191811, -1.2552673458803945, -5.556735656991481, 14.521079953455903, -11.769115846709651, -3.471108541873522, 2.414239497472098, -1.3098847207908366, -11.658500644592877, -8.95440885088198, 0.1671301983246865, -7.013019549514622, -0.8910230495732888, -9.94972206127662, -1.3790423776225962, -3.51036436048834, -3.243945359208201, -4.511315342973053, -2.2509568440254744, 0.8650787165922347, -5.871834880532199, 0.5897697819789387, -11.544089983027487, 0.2567753652287574, -0.057755460005595144, -8.80114953171091, -3.418447733258845, -19.575497640679252, 1.528767226811555, -5.884727767210932, -7.226807942808753, 1.3498079951507487, 2.099235161115652, -6.605782100423973, 11.40881933650242, -0.609001439152251, -1.8225199830373802, -15.262922907320029, -5.840983920468337, -2.1501627067341795, -4.997042678651697, -3.6552286337669537, -6.719552240212638, -4.206886189349536, 2.1093983457639016, -7.106182117733784, -3.065319377456221, -4.724604125022057, -2.9342356479548726, -2.3471449465517056, -4.291080715448885, -9.295663067353642, -4.926335463456463, -1.8828492502576277, 1.803477935632306, -35.62566382859322, 1.526287008233372, -3.0233506964814887, -2.4973863195309756, -13.122089425788552, -4.42299499339439, -6.140091209666143, 0.42888497005061416, -6.170948210326332, -0.6969710074696941, -3.7245258205661287, -6.53567087728214, -24.456966284605237, -4.0133764513121095, 0.3825049350386796, -3.696296831061716, -6.217297916935292, -10.822472765719677, -5.086174359754183, -11.60845308959811, -23.20874318956885, -3.7207325619153204, -7.40046995271707, 2.758033208055205, -1.3610625627628137, 1.3978834812060164, -16.30056021535783, -8.048588041475409, -3.364027993076874, -7.748304006700686, -5.22803755327284, 9.957471149189812, 0.602339740516308, -6.374177418437995, -2.956159442687448, -1.5689474248370534, -5.318554312400836, -2.0587801131563306, -3.284291836277591, 1.5109722322701982, -9.174384546203097, -24.007744814023066, -5.078863219314972, -4.153986338145295, -15.19181832842607, -7.673494023433729, -11.070910456218174, -13.828704240320443, -2.6093012981563555, -8.966665241579957, -2.912030528385515, -4.140270120536486, -2.9792386181040302, -13.984878736814462, -4.431815720300144, -2.6297197878270633, -3.2514153022419308, -12.374746444861708, -4.902975818541562, -2.8739669383434685, -11.207248506671874, -3.8055501626004755, 1.1433557546385555, -8.075360565853245, 2.2922604577003685, -4.42836233438255, -0.9609091084742951, -1.6656145434695464, -6.5343962191517475, -12.203478612476024, -5.738200660668924, -1.0834311743449712, -3.1567522748452563, -1.5718833844395645, 6.8935816132635415, -4.1234964356175485, -1.9860808697792127, -2.8320042382258634, -10.974228601245516, -1.962299764150566, -30.59251451297307, -3.455580661097233, -8.325852373803897, -1.9917904550835803, -3.983421374193623, -4.962607226573921, -1.5139159025124722, 0.9405882860434643, -1.22437946901069, -0.08557249094872084, -0.4492866903255945, -2.1564834140128166, -4.19697164000011, 0.1324245902917508, -6.52357665462777, -7.678801983630953, -2.9566806881434182, -1.3653150558340574, -1.328805353948437, -2.5809022192263753, -3.6371368879723494, -1.4077661924530365, -3.4791063761801646, -3.621809678023648, -9.070071770848589, -3.473071167340067, -5.587505980546043, -2.681910751874105, -1.3795883941695553, -1.9977470389560106, -2.510975688259307, -4.124527753349803, -2.769490762522079, -0.03546417125693995, -13.61222473887362, -0.20899596287716982, -2.5097140534587643, 0.49765737541383964, 4.472617454533504, -0.3192046989894598, -2.913349216466523, -5.632103987796488, 1.5219080810413257, -5.641344419599756, -2.071620866478779, -2.0377568823594623, -1.2836855648938754, -6.289986333789726, -6.8474267703625715, -2.909008529793218, -8.877070613957567, -10.260183480616272, -5.809720361948608, -3.154704817330085, -1.7682182657264673, -6.73305867263703, -6.583919769719504, -0.9563628380762978, -0.420403009362075, -0.22794388365329954, -1.3489071115618707, 0.6003188224328337, -4.121149791546294, 2.6617928071991996, -1.132320063527932, -5.902459537905083, -3.4619292273260003, -13.981511288061212, -7.054355996667725, -5.3383191758057, -1.836459132710274, -2.5142632397233164, -9.977455266241106, -4.7665561992514105, -5.36585862512329, 0.44666556573128746, -2.820201227182107, -11.95473327905864, 2.286100481244883, -2.5277973128484357, -2.1688761521805295, -11.736064321432668, -1.5301335929161206, 0.48207062790946725, -1.2778356784180411, -16.315514787337413, -1.198787749599281, -5.863568569389007, -3.869162361839986, -4.321899579081587, -13.635488008487556, 3.490171463581131, -0.690844238909378, -21.398820002427648, 4.456570299488985, -1.0763366010187134, -1.5706290884421297], \"xaxis\": \"x\", \"y\": [-3.8068739907464004, -0.894445640169834, 2.5581069827956577, 0.3365913283018061, 1.0681490024974425, 0.4524694437843516, 3.5570571097166415, 1.9833849743886725, 3.4140603091104493, -4.370730059409194, -3.3859782880584084, -16.06475491313624, 1.6701343750033313, 9.033215682122009, 1.6165635620562624, 0.16520737400229527, -0.552771206880239, 1.873589632256639, 3.923758662270848, 3.1447120961915047, 0.46251939309780693, 3.2181112301076507, 1.1668639525891387, -0.7857973029818345, -9.708018474564343, -0.7684296028776137, -1.3611214410444805, -8.896104616158148, -189.06736351739042, -10.066388355367987, -2.15134348045641, 1.8467342286583348, -1.6635227555651588, -2.93785074457449, 1.7378328287236429, -3.0832694424312153, -3.782119464247481, 5.025084233283501, 0.16832581824033546, -0.9746555240569744, 0.8445441397468165, -2.892288197237542, 0.8484255314502587, 3.864651984211738, -3.4605667910387004, -0.8014488136247057, 0.40160865050301164, -41.85801257756761, -4.708355636275683, -0.45909496412590983, 0.31510220554355184, -3.0042935641742234, 0.45743757114571887, -2.882680408778703, 5.7575306799866475, -2.8086822184984235, -0.8082255295227294, 2.61191924990571, 3.7157118550275015, 3.997567015972746, 0.11098068515320735, 1.610436528700567, 6.699976920621626, 4.813434135548006, 4.393791010302479, 2.283214695019957, 8.823478603413543, 4.9109897830942035, 7.04244385411901, 6.230977768290133, 0.41488135586673225, 0.35616586885874957, 2.3229616201151484, -1.6131851553766356, 6.000321204116057, 0.6238843670540766, 0.7158746378178267, -2.911266471015448, 1.2684827077352774, -3.6476282203200667, 4.275329740869915, -3.196744773792235, 1.3982260274872256, -1.8365397371305163, -1.3531368981883234, -2.6098013315638307, 0.44874431918497354, -4.356603578096852, -1.0679659352394089, -0.754691135403873, -1.4326827381562124, 3.178787663957825, 1.8154212992519918, -4.577793004536521, 4.72203733964365, -0.33442161167034296, -0.13822998825192823, 1.972915295878419, 18.42694035006433, 4.158066937222138, -9.61384894128764, 1.6631817287156705, 2.820769040440677, 2.474829643984609, 1.0865890102744666, 0.7235403384437968, -0.04263472679901915, -0.6151383516267741, 3.2680125548963592, -0.7216743305281583, 7.262529550417846, 1.394367158023139, -2.065363073929944, 3.139608493628572, 1.776386582767151, 3.095883728797979, 2.0881012474571126, 0.29168775716424994, -4.118024142223862, 0.3547196315068346, -0.5926165805185938, 5.096020670187573, -0.3593921492156851, 2.2493573510970473, -2.7967483792164405, 2.382892897599319, -6.4704705261724325, -2.479428760958375, -1.146422844100786, 0.8667051442131635, 1.5537057995055437, 0.6999567645709223, 1.448000284013804, 1.0249426069802383, 1.0752133871480662, -2.2504158280959965, 6.110482888329748, 3.172796116726535, 4.9109897830942035, -1.9916528786932486, 4.228255396433015, 8.118990143293395, 0.0, 0.4366370242050116, -0.09697533802005062, 4.788298095280515, 5.69587120786349, -5.7431699461314, 3.931864440782285, 7.083866771745568, 3.5094354088262896, -0.8375525790086932, 0.12080394556864753, 0.43437737387591396, 0.011854487306527712, 0.18182854897428577, 0.7010422375665112, 3.1683698640281257, 2.0699367756366467, -0.6030544468238612, 8.470259386826458, -1.4759647418108663, 4.304214566923994, -0.9063660796193146, 2.982908541069281, -2.2100590992703646, -5.5126931162277195, 0.27338093359707416, 0.3214855919987174, -0.16468525434005268, -1.1590455742636656, -3.570873163113276, -39.668361290654175, 1.1357700460491422, 0.2017897375205751, 1.3634629178515545, -4.44278774310096, -3.3414620168458544, 4.72204251881805, -1.923100662598371, 0.4594613842151476, 1.412043747533619, -0.6207831515693354, 0.6793065632421741, -0.8599629870779653, 0.07470937801867267, 1.6534461981648978, -0.05792339777883323, -0.2947563076732574, 3.7115748752584397, 0.30108682816760113, -1.5037589902709234, -1.232101548577759, 1.8307298758278865, 3.337884987642589, -5.113289943982535, -0.7061018234502022, -0.08367486280641512, 1.1238743227122254, -0.3655649529085794, 1.8389185397395698, 2.647902629917666, 0.5294583106685017, 1.8676342710490286, 3.245323631578524, 0.3757546375824717, 1.285977927895071, 2.2918541689241314, 3.344613195200162, 1.2207851450583889, 2.059964548250065, -0.012639235376835983, 0.6726557987901667, 4.2858028011714815, 1.120293423006201, -1.3374521727784237, 0.7095280590862453, 0.04194983435096971, 6.392758952581087, -0.1011213115408494, -1.112994102980254, 0.3436082025919354, 18.42694035006433, 8.645451998661565, 5.3723929789403595, 0.27955261204705784, 0.14490881467824596, 0.25268684125038854, -1.7940096188814947, 4.788298095280515, 3.1787876639578254, 0.13345782363643477, 2.344644585668209, -0.8273486780618388, -4.4764721850170055, 3.000988266947623, -0.8705384103250505, -0.44031222533384784, 0.37800189808460555, -0.8970347549519169, -0.2374990934447421, 8.35952017260231, -0.7278863000437483, 7.368399114805782, 3.4126090363170802, 1.7381511944629249, -0.36050436900500576, 3.6292216659965697, 5.286162679104781, -2.3527635811276646, 2.675592559385444, 1.658346380911086, -5.7093901083764, -2.6962040413704162, 13.146908104108473, 0.3481085129855248, -1.0262939347856526, 2.644125904541152, 2.1439333714287185, -0.9015436722597563, 1.8102175931680335, -0.8181967945521328, 1.4732419878782006, 2.443630831827021, -0.8230855710590773, 4.925637182492428, 11.877623644143421, 1.5350430106487813, -0.12579548307521785, 2.9297366974281127, -0.5291516594227805, 1.6019030528360485, 3.920755259856852, -1.0625076314632764, 0.6330513361913404, 1.3405973885634617, -2.842919423341746, 2.521208561519381, 0.4698552155256949, 3.4913109984747335, -4.537543779901157, 9.04700323842442, -1.7376772715288842, -1.617801747474239, -0.8727719323253148, -6.5834930904289095, 0.4360631085392608, -3.750733396157269, 2.8814951786202023, 5.973394891764964, 2.2272646195335284, -0.04450516657881893, 1.8644335959292904, 0.594750302077366, -0.42708705156546717, -6.38472194092835, 1.2477540785647752, 2.4395525123037767, 0.021963213161538243, 0.4196656900300233, -0.19319704105144836, -0.2567539879849957, 0.34497372127497133, 1.0203798594112694, 3.5782763441683856, 0.6913751639255657, 0.6585047073716852, 2.2012519641625357, 5.141503486011406, 6.038292999375776, -4.996848109805531, -6.9943639593923095, -6.280772239200548, 2.32766407280205, -15.343848022367995, 7.155627737284126, -49.49888446850466, 4.947952539660509, 0.47715726453739793, -2.785823361624052, 3.649073984571776, 3.5185950730406517, -8.127248603884857, -2.3029303109893173, 1.4504313880334185, 0.4440915161414847, 1.9998992467359833, 4.83289659776271, 6.552181003486918, -5.469815287506687, 0.7269768574541761, -0.6851284005964945, 4.483294484116003, -5.604187095555989, 3.329783223285938, 1.1958530771330584, 1.9413511932246306, -0.9313506182106409, 1.0272887714451155, -7.671400843695505, -0.45215335998417516, 0.7453781130138237, 0.3637974633456616, 2.724142820204256, 1.3465788287554168, -0.7850870502574039, -0.9138982620313321, -0.6586830225157664, 2.5598946004696654, 5.674980140367987, -0.8714662503520078, 1.7525264270811538, 3.0001144885513074, 2.8937191135043108, -1.6497814770965866, -0.7223172920513244, 1.2322922825199099, 0.9037759646515265, 2.226793365570806, -1.812150601178847, 3.1886321989722295, -0.09816486605332592, -2.8006374122060054, -2.708518326174513, -6.156232434649381, -6.284874715126726, 2.31293625768866, 3.674281493576659, 2.3358169818148227, 1.9345350464317561, -0.6036673759769943, 1.1238743227122254, -9.715192059152914, 0.18002644521702665, -62.6588440828639, -0.25678258346042077, 2.6790477354346267, 7.3691373026952, -1.1571034084076937, 5.394801884837828, -1.5661437614087708, 1.5898736521489147, 2.134001595029446, 0.5085558104865885, -0.8868119291022121, 6.1058769517574065, 8.206295764764068, -1.786511638234157, 0.7822914978317758, 5.446619579038816, 1.8660754650362321, -2.2494154819858325, 2.403694435712039, 4.894708726691603, 2.4379020203328463, 1.492281102811666, -0.5511749163060251, 0.08738174434690513, -3.278049400024238, 1.307168520160116, 11.040212678678921, 1.6669309718774241, 0.6578306776138674, -0.6681163815803531, 3.595964059337621, -30.0940082242728, -2.3116817379542725, 2.527167371931891, 2.0186967400892386, 1.2373044600345564, 7.872712759987824, 1.8161015987938285, 1.81931187950637, -0.6083640393670032, 1.1999006132963117, 2.1060587588777926, -1.728338192202664, 1.7744086452019014, -0.5599306176583334, 2.0341671996056223, 0.5378255698577356, 4.008829955355558, 3.6226066491544664, 3.033032923524613, 8.489229321297591, 0.8985999294606025, -1.8490857681499013, 3.457467572910036, 4.013199831401643, 0.12847517308335119, 2.039130924783824, 5.340874215864869, 2.7603798649920996, -0.5600216228014202, 3.5468991015817686, 2.1582277263739584, 2.1645020992927577, -2.667749483163009, -2.3215492690960704, 18.42694035006433, -0.45975195719111883, -1.8833535077315224, 1.9928599631392134, -3.455404470792166, 1.4987278400347592, 1.972915295878419, -0.0848890070755674, 2.8641878496054507, 1.989970157694358, 3.344613195200162, 2.6619210122901737, 0.6739860915069387, -2.9486958606040865, -1.1714726306410925, 4.158066937222139, 0.5796316210501543, 3.3713489747674052, 0.8792736863082564, -1.6211594828157239, 0.8264346041954164, 1.9676143727090054, -3.8497513079929164, 1.0952049827685788, -0.00786658017754401, -3.1347222029797446, 1.8743378124035033, 0.588425262962772, 2.1783685091719733, 1.734513681831092, 1.5292133883325854, -0.7985180679098979, 0.11859254712512682, 0.5981697361412586, -1.5447833101226323, -2.174958576708274, 3.6292216659965697, -0.6240376820557715, 1.4256252355630434, -1.9552597153425395, 3.3648712852214193, 0.40618312031169984, 1.1074918676773216, 2.063350475535148, 1.784578200219606, 1.3708470976265847, 5.9840121530611174, 1.9086121391349467, 0.4216424585955687, -23.723819542600936, -5.596413297214256, 0.03329932359689864, 0.17135461646485917, -0.2216964714517069, 5.289524741998723, 2.668158702878591, 1.5751026967792219, -3.073572043449969, 4.9036489689537435, 0.11507003102710538, -1.8765905652585786, 18.42694035006433, -0.22947034630498905, 18.42694035006433, 0.9260233348927861, 18.42694035006433, 0.7975350694821142, 2.4824237606311472, 2.2188580234002235, -6.641558052358928, 0.9419255232843536, 4.791602037046027, 0.30825422068557906, 2.9282412790863255, 2.3880275341613943, -1.5832404277924597, -0.4794959931324961, -1.0041133581921329, -0.229409794244851, -1.3539438450860086, 1.6885542177514088, -4.355470206469564, 2.538434730516299, 1.2937349237656908, -0.38307665995584417, 2.7283421970210884, -0.5601005815289674, -4.647509692734984, 5.927409856892774, 0.6035707985395482, 0.2971681268224893, 3.8079400303000845, -0.47595135795735793, 1.7337731888417665, 3.261619643956475, -12.946854586541841, 5.081517353596984, 2.3553359748470233, 3.127892402281116, 2.3926793364044365, 1.6198957811870225, 4.1013368611957945, 1.7906080693519388, 1.2955084510565344, 2.9320189828355003, 3.7793921353359727, -1.95483430280692, 6.342022983140731, 5.99358824187243, -0.8906487596081915, 1.2318746304648411, 3.414010236697237], \"yaxis\": \"y\"}, {\"alignmentgroup\": \"True\", \"bingroup\": \"x\", \"hovertemplate\": \"Screen=Neuronal<br>Degree of Habituation of Response Probability=%{x}<br>count=%{y}<extra></extra>\", \"legendgroup\": \"Neuronal\", \"marker\": {\"color\": \"red\"}, \"name\": \"Neuronal\", \"offsetgroup\": \"Neuronal\", \"opacity\": 0.5, \"showlegend\": false, \"type\": \"histogram\", \"x\": [-2.9269201590345744, -3.5587159013552765, 4.315148918946964, 1.6384488673854982, 0.07271296063743016, -4.943347352388724, 1.9530263008906723, -3.710658434196127, -10.037940693170384, -5.0825613224981385, 2.183981972270994, -9.669632961675289, -5.946068812632951, -49.7854945128771, 0.7611452762201333, -0.08531086373125839, 0.7585091617879843, -1.8972471827498483, -1.2304237941782374, -2.8064047471124747, -2.223642330982019, -4.3913464925004, -0.9724084509004307, -2.540669546957292, -9.048309000672594, 3.722874517340164, -7.333888803288086, -4.305106996366693, -83.93771503951183, -14.69170052785429, -4.157371079103396, -8.446963454145624, -1.5449534865772185, -0.10357798832332672, -12.905607783809051, -4.267128934010547, -10.416461887950444, -11.909697467150359, 1.8079700380573553, 25.815383674692622, -3.7918443886603557, -3.242190308039162, -17.675112445922135, -9.67157528982075, -9.03758707897204, -3.2934698259531316, -9.101387209939674, -21.891191856605882, -0.8180210025603358, -2.0194239470366977, -4.403399443764314, -10.47231948299202, -15.739909712742381, -11.95145460101005, -2.0944621265854, -3.826354949510879, -7.341788248930715, -5.010373708194842, -2.4137737928081364, -13.856722875669458, -3.779758916247131, -10.494596487982509, -5.916475762271647, -7.642759279033785, -7.115101233555751, -6.880786128332895, -37.11554926734025, -2.199125114865502, -8.436365476164159, -4.748652343113076, 3.4168524030089076, -7.0559093836389515, -2.6010522339988205, -3.7550105877378672, -4.565676383354067, -1.5280543071009727, -4.373599080563715, -0.11759399599270894, -14.832493248817503, -5.486453039468474, -1.4045337735896584, -2.8093472740037186, -2.585499516932234, -2.5185972821463896, -1.4564630041282696, -2.876724259826326, -6.6544688931767775, -1.0328672710554425, 2.1846869737291215, -8.537683624442762, -5.814653259689252, -8.696659540616949, -1.6047632264332088, 12.603046412884959, -30.975925761525374, 0.7011855569972631, 6.3821598993172035, -3.0915110527488827, -24.203321133544915, -3.172366706894686, -3.9845069004038742, -5.448266990808383, -0.5200367197849127, -5.218455383723371, -0.3102431010364551, -2.5573443730711083, -3.5020298044519507, -2.9511523195128673, -2.25648945755612, 5.643677866583025, -4.993341582212175, -8.042978806858924, 0.18834379697887457, -1.6990828178933404, -9.921217079802853, -9.74680396027078, -9.305400050608768, -1.7426302489267247, 0.21108012411225302, -2.6389573299448945, 2.3043880395293033, -13.078623425380906, -2.488370939382492, -5.5945490995161, -1.6260266552025997, -2.673417329127967, -10.507540629313736, -3.3538003501043203, 6.626996410769524, -0.09933430682440407, -13.655726534756026, -3.8526405143283466, -3.505424820016107, 0.28120170647347864, 0.7109750180715334, -2.3631299646666117, 6.479251660324434, 3.7923029596415985, -2.6290354591939833, -5.368943195698791, -0.6095580180671772, -9.15887243895084, 0.0, -1.587445989361159, -0.6372128681615873, -19.3367580733655, -0.7555220751723729, -7.90514197778453, -3.7044842924072627, -4.105648759094665, -10.423371059524452, -0.79519687507836, -2.158115089475848, -2.889056679427496, -5.483708487527157, -3.366856279739074, -1.5029234994803498, -14.63037548961755, -3.914227752713337, -1.4603162408601085, -2.3832190749729127, -0.2311485901768597, -3.154855831532702, -1.5820259384034963, 0.06542068392498573, 3.9859632996771213, -7.076833412579282, -3.9506981086714617, -3.511460500021731, 3.9780426983945234, 8.650453411589444, -7.46586228740602, -13.992295313736243, 0.09643200191947641, -8.972013166477476, -0.8415093711997126, -5.928395679684496, -2.360192912026523, -0.5420908461807852, -8.810934470232441, -17.87286039857314, -4.320036084833831, -4.434967479649103, -9.218028939308644, -5.757841256909577, 0.29680929970288117, -1.5614201135152224, 1.233702925227723, -1.1193435116018369, -2.662429060891792, -4.6970120936761255, -6.8368783800732595, -10.18818565725402, -4.830945916040436, -2.87078515324511, -7.95872039560527, 0.2994886967407288, -7.562119942167294, -3.150813746747599, -3.792501725220277, -2.7691711201346387, -1.2020573138479496, 0.15889283953549338, -8.413709035865399, -6.3205379062337625, -5.520437014583713, -11.288655147432117, -7.192414691561542, -6.644877216267254, -0.7886504812520778, -5.107198235189568, -4.2656450298268505, -6.127288856629809, -0.7615278642319001, -5.5731906867384104, -4.090453087432597, -3.2152761277791932, -10.643439284796031, -19.12790325353527, -4.231836998563296, -7.5790038332025516, -3.9576573780936983, -1.8990733455601314, -20.817230722304927, -1.4728256118811511, -3.4788173776821947, -2.4205024510276063, -10.423716149357675, 1.390643644355686, -1.945411147195934, -0.3739416127082012, -4.224512612404866, -0.3951442116020422, -10.484524277023063, -4.2316886228310615, 9.659138522433517, -1.8097768015350875, -5.048322344050695, 9.612912519041942, 0.4393541341467269, -7.729463095172824, -3.107768602210124, -3.153430679393358, -5.9294497715558645, -3.150923402098956, -2.95677942041533, -0.23358466905301153, 0.11494761190135051, 0.5325866305135342, 3.251368630294429, 1.1265409503542483, -4.067665477035959, 8.076236422145978, -3.1583362204820267, -3.7271591056412117, -2.228213870524898, -3.2911374778929106, -2.2187157734959255, -5.737518066122293, 9.86052556697658, -2.1237981240697397, -0.24914192378187297, -5.272172241452014, -12.534010855872403, -10.204688966199985, -6.294037775008137, -7.030395147768639, -9.732894057054004, 0.6101080674845676, -3.4435430288140996, -10.059601211977697, 3.406471546673738, -16.445944017945674, -1.5592818864745503, -0.44868408233733925, -3.540604007224312, -1.8381636505661567, -1.4043274951193712, -1.6286351271665416, 0.6431830020213989, -1.3574767441134066, -3.8376316073392718, -1.9457364001136486, -0.4166574347072982, -7.743670775837309, -5.943301466579507, 1.256228310976561, 1.1774669956320067, 6.183505010830405, -7.193616259821195, -1.6593819392200446, -0.058939124450026026, -9.806149385548393, -0.47492496185953154, -3.0217375938696667, -2.1538117970948445, 0.6307375855910093, -2.7152356540636213, 0.8410965355744099, -1.7558955881029308, -4.308962291204926, -2.9581221025624664, 1.3892807948221462, 0.14171359335766293, -7.399586442892587, -6.437946779932039, -0.09955022260351262, -10.729944630858704, -3.1185402838510914, -8.074489335877505, -3.783954253566772, -5.255094871711765, -4.188747787068825, -4.071157939585884, -24.46585913153768, 0.7288824945065226, -21.820078709771856, -4.988617941627549, -2.413042249962512, -5.207306330191811, -1.2552673458803945, -5.556735656991481, 14.521079953455903, -11.769115846709651, -3.471108541873522, 2.414239497472098, -1.3098847207908366, -11.658500644592877, -8.95440885088198, 0.1671301983246865, -7.013019549514622, -0.8910230495732888, -9.94972206127662, -1.3790423776225962, -3.51036436048834, -3.243945359208201, -4.511315342973053, -2.2509568440254744, 0.8650787165922347, -5.871834880532199, 0.5897697819789387, -11.544089983027487, 0.2567753652287574, -0.057755460005595144, -8.80114953171091, -3.418447733258845, -19.575497640679252, 1.528767226811555, -5.884727767210932, -7.226807942808753, 1.3498079951507487, 2.099235161115652, -6.605782100423973, 11.40881933650242, -0.609001439152251, -1.8225199830373802, -15.262922907320029, -5.840983920468337, -2.1501627067341795, -4.997042678651697, -3.6552286337669537, -6.719552240212638, -4.206886189349536, 2.1093983457639016, -7.106182117733784, -3.065319377456221, -4.724604125022057, -2.9342356479548726, -2.3471449465517056, -4.291080715448885, -9.295663067353642, -4.926335463456463, -1.8828492502576277, 1.803477935632306, -35.62566382859322, 1.526287008233372, -3.0233506964814887, -2.4973863195309756, -13.122089425788552, -4.42299499339439, -6.140091209666143, 0.42888497005061416, -6.170948210326332, -0.6969710074696941, -3.7245258205661287, -6.53567087728214, -24.456966284605237, -4.0133764513121095, 0.3825049350386796, -3.696296831061716, -6.217297916935292, -10.822472765719677, -5.086174359754183, -11.60845308959811, -23.20874318956885, -3.7207325619153204, -7.40046995271707, 2.758033208055205, -1.3610625627628137, 1.3978834812060164, -16.30056021535783, -8.048588041475409, -3.364027993076874, -7.748304006700686, -5.22803755327284, 9.957471149189812, 0.602339740516308, -6.374177418437995, -2.956159442687448, -1.5689474248370534, -5.318554312400836, -2.0587801131563306, -3.284291836277591, 1.5109722322701982, -9.174384546203097, -24.007744814023066, -5.078863219314972, -4.153986338145295, -15.19181832842607, -7.673494023433729, -11.070910456218174, -13.828704240320443, -2.6093012981563555, -8.966665241579957, -2.912030528385515, -4.140270120536486, -2.9792386181040302, -13.984878736814462, -4.431815720300144, -2.6297197878270633, -3.2514153022419308, -12.374746444861708, -4.902975818541562, -2.8739669383434685, -11.207248506671874, -3.8055501626004755, 1.1433557546385555, -8.075360565853245, 2.2922604577003685, -4.42836233438255, -0.9609091084742951, -1.6656145434695464, -6.5343962191517475, -12.203478612476024, -5.738200660668924, -1.0834311743449712, -3.1567522748452563, -1.5718833844395645, 6.8935816132635415, -4.1234964356175485, -1.9860808697792127, -2.8320042382258634, -10.974228601245516, -1.962299764150566, -30.59251451297307, -3.455580661097233, -8.325852373803897, -1.9917904550835803, -3.983421374193623, -4.962607226573921, -1.5139159025124722, 0.9405882860434643, -1.22437946901069, -0.08557249094872084, -0.4492866903255945, -2.1564834140128166, -4.19697164000011, 0.1324245902917508, -6.52357665462777, -7.678801983630953, -2.9566806881434182, -1.3653150558340574, -1.328805353948437, -2.5809022192263753, -3.6371368879723494, -1.4077661924530365, -3.4791063761801646, -3.621809678023648, -9.070071770848589, -3.473071167340067, -5.587505980546043, -2.681910751874105, -1.3795883941695553, -1.9977470389560106, -2.510975688259307, -4.124527753349803, -2.769490762522079, -0.03546417125693995, -13.61222473887362, -0.20899596287716982, -2.5097140534587643, 0.49765737541383964, 4.472617454533504, -0.3192046989894598, -2.913349216466523, -5.632103987796488, 1.5219080810413257, -5.641344419599756, -2.071620866478779, -2.0377568823594623, -1.2836855648938754, -6.289986333789726, -6.8474267703625715, -2.909008529793218, -8.877070613957567, -10.260183480616272, -5.809720361948608, -3.154704817330085, -1.7682182657264673, -6.73305867263703, -6.583919769719504, -0.9563628380762978, -0.420403009362075, -0.22794388365329954, -1.3489071115618707, 0.6003188224328337, -4.121149791546294, 2.6617928071991996, -1.132320063527932, -5.902459537905083, -3.4619292273260003, -13.981511288061212, -7.054355996667725, -5.3383191758057, -1.836459132710274, -2.5142632397233164, -9.977455266241106, -4.7665561992514105, -5.36585862512329, 0.44666556573128746, -2.820201227182107, -11.95473327905864, 2.286100481244883, -2.5277973128484357, -2.1688761521805295, -11.736064321432668, -1.5301335929161206, 0.48207062790946725, -1.2778356784180411, -16.315514787337413, -1.198787749599281, -5.863568569389007, -3.869162361839986, -4.321899579081587, -13.635488008487556, 3.490171463581131, -0.690844238909378, -21.398820002427648, 4.456570299488985, -1.0763366010187134, -1.5706290884421297], \"xaxis\": \"x3\", \"yaxis\": \"y3\"}, {\"alignmentgroup\": \"True\", \"bingroup\": \"y\", \"hovertemplate\": \"Screen=Neuronal<br>Initial Response Probability=%{y}<br>count=%{x}<extra></extra>\", \"legendgroup\": \"Neuronal\", \"marker\": {\"color\": \"red\"}, \"name\": \"Neuronal\", \"offsetgroup\": \"Neuronal\", \"opacity\": 0.5, \"showlegend\": false, \"type\": \"histogram\", \"xaxis\": \"x2\", \"y\": [-3.8068739907464004, -0.894445640169834, 2.5581069827956577, 0.3365913283018061, 1.0681490024974425, 0.4524694437843516, 3.5570571097166415, 1.9833849743886725, 3.4140603091104493, -4.370730059409194, -3.3859782880584084, -16.06475491313624, 1.6701343750033313, 9.033215682122009, 1.6165635620562624, 0.16520737400229527, -0.552771206880239, 1.873589632256639, 3.923758662270848, 3.1447120961915047, 0.46251939309780693, 3.2181112301076507, 1.1668639525891387, -0.7857973029818345, -9.708018474564343, -0.7684296028776137, -1.3611214410444805, -8.896104616158148, -189.06736351739042, -10.066388355367987, -2.15134348045641, 1.8467342286583348, -1.6635227555651588, -2.93785074457449, 1.7378328287236429, -3.0832694424312153, -3.782119464247481, 5.025084233283501, 0.16832581824033546, -0.9746555240569744, 0.8445441397468165, -2.892288197237542, 0.8484255314502587, 3.864651984211738, -3.4605667910387004, -0.8014488136247057, 0.40160865050301164, -41.85801257756761, -4.708355636275683, -0.45909496412590983, 0.31510220554355184, -3.0042935641742234, 0.45743757114571887, -2.882680408778703, 5.7575306799866475, -2.8086822184984235, -0.8082255295227294, 2.61191924990571, 3.7157118550275015, 3.997567015972746, 0.11098068515320735, 1.610436528700567, 6.699976920621626, 4.813434135548006, 4.393791010302479, 2.283214695019957, 8.823478603413543, 4.9109897830942035, 7.04244385411901, 6.230977768290133, 0.41488135586673225, 0.35616586885874957, 2.3229616201151484, -1.6131851553766356, 6.000321204116057, 0.6238843670540766, 0.7158746378178267, -2.911266471015448, 1.2684827077352774, -3.6476282203200667, 4.275329740869915, -3.196744773792235, 1.3982260274872256, -1.8365397371305163, -1.3531368981883234, -2.6098013315638307, 0.44874431918497354, -4.356603578096852, -1.0679659352394089, -0.754691135403873, -1.4326827381562124, 3.178787663957825, 1.8154212992519918, -4.577793004536521, 4.72203733964365, -0.33442161167034296, -0.13822998825192823, 1.972915295878419, 18.42694035006433, 4.158066937222138, -9.61384894128764, 1.6631817287156705, 2.820769040440677, 2.474829643984609, 1.0865890102744666, 0.7235403384437968, -0.04263472679901915, -0.6151383516267741, 3.2680125548963592, -0.7216743305281583, 7.262529550417846, 1.394367158023139, -2.065363073929944, 3.139608493628572, 1.776386582767151, 3.095883728797979, 2.0881012474571126, 0.29168775716424994, -4.118024142223862, 0.3547196315068346, -0.5926165805185938, 5.096020670187573, -0.3593921492156851, 2.2493573510970473, -2.7967483792164405, 2.382892897599319, -6.4704705261724325, -2.479428760958375, -1.146422844100786, 0.8667051442131635, 1.5537057995055437, 0.6999567645709223, 1.448000284013804, 1.0249426069802383, 1.0752133871480662, -2.2504158280959965, 6.110482888329748, 3.172796116726535, 4.9109897830942035, -1.9916528786932486, 4.228255396433015, 8.118990143293395, 0.0, 0.4366370242050116, -0.09697533802005062, 4.788298095280515, 5.69587120786349, -5.7431699461314, 3.931864440782285, 7.083866771745568, 3.5094354088262896, -0.8375525790086932, 0.12080394556864753, 0.43437737387591396, 0.011854487306527712, 0.18182854897428577, 0.7010422375665112, 3.1683698640281257, 2.0699367756366467, -0.6030544468238612, 8.470259386826458, -1.4759647418108663, 4.304214566923994, -0.9063660796193146, 2.982908541069281, -2.2100590992703646, -5.5126931162277195, 0.27338093359707416, 0.3214855919987174, -0.16468525434005268, -1.1590455742636656, -3.570873163113276, -39.668361290654175, 1.1357700460491422, 0.2017897375205751, 1.3634629178515545, -4.44278774310096, -3.3414620168458544, 4.72204251881805, -1.923100662598371, 0.4594613842151476, 1.412043747533619, -0.6207831515693354, 0.6793065632421741, -0.8599629870779653, 0.07470937801867267, 1.6534461981648978, -0.05792339777883323, -0.2947563076732574, 3.7115748752584397, 0.30108682816760113, -1.5037589902709234, -1.232101548577759, 1.8307298758278865, 3.337884987642589, -5.113289943982535, -0.7061018234502022, -0.08367486280641512, 1.1238743227122254, -0.3655649529085794, 1.8389185397395698, 2.647902629917666, 0.5294583106685017, 1.8676342710490286, 3.245323631578524, 0.3757546375824717, 1.285977927895071, 2.2918541689241314, 3.344613195200162, 1.2207851450583889, 2.059964548250065, -0.012639235376835983, 0.6726557987901667, 4.2858028011714815, 1.120293423006201, -1.3374521727784237, 0.7095280590862453, 0.04194983435096971, 6.392758952581087, -0.1011213115408494, -1.112994102980254, 0.3436082025919354, 18.42694035006433, 8.645451998661565, 5.3723929789403595, 0.27955261204705784, 0.14490881467824596, 0.25268684125038854, -1.7940096188814947, 4.788298095280515, 3.1787876639578254, 0.13345782363643477, 2.344644585668209, -0.8273486780618388, -4.4764721850170055, 3.000988266947623, -0.8705384103250505, -0.44031222533384784, 0.37800189808460555, -0.8970347549519169, -0.2374990934447421, 8.35952017260231, -0.7278863000437483, 7.368399114805782, 3.4126090363170802, 1.7381511944629249, -0.36050436900500576, 3.6292216659965697, 5.286162679104781, -2.3527635811276646, 2.675592559385444, 1.658346380911086, -5.7093901083764, -2.6962040413704162, 13.146908104108473, 0.3481085129855248, -1.0262939347856526, 2.644125904541152, 2.1439333714287185, -0.9015436722597563, 1.8102175931680335, -0.8181967945521328, 1.4732419878782006, 2.443630831827021, -0.8230855710590773, 4.925637182492428, 11.877623644143421, 1.5350430106487813, -0.12579548307521785, 2.9297366974281127, -0.5291516594227805, 1.6019030528360485, 3.920755259856852, -1.0625076314632764, 0.6330513361913404, 1.3405973885634617, -2.842919423341746, 2.521208561519381, 0.4698552155256949, 3.4913109984747335, -4.537543779901157, 9.04700323842442, -1.7376772715288842, -1.617801747474239, -0.8727719323253148, -6.5834930904289095, 0.4360631085392608, -3.750733396157269, 2.8814951786202023, 5.973394891764964, 2.2272646195335284, -0.04450516657881893, 1.8644335959292904, 0.594750302077366, -0.42708705156546717, -6.38472194092835, 1.2477540785647752, 2.4395525123037767, 0.021963213161538243, 0.4196656900300233, -0.19319704105144836, -0.2567539879849957, 0.34497372127497133, 1.0203798594112694, 3.5782763441683856, 0.6913751639255657, 0.6585047073716852, 2.2012519641625357, 5.141503486011406, 6.038292999375776, -4.996848109805531, -6.9943639593923095, -6.280772239200548, 2.32766407280205, -15.343848022367995, 7.155627737284126, -49.49888446850466, 4.947952539660509, 0.47715726453739793, -2.785823361624052, 3.649073984571776, 3.5185950730406517, -8.127248603884857, -2.3029303109893173, 1.4504313880334185, 0.4440915161414847, 1.9998992467359833, 4.83289659776271, 6.552181003486918, -5.469815287506687, 0.7269768574541761, -0.6851284005964945, 4.483294484116003, -5.604187095555989, 3.329783223285938, 1.1958530771330584, 1.9413511932246306, -0.9313506182106409, 1.0272887714451155, -7.671400843695505, -0.45215335998417516, 0.7453781130138237, 0.3637974633456616, 2.724142820204256, 1.3465788287554168, -0.7850870502574039, -0.9138982620313321, -0.6586830225157664, 2.5598946004696654, 5.674980140367987, -0.8714662503520078, 1.7525264270811538, 3.0001144885513074, 2.8937191135043108, -1.6497814770965866, -0.7223172920513244, 1.2322922825199099, 0.9037759646515265, 2.226793365570806, -1.812150601178847, 3.1886321989722295, -0.09816486605332592, -2.8006374122060054, -2.708518326174513, -6.156232434649381, -6.284874715126726, 2.31293625768866, 3.674281493576659, 2.3358169818148227, 1.9345350464317561, -0.6036673759769943, 1.1238743227122254, -9.715192059152914, 0.18002644521702665, -62.6588440828639, -0.25678258346042077, 2.6790477354346267, 7.3691373026952, -1.1571034084076937, 5.394801884837828, -1.5661437614087708, 1.5898736521489147, 2.134001595029446, 0.5085558104865885, -0.8868119291022121, 6.1058769517574065, 8.206295764764068, -1.786511638234157, 0.7822914978317758, 5.446619579038816, 1.8660754650362321, -2.2494154819858325, 2.403694435712039, 4.894708726691603, 2.4379020203328463, 1.492281102811666, -0.5511749163060251, 0.08738174434690513, -3.278049400024238, 1.307168520160116, 11.040212678678921, 1.6669309718774241, 0.6578306776138674, -0.6681163815803531, 3.595964059337621, -30.0940082242728, -2.3116817379542725, 2.527167371931891, 2.0186967400892386, 1.2373044600345564, 7.872712759987824, 1.8161015987938285, 1.81931187950637, -0.6083640393670032, 1.1999006132963117, 2.1060587588777926, -1.728338192202664, 1.7744086452019014, -0.5599306176583334, 2.0341671996056223, 0.5378255698577356, 4.008829955355558, 3.6226066491544664, 3.033032923524613, 8.489229321297591, 0.8985999294606025, -1.8490857681499013, 3.457467572910036, 4.013199831401643, 0.12847517308335119, 2.039130924783824, 5.340874215864869, 2.7603798649920996, -0.5600216228014202, 3.5468991015817686, 2.1582277263739584, 2.1645020992927577, -2.667749483163009, -2.3215492690960704, 18.42694035006433, -0.45975195719111883, -1.8833535077315224, 1.9928599631392134, -3.455404470792166, 1.4987278400347592, 1.972915295878419, -0.0848890070755674, 2.8641878496054507, 1.989970157694358, 3.344613195200162, 2.6619210122901737, 0.6739860915069387, -2.9486958606040865, -1.1714726306410925, 4.158066937222139, 0.5796316210501543, 3.3713489747674052, 0.8792736863082564, -1.6211594828157239, 0.8264346041954164, 1.9676143727090054, -3.8497513079929164, 1.0952049827685788, -0.00786658017754401, -3.1347222029797446, 1.8743378124035033, 0.588425262962772, 2.1783685091719733, 1.734513681831092, 1.5292133883325854, -0.7985180679098979, 0.11859254712512682, 0.5981697361412586, -1.5447833101226323, -2.174958576708274, 3.6292216659965697, -0.6240376820557715, 1.4256252355630434, -1.9552597153425395, 3.3648712852214193, 0.40618312031169984, 1.1074918676773216, 2.063350475535148, 1.784578200219606, 1.3708470976265847, 5.9840121530611174, 1.9086121391349467, 0.4216424585955687, -23.723819542600936, -5.596413297214256, 0.03329932359689864, 0.17135461646485917, -0.2216964714517069, 5.289524741998723, 2.668158702878591, 1.5751026967792219, -3.073572043449969, 4.9036489689537435, 0.11507003102710538, -1.8765905652585786, 18.42694035006433, -0.22947034630498905, 18.42694035006433, 0.9260233348927861, 18.42694035006433, 0.7975350694821142, 2.4824237606311472, 2.2188580234002235, -6.641558052358928, 0.9419255232843536, 4.791602037046027, 0.30825422068557906, 2.9282412790863255, 2.3880275341613943, -1.5832404277924597, -0.4794959931324961, -1.0041133581921329, -0.229409794244851, -1.3539438450860086, 1.6885542177514088, -4.355470206469564, 2.538434730516299, 1.2937349237656908, -0.38307665995584417, 2.7283421970210884, -0.5601005815289674, -4.647509692734984, 5.927409856892774, 0.6035707985395482, 0.2971681268224893, 3.8079400303000845, -0.47595135795735793, 1.7337731888417665, 3.261619643956475, -12.946854586541841, 5.081517353596984, 2.3553359748470233, 3.127892402281116, 2.3926793364044365, 1.6198957811870225, 4.1013368611957945, 1.7906080693519388, 1.2955084510565344, 2.9320189828355003, 3.7793921353359727, -1.95483430280692, 6.342022983140731, 5.99358824187243, -0.8906487596081915, 1.2318746304648411, 3.414010236697237], \"yaxis\": \"y2\"}, {\"hovertemplate\": \"<b>OLS trendline</b><br>T_init_prob = 0.58915 * T_hab_prob + 2.8152<br>R<sup>2</sup>=0.176085<br><br>Screen=Neuronal<br>Degree of Habituation of Response Probability=%{x}<br>Initial Response Probability=%{y} <b>(trend)</b><extra></extra>\", \"legendgroup\": \"Neuronal\", \"marker\": {\"color\": \"red\", \"symbol\": \"circle\"}, \"mode\": \"lines\", \"name\": \"Neuronal\", \"showlegend\": false, \"type\": \"scatter\", \"x\": [-83.93771503951183, -49.7854945128771, -37.11554926734025, -35.62566382859322, -30.975925761525374, -30.59251451297307, -24.46585913153768, -24.456966284605237, -24.203321133544915, -24.007744814023066, -23.20874318956885, -21.891191856605882, -21.820078709771856, -21.398820002427648, -20.817230722304927, -19.575497640679252, -19.3367580733655, -19.12790325353527, -17.87286039857314, -17.675112445922135, -16.445944017945674, -16.315514787337413, -16.30056021535783, -15.739909712742381, -15.262922907320029, -15.19181832842607, -14.832493248817503, -14.69170052785429, -14.63037548961755, -13.992295313736243, -13.984878736814462, -13.981511288061212, -13.856722875669458, -13.828704240320443, -13.655726534756026, -13.635488008487556, -13.61222473887362, -13.122089425788552, -13.078623425380906, -12.905607783809051, -12.534010855872403, -12.374746444861708, -12.203478612476024, -11.95473327905864, -11.95145460101005, -11.909697467150359, -11.769115846709651, -11.736064321432668, -11.658500644592877, -11.60845308959811, -11.544089983027487, -11.288655147432117, -11.207248506671874, -11.070910456218174, -10.974228601245516, -10.822472765719677, -10.729944630858704, -10.643439284796031, -10.507540629313736, -10.494596487982509, -10.484524277023063, -10.47231948299202, -10.423716149357675, -10.423371059524452, -10.416461887950444, -10.260183480616272, -10.204688966199985, -10.18818565725402, -10.059601211977697, -10.037940693170384, -9.977455266241106, -9.94972206127662, -9.921217079802853, -9.806149385548393, -9.74680396027078, -9.732894057054004, -9.67157528982075, -9.669632961675289, -9.305400050608768, -9.295663067353642, -9.218028939308644, -9.174384546203097, -9.15887243895084, -9.101387209939674, -9.070071770848589, -9.048309000672594, -9.03758707897204, -8.972013166477476, -8.966665241579957, -8.95440885088198, -8.877070613957567, -8.810934470232441, -8.80114953171091, -8.696659540616949, -8.537683624442762, -8.446963454145624, -8.436365476164159, -8.413709035865399, -8.325852373803897, -8.075360565853245, -8.074489335877505, -8.048588041475409, -8.042978806858924, -7.95872039560527, -7.90514197778453, -7.748304006700686, -7.743670775837309, -7.729463095172824, -7.678801983630953, -7.673494023433729, -7.642759279033785, -7.5790038332025516, -7.562119942167294, -7.46586228740602, -7.40046995271707, -7.399586442892587, -7.341788248930715, -7.333888803288086, -7.226807942808753, -7.193616259821195, -7.192414691561542, -7.115101233555751, -7.106182117733784, -7.076833412579282, -7.0559093836389515, -7.054355996667725, -7.030395147768639, -7.013019549514622, -6.880786128332895, -6.8474267703625715, -6.8368783800732595, -6.73305867263703, -6.719552240212638, -6.6544688931767775, -6.644877216267254, -6.605782100423973, -6.583919769719504, -6.53567087728214, -6.5343962191517475, -6.52357665462777, -6.437946779932039, -6.374177418437995, -6.3205379062337625, -6.294037775008137, -6.289986333789726, -6.217297916935292, -6.170948210326332, -6.140091209666143, -6.127288856629809, -5.946068812632951, -5.943301466579507, -5.9294497715558645, -5.928395679684496, -5.916475762271647, -5.902459537905083, -5.884727767210932, -5.871834880532199, -5.863568569389007, -5.840983920468337, -5.814653259689252, -5.809720361948608, -5.757841256909577, -5.738200660668924, -5.737518066122293, -5.641344419599756, -5.632103987796488, -5.5945490995161, -5.587505980546043, -5.5731906867384104, -5.556735656991481, -5.520437014583713, -5.486453039468474, -5.483708487527157, -5.448266990808383, -5.368943195698791, -5.36585862512329, -5.3383191758057, -5.318554312400836, -5.272172241452014, -5.255094871711765, -5.22803755327284, -5.218455383723371, -5.207306330191811, -5.107198235189568, -5.086174359754183, -5.0825613224981385, -5.078863219314972, -5.048322344050695, -5.010373708194842, -4.997042678651697, -4.993341582212175, -4.988617941627549, -4.962607226573921, -4.943347352388724, -4.926335463456463, -4.902975818541562, -4.830945916040436, -4.7665561992514105, -4.748652343113076, -4.724604125022057, -4.6970120936761255, -4.565676383354067, -4.511315342973053, -4.434967479649103, -4.431815720300144, -4.42836233438255, -4.42299499339439, -4.403399443764314, -4.3913464925004, -4.373599080563715, -4.321899579081587, -4.320036084833831, -4.308962291204926, -4.305106996366693, -4.291080715448885, -4.267128934010547, -4.2656450298268505, -4.231836998563296, -4.2316886228310615, -4.224512612404866, -4.206886189349536, -4.19697164000011, -4.188747787068825, -4.157371079103396, -4.153986338145295, -4.140270120536486, -4.124527753349803, -4.1234964356175485, -4.121149791546294, -4.105648759094665, -4.090453087432597, -4.071157939585884, -4.067665477035959, -4.0133764513121095, -3.9845069004038742, -3.983421374193623, -3.9576573780936983, -3.9506981086714617, -3.914227752713337, -3.869162361839986, -3.8526405143283466, -3.8376316073392718, -3.826354949510879, -3.8055501626004755, -3.792501725220277, -3.7918443886603557, -3.783954253566772, -3.779758916247131, -3.7550105877378672, -3.7271591056412117, -3.7245258205661287, -3.7207325619153204, -3.710658434196127, -3.7044842924072627, -3.696296831061716, -3.6552286337669537, -3.6371368879723494, -3.621809678023648, -3.5587159013552765, -3.540604007224312, -3.511460500021731, -3.51036436048834, -3.505424820016107, -3.5020298044519507, -3.4791063761801646, -3.4788173776821947, -3.473071167340067, -3.471108541873522, -3.4619292273260003, -3.455580661097233, -3.4435430288140996, -3.418447733258845, -3.366856279739074, -3.364027993076874, -3.3538003501043203, -3.2934698259531316, -3.2911374778929106, -3.284291836277591, -3.2514153022419308, -3.243945359208201, -3.242190308039162, -3.2152761277791932, -3.172366706894686, -3.1583362204820267, -3.1567522748452563, -3.154855831532702, -3.154704817330085, -3.153430679393358, -3.150923402098956, -3.150813746747599, -3.1185402838510914, -3.107768602210124, -3.0915110527488827, -3.065319377456221, -3.0233506964814887, -3.0217375938696667, -2.9792386181040302, -2.9581221025624664, -2.95677942041533, -2.9566806881434182, -2.956159442687448, -2.9511523195128673, -2.9342356479548726, -2.9269201590345744, -2.913349216466523, -2.912030528385515, -2.909008529793218, -2.889056679427496, -2.876724259826326, -2.8739669383434685, -2.87078515324511, -2.8320042382258634, -2.820201227182107, -2.8093472740037186, -2.8064047471124747, -2.769490762522079, -2.7691711201346387, -2.7152356540636213, -2.681910751874105, -2.673417329127967, -2.662429060891792, -2.6389573299448945, -2.6297197878270633, -2.6290354591939833, -2.6093012981563555, -2.6010522339988205, -2.585499516932234, -2.5809022192263753, -2.5573443730711083, -2.540669546957292, -2.5277973128484357, -2.5185972821463896, -2.5142632397233164, -2.510975688259307, -2.5097140534587643, -2.4973863195309756, -2.488370939382492, -2.4205024510276063, -2.4137737928081364, -2.413042249962512, -2.3832190749729127, -2.3631299646666117, -2.360192912026523, -2.3471449465517056, -2.25648945755612, -2.2509568440254744, -2.228213870524898, -2.223642330982019, -2.2187157734959255, -2.199125114865502, -2.1688761521805295, -2.158115089475848, -2.1564834140128166, -2.1538117970948445, -2.1501627067341795, -2.1237981240697397, -2.0944621265854, -2.071620866478779, -2.0587801131563306, -2.0377568823594623, -2.0194239470366977, -1.9977470389560106, -1.9917904550835803, -1.9860808697792127, -1.962299764150566, -1.9457364001136486, -1.945411147195934, -1.8990733455601314, -1.8972471827498483, -1.8828492502576277, -1.8381636505661567, -1.836459132710274, -1.8225199830373802, -1.8097768015350875, -1.7682182657264673, -1.7558955881029308, -1.7426302489267247, -1.6990828178933404, -1.6656145434695464, -1.6593819392200446, -1.6286351271665416, -1.6260266552025997, -1.6047632264332088, -1.587445989361159, -1.5820259384034963, -1.5718833844395645, -1.5706290884421297, -1.5689474248370534, -1.5614201135152224, -1.5592818864745503, -1.5449534865772185, -1.5301335929161206, -1.5280543071009727, -1.5139159025124722, -1.5029234994803498, -1.4728256118811511, -1.4603162408601085, -1.4564630041282696, -1.4077661924530365, -1.4045337735896584, -1.4043274951193712, -1.3795883941695553, -1.3790423776225962, -1.3653150558340574, -1.3610625627628137, -1.3574767441134066, -1.3489071115618707, -1.328805353948437, -1.3098847207908366, -1.2836855648938754, -1.2778356784180411, -1.2552673458803945, -1.2304237941782374, -1.22437946901069, -1.2020573138479496, -1.198787749599281, -1.132320063527932, -1.1193435116018369, -1.0834311743449712, -1.0763366010187134, -1.0328672710554425, -0.9724084509004307, -0.9609091084742951, -0.9563628380762978, -0.8910230495732888, -0.8415093711997126, -0.8180210025603358, -0.79519687507836, -0.7886504812520778, -0.7615278642319001, -0.7555220751723729, -0.6969710074696941, -0.690844238909378, -0.6372128681615873, -0.6095580180671772, -0.609001439152251, -0.5420908461807852, -0.5200367197849127, -0.47492496185953154, -0.4492866903255945, -0.44868408233733925, -0.420403009362075, -0.4166574347072982, -0.3951442116020422, -0.3739416127082012, -0.3192046989894598, -0.3102431010364551, -0.24914192378187297, -0.23358466905301153, -0.2311485901768597, -0.22794388365329954, -0.20899596287716982, -0.11759399599270894, -0.10357798832332672, -0.09955022260351262, -0.09933430682440407, -0.08557249094872084, -0.08531086373125839, -0.058939124450026026, -0.057755460005595144, -0.03546417125693995, 0.0, 0.06542068392498573, 0.07271296063743016, 0.09643200191947641, 0.11494761190135051, 0.1324245902917508, 0.14171359335766293, 0.15889283953549338, 0.1671301983246865, 0.18834379697887457, 0.21108012411225302, 0.2567753652287574, 0.28120170647347864, 0.29680929970288117, 0.2994886967407288, 0.3825049350386796, 0.42888497005061416, 0.4393541341467269, 0.44666556573128746, 0.48207062790946725, 0.49765737541383964, 0.5325866305135342, 0.5897697819789387, 0.6003188224328337, 0.602339740516308, 0.6101080674845676, 0.6307375855910093, 0.6431830020213989, 0.7011855569972631, 0.7109750180715334, 0.7288824945065226, 0.7585091617879843, 0.7611452762201333, 0.8410965355744099, 0.8650787165922347, 0.9405882860434643, 1.1265409503542483, 1.1433557546385555, 1.1774669956320067, 1.233702925227723, 1.256228310976561, 1.3498079951507487, 1.3892807948221462, 1.390643644355686, 1.3978834812060164, 1.5109722322701982, 1.5219080810413257, 1.526287008233372, 1.528767226811555, 1.6384488673854982, 1.803477935632306, 1.8079700380573553, 1.9530263008906723, 2.099235161115652, 2.1093983457639016, 2.183981972270994, 2.1846869737291215, 2.286100481244883, 2.2922604577003685, 2.3043880395293033, 2.414239497472098, 2.6617928071991996, 2.758033208055205, 3.251368630294429, 3.406471546673738, 3.4168524030089076, 3.490171463581131, 3.722874517340164, 3.7923029596415985, 3.9780426983945234, 3.9859632996771213, 4.315148918946964, 4.456570299488985, 4.472617454533504, 5.643677866583025, 6.183505010830405, 6.3821598993172035, 6.479251660324434, 6.626996410769524, 6.8935816132635415, 8.076236422145978, 8.650453411589444, 9.612912519041942, 9.659138522433517, 9.86052556697658, 9.957471149189812, 11.40881933650242, 12.603046412884959, 14.521079953455903, 25.815383674692622], \"xaxis\": \"x\", \"y\": [-46.63666976926178, -26.51590184802379, -19.05140835597033, -18.173642908219087, -15.434251468969773, -15.208364875607664, -11.598848154224154, -11.593608936787406, -11.444173991119614, -11.328950275785497, -10.858218768245667, -10.081983894317315, -10.040087610516956, -9.791903200994792, -9.449260094620408, -8.717693515046797, -8.577040188455907, -8.45399344964258, -7.71458542209699, -7.598082289918871, -6.873918171332807, -6.797075839011612, -6.788265358535591, -6.457958325080673, -6.176941727465563, -6.135050491463881, -5.923354255506226, -5.840406276727185, -5.8042766534378245, -5.428351957002995, -5.423982483489647, -5.421998552318964, -5.348479505935552, -5.3319723374225205, -5.230062587030288, -5.218139066865671, -5.204433520292904, -4.915670484317049, -4.890062506470203, -4.788130406093407, -4.569204215293389, -4.475373647247025, -4.374471267997093, -4.227923048056931, -4.225991416113624, -4.201390216352934, -4.118566607367594, -4.099094313640091, -4.05339770250483, -4.023912204240089, -3.985992704130647, -3.8355033664898985, -3.7875426746014456, -3.707219163283242, -3.6502590846674887, -3.560852191053423, -3.506339275084439, -3.4553746828783187, -3.3753100409428103, -3.367684004929655, -3.3617499656184866, -3.3545595157900894, -3.3259248799984724, -3.3257215704525875, -3.3216510346096766, -3.229579669510026, -3.1968850971439013, -3.187162178864685, -3.1114067011302784, -3.0986454145944395, -3.06301044799214, -3.0466714406831614, -3.0298777415330407, -2.962085652596383, -2.92712231753983, -2.9189273032738217, -2.882801374543814, -2.8816570526450014, -2.667069369623603, -2.661332829588774, -2.615594712152373, -2.589881634314428, -2.5807426821415063, -2.5468752810180315, -2.528425801816175, -2.5156042739248057, -2.5092874577740587, -2.4706546118083996, -2.4675038838597065, -2.4602830358743266, -2.4147192425807034, -2.3757551582963123, -2.3699903654342562, -2.3084301263495335, -2.2147695249279544, -2.1613217706040344, -2.155077975848928, -2.1417299425397256, -2.0899692230194398, -1.9423920682626732, -1.9418787834490483, -1.9266190455612056, -1.9233143670895365, -1.8736735556838817, -1.842107850908771, -1.749706819035755, -1.746977152809372, -1.7386067030716688, -1.7087597281971951, -1.7056325454367003, -1.6875251822944546, -1.6499636852818411, -1.6400165472073795, -1.5833063859871515, -1.5447805165176054, -1.5442599970356965, -1.51020821272883, -1.5055542572895972, -1.4424676084776755, -1.4229127408875253, -1.4222048373977612, -1.3766556425947551, -1.371400948851592, -1.354110170211238, -1.341782786404457, -1.34086760905265, -1.3267510839055254, -1.3165142567074493, -1.2386089861862, -1.2189553329428064, -1.2127407527579437, -1.151575411038917, -1.143618101439, -1.1052742719294466, -1.09962333907366, -1.076590466229474, -1.0637102822900752, -1.035284465396797, -1.0345335010370844, -1.0281591586535188, -0.9777103500750606, -0.9401406546549183, -0.9085389561466743, -0.8929264137687247, -0.890539508693589, -0.8477151551511994, -0.8204082428768111, -0.8022288525046699, -0.7946863510123019, -0.6879206300222522, -0.6862902491322114, -0.6781295282013682, -0.6775085103704801, -0.6704858954949051, -0.6622282421633536, -0.6517815761056847, -0.644185736751834, -0.6393156426404656, -0.6260099051947541, -0.6104972062668579, -0.6075909914120645, -0.5770264361253066, -0.5654551862124428, -0.5650530358911672, -0.5083923680933, -0.5029483711601994, -0.4808229228073344, -0.47667347190625264, -0.4682396219256031, -0.45854514731840057, -0.43715981575048346, -0.41713816955030225, -0.4155212178028762, -0.39464087329632713, -0.3479072891421957, -0.34609001554389707, -0.32986515930165705, -0.3182206974355801, -0.290894717722495, -0.28083359174151346, -0.26489278272571104, -0.25924745112753733, -0.25267899041866393, -0.19370034377381407, -0.18131413544189945, -0.17918551589685494, -0.17700677979273394, -0.159013634579094, -0.13665620998974104, -0.12880223893156062, -0.12662173935158005, -0.1238388082718136, -0.10851460524813739, -0.09716765759153123, -0.08714510960403121, -0.07338278355882721, -0.03094639350084316, 0.006988784008795879, 0.017536834141399282, 0.031704832815199424, 0.047960667739726404, 0.12533705224451097, 0.15736383880763904, 0.20234415386579352, 0.20420101170478944, 0.20623557272363113, 0.2093977396548472, 0.22094245037397542, 0.22804344209303684, 0.23849932318288136, 0.2689580651014145, 0.2700559420389457, 0.2765800634043809, 0.27885140891316107, 0.287114987058108, 0.301226170114131, 0.3021004117077113, 0.3220184006536253, 0.3221058161606525, 0.3263335600133037, 0.33671816054905124, 0.3425593135817766, 0.3474043934535156, 0.36588996918972505, 0.3678840880564138, 0.37596499251909155, 0.385239602246068, 0.3858472027014339, 0.38722972717636894, 0.39636215463465296, 0.40531467889823203, 0.4166824080192981, 0.4187399910214298, 0.45072435017628454, 0.467732835272062, 0.46837237263191955, 0.4835512212765045, 0.48765127224791893, 0.5091377687896617, 0.5356880269298432, 0.545421867198078, 0.5542643591245722, 0.5609079978570919, 0.5731651302666396, 0.5808526122579503, 0.581239881845824, 0.5858883519785758, 0.5883600333878118, 0.6029405018520833, 0.6193491920891439, 0.6209005910040366, 0.6231353879162498, 0.6290705564857055, 0.6327080498062254, 0.6375316895888674, 0.6617270026305802, 0.6723857478837436, 0.6814157678795856, 0.7185874427529271, 0.7292580583909047, 0.7464279447348026, 0.7470737349300096, 0.7499838633476292, 0.7519840354946234, 0.7654893646680527, 0.7656596280248, 0.769045005693886, 0.7702012857518068, 0.7756092754765946, 0.7793495308905003, 0.7864414974377776, 0.8012263814071332, 0.831621466909146, 0.8332877509359919, 0.8393133629594194, 0.8748570686480734, 0.8762311706334673, 0.8802642778250303, 0.8996334755283042, 0.9040343896665028, 0.9050683774048576, 0.9209248566161834, 0.9462049258456076, 0.9544709816562698, 0.9554041626344278, 0.9565214515011335, 0.9566104214619973, 0.9573610793498069, 0.9588382408279459, 0.9589028442370933, 0.9779167428047981, 0.9842628750057874, 0.9938410041767025, 1.0092718198573716, 1.0339976525215904, 1.0349480113206706, 1.0599862669621682, 1.0724270541779122, 1.0732180948615904, 1.0732762629425772, 1.0735833545075721, 1.0765332992489463, 1.0864997499560902, 1.0908096675112582, 1.0988049832381304, 1.0995818878267434, 1.1013622971645929, 1.1131169223285664, 1.1203825627137634, 1.1220070376318014, 1.1238815851298007, 1.1467293466762856, 1.153683086208332, 1.1600776886547532, 1.1618112772697176, 1.1835591374538674, 1.1837474546466094, 1.2155235142645306, 1.2351568678975773, 1.240160764724688, 1.246634498837056, 1.2604628603259946, 1.2659051548020037, 1.2663083267596607, 1.2779347003375892, 1.2827946333938225, 1.2919575108236345, 1.2946660070437348, 1.308545103275404, 1.3183690708297666, 1.3259527427298163, 1.3313729373692769, 1.3339263368382057, 1.3358631965508816, 1.336606488220695, 1.3438693680431757, 1.3491807758782215, 1.3891654703518623, 1.3931296568196119, 1.3935606450128912, 1.4111309573787363, 1.4229664491852498, 1.4246968126471982, 1.4323840166156305, 1.4857936639749865, 1.489053201162655, 1.50245221547527, 1.5051455362833064, 1.5080480157795082, 1.5195898449680243, 1.5374110099949911, 1.543750886053648, 1.5447121870410563, 1.5462861691468184, 1.5484360293649353, 1.563968713358873, 1.5812520052801138, 1.594708925109837, 1.6022740501163752, 1.6146598786597497, 1.6254607206330185, 1.6382316629031226, 1.6417409820587274, 1.645104782100546, 1.6591154115672677, 1.668873711280807, 1.669065333915357, 1.6963652323792715, 1.697441115514409, 1.7059236520451067, 1.7322501563528494, 1.7332543724087008, 1.7414666172133677, 1.748974257818636, 1.7734584536119835, 1.7807183545147096, 1.7885336241178322, 1.814189576787308, 1.833907398118436, 1.8375793345757256, 1.8556938073715423, 1.8572305876513076, 1.8697579287401551, 1.879960372469752, 1.8831535934597419, 1.8891290753256353, 1.8898680433423487, 1.8908587948249045, 1.8952935074685333, 1.8965532431280265, 1.9049948145565099, 1.9137259493516787, 1.9149509598102485, 1.923280595573754, 1.9297567656996044, 1.9474889248964184, 1.9548588161443028, 1.957128949120472, 1.9858186574648373, 1.9877230358265179, 1.9878445647099636, 2.0024195967610456, 2.0027412822050112, 2.0108287286910147, 2.013334083389882, 2.015446667103029, 2.020495462908422, 2.0323384058711924, 2.043485489803555, 2.058920712679443, 2.062367171103839, 2.0756632957586088, 2.090299864931279, 2.0938608768380123, 2.1070119661846354, 2.108938228736136, 2.1480976410695245, 2.155742771772497, 2.176900511805567, 2.1810802770213167, 2.2066902164746116, 2.242309507705826, 2.249084340985632, 2.2517627744864335, 2.2902576863902295, 2.3194286514437197, 2.333266815022946, 2.346713641173282, 2.350570446642107, 2.3665497262925768, 2.370088034665715, 2.4045833742547624, 2.408192957655441, 2.439789859627674, 2.4560827041943196, 2.4564106124534133, 2.495830963220982, 2.508824143520076, 2.5354017187915807, 2.550506496855242, 2.5508615231256337, 2.5675233066677934, 2.5697300105716185, 2.582404517899805, 2.5948960210902747, 2.6271442532894285, 2.632423975364168, 2.668421711039805, 2.6775872618316456, 2.6790224767883615, 2.680910528435426, 2.6920736888580166, 2.7459231233857846, 2.7541806490502725, 2.7565536057142848, 2.75668081241461, 2.7647885810791246, 2.764942718656221, 2.7804796189682595, 2.7811769744319967, 2.7943098788423324, 2.8152035820445422, 2.853746153455872, 2.858042395547484, 2.872016459827671, 2.8829249245078783, 2.893221479775302, 2.8986940924495825, 2.9088152388955764, 2.9136682757384387, 2.9261662594335935, 2.9395613580414652, 2.9664826922163003, 2.9808734620043644, 2.990068669704929, 2.9916472354653996, 3.0405562211398327, 3.067881001381464, 3.0740489054843017, 3.0783564326616406, 3.099215311772256, 3.1083982382217332, 3.1289767957704164, 3.1626662280210396, 3.1688811912501227, 3.1700718143814566, 3.1746485213028333, 3.186802394162227, 3.1941346065870015, 3.228306790108657, 3.2340742474309643, 3.2446244304599845, 3.262078970383241, 3.263632036212789, 3.31073529069147, 3.3248643836483525, 3.3693508181856298, 3.478904760659596, 3.4888111963006327, 3.5089078211452565, 3.542039197986421, 3.5553100205566626, 3.6104424564093516, 3.6336978415392966, 3.634500763831115, 3.6387661109976195, 3.7053923062955354, 3.71183515749972, 3.7144150008134647, 3.7158762206590863, 3.78049511808884, 3.8777219317849676, 3.880368452244811, 3.9658282951184267, 4.051967190313287, 4.057954826739113, 4.101895742337943, 4.102311093682728, 4.162058823620581, 4.16568797144025, 4.172832931728719, 4.237551876997675, 4.383397816627539, 4.440097812715946, 4.730746191800405, 4.822125016844633, 4.828240894463214, 4.87143679151554, 5.008533708408465, 5.049437449164963, 5.1588659466263325, 5.163532365902922, 5.357471950099855, 5.440790303434097, 5.450244478813266, 6.14017428159788, 6.458213241275929, 6.575250694361739, 6.632452268964107, 6.719496033306413, 6.876554605425762, 7.573315242758305, 7.911614966842524, 8.478647389218422, 8.505881421788658, 8.624528523590863, 8.681643977011541, 9.536705217525963, 10.240283651918304, 11.370292393366928, 18.02432719704097], \"yaxis\": \"y\"}],                        {\"barmode\": \"overlay\", \"legend\": {\"title\": {\"text\": \"Screen\"}, \"tracegroupgap\": 0}, \"margin\": {\"t\": 60}, \"template\": {\"data\": {\"bar\": [{\"error_x\": {\"color\": \"#2a3f5f\"}, \"error_y\": {\"color\": \"#2a3f5f\"}, \"marker\": {\"line\": {\"color\": \"#E5ECF6\", \"width\": 0.5}}, \"type\": \"bar\"}], \"barpolar\": [{\"marker\": {\"line\": {\"color\": \"#E5ECF6\", \"width\": 0.5}}, \"type\": \"barpolar\"}], \"carpet\": [{\"aaxis\": {\"endlinecolor\": \"#2a3f5f\", \"gridcolor\": \"white\", \"linecolor\": \"white\", \"minorgridcolor\": \"white\", \"startlinecolor\": \"#2a3f5f\"}, \"baxis\": {\"endlinecolor\": \"#2a3f5f\", \"gridcolor\": \"white\", \"linecolor\": \"white\", \"minorgridcolor\": \"white\", \"startlinecolor\": \"#2a3f5f\"}, \"type\": \"carpet\"}], \"choropleth\": [{\"colorbar\": {\"outlinewidth\": 0, \"ticks\": \"\"}, \"type\": \"choropleth\"}], \"contour\": [{\"colorbar\": {\"outlinewidth\": 0, \"ticks\": \"\"}, \"colorscale\": [[0.0, \"#0d0887\"], [0.1111111111111111, \"#46039f\"], [0.2222222222222222, \"#7201a8\"], [0.3333333333333333, \"#9c179e\"], [0.4444444444444444, \"#bd3786\"], [0.5555555555555556, \"#d8576b\"], [0.6666666666666666, \"#ed7953\"], [0.7777777777777778, \"#fb9f3a\"], [0.8888888888888888, \"#fdca26\"], [1.0, \"#f0f921\"]], \"type\": \"contour\"}], \"contourcarpet\": [{\"colorbar\": {\"outlinewidth\": 0, \"ticks\": \"\"}, \"type\": \"contourcarpet\"}], \"heatmap\": [{\"colorbar\": {\"outlinewidth\": 0, \"ticks\": \"\"}, \"colorscale\": [[0.0, \"#0d0887\"], [0.1111111111111111, \"#46039f\"], [0.2222222222222222, \"#7201a8\"], [0.3333333333333333, \"#9c179e\"], [0.4444444444444444, \"#bd3786\"], [0.5555555555555556, \"#d8576b\"], [0.6666666666666666, \"#ed7953\"], [0.7777777777777778, \"#fb9f3a\"], [0.8888888888888888, \"#fdca26\"], [1.0, \"#f0f921\"]], \"type\": \"heatmap\"}], \"heatmapgl\": [{\"colorbar\": {\"outlinewidth\": 0, \"ticks\": \"\"}, \"colorscale\": [[0.0, \"#0d0887\"], [0.1111111111111111, \"#46039f\"], [0.2222222222222222, \"#7201a8\"], [0.3333333333333333, \"#9c179e\"], [0.4444444444444444, \"#bd3786\"], [0.5555555555555556, \"#d8576b\"], [0.6666666666666666, \"#ed7953\"], [0.7777777777777778, \"#fb9f3a\"], [0.8888888888888888, \"#fdca26\"], [1.0, \"#f0f921\"]], \"type\": \"heatmapgl\"}], \"histogram\": [{\"marker\": {\"colorbar\": {\"outlinewidth\": 0, \"ticks\": \"\"}}, \"type\": \"histogram\"}], \"histogram2d\": [{\"colorbar\": {\"outlinewidth\": 0, \"ticks\": \"\"}, \"colorscale\": [[0.0, \"#0d0887\"], [0.1111111111111111, \"#46039f\"], [0.2222222222222222, \"#7201a8\"], [0.3333333333333333, \"#9c179e\"], [0.4444444444444444, \"#bd3786\"], [0.5555555555555556, \"#d8576b\"], [0.6666666666666666, \"#ed7953\"], [0.7777777777777778, \"#fb9f3a\"], [0.8888888888888888, \"#fdca26\"], [1.0, \"#f0f921\"]], \"type\": \"histogram2d\"}], \"histogram2dcontour\": [{\"colorbar\": {\"outlinewidth\": 0, \"ticks\": \"\"}, \"colorscale\": [[0.0, \"#0d0887\"], [0.1111111111111111, \"#46039f\"], [0.2222222222222222, \"#7201a8\"], [0.3333333333333333, \"#9c179e\"], [0.4444444444444444, \"#bd3786\"], [0.5555555555555556, \"#d8576b\"], [0.6666666666666666, \"#ed7953\"], [0.7777777777777778, \"#fb9f3a\"], [0.8888888888888888, \"#fdca26\"], [1.0, \"#f0f921\"]], \"type\": \"histogram2dcontour\"}], \"mesh3d\": [{\"colorbar\": {\"outlinewidth\": 0, \"ticks\": \"\"}, \"type\": \"mesh3d\"}], \"parcoords\": [{\"line\": {\"colorbar\": {\"outlinewidth\": 0, \"ticks\": \"\"}}, \"type\": \"parcoords\"}], \"pie\": [{\"automargin\": true, \"type\": \"pie\"}], \"scatter\": [{\"marker\": {\"colorbar\": {\"outlinewidth\": 0, \"ticks\": \"\"}}, \"type\": \"scatter\"}], \"scatter3d\": [{\"line\": {\"colorbar\": {\"outlinewidth\": 0, \"ticks\": \"\"}}, \"marker\": {\"colorbar\": {\"outlinewidth\": 0, \"ticks\": \"\"}}, \"type\": \"scatter3d\"}], \"scattercarpet\": [{\"marker\": {\"colorbar\": {\"outlinewidth\": 0, \"ticks\": \"\"}}, \"type\": \"scattercarpet\"}], \"scattergeo\": [{\"marker\": {\"colorbar\": {\"outlinewidth\": 0, \"ticks\": \"\"}}, \"type\": \"scattergeo\"}], \"scattergl\": [{\"marker\": {\"colorbar\": {\"outlinewidth\": 0, \"ticks\": \"\"}}, \"type\": \"scattergl\"}], \"scattermapbox\": [{\"marker\": {\"colorbar\": {\"outlinewidth\": 0, \"ticks\": \"\"}}, \"type\": \"scattermapbox\"}], \"scatterpolar\": [{\"marker\": {\"colorbar\": {\"outlinewidth\": 0, \"ticks\": \"\"}}, \"type\": \"scatterpolar\"}], \"scatterpolargl\": [{\"marker\": {\"colorbar\": {\"outlinewidth\": 0, \"ticks\": \"\"}}, \"type\": \"scatterpolargl\"}], \"scatterternary\": [{\"marker\": {\"colorbar\": {\"outlinewidth\": 0, \"ticks\": \"\"}}, \"type\": \"scatterternary\"}], \"surface\": [{\"colorbar\": {\"outlinewidth\": 0, \"ticks\": \"\"}, \"colorscale\": [[0.0, \"#0d0887\"], [0.1111111111111111, \"#46039f\"], [0.2222222222222222, \"#7201a8\"], [0.3333333333333333, \"#9c179e\"], [0.4444444444444444, \"#bd3786\"], [0.5555555555555556, \"#d8576b\"], [0.6666666666666666, \"#ed7953\"], [0.7777777777777778, \"#fb9f3a\"], [0.8888888888888888, \"#fdca26\"], [1.0, \"#f0f921\"]], \"type\": \"surface\"}], \"table\": [{\"cells\": {\"fill\": {\"color\": \"#EBF0F8\"}, \"line\": {\"color\": \"white\"}}, \"header\": {\"fill\": {\"color\": \"#C8D4E3\"}, \"line\": {\"color\": \"white\"}}, \"type\": \"table\"}]}, \"layout\": {\"annotationdefaults\": {\"arrowcolor\": \"#2a3f5f\", \"arrowhead\": 0, \"arrowwidth\": 1}, \"coloraxis\": {\"colorbar\": {\"outlinewidth\": 0, \"ticks\": \"\"}}, \"colorscale\": {\"diverging\": [[0, \"#8e0152\"], [0.1, \"#c51b7d\"], [0.2, \"#de77ae\"], [0.3, \"#f1b6da\"], [0.4, \"#fde0ef\"], [0.5, \"#f7f7f7\"], [0.6, \"#e6f5d0\"], [0.7, \"#b8e186\"], [0.8, \"#7fbc41\"], [0.9, \"#4d9221\"], [1, \"#276419\"]], \"sequential\": [[0.0, \"#0d0887\"], [0.1111111111111111, \"#46039f\"], [0.2222222222222222, \"#7201a8\"], [0.3333333333333333, \"#9c179e\"], [0.4444444444444444, \"#bd3786\"], [0.5555555555555556, \"#d8576b\"], [0.6666666666666666, \"#ed7953\"], [0.7777777777777778, \"#fb9f3a\"], [0.8888888888888888, \"#fdca26\"], [1.0, \"#f0f921\"]], \"sequentialminus\": [[0.0, \"#0d0887\"], [0.1111111111111111, \"#46039f\"], [0.2222222222222222, \"#7201a8\"], [0.3333333333333333, \"#9c179e\"], [0.4444444444444444, \"#bd3786\"], [0.5555555555555556, \"#d8576b\"], [0.6666666666666666, \"#ed7953\"], [0.7777777777777778, \"#fb9f3a\"], [0.8888888888888888, \"#fdca26\"], [1.0, \"#f0f921\"]]}, \"colorway\": [\"#636efa\", \"#EF553B\", \"#00cc96\", \"#ab63fa\", \"#FFA15A\", \"#19d3f3\", \"#FF6692\", \"#B6E880\", \"#FF97FF\", \"#FECB52\"], \"font\": {\"color\": \"#2a3f5f\"}, \"geo\": {\"bgcolor\": \"white\", \"lakecolor\": \"white\", \"landcolor\": \"#E5ECF6\", \"showlakes\": true, \"showland\": true, \"subunitcolor\": \"white\"}, \"hoverlabel\": {\"align\": \"left\"}, \"hovermode\": \"closest\", \"mapbox\": {\"style\": \"light\"}, \"paper_bgcolor\": \"white\", \"plot_bgcolor\": \"#E5ECF6\", \"polar\": {\"angularaxis\": {\"gridcolor\": \"white\", \"linecolor\": \"white\", \"ticks\": \"\"}, \"bgcolor\": \"#E5ECF6\", \"radialaxis\": {\"gridcolor\": \"white\", \"linecolor\": \"white\", \"ticks\": \"\"}}, \"scene\": {\"xaxis\": {\"backgroundcolor\": \"#E5ECF6\", \"gridcolor\": \"white\", \"gridwidth\": 2, \"linecolor\": \"white\", \"showbackground\": true, \"ticks\": \"\", \"zerolinecolor\": \"white\"}, \"yaxis\": {\"backgroundcolor\": \"#E5ECF6\", \"gridcolor\": \"white\", \"gridwidth\": 2, \"linecolor\": \"white\", \"showbackground\": true, \"ticks\": \"\", \"zerolinecolor\": \"white\"}, \"zaxis\": {\"backgroundcolor\": \"#E5ECF6\", \"gridcolor\": \"white\", \"gridwidth\": 2, \"linecolor\": \"white\", \"showbackground\": true, \"ticks\": \"\", \"zerolinecolor\": \"white\"}}, \"shapedefaults\": {\"line\": {\"color\": \"#2a3f5f\"}}, \"ternary\": {\"aaxis\": {\"gridcolor\": \"white\", \"linecolor\": \"white\", \"ticks\": \"\"}, \"baxis\": {\"gridcolor\": \"white\", \"linecolor\": \"white\", \"ticks\": \"\"}, \"bgcolor\": \"#E5ECF6\", \"caxis\": {\"gridcolor\": \"white\", \"linecolor\": \"white\", \"ticks\": \"\"}}, \"title\": {\"x\": 0.05}, \"xaxis\": {\"automargin\": true, \"gridcolor\": \"white\", \"linecolor\": \"white\", \"ticks\": \"\", \"title\": {\"standoff\": 15}, \"zerolinecolor\": \"white\", \"zerolinewidth\": 2}, \"yaxis\": {\"automargin\": true, \"gridcolor\": \"white\", \"linecolor\": \"white\", \"ticks\": \"\", \"title\": {\"standoff\": 15}, \"zerolinecolor\": \"white\", \"zerolinewidth\": 2}}}, \"xaxis\": {\"anchor\": \"y\", \"domain\": [0.0, 0.7363], \"title\": {\"text\": \"Degree of Habituation of Response Probability\"}}, \"xaxis2\": {\"anchor\": \"y2\", \"domain\": [0.7413, 1.0], \"matches\": \"x2\", \"showgrid\": true, \"showline\": false, \"showticklabels\": false, \"ticks\": \"\"}, \"xaxis3\": {\"anchor\": \"y3\", \"domain\": [0.0, 0.7363], \"matches\": \"x\", \"showgrid\": true, \"showticklabels\": false}, \"xaxis4\": {\"anchor\": \"y4\", \"domain\": [0.7413, 1.0], \"matches\": \"x2\", \"showgrid\": true, \"showline\": false, \"showticklabels\": false, \"ticks\": \"\"}, \"yaxis\": {\"anchor\": \"x\", \"domain\": [0.0, 0.7326], \"title\": {\"text\": \"Initial Response Probability\"}}, \"yaxis2\": {\"anchor\": \"x2\", \"domain\": [0.0, 0.7326], \"matches\": \"y\", \"showgrid\": true, \"showticklabels\": false}, \"yaxis3\": {\"anchor\": \"x3\", \"domain\": [0.7426, 1.0], \"matches\": \"y3\", \"showgrid\": true, \"showline\": false, \"showticklabels\": false, \"ticks\": \"\"}, \"yaxis4\": {\"anchor\": \"x4\", \"domain\": [0.7426, 1.0], \"matches\": \"y3\", \"showgrid\": true, \"showline\": false, \"showticklabels\": false, \"ticks\": \"\"}},                        {\"responsive\": true}                    ).then(function(){\n",
       "                            \n",
       "var gd = document.getElementById('92c283af-feb4-49c7-85b7-f151bddd5405');\n",
       "var x = new MutationObserver(function (mutations, observer) {{\n",
       "        var display = window.getComputedStyle(gd).display;\n",
       "        if (!display || display === 'none') {{\n",
       "            console.log([gd, 'removed!']);\n",
       "            Plotly.purge(gd);\n",
       "            observer.disconnect();\n",
       "        }}\n",
       "}});\n",
       "\n",
       "// Listen for the removal of the full notebook cells\n",
       "var notebookContainer = gd.closest('#notebook-container');\n",
       "if (notebookContainer) {{\n",
       "    x.observe(notebookContainer, {childList: true});\n",
       "}}\n",
       "\n",
       "// Listen for the clearing of the current output cell\n",
       "var outputEl = gd.closest('.output');\n",
       "if (outputEl) {{\n",
       "    x.observe(outputEl, {childList: true});\n",
       "}}\n",
       "\n",
       "                        })                };                });            </script>        </div>"
      ]
     },
     "metadata": {},
     "output_type": "display_data"
    }
   ],
   "source": [
    "import plotly.express as px\n",
    "df = Tstat_Master # iris is a pandas DataFrame\n",
    "fig = px.scatter(df, \n",
    "                 x=\"T_hab_prob\", \n",
    "                 y=\"T_init_prob\", \n",
    "                 color=\"Screen\", \n",
    "                 labels=AxisNames,\n",
    "                 opacity=0.65,\n",
    "                 color_discrete_sequence=[\"black\", \"red\"],\n",
    "                 hover_name=\"Gene\", \n",
    "                 trendline = \"ols\",\n",
    "                 marginal_x = \"histogram\",\n",
    "                 marginal_y = \"histogram\",\n",
    "                 hover_data=['Allele'])\n",
    "fig.show()"
   ]
  },
  {
   "cell_type": "code",
   "execution_count": 105,
   "metadata": {},
   "outputs": [
    {
     "data": {
      "text/plain": [
       "'https://plotly.com/~JosephLiangUBC/1/'"
      ]
     },
     "execution_count": 105,
     "metadata": {},
     "output_type": "execute_result"
    }
   ],
   "source": [
    "py.plot(fig, filename = 'Initial_vs_Habituated_Probability', auto_open=True)"
   ]
  },
  {
   "cell_type": "code",
   "execution_count": 96,
   "metadata": {},
   "outputs": [
    {
     "name": "stdout",
     "output_type": "stream",
     "text": [
      "               T_init_dura  T_init_dist  T_init_prob  T_init_speed  \\\n",
      "T_init_dura       1.000000     0.925009     0.900220      0.053401   \n",
      "T_init_dist       0.925009     1.000000     0.890216      0.568301   \n",
      "T_init_prob       0.900220     0.890216     1.000000      0.185319   \n",
      "T_init_speed      0.053401     0.568301     0.185319      1.000000   \n",
      "T_final_dura      0.788551     0.798424     0.745880      0.086604   \n",
      "T_final_dist      0.713062     0.825125     0.719713      0.398508   \n",
      "T_final_prob      0.513711     0.572314     0.577666      0.111357   \n",
      "T_final_speed     0.017172     0.365087     0.263823      0.743423   \n",
      "T_hab_dura        0.966451     0.928372     0.879959      0.049215   \n",
      "T_hab_dist        0.863615     0.961147     0.860725      0.475841   \n",
      "T_hab_prob        0.574080     0.636979     0.729054      0.163407   \n",
      "T_hab_speed       0.001595     0.369231     0.100508      0.573542   \n",
      "\n",
      "               T_final_dura  T_final_dist  T_final_prob  T_final_speed  \\\n",
      "T_init_dura        0.788551      0.713062      0.513711       0.017172   \n",
      "T_init_dist        0.798424      0.825125      0.572314       0.365087   \n",
      "T_init_prob        0.745880      0.719713      0.577666       0.263823   \n",
      "T_init_speed       0.086604      0.398508      0.111357       0.743423   \n",
      "T_final_dura       1.000000      0.918540      0.615656       0.028468   \n",
      "T_final_dist       0.918540      1.000000      0.624366       0.388734   \n",
      "T_final_prob       0.615656      0.624366      1.000000       0.209638   \n",
      "T_final_speed      0.028468      0.388734      0.209638       1.000000   \n",
      "T_hab_dura         0.751105      0.681323      0.557801      -0.025250   \n",
      "T_hab_dist         0.722870      0.765786      0.563148       0.243256   \n",
      "T_hab_prob         0.537266      0.552710      0.340388       0.220935   \n",
      "T_hab_speed       -0.061659      0.059051     -0.117190       0.158127   \n",
      "\n",
      "               T_hab_dura  T_hab_dist  T_hab_prob  T_hab_speed  \n",
      "T_init_dura      0.966451    0.863615    0.574080     0.001595  \n",
      "T_init_dist      0.928372    0.961147    0.636979     0.369231  \n",
      "T_init_prob      0.879959    0.860725    0.729054     0.100508  \n",
      "T_init_speed     0.049215    0.475841    0.163407     0.573542  \n",
      "T_final_dura     0.751105    0.722870    0.537266    -0.061659  \n",
      "T_final_dist     0.681323    0.765786    0.552710     0.059051  \n",
      "T_final_prob     0.557801    0.563148    0.340388    -0.117190  \n",
      "T_final_speed   -0.025250    0.243256    0.220935     0.158127  \n",
      "T_hab_dura       1.000000    0.900202    0.601301     0.080823  \n",
      "T_hab_dist       0.900202    1.000000    0.645321     0.544287  \n",
      "T_hab_prob       0.601301    0.645321    1.000000     0.133768  \n",
      "T_hab_speed      0.080823    0.544287    0.133768     1.000000  \n",
      "               T_init_dura  T_init_dist  T_init_prob  T_init_speed  \\\n",
      "T_init_dura       1.000000     0.765077     0.576796      0.268995   \n",
      "T_init_dist       0.765077     1.000000     0.410152      0.705755   \n",
      "T_init_prob       0.576796     0.410152     1.000000      0.175957   \n",
      "T_init_speed      0.268995     0.705755     0.175957      1.000000   \n",
      "T_final_dura      0.374280     0.284225     0.323008     -0.021471   \n",
      "T_final_dist      0.360103     0.415685     0.267047      0.259275   \n",
      "T_final_prob      0.469651     0.414999     0.559922      0.178092   \n",
      "T_final_speed     0.220259     0.574139     0.207511      0.699169   \n",
      "T_hab_dura        0.857843     0.707998     0.573106      0.291612   \n",
      "T_hab_dist        0.703146     0.910684     0.421630      0.678656   \n",
      "T_hab_prob        0.110126     0.035745     0.419625     -0.126199   \n",
      "T_hab_speed       0.085748     0.404270     0.073754      0.617965   \n",
      "\n",
      "               T_final_dura  T_final_dist  T_final_prob  T_final_speed  \\\n",
      "T_init_dura        0.374280      0.360103      0.469651       0.220259   \n",
      "T_init_dist        0.284225      0.415685      0.414999       0.574139   \n",
      "T_init_prob        0.323008      0.267047      0.559922       0.207511   \n",
      "T_init_speed      -0.021471      0.259275      0.178092       0.699169   \n",
      "T_final_dura       1.000000      0.872344      0.354750       0.288418   \n",
      "T_final_dist       0.872344      1.000000      0.368045       0.582461   \n",
      "T_final_prob       0.354750      0.368045      1.000000       0.300640   \n",
      "T_final_speed      0.288418      0.582461      0.300640       1.000000   \n",
      "T_hab_dura         0.138356      0.138468      0.373918       0.133183   \n",
      "T_hab_dist         0.132217      0.263084      0.349209       0.495021   \n",
      "T_hab_prob         0.024286     -0.035464     -0.344803      -0.180603   \n",
      "T_hab_speed       -0.312409     -0.150849     -0.087757       0.230140   \n",
      "\n",
      "               T_hab_dura  T_hab_dist  T_hab_prob  T_hab_speed  \n",
      "T_init_dura      0.857843    0.703146    0.110126     0.085748  \n",
      "T_init_dist      0.707998    0.910684    0.035745     0.404270  \n",
      "T_init_prob      0.573106    0.421630    0.419625     0.073754  \n",
      "T_init_speed     0.291612    0.678656   -0.126199     0.617965  \n",
      "T_final_dura     0.138356    0.132217    0.024286    -0.312409  \n",
      "T_final_dist     0.138468    0.263084   -0.035464    -0.150849  \n",
      "T_final_prob     0.373918    0.349209   -0.344803    -0.087757  \n",
      "T_final_speed    0.133183    0.495021   -0.180603     0.230140  \n",
      "T_hab_dura       1.000000    0.795440    0.215600     0.266817  \n",
      "T_hab_dist       0.795440    1.000000    0.111237     0.522671  \n",
      "T_hab_prob       0.215600    0.111237    1.000000     0.098638  \n",
      "T_hab_speed      0.266817    0.522671    0.098638     1.000000  \n"
     ]
    }
   ],
   "source": [
    "Corr_ASD = Tstat_Master_ASD.corr()\n",
    "Corr_Neuron = Tstat_Master_Neuron.corr()\n",
    "Corr_Master = Tstat_Master.corr()\n",
    "print(Corr_ASD)\n",
    "print(Corr_Neuron)"
   ]
  },
  {
   "cell_type": "code",
   "execution_count": 103,
   "metadata": {},
   "outputs": [
    {
     "data": {
      "image/png": "[encoded data removed]",
      "text/plain": [
       "<Figure size 1080x504 with 3 Axes>"
      ]
     },
     "metadata": {
      "needs_background": "light"
     },
     "output_type": "display_data"
    }
   ],
   "source": [
    "import seaborn as sns\n",
    "sns.set_context(\"poster\")\n",
    "f,(ax1,ax2,axcb) = plt.subplots(1,3, \n",
    "            gridspec_kw={'width_ratios':[1,1,0.08]}, figsize = (15,7))\n",
    "ax1.get_shared_y_axes().join(ax2)\n",
    "f.suptitle('Correlations between T-scores of Different Response Habituation Components')\n",
    "g1 = sns.heatmap(Corr_Neuron,cmap=\"crest\",cbar=False,ax=ax1)\n",
    "g1.set_ylabel('')\n",
    "g1.set_xlabel(\"Andrew's Screen\")\n",
    "g2 = sns.heatmap(Corr_ASD,cmap=\"crest\",cbar_ax=axcb,ax=ax2)\n",
    "g2.set_ylabel('')\n",
    "g2.set_xlabel('ASD Screen')\n",
    "g2.set_yticks([])\n",
    "\n",
    "\n",
    "for ax in [g1,g2]:\n",
    "    tl = ax.get_xticklabels()\n",
    "    ax.set_xticklabels(tl, rotation=90)\n",
    "    tly = ax.get_yticklabels()\n",
    "    ax.set_yticklabels(tly, rotation=0)\n",
    "    \n",
    "plt.savefig('/Users/Joseph/Desktop/ScreenData/CorrelationPlots_Welch.png', format='png', dpi=450, bbox_inches = 'tight')"
   ]
  },
  {
   "cell_type": "code",
   "execution_count": 47,
   "metadata": {},
   "outputs": [
    {
     "ename": "TypeError",
     "evalue": "imshow() got an unexpected keyword argument 'facet_col'",
     "output_type": "error",
     "traceback": [
      "\u001b[0;31m---------------------------------------------------------------------------\u001b[0m",
      "\u001b[0;31mTypeError\u001b[0m                                 Traceback (most recent call last)",
      "\u001b[0;32m<ipython-input-47-79c6ec27c7f4>\u001b[0m in \u001b[0;36m<module>\u001b[0;34m\u001b[0m\n\u001b[0;32m----> 1\u001b[0;31m \u001b[0mfig\u001b[0m \u001b[0;34m=\u001b[0m \u001b[0mpx\u001b[0m\u001b[0;34m.\u001b[0m\u001b[0mimshow\u001b[0m\u001b[0;34m(\u001b[0m\u001b[0mCorr_Master\u001b[0m\u001b[0;34m,\u001b[0m \u001b[0mfacet_col\u001b[0m\u001b[0;34m=\u001b[0m\u001b[0;36m0\u001b[0m\u001b[0;34m)\u001b[0m\u001b[0;34m\u001b[0m\u001b[0;34m\u001b[0m\u001b[0m\n\u001b[0m\u001b[1;32m      2\u001b[0m \u001b[0mfig\u001b[0m\u001b[0;34m.\u001b[0m\u001b[0mshow\u001b[0m\u001b[0;34m(\u001b[0m\u001b[0;34m)\u001b[0m\u001b[0;34m\u001b[0m\u001b[0;34m\u001b[0m\u001b[0m\n",
      "\u001b[0;31mTypeError\u001b[0m: imshow() got an unexpected keyword argument 'facet_col'"
     ]
    }
   ],
   "source": [
    "fig = px.imshow(Corr_Master)\n",
    "fig.show()"
   ]
  },
  {
   "cell_type": "code",
   "execution_count": 40,
   "metadata": {},
   "outputs": [
    {
     "data": {
      "application/vnd.plotly.v1+json": {
       "config": {
        "plotlyServerURL": "https://plotly.com"
       },
       "data": [
        {
         "coloraxis": "coloraxis",
         "hovertemplate": "x: %{x}<br>y: %{y}<br>color: %{z}<extra></extra>",
         "type": "heatmap",
         "x": [
          "T_init_dura",
          "T_init_dist",
          "T_init_prob",
          "T_init_speed",
          "T_final_dura",
          "T_final_dist",
          "T_final_prob",
          "T_final_speed",
          "T_hab_dura",
          "T_hab_dist",
          "T_hab_prob",
          "T_hab_speed"
         ],
         "y": [
          "T_init_dura",
          "T_init_dist",
          "T_init_prob",
          "T_init_speed",
          "T_final_dura",
          "T_final_dist",
          "T_final_prob",
          "T_final_speed",
          "T_hab_dura",
          "T_hab_dist",
          "T_hab_prob",
          "T_hab_speed"
         ],
         "z": [
          [
           1,
           0.9250093361093676,
           0.9002204172935792,
           0.05340147192087294,
           0.7885513821008057,
           0.7130617527641958,
           0.5137114583403823,
           0.017172449962280862,
           0.9664506744728033,
           0.8636145963622189,
           0.574079728081204,
           0.0015949693307983094
          ],
          [
           0.9250093361093676,
           1,
           0.890215513979273,
           0.5683007369082829,
           0.7984239929480218,
           0.8251245649227149,
           0.5723140566437303,
           0.3650871384694823,
           0.9283722368327282,
           0.9611469752527563,
           0.63697929128571,
           0.36923088650651087
          ],
          [
           0.9002204172935792,
           0.890215513979273,
           1,
           0.1853186488611201,
           0.7458798345713681,
           0.7197131536690349,
           0.5776663951081857,
           0.26382291408236536,
           0.879959408926107,
           0.8607254586748627,
           0.729054377104713,
           0.1005076089004908
          ],
          [
           0.05340147192087294,
           0.5683007369082829,
           0.1853186488611201,
           1,
           0.08660411009106941,
           0.3985075954550749,
           0.11135691918342924,
           0.7434228839932919,
           0.04921475596042485,
           0.4758413010851941,
           0.16340678352153842,
           0.5735422581164975
          ],
          [
           0.7885513821008057,
           0.7984239929480218,
           0.7458798345713681,
           0.08660411009106941,
           1,
           0.9185399264651457,
           0.6156556091165487,
           0.02846840652194325,
           0.7511047861868161,
           0.7228695504743433,
           0.5372659145288686,
           -0.061658687538881235
          ],
          [
           0.7130617527641958,
           0.8251245649227149,
           0.7197131536690349,
           0.3985075954550749,
           0.9185399264651457,
           1,
           0.6243658654416708,
           0.3887338420972303,
           0.6813231136294448,
           0.7657863434436873,
           0.5527097032752938,
           0.0590505932610248
          ],
          [
           0.5137114583403823,
           0.5723140566437303,
           0.5776663951081857,
           0.11135691918342924,
           0.6156556091165487,
           0.6243658654416708,
           1,
           0.20963796440778337,
           0.5578011147606312,
           0.5631480545758981,
           0.34038791960919046,
           -0.11719018934005428
          ],
          [
           0.017172449962280862,
           0.3650871384694823,
           0.26382291408236536,
           0.7434228839932919,
           0.02846840652194325,
           0.3887338420972303,
           0.20963796440778337,
           1,
           -0.025250399271503556,
           0.24325616160674401,
           0.22093547323318477,
           0.15812678112197706
          ],
          [
           0.9664506744728033,
           0.9283722368327282,
           0.879959408926107,
           0.04921475596042485,
           0.7511047861868161,
           0.6813231136294448,
           0.5578011147606312,
           -0.025250399271503556,
           1,
           0.9002021669293497,
           0.6013012570431968,
           0.08082332203503663
          ],
          [
           0.8636145963622189,
           0.9611469752527563,
           0.8607254586748627,
           0.4758413010851941,
           0.7228695504743433,
           0.7657863434436873,
           0.5631480545758981,
           0.24325616160674401,
           0.9002021669293497,
           1,
           0.6453214664083562,
           0.5442867248256671
          ],
          [
           0.574079728081204,
           0.63697929128571,
           0.729054377104713,
           0.16340678352153842,
           0.5372659145288686,
           0.5527097032752938,
           0.34038791960919046,
           0.22093547323318477,
           0.6013012570431968,
           0.6453214664083562,
           1,
           0.13376795302670233
          ],
          [
           0.0015949693307983094,
           0.36923088650651087,
           0.1005076089004908,
           0.5735422581164975,
           -0.061658687538881235,
           0.0590505932610248,
           -0.11719018934005428,
           0.15812678112197706,
           0.08082332203503663,
           0.5442867248256671,
           0.13376795302670233,
           1
          ]
         ]
        }
       ],
       "layout": {
        "coloraxis": {
         "colorscale": [
          [
           0,
           "#0d0887"
          ],
          [
           0.1111111111111111,
           "#46039f"
          ],
          [
           0.2222222222222222,
           "#7201a8"
          ],
          [
           0.3333333333333333,
           "#9c179e"
          ],
          [
           0.4444444444444444,
           "#bd3786"
          ],
          [
           0.5555555555555556,
           "#d8576b"
          ],
          [
           0.6666666666666666,
           "#ed7953"
          ],
          [
           0.7777777777777778,
           "#fb9f3a"
          ],
          [
           0.8888888888888888,
           "#fdca26"
          ],
          [
           1,
           "#f0f921"
          ]
         ]
        },
        "margin": {
         "t": 60
        },
        "template": {
         "data": {
          "bar": [
           {
            "error_x": {
             "color": "#2a3f5f"
            },
            "error_y": {
             "color": "#2a3f5f"
            },
            "marker": {
             "line": {
              "color": "#E5ECF6",
              "width": 0.5
             }
            },
            "type": "bar"
           }
          ],
          "barpolar": [
           {
            "marker": {
             "line": {
              "color": "#E5ECF6",
              "width": 0.5
             }
            },
            "type": "barpolar"
           }
          ],
          "carpet": [
           {
            "aaxis": {
             "endlinecolor": "#2a3f5f",
             "gridcolor": "white",
             "linecolor": "white",
             "minorgridcolor": "white",
             "startlinecolor": "#2a3f5f"
            },
            "baxis": {
             "endlinecolor": "#2a3f5f",
             "gridcolor": "white",
             "linecolor": "white",
             "minorgridcolor": "white",
             "startlinecolor": "#2a3f5f"
            },
            "type": "carpet"
           }
          ],
          "choropleth": [
           {
            "colorbar": {
             "outlinewidth": 0,
             "ticks": ""
            },
            "type": "choropleth"
           }
          ],
          "contour": [
           {
            "colorbar": {
             "outlinewidth": 0,
             "ticks": ""
            },
            "colorscale": [
             [
              0,
              "#0d0887"
             ],
             [
              0.1111111111111111,
              "#46039f"
             ],
             [
              0.2222222222222222,
              "#7201a8"
             ],
             [
              0.3333333333333333,
              "#9c179e"
             ],
             [
              0.4444444444444444,
              "#bd3786"
             ],
             [
              0.5555555555555556,
              "#d8576b"
             ],
             [
              0.6666666666666666,
              "#ed7953"
             ],
             [
              0.7777777777777778,
              "#fb9f3a"
             ],
             [
              0.8888888888888888,
              "#fdca26"
             ],
             [
              1,
              "#f0f921"
             ]
            ],
            "type": "contour"
           }
          ],
          "contourcarpet": [
           {
            "colorbar": {
             "outlinewidth": 0,
             "ticks": ""
            },
            "type": "contourcarpet"
           }
          ],
          "heatmap": [
           {
            "colorbar": {
             "outlinewidth": 0,
             "ticks": ""
            },
            "colorscale": [
             [
              0,
              "#0d0887"
             ],
             [
              0.1111111111111111,
              "#46039f"
             ],
             [
              0.2222222222222222,
              "#7201a8"
             ],
             [
              0.3333333333333333,
              "#9c179e"
             ],
             [
              0.4444444444444444,
              "#bd3786"
             ],
             [
              0.5555555555555556,
              "#d8576b"
             ],
             [
              0.6666666666666666,
              "#ed7953"
             ],
             [
              0.7777777777777778,
              "#fb9f3a"
             ],
             [
              0.8888888888888888,
              "#fdca26"
             ],
             [
              1,
              "#f0f921"
             ]
            ],
            "type": "heatmap"
           }
          ],
          "heatmapgl": [
           {
            "colorbar": {
             "outlinewidth": 0,
             "ticks": ""
            },
            "colorscale": [
             [
              0,
              "#0d0887"
             ],
             [
              0.1111111111111111,
              "#46039f"
             ],
             [
              0.2222222222222222,
              "#7201a8"
             ],
             [
              0.3333333333333333,
              "#9c179e"
             ],
             [
              0.4444444444444444,
              "#bd3786"
             ],
             [
              0.5555555555555556,
              "#d8576b"
             ],
             [
              0.6666666666666666,
              "#ed7953"
             ],
             [
              0.7777777777777778,
              "#fb9f3a"
             ],
             [
              0.8888888888888888,
              "#fdca26"
             ],
             [
              1,
              "#f0f921"
             ]
            ],
            "type": "heatmapgl"
           }
          ],
          "histogram": [
           {
            "marker": {
             "colorbar": {
              "outlinewidth": 0,
              "ticks": ""
             }
            },
            "type": "histogram"
           }
          ],
          "histogram2d": [
           {
            "colorbar": {
             "outlinewidth": 0,
             "ticks": ""
            },
            "colorscale": [
             [
              0,
              "#0d0887"
             ],
             [
              0.1111111111111111,
              "#46039f"
             ],
             [
              0.2222222222222222,
              "#7201a8"
             ],
             [
              0.3333333333333333,
              "#9c179e"
             ],
             [
              0.4444444444444444,
              "#bd3786"
             ],
             [
              0.5555555555555556,
              "#d8576b"
             ],
             [
              0.6666666666666666,
              "#ed7953"
             ],
             [
              0.7777777777777778,
              "#fb9f3a"
             ],
             [
              0.8888888888888888,
              "#fdca26"
             ],
             [
              1,
              "#f0f921"
             ]
            ],
            "type": "histogram2d"
           }
          ],
          "histogram2dcontour": [
           {
            "colorbar": {
             "outlinewidth": 0,
             "ticks": ""
            },
            "colorscale": [
             [
              0,
              "#0d0887"
             ],
             [
              0.1111111111111111,
              "#46039f"
             ],
             [
              0.2222222222222222,
              "#7201a8"
             ],
             [
              0.3333333333333333,
              "#9c179e"
             ],
             [
              0.4444444444444444,
              "#bd3786"
             ],
             [
              0.5555555555555556,
              "#d8576b"
             ],
             [
              0.6666666666666666,
              "#ed7953"
             ],
             [
              0.7777777777777778,
              "#fb9f3a"
             ],
             [
              0.8888888888888888,
              "#fdca26"
             ],
             [
              1,
              "#f0f921"
             ]
            ],
            "type": "histogram2dcontour"
           }
          ],
          "mesh3d": [
           {
            "colorbar": {
             "outlinewidth": 0,
             "ticks": ""
            },
            "type": "mesh3d"
           }
          ],
          "parcoords": [
           {
            "line": {
             "colorbar": {
              "outlinewidth": 0,
              "ticks": ""
             }
            },
            "type": "parcoords"
           }
          ],
          "pie": [
           {
            "automargin": true,
            "type": "pie"
           }
          ],
          "scatter": [
           {
            "marker": {
             "colorbar": {
              "outlinewidth": 0,
              "ticks": ""
             }
            },
            "type": "scatter"
           }
          ],
          "scatter3d": [
           {
            "line": {
             "colorbar": {
              "outlinewidth": 0,
              "ticks": ""
             }
            },
            "marker": {
             "colorbar": {
              "outlinewidth": 0,
              "ticks": ""
             }
            },
            "type": "scatter3d"
           }
          ],
          "scattercarpet": [
           {
            "marker": {
             "colorbar": {
              "outlinewidth": 0,
              "ticks": ""
             }
            },
            "type": "scattercarpet"
           }
          ],
          "scattergeo": [
           {
            "marker": {
             "colorbar": {
              "outlinewidth": 0,
              "ticks": ""
             }
            },
            "type": "scattergeo"
           }
          ],
          "scattergl": [
           {
            "marker": {
             "colorbar": {
              "outlinewidth": 0,
              "ticks": ""
             }
            },
            "type": "scattergl"
           }
          ],
          "scattermapbox": [
           {
            "marker": {
             "colorbar": {
              "outlinewidth": 0,
              "ticks": ""
             }
            },
            "type": "scattermapbox"
           }
          ],
          "scatterpolar": [
           {
            "marker": {
             "colorbar": {
              "outlinewidth": 0,
              "ticks": ""
             }
            },
            "type": "scatterpolar"
           }
          ],
          "scatterpolargl": [
           {
            "marker": {
             "colorbar": {
              "outlinewidth": 0,
              "ticks": ""
             }
            },
            "type": "scatterpolargl"
           }
          ],
          "scatterternary": [
           {
            "marker": {
             "colorbar": {
              "outlinewidth": 0,
              "ticks": ""
             }
            },
            "type": "scatterternary"
           }
          ],
          "surface": [
           {
            "colorbar": {
             "outlinewidth": 0,
             "ticks": ""
            },
            "colorscale": [
             [
              0,
              "#0d0887"
             ],
             [
              0.1111111111111111,
              "#46039f"
             ],
             [
              0.2222222222222222,
              "#7201a8"
             ],
             [
              0.3333333333333333,
              "#9c179e"
             ],
             [
              0.4444444444444444,
              "#bd3786"
             ],
             [
              0.5555555555555556,
              "#d8576b"
             ],
             [
              0.6666666666666666,
              "#ed7953"
             ],
             [
              0.7777777777777778,
              "#fb9f3a"
             ],
             [
              0.8888888888888888,
              "#fdca26"
             ],
             [
              1,
              "#f0f921"
             ]
            ],
            "type": "surface"
           }
          ],
          "table": [
           {
            "cells": {
             "fill": {
              "color": "#EBF0F8"
             },
             "line": {
              "color": "white"
             }
            },
            "header": {
             "fill": {
              "color": "#C8D4E3"
             },
             "line": {
              "color": "white"
             }
            },
            "type": "table"
           }
          ]
         },
         "layout": {
          "annotationdefaults": {
           "arrowcolor": "#2a3f5f",
           "arrowhead": 0,
           "arrowwidth": 1
          },
          "coloraxis": {
           "colorbar": {
            "outlinewidth": 0,
            "ticks": ""
           }
          },
          "colorscale": {
           "diverging": [
            [
             0,
             "#8e0152"
            ],
            [
             0.1,
             "#c51b7d"
            ],
            [
             0.2,
             "#de77ae"
            ],
            [
             0.3,
             "#f1b6da"
            ],
            [
             0.4,
             "#fde0ef"
            ],
            [
             0.5,
             "#f7f7f7"
            ],
            [
             0.6,
             "#e6f5d0"
            ],
            [
             0.7,
             "#b8e186"
            ],
            [
             0.8,
             "#7fbc41"
            ],
            [
             0.9,
             "#4d9221"
            ],
            [
             1,
             "#276419"
            ]
           ],
           "sequential": [
            [
             0,
             "#0d0887"
            ],
            [
             0.1111111111111111,
             "#46039f"
            ],
            [
             0.2222222222222222,
             "#7201a8"
            ],
            [
             0.3333333333333333,
             "#9c179e"
            ],
            [
             0.4444444444444444,
             "#bd3786"
            ],
            [
             0.5555555555555556,
             "#d8576b"
            ],
            [
             0.6666666666666666,
             "#ed7953"
            ],
            [
             0.7777777777777778,
             "#fb9f3a"
            ],
            [
             0.8888888888888888,
             "#fdca26"
            ],
            [
             1,
             "#f0f921"
            ]
           ],
           "sequentialminus": [
            [
             0,
             "#0d0887"
            ],
            [
             0.1111111111111111,
             "#46039f"
            ],
            [
             0.2222222222222222,
             "#7201a8"
            ],
            [
             0.3333333333333333,
             "#9c179e"
            ],
            [
             0.4444444444444444,
             "#bd3786"
            ],
            [
             0.5555555555555556,
             "#d8576b"
            ],
            [
             0.6666666666666666,
             "#ed7953"
            ],
            [
             0.7777777777777778,
             "#fb9f3a"
            ],
            [
             0.8888888888888888,
             "#fdca26"
            ],
            [
             1,
             "#f0f921"
            ]
           ]
          },
          "colorway": [
           "#636efa",
           "#EF553B",
           "#00cc96",
           "#ab63fa",
           "#FFA15A",
           "#19d3f3",
           "#FF6692",
           "#B6E880",
           "#FF97FF",
           "#FECB52"
          ],
          "font": {
           "color": "#2a3f5f"
          },
          "geo": {
           "bgcolor": "white",
           "lakecolor": "white",
           "landcolor": "#E5ECF6",
           "showlakes": true,
           "showland": true,
           "subunitcolor": "white"
          },
          "hoverlabel": {
           "align": "left"
          },
          "hovermode": "closest",
          "mapbox": {
           "style": "light"
          },
          "paper_bgcolor": "white",
          "plot_bgcolor": "#E5ECF6",
          "polar": {
           "angularaxis": {
            "gridcolor": "white",
            "linecolor": "white",
            "ticks": ""
           },
           "bgcolor": "#E5ECF6",
           "radialaxis": {
            "gridcolor": "white",
            "linecolor": "white",
            "ticks": ""
           }
          },
          "scene": {
           "xaxis": {
            "backgroundcolor": "#E5ECF6",
            "gridcolor": "white",
            "gridwidth": 2,
            "linecolor": "white",
            "showbackground": true,
            "ticks": "",
            "zerolinecolor": "white"
           },
           "yaxis": {
            "backgroundcolor": "#E5ECF6",
            "gridcolor": "white",
            "gridwidth": 2,
            "linecolor": "white",
            "showbackground": true,
            "ticks": "",
            "zerolinecolor": "white"
           },
           "zaxis": {
            "backgroundcolor": "#E5ECF6",
            "gridcolor": "white",
            "gridwidth": 2,
            "linecolor": "white",
            "showbackground": true,
            "ticks": "",
            "zerolinecolor": "white"
           }
          },
          "shapedefaults": {
           "line": {
            "color": "#2a3f5f"
           }
          },
          "ternary": {
           "aaxis": {
            "gridcolor": "white",
            "linecolor": "white",
            "ticks": ""
           },
           "baxis": {
            "gridcolor": "white",
            "linecolor": "white",
            "ticks": ""
           },
           "bgcolor": "#E5ECF6",
           "caxis": {
            "gridcolor": "white",
            "linecolor": "white",
            "ticks": ""
           }
          },
          "title": {
           "x": 0.05
          },
          "xaxis": {
           "automargin": true,
           "gridcolor": "white",
           "linecolor": "white",
           "ticks": "",
           "title": {
            "standoff": 15
           },
           "zerolinecolor": "white",
           "zerolinewidth": 2
          },
          "yaxis": {
           "automargin": true,
           "gridcolor": "white",
           "linecolor": "white",
           "ticks": "",
           "title": {
            "standoff": 15
           },
           "zerolinecolor": "white",
           "zerolinewidth": 2
          }
         }
        },
        "xaxis": {
         "constrain": "domain",
         "scaleanchor": "y"
        },
        "yaxis": {
         "autorange": "reversed",
         "constrain": "domain"
        }
       }
      },
      "text/html": [
       "<div>                            <div id=\"14bd5faf-ea3c-4f5d-8062-3bee1a89e7a8\" class=\"plotly-graph-div\" style=\"height:525px; width:100%;\"></div>            <script type=\"text/javascript\">                require([\"plotly\"], function(Plotly) {                    window.PLOTLYENV=window.PLOTLYENV || {};                                    if (document.getElementById(\"14bd5faf-ea3c-4f5d-8062-3bee1a89e7a8\")) {                    Plotly.newPlot(                        \"14bd5faf-ea3c-4f5d-8062-3bee1a89e7a8\",                        [{\"coloraxis\": \"coloraxis\", \"hovertemplate\": \"x: %{x}<br>y: %{y}<br>color: %{z}<extra></extra>\", \"type\": \"heatmap\", \"x\": [\"T_init_dura\", \"T_init_dist\", \"T_init_prob\", \"T_init_speed\", \"T_final_dura\", \"T_final_dist\", \"T_final_prob\", \"T_final_speed\", \"T_hab_dura\", \"T_hab_dist\", \"T_hab_prob\", \"T_hab_speed\"], \"y\": [\"T_init_dura\", \"T_init_dist\", \"T_init_prob\", \"T_init_speed\", \"T_final_dura\", \"T_final_dist\", \"T_final_prob\", \"T_final_speed\", \"T_hab_dura\", \"T_hab_dist\", \"T_hab_prob\", \"T_hab_speed\"], \"z\": [[1.0, 0.9250093361093676, 0.9002204172935792, 0.05340147192087294, 0.7885513821008057, 0.7130617527641958, 0.5137114583403823, 0.017172449962280862, 0.9664506744728033, 0.8636145963622189, 0.574079728081204, 0.0015949693307983094], [0.9250093361093676, 1.0, 0.890215513979273, 0.5683007369082829, 0.7984239929480218, 0.8251245649227149, 0.5723140566437303, 0.3650871384694823, 0.9283722368327282, 0.9611469752527563, 0.63697929128571, 0.36923088650651087], [0.9002204172935792, 0.890215513979273, 1.0, 0.1853186488611201, 0.7458798345713681, 0.7197131536690349, 0.5776663951081857, 0.26382291408236536, 0.879959408926107, 0.8607254586748627, 0.729054377104713, 0.1005076089004908], [0.05340147192087294, 0.5683007369082829, 0.1853186488611201, 1.0, 0.08660411009106941, 0.3985075954550749, 0.11135691918342924, 0.7434228839932919, 0.04921475596042485, 0.4758413010851941, 0.16340678352153842, 0.5735422581164975], [0.7885513821008057, 0.7984239929480218, 0.7458798345713681, 0.08660411009106941, 1.0, 0.9185399264651457, 0.6156556091165487, 0.02846840652194325, 0.7511047861868161, 0.7228695504743433, 0.5372659145288686, -0.061658687538881235], [0.7130617527641958, 0.8251245649227149, 0.7197131536690349, 0.3985075954550749, 0.9185399264651457, 1.0, 0.6243658654416708, 0.3887338420972303, 0.6813231136294448, 0.7657863434436873, 0.5527097032752938, 0.0590505932610248], [0.5137114583403823, 0.5723140566437303, 0.5776663951081857, 0.11135691918342924, 0.6156556091165487, 0.6243658654416708, 1.0, 0.20963796440778337, 0.5578011147606312, 0.5631480545758981, 0.34038791960919046, -0.11719018934005428], [0.017172449962280862, 0.3650871384694823, 0.26382291408236536, 0.7434228839932919, 0.02846840652194325, 0.3887338420972303, 0.20963796440778337, 1.0, -0.025250399271503556, 0.24325616160674401, 0.22093547323318477, 0.15812678112197706], [0.9664506744728033, 0.9283722368327282, 0.879959408926107, 0.04921475596042485, 0.7511047861868161, 0.6813231136294448, 0.5578011147606312, -0.025250399271503556, 1.0, 0.9002021669293497, 0.6013012570431968, 0.08082332203503663], [0.8636145963622189, 0.9611469752527563, 0.8607254586748627, 0.4758413010851941, 0.7228695504743433, 0.7657863434436873, 0.5631480545758981, 0.24325616160674401, 0.9002021669293497, 1.0, 0.6453214664083562, 0.5442867248256671], [0.574079728081204, 0.63697929128571, 0.729054377104713, 0.16340678352153842, 0.5372659145288686, 0.5527097032752938, 0.34038791960919046, 0.22093547323318477, 0.6013012570431968, 0.6453214664083562, 1.0, 0.13376795302670233], [0.0015949693307983094, 0.36923088650651087, 0.1005076089004908, 0.5735422581164975, -0.061658687538881235, 0.0590505932610248, -0.11719018934005428, 0.15812678112197706, 0.08082332203503663, 0.5442867248256671, 0.13376795302670233, 1.0]]}],                        {\"coloraxis\": {\"colorscale\": [[0.0, \"#0d0887\"], [0.1111111111111111, \"#46039f\"], [0.2222222222222222, \"#7201a8\"], [0.3333333333333333, \"#9c179e\"], [0.4444444444444444, \"#bd3786\"], [0.5555555555555556, \"#d8576b\"], [0.6666666666666666, \"#ed7953\"], [0.7777777777777778, \"#fb9f3a\"], [0.8888888888888888, \"#fdca26\"], [1.0, \"#f0f921\"]]}, \"margin\": {\"t\": 60}, \"template\": {\"data\": {\"bar\": [{\"error_x\": {\"color\": \"#2a3f5f\"}, \"error_y\": {\"color\": \"#2a3f5f\"}, \"marker\": {\"line\": {\"color\": \"#E5ECF6\", \"width\": 0.5}}, \"type\": \"bar\"}], \"barpolar\": [{\"marker\": {\"line\": {\"color\": \"#E5ECF6\", \"width\": 0.5}}, \"type\": \"barpolar\"}], \"carpet\": [{\"aaxis\": {\"endlinecolor\": \"#2a3f5f\", \"gridcolor\": \"white\", \"linecolor\": \"white\", \"minorgridcolor\": \"white\", \"startlinecolor\": \"#2a3f5f\"}, \"baxis\": {\"endlinecolor\": \"#2a3f5f\", \"gridcolor\": \"white\", \"linecolor\": \"white\", \"minorgridcolor\": \"white\", \"startlinecolor\": \"#2a3f5f\"}, \"type\": \"carpet\"}], \"choropleth\": [{\"colorbar\": {\"outlinewidth\": 0, \"ticks\": \"\"}, \"type\": \"choropleth\"}], \"contour\": [{\"colorbar\": {\"outlinewidth\": 0, \"ticks\": \"\"}, \"colorscale\": [[0.0, \"#0d0887\"], [0.1111111111111111, \"#46039f\"], [0.2222222222222222, \"#7201a8\"], [0.3333333333333333, \"#9c179e\"], [0.4444444444444444, \"#bd3786\"], [0.5555555555555556, \"#d8576b\"], [0.6666666666666666, \"#ed7953\"], [0.7777777777777778, \"#fb9f3a\"], [0.8888888888888888, \"#fdca26\"], [1.0, \"#f0f921\"]], \"type\": \"contour\"}], \"contourcarpet\": [{\"colorbar\": {\"outlinewidth\": 0, \"ticks\": \"\"}, \"type\": \"contourcarpet\"}], \"heatmap\": [{\"colorbar\": {\"outlinewidth\": 0, \"ticks\": \"\"}, \"colorscale\": [[0.0, \"#0d0887\"], [0.1111111111111111, \"#46039f\"], [0.2222222222222222, \"#7201a8\"], [0.3333333333333333, \"#9c179e\"], [0.4444444444444444, \"#bd3786\"], [0.5555555555555556, \"#d8576b\"], [0.6666666666666666, \"#ed7953\"], [0.7777777777777778, \"#fb9f3a\"], [0.8888888888888888, \"#fdca26\"], [1.0, \"#f0f921\"]], \"type\": \"heatmap\"}], \"heatmapgl\": [{\"colorbar\": {\"outlinewidth\": 0, \"ticks\": \"\"}, \"colorscale\": [[0.0, \"#0d0887\"], [0.1111111111111111, \"#46039f\"], [0.2222222222222222, \"#7201a8\"], [0.3333333333333333, \"#9c179e\"], [0.4444444444444444, \"#bd3786\"], [0.5555555555555556, \"#d8576b\"], [0.6666666666666666, \"#ed7953\"], [0.7777777777777778, \"#fb9f3a\"], [0.8888888888888888, \"#fdca26\"], [1.0, \"#f0f921\"]], \"type\": \"heatmapgl\"}], \"histogram\": [{\"marker\": {\"colorbar\": {\"outlinewidth\": 0, \"ticks\": \"\"}}, \"type\": \"histogram\"}], \"histogram2d\": [{\"colorbar\": {\"outlinewidth\": 0, \"ticks\": \"\"}, \"colorscale\": [[0.0, \"#0d0887\"], [0.1111111111111111, \"#46039f\"], [0.2222222222222222, \"#7201a8\"], [0.3333333333333333, \"#9c179e\"], [0.4444444444444444, \"#bd3786\"], [0.5555555555555556, \"#d8576b\"], [0.6666666666666666, \"#ed7953\"], [0.7777777777777778, \"#fb9f3a\"], [0.8888888888888888, \"#fdca26\"], [1.0, \"#f0f921\"]], \"type\": \"histogram2d\"}], \"histogram2dcontour\": [{\"colorbar\": {\"outlinewidth\": 0, \"ticks\": \"\"}, \"colorscale\": [[0.0, \"#0d0887\"], [0.1111111111111111, \"#46039f\"], [0.2222222222222222, \"#7201a8\"], [0.3333333333333333, \"#9c179e\"], [0.4444444444444444, \"#bd3786\"], [0.5555555555555556, \"#d8576b\"], [0.6666666666666666, \"#ed7953\"], [0.7777777777777778, \"#fb9f3a\"], [0.8888888888888888, \"#fdca26\"], [1.0, \"#f0f921\"]], \"type\": \"histogram2dcontour\"}], \"mesh3d\": [{\"colorbar\": {\"outlinewidth\": 0, \"ticks\": \"\"}, \"type\": \"mesh3d\"}], \"parcoords\": [{\"line\": {\"colorbar\": {\"outlinewidth\": 0, \"ticks\": \"\"}}, \"type\": \"parcoords\"}], \"pie\": [{\"automargin\": true, \"type\": \"pie\"}], \"scatter\": [{\"marker\": {\"colorbar\": {\"outlinewidth\": 0, \"ticks\": \"\"}}, \"type\": \"scatter\"}], \"scatter3d\": [{\"line\": {\"colorbar\": {\"outlinewidth\": 0, \"ticks\": \"\"}}, \"marker\": {\"colorbar\": {\"outlinewidth\": 0, \"ticks\": \"\"}}, \"type\": \"scatter3d\"}], \"scattercarpet\": [{\"marker\": {\"colorbar\": {\"outlinewidth\": 0, \"ticks\": \"\"}}, \"type\": \"scattercarpet\"}], \"scattergeo\": [{\"marker\": {\"colorbar\": {\"outlinewidth\": 0, \"ticks\": \"\"}}, \"type\": \"scattergeo\"}], \"scattergl\": [{\"marker\": {\"colorbar\": {\"outlinewidth\": 0, \"ticks\": \"\"}}, \"type\": \"scattergl\"}], \"scattermapbox\": [{\"marker\": {\"colorbar\": {\"outlinewidth\": 0, \"ticks\": \"\"}}, \"type\": \"scattermapbox\"}], \"scatterpolar\": [{\"marker\": {\"colorbar\": {\"outlinewidth\": 0, \"ticks\": \"\"}}, \"type\": \"scatterpolar\"}], \"scatterpolargl\": [{\"marker\": {\"colorbar\": {\"outlinewidth\": 0, \"ticks\": \"\"}}, \"type\": \"scatterpolargl\"}], \"scatterternary\": [{\"marker\": {\"colorbar\": {\"outlinewidth\": 0, \"ticks\": \"\"}}, \"type\": \"scatterternary\"}], \"surface\": [{\"colorbar\": {\"outlinewidth\": 0, \"ticks\": \"\"}, \"colorscale\": [[0.0, \"#0d0887\"], [0.1111111111111111, \"#46039f\"], [0.2222222222222222, \"#7201a8\"], [0.3333333333333333, \"#9c179e\"], [0.4444444444444444, \"#bd3786\"], [0.5555555555555556, \"#d8576b\"], [0.6666666666666666, \"#ed7953\"], [0.7777777777777778, \"#fb9f3a\"], [0.8888888888888888, \"#fdca26\"], [1.0, \"#f0f921\"]], \"type\": \"surface\"}], \"table\": [{\"cells\": {\"fill\": {\"color\": \"#EBF0F8\"}, \"line\": {\"color\": \"white\"}}, \"header\": {\"fill\": {\"color\": \"#C8D4E3\"}, \"line\": {\"color\": \"white\"}}, \"type\": \"table\"}]}, \"layout\": {\"annotationdefaults\": {\"arrowcolor\": \"#2a3f5f\", \"arrowhead\": 0, \"arrowwidth\": 1}, \"coloraxis\": {\"colorbar\": {\"outlinewidth\": 0, \"ticks\": \"\"}}, \"colorscale\": {\"diverging\": [[0, \"#8e0152\"], [0.1, \"#c51b7d\"], [0.2, \"#de77ae\"], [0.3, \"#f1b6da\"], [0.4, \"#fde0ef\"], [0.5, \"#f7f7f7\"], [0.6, \"#e6f5d0\"], [0.7, \"#b8e186\"], [0.8, \"#7fbc41\"], [0.9, \"#4d9221\"], [1, \"#276419\"]], \"sequential\": [[0.0, \"#0d0887\"], [0.1111111111111111, \"#46039f\"], [0.2222222222222222, \"#7201a8\"], [0.3333333333333333, \"#9c179e\"], [0.4444444444444444, \"#bd3786\"], [0.5555555555555556, \"#d8576b\"], [0.6666666666666666, \"#ed7953\"], [0.7777777777777778, \"#fb9f3a\"], [0.8888888888888888, \"#fdca26\"], [1.0, \"#f0f921\"]], \"sequentialminus\": [[0.0, \"#0d0887\"], [0.1111111111111111, \"#46039f\"], [0.2222222222222222, \"#7201a8\"], [0.3333333333333333, \"#9c179e\"], [0.4444444444444444, \"#bd3786\"], [0.5555555555555556, \"#d8576b\"], [0.6666666666666666, \"#ed7953\"], [0.7777777777777778, \"#fb9f3a\"], [0.8888888888888888, \"#fdca26\"], [1.0, \"#f0f921\"]]}, \"colorway\": [\"#636efa\", \"#EF553B\", \"#00cc96\", \"#ab63fa\", \"#FFA15A\", \"#19d3f3\", \"#FF6692\", \"#B6E880\", \"#FF97FF\", \"#FECB52\"], \"font\": {\"color\": \"#2a3f5f\"}, \"geo\": {\"bgcolor\": \"white\", \"lakecolor\": \"white\", \"landcolor\": \"#E5ECF6\", \"showlakes\": true, \"showland\": true, \"subunitcolor\": \"white\"}, \"hoverlabel\": {\"align\": \"left\"}, \"hovermode\": \"closest\", \"mapbox\": {\"style\": \"light\"}, \"paper_bgcolor\": \"white\", \"plot_bgcolor\": \"#E5ECF6\", \"polar\": {\"angularaxis\": {\"gridcolor\": \"white\", \"linecolor\": \"white\", \"ticks\": \"\"}, \"bgcolor\": \"#E5ECF6\", \"radialaxis\": {\"gridcolor\": \"white\", \"linecolor\": \"white\", \"ticks\": \"\"}}, \"scene\": {\"xaxis\": {\"backgroundcolor\": \"#E5ECF6\", \"gridcolor\": \"white\", \"gridwidth\": 2, \"linecolor\": \"white\", \"showbackground\": true, \"ticks\": \"\", \"zerolinecolor\": \"white\"}, \"yaxis\": {\"backgroundcolor\": \"#E5ECF6\", \"gridcolor\": \"white\", \"gridwidth\": 2, \"linecolor\": \"white\", \"showbackground\": true, \"ticks\": \"\", \"zerolinecolor\": \"white\"}, \"zaxis\": {\"backgroundcolor\": \"#E5ECF6\", \"gridcolor\": \"white\", \"gridwidth\": 2, \"linecolor\": \"white\", \"showbackground\": true, \"ticks\": \"\", \"zerolinecolor\": \"white\"}}, \"shapedefaults\": {\"line\": {\"color\": \"#2a3f5f\"}}, \"ternary\": {\"aaxis\": {\"gridcolor\": \"white\", \"linecolor\": \"white\", \"ticks\": \"\"}, \"baxis\": {\"gridcolor\": \"white\", \"linecolor\": \"white\", \"ticks\": \"\"}, \"bgcolor\": \"#E5ECF6\", \"caxis\": {\"gridcolor\": \"white\", \"linecolor\": \"white\", \"ticks\": \"\"}}, \"title\": {\"x\": 0.05}, \"xaxis\": {\"automargin\": true, \"gridcolor\": \"white\", \"linecolor\": \"white\", \"ticks\": \"\", \"title\": {\"standoff\": 15}, \"zerolinecolor\": \"white\", \"zerolinewidth\": 2}, \"yaxis\": {\"automargin\": true, \"gridcolor\": \"white\", \"linecolor\": \"white\", \"ticks\": \"\", \"title\": {\"standoff\": 15}, \"zerolinecolor\": \"white\", \"zerolinewidth\": 2}}}, \"xaxis\": {\"constrain\": \"domain\", \"scaleanchor\": \"y\"}, \"yaxis\": {\"autorange\": \"reversed\", \"constrain\": \"domain\"}},                        {\"responsive\": true}                    ).then(function(){\n",
       "                            \n",
       "var gd = document.getElementById('14bd5faf-ea3c-4f5d-8062-3bee1a89e7a8');\n",
       "var x = new MutationObserver(function (mutations, observer) {{\n",
       "        var display = window.getComputedStyle(gd).display;\n",
       "        if (!display || display === 'none') {{\n",
       "            console.log([gd, 'removed!']);\n",
       "            Plotly.purge(gd);\n",
       "            observer.disconnect();\n",
       "        }}\n",
       "}});\n",
       "\n",
       "// Listen for the removal of the full notebook cells\n",
       "var notebookContainer = gd.closest('#notebook-container');\n",
       "if (notebookContainer) {{\n",
       "    x.observe(notebookContainer, {childList: true});\n",
       "}}\n",
       "\n",
       "// Listen for the clearing of the current output cell\n",
       "var outputEl = gd.closest('.output');\n",
       "if (outputEl) {{\n",
       "    x.observe(outputEl, {childList: true});\n",
       "}}\n",
       "\n",
       "                        })                };                });            </script>        </div>"
      ]
     },
     "metadata": {},
     "output_type": "display_data"
    }
   ],
   "source": [
    "fig = px.imshow(Corr_ASD, labels=AxisNames)\n",
    "fig.show()"
   ]
  },
  {
   "cell_type": "code",
   "execution_count": 39,
   "metadata": {},
   "outputs": [
    {
     "data": {
      "application/vnd.plotly.v1+json": {
       "config": {
        "plotlyServerURL": "https://plotly.com"
       },
       "data": [
        {
         "coloraxis": "coloraxis",
         "hovertemplate": "x: %{x}<br>y: %{y}<br>color: %{z}<extra></extra>",
         "type": "heatmap",
         "x": [
          "T_init_dura",
          "T_init_dist",
          "T_init_prob",
          "T_init_speed",
          "T_final_dura",
          "T_final_dist",
          "T_final_prob",
          "T_final_speed",
          "T_hab_dura",
          "T_hab_dist",
          "T_hab_prob",
          "T_hab_speed"
         ],
         "y": [
          "T_init_dura",
          "T_init_dist",
          "T_init_prob",
          "T_init_speed",
          "T_final_dura",
          "T_final_dist",
          "T_final_prob",
          "T_final_speed",
          "T_hab_dura",
          "T_hab_dist",
          "T_hab_prob",
          "T_hab_speed"
         ],
         "z": [
          [
           1,
           0.7650773621340123,
           0.5767961162610934,
           0.26899532197682074,
           0.37427994050590835,
           0.3601029251429246,
           0.46965107478382884,
           0.22025924776065284,
           0.8578432662155328,
           0.7031463292916492,
           0.11012609185523466,
           0.08574849990434749
          ],
          [
           0.7650773621340123,
           1,
           0.41015214558229646,
           0.7057545565607909,
           0.2842247449872102,
           0.4156847361626096,
           0.41499904259696435,
           0.5741386889532937,
           0.7079978753427244,
           0.9106842829282429,
           0.03574521634859648,
           0.4042696073832694
          ],
          [
           0.5767961162610934,
           0.41015214558229646,
           1,
           0.17595655667428367,
           0.3230081120425546,
           0.26704726257117045,
           0.5599224648163524,
           0.20751078531424552,
           0.5731060422385535,
           0.4216297332732389,
           0.419625077840291,
           0.07375353936186997
          ],
          [
           0.26899532197682074,
           0.7057545565607909,
           0.17595655667428367,
           1,
           -0.021471239104730862,
           0.2592745308650069,
           0.17809200502586228,
           0.6991686150155862,
           0.2916121422064645,
           0.6786557723334077,
           -0.12619878618522296,
           0.6179652049753921
          ],
          [
           0.37427994050590835,
           0.2842247449872102,
           0.3230081120425546,
           -0.021471239104730862,
           1,
           0.8723435823187979,
           0.35475035543560024,
           0.2884182219958528,
           0.1383563212087665,
           0.13221690354992582,
           0.024285819658349493,
           -0.3124090703803741
          ],
          [
           0.3601029251429246,
           0.4156847361626096,
           0.26704726257117045,
           0.2592745308650069,
           0.8723435823187979,
           1,
           0.3680451648079219,
           0.5824607509639215,
           0.138467575606494,
           0.2630842183283057,
           -0.03546388949774084,
           -0.1508487372407062
          ],
          [
           0.46965107478382884,
           0.41499904259696435,
           0.5599224648163524,
           0.17809200502586228,
           0.35475035543560024,
           0.3680451648079219,
           1,
           0.3006397741266893,
           0.3739179730444158,
           0.34920926033659155,
           -0.34480287878738675,
           -0.08775715325806525
          ],
          [
           0.22025924776065284,
           0.5741386889532937,
           0.20751078531424552,
           0.6991686150155862,
           0.2884182219958528,
           0.5824607509639215,
           0.3006397741266893,
           1,
           0.13318271709253005,
           0.49502141082445583,
           -0.18060349139354634,
           0.2301399762522081
          ],
          [
           0.8578432662155328,
           0.7079978753427244,
           0.5731060422385535,
           0.2916121422064645,
           0.1383563212087665,
           0.138467575606494,
           0.3739179730444158,
           0.13318271709253005,
           1,
           0.7954399154659466,
           0.21559983624287066,
           0.26681693858110467
          ],
          [
           0.7031463292916492,
           0.9106842829282429,
           0.4216297332732389,
           0.6786557723334077,
           0.13221690354992582,
           0.2630842183283057,
           0.34920926033659155,
           0.49502141082445583,
           0.7954399154659466,
           1,
           0.11123693653130054,
           0.5226710789882288
          ],
          [
           0.11012609185523466,
           0.03574521634859648,
           0.419625077840291,
           -0.12619878618522296,
           0.024285819658349493,
           -0.03546388949774084,
           -0.34480287878738675,
           -0.18060349139354634,
           0.21559983624287066,
           0.11123693653130054,
           1,
           0.09863757066840774
          ],
          [
           0.08574849990434749,
           0.4042696073832694,
           0.07375353936186997,
           0.6179652049753921,
           -0.3124090703803741,
           -0.1508487372407062,
           -0.08775715325806525,
           0.2301399762522081,
           0.26681693858110467,
           0.5226710789882288,
           0.09863757066840774,
           1
          ]
         ]
        }
       ],
       "layout": {
        "coloraxis": {
         "colorscale": [
          [
           0,
           "#0d0887"
          ],
          [
           0.1111111111111111,
           "#46039f"
          ],
          [
           0.2222222222222222,
           "#7201a8"
          ],
          [
           0.3333333333333333,
           "#9c179e"
          ],
          [
           0.4444444444444444,
           "#bd3786"
          ],
          [
           0.5555555555555556,
           "#d8576b"
          ],
          [
           0.6666666666666666,
           "#ed7953"
          ],
          [
           0.7777777777777778,
           "#fb9f3a"
          ],
          [
           0.8888888888888888,
           "#fdca26"
          ],
          [
           1,
           "#f0f921"
          ]
         ]
        },
        "margin": {
         "t": 60
        },
        "template": {
         "data": {
          "bar": [
           {
            "error_x": {
             "color": "#2a3f5f"
            },
            "error_y": {
             "color": "#2a3f5f"
            },
            "marker": {
             "line": {
              "color": "#E5ECF6",
              "width": 0.5
             }
            },
            "type": "bar"
           }
          ],
          "barpolar": [
           {
            "marker": {
             "line": {
              "color": "#E5ECF6",
              "width": 0.5
             }
            },
            "type": "barpolar"
           }
          ],
          "carpet": [
           {
            "aaxis": {
             "endlinecolor": "#2a3f5f",
             "gridcolor": "white",
             "linecolor": "white",
             "minorgridcolor": "white",
             "startlinecolor": "#2a3f5f"
            },
            "baxis": {
             "endlinecolor": "#2a3f5f",
             "gridcolor": "white",
             "linecolor": "white",
             "minorgridcolor": "white",
             "startlinecolor": "#2a3f5f"
            },
            "type": "carpet"
           }
          ],
          "choropleth": [
           {
            "colorbar": {
             "outlinewidth": 0,
             "ticks": ""
            },
            "type": "choropleth"
           }
          ],
          "contour": [
           {
            "colorbar": {
             "outlinewidth": 0,
             "ticks": ""
            },
            "colorscale": [
             [
              0,
              "#0d0887"
             ],
             [
              0.1111111111111111,
              "#46039f"
             ],
             [
              0.2222222222222222,
              "#7201a8"
             ],
             [
              0.3333333333333333,
              "#9c179e"
             ],
             [
              0.4444444444444444,
              "#bd3786"
             ],
             [
              0.5555555555555556,
              "#d8576b"
             ],
             [
              0.6666666666666666,
              "#ed7953"
             ],
             [
              0.7777777777777778,
              "#fb9f3a"
             ],
             [
              0.8888888888888888,
              "#fdca26"
             ],
             [
              1,
              "#f0f921"
             ]
            ],
            "type": "contour"
           }
          ],
          "contourcarpet": [
           {
            "colorbar": {
             "outlinewidth": 0,
             "ticks": ""
            },
            "type": "contourcarpet"
           }
          ],
          "heatmap": [
           {
            "colorbar": {
             "outlinewidth": 0,
             "ticks": ""
            },
            "colorscale": [
             [
              0,
              "#0d0887"
             ],
             [
              0.1111111111111111,
              "#46039f"
             ],
             [
              0.2222222222222222,
              "#7201a8"
             ],
             [
              0.3333333333333333,
              "#9c179e"
             ],
             [
              0.4444444444444444,
              "#bd3786"
             ],
             [
              0.5555555555555556,
              "#d8576b"
             ],
             [
              0.6666666666666666,
              "#ed7953"
             ],
             [
              0.7777777777777778,
              "#fb9f3a"
             ],
             [
              0.8888888888888888,
              "#fdca26"
             ],
             [
              1,
              "#f0f921"
             ]
            ],
            "type": "heatmap"
           }
          ],
          "heatmapgl": [
           {
            "colorbar": {
             "outlinewidth": 0,
             "ticks": ""
            },
            "colorscale": [
             [
              0,
              "#0d0887"
             ],
             [
              0.1111111111111111,
              "#46039f"
             ],
             [
              0.2222222222222222,
              "#7201a8"
             ],
             [
              0.3333333333333333,
              "#9c179e"
             ],
             [
              0.4444444444444444,
              "#bd3786"
             ],
             [
              0.5555555555555556,
              "#d8576b"
             ],
             [
              0.6666666666666666,
              "#ed7953"
             ],
             [
              0.7777777777777778,
              "#fb9f3a"
             ],
             [
              0.8888888888888888,
              "#fdca26"
             ],
             [
              1,
              "#f0f921"
             ]
            ],
            "type": "heatmapgl"
           }
          ],
          "histogram": [
           {
            "marker": {
             "colorbar": {
              "outlinewidth": 0,
              "ticks": ""
             }
            },
            "type": "histogram"
           }
          ],
          "histogram2d": [
           {
            "colorbar": {
             "outlinewidth": 0,
             "ticks": ""
            },
            "colorscale": [
             [
              0,
              "#0d0887"
             ],
             [
              0.1111111111111111,
              "#46039f"
             ],
             [
              0.2222222222222222,
              "#7201a8"
             ],
             [
              0.3333333333333333,
              "#9c179e"
             ],
             [
              0.4444444444444444,
              "#bd3786"
             ],
             [
              0.5555555555555556,
              "#d8576b"
             ],
             [
              0.6666666666666666,
              "#ed7953"
             ],
             [
              0.7777777777777778,
              "#fb9f3a"
             ],
             [
              0.8888888888888888,
              "#fdca26"
             ],
             [
              1,
              "#f0f921"
             ]
            ],
            "type": "histogram2d"
           }
          ],
          "histogram2dcontour": [
           {
            "colorbar": {
             "outlinewidth": 0,
             "ticks": ""
            },
            "colorscale": [
             [
              0,
              "#0d0887"
             ],
             [
              0.1111111111111111,
              "#46039f"
             ],
             [
              0.2222222222222222,
              "#7201a8"
             ],
             [
              0.3333333333333333,
              "#9c179e"
             ],
             [
              0.4444444444444444,
              "#bd3786"
             ],
             [
              0.5555555555555556,
              "#d8576b"
             ],
             [
              0.6666666666666666,
              "#ed7953"
             ],
             [
              0.7777777777777778,
              "#fb9f3a"
             ],
             [
              0.8888888888888888,
              "#fdca26"
             ],
             [
              1,
              "#f0f921"
             ]
            ],
            "type": "histogram2dcontour"
           }
          ],
          "mesh3d": [
           {
            "colorbar": {
             "outlinewidth": 0,
             "ticks": ""
            },
            "type": "mesh3d"
           }
          ],
          "parcoords": [
           {
            "line": {
             "colorbar": {
              "outlinewidth": 0,
              "ticks": ""
             }
            },
            "type": "parcoords"
           }
          ],
          "pie": [
           {
            "automargin": true,
            "type": "pie"
           }
          ],
          "scatter": [
           {
            "marker": {
             "colorbar": {
              "outlinewidth": 0,
              "ticks": ""
             }
            },
            "type": "scatter"
           }
          ],
          "scatter3d": [
           {
            "line": {
             "colorbar": {
              "outlinewidth": 0,
              "ticks": ""
             }
            },
            "marker": {
             "colorbar": {
              "outlinewidth": 0,
              "ticks": ""
             }
            },
            "type": "scatter3d"
           }
          ],
          "scattercarpet": [
           {
            "marker": {
             "colorbar": {
              "outlinewidth": 0,
              "ticks": ""
             }
            },
            "type": "scattercarpet"
           }
          ],
          "scattergeo": [
           {
            "marker": {
             "colorbar": {
              "outlinewidth": 0,
              "ticks": ""
             }
            },
            "type": "scattergeo"
           }
          ],
          "scattergl": [
           {
            "marker": {
             "colorbar": {
              "outlinewidth": 0,
              "ticks": ""
             }
            },
            "type": "scattergl"
           }
          ],
          "scattermapbox": [
           {
            "marker": {
             "colorbar": {
              "outlinewidth": 0,
              "ticks": ""
             }
            },
            "type": "scattermapbox"
           }
          ],
          "scatterpolar": [
           {
            "marker": {
             "colorbar": {
              "outlinewidth": 0,
              "ticks": ""
             }
            },
            "type": "scatterpolar"
           }
          ],
          "scatterpolargl": [
           {
            "marker": {
             "colorbar": {
              "outlinewidth": 0,
              "ticks": ""
             }
            },
            "type": "scatterpolargl"
           }
          ],
          "scatterternary": [
           {
            "marker": {
             "colorbar": {
              "outlinewidth": 0,
              "ticks": ""
             }
            },
            "type": "scatterternary"
           }
          ],
          "surface": [
           {
            "colorbar": {
             "outlinewidth": 0,
             "ticks": ""
            },
            "colorscale": [
             [
              0,
              "#0d0887"
             ],
             [
              0.1111111111111111,
              "#46039f"
             ],
             [
              0.2222222222222222,
              "#7201a8"
             ],
             [
              0.3333333333333333,
              "#9c179e"
             ],
             [
              0.4444444444444444,
              "#bd3786"
             ],
             [
              0.5555555555555556,
              "#d8576b"
             ],
             [
              0.6666666666666666,
              "#ed7953"
             ],
             [
              0.7777777777777778,
              "#fb9f3a"
             ],
             [
              0.8888888888888888,
              "#fdca26"
             ],
             [
              1,
              "#f0f921"
             ]
            ],
            "type": "surface"
           }
          ],
          "table": [
           {
            "cells": {
             "fill": {
              "color": "#EBF0F8"
             },
             "line": {
              "color": "white"
             }
            },
            "header": {
             "fill": {
              "color": "#C8D4E3"
             },
             "line": {
              "color": "white"
             }
            },
            "type": "table"
           }
          ]
         },
         "layout": {
          "annotationdefaults": {
           "arrowcolor": "#2a3f5f",
           "arrowhead": 0,
           "arrowwidth": 1
          },
          "coloraxis": {
           "colorbar": {
            "outlinewidth": 0,
            "ticks": ""
           }
          },
          "colorscale": {
           "diverging": [
            [
             0,
             "#8e0152"
            ],
            [
             0.1,
             "#c51b7d"
            ],
            [
             0.2,
             "#de77ae"
            ],
            [
             0.3,
             "#f1b6da"
            ],
            [
             0.4,
             "#fde0ef"
            ],
            [
             0.5,
             "#f7f7f7"
            ],
            [
             0.6,
             "#e6f5d0"
            ],
            [
             0.7,
             "#b8e186"
            ],
            [
             0.8,
             "#7fbc41"
            ],
            [
             0.9,
             "#4d9221"
            ],
            [
             1,
             "#276419"
            ]
           ],
           "sequential": [
            [
             0,
             "#0d0887"
            ],
            [
             0.1111111111111111,
             "#46039f"
            ],
            [
             0.2222222222222222,
             "#7201a8"
            ],
            [
             0.3333333333333333,
             "#9c179e"
            ],
            [
             0.4444444444444444,
             "#bd3786"
            ],
            [
             0.5555555555555556,
             "#d8576b"
            ],
            [
             0.6666666666666666,
             "#ed7953"
            ],
            [
             0.7777777777777778,
             "#fb9f3a"
            ],
            [
             0.8888888888888888,
             "#fdca26"
            ],
            [
             1,
             "#f0f921"
            ]
           ],
           "sequentialminus": [
            [
             0,
             "#0d0887"
            ],
            [
             0.1111111111111111,
             "#46039f"
            ],
            [
             0.2222222222222222,
             "#7201a8"
            ],
            [
             0.3333333333333333,
             "#9c179e"
            ],
            [
             0.4444444444444444,
             "#bd3786"
            ],
            [
             0.5555555555555556,
             "#d8576b"
            ],
            [
             0.6666666666666666,
             "#ed7953"
            ],
            [
             0.7777777777777778,
             "#fb9f3a"
            ],
            [
             0.8888888888888888,
             "#fdca26"
            ],
            [
             1,
             "#f0f921"
            ]
           ]
          },
          "colorway": [
           "#636efa",
           "#EF553B",
           "#00cc96",
           "#ab63fa",
           "#FFA15A",
           "#19d3f3",
           "#FF6692",
           "#B6E880",
           "#FF97FF",
           "#FECB52"
          ],
          "font": {
           "color": "#2a3f5f"
          },
          "geo": {
           "bgcolor": "white",
           "lakecolor": "white",
           "landcolor": "#E5ECF6",
           "showlakes": true,
           "showland": true,
           "subunitcolor": "white"
          },
          "hoverlabel": {
           "align": "left"
          },
          "hovermode": "closest",
          "mapbox": {
           "style": "light"
          },
          "paper_bgcolor": "white",
          "plot_bgcolor": "#E5ECF6",
          "polar": {
           "angularaxis": {
            "gridcolor": "white",
            "linecolor": "white",
            "ticks": ""
           },
           "bgcolor": "#E5ECF6",
           "radialaxis": {
            "gridcolor": "white",
            "linecolor": "white",
            "ticks": ""
           }
          },
          "scene": {
           "xaxis": {
            "backgroundcolor": "#E5ECF6",
            "gridcolor": "white",
            "gridwidth": 2,
            "linecolor": "white",
            "showbackground": true,
            "ticks": "",
            "zerolinecolor": "white"
           },
           "yaxis": {
            "backgroundcolor": "#E5ECF6",
            "gridcolor": "white",
            "gridwidth": 2,
            "linecolor": "white",
            "showbackground": true,
            "ticks": "",
            "zerolinecolor": "white"
           },
           "zaxis": {
            "backgroundcolor": "#E5ECF6",
            "gridcolor": "white",
            "gridwidth": 2,
            "linecolor": "white",
            "showbackground": true,
            "ticks": "",
            "zerolinecolor": "white"
           }
          },
          "shapedefaults": {
           "line": {
            "color": "#2a3f5f"
           }
          },
          "ternary": {
           "aaxis": {
            "gridcolor": "white",
            "linecolor": "white",
            "ticks": ""
           },
           "baxis": {
            "gridcolor": "white",
            "linecolor": "white",
            "ticks": ""
           },
           "bgcolor": "#E5ECF6",
           "caxis": {
            "gridcolor": "white",
            "linecolor": "white",
            "ticks": ""
           }
          },
          "title": {
           "x": 0.05
          },
          "xaxis": {
           "automargin": true,
           "gridcolor": "white",
           "linecolor": "white",
           "ticks": "",
           "title": {
            "standoff": 15
           },
           "zerolinecolor": "white",
           "zerolinewidth": 2
          },
          "yaxis": {
           "automargin": true,
           "gridcolor": "white",
           "linecolor": "white",
           "ticks": "",
           "title": {
            "standoff": 15
           },
           "zerolinecolor": "white",
           "zerolinewidth": 2
          }
         }
        },
        "xaxis": {
         "constrain": "domain",
         "scaleanchor": "y"
        },
        "yaxis": {
         "autorange": "reversed",
         "constrain": "domain"
        }
       }
      },
      "text/html": [
       "<div>                            <div id=\"1d5894d8-7cf4-4b36-b405-0d648fb40ee6\" class=\"plotly-graph-div\" style=\"height:525px; width:100%;\"></div>            <script type=\"text/javascript\">                require([\"plotly\"], function(Plotly) {                    window.PLOTLYENV=window.PLOTLYENV || {};                                    if (document.getElementById(\"1d5894d8-7cf4-4b36-b405-0d648fb40ee6\")) {                    Plotly.newPlot(                        \"1d5894d8-7cf4-4b36-b405-0d648fb40ee6\",                        [{\"coloraxis\": \"coloraxis\", \"hovertemplate\": \"x: %{x}<br>y: %{y}<br>color: %{z}<extra></extra>\", \"type\": \"heatmap\", \"x\": [\"T_init_dura\", \"T_init_dist\", \"T_init_prob\", \"T_init_speed\", \"T_final_dura\", \"T_final_dist\", \"T_final_prob\", \"T_final_speed\", \"T_hab_dura\", \"T_hab_dist\", \"T_hab_prob\", \"T_hab_speed\"], \"y\": [\"T_init_dura\", \"T_init_dist\", \"T_init_prob\", \"T_init_speed\", \"T_final_dura\", \"T_final_dist\", \"T_final_prob\", \"T_final_speed\", \"T_hab_dura\", \"T_hab_dist\", \"T_hab_prob\", \"T_hab_speed\"], \"z\": [[1.0, 0.7650773621340123, 0.5767961162610934, 0.26899532197682074, 0.37427994050590835, 0.3601029251429246, 0.46965107478382884, 0.22025924776065284, 0.8578432662155328, 0.7031463292916492, 0.11012609185523466, 0.08574849990434749], [0.7650773621340123, 1.0, 0.41015214558229646, 0.7057545565607909, 0.2842247449872102, 0.4156847361626096, 0.41499904259696435, 0.5741386889532937, 0.7079978753427244, 0.9106842829282429, 0.03574521634859648, 0.4042696073832694], [0.5767961162610934, 0.41015214558229646, 1.0, 0.17595655667428367, 0.3230081120425546, 0.26704726257117045, 0.5599224648163524, 0.20751078531424552, 0.5731060422385535, 0.4216297332732389, 0.419625077840291, 0.07375353936186997], [0.26899532197682074, 0.7057545565607909, 0.17595655667428367, 1.0, -0.021471239104730862, 0.2592745308650069, 0.17809200502586228, 0.6991686150155862, 0.2916121422064645, 0.6786557723334077, -0.12619878618522296, 0.6179652049753921], [0.37427994050590835, 0.2842247449872102, 0.3230081120425546, -0.021471239104730862, 1.0, 0.8723435823187979, 0.35475035543560024, 0.2884182219958528, 0.1383563212087665, 0.13221690354992582, 0.024285819658349493, -0.3124090703803741], [0.3601029251429246, 0.4156847361626096, 0.26704726257117045, 0.2592745308650069, 0.8723435823187979, 1.0, 0.3680451648079219, 0.5824607509639215, 0.138467575606494, 0.2630842183283057, -0.03546388949774084, -0.1508487372407062], [0.46965107478382884, 0.41499904259696435, 0.5599224648163524, 0.17809200502586228, 0.35475035543560024, 0.3680451648079219, 1.0, 0.3006397741266893, 0.3739179730444158, 0.34920926033659155, -0.34480287878738675, -0.08775715325806525], [0.22025924776065284, 0.5741386889532937, 0.20751078531424552, 0.6991686150155862, 0.2884182219958528, 0.5824607509639215, 0.3006397741266893, 1.0, 0.13318271709253005, 0.49502141082445583, -0.18060349139354634, 0.2301399762522081], [0.8578432662155328, 0.7079978753427244, 0.5731060422385535, 0.2916121422064645, 0.1383563212087665, 0.138467575606494, 0.3739179730444158, 0.13318271709253005, 1.0, 0.7954399154659466, 0.21559983624287066, 0.26681693858110467], [0.7031463292916492, 0.9106842829282429, 0.4216297332732389, 0.6786557723334077, 0.13221690354992582, 0.2630842183283057, 0.34920926033659155, 0.49502141082445583, 0.7954399154659466, 1.0, 0.11123693653130054, 0.5226710789882288], [0.11012609185523466, 0.03574521634859648, 0.419625077840291, -0.12619878618522296, 0.024285819658349493, -0.03546388949774084, -0.34480287878738675, -0.18060349139354634, 0.21559983624287066, 0.11123693653130054, 1.0, 0.09863757066840774], [0.08574849990434749, 0.4042696073832694, 0.07375353936186997, 0.6179652049753921, -0.3124090703803741, -0.1508487372407062, -0.08775715325806525, 0.2301399762522081, 0.26681693858110467, 0.5226710789882288, 0.09863757066840774, 1.0]]}],                        {\"coloraxis\": {\"colorscale\": [[0.0, \"#0d0887\"], [0.1111111111111111, \"#46039f\"], [0.2222222222222222, \"#7201a8\"], [0.3333333333333333, \"#9c179e\"], [0.4444444444444444, \"#bd3786\"], [0.5555555555555556, \"#d8576b\"], [0.6666666666666666, \"#ed7953\"], [0.7777777777777778, \"#fb9f3a\"], [0.8888888888888888, \"#fdca26\"], [1.0, \"#f0f921\"]]}, \"margin\": {\"t\": 60}, \"template\": {\"data\": {\"bar\": [{\"error_x\": {\"color\": \"#2a3f5f\"}, \"error_y\": {\"color\": \"#2a3f5f\"}, \"marker\": {\"line\": {\"color\": \"#E5ECF6\", \"width\": 0.5}}, \"type\": \"bar\"}], \"barpolar\": [{\"marker\": {\"line\": {\"color\": \"#E5ECF6\", \"width\": 0.5}}, \"type\": \"barpolar\"}], \"carpet\": [{\"aaxis\": {\"endlinecolor\": \"#2a3f5f\", \"gridcolor\": \"white\", \"linecolor\": \"white\", \"minorgridcolor\": \"white\", \"startlinecolor\": \"#2a3f5f\"}, \"baxis\": {\"endlinecolor\": \"#2a3f5f\", \"gridcolor\": \"white\", \"linecolor\": \"white\", \"minorgridcolor\": \"white\", \"startlinecolor\": \"#2a3f5f\"}, \"type\": \"carpet\"}], \"choropleth\": [{\"colorbar\": {\"outlinewidth\": 0, \"ticks\": \"\"}, \"type\": \"choropleth\"}], \"contour\": [{\"colorbar\": {\"outlinewidth\": 0, \"ticks\": \"\"}, \"colorscale\": [[0.0, \"#0d0887\"], [0.1111111111111111, \"#46039f\"], [0.2222222222222222, \"#7201a8\"], [0.3333333333333333, \"#9c179e\"], [0.4444444444444444, \"#bd3786\"], [0.5555555555555556, \"#d8576b\"], [0.6666666666666666, \"#ed7953\"], [0.7777777777777778, \"#fb9f3a\"], [0.8888888888888888, \"#fdca26\"], [1.0, \"#f0f921\"]], \"type\": \"contour\"}], \"contourcarpet\": [{\"colorbar\": {\"outlinewidth\": 0, \"ticks\": \"\"}, \"type\": \"contourcarpet\"}], \"heatmap\": [{\"colorbar\": {\"outlinewidth\": 0, \"ticks\": \"\"}, \"colorscale\": [[0.0, \"#0d0887\"], [0.1111111111111111, \"#46039f\"], [0.2222222222222222, \"#7201a8\"], [0.3333333333333333, \"#9c179e\"], [0.4444444444444444, \"#bd3786\"], [0.5555555555555556, \"#d8576b\"], [0.6666666666666666, \"#ed7953\"], [0.7777777777777778, \"#fb9f3a\"], [0.8888888888888888, \"#fdca26\"], [1.0, \"#f0f921\"]], \"type\": \"heatmap\"}], \"heatmapgl\": [{\"colorbar\": {\"outlinewidth\": 0, \"ticks\": \"\"}, \"colorscale\": [[0.0, \"#0d0887\"], [0.1111111111111111, \"#46039f\"], [0.2222222222222222, \"#7201a8\"], [0.3333333333333333, \"#9c179e\"], [0.4444444444444444, \"#bd3786\"], [0.5555555555555556, \"#d8576b\"], [0.6666666666666666, \"#ed7953\"], [0.7777777777777778, \"#fb9f3a\"], [0.8888888888888888, \"#fdca26\"], [1.0, \"#f0f921\"]], \"type\": \"heatmapgl\"}], \"histogram\": [{\"marker\": {\"colorbar\": {\"outlinewidth\": 0, \"ticks\": \"\"}}, \"type\": \"histogram\"}], \"histogram2d\": [{\"colorbar\": {\"outlinewidth\": 0, \"ticks\": \"\"}, \"colorscale\": [[0.0, \"#0d0887\"], [0.1111111111111111, \"#46039f\"], [0.2222222222222222, \"#7201a8\"], [0.3333333333333333, \"#9c179e\"], [0.4444444444444444, \"#bd3786\"], [0.5555555555555556, \"#d8576b\"], [0.6666666666666666, \"#ed7953\"], [0.7777777777777778, \"#fb9f3a\"], [0.8888888888888888, \"#fdca26\"], [1.0, \"#f0f921\"]], \"type\": \"histogram2d\"}], \"histogram2dcontour\": [{\"colorbar\": {\"outlinewidth\": 0, \"ticks\": \"\"}, \"colorscale\": [[0.0, \"#0d0887\"], [0.1111111111111111, \"#46039f\"], [0.2222222222222222, \"#7201a8\"], [0.3333333333333333, \"#9c179e\"], [0.4444444444444444, \"#bd3786\"], [0.5555555555555556, \"#d8576b\"], [0.6666666666666666, \"#ed7953\"], [0.7777777777777778, \"#fb9f3a\"], [0.8888888888888888, \"#fdca26\"], [1.0, \"#f0f921\"]], \"type\": \"histogram2dcontour\"}], \"mesh3d\": [{\"colorbar\": {\"outlinewidth\": 0, \"ticks\": \"\"}, \"type\": \"mesh3d\"}], \"parcoords\": [{\"line\": {\"colorbar\": {\"outlinewidth\": 0, \"ticks\": \"\"}}, \"type\": \"parcoords\"}], \"pie\": [{\"automargin\": true, \"type\": \"pie\"}], \"scatter\": [{\"marker\": {\"colorbar\": {\"outlinewidth\": 0, \"ticks\": \"\"}}, \"type\": \"scatter\"}], \"scatter3d\": [{\"line\": {\"colorbar\": {\"outlinewidth\": 0, \"ticks\": \"\"}}, \"marker\": {\"colorbar\": {\"outlinewidth\": 0, \"ticks\": \"\"}}, \"type\": \"scatter3d\"}], \"scattercarpet\": [{\"marker\": {\"colorbar\": {\"outlinewidth\": 0, \"ticks\": \"\"}}, \"type\": \"scattercarpet\"}], \"scattergeo\": [{\"marker\": {\"colorbar\": {\"outlinewidth\": 0, \"ticks\": \"\"}}, \"type\": \"scattergeo\"}], \"scattergl\": [{\"marker\": {\"colorbar\": {\"outlinewidth\": 0, \"ticks\": \"\"}}, \"type\": \"scattergl\"}], \"scattermapbox\": [{\"marker\": {\"colorbar\": {\"outlinewidth\": 0, \"ticks\": \"\"}}, \"type\": \"scattermapbox\"}], \"scatterpolar\": [{\"marker\": {\"colorbar\": {\"outlinewidth\": 0, \"ticks\": \"\"}}, \"type\": \"scatterpolar\"}], \"scatterpolargl\": [{\"marker\": {\"colorbar\": {\"outlinewidth\": 0, \"ticks\": \"\"}}, \"type\": \"scatterpolargl\"}], \"scatterternary\": [{\"marker\": {\"colorbar\": {\"outlinewidth\": 0, \"ticks\": \"\"}}, \"type\": \"scatterternary\"}], \"surface\": [{\"colorbar\": {\"outlinewidth\": 0, \"ticks\": \"\"}, \"colorscale\": [[0.0, \"#0d0887\"], [0.1111111111111111, \"#46039f\"], [0.2222222222222222, \"#7201a8\"], [0.3333333333333333, \"#9c179e\"], [0.4444444444444444, \"#bd3786\"], [0.5555555555555556, \"#d8576b\"], [0.6666666666666666, \"#ed7953\"], [0.7777777777777778, \"#fb9f3a\"], [0.8888888888888888, \"#fdca26\"], [1.0, \"#f0f921\"]], \"type\": \"surface\"}], \"table\": [{\"cells\": {\"fill\": {\"color\": \"#EBF0F8\"}, \"line\": {\"color\": \"white\"}}, \"header\": {\"fill\": {\"color\": \"#C8D4E3\"}, \"line\": {\"color\": \"white\"}}, \"type\": \"table\"}]}, \"layout\": {\"annotationdefaults\": {\"arrowcolor\": \"#2a3f5f\", \"arrowhead\": 0, \"arrowwidth\": 1}, \"coloraxis\": {\"colorbar\": {\"outlinewidth\": 0, \"ticks\": \"\"}}, \"colorscale\": {\"diverging\": [[0, \"#8e0152\"], [0.1, \"#c51b7d\"], [0.2, \"#de77ae\"], [0.3, \"#f1b6da\"], [0.4, \"#fde0ef\"], [0.5, \"#f7f7f7\"], [0.6, \"#e6f5d0\"], [0.7, \"#b8e186\"], [0.8, \"#7fbc41\"], [0.9, \"#4d9221\"], [1, \"#276419\"]], \"sequential\": [[0.0, \"#0d0887\"], [0.1111111111111111, \"#46039f\"], [0.2222222222222222, \"#7201a8\"], [0.3333333333333333, \"#9c179e\"], [0.4444444444444444, \"#bd3786\"], [0.5555555555555556, \"#d8576b\"], [0.6666666666666666, \"#ed7953\"], [0.7777777777777778, \"#fb9f3a\"], [0.8888888888888888, \"#fdca26\"], [1.0, \"#f0f921\"]], \"sequentialminus\": [[0.0, \"#0d0887\"], [0.1111111111111111, \"#46039f\"], [0.2222222222222222, \"#7201a8\"], [0.3333333333333333, \"#9c179e\"], [0.4444444444444444, \"#bd3786\"], [0.5555555555555556, \"#d8576b\"], [0.6666666666666666, \"#ed7953\"], [0.7777777777777778, \"#fb9f3a\"], [0.8888888888888888, \"#fdca26\"], [1.0, \"#f0f921\"]]}, \"colorway\": [\"#636efa\", \"#EF553B\", \"#00cc96\", \"#ab63fa\", \"#FFA15A\", \"#19d3f3\", \"#FF6692\", \"#B6E880\", \"#FF97FF\", \"#FECB52\"], \"font\": {\"color\": \"#2a3f5f\"}, \"geo\": {\"bgcolor\": \"white\", \"lakecolor\": \"white\", \"landcolor\": \"#E5ECF6\", \"showlakes\": true, \"showland\": true, \"subunitcolor\": \"white\"}, \"hoverlabel\": {\"align\": \"left\"}, \"hovermode\": \"closest\", \"mapbox\": {\"style\": \"light\"}, \"paper_bgcolor\": \"white\", \"plot_bgcolor\": \"#E5ECF6\", \"polar\": {\"angularaxis\": {\"gridcolor\": \"white\", \"linecolor\": \"white\", \"ticks\": \"\"}, \"bgcolor\": \"#E5ECF6\", \"radialaxis\": {\"gridcolor\": \"white\", \"linecolor\": \"white\", \"ticks\": \"\"}}, \"scene\": {\"xaxis\": {\"backgroundcolor\": \"#E5ECF6\", \"gridcolor\": \"white\", \"gridwidth\": 2, \"linecolor\": \"white\", \"showbackground\": true, \"ticks\": \"\", \"zerolinecolor\": \"white\"}, \"yaxis\": {\"backgroundcolor\": \"#E5ECF6\", \"gridcolor\": \"white\", \"gridwidth\": 2, \"linecolor\": \"white\", \"showbackground\": true, \"ticks\": \"\", \"zerolinecolor\": \"white\"}, \"zaxis\": {\"backgroundcolor\": \"#E5ECF6\", \"gridcolor\": \"white\", \"gridwidth\": 2, \"linecolor\": \"white\", \"showbackground\": true, \"ticks\": \"\", \"zerolinecolor\": \"white\"}}, \"shapedefaults\": {\"line\": {\"color\": \"#2a3f5f\"}}, \"ternary\": {\"aaxis\": {\"gridcolor\": \"white\", \"linecolor\": \"white\", \"ticks\": \"\"}, \"baxis\": {\"gridcolor\": \"white\", \"linecolor\": \"white\", \"ticks\": \"\"}, \"bgcolor\": \"#E5ECF6\", \"caxis\": {\"gridcolor\": \"white\", \"linecolor\": \"white\", \"ticks\": \"\"}}, \"title\": {\"x\": 0.05}, \"xaxis\": {\"automargin\": true, \"gridcolor\": \"white\", \"linecolor\": \"white\", \"ticks\": \"\", \"title\": {\"standoff\": 15}, \"zerolinecolor\": \"white\", \"zerolinewidth\": 2}, \"yaxis\": {\"automargin\": true, \"gridcolor\": \"white\", \"linecolor\": \"white\", \"ticks\": \"\", \"title\": {\"standoff\": 15}, \"zerolinecolor\": \"white\", \"zerolinewidth\": 2}}}, \"xaxis\": {\"constrain\": \"domain\", \"scaleanchor\": \"y\"}, \"yaxis\": {\"autorange\": \"reversed\", \"constrain\": \"domain\"}},                        {\"responsive\": true}                    ).then(function(){\n",
       "                            \n",
       "var gd = document.getElementById('1d5894d8-7cf4-4b36-b405-0d648fb40ee6');\n",
       "var x = new MutationObserver(function (mutations, observer) {{\n",
       "        var display = window.getComputedStyle(gd).display;\n",
       "        if (!display || display === 'none') {{\n",
       "            console.log([gd, 'removed!']);\n",
       "            Plotly.purge(gd);\n",
       "            observer.disconnect();\n",
       "        }}\n",
       "}});\n",
       "\n",
       "// Listen for the removal of the full notebook cells\n",
       "var notebookContainer = gd.closest('#notebook-container');\n",
       "if (notebookContainer) {{\n",
       "    x.observe(notebookContainer, {childList: true});\n",
       "}}\n",
       "\n",
       "// Listen for the clearing of the current output cell\n",
       "var outputEl = gd.closest('.output');\n",
       "if (outputEl) {{\n",
       "    x.observe(outputEl, {childList: true});\n",
       "}}\n",
       "\n",
       "                        })                };                });            </script>        </div>"
      ]
     },
     "metadata": {},
     "output_type": "display_data"
    }
   ],
   "source": [
    "fig = px.imshow(Corr_Neuron)\n",
    "fig.show()"
   ]
  },
  {
   "cell_type": "code",
   "execution_count": 81,
   "metadata": {},
   "outputs": [
    {
     "data": {
      "application/vnd.plotly.v1+json": {
       "config": {
        "plotlyServerURL": "https://plotly.com"
       },
       "data": [
        {
         "coloraxis": "coloraxis",
         "hovertemplate": "x: %{x}<br>y: %{y}<br>color: %{z}<extra></extra>",
         "type": "heatmap",
         "x": [
          "T_init_dura",
          "T_init_dist",
          "T_init_prob",
          "T_init_speed",
          "T_final_dura",
          "T_final_dist",
          "T_final_prob",
          "T_final_speed",
          "T_hab_dura",
          "T_hab_dist",
          "T_hab_prob",
          "T_hab_speed"
         ],
         "y": [
          "T_init_dura",
          "T_init_dist",
          "T_init_prob",
          "T_init_speed",
          "T_final_dura",
          "T_final_dist",
          "T_final_prob",
          "T_final_speed",
          "T_hab_dura",
          "T_hab_dist",
          "T_hab_prob",
          "T_hab_speed"
         ],
         "z": [
          [
           1,
           0.795783184364612,
           0.694851669047494,
           0.2073878273724611,
           0.5267524040546495,
           0.48472946692436925,
           0.4568898298468271,
           0.20177506231134074,
           0.8778565151446528,
           0.6814840116511949,
           0.17885400964448794,
           0.024161539116854137
          ],
          [
           0.795783184364612,
           1,
           0.5491844451284029,
           0.6925482786111123,
           0.39749280028034467,
           0.4981937591999343,
           0.4204674166389433,
           0.5532462194617398,
           0.7750969358359469,
           0.91267763789882,
           0.14352643957880667,
           0.4043007207348839
          ],
          [
           0.694851669047494,
           0.5491844451284029,
           1,
           0.14050984093847255,
           0.4494646759039189,
           0.39789711577357945,
           0.5610921625409566,
           0.20906351303627102,
           0.668601646571845,
           0.5074627138353167,
           0.43674959583963735,
           0.03081805874485259
          ],
          [
           0.2073878273724611,
           0.6925482786111123,
           0.14050984093847255,
           1,
           -0.09589943334668981,
           0.19107886630306806,
           0.10533002994659105,
           0.6811461361397654,
           0.26879255693585835,
           0.6782893672840988,
           -0.05455180594617755,
           0.6444475853261915
          ],
          [
           0.5267524040546495,
           0.39749280028034467,
           0.4494646759039189,
           -0.09589943334668981,
           1,
           0.8921221470284313,
           0.44297536286279027,
           0.2522610389244415,
           0.3081254180485184,
           0.21349509283651794,
           0.051169613554744614,
           -0.37585694454262897
          ],
          [
           0.48472946692436925,
           0.4981937591999343,
           0.39789711577357945,
           0.19107886630306806,
           0.8921221470284313,
           1,
           0.4461474101058472,
           0.5469659666941461,
           0.28538001419115344,
           0.32560560924930637,
           0.012409300116538981,
           -0.20633798621659546
          ],
          [
           0.4568898298468271,
           0.4204674166389433,
           0.5610921625409566,
           0.10533002994659105,
           0.44297536286279027,
           0.4461474101058472,
           1,
           0.28512393414981496,
           0.39998601424713764,
           0.34173301504015674,
           -0.29415058226555457,
           -0.15900229026878374
          ],
          [
           0.20177506231134074,
           0.5532462194617398,
           0.20906351303627102,
           0.6811461361397654,
           0.2522610389244415,
           0.5469659666941461,
           0.28512393414981496,
           1,
           0.12034929876908648,
           0.46892423800595995,
           -0.1466481868631585,
           0.21443669828025144
          ],
          [
           0.8778565151446528,
           0.7750969358359469,
           0.668601646571845,
           0.26879255693585835,
           0.3081254180485184,
           0.28538001419115344,
           0.39998601424713764,
           0.12034929876908648,
           1,
           0.8038825615651578,
           0.26856738026036725,
           0.24220482888344907
          ],
          [
           0.6814840116511949,
           0.91267763789882,
           0.5074627138353167,
           0.6782893672840988,
           0.21349509283651794,
           0.32560560924930637,
           0.34173301504015674,
           0.46892423800595995,
           0.8038825615651578,
           1,
           0.2021575157312442,
           0.542230199574173
          ],
          [
           0.17885400964448794,
           0.14352643957880667,
           0.43674959583963735,
           -0.05455180594617755,
           0.051169613554744614,
           0.012409300116538981,
           -0.29415058226555457,
           -0.1466481868631585,
           0.26856738026036725,
           0.2021575157312442,
           1,
           0.15619396080126408
          ],
          [
           0.024161539116854137,
           0.4043007207348839,
           0.03081805874485259,
           0.6444475853261915,
           -0.37585694454262897,
           -0.20633798621659546,
           -0.15900229026878374,
           0.21443669828025144,
           0.24220482888344907,
           0.542230199574173,
           0.15619396080126408,
           1
          ]
         ]
        }
       ],
       "layout": {
        "coloraxis": {
         "colorscale": [
          [
           0,
           "#0d0887"
          ],
          [
           0.1111111111111111,
           "#46039f"
          ],
          [
           0.2222222222222222,
           "#7201a8"
          ],
          [
           0.3333333333333333,
           "#9c179e"
          ],
          [
           0.4444444444444444,
           "#bd3786"
          ],
          [
           0.5555555555555556,
           "#d8576b"
          ],
          [
           0.6666666666666666,
           "#ed7953"
          ],
          [
           0.7777777777777778,
           "#fb9f3a"
          ],
          [
           0.8888888888888888,
           "#fdca26"
          ],
          [
           1,
           "#f0f921"
          ]
         ]
        },
        "margin": {
         "t": 60
        },
        "template": {
         "data": {
          "bar": [
           {
            "error_x": {
             "color": "#2a3f5f"
            },
            "error_y": {
             "color": "#2a3f5f"
            },
            "marker": {
             "line": {
              "color": "#E5ECF6",
              "width": 0.5
             }
            },
            "type": "bar"
           }
          ],
          "barpolar": [
           {
            "marker": {
             "line": {
              "color": "#E5ECF6",
              "width": 0.5
             }
            },
            "type": "barpolar"
           }
          ],
          "carpet": [
           {
            "aaxis": {
             "endlinecolor": "#2a3f5f",
             "gridcolor": "white",
             "linecolor": "white",
             "minorgridcolor": "white",
             "startlinecolor": "#2a3f5f"
            },
            "baxis": {
             "endlinecolor": "#2a3f5f",
             "gridcolor": "white",
             "linecolor": "white",
             "minorgridcolor": "white",
             "startlinecolor": "#2a3f5f"
            },
            "type": "carpet"
           }
          ],
          "choropleth": [
           {
            "colorbar": {
             "outlinewidth": 0,
             "ticks": ""
            },
            "type": "choropleth"
           }
          ],
          "contour": [
           {
            "colorbar": {
             "outlinewidth": 0,
             "ticks": ""
            },
            "colorscale": [
             [
              0,
              "#0d0887"
             ],
             [
              0.1111111111111111,
              "#46039f"
             ],
             [
              0.2222222222222222,
              "#7201a8"
             ],
             [
              0.3333333333333333,
              "#9c179e"
             ],
             [
              0.4444444444444444,
              "#bd3786"
             ],
             [
              0.5555555555555556,
              "#d8576b"
             ],
             [
              0.6666666666666666,
              "#ed7953"
             ],
             [
              0.7777777777777778,
              "#fb9f3a"
             ],
             [
              0.8888888888888888,
              "#fdca26"
             ],
             [
              1,
              "#f0f921"
             ]
            ],
            "type": "contour"
           }
          ],
          "contourcarpet": [
           {
            "colorbar": {
             "outlinewidth": 0,
             "ticks": ""
            },
            "type": "contourcarpet"
           }
          ],
          "heatmap": [
           {
            "colorbar": {
             "outlinewidth": 0,
             "ticks": ""
            },
            "colorscale": [
             [
              0,
              "#0d0887"
             ],
             [
              0.1111111111111111,
              "#46039f"
             ],
             [
              0.2222222222222222,
              "#7201a8"
             ],
             [
              0.3333333333333333,
              "#9c179e"
             ],
             [
              0.4444444444444444,
              "#bd3786"
             ],
             [
              0.5555555555555556,
              "#d8576b"
             ],
             [
              0.6666666666666666,
              "#ed7953"
             ],
             [
              0.7777777777777778,
              "#fb9f3a"
             ],
             [
              0.8888888888888888,
              "#fdca26"
             ],
             [
              1,
              "#f0f921"
             ]
            ],
            "type": "heatmap"
           }
          ],
          "heatmapgl": [
           {
            "colorbar": {
             "outlinewidth": 0,
             "ticks": ""
            },
            "colorscale": [
             [
              0,
              "#0d0887"
             ],
             [
              0.1111111111111111,
              "#46039f"
             ],
             [
              0.2222222222222222,
              "#7201a8"
             ],
             [
              0.3333333333333333,
              "#9c179e"
             ],
             [
              0.4444444444444444,
              "#bd3786"
             ],
             [
              0.5555555555555556,
              "#d8576b"
             ],
             [
              0.6666666666666666,
              "#ed7953"
             ],
             [
              0.7777777777777778,
              "#fb9f3a"
             ],
             [
              0.8888888888888888,
              "#fdca26"
             ],
             [
              1,
              "#f0f921"
             ]
            ],
            "type": "heatmapgl"
           }
          ],
          "histogram": [
           {
            "marker": {
             "colorbar": {
              "outlinewidth": 0,
              "ticks": ""
             }
            },
            "type": "histogram"
           }
          ],
          "histogram2d": [
           {
            "colorbar": {
             "outlinewidth": 0,
             "ticks": ""
            },
            "colorscale": [
             [
              0,
              "#0d0887"
             ],
             [
              0.1111111111111111,
              "#46039f"
             ],
             [
              0.2222222222222222,
              "#7201a8"
             ],
             [
              0.3333333333333333,
              "#9c179e"
             ],
             [
              0.4444444444444444,
              "#bd3786"
             ],
             [
              0.5555555555555556,
              "#d8576b"
             ],
             [
              0.6666666666666666,
              "#ed7953"
             ],
             [
              0.7777777777777778,
              "#fb9f3a"
             ],
             [
              0.8888888888888888,
              "#fdca26"
             ],
             [
              1,
              "#f0f921"
             ]
            ],
            "type": "histogram2d"
           }
          ],
          "histogram2dcontour": [
           {
            "colorbar": {
             "outlinewidth": 0,
             "ticks": ""
            },
            "colorscale": [
             [
              0,
              "#0d0887"
             ],
             [
              0.1111111111111111,
              "#46039f"
             ],
             [
              0.2222222222222222,
              "#7201a8"
             ],
             [
              0.3333333333333333,
              "#9c179e"
             ],
             [
              0.4444444444444444,
              "#bd3786"
             ],
             [
              0.5555555555555556,
              "#d8576b"
             ],
             [
              0.6666666666666666,
              "#ed7953"
             ],
             [
              0.7777777777777778,
              "#fb9f3a"
             ],
             [
              0.8888888888888888,
              "#fdca26"
             ],
             [
              1,
              "#f0f921"
             ]
            ],
            "type": "histogram2dcontour"
           }
          ],
          "mesh3d": [
           {
            "colorbar": {
             "outlinewidth": 0,
             "ticks": ""
            },
            "type": "mesh3d"
           }
          ],
          "parcoords": [
           {
            "line": {
             "colorbar": {
              "outlinewidth": 0,
              "ticks": ""
             }
            },
            "type": "parcoords"
           }
          ],
          "pie": [
           {
            "automargin": true,
            "type": "pie"
           }
          ],
          "scatter": [
           {
            "marker": {
             "colorbar": {
              "outlinewidth": 0,
              "ticks": ""
             }
            },
            "type": "scatter"
           }
          ],
          "scatter3d": [
           {
            "line": {
             "colorbar": {
              "outlinewidth": 0,
              "ticks": ""
             }
            },
            "marker": {
             "colorbar": {
              "outlinewidth": 0,
              "ticks": ""
             }
            },
            "type": "scatter3d"
           }
          ],
          "scattercarpet": [
           {
            "marker": {
             "colorbar": {
              "outlinewidth": 0,
              "ticks": ""
             }
            },
            "type": "scattercarpet"
           }
          ],
          "scattergeo": [
           {
            "marker": {
             "colorbar": {
              "outlinewidth": 0,
              "ticks": ""
             }
            },
            "type": "scattergeo"
           }
          ],
          "scattergl": [
           {
            "marker": {
             "colorbar": {
              "outlinewidth": 0,
              "ticks": ""
             }
            },
            "type": "scattergl"
           }
          ],
          "scattermapbox": [
           {
            "marker": {
             "colorbar": {
              "outlinewidth": 0,
              "ticks": ""
             }
            },
            "type": "scattermapbox"
           }
          ],
          "scatterpolar": [
           {
            "marker": {
             "colorbar": {
              "outlinewidth": 0,
              "ticks": ""
             }
            },
            "type": "scatterpolar"
           }
          ],
          "scatterpolargl": [
           {
            "marker": {
             "colorbar": {
              "outlinewidth": 0,
              "ticks": ""
             }
            },
            "type": "scatterpolargl"
           }
          ],
          "scatterternary": [
           {
            "marker": {
             "colorbar": {
              "outlinewidth": 0,
              "ticks": ""
             }
            },
            "type": "scatterternary"
           }
          ],
          "surface": [
           {
            "colorbar": {
             "outlinewidth": 0,
             "ticks": ""
            },
            "colorscale": [
             [
              0,
              "#0d0887"
             ],
             [
              0.1111111111111111,
              "#46039f"
             ],
             [
              0.2222222222222222,
              "#7201a8"
             ],
             [
              0.3333333333333333,
              "#9c179e"
             ],
             [
              0.4444444444444444,
              "#bd3786"
             ],
             [
              0.5555555555555556,
              "#d8576b"
             ],
             [
              0.6666666666666666,
              "#ed7953"
             ],
             [
              0.7777777777777778,
              "#fb9f3a"
             ],
             [
              0.8888888888888888,
              "#fdca26"
             ],
             [
              1,
              "#f0f921"
             ]
            ],
            "type": "surface"
           }
          ],
          "table": [
           {
            "cells": {
             "fill": {
              "color": "#EBF0F8"
             },
             "line": {
              "color": "white"
             }
            },
            "header": {
             "fill": {
              "color": "#C8D4E3"
             },
             "line": {
              "color": "white"
             }
            },
            "type": "table"
           }
          ]
         },
         "layout": {
          "annotationdefaults": {
           "arrowcolor": "#2a3f5f",
           "arrowhead": 0,
           "arrowwidth": 1
          },
          "coloraxis": {
           "colorbar": {
            "outlinewidth": 0,
            "ticks": ""
           }
          },
          "colorscale": {
           "diverging": [
            [
             0,
             "#8e0152"
            ],
            [
             0.1,
             "#c51b7d"
            ],
            [
             0.2,
             "#de77ae"
            ],
            [
             0.3,
             "#f1b6da"
            ],
            [
             0.4,
             "#fde0ef"
            ],
            [
             0.5,
             "#f7f7f7"
            ],
            [
             0.6,
             "#e6f5d0"
            ],
            [
             0.7,
             "#b8e186"
            ],
            [
             0.8,
             "#7fbc41"
            ],
            [
             0.9,
             "#4d9221"
            ],
            [
             1,
             "#276419"
            ]
           ],
           "sequential": [
            [
             0,
             "#0d0887"
            ],
            [
             0.1111111111111111,
             "#46039f"
            ],
            [
             0.2222222222222222,
             "#7201a8"
            ],
            [
             0.3333333333333333,
             "#9c179e"
            ],
            [
             0.4444444444444444,
             "#bd3786"
            ],
            [
             0.5555555555555556,
             "#d8576b"
            ],
            [
             0.6666666666666666,
             "#ed7953"
            ],
            [
             0.7777777777777778,
             "#fb9f3a"
            ],
            [
             0.8888888888888888,
             "#fdca26"
            ],
            [
             1,
             "#f0f921"
            ]
           ],
           "sequentialminus": [
            [
             0,
             "#0d0887"
            ],
            [
             0.1111111111111111,
             "#46039f"
            ],
            [
             0.2222222222222222,
             "#7201a8"
            ],
            [
             0.3333333333333333,
             "#9c179e"
            ],
            [
             0.4444444444444444,
             "#bd3786"
            ],
            [
             0.5555555555555556,
             "#d8576b"
            ],
            [
             0.6666666666666666,
             "#ed7953"
            ],
            [
             0.7777777777777778,
             "#fb9f3a"
            ],
            [
             0.8888888888888888,
             "#fdca26"
            ],
            [
             1,
             "#f0f921"
            ]
           ]
          },
          "colorway": [
           "#636efa",
           "#EF553B",
           "#00cc96",
           "#ab63fa",
           "#FFA15A",
           "#19d3f3",
           "#FF6692",
           "#B6E880",
           "#FF97FF",
           "#FECB52"
          ],
          "font": {
           "color": "#2a3f5f"
          },
          "geo": {
           "bgcolor": "white",
           "lakecolor": "white",
           "landcolor": "#E5ECF6",
           "showlakes": true,
           "showland": true,
           "subunitcolor": "white"
          },
          "hoverlabel": {
           "align": "left"
          },
          "hovermode": "closest",
          "mapbox": {
           "style": "light"
          },
          "paper_bgcolor": "white",
          "plot_bgcolor": "#E5ECF6",
          "polar": {
           "angularaxis": {
            "gridcolor": "white",
            "linecolor": "white",
            "ticks": ""
           },
           "bgcolor": "#E5ECF6",
           "radialaxis": {
            "gridcolor": "white",
            "linecolor": "white",
            "ticks": ""
           }
          },
          "scene": {
           "xaxis": {
            "backgroundcolor": "#E5ECF6",
            "gridcolor": "white",
            "gridwidth": 2,
            "linecolor": "white",
            "showbackground": true,
            "ticks": "",
            "zerolinecolor": "white"
           },
           "yaxis": {
            "backgroundcolor": "#E5ECF6",
            "gridcolor": "white",
            "gridwidth": 2,
            "linecolor": "white",
            "showbackground": true,
            "ticks": "",
            "zerolinecolor": "white"
           },
           "zaxis": {
            "backgroundcolor": "#E5ECF6",
            "gridcolor": "white",
            "gridwidth": 2,
            "linecolor": "white",
            "showbackground": true,
            "ticks": "",
            "zerolinecolor": "white"
           }
          },
          "shapedefaults": {
           "line": {
            "color": "#2a3f5f"
           }
          },
          "ternary": {
           "aaxis": {
            "gridcolor": "white",
            "linecolor": "white",
            "ticks": ""
           },
           "baxis": {
            "gridcolor": "white",
            "linecolor": "white",
            "ticks": ""
           },
           "bgcolor": "#E5ECF6",
           "caxis": {
            "gridcolor": "white",
            "linecolor": "white",
            "ticks": ""
           }
          },
          "title": {
           "x": 0.05
          },
          "xaxis": {
           "automargin": true,
           "gridcolor": "white",
           "linecolor": "white",
           "ticks": "",
           "title": {
            "standoff": 15
           },
           "zerolinecolor": "white",
           "zerolinewidth": 2
          },
          "yaxis": {
           "automargin": true,
           "gridcolor": "white",
           "linecolor": "white",
           "ticks": "",
           "title": {
            "standoff": 15
           },
           "zerolinecolor": "white",
           "zerolinewidth": 2
          }
         }
        },
        "xaxis": {
         "constrain": "domain",
         "scaleanchor": "y"
        },
        "yaxis": {
         "autorange": "reversed",
         "constrain": "domain"
        }
       }
      },
      "text/html": [
       "<div>                            <div id=\"a2c09f74-d180-499f-aa55-40df274e1fc0\" class=\"plotly-graph-div\" style=\"height:525px; width:100%;\"></div>            <script type=\"text/javascript\">                require([\"plotly\"], function(Plotly) {                    window.PLOTLYENV=window.PLOTLYENV || {};                                    if (document.getElementById(\"a2c09f74-d180-499f-aa55-40df274e1fc0\")) {                    Plotly.newPlot(                        \"a2c09f74-d180-499f-aa55-40df274e1fc0\",                        [{\"coloraxis\": \"coloraxis\", \"hovertemplate\": \"x: %{x}<br>y: %{y}<br>color: %{z}<extra></extra>\", \"type\": \"heatmap\", \"x\": [\"T_init_dura\", \"T_init_dist\", \"T_init_prob\", \"T_init_speed\", \"T_final_dura\", \"T_final_dist\", \"T_final_prob\", \"T_final_speed\", \"T_hab_dura\", \"T_hab_dist\", \"T_hab_prob\", \"T_hab_speed\"], \"y\": [\"T_init_dura\", \"T_init_dist\", \"T_init_prob\", \"T_init_speed\", \"T_final_dura\", \"T_final_dist\", \"T_final_prob\", \"T_final_speed\", \"T_hab_dura\", \"T_hab_dist\", \"T_hab_prob\", \"T_hab_speed\"], \"z\": [[1.0, 0.795783184364612, 0.694851669047494, 0.2073878273724611, 0.5267524040546495, 0.48472946692436925, 0.4568898298468271, 0.20177506231134074, 0.8778565151446528, 0.6814840116511949, 0.17885400964448794, 0.024161539116854137], [0.795783184364612, 1.0, 0.5491844451284029, 0.6925482786111123, 0.39749280028034467, 0.4981937591999343, 0.4204674166389433, 0.5532462194617398, 0.7750969358359469, 0.91267763789882, 0.14352643957880667, 0.4043007207348839], [0.694851669047494, 0.5491844451284029, 1.0, 0.14050984093847255, 0.4494646759039189, 0.39789711577357945, 0.5610921625409566, 0.20906351303627102, 0.668601646571845, 0.5074627138353167, 0.43674959583963735, 0.03081805874485259], [0.2073878273724611, 0.6925482786111123, 0.14050984093847255, 1.0, -0.09589943334668981, 0.19107886630306806, 0.10533002994659105, 0.6811461361397654, 0.26879255693585835, 0.6782893672840988, -0.05455180594617755, 0.6444475853261915], [0.5267524040546495, 0.39749280028034467, 0.4494646759039189, -0.09589943334668981, 1.0, 0.8921221470284313, 0.44297536286279027, 0.2522610389244415, 0.3081254180485184, 0.21349509283651794, 0.051169613554744614, -0.37585694454262897], [0.48472946692436925, 0.4981937591999343, 0.39789711577357945, 0.19107886630306806, 0.8921221470284313, 1.0, 0.4461474101058472, 0.5469659666941461, 0.28538001419115344, 0.32560560924930637, 0.012409300116538981, -0.20633798621659546], [0.4568898298468271, 0.4204674166389433, 0.5610921625409566, 0.10533002994659105, 0.44297536286279027, 0.4461474101058472, 1.0, 0.28512393414981496, 0.39998601424713764, 0.34173301504015674, -0.29415058226555457, -0.15900229026878374], [0.20177506231134074, 0.5532462194617398, 0.20906351303627102, 0.6811461361397654, 0.2522610389244415, 0.5469659666941461, 0.28512393414981496, 1.0, 0.12034929876908648, 0.46892423800595995, -0.1466481868631585, 0.21443669828025144], [0.8778565151446528, 0.7750969358359469, 0.668601646571845, 0.26879255693585835, 0.3081254180485184, 0.28538001419115344, 0.39998601424713764, 0.12034929876908648, 1.0, 0.8038825615651578, 0.26856738026036725, 0.24220482888344907], [0.6814840116511949, 0.91267763789882, 0.5074627138353167, 0.6782893672840988, 0.21349509283651794, 0.32560560924930637, 0.34173301504015674, 0.46892423800595995, 0.8038825615651578, 1.0, 0.2021575157312442, 0.542230199574173], [0.17885400964448794, 0.14352643957880667, 0.43674959583963735, -0.05455180594617755, 0.051169613554744614, 0.012409300116538981, -0.29415058226555457, -0.1466481868631585, 0.26856738026036725, 0.2021575157312442, 1.0, 0.15619396080126408], [0.024161539116854137, 0.4043007207348839, 0.03081805874485259, 0.6444475853261915, -0.37585694454262897, -0.20633798621659546, -0.15900229026878374, 0.21443669828025144, 0.24220482888344907, 0.542230199574173, 0.15619396080126408, 1.0]]}],                        {\"coloraxis\": {\"colorscale\": [[0.0, \"#0d0887\"], [0.1111111111111111, \"#46039f\"], [0.2222222222222222, \"#7201a8\"], [0.3333333333333333, \"#9c179e\"], [0.4444444444444444, \"#bd3786\"], [0.5555555555555556, \"#d8576b\"], [0.6666666666666666, \"#ed7953\"], [0.7777777777777778, \"#fb9f3a\"], [0.8888888888888888, \"#fdca26\"], [1.0, \"#f0f921\"]]}, \"margin\": {\"t\": 60}, \"template\": {\"data\": {\"bar\": [{\"error_x\": {\"color\": \"#2a3f5f\"}, \"error_y\": {\"color\": \"#2a3f5f\"}, \"marker\": {\"line\": {\"color\": \"#E5ECF6\", \"width\": 0.5}}, \"type\": \"bar\"}], \"barpolar\": [{\"marker\": {\"line\": {\"color\": \"#E5ECF6\", \"width\": 0.5}}, \"type\": \"barpolar\"}], \"carpet\": [{\"aaxis\": {\"endlinecolor\": \"#2a3f5f\", \"gridcolor\": \"white\", \"linecolor\": \"white\", \"minorgridcolor\": \"white\", \"startlinecolor\": \"#2a3f5f\"}, \"baxis\": {\"endlinecolor\": \"#2a3f5f\", \"gridcolor\": \"white\", \"linecolor\": \"white\", \"minorgridcolor\": \"white\", \"startlinecolor\": \"#2a3f5f\"}, \"type\": \"carpet\"}], \"choropleth\": [{\"colorbar\": {\"outlinewidth\": 0, \"ticks\": \"\"}, \"type\": \"choropleth\"}], \"contour\": [{\"colorbar\": {\"outlinewidth\": 0, \"ticks\": \"\"}, \"colorscale\": [[0.0, \"#0d0887\"], [0.1111111111111111, \"#46039f\"], [0.2222222222222222, \"#7201a8\"], [0.3333333333333333, \"#9c179e\"], [0.4444444444444444, \"#bd3786\"], [0.5555555555555556, \"#d8576b\"], [0.6666666666666666, \"#ed7953\"], [0.7777777777777778, \"#fb9f3a\"], [0.8888888888888888, \"#fdca26\"], [1.0, \"#f0f921\"]], \"type\": \"contour\"}], \"contourcarpet\": [{\"colorbar\": {\"outlinewidth\": 0, \"ticks\": \"\"}, \"type\": \"contourcarpet\"}], \"heatmap\": [{\"colorbar\": {\"outlinewidth\": 0, \"ticks\": \"\"}, \"colorscale\": [[0.0, \"#0d0887\"], [0.1111111111111111, \"#46039f\"], [0.2222222222222222, \"#7201a8\"], [0.3333333333333333, \"#9c179e\"], [0.4444444444444444, \"#bd3786\"], [0.5555555555555556, \"#d8576b\"], [0.6666666666666666, \"#ed7953\"], [0.7777777777777778, \"#fb9f3a\"], [0.8888888888888888, \"#fdca26\"], [1.0, \"#f0f921\"]], \"type\": \"heatmap\"}], \"heatmapgl\": [{\"colorbar\": {\"outlinewidth\": 0, \"ticks\": \"\"}, \"colorscale\": [[0.0, \"#0d0887\"], [0.1111111111111111, \"#46039f\"], [0.2222222222222222, \"#7201a8\"], [0.3333333333333333, \"#9c179e\"], [0.4444444444444444, \"#bd3786\"], [0.5555555555555556, \"#d8576b\"], [0.6666666666666666, \"#ed7953\"], [0.7777777777777778, \"#fb9f3a\"], [0.8888888888888888, \"#fdca26\"], [1.0, \"#f0f921\"]], \"type\": \"heatmapgl\"}], \"histogram\": [{\"marker\": {\"colorbar\": {\"outlinewidth\": 0, \"ticks\": \"\"}}, \"type\": \"histogram\"}], \"histogram2d\": [{\"colorbar\": {\"outlinewidth\": 0, \"ticks\": \"\"}, \"colorscale\": [[0.0, \"#0d0887\"], [0.1111111111111111, \"#46039f\"], [0.2222222222222222, \"#7201a8\"], [0.3333333333333333, \"#9c179e\"], [0.4444444444444444, \"#bd3786\"], [0.5555555555555556, \"#d8576b\"], [0.6666666666666666, \"#ed7953\"], [0.7777777777777778, \"#fb9f3a\"], [0.8888888888888888, \"#fdca26\"], [1.0, \"#f0f921\"]], \"type\": \"histogram2d\"}], \"histogram2dcontour\": [{\"colorbar\": {\"outlinewidth\": 0, \"ticks\": \"\"}, \"colorscale\": [[0.0, \"#0d0887\"], [0.1111111111111111, \"#46039f\"], [0.2222222222222222, \"#7201a8\"], [0.3333333333333333, \"#9c179e\"], [0.4444444444444444, \"#bd3786\"], [0.5555555555555556, \"#d8576b\"], [0.6666666666666666, \"#ed7953\"], [0.7777777777777778, \"#fb9f3a\"], [0.8888888888888888, \"#fdca26\"], [1.0, \"#f0f921\"]], \"type\": \"histogram2dcontour\"}], \"mesh3d\": [{\"colorbar\": {\"outlinewidth\": 0, \"ticks\": \"\"}, \"type\": \"mesh3d\"}], \"parcoords\": [{\"line\": {\"colorbar\": {\"outlinewidth\": 0, \"ticks\": \"\"}}, \"type\": \"parcoords\"}], \"pie\": [{\"automargin\": true, \"type\": \"pie\"}], \"scatter\": [{\"marker\": {\"colorbar\": {\"outlinewidth\": 0, \"ticks\": \"\"}}, \"type\": \"scatter\"}], \"scatter3d\": [{\"line\": {\"colorbar\": {\"outlinewidth\": 0, \"ticks\": \"\"}}, \"marker\": {\"colorbar\": {\"outlinewidth\": 0, \"ticks\": \"\"}}, \"type\": \"scatter3d\"}], \"scattercarpet\": [{\"marker\": {\"colorbar\": {\"outlinewidth\": 0, \"ticks\": \"\"}}, \"type\": \"scattercarpet\"}], \"scattergeo\": [{\"marker\": {\"colorbar\": {\"outlinewidth\": 0, \"ticks\": \"\"}}, \"type\": \"scattergeo\"}], \"scattergl\": [{\"marker\": {\"colorbar\": {\"outlinewidth\": 0, \"ticks\": \"\"}}, \"type\": \"scattergl\"}], \"scattermapbox\": [{\"marker\": {\"colorbar\": {\"outlinewidth\": 0, \"ticks\": \"\"}}, \"type\": \"scattermapbox\"}], \"scatterpolar\": [{\"marker\": {\"colorbar\": {\"outlinewidth\": 0, \"ticks\": \"\"}}, \"type\": \"scatterpolar\"}], \"scatterpolargl\": [{\"marker\": {\"colorbar\": {\"outlinewidth\": 0, \"ticks\": \"\"}}, \"type\": \"scatterpolargl\"}], \"scatterternary\": [{\"marker\": {\"colorbar\": {\"outlinewidth\": 0, \"ticks\": \"\"}}, \"type\": \"scatterternary\"}], \"surface\": [{\"colorbar\": {\"outlinewidth\": 0, \"ticks\": \"\"}, \"colorscale\": [[0.0, \"#0d0887\"], [0.1111111111111111, \"#46039f\"], [0.2222222222222222, \"#7201a8\"], [0.3333333333333333, \"#9c179e\"], [0.4444444444444444, \"#bd3786\"], [0.5555555555555556, \"#d8576b\"], [0.6666666666666666, \"#ed7953\"], [0.7777777777777778, \"#fb9f3a\"], [0.8888888888888888, \"#fdca26\"], [1.0, \"#f0f921\"]], \"type\": \"surface\"}], \"table\": [{\"cells\": {\"fill\": {\"color\": \"#EBF0F8\"}, \"line\": {\"color\": \"white\"}}, \"header\": {\"fill\": {\"color\": \"#C8D4E3\"}, \"line\": {\"color\": \"white\"}}, \"type\": \"table\"}]}, \"layout\": {\"annotationdefaults\": {\"arrowcolor\": \"#2a3f5f\", \"arrowhead\": 0, \"arrowwidth\": 1}, \"coloraxis\": {\"colorbar\": {\"outlinewidth\": 0, \"ticks\": \"\"}}, \"colorscale\": {\"diverging\": [[0, \"#8e0152\"], [0.1, \"#c51b7d\"], [0.2, \"#de77ae\"], [0.3, \"#f1b6da\"], [0.4, \"#fde0ef\"], [0.5, \"#f7f7f7\"], [0.6, \"#e6f5d0\"], [0.7, \"#b8e186\"], [0.8, \"#7fbc41\"], [0.9, \"#4d9221\"], [1, \"#276419\"]], \"sequential\": [[0.0, \"#0d0887\"], [0.1111111111111111, \"#46039f\"], [0.2222222222222222, \"#7201a8\"], [0.3333333333333333, \"#9c179e\"], [0.4444444444444444, \"#bd3786\"], [0.5555555555555556, \"#d8576b\"], [0.6666666666666666, \"#ed7953\"], [0.7777777777777778, \"#fb9f3a\"], [0.8888888888888888, \"#fdca26\"], [1.0, \"#f0f921\"]], \"sequentialminus\": [[0.0, \"#0d0887\"], [0.1111111111111111, \"#46039f\"], [0.2222222222222222, \"#7201a8\"], [0.3333333333333333, \"#9c179e\"], [0.4444444444444444, \"#bd3786\"], [0.5555555555555556, \"#d8576b\"], [0.6666666666666666, \"#ed7953\"], [0.7777777777777778, \"#fb9f3a\"], [0.8888888888888888, \"#fdca26\"], [1.0, \"#f0f921\"]]}, \"colorway\": [\"#636efa\", \"#EF553B\", \"#00cc96\", \"#ab63fa\", \"#FFA15A\", \"#19d3f3\", \"#FF6692\", \"#B6E880\", \"#FF97FF\", \"#FECB52\"], \"font\": {\"color\": \"#2a3f5f\"}, \"geo\": {\"bgcolor\": \"white\", \"lakecolor\": \"white\", \"landcolor\": \"#E5ECF6\", \"showlakes\": true, \"showland\": true, \"subunitcolor\": \"white\"}, \"hoverlabel\": {\"align\": \"left\"}, \"hovermode\": \"closest\", \"mapbox\": {\"style\": \"light\"}, \"paper_bgcolor\": \"white\", \"plot_bgcolor\": \"#E5ECF6\", \"polar\": {\"angularaxis\": {\"gridcolor\": \"white\", \"linecolor\": \"white\", \"ticks\": \"\"}, \"bgcolor\": \"#E5ECF6\", \"radialaxis\": {\"gridcolor\": \"white\", \"linecolor\": \"white\", \"ticks\": \"\"}}, \"scene\": {\"xaxis\": {\"backgroundcolor\": \"#E5ECF6\", \"gridcolor\": \"white\", \"gridwidth\": 2, \"linecolor\": \"white\", \"showbackground\": true, \"ticks\": \"\", \"zerolinecolor\": \"white\"}, \"yaxis\": {\"backgroundcolor\": \"#E5ECF6\", \"gridcolor\": \"white\", \"gridwidth\": 2, \"linecolor\": \"white\", \"showbackground\": true, \"ticks\": \"\", \"zerolinecolor\": \"white\"}, \"zaxis\": {\"backgroundcolor\": \"#E5ECF6\", \"gridcolor\": \"white\", \"gridwidth\": 2, \"linecolor\": \"white\", \"showbackground\": true, \"ticks\": \"\", \"zerolinecolor\": \"white\"}}, \"shapedefaults\": {\"line\": {\"color\": \"#2a3f5f\"}}, \"ternary\": {\"aaxis\": {\"gridcolor\": \"white\", \"linecolor\": \"white\", \"ticks\": \"\"}, \"baxis\": {\"gridcolor\": \"white\", \"linecolor\": \"white\", \"ticks\": \"\"}, \"bgcolor\": \"#E5ECF6\", \"caxis\": {\"gridcolor\": \"white\", \"linecolor\": \"white\", \"ticks\": \"\"}}, \"title\": {\"x\": 0.05}, \"xaxis\": {\"automargin\": true, \"gridcolor\": \"white\", \"linecolor\": \"white\", \"ticks\": \"\", \"title\": {\"standoff\": 15}, \"zerolinecolor\": \"white\", \"zerolinewidth\": 2}, \"yaxis\": {\"automargin\": true, \"gridcolor\": \"white\", \"linecolor\": \"white\", \"ticks\": \"\", \"title\": {\"standoff\": 15}, \"zerolinecolor\": \"white\", \"zerolinewidth\": 2}}}, \"xaxis\": {\"constrain\": \"domain\", \"scaleanchor\": \"y\"}, \"yaxis\": {\"autorange\": \"reversed\", \"constrain\": \"domain\"}},                        {\"responsive\": true}                    ).then(function(){\n",
       "                            \n",
       "var gd = document.getElementById('a2c09f74-d180-499f-aa55-40df274e1fc0');\n",
       "var x = new MutationObserver(function (mutations, observer) {{\n",
       "        var display = window.getComputedStyle(gd).display;\n",
       "        if (!display || display === 'none') {{\n",
       "            console.log([gd, 'removed!']);\n",
       "            Plotly.purge(gd);\n",
       "            observer.disconnect();\n",
       "        }}\n",
       "}});\n",
       "\n",
       "// Listen for the removal of the full notebook cells\n",
       "var notebookContainer = gd.closest('#notebook-container');\n",
       "if (notebookContainer) {{\n",
       "    x.observe(notebookContainer, {childList: true});\n",
       "}}\n",
       "\n",
       "// Listen for the clearing of the current output cell\n",
       "var outputEl = gd.closest('.output');\n",
       "if (outputEl) {{\n",
       "    x.observe(outputEl, {childList: true});\n",
       "}}\n",
       "\n",
       "                        })                };                });            </script>        </div>"
      ]
     },
     "metadata": {},
     "output_type": "display_data"
    }
   ],
   "source": [
    "fig = px.imshow(Corr_Master)\n",
    "fig.show()"
   ]
  },
  {
   "cell_type": "code",
   "execution_count": null,
   "metadata": {},
   "outputs": [],
   "source": [
    "from bokeh.io import show\n",
    "from bokeh.models import CustomJS, Select\n"
   ]
  },
  {
   "cell_type": "code",
   "execution_count": null,
   "metadata": {},
   "outputs": [],
   "source": [
    "\n",
    "select = Select(title=\"Option:\", value=\"foo\", options=[\"foo\", \"bar\", \"baz\", \"quux\"])\n",
    "select.js_on_change(\"value\", CustomJS(code=\"\"\"\n",
    "    console.log('select: value=' + this.value, this.toString())\n",
    "\"\"\"))\n",
    "\n",
    "show(select)"
   ]
  }
 ],
 "metadata": {
  "kernelspec": {
   "display_name": "Python 3 (ipykernel)",
   "language": "python",
   "name": "python3"
  },
  "language_info": {
   "codemirror_mode": {
    "name": "ipython",
    "version": 3
   },
   "file_extension": ".py",
   "mimetype": "text/x-python",
   "name": "python",
   "nbconvert_exporter": "python",
   "pygments_lexer": "ipython3",
   "version": "3.8.3"
  }
 },
 "nbformat": 4,
 "nbformat_minor": 4
}
