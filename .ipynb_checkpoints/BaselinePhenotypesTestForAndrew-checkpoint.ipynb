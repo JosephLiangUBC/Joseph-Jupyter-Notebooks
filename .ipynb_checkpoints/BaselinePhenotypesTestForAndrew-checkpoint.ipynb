{
 "cells": [
  {
   "cell_type": "markdown",
   "metadata": {
    "jp-MarkdownHeadingCollapsed": true,
    "tags": []
   },
   "source": [
    "# Jupyter Notebook UI to graph your baseline behavioural data - Altered specifically for Andrew Snow's MWT Project\n",
    "\n",
    "Version 1.3 - Joseph Liang, Rankin Lab\n",
    "Updated:\n",
    "1. Upgraded folder path selection application\n",
    "2. Upgraded dataset management (less moving parts for end-user)\n",
    "3. output changed from tif -> png\n",
    "\n",
    "## Beginner Essentials:\n",
    "1. Shift-Enter to run each cell. After you run, you should see an output \"done step #\". If not, an error has occured\n",
    "2. When inputting your own code/revising the code, make sure you close all your quotation marks '' and brackets (), [], {}.\n",
    "3. Don't leave any commas (,) hanging! (make sure an object always follows a comma. If there is nothing after a comma, remove the comma!\n",
    "4. Learning to code? Each line of code is annotated to help you understand how this code works!\n",
    "\n",
    "## 3. Run all cells/steps sequentially, even the ones that do not require input\n"
   ]
  },
  {
   "cell_type": "markdown",
   "metadata": {},
   "source": [
    "# 1. Importing Packages Required (No input required, just run)"
   ]
  },
  {
   "cell_type": "code",
   "execution_count": null,
   "metadata": {},
   "outputs": [],
   "source": [
    "import pandas as pd #<- package used to import and organize data\n",
    "import numpy as np #<- package used to import and organize data\n",
    "import seaborn as sns #<- package used to plot graphs\n",
    "from matplotlib import pyplot as plt #<- package used to plot graphs\n",
    "import os #<- package used to work with system filepaths\n",
    "from ipywidgets import widgets #<- widget tool to generate button\n",
    "from IPython.display import display #<- displays button\n",
    "# from tkinter import Tk, filedialog #<- Tkinter is a GUI package\n",
    "from tqdm.notebook import tqdm\n",
    "from ipyfilechooser import FileChooser\n",
    "# import dask.dataframe as dd\n",
    "import pingouin as pg\n",
    "import random\n",
    "pd.set_option('display.max_columns', 50)\n",
    "print(\"done step 1\")"
   ]
  },
  {
   "cell_type": "markdown",
   "metadata": {},
   "source": [
    "# 2. Pick filepath (just run and click button)\n",
    "\n",
    "Run the following cell and click the button 'Select Folder' to pick a filepath.\n",
    "\n",
    "### Important: Later on, this script uses the total file path for each file to import and group data. That means if your folder has whatever your strain is named, the script will not work.\n",
    "\n",
    "(ex. if your folder has \"N2\" in it this script sees all files inside this folder as having the \"N2\" search key)\n",
    "\n",
    "### An easy fix is to just rename your folder to something else (make your strains lower-case, or just have the date)"
   ]
  },
  {
   "cell_type": "code",
   "execution_count": null,
   "metadata": {},
   "outputs": [],
   "source": [
    "starting_directory='/Users/Joseph/Desktop/'\n",
    "chooser=FileChooser(starting_directory)\n",
    "display(chooser)"
   ]
  },
  {
   "cell_type": "code",
   "execution_count": null,
   "metadata": {},
   "outputs": [],
   "source": [
    "folder_path=chooser.selected_path\n",
    "print(folder_path)"
   ]
  },
  {
   "cell_type": "markdown",
   "metadata": {},
   "source": [
    "# 3. User Defined Variables (Add input here)\n",
    "\n",
    "### Setting time bins\n"
   ]
  },
  {
   "cell_type": "code",
   "execution_count": null,
   "metadata": {},
   "outputs": [],
   "source": [
    "# Setting 1s Bins: for 0.5s Bins: 0,360,721\n",
    "bins = np.arange(0,10801,1) # 1 second bins (start, end, steps in between)\n",
    "\n",
    "print(bins)\n",
    "\n",
    "print(len(bins))\n",
    "print(\"done step 3\")"
   ]
  },
  {
   "cell_type": "markdown",
   "metadata": {},
   "source": [
    "# 4. Construct filelist from folder path (No input required, just run)"
   ]
  },
  {
   "cell_type": "code",
   "execution_count": null,
   "metadata": {},
   "outputs": [],
   "source": [
    "#folder_path = '/Users/Joseph/Desktop/lrk1_ATR_NoATR_08_15_2019'\n",
    "print(folder_path)\n",
    "os.chdir(folder_path) #<- setting your working directory so that your images will be saved here\n",
    "\n",
    "filelist = list() #<- empty list\n",
    "for root, dirs, files in os.walk(folder_path): #<- this for loop goes through your folder \n",
    "    for name in files:\n",
    "        if name.endswith('.dat'): #<- and takes out all files with a .dat (file that contains your data)\n",
    "            filepath = os.path.join(root, name) #<- Notes down the file path of each data file\n",
    "            filelist.append(filepath) #<- saves it into the list\n",
    "    \n",
    "print(filelist)\n",
    "print('done step 4')"
   ]
  },
  {
   "cell_type": "markdown",
   "metadata": {},
   "source": [
    "# 5. Process Data Function (No input required, just run)"
   ]
  },
  {
   "cell_type": "code",
   "execution_count": null,
   "metadata": {},
   "outputs": [],
   "source": [
    "# Keep Cell For Debugging Purposes\n",
    "# string=filelist[0]\n",
    "# print(string)\n",
    "# print('date')\n",
    "# print(string.split('/')[-2].split('_')[0])\n",
    "# print(string.split('/')[-2].split('_')[1])\n",
    "# print(string.split('/')[6].split('_')[4].split('.')[0][1:5])\n",
    "# '/Volumes/JOSEPH/BSR/acr-3(ok2049)_OffFood/20230217_101835/RB1659_6x2_n72h20C_420s_C0217_RN1.00201.dat'\n",
    "# '/Volumes/JOSEPH/BSR/N2_OffFood/20220630_133223/N2_6x2_n72h20C_420s_A0630_NN1.00332.dat'"
   ]
  },
  {
   "cell_type": "code",
   "execution_count": null,
   "metadata": {},
   "outputs": [],
   "source": [
    "def ProcessData(strain): #<- an example of a user-defined function\n",
    "    strain_filelist = []  #<- empty list\n",
    "    for i in filelist: #<- goes through the list and filters for keyword\n",
    "        if strain in i:\n",
    "            strain_filelist.append(i)\n",
    "    Strain_N = len(strain_filelist) #<- N per strain, or number of plates\n",
    "    if Strain_N > 1000:\n",
    "        strain_filelist = random.sample(strain_filelist,1000)\n",
    "    Strain_N = len(strain_filelist)\n",
    "    print(f'This Strain has {Strain_N} worms tracked') #<- prints out number of plates per strain\n",
    "    for i, f in tqdm(enumerate(strain_filelist, start=1)): #<- a progress bar function integrated into data import\n",
    "        N = len(strain_filelist)\n",
    "        statement = f\"Processing {i} of {N} worms\" #<- progress bar statement\n",
    "        try:\n",
    "            DF_Read = pd.read_csv(f, sep=' ', skiprows = 0, header = None) #<- imports and cleans data\n",
    "        except Exception:\n",
    "            pass\n",
    "        DF_Read['plate_id'] = f.split('/')[-2].split('_')[1]\n",
    "        DF_Read['date'] = f.split('/')[-2].split('_')[0]\n",
    "        if i==1:\n",
    "            DF_Total = DF_Read\n",
    "            DF_Total = DF_Total.dropna(axis=0)\n",
    "            DF_Total[\"worm\"]=i\n",
    "            DF_Total=DF_Total.dropna()\n",
    "#             print(DF_Total)\n",
    "        else:\n",
    "            DF_Add = DF_Read\n",
    "            DF_Add = DF_Add.dropna(axis=0)\n",
    "            DF_Add[\"worm\"]=i\n",
    "            DF_Total = pd.concat((DF_Total, DF_Add), ignore_index = True)  #<- imports and cleans data\n",
    "        print(statement)\n",
    "#         print(DF_Total)\n",
    "    DF_Total = DF_Total.dropna(axis = 0) #<- more data cleaning\n",
    "    DF_Total = DF_Total.rename( #<- more data cleaning\n",
    "                {0:'time',\n",
    "                1:'speed',\n",
    "                2: \"x\",\n",
    "                3: \"y\",\n",
    "                4: \"angularspeed\",\n",
    "                5: \"pathlength\",\n",
    "                6: \"kink\",\n",
    "                7: \"bias\",\n",
    "                8: \"curve\",\n",
    "                9: \"dir\",\n",
    "                10: \"crab\",\n",
    "                11: \"length\",\n",
    "                12: \"midline\",\n",
    "                13: \"width\",\n",
    "                14: \"morphwidth\",\n",
    "                15: \"area\"\n",
    "                }, axis=1)\n",
    "#     print(DF_Total)\n",
    "\n",
    "    #0.5s Bins\n",
    "    Bins = [float(i) for i in bins] #<- adds time bins into the data frame\n",
    "    DF_Total['time_bin'] = pd.cut(DF_Total['time'], Bins, labels = Bins[1:])\n",
    "    DF_Total['time_bin'] = DF_Total['time_bin'].astype(np.float64)\n",
    "    DF_time_bin=DF_Total.groupby([\"time_bin\", \"worm\", \"plate_id\", \"date\"], as_index=False).mean()\n",
    "    # DF_time_bin = DF_time_bin[(300 <= DF_time_bin[\"time_bin\"])&(400 >= DF_time_bin[\"time_bin\"])]\n",
    "    \n",
    "    # DF_time_bin=DF_Total.groupby([\"date\", \"plate_id\"], as_index=False).mean()\n",
    "#     print(DF_time_bin)\n",
    "    #     DF_Speed_DF = DF_Total[[\"time\", \"time_bin\", \"speed\", \"x\", \"y\", \"x_0\",\"y_0\", \"pathlength\", \"worm\"]].copy()\n",
    "    \n",
    "    return{\n",
    "            'N': Strain_N,\n",
    "            'Confirm':DF_time_bin, #DF_Total if want to non-binned data\n",
    "#             'Speed_DF': DF_Speed_DF, #<- this is the finished product we will use for analysis\n",
    "            'Filelist':strain_filelist} \n",
    "\n",
    "print('done step 5')"
   ]
  },
  {
   "cell_type": "markdown",
   "metadata": {},
   "source": [
    "# 6.1 Processing Data (Automated - just run)"
   ]
  },
  {
   "cell_type": "code",
   "execution_count": null,
   "metadata": {},
   "outputs": [],
   "source": [
    "strainnames=[]\n",
    "for f in filelist:\n",
    "    strainnames.append(f.split('/')[-3])\n",
    "ustrainnames=list(set(strainnames))\n",
    "print(ustrainnames)\n",
    "ustrainnames.sort()\n",
    "\n",
    "nstrains=list(range(1,len(ustrainnames)+1))\n",
    "\n",
    "StrainNames = {}\n",
    "StrainNames = {nstrains[i]: ustrainnames[i] for i in range(len(nstrains))}\n",
    "print(StrainNames)\n",
    "print(\"done step 6.1\")"
   ]
  },
  {
   "cell_type": "markdown",
   "metadata": {},
   "source": [
    "# 6.2 Process Data (just run this cell)"
   ]
  },
  {
   "cell_type": "code",
   "execution_count": null,
   "metadata": {},
   "outputs": [],
   "source": [
    "import warnings\n",
    "warnings.filterwarnings('ignore')"
   ]
  },
  {
   "cell_type": "code",
   "execution_count": null,
   "metadata": {},
   "outputs": [],
   "source": [
    "DataLists = [0] #<- generates empty list. 0 is there to account for python's index starting at 0. \n",
    "# we want indexing to start at 1 (when I say #1 I want the first point, not the second point)\n",
    "\n",
    "for s in tqdm(StrainNames.values()): #<- goes through the dictionary in step 6.1 and processes data\n",
    "    if not s == '':\n",
    "        DataLists.append(ProcessData(s)['Confirm']) #<- appends all data into a list of dataframes\n",
    "# print(DataLists[2])\n",
    "print('done step 6.2')"
   ]
  },
  {
   "cell_type": "markdown",
   "metadata": {},
   "source": [
    "# 7. Grouping Data and Naming (Automated - just run)"
   ]
  },
  {
   "cell_type": "code",
   "execution_count": null,
   "metadata": {},
   "outputs": [],
   "source": [
    "TotalConcatenated=pd.concat(df.assign(Strain=StrainNames.get(i+1)) for i,df in enumerate(DataLists[1:]))\n",
    "TotalConcatenated=TotalConcatenated.rename(columns={\"Strain\": \"Tracker\"})\n",
    "# TotalConcatenated[['Genotype', 'Treatment']] = TotalConcatenated['Strain'].str.split('_', 1, expand=True)\n",
    "# TotalConcatenated=TotalConcatenated.dropna()\n",
    "# TotalConcatenated = TotalConcatenated.reset_index(drop=True)\n",
    "print(TotalConcatenated)\n",
    "print(os.getcwd())\n",
    "TotalConcatenated.to_csv(\"Baseline_output.csv\")\n",
    "# print(\"done output\")\n",
    "print('done step 7')"
   ]
  },
  {
   "cell_type": "markdown",
   "metadata": {},
   "source": [
    "## Add time tolerances here for experiments with no taps"
   ]
  },
  {
   "cell_type": "code",
   "execution_count": null,
   "metadata": {},
   "outputs": [],
   "source": [
    "times = np.linspace(0,10800,37)\n",
    "times_minus1 = times-1\n",
    "times_plus1 = times+1\n",
    "times_minus2 = times-2\n",
    "times_plus2 = times+2\n",
    "fiveminrangetimes = np.concatenate([times_minus2,times_minus1,times,times_plus1,times_plus2])\n",
    "print(fiveminrangetimes)"
   ]
  },
  {
   "cell_type": "markdown",
   "metadata": {},
   "source": [
    "## Add time tolerances to increase N here if you add taps"
   ]
  },
  {
   "cell_type": "code",
   "execution_count": null,
   "metadata": {},
   "outputs": [],
   "source": [
    "times = np.linspace(0,10800,37)\n",
    "times_plus1 = times+1\n",
    "times_plus2 = times+2\n",
    "times_plus3 = times+3\n",
    "times_plus4 = times+4\n",
    "times_plus5 = times+5\n",
    "times_plus6 = times+6\n",
    "times_plus7 = times+7\n",
    "fiveminrangetimes = np.concatenate([times,times_plus1,times_plus2,times_plus3,times_plus4,times_plus5,times_plus6,times_plus2])\n",
    "print(fiveminrangetimes)"
   ]
  },
  {
   "cell_type": "code",
   "execution_count": null,
   "metadata": {},
   "outputs": [],
   "source": [
    "every5min = TotalConcatenated[TotalConcatenated['time_bin'].isin(fiveminrangetimes)].reset_index(drop=True).rename(columns={\"Strain\": \"MWT\"})\n",
    "every5min[\"aspect\"]=every5min[\"length\"]/every5min[\"width\"]\n",
    "every5min[\"roundedtimebin\"] = round(every5min[\"time_bin\"]/100)*100\n",
    "print(every5min)"
   ]
  },
  {
   "cell_type": "code",
   "execution_count": null,
   "metadata": {},
   "outputs": [],
   "source": [
    "every5min.to_csv(\"5_min_data.csv\")"
   ]
  },
  {
   "cell_type": "code",
   "execution_count": null,
   "metadata": {},
   "outputs": [],
   "source": [
    "listofcolumns=['roundedtimebin','worm','plate_id','date','Tracker']\n",
    "final_5min = every5min.groupby(listofcolumns).mean(numeric_only =True)\n",
    "final_5min.columns = final_5min.columns.get_level_values(0)\n",
    "final_5min = final_5min.reset_index()\n",
    "print(final_5min)"
   ]
  },
  {
   "cell_type": "code",
   "execution_count": null,
   "metadata": {},
   "outputs": [],
   "source": [
    "final_5min.to_csv(\"final_5min.csv\")"
   ]
  },
  {
   "cell_type": "markdown",
   "metadata": {},
   "source": [
    "# Area Finding Tracker A"
   ]
  },
  {
   "cell_type": "code",
   "execution_count": null,
   "metadata": {},
   "outputs": [],
   "source": [
    "sns.set_context(\"notebook\")\n",
    "plt.figure(linewidth = 2.5)\n",
    "plt.gca().xaxis.grid(False)\n",
    "sns.scatterplot(x=final_5min[final_5min['Tracker']=='MWTA']['x'], y=final_5min[final_5min['Tracker']=='MWTA']['y']*-1, data=final_5min[final_5min['Tracker']=='MWTA'],hue='roundedtimebin')\n",
    "plt.title(\"MWT-A\")\n",
    "plt.xlabel(\"x\")\n",
    "plt.ylabel(\"y\")\n",
    "plt.savefig('MWT-A Positional Graph.png', format='png', dpi=450, bbox_inches='tight')"
   ]
  },
  {
   "cell_type": "code",
   "execution_count": null,
   "metadata": {},
   "outputs": [],
   "source": [
    "# Utils widgets\n",
    "from ipywidgets import FloatText\n",
    "from ipywidgets import GridspecLayout, Layout\n",
    "import itertools\n",
    "\n",
    "def create_textfield(description):\n",
    "    return FloatText(description=description, value=0, layout=Layout(height='auto', width='auto'))\n",
    "\n",
    "grida = GridspecLayout(4, 3)\n",
    "gridb = GridspecLayout(4, 3)\n",
    "gridc = GridspecLayout(4, 3)\n",
    "\n",
    "i_list=[\"X_min\", \"X_max\", \"Y_min\", \"Y_max\"]\n",
    "j_list=[\"N2\", \"304\", \"306\"]\n",
    "name_tuple=list(itertools.product(j_list, i_list))\n",
    "# print(name_tuple)\n",
    "\n",
    "name_list = [''.join(i) for i in name_tuple]\n",
    "\n",
    "# print(name_list)\n",
    "print(\"For MWT-A\")\n",
    "\n",
    "for i in range(len(i_list)):\n",
    "    for j in range(len(j_list)):\n",
    "        grida[i, j] = create_textfield('{}-{}'.format(j_list[j], i_list[i]))\n",
    "grida"
   ]
  },
  {
   "cell_type": "code",
   "execution_count": null,
   "metadata": {},
   "outputs": [],
   "source": [
    "print(\"For MWT-A:\")\n",
    "print(\"-\"*50)\n",
    "print(grida[0,0].description,\":\",grida[0,0].value)\n",
    "print(grida[1,0].description,\":\",grida[1,0].value)\n",
    "print(grida[2,0].description,\":\",grida[2,0].value)\n",
    "print(grida[3,0].description,\":\",grida[3,0].value)\n",
    "\n",
    "print(grida[0,1].description,\":\",grida[0,1].value)\n",
    "print(grida[1,1].description,\":\",grida[1,1].value)\n",
    "print(grida[2,1].description,\":\",grida[2,1].value)\n",
    "print(grida[3,1].description,\":\",grida[3,1].value)\n",
    "\n",
    "print(grida[0,2].description,\":\",grida[0,2].value)\n",
    "print(grida[1,2].description,\":\",grida[1,2].value)\n",
    "print(grida[2,2].description,\":\",grida[2,2].value)\n",
    "print(grida[3,2].description,\":\",grida[3,2].value)\n"
   ]
  },
  {
   "cell_type": "markdown",
   "metadata": {},
   "source": [
    "# Area Finding Tracker B"
   ]
  },
  {
   "cell_type": "code",
   "execution_count": null,
   "metadata": {},
   "outputs": [],
   "source": [
    "sns.set_context(\"notebook\")\n",
    "plt.figure(linewidth = 2.5)\n",
    "plt.gca().xaxis.grid(False)\n",
    "sns.scatterplot(x=final_5min[final_5min['Tracker']=='MWTB']['x'], y=final_5min[final_5min['Tracker']=='MWTB']['y']*-1, data=final_5min[final_5min['Tracker']=='MWTB'],hue='roundedtimebin')\n",
    "plt.title(\"MWT-B\")\n",
    "plt.xlabel(\"x\")\n",
    "plt.ylabel(\"y\")\n",
    "plt.savefig('MWT-B Positional Graph.png', format='png', dpi=450, bbox_inches='tight')"
   ]
  },
  {
   "cell_type": "code",
   "execution_count": null,
   "metadata": {},
   "outputs": [],
   "source": [
    "print(\"For MWT-B\")\n",
    "\n",
    "for x in range(len(i_list)):\n",
    "    for y in range(len(j_list)):\n",
    "        gridb[x, y] = create_textfield('{}-{}'.format(j_list[y], i_list[x]))\n",
    "gridb"
   ]
  },
  {
   "cell_type": "code",
   "execution_count": null,
   "metadata": {},
   "outputs": [],
   "source": [
    "print(\"For MWT-B:\")\n",
    "print(\"-\"*50)\n",
    "print(gridb[0,0].description,\":\",gridb[0,0].value)\n",
    "print(gridb[1,0].description,\":\",gridb[1,0].value)\n",
    "print(gridb[2,0].description,\":\",gridb[2,0].value)\n",
    "print(gridb[3,0].description,\":\",gridb[3,0].value)\n",
    "\n",
    "print(gridb[0,1].description,\":\",gridb[0,1].value)\n",
    "print(gridb[1,1].description,\":\",gridb[1,1].value)\n",
    "print(gridb[2,1].description,\":\",gridb[2,1].value)\n",
    "print(gridb[3,1].description,\":\",gridb[3,1].value)\n",
    "\n",
    "print(gridb[0,2].description,\":\",gridb[0,2].value)\n",
    "print(gridb[1,2].description,\":\",gridb[1,2].value)\n",
    "print(gridb[2,2].description,\":\",gridb[2,2].value)\n",
    "print(gridb[3,2].description,\":\",gridb[3,2].value)\n"
   ]
  },
  {
   "cell_type": "markdown",
   "metadata": {},
   "source": [
    "# Area Finding Tracker C"
   ]
  },
  {
   "cell_type": "code",
   "execution_count": null,
   "metadata": {},
   "outputs": [],
   "source": [
    "sns.set_context(\"notebook\")\n",
    "plt.figure(linewidth = 2.5)\n",
    "plt.gca().xaxis.grid(False)\n",
    "sns.scatterplot(x=final_5min[final_5min['Tracker']=='MWTC']['x'], y=final_5min[final_5min['Tracker']=='MWTC']['y']*-1, data=final_5min[final_5min['Tracker']=='MWTC'], hue='roundedtimebin')\n",
    "plt.title(\"MWT-C\")\n",
    "plt.xlabel(\"x\")\n",
    "plt.ylabel(\"y\")\n",
    "plt.savefig('MWT-C Positional Graph.png', format='png', dpi=450, bbox_inches='tight')"
   ]
  },
  {
   "cell_type": "code",
   "execution_count": null,
   "metadata": {},
   "outputs": [],
   "source": [
    "print(\"For MWT-C\")\n",
    "\n",
    "for a in range(len(i_list)):\n",
    "    for b in range(len(j_list)):\n",
    "        gridc[a, b] = create_textfield('{}-{}'.format(j_list[b], i_list[a]))\n",
    "gridc"
   ]
  },
  {
   "cell_type": "code",
   "execution_count": null,
   "metadata": {},
   "outputs": [],
   "source": [
    "print(\"For MWT-C:\")\n",
    "print(\"-\"*50)\n",
    "\n",
    "print(gridc[0,0].description,\":\",gridc[0,0].value)\n",
    "print(gridc[1,0].description,\":\",gridc[1,0].value)\n",
    "print(gridc[2,0].description,\":\",gridc[2,0].value)\n",
    "print(gridc[3,0].description,\":\",gridc[3,0].value)\n",
    "\n",
    "print(gridc[0,1].description,\":\",gridc[0,1].value)\n",
    "print(gridc[1,1].description,\":\",gridc[1,1].value)\n",
    "print(gridc[2,1].description,\":\",gridc[2,1].value)\n",
    "print(gridc[3,1].description,\":\",gridc[3,1].value)\n",
    "\n",
    "print(gridc[0,2].description,\":\",gridc[0,2].value)\n",
    "print(gridc[1,2].description,\":\",gridc[1,2].value)\n",
    "print(gridc[2,2].description,\":\",gridc[2,2].value)\n",
    "print(gridc[3,2].description,\":\",gridc[3,2].value)\n"
   ]
  },
  {
   "cell_type": "code",
   "execution_count": null,
   "metadata": {},
   "outputs": [],
   "source": [
    "print(every5min)\n",
    "print(range(len(every5min)))"
   ]
  },
  {
   "cell_type": "markdown",
   "metadata": {},
   "source": [
    "# Assigning Strain To Each Plate By Region"
   ]
  },
  {
   "cell_type": "code",
   "execution_count": null,
   "metadata": {},
   "outputs": [],
   "source": [
    "every5min=final_5min\n",
    "Strain = []\n",
    "for i in range(len(every5min)):\n",
    "    if every5min['Tracker'][i] == 'MWTA':\n",
    "        if grida[0,0].value <= every5min.x[i] <= grida[1,0].value and grida[2,0].value <= every5min.y[i] <= grida[3,0].value:\n",
    "            Strain.append('N2')\n",
    "        elif grida[0,1].value <= every5min.x[i] <= grida[1,1].value and grida[2,1].value <= every5min.y[i] <= grida[3,1].value:\n",
    "            Strain.append('miz304')\n",
    "        elif grida[0,2].value <= every5min.x[i] <= grida[1,2].value and grida[2,2].value <= every5min.y[i] <= grida[3,2].value:\n",
    "            Strain.append('miz306')\n",
    "        else : \n",
    "            Strain.append(np.nan) #When conditions are not met\n",
    "    elif every5min['Tracker'][i] == 'MWTB':\n",
    "        if gridb[0,0].value <= every5min.x[i] <= gridb[1,0].value and gridb[2,0].value <= every5min.y[i] <= gridb[3,0].value:\n",
    "            Strain.append('N2')\n",
    "        elif gridb[0,1].value <= every5min.x[i] <= gridb[1,1].value and gridb[2,1].value <= every5min.y[i] <= gridb[3,1].value:\n",
    "            Strain.append('miz304')\n",
    "        elif gridb[0,2].value <= every5min.x[i] <= gridb[1,2].value and gridb[2,2].value <= every5min.y[i] <= gridb[3,2].value:\n",
    "            Strain.append('miz306')\n",
    "        else : \n",
    "            Strain.append(np.nan) #When conditions are not met\n",
    "    elif every5min['Tracker'][i] == 'MWTC':\n",
    "        if gridc[0,0].value <= every5min.x[i] <= gridc[1,0].value and gridc[2,0].value <= every5min.y[i] <= gridc[3,0].value:\n",
    "            Strain.append('N2')\n",
    "        elif gridc[0,1].value <= every5min.x[i] <= gridc[1,1].value and gridc[2,1].value <= every5min.y[i] <= gridc[3,1].value:\n",
    "            Strain.append('miz304')\n",
    "        elif gridc[0,2].value <= every5min.x[i] <= gridc[1,2].value and gridc[2,2].value <= every5min.y[i] <= gridc[3,2].value:\n",
    "            Strain.append('miz306')\n",
    "        else : \n",
    "            Strain.append(np.nan) #When conditions are not met\n",
    "            \n",
    "every5min['Strain'] = Strain\n",
    "\n",
    "print(every5min)"
   ]
  },
  {
   "cell_type": "code",
   "execution_count": null,
   "metadata": {},
   "outputs": [],
   "source": [
    "every5min.to_csv(\"final_data_output.csv\")"
   ]
  },
  {
   "cell_type": "code",
   "execution_count": null,
   "metadata": {},
   "outputs": [],
   "source": [
    "measure_select=widgets.Dropdown(\n",
    "            options=['speed', 'angularspeed', 'pathlength','kink', 'bias','curve','crab','length','midline','width','morphwidth','area','aspect'],\n",
    "            value='speed',\n",
    "            description='Pick a measure:',\n",
    "            disabled=False)\n",
    "display(measure_select)"
   ]
  },
  {
   "cell_type": "code",
   "execution_count": null,
   "metadata": {},
   "outputs": [],
   "source": [
    "measure = measure_select.value\n",
    "\n",
    "sns.set_context(\"notebook\")\n",
    "plt.figure(linewidth = 2.5)\n",
    "plt.figure(figsize=(12,7))\n",
    "plt.gca().xaxis.grid(False)\n",
    "# sns.lineplot(data=TotalConcatenated,x='time_bin',y=measure,hue='Strain')\n",
    "sns.boxplot(x=\"roundedtimebin\", y=measure, data = every5min, hue='Strain',hue_order=[\"N2\",\"miz304\",\"miz306\"])\n",
    "# graph=sns.violinplot(x=\"roundedtimebin\", y=measure, data = every5min, hue='Strain', hue_order=[\"N2\",\"miz304\",\"miz306\"],split=True, gap=.1, inner='point')\n",
    "# sns.swarmplot(x=\"roundedtimebin\", y=measure, data = every5min, hue='Strain',hue_order=[\"N2\",\"miz304\",\"miz306\"], dodge=True)\n",
    "\n",
    "plt.xlabel(\"Time (s)\")\n",
    "plt.ylabel(f\"{measure}\")\n",
    "plt.xticks(rotation=90)\n",
    "# plt.title(\"\")\n",
    "# plt.ylim(top = 3)\n",
    "# plt.ylim(bottom = 0)\n",
    "# plt.xlim(left= 21)\n",
    "# plt.xlim(right = 35.5)\n",
    "# ax.legend(loc = 'upper right', fontsize = '10')\n",
    "# plt.savefig(f'{measure}_data_zoomin.png', format='png', dpi=450)\n",
    "plt.show()"
   ]
  },
  {
   "cell_type": "code",
   "execution_count": null,
   "metadata": {},
   "outputs": [],
   "source": []
  }
 ],
 "metadata": {
  "kernelspec": {
   "display_name": "Python 3 (ipykernel)",
   "language": "python",
   "name": "python3"
  },
  "language_info": {
   "codemirror_mode": {
    "name": "ipython",
    "version": 3
   },
   "file_extension": ".py",
   "mimetype": "text/x-python",
   "name": "python",
   "nbconvert_exporter": "python",
   "pygments_lexer": "ipython3",
   "version": "3.11.1"
  }
 },
 "nbformat": 4,
 "nbformat_minor": 4
}
