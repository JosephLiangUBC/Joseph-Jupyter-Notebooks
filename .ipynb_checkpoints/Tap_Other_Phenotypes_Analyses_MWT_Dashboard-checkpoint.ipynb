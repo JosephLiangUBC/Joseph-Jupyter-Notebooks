{
 "cells": [
  {
   "cell_type": "markdown",
   "metadata": {
    "jp-MarkdownHeadingCollapsed": true,
    "tags": []
   },
   "source": [
    "# Jupyter Notebook UI to analyze baseline data from tap-habituation experiments!\n",
    "\n",
    "Version 1.3 - Joseph Liang, Rankin Lab\n",
    "Updated:\n",
    "1. Upgraded folder path selection application\n",
    "2. Upgraded dataset management (less moving parts for end-user)\n",
    "3. output changed from tif -> png\n",
    "\n",
    "## Known bug: Step 2 an empty windows displays in Mac. May also apply to linux/windows.\n",
    "\n",
    "## Beginner Essentials:\n",
    "1. Shift-Enter to run each cell. After you run, you should see an output \"done step #\". If not, an error has occured\n",
    "2. When inputting your own code/revising the code, make sure you close all your quotation marks '' and brackets (), [], {}.\n",
    "3. Don't leave any commas (,) hanging! (make sure an object always follows a comma. If there is nothing after a comma, remove the comma!\n",
    "4. Learning to code? Each line of code is annotated to help you understand how this code works!\n",
    "\n",
    "## 3. Run all cells/steps sequentially, even the ones that do not require input\n",
    "\n",
    "## Steps that require input: #3, #6.1, #7"
   ]
  },
  {
   "cell_type": "markdown",
   "metadata": {},
   "source": [
    "# 1. Importing Packages Required (No input required, just run)"
   ]
  },
  {
   "cell_type": "code",
   "execution_count": 1,
   "metadata": {},
   "outputs": [
    {
     "name": "stdout",
     "output_type": "stream",
     "text": [
      "done step 1\n"
     ]
    }
   ],
   "source": [
    "import pandas as pd #<- package used to import and organize data\n",
    "import numpy as np #<- package used to import and organize data\n",
    "import seaborn as sns #<- package used to plot graphs\n",
    "from matplotlib import pyplot as plt #<- package used to plot graphs\n",
    "import os #<- package used to work with system filepaths\n",
    "from ipywidgets import widgets #<- widget tool to generate button\n",
    "from IPython.display import display #<- displays button\n",
    "from ipyfilechooser import FileChooser\n",
    "# from tkinter import Tk, filedialog #<- Tkinter is a GUI package\n",
    "from tqdm.notebook import tqdm\n",
    "# import dask.dataframe as dd\n",
    "import pingouin as pg\n",
    "pd.set_option('display.max_columns', 50)\n",
    "print(\"done step 1\")"
   ]
  },
  {
   "cell_type": "markdown",
   "metadata": {},
   "source": [
    "# 2. Pick filepath (just run and click button)\n",
    "\n",
    "Run the following cell and clicke the button 'Select Folder' to pick a filepath.\n",
    "\n",
    "## Important: Later on, this script uses the total file path for each file to import and group data. That means if your folder has whatever your strain is named, the script will not work.\n",
    "\n",
    "(ex. if your folder has \"N2\" in it this script sees all files inside this folder as having the \"N2\" search key)\n",
    "\n",
    "## An easy fix is to just rename your folder to something else (make your strains lower-case, or just have the date)"
   ]
  },
  {
   "cell_type": "code",
   "execution_count": 2,
   "metadata": {},
   "outputs": [
    {
     "data": {
      "application/vnd.jupyter.widget-view+json": {
       "model_id": "1ea07c578fdc4c5885370679861fe073",
       "version_major": 2,
       "version_minor": 0
      },
      "text/plain": [
       "FileChooser(path='/Users/Joseph', filename='', title='', show_hidden=False, select_desc='Select', change_desc=…"
      ]
     },
     "metadata": {},
     "output_type": "display_data"
    }
   ],
   "source": [
    "starting_directory = '/Users/Joseph'\n",
    "chooser = FileChooser(starting_directory)\n",
    "display(chooser)"
   ]
  },
  {
   "cell_type": "code",
   "execution_count": 3,
   "metadata": {},
   "outputs": [
    {
     "name": "stdout",
     "output_type": "stream",
     "text": [
      "/Volumes/JosephSSD2T/PD_Screen_Pt2\n"
     ]
    }
   ],
   "source": [
    "print(chooser.selected_path)\n",
    "folder_path=chooser.selected_path"
   ]
  },
  {
   "cell_type": "code",
   "execution_count": null,
   "metadata": {},
   "outputs": [],
   "source": [
    "# Obsolete\n",
    "# ### Select Folder App - After you run, you can select your folder for filepath\n",
    "# button = widgets.Button(description = 'Select Folder') #<- creates a button variable\n",
    "# display(button) #<- displays the button in output\n",
    "\n",
    "# def select_folder(b): #<- defines an action. This action requires a variable, so an arbitrary one 'b' is there\n",
    "#     global folder_path #<- sets a variable as a global variable, not just within this action\n",
    "#     #Tk().withdraw() #<- Tkinter likes to create annoying empty windows. This removes them\n",
    "#     folder_path = filedialog.askdirectory() #<- Opens up a file explorer window, and determines folder path\n",
    "#     #Tk().update() #<- below\n",
    "#     #Tk().destroy() #<- this and the line above it removes the file explorer window after a selection is made\n",
    "#     print(folder_path) #<- this helps confirm that this action was performed\n",
    "#     print('done step 2')\n",
    "# button.on_click(select_folder)"
   ]
  },
  {
   "cell_type": "markdown",
   "metadata": {},
   "source": [
    "# 3. User Defined Variables (Add input here)\n",
    "\n",
    "Here, we add some constants to help you blaze through this code.\n",
    "\n",
    "## 3.1: Setting time bins\n",
    "pretty self explanatory\n",
    "\n",
    "\n",
    "\n",
    "## 3.2: Setting view range for your graph\n",
    "Top, bottom = y axis view range\n",
    "left, right = x axis view range\n",
    "\n"
   ]
  },
  {
   "cell_type": "code",
   "execution_count": 4,
   "metadata": {},
   "outputs": [
    {
     "name": "stdout",
     "output_type": "stream",
     "text": [
      "[0.000e+00 1.000e+00 2.000e+00 ... 1.198e+03 1.199e+03 1.200e+03]\n",
      "done step 3\n"
     ]
    }
   ],
   "source": [
    "# Setting 1s Bins: for 0.5s Bins: 0,360,721\n",
    "# bins = np.linspace(0,360,721) #<- np.linspace(start, end, steps in between)\n",
    "# bins = np.linspace(0,420,841) #<- np.linspace(start, end, steps in between)\n",
    "# bins = np.linspace(0,420,421) # 1 second bins (smoother lines on graph)\n",
    "bins = np.linspace(0,1200,1201) # 1 second bins (smoother lines on graph)\n",
    "print(bins)\n",
    "\n",
    "\n",
    "print(\"done step 3\")"
   ]
  },
  {
   "cell_type": "markdown",
   "metadata": {},
   "source": [
    "# 4. Construct filelist from folder path (No input required, just run)"
   ]
  },
  {
   "cell_type": "code",
   "execution_count": 5,
   "metadata": {},
   "outputs": [
    {
     "name": "stdout",
     "output_type": "stream",
     "text": [
      "/Volumes/JosephSSD2T/PD_Screen_Pt2\n",
      "['/Volumes/JosephSSD2T/PD_Screen_Pt2/gly-5_gk3119/20231116_144810/VC3230_10x2_f96h20C_600s31x10s10s_A1112cc.dat', '/Volumes/JosephSSD2T/PD_Screen_Pt2/gly-5_gk3119/20231116_153132/VC3230_10x2_f96H20C_600s31x10s10s_B1112ce.dat', '/Volumes/JosephSSD2T/PD_Screen_Pt2/gly-5_gk3119/20231116_135938/VC3230_10x2_f96H20C_600s31x10s10s_B1112cb.dat', '/Volumes/JosephSSD2T/PD_Screen_Pt2/gly-5_gk3119/20231116_132201/VC3230_9x2_f96h20C_600s31x10s10s_C1112ca.dat', '/Volumes/JosephSSD2T/PD_Screen_Pt2/gly-5_gk3119/20231116_145544/VC3230_10x2_f96h20C_600s31x10s10s_C1112cd.dat', '/Volumes/JosephSSD2T/PD_Screen_Pt2/klu-1_ok1306/20231215_191355/RB1241_10x2_f96h20C_600s31x10s10s_B1211dc.dat', '/Volumes/JosephSSD2T/PD_Screen_Pt2/klu-1_ok1306/20231215_171723/RB1241_9X2_f96h20C_600s31x10s10s_C1211db.dat', '/Volumes/JosephSSD2T/PD_Screen_Pt2/klu-1_ok1306/20231215_204042/RB1241_10X2_f96h20C_600s31x10s10s_C1211de.dat', '/Volumes/JosephSSD2T/PD_Screen_Pt2/klu-1_ok1306/20231215_204054/RB1241_10x2_f96h20C_600s31x10s10s_A1211dd.dat', '/Volumes/JosephSSD2T/PD_Screen_Pt2/klu-1_ok1306/20231215_170030/RB1241_10x2_f96h20C_600s31x10s10s_A1211da.dat', '/Volumes/JosephSSD2T/PD_Screen_Pt2/immt-1_tm2366/20231129_122509/FX02366_9x2_f96h20C_600s31x10s10s_A1129bc.dat', '/Volumes/JosephSSD2T/PD_Screen_Pt2/immt-1_tm2366/20231129_123334/FX02366_9x2_f72h20C_600s31x10s10s_B1129bd.dat', '/Volumes/JosephSSD2T/PD_Screen_Pt2/immt-1_tm2366/20231129_111603/FX02366_9x2_f72h20C_600s31x10s10s_B1129ba.dat', '/Volumes/JosephSSD2T/PD_Screen_Pt2/immt-1_tm2366/20231129_113501/FX02366_9x2_f96h20C_600s31x10s10s_C1129bb.dat', '/Volumes/JosephSSD2T/PD_Screen_Pt2/immt-1_tm2366/20231129_125358/FX02366_9x2_f96h20C_600s31x10s10s_C1129be.dat', '/Volumes/JosephSSD2T/PD_Screen_Pt2/catp-7_tm4438/20231220_122357/FX04438_12x2_f96h20C_600s31x10s10s_A1220da.dat', '/Volumes/JosephSSD2T/PD_Screen_Pt2/catp-7_tm4438/20231220_110652/FX04438_12X2_f96h20C_600s31x10s10s_C1220ca.dat', '/Volumes/JosephSSD2T/PD_Screen_Pt2/catp-7_tm4438/20231220_125107/FX04438_12X2_f96h20C_600s31x10s10s_C1220cd.dat', '/Volumes/JosephSSD2T/PD_Screen_Pt2/catp-7_tm4438/20231220_123259/FX04438_12x2_f72h20C_600s31x10s10s_B1220cc.dat', '/Volumes/JosephSSD2T/PD_Screen_Pt2/catp-7_tm4438/20231220_134206/FX04438_12x2_f96h20C_600s31x10s10s_A1220ce.dat', '/Volumes/JosephSSD2T/PD_Screen_Pt2/gly-7_gk374/20231102_151831/VC879_9x2_f96h20C_600s31x10s10s_C1029bb.dat', '/Volumes/JosephSSD2T/PD_Screen_Pt2/gly-7_gk374/20231102_145506/VC879_9x2_f96H20C_600s31x10s10s_B1029ba.dat', '/Volumes/JosephSSD2T/PD_Screen_Pt2/gly-7_gk374/20231102_171408/VC879_9x2_f96H20C_600s31x10s10s_B1029bd.dat', '/Volumes/JosephSSD2T/PD_Screen_Pt2/gly-7_gk374/20231102_173141/VC879_9x2_f96h20C_600s31x10s10s_C1029be.dat', '/Volumes/JosephSSD2T/PD_Screen_Pt2/gly-7_gk374/20231102_170259/VC879_9x2_f96h20C_600s31x10s10s_A1029bc.dat', '/Volumes/JosephSSD2T/PD_Screen_Pt2/har-1_gk3124/20231025_145347/VC3169_10x2_f96h20C_600s31x10s10s_A1021da.dat', '/Volumes/JosephSSD2T/PD_Screen_Pt2/har-1_gk3124/20231025_164653/VC3169_10x2_f96h20C_600s31x10s10s_A1021dd.dat', '/Volumes/JosephSSD2T/PD_Screen_Pt2/har-1_gk3124/20231025_150427/VC3169_10x2_f96H20C_600s31x10s10s_B1021db.dat', '/Volumes/JosephSSD2T/PD_Screen_Pt2/har-1_gk3124/20231025_165853/VC3169_10x2_f96H20C_600s31x10s10s_B1021de.dat', '/Volumes/JosephSSD2T/PD_Screen_Pt2/har-1_gk3124/20231025_152409/VC3169_10x2_f96h20C_600s31x10s10s_C1021dc.dat', '/Volumes/JosephSSD2T/PD_Screen_Pt2/klp-12_tm5176/20231115_112004/FX05176_9x2_f96H20C_600s31x10s10s_B1115cc.dat', '/Volumes/JosephSSD2T/PD_Screen_Pt2/klp-12_tm5176/20231115_104740/FX05176_9x2_f96h20C_600s31x10s10s_C1115ca.dat', '/Volumes/JosephSSD2T/PD_Screen_Pt2/klp-12_tm5176/20231115_120239/FX05176_9x2_f96h20C_600s31x10s10s_C1115cd.dat', '/Volumes/JosephSSD2T/PD_Screen_Pt2/klp-12_tm5176/20231115_124958/FX05176_9x2_f96h20C_600s31x10s10s_A1115ce.dat', '/Volumes/JosephSSD2T/PD_Screen_Pt2/N2/20231025_142719/N2_9x2_f96h20C_600s31x10s10s_A1021aa.dat', '/Volumes/JosephSSD2T/PD_Screen_Pt2/N2/20231025_162139/N2_9x2_f96h20C_600s31x10s10s_A1021ad.dat', '/Volumes/JosephSSD2T/PD_Screen_Pt2/N2/20231025_143821/N2_9x2_f96H20C_600s31x10s10s_B1021ab.dat', '/Volumes/JosephSSD2T/PD_Screen_Pt2/N2/20231025_163128/N2_9x2_f96H20C_600s31x10s10s_B1021ae.dat', '/Volumes/JosephSSD2T/PD_Screen_Pt2/N2/20231025_145647/N2_9x2_f96h20C_600s31x10s10s_C1021ac.dat', '/Volumes/JosephSSD2T/PD_Screen_Pt2/N2/20231206_113502/N2_9x2_f96h20C_600s31x10s10s_A1206aa.dat', '/Volumes/JosephSSD2T/PD_Screen_Pt2/N2/20231206_114403/N2_9x2_f72h20C_600s31x10s10s_B1206ab.dat', '/Volumes/JosephSSD2T/PD_Screen_Pt2/N2/20231206_120916/N2_9x2_f96h20C_600s31x10s10s_C1206ac.dat', '/Volumes/JosephSSD2T/PD_Screen_Pt2/N2/20231206_132504/N2_9x2_f96h20C_600s31x10s10s_A1206ad.dat', '/Volumes/JosephSSD2T/PD_Screen_Pt2/N2/20231206_133323/N2_9x2_f72h20C_600s31x10s10s_B1206ae.dat', '/Volumes/JosephSSD2T/PD_Screen_Pt2/N2/20231215_160923/N2_9x2_f96h20C_600s31x10s10s_A1211aa.dat', '/Volumes/JosephSSD2T/PD_Screen_Pt2/N2/20231215_163539/N2_9X2_f96h20C_600s31x10s10s_C1211ab.dat', '/Volumes/JosephSSD2T/PD_Screen_Pt2/N2/20231215_183054/N2_9x2_f96h20C_600s31x10s10s_B1211ac.dat', '/Volumes/JosephSSD2T/PD_Screen_Pt2/N2/20231215_195508/N2_9x2_f96h20C_600s31x10s10s_A1211ad.dat', '/Volumes/JosephSSD2T/PD_Screen_Pt2/N2/20231215_201601/N2_9X2_f96h20C_600s31x10s10s_C1211ae.dat', '/Volumes/JosephSSD2T/PD_Screen_Pt2/N2/20231220_113134/N2_9x2_f96h20C_600s31x10s10s_A1220aa.dat', '/Volumes/JosephSSD2T/PD_Screen_Pt2/N2/20231220_114118/N2_9x2_f72h20C_600s31x10s10s_B1220ab.dat', '/Volumes/JosephSSD2T/PD_Screen_Pt2/N2/20231220_115919/N2_9X2_f96h20C_600s31x10s10s_C1220ac.dat', '/Volumes/JosephSSD2T/PD_Screen_Pt2/N2/20231220_124934/N2_9x2_f96h20C_600s31x10s10s_A1220ad.dat', '/Volumes/JosephSSD2T/PD_Screen_Pt2/N2/20231220_125808/N2_9x2_f72h20C_600s31x10s10s_B1220ae.dat', '/Volumes/JosephSSD2T/PD_Screen_Pt2/N2/20231102_151046/N2_9x2_f96h20C_600s31x10s10s_A1029aa.dat', '/Volumes/JosephSSD2T/PD_Screen_Pt2/N2/20231102_152617/N2_9x2_f96H20C_600s31x10s10s_B1029ab.dat', '/Volumes/JosephSSD2T/PD_Screen_Pt2/N2/20231102_154221/N2_9x2_f96h20C_600s31x10s10s_C1029ac.dat', '/Volumes/JosephSSD2T/PD_Screen_Pt2/N2/20231102_172948/N2_9x2_f96h20C_600s31x10s10s_A1029ad.dat', '/Volumes/JosephSSD2T/PD_Screen_Pt2/N2/20231102_173926/N2_9x2_f96H20C_600s31x10s10s_B1029ae.dat', '/Volumes/JosephSSD2T/PD_Screen_Pt2/N2/20231115_105519/N2_9x2_f96H20C_600s31x10s10s_B1115ab.dat', '/Volumes/JosephSSD2T/PD_Screen_Pt2/N2/20231115_111044/N2_9x2_f96h20C_600s31x10s10s_A1115aa.dat', '/Volumes/JosephSSD2T/PD_Screen_Pt2/N2/20231115_113818/N2_9x2_f96h20C_600s31x10s10s_C1115ac.dat', '/Volumes/JosephSSD2T/PD_Screen_Pt2/N2/20231115_121019/N2_9x2_f96H20C_600s31x10s10s_B1115ae.dat', '/Volumes/JosephSSD2T/PD_Screen_Pt2/N2/20231115_122547/N2_9x2_f96h20C_600s31x10s10s_A1115ad.dat', '/Volumes/JosephSSD2T/PD_Screen_Pt2/N2/20231116_134554/N2_9x2_f96h20C_600s31x10s10s_A1112aa.dat', '/Volumes/JosephSSD2T/PD_Screen_Pt2/N2/20231116_135146/N2_9x2_f96h20C_600s31x10s10s_C1112ab.dat', '/Volumes/JosephSSD2T/PD_Screen_Pt2/N2/20231116_143210/N2_9x2_f96H20C_600s31x10s10s_B1112ac.dat', '/Volumes/JosephSSD2T/PD_Screen_Pt2/N2/20231116_151938/N2_9x2_f96h20C_600s31x10s10s_A1112ad.dat', '/Volumes/JosephSSD2T/PD_Screen_Pt2/N2/20231116_152340/N2_9x2_f96h20C_600s31x10s10s_C1112ae.dat', '/Volumes/JosephSSD2T/PD_Screen_Pt2/N2/20231120_153341/N2_9x2_f96h20C_600s31x10s10s_A1116aa.dat', '/Volumes/JosephSSD2T/PD_Screen_Pt2/N2/20231120_154051/N2_9x2_f96h20C_600s31x10s10s_C1116ab.dat', '/Volumes/JosephSSD2T/PD_Screen_Pt2/N2/20231120_165130/N2_9x2_f72h20C_600s31x10s10s_B1116ac.dat', '/Volumes/JosephSSD2T/PD_Screen_Pt2/N2/20231120_181141/N2_9x2_f96h20C_600s31x10s10s_A1116ad.dat', '/Volumes/JosephSSD2T/PD_Screen_Pt2/N2/20231120_181253/N2_9x2_f96h20C_600s31x10s10s_C1116ae.dat', '/Volumes/JosephSSD2T/PD_Screen_Pt2/N2/20231122_103739/N2_9x2_f96h20C_600s31x10s10s_C1122ab.dat', '/Volumes/JosephSSD2T/PD_Screen_Pt2/N2/20231122_110104/N2_9x2_f96h20C_600s31x10s10s_A1122aa.dat', '/Volumes/JosephSSD2T/PD_Screen_Pt2/N2/20231122_111254/N2_9x2_f72h20C_600s31x10s10s_B1122ad.dat', '/Volumes/JosephSSD2T/PD_Screen_Pt2/N2/20231122_115339/N2_9x2_f96h20C_600s31x10s10s_A1122ae.dat', '/Volumes/JosephSSD2T/PD_Screen_Pt2/N2/20231129_113132/N2_9x2_f96h20C_600s31x10s10s_A1129aa.dat', '/Volumes/JosephSSD2T/PD_Screen_Pt2/N2/20231129_113939/N2_9x2_f72h20C_600s31x10s10s_B1129ab.dat', '/Volumes/JosephSSD2T/PD_Screen_Pt2/N2/20231129_115958/N2_9x2_f96h20C_600s31x10s10s_C1129ac.dat', '/Volumes/JosephSSD2T/PD_Screen_Pt2/N2/20231129_125027/N2_9x2_f96h20C_600s31x10s10s_A1129ad.dat', '/Volumes/JosephSSD2T/PD_Screen_Pt2/N2/20231129_130240/N2_9x2_f72h20C_600s31x10s10s_B1129ae.dat', '/Volumes/JosephSSD2T/PD_Screen_Pt2/F35C8_tm4028/20231120_184601/FX4028_9x2_f96h20C_600s31x10s10s_B1116ce.dat', '/Volumes/JosephSSD2T/PD_Screen_Pt2/F35C8_tm4028/20231120_162540/FX4028_9x2_f72h20C_600s31x10s10s_B1116cb.dat', '/Volumes/JosephSSD2T/PD_Screen_Pt2/F35C8_tm4028/20231120_150943/FX4028_9x2_f96h20C_600s31x10s10s_C1116ca.dat', '/Volumes/JosephSSD2T/PD_Screen_Pt2/F35C8_tm4028/20231120_174738/FX4028_9x2_f96h20C_600s31x10s10s_C1116cd.dat', '/Volumes/JosephSSD2T/PD_Screen_Pt2/F35C8_tm4028/20231120_174546/FX4028_9x2_f96h20C_600s31x10s10s_A1116cc.dat', '/Volumes/JosephSSD2T/PD_Screen_Pt2/scav-5_ok1606/20231025_154717/RB1409_10x2_f96h20C_600s31x10s10s_A1021bc.dat', '/Volumes/JosephSSD2T/PD_Screen_Pt2/scav-5_ok1606/20231025_141153/RB1409_10x2_f96H20C_600s31x10s10s_B1021ba.dat', '/Volumes/JosephSSD2T/PD_Screen_Pt2/scav-5_ok1606/20231025_160613/RB1409_10x2_f96H20C_600s31x10s10s_B1021bd.dat', '/Volumes/JosephSSD2T/PD_Screen_Pt2/scav-5_ok1606/20231025_162347/RB1409_10x2_f96h20C_600s31x10s10s_C1021be.dat', '/Volumes/JosephSSD2T/PD_Screen_Pt2/scav-5_ok1606/20231025_143041/RB1409_10x2_f96h20C_600s31x10s10s_C1021bb.dat', '/Volumes/JosephSSD2T/PD_Screen_Pt2/imp-1_ok2362/20231122_112821/RB1825_25x2_f96h20C_600s31x10s10s_A1122bb.dat', '/Volumes/JosephSSD2T/PD_Screen_Pt2/imp-1_ok2362/20231122_113745/RB1825_25x2_f72h20C_600s31x10s10s_B1122bd.dat', '/Volumes/JosephSSD2T/PD_Screen_Pt2/imp-1_ok2362/20231122_104522/RB1825_25x2_f72h20C_600s31x10s10s_B1122ba.dat', '/Volumes/JosephSSD2T/PD_Screen_Pt2/imp-1_ok2362/20231122_110510/RB1825_25x2_f96h20C_600s31x10s10s_C1122bc.dat', '/Volumes/JosephSSD2T/PD_Screen_Pt2/imp-1_ok2362/20231122_113002/RB1825_25x2_f96h20C_600s31x10s10s_C1122be.dat', '/Volumes/JosephSSD2T/PD_Screen_Pt2/unc-70_e524/20231025_171419/CB524_10x2_f96h20C_600s31x10s10s_A1021ce.dat', '/Volumes/JosephSSD2T/PD_Screen_Pt2/unc-70_e524/20231025_151954/CB524_10x2_f96h20C_600s31x10s10s_A1021cb.dat', '/Volumes/JosephSSD2T/PD_Screen_Pt2/unc-70_e524/20231025_153150/CB524_10x2_f96H20C_600s31x10s10s_B1021cc.dat', '/Volumes/JosephSSD2T/PD_Screen_Pt2/unc-70_e524/20231025_140413/CB524_10x2_f96h20C_600s31x10s10s_C1021ca.dat', '/Volumes/JosephSSD2T/PD_Screen_Pt2/unc-70_e524/20231025_155832/CB524_10x2_f96h20C_600s31x10s10s_C1021cd.dat', '/Volumes/JosephSSD2T/PD_Screen_Pt2/immt-1_tm1730/20231206_113612/FX01730_9x2_f96h20C_600s31x10s10s_C1206bb.dat', '/Volumes/JosephSSD2T/PD_Screen_Pt2/immt-1_tm1730/20231206_132500/FX01730_9x2_f96h20C_600s31x10s10s_C1206be.dat', '/Volumes/JosephSSD2T/PD_Screen_Pt2/immt-1_tm1730/20231206_111857/FX01730_9x2_f72h20C_600s31x10s10s_B1206ba.dat', '/Volumes/JosephSSD2T/PD_Screen_Pt2/immt-1_tm1730/20231206_130843/FX01730_9x2_f72h20C_600s31x10s10s_B1206bd.dat', '/Volumes/JosephSSD2T/PD_Screen_Pt2/immt-1_tm1730/20231206_125858/FX01730_9x2_f96h20C_600s31x10s10s_A1206bc.dat', '/Volumes/JosephSSD2T/PD_Screen_Pt2/immt-1_tm11505/20231206_123455/FX21503_10x2_f96h20C_600s31x10s10s_C1206dc.dat', '/Volumes/JosephSSD2T/PD_Screen_Pt2/immt-1_tm11505/20231206_121704/FX21503_10x2_f72h20C_600s31x10s10s_B1206db.dat', '/Volumes/JosephSSD2T/PD_Screen_Pt2/immt-1_tm11505/20231206_135702/FX21503_10x2_f72h20C_600s31x10s10s_B1206de.dat', '/Volumes/JosephSSD2T/PD_Screen_Pt2/immt-1_tm11505/20231206_141355/FX21503_10x2_f96h20C_600s31x10s10s_A1206dd.dat', '/Volumes/JosephSSD2T/PD_Screen_Pt2/klp-12_tm15618/20231206_124241/FX25618_10x2_f72h20C_600s31x10s10s_B1206cc.dat', '/Volumes/JosephSSD2T/PD_Screen_Pt2/klp-12_tm15618/20231206_123325/FX25618_10x2_f96h20C_600s31x10s10s_A1206cb.dat', '/Volumes/JosephSSD2T/PD_Screen_Pt2/klp-12_tm15618/20231206_135020/FX25618_10x2_f96h20C_600s31x10s10s_A1206ce.dat', '/Volumes/JosephSSD2T/PD_Screen_Pt2/klp-12_tm15618/20231220_111452/FX25618_12x2_f72h20C_600s31x10s10s_B1220ba.dat', '/Volumes/JosephSSD2T/PD_Screen_Pt2/klp-12_tm15618/20231220_113231/FX25618_12X2_f96h20C_600s31x10s10s_C1220bb.dat', '/Volumes/JosephSSD2T/PD_Screen_Pt2/klp-12_tm15618/20231220_131642/FX25618_12x2_f96h20C_600s31x10s10s_A1220bc.dat', '/Volumes/JosephSSD2T/PD_Screen_Pt2/klp-12_tm15618/20231220_131739/FX25618_12X2_f96h20C_600s31x10s10s_C1220be.dat', '/Volumes/JosephSSD2T/PD_Screen_Pt2/klp-12_tm15618/20231220_132526/FX25618_12x2_f72h20C_600s31x10s10s_B1220bd.dat', '/Volumes/JosephSSD2T/PD_Screen_Pt2/mig-15_tm13123/20231215_172531/FX31750_10x2_f96h20C_600s31x10s10s_B1211cb.dat', '/Volumes/JosephSSD2T/PD_Screen_Pt2/mig-15_tm13123/20231215_204847/FX31750_10x2_f96h20C_600s31x10s10s_B1211ce.dat', '/Volumes/JosephSSD2T/PD_Screen_Pt2/mig-15_tm13123/20231215_154431/FX31750_10X2_f96h20C_600s31x10s10s_C1211ca.dat', '/Volumes/JosephSSD2T/PD_Screen_Pt2/mig-15_tm13123/20231215_193015/FX31750_10X2_f96h20C_600s31x10s10s_C1211cd.dat', '/Volumes/JosephSSD2T/PD_Screen_Pt2/mig-15_tm13123/20231215_193042/FX31750_10x2_f96h20C_600s31x10s10s_A1211cc.dat', '/Volumes/JosephSSD2T/PD_Screen_Pt2/mig-15_tm13123/20231116_132953/FX31750_10x2_f96H20C_600s31x10s10s_B1112ba.dat', '/Volumes/JosephSSD2T/PD_Screen_Pt2/mig-15_tm13123/20231116_141539/FX31750_10x2_f96h20C_600s31x10s10s_A1112bb.dat', '/Volumes/JosephSSD2T/PD_Screen_Pt2/mig-15_tm13123/20231116_142419/FX31750_9x2_f96h20C_600s31x10s10s_C1112bc.dat', '/Volumes/JosephSSD2T/PD_Screen_Pt2/mig-15_tm13123/20231116_150337/FX31750_10x2_f96H20C_600s31x10s10s_B1112bd.dat', '/Volumes/JosephSSD2T/PD_Screen_Pt2/mig-15_tm13123/20231116_154734/FX31750_10x2_f96h20C_600s31x10s10s_A1112be.dat', '/Volumes/JosephSSD2T/PD_Screen_Pt2/smrc-1_tm13785/20231215_155237/FX23784_10x2_f96h20C_600s31x10s10s_B1211ba.dat', '/Volumes/JosephSSD2T/PD_Screen_Pt2/smrc-1_tm13785/20231215_193822/FX23784_10x2_f96h20C_600s31x10s10s_B1211bc.dat', '/Volumes/JosephSSD2T/PD_Screen_Pt2/smrc-1_tm13785/20231215_182249/FX23784_10X2_f96h20C_600s31x10s10s_C1211bc.dat', '/Volumes/JosephSSD2T/PD_Screen_Pt2/smrc-1_tm13785/20231215_210534/FX23784_10x2_f96h20C_600s31x10s10s_A1211be.dat', '/Volumes/JosephSSD2T/PD_Screen_Pt2/smrc-1_tm13785/20231215_174218/FX23784_10x2_f96h20C_600s31x10s10s_A1211bb.dat', '/Volumes/JosephSSD2T/PD_Screen_Pt2/ubh-1_tm526/20231215_202408/TM526_10x2_f96h20C_600s31x10s10s_B1211ed.dat', '/Volumes/JosephSSD2T/PD_Screen_Pt2/ubh-1_tm526/20231215_164345/TM526_10x2_f96h20C_600s31x10s10s_B1211ea.dat', '/Volumes/JosephSSD2T/PD_Screen_Pt2/ubh-1_tm526/20231215_190550/TM526_10X2_f96h20C_600s31x10s10s_C1211ec.dat', '/Volumes/JosephSSD2T/PD_Screen_Pt2/ubh-1_tm526/20231215_184739/TM526_10x2_f96h20C_600s31x10s10s_A1211eb.dat', '/Volumes/JosephSSD2T/PD_Screen_Pt2/ubh-1_tm526/20231215_212859/TM526_10x2_f96h20C_600s31x10s10s_A1211ee.dat', '/Volumes/JosephSSD2T/PD_Screen_Pt2/miro-1_tm1966/20231220_115800/FX01996_9x2_f96h20C_600s31x10s10s_A1220da.dat', '/Volumes/JosephSSD2T/PD_Screen_Pt2/miro-1_tm1966/20231220_122500/FX01996_9X2_f96h20C_600s31x10s10s_C1220dc.dat', '/Volumes/JosephSSD2T/PD_Screen_Pt2/miro-1_tm1966/20231220_134052/FX01996_12X2_f96h20C_600s31x10s10s_C1220dd.dat', '/Volumes/JosephSSD2T/PD_Screen_Pt2/miro-1_tm1966/20231220_120717/FX01996_9x2_f72h20C_600s31x10s10s_B1220db.dat', '/Volumes/JosephSSD2T/PD_Screen_Pt2/miro-1_tm1966/20231220_135804/FX01996_12x2_f72h20C_600s31x10s10s_B1220de.dat', '/Volumes/JosephSSD2T/PD_Screen_Pt2/ubh-2_tm2267/20231102_163938/FX02267_9x2_f96h20C_600s31x10s10s_C1029dc.dat', '/Volumes/JosephSSD2T/PD_Screen_Pt2/ubh-2_tm2267/20231102_155006/FX02267_9x2_f96H20C_600s31x10s10s_B1029db.dat', '/Volumes/JosephSSD2T/PD_Screen_Pt2/ubh-2_tm2267/20231102_180152/FX02267_9x2_f96H20C_600s31x10s10s_B1029de.dat', '/Volumes/JosephSSD2T/PD_Screen_Pt2/ubh-2_tm2267/20231102_154156/FX02267_9x2_f96h20C_600s31x10s10s_A1029da.dat', '/Volumes/JosephSSD2T/PD_Screen_Pt2/ubh-2_tm2267/20231102_175506/FX02267_9x2_f96h20C_600s31x10s10s_A1029dd.dat', '/Volumes/JosephSSD2T/PD_Screen_Pt2/ubh-3_tm2550/20231102_170623/FX02550_9x2_f96h20C_600s31x10s10s_C1029cd.dat', '/Volumes/JosephSSD2T/PD_Screen_Pt2/ubh-3_tm2550/20231102_144723/FX02550_10x2_f96h20C_600s31x10s10s_C1029ca.dat', '/Volumes/JosephSSD2T/PD_Screen_Pt2/ubh-3_tm2550/20231102_164721/FX02550_9x2_f96H20C_600s31x10s10s_B1029cc.dat', '/Volumes/JosephSSD2T/PD_Screen_Pt2/ubh-3_tm2550/20231102_160546/FX02550_9x2_f96h20C_600s31x10s10s_A1029cb.dat', '/Volumes/JosephSSD2T/PD_Screen_Pt2/ubh-3_tm2550/20231102_181732/FX02550_9x2_f96h20C_600s31x10s10s_A1029ce.dat', '/Volumes/JosephSSD2T/PD_Screen_Pt2/mbk-1_ok402/20231115_114545/RB677_10x2_f96H20C_600s31x10s10s_B1115bd.dat', '/Volumes/JosephSSD2T/PD_Screen_Pt2/mbk-1_ok402/20231115_111226/RB677_10x2_f96h20C_600s31x10s10s_C1115bb.dat', '/Volumes/JosephSSD2T/PD_Screen_Pt2/mbk-1_ok402/20231115_122536/RB677_10x2_f96h20C_600s31x10s10s_C1115be.dat', '/Volumes/JosephSSD2T/PD_Screen_Pt2/mbk-1_ok402/20231115_120114/RB677_10x2_f96h20C_600s31x10s10s_A1115bc.dat', '/Volumes/JosephSSD2T/PD_Screen_Pt2/ipla-3_tm1584/20231120_182049/FX01584_9x2_f96h20C_600s31x10s10s_B1116ed.dat', '/Volumes/JosephSSD2T/PD_Screen_Pt2/ipla-3_tm1584/20231120_154846/FX01584_9x2_f72h20C_600s31x10s10s_B1116ea.dat', '/Volumes/JosephSSD2T/PD_Screen_Pt2/ipla-3_tm1584/20231120_172146/FX01584_9x2_f96h20C_600s31x10s10s_C1116ec.dat', '/Volumes/JosephSSD2T/PD_Screen_Pt2/ipla-3_tm1584/20231120_190141/FX01584_9x2_f96h20C_600s31x10s10s_C1116ee.dat', '/Volumes/JosephSSD2T/PD_Screen_Pt2/ipla-3_tm1584/20231120_170738/FX01584_9x2_f96h20C_600s31x10s10s_A1116eb.dat', '/Volumes/JosephSSD2T/PD_Screen_Pt2/sek-4_gk3642/20231120_175533/VC3694_9x2_f96h20C_600s31x10s10s_B1116bd.dat', '/Volumes/JosephSSD2T/PD_Screen_Pt2/sek-4_gk3642/20231120_151734/VC3694_9x2_f72h20C_600s31x10s10s_B1116ba.dat', '/Volumes/JosephSSD2T/PD_Screen_Pt2/sek-4_gk3642/20231120_164335/VC3694_9x2_f96h20C_600s31x10s10s_C1116bc.dat', '/Volumes/JosephSSD2T/PD_Screen_Pt2/sek-4_gk3642/20231120_164147/VC3694_9x2_f96h20C_600s31x10s10s_A1116bb.dat', '/Volumes/JosephSSD2T/PD_Screen_Pt2/sek-4_gk3642/20231120_192321/VC3694_9x2_f96h20C_600s31x10s10s_A1116be.dat', '/Volumes/JosephSSD2T/PD_Screen_Pt2/T01G9_tm5159/20231120_172941/FX05159_9x2_f96h20C_600s31x10s10s_B1116dc.dat', '/Volumes/JosephSSD2T/PD_Screen_Pt2/T01G9_tm5159/20231120_161748/FX05159_9x2_f96h20C_600s31x10s10s_C1116db.dat', '/Volumes/JosephSSD2T/PD_Screen_Pt2/T01G9_tm5159/20231120_183805/FX05159_9x2_f96h20C_600s31x10s10s_C1116de.dat', '/Volumes/JosephSSD2T/PD_Screen_Pt2/T01G9_tm5159/20231120_160454/FX05159_9x2_f96h20C_600s31x10s10s_A1116da.dat', '/Volumes/JosephSSD2T/PD_Screen_Pt2/T01G9_tm5159/20231120_183656/FX05159_9x2_f96h20C_600s31x10s10s_A1116dd.dat', '/Volumes/JosephSSD2T/PD_Screen_Pt2/rme-8_b1023/20231129_115529/DH1206_50x2_f96h20C_600s31x10s10s_A1129cb.dat', '/Volumes/JosephSSD2T/PD_Screen_Pt2/rme-8_b1023/20231129_131848/DH1206_50x2_f96h20C_600s31x10s10s_A1129ce.dat', '/Volumes/JosephSSD2T/PD_Screen_Pt2/rme-8_b1023/20231129_120817/DH1206_50x2_f72h20C_600s31x10s10s_B1129cc.dat', '/Volumes/JosephSSD2T/PD_Screen_Pt2/rme-8_b1023/20231129_111304/DH1206_50x2_f96h20C_600s31x10s10s_C1129ca.dat', '/Volumes/JosephSSD2T/PD_Screen_Pt2/rme-8_b1023/20231129_122520/DH1206_50x2_f96h20C_600s31x10s10s_C1129cd.dat']\n",
      "done step 4\n"
     ]
    }
   ],
   "source": [
    "#folder_path = '/Users/Joseph/Desktop/lrk1_ATR_NoATR_08_15_2019'\n",
    "print(folder_path)\n",
    "os.chdir(folder_path) #<- setting your working directory so that your images will be saved here\n",
    "\n",
    "filelist = list() #<- empty list\n",
    "for root, dirs, files in os.walk(folder_path): #<- this for loop goes through your folder \n",
    "    for name in files:\n",
    "        if name.endswith('.dat'): #<- and takes out all files with a .dat (file that contains your data)\n",
    "            if \"_\" in name.split(\".\")[-2]:\n",
    "                filepath = os.path.join(root, name) #<- Notes down the file path of each data file\n",
    "                filelist.append(filepath) #<- saves it into the list\n",
    "\n",
    "    \n",
    "print(filelist)\n",
    "print('done step 4')"
   ]
  },
  {
   "cell_type": "code",
   "execution_count": 9,
   "metadata": {},
   "outputs": [
    {
     "name": "stdout",
     "output_type": "stream",
     "text": [
      "/Volumes/JosephSSD2T/ASD_Screen/vab-10_gk45/20160406_155046/VC117_5x4_f94h20C_600s30x10s10s_A0406bc.00004.dat\n",
      "00004\n",
      "/Volumes/JosephSSD2T/ASD_Screen/vab-10_gk45/20160406_155046/VC117_5x4_f94h20C_600s30x10s10s_A0406bc\n"
     ]
    }
   ],
   "source": [
    "print(filelist[3])\n",
    "test=filelist[3]\n",
    "test1=filelist[0]\n",
    "print(test.split(\".\")[-2])\n",
    "print(test1.split(\".\")[-2])"
   ]
  },
  {
   "cell_type": "markdown",
   "metadata": {},
   "source": [
    "# 5. Process Data Function (No input required, just run)"
   ]
  },
  {
   "cell_type": "code",
   "execution_count": 1,
   "metadata": {},
   "outputs": [],
   "source": [
    "# string='/Volumes/JOSEPH/PD_Screen/cat-2_e1112/20220510_190557/CB1112_10x2_f72h20C_600s31x10s10s_B0506cb.dat'\n",
    "# print(string.split('/')[-3])\n",
    "# print(string.split('/')[-2].split('_')[0])\n",
    "# print(string.split('/')[-1].split('_')[-1].split('.')[0])\n",
    "# print(string.split('/')[-4])\n",
    "\n",
    "\n",
    "# genotype=[]\n",
    "# for f in filelist:\n",
    "#     genotype.append(f.split('/')[-3])\n",
    "# # print(np.unique(genotype))\n",
    "# genotypes=np.unique(genotype)\n",
    "# print(genotypes)\n",
    "# print(len(np.unique(genotypes)))\n",
    "# strainNs = enumerate(genotypes,1)\n",
    "# strain_enum=list(strainNs)\n",
    "# print(strain_enum)\n",
    "# StrainNames=dict(strain_enum)\n",
    "# print(StrainNames)"
   ]
  },
  {
   "cell_type": "code",
   "execution_count": 7,
   "metadata": {},
   "outputs": [
    {
     "name": "stdout",
     "output_type": "stream",
     "text": [
      "done step 5\n"
     ]
    }
   ],
   "source": [
    "def ProcessData(strain): #<- an example of a user-defined function\n",
    "    strain_filelist = [x for x in filelist if strain in x] #<- goes through the list and filters for keyword\n",
    "    Strain_N = len(strain_filelist) #<- N per strain, or number of plates\n",
    "    Plate_N = 1\n",
    "    print(f'this strain/treatment has {Strain_N} plates') #<- will output as the first number\n",
    "    if Strain_N == 0:\n",
    "        raise AssertionError ('{} is not a good identifier'.format(strain))\n",
    "    else:\n",
    "        pass\n",
    "        print(f'now working on strain {strain}')\n",
    "        strain_filelist = [file for file in filelist if strain in file]\n",
    "        df_list=[]\n",
    "        for file in strain_filelist:\n",
    "            if file.split('/')[-1].startswith('._'):\n",
    "                pass\n",
    "            else:\n",
    "                # print(f\"now processing file {file}\")\n",
    "                try:\n",
    "                    df= pd.read_csv(file, sep=' ', header = None, encoding_errors='ignore')\n",
    "                    df['Plate_id'] = file.split('/')[-1].split('_')[-1].split('.')[0]\n",
    "                    df['Date'] = file.split('/')[-2].split('_')[0]\n",
    "                    df['Screen'] = file.split('/')[-4]\n",
    "                    df_list.append(df)\n",
    "                except:\n",
    "                    print(f\"error in file {file}\")\n",
    "                    pass\n",
    "        DF_Total = pd.concat(df_list, ignore_index = True)\n",
    "#     for f in strain_filelist:\n",
    "#         DF_Total = pd.concat(pd.read_csv(f, sep=' ', skiprows = 4, header = None))\n",
    "        # DF_Total = pd.concat([pd.read_csv(f, sep=' ', header = None) for f in strain_filelist],\n",
    "        #               ignore_index=True) #<- imports your data files\n",
    "#         DF_Total = DF_Total.dropna(axis = 1) #<- cleans your data\n",
    "        DF_Total = DF_Total.rename( #<- more cleaning\n",
    "                    {0:'Time',\n",
    "                    1:'n',\n",
    "                    2:'Number',\n",
    "                    3:'Instantaneous Speed',\n",
    "                    4:'Interval Speed',\n",
    "                    5:'Bias',\n",
    "                    6:'Tap',\n",
    "                    7:'Puff',\n",
    "                    8:'x',\n",
    "                    9:'y',\n",
    "                    10:'Width',\n",
    "                    11:'Length',\n",
    "                    12:'Area',\n",
    "                    13:'Angular Speed',\n",
    "                    14:'Aspect Ratio',\n",
    "                    15:'Kink',\n",
    "                    16:'Curve',\n",
    "                    17:'Crab'}, axis=1)\n",
    "        #check function here for NaN Columns\n",
    "        DF_Total['plate'] = 0\n",
    "        # DF_Total['prob'] = DF_Total['stim_rev']/ (DF_Total['no_rev'] + DF_Total['stim_rev']) #<- calculate prob\n",
    "        # DF_Total['speed'] = DF_Total['dist']/DF_Total['dura'] #<- calculate speed\n",
    "        # DF_Total_rows = int(DF_Total.shape[0])\n",
    "        # print(f'this strain/treatment has {DF_Total_rows} total taps') #<- Outputs as the second number. Check if you are missing taps!\n",
    "        # DF_Final = DF_Total[[\"time\", \"dura\", \"dist\", \"prob\", \"speed\", \"plate\"]].copy()\n",
    "\n",
    "    return{\n",
    "            'N': Strain_N,\n",
    "            'Confirm':DF_Total\n",
    "            # 'Final': DF_Final\n",
    "    }\n",
    "    print('done!')\n",
    "\n",
    "\n",
    "print('done step 5')"
   ]
  },
  {
   "cell_type": "markdown",
   "metadata": {},
   "source": [
    "# 6.1 Processing Data (Please Read, Input Here)\n",
    "\n",
    "Here is the hardest part - From your naming convention, you need to pick a unique identifier for each group.\n",
    "\n",
    "This means that all of names of your files for that strain should have that in common but is not commone with across all other files! If you did a good job naming your files and following a good naming convention, this should be easy.\n",
    "\n",
    "## Be careful and really look hard in your naming structure. Note you want an unique identifier in the entire file path for the same group of files. An easy mistake is to have the strain name in the folder name, in this case if you use your strain name as a keyword it would include all files in that folder!\n",
    "\n",
    "For example, if all your N2 files have a certain pattern like \"N2_5x4\" in this following example:\n",
    "'/Users/Joseph/Desktop/AVR14_10sISI_TapHab_0710_2019/N2/20190710_141740/N2_5x4_f94h20c_100s30x10s10s_C0710ab.trv'\n",
    "\n",
    "Then you need to set that identifier for the strain keyword:\n",
    "'Strain_1' = 'N2_5x4'\n",
    "\n",
    "In the same example, if the identifier for your second strain is 'AVR14', then the N2 files will also be included, as this identifier can also be found in this file path.\n",
    "\n",
    "## Depending on how many strains you are running for comparison, you may need to add/delete some lines.\n",
    "\n",
    "You are not naming your data groups here, we have a step for that later.\n",
    "## Here, you want to note down ALL the strains you have in the folder\n",
    "\n",
    "If you have just 2 strains, add hashtags (#) in front of the lines you do not need.\n",
    "If you need more strains, just add more lines, following the same format!"
   ]
  },
  {
   "cell_type": "code",
   "execution_count": 8,
   "metadata": {},
   "outputs": [
    {
     "name": "stdout",
     "output_type": "stream",
     "text": [
      "['smrc-1_tm13785', 'unc-70_e524', 'klp-12_tm5176', 'immt-1_tm1730', 'ubh-3_tm2550', 'sek-4_gk3642', 'ubh-2_tm2267', 'N2', 'klp-12_tm15618', 'klu-1_ok1306', 'T01G9_tm5159', 'immt-1_tm11505', 'scav-5_ok1606', 'ipla-3_tm1584', 'imp-1_ok2362', 'mig-15_tm13123', 'har-1_gk3124', 'ubh-1_tm526', 'gly-5_gk3119', 'miro-1_tm1966', 'catp-7_tm4438', 'gly-7_gk374', 'rme-8_b1023', 'immt-1_tm2366', 'mbk-1_ok402', 'F35C8_tm4028']\n",
      "[1, 2, 3, 4, 5, 6, 7, 8, 9, 10, 11, 12, 13, 14, 15, 16, 17, 18, 19, 20, 21, 22, 23, 24, 25, 26]\n",
      "{1: 'N2', 2: 'smrc-1_tm13785', 3: 'unc-70_e524', 4: 'klp-12_tm5176', 5: 'immt-1_tm1730', 6: 'ubh-3_tm2550', 7: 'sek-4_gk3642', 8: 'ubh-2_tm2267', 9: 'klp-12_tm15618', 10: 'klu-1_ok1306', 11: 'T01G9_tm5159', 12: 'immt-1_tm11505', 13: 'scav-5_ok1606', 14: 'ipla-3_tm1584', 15: 'imp-1_ok2362', 16: 'mig-15_tm13123', 17: 'har-1_gk3124', 18: 'ubh-1_tm526', 19: 'gly-5_gk3119', 20: 'miro-1_tm1966', 21: 'catp-7_tm4438', 22: 'gly-7_gk374', 23: 'rme-8_b1023', 24: 'immt-1_tm2366', 25: 'mbk-1_ok402', 26: 'F35C8_tm4028'}\n",
      "done step 6.1\n"
     ]
    }
   ],
   "source": [
    "# TotalConcatenated[['Genotype', 'Treatment']] = TotalConcatenated['Strain'].str.split(' - ', 1, expand=True)\n",
    "# print(list(set(filelist)))\n",
    "# nfiles = list(range(1, len(filelist.unique())+1))\n",
    "# print(nfiles)\n",
    "# strainnames = []\n",
    "strainnames=[]\n",
    "for f in filelist:\n",
    "    strainnames.append(f.split('/')[-3])\n",
    "ustrainnames=list(set(strainnames))\n",
    "print(ustrainnames)\n",
    "# ustrainnames.sort()\n",
    "# # print(ustrainnames)\n",
    "ustrainnames.insert(0, ustrainnames.pop(ustrainnames.index(\"N2\")))\n",
    "# ustrainnames.insert(0, ustrainnames.pop(ustrainnames.index(\"N2_XJ1\")))\n",
    "# ustrainnames.insert(0, ustrainnames.pop(ustrainnames.index(\"N2_N2\")))\n",
    "# print(ustrainnames)\n",
    "# ustrainnames.insert(0, ustrainnames.pop(ustrainnames.index(\"N2_OffFood\")))\n",
    "# # print(ustrainnames)\n",
    "nstrains=list(range(1,len(ustrainnames)+1))\n",
    "print(nstrains)\n",
    "\n",
    "StrainNames = {}\n",
    "StrainNames = {nstrains[i]: ustrainnames[i] for i in range(len(nstrains))}\n",
    "print(StrainNames)\n",
    "print(\"done step 6.1\")\n",
    "\n",
    "# <---------------- Test element to use for dictionary buidling -------------------\n",
    "# s = '/Users/Joseph/Desktop/OnFoodOffFoodTest/N2_OnFood/20220401_163048/N2_10x1_n96h20C_360sA0401_ka.00065.dat'\n",
    "# slist=s.split('/')[5]\n",
    "# print(slist)\n",
    "# print(list(range(1,5+1)))"
   ]
  },
  {
   "cell_type": "code",
   "execution_count": null,
   "metadata": {},
   "outputs": [],
   "source": [
    "# # ------------This Cell Is Now Defunct ----------------\n",
    "\n",
    "\n",
    "# #Format: Strain_# = 'unique_identifier'\n",
    "\n",
    "# ### Make into dictionary\n",
    "# StrainNames = {\n",
    "#     'Strain_1' : 'No_Parafilm',   #<- each strain will be designated to a unique identifier here\n",
    "#     'Strain_2' : 'Yes_Parafilm',\n",
    "# #     'Strain_3' : 'e1112_OffFood',\n",
    "# #     'Strain_4' : 'e1112_OnFood',\n",
    "# #     'Strain_5' : 'Test_OffFood',\n",
    "# #     'Strain_6' : 'Test_OnFood',\n",
    "# #     'Strain_5' : 'N2_NoFood',\n",
    "# #     'Strain_6' : 'N2_Food',\n",
    "# #     'Strain_9' : 'LX636_NoFood',  #<- empty entries are for those hardcore trackers that tracking this many strains\n",
    "# #     'Strain_10' : 'LX636_Food',\n",
    "# #     'Strain_11' : '',\n",
    "# #     'Strain_12' : '',\n",
    "# #     'Strain_13' : '',\n",
    "# #     'Strain_14' : '',\n",
    "# #     'Strain_15' : '',\n",
    "# }\n",
    "# #...etc, etc\n",
    "\n",
    "# print('done step 6.1')\n",
    "# print(StrainNames)"
   ]
  },
  {
   "cell_type": "markdown",
   "metadata": {},
   "source": [
    "# Cell below is to run testing/debugging. Do not need to run (commented out)"
   ]
  },
  {
   "cell_type": "code",
   "execution_count": null,
   "metadata": {},
   "outputs": [],
   "source": [
    "\n",
    "\n",
    "# DF_Read = pd.read_csv('/Users/Joseph/Desktop/OnFoodOffFoodTest/N2_OnFood/20220401_163048/N2_10x1_n96h20C_360sA0401_ka.00065.dat'\n",
    "#                       , sep=' ', header = None, index_col=False) #<- imports and cleans data\n",
    "# DF_Read[\"worm\"]=1\n",
    "# # print(DF_Read)\n",
    "# DF_Total = DF_Read #<- more data cleaning\n",
    "# DF_Total = DF_Total.rename( #<- more data cleaning\n",
    "#             {0:'time',\n",
    "#             1:'speed',\n",
    "#             2: \"x\",\n",
    "#             3: \"y\",\n",
    "#             4: \"angularspeed\",\n",
    "#             5: \"pathlength\",\n",
    "#             6: \"kink\",\n",
    "#             7: \"bias\",\n",
    "#             8: \"curve\",\n",
    "#             9: \"dir\",\n",
    "#             10: \"crab\",\n",
    "#             11: \"length\",\n",
    "#             12: \"midline\",\n",
    "#             13: \"width\",\n",
    "#             14: \"morphwidth\",\n",
    "#             15: \"area\"\n",
    "#             }, axis=1)\n",
    "# DF_Total[\"x_0\"] = DF_Total.x - DF_Total.x.iloc[0]\n",
    "# DF_Total[\"y_0\"] = DF_Total.y - DF_Total.y.iloc[0]\n",
    "\n",
    "# DF_Total[\"x_test\"] = DF_Total.iloc[:,2] - DF_Total.iloc[0,2]\n",
    "# DF_Total[\"y_test\"] = DF_Total.iloc[:,3] - DF_Total.iloc[0,3]\n",
    "# DF_Total[\"distance\"]= 0\n",
    "# print(DF_Total)\n",
    "\n",
    "# A_i = np.array(DF_Total['pathlength'][1:])\n",
    "# A_i_1 = np.array(DF_Total['pathlength'][0:-1])\n",
    "# result = np.abs(A_i - A_i_1).tolist()\n",
    "# result.insert(0,0)\n",
    "# curr_sum = 0\n",
    "# new_list = []\n",
    "# for i in range(len(result)):\n",
    "#     curr_sum += result[i]\n",
    "#     new_list.append(curr_sum)\n",
    "# DF_Total[\"distance\"]=new_list\n",
    "# print(DF_Total)\n",
    "\n",
    "\n",
    "\n",
    "        \n",
    "\n",
    "\n",
    "# A_i = np.array(DF_Total.iloc[1:,5])\n",
    "# A_i_1 = np.array(DF_Total.iloc[0:-1,5])\n",
    "# result = np.abs(A_i - A_i_1).tolist()\n",
    "# result.insert(0,0)\n",
    "# curr_sum = 0\n",
    "# new_list = []\n",
    "# for i in range(len(result)):\n",
    "#     curr_sum += result[i]\n",
    "#     new_list.append(curr_sum)\n",
    "# print(A_i)\n",
    "# print(A_i_1)\n",
    "# print(len(A_i))\n",
    "# print(len(A_i_1))\n",
    "# # resultS=pd.Series(result)\n",
    "# # print(resultS.cumsum())\n",
    "# # print(new_list)\n",
    "\n",
    "# curr_sum = 0\n",
    "# new_list = []\n",
    "# for i in range(len(result)):\n",
    "#     curr_sum += result[i]\n",
    "#     new_list.append(curr_sum)\n",
    "    \n",
    "    \n",
    "# import matplotlib.pyplot as plt\n",
    "# plt.plot(new_list)"
   ]
  },
  {
   "cell_type": "markdown",
   "metadata": {},
   "source": [
    "# 6.2 Process Data (just run this cell)"
   ]
  },
  {
   "cell_type": "code",
   "execution_count": 9,
   "metadata": {},
   "outputs": [
    {
     "data": {
      "application/vnd.jupyter.widget-view+json": {
       "model_id": "d170f12586fc4bc89e2a02a516c501fd",
       "version_major": 2,
       "version_minor": 0
      },
      "text/plain": [
       "  0%|          | 0/26 [00:00<?, ?it/s]"
      ]
     },
     "metadata": {},
     "output_type": "display_data"
    },
    {
     "name": "stdout",
     "output_type": "stream",
     "text": [
      "this strain/treatment has 49 plates\n",
      "now working on strain N2\n",
      "this strain/treatment has 5 plates\n",
      "now working on strain smrc-1_tm13785\n",
      "this strain/treatment has 5 plates\n",
      "now working on strain unc-70_e524\n",
      "this strain/treatment has 4 plates\n",
      "now working on strain klp-12_tm5176\n",
      "this strain/treatment has 5 plates\n",
      "now working on strain immt-1_tm1730\n",
      "this strain/treatment has 5 plates\n",
      "now working on strain ubh-3_tm2550\n",
      "this strain/treatment has 5 plates\n",
      "now working on strain sek-4_gk3642\n",
      "this strain/treatment has 5 plates\n",
      "now working on strain ubh-2_tm2267\n",
      "this strain/treatment has 8 plates\n",
      "now working on strain klp-12_tm15618\n",
      "this strain/treatment has 5 plates\n",
      "now working on strain klu-1_ok1306\n",
      "this strain/treatment has 5 plates\n",
      "now working on strain T01G9_tm5159\n",
      "this strain/treatment has 4 plates\n",
      "now working on strain immt-1_tm11505\n",
      "this strain/treatment has 5 plates\n",
      "now working on strain scav-5_ok1606\n",
      "this strain/treatment has 5 plates\n",
      "now working on strain ipla-3_tm1584\n",
      "this strain/treatment has 5 plates\n",
      "now working on strain imp-1_ok2362\n",
      "this strain/treatment has 10 plates\n",
      "now working on strain mig-15_tm13123\n",
      "this strain/treatment has 5 plates\n",
      "now working on strain har-1_gk3124\n",
      "this strain/treatment has 5 plates\n",
      "now working on strain ubh-1_tm526\n",
      "this strain/treatment has 5 plates\n",
      "now working on strain gly-5_gk3119\n",
      "this strain/treatment has 5 plates\n",
      "now working on strain miro-1_tm1966\n",
      "this strain/treatment has 5 plates\n",
      "now working on strain catp-7_tm4438\n",
      "this strain/treatment has 5 plates\n",
      "now working on strain gly-7_gk374\n",
      "this strain/treatment has 5 plates\n",
      "now working on strain rme-8_b1023\n",
      "this strain/treatment has 5 plates\n",
      "now working on strain immt-1_tm2366\n",
      "this strain/treatment has 4 plates\n",
      "now working on strain mbk-1_ok402\n",
      "this strain/treatment has 5 plates\n",
      "now working on strain F35C8_tm4028\n",
      "done step 6.2\n"
     ]
    }
   ],
   "source": [
    "DataLists = [0] #<- generates empty list. 0 is there to account for python's index starting at 0. \n",
    "# we want indexing to start at 1 (when I say #1 I want the first point, not the second point)\n",
    "\n",
    "for s in tqdm(StrainNames.values()): #<- goes through the dictionary in step 6.1 and processes data\n",
    "    if not s == '':\n",
    "        DataLists.append(ProcessData(s)['Confirm']) #<- appends all data into a list of dataframes\n",
    "\n",
    "# print(DataLists[2])\n",
    "print('done step 6.2')"
   ]
  },
  {
   "cell_type": "markdown",
   "metadata": {},
   "source": [
    "# Convert float64 data to float32 to reduce memory load (can also convert to 16 if needed)\n",
    "\n",
    "For plain english:\n",
    "\n",
    "float16 = 4 decimal points\n",
    "\n",
    "float32 = 8 decimal points\n",
    "\n",
    "float64 = 16 decimal points\n",
    "\n",
    "more decimal points = more data/memory that computer has to keep track of"
   ]
  },
  {
   "cell_type": "code",
   "execution_count": null,
   "metadata": {},
   "outputs": [],
   "source": [
    "print(DataLists[1])"
   ]
  },
  {
   "cell_type": "code",
   "execution_count": null,
   "metadata": {},
   "outputs": [],
   "source": [
    "#No need to run here\n",
    "for n in tqdm(DataLists[1:]):\n",
    "#     print(n)\n",
    "    TestData=n\n",
    "    TestData[TestData.select_dtypes(np.float64).columns] = TestData.select_dtypes(np.float64).astype(np.float16)\n",
    "    print(\"done this strain\")"
   ]
  },
  {
   "cell_type": "code",
   "execution_count": null,
   "metadata": {},
   "outputs": [],
   "source": [
    "#No need to run here\n",
    "\n",
    "# print(TotalConcatenated.dtypes)\n",
    "TotalConcatenated['time_bin'] = TotalConcatenated['time_bin'].astype(np.float16)\n",
    "# print(TotalConcatenated.dtypes)\n",
    "# TotalConcatenated.dtypes\n",
    "# Test Cell\n",
    "# DataLists[1].to_csv(\"test.csv\")\n",
    "Test = TotalConcatenated.reset_index(drop=True)\n",
    "print(Test)"
   ]
  },
  {
   "cell_type": "markdown",
   "metadata": {},
   "source": [
    "# 7. Grouping Data and Naming (Optional: Add input here)\n",
    "\n",
    "Here, you get to name your data groups/strain! Name your groups however you like under between the quotation marks for each strain.\n",
    "\n",
    "For example: If your Strain1 is N2 and you wish for the group to be called N2,\n",
    "your line should look like:\n",
    "\n",
    "DataLists[x].assign(dataset = 'N2')\n",
    "\n",
    "## Go back to step 6.1 to check which strain is which item on the DataLists.\n",
    "In this example, the first item on DataLists is AQ2028_b.\n",
    "\n",
    "\n",
    "## Remember: Put your name in quotes. (ex: 'N2' and not N2)\n",
    "\n",
    "As default, the names are set to the unique identifier labels.\n",
    "\n",
    "## Depending on the number of strains you are running the comparison, you may have to delete/add lines of code (following the same format). \n",
    "## Remember to add/delete commas too.\n",
    "\n",
    "# If you want to change your groups, you do that here. \n",
    "For example, if you have 5 strains in your folder but only want to compare between 2 or 3 strains, designate that here and follow through with steps 6 and 7. Once you are done, come back to step 6 and change your groups again (You are going to have to change your graph titles for the second run-through though)!"
   ]
  },
  {
   "cell_type": "code",
   "execution_count": 10,
   "metadata": {},
   "outputs": [
    {
     "name": "stdout",
     "output_type": "stream",
     "text": [
      "        index     Time   n  Number  Instantaneous Speed  Interval Speed  \\\n",
      "0        8197  490.047  89      59               0.0346          0.0380   \n",
      "1        8198  490.110  89      59               0.0355          0.0391   \n",
      "2        8199  490.173  89      59               0.0427          0.0419   \n",
      "3        8200  490.233  89      59               0.0416          0.0441   \n",
      "4        8201  490.298  89      59               0.0441          0.0432   \n",
      "...       ...      ...  ..     ...                  ...             ...   \n",
      "296691  66847  589.763  92      64               0.0388          0.0552   \n",
      "296692  66848  589.827  92      64               0.0375          0.0490   \n",
      "296693  66849  589.887  92      64               0.0377          0.0496   \n",
      "296694  66850  589.941  92      64               0.0473          0.0579   \n",
      "296695  66851  589.992  92      64               0.0397          0.0571   \n",
      "\n",
      "         Bias   Width  Length      Area  Angular Speed  Aspect Ratio  Kink  \\\n",
      "0       0.034  0.0917  1.1598  0.132962            1.8         0.258  48.9   \n",
      "1       0.085  0.0922  1.1595  0.133271            1.5         0.255  48.2   \n",
      "2       0.085  0.0918  1.1568  0.132888            2.1         0.255  47.8   \n",
      "3       0.102  0.0915  1.1604  0.132480            2.0         0.259  49.0   \n",
      "4       0.119  0.0914  1.1606  0.132468            2.1         0.258  48.8   \n",
      "...       ...     ...     ...       ...            ...           ...   ...   \n",
      "296691  0.016  0.1024  1.1355  0.136164            4.9         0.271  47.0   \n",
      "296692  0.016  0.1023  1.1334  0.136129            5.8         0.277  47.1   \n",
      "296693  0.048  0.1015  1.1349  0.134956            5.3         0.278  46.4   \n",
      "296694  0.063  0.1016  1.1324  0.135309            5.0         0.277  47.0   \n",
      "296695  0.048  0.1031  1.1375  0.136881            4.4         0.272  46.1   \n",
      "\n",
      "        Curve    Crab Plate_id      Date         Screen       dataset   Gene  \\\n",
      "0        30.0  0.0051  A1021aa  20231025  PD_Screen_Pt2            N2     N2   \n",
      "1        30.1  0.0049  A1021aa  20231025  PD_Screen_Pt2            N2     N2   \n",
      "2        29.9  0.0064  A1021aa  20231025  PD_Screen_Pt2            N2     N2   \n",
      "3        30.2  0.0058  A1021aa  20231025  PD_Screen_Pt2            N2     N2   \n",
      "4        30.2  0.0051  A1021aa  20231025  PD_Screen_Pt2            N2     N2   \n",
      "...       ...     ...      ...       ...            ...           ...    ...   \n",
      "296691   27.8  0.0052  A1116cc  20231120  PD_Screen_Pt2  F35C8_tm4028  F35C8   \n",
      "296692   27.8  0.0084  A1116cc  20231120  PD_Screen_Pt2  F35C8_tm4028  F35C8   \n",
      "296693   27.9  0.0061  A1116cc  20231120  PD_Screen_Pt2  F35C8_tm4028  F35C8   \n",
      "296694   27.9  0.0064  A1116cc  20231120  PD_Screen_Pt2  F35C8_tm4028  F35C8   \n",
      "296695   28.0  0.0074  A1116cc  20231120  PD_Screen_Pt2  F35C8_tm4028  F35C8   \n",
      "\n",
      "        Allele  \n",
      "0           N2  \n",
      "1           N2  \n",
      "2           N2  \n",
      "3           N2  \n",
      "4           N2  \n",
      "...        ...  \n",
      "296691  tm4028  \n",
      "296692  tm4028  \n",
      "296693  tm4028  \n",
      "296694  tm4028  \n",
      "296695  tm4028  \n",
      "\n",
      "[296696 rows x 21 columns]\n",
      "done step 7\n"
     ]
    }
   ],
   "source": [
    "TotalConcatenated=pd.concat(df.assign(dataset=StrainNames.get(i+1)) for i,df in enumerate(DataLists[1:]))\n",
    "TotalConcatenated[['Gene', 'Allele']] = TotalConcatenated['dataset'].str.split('_', n=1, expand=True)\n",
    "TotalConcatenated['Allele']=TotalConcatenated['Allele'].fillna('N2')\n",
    "Baseline_data=TotalConcatenated[((TotalConcatenated.Time<=590)&(TotalConcatenated.Time >=490))]\n",
    "Baseline_data=Baseline_data.drop(columns=[\"plate\", \"Tap\", \"Puff\", \"x\",\"y\"]).reset_index()\n",
    "# TotalConcatenated=TotalConcatenated.dropna()\n",
    "# TotalConcatenated = TotalConcatenated.reset_index(drop=True)\n",
    "print(Baseline_data)\n",
    "# TotalConcatenated.to_csv(\"tap_baseline_output.csv\")\n",
    "# print(\"done output\")\n",
    "print('done step 7')"
   ]
  },
  {
   "cell_type": "code",
   "execution_count": 11,
   "metadata": {},
   "outputs": [
    {
     "name": "stdout",
     "output_type": "stream",
     "text": [
      "        index     Time   n  Number  Instantaneous Speed  Interval Speed  \\\n",
      "0        8197  490.047  89      59               0.0346          0.0380   \n",
      "1        8198  490.110  89      59               0.0355          0.0391   \n",
      "2        8199  490.173  89      59               0.0427          0.0419   \n",
      "3        8200  490.233  89      59               0.0416          0.0441   \n",
      "4        8201  490.298  89      59               0.0441          0.0432   \n",
      "...       ...      ...  ..     ...                  ...             ...   \n",
      "296691  66847  589.763  92      64               0.0388          0.0552   \n",
      "296692  66848  589.827  92      64               0.0375          0.0490   \n",
      "296693  66849  589.887  92      64               0.0377          0.0496   \n",
      "296694  66850  589.941  92      64               0.0473          0.0579   \n",
      "296695  66851  589.992  92      64               0.0397          0.0571   \n",
      "\n",
      "         Bias   Width  Length      Area  Angular Speed  Aspect Ratio  Kink  \\\n",
      "0       0.034  0.0917  1.1598  0.132962            1.8         0.258  48.9   \n",
      "1       0.085  0.0922  1.1595  0.133271            1.5         0.255  48.2   \n",
      "2       0.085  0.0918  1.1568  0.132888            2.1         0.255  47.8   \n",
      "3       0.102  0.0915  1.1604  0.132480            2.0         0.259  49.0   \n",
      "4       0.119  0.0914  1.1606  0.132468            2.1         0.258  48.8   \n",
      "...       ...     ...     ...       ...            ...           ...   ...   \n",
      "296691  0.016  0.1024  1.1355  0.136164            4.9         0.271  47.0   \n",
      "296692  0.016  0.1023  1.1334  0.136129            5.8         0.277  47.1   \n",
      "296693  0.048  0.1015  1.1349  0.134956            5.3         0.278  46.4   \n",
      "296694  0.063  0.1016  1.1324  0.135309            5.0         0.277  47.0   \n",
      "296695  0.048  0.1031  1.1375  0.136881            4.4         0.272  46.1   \n",
      "\n",
      "        Curve    Crab Plate_id      Date     Screen       dataset   Gene  \\\n",
      "0        30.0  0.0051  A1021aa  20231025  PD_Screen            N2     N2   \n",
      "1        30.1  0.0049  A1021aa  20231025  PD_Screen            N2     N2   \n",
      "2        29.9  0.0064  A1021aa  20231025  PD_Screen            N2     N2   \n",
      "3        30.2  0.0058  A1021aa  20231025  PD_Screen            N2     N2   \n",
      "4        30.2  0.0051  A1021aa  20231025  PD_Screen            N2     N2   \n",
      "...       ...     ...      ...       ...        ...           ...    ...   \n",
      "296691   27.8  0.0052  A1116cc  20231120  PD_Screen  F35C8_tm4028  F35C8   \n",
      "296692   27.8  0.0084  A1116cc  20231120  PD_Screen  F35C8_tm4028  F35C8   \n",
      "296693   27.9  0.0061  A1116cc  20231120  PD_Screen  F35C8_tm4028  F35C8   \n",
      "296694   27.9  0.0064  A1116cc  20231120  PD_Screen  F35C8_tm4028  F35C8   \n",
      "296695   28.0  0.0074  A1116cc  20231120  PD_Screen  F35C8_tm4028  F35C8   \n",
      "\n",
      "        Allele  \n",
      "0           N2  \n",
      "1           N2  \n",
      "2           N2  \n",
      "3           N2  \n",
      "4           N2  \n",
      "...        ...  \n",
      "296691  tm4028  \n",
      "296692  tm4028  \n",
      "296693  tm4028  \n",
      "296694  tm4028  \n",
      "296695  tm4028  \n",
      "\n",
      "[296696 rows x 21 columns]\n"
     ]
    }
   ],
   "source": [
    "Baseline_data['Screen']='PD_Screen'\n",
    "print(Baseline_data)"
   ]
  },
  {
   "cell_type": "code",
   "execution_count": null,
   "metadata": {},
   "outputs": [],
   "source": [
    "Baseline_data.to_csv(\"PD2_new_tap_baseline_output.csv\")\n",
    "print('done')"
   ]
  },
  {
   "cell_type": "markdown",
   "metadata": {},
   "source": [
    "# END"
   ]
  },
  {
   "cell_type": "code",
   "execution_count": null,
   "metadata": {},
   "outputs": [],
   "source": []
  },
  {
   "cell_type": "code",
   "execution_count": null,
   "metadata": {},
   "outputs": [],
   "source": []
  },
  {
   "cell_type": "code",
   "execution_count": null,
   "metadata": {},
   "outputs": [],
   "source": []
  },
  {
   "cell_type": "code",
   "execution_count": null,
   "metadata": {},
   "outputs": [],
   "source": []
  },
  {
   "cell_type": "code",
   "execution_count": null,
   "metadata": {},
   "outputs": [],
   "source": []
  },
  {
   "cell_type": "markdown",
   "metadata": {},
   "source": [
    "# Done!"
   ]
  },
  {
   "cell_type": "code",
   "execution_count": null,
   "metadata": {},
   "outputs": [],
   "source": []
  },
  {
   "cell_type": "code",
   "execution_count": null,
   "metadata": {},
   "outputs": [],
   "source": []
  },
  {
   "cell_type": "code",
   "execution_count": null,
   "metadata": {},
   "outputs": [],
   "source": []
  },
  {
   "cell_type": "code",
   "execution_count": null,
   "metadata": {},
   "outputs": [],
   "source": []
  },
  {
   "cell_type": "code",
   "execution_count": null,
   "metadata": {},
   "outputs": [],
   "source": []
  },
  {
   "cell_type": "code",
   "execution_count": null,
   "metadata": {},
   "outputs": [],
   "source": []
  },
  {
   "cell_type": "code",
   "execution_count": null,
   "metadata": {},
   "outputs": [],
   "source": []
  },
  {
   "cell_type": "code",
   "execution_count": null,
   "metadata": {},
   "outputs": [],
   "source": []
  }
 ],
 "metadata": {
  "kernelspec": {
   "display_name": "Python 3 (ipykernel)",
   "language": "python",
   "name": "python3"
  },
  "language_info": {
   "codemirror_mode": {
    "name": "ipython",
    "version": 3
   },
   "file_extension": ".py",
   "mimetype": "text/x-python",
   "name": "python",
   "nbconvert_exporter": "python",
   "pygments_lexer": "ipython3",
   "version": "3.11.1"
  }
 },
 "nbformat": 4,
 "nbformat_minor": 4
}
