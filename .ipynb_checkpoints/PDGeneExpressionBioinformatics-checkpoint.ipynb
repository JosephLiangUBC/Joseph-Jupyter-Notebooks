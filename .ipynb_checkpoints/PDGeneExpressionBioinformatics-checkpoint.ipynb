{
 "cells": [
  {
   "cell_type": "code",
   "execution_count": 1,
   "metadata": {},
   "outputs": [],
   "source": [
    "import pandas as pd \n",
    "import numpy as np \n",
    "import seaborn as sns \n",
    "from matplotlib import pyplot as plt\n",
    "import os\n",
    "from scipy import stats\n",
    "from functools import reduce"
   ]
  },
  {
   "cell_type": "code",
   "execution_count": 20,
   "metadata": {},
   "outputs": [],
   "source": [
    "cengen_df = pd.read_csv('/Users/Joseph/Desktop/GeneExpressionCSV/CeNGEN_SingleCell_Data.csv')\n",
    "age_df = pd.read_csv('/Users/Joseph/Desktop/GeneExpressionCSV/Waterston_Age_Data.csv')\n",
    "tissue_df = pd.read_csv('/Users/Joseph/Desktop/GeneExpressionCSV/Waterston_TissueSpecific_Data.csv')\n",
    "agewithtissue_df = pd.read_csv('/Users/Joseph/Desktop/GeneExpressionCSV/Waterston_AgeWithTissue_Data.csv')"
   ]
  },
  {
   "cell_type": "code",
   "execution_count": 21,
   "metadata": {},
   "outputs": [
    {
     "name": "stdout",
     "output_type": "stream",
     "text": [
      "<class 'pandas.core.frame.DataFrame'>\n",
      "RangeIndex: 141 entries, 0 to 140\n",
      "Columns: 174 entries, Worm Gene to XXX\n",
      "dtypes: float64(169), object(5)\n",
      "memory usage: 191.8+ KB\n",
      "None\n",
      "<class 'pandas.core.frame.DataFrame'>\n",
      "RangeIndex: 140 entries, 0 to 139\n",
      "Data columns (total 34 columns):\n",
      " #   Column          Non-Null Count  Dtype  \n",
      "---  ------          --------------  -----  \n",
      " 0   Worm Gene       140 non-null    object \n",
      " 1   Human Gene      140 non-null    object \n",
      " 2   Gene            140 non-null    object \n",
      " 3   WormTranscript  140 non-null    object \n",
      " 4   4-cell          140 non-null    float64\n",
      " 5   44 m            140 non-null    float64\n",
      " 6   83 m            140 non-null    float64\n",
      " 7   122 m           140 non-null    float64\n",
      " 8   161 m           140 non-null    float64\n",
      " 9   199 m           140 non-null    float64\n",
      " 10  238 m           140 non-null    float64\n",
      " 11  277 m           140 non-null    float64\n",
      " 12  316 m           140 non-null    float64\n",
      " 13  355 m           140 non-null    float64\n",
      " 14  393 m           140 non-null    float64\n",
      " 15  432 m           140 non-null    float64\n",
      " 16  471 m           140 non-null    float64\n",
      " 17  510 m           140 non-null    float64\n",
      " 18  548 m           140 non-null    float64\n",
      " 19  587 m           140 non-null    float64\n",
      " 20  626 m           140 non-null    float64\n",
      " 21  665 m           140 non-null    float64\n",
      " 22  L1              140 non-null    float64\n",
      " 23  L2              140 non-null    float64\n",
      " 24  L3              140 non-null    float64\n",
      " 25  L4              140 non-null    float64\n",
      " 26  young adult     140 non-null    float64\n",
      " 27  L4 male         140 non-null    float64\n",
      " 28  L4 soma         140 non-null    float64\n",
      " 29  sterile adult   140 non-null    float64\n",
      " 30  adult gonad     140 non-null    float64\n",
      " 31  dauer entry     140 non-null    float64\n",
      " 32  dauer           140 non-null    float64\n",
      " 33  dauer exit      140 non-null    float64\n",
      "dtypes: float64(30), object(4)\n",
      "memory usage: 37.3+ KB\n",
      "None\n",
      "<class 'pandas.core.frame.DataFrame'>\n",
      "RangeIndex: 140 entries, 0 to 139\n",
      "Data columns (total 39 columns):\n",
      " #   Column          Non-Null Count  Dtype  \n",
      "---  ------          --------------  -----  \n",
      " 0   Worm Gene       140 non-null    object \n",
      " 1   Human Gene      140 non-null    object \n",
      " 2   Gene            140 non-null    object \n",
      " 3   WormTranscript  140 non-null    object \n",
      " 4   hypodermis t0   140 non-null    float64\n",
      " 5   hypodermis t1   140 non-null    float64\n",
      " 6   hypodermis t2   140 non-null    float64\n",
      " 7   hypodermis t3   140 non-null    float64\n",
      " 8   hypodermis t4   140 non-null    float64\n",
      " 9   intestine t0    140 non-null    float64\n",
      " 10  intestine t1    140 non-null    float64\n",
      " 11  intestine t2    140 non-null    float64\n",
      " 12  intestine t3    140 non-null    float64\n",
      " 13  intestine t4    140 non-null    float64\n",
      " 14  pharynx t0      140 non-null    float64\n",
      " 15  pharynx t1      140 non-null    float64\n",
      " 16  pharynx t2      140 non-null    float64\n",
      " 17  pharynx t3      140 non-null    float64\n",
      " 18  pharynx t4      140 non-null    float64\n",
      " 19  muscle t0       140 non-null    float64\n",
      " 20  muscle t1       140 non-null    float64\n",
      " 21  muscle t2       140 non-null    float64\n",
      " 22  muscle t3       140 non-null    float64\n",
      " 23  muscle t4       140 non-null    float64\n",
      " 24  neuron t0       140 non-null    float64\n",
      " 25  neuron t1       140 non-null    float64\n",
      " 26  neuron t2       140 non-null    float64\n",
      " 27  neuron t3       140 non-null    float64\n",
      " 28  neuron t4       140 non-null    float64\n",
      " 29  ABa t0          140 non-null    float64\n",
      " 30  ABa t1          140 non-null    float64\n",
      " 31  ABa t2          140 non-null    float64\n",
      " 32  ABa t3          140 non-null    float64\n",
      " 33  ABa t4          140 non-null    float64\n",
      " 34  ABala t0        140 non-null    float64\n",
      " 35  ABala t1        140 non-null    float64\n",
      " 36  ABala t2        140 non-null    float64\n",
      " 37  ABala t3        140 non-null    float64\n",
      " 38  ABala t4        140 non-null    float64\n",
      "dtypes: float64(35), object(4)\n",
      "memory usage: 42.8+ KB\n",
      "None\n",
      "<class 'pandas.core.frame.DataFrame'>\n",
      "RangeIndex: 140 entries, 0 to 139\n",
      "Data columns (total 31 columns):\n",
      " #   Column                    Non-Null Count  Dtype  \n",
      "---  ------                    --------------  -----  \n",
      " 0   Worm Gene                 140 non-null    object \n",
      " 1   Human Gene                140 non-null    object \n",
      " 2   Gene                      140 non-null    object \n",
      " 3   WormTranscript            140 non-null    object \n",
      " 4   Body wall muscle          140 non-null    float64\n",
      " 5   Intestinal/rectal muscle  140 non-null    float64\n",
      " 6   Pharyngeal muscle         140 non-null    float64\n",
      " 7   Pharyngeal epithelia      140 non-null    float64\n",
      " 8   Pharyngeal gland          140 non-null    float64\n",
      " 9   Seam cells                140 non-null    float64\n",
      " 10  Non-seam hypodermis       140 non-null    float64\n",
      " 11  Rectum                    140 non-null    float64\n",
      " 12  Ciliated sensory neurons  140 non-null    float64\n",
      " 13  Oxygen sensory neurons    140 non-null    float64\n",
      " 14  Touch receptor neurons    140 non-null    float64\n",
      " 15  Cholinergic neurons       140 non-null    float64\n",
      " 16  GABAergic neurons         140 non-null    float64\n",
      " 17  Pharyngeal neurons        140 non-null    float64\n",
      " 18  flp-1(+) interneurons     140 non-null    float64\n",
      " 19  Other interneurons        140 non-null    float64\n",
      " 20  Canal associated neurons  140 non-null    float64\n",
      " 21  Am/PH sheath cells        140 non-null    float64\n",
      " 22  Socket cells              140 non-null    float64\n",
      " 23  Excretory cells           140 non-null    float64\n",
      " 24  Intestine                 140 non-null    float64\n",
      " 25  Germline                  140 non-null    float64\n",
      " 26  Somatic gonad precursors  140 non-null    float64\n",
      " 27  Distal tip cells          140 non-null    float64\n",
      " 28  Vulval precursors         140 non-null    float64\n",
      " 29  Sex myoblasts             140 non-null    float64\n",
      " 30  Coelomocytes              140 non-null    float64\n",
      "dtypes: float64(27), object(4)\n",
      "memory usage: 34.0+ KB\n",
      "None\n"
     ]
    }
   ],
   "source": [
    "print(cengen_df.info())\n",
    "print(age_df.info())\n",
    "print(agewithtissue_df.info())\n",
    "print(tissue_df.info())\n"
   ]
  },
  {
   "cell_type": "code",
   "execution_count": 22,
   "metadata": {},
   "outputs": [],
   "source": [
    "data_frames=[cengen_df,age_df,agewithtissue_df,tissue_df]\n",
    "waterston_data=[age_df,agewithtissue_df,tissue_df]"
   ]
  },
  {
   "cell_type": "code",
   "execution_count": 5,
   "metadata": {},
   "outputs": [],
   "source": [
    "ageagetissue_tf = pd.merge(age_df, agewithtissue_df, on=[\"Worm Gene\", \"Human Gene\", \"Gene\", \"WormTranscript\"])"
   ]
  },
  {
   "cell_type": "code",
   "execution_count": null,
   "metadata": {},
   "outputs": [],
   "source": [
    "ageagetissue_tf.info()"
   ]
  },
  {
   "cell_type": "code",
   "execution_count": 23,
   "metadata": {},
   "outputs": [],
   "source": [
    "merged_df = reduce(lambda  left,right: pd.merge(left,right,on=[\"Worm Gene\", \"Human Gene\", \"Gene\", \"WormTranscript\"]), data_frames).fillna('void')\n",
    "waterston_merged_df = reduce(lambda  left,right: pd.merge(left,right,on=[\"Worm Gene\", \"Human Gene\", \"Gene\", \"WormTranscript\"]), waterston_data).fillna('void')"
   ]
  },
  {
   "cell_type": "code",
   "execution_count": 24,
   "metadata": {},
   "outputs": [
    {
     "name": "stdout",
     "output_type": "stream",
     "text": [
      "<class 'pandas.core.frame.DataFrame'>\n",
      "Int64Index: 138 entries, 0 to 137\n",
      "Columns: 266 entries, Worm Gene to Coelomocytes\n",
      "dtypes: float64(261), object(5)\n",
      "memory usage: 287.9+ KB\n"
     ]
    }
   ],
   "source": [
    "merged_df.info()"
   ]
  },
  {
   "cell_type": "code",
   "execution_count": null,
   "metadata": {},
   "outputs": [],
   "source": [
    "merged_df.head()"
   ]
  },
  {
   "cell_type": "code",
   "execution_count": null,
   "metadata": {},
   "outputs": [],
   "source": [
    "cengen_df.set_index(\"Gene\", inplace=True)\n",
    "cengen_df.head()"
   ]
  },
  {
   "cell_type": "code",
   "execution_count": null,
   "metadata": {},
   "outputs": [],
   "source": [
    "# Gene_Orthology_Info=merged_df[['Gene','Worm Gene','Human Gene']].copy()\n",
    "# print(Gene_Orthology_Info)\n",
    "# Gene_Orthology_Info.to_csv()"
   ]
  },
  {
   "cell_type": "code",
   "execution_count": null,
   "metadata": {},
   "outputs": [],
   "source": [
    "merged_df.set_index(\"Gene\", inplace=True)\n",
    "waterston_merged_df.set_index(\"Gene\", inplace=True)\n"
   ]
  },
  {
   "cell_type": "code",
   "execution_count": null,
   "metadata": {},
   "outputs": [],
   "source": [
    "sns.set_context(\"paper\")\n",
    "g = sns.clustermap(waterston_merged_df.iloc[:,4:],\n",
    "                   cmap=\"flare\",\n",
    "                   figsize=(20,25),\n",
    "                   method=\"single\",\n",
    "                   metric=\"correlation\", \n",
    "                   col_cluster=False,\n",
    "                   vmax=1000,\n",
    "                   tree_kws=dict(linewidths=1.5))\n",
    "g.savefig(\"/Users/Joseph/Desktop/GeneExpressionCSV/Waterston.png\", format='png', dpi=450)"
   ]
  },
  {
   "cell_type": "code",
   "execution_count": null,
   "metadata": {},
   "outputs": [],
   "source": [
    "sns.set_context(\"paper\")\n",
    "g = sns.clustermap(cengen_df.iloc[:,3:],\n",
    "                   cmap=\"flare\",\n",
    "                   figsize=(20,25),\n",
    "                   method=\"single\",\n",
    "                   metric=\"correlation\", \n",
    "                   vmax=1000,\n",
    "                   tree_kws=dict(linewidths=1.5))\n",
    "# g.savefig(\"/Users/Joseph/Desktop/GeneExpressionCSV/CeNGEN.png\", format='png', dpi=450)"
   ]
  },
  {
   "cell_type": "code",
   "execution_count": null,
   "metadata": {},
   "outputs": [],
   "source": [
    "print(cengen_df.iloc[:,3:])"
   ]
  },
  {
   "cell_type": "code",
   "execution_count": null,
   "metadata": {},
   "outputs": [],
   "source": [
    "from matplotlib.colors import LogNorm, Normalize\n",
    "from matplotlib.ticker import MaxNLocator\n",
    "sns.set_context(\"talk\")\n",
    "g = sns.clustermap(merged_df.iloc[:,3:].transpose(),\n",
    "#                    merged_df.iloc[:,3:].transpose(), \n",
    "                   cmap=sns.light_palette(\"seagreen\", as_cmap=True),\n",
    "                   figsize=(30,12),\n",
    "#                    row_linkage=dgramlinkage,\n",
    "                   method=\"average\",\n",
    "                   row_cluster=False,\n",
    "                   dendrogram_ratio=(0,0.10),\n",
    "#                    z_score=0,\n",
    "                   metric=\"correlation\", \n",
    "                   vmax=1000,\n",
    "                   tree_kws=dict(linewidths=1.5),\n",
    "                   xticklabels=True,\n",
    "                   yticklabels=False,\n",
    "                   norm=LogNorm()\n",
    "                  )\n",
    "# g.ax_col_dendrogram.set_visible(False)\n",
    "g.fig.subplots_adjust(right=0.7)\n",
    "g.ax_cbar.set_position((0.71, 0.5, .03, .3))\n",
    "# dgramlinkage = g.dendrogram_row.linkage\n",
    "# den_rows = g.dendrogram_row.reordered_ind\n",
    "# g.savefig(\"/Users/Joseph/Desktop/GeneExpressionCSV/merged.png\", format='png', dpi=450)\n",
    "g.savefig(\"/Users/Joseph/Desktop/GRC_Data/Gene_Expression_log_NEW.png\", format='png', dpi=450)"
   ]
  },
  {
   "cell_type": "code",
   "execution_count": null,
   "metadata": {},
   "outputs": [],
   "source": [
    "sns.set_context(\"talk\")\n",
    "g = sns.clustermap(merged_df.iloc[:,3:], \n",
    "                   cmap=\"flare\",\n",
    "                   figsize=(7,20),\n",
    "#                    row_linkage=dgramlinkage,\n",
    "                   method=\"single\",\n",
    "                   col_cluster=False,\n",
    "                   cbar_pos=None,\n",
    "                   dendrogram_ratio=(0.99,0),\n",
    "#                    z_score=0,\n",
    "                   metric=\"correlation\", \n",
    "                   vmax=1000,\n",
    "                   tree_kws=dict(linewidths=1.5),\n",
    "                   yticklabels=True,\n",
    "                   xticklabels=False)\n",
    "g.fig.subplots_adjust(right=0.7)\n",
    "# g.ax_cbar.set_position((0.01, 0.01, .03, .3))\n",
    "# dgramlinkage = g.dendrogram_row.linkage\n",
    "# den_rows = g.dendrogram_row.reordered_ind\n",
    "g.savefig(\"/Users/Joseph/Desktop/GeneExpressionCSV/merged_dendrogram.png\", format='png', dpi=450)"
   ]
  },
  {
   "cell_type": "code",
   "execution_count": null,
   "metadata": {},
   "outputs": [],
   "source": [
    "print(den_rows)"
   ]
  },
  {
   "cell_type": "code",
   "execution_count": null,
   "metadata": {},
   "outputs": [],
   "source": [
    "for ax,name in zip([g.ax_heatmap, g.ax_col_dendrogram, g.ax_row_dendrogram],\n",
    "                   ['heatmap.png','col_dendrogram.png','row_dendrogram.png']):\n",
    "    bbox = ax.get_window_extent()\n",
    "    inches = g.fig.dpi_scale_trans.inverted().transform_bbox(bbox)\n",
    "    g.savefig(name, bbox_inches=inches)"
   ]
  },
  {
   "cell_type": "code",
   "execution_count": null,
   "metadata": {},
   "outputs": [],
   "source": [
    "dgram = g.dendrogram_row.dendrogram\n",
    "D = np.array(dgram['dcoord'])\n",
    "I = np.array(dgram['icoord'])\n",
    "dgramlinkage = g.dendrogram_row.linkage\n",
    "den_rows = g.dendrogram_row.reordered_ind\n"
   ]
  },
  {
   "cell_type": "code",
   "execution_count": null,
   "metadata": {},
   "outputs": [],
   "source": [
    "labelnames=[]\n",
    "for row in merged_df.index:\n",
    "    labelnames.append(row)\n",
    "# print(labelnames)\n",
    "# print(len(labelnames))\n",
    "label_nums = list(range(0, len(labelnames)))\n",
    "# print(label_nums)\n",
    "label_dict = dict(zip(label_nums, labelnames))\n",
    "# print(label_dict)"
   ]
  },
  {
   "cell_type": "code",
   "execution_count": null,
   "metadata": {},
   "outputs": [],
   "source": [
    "reordered_names=[]\n",
    "for i in den_rows:\n",
    "    reordered_names.append(label_dict[i])\n",
    "    \n",
    "# print(reordered_names)"
   ]
  },
  {
   "cell_type": "code",
   "execution_count": null,
   "metadata": {},
   "outputs": [],
   "source": [
    "from scipy.cluster import hierarchy\n",
    "plt.figure(figsize=(6,18))\n",
    "dn = hierarchy.dendrogram(dgramlinkage,\n",
    "#                           above_threshold_color='#bcbddc',\n",
    "                          orientation='left',\n",
    "#                           labels=reordered_names,\n",
    "                          leaf_font_size=10)\n",
    "plt.show"
   ]
  },
  {
   "cell_type": "markdown",
   "metadata": {},
   "source": [
    "# PCA"
   ]
  },
  {
   "cell_type": "code",
   "execution_count": 25,
   "metadata": {},
   "outputs": [
    {
     "data": {
      "text/html": [
       "<div>\n",
       "<style scoped>\n",
       "    .dataframe tbody tr th:only-of-type {\n",
       "        vertical-align: middle;\n",
       "    }\n",
       "\n",
       "    .dataframe tbody tr th {\n",
       "        vertical-align: top;\n",
       "    }\n",
       "\n",
       "    .dataframe thead th {\n",
       "        text-align: right;\n",
       "    }\n",
       "</style>\n",
       "<table border=\"1\" class=\"dataframe\">\n",
       "  <thead>\n",
       "    <tr style=\"text-align: right;\">\n",
       "      <th></th>\n",
       "      <th>Worm Gene</th>\n",
       "      <th>Human Gene</th>\n",
       "      <th>Gene</th>\n",
       "      <th>Class</th>\n",
       "      <th>WormTranscript</th>\n",
       "      <th>ADA</th>\n",
       "      <th>ADE</th>\n",
       "      <th>ADF</th>\n",
       "      <th>ADL</th>\n",
       "      <th>AFD</th>\n",
       "      <th>...</th>\n",
       "      <th>Am/PH sheath cells</th>\n",
       "      <th>Socket cells</th>\n",
       "      <th>Excretory cells</th>\n",
       "      <th>Intestine_y</th>\n",
       "      <th>Germline_y</th>\n",
       "      <th>Somatic gonad precursors</th>\n",
       "      <th>Distal tip cells</th>\n",
       "      <th>Vulval precursors</th>\n",
       "      <th>Sex myoblasts</th>\n",
       "      <th>Coelomocytes</th>\n",
       "    </tr>\n",
       "  </thead>\n",
       "  <tbody>\n",
       "    <tr>\n",
       "      <th>0</th>\n",
       "      <td>kvs-5</td>\n",
       "      <td>KCNS3</td>\n",
       "      <td>KCNS3•kvs-5</td>\n",
       "      <td>GWAS</td>\n",
       "      <td>Y55F3C.3</td>\n",
       "      <td>9.626676</td>\n",
       "      <td>27.367903</td>\n",
       "      <td>94.904827</td>\n",
       "      <td>1.382053</td>\n",
       "      <td>152.641265</td>\n",
       "      <td>...</td>\n",
       "      <td>3.31285</td>\n",
       "      <td>2.96528</td>\n",
       "      <td>4.71843</td>\n",
       "      <td>3.2619</td>\n",
       "      <td>0.819216</td>\n",
       "      <td>1.37372</td>\n",
       "      <td>0.0000</td>\n",
       "      <td>0.0000</td>\n",
       "      <td>0.0000</td>\n",
       "      <td>2.99771</td>\n",
       "    </tr>\n",
       "    <tr>\n",
       "      <th>1</th>\n",
       "      <td>lam-1</td>\n",
       "      <td>LAMB2</td>\n",
       "      <td>LAMB2•lam-1</td>\n",
       "      <td>GWAS</td>\n",
       "      <td>W03F8.5</td>\n",
       "      <td>0.000000</td>\n",
       "      <td>0.000000</td>\n",
       "      <td>0.716142</td>\n",
       "      <td>0.000000</td>\n",
       "      <td>0.000000</td>\n",
       "      <td>...</td>\n",
       "      <td>100.08000</td>\n",
       "      <td>10.24950</td>\n",
       "      <td>48.27270</td>\n",
       "      <td>38.8991</td>\n",
       "      <td>7.954470</td>\n",
       "      <td>63.49900</td>\n",
       "      <td>5516.8100</td>\n",
       "      <td>24.7764</td>\n",
       "      <td>3770.5800</td>\n",
       "      <td>34.24740</td>\n",
       "    </tr>\n",
       "    <tr>\n",
       "      <th>2</th>\n",
       "      <td>gba-4</td>\n",
       "      <td>GBA</td>\n",
       "      <td>GBA•gba-4</td>\n",
       "      <td>GWAS</td>\n",
       "      <td>Y4C6B.6</td>\n",
       "      <td>0.000000</td>\n",
       "      <td>5.100662</td>\n",
       "      <td>0.000000</td>\n",
       "      <td>0.000000</td>\n",
       "      <td>0.000000</td>\n",
       "      <td>...</td>\n",
       "      <td>0.00000</td>\n",
       "      <td>0.00000</td>\n",
       "      <td>0.00000</td>\n",
       "      <td>108.8410</td>\n",
       "      <td>0.052315</td>\n",
       "      <td>0.00000</td>\n",
       "      <td>0.0000</td>\n",
       "      <td>0.0000</td>\n",
       "      <td>0.0000</td>\n",
       "      <td>0.00000</td>\n",
       "    </tr>\n",
       "    <tr>\n",
       "      <th>3</th>\n",
       "      <td>mccc-1</td>\n",
       "      <td>MCCC1</td>\n",
       "      <td>MCCC1•mccc-1</td>\n",
       "      <td>GWAS</td>\n",
       "      <td>F32B6.2</td>\n",
       "      <td>1.668519</td>\n",
       "      <td>0.000000</td>\n",
       "      <td>40.338339</td>\n",
       "      <td>0.620578</td>\n",
       "      <td>0.000000</td>\n",
       "      <td>...</td>\n",
       "      <td>27.13450</td>\n",
       "      <td>9.50931</td>\n",
       "      <td>19.36280</td>\n",
       "      <td>279.5820</td>\n",
       "      <td>130.250000</td>\n",
       "      <td>87.70710</td>\n",
       "      <td>94.0515</td>\n",
       "      <td>54.4817</td>\n",
       "      <td>48.9662</td>\n",
       "      <td>40.86990</td>\n",
       "    </tr>\n",
       "    <tr>\n",
       "      <th>4</th>\n",
       "      <td>unc-43</td>\n",
       "      <td>CAMK2D</td>\n",
       "      <td>CAMK2D•unc-43</td>\n",
       "      <td>GWAS</td>\n",
       "      <td>K11E8.1</td>\n",
       "      <td>594.868907</td>\n",
       "      <td>583.176533</td>\n",
       "      <td>283.477930</td>\n",
       "      <td>455.996900</td>\n",
       "      <td>1013.711837</td>\n",
       "      <td>...</td>\n",
       "      <td>477.03900</td>\n",
       "      <td>908.29500</td>\n",
       "      <td>943.33100</td>\n",
       "      <td>559.0780</td>\n",
       "      <td>3.953250</td>\n",
       "      <td>248.46400</td>\n",
       "      <td>300.2820</td>\n",
       "      <td>235.3740</td>\n",
       "      <td>279.1310</td>\n",
       "      <td>277.05100</td>\n",
       "    </tr>\n",
       "  </tbody>\n",
       "</table>\n",
       "<p>5 rows × 266 columns</p>\n",
       "</div>"
      ],
      "text/plain": [
       "  Worm Gene Human Gene           Gene Class WormTranscript         ADA  \\\n",
       "0     kvs-5      KCNS3    KCNS3•kvs-5  GWAS       Y55F3C.3    9.626676   \n",
       "1     lam-1      LAMB2    LAMB2•lam-1  GWAS        W03F8.5    0.000000   \n",
       "2     gba-4        GBA      GBA•gba-4  GWAS        Y4C6B.6    0.000000   \n",
       "3    mccc-1      MCCC1   MCCC1•mccc-1  GWAS        F32B6.2    1.668519   \n",
       "4    unc-43     CAMK2D  CAMK2D•unc-43  GWAS        K11E8.1  594.868907   \n",
       "\n",
       "          ADE         ADF         ADL          AFD  ...  Am/PH sheath cells  \\\n",
       "0   27.367903   94.904827    1.382053   152.641265  ...             3.31285   \n",
       "1    0.000000    0.716142    0.000000     0.000000  ...           100.08000   \n",
       "2    5.100662    0.000000    0.000000     0.000000  ...             0.00000   \n",
       "3    0.000000   40.338339    0.620578     0.000000  ...            27.13450   \n",
       "4  583.176533  283.477930  455.996900  1013.711837  ...           477.03900   \n",
       "\n",
       "   Socket cells  Excretory cells  Intestine_y  Germline_y  \\\n",
       "0       2.96528          4.71843       3.2619    0.819216   \n",
       "1      10.24950         48.27270      38.8991    7.954470   \n",
       "2       0.00000          0.00000     108.8410    0.052315   \n",
       "3       9.50931         19.36280     279.5820  130.250000   \n",
       "4     908.29500        943.33100     559.0780    3.953250   \n",
       "\n",
       "   Somatic gonad precursors  Distal tip cells  Vulval precursors  \\\n",
       "0                   1.37372            0.0000             0.0000   \n",
       "1                  63.49900         5516.8100            24.7764   \n",
       "2                   0.00000            0.0000             0.0000   \n",
       "3                  87.70710           94.0515            54.4817   \n",
       "4                 248.46400          300.2820           235.3740   \n",
       "\n",
       "   Sex myoblasts  Coelomocytes  \n",
       "0         0.0000       2.99771  \n",
       "1      3770.5800      34.24740  \n",
       "2         0.0000       0.00000  \n",
       "3        48.9662      40.86990  \n",
       "4       279.1310     277.05100  \n",
       "\n",
       "[5 rows x 266 columns]"
      ]
     },
     "execution_count": 25,
     "metadata": {},
     "output_type": "execute_result"
    }
   ],
   "source": [
    "merged_df.head()"
   ]
  },
  {
   "cell_type": "code",
   "execution_count": 26,
   "metadata": {},
   "outputs": [
    {
     "data": {
      "text/html": [
       "<div>\n",
       "<style scoped>\n",
       "    .dataframe tbody tr th:only-of-type {\n",
       "        vertical-align: middle;\n",
       "    }\n",
       "\n",
       "    .dataframe tbody tr th {\n",
       "        vertical-align: top;\n",
       "    }\n",
       "\n",
       "    .dataframe thead th {\n",
       "        text-align: right;\n",
       "    }\n",
       "</style>\n",
       "<table border=\"1\" class=\"dataframe\">\n",
       "  <thead>\n",
       "    <tr style=\"text-align: right;\">\n",
       "      <th></th>\n",
       "      <th>ADA</th>\n",
       "      <th>ADE</th>\n",
       "      <th>ADF</th>\n",
       "      <th>ADL</th>\n",
       "      <th>AFD</th>\n",
       "      <th>AIA</th>\n",
       "      <th>AIB</th>\n",
       "      <th>AIM</th>\n",
       "      <th>AIN</th>\n",
       "      <th>AIY</th>\n",
       "      <th>...</th>\n",
       "      <th>Am/PH sheath cells</th>\n",
       "      <th>Socket cells</th>\n",
       "      <th>Excretory cells</th>\n",
       "      <th>Intestine_y</th>\n",
       "      <th>Germline_y</th>\n",
       "      <th>Somatic gonad precursors</th>\n",
       "      <th>Distal tip cells</th>\n",
       "      <th>Vulval precursors</th>\n",
       "      <th>Sex myoblasts</th>\n",
       "      <th>Coelomocytes</th>\n",
       "    </tr>\n",
       "  </thead>\n",
       "  <tbody>\n",
       "    <tr>\n",
       "      <th>0</th>\n",
       "      <td>9.626676</td>\n",
       "      <td>27.367903</td>\n",
       "      <td>94.904827</td>\n",
       "      <td>1.382053</td>\n",
       "      <td>152.641265</td>\n",
       "      <td>0.000000</td>\n",
       "      <td>63.635893</td>\n",
       "      <td>1.038270</td>\n",
       "      <td>52.391589</td>\n",
       "      <td>47.888228</td>\n",
       "      <td>...</td>\n",
       "      <td>3.31285</td>\n",
       "      <td>2.96528</td>\n",
       "      <td>4.71843</td>\n",
       "      <td>3.2619</td>\n",
       "      <td>0.819216</td>\n",
       "      <td>1.37372</td>\n",
       "      <td>0.0000</td>\n",
       "      <td>0.0000</td>\n",
       "      <td>0.0000</td>\n",
       "      <td>2.99771</td>\n",
       "    </tr>\n",
       "    <tr>\n",
       "      <th>1</th>\n",
       "      <td>0.000000</td>\n",
       "      <td>0.000000</td>\n",
       "      <td>0.716142</td>\n",
       "      <td>0.000000</td>\n",
       "      <td>0.000000</td>\n",
       "      <td>0.000000</td>\n",
       "      <td>0.000000</td>\n",
       "      <td>0.000000</td>\n",
       "      <td>0.000000</td>\n",
       "      <td>0.000000</td>\n",
       "      <td>...</td>\n",
       "      <td>100.08000</td>\n",
       "      <td>10.24950</td>\n",
       "      <td>48.27270</td>\n",
       "      <td>38.8991</td>\n",
       "      <td>7.954470</td>\n",
       "      <td>63.49900</td>\n",
       "      <td>5516.8100</td>\n",
       "      <td>24.7764</td>\n",
       "      <td>3770.5800</td>\n",
       "      <td>34.24740</td>\n",
       "    </tr>\n",
       "    <tr>\n",
       "      <th>2</th>\n",
       "      <td>0.000000</td>\n",
       "      <td>5.100662</td>\n",
       "      <td>0.000000</td>\n",
       "      <td>0.000000</td>\n",
       "      <td>0.000000</td>\n",
       "      <td>0.000000</td>\n",
       "      <td>0.000000</td>\n",
       "      <td>0.000000</td>\n",
       "      <td>0.000000</td>\n",
       "      <td>0.000000</td>\n",
       "      <td>...</td>\n",
       "      <td>0.00000</td>\n",
       "      <td>0.00000</td>\n",
       "      <td>0.00000</td>\n",
       "      <td>108.8410</td>\n",
       "      <td>0.052315</td>\n",
       "      <td>0.00000</td>\n",
       "      <td>0.0000</td>\n",
       "      <td>0.0000</td>\n",
       "      <td>0.0000</td>\n",
       "      <td>0.00000</td>\n",
       "    </tr>\n",
       "    <tr>\n",
       "      <th>3</th>\n",
       "      <td>1.668519</td>\n",
       "      <td>0.000000</td>\n",
       "      <td>40.338339</td>\n",
       "      <td>0.620578</td>\n",
       "      <td>0.000000</td>\n",
       "      <td>3.104754</td>\n",
       "      <td>1.321049</td>\n",
       "      <td>20.657853</td>\n",
       "      <td>5.611328</td>\n",
       "      <td>3.164717</td>\n",
       "      <td>...</td>\n",
       "      <td>27.13450</td>\n",
       "      <td>9.50931</td>\n",
       "      <td>19.36280</td>\n",
       "      <td>279.5820</td>\n",
       "      <td>130.250000</td>\n",
       "      <td>87.70710</td>\n",
       "      <td>94.0515</td>\n",
       "      <td>54.4817</td>\n",
       "      <td>48.9662</td>\n",
       "      <td>40.86990</td>\n",
       "    </tr>\n",
       "    <tr>\n",
       "      <th>4</th>\n",
       "      <td>594.868907</td>\n",
       "      <td>583.176533</td>\n",
       "      <td>283.477930</td>\n",
       "      <td>455.996900</td>\n",
       "      <td>1013.711837</td>\n",
       "      <td>397.011580</td>\n",
       "      <td>115.016980</td>\n",
       "      <td>331.698953</td>\n",
       "      <td>267.913481</td>\n",
       "      <td>232.199014</td>\n",
       "      <td>...</td>\n",
       "      <td>477.03900</td>\n",
       "      <td>908.29500</td>\n",
       "      <td>943.33100</td>\n",
       "      <td>559.0780</td>\n",
       "      <td>3.953250</td>\n",
       "      <td>248.46400</td>\n",
       "      <td>300.2820</td>\n",
       "      <td>235.3740</td>\n",
       "      <td>279.1310</td>\n",
       "      <td>277.05100</td>\n",
       "    </tr>\n",
       "  </tbody>\n",
       "</table>\n",
       "<p>5 rows × 261 columns</p>\n",
       "</div>"
      ],
      "text/plain": [
       "          ADA         ADE         ADF         ADL          AFD         AIA  \\\n",
       "0    9.626676   27.367903   94.904827    1.382053   152.641265    0.000000   \n",
       "1    0.000000    0.000000    0.716142    0.000000     0.000000    0.000000   \n",
       "2    0.000000    5.100662    0.000000    0.000000     0.000000    0.000000   \n",
       "3    1.668519    0.000000   40.338339    0.620578     0.000000    3.104754   \n",
       "4  594.868907  583.176533  283.477930  455.996900  1013.711837  397.011580   \n",
       "\n",
       "          AIB         AIM         AIN         AIY  ...  Am/PH sheath cells  \\\n",
       "0   63.635893    1.038270   52.391589   47.888228  ...             3.31285   \n",
       "1    0.000000    0.000000    0.000000    0.000000  ...           100.08000   \n",
       "2    0.000000    0.000000    0.000000    0.000000  ...             0.00000   \n",
       "3    1.321049   20.657853    5.611328    3.164717  ...            27.13450   \n",
       "4  115.016980  331.698953  267.913481  232.199014  ...           477.03900   \n",
       "\n",
       "   Socket cells  Excretory cells  Intestine_y  Germline_y  \\\n",
       "0       2.96528          4.71843       3.2619    0.819216   \n",
       "1      10.24950         48.27270      38.8991    7.954470   \n",
       "2       0.00000          0.00000     108.8410    0.052315   \n",
       "3       9.50931         19.36280     279.5820  130.250000   \n",
       "4     908.29500        943.33100     559.0780    3.953250   \n",
       "\n",
       "   Somatic gonad precursors  Distal tip cells  Vulval precursors  \\\n",
       "0                   1.37372            0.0000             0.0000   \n",
       "1                  63.49900         5516.8100            24.7764   \n",
       "2                   0.00000            0.0000             0.0000   \n",
       "3                  87.70710           94.0515            54.4817   \n",
       "4                 248.46400          300.2820           235.3740   \n",
       "\n",
       "   Sex myoblasts  Coelomocytes  \n",
       "0         0.0000       2.99771  \n",
       "1      3770.5800      34.24740  \n",
       "2         0.0000       0.00000  \n",
       "3        48.9662      40.86990  \n",
       "4       279.1310     277.05100  \n",
       "\n",
       "[5 rows x 261 columns]"
      ]
     },
     "execution_count": 26,
     "metadata": {},
     "output_type": "execute_result"
    }
   ],
   "source": [
    "merged_numeric=merged_df.drop(['Worm Gene','Human Gene','Gene','WormTranscript', 'Class'], axis=1)\n",
    "merged_numeric.head()"
   ]
  },
  {
   "cell_type": "code",
   "execution_count": null,
   "metadata": {},
   "outputs": [],
   "source": []
  },
  {
   "cell_type": "code",
   "execution_count": null,
   "metadata": {},
   "outputs": [],
   "source": []
  },
  {
   "cell_type": "markdown",
   "metadata": {},
   "source": [
    "# TSNE"
   ]
  },
  {
   "cell_type": "code",
   "execution_count": 41,
   "metadata": {},
   "outputs": [],
   "source": [
    "from sklearn.manifold import TSNE\n",
    "m=TSNE(learning_rate=200)"
   ]
  },
  {
   "cell_type": "code",
   "execution_count": 42,
   "metadata": {},
   "outputs": [
    {
     "data": {
      "text/plain": [
       "array([[ 0.96617174, -0.7580703 ],\n",
       "       [-3.1995544 ,  0.41809526],\n",
       "       [-1.3812264 ,  2.3262918 ]], dtype=float32)"
      ]
     },
     "execution_count": 42,
     "metadata": {},
     "output_type": "execute_result"
    }
   ],
   "source": [
    "tsne_features=m.fit_transform(merged_numeric)\n",
    "tsne_features[1:4,:]"
   ]
  },
  {
   "cell_type": "code",
   "execution_count": 43,
   "metadata": {},
   "outputs": [],
   "source": [
    "merged_df['x']=tsne_features[:,0]\n",
    "merged_df['y']=tsne_features[:,1]"
   ]
  },
  {
   "cell_type": "code",
   "execution_count": 39,
   "metadata": {},
   "outputs": [],
   "source": [
    "import plotly.express as px"
   ]
  },
  {
   "cell_type": "code",
   "execution_count": 44,
   "metadata": {},
   "outputs": [
    {
     "data": {
      "application/vnd.plotly.v1+json": {
       "config": {
        "plotlyServerURL": "https://plotly.com"
       },
       "data": [
        {
         "customdata": [
          [
           "KCNS3•kvs-5"
          ],
          [
           "LAMB2•lam-1"
          ],
          [
           "GBA•gba-4"
          ],
          [
           "MCCC1•mccc-1"
          ],
          [
           "CAMK2D•unc-43"
          ],
          [
           "KPNA1•F53B2.5"
          ],
          [
           "VAMP4•snb-7"
          ],
          [
           "GBA•gba-3"
          ],
          [
           "CRLS1•crls-1"
          ],
          [
           "IP6K2•Y22D7AR.6"
          ],
          [
           "SETD1A•set-2"
          ],
          [
           "DDC•bas-1"
          ],
          [
           "FGF20•let-756"
          ],
          [
           "GALC•C29E4.10"
          ],
          [
           "VAMP4•snb-5"
          ],
          [
           "HIP1R•hipr-1"
          ],
          [
           "KCNS3•kvs-4"
          ],
          [
           "GBF1•gbf-1"
          ],
          [
           "SCARB2•scav-2"
          ],
          [
           "SATB1•dve-1"
          ],
          [
           "CAB39L•mop-25.1"
          ],
          [
           "SCARB2•scav-1"
          ],
          [
           "IGSF9B•igcm-2"
          ],
          [
           "DRD2/3/4•dop-3"
          ],
          [
           "CTSB•cpr-6"
          ],
          [
           "CHRNB1•acr-3"
          ],
          [
           "RIMS1•unc-10"
          ],
          [
           "KCNS3•kvs-1"
          ],
          [
           "MED12L•dpy-22"
          ],
          [
           "SCARB2•scav-5"
          ],
          [
           "RAB29•glo-1"
          ],
          [
           "KCNIP3•ncs-4"
          ],
          [
           "CHRNB1•acr-8"
          ],
          [
           "MAP4K4•mig-15"
          ],
          [
           "LCORL•mbr-1"
          ],
          [
           "CHRNB1•acr-12"
          ],
          [
           "RNF141•F54B11.5"
          ],
          [
           "DYRK1A•mbk-1"
          ],
          [
           "IP6K2•T20F7.3"
          ],
          [
           "MBNL2•mbl-1"
          ],
          [
           "KCNIP3•ncs-7"
          ],
          [
           "MEX3C•mex-3"
          ],
          [
           "UBAP2•pqn-59"
          ],
          [
           "FYN•src-1"
          ],
          [
           "PAM•pghm-1"
          ],
          [
           "CHRNB1•acr-6"
          ],
          [
           "SH3GL2•unc-57"
          ],
          [
           "CHD9•chd-7"
          ],
          [
           "PAM•pgal-1"
          ],
          [
           "ITPKB•lfe-2"
          ],
          [
           "PAM•pamn-1"
          ],
          [
           "KPNA1•ima-2"
          ],
          [
           "SPPL2B•imp-1"
          ],
          [
           "GRN•pgrn-1"
          ],
          [
           "HIP1R•Y18D10A.22"
          ],
          [
           "HIP1R•tag-138"
          ],
          [
           "INPP5F•sac-2"
          ],
          [
           "CTSB•W07B8.4"
          ],
          [
           "CTSB•cpr-5"
          ],
          [
           "CTSB•cpr-8"
          ],
          [
           "PARK7•djr-1.2"
          ],
          [
           "KCNS3•exp-2"
          ],
          [
           "CTSB•cpr-4"
          ],
          [
           "KCNS3•kvs-3"
          ],
          [
           "KCNS3•kvs-2"
          ],
          [
           "PMVK•F32D8.13"
          ],
          [
           "SIPA1L2•sipa-1"
          ],
          [
           "CTSB•cpr-1"
          ],
          [
           "CTSB•cpr-9"
          ],
          [
           "RPS6KL1•rskd-1"
          ],
          [
           "CTSB•F32H5.1"
          ],
          [
           "CTSB•cpr-3"
          ],
          [
           "CTSB•cpr-2"
          ],
          [
           "STK39•gck-3"
          ],
          [
           "KCNIP3•ncs-5"
          ],
          [
           "GBA•gba-1"
          ],
          [
           "GBA•gba-2"
          ],
          [
           "FAM49B/CYRIB•R07G3.8"
          ],
          [
           "MED13•let-19"
          ],
          [
           "CLCN3•clh-5"
          ],
          [
           "CAB39L•mop-25.2"
          ],
          [
           "GAK•gakh-1"
          ],
          [
           "SVOP•svop-1"
          ],
          [
           "gipc-2•GIPC1"
          ],
          [
           "gipc-1•GIPC1"
          ],
          [
           "hsp-1•HSPA8"
          ],
          [
           "immt-1•IMMT"
          ],
          [
           "immt-2•IMMT"
          ],
          [
           "klp-12•KIF21B"
          ],
          [
           "miro-1•RHOT2"
          ],
          [
           "C16C10.1•SLC25A39"
          ],
          [
           "unc-70•SPTBN1"
          ],
          [
           "tomm-22•TOMM22"
          ],
          [
           "C34D4.4•TVP23A"
          ],
          [
           "klu-1•ZSCAN21"
          ],
          [
           "mtk-1•NEK1"
          ],
          [
           "sek-1•NEK1"
          ],
          [
           "sek-4•NEK1"
          ],
          [
           "sek-5•NEK1"
          ],
          [
           "mig-32•PCGF3"
          ],
          [
           "chd-1•ZRANB3"
          ],
          [
           "csb-1•ZRANB3"
          ],
          [
           "F53H4.6•ZRANB3"
          ],
          [
           "smrc-1•ZRANB3"
          ],
          [
           "ptl-1•MAPT"
          ],
          [
           "lsy-2•ZSCAN9"
          ],
          [
           "gly-10•WBSCR17"
          ],
          [
           "gly-3•WBSCR17"
          ],
          [
           "gly-5•WBSCR17"
          ],
          [
           "gly-7•WBSCR17"
          ],
          [
           "gly-8•WBSCR17"
          ],
          [
           "dma-1•NRROS"
          ],
          [
           "egg-6•NRROS"
          ],
          [
           "pan-1•NRROS"
          ],
          [
           "sym-1•NRROS"
          ],
          [
           "rskn-1•RPS6KA2"
          ],
          [
           "sec-3•STXBP6"
          ]
         ],
         "hovertemplate": "Class=GWAS<br>x=%{x}<br>y=%{y}<br>Gene=%{customdata[0]}<extra></extra>",
         "legendgroup": "GWAS",
         "marker": {
          "color": "#636efa",
          "symbol": "circle"
         },
         "mode": "markers",
         "name": "GWAS",
         "orientation": "v",
         "showlegend": true,
         "type": "scatter",
         "x": [
          -1.0277000665664673,
          0.9661717414855957,
          -3.199554443359375,
          -1.3812264204025269,
          4.836365222930908,
          -3.4429304599761963,
          -3.148235321044922,
          -6.09677267074585,
          -1.3495234251022339,
          -2.447904109954834,
          1.3928834199905396,
          -7.3269572257995605,
          -1.7961013317108154,
          -5.056941986083984,
          -3.3235621452331543,
          0.09697343409061432,
          -1.254999041557312,
          2.6219639778137207,
          -2.855320453643799,
          3.019150495529175,
          0.1631489247083664,
          -3.6952342987060547,
          -4.347074508666992,
          3.4163401126861572,
          -2.571881055831909,
          -4.701282978057861,
          4.14457368850708,
          -5.460808753967285,
          4.668433666229248,
          -3.01249623298645,
          -6.088196277618408,
          -3.8507349491119385,
          -3.581063985824585,
          2.998826742172241,
          -5.1583027839660645,
          -1.9065277576446533,
          -3.343048095703125,
          -0.12308191508054733,
          -2.9562675952911377,
          0.9829778075218201,
          -4.706442356109619,
          -0.4507717490196228,
          0.19807450473308563,
          -0.24905049800872803,
          0.29626011848449707,
          -4.53835391998291,
          3.5925533771514893,
          4.769165515899658,
          0.5201498866081238,
          -1.8265990018844604,
          3.408263921737671,
          -2.9388110637664795,
          -1.2016265392303467,
          -6.044748306274414,
          -3.133173942565918,
          -3.2273130416870117,
          -2.6154022216796875,
          -3.2302186489105225,
          -2.544600009918213,
          -3.167630910873413,
          -2.1804723739624023,
          -2.4549076557159424,
          -2.515852212905884,
          -3.498795509338379,
          -5.582036972045898,
          -2.637420892715454,
          3.8193776607513428,
          -2.5522565841674805,
          -2.516582727432251,
          -2.085689067840576,
          -3.8792166709899902,
          -4.399779796600342,
          -3.1806418895721436,
          -2.2757792472839355,
          -4.5298075675964355,
          -3.9615931510925293,
          -2.8276853561401367,
          -1.0328807830810547,
          4.0874176025390625,
          -1.4010812044143677,
          -2.6490235328674316,
          -3.311648368835449,
          -2.9477593898773193,
          -6.7752180099487305,
          -6.777088165283203,
          -0.16307669878005981,
          -1.9834522008895874,
          3.399193048477173,
          -0.000525355339050293,
          1.8604896068572998,
          -2.7872753143310547,
          5.019609451293945,
          -1.149208664894104,
          -3.5703465938568115,
          -3.7408595085144043,
          3.0229461193084717,
          -2.928530216217041,
          -3.3190231323242188,
          -2.67924427986145,
          -1.6926277875900269,
          1.665547490119934,
          -2.3950870037078857,
          -2.6704282760620117,
          0.4070412516593933,
          1.6087491512298584,
          -1.1309020519256592,
          0.7813689708709717,
          1.9288372993469238,
          -0.06817202270030975,
          0.09502938389778137,
          4.643519401550293,
          0.8187260031700134,
          -2.558269500732422,
          -0.8536195158958435,
          -0.10469948500394821,
          -1.6459017992019653,
          -1.7716164588928223
         ],
         "xaxis": "x",
         "y": [
          -1.5751320123672485,
          -0.7580702900886536,
          0.41809526085853577,
          2.326291799545288,
          3.5261270999908447,
          0.9795438647270203,
          1.1797752380371094,
          -0.043770451098680496,
          4.769760608673096,
          1.2836241722106934,
          3.7976863384246826,
          2.139878749847412,
          0.38273128867149353,
          1.1809213161468506,
          1.1959922313690186,
          2.882673978805542,
          0.8350801467895508,
          4.954982280731201,
          -0.763540506362915,
          5.419869422912598,
          1.5393164157867432,
          0.504129946231842,
          2.005901336669922,
          0.36720895767211914,
          -4.1951518058776855,
          -1.3311107158660889,
          2.724193811416626,
          3.7779502868652344,
          4.655851364135742,
          0.3880203664302826,
          -0.05096283182501793,
          1.2866113185882568,
          1.3711588382720947,
          4.223186492919922,
          2.3625237941741943,
          7.360182762145996,
          3.820737361907959,
          3.553269863128662,
          0.8623786568641663,
          1.371955156326294,
          0.25962984561920166,
          3.594747304916382,
          6.319697380065918,
          5.399790287017822,
          8.486876487731934,
          -1.0614924430847168,
          2.6979072093963623,
          4.711517810821533,
          8.622387886047363,
          -0.4711248278617859,
          0.3576867878437042,
          2.4078304767608643,
          3.385146379470825,
          -0.062389787286520004,
          1.0582456588745117,
          1.0875719785690308,
          4.6693644523620605,
          1.079220175743103,
          -4.251861572265625,
          0.5632286667823792,
          -1.128466010093689,
          7.4509663581848145,
          -4.31751012802124,
          -1.6763659715652466,
          4.0129313468933105,
          1.547684907913208,
          2.736097812652588,
          -4.241304874420166,
          -4.314060688018799,
          5.876132965087891,
          -0.2544480860233307,
          4.748104095458984,
          0.7754301428794861,
          4.344897270202637,
          2.8410589694976807,
          0.8089389204978943,
          0.8475063443183899,
          2.680187225341797,
          4.843455791473389,
          3.816188335418701,
          4.15277624130249,
          2.0955402851104736,
          6.028011798858643,
          -2.2960853576660156,
          -2.2967402935028076,
          8.170687675476074,
          4.358128547668457,
          5.133455276489258,
          1.528320074081421,
          3.896462917327881,
          1.7583884000778198,
          4.174680233001709,
          5.785070419311523,
          4.7495574951171875,
          2.760834217071533,
          4.254210472106934,
          5.575657844543457,
          1.3044289350509644,
          1.0961544513702393,
          3.3517799377441406,
          3.3045215606689453,
          1.6058706045150757,
          1.0184937715530396,
          -0.6266074180603027,
          6.149997711181641,
          4.914921760559082,
          4.3769636154174805,
          4.965742111206055,
          2.58443284034729,
          4.826931953430176,
          5.009702682495117,
          0.7566916942596436,
          -0.3380487561225891,
          7.793204307556152,
          5.511924743652344,
          7.856169700622559,
          1.6713634729385376
         ],
         "yaxis": "y"
        },
        {
         "customdata": [
          [
           "PRKN•pdr-1"
          ]
         ],
         "hovertemplate": "Class=PARK3/PRKN<br>x=%{x}<br>y=%{y}<br>Gene=%{customdata[0]}<extra></extra>",
         "legendgroup": "PARK3/PRKN",
         "marker": {
          "color": "#EF553B",
          "symbol": "circle"
         },
         "mode": "markers",
         "name": "PARK3/PRKN",
         "orientation": "v",
         "showlegend": true,
         "type": "scatter",
         "x": [
          -1.4296300411224365
         ],
         "xaxis": "x",
         "y": [
          3.2330098152160645
         ],
         "yaxis": "y"
        },
        {
         "customdata": [
          [
           "VPS13C•T08G11.1"
          ]
         ],
         "hovertemplate": "Class=PARK23/VPS13C<br>x=%{x}<br>y=%{y}<br>Gene=%{customdata[0]}<extra></extra>",
         "legendgroup": "PARK23/VPS13C",
         "marker": {
          "color": "#00cc96",
          "symbol": "circle"
         },
         "mode": "markers",
         "name": "PARK23/VPS13C",
         "orientation": "v",
         "showlegend": true,
         "type": "scatter",
         "x": [
          4.1619110107421875
         ],
         "xaxis": "x",
         "y": [
          5.303605079650879
         ],
         "yaxis": "y"
        },
        {
         "customdata": [
          [
           "GCH1•cat-4"
          ],
          [
           "TH•cat-2"
          ]
         ],
         "hovertemplate": "Class=Dopamine<br>x=%{x}<br>y=%{y}<br>Gene=%{customdata[0]}<extra></extra>",
         "legendgroup": "Dopamine",
         "marker": {
          "color": "#ab63fa",
          "symbol": "circle"
         },
         "mode": "markers",
         "name": "Dopamine",
         "orientation": "v",
         "showlegend": true,
         "type": "scatter",
         "x": [
          -7.335366249084473,
          -7.312532424926758
         ],
         "xaxis": "x",
         "y": [
          2.133887529373169,
          2.1170361042022705
         ],
         "yaxis": "y"
        },
        {
         "customdata": [
          [
           "PARK7•djr-1.1"
          ]
         ],
         "hovertemplate": "Class=PARK7/DJ1<br>x=%{x}<br>y=%{y}<br>Gene=%{customdata[0]}<extra></extra>",
         "legendgroup": "PARK7/DJ1",
         "marker": {
          "color": "#FFA15A",
          "symbol": "circle"
         },
         "mode": "markers",
         "name": "PARK7/DJ1",
         "orientation": "v",
         "showlegend": true,
         "type": "scatter",
         "x": [
          -1.4033273458480835
         ],
         "xaxis": "x",
         "y": [
          4.272348403930664
         ],
         "yaxis": "y"
        },
        {
         "customdata": [
          [
           "PINK1•pink-1"
          ]
         ],
         "hovertemplate": "Class=PARK6/PINK1<br>x=%{x}<br>y=%{y}<br>Gene=%{customdata[0]}<extra></extra>",
         "legendgroup": "PARK6/PINK1",
         "marker": {
          "color": "#19d3f3",
          "symbol": "circle"
         },
         "mode": "markers",
         "name": "PARK6/PINK1",
         "orientation": "v",
         "showlegend": true,
         "type": "scatter",
         "x": [
          -2.000518321990967
         ],
         "xaxis": "x",
         "y": [
          2.908043622970581
         ],
         "yaxis": "y"
        },
        {
         "customdata": [
          [
           "VPS35•vps-35"
          ]
         ],
         "hovertemplate": "Class=PARK17/VPS35<br>x=%{x}<br>y=%{y}<br>Gene=%{customdata[0]}<extra></extra>",
         "legendgroup": "PARK17/VPS35",
         "marker": {
          "color": "#FF6692",
          "symbol": "circle"
         },
         "mode": "markers",
         "name": "PARK17/VPS35",
         "orientation": "v",
         "showlegend": true,
         "type": "scatter",
         "x": [
          -1.3451138734817505
         ],
         "xaxis": "x",
         "y": [
          1.8179563283920288
         ],
         "yaxis": "y"
        },
        {
         "customdata": [
          [
           "ATP13A2•catp-7"
          ]
         ],
         "hovertemplate": "Class=PARK9/ATP13A2<br>x=%{x}<br>y=%{y}<br>Gene=%{customdata[0]}<extra></extra>",
         "legendgroup": "PARK9/ATP13A2",
         "marker": {
          "color": "#B6E880",
          "symbol": "circle"
         },
         "mode": "markers",
         "name": "PARK9/ATP13A2",
         "orientation": "v",
         "showlegend": true,
         "type": "scatter",
         "x": [
          2.048919439315796
         ],
         "xaxis": "x",
         "y": [
          3.955697774887085
         ],
         "yaxis": "y"
        },
        {
         "customdata": [
          [
           "SYNJ1•unc-26"
          ]
         ],
         "hovertemplate": "Class=PARK20/SYNJ1<br>x=%{x}<br>y=%{y}<br>Gene=%{customdata[0]}<extra></extra>",
         "legendgroup": "PARK20/SYNJ1",
         "marker": {
          "color": "#FF97FF",
          "symbol": "circle"
         },
         "mode": "markers",
         "name": "PARK20/SYNJ1",
         "orientation": "v",
         "showlegend": true,
         "type": "scatter",
         "x": [
          2.6579267978668213
         ],
         "xaxis": "x",
         "y": [
          2.883479118347168
         ],
         "yaxis": "y"
        },
        {
         "customdata": [
          [
           "CHCHD2•har-1"
          ]
         ],
         "hovertemplate": "Class=PARK22/CHCHD2<br>x=%{x}<br>y=%{y}<br>Gene=%{customdata[0]}<extra></extra>",
         "legendgroup": "PARK22/CHCHD2",
         "marker": {
          "color": "#FECB52",
          "symbol": "circle"
         },
         "mode": "markers",
         "name": "PARK22/CHCHD2",
         "orientation": "v",
         "showlegend": true,
         "type": "scatter",
         "x": [
          -1.0303512811660767
         ],
         "xaxis": "x",
         "y": [
          6.249846458435059
         ],
         "yaxis": "y"
        },
        {
         "customdata": [
          [
           "LRRK2•lrk-1"
          ]
         ],
         "hovertemplate": "Class=PARK8/LRRK2<br>x=%{x}<br>y=%{y}<br>Gene=%{customdata[0]}<extra></extra>",
         "legendgroup": "PARK8/LRRK2",
         "marker": {
          "color": "#636efa",
          "symbol": "circle"
         },
         "mode": "markers",
         "name": "PARK8/LRRK2",
         "orientation": "v",
         "showlegend": true,
         "type": "scatter",
         "x": [
          2.6902966499328613
         ],
         "xaxis": "x",
         "y": [
          4.215017795562744
         ],
         "yaxis": "y"
        },
        {
         "customdata": [
          [
           "UCHL1•ubh-3"
          ],
          [
           "UCHL1•ubh-2"
          ],
          [
           "UCHL1•ubh-1"
          ]
         ],
         "hovertemplate": "Class=PARK5/UCHL1<br>x=%{x}<br>y=%{y}<br>Gene=%{customdata[0]}<extra></extra>",
         "legendgroup": "PARK5/UCHL1",
         "marker": {
          "color": "#EF553B",
          "symbol": "circle"
         },
         "mode": "markers",
         "name": "PARK5/UCHL1",
         "orientation": "v",
         "showlegend": true,
         "type": "scatter",
         "x": [
          -1.7767202854156494,
          -3.004359722137451,
          1.5266214609146118
         ],
         "xaxis": "x",
         "y": [
          4.16726541519165,
          4.702762603759766,
          1.5386232137680054
         ],
         "yaxis": "y"
        },
        {
         "customdata": [
          [
           "PLA2G6•ipla-3"
          ]
         ],
         "hovertemplate": "Class=PARK14/PLA2G6<br>x=%{x}<br>y=%{y}<br>Gene=%{customdata[0]}<extra></extra>",
         "legendgroup": "PARK14/PLA2G6",
         "marker": {
          "color": "#00cc96",
          "symbol": "circle"
         },
         "mode": "markers",
         "name": "PARK14/PLA2G6",
         "orientation": "v",
         "showlegend": true,
         "type": "scatter",
         "x": [
          1.1344189643859863
         ],
         "xaxis": "x",
         "y": [
          3.301715850830078
         ],
         "yaxis": "y"
        },
        {
         "customdata": [
          [
           "GIGYF2•gyf-1"
          ]
         ],
         "hovertemplate": "Class=PARK11/GIGYF2<br>x=%{x}<br>y=%{y}<br>Gene=%{customdata[0]}<extra></extra>",
         "legendgroup": "PARK11/GIGYF2",
         "marker": {
          "color": "#ab63fa",
          "symbol": "circle"
         },
         "mode": "markers",
         "name": "PARK11/GIGYF2",
         "orientation": "v",
         "showlegend": true,
         "type": "scatter",
         "x": [
          1.1573667526245117
         ],
         "xaxis": "x",
         "y": [
          3.753390312194824
         ],
         "yaxis": "y"
        },
        {
         "customdata": [
          [
           "DNAJC13•rme-8"
          ]
         ],
         "hovertemplate": "Class=PARK21/DNAJC13<br>x=%{x}<br>y=%{y}<br>Gene=%{customdata[0]}<extra></extra>",
         "legendgroup": "PARK21/DNAJC13",
         "marker": {
          "color": "#FFA15A",
          "symbol": "circle"
         },
         "mode": "markers",
         "name": "PARK21/DNAJC13",
         "orientation": "v",
         "showlegend": true,
         "type": "scatter",
         "x": [
          3.609685182571411
         ],
         "xaxis": "x",
         "y": [
          0.7003250122070312
         ],
         "yaxis": "y"
        },
        {
         "customdata": [
          [
           "EIF4G1•ifg-1"
          ]
         ],
         "hovertemplate": "Class=PARK18/EIF4G1<br>x=%{x}<br>y=%{y}<br>Gene=%{customdata[0]}<extra></extra>",
         "legendgroup": "PARK18/EIF4G1",
         "marker": {
          "color": "#19d3f3",
          "symbol": "circle"
         },
         "mode": "markers",
         "name": "PARK18/EIF4G1",
         "orientation": "v",
         "showlegend": true,
         "type": "scatter",
         "x": [
          -1.2034313678741455
         ],
         "xaxis": "x",
         "y": [
          5.399257183074951
         ],
         "yaxis": "y"
        },
        {
         "customdata": [
          [
           "DNAJC6•dnj-25"
          ]
         ],
         "hovertemplate": "Class=PARK19/DNAJC6<br>x=%{x}<br>y=%{y}<br>Gene=%{customdata[0]}<extra></extra>",
         "legendgroup": "PARK19/DNAJC6",
         "marker": {
          "color": "#FF6692",
          "symbol": "circle"
         },
         "mode": "markers",
         "name": "PARK19/DNAJC6",
         "orientation": "v",
         "showlegend": true,
         "type": "scatter",
         "x": [
          0.3198280930519104
         ],
         "xaxis": "x",
         "y": [
          2.6933891773223877
         ],
         "yaxis": "y"
        },
        {
         "customdata": [
          [
           "PSAP•spp-10"
          ],
          [
           "PSAP•spp-8"
          ]
         ],
         "hovertemplate": "Class=PARK24/PSAP<br>x=%{x}<br>y=%{y}<br>Gene=%{customdata[0]}<extra></extra>",
         "legendgroup": "PARK24/PSAP",
         "marker": {
          "color": "#B6E880",
          "symbol": "circle"
         },
         "mode": "markers",
         "name": "PARK24/PSAP",
         "orientation": "v",
         "showlegend": true,
         "type": "scatter",
         "x": [
          -4.173201560974121,
          -1.073792576789856
         ],
         "xaxis": "x",
         "y": [
          6.153128147125244,
          0.0230424627661705
         ],
         "yaxis": "y"
        }
       ],
       "layout": {
        "legend": {
         "title": {
          "text": "Class"
         },
         "tracegroupgap": 0
        },
        "margin": {
         "t": 60
        },
        "template": {
         "data": {
          "bar": [
           {
            "error_x": {
             "color": "#2a3f5f"
            },
            "error_y": {
             "color": "#2a3f5f"
            },
            "marker": {
             "line": {
              "color": "#E5ECF6",
              "width": 0.5
             },
             "pattern": {
              "fillmode": "overlay",
              "size": 10,
              "solidity": 0.2
             }
            },
            "type": "bar"
           }
          ],
          "barpolar": [
           {
            "marker": {
             "line": {
              "color": "#E5ECF6",
              "width": 0.5
             },
             "pattern": {
              "fillmode": "overlay",
              "size": 10,
              "solidity": 0.2
             }
            },
            "type": "barpolar"
           }
          ],
          "carpet": [
           {
            "aaxis": {
             "endlinecolor": "#2a3f5f",
             "gridcolor": "white",
             "linecolor": "white",
             "minorgridcolor": "white",
             "startlinecolor": "#2a3f5f"
            },
            "baxis": {
             "endlinecolor": "#2a3f5f",
             "gridcolor": "white",
             "linecolor": "white",
             "minorgridcolor": "white",
             "startlinecolor": "#2a3f5f"
            },
            "type": "carpet"
           }
          ],
          "choropleth": [
           {
            "colorbar": {
             "outlinewidth": 0,
             "ticks": ""
            },
            "type": "choropleth"
           }
          ],
          "contour": [
           {
            "colorbar": {
             "outlinewidth": 0,
             "ticks": ""
            },
            "colorscale": [
             [
              0,
              "#0d0887"
             ],
             [
              0.1111111111111111,
              "#46039f"
             ],
             [
              0.2222222222222222,
              "#7201a8"
             ],
             [
              0.3333333333333333,
              "#9c179e"
             ],
             [
              0.4444444444444444,
              "#bd3786"
             ],
             [
              0.5555555555555556,
              "#d8576b"
             ],
             [
              0.6666666666666666,
              "#ed7953"
             ],
             [
              0.7777777777777778,
              "#fb9f3a"
             ],
             [
              0.8888888888888888,
              "#fdca26"
             ],
             [
              1,
              "#f0f921"
             ]
            ],
            "type": "contour"
           }
          ],
          "contourcarpet": [
           {
            "colorbar": {
             "outlinewidth": 0,
             "ticks": ""
            },
            "type": "contourcarpet"
           }
          ],
          "heatmap": [
           {
            "colorbar": {
             "outlinewidth": 0,
             "ticks": ""
            },
            "colorscale": [
             [
              0,
              "#0d0887"
             ],
             [
              0.1111111111111111,
              "#46039f"
             ],
             [
              0.2222222222222222,
              "#7201a8"
             ],
             [
              0.3333333333333333,
              "#9c179e"
             ],
             [
              0.4444444444444444,
              "#bd3786"
             ],
             [
              0.5555555555555556,
              "#d8576b"
             ],
             [
              0.6666666666666666,
              "#ed7953"
             ],
             [
              0.7777777777777778,
              "#fb9f3a"
             ],
             [
              0.8888888888888888,
              "#fdca26"
             ],
             [
              1,
              "#f0f921"
             ]
            ],
            "type": "heatmap"
           }
          ],
          "heatmapgl": [
           {
            "colorbar": {
             "outlinewidth": 0,
             "ticks": ""
            },
            "colorscale": [
             [
              0,
              "#0d0887"
             ],
             [
              0.1111111111111111,
              "#46039f"
             ],
             [
              0.2222222222222222,
              "#7201a8"
             ],
             [
              0.3333333333333333,
              "#9c179e"
             ],
             [
              0.4444444444444444,
              "#bd3786"
             ],
             [
              0.5555555555555556,
              "#d8576b"
             ],
             [
              0.6666666666666666,
              "#ed7953"
             ],
             [
              0.7777777777777778,
              "#fb9f3a"
             ],
             [
              0.8888888888888888,
              "#fdca26"
             ],
             [
              1,
              "#f0f921"
             ]
            ],
            "type": "heatmapgl"
           }
          ],
          "histogram": [
           {
            "marker": {
             "pattern": {
              "fillmode": "overlay",
              "size": 10,
              "solidity": 0.2
             }
            },
            "type": "histogram"
           }
          ],
          "histogram2d": [
           {
            "colorbar": {
             "outlinewidth": 0,
             "ticks": ""
            },
            "colorscale": [
             [
              0,
              "#0d0887"
             ],
             [
              0.1111111111111111,
              "#46039f"
             ],
             [
              0.2222222222222222,
              "#7201a8"
             ],
             [
              0.3333333333333333,
              "#9c179e"
             ],
             [
              0.4444444444444444,
              "#bd3786"
             ],
             [
              0.5555555555555556,
              "#d8576b"
             ],
             [
              0.6666666666666666,
              "#ed7953"
             ],
             [
              0.7777777777777778,
              "#fb9f3a"
             ],
             [
              0.8888888888888888,
              "#fdca26"
             ],
             [
              1,
              "#f0f921"
             ]
            ],
            "type": "histogram2d"
           }
          ],
          "histogram2dcontour": [
           {
            "colorbar": {
             "outlinewidth": 0,
             "ticks": ""
            },
            "colorscale": [
             [
              0,
              "#0d0887"
             ],
             [
              0.1111111111111111,
              "#46039f"
             ],
             [
              0.2222222222222222,
              "#7201a8"
             ],
             [
              0.3333333333333333,
              "#9c179e"
             ],
             [
              0.4444444444444444,
              "#bd3786"
             ],
             [
              0.5555555555555556,
              "#d8576b"
             ],
             [
              0.6666666666666666,
              "#ed7953"
             ],
             [
              0.7777777777777778,
              "#fb9f3a"
             ],
             [
              0.8888888888888888,
              "#fdca26"
             ],
             [
              1,
              "#f0f921"
             ]
            ],
            "type": "histogram2dcontour"
           }
          ],
          "mesh3d": [
           {
            "colorbar": {
             "outlinewidth": 0,
             "ticks": ""
            },
            "type": "mesh3d"
           }
          ],
          "parcoords": [
           {
            "line": {
             "colorbar": {
              "outlinewidth": 0,
              "ticks": ""
             }
            },
            "type": "parcoords"
           }
          ],
          "pie": [
           {
            "automargin": true,
            "type": "pie"
           }
          ],
          "scatter": [
           {
            "fillpattern": {
             "fillmode": "overlay",
             "size": 10,
             "solidity": 0.2
            },
            "type": "scatter"
           }
          ],
          "scatter3d": [
           {
            "line": {
             "colorbar": {
              "outlinewidth": 0,
              "ticks": ""
             }
            },
            "marker": {
             "colorbar": {
              "outlinewidth": 0,
              "ticks": ""
             }
            },
            "type": "scatter3d"
           }
          ],
          "scattercarpet": [
           {
            "marker": {
             "colorbar": {
              "outlinewidth": 0,
              "ticks": ""
             }
            },
            "type": "scattercarpet"
           }
          ],
          "scattergeo": [
           {
            "marker": {
             "colorbar": {
              "outlinewidth": 0,
              "ticks": ""
             }
            },
            "type": "scattergeo"
           }
          ],
          "scattergl": [
           {
            "marker": {
             "colorbar": {
              "outlinewidth": 0,
              "ticks": ""
             }
            },
            "type": "scattergl"
           }
          ],
          "scattermapbox": [
           {
            "marker": {
             "colorbar": {
              "outlinewidth": 0,
              "ticks": ""
             }
            },
            "type": "scattermapbox"
           }
          ],
          "scatterpolar": [
           {
            "marker": {
             "colorbar": {
              "outlinewidth": 0,
              "ticks": ""
             }
            },
            "type": "scatterpolar"
           }
          ],
          "scatterpolargl": [
           {
            "marker": {
             "colorbar": {
              "outlinewidth": 0,
              "ticks": ""
             }
            },
            "type": "scatterpolargl"
           }
          ],
          "scatterternary": [
           {
            "marker": {
             "colorbar": {
              "outlinewidth": 0,
              "ticks": ""
             }
            },
            "type": "scatterternary"
           }
          ],
          "surface": [
           {
            "colorbar": {
             "outlinewidth": 0,
             "ticks": ""
            },
            "colorscale": [
             [
              0,
              "#0d0887"
             ],
             [
              0.1111111111111111,
              "#46039f"
             ],
             [
              0.2222222222222222,
              "#7201a8"
             ],
             [
              0.3333333333333333,
              "#9c179e"
             ],
             [
              0.4444444444444444,
              "#bd3786"
             ],
             [
              0.5555555555555556,
              "#d8576b"
             ],
             [
              0.6666666666666666,
              "#ed7953"
             ],
             [
              0.7777777777777778,
              "#fb9f3a"
             ],
             [
              0.8888888888888888,
              "#fdca26"
             ],
             [
              1,
              "#f0f921"
             ]
            ],
            "type": "surface"
           }
          ],
          "table": [
           {
            "cells": {
             "fill": {
              "color": "#EBF0F8"
             },
             "line": {
              "color": "white"
             }
            },
            "header": {
             "fill": {
              "color": "#C8D4E3"
             },
             "line": {
              "color": "white"
             }
            },
            "type": "table"
           }
          ]
         },
         "layout": {
          "annotationdefaults": {
           "arrowcolor": "#2a3f5f",
           "arrowhead": 0,
           "arrowwidth": 1
          },
          "autotypenumbers": "strict",
          "coloraxis": {
           "colorbar": {
            "outlinewidth": 0,
            "ticks": ""
           }
          },
          "colorscale": {
           "diverging": [
            [
             0,
             "#8e0152"
            ],
            [
             0.1,
             "#c51b7d"
            ],
            [
             0.2,
             "#de77ae"
            ],
            [
             0.3,
             "#f1b6da"
            ],
            [
             0.4,
             "#fde0ef"
            ],
            [
             0.5,
             "#f7f7f7"
            ],
            [
             0.6,
             "#e6f5d0"
            ],
            [
             0.7,
             "#b8e186"
            ],
            [
             0.8,
             "#7fbc41"
            ],
            [
             0.9,
             "#4d9221"
            ],
            [
             1,
             "#276419"
            ]
           ],
           "sequential": [
            [
             0,
             "#0d0887"
            ],
            [
             0.1111111111111111,
             "#46039f"
            ],
            [
             0.2222222222222222,
             "#7201a8"
            ],
            [
             0.3333333333333333,
             "#9c179e"
            ],
            [
             0.4444444444444444,
             "#bd3786"
            ],
            [
             0.5555555555555556,
             "#d8576b"
            ],
            [
             0.6666666666666666,
             "#ed7953"
            ],
            [
             0.7777777777777778,
             "#fb9f3a"
            ],
            [
             0.8888888888888888,
             "#fdca26"
            ],
            [
             1,
             "#f0f921"
            ]
           ],
           "sequentialminus": [
            [
             0,
             "#0d0887"
            ],
            [
             0.1111111111111111,
             "#46039f"
            ],
            [
             0.2222222222222222,
             "#7201a8"
            ],
            [
             0.3333333333333333,
             "#9c179e"
            ],
            [
             0.4444444444444444,
             "#bd3786"
            ],
            [
             0.5555555555555556,
             "#d8576b"
            ],
            [
             0.6666666666666666,
             "#ed7953"
            ],
            [
             0.7777777777777778,
             "#fb9f3a"
            ],
            [
             0.8888888888888888,
             "#fdca26"
            ],
            [
             1,
             "#f0f921"
            ]
           ]
          },
          "colorway": [
           "#636efa",
           "#EF553B",
           "#00cc96",
           "#ab63fa",
           "#FFA15A",
           "#19d3f3",
           "#FF6692",
           "#B6E880",
           "#FF97FF",
           "#FECB52"
          ],
          "font": {
           "color": "#2a3f5f"
          },
          "geo": {
           "bgcolor": "white",
           "lakecolor": "white",
           "landcolor": "#E5ECF6",
           "showlakes": true,
           "showland": true,
           "subunitcolor": "white"
          },
          "hoverlabel": {
           "align": "left"
          },
          "hovermode": "closest",
          "mapbox": {
           "style": "light"
          },
          "paper_bgcolor": "white",
          "plot_bgcolor": "#E5ECF6",
          "polar": {
           "angularaxis": {
            "gridcolor": "white",
            "linecolor": "white",
            "ticks": ""
           },
           "bgcolor": "#E5ECF6",
           "radialaxis": {
            "gridcolor": "white",
            "linecolor": "white",
            "ticks": ""
           }
          },
          "scene": {
           "xaxis": {
            "backgroundcolor": "#E5ECF6",
            "gridcolor": "white",
            "gridwidth": 2,
            "linecolor": "white",
            "showbackground": true,
            "ticks": "",
            "zerolinecolor": "white"
           },
           "yaxis": {
            "backgroundcolor": "#E5ECF6",
            "gridcolor": "white",
            "gridwidth": 2,
            "linecolor": "white",
            "showbackground": true,
            "ticks": "",
            "zerolinecolor": "white"
           },
           "zaxis": {
            "backgroundcolor": "#E5ECF6",
            "gridcolor": "white",
            "gridwidth": 2,
            "linecolor": "white",
            "showbackground": true,
            "ticks": "",
            "zerolinecolor": "white"
           }
          },
          "shapedefaults": {
           "line": {
            "color": "#2a3f5f"
           }
          },
          "ternary": {
           "aaxis": {
            "gridcolor": "white",
            "linecolor": "white",
            "ticks": ""
           },
           "baxis": {
            "gridcolor": "white",
            "linecolor": "white",
            "ticks": ""
           },
           "bgcolor": "#E5ECF6",
           "caxis": {
            "gridcolor": "white",
            "linecolor": "white",
            "ticks": ""
           }
          },
          "title": {
           "x": 0.05
          },
          "xaxis": {
           "automargin": true,
           "gridcolor": "white",
           "linecolor": "white",
           "ticks": "",
           "title": {
            "standoff": 15
           },
           "zerolinecolor": "white",
           "zerolinewidth": 2
          },
          "yaxis": {
           "automargin": true,
           "gridcolor": "white",
           "linecolor": "white",
           "ticks": "",
           "title": {
            "standoff": 15
           },
           "zerolinecolor": "white",
           "zerolinewidth": 2
          }
         }
        },
        "xaxis": {
         "anchor": "y",
         "domain": [
          0,
          1
         ],
         "title": {
          "text": "x"
         }
        },
        "yaxis": {
         "anchor": "x",
         "domain": [
          0,
          1
         ],
         "title": {
          "text": "y"
         }
        }
       }
      },
      "text/html": [
       "<div>                            <div id=\"d4710a78-9a96-4c73-92e1-7d58e5cb064f\" class=\"plotly-graph-div\" style=\"height:525px; width:100%;\"></div>            <script type=\"text/javascript\">                require([\"plotly\"], function(Plotly) {                    window.PLOTLYENV=window.PLOTLYENV || {};                                    if (document.getElementById(\"d4710a78-9a96-4c73-92e1-7d58e5cb064f\")) {                    Plotly.newPlot(                        \"d4710a78-9a96-4c73-92e1-7d58e5cb064f\",                        [{\"customdata\":[[\"KCNS3\\u2022kvs-5\"],[\"LAMB2\\u2022lam-1\"],[\"GBA\\u2022gba-4\"],[\"MCCC1\\u2022mccc-1\"],[\"CAMK2D\\u2022unc-43\"],[\"KPNA1\\u2022F53B2.5\"],[\"VAMP4\\u2022snb-7\"],[\"GBA\\u2022gba-3\"],[\"CRLS1\\u2022crls-1\"],[\"IP6K2\\u2022Y22D7AR.6\"],[\"SETD1A\\u2022set-2\"],[\"DDC\\u2022bas-1\"],[\"FGF20\\u2022let-756\"],[\"GALC\\u2022C29E4.10\"],[\"VAMP4\\u2022snb-5\"],[\"HIP1R\\u2022hipr-1\"],[\"KCNS3\\u2022kvs-4\"],[\"GBF1\\u2022gbf-1\"],[\"SCARB2\\u2022scav-2\"],[\"SATB1\\u2022dve-1\"],[\"CAB39L\\u2022mop-25.1\"],[\"SCARB2\\u2022scav-1\"],[\"IGSF9B\\u2022igcm-2\"],[\"DRD2/3/4\\u2022dop-3\"],[\"CTSB\\u2022cpr-6\"],[\"CHRNB1\\u2022acr-3\"],[\"RIMS1\\u2022unc-10\"],[\"KCNS3\\u2022kvs-1\"],[\"MED12L\\u2022dpy-22\"],[\"SCARB2\\u2022scav-5\"],[\"RAB29\\u2022glo-1\"],[\"KCNIP3\\u2022ncs-4\"],[\"CHRNB1\\u2022acr-8\"],[\"MAP4K4\\u2022mig-15\"],[\"LCORL\\u2022mbr-1\"],[\"CHRNB1\\u2022acr-12\"],[\"RNF141\\u2022F54B11.5\"],[\"DYRK1A\\u2022mbk-1\"],[\"IP6K2\\u2022T20F7.3\"],[\"MBNL2\\u2022mbl-1\"],[\"KCNIP3\\u2022ncs-7\"],[\"MEX3C\\u2022mex-3\"],[\"UBAP2\\u2022pqn-59\"],[\"FYN\\u2022src-1\"],[\"PAM\\u2022pghm-1\"],[\"CHRNB1\\u2022acr-6\"],[\"SH3GL2\\u2022unc-57\"],[\"CHD9\\u2022chd-7\"],[\"PAM\\u2022pgal-1\"],[\"ITPKB\\u2022lfe-2\"],[\"PAM\\u2022pamn-1\"],[\"KPNA1\\u2022ima-2\"],[\"SPPL2B\\u2022imp-1\"],[\"GRN\\u2022pgrn-1\"],[\"HIP1R\\u2022Y18D10A.22\"],[\"HIP1R\\u2022tag-138\"],[\"INPP5F\\u2022sac-2\"],[\"CTSB\\u2022W07B8.4\"],[\"CTSB\\u2022cpr-5\"],[\"CTSB\\u2022cpr-8\"],[\"PARK7\\u2022djr-1.2\"],[\"KCNS3\\u2022exp-2\"],[\"CTSB\\u2022cpr-4\"],[\"KCNS3\\u2022kvs-3\"],[\"KCNS3\\u2022kvs-2\"],[\"PMVK\\u2022F32D8.13\"],[\"SIPA1L2\\u2022sipa-1\"],[\"CTSB\\u2022cpr-1\"],[\"CTSB\\u2022cpr-9\"],[\"RPS6KL1\\u2022rskd-1\"],[\"CTSB\\u2022F32H5.1\"],[\"CTSB\\u2022cpr-3\"],[\"CTSB\\u2022cpr-2\"],[\"STK39\\u2022gck-3\"],[\"KCNIP3\\u2022ncs-5\"],[\"GBA\\u2022gba-1\"],[\"GBA\\u2022gba-2\"],[\"FAM49B/CYRIB\\u2022R07G3.8\"],[\"MED13\\u2022let-19\"],[\"CLCN3\\u2022clh-5\"],[\"CAB39L\\u2022mop-25.2\"],[\"GAK\\u2022gakh-1\"],[\"SVOP\\u2022svop-1\"],[\"gipc-2\\u2022GIPC1\"],[\"gipc-1\\u2022GIPC1\"],[\"hsp-1\\u2022HSPA8\"],[\"immt-1\\u2022IMMT\"],[\"immt-2\\u2022IMMT\"],[\"klp-12\\u2022KIF21B\"],[\"miro-1\\u2022RHOT2\"],[\"C16C10.1\\u2022SLC25A39\"],[\"unc-70\\u2022SPTBN1\"],[\"tomm-22\\u2022TOMM22\"],[\"C34D4.4\\u2022TVP23A\"],[\"klu-1\\u2022ZSCAN21\"],[\"mtk-1\\u2022NEK1\"],[\"sek-1\\u2022NEK1\"],[\"sek-4\\u2022NEK1\"],[\"sek-5\\u2022NEK1\"],[\"mig-32\\u2022PCGF3\"],[\"chd-1\\u2022ZRANB3\"],[\"csb-1\\u2022ZRANB3\"],[\"F53H4.6\\u2022ZRANB3\"],[\"smrc-1\\u2022ZRANB3\"],[\"ptl-1\\u2022MAPT\"],[\"lsy-2\\u2022ZSCAN9\"],[\"gly-10\\u2022WBSCR17\"],[\"gly-3\\u2022WBSCR17\"],[\"gly-5\\u2022WBSCR17\"],[\"gly-7\\u2022WBSCR17\"],[\"gly-8\\u2022WBSCR17\"],[\"dma-1\\u2022NRROS\"],[\"egg-6\\u2022NRROS\"],[\"pan-1\\u2022NRROS\"],[\"sym-1\\u2022NRROS\"],[\"rskn-1\\u2022RPS6KA2\"],[\"sec-3\\u2022STXBP6\"]],\"hovertemplate\":\"Class=GWAS<br>x=%{x}<br>y=%{y}<br>Gene=%{customdata[0]}<extra></extra>\",\"legendgroup\":\"GWAS\",\"marker\":{\"color\":\"#636efa\",\"symbol\":\"circle\"},\"mode\":\"markers\",\"name\":\"GWAS\",\"orientation\":\"v\",\"showlegend\":true,\"x\":[-1.0277000665664673,0.9661717414855957,-3.199554443359375,-1.3812264204025269,4.836365222930908,-3.4429304599761963,-3.148235321044922,-6.09677267074585,-1.3495234251022339,-2.447904109954834,1.3928834199905396,-7.3269572257995605,-1.7961013317108154,-5.056941986083984,-3.3235621452331543,0.09697343409061432,-1.254999041557312,2.6219639778137207,-2.855320453643799,3.019150495529175,0.1631489247083664,-3.6952342987060547,-4.347074508666992,3.4163401126861572,-2.571881055831909,-4.701282978057861,4.14457368850708,-5.460808753967285,4.668433666229248,-3.01249623298645,-6.088196277618408,-3.8507349491119385,-3.581063985824585,2.998826742172241,-5.1583027839660645,-1.9065277576446533,-3.343048095703125,-0.12308191508054733,-2.9562675952911377,0.9829778075218201,-4.706442356109619,-0.4507717490196228,0.19807450473308563,-0.24905049800872803,0.29626011848449707,-4.53835391998291,3.5925533771514893,4.769165515899658,0.5201498866081238,-1.8265990018844604,3.408263921737671,-2.9388110637664795,-1.2016265392303467,-6.044748306274414,-3.133173942565918,-3.2273130416870117,-2.6154022216796875,-3.2302186489105225,-2.544600009918213,-3.167630910873413,-2.1804723739624023,-2.4549076557159424,-2.515852212905884,-3.498795509338379,-5.582036972045898,-2.637420892715454,3.8193776607513428,-2.5522565841674805,-2.516582727432251,-2.085689067840576,-3.8792166709899902,-4.399779796600342,-3.1806418895721436,-2.2757792472839355,-4.5298075675964355,-3.9615931510925293,-2.8276853561401367,-1.0328807830810547,4.0874176025390625,-1.4010812044143677,-2.6490235328674316,-3.311648368835449,-2.9477593898773193,-6.7752180099487305,-6.777088165283203,-0.16307669878005981,-1.9834522008895874,3.399193048477173,-0.000525355339050293,1.8604896068572998,-2.7872753143310547,5.019609451293945,-1.149208664894104,-3.5703465938568115,-3.7408595085144043,3.0229461193084717,-2.928530216217041,-3.3190231323242188,-2.67924427986145,-1.6926277875900269,1.665547490119934,-2.3950870037078857,-2.6704282760620117,0.4070412516593933,1.6087491512298584,-1.1309020519256592,0.7813689708709717,1.9288372993469238,-0.06817202270030975,0.09502938389778137,4.643519401550293,0.8187260031700134,-2.558269500732422,-0.8536195158958435,-0.10469948500394821,-1.6459017992019653,-1.7716164588928223],\"xaxis\":\"x\",\"y\":[-1.5751320123672485,-0.7580702900886536,0.41809526085853577,2.326291799545288,3.5261270999908447,0.9795438647270203,1.1797752380371094,-0.043770451098680496,4.769760608673096,1.2836241722106934,3.7976863384246826,2.139878749847412,0.38273128867149353,1.1809213161468506,1.1959922313690186,2.882673978805542,0.8350801467895508,4.954982280731201,-0.763540506362915,5.419869422912598,1.5393164157867432,0.504129946231842,2.005901336669922,0.36720895767211914,-4.1951518058776855,-1.3311107158660889,2.724193811416626,3.7779502868652344,4.655851364135742,0.3880203664302826,-0.05096283182501793,1.2866113185882568,1.3711588382720947,4.223186492919922,2.3625237941741943,7.360182762145996,3.820737361907959,3.553269863128662,0.8623786568641663,1.371955156326294,0.25962984561920166,3.594747304916382,6.319697380065918,5.399790287017822,8.486876487731934,-1.0614924430847168,2.6979072093963623,4.711517810821533,8.622387886047363,-0.4711248278617859,0.3576867878437042,2.4078304767608643,3.385146379470825,-0.062389787286520004,1.0582456588745117,1.0875719785690308,4.6693644523620605,1.079220175743103,-4.251861572265625,0.5632286667823792,-1.128466010093689,7.4509663581848145,-4.31751012802124,-1.6763659715652466,4.0129313468933105,1.547684907913208,2.736097812652588,-4.241304874420166,-4.314060688018799,5.876132965087891,-0.2544480860233307,4.748104095458984,0.7754301428794861,4.344897270202637,2.8410589694976807,0.8089389204978943,0.8475063443183899,2.680187225341797,4.843455791473389,3.816188335418701,4.15277624130249,2.0955402851104736,6.028011798858643,-2.2960853576660156,-2.2967402935028076,8.170687675476074,4.358128547668457,5.133455276489258,1.528320074081421,3.896462917327881,1.7583884000778198,4.174680233001709,5.785070419311523,4.7495574951171875,2.760834217071533,4.254210472106934,5.575657844543457,1.3044289350509644,1.0961544513702393,3.3517799377441406,3.3045215606689453,1.6058706045150757,1.0184937715530396,-0.6266074180603027,6.149997711181641,4.914921760559082,4.3769636154174805,4.965742111206055,2.58443284034729,4.826931953430176,5.009702682495117,0.7566916942596436,-0.3380487561225891,7.793204307556152,5.511924743652344,7.856169700622559,1.6713634729385376],\"yaxis\":\"y\",\"type\":\"scatter\"},{\"customdata\":[[\"PRKN\\u2022pdr-1\"]],\"hovertemplate\":\"Class=PARK3/PRKN<br>x=%{x}<br>y=%{y}<br>Gene=%{customdata[0]}<extra></extra>\",\"legendgroup\":\"PARK3/PRKN\",\"marker\":{\"color\":\"#EF553B\",\"symbol\":\"circle\"},\"mode\":\"markers\",\"name\":\"PARK3/PRKN\",\"orientation\":\"v\",\"showlegend\":true,\"x\":[-1.4296300411224365],\"xaxis\":\"x\",\"y\":[3.2330098152160645],\"yaxis\":\"y\",\"type\":\"scatter\"},{\"customdata\":[[\"VPS13C\\u2022T08G11.1\"]],\"hovertemplate\":\"Class=PARK23/VPS13C<br>x=%{x}<br>y=%{y}<br>Gene=%{customdata[0]}<extra></extra>\",\"legendgroup\":\"PARK23/VPS13C\",\"marker\":{\"color\":\"#00cc96\",\"symbol\":\"circle\"},\"mode\":\"markers\",\"name\":\"PARK23/VPS13C\",\"orientation\":\"v\",\"showlegend\":true,\"x\":[4.1619110107421875],\"xaxis\":\"x\",\"y\":[5.303605079650879],\"yaxis\":\"y\",\"type\":\"scatter\"},{\"customdata\":[[\"GCH1\\u2022cat-4\"],[\"TH\\u2022cat-2\"]],\"hovertemplate\":\"Class=Dopamine<br>x=%{x}<br>y=%{y}<br>Gene=%{customdata[0]}<extra></extra>\",\"legendgroup\":\"Dopamine\",\"marker\":{\"color\":\"#ab63fa\",\"symbol\":\"circle\"},\"mode\":\"markers\",\"name\":\"Dopamine\",\"orientation\":\"v\",\"showlegend\":true,\"x\":[-7.335366249084473,-7.312532424926758],\"xaxis\":\"x\",\"y\":[2.133887529373169,2.1170361042022705],\"yaxis\":\"y\",\"type\":\"scatter\"},{\"customdata\":[[\"PARK7\\u2022djr-1.1\"]],\"hovertemplate\":\"Class=PARK7/DJ1<br>x=%{x}<br>y=%{y}<br>Gene=%{customdata[0]}<extra></extra>\",\"legendgroup\":\"PARK7/DJ1\",\"marker\":{\"color\":\"#FFA15A\",\"symbol\":\"circle\"},\"mode\":\"markers\",\"name\":\"PARK7/DJ1\",\"orientation\":\"v\",\"showlegend\":true,\"x\":[-1.4033273458480835],\"xaxis\":\"x\",\"y\":[4.272348403930664],\"yaxis\":\"y\",\"type\":\"scatter\"},{\"customdata\":[[\"PINK1\\u2022pink-1\"]],\"hovertemplate\":\"Class=PARK6/PINK1<br>x=%{x}<br>y=%{y}<br>Gene=%{customdata[0]}<extra></extra>\",\"legendgroup\":\"PARK6/PINK1\",\"marker\":{\"color\":\"#19d3f3\",\"symbol\":\"circle\"},\"mode\":\"markers\",\"name\":\"PARK6/PINK1\",\"orientation\":\"v\",\"showlegend\":true,\"x\":[-2.000518321990967],\"xaxis\":\"x\",\"y\":[2.908043622970581],\"yaxis\":\"y\",\"type\":\"scatter\"},{\"customdata\":[[\"VPS35\\u2022vps-35\"]],\"hovertemplate\":\"Class=PARK17/VPS35<br>x=%{x}<br>y=%{y}<br>Gene=%{customdata[0]}<extra></extra>\",\"legendgroup\":\"PARK17/VPS35\",\"marker\":{\"color\":\"#FF6692\",\"symbol\":\"circle\"},\"mode\":\"markers\",\"name\":\"PARK17/VPS35\",\"orientation\":\"v\",\"showlegend\":true,\"x\":[-1.3451138734817505],\"xaxis\":\"x\",\"y\":[1.8179563283920288],\"yaxis\":\"y\",\"type\":\"scatter\"},{\"customdata\":[[\"ATP13A2\\u2022catp-7\"]],\"hovertemplate\":\"Class=PARK9/ATP13A2<br>x=%{x}<br>y=%{y}<br>Gene=%{customdata[0]}<extra></extra>\",\"legendgroup\":\"PARK9/ATP13A2\",\"marker\":{\"color\":\"#B6E880\",\"symbol\":\"circle\"},\"mode\":\"markers\",\"name\":\"PARK9/ATP13A2\",\"orientation\":\"v\",\"showlegend\":true,\"x\":[2.048919439315796],\"xaxis\":\"x\",\"y\":[3.955697774887085],\"yaxis\":\"y\",\"type\":\"scatter\"},{\"customdata\":[[\"SYNJ1\\u2022unc-26\"]],\"hovertemplate\":\"Class=PARK20/SYNJ1<br>x=%{x}<br>y=%{y}<br>Gene=%{customdata[0]}<extra></extra>\",\"legendgroup\":\"PARK20/SYNJ1\",\"marker\":{\"color\":\"#FF97FF\",\"symbol\":\"circle\"},\"mode\":\"markers\",\"name\":\"PARK20/SYNJ1\",\"orientation\":\"v\",\"showlegend\":true,\"x\":[2.6579267978668213],\"xaxis\":\"x\",\"y\":[2.883479118347168],\"yaxis\":\"y\",\"type\":\"scatter\"},{\"customdata\":[[\"CHCHD2\\u2022har-1\"]],\"hovertemplate\":\"Class=PARK22/CHCHD2<br>x=%{x}<br>y=%{y}<br>Gene=%{customdata[0]}<extra></extra>\",\"legendgroup\":\"PARK22/CHCHD2\",\"marker\":{\"color\":\"#FECB52\",\"symbol\":\"circle\"},\"mode\":\"markers\",\"name\":\"PARK22/CHCHD2\",\"orientation\":\"v\",\"showlegend\":true,\"x\":[-1.0303512811660767],\"xaxis\":\"x\",\"y\":[6.249846458435059],\"yaxis\":\"y\",\"type\":\"scatter\"},{\"customdata\":[[\"LRRK2\\u2022lrk-1\"]],\"hovertemplate\":\"Class=PARK8/LRRK2<br>x=%{x}<br>y=%{y}<br>Gene=%{customdata[0]}<extra></extra>\",\"legendgroup\":\"PARK8/LRRK2\",\"marker\":{\"color\":\"#636efa\",\"symbol\":\"circle\"},\"mode\":\"markers\",\"name\":\"PARK8/LRRK2\",\"orientation\":\"v\",\"showlegend\":true,\"x\":[2.6902966499328613],\"xaxis\":\"x\",\"y\":[4.215017795562744],\"yaxis\":\"y\",\"type\":\"scatter\"},{\"customdata\":[[\"UCHL1\\u2022ubh-3\"],[\"UCHL1\\u2022ubh-2\"],[\"UCHL1\\u2022ubh-1\"]],\"hovertemplate\":\"Class=PARK5/UCHL1<br>x=%{x}<br>y=%{y}<br>Gene=%{customdata[0]}<extra></extra>\",\"legendgroup\":\"PARK5/UCHL1\",\"marker\":{\"color\":\"#EF553B\",\"symbol\":\"circle\"},\"mode\":\"markers\",\"name\":\"PARK5/UCHL1\",\"orientation\":\"v\",\"showlegend\":true,\"x\":[-1.7767202854156494,-3.004359722137451,1.5266214609146118],\"xaxis\":\"x\",\"y\":[4.16726541519165,4.702762603759766,1.5386232137680054],\"yaxis\":\"y\",\"type\":\"scatter\"},{\"customdata\":[[\"PLA2G6\\u2022ipla-3\"]],\"hovertemplate\":\"Class=PARK14/PLA2G6<br>x=%{x}<br>y=%{y}<br>Gene=%{customdata[0]}<extra></extra>\",\"legendgroup\":\"PARK14/PLA2G6\",\"marker\":{\"color\":\"#00cc96\",\"symbol\":\"circle\"},\"mode\":\"markers\",\"name\":\"PARK14/PLA2G6\",\"orientation\":\"v\",\"showlegend\":true,\"x\":[1.1344189643859863],\"xaxis\":\"x\",\"y\":[3.301715850830078],\"yaxis\":\"y\",\"type\":\"scatter\"},{\"customdata\":[[\"GIGYF2\\u2022gyf-1\"]],\"hovertemplate\":\"Class=PARK11/GIGYF2<br>x=%{x}<br>y=%{y}<br>Gene=%{customdata[0]}<extra></extra>\",\"legendgroup\":\"PARK11/GIGYF2\",\"marker\":{\"color\":\"#ab63fa\",\"symbol\":\"circle\"},\"mode\":\"markers\",\"name\":\"PARK11/GIGYF2\",\"orientation\":\"v\",\"showlegend\":true,\"x\":[1.1573667526245117],\"xaxis\":\"x\",\"y\":[3.753390312194824],\"yaxis\":\"y\",\"type\":\"scatter\"},{\"customdata\":[[\"DNAJC13\\u2022rme-8\"]],\"hovertemplate\":\"Class=PARK21/DNAJC13<br>x=%{x}<br>y=%{y}<br>Gene=%{customdata[0]}<extra></extra>\",\"legendgroup\":\"PARK21/DNAJC13\",\"marker\":{\"color\":\"#FFA15A\",\"symbol\":\"circle\"},\"mode\":\"markers\",\"name\":\"PARK21/DNAJC13\",\"orientation\":\"v\",\"showlegend\":true,\"x\":[3.609685182571411],\"xaxis\":\"x\",\"y\":[0.7003250122070312],\"yaxis\":\"y\",\"type\":\"scatter\"},{\"customdata\":[[\"EIF4G1\\u2022ifg-1\"]],\"hovertemplate\":\"Class=PARK18/EIF4G1<br>x=%{x}<br>y=%{y}<br>Gene=%{customdata[0]}<extra></extra>\",\"legendgroup\":\"PARK18/EIF4G1\",\"marker\":{\"color\":\"#19d3f3\",\"symbol\":\"circle\"},\"mode\":\"markers\",\"name\":\"PARK18/EIF4G1\",\"orientation\":\"v\",\"showlegend\":true,\"x\":[-1.2034313678741455],\"xaxis\":\"x\",\"y\":[5.399257183074951],\"yaxis\":\"y\",\"type\":\"scatter\"},{\"customdata\":[[\"DNAJC6\\u2022dnj-25\"]],\"hovertemplate\":\"Class=PARK19/DNAJC6<br>x=%{x}<br>y=%{y}<br>Gene=%{customdata[0]}<extra></extra>\",\"legendgroup\":\"PARK19/DNAJC6\",\"marker\":{\"color\":\"#FF6692\",\"symbol\":\"circle\"},\"mode\":\"markers\",\"name\":\"PARK19/DNAJC6\",\"orientation\":\"v\",\"showlegend\":true,\"x\":[0.3198280930519104],\"xaxis\":\"x\",\"y\":[2.6933891773223877],\"yaxis\":\"y\",\"type\":\"scatter\"},{\"customdata\":[[\"PSAP\\u2022spp-10\"],[\"PSAP\\u2022spp-8\"]],\"hovertemplate\":\"Class=PARK24/PSAP<br>x=%{x}<br>y=%{y}<br>Gene=%{customdata[0]}<extra></extra>\",\"legendgroup\":\"PARK24/PSAP\",\"marker\":{\"color\":\"#B6E880\",\"symbol\":\"circle\"},\"mode\":\"markers\",\"name\":\"PARK24/PSAP\",\"orientation\":\"v\",\"showlegend\":true,\"x\":[-4.173201560974121,-1.073792576789856],\"xaxis\":\"x\",\"y\":[6.153128147125244,0.0230424627661705],\"yaxis\":\"y\",\"type\":\"scatter\"}],                        {\"template\":{\"data\":{\"histogram2dcontour\":[{\"type\":\"histogram2dcontour\",\"colorbar\":{\"outlinewidth\":0,\"ticks\":\"\"},\"colorscale\":[[0.0,\"#0d0887\"],[0.1111111111111111,\"#46039f\"],[0.2222222222222222,\"#7201a8\"],[0.3333333333333333,\"#9c179e\"],[0.4444444444444444,\"#bd3786\"],[0.5555555555555556,\"#d8576b\"],[0.6666666666666666,\"#ed7953\"],[0.7777777777777778,\"#fb9f3a\"],[0.8888888888888888,\"#fdca26\"],[1.0,\"#f0f921\"]]}],\"choropleth\":[{\"type\":\"choropleth\",\"colorbar\":{\"outlinewidth\":0,\"ticks\":\"\"}}],\"histogram2d\":[{\"type\":\"histogram2d\",\"colorbar\":{\"outlinewidth\":0,\"ticks\":\"\"},\"colorscale\":[[0.0,\"#0d0887\"],[0.1111111111111111,\"#46039f\"],[0.2222222222222222,\"#7201a8\"],[0.3333333333333333,\"#9c179e\"],[0.4444444444444444,\"#bd3786\"],[0.5555555555555556,\"#d8576b\"],[0.6666666666666666,\"#ed7953\"],[0.7777777777777778,\"#fb9f3a\"],[0.8888888888888888,\"#fdca26\"],[1.0,\"#f0f921\"]]}],\"heatmap\":[{\"type\":\"heatmap\",\"colorbar\":{\"outlinewidth\":0,\"ticks\":\"\"},\"colorscale\":[[0.0,\"#0d0887\"],[0.1111111111111111,\"#46039f\"],[0.2222222222222222,\"#7201a8\"],[0.3333333333333333,\"#9c179e\"],[0.4444444444444444,\"#bd3786\"],[0.5555555555555556,\"#d8576b\"],[0.6666666666666666,\"#ed7953\"],[0.7777777777777778,\"#fb9f3a\"],[0.8888888888888888,\"#fdca26\"],[1.0,\"#f0f921\"]]}],\"heatmapgl\":[{\"type\":\"heatmapgl\",\"colorbar\":{\"outlinewidth\":0,\"ticks\":\"\"},\"colorscale\":[[0.0,\"#0d0887\"],[0.1111111111111111,\"#46039f\"],[0.2222222222222222,\"#7201a8\"],[0.3333333333333333,\"#9c179e\"],[0.4444444444444444,\"#bd3786\"],[0.5555555555555556,\"#d8576b\"],[0.6666666666666666,\"#ed7953\"],[0.7777777777777778,\"#fb9f3a\"],[0.8888888888888888,\"#fdca26\"],[1.0,\"#f0f921\"]]}],\"contourcarpet\":[{\"type\":\"contourcarpet\",\"colorbar\":{\"outlinewidth\":0,\"ticks\":\"\"}}],\"contour\":[{\"type\":\"contour\",\"colorbar\":{\"outlinewidth\":0,\"ticks\":\"\"},\"colorscale\":[[0.0,\"#0d0887\"],[0.1111111111111111,\"#46039f\"],[0.2222222222222222,\"#7201a8\"],[0.3333333333333333,\"#9c179e\"],[0.4444444444444444,\"#bd3786\"],[0.5555555555555556,\"#d8576b\"],[0.6666666666666666,\"#ed7953\"],[0.7777777777777778,\"#fb9f3a\"],[0.8888888888888888,\"#fdca26\"],[1.0,\"#f0f921\"]]}],\"surface\":[{\"type\":\"surface\",\"colorbar\":{\"outlinewidth\":0,\"ticks\":\"\"},\"colorscale\":[[0.0,\"#0d0887\"],[0.1111111111111111,\"#46039f\"],[0.2222222222222222,\"#7201a8\"],[0.3333333333333333,\"#9c179e\"],[0.4444444444444444,\"#bd3786\"],[0.5555555555555556,\"#d8576b\"],[0.6666666666666666,\"#ed7953\"],[0.7777777777777778,\"#fb9f3a\"],[0.8888888888888888,\"#fdca26\"],[1.0,\"#f0f921\"]]}],\"mesh3d\":[{\"type\":\"mesh3d\",\"colorbar\":{\"outlinewidth\":0,\"ticks\":\"\"}}],\"scatter\":[{\"fillpattern\":{\"fillmode\":\"overlay\",\"size\":10,\"solidity\":0.2},\"type\":\"scatter\"}],\"parcoords\":[{\"type\":\"parcoords\",\"line\":{\"colorbar\":{\"outlinewidth\":0,\"ticks\":\"\"}}}],\"scatterpolargl\":[{\"type\":\"scatterpolargl\",\"marker\":{\"colorbar\":{\"outlinewidth\":0,\"ticks\":\"\"}}}],\"bar\":[{\"error_x\":{\"color\":\"#2a3f5f\"},\"error_y\":{\"color\":\"#2a3f5f\"},\"marker\":{\"line\":{\"color\":\"#E5ECF6\",\"width\":0.5},\"pattern\":{\"fillmode\":\"overlay\",\"size\":10,\"solidity\":0.2}},\"type\":\"bar\"}],\"scattergeo\":[{\"type\":\"scattergeo\",\"marker\":{\"colorbar\":{\"outlinewidth\":0,\"ticks\":\"\"}}}],\"scatterpolar\":[{\"type\":\"scatterpolar\",\"marker\":{\"colorbar\":{\"outlinewidth\":0,\"ticks\":\"\"}}}],\"histogram\":[{\"marker\":{\"pattern\":{\"fillmode\":\"overlay\",\"size\":10,\"solidity\":0.2}},\"type\":\"histogram\"}],\"scattergl\":[{\"type\":\"scattergl\",\"marker\":{\"colorbar\":{\"outlinewidth\":0,\"ticks\":\"\"}}}],\"scatter3d\":[{\"type\":\"scatter3d\",\"line\":{\"colorbar\":{\"outlinewidth\":0,\"ticks\":\"\"}},\"marker\":{\"colorbar\":{\"outlinewidth\":0,\"ticks\":\"\"}}}],\"scattermapbox\":[{\"type\":\"scattermapbox\",\"marker\":{\"colorbar\":{\"outlinewidth\":0,\"ticks\":\"\"}}}],\"scatterternary\":[{\"type\":\"scatterternary\",\"marker\":{\"colorbar\":{\"outlinewidth\":0,\"ticks\":\"\"}}}],\"scattercarpet\":[{\"type\":\"scattercarpet\",\"marker\":{\"colorbar\":{\"outlinewidth\":0,\"ticks\":\"\"}}}],\"carpet\":[{\"aaxis\":{\"endlinecolor\":\"#2a3f5f\",\"gridcolor\":\"white\",\"linecolor\":\"white\",\"minorgridcolor\":\"white\",\"startlinecolor\":\"#2a3f5f\"},\"baxis\":{\"endlinecolor\":\"#2a3f5f\",\"gridcolor\":\"white\",\"linecolor\":\"white\",\"minorgridcolor\":\"white\",\"startlinecolor\":\"#2a3f5f\"},\"type\":\"carpet\"}],\"table\":[{\"cells\":{\"fill\":{\"color\":\"#EBF0F8\"},\"line\":{\"color\":\"white\"}},\"header\":{\"fill\":{\"color\":\"#C8D4E3\"},\"line\":{\"color\":\"white\"}},\"type\":\"table\"}],\"barpolar\":[{\"marker\":{\"line\":{\"color\":\"#E5ECF6\",\"width\":0.5},\"pattern\":{\"fillmode\":\"overlay\",\"size\":10,\"solidity\":0.2}},\"type\":\"barpolar\"}],\"pie\":[{\"automargin\":true,\"type\":\"pie\"}]},\"layout\":{\"autotypenumbers\":\"strict\",\"colorway\":[\"#636efa\",\"#EF553B\",\"#00cc96\",\"#ab63fa\",\"#FFA15A\",\"#19d3f3\",\"#FF6692\",\"#B6E880\",\"#FF97FF\",\"#FECB52\"],\"font\":{\"color\":\"#2a3f5f\"},\"hovermode\":\"closest\",\"hoverlabel\":{\"align\":\"left\"},\"paper_bgcolor\":\"white\",\"plot_bgcolor\":\"#E5ECF6\",\"polar\":{\"bgcolor\":\"#E5ECF6\",\"angularaxis\":{\"gridcolor\":\"white\",\"linecolor\":\"white\",\"ticks\":\"\"},\"radialaxis\":{\"gridcolor\":\"white\",\"linecolor\":\"white\",\"ticks\":\"\"}},\"ternary\":{\"bgcolor\":\"#E5ECF6\",\"aaxis\":{\"gridcolor\":\"white\",\"linecolor\":\"white\",\"ticks\":\"\"},\"baxis\":{\"gridcolor\":\"white\",\"linecolor\":\"white\",\"ticks\":\"\"},\"caxis\":{\"gridcolor\":\"white\",\"linecolor\":\"white\",\"ticks\":\"\"}},\"coloraxis\":{\"colorbar\":{\"outlinewidth\":0,\"ticks\":\"\"}},\"colorscale\":{\"sequential\":[[0.0,\"#0d0887\"],[0.1111111111111111,\"#46039f\"],[0.2222222222222222,\"#7201a8\"],[0.3333333333333333,\"#9c179e\"],[0.4444444444444444,\"#bd3786\"],[0.5555555555555556,\"#d8576b\"],[0.6666666666666666,\"#ed7953\"],[0.7777777777777778,\"#fb9f3a\"],[0.8888888888888888,\"#fdca26\"],[1.0,\"#f0f921\"]],\"sequentialminus\":[[0.0,\"#0d0887\"],[0.1111111111111111,\"#46039f\"],[0.2222222222222222,\"#7201a8\"],[0.3333333333333333,\"#9c179e\"],[0.4444444444444444,\"#bd3786\"],[0.5555555555555556,\"#d8576b\"],[0.6666666666666666,\"#ed7953\"],[0.7777777777777778,\"#fb9f3a\"],[0.8888888888888888,\"#fdca26\"],[1.0,\"#f0f921\"]],\"diverging\":[[0,\"#8e0152\"],[0.1,\"#c51b7d\"],[0.2,\"#de77ae\"],[0.3,\"#f1b6da\"],[0.4,\"#fde0ef\"],[0.5,\"#f7f7f7\"],[0.6,\"#e6f5d0\"],[0.7,\"#b8e186\"],[0.8,\"#7fbc41\"],[0.9,\"#4d9221\"],[1,\"#276419\"]]},\"xaxis\":{\"gridcolor\":\"white\",\"linecolor\":\"white\",\"ticks\":\"\",\"title\":{\"standoff\":15},\"zerolinecolor\":\"white\",\"automargin\":true,\"zerolinewidth\":2},\"yaxis\":{\"gridcolor\":\"white\",\"linecolor\":\"white\",\"ticks\":\"\",\"title\":{\"standoff\":15},\"zerolinecolor\":\"white\",\"automargin\":true,\"zerolinewidth\":2},\"scene\":{\"xaxis\":{\"backgroundcolor\":\"#E5ECF6\",\"gridcolor\":\"white\",\"linecolor\":\"white\",\"showbackground\":true,\"ticks\":\"\",\"zerolinecolor\":\"white\",\"gridwidth\":2},\"yaxis\":{\"backgroundcolor\":\"#E5ECF6\",\"gridcolor\":\"white\",\"linecolor\":\"white\",\"showbackground\":true,\"ticks\":\"\",\"zerolinecolor\":\"white\",\"gridwidth\":2},\"zaxis\":{\"backgroundcolor\":\"#E5ECF6\",\"gridcolor\":\"white\",\"linecolor\":\"white\",\"showbackground\":true,\"ticks\":\"\",\"zerolinecolor\":\"white\",\"gridwidth\":2}},\"shapedefaults\":{\"line\":{\"color\":\"#2a3f5f\"}},\"annotationdefaults\":{\"arrowcolor\":\"#2a3f5f\",\"arrowhead\":0,\"arrowwidth\":1},\"geo\":{\"bgcolor\":\"white\",\"landcolor\":\"#E5ECF6\",\"subunitcolor\":\"white\",\"showland\":true,\"showlakes\":true,\"lakecolor\":\"white\"},\"title\":{\"x\":0.05},\"mapbox\":{\"style\":\"light\"}}},\"xaxis\":{\"anchor\":\"y\",\"domain\":[0.0,1.0],\"title\":{\"text\":\"x\"}},\"yaxis\":{\"anchor\":\"x\",\"domain\":[0.0,1.0],\"title\":{\"text\":\"y\"}},\"legend\":{\"title\":{\"text\":\"Class\"},\"tracegroupgap\":0},\"margin\":{\"t\":60}},                        {\"responsive\": true}                    ).then(function(){\n",
       "                            \n",
       "var gd = document.getElementById('d4710a78-9a96-4c73-92e1-7d58e5cb064f');\n",
       "var x = new MutationObserver(function (mutations, observer) {{\n",
       "        var display = window.getComputedStyle(gd).display;\n",
       "        if (!display || display === 'none') {{\n",
       "            console.log([gd, 'removed!']);\n",
       "            Plotly.purge(gd);\n",
       "            observer.disconnect();\n",
       "        }}\n",
       "}});\n",
       "\n",
       "// Listen for the removal of the full notebook cells\n",
       "var notebookContainer = gd.closest('#notebook-container');\n",
       "if (notebookContainer) {{\n",
       "    x.observe(notebookContainer, {childList: true});\n",
       "}}\n",
       "\n",
       "// Listen for the clearing of the current output cell\n",
       "var outputEl = gd.closest('.output');\n",
       "if (outputEl) {{\n",
       "    x.observe(outputEl, {childList: true});\n",
       "}}\n",
       "\n",
       "                        })                };                });            </script>        </div>"
      ]
     },
     "metadata": {},
     "output_type": "display_data"
    }
   ],
   "source": [
    "fig=px.scatter(merged_df,x='x',y='y',hover_data=['Gene'], color='Class')\n",
    "fig.show()"
   ]
  },
  {
   "cell_type": "markdown",
   "metadata": {},
   "source": [
    "# UMAP"
   ]
  },
  {
   "cell_type": "code",
   "execution_count": null,
   "metadata": {},
   "outputs": [],
   "source": [
    "# sns.pairplot(merged_numeric)\n",
    "# plt.show()"
   ]
  },
  {
   "cell_type": "code",
   "execution_count": 8,
   "metadata": {},
   "outputs": [
    {
     "name": "stderr",
     "output_type": "stream",
     "text": [
      "/Library/Frameworks/Python.framework/Versions/3.11/lib/python3.11/site-packages/umap/distances.py:1063: NumbaDeprecationWarning: The 'nopython' keyword argument was not supplied to the 'numba.jit' decorator. The implicit default value for this argument is currently False, but it will be changed to True in Numba 0.59.0. See https://numba.readthedocs.io/en/stable/reference/deprecation.html#deprecation-of-object-mode-fall-back-behaviour-when-using-jit for details.\n",
      "  @numba.jit()\n",
      "/Library/Frameworks/Python.framework/Versions/3.11/lib/python3.11/site-packages/umap/distances.py:1071: NumbaDeprecationWarning: The 'nopython' keyword argument was not supplied to the 'numba.jit' decorator. The implicit default value for this argument is currently False, but it will be changed to True in Numba 0.59.0. See https://numba.readthedocs.io/en/stable/reference/deprecation.html#deprecation-of-object-mode-fall-back-behaviour-when-using-jit for details.\n",
      "  @numba.jit()\n",
      "/Library/Frameworks/Python.framework/Versions/3.11/lib/python3.11/site-packages/umap/distances.py:1086: NumbaDeprecationWarning: The 'nopython' keyword argument was not supplied to the 'numba.jit' decorator. The implicit default value for this argument is currently False, but it will be changed to True in Numba 0.59.0. See https://numba.readthedocs.io/en/stable/reference/deprecation.html#deprecation-of-object-mode-fall-back-behaviour-when-using-jit for details.\n",
      "  @numba.jit()\n",
      "/Library/Frameworks/Python.framework/Versions/3.11/lib/python3.11/site-packages/umap/umap_.py:660: NumbaDeprecationWarning: The 'nopython' keyword argument was not supplied to the 'numba.jit' decorator. The implicit default value for this argument is currently False, but it will be changed to True in Numba 0.59.0. See https://numba.readthedocs.io/en/stable/reference/deprecation.html#deprecation-of-object-mode-fall-back-behaviour-when-using-jit for details.\n",
      "  @numba.jit()\n"
     ]
    }
   ],
   "source": [
    "import umap"
   ]
  },
  {
   "cell_type": "code",
   "execution_count": 11,
   "metadata": {},
   "outputs": [],
   "source": [
    "reducer = umap.UMAP()\n",
    "from sklearn.preprocessing import StandardScaler"
   ]
  },
  {
   "cell_type": "code",
   "execution_count": 45,
   "metadata": {},
   "outputs": [],
   "source": [
    "scaled_data=StandardScaler().fit_transform(merged_numeric)"
   ]
  },
  {
   "cell_type": "code",
   "execution_count": 46,
   "metadata": {},
   "outputs": [
    {
     "data": {
      "text/plain": [
       "(138, 2)"
      ]
     },
     "execution_count": 46,
     "metadata": {},
     "output_type": "execute_result"
    }
   ],
   "source": [
    "embedding = reducer.fit_transform(scaled_data)\n",
    "embedding.shape"
   ]
  },
  {
   "cell_type": "code",
   "execution_count": 47,
   "metadata": {},
   "outputs": [],
   "source": [
    "merged_df['umap_x']=embedding[:,0]\n",
    "merged_df['umap_y']=embedding[:,1]"
   ]
  },
  {
   "cell_type": "code",
   "execution_count": 48,
   "metadata": {
    "scrolled": true
   },
   "outputs": [
    {
     "data": {
      "application/vnd.plotly.v1+json": {
       "config": {
        "plotlyServerURL": "https://plotly.com"
       },
       "data": [
        {
         "customdata": [
          [
           "KCNS3•kvs-5"
          ],
          [
           "LAMB2•lam-1"
          ],
          [
           "GBA•gba-4"
          ],
          [
           "MCCC1•mccc-1"
          ],
          [
           "CAMK2D•unc-43"
          ],
          [
           "KPNA1•F53B2.5"
          ],
          [
           "VAMP4•snb-7"
          ],
          [
           "GBA•gba-3"
          ],
          [
           "CRLS1•crls-1"
          ],
          [
           "IP6K2•Y22D7AR.6"
          ],
          [
           "SETD1A•set-2"
          ],
          [
           "DDC•bas-1"
          ],
          [
           "FGF20•let-756"
          ],
          [
           "GALC•C29E4.10"
          ],
          [
           "VAMP4•snb-5"
          ],
          [
           "HIP1R•hipr-1"
          ],
          [
           "KCNS3•kvs-4"
          ],
          [
           "GBF1•gbf-1"
          ],
          [
           "SCARB2•scav-2"
          ],
          [
           "SATB1•dve-1"
          ],
          [
           "CAB39L•mop-25.1"
          ],
          [
           "SCARB2•scav-1"
          ],
          [
           "IGSF9B•igcm-2"
          ],
          [
           "DRD2/3/4•dop-3"
          ],
          [
           "CTSB•cpr-6"
          ],
          [
           "CHRNB1•acr-3"
          ],
          [
           "RIMS1•unc-10"
          ],
          [
           "KCNS3•kvs-1"
          ],
          [
           "MED12L•dpy-22"
          ],
          [
           "SCARB2•scav-5"
          ],
          [
           "RAB29•glo-1"
          ],
          [
           "KCNIP3•ncs-4"
          ],
          [
           "CHRNB1•acr-8"
          ],
          [
           "MAP4K4•mig-15"
          ],
          [
           "LCORL•mbr-1"
          ],
          [
           "CHRNB1•acr-12"
          ],
          [
           "RNF141•F54B11.5"
          ],
          [
           "DYRK1A•mbk-1"
          ],
          [
           "IP6K2•T20F7.3"
          ],
          [
           "MBNL2•mbl-1"
          ],
          [
           "KCNIP3•ncs-7"
          ],
          [
           "MEX3C•mex-3"
          ],
          [
           "UBAP2•pqn-59"
          ],
          [
           "FYN•src-1"
          ],
          [
           "PAM•pghm-1"
          ],
          [
           "CHRNB1•acr-6"
          ],
          [
           "SH3GL2•unc-57"
          ],
          [
           "CHD9•chd-7"
          ],
          [
           "PAM•pgal-1"
          ],
          [
           "ITPKB•lfe-2"
          ],
          [
           "PAM•pamn-1"
          ],
          [
           "KPNA1•ima-2"
          ],
          [
           "SPPL2B•imp-1"
          ],
          [
           "GRN•pgrn-1"
          ],
          [
           "HIP1R•Y18D10A.22"
          ],
          [
           "HIP1R•tag-138"
          ],
          [
           "INPP5F•sac-2"
          ],
          [
           "CTSB•W07B8.4"
          ],
          [
           "CTSB•cpr-5"
          ],
          [
           "CTSB•cpr-8"
          ],
          [
           "PARK7•djr-1.2"
          ],
          [
           "KCNS3•exp-2"
          ],
          [
           "CTSB•cpr-4"
          ],
          [
           "KCNS3•kvs-3"
          ],
          [
           "KCNS3•kvs-2"
          ],
          [
           "PMVK•F32D8.13"
          ],
          [
           "SIPA1L2•sipa-1"
          ],
          [
           "CTSB•cpr-1"
          ],
          [
           "CTSB•cpr-9"
          ],
          [
           "RPS6KL1•rskd-1"
          ],
          [
           "CTSB•F32H5.1"
          ],
          [
           "CTSB•cpr-3"
          ],
          [
           "CTSB•cpr-2"
          ],
          [
           "STK39•gck-3"
          ],
          [
           "KCNIP3•ncs-5"
          ],
          [
           "GBA•gba-1"
          ],
          [
           "GBA•gba-2"
          ],
          [
           "FAM49B/CYRIB•R07G3.8"
          ],
          [
           "MED13•let-19"
          ],
          [
           "CLCN3•clh-5"
          ],
          [
           "CAB39L•mop-25.2"
          ],
          [
           "GAK•gakh-1"
          ],
          [
           "SVOP•svop-1"
          ],
          [
           "gipc-2•GIPC1"
          ],
          [
           "gipc-1•GIPC1"
          ],
          [
           "hsp-1•HSPA8"
          ],
          [
           "immt-1•IMMT"
          ],
          [
           "immt-2•IMMT"
          ],
          [
           "klp-12•KIF21B"
          ],
          [
           "miro-1•RHOT2"
          ],
          [
           "C16C10.1•SLC25A39"
          ],
          [
           "unc-70•SPTBN1"
          ],
          [
           "tomm-22•TOMM22"
          ],
          [
           "C34D4.4•TVP23A"
          ],
          [
           "klu-1•ZSCAN21"
          ],
          [
           "mtk-1•NEK1"
          ],
          [
           "sek-1•NEK1"
          ],
          [
           "sek-4•NEK1"
          ],
          [
           "sek-5•NEK1"
          ],
          [
           "mig-32•PCGF3"
          ],
          [
           "chd-1•ZRANB3"
          ],
          [
           "csb-1•ZRANB3"
          ],
          [
           "F53H4.6•ZRANB3"
          ],
          [
           "smrc-1•ZRANB3"
          ],
          [
           "ptl-1•MAPT"
          ],
          [
           "lsy-2•ZSCAN9"
          ],
          [
           "gly-10•WBSCR17"
          ],
          [
           "gly-3•WBSCR17"
          ],
          [
           "gly-5•WBSCR17"
          ],
          [
           "gly-7•WBSCR17"
          ],
          [
           "gly-8•WBSCR17"
          ],
          [
           "dma-1•NRROS"
          ],
          [
           "egg-6•NRROS"
          ],
          [
           "pan-1•NRROS"
          ],
          [
           "sym-1•NRROS"
          ],
          [
           "rskn-1•RPS6KA2"
          ],
          [
           "sec-3•STXBP6"
          ]
         ],
         "hovertemplate": "Class=GWAS<br>umap_x=%{x}<br>umap_y=%{y}<br>Gene=%{customdata[0]}<extra></extra>",
         "legendgroup": "GWAS",
         "marker": {
          "color": "#636efa",
          "symbol": "circle"
         },
         "mode": "markers",
         "name": "GWAS",
         "orientation": "v",
         "showlegend": true,
         "type": "scatter",
         "x": [
          17.415822982788086,
          18.127904891967773,
          19.17458724975586,
          18.851945877075195,
          16.469755172729492,
          18.318334579467773,
          18.09086036682129,
          19.665618896484375,
          18.58358383178711,
          17.97759437561035,
          17.4639892578125,
          18.91925621032715,
          18.04277801513672,
          18.485889434814453,
          18.157508850097656,
          17.663915634155273,
          18.153989791870117,
          16.84600830078125,
          18.52031135559082,
          16.257204055786133,
          17.836524963378906,
          19.536684036254883,
          18.52726173400879,
          17.6390380859375,
          19.981340408325195,
          18.44594383239746,
          17.292085647583008,
          17.918306350708008,
          16.0819149017334,
          18.55624008178711,
          19.514366149902344,
          17.65372657775879,
          18.367626190185547,
          17.546293258666992,
          17.598482131958008,
          17.323057174682617,
          18.306884765625,
          17.701904296875,
          18.00687026977539,
          18.49126434326172,
          18.881824493408203,
          18.34795379638672,
          17.8763427734375,
          17.98461151123047,
          16.62268829345703,
          18.182361602783203,
          17.059423446655273,
          16.054025650024414,
          16.558042526245117,
          18.29009246826172,
          18.040834426879883,
          18.352943420410156,
          18.596315383911133,
          19.677045822143555,
          18.4467830657959,
          18.22442054748535,
          18.786340713500977,
          18.335826873779297,
          19.99363136291504,
          18.90420913696289,
          18.844228744506836,
          17.480112075805664,
          20.007226943969727,
          18.346532821655273,
          18.829605102539062,
          18.336179733276367,
          17.054899215698242,
          20.074312210083008,
          20.050045013427734,
          18.063276290893555,
          19.327404022216797,
          18.996501922607422,
          18.680932998657227,
          18.963193893432617,
          17.721439361572266,
          19.063596725463867,
          18.545684814453125,
          18.035402297973633,
          16.332429885864258,
          17.961402893066406,
          18.959787368774414,
          17.88765525817871,
          17.605224609375,
          18.779951095581055,
          18.707815170288086,
          16.984724044799805,
          18.72844123840332,
          16.305208206176758,
          17.8347225189209,
          17.20185089111328,
          18.8027400970459,
          16.67420768737793,
          18.292558670043945,
          18.784679412841797,
          17.813735961914062,
          16.450786590576172,
          18.196819305419922,
          19.28001594543457,
          18.187915802001953,
          18.377782821655273,
          17.37177276611328,
          18.612598419189453,
          18.571977615356445,
          18.231908798217773,
          17.143983840942383,
          18.093854904174805,
          17.412399291992188,
          17.002044677734375,
          17.701370239257812,
          17.858625411987305,
          16.270694732666016,
          18.320154190063477,
          18.660791397094727,
          17.279695510864258,
          17.892192840576172,
          17.164180755615234,
          18.483901977539062
         ],
         "xaxis": "x",
         "y": [
          5.472052574157715,
          10.80609130859375,
          5.419449806213379,
          9.477456092834473,
          10.406082153320312,
          5.064851760864258,
          5.839823246002197,
          6.899792194366455,
          10.73094367980957,
          6.886205673217773,
          9.605925559997559,
          4.827251434326172,
          6.50551176071167,
          5.552042484283447,
          5.329463481903076,
          8.68342399597168,
          5.615004062652588,
          10.132465362548828,
          7.221020698547363,
          9.932107925415039,
          7.585262775421143,
          6.495502471923828,
          6.5405049324035645,
          5.972177505493164,
          6.741392612457275,
          4.8206915855407715,
          8.342887878417969,
          5.169453144073486,
          10.150980949401855,
          5.4187092781066895,
          7.0419840812683105,
          5.276020050048828,
          6.161649227142334,
          10.610882759094238,
          5.980464935302734,
          6.909035682678223,
          8.998490333557129,
          9.528717994689941,
          5.764883518218994,
          8.24443244934082,
          6.424010276794434,
          10.408268928527832,
          11.230396270751953,
          10.642781257629395,
          8.066057205200195,
          5.046857833862305,
          8.116873741149902,
          10.402111053466797,
          8.101218223571777,
          7.295108795166016,
          8.651955604553223,
          9.81867504119873,
          10.576961517333984,
          6.959715843200684,
          5.716187477111816,
          5.406992435455322,
          9.143783569335938,
          5.983259677886963,
          5.869614601135254,
          5.396775245666504,
          6.162223815917969,
          6.494116306304932,
          5.93410587310791,
          5.512906074523926,
          6.578319549560547,
          6.909146785736084,
          8.484352111816406,
          6.100176811218262,
          5.913294315338135,
          9.821073532104492,
          5.6551947593688965,
          5.610337257385254,
          5.783641815185547,
          9.827287673950195,
          6.323062896728516,
          5.903763294219971,
          5.583892345428467,
          8.244391441345215,
          10.110257148742676,
          9.9702787399292,
          9.833045959472656,
          5.476639270782471,
          8.89441967010498,
          5.14176082611084,
          5.130234241485596,
          10.89799976348877,
          10.180278778076172,
          9.822141647338867,
          7.863475322723389,
          9.54651927947998,
          6.9334869384765625,
          10.644243240356445,
          11.095710754394531,
          10.59147834777832,
          5.399118900299072,
          9.53428840637207,
          10.14653205871582,
          6.334176540374756,
          6.156433582305908,
          10.009363174438477,
          8.527409553527832,
          7.455844402313232,
          6.013018608093262,
          6.713379383087158,
          8.968147277832031,
          10.68333625793457,
          9.901894569396973,
          9.822991371154785,
          9.195855140686035,
          10.2678861618042,
          10.165889739990234,
          9.010821342468262,
          7.545595645904541,
          10.706195831298828,
          10.582700729370117,
          7.399209499359131,
          8.7000732421875
         ],
         "yaxis": "y"
        },
        {
         "customdata": [
          [
           "PRKN•pdr-1"
          ]
         ],
         "hovertemplate": "Class=PARK3/PRKN<br>umap_x=%{x}<br>umap_y=%{y}<br>Gene=%{customdata[0]}<extra></extra>",
         "legendgroup": "PARK3/PRKN",
         "marker": {
          "color": "#EF553B",
          "symbol": "circle"
         },
         "mode": "markers",
         "name": "PARK3/PRKN",
         "orientation": "v",
         "showlegend": true,
         "type": "scatter",
         "x": [
          18.35763168334961
         ],
         "xaxis": "x",
         "y": [
          9.757575988769531
         ],
         "yaxis": "y"
        },
        {
         "customdata": [
          [
           "VPS13C•T08G11.1"
          ]
         ],
         "hovertemplate": "Class=PARK23/VPS13C<br>umap_x=%{x}<br>umap_y=%{y}<br>Gene=%{customdata[0]}<extra></extra>",
         "legendgroup": "PARK23/VPS13C",
         "marker": {
          "color": "#00cc96",
          "symbol": "circle"
         },
         "mode": "markers",
         "name": "PARK23/VPS13C",
         "orientation": "v",
         "showlegend": true,
         "type": "scatter",
         "x": [
          16.039569854736328
         ],
         "xaxis": "x",
         "y": [
          9.997254371643066
         ],
         "yaxis": "y"
        },
        {
         "customdata": [
          [
           "GCH1•cat-4"
          ],
          [
           "TH•cat-2"
          ]
         ],
         "hovertemplate": "Class=Dopamine<br>umap_x=%{x}<br>umap_y=%{y}<br>Gene=%{customdata[0]}<extra></extra>",
         "legendgroup": "Dopamine",
         "marker": {
          "color": "#ab63fa",
          "symbol": "circle"
         },
         "mode": "markers",
         "name": "Dopamine",
         "orientation": "v",
         "showlegend": true,
         "type": "scatter",
         "x": [
          19.16912269592285,
          18.93559455871582
         ],
         "xaxis": "x",
         "y": [
          5.100897789001465,
          4.739404678344727
         ],
         "yaxis": "y"
        },
        {
         "customdata": [
          [
           "PARK7•djr-1.1"
          ]
         ],
         "hovertemplate": "Class=PARK7/DJ1<br>umap_x=%{x}<br>umap_y=%{y}<br>Gene=%{customdata[0]}<extra></extra>",
         "legendgroup": "PARK7/DJ1",
         "marker": {
          "color": "#FFA15A",
          "symbol": "circle"
         },
         "mode": "markers",
         "name": "PARK7/DJ1",
         "orientation": "v",
         "showlegend": true,
         "type": "scatter",
         "x": [
          18.7648983001709
         ],
         "xaxis": "x",
         "y": [
          10.773850440979004
         ],
         "yaxis": "y"
        },
        {
         "customdata": [
          [
           "PINK1•pink-1"
          ]
         ],
         "hovertemplate": "Class=PARK6/PINK1<br>umap_x=%{x}<br>umap_y=%{y}<br>Gene=%{customdata[0]}<extra></extra>",
         "legendgroup": "PARK6/PINK1",
         "marker": {
          "color": "#19d3f3",
          "symbol": "circle"
         },
         "mode": "markers",
         "name": "PARK6/PINK1",
         "orientation": "v",
         "showlegend": true,
         "type": "scatter",
         "x": [
          18.160879135131836
         ],
         "xaxis": "x",
         "y": [
          9.268346786499023
         ],
         "yaxis": "y"
        },
        {
         "customdata": [
          [
           "VPS35•vps-35"
          ]
         ],
         "hovertemplate": "Class=PARK17/VPS35<br>umap_x=%{x}<br>umap_y=%{y}<br>Gene=%{customdata[0]}<extra></extra>",
         "legendgroup": "PARK17/VPS35",
         "marker": {
          "color": "#FF6692",
          "symbol": "circle"
         },
         "mode": "markers",
         "name": "PARK17/VPS35",
         "orientation": "v",
         "showlegend": true,
         "type": "scatter",
         "x": [
          18.59513282775879
         ],
         "xaxis": "x",
         "y": [
          8.35474681854248
         ],
         "yaxis": "y"
        },
        {
         "customdata": [
          [
           "ATP13A2•catp-7"
          ]
         ],
         "hovertemplate": "Class=PARK9/ATP13A2<br>umap_x=%{x}<br>umap_y=%{y}<br>Gene=%{customdata[0]}<extra></extra>",
         "legendgroup": "PARK9/ATP13A2",
         "marker": {
          "color": "#B6E880",
          "symbol": "circle"
         },
         "mode": "markers",
         "name": "PARK9/ATP13A2",
         "orientation": "v",
         "showlegend": true,
         "type": "scatter",
         "x": [
          16.51816749572754
         ],
         "xaxis": "x",
         "y": [
          9.01463794708252
         ],
         "yaxis": "y"
        },
        {
         "customdata": [
          [
           "SYNJ1•unc-26"
          ]
         ],
         "hovertemplate": "Class=PARK20/SYNJ1<br>umap_x=%{x}<br>umap_y=%{y}<br>Gene=%{customdata[0]}<extra></extra>",
         "legendgroup": "PARK20/SYNJ1",
         "marker": {
          "color": "#FF97FF",
          "symbol": "circle"
         },
         "mode": "markers",
         "name": "PARK20/SYNJ1",
         "orientation": "v",
         "showlegend": true,
         "type": "scatter",
         "x": [
          17.28663444519043
         ],
         "xaxis": "x",
         "y": [
          9.210474014282227
         ],
         "yaxis": "y"
        },
        {
         "customdata": [
          [
           "CHCHD2•har-1"
          ]
         ],
         "hovertemplate": "Class=PARK22/CHCHD2<br>umap_x=%{x}<br>umap_y=%{y}<br>Gene=%{customdata[0]}<extra></extra>",
         "legendgroup": "PARK22/CHCHD2",
         "marker": {
          "color": "#FECB52",
          "symbol": "circle"
         },
         "mode": "markers",
         "name": "PARK22/CHCHD2",
         "orientation": "v",
         "showlegend": true,
         "type": "scatter",
         "x": [
          18.130807876586914
         ],
         "xaxis": "x",
         "y": [
          11.208666801452637
         ],
         "yaxis": "y"
        },
        {
         "customdata": [
          [
           "LRRK2•lrk-1"
          ]
         ],
         "hovertemplate": "Class=PARK8/LRRK2<br>umap_x=%{x}<br>umap_y=%{y}<br>Gene=%{customdata[0]}<extra></extra>",
         "legendgroup": "PARK8/LRRK2",
         "marker": {
          "color": "#636efa",
          "symbol": "circle"
         },
         "mode": "markers",
         "name": "PARK8/LRRK2",
         "orientation": "v",
         "showlegend": true,
         "type": "scatter",
         "x": [
          16.675554275512695
         ],
         "xaxis": "x",
         "y": [
          9.63701057434082
         ],
         "yaxis": "y"
        },
        {
         "customdata": [
          [
           "UCHL1•ubh-3"
          ],
          [
           "UCHL1•ubh-2"
          ],
          [
           "UCHL1•ubh-1"
          ]
         ],
         "hovertemplate": "Class=PARK5/UCHL1<br>umap_x=%{x}<br>umap_y=%{y}<br>Gene=%{customdata[0]}<extra></extra>",
         "legendgroup": "PARK5/UCHL1",
         "marker": {
          "color": "#EF553B",
          "symbol": "circle"
         },
         "mode": "markers",
         "name": "PARK5/UCHL1",
         "orientation": "v",
         "showlegend": true,
         "type": "scatter",
         "x": [
          18.726604461669922,
          18.52785873413086,
          18.507551193237305
         ],
         "xaxis": "x",
         "y": [
          10.73823070526123,
          9.291812896728516,
          9.31486988067627
         ],
         "yaxis": "y"
        },
        {
         "customdata": [
          [
           "PLA2G6•ipla-3"
          ]
         ],
         "hovertemplate": "Class=PARK14/PLA2G6<br>umap_x=%{x}<br>umap_y=%{y}<br>Gene=%{customdata[0]}<extra></extra>",
         "legendgroup": "PARK14/PLA2G6",
         "marker": {
          "color": "#00cc96",
          "symbol": "circle"
         },
         "mode": "markers",
         "name": "PARK14/PLA2G6",
         "orientation": "v",
         "showlegend": true,
         "type": "scatter",
         "x": [
          17.683801651000977
         ],
         "xaxis": "x",
         "y": [
          8.823280334472656
         ],
         "yaxis": "y"
        },
        {
         "customdata": [
          [
           "GIGYF2•gyf-1"
          ]
         ],
         "hovertemplate": "Class=PARK11/GIGYF2<br>umap_x=%{x}<br>umap_y=%{y}<br>Gene=%{customdata[0]}<extra></extra>",
         "legendgroup": "PARK11/GIGYF2",
         "marker": {
          "color": "#ab63fa",
          "symbol": "circle"
         },
         "mode": "markers",
         "name": "PARK11/GIGYF2",
         "orientation": "v",
         "showlegend": true,
         "type": "scatter",
         "x": [
          17.763713836669922
         ],
         "xaxis": "x",
         "y": [
          9.530130386352539
         ],
         "yaxis": "y"
        },
        {
         "customdata": [
          [
           "DNAJC13•rme-8"
          ]
         ],
         "hovertemplate": "Class=PARK21/DNAJC13<br>umap_x=%{x}<br>umap_y=%{y}<br>Gene=%{customdata[0]}<extra></extra>",
         "legendgroup": "PARK21/DNAJC13",
         "marker": {
          "color": "#FFA15A",
          "symbol": "circle"
         },
         "mode": "markers",
         "name": "PARK21/DNAJC13",
         "orientation": "v",
         "showlegend": true,
         "type": "scatter",
         "x": [
          18.11795425415039
         ],
         "xaxis": "x",
         "y": [
          7.989415645599365
         ],
         "yaxis": "y"
        },
        {
         "customdata": [
          [
           "EIF4G1•ifg-1"
          ]
         ],
         "hovertemplate": "Class=PARK18/EIF4G1<br>umap_x=%{x}<br>umap_y=%{y}<br>Gene=%{customdata[0]}<extra></extra>",
         "legendgroup": "PARK18/EIF4G1",
         "marker": {
          "color": "#19d3f3",
          "symbol": "circle"
         },
         "mode": "markers",
         "name": "PARK18/EIF4G1",
         "orientation": "v",
         "showlegend": true,
         "type": "scatter",
         "x": [
          18.29131507873535
         ],
         "xaxis": "x",
         "y": [
          10.963726043701172
         ],
         "yaxis": "y"
        },
        {
         "customdata": [
          [
           "DNAJC6•dnj-25"
          ]
         ],
         "hovertemplate": "Class=PARK19/DNAJC6<br>umap_x=%{x}<br>umap_y=%{y}<br>Gene=%{customdata[0]}<extra></extra>",
         "legendgroup": "PARK19/DNAJC6",
         "marker": {
          "color": "#FF6692",
          "symbol": "circle"
         },
         "mode": "markers",
         "name": "PARK19/DNAJC6",
         "orientation": "v",
         "showlegend": true,
         "type": "scatter",
         "x": [
          17.42982292175293
         ],
         "xaxis": "x",
         "y": [
          8.756121635437012
         ],
         "yaxis": "y"
        },
        {
         "customdata": [
          [
           "PSAP•spp-10"
          ],
          [
           "PSAP•spp-8"
          ]
         ],
         "hovertemplate": "Class=PARK24/PSAP<br>umap_x=%{x}<br>umap_y=%{y}<br>Gene=%{customdata[0]}<extra></extra>",
         "legendgroup": "PARK24/PSAP",
         "marker": {
          "color": "#B6E880",
          "symbol": "circle"
         },
         "mode": "markers",
         "name": "PARK24/PSAP",
         "orientation": "v",
         "showlegend": true,
         "type": "scatter",
         "x": [
          18.866371154785156,
          19.25452423095703
         ],
         "xaxis": "x",
         "y": [
          9.967571258544922,
          5.747356414794922
         ],
         "yaxis": "y"
        }
       ],
       "layout": {
        "legend": {
         "title": {
          "text": "Class"
         },
         "tracegroupgap": 0
        },
        "margin": {
         "t": 60
        },
        "template": {
         "data": {
          "bar": [
           {
            "error_x": {
             "color": "#2a3f5f"
            },
            "error_y": {
             "color": "#2a3f5f"
            },
            "marker": {
             "line": {
              "color": "#E5ECF6",
              "width": 0.5
             },
             "pattern": {
              "fillmode": "overlay",
              "size": 10,
              "solidity": 0.2
             }
            },
            "type": "bar"
           }
          ],
          "barpolar": [
           {
            "marker": {
             "line": {
              "color": "#E5ECF6",
              "width": 0.5
             },
             "pattern": {
              "fillmode": "overlay",
              "size": 10,
              "solidity": 0.2
             }
            },
            "type": "barpolar"
           }
          ],
          "carpet": [
           {
            "aaxis": {
             "endlinecolor": "#2a3f5f",
             "gridcolor": "white",
             "linecolor": "white",
             "minorgridcolor": "white",
             "startlinecolor": "#2a3f5f"
            },
            "baxis": {
             "endlinecolor": "#2a3f5f",
             "gridcolor": "white",
             "linecolor": "white",
             "minorgridcolor": "white",
             "startlinecolor": "#2a3f5f"
            },
            "type": "carpet"
           }
          ],
          "choropleth": [
           {
            "colorbar": {
             "outlinewidth": 0,
             "ticks": ""
            },
            "type": "choropleth"
           }
          ],
          "contour": [
           {
            "colorbar": {
             "outlinewidth": 0,
             "ticks": ""
            },
            "colorscale": [
             [
              0,
              "#0d0887"
             ],
             [
              0.1111111111111111,
              "#46039f"
             ],
             [
              0.2222222222222222,
              "#7201a8"
             ],
             [
              0.3333333333333333,
              "#9c179e"
             ],
             [
              0.4444444444444444,
              "#bd3786"
             ],
             [
              0.5555555555555556,
              "#d8576b"
             ],
             [
              0.6666666666666666,
              "#ed7953"
             ],
             [
              0.7777777777777778,
              "#fb9f3a"
             ],
             [
              0.8888888888888888,
              "#fdca26"
             ],
             [
              1,
              "#f0f921"
             ]
            ],
            "type": "contour"
           }
          ],
          "contourcarpet": [
           {
            "colorbar": {
             "outlinewidth": 0,
             "ticks": ""
            },
            "type": "contourcarpet"
           }
          ],
          "heatmap": [
           {
            "colorbar": {
             "outlinewidth": 0,
             "ticks": ""
            },
            "colorscale": [
             [
              0,
              "#0d0887"
             ],
             [
              0.1111111111111111,
              "#46039f"
             ],
             [
              0.2222222222222222,
              "#7201a8"
             ],
             [
              0.3333333333333333,
              "#9c179e"
             ],
             [
              0.4444444444444444,
              "#bd3786"
             ],
             [
              0.5555555555555556,
              "#d8576b"
             ],
             [
              0.6666666666666666,
              "#ed7953"
             ],
             [
              0.7777777777777778,
              "#fb9f3a"
             ],
             [
              0.8888888888888888,
              "#fdca26"
             ],
             [
              1,
              "#f0f921"
             ]
            ],
            "type": "heatmap"
           }
          ],
          "heatmapgl": [
           {
            "colorbar": {
             "outlinewidth": 0,
             "ticks": ""
            },
            "colorscale": [
             [
              0,
              "#0d0887"
             ],
             [
              0.1111111111111111,
              "#46039f"
             ],
             [
              0.2222222222222222,
              "#7201a8"
             ],
             [
              0.3333333333333333,
              "#9c179e"
             ],
             [
              0.4444444444444444,
              "#bd3786"
             ],
             [
              0.5555555555555556,
              "#d8576b"
             ],
             [
              0.6666666666666666,
              "#ed7953"
             ],
             [
              0.7777777777777778,
              "#fb9f3a"
             ],
             [
              0.8888888888888888,
              "#fdca26"
             ],
             [
              1,
              "#f0f921"
             ]
            ],
            "type": "heatmapgl"
           }
          ],
          "histogram": [
           {
            "marker": {
             "pattern": {
              "fillmode": "overlay",
              "size": 10,
              "solidity": 0.2
             }
            },
            "type": "histogram"
           }
          ],
          "histogram2d": [
           {
            "colorbar": {
             "outlinewidth": 0,
             "ticks": ""
            },
            "colorscale": [
             [
              0,
              "#0d0887"
             ],
             [
              0.1111111111111111,
              "#46039f"
             ],
             [
              0.2222222222222222,
              "#7201a8"
             ],
             [
              0.3333333333333333,
              "#9c179e"
             ],
             [
              0.4444444444444444,
              "#bd3786"
             ],
             [
              0.5555555555555556,
              "#d8576b"
             ],
             [
              0.6666666666666666,
              "#ed7953"
             ],
             [
              0.7777777777777778,
              "#fb9f3a"
             ],
             [
              0.8888888888888888,
              "#fdca26"
             ],
             [
              1,
              "#f0f921"
             ]
            ],
            "type": "histogram2d"
           }
          ],
          "histogram2dcontour": [
           {
            "colorbar": {
             "outlinewidth": 0,
             "ticks": ""
            },
            "colorscale": [
             [
              0,
              "#0d0887"
             ],
             [
              0.1111111111111111,
              "#46039f"
             ],
             [
              0.2222222222222222,
              "#7201a8"
             ],
             [
              0.3333333333333333,
              "#9c179e"
             ],
             [
              0.4444444444444444,
              "#bd3786"
             ],
             [
              0.5555555555555556,
              "#d8576b"
             ],
             [
              0.6666666666666666,
              "#ed7953"
             ],
             [
              0.7777777777777778,
              "#fb9f3a"
             ],
             [
              0.8888888888888888,
              "#fdca26"
             ],
             [
              1,
              "#f0f921"
             ]
            ],
            "type": "histogram2dcontour"
           }
          ],
          "mesh3d": [
           {
            "colorbar": {
             "outlinewidth": 0,
             "ticks": ""
            },
            "type": "mesh3d"
           }
          ],
          "parcoords": [
           {
            "line": {
             "colorbar": {
              "outlinewidth": 0,
              "ticks": ""
             }
            },
            "type": "parcoords"
           }
          ],
          "pie": [
           {
            "automargin": true,
            "type": "pie"
           }
          ],
          "scatter": [
           {
            "fillpattern": {
             "fillmode": "overlay",
             "size": 10,
             "solidity": 0.2
            },
            "type": "scatter"
           }
          ],
          "scatter3d": [
           {
            "line": {
             "colorbar": {
              "outlinewidth": 0,
              "ticks": ""
             }
            },
            "marker": {
             "colorbar": {
              "outlinewidth": 0,
              "ticks": ""
             }
            },
            "type": "scatter3d"
           }
          ],
          "scattercarpet": [
           {
            "marker": {
             "colorbar": {
              "outlinewidth": 0,
              "ticks": ""
             }
            },
            "type": "scattercarpet"
           }
          ],
          "scattergeo": [
           {
            "marker": {
             "colorbar": {
              "outlinewidth": 0,
              "ticks": ""
             }
            },
            "type": "scattergeo"
           }
          ],
          "scattergl": [
           {
            "marker": {
             "colorbar": {
              "outlinewidth": 0,
              "ticks": ""
             }
            },
            "type": "scattergl"
           }
          ],
          "scattermapbox": [
           {
            "marker": {
             "colorbar": {
              "outlinewidth": 0,
              "ticks": ""
             }
            },
            "type": "scattermapbox"
           }
          ],
          "scatterpolar": [
           {
            "marker": {
             "colorbar": {
              "outlinewidth": 0,
              "ticks": ""
             }
            },
            "type": "scatterpolar"
           }
          ],
          "scatterpolargl": [
           {
            "marker": {
             "colorbar": {
              "outlinewidth": 0,
              "ticks": ""
             }
            },
            "type": "scatterpolargl"
           }
          ],
          "scatterternary": [
           {
            "marker": {
             "colorbar": {
              "outlinewidth": 0,
              "ticks": ""
             }
            },
            "type": "scatterternary"
           }
          ],
          "surface": [
           {
            "colorbar": {
             "outlinewidth": 0,
             "ticks": ""
            },
            "colorscale": [
             [
              0,
              "#0d0887"
             ],
             [
              0.1111111111111111,
              "#46039f"
             ],
             [
              0.2222222222222222,
              "#7201a8"
             ],
             [
              0.3333333333333333,
              "#9c179e"
             ],
             [
              0.4444444444444444,
              "#bd3786"
             ],
             [
              0.5555555555555556,
              "#d8576b"
             ],
             [
              0.6666666666666666,
              "#ed7953"
             ],
             [
              0.7777777777777778,
              "#fb9f3a"
             ],
             [
              0.8888888888888888,
              "#fdca26"
             ],
             [
              1,
              "#f0f921"
             ]
            ],
            "type": "surface"
           }
          ],
          "table": [
           {
            "cells": {
             "fill": {
              "color": "#EBF0F8"
             },
             "line": {
              "color": "white"
             }
            },
            "header": {
             "fill": {
              "color": "#C8D4E3"
             },
             "line": {
              "color": "white"
             }
            },
            "type": "table"
           }
          ]
         },
         "layout": {
          "annotationdefaults": {
           "arrowcolor": "#2a3f5f",
           "arrowhead": 0,
           "arrowwidth": 1
          },
          "autotypenumbers": "strict",
          "coloraxis": {
           "colorbar": {
            "outlinewidth": 0,
            "ticks": ""
           }
          },
          "colorscale": {
           "diverging": [
            [
             0,
             "#8e0152"
            ],
            [
             0.1,
             "#c51b7d"
            ],
            [
             0.2,
             "#de77ae"
            ],
            [
             0.3,
             "#f1b6da"
            ],
            [
             0.4,
             "#fde0ef"
            ],
            [
             0.5,
             "#f7f7f7"
            ],
            [
             0.6,
             "#e6f5d0"
            ],
            [
             0.7,
             "#b8e186"
            ],
            [
             0.8,
             "#7fbc41"
            ],
            [
             0.9,
             "#4d9221"
            ],
            [
             1,
             "#276419"
            ]
           ],
           "sequential": [
            [
             0,
             "#0d0887"
            ],
            [
             0.1111111111111111,
             "#46039f"
            ],
            [
             0.2222222222222222,
             "#7201a8"
            ],
            [
             0.3333333333333333,
             "#9c179e"
            ],
            [
             0.4444444444444444,
             "#bd3786"
            ],
            [
             0.5555555555555556,
             "#d8576b"
            ],
            [
             0.6666666666666666,
             "#ed7953"
            ],
            [
             0.7777777777777778,
             "#fb9f3a"
            ],
            [
             0.8888888888888888,
             "#fdca26"
            ],
            [
             1,
             "#f0f921"
            ]
           ],
           "sequentialminus": [
            [
             0,
             "#0d0887"
            ],
            [
             0.1111111111111111,
             "#46039f"
            ],
            [
             0.2222222222222222,
             "#7201a8"
            ],
            [
             0.3333333333333333,
             "#9c179e"
            ],
            [
             0.4444444444444444,
             "#bd3786"
            ],
            [
             0.5555555555555556,
             "#d8576b"
            ],
            [
             0.6666666666666666,
             "#ed7953"
            ],
            [
             0.7777777777777778,
             "#fb9f3a"
            ],
            [
             0.8888888888888888,
             "#fdca26"
            ],
            [
             1,
             "#f0f921"
            ]
           ]
          },
          "colorway": [
           "#636efa",
           "#EF553B",
           "#00cc96",
           "#ab63fa",
           "#FFA15A",
           "#19d3f3",
           "#FF6692",
           "#B6E880",
           "#FF97FF",
           "#FECB52"
          ],
          "font": {
           "color": "#2a3f5f"
          },
          "geo": {
           "bgcolor": "white",
           "lakecolor": "white",
           "landcolor": "#E5ECF6",
           "showlakes": true,
           "showland": true,
           "subunitcolor": "white"
          },
          "hoverlabel": {
           "align": "left"
          },
          "hovermode": "closest",
          "mapbox": {
           "style": "light"
          },
          "paper_bgcolor": "white",
          "plot_bgcolor": "#E5ECF6",
          "polar": {
           "angularaxis": {
            "gridcolor": "white",
            "linecolor": "white",
            "ticks": ""
           },
           "bgcolor": "#E5ECF6",
           "radialaxis": {
            "gridcolor": "white",
            "linecolor": "white",
            "ticks": ""
           }
          },
          "scene": {
           "xaxis": {
            "backgroundcolor": "#E5ECF6",
            "gridcolor": "white",
            "gridwidth": 2,
            "linecolor": "white",
            "showbackground": true,
            "ticks": "",
            "zerolinecolor": "white"
           },
           "yaxis": {
            "backgroundcolor": "#E5ECF6",
            "gridcolor": "white",
            "gridwidth": 2,
            "linecolor": "white",
            "showbackground": true,
            "ticks": "",
            "zerolinecolor": "white"
           },
           "zaxis": {
            "backgroundcolor": "#E5ECF6",
            "gridcolor": "white",
            "gridwidth": 2,
            "linecolor": "white",
            "showbackground": true,
            "ticks": "",
            "zerolinecolor": "white"
           }
          },
          "shapedefaults": {
           "line": {
            "color": "#2a3f5f"
           }
          },
          "ternary": {
           "aaxis": {
            "gridcolor": "white",
            "linecolor": "white",
            "ticks": ""
           },
           "baxis": {
            "gridcolor": "white",
            "linecolor": "white",
            "ticks": ""
           },
           "bgcolor": "#E5ECF6",
           "caxis": {
            "gridcolor": "white",
            "linecolor": "white",
            "ticks": ""
           }
          },
          "title": {
           "x": 0.05
          },
          "xaxis": {
           "automargin": true,
           "gridcolor": "white",
           "linecolor": "white",
           "ticks": "",
           "title": {
            "standoff": 15
           },
           "zerolinecolor": "white",
           "zerolinewidth": 2
          },
          "yaxis": {
           "automargin": true,
           "gridcolor": "white",
           "linecolor": "white",
           "ticks": "",
           "title": {
            "standoff": 15
           },
           "zerolinecolor": "white",
           "zerolinewidth": 2
          }
         }
        },
        "xaxis": {
         "anchor": "y",
         "domain": [
          0,
          1
         ],
         "title": {
          "text": "umap_x"
         }
        },
        "yaxis": {
         "anchor": "x",
         "domain": [
          0,
          1
         ],
         "title": {
          "text": "umap_y"
         }
        }
       }
      },
      "text/html": [
       "<div>                            <div id=\"1691945c-cf60-4de0-b807-609e7960cc6c\" class=\"plotly-graph-div\" style=\"height:525px; width:100%;\"></div>            <script type=\"text/javascript\">                require([\"plotly\"], function(Plotly) {                    window.PLOTLYENV=window.PLOTLYENV || {};                                    if (document.getElementById(\"1691945c-cf60-4de0-b807-609e7960cc6c\")) {                    Plotly.newPlot(                        \"1691945c-cf60-4de0-b807-609e7960cc6c\",                        [{\"customdata\":[[\"KCNS3\\u2022kvs-5\"],[\"LAMB2\\u2022lam-1\"],[\"GBA\\u2022gba-4\"],[\"MCCC1\\u2022mccc-1\"],[\"CAMK2D\\u2022unc-43\"],[\"KPNA1\\u2022F53B2.5\"],[\"VAMP4\\u2022snb-7\"],[\"GBA\\u2022gba-3\"],[\"CRLS1\\u2022crls-1\"],[\"IP6K2\\u2022Y22D7AR.6\"],[\"SETD1A\\u2022set-2\"],[\"DDC\\u2022bas-1\"],[\"FGF20\\u2022let-756\"],[\"GALC\\u2022C29E4.10\"],[\"VAMP4\\u2022snb-5\"],[\"HIP1R\\u2022hipr-1\"],[\"KCNS3\\u2022kvs-4\"],[\"GBF1\\u2022gbf-1\"],[\"SCARB2\\u2022scav-2\"],[\"SATB1\\u2022dve-1\"],[\"CAB39L\\u2022mop-25.1\"],[\"SCARB2\\u2022scav-1\"],[\"IGSF9B\\u2022igcm-2\"],[\"DRD2/3/4\\u2022dop-3\"],[\"CTSB\\u2022cpr-6\"],[\"CHRNB1\\u2022acr-3\"],[\"RIMS1\\u2022unc-10\"],[\"KCNS3\\u2022kvs-1\"],[\"MED12L\\u2022dpy-22\"],[\"SCARB2\\u2022scav-5\"],[\"RAB29\\u2022glo-1\"],[\"KCNIP3\\u2022ncs-4\"],[\"CHRNB1\\u2022acr-8\"],[\"MAP4K4\\u2022mig-15\"],[\"LCORL\\u2022mbr-1\"],[\"CHRNB1\\u2022acr-12\"],[\"RNF141\\u2022F54B11.5\"],[\"DYRK1A\\u2022mbk-1\"],[\"IP6K2\\u2022T20F7.3\"],[\"MBNL2\\u2022mbl-1\"],[\"KCNIP3\\u2022ncs-7\"],[\"MEX3C\\u2022mex-3\"],[\"UBAP2\\u2022pqn-59\"],[\"FYN\\u2022src-1\"],[\"PAM\\u2022pghm-1\"],[\"CHRNB1\\u2022acr-6\"],[\"SH3GL2\\u2022unc-57\"],[\"CHD9\\u2022chd-7\"],[\"PAM\\u2022pgal-1\"],[\"ITPKB\\u2022lfe-2\"],[\"PAM\\u2022pamn-1\"],[\"KPNA1\\u2022ima-2\"],[\"SPPL2B\\u2022imp-1\"],[\"GRN\\u2022pgrn-1\"],[\"HIP1R\\u2022Y18D10A.22\"],[\"HIP1R\\u2022tag-138\"],[\"INPP5F\\u2022sac-2\"],[\"CTSB\\u2022W07B8.4\"],[\"CTSB\\u2022cpr-5\"],[\"CTSB\\u2022cpr-8\"],[\"PARK7\\u2022djr-1.2\"],[\"KCNS3\\u2022exp-2\"],[\"CTSB\\u2022cpr-4\"],[\"KCNS3\\u2022kvs-3\"],[\"KCNS3\\u2022kvs-2\"],[\"PMVK\\u2022F32D8.13\"],[\"SIPA1L2\\u2022sipa-1\"],[\"CTSB\\u2022cpr-1\"],[\"CTSB\\u2022cpr-9\"],[\"RPS6KL1\\u2022rskd-1\"],[\"CTSB\\u2022F32H5.1\"],[\"CTSB\\u2022cpr-3\"],[\"CTSB\\u2022cpr-2\"],[\"STK39\\u2022gck-3\"],[\"KCNIP3\\u2022ncs-5\"],[\"GBA\\u2022gba-1\"],[\"GBA\\u2022gba-2\"],[\"FAM49B/CYRIB\\u2022R07G3.8\"],[\"MED13\\u2022let-19\"],[\"CLCN3\\u2022clh-5\"],[\"CAB39L\\u2022mop-25.2\"],[\"GAK\\u2022gakh-1\"],[\"SVOP\\u2022svop-1\"],[\"gipc-2\\u2022GIPC1\"],[\"gipc-1\\u2022GIPC1\"],[\"hsp-1\\u2022HSPA8\"],[\"immt-1\\u2022IMMT\"],[\"immt-2\\u2022IMMT\"],[\"klp-12\\u2022KIF21B\"],[\"miro-1\\u2022RHOT2\"],[\"C16C10.1\\u2022SLC25A39\"],[\"unc-70\\u2022SPTBN1\"],[\"tomm-22\\u2022TOMM22\"],[\"C34D4.4\\u2022TVP23A\"],[\"klu-1\\u2022ZSCAN21\"],[\"mtk-1\\u2022NEK1\"],[\"sek-1\\u2022NEK1\"],[\"sek-4\\u2022NEK1\"],[\"sek-5\\u2022NEK1\"],[\"mig-32\\u2022PCGF3\"],[\"chd-1\\u2022ZRANB3\"],[\"csb-1\\u2022ZRANB3\"],[\"F53H4.6\\u2022ZRANB3\"],[\"smrc-1\\u2022ZRANB3\"],[\"ptl-1\\u2022MAPT\"],[\"lsy-2\\u2022ZSCAN9\"],[\"gly-10\\u2022WBSCR17\"],[\"gly-3\\u2022WBSCR17\"],[\"gly-5\\u2022WBSCR17\"],[\"gly-7\\u2022WBSCR17\"],[\"gly-8\\u2022WBSCR17\"],[\"dma-1\\u2022NRROS\"],[\"egg-6\\u2022NRROS\"],[\"pan-1\\u2022NRROS\"],[\"sym-1\\u2022NRROS\"],[\"rskn-1\\u2022RPS6KA2\"],[\"sec-3\\u2022STXBP6\"]],\"hovertemplate\":\"Class=GWAS<br>umap_x=%{x}<br>umap_y=%{y}<br>Gene=%{customdata[0]}<extra></extra>\",\"legendgroup\":\"GWAS\",\"marker\":{\"color\":\"#636efa\",\"symbol\":\"circle\"},\"mode\":\"markers\",\"name\":\"GWAS\",\"orientation\":\"v\",\"showlegend\":true,\"x\":[17.415822982788086,18.127904891967773,19.17458724975586,18.851945877075195,16.469755172729492,18.318334579467773,18.09086036682129,19.665618896484375,18.58358383178711,17.97759437561035,17.4639892578125,18.91925621032715,18.04277801513672,18.485889434814453,18.157508850097656,17.663915634155273,18.153989791870117,16.84600830078125,18.52031135559082,16.257204055786133,17.836524963378906,19.536684036254883,18.52726173400879,17.6390380859375,19.981340408325195,18.44594383239746,17.292085647583008,17.918306350708008,16.0819149017334,18.55624008178711,19.514366149902344,17.65372657775879,18.367626190185547,17.546293258666992,17.598482131958008,17.323057174682617,18.306884765625,17.701904296875,18.00687026977539,18.49126434326172,18.881824493408203,18.34795379638672,17.8763427734375,17.98461151123047,16.62268829345703,18.182361602783203,17.059423446655273,16.054025650024414,16.558042526245117,18.29009246826172,18.040834426879883,18.352943420410156,18.596315383911133,19.677045822143555,18.4467830657959,18.22442054748535,18.786340713500977,18.335826873779297,19.99363136291504,18.90420913696289,18.844228744506836,17.480112075805664,20.007226943969727,18.346532821655273,18.829605102539062,18.336179733276367,17.054899215698242,20.074312210083008,20.050045013427734,18.063276290893555,19.327404022216797,18.996501922607422,18.680932998657227,18.963193893432617,17.721439361572266,19.063596725463867,18.545684814453125,18.035402297973633,16.332429885864258,17.961402893066406,18.959787368774414,17.88765525817871,17.605224609375,18.779951095581055,18.707815170288086,16.984724044799805,18.72844123840332,16.305208206176758,17.8347225189209,17.20185089111328,18.8027400970459,16.67420768737793,18.292558670043945,18.784679412841797,17.813735961914062,16.450786590576172,18.196819305419922,19.28001594543457,18.187915802001953,18.377782821655273,17.37177276611328,18.612598419189453,18.571977615356445,18.231908798217773,17.143983840942383,18.093854904174805,17.412399291992188,17.002044677734375,17.701370239257812,17.858625411987305,16.270694732666016,18.320154190063477,18.660791397094727,17.279695510864258,17.892192840576172,17.164180755615234,18.483901977539062],\"xaxis\":\"x\",\"y\":[5.472052574157715,10.80609130859375,5.419449806213379,9.477456092834473,10.406082153320312,5.064851760864258,5.839823246002197,6.899792194366455,10.73094367980957,6.886205673217773,9.605925559997559,4.827251434326172,6.50551176071167,5.552042484283447,5.329463481903076,8.68342399597168,5.615004062652588,10.132465362548828,7.221020698547363,9.932107925415039,7.585262775421143,6.495502471923828,6.5405049324035645,5.972177505493164,6.741392612457275,4.8206915855407715,8.342887878417969,5.169453144073486,10.150980949401855,5.4187092781066895,7.0419840812683105,5.276020050048828,6.161649227142334,10.610882759094238,5.980464935302734,6.909035682678223,8.998490333557129,9.528717994689941,5.764883518218994,8.24443244934082,6.424010276794434,10.408268928527832,11.230396270751953,10.642781257629395,8.066057205200195,5.046857833862305,8.116873741149902,10.402111053466797,8.101218223571777,7.295108795166016,8.651955604553223,9.81867504119873,10.576961517333984,6.959715843200684,5.716187477111816,5.406992435455322,9.143783569335938,5.983259677886963,5.869614601135254,5.396775245666504,6.162223815917969,6.494116306304932,5.93410587310791,5.512906074523926,6.578319549560547,6.909146785736084,8.484352111816406,6.100176811218262,5.913294315338135,9.821073532104492,5.6551947593688965,5.610337257385254,5.783641815185547,9.827287673950195,6.323062896728516,5.903763294219971,5.583892345428467,8.244391441345215,10.110257148742676,9.9702787399292,9.833045959472656,5.476639270782471,8.89441967010498,5.14176082611084,5.130234241485596,10.89799976348877,10.180278778076172,9.822141647338867,7.863475322723389,9.54651927947998,6.9334869384765625,10.644243240356445,11.095710754394531,10.59147834777832,5.399118900299072,9.53428840637207,10.14653205871582,6.334176540374756,6.156433582305908,10.009363174438477,8.527409553527832,7.455844402313232,6.013018608093262,6.713379383087158,8.968147277832031,10.68333625793457,9.901894569396973,9.822991371154785,9.195855140686035,10.2678861618042,10.165889739990234,9.010821342468262,7.545595645904541,10.706195831298828,10.582700729370117,7.399209499359131,8.7000732421875],\"yaxis\":\"y\",\"type\":\"scatter\"},{\"customdata\":[[\"PRKN\\u2022pdr-1\"]],\"hovertemplate\":\"Class=PARK3/PRKN<br>umap_x=%{x}<br>umap_y=%{y}<br>Gene=%{customdata[0]}<extra></extra>\",\"legendgroup\":\"PARK3/PRKN\",\"marker\":{\"color\":\"#EF553B\",\"symbol\":\"circle\"},\"mode\":\"markers\",\"name\":\"PARK3/PRKN\",\"orientation\":\"v\",\"showlegend\":true,\"x\":[18.35763168334961],\"xaxis\":\"x\",\"y\":[9.757575988769531],\"yaxis\":\"y\",\"type\":\"scatter\"},{\"customdata\":[[\"VPS13C\\u2022T08G11.1\"]],\"hovertemplate\":\"Class=PARK23/VPS13C<br>umap_x=%{x}<br>umap_y=%{y}<br>Gene=%{customdata[0]}<extra></extra>\",\"legendgroup\":\"PARK23/VPS13C\",\"marker\":{\"color\":\"#00cc96\",\"symbol\":\"circle\"},\"mode\":\"markers\",\"name\":\"PARK23/VPS13C\",\"orientation\":\"v\",\"showlegend\":true,\"x\":[16.039569854736328],\"xaxis\":\"x\",\"y\":[9.997254371643066],\"yaxis\":\"y\",\"type\":\"scatter\"},{\"customdata\":[[\"GCH1\\u2022cat-4\"],[\"TH\\u2022cat-2\"]],\"hovertemplate\":\"Class=Dopamine<br>umap_x=%{x}<br>umap_y=%{y}<br>Gene=%{customdata[0]}<extra></extra>\",\"legendgroup\":\"Dopamine\",\"marker\":{\"color\":\"#ab63fa\",\"symbol\":\"circle\"},\"mode\":\"markers\",\"name\":\"Dopamine\",\"orientation\":\"v\",\"showlegend\":true,\"x\":[19.16912269592285,18.93559455871582],\"xaxis\":\"x\",\"y\":[5.100897789001465,4.739404678344727],\"yaxis\":\"y\",\"type\":\"scatter\"},{\"customdata\":[[\"PARK7\\u2022djr-1.1\"]],\"hovertemplate\":\"Class=PARK7/DJ1<br>umap_x=%{x}<br>umap_y=%{y}<br>Gene=%{customdata[0]}<extra></extra>\",\"legendgroup\":\"PARK7/DJ1\",\"marker\":{\"color\":\"#FFA15A\",\"symbol\":\"circle\"},\"mode\":\"markers\",\"name\":\"PARK7/DJ1\",\"orientation\":\"v\",\"showlegend\":true,\"x\":[18.7648983001709],\"xaxis\":\"x\",\"y\":[10.773850440979004],\"yaxis\":\"y\",\"type\":\"scatter\"},{\"customdata\":[[\"PINK1\\u2022pink-1\"]],\"hovertemplate\":\"Class=PARK6/PINK1<br>umap_x=%{x}<br>umap_y=%{y}<br>Gene=%{customdata[0]}<extra></extra>\",\"legendgroup\":\"PARK6/PINK1\",\"marker\":{\"color\":\"#19d3f3\",\"symbol\":\"circle\"},\"mode\":\"markers\",\"name\":\"PARK6/PINK1\",\"orientation\":\"v\",\"showlegend\":true,\"x\":[18.160879135131836],\"xaxis\":\"x\",\"y\":[9.268346786499023],\"yaxis\":\"y\",\"type\":\"scatter\"},{\"customdata\":[[\"VPS35\\u2022vps-35\"]],\"hovertemplate\":\"Class=PARK17/VPS35<br>umap_x=%{x}<br>umap_y=%{y}<br>Gene=%{customdata[0]}<extra></extra>\",\"legendgroup\":\"PARK17/VPS35\",\"marker\":{\"color\":\"#FF6692\",\"symbol\":\"circle\"},\"mode\":\"markers\",\"name\":\"PARK17/VPS35\",\"orientation\":\"v\",\"showlegend\":true,\"x\":[18.59513282775879],\"xaxis\":\"x\",\"y\":[8.35474681854248],\"yaxis\":\"y\",\"type\":\"scatter\"},{\"customdata\":[[\"ATP13A2\\u2022catp-7\"]],\"hovertemplate\":\"Class=PARK9/ATP13A2<br>umap_x=%{x}<br>umap_y=%{y}<br>Gene=%{customdata[0]}<extra></extra>\",\"legendgroup\":\"PARK9/ATP13A2\",\"marker\":{\"color\":\"#B6E880\",\"symbol\":\"circle\"},\"mode\":\"markers\",\"name\":\"PARK9/ATP13A2\",\"orientation\":\"v\",\"showlegend\":true,\"x\":[16.51816749572754],\"xaxis\":\"x\",\"y\":[9.01463794708252],\"yaxis\":\"y\",\"type\":\"scatter\"},{\"customdata\":[[\"SYNJ1\\u2022unc-26\"]],\"hovertemplate\":\"Class=PARK20/SYNJ1<br>umap_x=%{x}<br>umap_y=%{y}<br>Gene=%{customdata[0]}<extra></extra>\",\"legendgroup\":\"PARK20/SYNJ1\",\"marker\":{\"color\":\"#FF97FF\",\"symbol\":\"circle\"},\"mode\":\"markers\",\"name\":\"PARK20/SYNJ1\",\"orientation\":\"v\",\"showlegend\":true,\"x\":[17.28663444519043],\"xaxis\":\"x\",\"y\":[9.210474014282227],\"yaxis\":\"y\",\"type\":\"scatter\"},{\"customdata\":[[\"CHCHD2\\u2022har-1\"]],\"hovertemplate\":\"Class=PARK22/CHCHD2<br>umap_x=%{x}<br>umap_y=%{y}<br>Gene=%{customdata[0]}<extra></extra>\",\"legendgroup\":\"PARK22/CHCHD2\",\"marker\":{\"color\":\"#FECB52\",\"symbol\":\"circle\"},\"mode\":\"markers\",\"name\":\"PARK22/CHCHD2\",\"orientation\":\"v\",\"showlegend\":true,\"x\":[18.130807876586914],\"xaxis\":\"x\",\"y\":[11.208666801452637],\"yaxis\":\"y\",\"type\":\"scatter\"},{\"customdata\":[[\"LRRK2\\u2022lrk-1\"]],\"hovertemplate\":\"Class=PARK8/LRRK2<br>umap_x=%{x}<br>umap_y=%{y}<br>Gene=%{customdata[0]}<extra></extra>\",\"legendgroup\":\"PARK8/LRRK2\",\"marker\":{\"color\":\"#636efa\",\"symbol\":\"circle\"},\"mode\":\"markers\",\"name\":\"PARK8/LRRK2\",\"orientation\":\"v\",\"showlegend\":true,\"x\":[16.675554275512695],\"xaxis\":\"x\",\"y\":[9.63701057434082],\"yaxis\":\"y\",\"type\":\"scatter\"},{\"customdata\":[[\"UCHL1\\u2022ubh-3\"],[\"UCHL1\\u2022ubh-2\"],[\"UCHL1\\u2022ubh-1\"]],\"hovertemplate\":\"Class=PARK5/UCHL1<br>umap_x=%{x}<br>umap_y=%{y}<br>Gene=%{customdata[0]}<extra></extra>\",\"legendgroup\":\"PARK5/UCHL1\",\"marker\":{\"color\":\"#EF553B\",\"symbol\":\"circle\"},\"mode\":\"markers\",\"name\":\"PARK5/UCHL1\",\"orientation\":\"v\",\"showlegend\":true,\"x\":[18.726604461669922,18.52785873413086,18.507551193237305],\"xaxis\":\"x\",\"y\":[10.73823070526123,9.291812896728516,9.31486988067627],\"yaxis\":\"y\",\"type\":\"scatter\"},{\"customdata\":[[\"PLA2G6\\u2022ipla-3\"]],\"hovertemplate\":\"Class=PARK14/PLA2G6<br>umap_x=%{x}<br>umap_y=%{y}<br>Gene=%{customdata[0]}<extra></extra>\",\"legendgroup\":\"PARK14/PLA2G6\",\"marker\":{\"color\":\"#00cc96\",\"symbol\":\"circle\"},\"mode\":\"markers\",\"name\":\"PARK14/PLA2G6\",\"orientation\":\"v\",\"showlegend\":true,\"x\":[17.683801651000977],\"xaxis\":\"x\",\"y\":[8.823280334472656],\"yaxis\":\"y\",\"type\":\"scatter\"},{\"customdata\":[[\"GIGYF2\\u2022gyf-1\"]],\"hovertemplate\":\"Class=PARK11/GIGYF2<br>umap_x=%{x}<br>umap_y=%{y}<br>Gene=%{customdata[0]}<extra></extra>\",\"legendgroup\":\"PARK11/GIGYF2\",\"marker\":{\"color\":\"#ab63fa\",\"symbol\":\"circle\"},\"mode\":\"markers\",\"name\":\"PARK11/GIGYF2\",\"orientation\":\"v\",\"showlegend\":true,\"x\":[17.763713836669922],\"xaxis\":\"x\",\"y\":[9.530130386352539],\"yaxis\":\"y\",\"type\":\"scatter\"},{\"customdata\":[[\"DNAJC13\\u2022rme-8\"]],\"hovertemplate\":\"Class=PARK21/DNAJC13<br>umap_x=%{x}<br>umap_y=%{y}<br>Gene=%{customdata[0]}<extra></extra>\",\"legendgroup\":\"PARK21/DNAJC13\",\"marker\":{\"color\":\"#FFA15A\",\"symbol\":\"circle\"},\"mode\":\"markers\",\"name\":\"PARK21/DNAJC13\",\"orientation\":\"v\",\"showlegend\":true,\"x\":[18.11795425415039],\"xaxis\":\"x\",\"y\":[7.989415645599365],\"yaxis\":\"y\",\"type\":\"scatter\"},{\"customdata\":[[\"EIF4G1\\u2022ifg-1\"]],\"hovertemplate\":\"Class=PARK18/EIF4G1<br>umap_x=%{x}<br>umap_y=%{y}<br>Gene=%{customdata[0]}<extra></extra>\",\"legendgroup\":\"PARK18/EIF4G1\",\"marker\":{\"color\":\"#19d3f3\",\"symbol\":\"circle\"},\"mode\":\"markers\",\"name\":\"PARK18/EIF4G1\",\"orientation\":\"v\",\"showlegend\":true,\"x\":[18.29131507873535],\"xaxis\":\"x\",\"y\":[10.963726043701172],\"yaxis\":\"y\",\"type\":\"scatter\"},{\"customdata\":[[\"DNAJC6\\u2022dnj-25\"]],\"hovertemplate\":\"Class=PARK19/DNAJC6<br>umap_x=%{x}<br>umap_y=%{y}<br>Gene=%{customdata[0]}<extra></extra>\",\"legendgroup\":\"PARK19/DNAJC6\",\"marker\":{\"color\":\"#FF6692\",\"symbol\":\"circle\"},\"mode\":\"markers\",\"name\":\"PARK19/DNAJC6\",\"orientation\":\"v\",\"showlegend\":true,\"x\":[17.42982292175293],\"xaxis\":\"x\",\"y\":[8.756121635437012],\"yaxis\":\"y\",\"type\":\"scatter\"},{\"customdata\":[[\"PSAP\\u2022spp-10\"],[\"PSAP\\u2022spp-8\"]],\"hovertemplate\":\"Class=PARK24/PSAP<br>umap_x=%{x}<br>umap_y=%{y}<br>Gene=%{customdata[0]}<extra></extra>\",\"legendgroup\":\"PARK24/PSAP\",\"marker\":{\"color\":\"#B6E880\",\"symbol\":\"circle\"},\"mode\":\"markers\",\"name\":\"PARK24/PSAP\",\"orientation\":\"v\",\"showlegend\":true,\"x\":[18.866371154785156,19.25452423095703],\"xaxis\":\"x\",\"y\":[9.967571258544922,5.747356414794922],\"yaxis\":\"y\",\"type\":\"scatter\"}],                        {\"template\":{\"data\":{\"histogram2dcontour\":[{\"type\":\"histogram2dcontour\",\"colorbar\":{\"outlinewidth\":0,\"ticks\":\"\"},\"colorscale\":[[0.0,\"#0d0887\"],[0.1111111111111111,\"#46039f\"],[0.2222222222222222,\"#7201a8\"],[0.3333333333333333,\"#9c179e\"],[0.4444444444444444,\"#bd3786\"],[0.5555555555555556,\"#d8576b\"],[0.6666666666666666,\"#ed7953\"],[0.7777777777777778,\"#fb9f3a\"],[0.8888888888888888,\"#fdca26\"],[1.0,\"#f0f921\"]]}],\"choropleth\":[{\"type\":\"choropleth\",\"colorbar\":{\"outlinewidth\":0,\"ticks\":\"\"}}],\"histogram2d\":[{\"type\":\"histogram2d\",\"colorbar\":{\"outlinewidth\":0,\"ticks\":\"\"},\"colorscale\":[[0.0,\"#0d0887\"],[0.1111111111111111,\"#46039f\"],[0.2222222222222222,\"#7201a8\"],[0.3333333333333333,\"#9c179e\"],[0.4444444444444444,\"#bd3786\"],[0.5555555555555556,\"#d8576b\"],[0.6666666666666666,\"#ed7953\"],[0.7777777777777778,\"#fb9f3a\"],[0.8888888888888888,\"#fdca26\"],[1.0,\"#f0f921\"]]}],\"heatmap\":[{\"type\":\"heatmap\",\"colorbar\":{\"outlinewidth\":0,\"ticks\":\"\"},\"colorscale\":[[0.0,\"#0d0887\"],[0.1111111111111111,\"#46039f\"],[0.2222222222222222,\"#7201a8\"],[0.3333333333333333,\"#9c179e\"],[0.4444444444444444,\"#bd3786\"],[0.5555555555555556,\"#d8576b\"],[0.6666666666666666,\"#ed7953\"],[0.7777777777777778,\"#fb9f3a\"],[0.8888888888888888,\"#fdca26\"],[1.0,\"#f0f921\"]]}],\"heatmapgl\":[{\"type\":\"heatmapgl\",\"colorbar\":{\"outlinewidth\":0,\"ticks\":\"\"},\"colorscale\":[[0.0,\"#0d0887\"],[0.1111111111111111,\"#46039f\"],[0.2222222222222222,\"#7201a8\"],[0.3333333333333333,\"#9c179e\"],[0.4444444444444444,\"#bd3786\"],[0.5555555555555556,\"#d8576b\"],[0.6666666666666666,\"#ed7953\"],[0.7777777777777778,\"#fb9f3a\"],[0.8888888888888888,\"#fdca26\"],[1.0,\"#f0f921\"]]}],\"contourcarpet\":[{\"type\":\"contourcarpet\",\"colorbar\":{\"outlinewidth\":0,\"ticks\":\"\"}}],\"contour\":[{\"type\":\"contour\",\"colorbar\":{\"outlinewidth\":0,\"ticks\":\"\"},\"colorscale\":[[0.0,\"#0d0887\"],[0.1111111111111111,\"#46039f\"],[0.2222222222222222,\"#7201a8\"],[0.3333333333333333,\"#9c179e\"],[0.4444444444444444,\"#bd3786\"],[0.5555555555555556,\"#d8576b\"],[0.6666666666666666,\"#ed7953\"],[0.7777777777777778,\"#fb9f3a\"],[0.8888888888888888,\"#fdca26\"],[1.0,\"#f0f921\"]]}],\"surface\":[{\"type\":\"surface\",\"colorbar\":{\"outlinewidth\":0,\"ticks\":\"\"},\"colorscale\":[[0.0,\"#0d0887\"],[0.1111111111111111,\"#46039f\"],[0.2222222222222222,\"#7201a8\"],[0.3333333333333333,\"#9c179e\"],[0.4444444444444444,\"#bd3786\"],[0.5555555555555556,\"#d8576b\"],[0.6666666666666666,\"#ed7953\"],[0.7777777777777778,\"#fb9f3a\"],[0.8888888888888888,\"#fdca26\"],[1.0,\"#f0f921\"]]}],\"mesh3d\":[{\"type\":\"mesh3d\",\"colorbar\":{\"outlinewidth\":0,\"ticks\":\"\"}}],\"scatter\":[{\"fillpattern\":{\"fillmode\":\"overlay\",\"size\":10,\"solidity\":0.2},\"type\":\"scatter\"}],\"parcoords\":[{\"type\":\"parcoords\",\"line\":{\"colorbar\":{\"outlinewidth\":0,\"ticks\":\"\"}}}],\"scatterpolargl\":[{\"type\":\"scatterpolargl\",\"marker\":{\"colorbar\":{\"outlinewidth\":0,\"ticks\":\"\"}}}],\"bar\":[{\"error_x\":{\"color\":\"#2a3f5f\"},\"error_y\":{\"color\":\"#2a3f5f\"},\"marker\":{\"line\":{\"color\":\"#E5ECF6\",\"width\":0.5},\"pattern\":{\"fillmode\":\"overlay\",\"size\":10,\"solidity\":0.2}},\"type\":\"bar\"}],\"scattergeo\":[{\"type\":\"scattergeo\",\"marker\":{\"colorbar\":{\"outlinewidth\":0,\"ticks\":\"\"}}}],\"scatterpolar\":[{\"type\":\"scatterpolar\",\"marker\":{\"colorbar\":{\"outlinewidth\":0,\"ticks\":\"\"}}}],\"histogram\":[{\"marker\":{\"pattern\":{\"fillmode\":\"overlay\",\"size\":10,\"solidity\":0.2}},\"type\":\"histogram\"}],\"scattergl\":[{\"type\":\"scattergl\",\"marker\":{\"colorbar\":{\"outlinewidth\":0,\"ticks\":\"\"}}}],\"scatter3d\":[{\"type\":\"scatter3d\",\"line\":{\"colorbar\":{\"outlinewidth\":0,\"ticks\":\"\"}},\"marker\":{\"colorbar\":{\"outlinewidth\":0,\"ticks\":\"\"}}}],\"scattermapbox\":[{\"type\":\"scattermapbox\",\"marker\":{\"colorbar\":{\"outlinewidth\":0,\"ticks\":\"\"}}}],\"scatterternary\":[{\"type\":\"scatterternary\",\"marker\":{\"colorbar\":{\"outlinewidth\":0,\"ticks\":\"\"}}}],\"scattercarpet\":[{\"type\":\"scattercarpet\",\"marker\":{\"colorbar\":{\"outlinewidth\":0,\"ticks\":\"\"}}}],\"carpet\":[{\"aaxis\":{\"endlinecolor\":\"#2a3f5f\",\"gridcolor\":\"white\",\"linecolor\":\"white\",\"minorgridcolor\":\"white\",\"startlinecolor\":\"#2a3f5f\"},\"baxis\":{\"endlinecolor\":\"#2a3f5f\",\"gridcolor\":\"white\",\"linecolor\":\"white\",\"minorgridcolor\":\"white\",\"startlinecolor\":\"#2a3f5f\"},\"type\":\"carpet\"}],\"table\":[{\"cells\":{\"fill\":{\"color\":\"#EBF0F8\"},\"line\":{\"color\":\"white\"}},\"header\":{\"fill\":{\"color\":\"#C8D4E3\"},\"line\":{\"color\":\"white\"}},\"type\":\"table\"}],\"barpolar\":[{\"marker\":{\"line\":{\"color\":\"#E5ECF6\",\"width\":0.5},\"pattern\":{\"fillmode\":\"overlay\",\"size\":10,\"solidity\":0.2}},\"type\":\"barpolar\"}],\"pie\":[{\"automargin\":true,\"type\":\"pie\"}]},\"layout\":{\"autotypenumbers\":\"strict\",\"colorway\":[\"#636efa\",\"#EF553B\",\"#00cc96\",\"#ab63fa\",\"#FFA15A\",\"#19d3f3\",\"#FF6692\",\"#B6E880\",\"#FF97FF\",\"#FECB52\"],\"font\":{\"color\":\"#2a3f5f\"},\"hovermode\":\"closest\",\"hoverlabel\":{\"align\":\"left\"},\"paper_bgcolor\":\"white\",\"plot_bgcolor\":\"#E5ECF6\",\"polar\":{\"bgcolor\":\"#E5ECF6\",\"angularaxis\":{\"gridcolor\":\"white\",\"linecolor\":\"white\",\"ticks\":\"\"},\"radialaxis\":{\"gridcolor\":\"white\",\"linecolor\":\"white\",\"ticks\":\"\"}},\"ternary\":{\"bgcolor\":\"#E5ECF6\",\"aaxis\":{\"gridcolor\":\"white\",\"linecolor\":\"white\",\"ticks\":\"\"},\"baxis\":{\"gridcolor\":\"white\",\"linecolor\":\"white\",\"ticks\":\"\"},\"caxis\":{\"gridcolor\":\"white\",\"linecolor\":\"white\",\"ticks\":\"\"}},\"coloraxis\":{\"colorbar\":{\"outlinewidth\":0,\"ticks\":\"\"}},\"colorscale\":{\"sequential\":[[0.0,\"#0d0887\"],[0.1111111111111111,\"#46039f\"],[0.2222222222222222,\"#7201a8\"],[0.3333333333333333,\"#9c179e\"],[0.4444444444444444,\"#bd3786\"],[0.5555555555555556,\"#d8576b\"],[0.6666666666666666,\"#ed7953\"],[0.7777777777777778,\"#fb9f3a\"],[0.8888888888888888,\"#fdca26\"],[1.0,\"#f0f921\"]],\"sequentialminus\":[[0.0,\"#0d0887\"],[0.1111111111111111,\"#46039f\"],[0.2222222222222222,\"#7201a8\"],[0.3333333333333333,\"#9c179e\"],[0.4444444444444444,\"#bd3786\"],[0.5555555555555556,\"#d8576b\"],[0.6666666666666666,\"#ed7953\"],[0.7777777777777778,\"#fb9f3a\"],[0.8888888888888888,\"#fdca26\"],[1.0,\"#f0f921\"]],\"diverging\":[[0,\"#8e0152\"],[0.1,\"#c51b7d\"],[0.2,\"#de77ae\"],[0.3,\"#f1b6da\"],[0.4,\"#fde0ef\"],[0.5,\"#f7f7f7\"],[0.6,\"#e6f5d0\"],[0.7,\"#b8e186\"],[0.8,\"#7fbc41\"],[0.9,\"#4d9221\"],[1,\"#276419\"]]},\"xaxis\":{\"gridcolor\":\"white\",\"linecolor\":\"white\",\"ticks\":\"\",\"title\":{\"standoff\":15},\"zerolinecolor\":\"white\",\"automargin\":true,\"zerolinewidth\":2},\"yaxis\":{\"gridcolor\":\"white\",\"linecolor\":\"white\",\"ticks\":\"\",\"title\":{\"standoff\":15},\"zerolinecolor\":\"white\",\"automargin\":true,\"zerolinewidth\":2},\"scene\":{\"xaxis\":{\"backgroundcolor\":\"#E5ECF6\",\"gridcolor\":\"white\",\"linecolor\":\"white\",\"showbackground\":true,\"ticks\":\"\",\"zerolinecolor\":\"white\",\"gridwidth\":2},\"yaxis\":{\"backgroundcolor\":\"#E5ECF6\",\"gridcolor\":\"white\",\"linecolor\":\"white\",\"showbackground\":true,\"ticks\":\"\",\"zerolinecolor\":\"white\",\"gridwidth\":2},\"zaxis\":{\"backgroundcolor\":\"#E5ECF6\",\"gridcolor\":\"white\",\"linecolor\":\"white\",\"showbackground\":true,\"ticks\":\"\",\"zerolinecolor\":\"white\",\"gridwidth\":2}},\"shapedefaults\":{\"line\":{\"color\":\"#2a3f5f\"}},\"annotationdefaults\":{\"arrowcolor\":\"#2a3f5f\",\"arrowhead\":0,\"arrowwidth\":1},\"geo\":{\"bgcolor\":\"white\",\"landcolor\":\"#E5ECF6\",\"subunitcolor\":\"white\",\"showland\":true,\"showlakes\":true,\"lakecolor\":\"white\"},\"title\":{\"x\":0.05},\"mapbox\":{\"style\":\"light\"}}},\"xaxis\":{\"anchor\":\"y\",\"domain\":[0.0,1.0],\"title\":{\"text\":\"umap_x\"}},\"yaxis\":{\"anchor\":\"x\",\"domain\":[0.0,1.0],\"title\":{\"text\":\"umap_y\"}},\"legend\":{\"title\":{\"text\":\"Class\"},\"tracegroupgap\":0},\"margin\":{\"t\":60}},                        {\"responsive\": true}                    ).then(function(){\n",
       "                            \n",
       "var gd = document.getElementById('1691945c-cf60-4de0-b807-609e7960cc6c');\n",
       "var x = new MutationObserver(function (mutations, observer) {{\n",
       "        var display = window.getComputedStyle(gd).display;\n",
       "        if (!display || display === 'none') {{\n",
       "            console.log([gd, 'removed!']);\n",
       "            Plotly.purge(gd);\n",
       "            observer.disconnect();\n",
       "        }}\n",
       "}});\n",
       "\n",
       "// Listen for the removal of the full notebook cells\n",
       "var notebookContainer = gd.closest('#notebook-container');\n",
       "if (notebookContainer) {{\n",
       "    x.observe(notebookContainer, {childList: true});\n",
       "}}\n",
       "\n",
       "// Listen for the clearing of the current output cell\n",
       "var outputEl = gd.closest('.output');\n",
       "if (outputEl) {{\n",
       "    x.observe(outputEl, {childList: true});\n",
       "}}\n",
       "\n",
       "                        })                };                });            </script>        </div>"
      ]
     },
     "metadata": {},
     "output_type": "display_data"
    }
   ],
   "source": [
    "fig=px.scatter(merged_df,x='umap_x',y='umap_y',hover_data=['Gene'], color='Class')\n",
    "fig.show()"
   ]
  },
  {
   "cell_type": "code",
   "execution_count": null,
   "metadata": {},
   "outputs": [],
   "source": []
  }
 ],
 "metadata": {
  "kernelspec": {
   "display_name": "Python 3 (ipykernel)",
   "language": "python",
   "name": "python3"
  },
  "language_info": {
   "codemirror_mode": {
    "name": "ipython",
    "version": 3
   },
   "file_extension": ".py",
   "mimetype": "text/x-python",
   "name": "python",
   "nbconvert_exporter": "python",
   "pygments_lexer": "ipython3",
   "version": "3.11.1"
  }
 },
 "nbformat": 4,
 "nbformat_minor": 4
}
