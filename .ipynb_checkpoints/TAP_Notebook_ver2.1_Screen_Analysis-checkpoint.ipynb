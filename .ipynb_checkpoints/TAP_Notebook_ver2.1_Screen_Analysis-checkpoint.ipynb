{
 "cells": [
  {
   "cell_type": "markdown",
   "metadata": {},
   "source": [
    "# Jupyter Notebook UI to graph your TAP data!\n",
    "\n",
    "Version 1.7 - Joseph Liang, Rankin Lab\n",
    "Updated:\n",
    "1. Upgraded folder path selection application\n",
    "2. Upgraded dataset management (less moving parts for end-user)\n",
    "3. output changed from tif -> png\n",
    "4. Added tap-correction function for missing taps (should be working now)\n",
    "5. Added plate column to evaluate plate-discrepancies\n",
    "6. Added separate graphing function for plate-discrepancies\n",
    "7. Added colour palette-setting function\n",
    "\n",
    "## Known bug: Step 2 an empty windows displays in Mac. May also apply to linux/windows.\n",
    "\n",
    "## Beginner Essentials:\n",
    "1. Shift-Enter to run each cell. After you run, you should see an output \"done step #\". If not, an error has occured\n",
    "2. When inputting your own code/revising the code, make sure you close all your quotation marks '' and brackets (), [], {}.\n",
    "3. Don't leave any commas (,) hanging! (make sure an object always follows a comma. If there is nothing after a comma, remove the comma!\n",
    "4. Learning to code? Each line of code is annotated to help you understand how this code works!\n",
    "\n",
    "## 3. Run all cells/steps sequentially, even the ones that do not need input\n",
    "\n",
    "## Steps that require input: #3, #6.1, #7"
   ]
  },
  {
   "cell_type": "markdown",
   "metadata": {},
   "source": [
    "# 1. Importing Packages Required (No input required, just run)"
   ]
  },
  {
   "cell_type": "code",
   "execution_count": 1,
   "metadata": {},
   "outputs": [
    {
     "name": "stdout",
     "output_type": "stream",
     "text": [
      "done step 1\n"
     ]
    }
   ],
   "source": [
    "import pandas as pd #<- package used to import and organize data\n",
    "import numpy as np #<- package used to import and organize data\n",
    "import math\n",
    "import os #<- package used to work with system file paths\n",
    "import seaborn as sns #<- package used to plot graphs\n",
    "from matplotlib import pyplot as plt #<- another package used to plot graphs\n",
    "from itertools import cycle #<- package used to iterate down rows (used in step 5 to add tap column)\n",
    "import ipywidgets as widgets #<- widget tool to generate button and tab for graphs\n",
    "from IPython.display import display #<- displays widgets\n",
    "from tkinter import Tk, filedialog #<- Tkinter is a GUI package\n",
    "print(\"done step 1\")"
   ]
  },
  {
   "cell_type": "markdown",
   "metadata": {},
   "source": [
    "# 2. Pick filepath (just run and click button from output)\n",
    "\n",
    "Run the following cell and click the button 'Select Folder' to pick a filepath.\n",
    "\n",
    "## Important: Later on, this script uses the total file path for each file to import and group data. That means if your folder has whatever your strain is named, the script will not work.\n",
    "\n",
    "(ex. if your folder has \"N2\" in it this script sees all files inside this folder as having the \"N2\" search key)\n",
    "\n",
    "## An easy fix is to just rename your folder to something else (make your strains lower-case, or just have the date)"
   ]
  },
  {
   "cell_type": "code",
   "execution_count": 2,
   "metadata": {},
   "outputs": [
    {
     "data": {
      "application/vnd.jupyter.widget-view+json": {
       "model_id": "27fc5657730d44bfb0c0df31b23715a3",
       "version_major": 2,
       "version_minor": 0
      },
      "text/plain": [
       "Button(description='Select Folder', style=ButtonStyle())"
      ]
     },
     "metadata": {},
     "output_type": "display_data"
    },
    {
     "name": "stdout",
     "output_type": "stream",
     "text": [
      "/Volumes/JOSEPH/PD_Screen\n",
      "done step 2\n"
     ]
    }
   ],
   "source": [
    "### Select Folder App - After you run, you can select your folder for filepath\n",
    "button = widgets.Button(description = 'Select Folder') #<- Creates a button variable\n",
    "display(button) #<- displays this button on output\n",
    "def select_folder(b): #<- This is an action. Requires a variable, so I put in an arbitrary one 'b'\n",
    "    global folder_path #<- sets a variable as a global variable, not just within this action\n",
    "    Tk().withdraw() #<- Tkinter likes to create annoying empty windows. This removes them\n",
    "    folder_path = filedialog.askdirectory() #<- Opens up a file explorer window, and determines folder path\n",
    "    Tk().update()#<- below\n",
    "    Tk().destroy()#<- this and the line above it removes the file explorer window after a selection is made\n",
    "    print(folder_path) #<- this helps confirm that this action was performed\n",
    "    print('done step 2')\n",
    "button.on_click(select_folder) #<- describes what happens when you click on this button"
   ]
  },
  {
   "cell_type": "markdown",
   "metadata": {},
   "source": [
    "# 3. User Defined Variables (Add input here)\n",
    "\n",
    "Here, we add some constants to help you blaze through this code.\n",
    "\n",
    "3.1: Number of taps is pretty self-explanatory. How any taps does your experiment have? put in that number + 1 (N+1)!\n",
    "\n",
    "This may be a bit confusing, but this is due to some coding syntax that you don't have to worry about.\n",
    "\n",
    "3.2: Change your ISI number. This will be reflected in the name/title of the output figure."
   ]
  },
  {
   "cell_type": "code",
   "execution_count": 3,
   "metadata": {
    "scrolled": true
   },
   "outputs": [
    {
     "name": "stdout",
     "output_type": "stream",
     "text": [
      "[(1, (599, 601)), (2, (609, 611)), (3, (619, 621)), (4, (629, 631)), (5, (639, 641)), (6, (649, 651)), (7, (659, 661)), (8, (669, 671)), (9, (679, 681)), (10, (689, 691)), (11, (699, 701)), (12, (709, 711)), (13, (719, 721)), (14, (729, 731)), (15, (739, 741)), (16, (749, 751)), (17, (759, 761)), (18, (769, 771)), (19, (779, 781)), (20, (789, 791)), (21, (799, 801)), (22, (809, 811)), (23, (819, 821)), (24, (829, 831)), (25, (839, 841)), (26, (849, 851)), (27, (859, 861)), (28, (869, 871)), (29, (879, 881)), (30, (889, 891)), (31, (1188, 1191))]\n",
      "tap 1 tolerance=(599, 601)\n",
      "tap 2 tolerance=(609, 611)\n",
      "tap 3 tolerance=(619, 621)\n",
      "tap 4 tolerance=(629, 631)\n",
      "tap 5 tolerance=(639, 641)\n",
      "tap 6 tolerance=(649, 651)\n",
      "tap 7 tolerance=(659, 661)\n",
      "tap 8 tolerance=(669, 671)\n",
      "tap 9 tolerance=(679, 681)\n",
      "tap 10 tolerance=(689, 691)\n",
      "tap 11 tolerance=(699, 701)\n",
      "tap 12 tolerance=(709, 711)\n",
      "tap 13 tolerance=(719, 721)\n",
      "tap 14 tolerance=(729, 731)\n",
      "tap 15 tolerance=(739, 741)\n",
      "tap 16 tolerance=(749, 751)\n",
      "tap 17 tolerance=(759, 761)\n",
      "tap 18 tolerance=(769, 771)\n",
      "tap 19 tolerance=(779, 781)\n",
      "tap 20 tolerance=(789, 791)\n",
      "tap 21 tolerance=(799, 801)\n",
      "tap 22 tolerance=(809, 811)\n",
      "tap 23 tolerance=(819, 821)\n",
      "tap 24 tolerance=(829, 831)\n",
      "tap 25 tolerance=(839, 841)\n",
      "tap 26 tolerance=(849, 851)\n",
      "tap 27 tolerance=(859, 861)\n",
      "tap 28 tolerance=(869, 871)\n",
      "tap 29 tolerance=(879, 881)\n",
      "tap 30 tolerance=(889, 891)\n",
      "tap 31 tolerance=(1188, 1191)\n",
      "done step 3\n"
     ]
    }
   ],
   "source": [
    "\n",
    "number_of_taps = 30 ###<------ Taps in your experiment.\n",
    "\n",
    "number_taps = range(1, number_of_taps + 1)  #<- do not change this\n",
    "\n",
    "\n",
    "# if you have different ISIs in the same folder, then come back and change this \n",
    "# when you are graphing for the second set of data with the other ISI \n",
    "# (Generally data from same ISIs are graphed together)\n",
    "# If changing ISI mid-analysis, you can just skip straight to step 8 after running this cell again\n",
    "\n",
    "ISI = 10  ### <- What is your ISI? change accordingly\n",
    "first_tap = 600 ### <- when is your first tap? check your TRV files\n",
    "\n",
    "#Here, open up one of the trv files to determine the times for each of these taps. \n",
    "lower = np.arange(first_tap-1, first_tap-1+(number_of_taps*ISI), ISI) #(first tap, last tap+10s, ISI)\n",
    "upper = np.arange(first_tap+1, first_tap+1+(number_of_taps*ISI), ISI) #(first tap, last tap+10s, ISI)\n",
    "tolerances = list(zip(lower, upper)) \n",
    "taps = [i for i in range(1,number_of_taps+1)]\n",
    "\n",
    "#### Add 31st Tap Here --------------------------------------------------<------------\n",
    "tolerances.append((1188,1191))\n",
    "taps.append(31)\n",
    "\n",
    "\n",
    "#assign each tolerance to a tap number\n",
    "accurate_taps = list((zip(taps, tolerances)))\n",
    "print(accurate_taps)\n",
    "\n",
    "for pair in accurate_taps:\n",
    "   tap = pair[0]\n",
    "   tolerance = pair[1]\n",
    "   print(\"tap \"+str(tap), \"tolerance=\"+str(tolerance))\n",
    "\n",
    "print(\"done step 3\")"
   ]
  },
  {
   "cell_type": "markdown",
   "metadata": {},
   "source": [
    "# 4. Constructing Filelist From Source File/Select File (Just run)"
   ]
  },
  {
   "cell_type": "code",
   "execution_count": 4,
   "metadata": {},
   "outputs": [
    {
     "name": "stdout",
     "output_type": "stream",
     "text": [
      "['/Volumes/JOSEPH/PD_Screen/bas-1_tm351/20220809_103216/LC33_10x2_f72h20C_600s31x10s10s_B0809db.trv', '/Volumes/JOSEPH/PD_Screen/bas-1_tm351/20220809_104010/LC33_10x2_f96h20C_600s31x10s10s_A0809da.trv', '/Volumes/JOSEPH/PD_Screen/bas-1_tm351/20220809_105433/LC33_10x2_f72h20C_600s31x10s10s_C0809dc.trv', '/Volumes/JOSEPH/PD_Screen/bas-1_tm351/20220809_123426/LC33_10x2_f72h20C_600s31x10s10s_B0809de.trv', '/Volumes/JOSEPH/PD_Screen/bas-1_tm351/20220809_124913/LC33_10x2_f96h20C_600s31x10s10s_A0809dd.trv', '/Volumes/JOSEPH/PD_Screen/cpr-5_ok2344/20220820_181311/RB1810_10x2_f96h20C_600s31x10s10s_A0816dd.trv', '/Volumes/JOSEPH/PD_Screen/cpr-5_ok2344/20220820_164429/RB1810_10x2_f72h20C_600s31x10s10s_C0816dc.trv', '/Volumes/JOSEPH/PD_Screen/cpr-5_ok2344/20220820_164947/RB1810_10x2_f96h20C_600s31x10s10s_A0816da.trv', '/Volumes/JOSEPH/PD_Screen/cpr-5_ok2344/20220820_175626/RB1810_10x2_f72h20C_600s31x10s10s_B0816de.trv', '/Volumes/JOSEPH/PD_Screen/cpr-5_ok2344/20220820_163252/RB1810_10x2_f72h20C_600s31x10s10s_B0816db.trv', '/Volumes/JOSEPH/PD_Screen/cat-1_e1111/20220725_110611/E1111_10x2_f72h20C_600s31x10s10s_C0721dc.trv', '/Volumes/JOSEPH/PD_Screen/cat-1_e1111/20220725_123540/E1111_10x2_f72h20C_600s31x10s10s_B0721de.trv', '/Volumes/JOSEPH/PD_Screen/cat-1_e1111/20220725_105117/E1111_10x2_f72h20C_600s31x10s10s_B0721db.trv', '/Volumes/JOSEPH/PD_Screen/cat-1_e1111/20220725_105933/E1111_10x2_f96h20C_600s30x10s10s_A0721da.trv', '/Volumes/JOSEPH/PD_Screen/cat-1_e1111/20220725_124939/E1111_10x2_f96h20C_600s30x10s10s_A0721dd.trv', '/Volumes/JOSEPH/PD_Screen/tag-138_gk247/20220820_160244/VC474_10x2_f72h20C_600s31x10s10s_C0816bb.trv', '/Volumes/JOSEPH/PD_Screen/tag-138_gk247/20220820_173141/VC474_10x2_f96h20C_600s31x10s10s_A0816bc.trv', '/Volumes/JOSEPH/PD_Screen/tag-138_gk247/20220820_171436/VC474_10x2_f72h20C_600s31x10s10s_B0816bd.trv', '/Volumes/JOSEPH/PD_Screen/tag-138_gk247/20220820_155043/VC474_10x2_f72h20C_600s31x10s10s_B0816ba.trv', '/Volumes/JOSEPH/PD_Screen/tag-138_gk247/20220820_172613/VC474_10x2_f72h20C_600s31x10s10s_C0816be.trv', '/Volumes/JOSEPH/PD_Screen/cat-1_ok411/20220511_200145/RB681_10x2_f72h20C_600s31x10s10s_B0507ed.trv', '/Volumes/JOSEPH/PD_Screen/cat-1_ok411/20220511_181739/RB681_10x2_f72h20C_600s31x10s10s_B0507ea.trv', '/Volumes/JOSEPH/PD_Screen/cat-1_ok411/20220511_191217/RB681_10x2_f72h20C_600s31x10s10s_C0507ec.trv', '/Volumes/JOSEPH/PD_Screen/cat-1_ok411/20220511_193434_babies/RB681_10x2_f96h20C_600s30x10s10s_A0507eb.trv', '/Volumes/JOSEPH/PD_Screen/cat-1_ok411/20220511_211836/RB681_10x2_f96h20C_600s30x10s10s_A0507ee.trv', '/Volumes/JOSEPH/PD_Screen/gck-3_tm1296/20220820_113436/EV232_10x2_f72h20C_600s31x10s10s_C0816bb.trv', '/Volumes/JOSEPH/PD_Screen/gck-3_tm1296/20220820_131341/EV232_10x2_f72h20C_600s31x10s10s_C0816be.trv', '/Volumes/JOSEPH/PD_Screen/gck-3_tm1296/20220820_131856/EV232_10x2_f96h20C_600s31x10s10s_A0816bc.trv', '/Volumes/JOSEPH/PD_Screen/gck-3_tm1296/20220820_130218/EV232_10x2_f72h20C_600s31x10s10s_B0816bd.trv', '/Volumes/JOSEPH/PD_Screen/cat-2_e1112/20220510_190557/CB1112_10x2_f72h20C_600s31x10s10s_B0506cb.trv', '/Volumes/JOSEPH/PD_Screen/cat-2_e1112/20220510_205607/CB1112_10x2_f72h20C_600s31x10s10s_B0506ce.trv', '/Volumes/JOSEPH/PD_Screen/cat-2_e1112/20220510_180925/CB1112_10x2_f72h20C_600s31x10s10s_C0506ca.trv', '/Volumes/JOSEPH/PD_Screen/cat-2_e1112/20220510_200412/CB1112_10x2_f72h20C_600s31x10s10s_C0506cd.trv', '/Volumes/JOSEPH/PD_Screen/cat-2_e1112/20220510_202529/CB1112_10x2_f96h20C_600s30x10s10s_A0506cc.trv', '/Volumes/JOSEPH/PD_Screen/sac-2_ok2743/20220820_122202/RB2077_10x2_f96h20C_600s31x10s10s_A0816da.trv', '/Volumes/JOSEPH/PD_Screen/sac-2_ok2743/20220820_122017/RB2077_10x2_f72h20C_600s31x10s10s_B0816db.trv', '/Volumes/JOSEPH/PD_Screen/sac-2_ok2743/20220820_123127/RB2077_10x2_f72h20C_600s31x10s10s_C0816dc.trv', '/Volumes/JOSEPH/PD_Screen/sac-2_ok2743/20220820_140045/RB2077_10x2_f96h20C_600s31x10s10s_A0816dd.trv', '/Volumes/JOSEPH/PD_Screen/sac-2_ok2743/20220820_134401/RB2077_10x2_f72h20C_600s31x10s10s_B0816de.trv', '/Volumes/JOSEPH/PD_Screen/cat-2_n4547/20220510_181819/MT15620_10x2_f72h20C_600s31x10s10s_B0506ba.trv', '/Volumes/JOSEPH/PD_Screen/cat-2_n4547/20220510_201238/MT15620_10x2_f72h20C_600s31x10s10s_B0506bd.trv', '/Volumes/JOSEPH/PD_Screen/cat-2_n4547/20220510_191913/MT15620_10x2_f72h20C_600s31x10s10s_C0506bc.trv', '/Volumes/JOSEPH/PD_Screen/cat-2_n4547/20220510_194102/MT15620_10x2_f96h20C_600s30x10s10s_A0506bb.trv', '/Volumes/JOSEPH/PD_Screen/cat-2_n4547/20220510_213039/MT15620_10x2_f96h20C_600s30x10s10s_A0506be.trv', '/Volumes/JOSEPH/PD_Screen/cat-2_tm2261/20220510_195051/FX17845_10x2_f72h20C_600s31x10s10s_B0506dc.trv', '/Volumes/JOSEPH/PD_Screen/cat-2_tm2261/20220510_185808/FX17845_10x2_f72h20C_600s31x10s10s_C0506db.trv', '/Volumes/JOSEPH/PD_Screen/cat-2_tm2261/20220510_204742/FX17845_10x2_f72h20C_600s31x10s10s_C0506de.trv', '/Volumes/JOSEPH/PD_Screen/cat-2_tm2261/20220510_191916/FX17845_10x2_f96h20C_600s30x10s10s_A0506da.trv', '/Volumes/JOSEPH/PD_Screen/cat-2_tm2261/20220510_210847/FX17845_10x2_f96h20C_600s30x10s10s_A0506dd.trv', '/Volumes/JOSEPH/PD_Screen/cpr-1_ok1344/20220524_103040/RB1262_10x2_f72h20C_600s31x10s10s_B0520ba.trv', '/Volumes/JOSEPH/PD_Screen/cpr-1_ok1344/20220524_122029/RB1262_10x2_f72h20C_600s31x10s10s_B0520bd.trv', '/Volumes/JOSEPH/PD_Screen/cpr-1_ok1344/20220524_123250/RB1262_10x2_f96h20C_600s30x10s10s_A0520bc.trv', '/Volumes/JOSEPH/PD_Screen/cpr-1_ok1344/20220524_123505/RB1262_10x2_f72h20C_600s31x10s10s_C0520be.trv', '/Volumes/JOSEPH/PD_Screen/cpr-1_ok1344/20220524_104829/RB1262_10x2_f72h20C_600s31x10s10s_C0520bb.trv', '/Volumes/JOSEPH/PD_Screen/dat-1_ok157/20220510_203346/RM2702_10x2_f72h20C_600s31x10s10s_B0506ed.trv', '/Volumes/JOSEPH/PD_Screen/dat-1_ok157/20220510_184407/RM2702_10x2_f72h20C_600s31x10s10s_B0506ea.trv', '/Volumes/JOSEPH/PD_Screen/dat-1_ok157/20220510_194231/RM2702_10x2_f72h20C_600s31x10s10s_C0506ec.trv', '/Volumes/JOSEPH/PD_Screen/dat-1_ok157/20220510_200156/RM2702_10x2_f96h20C_600s30x10s10s_A0506eb.trv', '/Volumes/JOSEPH/PD_Screen/dat-1_ok157/20220510_215121/RM2702_10x2_f96h20C_600s30x10s10s_A0506ee.trv', '/Volumes/JOSEPH/PD_Screen/djr-1.2_tm1346/20220627_100406/TM1346_10x2_f72h20C_600s31x10s10s_C0623ca.trv', '/Volumes/JOSEPH/PD_Screen/djr-1.2_tm1346/20220627_121921/TM1346_10x2_f72h20C_600s31x10s10s_C0623cd.trv', '/Volumes/JOSEPH/PD_Screen/djr-1.2_tm1346/20220627_110836/TM1346_10x2_f72h20C_600s31x10s10s_B0623cb.trv', '/Volumes/JOSEPH/PD_Screen/djr-1.2_tm1346/20220627_133646/TM1346_10x2_f72h20C_600s31x10s10s_B0623ce.trv', '/Volumes/JOSEPH/PD_Screen/djr-1.2_tm1346/20220627_123917/TM1346_10x2_f96h20C_600s30x10s10s_A0623cc.trv', '/Volumes/JOSEPH/PD_Screen/dop-1_vs101/20220513_133207/LX636_10x2_f72h20C_600s31x10s10s_B0509dc.trv', '/Volumes/JOSEPH/PD_Screen/dop-1_vs101/20220513_123554/LX636_10x2_f72h20C_600s31x10s10s_C0509db.trv', '/Volumes/JOSEPH/PD_Screen/dop-1_vs101/20220513_144448/LX636_10x2_f72h20C_600s31x10s10s_C0509de.trv', '/Volumes/JOSEPH/PD_Screen/dop-1_vs101/20220513_125759/LX636_10x2_f96h20C_600s30x10s10s_A0509da.trv', '/Volumes/JOSEPH/PD_Screen/dop-1_vs101/20220513_150434/LX636_10x2_f96h20C_600s30x10s10s_A0509dd.trv', '/Volumes/JOSEPH/PD_Screen/dop-3_ok295/20220513_122149/BZ873_10x2_f72h20C_600s31x10s10s_B0509ea.trv', '/Volumes/JOSEPH/PD_Screen/dop-3_ok295/20220513_142826/BZ873_10x2_f72h20C_600s31x10s10s_B0509ed.trv', '/Volumes/JOSEPH/PD_Screen/dop-3_ok295/20220513_132223/BZ873_10x2_f72h20C_600s31x10s10s_C0509ec.trv', '/Volumes/JOSEPH/PD_Screen/dop-3_ok295/20220513_134516/BZ873_10x2_f96h20C_600s30x10s10s_A0509eb.trv', '/Volumes/JOSEPH/PD_Screen/dop-3_ok295/20220513_155148/BZ873_10x2_f96h20C_600s30x10s10s_A0509ee.trv', '/Volumes/JOSEPH/PD_Screen/dpy-22_e652/20220725_101126/E652_10x2_f72h20C_600s31x10s10s_C0721bb.trv', '/Volumes/JOSEPH/PD_Screen/dpy-22_e652/20220725_120131/E652_10x2_f72h20C_600s31x10s10s_C0721be.trv', '/Volumes/JOSEPH/PD_Screen/dpy-22_e652/20220725_114415/E652_10x2_f72h20C_600s31x10s10s_B0721bd.trv', '/Volumes/JOSEPH/PD_Screen/dpy-22_e652/20220725_095335/E652_10x2_f72h20C_600s31x10s10s_B0721ba.trv', '/Volumes/JOSEPH/PD_Screen/dpy-22_e652/20220725_115415/E652_10x2_f96h20C_600s30x10s10s_A0721bc.trv', '/Volumes/JOSEPH/PD_Screen/dpy-22_sy622/20220627_104042/SY622_10x2_f72h20C_600s31x10s10s_B0623ea.trv', '/Volumes/JOSEPH/PD_Screen/dpy-22_sy622/20220627_115234/PS4087_10x2_f72h20C_600s31x10s10s_C0623ec.trv', '/Volumes/JOSEPH/PD_Screen/dpy-22_sy622/20220627_121337/PS4087_10x2_f96h20C_600s30x10s10s_A0623eb.trv', '/Volumes/JOSEPH/PD_Screen/dpy-22_sy622/20220627_131006/PS4087_10x2_f72h20C_600s31x10s10s_B0623ed.trv', '/Volumes/JOSEPH/PD_Screen/dpy-22_sy622/20220627_144944/PS4087_10x2_f96h20C_600s30x10s10s_A0623ee.trv', '/Volumes/JOSEPH/PD_Screen/dpy-22_tm12356/20220806_143025/FX31749_10x2_f72h20C_600s31x10s10s_C0802ca.trv', '/Volumes/JOSEPH/PD_Screen/dpy-22_tm12356/20220806_154417/FX31749_10x2_f72h20C_600s31x10s10s_B0802cc.trv', '/Volumes/JOSEPH/PD_Screen/dpy-22_tm12356/20220806_160021/FX31749_10x2_f96h20C_600s31x10s10s_A0802cb.trv', '/Volumes/JOSEPH/PD_Screen/dpy-22_tm12356/20220806_160501/FX31749_10x2_f72h20C_600s31x10s10s_B0802cd.trv', '/Volumes/JOSEPH/PD_Screen/dpy-22_tm12356/20220806_170345/FX31749_10x2_f96h20C_600s31x10s10s_A0802ce.trv', '/Volumes/JOSEPH/PD_Screen/F53B2.5_ok226/20220524_141642/ZE1_10x2_f72h20C_600s31x10s10s_B0520ba.trv', '/Volumes/JOSEPH/PD_Screen/F53B2.5_ok226/20220524_160812/ZE1_10x2_f72h20C_600s31x10s10s_B0520bd.trv', '/Volumes/JOSEPH/PD_Screen/F53B2.5_ok226/20220524_171947/ZE1_10x2_f96h20C_600s30x10s10s_A0520be.trv', '/Volumes/JOSEPH/PD_Screen/F53B2.5_ok226/20220524_161221/ZE1_10x2_f96h20C_600s30x10s10s_A0520bc.trv', '/Volumes/JOSEPH/PD_Screen/F53B2.5_ok226/20220524_143039/ZE1_10x2_f72h20C_600s31x10s10s_C0520bb.trv', '/Volumes/JOSEPH/PD_Screen/gba-3_gk3287/20220524_115629/VC3135_10x2_f72h20C_600s31x10s10s_B0520cc.trv', '/Volumes/JOSEPH/PD_Screen/gba-3_gk3287/20220524_120155/VC3135_10x2_f96h20C_600s30x10s10s_A0520cb.trv', '/Volumes/JOSEPH/PD_Screen/gba-3_gk3287/20220524_134314/VC3135_10x2_f96h20C_600s30x10s10s_A0520ce.trv', '/Volumes/JOSEPH/PD_Screen/gba-3_gk3287/20220524_102050/VC3135_10x2_f72h20C_600s31x10s10s_C0520ca.trv', '/Volumes/JOSEPH/PD_Screen/gba-3_gk3287/20220524_121047/VC3135_10x2_f72h20C_600s31x10s10s_C0520cd.trv', '/Volumes/JOSEPH/PD_Screen/gba-3_tm3302/20220808_095158/TM3302_10x2_f72h20C_600s31x10s10s_B0804ba.trv', '/Volumes/JOSEPH/PD_Screen/gba-3_tm3302/20220808_103540/TM3302_10x2_f72h20C_600s31x10s10s_C0804bc.trv', '/Volumes/JOSEPH/PD_Screen/gba-3_tm3302/20220808_105848/TM3302_10x2_f96h20C_600s31x10s10s_A0804bb.trv', '/Volumes/JOSEPH/PD_Screen/gba-3_tm3302/20220808_111234/TM3302_10x2_f72h20C_600s31x10s10s_B0804bd.trv', '/Volumes/JOSEPH/PD_Screen/glo-1_tm3240/20220726_165510/FX16792_10x2_f96h20C_600s30x10s10s_A0726bb.trv', '/Volumes/JOSEPH/PD_Screen/glo-1_tm3240/20220726_170141/FX16792_10x2_f72h20C_600s31x10s10s_B0726bd.trv', '/Volumes/JOSEPH/PD_Screen/glo-1_tm3240/20220726_154437/FX16792_10x2_f72h20C_600s31x10s10s_B0726ba.trv', '/Volumes/JOSEPH/PD_Screen/glo-1_tm3240/20220726_172957/FX16792_10x2_f72h20C_600s31x10s10s_B0726be.trv', '/Volumes/JOSEPH/PD_Screen/glo-1_tm3240/20220806_112406/FX16792_10x2_f72h20C_600s31x10s10s_B0802db.trv', '/Volumes/JOSEPH/PD_Screen/glo-1_tm3240/20220806_113605/FX16792_10x2_f72h20C_600s31x10s10s_C0802dc.trv', '/Volumes/JOSEPH/PD_Screen/glo-1_tm3240/20220806_113958/FX16792_10x2_f96h20C_600s31x10s10s_A0802da.trv', '/Volumes/JOSEPH/PD_Screen/glo-1_tm3240/20220806_120635/FX16792_10x2_f72h20C_600s31x10s10s_B0802dd.trv', '/Volumes/JOSEPH/PD_Screen/glo-1_tm3240/20220806_121804/FX16792_10x2_f72h20C_600s31x10s10s_C0802de.trv', '/Volumes/JOSEPH/PD_Screen/glo-1_tm3240/20220809_092208/FX16792_10x2_f72h20C_600s31x10s10s_C0809ca.trv', '/Volumes/JOSEPH/PD_Screen/glo-1_tm3240/20220809_110414/FX16792_10x2_f72h20C_600s31x10s10s_B0809cc.trv', '/Volumes/JOSEPH/PD_Screen/glo-1_tm3240/20220809_111018/FX16792_10x2_f96h20C_600s31x10s10s_A0809cb.trv', '/Volumes/JOSEPH/PD_Screen/glo-1_tm3240/20220809_112919/FX16792_10x2_f72h20C_600s31x10s10s_C0809cd.trv', '/Volumes/JOSEPH/PD_Screen/glo-1_tm3240/20220809_131112/FX16792_10x2_f96h20C_600s31x10s10s_A0809ce.trv', '/Volumes/JOSEPH/PD_Screen/glo-1_zu391/20220806_103007/JJ1271_10x2_f72h20C_600s31x10s10s_C0802ca.trv', '/Volumes/JOSEPH/PD_Screen/glo-1_zu391/20220806_114523/JJ1271_10x2_f72h20C_600s31x10s10s_B0802cc.trv', '/Volumes/JOSEPH/PD_Screen/glo-1_zu391/20220806_115715/JJ1271_10x2_f72h20C_600s31x10s10s_C0802cd.trv', '/Volumes/JOSEPH/PD_Screen/glo-1_zu391/20220806_120124/JJ1271_10x2_f96h20C_600s31x10s10s_A0802cb.trv', '/Volumes/JOSEPH/PD_Screen/glo-1_zu391/20220806_130444/JJ1271_10x2_f96h20C_600s31x10s10s_A0802ce.trv', '/Volumes/JOSEPH/PD_Screen/let-19_gk149538/20220524_151243/VC20144_10x2_f72h20C_600s31x10s10s_B0520db.trv', '/Volumes/JOSEPH/PD_Screen/let-19_gk149538/20220524_151656/VC20144_10x2_f96h20C_600s30x10s10s_A0520da.trv', '/Volumes/JOSEPH/PD_Screen/let-19_gk149538/20220524_165649/VC20144_10x2_f96h20C_600s30x10s10s_A0520dd.trv', '/Volumes/JOSEPH/PD_Screen/let-19_gk149538/20220524_152601/VC20144_10x2_f72h20C_600s31x10s10s_C0520dc.trv', '/Volumes/JOSEPH/PD_Screen/let-19_gk149538/20220524_163330/VC20144_10x2_f72h20C_600s31x10s10s_C0520de.trv', '/Volumes/JOSEPH/PD_Screen/lrk-1_tm1898/20220524_112535/FX1898_10x2_f72h20C_600s31x10s10s_B0520db.trv', '/Volumes/JOSEPH/PD_Screen/lrk-1_tm1898/20220524_130650/FX1898_10x2_f72h20C_600s31x10s10s_B0520ee.trv', '/Volumes/JOSEPH/PD_Screen/lrk-1_tm1898/20220524_132110/FX1898_10x2_f96h20C_600s30x10s10s_A0520dd.trv', '/Volumes/JOSEPH/PD_Screen/lrk-1_tm1898/20220524_113445/FX1898_10x2_f96h20C_600s30x10s10s_A0520da.trv', '/Volumes/JOSEPH/PD_Screen/lrk-1_tm1898/20220524_114643/FX1898_10x2_f72h20C_600s31x10s10s_C0520dc.trv', '/Volumes/JOSEPH/PD_Screen/lrk-1_tm7568/20220806_152302/FX7568_10x2_f72h20C_600s31x10s10s_B0802db.trv', '/Volumes/JOSEPH/PD_Screen/lrk-1_tm7568/20220806_153924/FX7568_10x2_f96h20C_600s31x10s10s_A0802da.trv', '/Volumes/JOSEPH/PD_Screen/N2/20220510_192657/N2_10x2_f72h20C_600s31x10s10s_B0506ac.trv', '/Volumes/JOSEPH/PD_Screen/N2/20220510_183526/N2_10x2_f72h20C_600s31x10s10s_C0506ab.trv', '/Volumes/JOSEPH/PD_Screen/N2/20220510_202509/N2_10x2_f72h20C_600s31x10s10s_C0506ae.trv', '/Volumes/JOSEPH/PD_Screen/N2/20220510_185420/N2_10x2_f96h20C_600s30x10s10s_A0506aa.trv', '/Volumes/JOSEPH/PD_Screen/N2/20220510_204745/N2_10x2_f96h20C_600s30x10s10s_A0506ad.trv', '/Volumes/JOSEPH/PD_Screen/N2/20220511_185919/N2_10x2_f72h20C_600s31x10s10s_B0507ac.trv', '/Volumes/JOSEPH/PD_Screen/N2/20220511_180954/N2_10x2_f72h20C_600s31x10s10s_C0507ab.trv', '/Volumes/JOSEPH/PD_Screen/N2/20220511_195428/N2_10x2_f72h20C_600s31x10s10s_C0507ae.trv', '/Volumes/JOSEPH/PD_Screen/N2/20220511_183227/N2_10x2_f96h20C_600s30x10s10s_A0507aa.trv', '/Volumes/JOSEPH/PD_Screen/N2/20220511_201614/N2_10x2_f96h20C_600s30x10s10s_A0507ad.trv', '/Volumes/JOSEPH/PD_Screen/N2/20220513_130909/N2_10x2_f72h20C_600s31x10s10s_B0509ac.trv', '/Volumes/JOSEPH/PD_Screen/N2/20220513_141844/N2_10x2_f72h20C_600s31x10s10s_C0509ea.trv', '/Volumes/JOSEPH/PD_Screen/N2/20220513_121207/N2_10x2_f72h20C_600s31x10s10s_C0509ab.trv', '/Volumes/JOSEPH/PD_Screen/N2/20220513_144050/N2_10x2_f96h20C_600s30x10s10s_A0509ad.trv', '/Volumes/JOSEPH/PD_Screen/N2/20220513_123501/N2_10x2_f96h20C_600s30x10s10s_A0509aa.trv', '/Volumes/JOSEPH/PD_Screen/N2/20220524_144029/N2_10x2_f72h20C_600s31x10s10s_B0520ab.trv', '/Volumes/JOSEPH/PD_Screen/N2/20220524_145312/N2_10x2_f96h20C_600s30x10s10s_A0520aa.trv', '/Volumes/JOSEPH/PD_Screen/N2/20220524_163521/N2_10x2_f96h20C_600s30x10s10s_A0520ad.trv', '/Volumes/JOSEPH/PD_Screen/N2/20220524_161112/N2_10x2_f72h20C_600s31x10s10s_C0520ae.trv', '/Volumes/JOSEPH/PD_Screen/N2/20220524_150255/N2_10x2_f72h20C_600s31x10s10s_C0520ac.trv', '/Volumes/JOSEPH/PD_Screen/N2/20220524_105817/N2_10x2_f72h20C_600s31x10s10s_B0520ab.trv', '/Volumes/JOSEPH/PD_Screen/N2/20220524_124446/N2_10x2_f72h20C_600s31x10s10s_B0520ae.trv', '/Volumes/JOSEPH/PD_Screen/N2/20220524_110703/N2_10x2_f96h20C_600s30x10s10s_A0520aa.trv', '/Volumes/JOSEPH/PD_Screen/N2/20220524_125648/N2_10x2_f96h20C_600s30x10s10s_A0520ad.trv', '/Volumes/JOSEPH/PD_Screen/N2/20220524_111539/N2_10x2_f72h20C_600s31x10s10s_C0520ac.trv', '/Volumes/JOSEPH/PD_Screen/N2/20220627_103050/N2_10x2_f72h20C_600s31x10s10s_C0623ab.trv', '/Volumes/JOSEPH/PD_Screen/N2/20220627_105101/N2_10x2_f96h20C_600s30x10s10s_A0623aa.trv', '/Volumes/JOSEPH/PD_Screen/N2/20220627_113629/N2_10x2_f72h20C_600s31x10s10s_B0623ac.trv', '/Volumes/JOSEPH/PD_Screen/N2/20220627_130010/N2_10x2_f72h20C_600s31x10s10s_C0623ae.trv', '/Volumes/JOSEPH/PD_Screen/N2/20220627_130628/N2_10x2_f96h20C_600s30x10s10s_A0623ad.trv', '/Volumes/JOSEPH/PD_Screen/N2/20220725_102136/N2_10x2_f72h20C_600s31x10s10s_B0721ab.trv', '/Volumes/JOSEPH/PD_Screen/N2/20220725_103133/N2_10x2_f96h20C_600s30x10s10s_A0721aa.trv', '/Volumes/JOSEPH/PD_Screen/N2/20220725_104105/N2_10x2_f72h20C_600s31x10s10s_C0721ac.trv', '/Volumes/JOSEPH/PD_Screen/N2/20220725_121146/N2_10x2_f72h20C_600s31x10s10s_B0721ae.trv', '/Volumes/JOSEPH/PD_Screen/N2/20220725_122157/N2_10x2_f96h20C_600s30x10s10s_A0721ad.trv', '/Volumes/JOSEPH/PD_Screen/N2/20220726_153458/N2_10x2_f72h20C_600s31x10s10s_C0726ab.trv', '/Volumes/JOSEPH/PD_Screen/N2/20220726_161553/N2_10x2_f72h20C_600s31x10s10s_C0726ae.trv', '/Volumes/JOSEPH/PD_Screen/N2/20220726_162138/N2_10x2_f96h20C_600s30x10s10s_A0726aa.trv', '/Volumes/JOSEPH/PD_Screen/N2/20220726_163135/N2_10x2_f72h20C_600s31x10s10s_B0726ac.trv', '/Volumes/JOSEPH/PD_Screen/N2/20220806_150214/N2_10x2_f72h20C_600s31x10s10s_B0802ab.trv', '/Volumes/JOSEPH/PD_Screen/N2/20220806_151348/N2_10x2_f72h20C_600s31x10s10s_C0802ac.trv', '/Volumes/JOSEPH/PD_Screen/N2/20220806_151746/N2_10x2_f96h20C_600s31x10s10s_A0802aa.trv', '/Volumes/JOSEPH/PD_Screen/N2/20220806_153445/N2_10x2_f72h20C_600s31x10s10s_C0802ad.trv', '/Volumes/JOSEPH/PD_Screen/N2/20220806_164217/N2_10x2_f96h20C_600s31x10s10s_A0802ae.trv', '/Volumes/JOSEPH/PD_Screen/N2/20220806_110241/N2_10x2_f72h20C_600s31x10s10s_B0802ab.trv', '/Volumes/JOSEPH/PD_Screen/N2/20220806_111456/N2_10x2_f72h20C_600s31x10s10s_C0802ac.trv', '/Volumes/JOSEPH/PD_Screen/N2/20220806_111834/N2_10x2_f96h20C_600s31x10s10s_A0802aa.trv', '/Volumes/JOSEPH/PD_Screen/N2/20220806_122724/N2_10x2_f72h20C_600s31x10s10s_B0802ae.trv', '/Volumes/JOSEPH/PD_Screen/N2/20220806_124345/N2_10x2_f96h20C_600s31x10s10s_A0802ad.trv', '/Volumes/JOSEPH/PD_Screen/N2/20220808_101022/N2_10x2_f72h20C_600s31x10s10s_C0804ab.trv', '/Volumes/JOSEPH/PD_Screen/N2/20220808_103012/N2_10x2_f96h20C_600s31x10s10s_A0804aa.trv', '/Volumes/JOSEPH/PD_Screen/N2/20220808_104602/N2_10x2_f72h20C_600s31x10s10s_B0804ac.trv', '/Volumes/JOSEPH/PD_Screen/N2/20220808_112820/N2_10x2_f72h20C_600s31x10s10s_C0804ae.trv', '/Volumes/JOSEPH/PD_Screen/N2/20220808_115051/N2_10x2_f96h20C_600s31x10s10s_A0804ad.trv', '/Volumes/JOSEPH/PD_Screen/N2/20220809_100208/N2_10x2_f72h20C_600s31x10s10s_B0809ab.trv', '/Volumes/JOSEPH/PD_Screen/N2/20220809_101044/N2_10x2_f96h20C_600s31x10s10s_A0809aa.trv', '/Volumes/JOSEPH/PD_Screen/N2/20220809_102236/N2_10x2_f72h20C_600s31x10s10s_C0809ac.trv', '/Volumes/JOSEPH/PD_Screen/N2/20220809_121105/N2_10x2_f72h20C_600s31x10s10s_B0809ae.trv', '/Volumes/JOSEPH/PD_Screen/N2/20220809_121732/N2_10x2_f96h20C_600s31x10s10s_A0809ad.trv', '/Volumes/JOSEPH/PD_Screen/N2/20220820_161144/N2_10x2_f72h20C_600s31x10s10s_B0816ab.trv', '/Volumes/JOSEPH/PD_Screen/N2/20220820_115753/N2_10x2_f72h20C_600s31x10s10s_B0816ab.trv', '/Volumes/JOSEPH/PD_Screen/N2/20220820_162336/N2_10x2_f72h20C_600s31x10s10s_C0816ac.trv', '/Volumes/JOSEPH/PD_Screen/N2/20220820_162848/N2_10x2_f96h20C_600s31x10s10s_A0816aa.trv', '/Volumes/JOSEPH/PD_Screen/N2/20220820_120009/N2_10x2_f96h20C_600s31x10s10s_A0816aa.trv', '/Volumes/JOSEPH/PD_Screen/N2/20220820_173513/N2_10x2_f72h20C_600s31x10s10s_B0816ae.trv', '/Volumes/JOSEPH/PD_Screen/N2/20220820_175223/N2_10x2_f96h20C_600s31x10s10s_A0816ad.trv', '/Volumes/JOSEPH/PD_Screen/N2/20220820_133947/N2_10x2_f96h20C_600s31x10s10s_A0816ad.trv', '/Volumes/JOSEPH/PD_Screen/N2/20220820_121032/N2_10x2_f72h20C_600s31x10s10s_C0816ac.trv', '/Volumes/JOSEPH/PD_Screen/N2/20220820_132316/N2_10x2_f72h20C_600s31x10s10s_B0816ae.trv', '/Volumes/JOSEPH/PD_Screen/pdr-1_gk448/20220511_192020/VC1024_10x2_f72h20C_600s31x10s10s_B0507dc.trv', '/Volumes/JOSEPH/PD_Screen/pdr-1_gk448/20220511_201521/VC1024_10x2_f72h20C_600s31x10s10s_C0507de.trv', '/Volumes/JOSEPH/PD_Screen/pdr-1_gk448/20220511_183040/VC1024_10x2_f72h20C_600s31x10s10s_C0507db.trv', '/Volumes/JOSEPH/PD_Screen/pdr-1_gk448/20220511_185305/VC1024_10x2_f96h20C_600s30x10s10s_A0507da.trv', '/Volumes/JOSEPH/PD_Screen/pdr-1_gk448/20220511_203705/VC1024_10x2_f96h20C_600s30x10s10s_A0507dd.trv', '/Volumes/JOSEPH/PD_Screen/pdr-1_tm395/20220511_183825/FX0395_10x2_f72h20C_600s31x10s10s_B0507cb.trv', '/Volumes/JOSEPH/PD_Screen/pdr-1_tm395/20220511_202230/FX0395_10x2_f72h20C_600s31x10s10s_B0507ce.trv', '/Volumes/JOSEPH/PD_Screen/pdr-1_tm395/20220511_174902/FX0395_10x2_f72h20C_600s31x10s10s_C0507ca.trv', '/Volumes/JOSEPH/PD_Screen/pdr-1_tm395/20220511_193326/FX0395_10x2_f72h20C_600s31x10s10s_C0507cd.trv', '/Volumes/JOSEPH/PD_Screen/pdr-1_tm395/20220511_195529/FX0395_10x2_f96h20C_600s30x10s10s_A0507cc.trv', '/Volumes/JOSEPH/PD_Screen/pdr-1_tm598/20220511_175701/FX0598_10x2_f72h20C_600s31x10s10s_B0507ba.trv', '/Volumes/JOSEPH/PD_Screen/pdr-1_tm598/20220511_194103/FX0598_10x2_f72h20C_600s31x10s10s_B0507bd.trv', '/Volumes/JOSEPH/PD_Screen/pdr-1_tm598/20220511_185125/FX0598_10x2_f72h20C_600s31x10s10s_C0507bc.trv', '/Volumes/JOSEPH/PD_Screen/pdr-1_tm598/20220511_191346/FX0598_10x2_f96h20C_600s30x10s10s_A0507bb.trv', '/Volumes/JOSEPH/PD_Screen/pdr-1_tm598/20220511_205751/FX0598_10x2_f96h20C_600s30x10s10s_A0507be.trv', '/Volumes/JOSEPH/PD_Screen/pgrn-1_tm985/20220806_122237/FX00985_10x2_f96h20C_600s31x10s10s_A0802bc.trv', '/Volumes/JOSEPH/PD_Screen/pgrn-1_tm985/20220806_104023/FX00985_10x2_f72h20C_600s31x10s10s_B0802ba.trv', '/Volumes/JOSEPH/PD_Screen/pgrn-1_tm985/20220806_105354/FX00985_10x2_f72h20C_600s31x10s10s_C0802bb.trv', '/Volumes/JOSEPH/PD_Screen/pgrn-1_tm985/20220806_144006/FX00985_10x2_f72h20C_600s31x10s10s_B0802ba.trv', '/Volumes/JOSEPH/PD_Screen/pgrn-1_tm985/20220806_145245/FX00985_10x2_f72h20C_600s31x10s10s_C0802bb.trv', '/Volumes/JOSEPH/PD_Screen/pgrn-1_tm985/20220806_155558/FX00985_10x2_f72h20C_600s31x10s10s_C0802bd.trv', '/Volumes/JOSEPH/PD_Screen/pgrn-1_tm985/20220806_162131/FX00985_10x2_f96h20C_600s31x10s10s_A0802bc.trv', '/Volumes/JOSEPH/PD_Screen/pink-1_ok3538/20220725_094323/OK3538_10x2_f72h20C_600s31x10s10s_C0721ca.trv', '/Volumes/JOSEPH/PD_Screen/pink-1_ok3538/20220725_113421/OK3538_10x2_f72h20C_600s31x10s10s_C0721cd.trv', '/Volumes/JOSEPH/PD_Screen/pink-1_ok3538/20220725_111623/OK3538_10x2_f72h20C_600s31x10s10s_B0721cc.trv', '/Volumes/JOSEPH/PD_Screen/pink-1_ok3538/20220725_131338/OK3538_10x2_f96h20C_600s30x10s10s_A0721ce.trv', '/Volumes/JOSEPH/PD_Screen/pink-1_ok3538/20220725_112912/OK3538_10x2_f96h20C_600s30x10s10s_A0721cb.trv', '/Volumes/JOSEPH/PD_Screen/pink-1_tm1779/20220627_112636/TM1779_10x2_f72h20C_600s31x10s10s_C0623bc.trv', '/Volumes/JOSEPH/PD_Screen/pink-1_tm1779/20220627_101353/TM1779_10x2_f72h20C_600s31x10s10s_B0623ba.trv', '/Volumes/JOSEPH/PD_Screen/pink-1_tm1779/20220627_122916/TM1779_10x2_f72h20C_600s31x10s10s_B0623bd.trv', '/Volumes/JOSEPH/PD_Screen/pink-1_tm1779/20220627_114543/TM1779_10x2_f96h20C_600s30x10s10s_A0623bb.trv', '/Volumes/JOSEPH/PD_Screen/pink-1_tm1779/20220627_141357/TM1779_10x2_f96h20C_600s30x10s10s_A0623be.trv', '/Volumes/JOSEPH/PD_Screen/sipa-1_ok879/20220524_164318/RB975_10x2_f72h20C_600s31x10s10s_B0520ce.trv', '/Volumes/JOSEPH/PD_Screen/sipa-1_ok879/20220524_153551/RB975_10x2_f72h20C_600s31x10s10s_B0520cc.trv', '/Volumes/JOSEPH/PD_Screen/sipa-1_ok879/20220524_154911/RB975_10x2_f96h20C_600s30x10s10s_A0520cb.trv', '/Volumes/JOSEPH/PD_Screen/sipa-1_ok879/20220524_140653/RB975_10x2_f72h20C_600s31x10s10s_C0520ca.trv', '/Volumes/JOSEPH/PD_Screen/sipa-1_ok879/20220524_154902/RB975_10x2_f72h20C_600s31x10s10s_C0520cd.trv', '/Volumes/JOSEPH/PD_Screen/snb-5_ok1434/20220513_124557/VC885_10x2_f72h20C_600s31x10s10s_B0509cb.trv', '/Volumes/JOSEPH/PD_Screen/snb-5_ok1434/20220513_145430/VC885_10x2_f72h20C_600s31x10s10s_B0509ce.trv', '/Volumes/JOSEPH/PD_Screen/snb-5_ok1434/20220513_114921/VC885_10x2_f72h20C_600s31x10s10s_C0509ca.trv', '/Volumes/JOSEPH/PD_Screen/snb-5_ok1434/20220513_135455/VC885_10x2_f72h20C_600s31x10s10s_C0509cd.trv', '/Volumes/JOSEPH/PD_Screen/snb-5_ok1434/20220513_140815/VC885_10x2_f96h20C_600s30x10s10s_A0509cc.trv', '/Volumes/JOSEPH/PD_Screen/unc-10_ad591/20220513_115851/DA591_10x2_f72h20C_600s31x10s10s_B0509ba.trv', '/Volumes/JOSEPH/PD_Screen/unc-10_ad591/20220513_140438/DA591_10x2_f72h20C_600s31x10s10s_B0509bd.trv', '/Volumes/JOSEPH/PD_Screen/unc-10_ad591/20220513_125927/DA591_10x2_f72h20C_600s31x10s10s_C0509bc.trv', '/Volumes/JOSEPH/PD_Screen/unc-10_ad591/20220513_132225/DA591_10x2_f96h20C_600s30x10s10s_A0509bb.trv', '/Volumes/JOSEPH/PD_Screen/unc-10_ad591/20220513_153039/DA591_10x2_f96h20C_600s30x10s10s_A0509be.trv', '/Volumes/JOSEPH/PD_Screen/vps-35_ok1880/20220809_093226/VC1390_10x2_f72h20C_600s31x10s10s_B0809ba.trv', '/Volumes/JOSEPH/PD_Screen/vps-35_ok1880/20220809_114206/VC1390_10x2_f96h20C_600s31x10s10s_A0809bc.trv', '/Volumes/JOSEPH/PD_Screen/vps-35_ok1880/20220809_120049/VC1390_10x2_f72h20C_600s31x10s10s_C0809be.trv']\n",
      "done step 4\n"
     ]
    }
   ],
   "source": [
    "#folder_path = '/Users/Joseph/Desktop/AVR14_10sISI' #- manual folder path if Tkinter is acting up\n",
    "\n",
    "os.chdir(folder_path) #<- setting your working directory so that your images will be saved here\n",
    "\n",
    "filelist = list() #<- empty list\n",
    "for root, dirs, files in os.walk(folder_path): #<- this for loop goes through your folder \n",
    "    for name in files:\n",
    "        if name.endswith('.trv'): #<- and takes out all files with a .trv (file that contains your data)\n",
    "            filepath = os.path.join(root, name) #<- Notes down the file path of each data file\n",
    "            filelist.append(filepath) #<- saves it into the list\n",
    "    \n",
    "print(filelist)\n",
    "print('done step 4')"
   ]
  },
  {
   "cell_type": "code",
   "execution_count": 7,
   "metadata": {},
   "outputs": [
    {
     "name": "stdout",
     "output_type": "stream",
     "text": [
      "bas-1_tm351\n"
     ]
    }
   ],
   "source": [
    "string = '/Volumes/JOSEPH/PD_Screen/bas-1_tm351/20220809_103216/LC33_10x2_f72h20C_600s31x10s10s_B0809db.trv'\n",
    "print(string.split('/')[4])"
   ]
  },
  {
   "cell_type": "code",
   "execution_count": 21,
   "metadata": {},
   "outputs": [
    {
     "name": "stdout",
     "output_type": "stream",
     "text": [
      "['F53B2.5_ok226' 'N2' 'bas-1_tm351' 'cat-1_e1111' 'cat-1_ok411'\n",
      " 'cat-2_e1112' 'cat-2_n4547' 'cat-2_tm2261' 'cpr-1_ok1344' 'cpr-5_ok2344'\n",
      " 'dat-1_ok157' 'djr-1.2_tm1346' 'dop-1_vs101' 'dop-3_ok295' 'dpy-22_e652'\n",
      " 'dpy-22_sy622' 'dpy-22_tm12356' 'gba-3_gk3287' 'gba-3_tm3302'\n",
      " 'gck-3_tm1296' 'glo-1_tm3240' 'glo-1_zu391' 'let-19_gk149538'\n",
      " 'lrk-1_tm1898' 'lrk-1_tm7568' 'pdr-1_gk448' 'pdr-1_tm395' 'pdr-1_tm598'\n",
      " 'pgrn-1_tm985' 'pink-1_ok3538' 'pink-1_tm1779' 'sac-2_ok2743'\n",
      " 'sipa-1_ok879' 'snb-5_ok1434' 'tag-138_gk247' 'unc-10_ad591'\n",
      " 'vps-35_ok1880']\n",
      "37\n",
      "[(1, 'F53B2.5_ok226'), (2, 'N2'), (3, 'bas-1_tm351'), (4, 'cat-1_e1111'), (5, 'cat-1_ok411'), (6, 'cat-2_e1112'), (7, 'cat-2_n4547'), (8, 'cat-2_tm2261'), (9, 'cpr-1_ok1344'), (10, 'cpr-5_ok2344'), (11, 'dat-1_ok157'), (12, 'djr-1.2_tm1346'), (13, 'dop-1_vs101'), (14, 'dop-3_ok295'), (15, 'dpy-22_e652'), (16, 'dpy-22_sy622'), (17, 'dpy-22_tm12356'), (18, 'gba-3_gk3287'), (19, 'gba-3_tm3302'), (20, 'gck-3_tm1296'), (21, 'glo-1_tm3240'), (22, 'glo-1_zu391'), (23, 'let-19_gk149538'), (24, 'lrk-1_tm1898'), (25, 'lrk-1_tm7568'), (26, 'pdr-1_gk448'), (27, 'pdr-1_tm395'), (28, 'pdr-1_tm598'), (29, 'pgrn-1_tm985'), (30, 'pink-1_ok3538'), (31, 'pink-1_tm1779'), (32, 'sac-2_ok2743'), (33, 'sipa-1_ok879'), (34, 'snb-5_ok1434'), (35, 'tag-138_gk247'), (36, 'unc-10_ad591'), (37, 'vps-35_ok1880')]\n",
      "{1: 'F53B2.5_ok226', 2: 'N2', 3: 'bas-1_tm351', 4: 'cat-1_e1111', 5: 'cat-1_ok411', 6: 'cat-2_e1112', 7: 'cat-2_n4547', 8: 'cat-2_tm2261', 9: 'cpr-1_ok1344', 10: 'cpr-5_ok2344', 11: 'dat-1_ok157', 12: 'djr-1.2_tm1346', 13: 'dop-1_vs101', 14: 'dop-3_ok295', 15: 'dpy-22_e652', 16: 'dpy-22_sy622', 17: 'dpy-22_tm12356', 18: 'gba-3_gk3287', 19: 'gba-3_tm3302', 20: 'gck-3_tm1296', 21: 'glo-1_tm3240', 22: 'glo-1_zu391', 23: 'let-19_gk149538', 24: 'lrk-1_tm1898', 25: 'lrk-1_tm7568', 26: 'pdr-1_gk448', 27: 'pdr-1_tm395', 28: 'pdr-1_tm598', 29: 'pgrn-1_tm985', 30: 'pink-1_ok3538', 31: 'pink-1_tm1779', 32: 'sac-2_ok2743', 33: 'sipa-1_ok879', 34: 'snb-5_ok1434', 35: 'tag-138_gk247', 36: 'unc-10_ad591', 37: 'vps-35_ok1880'}\n"
     ]
    }
   ],
   "source": [
    "genotype=[]\n",
    "for f in filelist:\n",
    "    genotype.append(f.split('/')[4])\n",
    "# print(np.unique(genotype))\n",
    "genotypes=np.unique(genotype)\n",
    "print(genotypes)\n",
    "print(len(np.unique(genotypes)))\n",
    "strainNs = enumerate(genotypes,1)\n",
    "strain_enum=list(strainNs)\n",
    "print(strain_enum)\n",
    "StrainNames=dict(strain_enum)\n",
    "print(StrainNames)"
   ]
  },
  {
   "cell_type": "markdown",
   "metadata": {},
   "source": [
    "# 5. Process Data Function (Just Run)"
   ]
  },
  {
   "cell_type": "code",
   "execution_count": 48,
   "metadata": {},
   "outputs": [
    {
     "name": "stdout",
     "output_type": "stream",
     "text": [
      "done step 5\n"
     ]
    }
   ],
   "source": [
    "def ProcessData(strain): #<- an example of a user-defined function\n",
    "    strain_filelist = [x for x in filelist if strain in x] #<- goes through the list and filters for keyword\n",
    "    Strain_N = len(strain_filelist) #<- N per strain, or number of plates\n",
    "    Plate_N = 1\n",
    "    print(f'this strain/treatment has {Strain_N} plates') #<- will output as the first number\n",
    "    if Strain_N == 0:\n",
    "        raise AssertionError ('{} is not a good identifier'.format(strain))\n",
    "    else:\n",
    "        pass\n",
    "#     for f in strain_filelist:\n",
    "#         DF_Total = pd.concat(pd.read_csv(f, sep=' ', skiprows = 4, header = None))\n",
    "        DF_Total = pd.concat([pd.read_csv(f, sep=' ', header = None) for f in strain_filelist],\n",
    "                      ignore_index=True) #<- imports your data files\n",
    "#         DF_Total = DF_Total.dropna(axis = 1) #<- cleans your data\n",
    "        DF_Total = DF_Total.rename( #<- more cleaning\n",
    "                    {0:'time',\n",
    "                    2:'rev_before',\n",
    "                    3:'no_rev',\n",
    "                    4:'stim_rev',\n",
    "                    7:'dist',\n",
    "                    8:'dist_std',\n",
    "                    9:'dist_stderr',\n",
    "                    11:'dist_0th',\n",
    "                    12:'dist_1st',\n",
    "                    13:'dist_2nd',\n",
    "                    14:'dist_3rd',\n",
    "                    15:'dist_100th',\n",
    "                    18:'dura',\n",
    "                    19:'dura_std',\n",
    "                    20:'dura_stderr',\n",
    "                    22:'dura_0th',\n",
    "                    23:'dura_1st',\n",
    "                    24:'dura_2nd',\n",
    "                    25:'dura_3rd',\n",
    "                    26:'dura_100th'}, axis=1)\n",
    "        #check function here for NaN Columns\n",
    "        DF_Total['plate'] = 0\n",
    "        DF_Total['prob'] = DF_Total['stim_rev']/ (DF_Total['no_rev'] + DF_Total['stim_rev']) #<- calculate prob\n",
    "        DF_Total['speed'] = DF_Total['dist']/DF_Total['dura'] #<- calculate speed\n",
    "        DF_Total_rows = int(DF_Total.shape[0])\n",
    "        print(f'this strain/treatment has {DF_Total_rows} total taps') #<- Outputs as the second number. Check if you are missing taps!\n",
    "        DF_Final = DF_Total[[\"time\", \"dura\", \"dist\", \"prob\", \"speed\", \"plate\"]].copy()\n",
    "\n",
    "    return{\n",
    "            'N': Strain_N,\n",
    "            'Confirm':DF_Total,\n",
    "            'Final': DF_Final}\n",
    "    print('done!')\n",
    "\n",
    "\n",
    "\n",
    "def assign_taps(DF, tolerances):\n",
    "    DF['taps'] = \"\"\n",
    "    for taps, tolerance in enumerate(tolerances): #[(99, 101), (109,111), ...]\n",
    "        tap_lower,tap_upper = tolerance\n",
    "        TimesInTapRange = DF['time'].between(tap_lower,tap_upper, inclusive=\"both\")\n",
    "        DF.loc[TimesInTapRange,'taps'] = taps+1 #set the tap to i where times are between\n",
    "\n",
    "\n",
    "\n",
    "    \n",
    "def insert_plates(df):   \n",
    "    \"\"\"This function inserts a plate column into a dataframe.\n",
    "    \n",
    "    :param df: any dataframe\n",
    "    :type: pandas.core.frame.DataFrame\n",
    "    \n",
    "    :return: dataframe with a plate column\n",
    "    :type: pandas.core.frame.DataFrame\n",
    "    \"\"\"\n",
    "    df['plate']=(df['taps'] ==1).cumsum()\n",
    "\n",
    "\n",
    "            \n",
    "print('done step 5')"
   ]
  },
  {
   "cell_type": "markdown",
   "metadata": {},
   "source": [
    "# 6.1 Process Data (PLEASE READ, Add input here)"
   ]
  },
  {
   "cell_type": "markdown",
   "metadata": {},
   "source": [
    "Here is the hardest part - From your naming convention, you need to pick a unique identifier for each group.\n",
    "\n",
    "This means that all of names of your files for that strain should have that in common but is not commone with across all other files! If you did a good job naming your files and following a good naming convention, this should be easy.\n",
    "\n",
    "## Be careful and really look hard in your naming structure. Note you want an unique identifier in the entire file path for the same group of files. An easy mistake is to have the strain name in the overall folder name, in this case if you use your strain name as a keyword it would include all files in that folder!\n",
    "\n",
    "For example, if all your N2 files have a certain pattern like \"N2_5x4\" in this following example:\n",
    "'/Users/Joseph/Desktop/AVR14_10sISI_TapHab_0710_2019/N2/20190710_141740/N2_5x4_f94h20c_100s30x10s10s_C0710ab.trv'\n",
    "\n",
    "Then you need to set that identifier for the strain keyword:\n",
    "'Strain_1' = 'N2_5x4'\n",
    "\n",
    "## Depending on how many strains you are running for comparison, you may need to add/delete some lines!\n",
    "\n",
    "## You are not naming your data groups here, we have a step for that later!\n",
    "## Here, you want to note down ALL the strains you have in the folder\n",
    "\n",
    "If you have just 2 strains, add hashtags (#) in front of the lines you do not need.\n",
    "If you need more strains, just add more lines, following the same format!"
   ]
  },
  {
   "cell_type": "code",
   "execution_count": null,
   "metadata": {},
   "outputs": [],
   "source": [
    "# #Format: 'Strain_#'' = 'unique_identifier'\n",
    "\n",
    "# ### Make into dictionary\n",
    "# StrainNames = {\n",
    "#     'Strain_1' : 'N2',  #<- each strain will be designated to a unique identifier here\n",
    "#     'Strain_2' : 'cat-2_e1112',\n",
    "#     'Strain_3' : 'cat-2_n4547',\n",
    "#     'Strain_4' : 'cat-2_tm2261',\n",
    "#     'Strain_5' : 'dat-1_ok157',\n",
    "#     'Strain_6' : 'cat-1_ok411',\n",
    "#     'Strain_7' : 'pdr-1_gk448', #<- empty entries are for those hardcore trackers that tracks this many strains\n",
    "#     'Strain_8' : 'pdr-1_tm395',\n",
    "#     'Strain_9' : 'pdr-1_tm598',\n",
    "#     'Strain_10' : 'dop-1_vs101',\n",
    "#     'Strain_11' : 'dop-3_ok295',\n",
    "#     'Strain_12' : 'snb-5_ok1434',\n",
    "#     'Strain_13' : 'unc-10_ad591',\n",
    "# #     'Strain_14' : '',\n",
    "# #     'Strain_15' : '',\n",
    "# }\n",
    "# #...etc, etc\n",
    "\n",
    "# print('done step 6.1')"
   ]
  },
  {
   "cell_type": "markdown",
   "metadata": {},
   "source": [
    "# 6.2 Process Data (just run this cell)"
   ]
  },
  {
   "cell_type": "code",
   "execution_count": 49,
   "metadata": {},
   "outputs": [
    {
     "name": "stdout",
     "output_type": "stream",
     "text": [
      "this strain/treatment has 5 plates\n",
      "this strain/treatment has 155 total taps\n",
      "this strain/treatment has 69 plates\n",
      "this strain/treatment has 2122 total taps\n",
      "this strain/treatment has 5 plates\n",
      "this strain/treatment has 155 total taps\n",
      "this strain/treatment has 5 plates\n",
      "this strain/treatment has 154 total taps\n",
      "this strain/treatment has 5 plates\n",
      "this strain/treatment has 155 total taps\n",
      "this strain/treatment has 5 plates\n",
      "this strain/treatment has 155 total taps\n",
      "this strain/treatment has 5 plates\n",
      "this strain/treatment has 154 total taps\n",
      "this strain/treatment has 5 plates\n",
      "this strain/treatment has 154 total taps\n",
      "this strain/treatment has 5 plates\n",
      "this strain/treatment has 154 total taps\n",
      "this strain/treatment has 5 plates\n",
      "this strain/treatment has 155 total taps\n",
      "this strain/treatment has 5 plates\n",
      "this strain/treatment has 155 total taps\n",
      "this strain/treatment has 5 plates\n",
      "this strain/treatment has 154 total taps\n",
      "this strain/treatment has 5 plates\n",
      "this strain/treatment has 155 total taps\n",
      "this strain/treatment has 5 plates\n",
      "this strain/treatment has 155 total taps\n",
      "this strain/treatment has 5 plates\n",
      "this strain/treatment has 153 total taps\n",
      "this strain/treatment has 5 plates\n",
      "this strain/treatment has 150 total taps\n",
      "this strain/treatment has 5 plates\n",
      "this strain/treatment has 154 total taps\n",
      "this strain/treatment has 5 plates\n",
      "this strain/treatment has 155 total taps\n",
      "this strain/treatment has 4 plates\n",
      "this strain/treatment has 124 total taps\n",
      "this strain/treatment has 4 plates\n",
      "this strain/treatment has 124 total taps\n",
      "this strain/treatment has 14 plates\n",
      "this strain/treatment has 433 total taps\n",
      "this strain/treatment has 5 plates\n",
      "this strain/treatment has 155 total taps\n",
      "this strain/treatment has 5 plates\n",
      "this strain/treatment has 155 total taps\n",
      "this strain/treatment has 5 plates\n",
      "this strain/treatment has 154 total taps\n",
      "this strain/treatment has 2 plates\n",
      "this strain/treatment has 62 total taps\n",
      "this strain/treatment has 5 plates\n",
      "this strain/treatment has 155 total taps\n",
      "this strain/treatment has 5 plates\n",
      "this strain/treatment has 155 total taps\n",
      "this strain/treatment has 5 plates\n",
      "this strain/treatment has 154 total taps\n",
      "this strain/treatment has 7 plates\n",
      "this strain/treatment has 216 total taps\n",
      "this strain/treatment has 5 plates\n",
      "this strain/treatment has 154 total taps\n",
      "this strain/treatment has 5 plates\n",
      "this strain/treatment has 155 total taps\n",
      "this strain/treatment has 5 plates\n",
      "this strain/treatment has 155 total taps\n",
      "this strain/treatment has 5 plates\n",
      "this strain/treatment has 155 total taps\n",
      "this strain/treatment has 5 plates\n",
      "this strain/treatment has 155 total taps\n",
      "this strain/treatment has 5 plates\n",
      "this strain/treatment has 155 total taps\n",
      "this strain/treatment has 5 plates\n",
      "this strain/treatment has 155 total taps\n",
      "this strain/treatment has 3 plates\n",
      "this strain/treatment has 92 total taps\n",
      "done step 6.2\n"
     ]
    }
   ],
   "source": [
    "DataLists = [0]  #<- generates empty list. 0 is there to account for python's index starting at 0. \n",
    "# we want indexing to start at 1 (when I say #1 I want the first point, not the second point)\n",
    "\n",
    "for s in StrainNames.values(): #<- goes through the dictionary in step 6.1 and processes data\n",
    "    if not s == '':\n",
    "        DataLists.append(ProcessData(s)['Final']) #<- appends all data into a list of dataframes\n",
    "\n",
    "\n",
    "for df in DataLists[1:]: \n",
    "    assign_taps(df, tolerances)\n",
    "for df in DataLists[1:]:    \n",
    "    insert_plates(df)\n",
    "\n",
    "# print(x)\n",
    "# print(DataLists[0])\n",
    "# print(DataLists[1])\n",
    "#print(DataLists[2])\n",
    "#print(len(DataLists))        \n",
    "print('done step 6.2')"
   ]
  },
  {
   "cell_type": "code",
   "execution_count": 52,
   "metadata": {},
   "outputs": [
    {
     "name": "stdout",
     "output_type": "stream",
     "text": [
      "         time  dura   dist      prob     speed  plate taps\n",
      "0     599.983  2.64  0.739  0.945946  0.279924      1    1\n",
      "1     609.995  2.66  0.834  0.857143  0.313534      1    2\n",
      "2     619.933  2.48  0.759  0.833333  0.306048      1    3\n",
      "3     629.932  2.19  0.649  0.901961  0.296347      1    4\n",
      "4     639.991  2.06  0.589  0.787234  0.285922      1    5\n",
      "..        ...   ...    ...       ...       ...    ...  ...\n",
      "150   859.994  1.51  0.345  0.204545  0.228477      5   27\n",
      "151   869.995  1.02  0.184  0.255319  0.180392      5   28\n",
      "152   879.955  2.18  0.531  0.162791  0.243578      5   29\n",
      "153   889.956  0.52  0.119  0.192308  0.228846      5   30\n",
      "154  1189.990  2.90  0.908  0.777778  0.313103      5   31\n",
      "\n",
      "[155 rows x 7 columns]\n",
      "F53B2.5_ok226\n"
     ]
    }
   ],
   "source": [
    "print(DataLists[1])\n",
    "print(StrainNames.get(1))"
   ]
  },
  {
   "cell_type": "markdown",
   "metadata": {},
   "source": [
    "# 7. Grouping Data and Naming (Optional: Add input here)\n",
    "\n",
    "Here, you get to name your data groups/strain! Name your groups however you like under between the quotation marks for each strain.\n",
    "\n",
    "For example: If your Strain1 is N2 and you wish for the group to be called N2,\n",
    "your line should look like:\n",
    "\n",
    "DataLists[x].assign(dataset = 'N2')\n",
    "\n",
    "## Go back to step 6.1 to check which strain is which item on the DataLists.\n",
    "In this example, the first item on DataLists is N2.\n",
    "\n",
    "\n",
    "## Remember: Put your name in quotes. (ex: 'N2' and not N2)\n",
    "\n",
    "As default, the names are set to the unique identifier labels.\n",
    "\n",
    "## Depending on the number of strains you are running the comparison, you may have to delete/add lines of code (following the same format). \n",
    "## Remember to add/delete commas too.\n",
    "\n",
    "# If you want to change your groups, you do that here. \n",
    "For example, if you have 5 strains in your folder but only want to compare between 2 or 3 strains, designate that here and follow through with steps 6 and 7. Once you are done, come back to step 6 and change your groups again (You are going to have to change your graph titles for the second run-through though)!"
   ]
  },
  {
   "cell_type": "code",
   "execution_count": 61,
   "metadata": {},
   "outputs": [
    {
     "name": "stdout",
     "output_type": "stream",
     "text": [
      "1\n",
      "2\n",
      "3\n",
      "4\n",
      "5\n",
      "6\n",
      "7\n",
      "8\n",
      "9\n",
      "10\n",
      "11\n",
      "12\n",
      "13\n",
      "14\n",
      "15\n",
      "16\n",
      "17\n",
      "18\n",
      "19\n",
      "20\n",
      "21\n",
      "22\n",
      "23\n",
      "24\n",
      "25\n",
      "26\n",
      "27\n",
      "28\n",
      "29\n",
      "30\n",
      "31\n",
      "32\n",
      "33\n",
      "34\n",
      "35\n",
      "36\n",
      "         time  dura   dist      prob     speed  plate taps        dataset\n",
      "0     599.963  3.50  0.531  0.576923  0.151714      1    1  vps-35_ok1880\n",
      "1     609.985  2.33  0.391  0.538462  0.167811      1    2  vps-35_ok1880\n",
      "2     619.985  1.91  0.318  0.551724  0.166492      1    3  vps-35_ok1880\n",
      "3     629.988  1.77  0.326  0.533333  0.184181      1    4  vps-35_ok1880\n",
      "4     639.974  1.86  0.322  0.657143  0.173118      1    5  vps-35_ok1880\n",
      "..        ...   ...    ...       ...       ...    ...  ...            ...\n",
      "150   859.983  1.89  0.281  0.058824  0.148677      5   27   unc-10_ad591\n",
      "151   869.999  1.36  0.214  0.058824  0.157353      5   28   unc-10_ad591\n",
      "152   879.997  5.38  0.856  0.025641  0.159108      5   29   unc-10_ad591\n",
      "153   889.992  0.12  0.011  0.027027  0.091667      5   30   unc-10_ad591\n",
      "154  1189.990  2.24  0.355  0.148148  0.158482      5   31   unc-10_ad591\n",
      "\n",
      "[15614 rows x 8 columns]\n",
      "done step 7\n"
     ]
    }
   ],
   "source": [
    "\n",
    "for d in range(1,len(np.unique(genotypes))):\n",
    "    print(d)\n",
    "    TotalConcatenated=pd.concat([TotalConcatenated,\n",
    "                                 DataLists[d].assign(dataset=StrainNames.get(d))])\n",
    "\n",
    "\n",
    "\n",
    "# TotalConcatenated = pd.concat([ #<- this function joins your data together with an extra column for which group \n",
    "#                           DataLists[1].assign(dataset = \"Wildtype (N2)\"), \n",
    "#                           DataLists[2].assign(dataset = \"cat-2 (e1112)\"),\n",
    "#                           DataLists[3].assign(dataset = \"cat-2 (n4547)\"),\n",
    "#                           DataLists[4].assign(dataset = \"cat-2 (tm2261)\"),\n",
    "#                           DataLists[5].assign(dataset = \"dat-1 (ok157)\"),\n",
    "#                           DataLists[6].assign(dataset = \"cat-1 (ok441)\"),\n",
    "#                           DataLists[7].assign(dataset = \"pdr-1 (gk448)\"),\n",
    "#                           DataLists[8].assign(dataset = \"pdr-1 (tm395)\"),\n",
    "#                           DataLists[9].assign(dataset = \"pdr-1 (tm598)\"),\n",
    "#                           DataLists[10].assign(dataset = \"dop-1 (vs101)\"),\n",
    "#                           DataLists[11].assign(dataset = \"dop-3 (ok295)\"),\n",
    "#                           DataLists[12].assign(dataset = \"snb-5 (ok1434)\"),\n",
    "#                           DataLists[13].assign(dataset = \"unc-10 (ad591)\"),\n",
    "# #                           DataLists[14].assign(dataset = \"GOA1 Mutant (n3055)\"),\n",
    "# #                           DataLists[5].assign(dataset = StrainNames.get(\"Strain_5\")),\n",
    "# #                         DataLists[5].assign(dataset = \"StrainNameOnePoster\"), #<----- example of custom name\n",
    "                          \n",
    "# ])\n",
    "# # ...etc etc\n",
    "\n",
    "TotalConcatenated.reset_index(inplace=False)\n",
    "print(TotalConcatenated)\n",
    "\n",
    "#if TotalConcatenated[\"taps\"].loc[ind] is not 1:\n",
    "#   TotalConcatenated[\"taps\"].loc[ind:indices[c+1]] = list(range(1,len(TotalConcatenated[\"taps\"].loc[ind:indices[c+1]])+1))\n",
    "# missing_taps(TotalConcatenated, accurate_taps, tolerances)\n",
    "\n",
    "print('done step 7')"
   ]
  },
  {
   "cell_type": "markdown",
   "metadata": {},
   "source": [
    "# Setting Colour Palette - Only run the below cell ONCE\n",
    "\n",
    "The following code sets the colour palette for the whole experiment - and then designate one colour to each strain. After this, if as you are graphing you take away some strains, you can do so with the colours still matching accordingly."
   ]
  },
  {
   "cell_type": "code",
   "execution_count": 64,
   "metadata": {},
   "outputs": [
    {
     "name": "stdout",
     "output_type": "stream",
     "text": [
      "         time  dura   dist      prob     speed  plate taps        dataset  \\\n",
      "0     599.963  3.50  0.531  0.576923  0.151714      1    1  vps-35_ok1880   \n",
      "1     609.985  2.33  0.391  0.538462  0.167811      1    2  vps-35_ok1880   \n",
      "2     619.985  1.91  0.318  0.551724  0.166492      1    3  vps-35_ok1880   \n",
      "3     629.988  1.77  0.326  0.533333  0.184181      1    4  vps-35_ok1880   \n",
      "4     639.974  1.86  0.322  0.657143  0.173118      1    5  vps-35_ok1880   \n",
      "..        ...   ...    ...       ...       ...    ...  ...            ...   \n",
      "150   859.983  1.89  0.281  0.058824  0.148677      5   27   unc-10_ad591   \n",
      "151   869.999  1.36  0.214  0.058824  0.157353      5   28   unc-10_ad591   \n",
      "152   879.997  5.38  0.856  0.025641  0.159108      5   29   unc-10_ad591   \n",
      "153   889.992  0.12  0.011  0.027027  0.091667      5   30   unc-10_ad591   \n",
      "154  1189.990  2.24  0.355  0.148148  0.158482      5   31   unc-10_ad591   \n",
      "\n",
      "       Gene  Allele  \n",
      "0    vps-35  ok1880  \n",
      "1    vps-35  ok1880  \n",
      "2    vps-35  ok1880  \n",
      "3    vps-35  ok1880  \n",
      "4    vps-35  ok1880  \n",
      "..      ...     ...  \n",
      "150  unc-10   ad591  \n",
      "151  unc-10   ad591  \n",
      "152  unc-10   ad591  \n",
      "153  unc-10   ad591  \n",
      "154  unc-10   ad591  \n",
      "\n",
      "[15614 rows x 10 columns]\n"
     ]
    }
   ],
   "source": [
    "TotalConcatenated[['Gene', 'Allele']] = TotalConcatenated['dataset'].str.split('_', 1, expand=True)\n",
    "print(TotalConcatenated)"
   ]
  },
  {
   "cell_type": "code",
   "execution_count": 66,
   "metadata": {},
   "outputs": [],
   "source": [
    "TotalConcatenated['Allele']=TotalConcatenated['Allele'].fillna('N2')"
   ]
  },
  {
   "cell_type": "code",
   "execution_count": null,
   "metadata": {},
   "outputs": [],
   "source": [
    "# If you want the default colour palette #\n",
    "# strains = TotalConcatenated['dataset'].unique()\n",
    "# pal = dict(zip(strains, sns.color_palette(\"deep\", n_colors=len(strains))))\n",
    "# print('palette is:' + str(pal))\n",
    "\n",
    "\n",
    "pal = {'Wildtype (N2)': 'black', \n",
    "       'cat-2 (e1112)': 'lavender', \n",
    "       'cat-2 (n4547)': 'cornflowerblue', \n",
    "       'cat-2 (tm2261)': 'blue', \n",
    "       'dat-1 (ok157)': 'blueviolet', \n",
    "       'cat-1 (ok441)': 'magenta', \n",
    "       'pdr-1 (gk448)': 'rosybrown', \n",
    "       'pdr-1 (tm395)': 'lightcoral', \n",
    "       'pdr-1 (tm598)': 'indianred', \n",
    "       'dop-1 (vs101)': 'slategray', \n",
    "       'dop-3 (ok295)': 'darkslategray', \n",
    "       'snb-5 (ok1434)': 'mediumseagreen', \n",
    "       'unc-10 (ad591)': 'darkorange'}\n",
    "print('palette is:' + str(pal))\n",
    "# IF YOU WANT TO CUSTOMIZE THE COLOR PALETTE OF THE GRAPHS\n",
    "# pal = {\"N2\": (0.2980392156862745, 0.4470588235294118, 0.6901960784313725),\n",
    "#        \"LX2060\": (0.8666666666666667, 0.5176470588235295, 0.3215686274509804)\n",
    "#     }\n",
    "\n",
    "print('done setting colour palette')"
   ]
  },
  {
   "cell_type": "code",
   "execution_count": 67,
   "metadata": {},
   "outputs": [
    {
     "name": "stdout",
     "output_type": "stream",
     "text": [
      "done\n"
     ]
    }
   ],
   "source": [
    "# Outputs final data onto a spreadsheet\n",
    "TotalConcatenated.to_csv(\"output.csv\")\n",
    "print('done')\n"
   ]
  },
  {
   "cell_type": "markdown",
   "metadata": {},
   "source": [
    "# 7.5: BONUS - Graph by plates to check for anomolies across each strain/treatment\n",
    "\n",
    "Here, we will be graphing each strain on their own by their individual plates - this will help us find any anomolies or outliers that we can then exclude!\n"
   ]
  },
  {
   "cell_type": "code",
   "execution_count": null,
   "metadata": {},
   "outputs": [],
   "source": [
    "Strain_pal = sns.choose_colorbrewer_palette('sequential')\n"
   ]
  },
  {
   "cell_type": "code",
   "execution_count": null,
   "metadata": {},
   "outputs": [],
   "source": [
    "StrainNames.get(\"Strain_1\")"
   ]
  },
  {
   "cell_type": "code",
   "execution_count": null,
   "metadata": {},
   "outputs": [],
   "source": [
    "StrainConcatenated = TotalConcatenated[TotalConcatenated.dataset==StrainNames.get(\"Strain_1\")] #Change/dictate which strain you are analyzing\n",
    "print(StrainConcatenated)"
   ]
  },
  {
   "cell_type": "code",
   "execution_count": null,
   "metadata": {},
   "outputs": [],
   "source": [
    "StrainConcatenated = TotalConcatenated[\n",
    "    TotalConcatenated.dataset == 'unc-10 (ad591)'] #Change/dictate which strain you are analyzing\n",
    "StrainName = \"unc-10 (ad591)\" #Also change this, for labeling purposes\n",
    "\n",
    "\n",
    "out1 = widgets.Output() #<- this is part of the code that helps display your graphs in tabs\n",
    "out2 = widgets.Output()\n",
    "out3 = widgets.Output()\n",
    "out4 = widgets.Output()\n",
    "\n",
    "tab = widgets.Tab(children = [out1, out2, out3, out4]) #<- more code to support tab display\n",
    "tab.set_title(0, 'Probability')\n",
    "tab.set_title(1, 'Distance')\n",
    "tab.set_title(2, 'Duration')\n",
    "tab.set_title(3, 'Speed')\n",
    "display(tab)\n",
    "\n",
    "plt.rcParams.update({'lines.markeredgewidth': 1})\n",
    "\n",
    "# Probability\n",
    "with out1:\n",
    "    plt.figure(linewidth = 2.5) #<- Make your figure lines THICCCC for clean display (posters)\n",
    "    plt.figure(figsize=(12,10)) #<- set your figure size (width, length)\n",
    "    plt.gca().xaxis.grid(False) #<- gets rid of x-axis markers to make data look clean \n",
    "    ax = sns.pointplot(x=\"taps\", #<- Here we use seaborn as our graphing package. \n",
    "                     y=\"prob\",  \n",
    "                     data = StrainConcatenated,\n",
    "                     hue = 'plate', #<- Here we use the extra column from step 6 to separate by group\n",
    "                     palette = Strain_pal, #<- Change colour palette here if you like\n",
    "                     ci = 95) #<- Confidence interval. 95 = standard error\n",
    "    plt.xlabel(\"Taps\") #<- X-axis title\n",
    "    plt.ylabel(\"Probability\") #<- Y-Axis title\n",
    "    plt.title(f\"{StrainName} Probability of Tap Habituation, {ISI}ISI\") #<- Figure Title\n",
    "    plt.ylim(0,1)\n",
    "    ax.legend(loc = 'upper right', fontsize = '12') #<- location of your legend\n",
    "    plt.savefig(f'{StrainName}_Probability_{ISI}ISI_ByPlate.png', format='png', dpi=450) #<- saves your file to your folder at certain DPI\n",
    "    plt.show()\n",
    "\n",
    "# Distance\n",
    "with out2:\n",
    "    plt.figure(linewidth = 2.5)\n",
    "    plt.figure(figsize=(12,10))\n",
    "    plt.gca().xaxis.grid(False)\n",
    "    ax = sns.pointplot(x=\"taps\", \n",
    "                     y=\"dist\", \n",
    "                     data = StrainConcatenated,\n",
    "                     hue = 'plate',\n",
    "                     palette = Strain_pal,\n",
    "                     ci = 95)\n",
    "    plt.xlabel(\"Taps\", fontsize = '12')\n",
    "    plt.ylabel(\"Distance\", fontsize = '12')\n",
    "    plt.title(f\"{StrainName} Distance of Tap Habituation, {ISI}ISI\", fontsize = '16')\n",
    "    plt.ylim(0,1.5)\n",
    "    ax.legend(loc = 'upper right', fontsize = '12')\n",
    "    plt.savefig(f'{StrainName}_Distance_{ISI}ISI_ByPlate.png', format='png', dpi=450)\n",
    "    plt.show()\n",
    "\n",
    "# Duration\n",
    "with out3:\n",
    "    plt.figure(linewidth = 2.5)\n",
    "    plt.figure(figsize=(12,10))\n",
    "    plt.gca().xaxis.grid(False)\n",
    "    ax = sns.pointplot(x=\"taps\", \n",
    "                     y=\"dura\", \n",
    "                     data = StrainConcatenated,\n",
    "                     hue = 'plate',\n",
    "                     palette = Strain_pal,\n",
    "                     ci = 95)\n",
    "    plt.xlabel(\"Taps\", fontsize = '12')\n",
    "    plt.ylabel(\"Duration\", fontsize = '12')\n",
    "    plt.title(f\"{StrainName} Duration of Tap Habituation, {ISI}ISI\", fontsize = '16')\n",
    "    plt.ylim(0,3)\n",
    "    ax.legend(loc = 'upper right', fontsize = '12')\n",
    "    plt.savefig(f'{StrainName}_Duration_{ISI}ISI_ByPlate.png', format='png', dpi=450)\n",
    "    plt.show()\n",
    "\n",
    "# Speed\n",
    "with out4:\n",
    "    plt.figure(linewidth = 2.5)\n",
    "    plt.figure(figsize=(12,10))\n",
    "    plt.gca().xaxis.grid(False)\n",
    "    ax = sns.pointplot(x=\"taps\", \n",
    "                     y=\"speed\", \n",
    "                     data = StrainConcatenated,\n",
    "                     hue = 'plate',\n",
    "                     palette = Strain_pal,\n",
    "                     ci = 95)\n",
    "    plt.xlabel(\"Taps\", fontsize = '12')\n",
    "    plt.ylabel(\"Speed\", fontsize = '12')\n",
    "    plt.title(f\"{StrainName} Speed of Tap Habituation, {ISI}ISI\", fontsize = '16')\n",
    "    plt.ylim(0,0.5)\n",
    "    ax.legend(loc = 'upper right', fontsize = '12')\n",
    "    plt.savefig(f'{StrainName}_Speed_{ISI}ISI.png_ByPlate', format='png', dpi=450)\n",
    "    plt.show()"
   ]
  },
  {
   "cell_type": "markdown",
   "metadata": {},
   "source": [
    "# 8. Graph Data (Probability, Distance, Duration, Speed of Tap Habituation)\n",
    "\n",
    "## Here, feel free to change the graph title and axis labels! Images are automatically saved in your folder with your data!\n",
    "\n",
    "Note: It has been agreed by the lab that distance is quite an outdated measure, and the three top measures we consider are:\n",
    "\n",
    "## probability, duration and speed."
   ]
  },
  {
   "cell_type": "code",
   "execution_count": null,
   "metadata": {},
   "outputs": [],
   "source": [
    "out1 = widgets.Output() #<- this is part of the code that helps display your graphs in tabs\n",
    "out2 = widgets.Output()\n",
    "out3 = widgets.Output()\n",
    "out4 = widgets.Output()\n",
    "\n",
    "tab = widgets.Tab(children = [out1, out2, out3, out4]) #<- more code to support tab display\n",
    "tab.set_title(0, 'Probability')\n",
    "tab.set_title(1, 'Distance')\n",
    "tab.set_title(2, 'Duration')\n",
    "tab.set_title(3, 'Speed')\n",
    "display(tab)\n",
    "\n",
    "plt.rcParams.update({'lines.markeredgewidth': 1})\n",
    "sns.set_context(\"notebook\")\n",
    "# Probability\n",
    "with out1:\n",
    "    plt.figure(linewidth = 2.5) #<- Make your figure lines THICCCC for clean display (posters)\n",
    "    plt.figure(figsize=(12,10)) #<- set your figure size (width, length)\n",
    "    plt.gca().xaxis.grid(False) #<- gets rid of x-axis markers to make data look clean \n",
    "    ax = sns.pointplot(x=\"taps\", #<- Here we use seaborn as our graphing package. \n",
    "                 y=\"prob\",  \n",
    "                 data = TotalConcatenated,\n",
    "                 hue = 'dataset', #<- Here we use the extra column from step 6 to separate by group\n",
    "                 palette = pal, #<- Change colour palette here if you like\n",
    "                 ci = 68) #<- Confidence interval. 95 = standard error\n",
    "    plt.xlabel(\"Taps\") #<- X-axis title\n",
    "    plt.ylabel(\"Probability\") #<- Y-Axis title\n",
    "    plt.title(f\"Probability of Tap Habituation, {ISI}ISI\") #<- Figure Title\n",
    "    plt.ylim(0,1)\n",
    "    ax.legend(loc = 'upper right', fontsize = '12') #<- location of your legend\n",
    "    plt.savefig(f'Probability_{ISI}ISI.png', format='png', dpi=900) #<- saves your file to your folder at certain DPI\n",
    "    plt.show()\n",
    "\n",
    "# Distance\n",
    "with out2:\n",
    "    plt.figure(linewidth = 2.5)\n",
    "    plt.figure(figsize=(12,10))\n",
    "    plt.gca().xaxis.grid(False)\n",
    "    ax = sns.pointplot(x=\"taps\", \n",
    "                 y=\"dist\", \n",
    "                 data = TotalConcatenated,\n",
    "                 hue = 'dataset',\n",
    "                 palette = pal,\n",
    "                 ci = 68  #ci=68 for sem\n",
    "                      )\n",
    "    plt.xlabel(\"Taps\", fontsize = '12')\n",
    "    plt.ylabel(\"Distance\", fontsize = '12')\n",
    "    plt.title(f\"Distance of Tap Habituation, {ISI}ISI\", fontsize = '16')\n",
    "    plt.ylim(0,None)\n",
    "    ax.legend(loc = 'upper right', fontsize = '12')\n",
    "    plt.savefig(f'Distance_{ISI}ISI.png', format='png', dpi=900)\n",
    "    plt.show()\n",
    "\n",
    "# Duration\n",
    "with out3:\n",
    "    plt.figure(linewidth = 2.5)\n",
    "    plt.figure(figsize=(12,10))\n",
    "    plt.gca().xaxis.grid(False)\n",
    "    ax = sns.pointplot(x=\"taps\", \n",
    "                 y=\"dura\", \n",
    "                 data = TotalConcatenated,\n",
    "                 hue = 'dataset',\n",
    "                 palette = pal,\n",
    "                 ci = 68  #ci=68 for sem\n",
    "                      )\n",
    "    plt.xlabel(\"Taps\", fontsize = '12')\n",
    "    plt.ylabel(\"Duration\", fontsize = '12')\n",
    "    plt.title(f\"Duration of Tap Habituation, {ISI}ISI\", fontsize = '16')\n",
    "    plt.ylim(0,None)\n",
    "    ax.legend(loc = 'upper right', fontsize = '12')\n",
    "    plt.savefig(f'Duration_{ISI}ISI.png', format='png', dpi=900)\n",
    "    plt.show()\n",
    "\n",
    "# Speed\n",
    "with out4:\n",
    "    plt.figure(linewidth = 2.5)\n",
    "    plt.figure(figsize=(12,10))\n",
    "    plt.gca().xaxis.grid(False)\n",
    "    ax = sns.pointplot(x=\"taps\", \n",
    "                 y=\"speed\", \n",
    "                 data = TotalConcatenated,\n",
    "                 hue = 'dataset',\n",
    "                 palette = pal,\n",
    "                 ci = 68 #ci=68 for sem\n",
    "                      )\n",
    "    plt.xlabel(\"Taps\", fontsize = '12')\n",
    "    plt.ylabel(\"Speed\", fontsize = '12')\n",
    "    plt.title(f\"Speed of Tap Habituation, {ISI}ISI\", fontsize = '16')\n",
    "    plt.ylim(0,None)\n",
    "    ax.legend(loc = 'upper right', fontsize = '12')\n",
    "    plt.savefig(f'Speed_{ISI}ISI.png', format='png', dpi=900)\n",
    "    plt.show()"
   ]
  },
  {
   "cell_type": "markdown",
   "metadata": {},
   "source": [
    "# Done!"
   ]
  },
  {
   "cell_type": "code",
   "execution_count": null,
   "metadata": {},
   "outputs": [],
   "source": []
  }
 ],
 "metadata": {
  "kernelspec": {
   "display_name": "Python 3 (ipykernel)",
   "language": "python",
   "name": "python3"
  },
  "language_info": {
   "codemirror_mode": {
    "name": "ipython",
    "version": 3
   },
   "file_extension": ".py",
   "mimetype": "text/x-python",
   "name": "python",
   "nbconvert_exporter": "python",
   "pygments_lexer": "ipython3",
   "version": "3.8.3"
  }
 },
 "nbformat": 4,
 "nbformat_minor": 4
}
