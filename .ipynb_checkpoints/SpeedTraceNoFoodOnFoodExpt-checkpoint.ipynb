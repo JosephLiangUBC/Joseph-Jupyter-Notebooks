{
 "cells": [
  {
   "cell_type": "markdown",
   "metadata": {},
   "source": [
    "# Jupyter Notebook UI to graph your speed trace (with opto) data!\n",
    "\n",
    "Version 1.3 - Joseph Liang, Rankin Lab\n",
    "Updated:\n",
    "1. Upgraded folder path selection application\n",
    "2. Upgraded dataset management (less moving parts for end-user)\n",
    "3. output changed from tif -> png\n",
    "\n",
    "## Known bug: Step 2 an empty windows displays in Mac. May also apply to linux/windows.\n",
    "\n",
    "## Beginner Essentials:\n",
    "1. Shift-Enter to run each cell. After you run, you should see an output \"done step #\". If not, an error has occured\n",
    "2. When inputting your own code/revising the code, make sure you close all your quotation marks '' and brackets (), [], {}.\n",
    "3. Don't leave any commas (,) hanging! (make sure an object always follows a comma. If there is nothing after a comma, remove the comma!\n",
    "4. Learning to code? Each line of code is annotated to help you understand how this code works!\n",
    "\n",
    "## 3. Run all cells/steps sequentially, even the ones that do not require input\n",
    "\n",
    "## Steps that require input: #3, #6.1, #7"
   ]
  },
  {
   "cell_type": "markdown",
   "metadata": {},
   "source": [
    "# 1. Importing Packages Required (No input required, just run)"
   ]
  },
  {
   "cell_type": "code",
   "execution_count": 1,
   "metadata": {},
   "outputs": [
    {
     "name": "stdout",
     "output_type": "stream",
     "text": [
      "done step 1\n"
     ]
    }
   ],
   "source": [
    "import pandas as pd #<- package used to import and organize data\n",
    "import numpy as np #<- package used to import and organize data\n",
    "import seaborn as sns #<- package used to plot graphs\n",
    "from matplotlib import pyplot as plt #<- package used to plot graphs\n",
    "import os #<- package used to work with system filepaths\n",
    "from ipywidgets import widgets #<- widget tool to generate button\n",
    "from IPython.display import display #<- displays button\n",
    "from tkinter import Tk, filedialog #<- Tkinter is a GUI package\n",
    "print(\"done step 1\")"
   ]
  },
  {
   "cell_type": "markdown",
   "metadata": {},
   "source": [
    "# 2. Pick filepath (just run and click button)\n",
    "\n",
    "Run the following cell and clicke the button 'Select Folder' to pick a filepath.\n",
    "\n",
    "## Important: Later on, this script uses the total file path for each file to import and group data. That means if your folder has whatever your strain is named, the script will not work.\n",
    "\n",
    "(ex. if your folder has \"N2\" in it this script sees all files inside this folder as having the \"N2\" search key)\n",
    "\n",
    "## An easy fix is to just rename your folder to something else (make your strains lower-case, or just have the date)"
   ]
  },
  {
   "cell_type": "code",
   "execution_count": 2,
   "metadata": {},
   "outputs": [
    {
     "data": {
      "application/vnd.jupyter.widget-view+json": {
       "model_id": "0783deed0f8a434592947858eaf24370",
       "version_major": 2,
       "version_minor": 0
      },
      "text/plain": [
       "Button(description='Select Folder', style=ButtonStyle())"
      ]
     },
     "metadata": {},
     "output_type": "display_data"
    },
    {
     "name": "stdout",
     "output_type": "stream",
     "text": [
      "/Users/Joseph/Desktop/VG923_VG928_VG929_ATR_NoATR_LongPulse_01_29_2021\n",
      "done step 2\n"
     ]
    }
   ],
   "source": [
    "### Select Folder App - After you run, you can select your folder for filepath\n",
    "button = widgets.Button(description = 'Select Folder') #<- creates a button variable\n",
    "display(button) #<- displays the button in output\n",
    "\n",
    "def select_folder(b): #<- defines an action. This action requires a variable, so an arbitrary one 'b' is there\n",
    "    global folder_path #<- sets a variable as a global variable, not just within this action\n",
    "    #Tk().withdraw() #<- Tkinter likes to create annoying empty windows. This removes them\n",
    "    folder_path = filedialog.askdirectory() #<- Opens up a file explorer window, and determines folder path\n",
    "    #Tk().update() #<- below\n",
    "    #Tk().destroy() #<- this and the line above it removes the file explorer window after a selection is made\n",
    "    print(folder_path) #<- this helps confirm that this action was performed\n",
    "    print('done step 2')\n",
    "button.on_click(select_folder)"
   ]
  },
  {
   "cell_type": "markdown",
   "metadata": {},
   "source": [
    "# 3. User Defined Variables (Add input here)\n",
    "\n",
    "Here, we add some constants to help you blaze through this code.\n",
    "\n",
    "## 3.1: Setting time bins\n",
    "pretty self explanatory\n",
    "\n",
    "## 3.2: Setting light flashes (for visualization of light pulses in opto experiments)\n",
    "Here you are generating a separate dataframe to draw out light bars on your graph to visualize your light pulses. This will take a bit of elementary-level math. Think of it as drawing (connecting-the-dots style) rectangles that are 0.5 high strung-together. Start at (0,0), then (x1,0), then (x1, y1) ... etc\n",
    "\n",
    "____|-----|______|-----|____ etc.  \n",
    "\n",
    "Once you have that written down, put all the y's together in one dataframe, and the x's together in the other one..\n",
    "\n",
    "## 3.3: Setting view range for your graph\n",
    "Top, bottom = y axis view range\n",
    "left, right = x axis view range\n",
    "\n"
   ]
  },
  {
   "cell_type": "code",
   "execution_count": 3,
   "metadata": {},
   "outputs": [
    {
     "name": "stdout",
     "output_type": "stream",
     "text": [
      "d1 = {300: 360}\n",
      "done step 3\n"
     ]
    }
   ],
   "source": [
    "# Setting 0.5s Bins\n",
    "bins = np.linspace(0,360,720) #<- np.linspace(start, end, steps in between)\n",
    "\n",
    "## If you change only something below this line, you can skip straight to step {Graphing} after.\n",
    "\n",
    "# Light Flashes (for optogenetic/ChR2 experiments), if you are not doing Opto, disregard and run as is\n",
    "# lighton = np.arange(600, 890, 70) # where the bars start (start of first pulse, end of last pulse, time between)\n",
    "# lightoff = np.arange(610, 900, 70) # where the bars end (end of first pulse, end of last pulse + 10s, time between)\n",
    "# lighton = np.arange(300, 940, 70) # where the bars start (start of first pulse, end of last pulse, time between)\n",
    "# lightoff = np.arange(310, 950, 70) # where the bars end (end of first pulse, end of last pulse + 10s, time between)\n",
    "# # lighton = np.arange(600, 670, 70) #long pulse new\n",
    "# # lightoff = np.arange(660, 670, 70) #long pulse new\n",
    "# lighton = np.arange(300, 370, 70) #long pulse new\n",
    "# lightoff = np.arange(360, 370, 70) #long pulse new\n",
    "# # lighton = np.arange(200, 270, 70) #old long pulse\n",
    "# # lightoff = np.arange(260, 270, 70) #old long pulse\n",
    "\n",
    "# # create the dictionary\n",
    "# d1 = dict( zip(lighton, lightoff) )\n",
    "# # check\n",
    "# print(\"d1 = {}\".format(d1))\n",
    "# # turn the dictionary into an ITERABLE list of tuples\n",
    "# d2 = list(d1.items()) \n",
    "\n",
    "\n",
    "# Setting viewing range for your graph\n",
    "top = 0.35\n",
    "bottom = 0\n",
    "left = 0\n",
    "right = 360\n",
    "\n",
    "\n",
    "print(\"done step 3\")"
   ]
  },
  {
   "cell_type": "markdown",
   "metadata": {},
   "source": [
    "# 4. Construct filelist from folder path (No input required, just run)"
   ]
  },
  {
   "cell_type": "code",
   "execution_count": 4,
   "metadata": {},
   "outputs": [
    {
     "name": "stdout",
     "output_type": "stream",
     "text": [
      "/Users/Joseph/Desktop/VG923_VG928_VG929_ATR_NoATR_LongPulse_01_29_2021\n",
      "['/Users/Joseph/Desktop/VG923_VG928_VG929_ATR_NoATR_LongPulse_01_29_2021/VG923_ATR/20210129_135920/VG923_ATR_10x4_n72h20C_300s1x60s_C0129_ab.dat', '/Users/Joseph/Desktop/VG923_VG928_VG929_ATR_NoATR_LongPulse_01_29_2021/VG923_ATR/20210129_140428/VG923_ATR_10x4_n72h20C_300s1x60s_B0129_ac.dat', '/Users/Joseph/Desktop/VG923_VG928_VG929_ATR_NoATR_LongPulse_01_29_2021/VG923_ATR/20210129_150128/VG923_ATR_10x4_n72h20C_300s1x60s_C0129_af.dat', '/Users/Joseph/Desktop/VG923_VG928_VG929_ATR_NoATR_LongPulse_01_29_2021/VG923_ATR/20210129_150602/VG923_ATR_10x4_n72h20C_300s1x60s_B0129_af.dat', '/Users/Joseph/Desktop/VG923_VG928_VG929_ATR_NoATR_LongPulse_01_29_2021/VG923_ATR/20210129_142721/VG923_ATR_10x4_n72h20C_300s1x60s_A0129_ad.dat', '/Users/Joseph/Desktop/VG923_VG928_VG929_ATR_NoATR_LongPulse_01_29_2021/VG923_ATR/20210129_153059/VG923_ATR_10x4_n72h20C_300s1x60s_A0129_ag.dat', '/Users/Joseph/Desktop/VG923_VG928_VG929_ATR_NoATR_LongPulse_01_29_2021/VG928_NoATR/20210129_131026/VG928_NoATR_10x4_n72h20C_300s1x60s_B0129_ca.dat', '/Users/Joseph/Desktop/VG923_VG928_VG929_ATR_NoATR_LongPulse_01_29_2021/VG923_NoATR/20210129_133451/VG923_NoATR_10x4_n72h20C_300s1x60s_A0129_aa.dat', '/Users/Joseph/Desktop/VG923_VG928_VG929_ATR_NoATR_LongPulse_01_29_2021/VG929_ATR/20210129_133232/VG929_ATR_10x4_n72h20C_300s1x60s_C0129_dc.dat', '/Users/Joseph/Desktop/VG923_VG928_VG929_ATR_NoATR_LongPulse_01_29_2021/VG929_ATR/20210129_144053/VG929_ATR_10x4_n72h20C_300s1x60s_C0129_df.dat', '/Users/Joseph/Desktop/VG923_VG928_VG929_ATR_NoATR_LongPulse_01_29_2021/VG929_ATR/20210129_133934/VG929_ATR_10x4_n72h20C_300s1x60s_B0129_db.dat', '/Users/Joseph/Desktop/VG923_VG928_VG929_ATR_NoATR_LongPulse_01_29_2021/VG929_ATR/20210129_151118/VG929_ATR_10x4_n72h20C_300s1x60s_A0129_dd.dat', '/Users/Joseph/Desktop/VG923_VG928_VG929_ATR_NoATR_LongPulse_01_29_2021/VG929_ATR/20210129_144632/VG929_ATR_10x4_n72h20C_300s1x60s_B0129_de.dat', '/Users/Joseph/Desktop/VG923_VG928_VG929_ATR_NoATR_LongPulse_01_29_2021/VG929_ATR/20210129_140218/VG929_ATR_10x4_n72h20C_300s1x60s_A0129_da.dat', '/Users/Joseph/Desktop/VG923_VG928_VG929_ATR_NoATR_LongPulse_01_29_2021/VG928_ATR/20210129_141807/VG928_ATR_10x4_n72h20C_300s1x60s_C0129_cc.dat', '/Users/Joseph/Desktop/VG923_VG928_VG929_ATR_NoATR_LongPulse_01_29_2021/VG928_ATR/20210129_142503/VG928_ATR_10x4_n72h20C_300s1x60s_B0129_cd.dat', '/Users/Joseph/Desktop/VG923_VG928_VG929_ATR_NoATR_LongPulse_01_29_2021/VG928_ATR/20210129_144846/VG928_ATR_10x4_n72h20C_300s1x60s_A0129_cb.dat', '/Users/Joseph/Desktop/VG923_VG928_VG929_ATR_NoATR_LongPulse_01_29_2021/VG928_ATR/20210129_152054/VG928_ATR_10x4_n72h20C_300s1x60s_C0129_cf.dat', '/Users/Joseph/Desktop/VG923_VG928_VG929_ATR_NoATR_LongPulse_01_29_2021/VG928_ATR/20210129_152648/VG928_ATR_10x4_n72h20C_300s1x60s_B0129_cg.dat']\n",
      "done step 4\n"
     ]
    }
   ],
   "source": [
    "#folder_path = '/Users/Joseph/Desktop/lrk1_ATR_NoATR_08_15_2019'\n",
    "print(folder_path)\n",
    "os.chdir(folder_path) #<- setting your working directory so that your images will be saved here\n",
    "\n",
    "filelist = list() #<- empty list\n",
    "for root, dirs, files in os.walk(folder_path): #<- this for loop goes through your folder \n",
    "    for name in files:\n",
    "        if name.endswith('.dat'): #<- and takes out all files with a .dat (file that contains your data)\n",
    "            filepath = os.path.join(root, name) #<- Notes down the file path of each data file\n",
    "            filelist.append(filepath) #<- saves it into the list\n",
    "    \n",
    "print(filelist)\n",
    "print('done step 4')"
   ]
  },
  {
   "cell_type": "markdown",
   "metadata": {},
   "source": [
    "# 5. Process Data Function (No input required, just run)"
   ]
  },
  {
   "cell_type": "code",
   "execution_count": 5,
   "metadata": {},
   "outputs": [
    {
     "name": "stdout",
     "output_type": "stream",
     "text": [
      "done step 5\n"
     ]
    }
   ],
   "source": [
    "def ProcessData(strain): #<- an example of a user-defined function\n",
    "    strain_filelist = []  #<- empty list\n",
    "    for i in filelist: #<- goes through the list and filters for keyword\n",
    "        if strain in i:\n",
    "            strain_filelist.append(i)\n",
    "    Strain_N = len(strain_filelist) #<- N per strain, or number of plates\n",
    "    print(f'This Strain has {Strain_N} plates') #<- prints out number of plates per strain\n",
    "    for i, f in enumerate(strain_filelist, start=1): #<- a progress bar function integrated into data import\n",
    "        N = len(strain_filelist)\n",
    "        statement = f\"Processing {i} of {N} plates\" #<- progress bar statement\n",
    "        DF_Read = pd.read_csv(f, sep=' ', skiprows = 0, header = None) #<- imports and cleans data\n",
    "        if i==1:\n",
    "            DF_Total = DF_Read\n",
    "        else:\n",
    "            DF_Total = pd.concat((DF_Total, DF_Read), ignore_index = False)  #<- imports and cleans data\n",
    "        print(statement)\n",
    "    DF_Total = DF_Total.dropna(axis = 1) #<- more data cleaning\n",
    "    DF_Total = DF_Total.rename( #<- more data cleaning\n",
    "                {0:'time',\n",
    "                1:'speed'}, axis=1)\n",
    "    #0.5s Bins\n",
    "    Bins = [float(i) for i in bins] #<- adds time bins into the data frame\n",
    "    DF_Total['time_bin'] = pd.cut(DF_Total['time'], Bins, labels = Bins[1:])\n",
    "    DF_Speed_DF = DF_Total[[\"time_bin\", \"speed\"]].copy()\n",
    "    \n",
    "    return{\n",
    "            'N': Strain_N,\n",
    "            'Confirm':DF_Total,\n",
    "            'Speed_DF': DF_Speed_DF, #<- this is the finished product we will use for analysis\n",
    "            'Filelist':strain_filelist} \n",
    "\n",
    "print('done step 5')"
   ]
  },
  {
   "cell_type": "markdown",
   "metadata": {},
   "source": [
    "# 6.1 Processing Data (Please Read, Input Here)\n",
    "\n",
    "Here is the hardest part - From your naming convention, you need to pick a unique identifier for each group.\n",
    "\n",
    "This means that all of names of your files for that strain should have that in common but is not commone with across all other files! If you did a good job naming your files and following a good naming convention, this should be easy.\n",
    "\n",
    "## Be careful and really look hard in your naming structure. Note you want an unique identifier in the entire file path for the same group of files. An easy mistake is to have the strain name in the folder name, in this case if you use your strain name as a keyword it would include all files in that folder!\n",
    "\n",
    "For example, if all your N2 files have a certain pattern like \"N2_5x4\" in this following example:\n",
    "'/Users/Joseph/Desktop/AVR14_10sISI_TapHab_0710_2019/N2/20190710_141740/N2_5x4_f94h20c_100s30x10s10s_C0710ab.trv'\n",
    "\n",
    "Then you need to set that identifier for the strain keyword:\n",
    "'Strain_1' = 'N2_5x4'\n",
    "\n",
    "In the same example, if the identifier for your second strain is 'AVR14', then the N2 files will also be included, as this identifier can also be found in this file path.\n",
    "\n",
    "## Depending on how many strains you are running for comparison, you may need to add/delete some lines.\n",
    "\n",
    "You are not naming your data groups here, we have a step for that later.\n",
    "## Here, you want to note down ALL the strains you have in the folder\n",
    "\n",
    "If you have just 2 strains, add hashtags (#) in front of the lines you do not need.\n",
    "If you need more strains, just add more lines, following the same format!"
   ]
  },
  {
   "cell_type": "code",
   "execution_count": 6,
   "metadata": {},
   "outputs": [
    {
     "name": "stdout",
     "output_type": "stream",
     "text": [
      "done step 6.1\n"
     ]
    }
   ],
   "source": [
    "#Format: Strain_# = 'unique_identifier'\n",
    "\n",
    "### Make into dictionary\n",
    "StrainNames = {\n",
    "    'Strain_1' : 'VG923_ATR_',   #<- each strain will be designated to a unique identifier here\n",
    "#     'Strain_2' : 'VG923_NoATR_',\n",
    "#     'Strain_3' : 'VG928_ATR_',\n",
    "#     'Strain_4' : 'VG928_NoATR_',\n",
    "#     'Strain_5' : 'VG929_ATR_10',\n",
    "    'Strain_6' : '',\n",
    "    'Strain_7' : '',\n",
    "    'Strain_8' : '',\n",
    "    'Strain_9' : '',  #<- empty entries are for those hardcore trackers that tracking this many strains\n",
    "    'Strain_10' : '',\n",
    "    'Strain_11' : '',\n",
    "    'Strain_12' : '',\n",
    "    'Strain_13' : '',\n",
    "    'Strain_14' : '',\n",
    "    'Strain_15' : '',}\n",
    "#...etc, etc\n",
    "\n",
    "print('done step 6.1')"
   ]
  },
  {
   "cell_type": "markdown",
   "metadata": {},
   "source": [
    "# 6.2 Process Data (just run this cell)"
   ]
  },
  {
   "cell_type": "code",
   "execution_count": 8,
   "metadata": {},
   "outputs": [
    {
     "name": "stdout",
     "output_type": "stream",
     "text": [
      "This Strain has 6 plates\n",
      "Processing 1 of 6 plates\n",
      "Processing 2 of 6 plates\n",
      "Processing 3 of 6 plates\n",
      "Processing 4 of 6 plates\n",
      "Processing 5 of 6 plates\n",
      "Processing 6 of 6 plates\n",
      "done step 6.2\n"
     ]
    }
   ],
   "source": [
    "DataLists = [0] #<- generates empty list. 0 is there to account for python's index starting at 0. \n",
    "# we want indexing to start at 1 (when I say #1 I want the first point, not the second point)\n",
    "\n",
    "for s in StrainNames.values(): #<- goes through the dictionary in step 6.1 and processes data\n",
    "    if not s == '':\n",
    "        DataLists.append(ProcessData(s)['Speed_DF']) #<- appends all data into a list of dataframes\n",
    "# print(DataLists[2])\n",
    "print('done step 6.2')"
   ]
  },
  {
   "cell_type": "markdown",
   "metadata": {},
   "source": [
    "# 7. Grouping Data and Naming (Optional: Add input here)\n",
    "\n",
    "Here, you get to name your data groups/strain! Name your groups however you like under between the quotation marks for each strain.\n",
    "\n",
    "For example: If your Strain1 is N2 and you wish for the group to be called N2,\n",
    "your line should look like:\n",
    "\n",
    "DataLists[x].assign(dataset = 'N2')\n",
    "\n",
    "## Go back to step 6.1 to check which strain is which item on the DataLists.\n",
    "In this example, the first item on DataLists is AQ2028_b.\n",
    "\n",
    "\n",
    "## Remember: Put your name in quotes. (ex: 'N2' and not N2)\n",
    "\n",
    "As default, the names are set to the unique identifier labels.\n",
    "\n",
    "## Depending on the number of strains you are running the comparison, you may have to delete/add lines of code (following the same format). \n",
    "## Remember to add/delete commas too.\n",
    "\n",
    "# If you want to change your groups, you do that here. \n",
    "For example, if you have 5 strains in your folder but only want to compare between 2 or 3 strains, designate that here and follow through with steps 6 and 7. Once you are done, come back to step 6 and change your groups again (You are going to have to change your graph titles for the second run-through though)!"
   ]
  },
  {
   "cell_type": "code",
   "execution_count": 9,
   "metadata": {},
   "outputs": [
    {
     "name": "stdout",
     "output_type": "stream",
     "text": [
      "         time_bin   speed    Strain\n",
      "0        0.500208  0.0000  Wildtype\n",
      "1        0.500208  0.0000  Wildtype\n",
      "2        0.500208  0.0000  Wildtype\n",
      "3        0.500208  0.0000  Wildtype\n",
      "4        0.500208  0.0000  Wildtype\n",
      "...           ...     ...       ...\n",
      "11465  600.250104  0.1409  Wildtype\n",
      "11466  600.250104  0.1780  Wildtype\n",
      "11467  600.250104  0.2061  Wildtype\n",
      "11468  600.250104  0.0000  Wildtype\n",
      "11469  600.250104  0.0000  Wildtype\n",
      "\n",
      "[66976 rows x 3 columns]\n",
      "done step 7\n"
     ]
    }
   ],
   "source": [
    "#to add a line, add a comma to the last line and press 'enter' to type into a new line\n",
    "TotalConcatenated = pd.concat([\n",
    "                            DataLists[1].assign(Strain = \"Wildtype\"),\n",
    "#                                DataLists[2].assign(Strain = \"Control - No ATR\"),\n",
    "#                                DataLists[3].assign(Strain = \"lrk-1 (tm1898) + ATR\"),\n",
    "#                                DataLists[4].assign(Strain = \"lrk-1 (tm1898) - ATR\"),\n",
    "#                                DataLists[5].assign(Strain = \"cat-2 (e1112) + ATR\")\n",
    "#                                DataLists[6].assign(Strain = \"cat-2 (e1112)\")\n",
    "                              ])\n",
    "print(TotalConcatenated)\n",
    "print('done step 7')"
   ]
  },
  {
   "cell_type": "markdown",
   "metadata": {},
   "source": [
    "# 8.1 Graphing with Light Pulses (Skip to 7.2 if you are not using ChR2)\n",
    "\n",
    "## Here, feel free to change the graph title and axis labels! Images are automatically saved in your folder with your data.\n",
    "\n",
    "# Here, you may need to be patient - this code goes through millions of rows of data to plot your graph, so it may take a minute (or two.... or more...)\n",
    "\n",
    "Palette:\n",
    "\n",
    "Wildtype (ce314): (0.2980392156862745, 0.4470588235294118, 0.6901960784313725)\n",
    "\n",
    "lrk-1: (0.8666666666666667, 0.5176470588235295, 0.3215686274509804)\n",
    "\n",
    "vps-35 (hu68): (0.7686274509803922, 0.3058823529411765, 0.3215686274509804)\n",
    "\n",
    "vps-35 (ok1880): (0.5058823529411764, 0.4470588235294118, 0.7019607843137254)\n",
    "\n",
    "cat-2 (e1112): #8B008B\n",
    "\n",
    "cat-2 (e1112) No ATR: #FF00FF\n",
    "\n",
    "ce314 without ATR: #20B2AA (light see green)\n",
    "\n",
    "ok530 with ATR: #8B4513 (saddle brown)\n",
    "\n",
    "ok530 without ATR: #D2691E (chocolate)\n",
    "\n",
    "control + ATR: \"black\"\n",
    "\n",
    "control - ATR: \"gray\"\n",
    "\n",
    "lrk-1_1 + ATR: \"navy\"\n",
    "\n",
    "lrk-1_1 - ATR: \"royalblue\"\n",
    "\n",
    "lrk-1_2 + ATR: \"green\"\n",
    "\n",
    "lrk-1_2 - ATR: \"lightgreen\""
   ]
  },
  {
   "cell_type": "code",
   "execution_count": 17,
   "metadata": {},
   "outputs": [
    {
     "name": "stdout",
     "output_type": "stream",
     "text": [
      "Creating bar: 300-360\n"
     ]
    },
    {
     "data": {
      "text/plain": [
       "<Figure size 432x288 with 0 Axes>"
      ]
     },
     "metadata": {},
     "output_type": "display_data"
    },
    {
     "data": {
      "image/png": "[encoded data removed]",
      "text/plain": [
       "<Figure size 864x504 with 1 Axes>"
      ]
     },
     "metadata": {
      "needs_background": "light"
     },
     "output_type": "display_data"
    }
   ],
   "source": [
    "sns.set_context(\"talk\")\n",
    "plt.figure(linewidth = 2.5)#<- Make your figure lines THICCCC for clean display (posters)\n",
    "plt.figure(figsize=(12,7))#<- set your figure size (width, length)\n",
    "plt.gca().xaxis.grid(False)#<- gets rid of x-axis markers to make data look clean \n",
    "for tuple in d2:\n",
    "    print(\"Creating bar: {}-{}\".format(tuple[0], tuple[1]))\n",
    "    plt.axvspan(xmin=tuple[0], xmax=tuple[1], facecolor=\"#99FFFF\", alpha=0.2) # alpha controls how transparent the bars are  #<- the blue bars indicating light pulse\n",
    "ax = sns.lineplot(x=\"time_bin\", #<- Here we use seaborn as our graphing package. \n",
    "             y=\"speed\", \n",
    "             data = TotalConcatenated,\n",
    "             hue = 'Strain', #<- Here we use the extra column from step 6 to separate by group\n",
    "             palette = [\n",
    "                 (0.2980392156862745, 0.4470588235294118, 0.6901960784313725),\n",
    "                        '#20B2AA',\n",
    "                        'green',\n",
    "                        'lightgreen',\n",
    "#                         '#8B008B'\n",
    "#                         'royalblue',\n",
    "#                         'green',\n",
    "#                         '#D2691E'\n",
    "#                         \"lightgreen\"\n",
    "                       ]#<- Change colour palette here if you like\n",
    "                 )\n",
    "plt.xlabel(\"Time (s)\")#<- X-axis title\n",
    "plt.ylabel(\"Speed (mm/s)\")#<- Y-Axis title\n",
    "plt.title(\"\")#<- Figure Title\n",
    "plt.ylim(top = top) #<- setting the viewing range, from previous input in step 2\n",
    "plt.ylim(bottom = bottom)\n",
    "plt.xlim(left= left)\n",
    "plt.xlim(right = right)\n",
    "ax.legend(loc = 'upper right', fontsize = '13') #<- location of your legend\n",
    "# plt.legend([],[], frameon=False)\n",
    "# plt.tick_params(\n",
    "#     axis='x',\n",
    "#     which='both',\n",
    "#     bottom=False,\n",
    "#     top=False,\n",
    "#     labelbottom=False)\n",
    "# ax.legend().remove()\n",
    "# plt.savefig(f'Speed_Trace_{left}to{right}s.png', format='png', dpi=450) #<- saves the figure to a tif file\n",
    "plt.savefig(f'Speed_Trace_{left}to{right}s_ATRNoATR.png', format='png', dpi=450) #<- saves the figure to a png file\n",
    "plt.show()\n"
   ]
  },
  {
   "cell_type": "markdown",
   "metadata": {},
   "source": [
    "# 8.2 Graphing without Light Pulse (Run this if you dont use ChR2)"
   ]
  },
  {
   "cell_type": "code",
   "execution_count": null,
   "metadata": {},
   "outputs": [],
   "source": [
    "plt.figure(linewidth = 2.5)\n",
    "plt.figure(figsize=(12,7))\n",
    "plt.gca().xaxis.grid(False)\n",
    "ax = sns.lineplot(x=\"time_bin\", \n",
    "             y=\"speed\", \n",
    "             data = TotalConcatenated,\n",
    "             hue = 'dataset',\n",
    "             palette = 'deep')\n",
    "plt.xlabel(\"Time (s)\")\n",
    "plt.ylabel(\"Speed (mm/s)\")\n",
    "plt.title(\"Speed Trace\")\n",
    "plt.ylim(top = top)\n",
    "plt.ylim(bottom = bottom)\n",
    "plt.xlim(left= left)\n",
    "plt.xlim(right = right)\n",
    "ax.legend(loc = 'upper right', fontsize = '13')\n",
    "plt.savefig(f'Speed_Trace_{left}to{right}s.png', format='png', dpi=900)\n",
    "plt.show()"
   ]
  },
  {
   "cell_type": "markdown",
   "metadata": {},
   "source": [
    "# 8.3 Graphing Bar Graphs"
   ]
  },
  {
   "cell_type": "code",
   "execution_count": null,
   "metadata": {},
   "outputs": [],
   "source": []
  },
  {
   "cell_type": "markdown",
   "metadata": {},
   "source": [
    "# Done!"
   ]
  }
 ],
 "metadata": {
  "kernelspec": {
   "display_name": "Python 3",
   "language": "python",
   "name": "python3"
  },
  "language_info": {
   "codemirror_mode": {
    "name": "ipython",
    "version": 3
   },
   "file_extension": ".py",
   "mimetype": "text/x-python",
   "name": "python",
   "nbconvert_exporter": "python",
   "pygments_lexer": "ipython3",
   "version": "3.8.3"
  }
 },
 "nbformat": 4,
 "nbformat_minor": 4
}
