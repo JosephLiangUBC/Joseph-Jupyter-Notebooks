{
 "cells": [
  {
   "cell_type": "code",
   "execution_count": null,
   "id": "429fea60",
   "metadata": {},
   "outputs": [],
   "source": [
    "import pandas as pd #<- package used to import and organize data\n",
    "import numpy as np #<- package used to import and organize data\n",
    "import os #<- package used to work with system filepaths\n",
    "import subprocess\n",
    "from ipywidgets import widgets #<- widget tool to generate button\n",
    "from IPython.display import display #<- displays button\n",
    "# from tkinter import Tk, filedialog #<- Tkinter is a GUI package\n",
    "from tqdm.notebook import tqdm\n",
    "from ipyfilechooser import FileChooser\n",
    "\n",
    "print(\"done step 1\")"
   ]
  },
  {
   "cell_type": "code",
   "execution_count": null,
   "id": "8aa35d04",
   "metadata": {},
   "outputs": [],
   "source": [
    "starting_directory='/Users/Joseph/Desktop/'\n",
    "chooser=FileChooser(starting_directory)\n",
    "display(chooser)"
   ]
  },
  {
   "cell_type": "code",
   "execution_count": null,
   "id": "5851fc51",
   "metadata": {},
   "outputs": [],
   "source": [
    "folder_path=chooser.selected_path\n",
    "print(folder_path)"
   ]
  },
  {
   "cell_type": "code",
   "execution_count": null,
   "id": "62a1c37a",
   "metadata": {},
   "outputs": [],
   "source": [
    "#folder_path = '/Users/Joseph/Desktop/lrk1_ATR_NoATR_08_15_2019'\n",
    "print(folder_path)\n",
    "os.chdir(folder_path) #<- setting your working directory so that your images will be saved here\n",
    "\n",
    "filelist = list() #<- empty list\n",
    "for root, dirs, files in os.walk(folder_path): #<- this for loop goes through your folder \n",
    "    for name in files:\n",
    "        if name.endswith('.zip'): #<- and takes out all files with a .dat (file that contains your data)\n",
    "            filepath = os.path.join(root, name) #<- Notes down the file path of each data file\n",
    "            filelist.append(filepath) #<- saves it into the list\n",
    "    \n",
    "print(filelist)\n",
    "print('done step 3')"
   ]
  },
  {
   "cell_type": "markdown",
   "id": "6d1cb6b3",
   "metadata": {},
   "source": [
    "# For Analyzing Basal Slowing Statistics"
   ]
  },
  {
   "cell_type": "code",
   "execution_count": null,
   "id": "c88d3f08",
   "metadata": {},
   "outputs": [],
   "source": [
    "# for speed\n",
    "for f in tqdm(filelist):\n",
    "    subprocess.call(['java', '-Xms13g','-jar', \n",
    "                     '/users/Joseph/Desktop/Chore.jar', \n",
    "                     '-p', '0.027', \n",
    "                     '-s', '0.1', \n",
    "                     '-t', '20', \n",
    "                     '-N', 'all', \n",
    "                     '-M', '0', \n",
    "                     '--shadowless', \n",
    "                     '-S', \n",
    "                     '-o', 'sxySPkbcdrlmwMe', \n",
    "                     f'{f}'])"
   ]
  }
 ],
 "metadata": {
  "kernelspec": {
   "display_name": "Python 3 (ipykernel)",
   "language": "python",
   "name": "python3"
  },
  "language_info": {
   "codemirror_mode": {
    "name": "ipython",
    "version": 3
   },
   "file_extension": ".py",
   "mimetype": "text/x-python",
   "name": "python",
   "nbconvert_exporter": "python",
   "pygments_lexer": "ipython3",
   "version": "3.11.1"
  }
 },
 "nbformat": 4,
 "nbformat_minor": 5
}
