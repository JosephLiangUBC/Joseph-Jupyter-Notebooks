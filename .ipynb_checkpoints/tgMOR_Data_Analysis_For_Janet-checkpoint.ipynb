{
 "cells": [
  {
   "cell_type": "code",
   "execution_count": null,
   "id": "782f7fb9-a931-46ad-8b55-757b7bb5a635",
   "metadata": {},
   "outputs": [],
   "source": [
    "import pandas as pd\n",
    "import seaborn as sns\n",
    "import numpy as np\n",
    "import matplotlib.pyplot as plt\n",
    "from ipyfilechooser import FileChooser"
   ]
  },
  {
   "cell_type": "code",
   "execution_count": null,
   "id": "4b3eba2f-5c15-4c91-8646-2fc516311e51",
   "metadata": {},
   "outputs": [],
   "source": [
    "starting_directory='/Users/Joseph/Desktop/'\n",
    "chooser=FileChooser(starting_directory)\n",
    "display(chooser)"
   ]
  },
  {
   "cell_type": "code",
   "execution_count": null,
   "id": "7c2e2876-19e6-447c-a79a-c48bcf873d2b",
   "metadata": {},
   "outputs": [],
   "source": [
    "folder_path=chooser.selected_path\n",
    "print(folder_path)"
   ]
  }
 ],
 "metadata": {
  "kernelspec": {
   "display_name": "Python 3 (ipykernel)",
   "language": "python",
   "name": "python3"
  },
  "language_info": {
   "codemirror_mode": {
    "name": "ipython",
    "version": 3
   },
   "file_extension": ".py",
   "mimetype": "text/x-python",
   "name": "python",
   "nbconvert_exporter": "python",
   "pygments_lexer": "ipython3",
   "version": "3.11.1"
  }
 },
 "nbformat": 4,
 "nbformat_minor": 5
}
