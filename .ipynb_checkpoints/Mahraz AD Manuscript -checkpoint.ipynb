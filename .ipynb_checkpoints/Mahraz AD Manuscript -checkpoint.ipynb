{
 "cells": [
  {
   "cell_type": "code",
   "execution_count": 1,
   "metadata": {},
   "outputs": [
    {
     "name": "stderr",
     "output_type": "stream",
     "text": [
      "This process is not trusted! Input event monitoring will not be possible until it is added to accessibility clients.\n"
     ]
    }
   ],
   "source": [
    "from matplotlib import pyplot as plt #<- package used to plot graphs\n",
    "import pandas as pd\n",
    "import numpy as np\n",
    "from pandasgui import show\n",
    "import plotly.graph_objects as go\n",
    "import plotly.express as px\n",
    "import seaborn as sns\n",
    "import pingouin as pg"
   ]
  },
  {
   "cell_type": "code",
   "execution_count": null,
   "metadata": {},
   "outputs": [],
   "source": [
    "df = pd.read_csv('/Users/Joseph/Desktop/2020_10_23_Quantifications.csv')\n",
    "gui = show(df)"
   ]
  },
  {
   "cell_type": "code",
   "execution_count": null,
   "metadata": {},
   "outputs": [],
   "source": [
    "df = pd.read_csv('/Users/Joseph/Desktop/2020_10_23_Quantifications.csv')\n",
    "# fig = px.violin(df, \n",
    "#                 y='Average Size', \n",
    "#                 x='Genotype', \n",
    "#                 color = 'Strain', \n",
    "#                 points='all',\n",
    "#                 pointpos=0,\n",
    "#                 box=True,\n",
    "#                )\n",
    "# fig.show()\n",
    "\n",
    "# ### define the chart\n",
    "# data = go.Violin(y=df['Average Size'], \n",
    "#                  x=df['Genotype'],\n",
    "#                  color = 'Genotype',\n",
    "#                  points='all', \n",
    "#                  pointpos=0,\n",
    "#                  box=True,\n",
    "#                 )\n",
    "\n",
    "# ### assign the chart to the figure\n",
    "# fig = go.Figure(data=data)\n",
    "\n",
    "# ### show the plot\n",
    "# fig.show()\n",
    "\n",
    "sns.set_context(\"talk\")\n",
    "plt.figure(linewidth = 2.5)#<- Make your figure lines THICCCC for clean display (posters)\n",
    "plt.figure(figsize=(10,6))#<- set your figure size (width, length)\n",
    "ax = sns.violinplot(data=df,\n",
    "                   y=\"Average Size\",\n",
    "                   x=\"Genotype\",\n",
    "                   palette = [\"grey\", '#8B008B', (0.5058823529411764, 0.4470588235294118, 0.7019607843137254), (0.7686274509803922, 0.3058823529411765, 0.3215686274509804)],\n",
    "                   scale=\"count\",\n",
    "                   inner=\"point\")\n",
    "plt.savefig('/Users/Joseph/Desktop/AverageSize.png', format='png', dpi=450) #<- saves the figure to a png file\n",
    "plt.show()"
   ]
  },
  {
   "cell_type": "markdown",
   "metadata": {},
   "source": [
    "# Figure 7C: GFP Area Quantification - Violin Plot "
   ]
  },
  {
   "cell_type": "code",
   "execution_count": null,
   "metadata": {},
   "outputs": [],
   "source": [
    "# Figure 7C\n",
    "df = pd.read_csv('/Users/Joseph/Desktop/Figure_7C_RAW.csv')\n",
    "fig = px.violin(df, \n",
    "                y='GFP Area', \n",
    "                x='Age (hrs)', \n",
    "                color = 'Genotype', \n",
    "                points='all', \n",
    "                box=True, \n",
    "                color_discrete_sequence=px.colors.qualitative.D3,\n",
    "               labels={\n",
    "                   \"GFP Area\": \"GFP Aea (Pixels<sup>2</sup>)\"\n",
    "               })\n",
    "fig.show()"
   ]
  },
  {
   "cell_type": "code",
   "execution_count": null,
   "metadata": {},
   "outputs": [],
   "source": [
    "config = {\n",
    "  'toImageButtonOptions': {\n",
    "    'format': 'png', # one of png, svg, jpeg, webp\n",
    "    'filename': 'custom_image',\n",
    "    'height': 900,\n",
    "    'width': 1400,\n",
    "    'scale': 1 # Multiply title/legend/axis/canvas sizes by this factor\n",
    "  }\n",
    "}\n",
    "\n",
    "\n",
    "df = pd.read_csv('/Users/Joseph/Desktop/MahrazData/Figure_7C_RAW.csv')\n",
    "fig = go.Figure()\n",
    "\n",
    "fig.add_trace(go.Violin(x=df['Age (hrs)'][ df['Genotype'] == 'WT' ],\n",
    "                        y=df['GFP Area'][ df['Genotype'] == 'WT' ],\n",
    "                        legendgroup='Yes', scalegroup='Yes', name='Wildtype',\n",
    "                        side='negative', points = \"all\", meanline=dict(color=\"black\"),\n",
    "                        line=dict(color='#1F77B4', width=4))\n",
    "             )\n",
    "fig.add_trace(go.Violin(x=df['Age (hrs)'][ df['Genotype'] == '<i>sel-12 (ok2078)</i>' ],\n",
    "                        y=df['GFP Area'][ df['Genotype'] == '<i>sel-12 (ok2078)</i>' ],\n",
    "                        legendgroup='No', scalegroup='No', name='<i>sel-12 (ok2078)</i>',\n",
    "                        side='positive', points = \"all\",meanline=dict(color=\"black\"),\n",
    "                        line=dict(color='#FF7F0E', width=4))\n",
    "             )\n",
    "fig.update_traces(meanline_visible=True)\n",
    "fig.update_layout(violingap=0, violinmode='overlay')\n",
    "fig.show(config=config)"
   ]
  },
  {
   "cell_type": "code",
   "execution_count": null,
   "metadata": {},
   "outputs": [],
   "source": [
    "config = {\n",
    "  'toImageButtonOptions': {\n",
    "    'format': 'png', # one of png, svg, jpeg, webp\n",
    "    'filename': 'custom_image',\n",
    "    'height': 900,\n",
    "    'width': 1400,\n",
    "    'scale': 1 # Multiply title/legend/axis/canvas sizes by this factor\n",
    "  }\n",
    "}\n",
    "\n",
    "\n",
    "df = pd.read_csv('/Users/Joseph/Desktop/ASH_May20_2021/May22_7C_RAW.csv')\n",
    "fig = go.Figure()\n",
    "\n",
    "fig.add_trace(go.Violin(x=df['Age (hrs)'][ df['Genotype'] == 'WT' ],\n",
    "                        y=df['GFP Area'][ df['Genotype'] == 'WT' ],\n",
    "                        legendgroup='Yes', scalegroup='Yes', name='Wildtype',\n",
    "                        side='negative', points = \"all\", meanline=dict(color=\"black\"),\n",
    "                        line=dict(color='#1F77B4', width=4))\n",
    "             )\n",
    "fig.add_trace(go.Violin(x=df['Age (hrs)'][ df['Genotype'] == '<i>sel-12 (ok2078)</i>' ],\n",
    "                        y=df['GFP Area'][ df['Genotype'] == '<i>sel-12 (ok2078)</i>' ],\n",
    "                        legendgroup='No', scalegroup='No', name='<i>sel-12 (ok2078)</i>',\n",
    "                        side='positive', points = \"all\",meanline=dict(color=\"black\"),\n",
    "                        line=dict(color='#FF7F0E', width=4))\n",
    "             )\n",
    "fig.update_traces(meanline_visible=True)\n",
    "fig.update_layout(violingap=0, violinmode='overlay')\n",
    "fig.show(config=config)"
   ]
  },
  {
   "cell_type": "code",
   "execution_count": null,
   "metadata": {},
   "outputs": [],
   "source": [
    "config = {\n",
    "  'toImageButtonOptions': {\n",
    "    'format': 'png', # one of png, svg, jpeg, webp\n",
    "    'filename': 'custom_image',\n",
    "    'height': 900,\n",
    "    'width': 1400,\n",
    "    'scale': 1 # Multiply title/legend/axis/canvas sizes by this factor\n",
    "  }\n",
    "}\n",
    "\n",
    "\n",
    "df = pd.read_csv('/Users/Joseph/Desktop/MahrazData/Figure_7C_RAW.csv')\n",
    "fig = go.Figure()\n",
    "\n",
    "\n",
    "fig.add_trace(go.Violin(x=df['Age (hrs)'][ df['Genotype'] == 'WT' ],\n",
    "                        y=df['GFP Area'][ df['Genotype'] == 'WT' ],line_color=\"#1F77B4\",\n",
    "                        legendgroup='Yes', scalegroup='Yes', name='Wildtype',\n",
    "                        side='negative', points =False, meanline=dict(color=\"black\"),\n",
    "                        line=dict(color='#1F77B4', width=4))\n",
    "             )\n",
    "fig.add_trace(go.Violin(x=df['Age (hrs)'][ df['Genotype'] == '<i>sel-12 (ok2078)</i>' ],\n",
    "                        y=df['GFP Area'][ df['Genotype'] == '<i>sel-12 (ok2078)</i>' ],line_color=\"#FF7F0E\",\n",
    "                        legendgroup='No', scalegroup='No', name='<i>sel-12 (ok2078)</i>',\n",
    "                        side='positive', points =False ,meanline=dict(color=\"black\"),\n",
    "                        line=dict(color='#FF7F0E', width=4))\n",
    "             )\n",
    "fig.update_traces(meanline_visible=True)\n",
    "fig.update_layout(violingap=0, violinmode='overlay')\n",
    "\n",
    "x = [68,78,88,98,108]\n",
    "y1 = [14634,14590,14321,14202,13905]\n",
    "y2 = [15933,15920,15777,15120,15126]\n",
    "y3 = [15531,15423,15459,14991,14892]\n",
    "y4 = [16808,16805,16722,15291,15144]\n",
    "y5 = [16312,16315,16202,15902,15331]\n",
    "y6 = [15593,15542,15410,15320,15108]\n",
    "y7 = [14822,14721,14728,14731,14627]\n",
    "y8 = [15004,14999,14592,14720,14620]\n",
    "y9 = [15610,15613,15201,14899,14323]\n",
    "y10 = [14337,14233,14200,14102,13490]\n",
    "y11 = [13120,11781,11291,11003,10112]\n",
    "y12 = [14854,14741,12531,11029,10190]\n",
    "y13 = [13779,13790,13100,12781,11621]\n",
    "y14 = [14209,14153,13568,13533,12230]\n",
    "y15 = [15192,15042,13903,13291,12392]\n",
    "y16 = [12846,12730,12107,11009,10204]\n",
    "y17 = [15032,14829,13592,13440,12721]\n",
    "y18 = [14843,12940,12489,12091,11700]\n",
    "y19 = [15024,14740,13249,13099,13040]\n",
    "y20 = [16903,16777,15401,15193,13762]\n",
    "\n",
    "wt_list=[y1, y2, y3, y4, y5, y6, y7, y8, y9, y10]\n",
    "for y in wt_list:\n",
    "    fig.add_trace(go.Scatter(x=x, y=y,\n",
    "                        mode='lines+markers', name=\"WT\", line_shape=\"spline\",\n",
    "                        line=dict(color='#1F77B4', width=2, dash='dot'))\n",
    "                 )\n",
    "sel12_list=[y11, y12, y13, y14, y15, y16, y17, y18, y19, y20]\n",
    "for y in sel12_list:\n",
    "    fig.add_trace(go.Scatter(x=x, y=y,\n",
    "                        mode='lines+markers', name=\"<i>sel-12 (ok2078)</i>\", line_shape=\"spline\",\n",
    "                        line=dict(color='#FF7F0E', width=2, dash='dot'))\n",
    "                 )\n",
    "fig.update_traces(marker_line_width=2, marker_size=10)\n",
    "fig.show(config=config)"
   ]
  },
  {
   "cell_type": "code",
   "execution_count": null,
   "metadata": {},
   "outputs": [],
   "source": [
    "#New\n",
    "config = {\n",
    "  'toImageButtonOptions': {\n",
    "    'format': 'png', # one of png, svg, jpeg, webp\n",
    "    'filename': 'custom_image',\n",
    "    'height': 900,\n",
    "    'width': 1400,\n",
    "    'scale': 1 # Multiply title/legend/axis/canvas sizes by this factor\n",
    "  }\n",
    "}\n",
    "\n",
    "\n",
    "df = pd.read_csv('/Users/Joseph/Desktop/ASH_May20_2021/May22_7C_RAW.csv')\n",
    "fig = go.Figure()\n",
    "\n",
    "\n",
    "fig.add_trace(go.Violin(x=df['Age (hrs)'][ df['Genotype'] == 'WT' ],\n",
    "                        y=df['GFP Area'][ df['Genotype'] == 'WT' ],line_color=\"#1F77B4\",\n",
    "                        legendgroup='Yes', scalegroup='Yes', name='Wildtype',\n",
    "                        side='negative', points =False, meanline=dict(color=\"black\"),\n",
    "                        line=dict(color='#1F77B4', width=4))\n",
    "             )\n",
    "fig.add_trace(go.Violin(x=df['Age (hrs)'][ df['Genotype'] == '<i>sel-12 (ok2078)</i>' ],\n",
    "                        y=df['GFP Area'][ df['Genotype'] == '<i>sel-12 (ok2078)</i>' ],line_color=\"#FF7F0E\",\n",
    "                        legendgroup='No', scalegroup='No', name='<i>sel-12 (ok2078)</i>',\n",
    "                        side='positive', points =False ,meanline=dict(color=\"black\"),\n",
    "                        line=dict(color='#FF7F0E', width=4))\n",
    "             )\n",
    "fig.update_traces(meanline_visible=True)\n",
    "fig.update_layout(violingap=0, violinmode='overlay')\n",
    "\n",
    "x = [68,78,88,98,108]\n",
    "y1 = [961.236,1014.854,803.136,792.593,782.905]\n",
    "y2 = [934.217,1058.055,1016.85,1125.559,1039.789]\n",
    "y3 = [1044.746,839.451,972.54,1066.004,969.405]\n",
    "y4 = [1403.927,1038.549,825.647,1090.367,976.672]\n",
    "y5 = [974.528,1067.735,993.341,895.745,1085.808]\n",
    "y6 = [1120.165,998.672,894.321,928.372,965.416]\n",
    "y7 = [1053.126,952.148,1052.896,1149.922,910.99]\n",
    "y8 = [1017.15,971.653,818.809,849.013,882.21]\n",
    "y9 = [1234.017,1036.671,1001.605,1081.249,1080.394]\n",
    "y10 = [629.795,1055.02,1010.581,1219.023,822.94]\n",
    "y11 = [942.886,993.326,806.983,757.259,674.053]\n",
    "y12 = [699.146,971.795,924.668,915.55,953.876]\n",
    "y13 = [1267.825,1233.926,902.727,849.298,817.954]\n",
    "y14 = [982.185,979.639,893.466,943.902,973.68]\n",
    "yy1 = [883.793,833.238,723.35,741.872,746.716]\n",
    "yy2 = [566.079,705.225,569.618,539.983,537.846]\n",
    "yy3 = [407.438,586.604,470.598,652.967,690.865]\n",
    "yy4 = [826.868,782.379,774.499,619.912,821.658]\n",
    "yy5 = [979.585,623.158,578.737,679.895,708.817]\n",
    "yy6 = [528.224,555.396,471.88,492.254,438.826]\n",
    "yy7 = [670.25,733.255,721.64,620.482,341.087]\n",
    "yy8 = [914.857,690.632,511.346,442.102,396.083]\n",
    "yy9 = [985.075,867.047,658.523,654.391,616.778]\n",
    "yy10 = [837.126,834.169,703.688,661.943,600.963]\n",
    "yy11 = [1004.869,984.345,615.923,446.662,437.543]\n",
    "#yy12 = [16903,16777,15401,15193,13762]\n",
    "\n",
    "wt_list=[y1, y2, y3, y4, y5, y6, y7, y8, y9, y10, y11, y12, y13, y14]\n",
    "for y in wt_list:\n",
    "    fig.add_trace(go.Scatter(x=x, y=y,\n",
    "                        mode='lines+markers', name=\"WT\", line_shape=\"spline\",\n",
    "                        line=dict(color='#1F77B4', width=2, dash='dot'))\n",
    "                 )\n",
    "sel12_list=[yy1, yy2, yy3, yy4, yy5, yy6, yy7, yy8, yy9, yy10, yy11]\n",
    "for y in sel12_list:\n",
    "    fig.add_trace(go.Scatter(x=x, y=y,\n",
    "                        mode='lines+markers', name=\"<i>sel-12 (ok2078)</i>\", line_shape=\"spline\",\n",
    "                        line=dict(color='#FF7F0E', width=2, dash='dot'))\n",
    "                 )\n",
    "fig.update_traces(marker_line_width=2, marker_size=10)\n",
    "fig.show(config=config)"
   ]
  },
  {
   "cell_type": "code",
   "execution_count": null,
   "metadata": {},
   "outputs": [],
   "source": [
    "config = {\n",
    "  'toImageButtonOptions': {\n",
    "    'format': 'png', # one of png, svg, jpeg, webp\n",
    "    'filename': 'custom_image',\n",
    "    'height': 900,\n",
    "    'width': 1400,\n",
    "    'scale': 1 # Multiply title/legend/axis/canvas sizes by this factor\n",
    "  }\n",
    "}\n",
    "\n",
    "\n",
    "df = pd.read_csv('/Users/Joseph/Desktop/MahrazData/Figure_7C_RAW.csv')\n",
    "fig = go.Figure()\n",
    "\n",
    "\n",
    "fig.add_trace(go.Violin(x=df['Age (hrs)'][ df['Genotype'] == 'WT' ],\n",
    "                        y=df['GFP Area'][ df['Genotype'] == 'WT' ],line_color=\"black\",\n",
    "                        legendgroup='Yes', scalegroup='Yes', name='Wildtype',\n",
    "                        side='negative', points =False, meanline=dict(color=\"black\"),\n",
    "                        line=dict(color='#1F77B4', width=4))\n",
    "             )\n",
    "fig.add_trace(go.Violin(x=df['Age (hrs)'][ df['Genotype'] == '<i>sel-12 (ok2078)</i>' ],\n",
    "                        y=df['GFP Area'][ df['Genotype'] == '<i>sel-12 (ok2078)</i>' ],line_color=\"grey\",\n",
    "                        legendgroup='No', scalegroup='No', name='<i>sel-12 (ok2078)</i>',\n",
    "                        side='positive', points =False ,meanline=dict(color=\"black\"),\n",
    "                        line=dict(color='#FF7F0E', width=4))\n",
    "             )\n",
    "fig.update_traces(meanline_visible=True)\n",
    "fig.update_layout(violingap=0, violinmode='overlay')\n",
    "\n",
    "x = [68,78,88,98,108]\n",
    "y1 = [14634,14590,14321,14202,13905]\n",
    "y2 = [15933,15920,15777,15120,15126]\n",
    "y3 = [15531,15423,15459,14991,14892]\n",
    "y4 = [16808,16805,16722,15291,15144]\n",
    "y5 = [16312,16315,16202,15902,15331]\n",
    "y6 = [15593,15542,15410,15320,15108]\n",
    "y7 = [14822,14721,14728,14731,14627]\n",
    "y8 = [15004,14999,14592,14720,14620]\n",
    "y9 = [15610,15613,15201,14899,14323]\n",
    "y10 = [14337,14233,14200,14102,13490]\n",
    "y11 = [13120,12940,11291,11003,10112]\n",
    "y12 = [14854,14741,12531,11029,10190]\n",
    "y13 = [13779,13790,13100,12781,11621]\n",
    "y14 = [14209,14153,13568,13533,12230]\n",
    "y15 = [15192,15042,13903,13291,12392]\n",
    "y16 = [12846,12730,12107,11009,10204]\n",
    "y17 = [15032,14829,13592,13440,12721]\n",
    "y18 = [14843,14740,12489,12091,11700]\n",
    "y19 = [15024,11781,13249,13099,13040]\n",
    "y20 = [16903,16777,15401,15193,13762]\n",
    "\n",
    "wt_list=[y1, y2, y3, y4, y5, y6, y7, y8, y9, y10]\n",
    "for y in wt_list:\n",
    "    fig.add_trace(go.Scatter(x=x, y=y,\n",
    "                        mode='lines+markers', name=\"WT\", line_shape=\"spline\",\n",
    "                        line=dict(color='black', width=2, dash='dot'))\n",
    "                 )\n",
    "sel12_list=[yy1, yy2, yy3, yy4, yy5, yy6, yy7, yy8, yy9, yy10, yy11]\n",
    "sel12_list=[y11, y12, y13, y14, y15, y16, y17, y18, y19, y20]\n",
    "for y in sel12_list:\n",
    "    fig.add_trace(go.Scatter(x=x, y=y,\n",
    "                        mode='lines+markers', name=\"<i>sel-12 (ok2078)</i>\", line_shape=\"spline\",\n",
    "                        line=dict(color='lightgrey', width=2, dash='dot'))\n",
    "                 )\n",
    "fig.update_traces(marker_line_width=2, marker_size=10)\n",
    "fig.show(config=config)"
   ]
  },
  {
   "cell_type": "code",
   "execution_count": null,
   "metadata": {},
   "outputs": [],
   "source": [
    "config = {\n",
    "  'toImageButtonOptions': {\n",
    "    'format': 'png', # one of png, svg, jpeg, webp\n",
    "    'filename': 'custom_image',\n",
    "    'height': 900,\n",
    "    'width': 1400,\n",
    "    'scale': 1 # Multiply title/legend/axis/canvas sizes by this factor\n",
    "  }\n",
    "}\n",
    "\n",
    "\n",
    "df = pd.read_csv('/Users/Joseph/Desktop/MahrazData/Figure_7C_RAW.csv')\n",
    "fig = go.Figure()\n",
    "\n",
    "\n",
    "fig.add_trace(go.Violin(x=df['Age (hrs)'][ df['Genotype'] == 'WT' ],\n",
    "                        y=df['GFP Area'][ df['Genotype'] == 'WT' ],line_color=\"black\",\n",
    "                        legendgroup='Yes', scalegroup='Yes', name='Wildtype',\n",
    "                        side='negative', points =False, meanline=dict(color=\"black\"),\n",
    "                        line=dict(color='#1F77B4', width=4))\n",
    "             )\n",
    "fig.add_trace(go.Violin(x=df['Age (hrs)'][ df['Genotype'] == '<i>sel-12 (ok2078)</i>' ],\n",
    "                        y=df['GFP Area'][ df['Genotype'] == '<i>sel-12 (ok2078)</i>' ],line_color=\"grey\",\n",
    "                        legendgroup='No', scalegroup='No', name='<i>sel-12 (ok2078)</i>',\n",
    "                        side='positive', points =False ,meanline=dict(color=\"black\"),\n",
    "                        line=dict(color='#FF7F0E', width=4))\n",
    "             )\n",
    "fig.update_traces(meanline_visible=True)\n",
    "fig.update_layout(violingap=0, violinmode='overlay')\n",
    "\n",
    "x = [68,78,88,98,108]\n",
    "y1 = [14634,14590,14321,14202,13905]\n",
    "y2 = [15933,15920,15777,15120,15126]\n",
    "y3 = [15531,15423,15459,14991,14892]\n",
    "y4 = [16808,16805,16722,15291,15144]\n",
    "y5 = [16312,16315,16202,15902,15331]\n",
    "y6 = [15593,15542,15410,15320,15108]\n",
    "y7 = [14822,14721,14728,14731,14627]\n",
    "y8 = [15004,14999,14592,14720,14620]\n",
    "y9 = [15610,15613,15201,14899,14323]\n",
    "y10 = [14337,14233,14200,14102,13490]\n",
    "y11 = [13120,11781,11291,11003,10112]\n",
    "y12 = [14854,14741,12531,11029,10190]\n",
    "y13 = [13779,13790,13100,12781,11621]\n",
    "y14 = [14209,14153,13568,13533,12230]\n",
    "y15 = [15192,15042,13903,13291,12392]\n",
    "y16 = [12846,12730,12107,11009,10204]\n",
    "y17 = [15032,14829,13592,13440,12721]\n",
    "y18 = [14843,12940,12489,12091,11700]\n",
    "y19 = [15024,14740,13249,13099,13040]\n",
    "y20 = [16903,16777,15401,15193,13762]\n",
    "\n",
    "wt_list=[y1, y2, y3, y4, y5, y6, y7, y8, y9, y10]\n",
    "for y in wt_list:\n",
    "    fig.add_trace(go.Scatter(x=x, y=y,\n",
    "                        mode='lines+markers', name=\"WT\", line_shape=\"spline\",\n",
    "                        line=dict(color='black', width=2, dash='dot'))\n",
    "                 )\n",
    "sel12_list=[y11, y12, y13, y14, y15, y16, y17, y18, y19, y20]\n",
    "for y in sel12_list:\n",
    "    fig.add_trace(go.Scatter(x=x, y=y,\n",
    "                        mode='lines+markers', name=\"<i>sel-12 (ok2078)</i>\", line_shape=\"spline\",\n",
    "                        line=dict(color='lightgrey', width=2, dash='dot'))\n",
    "                 )\n",
    "fig.update_traces(marker_line_width=2, marker_size=10)\n",
    "fig.show(config=config)"
   ]
  },
  {
   "cell_type": "markdown",
   "metadata": {},
   "source": [
    "# Figure 6B: Neurodegeneration Category Quantification (Bar Plot)"
   ]
  },
  {
   "cell_type": "code",
   "execution_count": null,
   "metadata": {},
   "outputs": [],
   "source": [
    "#Figure 6B\n",
    "df = pd.read_csv('/Users/Joseph/Desktop/MahrazData/Figure_6B_Data.csv')\n",
    "# gui=show(df)\n",
    "\n",
    "fig = px.bar(df, \n",
    "                y='Count', \n",
    "                x=['Genotype','ge'], \n",
    "                color = 'Category', \n",
    "                color_discrete_sequence=['#1f77b4','#9467bd','#d62728'],\n",
    "                text = 'Age',\n",
    "               labels={\n",
    "                   \"Count\": \"Percentage (%)\",\n",
    "               },\n",
    "#                 error_y=\"SEM\",\n",
    "            barmode = \"relative\"\n",
    "            )\n",
    "fig.update_yaxes(range=[0, 100])\n",
    "# fig.update_traces(marker_color=['#1F77B4', '#FF7F0E', '#2CA02C', '#D62728', '#9467BD'], showlegend=False)\n",
    "# fig.update_traces(textposition=\"inside\", textangle=1)\n",
    "# fig.update_layout(uniformtext_minsize=7, uniformtext_mode='show')\n",
    "fig.show()"
   ]
  },
  {
   "cell_type": "code",
   "execution_count": null,
   "metadata": {},
   "outputs": [],
   "source": [
    "import plotly.graph_objects as go\n",
    "x = [\n",
    "    [\"78h\", \"78h\", \"78h\", \"78h\", \"78h\", \"78h\",\n",
    "     \"98h\", \"98h\", \"98h\", \"98h\", \"98h\", \"98h\",\n",
    "     \"108h\", \"108h\", \"108h\", \"108h\", \"108h\"],\n",
    "    [\"Wildtype\", \"<i>sel-12 (ok2078)</i>\", \"WT PS1\",\"PS1 C410Y\",\"PS1 Δ169\",\"\",\n",
    "    \"Wildtype\", \"<i>sel-12 (ok2078)</i>\", \"WT PS1\",\"PS1 C410Y\",\"PS1 Δ169\",\"\",\n",
    "    \"Wildtype\", \"<i>sel-12 (ok2078)</i>\", \"WT PS1\",\"PS1 C410Y\",\"PS1 Δ169\"]\n",
    "]\n",
    "fig = go.Figure()\n",
    "fig.add_bar(x=x,y=[76,51,70,49,73,0,71,45,68,52,64,0,74,43,72,44,66], name=\"Normal\", marker=dict(color='rgb(0,0,0)'))\n",
    "fig.add_bar(x=x,y=[24,49,25,46,24,0,29,46,32,33,30,0,26,26,20,30,22], name=\"Gapped Arm\", marker=dict(color='rgb(100,100,100)'))\n",
    "fig.add_bar(x=x,y=[0,0,5,5,3,0,0,9,0,15,6,0,0,31,8,26,12], name=\"Blebs\", marker=dict(color='rgb(200,200,200)'))\n",
    "fig.update_layout(barmode=\"relative\")\n",
    "fig.update_traces(marker_line_color='rgb(0,0,0)',marker_line_width=2)\n",
    "fig.show()"
   ]
  },
  {
   "cell_type": "markdown",
   "metadata": {},
   "source": [
    "# Figure 6C: GFP Area Quantification (Violin Plot)"
   ]
  },
  {
   "cell_type": "code",
   "execution_count": null,
   "metadata": {},
   "outputs": [],
   "source": [
    "# Figure 6C\n",
    "df = pd.read_csv('/Users/Joseph/Desktop/MahrazData/Figure_6C.csv')\n",
    "# fig = px.violin(df, \n",
    "#                 y='GFP Area', \n",
    "#                 x='Age (hrs)', \n",
    "#                 color = 'Genotype', \n",
    "#                 points='all', \n",
    "#                 box=True, \n",
    "#                 color_discrete_sequence=px.colors.qualitative.D3,\n",
    "#                labels={\n",
    "#                    \"GFP Area\": \"GFP Aea (Pixels<sup>2</sup>)\"\n",
    "#                })\n",
    "\n",
    "color_discrete_sequence=px.colors.qualitative.D3\n",
    "\n",
    "fig=go.Figure()\n",
    "Genotypes=['Wildtype', '<i>sel-12 (ok2078)</i>', 'WT PS1', 'PS1 Δ169', 'PS1 C410Y']\n",
    "for f in Genotypes:\n",
    "    fig.add_trace(go.Violin(x=df['Age (hrs)'][df['Genotype']==f],\n",
    "                            y=df['GFP Area'][df['Genotype']==f],\n",
    "                            legendgroup=f,\n",
    "                            scalegroup=f,\n",
    "                            name=f,\n",
    "                            line_color=color_discrete_sequence[Genotypes.index(f)])\n",
    "                 )\n",
    "\n",
    "\n",
    "\n",
    "fig.update_traces(box_visible=True, meanline_visible=True, points='all', scalemode='count')\n",
    "fig.update_layout(violinmode='group')\n",
    "fig.show(width=2500, height=500)"
   ]
  },
  {
   "cell_type": "markdown",
   "metadata": {},
   "source": [
    "# Figure 6C - GFP Area quantification - Original Plot Style"
   ]
  },
  {
   "cell_type": "code",
   "execution_count": null,
   "metadata": {},
   "outputs": [],
   "source": [
    "# Figure 6C\n",
    "df = pd.read_csv('/Users/Joseph/Desktop/MahrazData/Figure_6C_SEM.csv')\n",
    "fig = px.scatter(df, \n",
    "                y='GFP Area', \n",
    "                x='Age (hrs)', \n",
    "                color = 'Genotype', \n",
    "                color_discrete_sequence=px.colors.qualitative.D3,\n",
    "               labels={\n",
    "                   \"GFP Area\": \"GFP Aea (Pixels<sup>2</sup>)\",\n",
    "               },\n",
    "                error_y=\"SEM\")\n",
    "fig.show()"
   ]
  },
  {
   "cell_type": "markdown",
   "metadata": {},
   "source": [
    "# Figure 6C - GFP Area Quantification - Bar Graph"
   ]
  },
  {
   "cell_type": "code",
   "execution_count": null,
   "metadata": {},
   "outputs": [],
   "source": [
    "# Figure 6C\n",
    "df = pd.read_csv('/Users/Joseph/Desktop/MahrazData/Figure_6C_SEM.csv')\n",
    "fig = px.bar(df, \n",
    "                y='GFP Area', \n",
    "                x='Genotype', \n",
    "                color = 'Age (hrs)', \n",
    "                color_discrete_sequence=['#1f77b4','#9467bd','#d62728'],\n",
    "#                 text = 'Age (hrs)',\n",
    "#                labels={\n",
    "#                    \"GFP Area\": \"GFP Aea (Pixels<sup>2</sup>)\",\n",
    "#                },\n",
    "                error_y=\"SEM\",\n",
    "            barmode = \"group\")\n",
    "fig.update_yaxes(range=[12000, 16000])\n",
    "fig.update_traces(marker_color=['#1F77B4', '#FF7F0E', '#2CA02C', '#D62728', '#9467BD'], showlegend=False)\n",
    "# fig.update_traces(textposition=\"inside\", textangle=1)\n",
    "# fig.update_layout(uniformtext_minsize=7, uniformtext_mode='show')\n",
    "fig.show()"
   ]
  },
  {
   "cell_type": "code",
   "execution_count": null,
   "metadata": {},
   "outputs": [],
   "source": [
    "# Figure 6C\n",
    "df = pd.read_csv('/Users/Joseph/Desktop/MahrazData/Figure_6C_SEM.csv')\n",
    "fig = px.bar(df, \n",
    "             y='GFP Area', \n",
    "             x='Genotype', \n",
    "             color = 'Age', \n",
    "             labels={\n",
    "                   \"GFP Area\": \"GFP Aea (Pixels<sup>2</sup>)\",\n",
    "               },\n",
    "             error_y=\"SEM\",\n",
    "             barmode=\"group\"\n",
    "            )\n",
    "fig.update_yaxes(range=[12000, 16000])\n",
    "fig.update_traces(marker_color=['rgb(10,10,10)','rgb(50,50,50)','rgb(100,100,100)','rgb(150,150,150)','rgb(200,200,200)'], \n",
    "                  showlegend=False,\n",
    "                  marker_line_color=['rgb(150,150,150)','rgb(0,0,0)','rgb(0,0,0)','rgb(0,0,0)','rgb(0,0,0)'],\n",
    "                  marker_line_width=2)\n",
    "# fig.update_traces(textposition=\"inside\", textangle=1)\n",
    "# fig.update_layout(uniformtext_minsize=7, uniformtext_mode='show')\n",
    "# fig.update_layout(barmode='group')\n",
    "fig.show()"
   ]
  },
  {
   "cell_type": "code",
   "execution_count": null,
   "metadata": {},
   "outputs": [],
   "source": [
    "print(px.colors.qualitative.D3)"
   ]
  },
  {
   "cell_type": "code",
   "execution_count": null,
   "metadata": {},
   "outputs": [],
   "source": [
    "Age = ['78 hrs', '98 hrs', '108 hrs']\n",
    "Genotype = []\n",
    "\n",
    "\n",
    "fig = go.Figure()\n",
    "fig.add_trace(go.Bar(\n",
    "    x=Age,\n",
    "    y=[15560.06, 15132.4, 15293.91],\n",
    "    name='Wildtype',\n",
    "    marker_color='rgb(0,0,0)'\n",
    "))\n",
    "fig.add_trace(go.Bar(\n",
    "    x=Age,\n",
    "    y=[14596.85, 13765.16, 12410.66],\n",
    "    name='<i>sel-12 (ok2078)</i>',\n",
    "    marker_color='rgb(50,50,50)'\n",
    "))\n",
    "fig.add_trace(go.Bar(\n",
    "    x=Age,\n",
    "    y=[15233.74, 14640.73, 14455.82],\n",
    "    name='WT PS1',\n",
    "    marker_color='rgb(100,100,100)'\n",
    "))\n",
    "fig.add_trace(go.Bar(\n",
    "    x=Age,\n",
    "    y=[13908.6, 13372.43, 13096.62],\n",
    "    name='PS1 C410Y',\n",
    "    marker_color='rgb(150,150,150)'\n",
    "))\n",
    "fig.add_trace(go.Bar(\n",
    "    x=Age,\n",
    "    y=[15003.78, 15053.65, 14613.03],\n",
    "    name='PS1 Δ169',\n",
    "    marker_color='rgb(200,200,200)'\n",
    "))\n",
    "\n",
    "# Here we modify the tickangle of the xaxis, resulting in rotated labels.\n",
    "fig.update_yaxes(range=[12000, 16000])\n",
    "fig.update_layout(barmode='group')\n",
    "fig.show()"
   ]
  },
  {
   "cell_type": "code",
   "execution_count": null,
   "metadata": {},
   "outputs": [],
   "source": [
    "Age = ['78 hrs', '98 hrs', '108 hrs']\n",
    "Strain = ['Wildtype','<i>sel-12 (ok2078)</i>','WT PS1','PS1 C410Y','PS1 Δ169']\n",
    "\n",
    "\n",
    "fig = go.Figure()\n",
    "fig.add_trace(go.Bar(\n",
    "    x=Age,\n",
    "    y=[15560.06, 15132.4, 15293.91],\n",
    "    name='Wildtype',\n",
    "    marker_color='rgb(0,0,0)'\n",
    "))\n",
    "fig.add_trace(go.Bar(\n",
    "    x=Age,\n",
    "    y=[14596.85, 13765.16, 12410.66],\n",
    "    name='<i>sel-12 (ok2078)</i>',\n",
    "    marker_color='rgb(50,50,50)'\n",
    "))\n",
    "fig.add_trace(go.Bar(\n",
    "    x=Age,\n",
    "    y=[15233.74, 14640.73, 14455.82],\n",
    "    name='WT PS1',\n",
    "    marker_color='rgb(100,100,100)'\n",
    "))\n",
    "fig.add_trace(go.Bar(\n",
    "    x=Age,\n",
    "    y=[13908.6, 13372.43, 13096.62],\n",
    "    name='PS1 C410Y',\n",
    "    marker_color='rgb(150,150,150)'\n",
    "))\n",
    "fig.add_trace(go.Bar(\n",
    "    x=Age,\n",
    "    y=[15003.78, 15053.65, 14613.03],\n",
    "    name='PS1 Δ169',\n",
    "    marker_color='rgb(200,200,200)'\n",
    "))\n",
    "\n",
    "# Here we modify the tickangle of the xaxis, resulting in rotated labels.\n",
    "fig.update_layout(barmode='group')\n",
    "fig.show()"
   ]
  },
  {
   "cell_type": "code",
   "execution_count": null,
   "metadata": {
    "scrolled": true
   },
   "outputs": [],
   "source": [
    "Age = ['78 hrs', '98 hrs', '108 hrs']\n",
    "Genotype = ['Wildtype','<i>sel-12 (ok2078)</i>','WT PS1','PS1 C410Y','PS1 Δ169']\n",
    "\n",
    "x=[\n",
    "    ['78 hrs', '98 hrs', '108 hrs','78 hrs', '98 hrs', '108 hrs','78 hrs', '98 hrs', '108 hrs','78 hrs', '98 hrs', '108 hrs','78 hrs', '98 hrs', '108 hrs'],\n",
    "    ['Wildtype','<i>sel-12 (ok2078)</i>','WT PS1','PS1 C410Y','PS1 Δ169','Wildtype','<i>sel-12 (ok2078)</i>','WT PS1','PS1 C410Y','PS1 Δ169','Wildtype','<i>sel-12 (ok2078)</i>','WT PS1','PS1 C410Y','PS1 Δ169']\n",
    "]\n",
    "\n",
    "\n",
    "fig = go.Figure()\n",
    "fig.add_trace(go.Bar(\n",
    "    x=x,\n",
    "    y=[15560.06, 15132.4, 15293.91],\n",
    "    name='Wildtype',\n",
    "    marker_color='rgb(0,0,0)'\n",
    "))\n",
    "fig.add_trace(go.Bar(\n",
    "    x=x,\n",
    "    y=[14596.85, 13765.16, 12410.66],\n",
    "    name='<i>sel-12 (ok2078)</i>',\n",
    "    marker_color='rgb(50,50,50)'\n",
    "))\n",
    "fig.add_trace(go.Bar(\n",
    "    x=x,\n",
    "    y=[15233.74, 14640.73, 14455.82],\n",
    "    name='WT PS1',\n",
    "    marker_color='rgb(100,100,100)'\n",
    "))\n",
    "fig.add_trace(go.Bar(\n",
    "    x=x,\n",
    "    y=[13908.6, 13372.43, 13096.62],\n",
    "    name='PS1 C410Y',\n",
    "    marker_color='rgb(150,150,150)'\n",
    "))\n",
    "fig.add_trace(go.Bar(\n",
    "    x=x,\n",
    "    y=[15003.78, 15053.65, 14613.03],\n",
    "    name='PS1 Δ169',\n",
    "    marker_color='rgb(200,200,200)'\n",
    "))\n",
    "\n",
    "\n",
    "fig.update_layout(barmode='group')\n",
    "fig.show()"
   ]
  },
  {
   "cell_type": "markdown",
   "metadata": {},
   "source": [
    "# Fig6D Regression Analysis"
   ]
  },
  {
   "cell_type": "code",
   "execution_count": 3,
   "metadata": {},
   "outputs": [
    {
     "name": "stdout",
     "output_type": "stream",
     "text": [
      "      GFP Area   Genotype  Age (hrs)\n",
      "0        11808   Wildtype         78\n",
      "1        14008   Wildtype         78\n",
      "2        16029   Wildtype         78\n",
      "3        12209   Wildtype         78\n",
      "4        16004   Wildtype         78\n",
      "...        ...        ...        ...\n",
      "1495     12442  PS1 C410Y        108\n",
      "1496     13293  PS1 C410Y        108\n",
      "1497     16231  PS1 C410Y        108\n",
      "1498     10928  PS1 C410Y        108\n",
      "1499     10045  PS1 C410Y        108\n",
      "\n",
      "[1500 rows x 3 columns]\n",
      "        GFP   Genotype  Age\n",
      "0     11808   Wildtype   78\n",
      "1     14008   Wildtype   78\n",
      "2     16029   Wildtype   78\n",
      "3     12209   Wildtype   78\n",
      "4     16004   Wildtype   78\n",
      "...     ...        ...  ...\n",
      "1495  12442  PS1 C410Y  108\n",
      "1496  13293  PS1 C410Y  108\n",
      "1497  16231  PS1 C410Y  108\n",
      "1498  10928  PS1 C410Y  108\n",
      "1499  10045  PS1 C410Y  108\n",
      "\n",
      "[1500 rows x 3 columns]\n"
     ]
    }
   ],
   "source": [
    "df = pd.read_csv('/Users/Joseph/Desktop/Figure_6C.csv')\n",
    "print(df)\n",
    "# df2 = pg.read_dataset(\"tips\")\n",
    "# print(df2)\n",
    "# print(df[\"Genotype\"].unique())\n",
    "\n",
    "\n",
    "mapping = {df.columns[0]: \"GFP\", \n",
    "          df.columns[1]: \"Genotype\",\n",
    "          df.columns[2]: \"Age\"}\n",
    "\n",
    "df = df.rename(columns=mapping)\n",
    "print(df)\n",
    "\n",
    "\n",
    "    "
   ]
  },
  {
   "cell_type": "code",
   "execution_count": 4,
   "metadata": {},
   "outputs": [
    {
     "name": "stdout",
     "output_type": "stream",
     "text": [
      "       GFP  Genotype  Age\n",
      "0    11808  Wildtype   78\n",
      "1    14008  Wildtype   78\n",
      "2    16029  Wildtype   78\n",
      "3    12209  Wildtype   78\n",
      "4    16004  Wildtype   78\n",
      "..     ...       ...  ...\n",
      "295  13280  Wildtype  108\n",
      "296  10840  Wildtype  108\n",
      "297  10293  Wildtype  108\n",
      "298  15230  Wildtype  108\n",
      "299  16666  Wildtype  108\n",
      "\n",
      "[300 rows x 3 columns]\n"
     ]
    }
   ],
   "source": [
    "Wildtype_df = df[df[\"Genotype\"]=='Wildtype']\n",
    "sel12_df = df[df[\"Genotype\"]=='<i>sel-12 (ok2078)</i>']\n",
    "WTPS1_df = df[df[\"Genotype\"]=='WT PS1']\n",
    "PS1D169_df = df[df[\"Genotype\"]=='PS1 Δ169']\n",
    "PS1C410Y_df = df[df[\"Genotype\"]=='PS1 C410Y']\n",
    "\n",
    "print(Wildtype_df)"
   ]
  },
  {
   "cell_type": "code",
   "execution_count": 11,
   "metadata": {},
   "outputs": [
    {
     "data": {
      "application/vnd.plotly.v1+json": {
       "config": {
        "plotlyServerURL": "https://plotly.com"
       },
       "data": [
        {
         "hovertemplate": "Age=%{x}<br>GFP=%{y}<extra></extra>",
         "legendgroup": "",
         "marker": {
          "color": "#636efa",
          "symbol": "circle"
         },
         "mode": "markers",
         "name": "",
         "orientation": "v",
         "showlegend": false,
         "type": "scatter",
         "x": [
          78,
          78,
          78,
          78,
          78,
          78,
          78,
          78,
          78,
          78,
          78,
          78,
          78,
          78,
          78,
          78,
          78,
          78,
          78,
          78,
          78,
          78,
          78,
          78,
          78,
          78,
          78,
          78,
          78,
          78,
          78,
          78,
          78,
          78,
          78,
          78,
          78,
          78,
          78,
          78,
          78,
          78,
          78,
          78,
          78,
          78,
          78,
          78,
          78,
          78,
          78,
          78,
          78,
          78,
          78,
          78,
          78,
          78,
          78,
          78,
          78,
          78,
          78,
          78,
          78,
          78,
          78,
          78,
          78,
          78,
          78,
          78,
          78,
          78,
          78,
          78,
          78,
          78,
          78,
          78,
          78,
          78,
          78,
          78,
          78,
          78,
          78,
          78,
          78,
          78,
          78,
          78,
          78,
          78,
          78,
          78,
          78,
          78,
          78,
          78,
          98,
          98,
          98,
          98,
          98,
          98,
          98,
          98,
          98,
          98,
          98,
          98,
          98,
          98,
          98,
          98,
          98,
          98,
          98,
          98,
          98,
          98,
          98,
          98,
          98,
          98,
          98,
          98,
          98,
          98,
          98,
          98,
          98,
          98,
          98,
          98,
          98,
          98,
          98,
          98,
          98,
          98,
          98,
          98,
          98,
          98,
          98,
          98,
          98,
          98,
          98,
          98,
          98,
          98,
          98,
          98,
          98,
          98,
          98,
          98,
          98,
          98,
          98,
          98,
          98,
          98,
          98,
          98,
          98,
          98,
          98,
          98,
          98,
          98,
          98,
          98,
          98,
          98,
          98,
          98,
          98,
          98,
          98,
          98,
          98,
          98,
          98,
          98,
          98,
          98,
          98,
          98,
          98,
          98,
          98,
          98,
          98,
          98,
          98,
          98,
          108,
          108,
          108,
          108,
          108,
          108,
          108,
          108,
          108,
          108,
          108,
          108,
          108,
          108,
          108,
          108,
          108,
          108,
          108,
          108,
          108,
          108,
          108,
          108,
          108,
          108,
          108,
          108,
          108,
          108,
          108,
          108,
          108,
          108,
          108,
          108,
          108,
          108,
          108,
          108,
          108,
          108,
          108,
          108,
          108,
          108,
          108,
          108,
          108,
          108,
          108,
          108,
          108,
          108,
          108,
          108,
          108,
          108,
          108,
          108,
          108,
          108,
          108,
          108,
          108,
          108,
          108,
          108,
          108,
          108,
          108,
          108,
          108,
          108,
          108,
          108,
          108,
          108,
          108,
          108,
          108,
          108,
          108,
          108,
          108,
          108,
          108,
          108,
          108,
          108,
          108,
          108,
          108,
          108,
          108,
          108,
          108,
          108,
          108,
          108
         ],
         "xaxis": "x",
         "y": [
          16863,
          14518,
          16135,
          16789,
          16618,
          17209,
          15796,
          12396,
          17996,
          12725,
          16905,
          15771,
          13422,
          15424,
          10192,
          14875,
          16457,
          16067,
          14680,
          15064,
          14048,
          12392,
          15714,
          16354,
          17455,
          15424,
          14234,
          13244,
          14525,
          16442,
          17643,
          16895,
          16023,
          12457,
          17285,
          17485,
          15256,
          14562,
          16643,
          11566,
          17253,
          15311,
          13552,
          13861,
          16332,
          13394,
          12662,
          14010,
          15202,
          15831,
          16372,
          14389,
          13987,
          14447,
          12081,
          14038,
          16560,
          15318,
          16655,
          15340,
          14247,
          11033,
          16834,
          17234,
          13222,
          16429,
          14258,
          16522,
          17034,
          15902,
          14266,
          17355,
          16002,
          15247,
          15491,
          15348,
          11748,
          15445,
          17675,
          13153,
          15776,
          13482,
          16556,
          16910,
          15441,
          15743,
          13768,
          15733,
          12930,
          17332,
          16723,
          14839,
          16844,
          15922,
          16255,
          17275,
          16989,
          13928,
          11083,
          17256,
          15386,
          17186,
          14636,
          14990,
          10084,
          12789,
          16659,
          13771,
          16792,
          15232,
          16251,
          13848,
          15521,
          16703,
          16071,
          11804,
          15482,
          13869,
          17626,
          15835,
          14686,
          15617,
          17747,
          13040,
          16715,
          11610,
          14338,
          15353,
          15479,
          14242,
          16079,
          15163,
          14051,
          13811,
          11893,
          13727,
          10554,
          16921,
          15990,
          14912,
          15094,
          10177,
          16349,
          14373,
          13559,
          15092,
          16271,
          14519,
          10461,
          15402,
          13257,
          15500,
          11025,
          14789,
          12350,
          17622,
          16167,
          15658,
          16200,
          14567,
          13324,
          14511,
          13782,
          15247,
          14006,
          16518,
          14389,
          14112,
          15572,
          16062,
          14256,
          15425,
          12903,
          11321,
          14266,
          16520,
          14295,
          13245,
          17953,
          15121,
          13244,
          10844,
          17322,
          13566,
          12521,
          11969,
          15249,
          14234,
          17525,
          16336,
          16451,
          17241,
          15266,
          14294,
          13442,
          15241,
          14129,
          14200,
          12014,
          15262,
          16422,
          14021,
          13992,
          11482,
          15877,
          16964,
          14524,
          12723,
          14498,
          15250,
          13789,
          16018,
          15016,
          15492,
          10245,
          16255,
          12391,
          12664,
          17244,
          16928,
          15228,
          14228,
          14242,
          13456,
          16284,
          17482,
          16329,
          11203,
          15382,
          12034,
          14928,
          13245,
          14284,
          13285,
          16729,
          15834,
          13772,
          15249,
          15268,
          12195,
          14069,
          16686,
          14996,
          15352,
          14136,
          16782,
          15244,
          16534,
          15687,
          13714,
          13784,
          15028,
          14029,
          12182,
          16334,
          17213,
          13492,
          16849,
          15294,
          17234,
          10238,
          14242,
          13693,
          14295,
          13495,
          15294,
          15938,
          13349,
          11942,
          14628,
          12304,
          15034,
          14950,
          10429,
          13793,
          10963,
          14035,
          15638,
          14628,
          14892,
          13948,
          14953,
          15530,
          12039,
          13473,
          15360,
          13059,
          16344,
          15249,
          14242,
          15023,
          16034,
          15039,
          13022,
          13824,
          13245,
          15231,
          16727,
          11029,
          11340
         ],
         "yaxis": "y"
        }
       ],
       "layout": {
        "legend": {
         "tracegroupgap": 0
        },
        "margin": {
         "t": 60
        },
        "template": {
         "data": {
          "bar": [
           {
            "error_x": {
             "color": "#2a3f5f"
            },
            "error_y": {
             "color": "#2a3f5f"
            },
            "marker": {
             "line": {
              "color": "#E5ECF6",
              "width": 0.5
             },
             "pattern": {
              "fillmode": "overlay",
              "size": 10,
              "solidity": 0.2
             }
            },
            "type": "bar"
           }
          ],
          "barpolar": [
           {
            "marker": {
             "line": {
              "color": "#E5ECF6",
              "width": 0.5
             },
             "pattern": {
              "fillmode": "overlay",
              "size": 10,
              "solidity": 0.2
             }
            },
            "type": "barpolar"
           }
          ],
          "carpet": [
           {
            "aaxis": {
             "endlinecolor": "#2a3f5f",
             "gridcolor": "white",
             "linecolor": "white",
             "minorgridcolor": "white",
             "startlinecolor": "#2a3f5f"
            },
            "baxis": {
             "endlinecolor": "#2a3f5f",
             "gridcolor": "white",
             "linecolor": "white",
             "minorgridcolor": "white",
             "startlinecolor": "#2a3f5f"
            },
            "type": "carpet"
           }
          ],
          "choropleth": [
           {
            "colorbar": {
             "outlinewidth": 0,
             "ticks": ""
            },
            "type": "choropleth"
           }
          ],
          "contour": [
           {
            "colorbar": {
             "outlinewidth": 0,
             "ticks": ""
            },
            "colorscale": [
             [
              0,
              "#0d0887"
             ],
             [
              0.1111111111111111,
              "#46039f"
             ],
             [
              0.2222222222222222,
              "#7201a8"
             ],
             [
              0.3333333333333333,
              "#9c179e"
             ],
             [
              0.4444444444444444,
              "#bd3786"
             ],
             [
              0.5555555555555556,
              "#d8576b"
             ],
             [
              0.6666666666666666,
              "#ed7953"
             ],
             [
              0.7777777777777778,
              "#fb9f3a"
             ],
             [
              0.8888888888888888,
              "#fdca26"
             ],
             [
              1,
              "#f0f921"
             ]
            ],
            "type": "contour"
           }
          ],
          "contourcarpet": [
           {
            "colorbar": {
             "outlinewidth": 0,
             "ticks": ""
            },
            "type": "contourcarpet"
           }
          ],
          "heatmap": [
           {
            "colorbar": {
             "outlinewidth": 0,
             "ticks": ""
            },
            "colorscale": [
             [
              0,
              "#0d0887"
             ],
             [
              0.1111111111111111,
              "#46039f"
             ],
             [
              0.2222222222222222,
              "#7201a8"
             ],
             [
              0.3333333333333333,
              "#9c179e"
             ],
             [
              0.4444444444444444,
              "#bd3786"
             ],
             [
              0.5555555555555556,
              "#d8576b"
             ],
             [
              0.6666666666666666,
              "#ed7953"
             ],
             [
              0.7777777777777778,
              "#fb9f3a"
             ],
             [
              0.8888888888888888,
              "#fdca26"
             ],
             [
              1,
              "#f0f921"
             ]
            ],
            "type": "heatmap"
           }
          ],
          "heatmapgl": [
           {
            "colorbar": {
             "outlinewidth": 0,
             "ticks": ""
            },
            "colorscale": [
             [
              0,
              "#0d0887"
             ],
             [
              0.1111111111111111,
              "#46039f"
             ],
             [
              0.2222222222222222,
              "#7201a8"
             ],
             [
              0.3333333333333333,
              "#9c179e"
             ],
             [
              0.4444444444444444,
              "#bd3786"
             ],
             [
              0.5555555555555556,
              "#d8576b"
             ],
             [
              0.6666666666666666,
              "#ed7953"
             ],
             [
              0.7777777777777778,
              "#fb9f3a"
             ],
             [
              0.8888888888888888,
              "#fdca26"
             ],
             [
              1,
              "#f0f921"
             ]
            ],
            "type": "heatmapgl"
           }
          ],
          "histogram": [
           {
            "marker": {
             "pattern": {
              "fillmode": "overlay",
              "size": 10,
              "solidity": 0.2
             }
            },
            "type": "histogram"
           }
          ],
          "histogram2d": [
           {
            "colorbar": {
             "outlinewidth": 0,
             "ticks": ""
            },
            "colorscale": [
             [
              0,
              "#0d0887"
             ],
             [
              0.1111111111111111,
              "#46039f"
             ],
             [
              0.2222222222222222,
              "#7201a8"
             ],
             [
              0.3333333333333333,
              "#9c179e"
             ],
             [
              0.4444444444444444,
              "#bd3786"
             ],
             [
              0.5555555555555556,
              "#d8576b"
             ],
             [
              0.6666666666666666,
              "#ed7953"
             ],
             [
              0.7777777777777778,
              "#fb9f3a"
             ],
             [
              0.8888888888888888,
              "#fdca26"
             ],
             [
              1,
              "#f0f921"
             ]
            ],
            "type": "histogram2d"
           }
          ],
          "histogram2dcontour": [
           {
            "colorbar": {
             "outlinewidth": 0,
             "ticks": ""
            },
            "colorscale": [
             [
              0,
              "#0d0887"
             ],
             [
              0.1111111111111111,
              "#46039f"
             ],
             [
              0.2222222222222222,
              "#7201a8"
             ],
             [
              0.3333333333333333,
              "#9c179e"
             ],
             [
              0.4444444444444444,
              "#bd3786"
             ],
             [
              0.5555555555555556,
              "#d8576b"
             ],
             [
              0.6666666666666666,
              "#ed7953"
             ],
             [
              0.7777777777777778,
              "#fb9f3a"
             ],
             [
              0.8888888888888888,
              "#fdca26"
             ],
             [
              1,
              "#f0f921"
             ]
            ],
            "type": "histogram2dcontour"
           }
          ],
          "mesh3d": [
           {
            "colorbar": {
             "outlinewidth": 0,
             "ticks": ""
            },
            "type": "mesh3d"
           }
          ],
          "parcoords": [
           {
            "line": {
             "colorbar": {
              "outlinewidth": 0,
              "ticks": ""
             }
            },
            "type": "parcoords"
           }
          ],
          "pie": [
           {
            "automargin": true,
            "type": "pie"
           }
          ],
          "scatter": [
           {
            "fillpattern": {
             "fillmode": "overlay",
             "size": 10,
             "solidity": 0.2
            },
            "type": "scatter"
           }
          ],
          "scatter3d": [
           {
            "line": {
             "colorbar": {
              "outlinewidth": 0,
              "ticks": ""
             }
            },
            "marker": {
             "colorbar": {
              "outlinewidth": 0,
              "ticks": ""
             }
            },
            "type": "scatter3d"
           }
          ],
          "scattercarpet": [
           {
            "marker": {
             "colorbar": {
              "outlinewidth": 0,
              "ticks": ""
             }
            },
            "type": "scattercarpet"
           }
          ],
          "scattergeo": [
           {
            "marker": {
             "colorbar": {
              "outlinewidth": 0,
              "ticks": ""
             }
            },
            "type": "scattergeo"
           }
          ],
          "scattergl": [
           {
            "marker": {
             "colorbar": {
              "outlinewidth": 0,
              "ticks": ""
             }
            },
            "type": "scattergl"
           }
          ],
          "scattermapbox": [
           {
            "marker": {
             "colorbar": {
              "outlinewidth": 0,
              "ticks": ""
             }
            },
            "type": "scattermapbox"
           }
          ],
          "scatterpolar": [
           {
            "marker": {
             "colorbar": {
              "outlinewidth": 0,
              "ticks": ""
             }
            },
            "type": "scatterpolar"
           }
          ],
          "scatterpolargl": [
           {
            "marker": {
             "colorbar": {
              "outlinewidth": 0,
              "ticks": ""
             }
            },
            "type": "scatterpolargl"
           }
          ],
          "scatterternary": [
           {
            "marker": {
             "colorbar": {
              "outlinewidth": 0,
              "ticks": ""
             }
            },
            "type": "scatterternary"
           }
          ],
          "surface": [
           {
            "colorbar": {
             "outlinewidth": 0,
             "ticks": ""
            },
            "colorscale": [
             [
              0,
              "#0d0887"
             ],
             [
              0.1111111111111111,
              "#46039f"
             ],
             [
              0.2222222222222222,
              "#7201a8"
             ],
             [
              0.3333333333333333,
              "#9c179e"
             ],
             [
              0.4444444444444444,
              "#bd3786"
             ],
             [
              0.5555555555555556,
              "#d8576b"
             ],
             [
              0.6666666666666666,
              "#ed7953"
             ],
             [
              0.7777777777777778,
              "#fb9f3a"
             ],
             [
              0.8888888888888888,
              "#fdca26"
             ],
             [
              1,
              "#f0f921"
             ]
            ],
            "type": "surface"
           }
          ],
          "table": [
           {
            "cells": {
             "fill": {
              "color": "#EBF0F8"
             },
             "line": {
              "color": "white"
             }
            },
            "header": {
             "fill": {
              "color": "#C8D4E3"
             },
             "line": {
              "color": "white"
             }
            },
            "type": "table"
           }
          ]
         },
         "layout": {
          "annotationdefaults": {
           "arrowcolor": "#2a3f5f",
           "arrowhead": 0,
           "arrowwidth": 1
          },
          "autotypenumbers": "strict",
          "coloraxis": {
           "colorbar": {
            "outlinewidth": 0,
            "ticks": ""
           }
          },
          "colorscale": {
           "diverging": [
            [
             0,
             "#8e0152"
            ],
            [
             0.1,
             "#c51b7d"
            ],
            [
             0.2,
             "#de77ae"
            ],
            [
             0.3,
             "#f1b6da"
            ],
            [
             0.4,
             "#fde0ef"
            ],
            [
             0.5,
             "#f7f7f7"
            ],
            [
             0.6,
             "#e6f5d0"
            ],
            [
             0.7,
             "#b8e186"
            ],
            [
             0.8,
             "#7fbc41"
            ],
            [
             0.9,
             "#4d9221"
            ],
            [
             1,
             "#276419"
            ]
           ],
           "sequential": [
            [
             0,
             "#0d0887"
            ],
            [
             0.1111111111111111,
             "#46039f"
            ],
            [
             0.2222222222222222,
             "#7201a8"
            ],
            [
             0.3333333333333333,
             "#9c179e"
            ],
            [
             0.4444444444444444,
             "#bd3786"
            ],
            [
             0.5555555555555556,
             "#d8576b"
            ],
            [
             0.6666666666666666,
             "#ed7953"
            ],
            [
             0.7777777777777778,
             "#fb9f3a"
            ],
            [
             0.8888888888888888,
             "#fdca26"
            ],
            [
             1,
             "#f0f921"
            ]
           ],
           "sequentialminus": [
            [
             0,
             "#0d0887"
            ],
            [
             0.1111111111111111,
             "#46039f"
            ],
            [
             0.2222222222222222,
             "#7201a8"
            ],
            [
             0.3333333333333333,
             "#9c179e"
            ],
            [
             0.4444444444444444,
             "#bd3786"
            ],
            [
             0.5555555555555556,
             "#d8576b"
            ],
            [
             0.6666666666666666,
             "#ed7953"
            ],
            [
             0.7777777777777778,
             "#fb9f3a"
            ],
            [
             0.8888888888888888,
             "#fdca26"
            ],
            [
             1,
             "#f0f921"
            ]
           ]
          },
          "colorway": [
           "#636efa",
           "#EF553B",
           "#00cc96",
           "#ab63fa",
           "#FFA15A",
           "#19d3f3",
           "#FF6692",
           "#B6E880",
           "#FF97FF",
           "#FECB52"
          ],
          "font": {
           "color": "#2a3f5f"
          },
          "geo": {
           "bgcolor": "white",
           "lakecolor": "white",
           "landcolor": "#E5ECF6",
           "showlakes": true,
           "showland": true,
           "subunitcolor": "white"
          },
          "hoverlabel": {
           "align": "left"
          },
          "hovermode": "closest",
          "mapbox": {
           "style": "light"
          },
          "paper_bgcolor": "white",
          "plot_bgcolor": "#E5ECF6",
          "polar": {
           "angularaxis": {
            "gridcolor": "white",
            "linecolor": "white",
            "ticks": ""
           },
           "bgcolor": "#E5ECF6",
           "radialaxis": {
            "gridcolor": "white",
            "linecolor": "white",
            "ticks": ""
           }
          },
          "scene": {
           "xaxis": {
            "backgroundcolor": "#E5ECF6",
            "gridcolor": "white",
            "gridwidth": 2,
            "linecolor": "white",
            "showbackground": true,
            "ticks": "",
            "zerolinecolor": "white"
           },
           "yaxis": {
            "backgroundcolor": "#E5ECF6",
            "gridcolor": "white",
            "gridwidth": 2,
            "linecolor": "white",
            "showbackground": true,
            "ticks": "",
            "zerolinecolor": "white"
           },
           "zaxis": {
            "backgroundcolor": "#E5ECF6",
            "gridcolor": "white",
            "gridwidth": 2,
            "linecolor": "white",
            "showbackground": true,
            "ticks": "",
            "zerolinecolor": "white"
           }
          },
          "shapedefaults": {
           "line": {
            "color": "#2a3f5f"
           }
          },
          "ternary": {
           "aaxis": {
            "gridcolor": "white",
            "linecolor": "white",
            "ticks": ""
           },
           "baxis": {
            "gridcolor": "white",
            "linecolor": "white",
            "ticks": ""
           },
           "bgcolor": "#E5ECF6",
           "caxis": {
            "gridcolor": "white",
            "linecolor": "white",
            "ticks": ""
           }
          },
          "title": {
           "x": 0.05
          },
          "xaxis": {
           "automargin": true,
           "gridcolor": "white",
           "linecolor": "white",
           "ticks": "",
           "title": {
            "standoff": 15
           },
           "zerolinecolor": "white",
           "zerolinewidth": 2
          },
          "yaxis": {
           "automargin": true,
           "gridcolor": "white",
           "linecolor": "white",
           "ticks": "",
           "title": {
            "standoff": 15
           },
           "zerolinecolor": "white",
           "zerolinewidth": 2
          }
         }
        },
        "xaxis": {
         "anchor": "y",
         "domain": [
          0,
          1
         ],
         "title": {
          "text": "Age"
         }
        },
        "yaxis": {
         "anchor": "x",
         "domain": [
          0,
          1
         ],
         "title": {
          "text": "GFP"
         }
        }
       }
      },
      "text/html": [
       "<div>                            <div id=\"518a4ea4-c35d-4a15-a135-85b3f8ed486f\" class=\"plotly-graph-div\" style=\"height:525px; width:100%;\"></div>            <script type=\"text/javascript\">                require([\"plotly\"], function(Plotly) {                    window.PLOTLYENV=window.PLOTLYENV || {};                                    if (document.getElementById(\"518a4ea4-c35d-4a15-a135-85b3f8ed486f\")) {                    Plotly.newPlot(                        \"518a4ea4-c35d-4a15-a135-85b3f8ed486f\",                        [{\"hovertemplate\":\"Age=%{x}<br>GFP=%{y}<extra></extra>\",\"legendgroup\":\"\",\"marker\":{\"color\":\"#636efa\",\"symbol\":\"circle\"},\"mode\":\"markers\",\"name\":\"\",\"orientation\":\"v\",\"showlegend\":false,\"x\":[78,78,78,78,78,78,78,78,78,78,78,78,78,78,78,78,78,78,78,78,78,78,78,78,78,78,78,78,78,78,78,78,78,78,78,78,78,78,78,78,78,78,78,78,78,78,78,78,78,78,78,78,78,78,78,78,78,78,78,78,78,78,78,78,78,78,78,78,78,78,78,78,78,78,78,78,78,78,78,78,78,78,78,78,78,78,78,78,78,78,78,78,78,78,78,78,78,78,78,78,98,98,98,98,98,98,98,98,98,98,98,98,98,98,98,98,98,98,98,98,98,98,98,98,98,98,98,98,98,98,98,98,98,98,98,98,98,98,98,98,98,98,98,98,98,98,98,98,98,98,98,98,98,98,98,98,98,98,98,98,98,98,98,98,98,98,98,98,98,98,98,98,98,98,98,98,98,98,98,98,98,98,98,98,98,98,98,98,98,98,98,98,98,98,98,98,98,98,98,98,108,108,108,108,108,108,108,108,108,108,108,108,108,108,108,108,108,108,108,108,108,108,108,108,108,108,108,108,108,108,108,108,108,108,108,108,108,108,108,108,108,108,108,108,108,108,108,108,108,108,108,108,108,108,108,108,108,108,108,108,108,108,108,108,108,108,108,108,108,108,108,108,108,108,108,108,108,108,108,108,108,108,108,108,108,108,108,108,108,108,108,108,108,108,108,108,108,108,108,108],\"xaxis\":\"x\",\"y\":[16863,14518,16135,16789,16618,17209,15796,12396,17996,12725,16905,15771,13422,15424,10192,14875,16457,16067,14680,15064,14048,12392,15714,16354,17455,15424,14234,13244,14525,16442,17643,16895,16023,12457,17285,17485,15256,14562,16643,11566,17253,15311,13552,13861,16332,13394,12662,14010,15202,15831,16372,14389,13987,14447,12081,14038,16560,15318,16655,15340,14247,11033,16834,17234,13222,16429,14258,16522,17034,15902,14266,17355,16002,15247,15491,15348,11748,15445,17675,13153,15776,13482,16556,16910,15441,15743,13768,15733,12930,17332,16723,14839,16844,15922,16255,17275,16989,13928,11083,17256,15386,17186,14636,14990,10084,12789,16659,13771,16792,15232,16251,13848,15521,16703,16071,11804,15482,13869,17626,15835,14686,15617,17747,13040,16715,11610,14338,15353,15479,14242,16079,15163,14051,13811,11893,13727,10554,16921,15990,14912,15094,10177,16349,14373,13559,15092,16271,14519,10461,15402,13257,15500,11025,14789,12350,17622,16167,15658,16200,14567,13324,14511,13782,15247,14006,16518,14389,14112,15572,16062,14256,15425,12903,11321,14266,16520,14295,13245,17953,15121,13244,10844,17322,13566,12521,11969,15249,14234,17525,16336,16451,17241,15266,14294,13442,15241,14129,14200,12014,15262,16422,14021,13992,11482,15877,16964,14524,12723,14498,15250,13789,16018,15016,15492,10245,16255,12391,12664,17244,16928,15228,14228,14242,13456,16284,17482,16329,11203,15382,12034,14928,13245,14284,13285,16729,15834,13772,15249,15268,12195,14069,16686,14996,15352,14136,16782,15244,16534,15687,13714,13784,15028,14029,12182,16334,17213,13492,16849,15294,17234,10238,14242,13693,14295,13495,15294,15938,13349,11942,14628,12304,15034,14950,10429,13793,10963,14035,15638,14628,14892,13948,14953,15530,12039,13473,15360,13059,16344,15249,14242,15023,16034,15039,13022,13824,13245,15231,16727,11029,11340],\"yaxis\":\"y\",\"type\":\"scatter\"}],                        {\"template\":{\"data\":{\"histogram2dcontour\":[{\"type\":\"histogram2dcontour\",\"colorbar\":{\"outlinewidth\":0,\"ticks\":\"\"},\"colorscale\":[[0.0,\"#0d0887\"],[0.1111111111111111,\"#46039f\"],[0.2222222222222222,\"#7201a8\"],[0.3333333333333333,\"#9c179e\"],[0.4444444444444444,\"#bd3786\"],[0.5555555555555556,\"#d8576b\"],[0.6666666666666666,\"#ed7953\"],[0.7777777777777778,\"#fb9f3a\"],[0.8888888888888888,\"#fdca26\"],[1.0,\"#f0f921\"]]}],\"choropleth\":[{\"type\":\"choropleth\",\"colorbar\":{\"outlinewidth\":0,\"ticks\":\"\"}}],\"histogram2d\":[{\"type\":\"histogram2d\",\"colorbar\":{\"outlinewidth\":0,\"ticks\":\"\"},\"colorscale\":[[0.0,\"#0d0887\"],[0.1111111111111111,\"#46039f\"],[0.2222222222222222,\"#7201a8\"],[0.3333333333333333,\"#9c179e\"],[0.4444444444444444,\"#bd3786\"],[0.5555555555555556,\"#d8576b\"],[0.6666666666666666,\"#ed7953\"],[0.7777777777777778,\"#fb9f3a\"],[0.8888888888888888,\"#fdca26\"],[1.0,\"#f0f921\"]]}],\"heatmap\":[{\"type\":\"heatmap\",\"colorbar\":{\"outlinewidth\":0,\"ticks\":\"\"},\"colorscale\":[[0.0,\"#0d0887\"],[0.1111111111111111,\"#46039f\"],[0.2222222222222222,\"#7201a8\"],[0.3333333333333333,\"#9c179e\"],[0.4444444444444444,\"#bd3786\"],[0.5555555555555556,\"#d8576b\"],[0.6666666666666666,\"#ed7953\"],[0.7777777777777778,\"#fb9f3a\"],[0.8888888888888888,\"#fdca26\"],[1.0,\"#f0f921\"]]}],\"heatmapgl\":[{\"type\":\"heatmapgl\",\"colorbar\":{\"outlinewidth\":0,\"ticks\":\"\"},\"colorscale\":[[0.0,\"#0d0887\"],[0.1111111111111111,\"#46039f\"],[0.2222222222222222,\"#7201a8\"],[0.3333333333333333,\"#9c179e\"],[0.4444444444444444,\"#bd3786\"],[0.5555555555555556,\"#d8576b\"],[0.6666666666666666,\"#ed7953\"],[0.7777777777777778,\"#fb9f3a\"],[0.8888888888888888,\"#fdca26\"],[1.0,\"#f0f921\"]]}],\"contourcarpet\":[{\"type\":\"contourcarpet\",\"colorbar\":{\"outlinewidth\":0,\"ticks\":\"\"}}],\"contour\":[{\"type\":\"contour\",\"colorbar\":{\"outlinewidth\":0,\"ticks\":\"\"},\"colorscale\":[[0.0,\"#0d0887\"],[0.1111111111111111,\"#46039f\"],[0.2222222222222222,\"#7201a8\"],[0.3333333333333333,\"#9c179e\"],[0.4444444444444444,\"#bd3786\"],[0.5555555555555556,\"#d8576b\"],[0.6666666666666666,\"#ed7953\"],[0.7777777777777778,\"#fb9f3a\"],[0.8888888888888888,\"#fdca26\"],[1.0,\"#f0f921\"]]}],\"surface\":[{\"type\":\"surface\",\"colorbar\":{\"outlinewidth\":0,\"ticks\":\"\"},\"colorscale\":[[0.0,\"#0d0887\"],[0.1111111111111111,\"#46039f\"],[0.2222222222222222,\"#7201a8\"],[0.3333333333333333,\"#9c179e\"],[0.4444444444444444,\"#bd3786\"],[0.5555555555555556,\"#d8576b\"],[0.6666666666666666,\"#ed7953\"],[0.7777777777777778,\"#fb9f3a\"],[0.8888888888888888,\"#fdca26\"],[1.0,\"#f0f921\"]]}],\"mesh3d\":[{\"type\":\"mesh3d\",\"colorbar\":{\"outlinewidth\":0,\"ticks\":\"\"}}],\"scatter\":[{\"fillpattern\":{\"fillmode\":\"overlay\",\"size\":10,\"solidity\":0.2},\"type\":\"scatter\"}],\"parcoords\":[{\"type\":\"parcoords\",\"line\":{\"colorbar\":{\"outlinewidth\":0,\"ticks\":\"\"}}}],\"scatterpolargl\":[{\"type\":\"scatterpolargl\",\"marker\":{\"colorbar\":{\"outlinewidth\":0,\"ticks\":\"\"}}}],\"bar\":[{\"error_x\":{\"color\":\"#2a3f5f\"},\"error_y\":{\"color\":\"#2a3f5f\"},\"marker\":{\"line\":{\"color\":\"#E5ECF6\",\"width\":0.5},\"pattern\":{\"fillmode\":\"overlay\",\"size\":10,\"solidity\":0.2}},\"type\":\"bar\"}],\"scattergeo\":[{\"type\":\"scattergeo\",\"marker\":{\"colorbar\":{\"outlinewidth\":0,\"ticks\":\"\"}}}],\"scatterpolar\":[{\"type\":\"scatterpolar\",\"marker\":{\"colorbar\":{\"outlinewidth\":0,\"ticks\":\"\"}}}],\"histogram\":[{\"marker\":{\"pattern\":{\"fillmode\":\"overlay\",\"size\":10,\"solidity\":0.2}},\"type\":\"histogram\"}],\"scattergl\":[{\"type\":\"scattergl\",\"marker\":{\"colorbar\":{\"outlinewidth\":0,\"ticks\":\"\"}}}],\"scatter3d\":[{\"type\":\"scatter3d\",\"line\":{\"colorbar\":{\"outlinewidth\":0,\"ticks\":\"\"}},\"marker\":{\"colorbar\":{\"outlinewidth\":0,\"ticks\":\"\"}}}],\"scattermapbox\":[{\"type\":\"scattermapbox\",\"marker\":{\"colorbar\":{\"outlinewidth\":0,\"ticks\":\"\"}}}],\"scatterternary\":[{\"type\":\"scatterternary\",\"marker\":{\"colorbar\":{\"outlinewidth\":0,\"ticks\":\"\"}}}],\"scattercarpet\":[{\"type\":\"scattercarpet\",\"marker\":{\"colorbar\":{\"outlinewidth\":0,\"ticks\":\"\"}}}],\"carpet\":[{\"aaxis\":{\"endlinecolor\":\"#2a3f5f\",\"gridcolor\":\"white\",\"linecolor\":\"white\",\"minorgridcolor\":\"white\",\"startlinecolor\":\"#2a3f5f\"},\"baxis\":{\"endlinecolor\":\"#2a3f5f\",\"gridcolor\":\"white\",\"linecolor\":\"white\",\"minorgridcolor\":\"white\",\"startlinecolor\":\"#2a3f5f\"},\"type\":\"carpet\"}],\"table\":[{\"cells\":{\"fill\":{\"color\":\"#EBF0F8\"},\"line\":{\"color\":\"white\"}},\"header\":{\"fill\":{\"color\":\"#C8D4E3\"},\"line\":{\"color\":\"white\"}},\"type\":\"table\"}],\"barpolar\":[{\"marker\":{\"line\":{\"color\":\"#E5ECF6\",\"width\":0.5},\"pattern\":{\"fillmode\":\"overlay\",\"size\":10,\"solidity\":0.2}},\"type\":\"barpolar\"}],\"pie\":[{\"automargin\":true,\"type\":\"pie\"}]},\"layout\":{\"autotypenumbers\":\"strict\",\"colorway\":[\"#636efa\",\"#EF553B\",\"#00cc96\",\"#ab63fa\",\"#FFA15A\",\"#19d3f3\",\"#FF6692\",\"#B6E880\",\"#FF97FF\",\"#FECB52\"],\"font\":{\"color\":\"#2a3f5f\"},\"hovermode\":\"closest\",\"hoverlabel\":{\"align\":\"left\"},\"paper_bgcolor\":\"white\",\"plot_bgcolor\":\"#E5ECF6\",\"polar\":{\"bgcolor\":\"#E5ECF6\",\"angularaxis\":{\"gridcolor\":\"white\",\"linecolor\":\"white\",\"ticks\":\"\"},\"radialaxis\":{\"gridcolor\":\"white\",\"linecolor\":\"white\",\"ticks\":\"\"}},\"ternary\":{\"bgcolor\":\"#E5ECF6\",\"aaxis\":{\"gridcolor\":\"white\",\"linecolor\":\"white\",\"ticks\":\"\"},\"baxis\":{\"gridcolor\":\"white\",\"linecolor\":\"white\",\"ticks\":\"\"},\"caxis\":{\"gridcolor\":\"white\",\"linecolor\":\"white\",\"ticks\":\"\"}},\"coloraxis\":{\"colorbar\":{\"outlinewidth\":0,\"ticks\":\"\"}},\"colorscale\":{\"sequential\":[[0.0,\"#0d0887\"],[0.1111111111111111,\"#46039f\"],[0.2222222222222222,\"#7201a8\"],[0.3333333333333333,\"#9c179e\"],[0.4444444444444444,\"#bd3786\"],[0.5555555555555556,\"#d8576b\"],[0.6666666666666666,\"#ed7953\"],[0.7777777777777778,\"#fb9f3a\"],[0.8888888888888888,\"#fdca26\"],[1.0,\"#f0f921\"]],\"sequentialminus\":[[0.0,\"#0d0887\"],[0.1111111111111111,\"#46039f\"],[0.2222222222222222,\"#7201a8\"],[0.3333333333333333,\"#9c179e\"],[0.4444444444444444,\"#bd3786\"],[0.5555555555555556,\"#d8576b\"],[0.6666666666666666,\"#ed7953\"],[0.7777777777777778,\"#fb9f3a\"],[0.8888888888888888,\"#fdca26\"],[1.0,\"#f0f921\"]],\"diverging\":[[0,\"#8e0152\"],[0.1,\"#c51b7d\"],[0.2,\"#de77ae\"],[0.3,\"#f1b6da\"],[0.4,\"#fde0ef\"],[0.5,\"#f7f7f7\"],[0.6,\"#e6f5d0\"],[0.7,\"#b8e186\"],[0.8,\"#7fbc41\"],[0.9,\"#4d9221\"],[1,\"#276419\"]]},\"xaxis\":{\"gridcolor\":\"white\",\"linecolor\":\"white\",\"ticks\":\"\",\"title\":{\"standoff\":15},\"zerolinecolor\":\"white\",\"automargin\":true,\"zerolinewidth\":2},\"yaxis\":{\"gridcolor\":\"white\",\"linecolor\":\"white\",\"ticks\":\"\",\"title\":{\"standoff\":15},\"zerolinecolor\":\"white\",\"automargin\":true,\"zerolinewidth\":2},\"scene\":{\"xaxis\":{\"backgroundcolor\":\"#E5ECF6\",\"gridcolor\":\"white\",\"linecolor\":\"white\",\"showbackground\":true,\"ticks\":\"\",\"zerolinecolor\":\"white\",\"gridwidth\":2},\"yaxis\":{\"backgroundcolor\":\"#E5ECF6\",\"gridcolor\":\"white\",\"linecolor\":\"white\",\"showbackground\":true,\"ticks\":\"\",\"zerolinecolor\":\"white\",\"gridwidth\":2},\"zaxis\":{\"backgroundcolor\":\"#E5ECF6\",\"gridcolor\":\"white\",\"linecolor\":\"white\",\"showbackground\":true,\"ticks\":\"\",\"zerolinecolor\":\"white\",\"gridwidth\":2}},\"shapedefaults\":{\"line\":{\"color\":\"#2a3f5f\"}},\"annotationdefaults\":{\"arrowcolor\":\"#2a3f5f\",\"arrowhead\":0,\"arrowwidth\":1},\"geo\":{\"bgcolor\":\"white\",\"landcolor\":\"#E5ECF6\",\"subunitcolor\":\"white\",\"showland\":true,\"showlakes\":true,\"lakecolor\":\"white\"},\"title\":{\"x\":0.05},\"mapbox\":{\"style\":\"light\"}}},\"xaxis\":{\"anchor\":\"y\",\"domain\":[0.0,1.0],\"title\":{\"text\":\"Age\"}},\"yaxis\":{\"anchor\":\"x\",\"domain\":[0.0,1.0],\"title\":{\"text\":\"GFP\"}},\"legend\":{\"tracegroupgap\":0},\"margin\":{\"t\":60}},                        {\"responsive\": true}                    ).then(function(){\n",
       "                            \n",
       "var gd = document.getElementById('518a4ea4-c35d-4a15-a135-85b3f8ed486f');\n",
       "var x = new MutationObserver(function (mutations, observer) {{\n",
       "        var display = window.getComputedStyle(gd).display;\n",
       "        if (!display || display === 'none') {{\n",
       "            console.log([gd, 'removed!']);\n",
       "            Plotly.purge(gd);\n",
       "            observer.disconnect();\n",
       "        }}\n",
       "}});\n",
       "\n",
       "// Listen for the removal of the full notebook cells\n",
       "var notebookContainer = gd.closest('#notebook-container');\n",
       "if (notebookContainer) {{\n",
       "    x.observe(notebookContainer, {childList: true});\n",
       "}}\n",
       "\n",
       "// Listen for the clearing of the current output cell\n",
       "var outputEl = gd.closest('.output');\n",
       "if (outputEl) {{\n",
       "    x.observe(outputEl, {childList: true});\n",
       "}}\n",
       "\n",
       "                        })                };                });            </script>        </div>"
      ]
     },
     "metadata": {},
     "output_type": "display_data"
    }
   ],
   "source": [
    "import plotly.express as px\n",
    "fig = px.scatter(WTPS1_df, x=\"Age\", y=\"GFP\")\n",
    "fig.show()"
   ]
  },
  {
   "cell_type": "markdown",
   "metadata": {},
   "source": [
    "# Linear Regression Analysis"
   ]
  },
  {
   "cell_type": "code",
   "execution_count": 14,
   "metadata": {
    "scrolled": true
   },
   "outputs": [
    {
     "name": "stdout",
     "output_type": "stream",
     "text": [
      "Wildtype\n",
      "       names       coef        se        T    pval      r2  adj_r2  \\\n",
      "0  Intercept  16337.842  808.2096  20.2149  0.0000  0.0053   0.002   \n",
      "1        Age    -10.659    8.4643  -1.2593  0.2089  0.0053   0.002   \n",
      "\n",
      "     CI[2.5%]   CI[97.5%]  \n",
      "0  14747.3207  17928.3633  \n",
      "1    -27.3163      5.9983  \n",
      "sel-12\n",
      "       names        coef        se        T  pval     r2  adj_r2    CI[2.5%]  \\\n",
      "0  Intercept  20066.3943  761.4243  26.3538   0.0  0.198  0.1953  18567.9443   \n",
      "1        Age    -68.4032    7.9743  -8.5780   0.0  0.198  0.1953    -84.0963   \n",
      "\n",
      "    CI[97.5%]  \n",
      "0  21564.8443  \n",
      "1    -52.7101  \n",
      "WT PS1\n",
      "       names        coef        se        T    pval      r2  adj_r2  \\\n",
      "0  Intercept  17281.8394  774.0776  22.3257  0.0000  0.0345  0.0313   \n",
      "1        Age    -26.4621    8.1068  -3.2642  0.0012  0.0345  0.0313   \n",
      "\n",
      "     CI[2.5%]   CI[97.5%]  \n",
      "0  15758.4885  18805.1904  \n",
      "1    -42.4159    -10.5082  \n",
      "PS1 169\n",
      "       names        coef        se        T    pval      r2  adj_r2  \\\n",
      "0  Intercept  15913.3174  749.4480  21.2334  0.0000  0.0063   0.003   \n",
      "1        Age    -10.8081    7.8489  -1.3770  0.1695  0.0063   0.003   \n",
      "\n",
      "     CI[2.5%]   CI[97.5%]  \n",
      "0  14438.4363  17388.1985  \n",
      "1    -26.2543      4.6382  \n",
      "PS1 C410Y\n",
      "       names        coef        se        T    pval      r2  adj_r2  \\\n",
      "0  Intercept  16017.9823  906.6004  17.6682  0.0000  0.0265  0.0232   \n",
      "1        Age    -27.0292    9.4947  -2.8468  0.0047  0.0265  0.0232   \n",
      "\n",
      "     CI[2.5%]   CI[97.5%]  \n",
      "0  14233.8321  17802.1325  \n",
      "1    -45.7144     -8.3440  \n"
     ]
    }
   ],
   "source": [
    "lm_wt = pg.linear_regression(Wildtype_df[\"Age\"], Wildtype_df[\"GFP\"])\n",
    "print(\"Wildtype\")\n",
    "print(lm_wt.round(4))\n",
    "lm_sel12 = pg.linear_regression(sel12_df[\"Age\"], sel12_df[\"GFP\"])\n",
    "print(\"sel-12\")\n",
    "print(lm_sel12.round(4))\n",
    "lm_wtps1 = pg.linear_regression(WTPS1_df[\"Age\"], WTPS1_df[\"GFP\"])\n",
    "print(\"WT PS1\")\n",
    "print(lm_wtps1.round(4))\n",
    "lm_169 = pg.linear_regression(PS1D169_df[\"Age\"], PS1D169_df[\"GFP\"])\n",
    "print(\"PS1 169\")\n",
    "print(lm_169.round(4))\n",
    "lm_C410Y = pg.linear_regression(PS1C410Y_df[\"Age\"], PS1C410Y_df[\"GFP\"])\n",
    "print(\"PS1 C410Y\")\n",
    "print(lm_C410Y.round(4))"
   ]
  },
  {
   "cell_type": "markdown",
   "metadata": {},
   "source": [
    "# Kendall Correlation (correlation test for ordinal data)"
   ]
  },
  {
   "cell_type": "code",
   "execution_count": 16,
   "metadata": {},
   "outputs": [
    {
     "name": "stdout",
     "output_type": "stream",
     "text": [
      "Wildtype\n",
      "           n       r         CI95%   p-val   power\n",
      "kendall  300 -0.0147  [-1.0, 0.08]  0.3998  0.0822\n",
      "sel-12\n",
      "           n       r          CI95%  p-val  power\n",
      "kendall  300 -0.3729  [-1.0, -0.29]    0.0    1.0\n",
      "WT PS1\n",
      "           n       r          CI95%   p-val   power\n",
      "kendall  300 -0.1504  [-1.0, -0.06]  0.0045  0.8343\n",
      "PS1 169\n",
      "           n       r         CI95%   p-val   power\n",
      "kendall  300 -0.0147  [-1.0, 0.08]  0.3998  0.0822\n",
      "P1 C410Y\n",
      "           n      r          CI95%   p-val   power\n",
      "kendall  300 -0.125  [-1.0, -0.03]  0.0152  0.7002\n"
     ]
    }
   ],
   "source": [
    "kc_wt = pg.corr(Wildtype_df[\"Age\"], Wildtype_df[\"GFP\"], alternative='less', method='kendall')\n",
    "print(\"Wildtype\")\n",
    "print(kc_wt.round(4))\n",
    "kc_sel12 = pg.corr(sel12_df[\"Age\"], sel12_df[\"GFP\"], alternative='less', method='kendall')\n",
    "print(\"sel-12\")\n",
    "print(kc_sel12.round(4))\n",
    "kc_wtps1 = pg.corr(WTPS1_df[\"Age\"], WTPS1_df[\"GFP\"], alternative='less', method='kendall')\n",
    "print(\"WT PS1\")\n",
    "print(kc_wtps1.round(4))\n",
    "kc_169 = pg.corr(PS1D169_df[\"Age\"], PS1D169_df[\"GFP\"], alternative='less', method='kendall')\n",
    "print(\"PS1 169\")\n",
    "print(kc_wt.round(4))\n",
    "kc_c410y = pg.corr(PS1C410Y_df[\"Age\"], PS1C410Y_df[\"GFP\"], alternative='less', method='kendall')\n",
    "print(\"P1 C410Y\")\n",
    "print(kc_c410y.round(4))"
   ]
  },
  {
   "cell_type": "markdown",
   "metadata": {},
   "source": [
    "# Figure Supp1A: N2, sel-12 Locomotion Speed Across 68, 78, 88, 98, 108 hrs"
   ]
  },
  {
   "cell_type": "code",
   "execution_count": null,
   "metadata": {},
   "outputs": [],
   "source": [
    "df1 = pd.read_csv('/Users/Joseph/Desktop/Mahraz Data/Sel12AgeSpeedMeanData.csv')\n",
    "# gui = show(df1)"
   ]
  },
  {
   "cell_type": "code",
   "execution_count": null,
   "metadata": {},
   "outputs": [],
   "source": [
    "df1 = pd.read_csv('/Users/Joseph/Desktop/MahrazData/Sel12AgeSpeedMeanData.csv')\n",
    "colors=['rgb(50,50,50)', 'rgb(200,200,200)']\n",
    "fig = px.bar(df1, \n",
    "                y='Speed (mm/s)', \n",
    "                x='Age (hrs)', \n",
    "                color = 'Strain', \n",
    "                color_discrete_sequence=colors,\n",
    "               labels={\n",
    "                   \"Speed (mm/s)\": \"Forward Movement Speed (mm/s)\",\n",
    "               },\n",
    "                error_y=\"SEM\",\n",
    "                barmode='group')\n",
    "fig.update_traces(marker_line_color='rgb(0,0,0)',marker_line_width=2)\n",
    "fig.show()"
   ]
  },
  {
   "cell_type": "markdown",
   "metadata": {},
   "source": [
    "# Supp1A T Test Analyses"
   ]
  },
  {
   "cell_type": "code",
   "execution_count": 2,
   "metadata": {},
   "outputs": [
    {
     "name": "stdout",
     "output_type": "stream",
     "text": [
      "            Strain  Age (hrs)  Plate  Speed (mm/s)\n",
      "0               N2         68      1         0.234\n",
      "1               N2         68      2         0.187\n",
      "2               N2         68      3         0.195\n",
      "3               N2         78      1         0.288\n",
      "4               N2         78      2         0.303\n",
      "5               N2         78      3         0.297\n",
      "6               N2         88      1         0.328\n",
      "7               N2         88      2         0.311\n",
      "8               N2         88      3         0.327\n",
      "9               N2         98      1         0.276\n",
      "10              N2         98      2         0.255\n",
      "11              N2         98      3         0.304\n",
      "12              N2        108      1         0.213\n",
      "13              N2        108      2         0.160\n",
      "14              N2        108      3         0.214\n",
      "15  sel-12(ok2078)         68      1         0.280\n",
      "16  sel-12(ok2078)         68      2         0.200\n",
      "17  sel-12(ok2078)         68      3         0.160\n",
      "18  sel-12(ok2078)         78      1         0.290\n",
      "19  sel-12(ok2078)         78      2         0.225\n",
      "20  sel-12(ok2078)         78      3         0.149\n",
      "21  sel-12(ok2078)         88      1         0.205\n",
      "22  sel-12(ok2078)         88      2         0.249\n",
      "23  sel-12(ok2078)         88      3         0.192\n",
      "24  sel-12(ok2078)         98      1         0.160\n",
      "25  sel-12(ok2078)         98      2         0.141\n",
      "26  sel-12(ok2078)         98      3         0.185\n",
      "27  sel-12(ok2078)        108      1         0.159\n",
      "28  sel-12(ok2078)        108      2         0.090\n",
      "29  sel-12(ok2078)        108      3         0.289\n"
     ]
    }
   ],
   "source": [
    "df1 = pd.read_csv('/Users/Joseph/Desktop/Sel12AgeSpeedData.csv')\n",
    "print(df1)"
   ]
  },
  {
   "cell_type": "code",
   "execution_count": 5,
   "metadata": {},
   "outputs": [
    {
     "name": "stdout",
     "output_type": "stream",
     "text": [
      "            Strain  Age (hrs)  Plate  Speed (mm/s)\n",
      "12              N2        108      1         0.213\n",
      "13              N2        108      2         0.160\n",
      "14              N2        108      3         0.214\n",
      "27  sel-12(ok2078)        108      1         0.159\n",
      "28  sel-12(ok2078)        108      2         0.090\n",
      "29  sel-12(ok2078)        108      3         0.289\n"
     ]
    }
   ],
   "source": [
    "df_68 = df1[df1[\"Age (hrs)\"]==68]\n",
    "df_78 = df1[df1[\"Age (hrs)\"]==78]\n",
    "df_88 = df1[df1[\"Age (hrs)\"]==88]\n",
    "df_98 = df1[df1[\"Age (hrs)\"]==98]\n",
    "df_108 = df1[df1[\"Age (hrs)\"]==108]\n",
    "\n",
    "print(df_108)"
   ]
  },
  {
   "cell_type": "code",
   "execution_count": 9,
   "metadata": {},
   "outputs": [
    {
     "name": "stdout",
     "output_type": "stream",
     "text": [
      "            Strain  Age (hrs)  Plate  Speed (mm/s)\n",
      "27  sel-12(ok2078)        108      1         0.159\n",
      "28  sel-12(ok2078)        108      2         0.090\n",
      "29  sel-12(ok2078)        108      3         0.289\n"
     ]
    }
   ],
   "source": [
    "df_68_N2 = df_68[df_68[\"Strain\"]==\"N2\"]\n",
    "df_78_N2 = df_78[df_78[\"Strain\"]==\"N2\"]\n",
    "df_88_N2 = df_88[df_88[\"Strain\"]==\"N2\"]\n",
    "df_98_N2 = df_98[df_98[\"Strain\"]==\"N2\"]\n",
    "df_108_N2 = df_108[df_108[\"Strain\"]==\"N2\"]\n",
    "\n",
    "df_68_sel12 = df_68[df_68[\"Strain\"]==\"sel-12(ok2078)\"]\n",
    "df_78_sel12 = df_78[df_78[\"Strain\"]==\"sel-12(ok2078)\"]\n",
    "df_88_sel12 = df_88[df_88[\"Strain\"]==\"sel-12(ok2078)\"]\n",
    "df_98_sel12 = df_98[df_98[\"Strain\"]==\"sel-12(ok2078)\"]\n",
    "df_108_sel12 = df_108[df_108[\"Strain\"]==\"sel-12(ok2078)\"]\n",
    "\n",
    "\n",
    "print(df_108_sel12)"
   ]
  },
  {
   "cell_type": "code",
   "execution_count": 6,
   "metadata": {},
   "outputs": [],
   "source": [
    "from pingouin import ttest"
   ]
  },
  {
   "cell_type": "markdown",
   "metadata": {},
   "source": [
    "## 68 hrs"
   ]
  },
  {
   "cell_type": "code",
   "execution_count": 18,
   "metadata": {},
   "outputs": [
    {
     "data": {
      "text/html": [
       "<div>\n",
       "<style scoped>\n",
       "    .dataframe tbody tr th:only-of-type {\n",
       "        vertical-align: middle;\n",
       "    }\n",
       "\n",
       "    .dataframe tbody tr th {\n",
       "        vertical-align: top;\n",
       "    }\n",
       "\n",
       "    .dataframe thead th {\n",
       "        text-align: right;\n",
       "    }\n",
       "</style>\n",
       "<table border=\"1\" class=\"dataframe\">\n",
       "  <thead>\n",
       "    <tr style=\"text-align: right;\">\n",
       "      <th></th>\n",
       "      <th>T</th>\n",
       "      <th>dof</th>\n",
       "      <th>alternative</th>\n",
       "      <th>p-val</th>\n",
       "      <th>CI95%</th>\n",
       "      <th>cohen-d</th>\n",
       "      <th>BF10</th>\n",
       "      <th>power</th>\n",
       "    </tr>\n",
       "  </thead>\n",
       "  <tbody>\n",
       "    <tr>\n",
       "      <th>T-test</th>\n",
       "      <td>-0.209713</td>\n",
       "      <td>4</td>\n",
       "      <td>greater</td>\n",
       "      <td>0.57793</td>\n",
       "      <td>[-0.09, inf]</td>\n",
       "      <td>0.17123</td>\n",
       "      <td>0.878</td>\n",
       "      <td>0.034148</td>\n",
       "    </tr>\n",
       "  </tbody>\n",
       "</table>\n",
       "</div>"
      ],
      "text/plain": [
       "               T  dof alternative    p-val         CI95%  cohen-d   BF10  \\\n",
       "T-test -0.209713    4     greater  0.57793  [-0.09, inf]  0.17123  0.878   \n",
       "\n",
       "           power  \n",
       "T-test  0.034148  "
      ]
     },
     "execution_count": 18,
     "metadata": {},
     "output_type": "execute_result"
    }
   ],
   "source": [
    "ttest(df_68_N2[\"Speed (mm/s)\"], df_68_sel12[\"Speed (mm/s)\"], paired=False, alternative='greater')"
   ]
  },
  {
   "cell_type": "markdown",
   "metadata": {},
   "source": [
    "## 78 hrs"
   ]
  },
  {
   "cell_type": "code",
   "execution_count": 21,
   "metadata": {},
   "outputs": [
    {
     "data": {
      "text/html": [
       "<div>\n",
       "<style scoped>\n",
       "    .dataframe tbody tr th:only-of-type {\n",
       "        vertical-align: middle;\n",
       "    }\n",
       "\n",
       "    .dataframe tbody tr th {\n",
       "        vertical-align: top;\n",
       "    }\n",
       "\n",
       "    .dataframe thead th {\n",
       "        text-align: right;\n",
       "    }\n",
       "</style>\n",
       "<table border=\"1\" class=\"dataframe\">\n",
       "  <thead>\n",
       "    <tr style=\"text-align: right;\">\n",
       "      <th></th>\n",
       "      <th>T</th>\n",
       "      <th>dof</th>\n",
       "      <th>alternative</th>\n",
       "      <th>p-val</th>\n",
       "      <th>CI95%</th>\n",
       "      <th>cohen-d</th>\n",
       "      <th>BF10</th>\n",
       "      <th>power</th>\n",
       "    </tr>\n",
       "  </thead>\n",
       "  <tbody>\n",
       "    <tr>\n",
       "      <th>T-test</th>\n",
       "      <td>1.822162</td>\n",
       "      <td>4</td>\n",
       "      <td>two-sided</td>\n",
       "      <td>0.142519</td>\n",
       "      <td>[-0.04, 0.19]</td>\n",
       "      <td>1.487789</td>\n",
       "      <td>1.147</td>\n",
       "      <td>0.289389</td>\n",
       "    </tr>\n",
       "  </tbody>\n",
       "</table>\n",
       "</div>"
      ],
      "text/plain": [
       "               T  dof alternative     p-val          CI95%   cohen-d   BF10  \\\n",
       "T-test  1.822162    4   two-sided  0.142519  [-0.04, 0.19]  1.487789  1.147   \n",
       "\n",
       "           power  \n",
       "T-test  0.289389  "
      ]
     },
     "execution_count": 21,
     "metadata": {},
     "output_type": "execute_result"
    }
   ],
   "source": [
    "ttest(df_78_N2[\"Speed (mm/s)\"], df_78_sel12[\"Speed (mm/s)\"])"
   ]
  },
  {
   "cell_type": "code",
   "execution_count": 20,
   "metadata": {},
   "outputs": [
    {
     "data": {
      "text/html": [
       "<div>\n",
       "<style scoped>\n",
       "    .dataframe tbody tr th:only-of-type {\n",
       "        vertical-align: middle;\n",
       "    }\n",
       "\n",
       "    .dataframe tbody tr th {\n",
       "        vertical-align: top;\n",
       "    }\n",
       "\n",
       "    .dataframe thead th {\n",
       "        text-align: right;\n",
       "    }\n",
       "</style>\n",
       "<table border=\"1\" class=\"dataframe\">\n",
       "  <thead>\n",
       "    <tr style=\"text-align: right;\">\n",
       "      <th></th>\n",
       "      <th>T</th>\n",
       "      <th>dof</th>\n",
       "      <th>alternative</th>\n",
       "      <th>p-val</th>\n",
       "      <th>CI95%</th>\n",
       "      <th>cohen-d</th>\n",
       "      <th>BF10</th>\n",
       "      <th>power</th>\n",
       "    </tr>\n",
       "  </thead>\n",
       "  <tbody>\n",
       "    <tr>\n",
       "      <th>T-test</th>\n",
       "      <td>1.822162</td>\n",
       "      <td>4</td>\n",
       "      <td>greater</td>\n",
       "      <td>0.071259</td>\n",
       "      <td>[-0.01, inf]</td>\n",
       "      <td>1.487789</td>\n",
       "      <td>2.294</td>\n",
       "      <td>0.447034</td>\n",
       "    </tr>\n",
       "  </tbody>\n",
       "</table>\n",
       "</div>"
      ],
      "text/plain": [
       "               T  dof alternative     p-val         CI95%   cohen-d   BF10  \\\n",
       "T-test  1.822162    4     greater  0.071259  [-0.01, inf]  1.487789  2.294   \n",
       "\n",
       "           power  \n",
       "T-test  0.447034  "
      ]
     },
     "execution_count": 20,
     "metadata": {},
     "output_type": "execute_result"
    }
   ],
   "source": [
    "ttest(df_78_N2[\"Speed (mm/s)\"], df_78_sel12[\"Speed (mm/s)\"], paired=False, alternative=\"greater\")"
   ]
  },
  {
   "cell_type": "markdown",
   "metadata": {},
   "source": [
    "## 88 hrs"
   ]
  },
  {
   "cell_type": "code",
   "execution_count": 12,
   "metadata": {},
   "outputs": [
    {
     "data": {
      "text/html": [
       "<div>\n",
       "<style scoped>\n",
       "    .dataframe tbody tr th:only-of-type {\n",
       "        vertical-align: middle;\n",
       "    }\n",
       "\n",
       "    .dataframe tbody tr th {\n",
       "        vertical-align: top;\n",
       "    }\n",
       "\n",
       "    .dataframe thead th {\n",
       "        text-align: right;\n",
       "    }\n",
       "</style>\n",
       "<table border=\"1\" class=\"dataframe\">\n",
       "  <thead>\n",
       "    <tr style=\"text-align: right;\">\n",
       "      <th></th>\n",
       "      <th>T</th>\n",
       "      <th>dof</th>\n",
       "      <th>alternative</th>\n",
       "      <th>p-val</th>\n",
       "      <th>CI95%</th>\n",
       "      <th>cohen-d</th>\n",
       "      <th>BF10</th>\n",
       "      <th>power</th>\n",
       "    </tr>\n",
       "  </thead>\n",
       "  <tbody>\n",
       "    <tr>\n",
       "      <th>T-test</th>\n",
       "      <td>5.891678</td>\n",
       "      <td>4</td>\n",
       "      <td>two-sided</td>\n",
       "      <td>0.00415</td>\n",
       "      <td>[0.06, 0.16]</td>\n",
       "      <td>4.810535</td>\n",
       "      <td>8.84</td>\n",
       "      <td>0.989046</td>\n",
       "    </tr>\n",
       "  </tbody>\n",
       "</table>\n",
       "</div>"
      ],
      "text/plain": [
       "               T  dof alternative    p-val         CI95%   cohen-d  BF10  \\\n",
       "T-test  5.891678    4   two-sided  0.00415  [0.06, 0.16]  4.810535  8.84   \n",
       "\n",
       "           power  \n",
       "T-test  0.989046  "
      ]
     },
     "execution_count": 12,
     "metadata": {},
     "output_type": "execute_result"
    }
   ],
   "source": [
    "ttest(df_88_N2[\"Speed (mm/s)\"], df_88_sel12[\"Speed (mm/s)\"])"
   ]
  },
  {
   "cell_type": "code",
   "execution_count": 17,
   "metadata": {},
   "outputs": [
    {
     "data": {
      "text/html": [
       "<div>\n",
       "<style scoped>\n",
       "    .dataframe tbody tr th:only-of-type {\n",
       "        vertical-align: middle;\n",
       "    }\n",
       "\n",
       "    .dataframe tbody tr th {\n",
       "        vertical-align: top;\n",
       "    }\n",
       "\n",
       "    .dataframe thead th {\n",
       "        text-align: right;\n",
       "    }\n",
       "</style>\n",
       "<table border=\"1\" class=\"dataframe\">\n",
       "  <thead>\n",
       "    <tr style=\"text-align: right;\">\n",
       "      <th></th>\n",
       "      <th>T</th>\n",
       "      <th>dof</th>\n",
       "      <th>alternative</th>\n",
       "      <th>p-val</th>\n",
       "      <th>CI95%</th>\n",
       "      <th>cohen-d</th>\n",
       "      <th>BF10</th>\n",
       "      <th>power</th>\n",
       "    </tr>\n",
       "  </thead>\n",
       "  <tbody>\n",
       "    <tr>\n",
       "      <th>T-test</th>\n",
       "      <td>5.891678</td>\n",
       "      <td>4</td>\n",
       "      <td>greater</td>\n",
       "      <td>0.002075</td>\n",
       "      <td>[0.07, inf]</td>\n",
       "      <td>4.810535</td>\n",
       "      <td>17.68</td>\n",
       "      <td>0.9988</td>\n",
       "    </tr>\n",
       "  </tbody>\n",
       "</table>\n",
       "</div>"
      ],
      "text/plain": [
       "               T  dof alternative     p-val        CI95%   cohen-d   BF10  \\\n",
       "T-test  5.891678    4     greater  0.002075  [0.07, inf]  4.810535  17.68   \n",
       "\n",
       "         power  \n",
       "T-test  0.9988  "
      ]
     },
     "execution_count": 17,
     "metadata": {},
     "output_type": "execute_result"
    }
   ],
   "source": [
    "ttest(df_88_N2[\"Speed (mm/s)\"], df_88_sel12[\"Speed (mm/s)\"], paired=False, alternative='greater')"
   ]
  },
  {
   "cell_type": "markdown",
   "metadata": {},
   "source": [
    "## 98 hrs"
   ]
  },
  {
   "cell_type": "code",
   "execution_count": 13,
   "metadata": {},
   "outputs": [
    {
     "data": {
      "text/html": [
       "<div>\n",
       "<style scoped>\n",
       "    .dataframe tbody tr th:only-of-type {\n",
       "        vertical-align: middle;\n",
       "    }\n",
       "\n",
       "    .dataframe tbody tr th {\n",
       "        vertical-align: top;\n",
       "    }\n",
       "\n",
       "    .dataframe thead th {\n",
       "        text-align: right;\n",
       "    }\n",
       "</style>\n",
       "<table border=\"1\" class=\"dataframe\">\n",
       "  <thead>\n",
       "    <tr style=\"text-align: right;\">\n",
       "      <th></th>\n",
       "      <th>T</th>\n",
       "      <th>dof</th>\n",
       "      <th>alternative</th>\n",
       "      <th>p-val</th>\n",
       "      <th>CI95%</th>\n",
       "      <th>cohen-d</th>\n",
       "      <th>BF10</th>\n",
       "      <th>power</th>\n",
       "    </tr>\n",
       "  </thead>\n",
       "  <tbody>\n",
       "    <tr>\n",
       "      <th>T-test</th>\n",
       "      <td>6.099386</td>\n",
       "      <td>4</td>\n",
       "      <td>two-sided</td>\n",
       "      <td>0.003655</td>\n",
       "      <td>[0.06, 0.17]</td>\n",
       "      <td>4.980127</td>\n",
       "      <td>9.595</td>\n",
       "      <td>0.992446</td>\n",
       "    </tr>\n",
       "  </tbody>\n",
       "</table>\n",
       "</div>"
      ],
      "text/plain": [
       "               T  dof alternative     p-val         CI95%   cohen-d   BF10  \\\n",
       "T-test  6.099386    4   two-sided  0.003655  [0.06, 0.17]  4.980127  9.595   \n",
       "\n",
       "           power  \n",
       "T-test  0.992446  "
      ]
     },
     "execution_count": 13,
     "metadata": {},
     "output_type": "execute_result"
    }
   ],
   "source": [
    "ttest(df_98_N2[\"Speed (mm/s)\"], df_98_sel12[\"Speed (mm/s)\"])"
   ]
  },
  {
   "cell_type": "code",
   "execution_count": 19,
   "metadata": {},
   "outputs": [
    {
     "data": {
      "text/html": [
       "<div>\n",
       "<style scoped>\n",
       "    .dataframe tbody tr th:only-of-type {\n",
       "        vertical-align: middle;\n",
       "    }\n",
       "\n",
       "    .dataframe tbody tr th {\n",
       "        vertical-align: top;\n",
       "    }\n",
       "\n",
       "    .dataframe thead th {\n",
       "        text-align: right;\n",
       "    }\n",
       "</style>\n",
       "<table border=\"1\" class=\"dataframe\">\n",
       "  <thead>\n",
       "    <tr style=\"text-align: right;\">\n",
       "      <th></th>\n",
       "      <th>T</th>\n",
       "      <th>dof</th>\n",
       "      <th>alternative</th>\n",
       "      <th>p-val</th>\n",
       "      <th>CI95%</th>\n",
       "      <th>cohen-d</th>\n",
       "      <th>BF10</th>\n",
       "      <th>power</th>\n",
       "    </tr>\n",
       "  </thead>\n",
       "  <tbody>\n",
       "    <tr>\n",
       "      <th>T-test</th>\n",
       "      <td>6.099386</td>\n",
       "      <td>4</td>\n",
       "      <td>greater</td>\n",
       "      <td>0.001828</td>\n",
       "      <td>[0.08, inf]</td>\n",
       "      <td>4.980127</td>\n",
       "      <td>19.19</td>\n",
       "      <td>0.999293</td>\n",
       "    </tr>\n",
       "  </tbody>\n",
       "</table>\n",
       "</div>"
      ],
      "text/plain": [
       "               T  dof alternative     p-val        CI95%   cohen-d   BF10  \\\n",
       "T-test  6.099386    4     greater  0.001828  [0.08, inf]  4.980127  19.19   \n",
       "\n",
       "           power  \n",
       "T-test  0.999293  "
      ]
     },
     "execution_count": 19,
     "metadata": {},
     "output_type": "execute_result"
    }
   ],
   "source": [
    "ttest(df_98_N2[\"Speed (mm/s)\"], df_98_sel12[\"Speed (mm/s)\"], paired=False, alternative=\"greater\")"
   ]
  },
  {
   "cell_type": "markdown",
   "metadata": {},
   "source": [
    "## 108 hrs"
   ]
  },
  {
   "cell_type": "code",
   "execution_count": 14,
   "metadata": {},
   "outputs": [
    {
     "data": {
      "text/html": [
       "<div>\n",
       "<style scoped>\n",
       "    .dataframe tbody tr th:only-of-type {\n",
       "        vertical-align: middle;\n",
       "    }\n",
       "\n",
       "    .dataframe tbody tr th {\n",
       "        vertical-align: top;\n",
       "    }\n",
       "\n",
       "    .dataframe thead th {\n",
       "        text-align: right;\n",
       "    }\n",
       "</style>\n",
       "<table border=\"1\" class=\"dataframe\">\n",
       "  <thead>\n",
       "    <tr style=\"text-align: right;\">\n",
       "      <th></th>\n",
       "      <th>T</th>\n",
       "      <th>dof</th>\n",
       "      <th>alternative</th>\n",
       "      <th>p-val</th>\n",
       "      <th>CI95%</th>\n",
       "      <th>cohen-d</th>\n",
       "      <th>BF10</th>\n",
       "      <th>power</th>\n",
       "    </tr>\n",
       "  </thead>\n",
       "  <tbody>\n",
       "    <tr>\n",
       "      <th>T-test</th>\n",
       "      <td>0.26774</td>\n",
       "      <td>4</td>\n",
       "      <td>two-sided</td>\n",
       "      <td>0.802139</td>\n",
       "      <td>[-0.15, 0.19]</td>\n",
       "      <td>0.218608</td>\n",
       "      <td>0.574</td>\n",
       "      <td>0.0551</td>\n",
       "    </tr>\n",
       "  </tbody>\n",
       "</table>\n",
       "</div>"
      ],
      "text/plain": [
       "              T  dof alternative     p-val          CI95%   cohen-d   BF10  \\\n",
       "T-test  0.26774    4   two-sided  0.802139  [-0.15, 0.19]  0.218608  0.574   \n",
       "\n",
       "         power  \n",
       "T-test  0.0551  "
      ]
     },
     "execution_count": 14,
     "metadata": {},
     "output_type": "execute_result"
    }
   ],
   "source": [
    "ttest(df_108_N2[\"Speed (mm/s)\"], df_108_sel12[\"Speed (mm/s)\"])"
   ]
  },
  {
   "cell_type": "code",
   "execution_count": 22,
   "metadata": {},
   "outputs": [
    {
     "data": {
      "text/html": [
       "<div>\n",
       "<style scoped>\n",
       "    .dataframe tbody tr th:only-of-type {\n",
       "        vertical-align: middle;\n",
       "    }\n",
       "\n",
       "    .dataframe tbody tr th {\n",
       "        vertical-align: top;\n",
       "    }\n",
       "\n",
       "    .dataframe thead th {\n",
       "        text-align: right;\n",
       "    }\n",
       "</style>\n",
       "<table border=\"1\" class=\"dataframe\">\n",
       "  <thead>\n",
       "    <tr style=\"text-align: right;\">\n",
       "      <th></th>\n",
       "      <th>T</th>\n",
       "      <th>dof</th>\n",
       "      <th>alternative</th>\n",
       "      <th>p-val</th>\n",
       "      <th>CI95%</th>\n",
       "      <th>cohen-d</th>\n",
       "      <th>BF10</th>\n",
       "      <th>power</th>\n",
       "    </tr>\n",
       "  </thead>\n",
       "  <tbody>\n",
       "    <tr>\n",
       "      <th>T-test</th>\n",
       "      <td>0.26774</td>\n",
       "      <td>4</td>\n",
       "      <td>greater</td>\n",
       "      <td>0.401069</td>\n",
       "      <td>[-0.11, inf]</td>\n",
       "      <td>0.218608</td>\n",
       "      <td>1.149</td>\n",
       "      <td>0.078006</td>\n",
       "    </tr>\n",
       "  </tbody>\n",
       "</table>\n",
       "</div>"
      ],
      "text/plain": [
       "              T  dof alternative     p-val         CI95%   cohen-d   BF10  \\\n",
       "T-test  0.26774    4     greater  0.401069  [-0.11, inf]  0.218608  1.149   \n",
       "\n",
       "           power  \n",
       "T-test  0.078006  "
      ]
     },
     "execution_count": 22,
     "metadata": {},
     "output_type": "execute_result"
    }
   ],
   "source": [
    "ttest(df_108_N2[\"Speed (mm/s)\"], df_108_sel12[\"Speed (mm/s)\"], paired=False, alternative='greater')"
   ]
  },
  {
   "cell_type": "markdown",
   "metadata": {},
   "source": [
    "# Fig1B Stats Analyses"
   ]
  },
  {
   "cell_type": "code",
   "execution_count": 23,
   "metadata": {},
   "outputs": [
    {
     "name": "stdout",
     "output_type": "stream",
     "text": [
      "                       Strain    Group                             Groups  \\\n",
      "0                          N2  Control                         N2-Control   \n",
      "1                          N2  Control                         N2-Control   \n",
      "2                          N2  Control                         N2-Control   \n",
      "3                          N2  Control                         N2-Control   \n",
      "4                          N2     Test                            N2-Test   \n",
      "5                          N2     Test                            N2-Test   \n",
      "6                          N2     Test                            N2-Test   \n",
      "7                          N2     Test                            N2-Test   \n",
      "8              sel-12(ok2078)  Control             sel-12(ok2078)-Control   \n",
      "9              sel-12(ok2078)  Control             sel-12(ok2078)-Control   \n",
      "10             sel-12(ok2078)  Control             sel-12(ok2078)-Control   \n",
      "11             sel-12(ok2078)  Control             sel-12(ok2078)-Control   \n",
      "12             sel-12(ok2078)     Test                sel-12(ok2078)-Test   \n",
      "13             sel-12(ok2078)     Test                sel-12(ok2078)-Test   \n",
      "14             sel-12(ok2078)     Test                sel-12(ok2078)-Test   \n",
      "15             sel-12(ok2078)     Test                sel-12(ok2078)-Test   \n",
      "16               hop-1(ar179)  Control               hop-1(ar179)-Control   \n",
      "17               hop-1(ar179)  Control               hop-1(ar179)-Control   \n",
      "18               hop-1(ar179)  Control               hop-1(ar179)-Control   \n",
      "19               hop-1(ar179)  Control               hop-1(ar179)-Control   \n",
      "20               hop-1(ar179)     Test                  hop-1(ar179)-Test   \n",
      "21               hop-1(ar179)     Test                  hop-1(ar179)-Test   \n",
      "22               hop-1(ar179)     Test                  hop-1(ar179)-Test   \n",
      "23               hop-1(ar179)     Test                  hop-1(ar179)-Test   \n",
      "24  hop-1(ep369); sel-12(ep6)  Control  hop-1(ep369); sel-12(ep6)-Control   \n",
      "25  hop-1(ep369); sel-12(ep6)  Control  hop-1(ep369); sel-12(ep6)-Control   \n",
      "26  hop-1(ep369); sel-12(ep6)  Control  hop-1(ep369); sel-12(ep6)-Control   \n",
      "27  hop-1(ep369); sel-12(ep6)  Control  hop-1(ep369); sel-12(ep6)-Control   \n",
      "28  hop-1(ep369); sel-12(ep6)     Test     hop-1(ep369); sel-12(ep6)-Test   \n",
      "29  hop-1(ep369); sel-12(ep6)     Test     hop-1(ep369); sel-12(ep6)-Test   \n",
      "30  hop-1(ep369); sel-12(ep6)     Test     hop-1(ep369); sel-12(ep6)-Test   \n",
      "31  hop-1(ep369); sel-12(ep6)     Test     hop-1(ep369); sel-12(ep6)-Test   \n",
      "\n",
      "        C.I.  \n",
      "0  -0.057140  \n",
      "1  -0.102941  \n",
      "2   0.142857  \n",
      "3  -0.093023  \n",
      "4  -0.544715  \n",
      "5  -0.483871  \n",
      "6  -0.544828  \n",
      "7  -0.693252  \n",
      "8  -0.037815  \n",
      "9  -0.050000  \n",
      "10 -0.138461  \n",
      "11  0.147706  \n",
      "12  0.020000  \n",
      "13  0.115942  \n",
      "14 -0.121212  \n",
      "15 -0.247706  \n",
      "16  0.142466  \n",
      "17  0.045455  \n",
      "18 -0.050000  \n",
      "19 -0.011236  \n",
      "20 -0.265306  \n",
      "21 -0.296296  \n",
      "22 -0.216783  \n",
      "23 -0.186992  \n",
      "24 -0.177778  \n",
      "25  0.123529  \n",
      "26 -0.030769  \n",
      "27 -0.115385  \n",
      "28 -0.169026  \n",
      "29 -0.208451  \n",
      "30 -0.146392  \n",
      "31 -0.163218  \n"
     ]
    }
   ],
   "source": [
    "df1 = pd.read_csv('/Users/Joseph/Desktop/Fig1B_Data.csv')\n",
    "print(df1)"
   ]
  },
  {
   "cell_type": "markdown",
   "metadata": {},
   "source": [
    "## Tukey Test"
   ]
  },
  {
   "cell_type": "code",
   "execution_count": 26,
   "metadata": {},
   "outputs": [
    {
     "data": {
      "text/html": [
       "<div>\n",
       "<style scoped>\n",
       "    .dataframe tbody tr th:only-of-type {\n",
       "        vertical-align: middle;\n",
       "    }\n",
       "\n",
       "    .dataframe tbody tr th {\n",
       "        vertical-align: top;\n",
       "    }\n",
       "\n",
       "    .dataframe thead th {\n",
       "        text-align: right;\n",
       "    }\n",
       "</style>\n",
       "<table border=\"1\" class=\"dataframe\">\n",
       "  <thead>\n",
       "    <tr style=\"text-align: right;\">\n",
       "      <th></th>\n",
       "      <th>A</th>\n",
       "      <th>B</th>\n",
       "      <th>mean(A)</th>\n",
       "      <th>mean(B)</th>\n",
       "      <th>diff</th>\n",
       "      <th>se</th>\n",
       "      <th>T</th>\n",
       "      <th>p-tukey</th>\n",
       "      <th>hedges</th>\n",
       "    </tr>\n",
       "  </thead>\n",
       "  <tbody>\n",
       "    <tr>\n",
       "      <th>0</th>\n",
       "      <td>N2-Control</td>\n",
       "      <td>N2-Test</td>\n",
       "      <td>-0.02756</td>\n",
       "      <td>-0.56667</td>\n",
       "      <td>0.53910</td>\n",
       "      <td>0.07426</td>\n",
       "      <td>7.25961</td>\n",
       "      <td>0.00000</td>\n",
       "      <td>4.46375</td>\n",
       "    </tr>\n",
       "    <tr>\n",
       "      <th>1</th>\n",
       "      <td>N2-Control</td>\n",
       "      <td>hop-1(ar179)-Control</td>\n",
       "      <td>-0.02756</td>\n",
       "      <td>0.03167</td>\n",
       "      <td>-0.05923</td>\n",
       "      <td>0.07426</td>\n",
       "      <td>-0.79763</td>\n",
       "      <td>0.99164</td>\n",
       "      <td>-0.49045</td>\n",
       "    </tr>\n",
       "    <tr>\n",
       "      <th>2</th>\n",
       "      <td>N2-Control</td>\n",
       "      <td>hop-1(ar179)-Test</td>\n",
       "      <td>-0.02756</td>\n",
       "      <td>-0.24134</td>\n",
       "      <td>0.21378</td>\n",
       "      <td>0.07426</td>\n",
       "      <td>2.87881</td>\n",
       "      <td>0.12184</td>\n",
       "      <td>1.77011</td>\n",
       "    </tr>\n",
       "    <tr>\n",
       "      <th>3</th>\n",
       "      <td>N2-Control</td>\n",
       "      <td>hop-1(ep369); sel-12(ep6)-Control</td>\n",
       "      <td>-0.02756</td>\n",
       "      <td>-0.05010</td>\n",
       "      <td>0.02254</td>\n",
       "      <td>0.07426</td>\n",
       "      <td>0.30351</td>\n",
       "      <td>0.99998</td>\n",
       "      <td>0.18662</td>\n",
       "    </tr>\n",
       "    <tr>\n",
       "      <th>4</th>\n",
       "      <td>N2-Control</td>\n",
       "      <td>hop-1(ep369); sel-12(ep6)-Test</td>\n",
       "      <td>-0.02756</td>\n",
       "      <td>-0.17177</td>\n",
       "      <td>0.14421</td>\n",
       "      <td>0.07426</td>\n",
       "      <td>1.94194</td>\n",
       "      <td>0.53775</td>\n",
       "      <td>1.19405</td>\n",
       "    </tr>\n",
       "    <tr>\n",
       "      <th>5</th>\n",
       "      <td>N2-Control</td>\n",
       "      <td>sel-12(ok2078)-Control</td>\n",
       "      <td>-0.02756</td>\n",
       "      <td>-0.01964</td>\n",
       "      <td>-0.00792</td>\n",
       "      <td>0.07426</td>\n",
       "      <td>-0.10664</td>\n",
       "      <td>1.00000</td>\n",
       "      <td>-0.06557</td>\n",
       "    </tr>\n",
       "    <tr>\n",
       "      <th>6</th>\n",
       "      <td>N2-Control</td>\n",
       "      <td>sel-12(ok2078)-Test</td>\n",
       "      <td>-0.02756</td>\n",
       "      <td>-0.05824</td>\n",
       "      <td>0.03068</td>\n",
       "      <td>0.07426</td>\n",
       "      <td>0.41317</td>\n",
       "      <td>0.99987</td>\n",
       "      <td>0.25405</td>\n",
       "    </tr>\n",
       "    <tr>\n",
       "      <th>7</th>\n",
       "      <td>N2-Test</td>\n",
       "      <td>hop-1(ar179)-Control</td>\n",
       "      <td>-0.56667</td>\n",
       "      <td>0.03167</td>\n",
       "      <td>-0.59834</td>\n",
       "      <td>0.07426</td>\n",
       "      <td>-8.05724</td>\n",
       "      <td>0.00000</td>\n",
       "      <td>-4.95420</td>\n",
       "    </tr>\n",
       "    <tr>\n",
       "      <th>8</th>\n",
       "      <td>N2-Test</td>\n",
       "      <td>hop-1(ar179)-Test</td>\n",
       "      <td>-0.56667</td>\n",
       "      <td>-0.24134</td>\n",
       "      <td>-0.32532</td>\n",
       "      <td>0.07426</td>\n",
       "      <td>-4.38080</td>\n",
       "      <td>0.00422</td>\n",
       "      <td>-2.69365</td>\n",
       "    </tr>\n",
       "    <tr>\n",
       "      <th>9</th>\n",
       "      <td>N2-Test</td>\n",
       "      <td>hop-1(ep369); sel-12(ep6)-Control</td>\n",
       "      <td>-0.56667</td>\n",
       "      <td>-0.05010</td>\n",
       "      <td>-0.51657</td>\n",
       "      <td>0.07426</td>\n",
       "      <td>-6.95610</td>\n",
       "      <td>0.00001</td>\n",
       "      <td>-4.27713</td>\n",
       "    </tr>\n",
       "    <tr>\n",
       "      <th>10</th>\n",
       "      <td>N2-Test</td>\n",
       "      <td>hop-1(ep369); sel-12(ep6)-Test</td>\n",
       "      <td>-0.56667</td>\n",
       "      <td>-0.17177</td>\n",
       "      <td>-0.39489</td>\n",
       "      <td>0.07426</td>\n",
       "      <td>-5.31767</td>\n",
       "      <td>0.00043</td>\n",
       "      <td>-3.26970</td>\n",
       "    </tr>\n",
       "    <tr>\n",
       "      <th>11</th>\n",
       "      <td>N2-Test</td>\n",
       "      <td>sel-12(ok2078)-Control</td>\n",
       "      <td>-0.56667</td>\n",
       "      <td>-0.01964</td>\n",
       "      <td>-0.54702</td>\n",
       "      <td>0.07426</td>\n",
       "      <td>-7.36625</td>\n",
       "      <td>0.00000</td>\n",
       "      <td>-4.52932</td>\n",
       "    </tr>\n",
       "    <tr>\n",
       "      <th>12</th>\n",
       "      <td>N2-Test</td>\n",
       "      <td>sel-12(ok2078)-Test</td>\n",
       "      <td>-0.56667</td>\n",
       "      <td>-0.05824</td>\n",
       "      <td>-0.50842</td>\n",
       "      <td>0.07426</td>\n",
       "      <td>-6.84644</td>\n",
       "      <td>0.00001</td>\n",
       "      <td>-4.20971</td>\n",
       "    </tr>\n",
       "    <tr>\n",
       "      <th>13</th>\n",
       "      <td>hop-1(ar179)-Control</td>\n",
       "      <td>hop-1(ar179)-Test</td>\n",
       "      <td>0.03167</td>\n",
       "      <td>-0.24134</td>\n",
       "      <td>0.27302</td>\n",
       "      <td>0.07426</td>\n",
       "      <td>3.67644</td>\n",
       "      <td>0.02223</td>\n",
       "      <td>2.26055</td>\n",
       "    </tr>\n",
       "    <tr>\n",
       "      <th>14</th>\n",
       "      <td>hop-1(ar179)-Control</td>\n",
       "      <td>hop-1(ep369); sel-12(ep6)-Control</td>\n",
       "      <td>0.03167</td>\n",
       "      <td>-0.05010</td>\n",
       "      <td>0.08177</td>\n",
       "      <td>0.07426</td>\n",
       "      <td>1.10114</td>\n",
       "      <td>0.95034</td>\n",
       "      <td>0.67706</td>\n",
       "    </tr>\n",
       "    <tr>\n",
       "      <th>15</th>\n",
       "      <td>hop-1(ar179)-Control</td>\n",
       "      <td>hop-1(ep369); sel-12(ep6)-Test</td>\n",
       "      <td>0.03167</td>\n",
       "      <td>-0.17177</td>\n",
       "      <td>0.20344</td>\n",
       "      <td>0.07426</td>\n",
       "      <td>2.73957</td>\n",
       "      <td>0.15870</td>\n",
       "      <td>1.68450</td>\n",
       "    </tr>\n",
       "    <tr>\n",
       "      <th>16</th>\n",
       "      <td>hop-1(ar179)-Control</td>\n",
       "      <td>sel-12(ok2078)-Control</td>\n",
       "      <td>0.03167</td>\n",
       "      <td>-0.01964</td>\n",
       "      <td>0.05131</td>\n",
       "      <td>0.07426</td>\n",
       "      <td>0.69099</td>\n",
       "      <td>0.99649</td>\n",
       "      <td>0.42487</td>\n",
       "    </tr>\n",
       "    <tr>\n",
       "      <th>17</th>\n",
       "      <td>hop-1(ar179)-Control</td>\n",
       "      <td>sel-12(ok2078)-Test</td>\n",
       "      <td>0.03167</td>\n",
       "      <td>-0.05824</td>\n",
       "      <td>0.08992</td>\n",
       "      <td>0.07426</td>\n",
       "      <td>1.21080</td>\n",
       "      <td>0.92081</td>\n",
       "      <td>0.74449</td>\n",
       "    </tr>\n",
       "    <tr>\n",
       "      <th>18</th>\n",
       "      <td>hop-1(ar179)-Test</td>\n",
       "      <td>hop-1(ep369); sel-12(ep6)-Control</td>\n",
       "      <td>-0.24134</td>\n",
       "      <td>-0.05010</td>\n",
       "      <td>-0.19124</td>\n",
       "      <td>0.07426</td>\n",
       "      <td>-2.57530</td>\n",
       "      <td>0.21318</td>\n",
       "      <td>-1.58349</td>\n",
       "    </tr>\n",
       "    <tr>\n",
       "      <th>19</th>\n",
       "      <td>hop-1(ar179)-Test</td>\n",
       "      <td>hop-1(ep369); sel-12(ep6)-Test</td>\n",
       "      <td>-0.24134</td>\n",
       "      <td>-0.17177</td>\n",
       "      <td>-0.06957</td>\n",
       "      <td>0.07426</td>\n",
       "      <td>-0.93687</td>\n",
       "      <td>0.97897</td>\n",
       "      <td>-0.57606</td>\n",
       "    </tr>\n",
       "    <tr>\n",
       "      <th>20</th>\n",
       "      <td>hop-1(ar179)-Test</td>\n",
       "      <td>sel-12(ok2078)-Control</td>\n",
       "      <td>-0.24134</td>\n",
       "      <td>-0.01964</td>\n",
       "      <td>-0.22170</td>\n",
       "      <td>0.07426</td>\n",
       "      <td>-2.98545</td>\n",
       "      <td>0.09873</td>\n",
       "      <td>-1.83568</td>\n",
       "    </tr>\n",
       "    <tr>\n",
       "      <th>21</th>\n",
       "      <td>hop-1(ar179)-Test</td>\n",
       "      <td>sel-12(ok2078)-Test</td>\n",
       "      <td>-0.24134</td>\n",
       "      <td>-0.05824</td>\n",
       "      <td>-0.18310</td>\n",
       "      <td>0.07426</td>\n",
       "      <td>-2.46564</td>\n",
       "      <td>0.25670</td>\n",
       "      <td>-1.51606</td>\n",
       "    </tr>\n",
       "    <tr>\n",
       "      <th>22</th>\n",
       "      <td>hop-1(ep369); sel-12(ep6)-Control</td>\n",
       "      <td>hop-1(ep369); sel-12(ep6)-Test</td>\n",
       "      <td>-0.05010</td>\n",
       "      <td>-0.17177</td>\n",
       "      <td>0.12167</td>\n",
       "      <td>0.07426</td>\n",
       "      <td>1.63843</td>\n",
       "      <td>0.72372</td>\n",
       "      <td>1.00743</td>\n",
       "    </tr>\n",
       "    <tr>\n",
       "      <th>23</th>\n",
       "      <td>hop-1(ep369); sel-12(ep6)-Control</td>\n",
       "      <td>sel-12(ok2078)-Control</td>\n",
       "      <td>-0.05010</td>\n",
       "      <td>-0.01964</td>\n",
       "      <td>-0.03046</td>\n",
       "      <td>0.07426</td>\n",
       "      <td>-0.41015</td>\n",
       "      <td>0.99988</td>\n",
       "      <td>-0.25219</td>\n",
       "    </tr>\n",
       "    <tr>\n",
       "      <th>24</th>\n",
       "      <td>hop-1(ep369); sel-12(ep6)-Control</td>\n",
       "      <td>sel-12(ok2078)-Test</td>\n",
       "      <td>-0.05010</td>\n",
       "      <td>-0.05824</td>\n",
       "      <td>0.00814</td>\n",
       "      <td>0.07426</td>\n",
       "      <td>0.10966</td>\n",
       "      <td>1.00000</td>\n",
       "      <td>0.06743</td>\n",
       "    </tr>\n",
       "    <tr>\n",
       "      <th>25</th>\n",
       "      <td>hop-1(ep369); sel-12(ep6)-Test</td>\n",
       "      <td>sel-12(ok2078)-Control</td>\n",
       "      <td>-0.17177</td>\n",
       "      <td>-0.01964</td>\n",
       "      <td>-0.15213</td>\n",
       "      <td>0.07426</td>\n",
       "      <td>-2.04858</td>\n",
       "      <td>0.47284</td>\n",
       "      <td>-1.25962</td>\n",
       "    </tr>\n",
       "    <tr>\n",
       "      <th>26</th>\n",
       "      <td>hop-1(ep369); sel-12(ep6)-Test</td>\n",
       "      <td>sel-12(ok2078)-Test</td>\n",
       "      <td>-0.17177</td>\n",
       "      <td>-0.05824</td>\n",
       "      <td>-0.11353</td>\n",
       "      <td>0.07426</td>\n",
       "      <td>-1.52877</td>\n",
       "      <td>0.78498</td>\n",
       "      <td>-0.94000</td>\n",
       "    </tr>\n",
       "    <tr>\n",
       "      <th>27</th>\n",
       "      <td>sel-12(ok2078)-Control</td>\n",
       "      <td>sel-12(ok2078)-Test</td>\n",
       "      <td>-0.01964</td>\n",
       "      <td>-0.05824</td>\n",
       "      <td>0.03860</td>\n",
       "      <td>0.07426</td>\n",
       "      <td>0.51981</td>\n",
       "      <td>0.99942</td>\n",
       "      <td>0.31962</td>\n",
       "    </tr>\n",
       "  </tbody>\n",
       "</table>\n",
       "</div>"
      ],
      "text/plain": [
       "                                    A                                  B  \\\n",
       "0                          N2-Control                            N2-Test   \n",
       "1                          N2-Control               hop-1(ar179)-Control   \n",
       "2                          N2-Control                  hop-1(ar179)-Test   \n",
       "3                          N2-Control  hop-1(ep369); sel-12(ep6)-Control   \n",
       "4                          N2-Control     hop-1(ep369); sel-12(ep6)-Test   \n",
       "5                          N2-Control             sel-12(ok2078)-Control   \n",
       "6                          N2-Control                sel-12(ok2078)-Test   \n",
       "7                             N2-Test               hop-1(ar179)-Control   \n",
       "8                             N2-Test                  hop-1(ar179)-Test   \n",
       "9                             N2-Test  hop-1(ep369); sel-12(ep6)-Control   \n",
       "10                            N2-Test     hop-1(ep369); sel-12(ep6)-Test   \n",
       "11                            N2-Test             sel-12(ok2078)-Control   \n",
       "12                            N2-Test                sel-12(ok2078)-Test   \n",
       "13               hop-1(ar179)-Control                  hop-1(ar179)-Test   \n",
       "14               hop-1(ar179)-Control  hop-1(ep369); sel-12(ep6)-Control   \n",
       "15               hop-1(ar179)-Control     hop-1(ep369); sel-12(ep6)-Test   \n",
       "16               hop-1(ar179)-Control             sel-12(ok2078)-Control   \n",
       "17               hop-1(ar179)-Control                sel-12(ok2078)-Test   \n",
       "18                  hop-1(ar179)-Test  hop-1(ep369); sel-12(ep6)-Control   \n",
       "19                  hop-1(ar179)-Test     hop-1(ep369); sel-12(ep6)-Test   \n",
       "20                  hop-1(ar179)-Test             sel-12(ok2078)-Control   \n",
       "21                  hop-1(ar179)-Test                sel-12(ok2078)-Test   \n",
       "22  hop-1(ep369); sel-12(ep6)-Control     hop-1(ep369); sel-12(ep6)-Test   \n",
       "23  hop-1(ep369); sel-12(ep6)-Control             sel-12(ok2078)-Control   \n",
       "24  hop-1(ep369); sel-12(ep6)-Control                sel-12(ok2078)-Test   \n",
       "25     hop-1(ep369); sel-12(ep6)-Test             sel-12(ok2078)-Control   \n",
       "26     hop-1(ep369); sel-12(ep6)-Test                sel-12(ok2078)-Test   \n",
       "27             sel-12(ok2078)-Control                sel-12(ok2078)-Test   \n",
       "\n",
       "    mean(A)  mean(B)     diff       se        T  p-tukey   hedges  \n",
       "0  -0.02756 -0.56667  0.53910  0.07426  7.25961  0.00000  4.46375  \n",
       "1  -0.02756  0.03167 -0.05923  0.07426 -0.79763  0.99164 -0.49045  \n",
       "2  -0.02756 -0.24134  0.21378  0.07426  2.87881  0.12184  1.77011  \n",
       "3  -0.02756 -0.05010  0.02254  0.07426  0.30351  0.99998  0.18662  \n",
       "4  -0.02756 -0.17177  0.14421  0.07426  1.94194  0.53775  1.19405  \n",
       "5  -0.02756 -0.01964 -0.00792  0.07426 -0.10664  1.00000 -0.06557  \n",
       "6  -0.02756 -0.05824  0.03068  0.07426  0.41317  0.99987  0.25405  \n",
       "7  -0.56667  0.03167 -0.59834  0.07426 -8.05724  0.00000 -4.95420  \n",
       "8  -0.56667 -0.24134 -0.32532  0.07426 -4.38080  0.00422 -2.69365  \n",
       "9  -0.56667 -0.05010 -0.51657  0.07426 -6.95610  0.00001 -4.27713  \n",
       "10 -0.56667 -0.17177 -0.39489  0.07426 -5.31767  0.00043 -3.26970  \n",
       "11 -0.56667 -0.01964 -0.54702  0.07426 -7.36625  0.00000 -4.52932  \n",
       "12 -0.56667 -0.05824 -0.50842  0.07426 -6.84644  0.00001 -4.20971  \n",
       "13  0.03167 -0.24134  0.27302  0.07426  3.67644  0.02223  2.26055  \n",
       "14  0.03167 -0.05010  0.08177  0.07426  1.10114  0.95034  0.67706  \n",
       "15  0.03167 -0.17177  0.20344  0.07426  2.73957  0.15870  1.68450  \n",
       "16  0.03167 -0.01964  0.05131  0.07426  0.69099  0.99649  0.42487  \n",
       "17  0.03167 -0.05824  0.08992  0.07426  1.21080  0.92081  0.74449  \n",
       "18 -0.24134 -0.05010 -0.19124  0.07426 -2.57530  0.21318 -1.58349  \n",
       "19 -0.24134 -0.17177 -0.06957  0.07426 -0.93687  0.97897 -0.57606  \n",
       "20 -0.24134 -0.01964 -0.22170  0.07426 -2.98545  0.09873 -1.83568  \n",
       "21 -0.24134 -0.05824 -0.18310  0.07426 -2.46564  0.25670 -1.51606  \n",
       "22 -0.05010 -0.17177  0.12167  0.07426  1.63843  0.72372  1.00743  \n",
       "23 -0.05010 -0.01964 -0.03046  0.07426 -0.41015  0.99988 -0.25219  \n",
       "24 -0.05010 -0.05824  0.00814  0.07426  0.10966  1.00000  0.06743  \n",
       "25 -0.17177 -0.01964 -0.15213  0.07426 -2.04858  0.47284 -1.25962  \n",
       "26 -0.17177 -0.05824 -0.11353  0.07426 -1.52877  0.78498 -0.94000  \n",
       "27 -0.01964 -0.05824  0.03860  0.07426  0.51981  0.99942  0.31962  "
      ]
     },
     "execution_count": 26,
     "metadata": {},
     "output_type": "execute_result"
    }
   ],
   "source": [
    "pg.pairwise_tukey(data=df1, dv=\"C.I.\", between=\"Groups\").round(5)"
   ]
  },
  {
   "cell_type": "markdown",
   "metadata": {},
   "source": [
    "## One-way ANOVA"
   ]
  },
  {
   "cell_type": "code",
   "execution_count": 30,
   "metadata": {},
   "outputs": [
    {
     "data": {
      "text/html": [
       "<div>\n",
       "<style scoped>\n",
       "    .dataframe tbody tr th:only-of-type {\n",
       "        vertical-align: middle;\n",
       "    }\n",
       "\n",
       "    .dataframe tbody tr th {\n",
       "        vertical-align: top;\n",
       "    }\n",
       "\n",
       "    .dataframe thead th {\n",
       "        text-align: right;\n",
       "    }\n",
       "</style>\n",
       "<table border=\"1\" class=\"dataframe\">\n",
       "  <thead>\n",
       "    <tr style=\"text-align: right;\">\n",
       "      <th></th>\n",
       "      <th>Source</th>\n",
       "      <th>SS</th>\n",
       "      <th>DF</th>\n",
       "      <th>MS</th>\n",
       "      <th>F</th>\n",
       "      <th>p-unc</th>\n",
       "      <th>np2</th>\n",
       "    </tr>\n",
       "  </thead>\n",
       "  <tbody>\n",
       "    <tr>\n",
       "      <th>0</th>\n",
       "      <td>Groups</td>\n",
       "      <td>1.058624</td>\n",
       "      <td>7</td>\n",
       "      <td>0.151232</td>\n",
       "      <td>13.711787</td>\n",
       "      <td>0.000001</td>\n",
       "      <td>0.799971</td>\n",
       "    </tr>\n",
       "    <tr>\n",
       "      <th>1</th>\n",
       "      <td>Within</td>\n",
       "      <td>0.264704</td>\n",
       "      <td>24</td>\n",
       "      <td>0.011029</td>\n",
       "      <td>NaN</td>\n",
       "      <td>NaN</td>\n",
       "      <td>NaN</td>\n",
       "    </tr>\n",
       "  </tbody>\n",
       "</table>\n",
       "</div>"
      ],
      "text/plain": [
       "   Source        SS  DF        MS          F     p-unc       np2\n",
       "0  Groups  1.058624   7  0.151232  13.711787  0.000001  0.799971\n",
       "1  Within  0.264704  24  0.011029        NaN       NaN       NaN"
      ]
     },
     "execution_count": 30,
     "metadata": {},
     "output_type": "execute_result"
    }
   ],
   "source": [
    "pg.anova(data=df1, dv='C.I.', between='Groups', detailed=True).round(6)"
   ]
  },
  {
   "cell_type": "code",
   "execution_count": null,
   "metadata": {},
   "outputs": [],
   "source": []
  }
 ],
 "metadata": {
  "kernelspec": {
   "display_name": "Python 3 (ipykernel)",
   "language": "python",
   "name": "python3"
  },
  "language_info": {
   "codemirror_mode": {
    "name": "ipython",
    "version": 3
   },
   "file_extension": ".py",
   "mimetype": "text/x-python",
   "name": "python",
   "nbconvert_exporter": "python",
   "pygments_lexer": "ipython3",
   "version": "3.8.3"
  }
 },
 "nbformat": 4,
 "nbformat_minor": 4
}
