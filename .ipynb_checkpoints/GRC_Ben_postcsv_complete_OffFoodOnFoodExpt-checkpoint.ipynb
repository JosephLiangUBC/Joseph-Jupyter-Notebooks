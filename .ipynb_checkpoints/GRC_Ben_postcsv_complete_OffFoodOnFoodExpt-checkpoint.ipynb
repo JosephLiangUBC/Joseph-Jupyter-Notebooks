{
 "cells": [
  {
   "cell_type": "markdown",
   "metadata": {},
   "source": [
    "# To use this notebook, have data of the following form in a CSV file\n",
    "![data format example](Ben_CSV_example.jpg)\n"
   ]
  },
  {
   "cell_type": "markdown",
   "metadata": {},
   "source": [
    "# Contents\n",
    "\n",
    "#### 1. Prepare for analysis (import packages and set working directory)\n",
    "#### 2. Read in, tidy, and explore the data\n",
    "#### 3. Generate speed trace\n",
    "#### 4. Generate OffFood/OnFood comparison bar plots (including BSR)\n",
    "#### 5. Generate phenotype heatmap"
   ]
  },
  {
   "cell_type": "markdown",
   "metadata": {},
   "source": [
    "# 1 - Prepare for analysis"
   ]
  },
  {
   "cell_type": "markdown",
   "metadata": {},
   "source": [
    "## 1.1 - Import required packages"
   ]
  },
  {
   "cell_type": "code",
   "execution_count": 1,
   "metadata": {},
   "outputs": [
    {
     "name": "stdout",
     "output_type": "stream",
     "text": [
      "done step 1\n"
     ]
    }
   ],
   "source": [
    "import os  # <- package used to work with system filepaths\n",
    "import pandas as pd  # <- package used to import and organize data\n",
    "import numpy as np  # <- package used to import and organize data\n",
    "import math\n",
    "import seaborn as sns  # <- package used to plot graphs\n",
    "from matplotlib import pyplot as plt  # <- another package used to plot graphs\n",
    "from itertools import cycle  # <- package used to iterate down rows\n",
    "from ipywidgets import widgets  # <- widget tool to generate button\n",
    "from IPython.display import display  # <- displays button\n",
    "from tkinter import Tk, filedialog  # <- Tkinter is a GUI package\n",
    "from tqdm.notebook import tqdm\n",
    "import dask.dataframe as dd\n",
    "import pingouin as pg\n",
    "from pingouin import ttest\n",
    "from scipy.stats import ttest_ind\n",
    "pd.set_option('display.max_columns', 50)\n",
    "print(\"done step 1\")"
   ]
  },
  {
   "cell_type": "markdown",
   "metadata": {},
   "source": [
    "## 1.2 - Set working directory to where the CSV file with experiment data is"
   ]
  },
  {
   "cell_type": "code",
   "execution_count": 2,
   "metadata": {},
   "outputs": [],
   "source": [
    "os.getcwd()\n",
    "os.chdir('/Volumes/JosephBSR/Ben_BSR_all')"
   ]
  },
  {
   "cell_type": "markdown",
   "metadata": {},
   "source": [
    "# 2 - Read in, tidy, and explore the data"
   ]
  },
  {
   "cell_type": "markdown",
   "metadata": {},
   "source": [
    "## 2.1 - Read in the data, check its size and format"
   ]
  },
  {
   "cell_type": "code",
   "execution_count": 3,
   "metadata": {},
   "outputs": [
    {
     "name": "stdout",
     "output_type": "stream",
     "text": [
      "(1442158, 20)\n",
      "   Unnamed: 0  time_bin  worm   time   speed      x      y  angularspeed  \\\n",
      "0           0       4.0   166  3.959  0.1877  24.45  24.12          9.70   \n",
      "1           1       4.0   242  3.715  0.2145  31.42  36.22         24.75   \n",
      "2           2       4.0   243  3.803  0.3030  31.27  37.90         17.75   \n",
      "3           3       4.0   370  3.785  0.2279  21.31  28.89         32.56   \n",
      "4           4       4.0   462  3.863  0.2375  21.34  34.94          1.20   \n",
      "\n",
      "   pathlength   kink  bias  curve  dir     crab  length  midline   width  \\\n",
      "0     0.02400  49.30   1.0  33.80  0.0  0.00420  0.9326    1.055  0.2241   \n",
      "1     0.06700  74.44   1.0  33.16  0.0  0.04553  0.8833    1.083  0.2542   \n",
      "2     0.06300  48.25   1.0  31.10  0.0  0.03710  0.8670    1.075  0.2340   \n",
      "3     0.05680  19.78   1.0  33.97  0.0  0.03903  0.8140    0.973  0.2203   \n",
      "4     0.04565  44.22   1.0  38.34  0.0  0.00857  0.8057    1.011  0.1313   \n",
      "\n",
      "   morphwidth     area      Strain  \n",
      "0     0.16750  0.14870  N2_OffFood  \n",
      "1     0.10180  0.11460  N2_OffFood  \n",
      "2     0.08795  0.10974  N2_OffFood  \n",
      "3     0.23440  0.20390  N2_OffFood  \n",
      "4     0.13390  0.11664  N2_OffFood  \n"
     ]
    }
   ],
   "source": [
    "TotalConcatenated = pd.read_csv('baseline_output.csv')\n",
    "\n",
    "print(TotalConcatenated.shape)\n",
    "print(TotalConcatenated.head())\n",
    "# print(TotalConcatenated.tail())"
   ]
  },
  {
   "cell_type": "markdown",
   "metadata": {},
   "source": [
    "## 2.2 - Get list of strains in the data set"
   ]
  },
  {
   "cell_type": "code",
   "execution_count": 4,
   "metadata": {},
   "outputs": [
    {
     "name": "stdout",
     "output_type": "stream",
     "text": [
      "['N2' 'R07G3.8(tm5683)' 'cat-2(e1112)' 'gba-2(tm4623)' 'gba-4(tm3314)'\n",
      " 'hipr-1(ok1081)' 'igcm-2(ok1527)' 'lfe-2(tm14109)' 'rskd-1(tm4031)'\n",
      " 'sac-2(ok2743)' 'set-2(ok1484)']\n",
      "           Genotype\n",
      "0                N2\n",
      "1   R07G3.8(tm5683)\n",
      "2      cat-2(e1112)\n",
      "3     gba-2(tm4623)\n",
      "4     gba-4(tm3314)\n",
      "5    hipr-1(ok1081)\n",
      "6    igcm-2(ok1527)\n",
      "7    lfe-2(tm14109)\n",
      "8    rskd-1(tm4031)\n",
      "9     sac-2(ok2743)\n",
      "10    set-2(ok1484)\n"
     ]
    },
    {
     "name": "stderr",
     "output_type": "stream",
     "text": [
      "<ipython-input-4-8788705eab14>:2: FutureWarning: In a future version of pandas all arguments of StringMethods.split except for the argument 'pat' will be keyword-only.\n",
      "  TotalConcatenated_strains[['Genotype', 'Treatment']] = TotalConcatenated_strains['Strain'].str.split('_', 1, expand = True)\n"
     ]
    }
   ],
   "source": [
    "TotalConcatenated_strains = TotalConcatenated.groupby([\"Strain\", \"worm\"], as_index=False).mean()\n",
    "TotalConcatenated_strains[['Genotype', 'Treatment']] = TotalConcatenated_strains['Strain'].str.split('_', 1, expand = True)\n",
    "TotalConcatenated_strains = TotalConcatenated_strains.dropna()\n",
    "TotalConcatenated_strains = TotalConcatenated_strains.Genotype.unique()\n",
    "\n",
    "# print(TotalConcatenated_strains.head())\n",
    "# print(TotalConcatenated_strains.tail())\n",
    "\n",
    "print(TotalConcatenated_strains)\n",
    "\n",
    "all_strains = pd.DataFrame(TotalConcatenated_strains, columns = ['Genotype'])\n",
    "print(all_strains)"
   ]
  },
  {
   "cell_type": "markdown",
   "metadata": {},
   "source": [
    "## 2.3 - Determine the range for which you want to analyze data"
   ]
  },
  {
   "cell_type": "code",
   "execution_count": 5,
   "metadata": {},
   "outputs": [],
   "source": [
    "start = 100  # <----- set the start time of the range\n",
    "point = 400  # <----- set the end time of your range\n",
    "\n",
    "TotalConcatenated_chunked0 = TotalConcatenated[TotalConcatenated[\"time\"] >= start]\n",
    "TotalConcatenated_chunked = TotalConcatenated_chunked0[TotalConcatenated_chunked0[\"time\"] <= point]"
   ]
  },
  {
   "cell_type": "markdown",
   "metadata": {},
   "source": [
    "## 2.4 - Find average measures for each worm (across duration of specified range), split 'Strain' column into two\n",
    "\n",
    "Ex: 'N2_OnFood' becomes 'N2' & 'OnFood'"
   ]
  },
  {
   "cell_type": "code",
   "execution_count": 6,
   "metadata": {},
   "outputs": [
    {
     "name": "stdout",
     "output_type": "stream",
     "text": [
      "            Genotype Treatment                Strain     speed\n",
      "0                 N2   OffFood            N2_OffFood  0.185660\n",
      "1                 N2   OffFood            N2_OffFood  0.164772\n",
      "2                 N2   OffFood            N2_OffFood  0.166971\n",
      "3                 N2   OffFood            N2_OffFood  0.194481\n",
      "4                 N2   OffFood            N2_OffFood  0.204429\n",
      "...              ...       ...                   ...       ...\n",
      "11446  set-2(ok1484)    OnFood  set-2(ok1484)_OnFood  0.045343\n",
      "11447  set-2(ok1484)    OnFood  set-2(ok1484)_OnFood  0.089745\n",
      "11448  set-2(ok1484)    OnFood  set-2(ok1484)_OnFood  0.058583\n",
      "11449  set-2(ok1484)    OnFood  set-2(ok1484)_OnFood  0.078368\n",
      "11450  set-2(ok1484)    OnFood  set-2(ok1484)_OnFood  0.063003\n",
      "\n",
      "[11451 rows x 4 columns]\n"
     ]
    },
    {
     "name": "stderr",
     "output_type": "stream",
     "text": [
      "<ipython-input-6-9c3bb114ecb7>:2: FutureWarning: In a future version of pandas all arguments of StringMethods.split except for the argument 'pat' will be keyword-only.\n",
      "  TotalConcatenated_mean[['Genotype', 'Treatment']] = TotalConcatenated_mean['Strain'].str.split('_', 1, expand = True)\n"
     ]
    }
   ],
   "source": [
    "TotalConcatenated_mean = TotalConcatenated_chunked.groupby([\"Strain\", \"worm\"], as_index=False).mean()\n",
    "TotalConcatenated_mean[['Genotype', 'Treatment']] = TotalConcatenated_mean['Strain'].str.split('_', 1, expand = True)\n",
    "# print(TotalConcatenated_mean)\n",
    "\n",
    "# SELECT ONLY NECESSARY COLUMNS\n",
    "TotalConcatenated_worm_avg_speed = TotalConcatenated_mean[['Genotype', 'Treatment', 'Strain', 'speed']]\n",
    "print(TotalConcatenated_worm_avg_speed)"
   ]
  },
  {
   "cell_type": "markdown",
   "metadata": {},
   "source": [
    "## 2.5 - Find average speed measures for each genotype and treatment (across duration of specified range)"
   ]
  },
  {
   "cell_type": "code",
   "execution_count": 7,
   "metadata": {},
   "outputs": [
    {
     "name": "stdout",
     "output_type": "stream",
     "text": [
      "                     Strain Treatment         Genotype     speed\n",
      "0                N2_OffFood   OffFood               N2  0.184379\n",
      "1                 N2_OnFood    OnFood               N2  0.099498\n",
      "2   R07G3.8(tm5683)_OffFood   OffFood  R07G3.8(tm5683)  0.162167\n",
      "3    R07G3.8(tm5683)_OnFood    OnFood  R07G3.8(tm5683)  0.074619\n",
      "4      cat-2(e1112)_OffFood   OffFood     cat-2(e1112)  0.206655\n",
      "5       cat-2(e1112)_OnFood    OnFood     cat-2(e1112)  0.179703\n",
      "6     gba-2(tm4623)_OffFood   OffFood    gba-2(tm4623)  0.165796\n",
      "7      gba-2(tm4623)_OnFood    OnFood    gba-2(tm4623)  0.067302\n",
      "8     gba-4(tm3314)_OffFood   OffFood    gba-4(tm3314)  0.134118\n",
      "9      gba-4(tm3314)_OnFood    OnFood    gba-4(tm3314)  0.058023\n",
      "10   hipr-1(ok1081)_OffFood   OffFood   hipr-1(ok1081)  0.183672\n",
      "11    hipr-1(ok1081)_OnFood    OnFood   hipr-1(ok1081)  0.086518\n",
      "12   igcm-2(ok1527)_OffFood   OffFood   igcm-2(ok1527)  0.169181\n",
      "13    igcm-2(ok1527)_OnFood    OnFood   igcm-2(ok1527)  0.101381\n",
      "14   lfe-2(tm14109)_OffFood   OffFood   lfe-2(tm14109)  0.159593\n",
      "15    lfe-2(tm14109)_OnFood    OnFood   lfe-2(tm14109)  0.081022\n",
      "16   rskd-1(tm4031)_OffFood   OffFood   rskd-1(tm4031)  0.092762\n",
      "17    rskd-1(tm4031)_OnFood    OnFood   rskd-1(tm4031)  0.046641\n",
      "18    sac-2(ok2743)_OffFood   OffFood    sac-2(ok2743)  0.137757\n",
      "19     sac-2(ok2743)_OnFood    OnFood    sac-2(ok2743)  0.077915\n",
      "20    set-2(ok1484)_OffFood   OffFood    set-2(ok1484)  0.142987\n",
      "21     set-2(ok1484)_OnFood    OnFood    set-2(ok1484)  0.076672\n"
     ]
    }
   ],
   "source": [
    "TotalConcatenated_avg_speed = TotalConcatenated_worm_avg_speed.groupby(['Strain', 'Treatment', 'Genotype'], as_index = False).mean()\n",
    "print(TotalConcatenated_avg_speed)\n",
    "# print(TotalConcatenated_avg_speed['speed'][1])"
   ]
  },
  {
   "cell_type": "markdown",
   "metadata": {},
   "source": [
    "## 2.6 - Generate dataframe containing only data for N2 and CB1112 for use in speed trace"
   ]
  },
  {
   "cell_type": "code",
   "execution_count": 8,
   "metadata": {},
   "outputs": [
    {
     "name": "stdout",
     "output_type": "stream",
     "text": [
      "(757750, 20)\n",
      "   Unnamed: 0  time_bin  worm   time   speed      x      y  angularspeed  \\\n",
      "0           0       4.0   166  3.959  0.1877  24.45  24.12          9.70   \n",
      "1           1       4.0   242  3.715  0.2145  31.42  36.22         24.75   \n",
      "2           2       4.0   243  3.803  0.3030  31.27  37.90         17.75   \n",
      "3           3       4.0   370  3.785  0.2279  21.31  28.89         32.56   \n",
      "4           4       4.0   462  3.863  0.2375  21.34  34.94          1.20   \n",
      "\n",
      "   pathlength   kink  bias  curve  dir     crab  length  midline   width  \\\n",
      "0     0.02400  49.30   1.0  33.80  0.0  0.00420  0.9326    1.055  0.2241   \n",
      "1     0.06700  74.44   1.0  33.16  0.0  0.04553  0.8833    1.083  0.2542   \n",
      "2     0.06300  48.25   1.0  31.10  0.0  0.03710  0.8670    1.075  0.2340   \n",
      "3     0.05680  19.78   1.0  33.97  0.0  0.03903  0.8140    0.973  0.2203   \n",
      "4     0.04565  44.22   1.0  38.34  0.0  0.00857  0.8057    1.011  0.1313   \n",
      "\n",
      "   morphwidth     area      Strain  \n",
      "0     0.16750  0.14870  N2_OffFood  \n",
      "1     0.10180  0.11460  N2_OffFood  \n",
      "2     0.08795  0.10974  N2_OffFood  \n",
      "3     0.23440  0.20390  N2_OffFood  \n",
      "4     0.13390  0.11664  N2_OffFood  \n"
     ]
    }
   ],
   "source": [
    "N2_cat2 = ['N2_OffFood', 'N2_OnFood', 'cat-2(e1112)_OffFood', 'cat-2(e1112)_OnFood']\n",
    "TotalN2cat2 = TotalConcatenated[TotalConcatenated['Strain'].isin(N2_cat2)]\n",
    "\n",
    "print(TotalN2cat2.shape)\n",
    "print(TotalN2cat2.head())"
   ]
  },
  {
   "cell_type": "markdown",
   "metadata": {},
   "source": [
    "# 3 - Generate speed trace"
   ]
  },
  {
   "cell_type": "code",
   "execution_count": 9,
   "metadata": {},
   "outputs": [
    {
     "data": {
      "text/plain": [
       "<Figure size 432x288 with 0 Axes>"
      ]
     },
     "metadata": {},
     "output_type": "display_data"
    },
    {
     "data": {
      "image/png": "[encoded data removed]",
      "text/plain": [
       "<Figure size 864x504 with 1 Axes>"
      ]
     },
     "metadata": {
      "needs_background": "light"
     },
     "output_type": "display_data"
    }
   ],
   "source": [
    "# Setting viewing range for your graph\n",
    "top = 0.30\n",
    "bottom = 0\n",
    "left = 0\n",
    "right = 420\n",
    "\n",
    "# Set specifications for graph\n",
    "sns.set_context(\"talk\")\n",
    "plt.figure(linewidth = 2.5)\n",
    "plt.figure(figsize = (12, 7))\n",
    "plt.gca().xaxis.grid(False)\n",
    "\n",
    "# Specify data and colours to be used\n",
    "ax = sns.lineplot(x = \"time_bin\",\n",
    "                  y = \"speed\",\n",
    "                  # data = TotalConcatenated,  # <----- uncomment and comment row below if using all data\n",
    "                  data = TotalN2cat2,\n",
    "                  hue = 'Strain',\n",
    "                  palette = ['black',\n",
    "                             'grey',\n",
    "                             '#FF00FF',\n",
    "                             '#8B008B',\n",
    "                             # 'green',  # <----- uncomment additional colours if analyzing more strains (2 per strain)\n",
    "                             # 'lightgreen',\n",
    "                             # 'royalblue',\n",
    "                             # 'lightblue',\n",
    "                             # '#FFB5C5',\n",
    "                             # '#CD6889'\n",
    "                            ])\n",
    "\n",
    "# Specify labels\n",
    "plt.xlabel(\"Time (s)\")\n",
    "plt.ylabel(\"Speed (mm/s)\")\n",
    "plt.title(\"Speed Trace\")\n",
    "\n",
    "# Specify viewing range using variables at top of cell\n",
    "plt.ylim(top = top)\n",
    "plt.ylim(bottom = bottom)\n",
    "plt.xlim(left= left)\n",
    "plt.xlim(right = right)\n",
    "\n",
    "# Add horizontal lines to visualize mean speed of each strain and condition (comment out if using more than N2 & CB1112)\n",
    "# If keeping uncommented, may need to adjust indexing to calculate proper speeds\n",
    "plt.axhline(y = TotalConcatenated_avg_speed['speed'][0], color = 'black', linestyle = ':', alpha = 0.5)\n",
    "plt.axhline(y = TotalConcatenated_avg_speed['speed'][1], color = 'grey', linestyle = ':', alpha = 0.5)\n",
    "plt.axhline(y = TotalConcatenated_avg_speed['speed'][4], color = '#FF00FF', linestyle = ':', alpha = 0.5)\n",
    "plt.axhline(y = TotalConcatenated_avg_speed['speed'][5], color = '#8B008B', linestyle = ':', alpha = 0.5)\n",
    "\n",
    "# Add annotations to show mean speed of each strain and condition\n",
    "# Same caution as previous step regarding proper speeds\n",
    "ax.annotate(f\" M = {round(TotalConcatenated_avg_speed['speed'][0], 3)}\",\n",
    "            xy = (420, TotalConcatenated_avg_speed['speed'][0]),\n",
    "            xytext = (420, TotalConcatenated_avg_speed['speed'][0]),\n",
    "            color = 'black', size = 14)\n",
    "ax.annotate(f\" M = {round(TotalConcatenated_avg_speed['speed'][1], 3)}\",\n",
    "            xy = (420, TotalConcatenated_avg_speed['speed'][1] - 0.003),\n",
    "            xytext = (420, TotalConcatenated_avg_speed['speed'][1] - 0.003),\n",
    "            color = 'grey', size = 14)\n",
    "ax.annotate(f\" M = {round(TotalConcatenated_avg_speed['speed'][4], 3)}\",\n",
    "            xy = (420, TotalConcatenated_avg_speed['speed'][4] - 0.003),\n",
    "            xytext = (420, TotalConcatenated_avg_speed['speed'][4] - 0.003),\n",
    "            color = '#FF00FF', size = 14)\n",
    "ax.annotate(f\" M = {round(TotalConcatenated_avg_speed['speed'][5], 3)}\",\n",
    "            xy = (420, TotalConcatenated_avg_speed['speed'][5] - 0.005),\n",
    "            xytext = (420, TotalConcatenated_avg_speed['speed'][5] - 0.007),\n",
    "            color = '#8B008B', size = 14)\n",
    "\n",
    "# Specify location for legend\n",
    "ax.legend(loc = 'upper right', fontsize = '12'\n",
    "          # , labels = ['N2 (Off Food)', 'N2 (On Food)', 'CB1112 (Off Food)', 'CB1112 (On Food)']\n",
    "         )\n",
    "\n",
    "# Save figure to current working directory\n",
    "plt.savefig(f'Speed_Trace_{left}to{right}s.jpg', format = 'jpg', dpi = 450)\n",
    "\n",
    "plt.show()"
   ]
  },
  {
   "cell_type": "markdown",
   "metadata": {},
   "source": [
    "# 4 - Generate OffFood/OnFood comparison bar plots"
   ]
  },
  {
   "cell_type": "markdown",
   "metadata": {},
   "source": [
    "## 4.1 - BSR bar plots (difference of differences and difference of percent change)"
   ]
  },
  {
   "cell_type": "markdown",
   "metadata": {},
   "source": [
    "### 4.1.1 - First, take data only from the time in the experiment(s) you want to analyze, and find the average speed for each genotype and treatment"
   ]
  },
  {
   "cell_type": "code",
   "execution_count": 10,
   "metadata": {},
   "outputs": [
    {
     "name": "stdout",
     "output_type": "stream",
     "text": [
      "                     Strain Treatment         Genotype     speed\n",
      "0                N2_OffFood   OffFood               N2  0.184379\n",
      "1                 N2_OnFood    OnFood               N2  0.099498\n",
      "2   R07G3.8(tm5683)_OffFood   OffFood  R07G3.8(tm5683)  0.162167\n",
      "3    R07G3.8(tm5683)_OnFood    OnFood  R07G3.8(tm5683)  0.074619\n",
      "4      cat-2(e1112)_OffFood   OffFood     cat-2(e1112)  0.206655\n",
      "5       cat-2(e1112)_OnFood    OnFood     cat-2(e1112)  0.179703\n",
      "6     gba-2(tm4623)_OffFood   OffFood    gba-2(tm4623)  0.165796\n",
      "7      gba-2(tm4623)_OnFood    OnFood    gba-2(tm4623)  0.067302\n",
      "8     gba-4(tm3314)_OffFood   OffFood    gba-4(tm3314)  0.134118\n",
      "9      gba-4(tm3314)_OnFood    OnFood    gba-4(tm3314)  0.058023\n",
      "10   hipr-1(ok1081)_OffFood   OffFood   hipr-1(ok1081)  0.183672\n",
      "11    hipr-1(ok1081)_OnFood    OnFood   hipr-1(ok1081)  0.086518\n",
      "12   igcm-2(ok1527)_OffFood   OffFood   igcm-2(ok1527)  0.169181\n",
      "13    igcm-2(ok1527)_OnFood    OnFood   igcm-2(ok1527)  0.101381\n",
      "14   lfe-2(tm14109)_OffFood   OffFood   lfe-2(tm14109)  0.159593\n",
      "15    lfe-2(tm14109)_OnFood    OnFood   lfe-2(tm14109)  0.081022\n",
      "16   rskd-1(tm4031)_OffFood   OffFood   rskd-1(tm4031)  0.092762\n",
      "17    rskd-1(tm4031)_OnFood    OnFood   rskd-1(tm4031)  0.046641\n",
      "18    sac-2(ok2743)_OffFood   OffFood    sac-2(ok2743)  0.137757\n",
      "19     sac-2(ok2743)_OnFood    OnFood    sac-2(ok2743)  0.077915\n",
      "20    set-2(ok1484)_OffFood   OffFood    set-2(ok1484)  0.142987\n",
      "21     set-2(ok1484)_OnFood    OnFood    set-2(ok1484)  0.076672\n"
     ]
    },
    {
     "name": "stderr",
     "output_type": "stream",
     "text": [
      "<ipython-input-10-8d520cdde17a>:14: FutureWarning: In a future version of pandas all arguments of StringMethods.split except for the argument 'pat' will be keyword-only.\n",
      "  chunkeddata_mean[['Genotype', 'Treatment']] = chunkeddata_mean['Strain'].str.split('_', 1, expand=True)\n"
     ]
    }
   ],
   "source": [
    "# print(TotalConcatenated.head(1))\n",
    "\n",
    "start = 100  # <----- set the start time of the range\n",
    "point = 400  # <----- set the end time of your range\n",
    "\n",
    "# Take data between specified time points\n",
    "chunkeddata0 = TotalConcatenated[TotalConcatenated[\"time\"] >= start]\n",
    "chunkeddata = chunkeddata0[chunkeddata0[\"time\"] <= point]\n",
    "\n",
    "# Take mean of all measures for each worm\n",
    "chunkeddata_mean = chunkeddata.groupby([\"Strain\", \"worm\"], as_index = False).mean()\n",
    "\n",
    "# Split `Strain` column into `Genotype` and `Treatment` columns\n",
    "chunkeddata_mean[['Genotype', 'Treatment']] = chunkeddata_mean['Strain'].str.split('_', 1, expand=True)\n",
    "\n",
    "# Select only the specified columns from previous result (others not important for BSR score)\n",
    "worm_avg_speed = chunkeddata_mean[['Genotype', 'Treatment', 'Strain', 'speed']]\n",
    "\n",
    "# Take mean speed for each genotype and treatment (should result in 2 rows for each genotype - 1 for each condition)\n",
    "avg_speed = worm_avg_speed.groupby([\"Strain\", 'Treatment', 'Genotype'], as_index = False).mean()\n",
    "print(avg_speed)\n",
    "# avg_speed.to_csv(\"avg_speed.csv\")"
   ]
  },
  {
   "cell_type": "markdown",
   "metadata": {},
   "source": [
    "### 4.1.2 - Then, calculate the difference in speed between conditions for each genotype (in mm/s), as well as the percent change in speed relative to OffFood speed for each genotype"
   ]
  },
  {
   "cell_type": "code",
   "execution_count": 11,
   "metadata": {},
   "outputs": [
    {
     "name": "stdout",
     "output_type": "stream",
     "text": [
      "    speed_diff\n",
      "0     0.084881\n",
      "2     0.087549\n",
      "4     0.026952\n",
      "6     0.098493\n",
      "8     0.076095\n",
      "10    0.097154\n",
      "12    0.067801\n",
      "14    0.078571\n",
      "16    0.046121\n",
      "18    0.059843\n",
      "20    0.066316\n",
      "0     0.460360\n",
      "2     0.539866\n",
      "4     0.130419\n",
      "6     0.594066\n",
      "8     0.567371\n",
      "10    0.528953\n",
      "12    0.400757\n",
      "14    0.492320\n",
      "16    0.497197\n",
      "18    0.434407\n",
      "20    0.463786\n",
      "Name: speed_pct_diff, dtype: float64\n"
     ]
    },
    {
     "name": "stderr",
     "output_type": "stream",
     "text": [
      "<ipython-input-11-b98b88b9dbd0>:13: FutureWarning: Not prepending group keys to the result index of transform-like apply. In the future, the group keys will be included in the index, regardless of whether the applied function returns a like-indexed object.\n",
      "To preserve the previous behavior, use\n",
      "\n",
      "\t>>> .groupby(..., group_keys=False)\n",
      "\n",
      "To adopt the future behavior and silence this warning, use \n",
      "\n",
      "\t>>> .groupby(..., group_keys=True)\n",
      "  avg_speed['speed_pct_diff'] = avg_speed.groupby('Genotype', as_index = False)['speed'].apply(lambda x: (x - x.shift(-1)) / x)\n"
     ]
    }
   ],
   "source": [
    "# ABSOLUTE DIFFERENCE\n",
    "# Drop `Strain` and `Treatment` columns, group by `Genotype` (without making index based on `Genotype`)\n",
    "# Then, for each `Genotype`, subtract OnFood from OffFood speed\n",
    "speed_diff = avg_speed.drop(columns = [\"Strain\", \"Treatment\"])\n",
    "speed_diff = speed_diff.groupby(\"Genotype\", as_index = False).diff(periods = -1).dropna()\n",
    "\n",
    "# rename difference column to 'speed_diff'\n",
    "speed_diff.columns = ['speed_diff']\n",
    "\n",
    "print(speed_diff)\n",
    "\n",
    "# PERCENT DIFFERENCE\n",
    "avg_speed['speed_pct_diff'] = avg_speed.groupby('Genotype', as_index = False)['speed'].apply(lambda x: (x - x.shift(-1)) / x)\n",
    "speed_pct_diff = avg_speed['speed_pct_diff'].dropna()\n",
    "avg_speed = avg_speed.drop(columns = ['speed_pct_diff'])\n",
    "\n",
    "print(speed_pct_diff)"
   ]
  },
  {
   "cell_type": "markdown",
   "metadata": {},
   "source": [
    "### 4.1.3 - Combine the absolute difference and percent difference data"
   ]
  },
  {
   "cell_type": "code",
   "execution_count": 12,
   "metadata": {},
   "outputs": [
    {
     "data": {
      "text/html": [
       "<div>\n",
       "<style scoped>\n",
       "    .dataframe tbody tr th:only-of-type {\n",
       "        vertical-align: middle;\n",
       "    }\n",
       "\n",
       "    .dataframe tbody tr th {\n",
       "        vertical-align: top;\n",
       "    }\n",
       "\n",
       "    .dataframe thead th {\n",
       "        text-align: right;\n",
       "    }\n",
       "</style>\n",
       "<table border=\"1\" class=\"dataframe\">\n",
       "  <thead>\n",
       "    <tr style=\"text-align: right;\">\n",
       "      <th></th>\n",
       "      <th>Genotype</th>\n",
       "      <th>speed_diff</th>\n",
       "      <th>speed_pct_diff</th>\n",
       "    </tr>\n",
       "  </thead>\n",
       "  <tbody>\n",
       "    <tr>\n",
       "      <th>0</th>\n",
       "      <td>N2</td>\n",
       "      <td>0.084881</td>\n",
       "      <td>0.460360</td>\n",
       "    </tr>\n",
       "    <tr>\n",
       "      <th>1</th>\n",
       "      <td>R07G3.8(tm5683)</td>\n",
       "      <td>0.087549</td>\n",
       "      <td>0.539866</td>\n",
       "    </tr>\n",
       "    <tr>\n",
       "      <th>2</th>\n",
       "      <td>cat-2(e1112)</td>\n",
       "      <td>0.026952</td>\n",
       "      <td>0.130419</td>\n",
       "    </tr>\n",
       "    <tr>\n",
       "      <th>3</th>\n",
       "      <td>gba-2(tm4623)</td>\n",
       "      <td>0.098493</td>\n",
       "      <td>0.594066</td>\n",
       "    </tr>\n",
       "    <tr>\n",
       "      <th>4</th>\n",
       "      <td>gba-4(tm3314)</td>\n",
       "      <td>0.076095</td>\n",
       "      <td>0.567371</td>\n",
       "    </tr>\n",
       "    <tr>\n",
       "      <th>5</th>\n",
       "      <td>hipr-1(ok1081)</td>\n",
       "      <td>0.097154</td>\n",
       "      <td>0.528953</td>\n",
       "    </tr>\n",
       "    <tr>\n",
       "      <th>6</th>\n",
       "      <td>igcm-2(ok1527)</td>\n",
       "      <td>0.067801</td>\n",
       "      <td>0.400757</td>\n",
       "    </tr>\n",
       "    <tr>\n",
       "      <th>7</th>\n",
       "      <td>lfe-2(tm14109)</td>\n",
       "      <td>0.078571</td>\n",
       "      <td>0.492320</td>\n",
       "    </tr>\n",
       "    <tr>\n",
       "      <th>8</th>\n",
       "      <td>rskd-1(tm4031)</td>\n",
       "      <td>0.046121</td>\n",
       "      <td>0.497197</td>\n",
       "    </tr>\n",
       "    <tr>\n",
       "      <th>9</th>\n",
       "      <td>sac-2(ok2743)</td>\n",
       "      <td>0.059843</td>\n",
       "      <td>0.434407</td>\n",
       "    </tr>\n",
       "    <tr>\n",
       "      <th>10</th>\n",
       "      <td>set-2(ok1484)</td>\n",
       "      <td>0.066316</td>\n",
       "      <td>0.463786</td>\n",
       "    </tr>\n",
       "  </tbody>\n",
       "</table>\n",
       "</div>"
      ],
      "text/plain": [
       "           Genotype  speed_diff  speed_pct_diff\n",
       "0                N2    0.084881        0.460360\n",
       "1   R07G3.8(tm5683)    0.087549        0.539866\n",
       "2      cat-2(e1112)    0.026952        0.130419\n",
       "3     gba-2(tm4623)    0.098493        0.594066\n",
       "4     gba-4(tm3314)    0.076095        0.567371\n",
       "5    hipr-1(ok1081)    0.097154        0.528953\n",
       "6    igcm-2(ok1527)    0.067801        0.400757\n",
       "7    lfe-2(tm14109)    0.078571        0.492320\n",
       "8    rskd-1(tm4031)    0.046121        0.497197\n",
       "9     sac-2(ok2743)    0.059843        0.434407\n",
       "10    set-2(ok1484)    0.066316        0.463786"
      ]
     },
     "execution_count": 12,
     "metadata": {},
     "output_type": "execute_result"
    }
   ],
   "source": [
    "all_diff_measures = pd.concat([speed_diff, speed_pct_diff], axis = 1)\n",
    "# all_diff_measures = all_diff_measures.rename(columns = {0: 'speed_pct_diff'})\n",
    "\n",
    "# add `Genotype` labels back to speed difference measures so differences can be identified\n",
    "all_diff_measures.insert(loc = 0, column = 'Genotype', value = avg_speed['Genotype'].unique())\n",
    "all_diff_measures.reset_index(drop = True)"
   ]
  },
  {
   "cell_type": "markdown",
   "metadata": {},
   "source": [
    "### 4.1.4 - Calculate BSR score using both methods (difference of differences & difference of percent change)"
   ]
  },
  {
   "cell_type": "code",
   "execution_count": 13,
   "metadata": {},
   "outputs": [
    {
     "name": "stdout",
     "output_type": "stream",
     "text": [
      "           Genotype  speed_diff  speed_pct_diff  Score_diff_of_diff  \\\n",
      "0                N2    0.084881        0.460360            0.000000   \n",
      "2   R07G3.8(tm5683)    0.087549        0.539866            0.002668   \n",
      "4      cat-2(e1112)    0.026952        0.130419           -0.057929   \n",
      "6     gba-2(tm4623)    0.098493        0.594066            0.013613   \n",
      "8     gba-4(tm3314)    0.076095        0.567371           -0.008786   \n",
      "10   hipr-1(ok1081)    0.097154        0.528953            0.012273   \n",
      "12   igcm-2(ok1527)    0.067801        0.400757           -0.017080   \n",
      "14   lfe-2(tm14109)    0.078571        0.492320           -0.006310   \n",
      "16   rskd-1(tm4031)    0.046121        0.497197           -0.038760   \n",
      "18    sac-2(ok2743)    0.059843        0.434407           -0.025038   \n",
      "20    set-2(ok1484)    0.066316        0.463786           -0.018565   \n",
      "\n",
      "    Score_diff_of_pct_diff  \n",
      "0                 0.000000  \n",
      "2                 0.079507  \n",
      "4                -0.329941  \n",
      "6                 0.133706  \n",
      "8                 0.107011  \n",
      "10                0.068593  \n",
      "12               -0.059603  \n",
      "14                0.031961  \n",
      "16                0.036837  \n",
      "18               -0.025953  \n",
      "20                0.003427  \n"
     ]
    }
   ],
   "source": [
    "# # find N2 speed differences\n",
    "# print(all_diff_measures.iloc[0, 1])\n",
    "# print(all_diff_measures.iloc[0, 2])\n",
    "\n",
    "# calculate BSR score using difference of differences\n",
    "all_diff_measures['Score_diff_of_diff'] = all_diff_measures['speed_diff'] - all_diff_measures.iloc[0,1]\n",
    "all_diff_measures['Score_diff_of_pct_diff'] = all_diff_measures['speed_pct_diff'] - all_diff_measures.iloc[0,2]\n",
    "\n",
    "print(all_diff_measures)"
   ]
  },
  {
   "cell_type": "markdown",
   "metadata": {},
   "source": [
    "### 4.1.5 - Make separate dataframe for each method of BSR calculation, and sort by ascending BSR score"
   ]
  },
  {
   "cell_type": "code",
   "execution_count": 14,
   "metadata": {},
   "outputs": [
    {
     "name": "stdout",
     "output_type": "stream",
     "text": [
      "           Genotype  speed_diff  Score_diff_of_diff\n",
      "0      cat-2(e1112)    0.026952           -0.057929\n",
      "1    rskd-1(tm4031)    0.046121           -0.038760\n",
      "2     sac-2(ok2743)    0.059843           -0.025038\n",
      "3     set-2(ok1484)    0.066316           -0.018565\n",
      "4    igcm-2(ok1527)    0.067801           -0.017080\n",
      "5     gba-4(tm3314)    0.076095           -0.008786\n",
      "6    lfe-2(tm14109)    0.078571           -0.006310\n",
      "7                N2    0.084881            0.000000\n",
      "8   R07G3.8(tm5683)    0.087549            0.002668\n",
      "9    hipr-1(ok1081)    0.097154            0.012273\n",
      "10    gba-2(tm4623)    0.098493            0.013613\n",
      "           Genotype  speed_pct_diff  Score_diff_of_pct_diff\n",
      "0      cat-2(e1112)        0.130419               -0.329941\n",
      "1    igcm-2(ok1527)        0.400757               -0.059603\n",
      "2     sac-2(ok2743)        0.434407               -0.025953\n",
      "3                N2        0.460360                0.000000\n",
      "4     set-2(ok1484)        0.463786                0.003427\n",
      "5    lfe-2(tm14109)        0.492320                0.031961\n",
      "6    rskd-1(tm4031)        0.497197                0.036837\n",
      "7    hipr-1(ok1081)        0.528953                0.068593\n",
      "8   R07G3.8(tm5683)        0.539866                0.079507\n",
      "9     gba-4(tm3314)        0.567371                0.107011\n",
      "10    gba-2(tm4623)        0.594066                0.133706\n"
     ]
    }
   ],
   "source": [
    "# DIFFERENCE OF DIFFERENCES\n",
    "speed_diff_sorted = all_diff_measures.sort_values(by = [\"Score_diff_of_diff\"]).drop(columns = ['speed_pct_diff',\n",
    "                                                                                               'Score_diff_of_pct_diff'])\n",
    "speed_diff_sorted = speed_diff_sorted.reset_index(drop = True)\n",
    "print(speed_diff_sorted)\n",
    "\n",
    "# DIFFERENCE OF PERCENT CHANGE\n",
    "speed_pct_diff_sorted = all_diff_measures.sort_values(by = [\"Score_diff_of_pct_diff\"]).drop(columns = ['speed_diff',\n",
    "                                                                                                       'Score_diff_of_diff'])\n",
    "speed_pct_diff_sorted = speed_pct_diff_sorted.reset_index(drop = True)\n",
    "print(speed_pct_diff_sorted)"
   ]
  },
  {
   "cell_type": "code",
   "execution_count": 15,
   "metadata": {},
   "outputs": [],
   "source": [
    "# NOT SURE WHAT THE USE OF THIS IS - BEN\n",
    "\n",
    "# avg_speed[\"new\"] = range(1, len(avg_speed) + 1)\n",
    "# avg_speed.loc[avg_speed.index == 4, 'new'] = 0\n",
    "# avg_speed.loc[avg_speed.index == 4, 'new'] = 0\n",
    "# print(avg_speed)\n",
    "# # avg_speed.sort_values(\"new\").drop('new', axis=1)"
   ]
  },
  {
   "cell_type": "markdown",
   "metadata": {},
   "source": [
    "## 4.1.6 - Making the bar plot (difference of differences)"
   ]
  },
  {
   "cell_type": "code",
   "execution_count": 16,
   "metadata": {},
   "outputs": [
    {
     "data": {
      "text/plain": [
       "<Figure size 432x288 with 0 Axes>"
      ]
     },
     "metadata": {},
     "output_type": "display_data"
    },
    {
     "data": {
      "image/png": "[encoded data removed]",
      "text/plain": [
       "<Figure size 1080x360 with 1 Axes>"
      ]
     },
     "metadata": {
      "needs_background": "light"
     },
     "output_type": "display_data"
    }
   ],
   "source": [
    "Title = \"BSR Score - Difference of Differences\"  # <---------------- Input Here -----------------\n",
    "sns.set_context(\"talk\")\n",
    "plt.figure(linewidth = 1)\n",
    "plt.figure(figsize = (15, 5))\n",
    "plt.gca().xaxis.grid(False)\n",
    "ax = sns.barplot(x = 'Genotype', \n",
    "             y = 'Score_diff_of_diff', \n",
    "             data = speed_diff_sorted,  # <--------------- Input Here -------------\n",
    "             color = 'CornflowerBlue',\n",
    "             edgecolor = \"DodgerBlue\",\n",
    "             linewidth = 2.5,\n",
    "#              seed=5,\n",
    "#              ci = 95, # 'sd' for SD, '68' for SEM\n",
    "#              palette = ['grey',\n",
    "#                         'black'\n",
    "#                        ]\n",
    "                )\n",
    "plt.xlabel(\"Genotype\")\n",
    "plt.xticks(rotation = 90)\n",
    "plt.ylabel(\"BSR Score (Normalized to N2)\")\n",
    "# plt.ylim(top = 0.1)\n",
    "# plt.ylim(bottom = -0.1)\n",
    "plt.ylim(top = 0.07)\n",
    "plt.ylim(bottom = -0.07)\n",
    "plt.title(Title)\n",
    "# plt.legend(bbox_to_anchor=(1.02, 1), loc=2, borderaxespad=0.)\n",
    "plt.savefig(f'{Title}.jpg', format = 'jpg', dpi = 450, bbox_inches = 'tight')\n",
    "plt.show()"
   ]
  },
  {
   "cell_type": "markdown",
   "metadata": {},
   "source": [
    "## 4.1.7 - Making the bar plot (difference of percent change)"
   ]
  },
  {
   "cell_type": "code",
   "execution_count": 17,
   "metadata": {},
   "outputs": [
    {
     "data": {
      "text/plain": [
       "<Figure size 432x288 with 0 Axes>"
      ]
     },
     "metadata": {},
     "output_type": "display_data"
    },
    {
     "data": {
      "image/png": "[encoded data removed]",
      "text/plain": [
       "<Figure size 1080x360 with 1 Axes>"
      ]
     },
     "metadata": {
      "needs_background": "light"
     },
     "output_type": "display_data"
    }
   ],
   "source": [
    "Title = \"BSR Score - Difference of Percent Change\"  # <---------------- Input Here -----------------\n",
    "sns.set_context(\"talk\")\n",
    "plt.figure(linewidth = 1)\n",
    "plt.figure(figsize = (15, 5))\n",
    "plt.gca().xaxis.grid(False)\n",
    "ax = sns.barplot(x = 'Genotype', \n",
    "             y = 'Score_diff_of_pct_diff', \n",
    "             data = speed_pct_diff_sorted,  # <--------------- Input Here -------------\n",
    "             color = 'CornflowerBlue',\n",
    "             edgecolor = \"DodgerBlue\",\n",
    "             linewidth = 2.5,\n",
    "#              seed=5,\n",
    "#              ci = 95, # 'sd' for SD, '68' for SEM\n",
    "#              palette = ['grey',\n",
    "#                         'black'\n",
    "#                        ]\n",
    "                )\n",
    "plt.xlabel(\"Genotype\")\n",
    "plt.xticks(rotation = 90)\n",
    "plt.ylabel(\"BSR Score (Normalized to N2)\")\n",
    "plt.ylim(top = 0.4)\n",
    "plt.ylim(bottom = -0.4)\n",
    "plt.title(Title)\n",
    "# plt.legend(bbox_to_anchor=(1.02, 1), loc=2, borderaxespad=0.)\n",
    "plt.savefig(f'{Title}.jpg', format = 'jpg', dpi = 450, bbox_inches = 'tight')\n",
    "plt.show()"
   ]
  },
  {
   "cell_type": "markdown",
   "metadata": {},
   "source": [
    "## 4.2 - Generic differences of differences script (for any behavioural phenotype)\n",
    "\n",
    "Very little commentary here, as code is similar to that for BSR score apart from inputting behavioural phenotype of interest"
   ]
  },
  {
   "cell_type": "code",
   "execution_count": 18,
   "metadata": {},
   "outputs": [
    {
     "name": "stderr",
     "output_type": "stream",
     "text": [
      "<ipython-input-18-8dd2f6277cdc>:9: FutureWarning: In a future version of pandas all arguments of StringMethods.split except for the argument 'pat' will be keyword-only.\n",
      "  chunkeddata_mean[['Genotype', 'Treatment']] = chunkeddata_mean['Strain'].str.split('_', 1, expand=True)\n"
     ]
    },
    {
     "name": "stdout",
     "output_type": "stream",
     "text": [
      "           Genotype     curve     Score\n",
      "4      cat-2(e1112)  2.129384 -2.248911\n",
      "20    set-2(ok1484)  2.676155 -1.702140\n",
      "18    sac-2(ok2743)  3.418020 -0.960274\n",
      "2   R07G3.8(tm5683)  3.508874 -0.869421\n",
      "0                N2  4.378295  0.000000\n",
      "6     gba-2(tm4623)  4.545092  0.166797\n",
      "8     gba-4(tm3314)  4.581170  0.202876\n",
      "12   igcm-2(ok1527)  5.269670  0.891375\n",
      "14   lfe-2(tm14109)  5.955073  1.576778\n",
      "10   hipr-1(ok1081)  6.148143  1.769848\n",
      "16   rskd-1(tm4031)  7.426997  3.048703\n"
     ]
    },
    {
     "data": {
      "text/plain": [
       "<Figure size 432x288 with 0 Axes>"
      ]
     },
     "metadata": {},
     "output_type": "display_data"
    },
    {
     "data": {
      "image/png": "[encoded data removed]",
      "text/plain": [
       "<Figure size 1080x360 with 1 Axes>"
      ]
     },
     "metadata": {
      "needs_background": "light"
     },
     "output_type": "display_data"
    }
   ],
   "source": [
    "parameter = 'curve'  # <----- INPUT PHENOTYPE OF INTEREST HERE\n",
    "\n",
    "start = 100 #<----- set the start time of the range\n",
    "point = 400 #<------- set the end time of your range\n",
    "\n",
    "chunkeddata0 = TotalConcatenated[TotalConcatenated[\"time\"] >= start]\n",
    "chunkeddata = chunkeddata0[chunkeddata0[\"time\"] <= point]\n",
    "chunkeddata_mean = chunkeddata.groupby([\"Strain\",\"worm\"], as_index=False).mean()\n",
    "chunkeddata_mean[['Genotype', 'Treatment']] = chunkeddata_mean['Strain'].str.split('_', 1, expand=True)\n",
    "worm_avg_parameter = chunkeddata_mean[['Genotype', 'Treatment', 'Strain', parameter]]\n",
    "avg_parameter = worm_avg_parameter.groupby([\"Strain\", 'Treatment', 'Genotype'], as_index=False).mean()\n",
    "# print(avg_parameter)\n",
    "\n",
    "# avg_parameter.to_csv(\"avg_parameter.csv\")\n",
    "\n",
    "parameter_diff = avg_parameter.drop(columns=[\"Strain\", \"Treatment\"]).groupby(\"Genotype\", as_index = False).diff(periods = -1).dropna()\n",
    "parameter_diff.insert(loc = 0, column='Genotype', value = avg_parameter['Genotype'].unique())\n",
    "parameter_diff.reset_index(drop = True)\n",
    "# print(parameter_diff)\n",
    "# print(parameter_diff.iloc[0,1])\n",
    "parameter_diff['Score'] = parameter_diff[parameter] - parameter_diff.iloc[0,1]\n",
    "parameter_diff = parameter_diff.sort_values(by = [\"Score\"])\n",
    "print(parameter_diff)\n",
    "\n",
    "#################\n",
    "\n",
    "# print(parameter_diff.iloc[0,1])\n",
    "\n",
    "#################\n",
    "\n",
    "# AGAIN, NOT SURE WHAT THIS IS FOR - BEN\n",
    "# avg_parameter[\"new\"] = range(1,len(avg_parameter) + 1)\n",
    "# avg_parameter.loc[avg_parameter.index == 4, 'new'] = 0\n",
    "# avg_parameter.loc[avg_parameter.index == 4, 'new'] = 0\n",
    "# print(avg_parameter)\n",
    "# # avg_parameter.sort_values(\"new\").drop('new', axis=1)\n",
    "\n",
    "#################\n",
    "\n",
    "Title = f\"{parameter.capitalize()} Score\"  # <---------------- Input Here -----------------\n",
    "sns.set_context(\"talk\")\n",
    "plt.figure(linewidth = 1)\n",
    "plt.figure(figsize = (15, 5))\n",
    "plt.gca().xaxis.grid(False)\n",
    "ax = sns.barplot(x = \"Genotype\",\n",
    "                 y = 'Score',\n",
    "                 data = parameter_diff,  # <--------------- Input Here -------------\n",
    "                 color = 'CornflowerBlue',\n",
    "                 edgecolor = \"DodgerBlue\",\n",
    "                 linewidth = 2.5,\n",
    "                 # seed=5,\n",
    "                 # ci = 95, # 'sd' for SD, '68' for SEM\n",
    "                 # palette = ['grey',\n",
    "                 #            'black'\n",
    "                 #           ]\n",
    "                )\n",
    "\n",
    "plt.xlabel(\"Genotype\")\n",
    "plt.xticks(rotation = 90)\n",
    "plt.ylabel(f\"{parameter.capitalize()} Score (Normalized to N2)\")\n",
    "\n",
    "# plt.ylim(top = 0.1)\n",
    "# plt.ylim(bottom = -0.1)\n",
    "plt.title(Title)\n",
    "# plt.legend(bbox_to_anchor=(1.02, 1), loc=2, borderaxespad=0.)\n",
    "\n",
    "plt.savefig(f'{Title}.jpg', format = 'jpg', dpi = 450, bbox_inches = 'tight')\n",
    "\n",
    "plt.show()"
   ]
  },
  {
   "cell_type": "markdown",
   "metadata": {},
   "source": [
    "# 5 - Phenotype Heatmap"
   ]
  },
  {
   "cell_type": "markdown",
   "metadata": {},
   "source": [
    "## 5.1 - Calculate difference of differences scores for all behavioural phenotypes"
   ]
  },
  {
   "cell_type": "code",
   "execution_count": 19,
   "metadata": {},
   "outputs": [
    {
     "name": "stderr",
     "output_type": "stream",
     "text": [
      "<ipython-input-19-bbbe05c132a1>:8: FutureWarning: In a future version of pandas all arguments of StringMethods.split except for the argument 'pat' will be keyword-only.\n",
      "  chunkeddata_mean[['Genotype', 'Treatment']] = chunkeddata_mean['Strain'].str.split('_', 1, expand=True)\n"
     ]
    },
    {
     "data": {
      "text/html": [
       "<div>\n",
       "<style scoped>\n",
       "    .dataframe tbody tr th:only-of-type {\n",
       "        vertical-align: middle;\n",
       "    }\n",
       "\n",
       "    .dataframe tbody tr th {\n",
       "        vertical-align: top;\n",
       "    }\n",
       "\n",
       "    .dataframe thead th {\n",
       "        text-align: right;\n",
       "    }\n",
       "</style>\n",
       "<table border=\"1\" class=\"dataframe\">\n",
       "  <thead>\n",
       "    <tr style=\"text-align: right;\">\n",
       "      <th></th>\n",
       "      <th>speed</th>\n",
       "      <th>angularspeed</th>\n",
       "      <th>bias</th>\n",
       "      <th>curve</th>\n",
       "      <th>crab</th>\n",
       "      <th>kink</th>\n",
       "    </tr>\n",
       "    <tr>\n",
       "      <th>Genotype</th>\n",
       "      <th></th>\n",
       "      <th></th>\n",
       "      <th></th>\n",
       "      <th></th>\n",
       "      <th></th>\n",
       "      <th></th>\n",
       "    </tr>\n",
       "  </thead>\n",
       "  <tbody>\n",
       "    <tr>\n",
       "      <th>N2</th>\n",
       "      <td>0.000000</td>\n",
       "      <td>0.000000</td>\n",
       "      <td>0.000000</td>\n",
       "      <td>0.000000</td>\n",
       "      <td>0.000000</td>\n",
       "      <td>0.000000</td>\n",
       "    </tr>\n",
       "    <tr>\n",
       "      <th>R07G3.8(tm5683)</th>\n",
       "      <td>0.002668</td>\n",
       "      <td>-3.329350</td>\n",
       "      <td>0.255768</td>\n",
       "      <td>-0.869421</td>\n",
       "      <td>-0.004915</td>\n",
       "      <td>-5.084235</td>\n",
       "    </tr>\n",
       "    <tr>\n",
       "      <th>cat-2(e1112)</th>\n",
       "      <td>-0.057929</td>\n",
       "      <td>-5.076337</td>\n",
       "      <td>-0.033952</td>\n",
       "      <td>-2.248911</td>\n",
       "      <td>-0.008036</td>\n",
       "      <td>-3.657612</td>\n",
       "    </tr>\n",
       "    <tr>\n",
       "      <th>gba-2(tm4623)</th>\n",
       "      <td>0.013613</td>\n",
       "      <td>-1.829588</td>\n",
       "      <td>0.162525</td>\n",
       "      <td>0.166797</td>\n",
       "      <td>-0.002430</td>\n",
       "      <td>-4.266177</td>\n",
       "    </tr>\n",
       "    <tr>\n",
       "      <th>gba-4(tm3314)</th>\n",
       "      <td>-0.008786</td>\n",
       "      <td>-4.413686</td>\n",
       "      <td>0.292947</td>\n",
       "      <td>0.202876</td>\n",
       "      <td>-0.006536</td>\n",
       "      <td>-1.960113</td>\n",
       "    </tr>\n",
       "    <tr>\n",
       "      <th>hipr-1(ok1081)</th>\n",
       "      <td>0.012273</td>\n",
       "      <td>2.839423</td>\n",
       "      <td>0.047216</td>\n",
       "      <td>1.769848</td>\n",
       "      <td>0.000962</td>\n",
       "      <td>-1.596524</td>\n",
       "    </tr>\n",
       "    <tr>\n",
       "      <th>igcm-2(ok1527)</th>\n",
       "      <td>-0.017080</td>\n",
       "      <td>0.974300</td>\n",
       "      <td>-0.034130</td>\n",
       "      <td>0.891375</td>\n",
       "      <td>-0.000866</td>\n",
       "      <td>2.754734</td>\n",
       "    </tr>\n",
       "    <tr>\n",
       "      <th>lfe-2(tm14109)</th>\n",
       "      <td>-0.006310</td>\n",
       "      <td>-3.984020</td>\n",
       "      <td>0.168133</td>\n",
       "      <td>1.576778</td>\n",
       "      <td>-0.005193</td>\n",
       "      <td>-1.069553</td>\n",
       "    </tr>\n",
       "    <tr>\n",
       "      <th>rskd-1(tm4031)</th>\n",
       "      <td>-0.038760</td>\n",
       "      <td>-1.746752</td>\n",
       "      <td>0.208881</td>\n",
       "      <td>3.048703</td>\n",
       "      <td>-0.003528</td>\n",
       "      <td>-4.337853</td>\n",
       "    </tr>\n",
       "    <tr>\n",
       "      <th>sac-2(ok2743)</th>\n",
       "      <td>-0.025038</td>\n",
       "      <td>-0.098551</td>\n",
       "      <td>-0.302870</td>\n",
       "      <td>-0.960274</td>\n",
       "      <td>-0.001766</td>\n",
       "      <td>1.465676</td>\n",
       "    </tr>\n",
       "    <tr>\n",
       "      <th>set-2(ok1484)</th>\n",
       "      <td>-0.018565</td>\n",
       "      <td>-4.370860</td>\n",
       "      <td>0.131982</td>\n",
       "      <td>-1.702140</td>\n",
       "      <td>-0.005824</td>\n",
       "      <td>-4.792360</td>\n",
       "    </tr>\n",
       "  </tbody>\n",
       "</table>\n",
       "</div>"
      ],
      "text/plain": [
       "                    speed  angularspeed      bias     curve      crab  \\\n",
       "Genotype                                                                \n",
       "N2               0.000000      0.000000  0.000000  0.000000  0.000000   \n",
       "R07G3.8(tm5683)  0.002668     -3.329350  0.255768 -0.869421 -0.004915   \n",
       "cat-2(e1112)    -0.057929     -5.076337 -0.033952 -2.248911 -0.008036   \n",
       "gba-2(tm4623)    0.013613     -1.829588  0.162525  0.166797 -0.002430   \n",
       "gba-4(tm3314)   -0.008786     -4.413686  0.292947  0.202876 -0.006536   \n",
       "hipr-1(ok1081)   0.012273      2.839423  0.047216  1.769848  0.000962   \n",
       "igcm-2(ok1527)  -0.017080      0.974300 -0.034130  0.891375 -0.000866   \n",
       "lfe-2(tm14109)  -0.006310     -3.984020  0.168133  1.576778 -0.005193   \n",
       "rskd-1(tm4031)  -0.038760     -1.746752  0.208881  3.048703 -0.003528   \n",
       "sac-2(ok2743)   -0.025038     -0.098551 -0.302870 -0.960274 -0.001766   \n",
       "set-2(ok1484)   -0.018565     -4.370860  0.131982 -1.702140 -0.005824   \n",
       "\n",
       "                     kink  \n",
       "Genotype                   \n",
       "N2               0.000000  \n",
       "R07G3.8(tm5683) -5.084235  \n",
       "cat-2(e1112)    -3.657612  \n",
       "gba-2(tm4623)   -4.266177  \n",
       "gba-4(tm3314)   -1.960113  \n",
       "hipr-1(ok1081)  -1.596524  \n",
       "igcm-2(ok1527)   2.754734  \n",
       "lfe-2(tm14109)  -1.069553  \n",
       "rskd-1(tm4031)  -4.337853  \n",
       "sac-2(ok2743)    1.465676  \n",
       "set-2(ok1484)   -4.792360  "
      ]
     },
     "execution_count": 19,
     "metadata": {},
     "output_type": "execute_result"
    }
   ],
   "source": [
    "behavioural_phenotypes = ['speed', 'angularspeed', 'bias', 'curve', 'crab', 'kink']\n",
    "# print(all_strains)\n",
    "\n",
    "def differences_of_differences(start, point, df):\n",
    "    chunkeddata0 = df[df[\"time\"] >= start]\n",
    "    chunkeddata = chunkeddata0[chunkeddata0[\"time\"] <= point]\n",
    "    chunkeddata_mean = chunkeddata.groupby([\"Strain\", \"worm\"], as_index=False).mean()\n",
    "    chunkeddata_mean[['Genotype', 'Treatment']] = chunkeddata_mean['Strain'].str.split('_', 1, expand=True)\n",
    "    all_scores = all_strains\n",
    "    for parameter in behavioural_phenotypes:\n",
    "        worm_avg_parameter = chunkeddata_mean[['Genotype', 'Treatment', 'Strain', parameter]]\n",
    "        avg_parameter = worm_avg_parameter.groupby([\"Strain\", 'Treatment', 'Genotype'], as_index=False).mean()\n",
    "        # print(avg_parameter)\n",
    "\n",
    "        # avg_parameter.to_csv(\"avg_parameter.csv\")\n",
    "\n",
    "        parameter_diff = avg_parameter.drop(columns=[\"Strain\", \"Treatment\"]).groupby(\"Genotype\", as_index=False).diff(periods=-1).dropna()\n",
    "        parameter_diff.insert(loc=0, column='Genotype', value = avg_parameter['Genotype'].unique())\n",
    "        parameter_diff.reset_index(drop=True)\n",
    "        # print(parameter_diff)\n",
    "        # print(parameter_diff.iloc[0,1])\n",
    "        parameter_diff['Score'] = parameter_diff[parameter] - parameter_diff.iloc[0,1]\n",
    "        # parameter_diff = parameter_diff.sort_values(by = [\"Score\"])\n",
    "        parameter_diff = parameter_diff.drop(columns = [parameter])\n",
    "        parameter_diff = parameter_diff.rename(columns = {'Score':parameter})\n",
    "        parameter_diff = parameter_diff.reset_index(drop = True)\n",
    "        # print(parameter_diff)\n",
    "        all_scores = all_scores.join(parameter_diff.iloc[:,1])\n",
    "    all_scores = all_scores.set_index(\"Genotype\")\n",
    "    return(all_scores)\n",
    "\n",
    "differences_of_differences(100, 400, TotalConcatenated)"
   ]
  },
  {
   "cell_type": "markdown",
   "metadata": {},
   "source": [
    "### 5.1.1 - Use function defined above to store difference of difference dataframe in a new variable"
   ]
  },
  {
   "cell_type": "code",
   "execution_count": 20,
   "metadata": {},
   "outputs": [
    {
     "name": "stdout",
     "output_type": "stream",
     "text": [
      "                    speed  angularspeed      bias     curve      crab  \\\n",
      "Genotype                                                                \n",
      "N2               0.000000      0.000000  0.000000  0.000000  0.000000   \n",
      "R07G3.8(tm5683)  0.002668     -3.329350  0.255768 -0.869421 -0.004915   \n",
      "cat-2(e1112)    -0.057929     -5.076337 -0.033952 -2.248911 -0.008036   \n",
      "gba-2(tm4623)    0.013613     -1.829588  0.162525  0.166797 -0.002430   \n",
      "gba-4(tm3314)   -0.008786     -4.413686  0.292947  0.202876 -0.006536   \n",
      "hipr-1(ok1081)   0.012273      2.839423  0.047216  1.769848  0.000962   \n",
      "igcm-2(ok1527)  -0.017080      0.974300 -0.034130  0.891375 -0.000866   \n",
      "lfe-2(tm14109)  -0.006310     -3.984020  0.168133  1.576778 -0.005193   \n",
      "rskd-1(tm4031)  -0.038760     -1.746752  0.208881  3.048703 -0.003528   \n",
      "sac-2(ok2743)   -0.025038     -0.098551 -0.302870 -0.960274 -0.001766   \n",
      "set-2(ok1484)   -0.018565     -4.370860  0.131982 -1.702140 -0.005824   \n",
      "\n",
      "                     kink  \n",
      "Genotype                   \n",
      "N2               0.000000  \n",
      "R07G3.8(tm5683) -5.084235  \n",
      "cat-2(e1112)    -3.657612  \n",
      "gba-2(tm4623)   -4.266177  \n",
      "gba-4(tm3314)   -1.960113  \n",
      "hipr-1(ok1081)  -1.596524  \n",
      "igcm-2(ok1527)   2.754734  \n",
      "lfe-2(tm14109)  -1.069553  \n",
      "rskd-1(tm4031)  -4.337853  \n",
      "sac-2(ok2743)    1.465676  \n",
      "set-2(ok1484)   -4.792360  \n"
     ]
    },
    {
     "name": "stderr",
     "output_type": "stream",
     "text": [
      "<ipython-input-19-bbbe05c132a1>:8: FutureWarning: In a future version of pandas all arguments of StringMethods.split except for the argument 'pat' will be keyword-only.\n",
      "  chunkeddata_mean[['Genotype', 'Treatment']] = chunkeddata_mean['Strain'].str.split('_', 1, expand=True)\n"
     ]
    }
   ],
   "source": [
    "PD_gene_behavioural_scores = differences_of_differences(100, 400, TotalConcatenated)\n",
    "PD_gene_behavioural_scores = PD_gene_behavioural_scores.dropna().sort_index()\n",
    "print(PD_gene_behavioural_scores)"
   ]
  },
  {
   "cell_type": "markdown",
   "metadata": {},
   "source": [
    "### 5.1.2 - Standardize and normalize the difference of difference scores"
   ]
  },
  {
   "cell_type": "code",
   "execution_count": 21,
   "metadata": {},
   "outputs": [
    {
     "name": "stdout",
     "output_type": "stream",
     "text": [
      "                    speed  angularspeed      bias     curve      crab  \\\n",
      "Genotype                                                                \n",
      "N2               0.603563      0.741536 -0.478435 -0.107648  1.201162   \n",
      "R07G3.8(tm5683)  0.726653     -0.549484  1.023017 -0.656533 -0.501745   \n",
      "cat-2(e1112)    -2.068897     -1.226913 -0.677748 -1.527437 -1.583294   \n",
      "gba-2(tm4623)    1.231570      0.032078  0.475647 -0.002345  0.359040   \n",
      "gba-4(tm3314)    0.198243     -0.969957  1.241272  0.020432 -1.063445   \n",
      "hipr-1(ok1081)   1.169771      1.842577 -0.201259  1.009697  1.534445   \n",
      "igcm-2(ok1527)  -0.184402      1.119339 -0.678788  0.455098  0.901044   \n",
      "lfe-2(tm14109)   0.312472     -0.803345  0.508569  0.887808 -0.598185   \n",
      "rskd-1(tm4031)  -1.184545      0.064199  0.747771  1.817067 -0.021456   \n",
      "sac-2(ok2743)   -0.551518      0.703321 -2.256394 -0.713891  0.589151   \n",
      "set-2(ok1484)   -0.252909     -0.953350  0.296348 -1.182248 -0.816718   \n",
      "\n",
      "                     kink  \n",
      "Genotype                   \n",
      "N2               0.773076  \n",
      "R07G3.8(tm5683) -1.144750  \n",
      "cat-2(e1112)    -0.606613  \n",
      "gba-2(tm4623)   -0.836170  \n",
      "gba-4(tm3314)    0.033701  \n",
      "hipr-1(ok1081)   0.170851  \n",
      "igcm-2(ok1527)   1.812190  \n",
      "lfe-2(tm14109)   0.369629  \n",
      "rskd-1(tm4031)  -0.863207  \n",
      "sac-2(ok2743)    1.325944  \n",
      "set-2(ok1484)   -1.034652  \n",
      "                    speed  angularspeed      bias     curve      crab  \\\n",
      "Genotype                                                                \n",
      "R07G3.8(tm5683)  0.123090     -1.291020  1.501453 -0.548885 -1.702907   \n",
      "cat-2(e1112)    -2.672460     -1.968448 -0.199313 -1.419789 -2.784456   \n",
      "gba-2(tm4623)    0.628007     -0.709458  0.954082  0.105303 -0.842123   \n",
      "gba-4(tm3314)   -0.405320     -1.711492  1.719707  0.128080 -2.264608   \n",
      "hipr-1(ok1081)   0.566208      1.101041  0.277176  1.117345  0.333283   \n",
      "igcm-2(ok1527)  -0.787965      0.377804 -0.200353  0.562746 -0.300118   \n",
      "lfe-2(tm14109)  -0.291090     -1.544881  0.987004  0.995456 -1.799347   \n",
      "rskd-1(tm4031)  -1.788107     -0.677337  1.226206  1.924715 -1.222618   \n",
      "sac-2(ok2743)   -1.155080     -0.038215 -1.777958 -0.606243 -0.612011   \n",
      "set-2(ok1484)   -0.856472     -1.694886  0.774783 -1.074600 -2.017881   \n",
      "\n",
      "                     kink  \n",
      "Genotype                   \n",
      "R07G3.8(tm5683) -1.917826  \n",
      "cat-2(e1112)    -1.379689  \n",
      "gba-2(tm4623)   -1.609246  \n",
      "gba-4(tm3314)   -0.739375  \n",
      "hipr-1(ok1081)  -0.602225  \n",
      "igcm-2(ok1527)   1.039114  \n",
      "lfe-2(tm14109)  -0.403446  \n",
      "rskd-1(tm4031)  -1.636283  \n",
      "sac-2(ok2743)    0.552868  \n",
      "set-2(ok1484)   -1.807728  \n"
     ]
    }
   ],
   "source": [
    "PD_gene_behavioural_scores_standardize = (PD_gene_behavioural_scores - PD_gene_behavioural_scores.mean())/PD_gene_behavioural_scores.std()\n",
    "print(PD_gene_behavioural_scores_standardize)\n",
    "\n",
    "PD_gene_behavioural_scores_normalize = PD_gene_behavioural_scores_standardize - PD_gene_behavioural_scores_standardize[PD_gene_behavioural_scores_standardize.index == 'N2'].squeeze()\n",
    "PD_gene_behavioural_scores_normalize = PD_gene_behavioural_scores_normalize.drop(index = 'N2')\n",
    "print(PD_gene_behavioural_scores_normalize)"
   ]
  },
  {
   "cell_type": "markdown",
   "metadata": {},
   "source": [
    "## 5.2 - Calculate, standardize, and normalize t-scores for all baseline behavioural and morphological phenotypes"
   ]
  },
  {
   "cell_type": "markdown",
   "metadata": {},
   "source": [
    "### 5.2.1 - Read in and tidy data (same data as used previously)"
   ]
  },
  {
   "cell_type": "code",
   "execution_count": 22,
   "metadata": {},
   "outputs": [
    {
     "name": "stderr",
     "output_type": "stream",
     "text": [
      "<ipython-input-22-53ff4d41d44b>:4: FutureWarning: In a future version of pandas all arguments of StringMethods.split except for the argument 'pat' will be keyword-only.\n",
      "  PD_baseline[['Genotype', 'Treatment']] = PD_baseline['Strain'].str.split('_', 1, expand=True)\n"
     ]
    },
    {
     "name": "stdout",
     "output_type": "stream",
     "text": [
      "   time_bin  worm   time   speed  angularspeed  pathlength   kink  bias  \\\n",
      "0       4.0   166  3.959  0.1877          9.70     0.02400  49.30   1.0   \n",
      "1       4.0   242  3.715  0.2145         24.75     0.06700  74.44   1.0   \n",
      "2       4.0   243  3.803  0.3030         17.75     0.06300  48.25   1.0   \n",
      "3       4.0   370  3.785  0.2279         32.56     0.05680  19.78   1.0   \n",
      "4       4.0   462  3.863  0.2375          1.20     0.04565  44.22   1.0   \n",
      "\n",
      "   curve  dir     crab  length  midline   width  morphwidth     area  \\\n",
      "0  33.80  0.0  0.00420  0.9326    1.055  0.2241     0.16750  0.14870   \n",
      "1  33.16  0.0  0.04553  0.8833    1.083  0.2542     0.10180  0.11460   \n",
      "2  31.10  0.0  0.03710  0.8670    1.075  0.2340     0.08795  0.10974   \n",
      "3  33.97  0.0  0.03903  0.8140    0.973  0.2203     0.23440  0.20390   \n",
      "4  38.34  0.0  0.00857  0.8057    1.011  0.1313     0.13390  0.11664   \n",
      "\n",
      "       Strain Genotype Treatment  \n",
      "0  N2_OffFood       N2   OffFood  \n",
      "1  N2_OffFood       N2   OffFood  \n",
      "2  N2_OffFood       N2   OffFood  \n",
      "3  N2_OffFood       N2   OffFood  \n",
      "4  N2_OffFood       N2   OffFood  \n"
     ]
    }
   ],
   "source": [
    "PD_baseline = pd.read_csv('baseline_output.csv')\n",
    "PD_baseline = PD_baseline.iloc[:, 1:]\n",
    "PD_baseline = PD_baseline.drop(columns=[\"x\", \"y\"])\n",
    "PD_baseline[['Genotype', 'Treatment']] = PD_baseline['Strain'].str.split('_', 1, expand=True)\n",
    "\n",
    "print(PD_baseline.head())"
   ]
  },
  {
   "cell_type": "markdown",
   "metadata": {},
   "source": [
    "### 5.2.2 - Subset the final 100 seconds of the experiment"
   ]
  },
  {
   "cell_type": "code",
   "execution_count": 23,
   "metadata": {},
   "outputs": [
    {
     "name": "stdout",
     "output_type": "stream",
     "text": [
      "          index  time_bin  worm   time     speed  angularspeed  pathlength  \\\n",
      "0        208005     320.0   374  320.0  0.259800      137.0000      -0.034   \n",
      "1        208536     321.0     9  320.5  0.238800        8.9450      41.840   \n",
      "2        208537     321.0    11  320.5  0.246200       18.7300       3.623   \n",
      "3        208538     321.0    12  320.5  0.270300       31.0000      11.030   \n",
      "4        208539     321.0    14  320.5  0.250000       28.0500       8.390   \n",
      "...         ...       ...   ...    ...       ...           ...         ...   \n",
      "321157  1442153     420.0   102  419.5  0.017470        1.9620       3.875   \n",
      "321158  1442154     420.0   105  419.5  0.014080        0.7153      17.270   \n",
      "321159  1442155     420.0   106  419.5  0.007717        0.5615      28.580   \n",
      "321160  1442156     420.0   107  419.5  0.030330        4.4920       4.984   \n",
      "321161  1442157     420.0   108  419.5  0.022920        3.0080       7.016   \n",
      "\n",
      "         kink    bias  curve       dir      crab  length  midline   width  \\\n",
      "0       77.40 -1.0000  41.40  0.000000  0.044650  0.5713   0.8590  0.3890   \n",
      "1       86.44  1.0000  32.78  0.000000  0.024780  0.9570   1.1510  0.2406   \n",
      "2       37.84  1.0000  40.88  0.000000  0.032840  0.9340   1.1240  0.2324   \n",
      "3       72.10 -1.0000  53.70  0.002285  0.068600  0.6733   1.1600  0.4885   \n",
      "4       71.90  1.0000  57.12  0.000087  0.077150  0.6357   1.1580  0.4695   \n",
      "...       ...     ...    ...       ...       ...     ...      ...     ...   \n",
      "321157  43.12  0.0000  28.66  0.000000  0.008194  0.7110   0.8570  0.1813   \n",
      "321158  20.16  0.0000  18.53  0.000000  0.006040  0.7886   0.8150  0.1527   \n",
      "321159  40.97  0.0000  23.81  0.000000  0.004616  0.6830   0.9116  0.1632   \n",
      "321160  35.88 -0.5386  32.00  0.000000  0.008040  0.5930   0.8677  0.1996   \n",
      "321161  44.66  0.0000  12.74  0.000000  0.005547  0.6626   0.7250  0.1327   \n",
      "\n",
      "        morphwidth     area                Strain       Genotype Treatment  \n",
      "0          0.16850  0.11300            N2_OffFood             N2   OffFood  \n",
      "1          0.12140  0.11790            N2_OffFood             N2   OffFood  \n",
      "2          0.11970  0.11680            N2_OffFood             N2   OffFood  \n",
      "3          0.15040  0.12560            N2_OffFood             N2   OffFood  \n",
      "4          0.15170  0.12006            N2_OffFood             N2   OffFood  \n",
      "...            ...      ...                   ...            ...       ...  \n",
      "321157     0.09520  0.08800  set-2(ok1484)_OnFood  set-2(ok1484)    OnFood  \n",
      "321158     0.06690  0.07697  set-2(ok1484)_OnFood  set-2(ok1484)    OnFood  \n",
      "321159     0.11957  0.10560  set-2(ok1484)_OnFood  set-2(ok1484)    OnFood  \n",
      "321160     0.10060  0.08734  set-2(ok1484)_OnFood  set-2(ok1484)    OnFood  \n",
      "321161     0.09250  0.07465  set-2(ok1484)_OnFood  set-2(ok1484)    OnFood  \n",
      "\n",
      "[321162 rows x 20 columns]\n"
     ]
    }
   ],
   "source": [
    "PD_baseline_last100 = PD_baseline[((PD_baseline.time <= 420) & (PD_baseline.time >= 320))]\n",
    "PD_baseline_last100 = PD_baseline_last100.reset_index()\n",
    "PD_baseline_last100 = PD_baseline_last100.dropna()\n",
    "print(PD_baseline_last100)"
   ]
  },
  {
   "cell_type": "markdown",
   "metadata": {},
   "source": [
    "### 5.2.3 - Generate list of all strains in data set"
   ]
  },
  {
   "cell_type": "code",
   "execution_count": 24,
   "metadata": {},
   "outputs": [
    {
     "name": "stdout",
     "output_type": "stream",
     "text": [
      "['N2' 'R07G3.8(tm5683)' 'cat-2(e1112)' 'gba-2(tm4623)' 'gba-4(tm3314)'\n",
      " 'hipr-1(ok1081)' 'igcm-2(ok1527)' 'lfe-2(tm14109)' 'rskd-1(tm4031)'\n",
      " 'sac-2(ok2743)' 'set-2(ok1484)']\n"
     ]
    }
   ],
   "source": [
    "list = PD_baseline_last100[\"Genotype\"].unique()\n",
    "print(list)"
   ]
  },
  {
   "cell_type": "markdown",
   "metadata": {},
   "source": [
    "### 5.2.4 - Separate OffFood and OnFood data for comparison of behaviour within conditions"
   ]
  },
  {
   "cell_type": "code",
   "execution_count": 25,
   "metadata": {},
   "outputs": [],
   "source": [
    "PD_baseline_last100_OffFood = PD_baseline_last100[PD_baseline_last100[\"Treatment\"] == \"OffFood\"].dropna().add_suffix('_OffFood')\n",
    "PD_baseline_last100_OffFood = PD_baseline_last100_OffFood.rename(columns = {'Genotype_OffFood': 'Genotype'})\n",
    "\n",
    "PD_baseline_last100_OnFood = PD_baseline_last100[PD_baseline_last100[\"Treatment\"] == \"OnFood\"].dropna().add_suffix('_OnFood')\n",
    "PD_baseline_last100_OnFood = PD_baseline_last100_OnFood.rename(columns = {'Genotype_OnFood': 'Genotype'})"
   ]
  },
  {
   "cell_type": "markdown",
   "metadata": {},
   "source": [
    "### 5.2.5 - Generate empty dataframes for each measure of phenotype (scores will be added to these)"
   ]
  },
  {
   "cell_type": "code",
   "execution_count": 26,
   "metadata": {},
   "outputs": [],
   "source": [
    "PD_gene_baseline_length_T = pd.DataFrame(columns = [\"Genotype\", \"length\"])\n",
    "PD_gene_baseline_midline_T = pd.DataFrame(columns = [\"Genotype\", \"midline\"])\n",
    "PD_gene_baseline_width_T = pd.DataFrame(columns = [\"Genotype\", \"width\"])\n",
    "PD_gene_baseline_morphwidth_T = pd.DataFrame(columns = [\"Genotype\", \"morphwidth\"])\n",
    "PD_gene_baseline_area_T = pd.DataFrame(columns = [\"Genotype\", \"area\"])\n",
    "\n",
    "PD_gene_baseline_speed_T_OffFood = pd.DataFrame(columns = [\"Genotype\", \"speed_OffFood\"])\n",
    "PD_gene_baseline_angularspeed_T_OffFood = pd.DataFrame(columns = [\"Genotype\", \"angularspeed_OffFood\"])\n",
    "PD_gene_baseline_bias_T_OffFood = pd.DataFrame(columns = [\"Genotype\", \"bias_OffFood\"])\n",
    "PD_gene_baseline_curve_T_OffFood = pd.DataFrame(columns = [\"Genotype\", \"curve_OffFood\"])\n",
    "PD_gene_baseline_crab_T_OffFood = pd.DataFrame(columns = [\"Genotype\", \"crab_OffFood\"])\n",
    "PD_gene_baseline_kink_T_OffFood = pd.DataFrame(columns = [\"Genotype\", \"kink_OffFood\"])\n",
    "\n",
    "PD_gene_baseline_speed_T_OnFood = pd.DataFrame(columns = [\"Genotype\", \"speed_OnFood\"])\n",
    "PD_gene_baseline_angularspeed_T_OnFood = pd.DataFrame(columns = [\"Genotype\", \"angularspeed_OnFood\"])\n",
    "PD_gene_baseline_bias_T_OnFood = pd.DataFrame(columns = [\"Genotype\", \"bias_OnFood\"])\n",
    "PD_gene_baseline_curve_T_OnFood = pd.DataFrame(columns = [\"Genotype\", \"curve_OnFood\"])\n",
    "PD_gene_baseline_crab_T_OnFood = pd.DataFrame(columns = [\"Genotype\", \"crab_OnFood\"])\n",
    "PD_gene_baseline_kink_T_OnFood = pd.DataFrame(columns = [\"Genotype\", \"kink_OnFood\"])\n",
    "\n",
    "# print(PD_gene_baseline_midline_T)"
   ]
  },
  {
   "cell_type": "markdown",
   "metadata": {},
   "source": [
    "### 5.2.6 - Define t-test function"
   ]
  },
  {
   "cell_type": "code",
   "execution_count": 27,
   "metadata": {},
   "outputs": [],
   "source": [
    "def TTest_Gene(DatasetList, Type, DF_ref, output):\n",
    "    for a in DatasetList:\n",
    "        Tstat = ttest_ind(DF_ref[DF_ref.Genotype == a][Type], DF_ref[DF_ref.Genotype == \"N2\"][Type], equal_var = False)[0]\n",
    "        row = [a, Tstat]\n",
    "        output.loc[len(output)] = row\n",
    "    print(output)"
   ]
  },
  {
   "cell_type": "markdown",
   "metadata": {},
   "source": [
    "### 5.2.7 - Use `TTest_Gene()` function to generate t-scores for each genotype, measure of phenotype, and condition"
   ]
  },
  {
   "cell_type": "code",
   "execution_count": 28,
   "metadata": {},
   "outputs": [
    {
     "name": "stdout",
     "output_type": "stream",
     "text": [
      "           Genotype      length\n",
      "0                N2    0.000000\n",
      "1   R07G3.8(tm5683)   16.483056\n",
      "2      cat-2(e1112)  -56.269253\n",
      "3     gba-2(tm4623)  -53.158078\n",
      "4     gba-4(tm3314)  -21.875496\n",
      "5    hipr-1(ok1081)  -90.858139\n",
      "6    igcm-2(ok1527)  -74.607594\n",
      "7    lfe-2(tm14109)   54.290409\n",
      "8    rskd-1(tm4031) -135.587794\n",
      "9     sac-2(ok2743)  -55.015440\n",
      "10    set-2(ok1484) -146.529812\n",
      "           Genotype     midline\n",
      "0                N2    0.000000\n",
      "1   R07G3.8(tm5683)  -19.011565\n",
      "2      cat-2(e1112)  -42.054900\n",
      "3     gba-2(tm4623)  -95.773314\n",
      "4     gba-4(tm3314)  -75.423044\n",
      "5    hipr-1(ok1081) -108.750670\n",
      "6    igcm-2(ok1527)  -84.087971\n",
      "7    lfe-2(tm14109)   62.974980\n",
      "8    rskd-1(tm4031) -177.199850\n",
      "9     sac-2(ok2743)  -39.036855\n",
      "10    set-2(ok1484) -260.012825\n",
      "           Genotype      width\n",
      "0                N2   0.000000\n",
      "1   R07G3.8(tm5683) -45.286536\n",
      "2      cat-2(e1112)  40.429079\n",
      "3     gba-2(tm4623) -37.197459\n",
      "4     gba-4(tm3314) -75.318120\n",
      "5    hipr-1(ok1081)   9.065174\n",
      "6    igcm-2(ok1527)  16.834926\n",
      "7    lfe-2(tm14109)   0.023915\n",
      "8    rskd-1(tm4031) -38.244528\n",
      "9     sac-2(ok2743)  30.651788\n",
      "10    set-2(ok1484) -98.528556\n",
      "           Genotype  morphwidth\n",
      "0                N2    0.000000\n",
      "1   R07G3.8(tm5683)  -23.672209\n",
      "2      cat-2(e1112)   15.231186\n",
      "3     gba-2(tm4623)  -91.309138\n",
      "4     gba-4(tm3314)  -79.190786\n",
      "5    hipr-1(ok1081)  -24.302509\n",
      "6    igcm-2(ok1527)   14.071444\n",
      "7    lfe-2(tm14109)   18.130469\n",
      "8    rskd-1(tm4031)  -52.170800\n",
      "9     sac-2(ok2743)   25.031645\n",
      "10    set-2(ok1484) -139.962875\n",
      "           Genotype        area\n",
      "0                N2    0.000000\n",
      "1   R07G3.8(tm5683)   -8.875923\n",
      "2      cat-2(e1112)  -32.520982\n",
      "3     gba-2(tm4623) -161.265268\n",
      "4     gba-4(tm3314) -123.175722\n",
      "5    hipr-1(ok1081) -109.904018\n",
      "6    igcm-2(ok1527)  -62.311014\n",
      "7    lfe-2(tm14109)   49.468157\n",
      "8    rskd-1(tm4031) -153.794442\n",
      "9     sac-2(ok2743)  -18.219690\n",
      "10    set-2(ok1484) -253.170860\n",
      "           Genotype  speed_OffFood\n",
      "0                N2       0.000000\n",
      "1   R07G3.8(tm5683)     -51.355956\n",
      "2      cat-2(e1112)      40.394337\n",
      "3     gba-2(tm4623)     -31.882398\n",
      "4     gba-4(tm3314)     -81.463034\n",
      "5    hipr-1(ok1081)      -2.135179\n",
      "6    igcm-2(ok1527)     -24.090558\n",
      "7    lfe-2(tm14109)     -58.031298\n",
      "8    rskd-1(tm4031)    -133.115963\n",
      "9     sac-2(ok2743)     -66.176272\n",
      "10    set-2(ok1484)     -34.045830\n",
      "           Genotype  angularspeed_OffFood\n",
      "0                N2              0.000000\n",
      "1   R07G3.8(tm5683)            -49.865523\n",
      "2      cat-2(e1112)             25.671580\n",
      "3     gba-2(tm4623)            -33.788622\n",
      "4     gba-4(tm3314)            -65.655024\n",
      "5    hipr-1(ok1081)             20.442945\n",
      "6    igcm-2(ok1527)             16.709099\n",
      "7    lfe-2(tm14109)            -55.630418\n",
      "8    rskd-1(tm4031)            -26.898088\n",
      "9     sac-2(ok2743)              4.858696\n",
      "10    set-2(ok1484)            -21.128112\n",
      "           Genotype  bias_OffFood\n",
      "0                N2      0.000000\n",
      "1   R07G3.8(tm5683)     15.538187\n",
      "2      cat-2(e1112)     -6.647870\n",
      "3     gba-2(tm4623)     -7.381858\n",
      "4     gba-4(tm3314)     -4.014641\n",
      "5    hipr-1(ok1081)    -13.762849\n",
      "6    igcm-2(ok1527)     -8.909188\n",
      "7    lfe-2(tm14109)      7.532859\n",
      "8    rskd-1(tm4031)    -22.889744\n",
      "9     sac-2(ok2743)    -21.713276\n",
      "10    set-2(ok1484)     -7.086278\n",
      "           Genotype  curve_OffFood\n",
      "0                N2       0.000000\n",
      "1   R07G3.8(tm5683)     -69.559013\n",
      "2      cat-2(e1112)       3.813638\n",
      "3     gba-2(tm4623)     -48.414631\n",
      "4     gba-4(tm3314)     -59.813680\n",
      "5    hipr-1(ok1081)      11.509036\n",
      "6    igcm-2(ok1527)      20.876583\n",
      "7    lfe-2(tm14109)     -27.394504\n",
      "8    rskd-1(tm4031)      -2.592235\n",
      "9     sac-2(ok2743)      29.051194\n",
      "10    set-2(ok1484)     -46.219719\n",
      "           Genotype  crab_OffFood\n",
      "0                N2      0.000000\n",
      "1   R07G3.8(tm5683)    -80.040860\n",
      "2      cat-2(e1112)     29.385985\n",
      "3     gba-2(tm4623)    -41.972789\n",
      "4     gba-4(tm3314)   -102.345943\n",
      "5    hipr-1(ok1081)      8.472144\n",
      "6    igcm-2(ok1527)      4.736593\n",
      "7    lfe-2(tm14109)    -72.630784\n",
      "8    rskd-1(tm4031)    -47.592512\n",
      "9     sac-2(ok2743)     -5.063010\n",
      "10    set-2(ok1484)    -37.500476\n",
      "           Genotype  kink_OffFood\n",
      "0                N2      0.000000\n",
      "1   R07G3.8(tm5683)    -28.166489\n",
      "2      cat-2(e1112)      9.468494\n",
      "3     gba-2(tm4623)    -20.710340\n",
      "4     gba-4(tm3314)    -29.599509\n",
      "5    hipr-1(ok1081)     14.046634\n",
      "6    igcm-2(ok1527)     21.493505\n",
      "7    lfe-2(tm14109)    -12.267058\n",
      "8    rskd-1(tm4031)     -2.428597\n",
      "9     sac-2(ok2743)     26.785933\n",
      "10    set-2(ok1484)    -25.911693\n",
      "           Genotype  speed_OnFood\n",
      "0                N2      0.000000\n",
      "1   R07G3.8(tm5683)   -103.124341\n",
      "2      cat-2(e1112)    188.419086\n",
      "3     gba-2(tm4623)   -129.023693\n",
      "4     gba-4(tm3314)   -141.890858\n",
      "5    hipr-1(ok1081)    -12.167407\n",
      "6    igcm-2(ok1527)      0.535664\n",
      "7    lfe-2(tm14109)    -58.986218\n",
      "8    rskd-1(tm4031)   -104.346094\n",
      "9     sac-2(ok2743)    -17.932005\n",
      "10    set-2(ok1484)    -38.387457\n",
      "           Genotype  angularspeed_OnFood\n",
      "0                N2             0.000000\n",
      "1   R07G3.8(tm5683)           -44.736918\n",
      "2      cat-2(e1112)           110.095691\n",
      "3     gba-2(tm4623)           -29.540893\n",
      "4     gba-4(tm3314)           -82.599044\n",
      "5    hipr-1(ok1081)            14.149148\n",
      "6    igcm-2(ok1527)            15.644487\n",
      "7    lfe-2(tm14109)           -30.880777\n",
      "8    rskd-1(tm4031)           -10.126319\n",
      "9     sac-2(ok2743)            13.891371\n",
      "10    set-2(ok1484)            -5.859594\n",
      "           Genotype  bias_OnFood\n",
      "0                N2     0.000000\n",
      "1   R07G3.8(tm5683)   -83.675328\n",
      "2      cat-2(e1112)     6.077845\n",
      "3     gba-2(tm4623)   -89.941158\n",
      "4     gba-4(tm3314)   -83.232877\n",
      "5    hipr-1(ok1081)   -38.400604\n",
      "6    igcm-2(ok1527)    -9.224746\n",
      "7    lfe-2(tm14109)   -35.269326\n",
      "8    rskd-1(tm4031)   -76.257584\n",
      "9     sac-2(ok2743)    11.644194\n",
      "10    set-2(ok1484)   -35.794053\n",
      "           Genotype  curve_OnFood\n",
      "0                N2      0.000000\n",
      "1   R07G3.8(tm5683)    -56.724100\n",
      "2      cat-2(e1112)     68.516347\n",
      "3     gba-2(tm4623)    -35.179020\n",
      "4     gba-4(tm3314)    -60.888818\n",
      "5    hipr-1(ok1081)      3.357758\n",
      "6    igcm-2(ok1527)     10.464276\n",
      "7    lfe-2(tm14109)    -37.900395\n",
      "8    rskd-1(tm4031)    -12.961562\n",
      "9     sac-2(ok2743)     35.052554\n",
      "10    set-2(ok1484)    -36.608268\n",
      "           Genotype  crab_OnFood\n",
      "0                N2     0.000000\n",
      "1   R07G3.8(tm5683)   -70.549049\n",
      "2      cat-2(e1112)   149.843221\n",
      "3     gba-2(tm4623)   -59.986052\n",
      "4     gba-4(tm3314)   -81.464468\n",
      "5    hipr-1(ok1081)     9.168511\n",
      "6    igcm-2(ok1527)    13.982912\n",
      "7    lfe-2(tm14109)   -39.658712\n",
      "8    rskd-1(tm4031)   -20.476345\n",
      "9     sac-2(ok2743)    14.729177\n",
      "10    set-2(ok1484)   -27.468321\n",
      "           Genotype  kink_OnFood\n",
      "0                N2     0.000000\n",
      "1   R07G3.8(tm5683)    -1.973230\n",
      "2      cat-2(e1112)    32.484467\n",
      "3     gba-2(tm4623)    19.076829\n",
      "4     gba-4(tm3314)   -20.677560\n",
      "5    hipr-1(ok1081)    19.650763\n",
      "6    igcm-2(ok1527)     9.762484\n",
      "7    lfe-2(tm14109)    -0.111680\n",
      "8    rskd-1(tm4031)    16.925780\n",
      "9     sac-2(ok2743)    17.350552\n",
      "10    set-2(ok1484)   -18.552560\n"
     ]
    }
   ],
   "source": [
    "TTest_Gene(PD_baseline_last100[\"Genotype\"].unique(), \"length\", PD_baseline_last100, PD_gene_baseline_length_T)\n",
    "TTest_Gene(PD_baseline_last100[\"Genotype\"].unique(), \"midline\", PD_baseline_last100, PD_gene_baseline_midline_T)\n",
    "TTest_Gene(PD_baseline_last100[\"Genotype\"].unique(), \"width\", PD_baseline_last100, PD_gene_baseline_width_T)\n",
    "TTest_Gene(PD_baseline_last100[\"Genotype\"].unique(), \"morphwidth\", PD_baseline_last100, PD_gene_baseline_morphwidth_T)\n",
    "TTest_Gene(PD_baseline_last100[\"Genotype\"].unique(), \"area\", PD_baseline_last100, PD_gene_baseline_area_T)\n",
    "\n",
    "TTest_Gene(PD_baseline_last100[\"Genotype\"].unique(), \"speed_OffFood\",\n",
    "           PD_baseline_last100_OffFood, PD_gene_baseline_speed_T_OffFood)\n",
    "TTest_Gene(PD_baseline_last100[\"Genotype\"].unique(), \"angularspeed_OffFood\",\n",
    "           PD_baseline_last100_OffFood, PD_gene_baseline_angularspeed_T_OffFood)\n",
    "TTest_Gene(PD_baseline_last100[\"Genotype\"].unique(), \"bias_OffFood\",\n",
    "           PD_baseline_last100_OffFood, PD_gene_baseline_bias_T_OffFood)\n",
    "TTest_Gene(PD_baseline_last100[\"Genotype\"].unique(), \"curve_OffFood\",\n",
    "           PD_baseline_last100_OffFood, PD_gene_baseline_curve_T_OffFood)\n",
    "TTest_Gene(PD_baseline_last100[\"Genotype\"].unique(), \"crab_OffFood\",\n",
    "           PD_baseline_last100_OffFood, PD_gene_baseline_crab_T_OffFood)\n",
    "TTest_Gene(PD_baseline_last100[\"Genotype\"].unique(), \"kink_OffFood\",\n",
    "           PD_baseline_last100_OffFood, PD_gene_baseline_kink_T_OffFood)\n",
    "\n",
    "TTest_Gene(PD_baseline_last100[\"Genotype\"].unique(), \"speed_OnFood\",\n",
    "           PD_baseline_last100_OnFood, PD_gene_baseline_speed_T_OnFood)\n",
    "TTest_Gene(PD_baseline_last100[\"Genotype\"].unique(), \"angularspeed_OnFood\",\n",
    "           PD_baseline_last100_OnFood, PD_gene_baseline_angularspeed_T_OnFood)\n",
    "TTest_Gene(PD_baseline_last100[\"Genotype\"].unique(), \"bias_OnFood\",\n",
    "           PD_baseline_last100_OnFood, PD_gene_baseline_bias_T_OnFood)\n",
    "TTest_Gene(PD_baseline_last100[\"Genotype\"].unique(), \"curve_OnFood\",\n",
    "           PD_baseline_last100_OnFood, PD_gene_baseline_curve_T_OnFood)\n",
    "TTest_Gene(PD_baseline_last100[\"Genotype\"].unique(), \"crab_OnFood\",\n",
    "           PD_baseline_last100_OnFood, PD_gene_baseline_crab_T_OnFood)\n",
    "TTest_Gene(PD_baseline_last100[\"Genotype\"].unique(), \"kink_OnFood\",\n",
    "           PD_baseline_last100_OnFood, PD_gene_baseline_kink_T_OnFood)"
   ]
  },
  {
   "cell_type": "markdown",
   "metadata": {},
   "source": [
    "### 5.2.8 - Combine all dataframes generated in step 5.2.7"
   ]
  },
  {
   "cell_type": "code",
   "execution_count": 29,
   "metadata": {},
   "outputs": [
    {
     "name": "stdout",
     "output_type": "stream",
     "text": [
      "                     length     midline      width  morphwidth        area  \\\n",
      "Genotype                                                                     \n",
      "N2                 0.000000    0.000000   0.000000    0.000000    0.000000   \n",
      "R07G3.8(tm5683)   16.483056  -19.011565 -45.286536  -23.672209   -8.875923   \n",
      "cat-2(e1112)     -56.269253  -42.054900  40.429079   15.231186  -32.520982   \n",
      "gba-2(tm4623)    -53.158078  -95.773314 -37.197459  -91.309138 -161.265268   \n",
      "gba-4(tm3314)    -21.875496  -75.423044 -75.318120  -79.190786 -123.175722   \n",
      "hipr-1(ok1081)   -90.858139 -108.750670   9.065174  -24.302509 -109.904018   \n",
      "igcm-2(ok1527)   -74.607594  -84.087971  16.834926   14.071444  -62.311014   \n",
      "lfe-2(tm14109)    54.290409   62.974980   0.023915   18.130469   49.468157   \n",
      "rskd-1(tm4031)  -135.587794 -177.199850 -38.244528  -52.170800 -153.794442   \n",
      "sac-2(ok2743)    -55.015440  -39.036855  30.651788   25.031645  -18.219690   \n",
      "set-2(ok1484)   -146.529812 -260.012825 -98.528556 -139.962875 -253.170860   \n",
      "\n",
      "                 speed_OffFood  angularspeed_OffFood  bias_OffFood  \\\n",
      "Genotype                                                             \n",
      "N2                    0.000000              0.000000      0.000000   \n",
      "R07G3.8(tm5683)     -51.355956            -49.865523     15.538187   \n",
      "cat-2(e1112)         40.394337             25.671580     -6.647870   \n",
      "gba-2(tm4623)       -31.882398            -33.788622     -7.381858   \n",
      "gba-4(tm3314)       -81.463034            -65.655024     -4.014641   \n",
      "hipr-1(ok1081)       -2.135179             20.442945    -13.762849   \n",
      "igcm-2(ok1527)      -24.090558             16.709099     -8.909188   \n",
      "lfe-2(tm14109)      -58.031298            -55.630418      7.532859   \n",
      "rskd-1(tm4031)     -133.115963            -26.898088    -22.889744   \n",
      "sac-2(ok2743)       -66.176272              4.858696    -21.713276   \n",
      "set-2(ok1484)       -34.045830            -21.128112     -7.086278   \n",
      "\n",
      "                 curve_OffFood  crab_OffFood  kink_OffFood  speed_OnFood  \\\n",
      "Genotype                                                                   \n",
      "N2                    0.000000      0.000000      0.000000      0.000000   \n",
      "R07G3.8(tm5683)     -69.559013    -80.040860    -28.166489   -103.124341   \n",
      "cat-2(e1112)          3.813638     29.385985      9.468494    188.419086   \n",
      "gba-2(tm4623)       -48.414631    -41.972789    -20.710340   -129.023693   \n",
      "gba-4(tm3314)       -59.813680   -102.345943    -29.599509   -141.890858   \n",
      "hipr-1(ok1081)       11.509036      8.472144     14.046634    -12.167407   \n",
      "igcm-2(ok1527)       20.876583      4.736593     21.493505      0.535664   \n",
      "lfe-2(tm14109)      -27.394504    -72.630784    -12.267058    -58.986218   \n",
      "rskd-1(tm4031)       -2.592235    -47.592512     -2.428597   -104.346094   \n",
      "sac-2(ok2743)        29.051194     -5.063010     26.785933    -17.932005   \n",
      "set-2(ok1484)       -46.219719    -37.500476    -25.911693    -38.387457   \n",
      "\n",
      "                 angularspeed_OnFood  bias_OnFood  curve_OnFood  crab_OnFood  \\\n",
      "Genotype                                                                       \n",
      "N2                          0.000000     0.000000      0.000000     0.000000   \n",
      "R07G3.8(tm5683)           -44.736918   -83.675328    -56.724100   -70.549049   \n",
      "cat-2(e1112)              110.095691     6.077845     68.516347   149.843221   \n",
      "gba-2(tm4623)             -29.540893   -89.941158    -35.179020   -59.986052   \n",
      "gba-4(tm3314)             -82.599044   -83.232877    -60.888818   -81.464468   \n",
      "hipr-1(ok1081)             14.149148   -38.400604      3.357758     9.168511   \n",
      "igcm-2(ok1527)             15.644487    -9.224746     10.464276    13.982912   \n",
      "lfe-2(tm14109)            -30.880777   -35.269326    -37.900395   -39.658712   \n",
      "rskd-1(tm4031)            -10.126319   -76.257584    -12.961562   -20.476345   \n",
      "sac-2(ok2743)              13.891371    11.644194     35.052554    14.729177   \n",
      "set-2(ok1484)              -5.859594   -35.794053    -36.608268   -27.468321   \n",
      "\n",
      "                 kink_OnFood  \n",
      "Genotype                      \n",
      "N2                  0.000000  \n",
      "R07G3.8(tm5683)    -1.973230  \n",
      "cat-2(e1112)       32.484467  \n",
      "gba-2(tm4623)      19.076829  \n",
      "gba-4(tm3314)     -20.677560  \n",
      "hipr-1(ok1081)     19.650763  \n",
      "igcm-2(ok1527)      9.762484  \n",
      "lfe-2(tm14109)     -0.111680  \n",
      "rskd-1(tm4031)     16.925780  \n",
      "sac-2(ok2743)      17.350552  \n",
      "set-2(ok1484)     -18.552560  \n"
     ]
    }
   ],
   "source": [
    "PD_gene_baseline_Tstats = PD_gene_baseline_length_T\n",
    "PD_gene_baseline_Tstats = PD_gene_baseline_Tstats.join(PD_gene_baseline_midline_T.iloc[:,1])\n",
    "PD_gene_baseline_Tstats = PD_gene_baseline_Tstats.join(PD_gene_baseline_width_T.iloc[:,1])\n",
    "PD_gene_baseline_Tstats = PD_gene_baseline_Tstats.join(PD_gene_baseline_morphwidth_T.iloc[:,1])\n",
    "PD_gene_baseline_Tstats = PD_gene_baseline_Tstats.join(PD_gene_baseline_area_T.iloc[:,1])\n",
    "\n",
    "PD_gene_baseline_Tstats = PD_gene_baseline_Tstats.join(PD_gene_baseline_speed_T_OffFood.iloc[:,1])\n",
    "PD_gene_baseline_Tstats = PD_gene_baseline_Tstats.join(PD_gene_baseline_angularspeed_T_OffFood.iloc[:,1])\n",
    "PD_gene_baseline_Tstats = PD_gene_baseline_Tstats.join(PD_gene_baseline_bias_T_OffFood.iloc[:,1])\n",
    "PD_gene_baseline_Tstats = PD_gene_baseline_Tstats.join(PD_gene_baseline_curve_T_OffFood.iloc[:,1])\n",
    "PD_gene_baseline_Tstats = PD_gene_baseline_Tstats.join(PD_gene_baseline_crab_T_OffFood.iloc[:,1])\n",
    "PD_gene_baseline_Tstats = PD_gene_baseline_Tstats.join(PD_gene_baseline_kink_T_OffFood.iloc[:,1])\n",
    "\n",
    "PD_gene_baseline_Tstats = PD_gene_baseline_Tstats.join(PD_gene_baseline_speed_T_OnFood.iloc[:,1])\n",
    "PD_gene_baseline_Tstats = PD_gene_baseline_Tstats.join(PD_gene_baseline_angularspeed_T_OnFood.iloc[:,1])\n",
    "PD_gene_baseline_Tstats = PD_gene_baseline_Tstats.join(PD_gene_baseline_bias_T_OnFood.iloc[:,1])\n",
    "PD_gene_baseline_Tstats = PD_gene_baseline_Tstats.join(PD_gene_baseline_curve_T_OnFood.iloc[:,1])\n",
    "PD_gene_baseline_Tstats = PD_gene_baseline_Tstats.join(PD_gene_baseline_crab_T_OnFood.iloc[:,1])\n",
    "PD_gene_baseline_Tstats = PD_gene_baseline_Tstats.join(PD_gene_baseline_kink_T_OnFood.iloc[:,1])\n",
    "\n",
    "PD_gene_baseline_Tstats = PD_gene_baseline_Tstats.set_index(\"Genotype\")\n",
    "print(PD_gene_baseline_Tstats)"
   ]
  },
  {
   "cell_type": "markdown",
   "metadata": {},
   "source": [
    "### 5.2.9 - Standardize and normalize t-scores"
   ]
  },
  {
   "cell_type": "code",
   "execution_count": 30,
   "metadata": {},
   "outputs": [
    {
     "name": "stdout",
     "output_type": "stream",
     "text": [
      "                   length   midline     width  morphwidth      area  \\\n",
      "Genotype                                                              \n",
      "N2               0.835269  0.871469  0.404985    0.570228  0.891459   \n",
      "R07G3.8(tm5683)  1.104205  0.654087 -0.616140    0.131113  0.791848   \n",
      "cat-2(e1112)    -0.082816  0.390605  1.316582    0.852765  0.526486   \n",
      "gba-2(tm4623)   -0.032054 -0.223622 -0.433746   -1.123543 -0.918372   \n",
      "gba-4(tm3314)    0.478350  0.009067 -1.293294   -0.898749 -0.490904   \n",
      "hipr-1(ok1081)  -0.647166 -0.372008  0.609387    0.119421 -0.341960   \n",
      "igcm-2(ok1527)  -0.382023 -0.090010  0.784580    0.831252  0.192162   \n",
      "lfe-2(tm14109)   1.721067  1.591537  0.405524    0.906546  1.446625   \n",
      "rskd-1(tm4031)  -1.376971 -1.154669 -0.457356   -0.397532 -0.834529   \n",
      "sac-2(ok2743)   -0.062359  0.425114  1.096123    1.034562  0.686985   \n",
      "set-2(ok1484)   -1.555500 -2.101568 -1.816645   -2.026062 -1.949800   \n",
      "\n",
      "                 speed_OffFood  angularspeed_OffFood  bias_OffFood  \\\n",
      "Genotype                                                             \n",
      "N2                    0.868816              0.520751      0.554882   \n",
      "R07G3.8(tm5683)      -0.241854             -1.020902      1.922749   \n",
      "cat-2(e1112)          1.742421              1.314419     -0.030347   \n",
      "gba-2(tm4623)         0.179298             -0.523865     -0.094961   \n",
      "gba-4(tm3314)        -0.892977             -1.509053      0.201463   \n",
      "hipr-1(ok1081)        0.822639              1.152769     -0.656696   \n",
      "igcm-2(ok1527)        0.347812              1.037333     -0.229416   \n",
      "lfe-2(tm14109)       -0.386221             -1.199130      1.218019   \n",
      "rskd-1(tm4031)       -2.010070             -0.310836     -1.460160   \n",
      "sac-2(ok2743)        -0.562372              0.670964     -1.356593   \n",
      "set-2(ok1484)         0.132510             -0.132450     -0.068941   \n",
      "\n",
      "                 curve_OffFood  crab_OffFood  kink_OffFood  speed_OnFood  \\\n",
      "Genotype                                                                   \n",
      "N2                    0.498620      0.742829      0.210038      0.414945   \n",
      "R07G3.8(tm5683)      -1.522743     -1.155359     -1.166098     -0.714094   \n",
      "cat-2(e1112)          0.609443      1.439725      0.672642      2.477817   \n",
      "gba-2(tm4623)        -0.908294     -0.252565     -0.801811     -0.997648   \n",
      "gba-4(tm3314)        -1.239547     -1.684329     -1.236111     -1.138522   \n",
      "hipr-1(ok1081)        0.833069      0.943748      0.896317      0.281732   \n",
      "igcm-2(ok1527)        1.105287      0.855159      1.260150      0.420809   \n",
      "lfe-2(tm14109)       -0.297456     -0.979627     -0.389296     -0.230855   \n",
      "rskd-1(tm4031)        0.423291     -0.385838      0.091383     -0.727470   \n",
      "sac-2(ok2743)         1.342839      0.622759      1.518723      0.218619   \n",
      "set-2(ok1484)        -0.844511     -0.146503     -1.055935     -0.005334   \n",
      "\n",
      "                 angularspeed_OnFood  bias_OnFood  curve_OnFood  crab_OnFood  \\\n",
      "Genotype                                                                       \n",
      "N2                          0.094058     1.020171      0.281204     0.161279   \n",
      "R07G3.8(tm5683)            -0.832364    -1.143044     -1.146808    -0.957418   \n",
      "cat-2(e1112)                2.373946     1.177299      2.006083     2.537344   \n",
      "gba-2(tm4623)              -0.517681    -1.305032     -0.604417    -0.789920   \n",
      "gba-4(tm3314)              -1.616422    -1.131606     -1.251654    -1.130504   \n",
      "hipr-1(ok1081)              0.387062     0.027420      0.365735     0.306664   \n",
      "igcm-2(ok1527)              0.418028     0.781689      0.544639     0.383006   \n",
      "lfe-2(tm14109)             -0.545428     0.108371     -0.672927    -0.467590   \n",
      "rskd-1(tm4031)             -0.115640    -0.951277     -0.045099    -0.163415   \n",
      "sac-2(ok2743)               0.381724     1.321203      1.163642     0.394840   \n",
      "set-2(ok1484)              -0.027283     0.094806     -0.640398    -0.274286   \n",
      "\n",
      "                 kink_OnFood  \n",
      "Genotype                      \n",
      "N2                 -0.404081  \n",
      "R07G3.8(tm5683)    -0.522709  \n",
      "cat-2(e1112)        1.548829  \n",
      "gba-2(tm4623)       0.742785  \n",
      "gba-4(tm3314)      -1.647181  \n",
      "hipr-1(ok1081)      0.777289  \n",
      "igcm-2(ok1527)      0.182822  \n",
      "lfe-2(tm14109)     -0.410795  \n",
      "rskd-1(tm4031)      0.613467  \n",
      "sac-2(ok2743)       0.639004  \n",
      "set-2(ok1484)      -1.519430  \n",
      "                   length   midline     width  morphwidth      area  \\\n",
      "Genotype                                                              \n",
      "R07G3.8(tm5683)  0.268936 -0.217382 -1.021124   -0.439116 -0.099612   \n",
      "cat-2(e1112)    -0.918085 -0.480864  0.911598    0.282536 -0.364973   \n",
      "gba-2(tm4623)   -0.867323 -1.095091 -0.838731   -1.693771 -1.809831   \n",
      "gba-4(tm3314)   -0.356919 -0.862402 -1.698278   -1.468977 -1.382364   \n",
      "hipr-1(ok1081)  -1.482434 -1.243476  0.204402   -0.450808 -1.233419   \n",
      "igcm-2(ok1527)  -1.217292 -0.961478  0.379595    0.261023 -0.699298   \n",
      "lfe-2(tm14109)   0.885798  0.720068  0.000539    0.336318  0.555166   \n",
      "rskd-1(tm4031)  -2.212240 -2.026137 -0.862340   -0.967761 -1.725988   \n",
      "sac-2(ok2743)   -0.897628 -0.446355  0.691139    0.464333 -0.204474   \n",
      "set-2(ok1484)   -2.390769 -2.973037 -2.221629   -2.596291 -2.841260   \n",
      "\n",
      "                 speed_OffFood  angularspeed_OffFood  bias_OffFood  \\\n",
      "Genotype                                                             \n",
      "R07G3.8(tm5683)      -1.110670             -1.541653      1.367866   \n",
      "cat-2(e1112)          0.873605              0.793668     -0.585229   \n",
      "gba-2(tm4623)        -0.689518             -1.044616     -0.649844   \n",
      "gba-4(tm3314)        -1.761793             -2.029804     -0.353419   \n",
      "hipr-1(ok1081)       -0.046177              0.632018     -1.211579   \n",
      "igcm-2(ok1527)       -0.521004              0.516582     -0.784299   \n",
      "lfe-2(tm14109)       -1.255037             -1.719881      0.663137   \n",
      "rskd-1(tm4031)       -2.878887             -0.831587     -2.015043   \n",
      "sac-2(ok2743)        -1.431188              0.150212     -1.911475   \n",
      "set-2(ok1484)        -0.736306             -0.653201     -0.623823   \n",
      "\n",
      "                 curve_OffFood  crab_OffFood  kink_OffFood  speed_OnFood  \\\n",
      "Genotype                                                                   \n",
      "R07G3.8(tm5683)      -2.021364     -1.898188     -1.376135     -1.129038   \n",
      "cat-2(e1112)          0.110823      0.696896      0.462604      2.062872   \n",
      "gba-2(tm4623)        -1.406914     -0.995395     -1.011849     -1.412592   \n",
      "gba-4(tm3314)        -1.738167     -2.427158     -1.446149     -1.553466   \n",
      "hipr-1(ok1081)        0.334449      0.200919      0.686279     -0.133213   \n",
      "igcm-2(ok1527)        0.606667      0.112329      1.050112      0.005865   \n",
      "lfe-2(tm14109)       -0.796076     -1.722456     -0.599334     -0.645800   \n",
      "rskd-1(tm4031)       -0.075330     -1.128668     -0.118654     -1.142414   \n",
      "sac-2(ok2743)         0.844219     -0.120070      1.308685     -0.196325   \n",
      "set-2(ok1484)        -1.343131     -0.889333     -1.265972     -0.420278   \n",
      "\n",
      "                 angularspeed_OnFood  bias_OnFood  curve_OnFood  crab_OnFood  \\\n",
      "Genotype                                                                       \n",
      "R07G3.8(tm5683)            -0.926423    -2.163216     -1.428012    -1.118697   \n",
      "cat-2(e1112)                2.279888     0.157127      1.724879     2.376065   \n",
      "gba-2(tm4623)              -0.611740    -2.325203     -0.885621    -0.951199   \n",
      "gba-4(tm3314)              -1.710481    -2.151777     -1.532858    -1.291783   \n",
      "hipr-1(ok1081)              0.293004    -0.992751      0.084531     0.145385   \n",
      "igcm-2(ok1527)              0.323970    -0.238483      0.263435     0.221727   \n",
      "lfe-2(tm14109)             -0.639486    -0.911800     -0.954131    -0.628869   \n",
      "rskd-1(tm4031)             -0.209698    -1.971449     -0.326303    -0.324694   \n",
      "sac-2(ok2743)               0.287666     0.301031      0.882438     0.233561   \n",
      "set-2(ok1484)              -0.121342    -0.925366     -0.921602    -0.435565   \n",
      "\n",
      "                 kink_OnFood  \n",
      "Genotype                      \n",
      "R07G3.8(tm5683)    -0.118627  \n",
      "cat-2(e1112)        1.952910  \n",
      "gba-2(tm4623)       1.146866  \n",
      "gba-4(tm3314)      -1.243099  \n",
      "hipr-1(ok1081)      1.181370  \n",
      "igcm-2(ok1527)      0.586904  \n",
      "lfe-2(tm14109)     -0.006714  \n",
      "rskd-1(tm4031)      1.017549  \n",
      "sac-2(ok2743)       1.043085  \n",
      "set-2(ok1484)      -1.115348  \n"
     ]
    }
   ],
   "source": [
    "PD_gene_baseline_Tstats = PD_gene_baseline_Tstats.dropna().sort_index()\n",
    "\n",
    "PD_gene_baseline_Tstats_standardize = (PD_gene_baseline_Tstats - PD_gene_baseline_Tstats.mean())/PD_gene_baseline_Tstats.std()\n",
    "print(PD_gene_baseline_Tstats_standardize)\n",
    "\n",
    "PD_gene_baseline_Tstats_normalize = PD_gene_baseline_Tstats_standardize - PD_gene_baseline_Tstats_standardize[PD_gene_baseline_Tstats_standardize.index == 'N2'].squeeze()\n",
    "PD_gene_baseline_Tstats_normalize = PD_gene_baseline_Tstats_normalize.drop(index = 'N2')\n",
    "print(PD_gene_baseline_Tstats_normalize)"
   ]
  },
  {
   "cell_type": "markdown",
   "metadata": {},
   "source": [
    "## 5.3 - Generate phenotype heatmap with all measures"
   ]
  },
  {
   "cell_type": "markdown",
   "metadata": {},
   "source": [
    "### 5.3.1 - Combine dataframe containing morphology and behaviour t-scores with dataframe containing difference of difference scores"
   ]
  },
  {
   "cell_type": "code",
   "execution_count": 31,
   "metadata": {},
   "outputs": [
    {
     "name": "stdout",
     "output_type": "stream",
     "text": [
      "                   length   midline     width  morphwidth      area  \\\n",
      "Genotype                                                              \n",
      "R07G3.8(tm5683)  0.268936 -0.217382 -1.021124   -0.439116 -0.099612   \n",
      "cat-2(e1112)    -0.918085 -0.480864  0.911598    0.282536 -0.364973   \n",
      "gba-2(tm4623)   -0.867323 -1.095091 -0.838731   -1.693771 -1.809831   \n",
      "gba-4(tm3314)   -0.356919 -0.862402 -1.698278   -1.468977 -1.382364   \n",
      "hipr-1(ok1081)  -1.482434 -1.243476  0.204402   -0.450808 -1.233419   \n",
      "igcm-2(ok1527)  -1.217292 -0.961478  0.379595    0.261023 -0.699298   \n",
      "lfe-2(tm14109)   0.885798  0.720068  0.000539    0.336318  0.555166   \n",
      "rskd-1(tm4031)  -2.212240 -2.026137 -0.862340   -0.967761 -1.725988   \n",
      "sac-2(ok2743)   -0.897628 -0.446355  0.691139    0.464333 -0.204474   \n",
      "set-2(ok1484)   -2.390769 -2.973037 -2.221629   -2.596291 -2.841260   \n",
      "\n",
      "                 speed_OffFood  angularspeed_OffFood  bias_OffFood  \\\n",
      "Genotype                                                             \n",
      "R07G3.8(tm5683)      -1.110670             -1.541653      1.367866   \n",
      "cat-2(e1112)          0.873605              0.793668     -0.585229   \n",
      "gba-2(tm4623)        -0.689518             -1.044616     -0.649844   \n",
      "gba-4(tm3314)        -1.761793             -2.029804     -0.353419   \n",
      "hipr-1(ok1081)       -0.046177              0.632018     -1.211579   \n",
      "igcm-2(ok1527)       -0.521004              0.516582     -0.784299   \n",
      "lfe-2(tm14109)       -1.255037             -1.719881      0.663137   \n",
      "rskd-1(tm4031)       -2.878887             -0.831587     -2.015043   \n",
      "sac-2(ok2743)        -1.431188              0.150212     -1.911475   \n",
      "set-2(ok1484)        -0.736306             -0.653201     -0.623823   \n",
      "\n",
      "                 curve_OffFood  crab_OffFood  kink_OffFood  speed_OnFood  \\\n",
      "Genotype                                                                   \n",
      "R07G3.8(tm5683)      -2.021364     -1.898188     -1.376135     -1.129038   \n",
      "cat-2(e1112)          0.110823      0.696896      0.462604      2.062872   \n",
      "gba-2(tm4623)        -1.406914     -0.995395     -1.011849     -1.412592   \n",
      "gba-4(tm3314)        -1.738167     -2.427158     -1.446149     -1.553466   \n",
      "hipr-1(ok1081)        0.334449      0.200919      0.686279     -0.133213   \n",
      "igcm-2(ok1527)        0.606667      0.112329      1.050112      0.005865   \n",
      "lfe-2(tm14109)       -0.796076     -1.722456     -0.599334     -0.645800   \n",
      "rskd-1(tm4031)       -0.075330     -1.128668     -0.118654     -1.142414   \n",
      "sac-2(ok2743)         0.844219     -0.120070      1.308685     -0.196325   \n",
      "set-2(ok1484)        -1.343131     -0.889333     -1.265972     -0.420278   \n",
      "\n",
      "                 angularspeed_OnFood  bias_OnFood  curve_OnFood  crab_OnFood  \\\n",
      "Genotype                                                                       \n",
      "R07G3.8(tm5683)            -0.926423    -2.163216     -1.428012    -1.118697   \n",
      "cat-2(e1112)                2.279888     0.157127      1.724879     2.376065   \n",
      "gba-2(tm4623)              -0.611740    -2.325203     -0.885621    -0.951199   \n",
      "gba-4(tm3314)              -1.710481    -2.151777     -1.532858    -1.291783   \n",
      "hipr-1(ok1081)              0.293004    -0.992751      0.084531     0.145385   \n",
      "igcm-2(ok1527)              0.323970    -0.238483      0.263435     0.221727   \n",
      "lfe-2(tm14109)             -0.639486    -0.911800     -0.954131    -0.628869   \n",
      "rskd-1(tm4031)             -0.209698    -1.971449     -0.326303    -0.324694   \n",
      "sac-2(ok2743)               0.287666     0.301031      0.882438     0.233561   \n",
      "set-2(ok1484)              -0.121342    -0.925366     -0.921602    -0.435565   \n",
      "\n",
      "                 kink_OnFood     speed  angularspeed      bias     curve  \\\n",
      "Genotype                                                                   \n",
      "R07G3.8(tm5683)    -0.118627  0.123090     -1.291020  1.501453 -0.548885   \n",
      "cat-2(e1112)        1.952910 -2.672460     -1.968448 -0.199313 -1.419789   \n",
      "gba-2(tm4623)       1.146866  0.628007     -0.709458  0.954082  0.105303   \n",
      "gba-4(tm3314)      -1.243099 -0.405320     -1.711492  1.719707  0.128080   \n",
      "hipr-1(ok1081)      1.181370  0.566208      1.101041  0.277176  1.117345   \n",
      "igcm-2(ok1527)      0.586904 -0.787965      0.377804 -0.200353  0.562746   \n",
      "lfe-2(tm14109)     -0.006714 -0.291090     -1.544881  0.987004  0.995456   \n",
      "rskd-1(tm4031)      1.017549 -1.788107     -0.677337  1.226206  1.924715   \n",
      "sac-2(ok2743)       1.043085 -1.155080     -0.038215 -1.777958 -0.606243   \n",
      "set-2(ok1484)      -1.115348 -0.856472     -1.694886  0.774783 -1.074600   \n",
      "\n",
      "                     crab      kink  \n",
      "Genotype                             \n",
      "R07G3.8(tm5683) -1.702907 -1.917826  \n",
      "cat-2(e1112)    -2.784456 -1.379689  \n",
      "gba-2(tm4623)   -0.842123 -1.609246  \n",
      "gba-4(tm3314)   -2.264608 -0.739375  \n",
      "hipr-1(ok1081)   0.333283 -0.602225  \n",
      "igcm-2(ok1527)  -0.300118  1.039114  \n",
      "lfe-2(tm14109)  -1.799347 -0.403446  \n",
      "rskd-1(tm4031)  -1.222618 -1.636283  \n",
      "sac-2(ok2743)   -0.612011  0.552868  \n",
      "set-2(ok1484)   -2.017881 -1.807728  \n"
     ]
    }
   ],
   "source": [
    "full_heatmap = PD_gene_baseline_Tstats_normalize.join(PD_gene_behavioural_scores_normalize)\n",
    "print(full_heatmap)"
   ]
  },
  {
   "cell_type": "markdown",
   "metadata": {},
   "source": [
    "### 5.3.2 - Produce and save heatmap"
   ]
  },
  {
   "cell_type": "code",
   "execution_count": 32,
   "metadata": {},
   "outputs": [
    {
     "data": {
      "image/png": "[encoded data removed]",
      "text/plain": [
       "<Figure size 1440x1008 with 2 Axes>"
      ]
     },
     "metadata": {
      "needs_background": "light"
     },
     "output_type": "display_data"
    }
   ],
   "source": [
    "sns.set_context('notebook')\n",
    "plt.figure(figsize = (20,14))\n",
    "plt.rc('xtick', labelsize = 16)\n",
    "plt.rc('ytick', labelsize = 16) \n",
    "ax = sns.heatmap(data = full_heatmap, \n",
    "                 annot = False, \n",
    "                 linewidth = 0.5, \n",
    "                 square = True, \n",
    "                 cmap = \"vlag\", \n",
    "                 center = 0, \n",
    "                 vmax = 3,\n",
    "                 vmin = -3, \n",
    "                 # xticklabels = 1,\n",
    "                 xticklabels = ['Length', 'Midline', 'Width', 'Morphwidth', 'Area',\n",
    "                                'Speed (Off Food)', 'Angular Speed (Off Food)', 'Bias (Off Food)',\n",
    "                                'Curve (Off Food)', 'Crab (Off Food)', 'Kink (Off Food)',\n",
    "                                'Speed (On Food)', 'Angular Speed (On Food)', 'Bias (On Food)',\n",
    "                                'Curve (On Food)', 'Crab (On Food)', 'Kink (On Food)',\n",
    "                                'Speed (Difference)', 'Angular Speed (Difference)', 'Bias (Difference)',\n",
    "                                'Curve (Difference)', 'Crab (Difference)', 'Kink (Difference)'],\n",
    "                 yticklabels = 1,\n",
    "                 cbar_kws = {\"shrink\": .5,\n",
    "                             # \"label\": \"Normalized Behaviour Score\"\n",
    "                            })\n",
    "ax.set_ylabel('Genotype', fontsize = 24)\n",
    "ax.set_xlabel('Phenotype', fontsize = 24)\n",
    "ax.set_title('Phenotype Heatmap', fontsize = 24)\n",
    "# plt.savefig('BehaviourScore_GENE_normalized2_square.jpg', format='jpg', dpi=450, bbox_inches = \"tight\")\n",
    "plt.savefig('Complete_GENE_heatmap_normalized_square.jpg', format = 'jpg', dpi = 450, bbox_inches = \"tight\")\n",
    "plt.show()"
   ]
  },
  {
   "cell_type": "markdown",
   "metadata": {},
   "source": [
    "# Everything below not intended for large scale analysis of many strains, and include bugs that would need to be fixed (commented out so notebook can be run start to finish)"
   ]
  },
  {
   "cell_type": "markdown",
   "metadata": {},
   "source": [
    "# Graphing Bar Graphs"
   ]
  },
  {
   "cell_type": "markdown",
   "metadata": {},
   "source": [
    "## Speed Barplots Comparison"
   ]
  },
  {
   "cell_type": "code",
   "execution_count": 33,
   "metadata": {},
   "outputs": [],
   "source": [
    "# # Valid Measurement inputs(change var)\n",
    "# # 1:'speed', <---\n",
    "# # 2: \"x\",\n",
    "# # 3: \"y\",\n",
    "# # 4: \"angularspeed\", <-----\n",
    "# # 5: \"pathlength\",\n",
    "# # 6: \"kink\",  <---\n",
    "# # 7: \"bias\", <----\n",
    "# # 8: \"curve\", <---\n",
    "# # 9: \"dir\",<----\n",
    "# # 10: \"crab\",<----\n",
    "# # 11: \"length\",<---\n",
    "# # 12: \"midline\",<----\n",
    "# # 13: \"width\",<----\n",
    "# # 14: \"morphwidth\",<----\n",
    "# # 15: \"area\"<----\n",
    "\n",
    "# start = 200\n",
    "# point = 400\n",
    "# var = \"area\"\n",
    "# chunkeddata0 = TotalConcatenated[TotalConcatenated[\"time\"] >= start]\n",
    "# chunkeddata = chunkeddata0[chunkeddata0[\"time\"] <= point]\n",
    "# chunkeddata_mean = chunkeddata.groupby([\"Strain\",\"worm\"], as_index=False).mean()\n",
    "# chunkeddata_mean[['Genotype', 'Treatment']] = chunkeddata_mean['Strain'].str.split(' - ', 1, expand=True)\n",
    "\n",
    "# Title = f\"{var} - {start}-{point} seconds\" #<---------------- Input Here -----------------\n",
    "# sns.set_context(\"talk\")\n",
    "# plt.figure(linewidth = 2.5)\n",
    "# plt.figure(figsize=(15, 3))\n",
    "# plt.gca().xaxis.grid(False)\n",
    "# ax = sns.barplot(x=\"Genotype\", \n",
    "#              y = var, \n",
    "#              data = chunkeddata_mean, #<--------------- Input Here -------------\n",
    "#              hue = 'Treatment',\n",
    "#              edgecolor=\"black\",\n",
    "#              linewidth = 2.5,\n",
    "# #              seed=5,\n",
    "#              ci = 95, # 'sd' for SD, '68' for SEM\n",
    "#              palette = ['grey',\n",
    "#                         'black'\n",
    "#                        ]\n",
    "#                 )\n",
    "# plt.xlabel(\"Strain and Condition\")\n",
    "# # plt.ylabel(\"Average Speed (mm/s)\")\n",
    "# plt.title(Title)\n",
    "# plt.legend(bbox_to_anchor=(1.02, 1), loc=2, borderaxespad=0.)\n",
    "# plt.savefig(f'{Title}.png', format='png', dpi=450, bbox_inches = 'tight')\n",
    "# plt.show()"
   ]
  },
  {
   "cell_type": "code",
   "execution_count": 34,
   "metadata": {},
   "outputs": [],
   "source": [
    "# Test Cell\n",
    "# chunkeddata_mean"
   ]
  },
  {
   "cell_type": "code",
   "execution_count": 35,
   "metadata": {},
   "outputs": [],
   "source": [
    "# Test Cell\n",
    "# TotalConcatenated.describe()\n",
    "# chunkeddata0\n",
    "# chunkeddata"
   ]
  },
  {
   "cell_type": "markdown",
   "metadata": {},
   "source": [
    "## Bias Barplots Comparison"
   ]
  },
  {
   "cell_type": "code",
   "execution_count": 36,
   "metadata": {},
   "outputs": [],
   "source": [
    "# point = 420\n",
    "# var = \"bias\"\n",
    "# chunkeddata0 = TotalConcatenated[TotalConcatenated[\"time\"] >= 0]\n",
    "# chunkeddata = chunkeddata0[chunkeddata0[\"time\"] <= point]\n",
    "\n",
    "# Title = f\"{var} - First {point} seconds\" #<---------------- Input Here -----------------\n",
    "# sns.set_context(\"talk\")\n",
    "# plt.figure(linewidth = 2.5)\n",
    "# plt.figure(figsize=(15, 5))\n",
    "# plt.gca().xaxis.grid(False)\n",
    "# ax = sns.barplot(x=\"Genotype\", \n",
    "#              y = var, \n",
    "#              data = chunkeddata, #<--------------- Input Here -------------\n",
    "#              hue = 'Treatment',\n",
    "#              edgecolor=\"black\",\n",
    "#              linewidth = 2.5,\n",
    "#              ci = None,\n",
    "#              palette = ['black',\n",
    "#                         'grey'\n",
    "#                        ]\n",
    "#                 )\n",
    "# plt.xlabel(\"Strain and Condition\")\n",
    "# # plt.ylabel(\"Average Speed (mm/s)\")\n",
    "# plt.title(Title)\n",
    "# plt.legend(bbox_to_anchor=(1.02, 1), loc=2, borderaxespad=0.)\n",
    "# # plt.savefig(f'{Title}.png', format='png', dpi=450, bbox_inches = 'tight')\n",
    "# plt.show()"
   ]
  }
 ],
 "metadata": {
  "kernelspec": {
   "display_name": "Python 3 (ipykernel)",
   "language": "python",
   "name": "python3"
  },
  "language_info": {
   "codemirror_mode": {
    "name": "ipython",
    "version": 3
   },
   "file_extension": ".py",
   "mimetype": "text/x-python",
   "name": "python",
   "nbconvert_exporter": "python",
   "pygments_lexer": "ipython3",
   "version": "3.11.1"
  }
 },
 "nbformat": 4,
 "nbformat_minor": 4
}
