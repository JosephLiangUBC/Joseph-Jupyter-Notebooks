{
 "cells": [
  {
   "cell_type": "markdown",
   "id": "b17643c6",
   "metadata": {},
   "source": [
    "# Import Packages"
   ]
  },
  {
   "cell_type": "code",
   "execution_count": 1,
   "id": "c3e786b3",
   "metadata": {},
   "outputs": [
    {
     "name": "stdout",
     "output_type": "stream",
     "text": [
      "done step 1\n"
     ]
    }
   ],
   "source": [
    "import pandas as pd #<- package used to import and organize data\n",
    "import numpy as np #<- package used to import and organize data\n",
    "import math\n",
    "import os #<- package used to work with system file paths\n",
    "import seaborn as sns #<- package used to plot graphs\n",
    "from matplotlib import pyplot as plt #<- another package used to plot graphs\n",
    "from itertools import cycle #<- package used to iterate down rows (used in step 5 to add tap column)\n",
    "import ipywidgets as widgets #<- widget tool to generate button and tab for graphs\n",
    "from IPython.display import display #<- displays widgets\n",
    "from ipyfilechooser import FileChooser\n",
    "import pingouin as pg\n",
    "from pingouin import ttest\n",
    "from scipy.stats import ttest_ind\n",
    "print(\"done step 1\")"
   ]
  },
  {
   "cell_type": "markdown",
   "id": "ffda42ab",
   "metadata": {},
   "source": [
    "# Designate Directory"
   ]
  },
  {
   "cell_type": "code",
   "execution_count": null,
   "id": "3db63ba8",
   "metadata": {},
   "outputs": [],
   "source": [
    "starting_directory = '/Users/Joseph'\n",
    "chooser = FileChooser(starting_directory)\n",
    "display(chooser)"
   ]
  },
  {
   "cell_type": "code",
   "execution_count": null,
   "id": "04495a41",
   "metadata": {},
   "outputs": [],
   "source": [
    "print(chooser.selected_path)\n",
    "folder_path=chooser.selected_path"
   ]
  },
  {
   "cell_type": "markdown",
   "id": "d990628e",
   "metadata": {},
   "source": [
    "# To Read In Tap Response Data:"
   ]
  },
  {
   "cell_type": "markdown",
   "id": "8e403c21",
   "metadata": {},
   "source": [
    "### Setting Tap Paramaters Here..."
   ]
  },
  {
   "cell_type": "code",
   "execution_count": 3,
   "id": "a61656cf",
   "metadata": {},
   "outputs": [
    {
     "name": "stdout",
     "output_type": "stream",
     "text": [
      "[(1, (599, 601)), (2, (609, 611)), (3, (619, 621)), (4, (629, 631)), (5, (639, 641)), (6, (649, 651)), (7, (659, 661)), (8, (669, 671)), (9, (679, 681)), (10, (689, 691)), (11, (699, 701)), (12, (709, 711)), (13, (719, 721)), (14, (729, 731)), (15, (739, 741)), (16, (749, 751)), (17, (759, 761)), (18, (769, 771)), (19, (779, 781)), (20, (789, 791)), (21, (799, 801)), (22, (809, 811)), (23, (819, 821)), (24, (829, 831)), (25, (839, 841)), (26, (849, 851)), (27, (859, 861)), (28, (869, 871)), (29, (879, 881)), (30, (889, 891)), (31, (1188, 1191))]\n",
      "tap 1 tolerance=(599, 601)\n",
      "tap 2 tolerance=(609, 611)\n",
      "tap 3 tolerance=(619, 621)\n",
      "tap 4 tolerance=(629, 631)\n",
      "tap 5 tolerance=(639, 641)\n",
      "tap 6 tolerance=(649, 651)\n",
      "tap 7 tolerance=(659, 661)\n",
      "tap 8 tolerance=(669, 671)\n",
      "tap 9 tolerance=(679, 681)\n",
      "tap 10 tolerance=(689, 691)\n",
      "tap 11 tolerance=(699, 701)\n",
      "tap 12 tolerance=(709, 711)\n",
      "tap 13 tolerance=(719, 721)\n",
      "tap 14 tolerance=(729, 731)\n",
      "tap 15 tolerance=(739, 741)\n",
      "tap 16 tolerance=(749, 751)\n",
      "tap 17 tolerance=(759, 761)\n",
      "tap 18 tolerance=(769, 771)\n",
      "tap 19 tolerance=(779, 781)\n",
      "tap 20 tolerance=(789, 791)\n",
      "tap 21 tolerance=(799, 801)\n",
      "tap 22 tolerance=(809, 811)\n",
      "tap 23 tolerance=(819, 821)\n",
      "tap 24 tolerance=(829, 831)\n",
      "tap 25 tolerance=(839, 841)\n",
      "tap 26 tolerance=(849, 851)\n",
      "tap 27 tolerance=(859, 861)\n",
      "tap 28 tolerance=(869, 871)\n",
      "tap 29 tolerance=(879, 881)\n",
      "tap 30 tolerance=(889, 891)\n",
      "tap 31 tolerance=(1188, 1191)\n",
      "[(599, 601), (609, 611), (619, 621), (629, 631), (639, 641), (649, 651), (659, 661), (669, 671), (679, 681), (689, 691), (699, 701), (709, 711), (719, 721), (729, 731), (739, 741), (749, 751), (759, 761), (769, 771), (779, 781), (789, 791), (799, 801), (809, 811), (819, 821), (829, 831), (839, 841), (849, 851), (859, 861), (869, 871), (879, 881), (889, 891), (1188, 1191)]\n",
      "done step 3\n"
     ]
    }
   ],
   "source": [
    "number_of_taps = 30 ###<------ Taps in your experiment.\n",
    "\n",
    "number_taps = range(1, number_of_taps + 1)  #<- do not change this\n",
    "\n",
    "\n",
    "# if you have different ISIs in the same folder, then come back and change this \n",
    "# when you are graphing for the second set of data with the other ISI \n",
    "# (Generally data from same ISIs are graphed together)\n",
    "# If changing ISI mid-analysis, you can just skip straight to step 8 after running this cell again\n",
    "\n",
    "ISI = 10  ### <- What is your ISI? change accordingly\n",
    "first_tap = 600 ### <- when is your first tap? check your TRV files\n",
    "\n",
    "#Here, open up one of the trv files to determine the times for each of these taps. \n",
    "lower = np.arange(first_tap-1, first_tap-1+(number_of_taps*ISI), ISI) #(first tap, last tap+10s, ISI)\n",
    "upper = np.arange(first_tap+1, first_tap+1+(number_of_taps*ISI), ISI) #(first tap, last tap+10s, ISI)\n",
    "tolerances = list(zip(lower, upper)) \n",
    "taps = [i for i in range(1,number_of_taps+1)]\n",
    "\n",
    "#### Add 31st Tap Here --------------------------------------------------<------------\n",
    "tolerances.append((1188,1191))\n",
    "taps.append(31)\n",
    "\n",
    "\n",
    "#assign each tolerance to a tap number\n",
    "accurate_taps = list((zip(taps, tolerances)))\n",
    "print(accurate_taps)\n",
    "\n",
    "for pair in accurate_taps:\n",
    "   tap = pair[0]\n",
    "   tolerance = pair[1]\n",
    "   print(\"tap \"+str(tap), \"tolerance=\"+str(tolerance))\n",
    "\n",
    "print(\"done step 3\")"
   ]
  },
  {
   "cell_type": "markdown",
   "id": "dcac8cdf",
   "metadata": {},
   "source": [
    "### Constructing .trv filelist"
   ]
  },
  {
   "cell_type": "code",
   "execution_count": null,
   "id": "fbb854a9",
   "metadata": {},
   "outputs": [],
   "source": [
    "os.chdir(folder_path) #<- setting your working directory so that your images will be saved here\n",
    "\n",
    "filelist = list() #<- empty list\n",
    "for root, dirs, files in os.walk(folder_path): #<- this for loop goes through your folder \n",
    "    for name in files:\n",
    "        if name.endswith('.trv'): #<- and takes out all files with a .trv (file that contains your data)\n",
    "            filepath = os.path.join(root, name) #<- Notes down the file path of each data file\n",
    "            filelist.append(filepath) #<- saves it into the list\n",
    "    \n",
    "print(filelist)\n",
    "print('done step 4')"
   ]
  },
  {
   "cell_type": "markdown",
   "id": "0243c2c5",
   "metadata": {},
   "source": [
    "### generating list of strains (groups)"
   ]
  },
  {
   "cell_type": "code",
   "execution_count": null,
   "id": "2a29b9a1",
   "metadata": {},
   "outputs": [],
   "source": [
    "genotype=[]\n",
    "for f in filelist:\n",
    "    genotype.append(f.split('/')[6])\n",
    "# print(np.unique(genotype))\n",
    "genotypes=np.unique(genotype)\n",
    "# print(genotypes)\n",
    "# print(len(np.unique(genotypes)))\n",
    "strainNs = enumerate(genotypes,1)\n",
    "strain_enum=list(strainNs)\n",
    "print(strain_enum)\n",
    "StrainNames=dict(strain_enum)\n",
    "print(StrainNames)"
   ]
  },
  {
   "cell_type": "markdown",
   "id": "a968f287",
   "metadata": {},
   "source": [
    "### Defining functions to reading in data"
   ]
  },
  {
   "cell_type": "code",
   "execution_count": null,
   "id": "57c7e0f0",
   "metadata": {},
   "outputs": [],
   "source": [
    "def Tap_ProcessData(strain): #<- an example of a user-defined function\n",
    "    strain_filelist = [x for x in filelist if strain in x] #<- goes through the list and filters for keyword\n",
    "    Strain_N = len(strain_filelist) #<- N per strain, or number of plates\n",
    "    Plate_N = 1\n",
    "    print(f'this strain/treatment has {Strain_N} plates') #<- will output as the first number\n",
    "    if Strain_N == 0:\n",
    "        raise AssertionError ('{} is not a good identifier'.format(strain))\n",
    "    else:\n",
    "        pass\n",
    "#     for f in strain_filelist:\n",
    "#         DF_Total = pd.concat(pd.read_csv(f, sep=' ', skiprows = 4, header = None))\n",
    "        DF_Total = pd.concat([pd.read_csv(f, sep=' ', header = None, encoding_errors='ignore') for f in strain_filelist],\n",
    "                      ignore_index=True) #<- imports your data files\n",
    "#         DF_Total = DF_Total.dropna(axis = 1) #<- cleans your data\n",
    "        DF_Total = DF_Total.rename( #<- more cleaning\n",
    "                    {0:'time',\n",
    "                    2:'rev_before',\n",
    "                    3:'no_rev',\n",
    "                    4:'stim_rev',\n",
    "                    7:'dist',\n",
    "                    8:'dist_std',\n",
    "                    9:'dist_stderr',\n",
    "                    11:'dist_0th',\n",
    "                    12:'dist_1st',\n",
    "                    13:'dist_2nd',\n",
    "                    14:'dist_3rd',\n",
    "                    15:'dist_100th',\n",
    "                    18:'dura',\n",
    "                    19:'dura_std',\n",
    "                    20:'dura_stderr',\n",
    "                    22:'dura_0th',\n",
    "                    23:'dura_1st',\n",
    "                    24:'dura_2nd',\n",
    "                    25:'dura_3rd',\n",
    "                    26:'dura_100th'}, axis=1)\n",
    "        #check function here for NaN Columns\n",
    "        DF_Total['plate'] = 0\n",
    "        DF_Total['prob'] = DF_Total['stim_rev']/ (DF_Total['no_rev'] + DF_Total['stim_rev']) #<- calculate prob\n",
    "        DF_Total['speed'] = DF_Total['dist']/DF_Total['dura'] #<- calculate speed\n",
    "        DF_Total_rows = int(DF_Total.shape[0])\n",
    "        print(f'this strain/treatment has {DF_Total_rows} total taps') #<- Outputs as the second number. Check if you are missing taps!\n",
    "        DF_Final = DF_Total[[\"time\", \"dura\", \"dist\", \"prob\", \"speed\", \"plate\"]].copy()\n",
    "\n",
    "    return{\n",
    "            'N': Strain_N,\n",
    "            'Confirm':DF_Total,\n",
    "            'Final': DF_Final}\n",
    "    print('done!')\n",
    "\n",
    "\n",
    "\n",
    "def assign_taps(DF, tolerances):\n",
    "    \"\"\"This function inserts a taps column,\n",
    "    and assigns a tap number to each row \n",
    "    based on the tolerances described prior.\n",
    "    \n",
    "    :param DF: any dataframe\n",
    "    :type: pandas.core.frame.DataFrame\n",
    "    :param tolerances: list of tuples\n",
    "    :type: tuple\n",
    "    \n",
    "    :return: dataframe with a plate column\n",
    "    :type: pandas.core.frame.DataFrame\n",
    "    \"\"\"\n",
    "    DF['taps'] = \"\"\n",
    "    for taps, tolerance in enumerate(tolerances): #[(99, 101), (109,111), ...]\n",
    "        tap_lower,tap_upper = tolerance\n",
    "        TimesInTapRange = DF['time'].between(tap_lower,tap_upper, inclusive=\"both\")\n",
    "        DF.loc[TimesInTapRange,'taps'] = taps+1 #set the tap to i where times are between\n",
    "\n",
    "\n",
    "\n",
    "    \n",
    "def insert_plates(df):   \n",
    "    \"\"\"This function inserts a plate column into a dataframe.\n",
    "    \n",
    "    :param df: any dataframe\n",
    "    :type: pandas.core.frame.DataFrame\n",
    "    \n",
    "    :return: dataframe with a plate column\n",
    "    :type: pandas.core.frame.DataFrame\n",
    "    \"\"\"\n",
    "    df['plate']=(df['taps'] ==1).cumsum()\n",
    "\n",
    "def Baseline_ProcessData(strain): #<- an example of a user-defined function\n",
    "    strain_filelist = [x for x in filelist if strain in x] #<- goes through the list and filters for keyword\n",
    "    Strain_N = len(strain_filelist) #<- N per strain, or number of plates\n",
    "    Plate_N = 1\n",
    "    print(f'this strain/treatment has {Strain_N} plates') #<- will output as the first number\n",
    "    if Strain_N == 0:\n",
    "        raise AssertionError ('{} is not a good identifier'.format(strain))\n",
    "    else:\n",
    "        pass\n",
    "#     for f in strain_filelist:\n",
    "#         DF_Total = pd.concat(pd.read_csv(f, sep=' ', skiprows = 4, header = None))\n",
    "        DF_Total = pd.concat([pd.read_csv(f, sep=' ', header = None) for f in strain_filelist],\n",
    "                      ignore_index=True) #<- imports your data files\n",
    "#         DF_Total = DF_Total.dropna(axis = 1) #<- cleans your data\n",
    "        DF_Total = DF_Total.rename( #<- more cleaning\n",
    "                    {0:'Time',\n",
    "                    1:'n',\n",
    "                    2:'Number',\n",
    "                    3:'Instantaneous Speed',\n",
    "                    4:'Interval Speed',\n",
    "                    5:'Bias',\n",
    "                    6:'Tap',\n",
    "                    7:'Puff',\n",
    "                    8:'x',\n",
    "                    9:'y',\n",
    "                    10:'Width',\n",
    "                    11:'Length',\n",
    "                    12:'Area',\n",
    "                    13:'Angular Speed',\n",
    "                    14:'Aspect Ratio',\n",
    "                    15:'Kink',\n",
    "                    16:'Curve',\n",
    "                    17:'Crab'}, axis=1)\n",
    "        #check function here for NaN Columns\n",
    "        DF_Total['plate'] = 0\n",
    "        # DF_Total['prob'] = DF_Total['stim_rev']/ (DF_Total['no_rev'] + DF_Total['stim_rev']) #<- calculate prob\n",
    "        # DF_Total['speed'] = DF_Total['dist']/DF_Total['dura'] #<- calculate speed\n",
    "        # DF_Total_rows = int(DF_Total.shape[0])\n",
    "        # print(f'this strain/treatment has {DF_Total_rows} total taps') #<- Outputs as the second number. Check if you are missing taps!\n",
    "        # DF_Final = DF_Total[[\"time\", \"dura\", \"dist\", \"prob\", \"speed\", \"plate\"]].copy()\n",
    "\n",
    "    return{\n",
    "            'N': Strain_N,\n",
    "            'Confirm':DF_Total\n",
    "            # 'Final': DF_Final\n",
    "    }\n",
    "    print('done!')\n",
    "\n",
    "            \n",
    "print('done step 5')"
   ]
  },
  {
   "cell_type": "markdown",
   "id": "e4a1a4e3",
   "metadata": {},
   "source": [
    "### Reading in tap data"
   ]
  },
  {
   "cell_type": "code",
   "execution_count": null,
   "id": "96e4b4cb",
   "metadata": {},
   "outputs": [],
   "source": [
    "DataLists = [0]  #<- generates empty list. 0 is there to account for python's index starting at 0. \n",
    "# we want indexing to start at 1 (when I say #1 I want the first point, not the second point)\n",
    "\n",
    "for s in list(StrainNames.values()): #<- goes through the dictionary in step 6.1 and processes data\n",
    "    if not s == '':\n",
    "#         threading.Thread(target=DataLists.append(ProcessData(s)['Final'])).start()\n",
    "        DataLists.append(Tap_ProcessData(s)['Final']) #<- appends all data into a list of dataframes\n",
    "\n",
    "\n",
    "for df in DataLists[1:]: \n",
    "    assign_taps(df, tolerances)\n",
    "for df in DataLists[1:]:    \n",
    "    insert_plates(df)\n",
    "    \n",
    "print('done step 6')"
   ]
  },
  {
   "cell_type": "markdown",
   "id": "a0a80f93",
   "metadata": {},
   "source": [
    "### putting tap data altogether in one big dataframe"
   ]
  },
  {
   "cell_type": "code",
   "execution_count": null,
   "id": "09e9d5ba",
   "metadata": {},
   "outputs": [],
   "source": [
    "Tap_Data=pd.DataFrame()\n",
    "for d in range(1,len(np.unique(genotypes))+1):\n",
    "    print(d)\n",
    "    Tap_Data=pd.concat([Tap_Data,\n",
    "                        DataLists[d].assign(dataset=StrainNames.get(d))])\n",
    "\n",
    "Tap_Data.reset_index(inplace=False)\n",
    "print(Tap_Data)\n",
    "Tap_Data.to_csv(\"tap_output.csv\")\n",
    "PD_Tap = Tap_Data\n",
    "print('done step 7')"
   ]
  },
  {
   "cell_type": "markdown",
   "id": "69ffbba6",
   "metadata": {},
   "source": [
    "# To Read In Baseline Data:"
   ]
  },
  {
   "cell_type": "markdown",
   "id": "3d088bb3",
   "metadata": {},
   "source": [
    "### Setting Time Bin Experimental Parameters..."
   ]
  },
  {
   "cell_type": "code",
   "execution_count": null,
   "id": "fda7407e",
   "metadata": {},
   "outputs": [],
   "source": [
    "bins = np.linspace(0,1200,1201) # 1 second bins (smoother lines on graph)\n",
    "print(bins)\n",
    "\n",
    "\n",
    "print(\"done step 3\")"
   ]
  },
  {
   "cell_type": "markdown",
   "id": "698a6d0b",
   "metadata": {},
   "source": [
    "### constructing baseline data 'dat' filelist"
   ]
  },
  {
   "cell_type": "code",
   "execution_count": null,
   "id": "e49bfc2c",
   "metadata": {},
   "outputs": [],
   "source": [
    "print(folder_path)\n",
    "os.chdir(folder_path) #<- setting your working directory so that your images will be saved here\n",
    "\n",
    "filelist = list() #<- empty list\n",
    "for root, dirs, files in os.walk(folder_path): #<- this for loop goes through your folder \n",
    "    for name in files:\n",
    "        if name.endswith('.dat'): #<- and takes out all files with a .dat (file that contains your data)\n",
    "            filepath = os.path.join(root, name) #<- Notes down the file path of each data file\n",
    "            filelist.append(filepath) #<- saves it into the list\n",
    "    \n",
    "print(filelist)\n",
    "print('done step 4')"
   ]
  },
  {
   "cell_type": "markdown",
   "id": "90462eba",
   "metadata": {},
   "source": [
    "### reading in baseline data"
   ]
  },
  {
   "cell_type": "code",
   "execution_count": null,
   "id": "7a7c4de8",
   "metadata": {},
   "outputs": [],
   "source": [
    "DataLists = [0] #<- generates empty list. 0 is there to account for python's index starting at 0. \n",
    "# we want indexing to start at 1 (when I say #1 I want the first point, not the second point)\n",
    "\n",
    "for s in tqdm(StrainNames.values()): #<- goes through the dictionary in step 6.1 and processes data\n",
    "    if not s == '':\n",
    "        DataLists.append(Baseline_ProcessData(s)['Confirm']) #<- appends all data into a list of dataframes\n",
    "\n",
    "print('done step 6.2')"
   ]
  },
  {
   "cell_type": "markdown",
   "id": "0536f2a9",
   "metadata": {},
   "source": [
    "### putting baseline data altogether in one big dataframe"
   ]
  },
  {
   "cell_type": "code",
   "execution_count": null,
   "id": "f378be04",
   "metadata": {},
   "outputs": [],
   "source": [
    "BaselineData=pd.concat(df.assign(dataset=StrainNames.get(i+1)) for i,df in enumerate(DataLists[1:]))\n",
    "BaselineData[['Gene', 'Allele']] = BaselineData['dataset'].str.split('_', expand=True)\n",
    "BaselineData['Allele']=BaselineData['Allele'].fillna('N2')\n",
    "BaselineData = BaselineData.drop(columns=[\"plate\", \"Tap\", \"Puff\", \"x\",\"y\"])\n",
    "# TotalConcatenated=TotalConcatenated.dropna()\n",
    "# TotalConcatenated = TotalConcatenated.reset_index(drop=True)\n",
    "print(BaselineData)\n",
    "BaselineData.to_csv(\"tap_baseline_output.csv\")\n",
    "PD_baseline=BaselineData\n",
    "print('done step 7')"
   ]
  },
  {
   "cell_type": "markdown",
   "id": "c1277ba5",
   "metadata": {},
   "source": [
    "### Done Importing data...."
   ]
  },
  {
   "cell_type": "markdown",
   "id": "b9772da6",
   "metadata": {},
   "source": [
    "# Now onto Data Analysis"
   ]
  },
  {
   "cell_type": "markdown",
   "id": "3543ae0d",
   "metadata": {},
   "source": [
    "### T-Test Statistics for Baseline Data"
   ]
  },
  {
   "cell_type": "code",
   "execution_count": null,
   "id": "839d626f",
   "metadata": {},
   "outputs": [],
   "source": [
    "PD_baseline_last100=PD_baseline[((PD_baseline.Time<=590)&(PD_baseline.Time >=490))]\n",
    "PD_baseline_last100=PD_baseline_last100.reset_index()\n",
    "print(PD_baseline_last100)"
   ]
  },
  {
   "cell_type": "code",
   "execution_count": null,
   "id": "1f08e71e",
   "metadata": {},
   "outputs": [],
   "source": [
    "list=PD_baseline_last100[\"dataset\"].unique()\n",
    "print(list)"
   ]
  },
  {
   "cell_type": "code",
   "execution_count": null,
   "id": "80d4b155",
   "metadata": {},
   "outputs": [],
   "source": [
    "def TTest_New(DatasetList, Type, DF_ref, output):\n",
    "    for a in DatasetList:\n",
    "        Tstat=ttest_ind(DF_ref[DF_ref.dataset == a][Type], DF_ref[DF_ref.Allele == \"N2\"][Type],equal_var=False)[0]\n",
    "        row=[a, Tstat]\n",
    "        output.loc[len(output)]=row\n",
    "    print(output)"
   ]
  },
  {
   "cell_type": "code",
   "execution_count": null,
   "id": "9cdc1ce2",
   "metadata": {},
   "outputs": [],
   "source": [
    "PD_baseline_instantspeed_T=pd.DataFrame(columns = [\"dataset\",\"Instantaneous Speed\"])\n",
    "PD_baseline_intspeed_T=pd.DataFrame(columns = [\"dataset\",\"Interval Speed\"])\n",
    "PD_baseline_bias_T=pd.DataFrame(columns = [\"dataset\",\"Bias\"])\n",
    "PD_baseline_width_T=pd.DataFrame(columns = [\"dataset\",\"Width\"])\n",
    "PD_baseline_length_T=pd.DataFrame(columns = [\"dataset\",\"Length\"])\n",
    "PD_baseline_area_T=pd.DataFrame(columns = [\"dataset\",\"Area\"])\n",
    "PD_baseline_angularspeed_T=pd.DataFrame(columns = [\"dataset\",\"Angular Speed\"])\n",
    "PD_baseline_aspectratio_T=pd.DataFrame(columns = [\"dataset\",\"Aspect Ratio\"])\n",
    "PD_baseline_kink_T=pd.DataFrame(columns = [\"dataset\",\"Kink\"])\n",
    "PD_baseline_curve_T=pd.DataFrame(columns = [\"dataset\",\"Curve\"])\n",
    "PD_baseline_crab_T=pd.DataFrame(columns = [\"dataset\",\"Crab\"])"
   ]
  },
  {
   "cell_type": "code",
   "execution_count": null,
   "id": "ebaef0bc",
   "metadata": {},
   "outputs": [],
   "source": [
    "TTest_New(PD_baseline_last100[\"dataset\"].unique(), \"Instantaneous Speed\", PD_baseline_last100, PD_baseline_instantspeed_T)\n",
    "TTest_New(PD_baseline_last100[\"dataset\"].unique(), \"Interval Speed\", PD_baseline_last100, PD_baseline_intspeed_T)\n",
    "TTest_New(PD_baseline_last100[\"dataset\"].unique(), \"Bias\", PD_baseline_last100, PD_baseline_bias_T)\n",
    "TTest_New(PD_baseline_last100[\"dataset\"].unique(), \"Width\", PD_baseline_last100, PD_baseline_width_T)\n",
    "TTest_New(PD_baseline_last100[\"dataset\"].unique(), \"Length\", PD_baseline_last100, PD_baseline_length_T)\n",
    "TTest_New(PD_baseline_last100[\"dataset\"].unique(), \"Area\", PD_baseline_last100, PD_baseline_area_T)\n",
    "TTest_New(PD_baseline_last100[\"dataset\"].unique(), \"Angular Speed\", PD_baseline_last100, PD_baseline_angularspeed_T)\n",
    "TTest_New(PD_baseline_last100[\"dataset\"].unique(), \"Aspect Ratio\", PD_baseline_last100, PD_baseline_aspectratio_T)\n",
    "TTest_New(PD_baseline_last100[\"dataset\"].unique(), \"Kink\", PD_baseline_last100, PD_baseline_kink_T)\n",
    "TTest_New(PD_baseline_last100[\"dataset\"].unique(), \"Curve\", PD_baseline_last100, PD_baseline_curve_T)\n",
    "TTest_New(PD_baseline_last100[\"dataset\"].unique(), \"Crab\", PD_baseline_last100, PD_baseline_crab_T)"
   ]
  },
  {
   "cell_type": "code",
   "execution_count": null,
   "id": "e3130ee5",
   "metadata": {},
   "outputs": [],
   "source": [
    "PD_baseline_Tstats=PD_baseline_instantspeed_T\n",
    "PD_baseline_Tstats=PD_baseline_Tstats.join(PD_baseline_intspeed_T.iloc[:,1])\n",
    "PD_baseline_Tstats=PD_baseline_Tstats.join(PD_baseline_bias_T.iloc[:,1])\n",
    "PD_baseline_Tstats=PD_baseline_Tstats.join(PD_baseline_width_T.iloc[:,1])\n",
    "PD_baseline_Tstats=PD_baseline_Tstats.join(PD_baseline_length_T.iloc[:,1])\n",
    "PD_baseline_Tstats=PD_baseline_Tstats.join(PD_baseline_area_T.iloc[:,1])\n",
    "PD_baseline_Tstats=PD_baseline_Tstats.join(PD_baseline_angularspeed_T.iloc[:,1])\n",
    "PD_baseline_Tstats=PD_baseline_Tstats.join(PD_baseline_kink_T.iloc[:,1])\n",
    "PD_baseline_Tstats=PD_baseline_Tstats.join(PD_baseline_curve_T.iloc[:,1])\n",
    "PD_baseline_Tstats=PD_baseline_Tstats.join(PD_baseline_crab_T.iloc[:,1])\n",
    "print(PD_baseline_Tstats)"
   ]
  },
  {
   "cell_type": "code",
   "execution_count": null,
   "id": "42ae6f1e",
   "metadata": {},
   "outputs": [],
   "source": [
    "PD_baseline_Tstats=PD_baseline_Tstats.set_index(\"dataset\")\n",
    "print(PD_baseline_Tstats)\n",
    "PD_baseline_Tstats_sort=PD_baseline_Tstats.sort_index()\n",
    "print(PD_baseline_Tstats_sort)"
   ]
  },
  {
   "cell_type": "code",
   "execution_count": null,
   "id": "d761d6b5",
   "metadata": {},
   "outputs": [],
   "source": [
    "sns.set_context('notebook')\n",
    "plt.figure(figsize=(14,14))\n",
    "ax = sns.heatmap(data = PD_baseline_Tstats_sort, \n",
    "                 annot=False, \n",
    "                 linewidth=0.5, \n",
    "                 square=True, \n",
    "                 cmap=\"vlag\", \n",
    "                 center=0, \n",
    "                 vmax=400,\n",
    "                 vmin=-400, \n",
    "                 xticklabels=1,\n",
    "                 yticklabels=1,\n",
    "                 cbar_kws={\"shrink\": .3})\n",
    "# plt.savefig(f'{StrainName}_Speed_{ISI}ISI.png_ByPlate', format='png', dpi=450)\n",
    "plt.show()"
   ]
  },
  {
   "cell_type": "markdown",
   "id": "165cd148",
   "metadata": {},
   "source": [
    "### T-Test for Tap Data"
   ]
  },
  {
   "cell_type": "code",
   "execution_count": null,
   "id": "de1cc33c",
   "metadata": {},
   "outputs": [],
   "source": [
    "print(PD_tap)\n",
    "PD_first_tap = PD_tap[(PD_tap.taps==1)].reset_index().drop(columns=\"index\")\n",
    "PD_last_three_taps = PD_tap[((PD_tap.taps>=28)&(PD_tap.taps<=30))].reset_index().drop(columns=\"index\")\n",
    "PD_recov_taps = PD_tap[(PD_tap.taps==31)].reset_index().drop(columns=\"index\")\n",
    "print(PD_first_tap)\n",
    "print(PD_last_three_taps)\n",
    "print(PD_recov_taps)"
   ]
  },
  {
   "cell_type": "code",
   "execution_count": null,
   "id": "8e85f787",
   "metadata": {},
   "outputs": [],
   "source": [
    "PD_final_taps=PD_last_three_taps.groupby([\"Gene\", \"Allele\", \"dataset\", \"plate\"]).mean().reset_index()\n",
    "print(PD_final_taps)\n",
    "# print(PD_first_tap)\n",
    "# print(PD_recov_taps)"
   ]
  },
  {
   "cell_type": "code",
   "execution_count": null,
   "id": "8dce4966",
   "metadata": {},
   "outputs": [],
   "source": [
    "PD_final_taps=PD_final_taps.rename(columns={\"dura\": \"final_dura\", \"prob\": \"final_prob\", \"speed\": \"final_speed\"}, errors=\"raise\")\n",
    "PD_first_tap=PD_first_tap.rename(columns={\"dura\": \"init_dura\", \"prob\": \"init_prob\", \"speed\": \"init_speed\"}, errors=\"raise\")\n",
    "print(PD_final_taps)\n",
    "print(PD_first_tap)"
   ]
  },
  {
   "cell_type": "code",
   "execution_count": null,
   "id": "6d7f57ff",
   "metadata": {},
   "outputs": [],
   "source": [
    "PD_habit_levels = pd.merge(PD_first_tap, PD_final_taps, on =['dataset','plate','Gene','Allele'], how ='left')\n",
    "PD_habit_levels = PD_habit_levels.dropna()\n",
    "print(PD_habit_levels)"
   ]
  },
  {
   "cell_type": "code",
   "execution_count": null,
   "id": "ce4f2a13",
   "metadata": {},
   "outputs": [],
   "source": [
    "PD_habit_levels['habit_dura']=PD_habit_levels.init_dura-PD_habit_levels.final_dura\n",
    "PD_habit_levels['habit_prob']=PD_habit_levels.init_prob-PD_habit_levels.final_prob\n",
    "PD_habit_levels['habit_speed']=PD_habit_levels.init_speed-PD_habit_levels.final_speed\n",
    "PD_habit_levels=PD_habit_levels.drop(columns=['time_x','time_y','taps_x','taps_y','dist_x','dist_y'])"
   ]
  },
  {
   "cell_type": "code",
   "execution_count": null,
   "id": "07d5f1fd",
   "metadata": {},
   "outputs": [],
   "source": [
    "PD_recov_taps=PD_recov_taps.rename(columns={\"dura\": \"recov_dura\", \"prob\": \"recov_prob\", \"speed\":\"recov_speed\"})\n",
    "PD_habituation = pd.merge(PD_habit_levels, PD_recov_taps, on =['dataset','plate','Gene','Allele'], how ='left')\n",
    "PD_habituation = PD_habituation.dropna()\n",
    "print(PD_habituation)"
   ]
  },
  {
   "cell_type": "code",
   "execution_count": null,
   "id": "d874bc5d",
   "metadata": {},
   "outputs": [],
   "source": [
    "PD_habituation['recovery_dura']=PD_habituation.init_dura-PD_habituation.recov_dura\n",
    "PD_habituation['recovery_prob']=PD_habituation.init_prob-PD_habituation.recov_prob\n",
    "PD_habituation['recovery_speed']=PD_habituation.init_speed-PD_habituation.recov_speed\n",
    "PD_habituation=PD_habituation.dropna()\n",
    "print(PD_habituation)"
   ]
  },
  {
   "cell_type": "code",
   "execution_count": null,
   "id": "6abe6770",
   "metadata": {},
   "outputs": [],
   "source": [
    "PD_recovery_dura=pd.DataFrame(columns = [\"dataset\",\"Recovery Duration\"])\n",
    "PD_recovery_prob=pd.DataFrame(columns = [\"dataset\",\"Recovery Probability\"])\n",
    "PD_recovery_speed=pd.DataFrame(columns = [\"dataset\",\"Recovery Speed\"])\n",
    "PD_init_dura=pd.DataFrame(columns = [\"dataset\",\"Initial Duration\"])\n",
    "PD_init_prob=pd.DataFrame(columns = [\"dataset\",\"Initial Probability\"])\n",
    "PD_init_speed=pd.DataFrame(columns = [\"dataset\",\"Initial Speed\"])\n",
    "PD_final_dura=pd.DataFrame(columns = [\"dataset\",\"Final Duration\"])\n",
    "PD_final_prob=pd.DataFrame(columns = [\"dataset\",\"Final Probability\"])\n",
    "PD_final_speed=pd.DataFrame(columns = [\"dataset\",\"Final Speed\"])\n",
    "PD_hab_dura=pd.DataFrame(columns = [\"dataset\",\"Habituation of Duration\"])\n",
    "PD_hab_prob=pd.DataFrame(columns = [\"dataset\",\"Habituation of Probability\"])\n",
    "PD_hab_speed=pd.DataFrame(columns = [\"dataset\",\"Habituation of Speed\"])\n",
    "print('done')"
   ]
  },
  {
   "cell_type": "code",
   "execution_count": null,
   "id": "04cf9d98",
   "metadata": {},
   "outputs": [],
   "source": [
    "print(PD_habituation[\"dataset\"].unique())"
   ]
  },
  {
   "cell_type": "code",
   "execution_count": null,
   "id": "8cd0aa81",
   "metadata": {},
   "outputs": [],
   "source": [
    "TTest_New(PD_habituation[\"dataset\"].unique(), \"recovery_dura\", PD_habituation, PD_recovery_dura)\n",
    "TTest_New(PD_habituation[\"dataset\"].unique(), \"recovery_prob\", PD_habituation, PD_recovery_prob)\n",
    "TTest_New(PD_habituation[\"dataset\"].unique(), \"recovery_speed\", PD_habituation, PD_recovery_speed)\n",
    "TTest_New(PD_habituation[\"dataset\"].unique(), \"init_dura\", PD_habituation, PD_init_dura)\n",
    "TTest_New(PD_habituation[\"dataset\"].unique(), \"init_prob\", PD_habituation, PD_init_prob)\n",
    "TTest_New(PD_habituation[\"dataset\"].unique(), \"init_speed\", PD_habituation, PD_init_speed)\n",
    "TTest_New(PD_habituation[\"dataset\"].unique(), \"final_dura\", PD_habituation, PD_final_dura)\n",
    "TTest_New(PD_habituation[\"dataset\"].unique(), \"final_prob\", PD_habituation, PD_final_prob)\n",
    "TTest_New(PD_habituation[\"dataset\"].unique(), \"final_speed\", PD_habituation, PD_final_speed)\n",
    "TTest_New(PD_habituation[\"dataset\"].unique(), \"habit_dura\", PD_habituation, PD_hab_dura)\n",
    "TTest_New(PD_habituation[\"dataset\"].unique(), \"habit_prob\", PD_habituation, PD_hab_prob)\n",
    "TTest_New(PD_habituation[\"dataset\"].unique(), \"habit_speed\", PD_habituation, PD_hab_speed)\n",
    "print(\"done\")"
   ]
  },
  {
   "cell_type": "code",
   "execution_count": null,
   "id": "3270eca4",
   "metadata": {},
   "outputs": [],
   "source": [
    "PD_habituation_Tstats=PD_recovery_dura\n",
    "PD_habituation_Tstats=PD_habituation_Tstats.join(PD_recovery_prob.iloc[:,1])\n",
    "PD_habituation_Tstats=PD_habituation_Tstats.join(PD_recovery_speed.iloc[:,1])\n",
    "PD_habituation_Tstats=PD_habituation_Tstats.join(PD_init_dura.iloc[:,1])\n",
    "PD_habituation_Tstats=PD_habituation_Tstats.join(PD_init_prob.iloc[:,1])\n",
    "PD_habituation_Tstats=PD_habituation_Tstats.join(PD_init_speed.iloc[:,1])\n",
    "PD_habituation_Tstats=PD_habituation_Tstats.join(PD_final_dura.iloc[:,1])\n",
    "PD_habituation_Tstats=PD_habituation_Tstats.join(PD_final_prob.iloc[:,1])\n",
    "PD_habituation_Tstats=PD_habituation_Tstats.join(PD_final_speed.iloc[:,1])\n",
    "PD_habituation_Tstats=PD_habituation_Tstats.join(PD_hab_dura.iloc[:,1])\n",
    "PD_habituation_Tstats=PD_habituation_Tstats.join(PD_hab_prob.iloc[:,1])\n",
    "PD_habituation_Tstats=PD_habituation_Tstats.join(PD_hab_speed.iloc[:,1])\n",
    "PD_habituation_Tstats=PD_habituation_Tstats.dropna()                                        \n",
    "print(PD_habituation_Tstats)"
   ]
  },
  {
   "cell_type": "code",
   "execution_count": null,
   "id": "51220083",
   "metadata": {},
   "outputs": [],
   "source": [
    "PD_habituation_Tstats=PD_habituation_Tstats.set_index(\"dataset\")\n",
    "print(PD_habituation_Tstats)"
   ]
  },
  {
   "cell_type": "code",
   "execution_count": null,
   "id": "06635c66",
   "metadata": {},
   "outputs": [],
   "source": [
    "PD_habituation_Tstats_sorted=PD_habituation_Tstats.sort_index()\n",
    "print(PD_habituation_Tstats_sorted)"
   ]
  },
  {
   "cell_type": "code",
   "execution_count": null,
   "id": "78851ee2",
   "metadata": {},
   "outputs": [],
   "source": [
    "sns.set_context('notebook')\n",
    "plt.figure(figsize=(14,14))\n",
    "ax = sns.heatmap(data = PD_habituation_Tstats, \n",
    "                 annot=False, \n",
    "                 linewidth=0.5, \n",
    "                 square=True, \n",
    "                 cmap=\"vlag\", \n",
    "                 center=0, \n",
    "#                  vmax=400,\n",
    "#                  vmin=-400, \n",
    "                 xticklabels=1,\n",
    "                 yticklabels=1,\n",
    "                 cbar_kws={\"shrink\": .3})\n",
    "# plt.savefig(f'{StrainName}_Speed_{ISI}ISI.png_ByPlate', format='png', dpi=450)\n",
    "plt.show()"
   ]
  },
  {
   "cell_type": "markdown",
   "id": "2d988bce",
   "metadata": {},
   "source": [
    "# Merging all T-test statistics from both data types together"
   ]
  },
  {
   "cell_type": "code",
   "execution_count": null,
   "id": "1845104b",
   "metadata": {},
   "outputs": [],
   "source": [
    "PD_combined_Tstats = pd.merge(PD_baseline_Tstats, PD_habituation_Tstats, on =['dataset'], how ='left')\n",
    "PD_combined_Tstats=PD_combined_Tstats.sort_index()\n",
    "# PD_combined_Tstats=PD_combined_Tstats.drop(index=\"N2\")\n",
    "PD_combined_Tstats=PD_combined_Tstats.dropna()\n",
    "PD_combined_Tstats_normalize=(PD_combined_Tstats-PD_combined_Tstats.mean())/PD_combined_Tstats.std()\n",
    "print(PD_combined_Tstats_normalize)\n",
    "print(PD_combined_Tstats_normalize.index)\n"
   ]
  },
  {
   "cell_type": "code",
   "execution_count": null,
   "id": "65d073d1",
   "metadata": {},
   "outputs": [],
   "source": [
    "# print(PD_combined_Tstats_normalize[PD_combined_Tstats_normalize.index==\"N2\"])\n",
    "# print(PD_combined_Tstats_normalize[PD_combined_Tstats_normalize.index==\"N2\"].squeeze())\n",
    "PD_combined_Tstats_normalize_2=PD_combined_Tstats_normalize-PD_combined_Tstats_normalize[PD_combined_Tstats_normalize.index==\"N2\"].squeeze()\n",
    "print(PD_combined_Tstats_normalize_2[PD_combined_Tstats_normalize.index==\"N2\"])\n",
    "# print(PD_combined_Tstats_normalize[PD_combined_Tstats_normalize.index==\"T20F7.3_tm2936\"]-PD_combined_Tstats_normalize[PD_combined_Tstats_normalize.index==\"N2\"].squeeze())"
   ]
  },
  {
   "cell_type": "code",
   "execution_count": null,
   "id": "91459939",
   "metadata": {},
   "outputs": [],
   "source": [
    "import matplotlib as mpl\n",
    "mpl.colors.rgb_to_hsv('255,215,0')\n",
    "51\n",
    "240"
   ]
  },
  {
   "cell_type": "code",
   "execution_count": null,
   "id": "5ce87878",
   "metadata": {},
   "outputs": [],
   "source": [
    "first_col=PD_combined_Tstats.pop(\"Area\")\n",
    "PD_combined_Tstats.insert(0,\"Area\",first_col)\n",
    "\n",
    "first_col=PD_combined_Tstats.pop(\"Length\")\n",
    "PD_combined_Tstats.insert(0,\"Length\",first_col)\n",
    "\n",
    "first_col=PD_combined_Tstats.pop(\"Width\")\n",
    "PD_combined_Tstats.insert(0,\"Width\",first_col)\n",
    "\n",
    "first_col=PD_combined_Tstats_normalize_2.pop(\"Angular Speed\")\n",
    "PD_combined_Tstats_normalize_2.insert(5,\"Angular Speed\",first_col)\n",
    "\n",
    "print(PD_combined_Tstats)"
   ]
  },
  {
   "cell_type": "code",
   "execution_count": null,
   "id": "105c079f",
   "metadata": {},
   "outputs": [],
   "source": [
    "PD_combined_Tstats=PD_combined_Tstats.rename(columns={\"Habituation of Duration\":\"Habituation of Response Duration\",\n",
    "                                                     \"Habituation of Probability\": \"Habituation of Respones Probability\",\n",
    "                                                     \"Habituation of Speed\":\"Habituation of Response Speed\",\n",
    "                                                     \"Initial Duration\": \"Initial Response Duration\",\n",
    "                                                     \"Initial Probability\": \"Initial Response Probability\",\n",
    "                                                     \"Initial Speed\": \"Initial Response Speed\",\n",
    "                                                     \"Final Duration\": \"Final Response Duration\",\n",
    "                                                     \"Final Probability\": \"Final Response Probability\",\n",
    "                                                     \"Final Speed\": \"Final Response Speed\",\n",
    "                                                     \"Recovery Duration\": \"Spontaneous Recovery of Response Duration\",\n",
    "                                                     \"Recovery Probability\": \"Spontaneous Recovery of Response Probability\",\n",
    "                                                     \"Recovery Speed\": \"Spontaneous Recovery of Response Speed\"})\n",
    "PD_combined_Tstats.to_csv('CombinedTSTATData.csv')"
   ]
  },
  {
   "cell_type": "code",
   "execution_count": null,
   "id": "ed1262d9",
   "metadata": {},
   "outputs": [],
   "source": [
    "PD_combined_Tstats_normalize_2=PD_combined_Tstats_normalize_2.rename(columns={\"Habituation of Duration\":\"Habituation of Response Duration\",\n",
    "                                                                             \"Habituation of Probability\": \"Habituation of Respones Probability\",\n",
    "                                                                             \"Habituation of Speed\":\"Habituation of Response Speed\",\n",
    "                                                                             \"Initial Duration\": \"Initial Response Duration\",\n",
    "                                                                             \"Initial Probability\": \"Initial Response Probability\",\n",
    "                                                                             \"Initial Speed\": \"Initial Response Speed\",\n",
    "                                                                             \"Final Duration\": \"Final Response Duration\",\n",
    "                                                                             \"Final Probability\": \"Final Response Probability\",\n",
    "                                                                             \"Final Speed\": \"Final Response Speed\",\n",
    "                                                                             \"Recovery Duration\": \"Spontaneous Recovery of Response Duration\",\n",
    "                                                                             \"Recovery Probability\": \"Spontaneous Recovery of Response Probability\",\n",
    "                                                                             \"Recovery Speed\": \"Spontaneous Recovery of Response Speed\"})\n",
    "print(PD_combined_Tstats_normalize_2)"
   ]
  },
  {
   "cell_type": "code",
   "execution_count": null,
   "id": "aa91c96e",
   "metadata": {},
   "outputs": [],
   "source": [
    "first_col=PD_combined_Tstats_normalize_2.pop(\"Area\")\n",
    "PD_combined_Tstats_normalize_2.insert(0,\"Area\",first_col)\n",
    "\n",
    "first_col=PD_combined_Tstats_normalize_2.pop(\"Length\")\n",
    "PD_combined_Tstats_normalize_2.insert(0,\"Length\",first_col)\n",
    "\n",
    "first_col=PD_combined_Tstats_normalize_2.pop(\"Width\")\n",
    "PD_combined_Tstats_normalize_2.insert(0,\"Width\",first_col)\n",
    "\n",
    "first_col=PD_combined_Tstats_normalize_2.pop(\"Angular Speed\")\n",
    "PD_combined_Tstats_normalize_2.insert(5,\"Angular Speed\",first_col)\n",
    "\n",
    "last_col=PD_combined_Tstats_normalize_2.pop(\"Spontaneous Recovery of Response Duration\")\n",
    "PD_combined_Tstats_normalize_2.insert(21,\"Spontaneous Recovery of Response Duration\",last_col)\n",
    "\n",
    "last_col=PD_combined_Tstats_normalize_2.pop(\"Spontaneous Recovery of Response Probability\")\n",
    "PD_combined_Tstats_normalize_2.insert(21,\"Spontaneous Recovery of Response Probability\",last_col)\n",
    "\n",
    "last_col=PD_combined_Tstats_normalize_2.pop(\"Spontaneous Recovery of Response Speed\")\n",
    "PD_combined_Tstats_normalize_2.insert(21,\"Spontaneous Recovery of Response Speed\",last_col)\n",
    "\n",
    "\n",
    "\n",
    "print(PD_combined_Tstats_normalize_2)\n",
    "PD_combined_Tstats_normalize_2.to_csv('Normalized_TSTATData.csv')"
   ]
  },
  {
   "cell_type": "code",
   "execution_count": null,
   "id": "485b4f56",
   "metadata": {},
   "outputs": [],
   "source": [
    "sns.set_context('notebook')\n",
    "plt.figure(figsize=(16,20))\n",
    "ax = sns.heatmap(data = PD_combined_Tstats_normalize_2.drop(index=\"N2\"), \n",
    "                 annot=False, \n",
    "                 linewidth=0.5, \n",
    "                 square=True, \n",
    "                 cmap=\"vlag\", \n",
    "#                  cmap=sns.diverging_palette(55, 250, s=100, l=40,as_cmap=True), \n",
    "                 center=0, \n",
    "                 vmax=3,\n",
    "                 vmin=-3, \n",
    "                 xticklabels=1,\n",
    "                 yticklabels=1,\n",
    "                 cbar_kws={\"shrink\": .2})\n",
    "# plt.savefig('/Users/Joseph/Desktop/GRC_Data/Tstat_Strain_normalized.png', format='png', dpi=450, bbox_inches = \"tight\")\n",
    "plt.savefig('Tstat_Strain_normalized.png', format='png', dpi=450, bbox_inches = \"tight\")\n",
    "plt.show()"
   ]
  },
  {
   "cell_type": "code",
   "execution_count": null,
   "id": "b6c2d225",
   "metadata": {},
   "outputs": [],
   "source": [
    "PD_combined_Tstats_melted=PD_combined_Tstats.reset_index()\n",
    "PD_combined_Tstats_melted=pd.melt(PD_combined_Tstats_melted, id_vars=['dataset'],\n",
    "                                   var_name='Metric',\n",
    "                                   value_name='T_score')\n",
    "PD_combined_Tstats_melted_sorted=PD_combined_Tstats_melted.sort_values(by=['T_score'])\n",
    "# print(PD_gene_Tstats_melted_gene)\n",
    "print(PD_combined_Tstats_melted_sorted)\n",
    "# PD_gene_Tstats_melted_metric=pd.melt(PD_gene_Tstats_melted_gene, id_vars=['dataset'],\n",
    "#                              value_name='metric')\n",
    "\n",
    "\n",
    "PD_combined_normalized_Tstats_melted=PD_combined_Tstats_normalize_2.reset_index()\n",
    "PD_combined_normalized_Tstats_melted=pd.melt(PD_combined_normalized_Tstats_melted, id_vars=['dataset'],\n",
    "                                   var_name='Metric',\n",
    "                                   value_name='T_score')\n",
    "PD_combined_normalized_Tstats_melted_sorted=PD_combined_normalized_Tstats_melted.sort_values(by=['Metric'])"
   ]
  },
  {
   "cell_type": "code",
   "execution_count": null,
   "id": "832b26f2",
   "metadata": {},
   "outputs": [],
   "source": [
    "for x in PD_combined_Tstats_melted_sorted.Metric.unique():\n",
    "    plt.figure(figsize=(12,4.8))\n",
    "    ax = sns.barplot(data = PD_combined_Tstats_melted_sorted[PD_combined_Tstats_melted_sorted.Metric==f\"{x}\"], \n",
    "                x=\"dataset\",\n",
    "                y=\"T_score\",\n",
    "                palette=[\"dimgray\"]).set_title(f\"{x}\")\n",
    "    plt.xticks(rotation=90)\n",
    "    plt.tick_params(axis='x', which='major', labelsize=10)\n",
    "#     plt.ylim(-3,3)\n",
    "    plt.savefig(f'{x}_Metrics.png', format='png', dpi=450, bbox_inches = \"tight\")\n",
    "    plt.show()\n",
    "print(\"done\")"
   ]
  },
  {
   "cell_type": "code",
   "execution_count": null,
   "id": "192a3e25",
   "metadata": {},
   "outputs": [],
   "source": [
    "print(PD_combined_normalized_Tstats_melted_sorted)"
   ]
  },
  {
   "cell_type": "code",
   "execution_count": null,
   "id": "4ea7a311",
   "metadata": {},
   "outputs": [],
   "source": [
    "metric_palette=[\"k\",\"k\",\"k\",\n",
    "                \"darkgray\",\"darkgray\",\"darkgray\",\"darkgray\",\"darkgray\",\"darkgray\",\"darkgray\",\n",
    "                \"lightsteelblue\",\"lightsteelblue\",\"lightsteelblue\",\n",
    "                \"powderblue\",\"powderblue\",\"powderblue\",\n",
    "                \"cadetblue\",\"cadetblue\",\"cadetblue\",\n",
    "                \"thistle\",\"thistle\",\"thistle\"]\n",
    "\n",
    "sns.set_context('notebook')\n",
    "for x in PD_combined_normalized_Tstats_melted_sorted.dataset.unique():\n",
    "    plt.figure()\n",
    "    ax = sns.barplot(data = PD_combined_normalized_Tstats_melted[PD_combined_normalized_Tstats_melted.dataset==f\"{x}\"], \n",
    "                x=\"Metric\",\n",
    "                y=\"T_score\",\n",
    "                palette=metric_palette).set_title(f\"{x}\")\n",
    "    plt.ylim(-3,3)\n",
    "    plt.xticks(rotation=90)\n",
    "    plt.ylabel('Normalized T-score')\n",
    "    plt.savefig(f'{x}_Metrics.png', format='png', dpi=450, bbox_inches = \"tight\")\n",
    "    plt.show()\n",
    "print(\"done\")"
   ]
  },
  {
   "cell_type": "markdown",
   "id": "24a25b36",
   "metadata": {},
   "source": [
    "# STOP HERE FOR NOW"
   ]
  },
  {
   "cell_type": "code",
   "execution_count": null,
   "id": "46547a1c",
   "metadata": {},
   "outputs": [],
   "source": []
  },
  {
   "cell_type": "code",
   "execution_count": null,
   "id": "f89fdfe5",
   "metadata": {},
   "outputs": [],
   "source": []
  },
  {
   "cell_type": "code",
   "execution_count": null,
   "id": "44e48efb",
   "metadata": {},
   "outputs": [],
   "source": []
  },
  {
   "cell_type": "code",
   "execution_count": null,
   "id": "cc5258b8",
   "metadata": {},
   "outputs": [],
   "source": []
  },
  {
   "cell_type": "code",
   "execution_count": null,
   "id": "c988c1dc",
   "metadata": {},
   "outputs": [],
   "source": []
  },
  {
   "cell_type": "code",
   "execution_count": null,
   "id": "f5280ad0",
   "metadata": {},
   "outputs": [],
   "source": []
  },
  {
   "cell_type": "code",
   "execution_count": null,
   "id": "e202d666",
   "metadata": {},
   "outputs": [],
   "source": []
  },
  {
   "cell_type": "code",
   "execution_count": null,
   "id": "e673d683",
   "metadata": {},
   "outputs": [],
   "source": []
  },
  {
   "cell_type": "code",
   "execution_count": null,
   "id": "abd7bd27",
   "metadata": {},
   "outputs": [],
   "source": []
  },
  {
   "cell_type": "markdown",
   "id": "96d3f999",
   "metadata": {},
   "source": [
    "## T-stat Analysis By Gene (Combining Alleles)"
   ]
  },
  {
   "cell_type": "code",
   "execution_count": null,
   "id": "a82704b5",
   "metadata": {},
   "outputs": [],
   "source": [
    "PD_gene_baseline_width_T=pd.DataFrame(columns = [\"dataset\",\"Width\"])\n",
    "PD_gene_baseline_length_T=pd.DataFrame(columns = [\"dataset\",\"Length\"])\n",
    "PD_gene_baseline_area_T=pd.DataFrame(columns = [\"dataset\",\"Area\"])\n",
    "PD_gene_baseline_aspectratio_T=pd.DataFrame(columns = [\"dataset\",\"Aspect Ratio\"])\n",
    "PD_gene_baseline_instantspeed_T=pd.DataFrame(columns = [\"dataset\",\"Instantaneous Speed\"])\n",
    "PD_gene_baseline_intspeed_T=pd.DataFrame(columns = [\"dataset\",\"Interval Speed\"])\n",
    "PD_gene_baseline_angularspeed_T=pd.DataFrame(columns = [\"dataset\",\"Angular Speed\"])\n",
    "PD_gene_baseline_bias_T=pd.DataFrame(columns = [\"dataset\",\"Bias\"])\n",
    "PD_gene_baseline_kink_T=pd.DataFrame(columns = [\"dataset\",\"Kink\"])\n",
    "PD_gene_baseline_curve_T=pd.DataFrame(columns = [\"dataset\",\"Curve\"])\n",
    "PD_gene_baseline_crab_T=pd.DataFrame(columns = [\"dataset\",\"Crab\"])\n",
    "\n",
    "\n",
    "PD_gene_init_dura=pd.DataFrame(columns = [\"dataset\",\"Initial Response Duration\"])\n",
    "PD_gene_init_prob=pd.DataFrame(columns = [\"dataset\",\"Initial Response Probability\"])\n",
    "PD_gene_init_speed=pd.DataFrame(columns = [\"dataset\",\"Initial Response Speed\"])\n",
    "PD_gene_final_dura=pd.DataFrame(columns = [\"dataset\",\"Final Response Duration\"])\n",
    "PD_gene_final_prob=pd.DataFrame(columns = [\"dataset\",\"Final Response Probability\"])\n",
    "PD_gene_final_speed=pd.DataFrame(columns = [\"dataset\",\"Final Response Speed\"])\n",
    "PD_gene_hab_dura=pd.DataFrame(columns = [\"dataset\",\"Habituation of Response Duration\"])\n",
    "PD_gene_hab_prob=pd.DataFrame(columns = [\"dataset\",\"Habituation of Response Probability\"])\n",
    "PD_gene_hab_speed=pd.DataFrame(columns = [\"dataset\",\"Habituation of Response Speed\"])\n",
    "PD_gene_recovery_dura=pd.DataFrame(columns = [\"dataset\",\"Spontaneous Recovery of Response Duration\"])\n",
    "PD_gene_recovery_prob=pd.DataFrame(columns = [\"dataset\",\"Spontaneous Recovery of Response Probability\"])\n",
    "PD_gene_recovery_speed=pd.DataFrame(columns = [\"dataset\",\"Spontaneous Recovery of Response Speed\"])"
   ]
  },
  {
   "cell_type": "code",
   "execution_count": null,
   "id": "3e95fce7",
   "metadata": {},
   "outputs": [],
   "source": [
    "PD_baseline_last100=PD_baseline_last100.dropna()\n",
    "print(PD_baseline_last100)"
   ]
  },
  {
   "cell_type": "code",
   "execution_count": null,
   "id": "b13ab072",
   "metadata": {},
   "outputs": [],
   "source": [
    "print(PD_baseline_last100.Gene.unique())\n",
    "print(len(PD_baseline_last100.Gene.unique()))\n",
    "type(PD_baseline_last100.Gene.unique()[1])"
   ]
  },
  {
   "cell_type": "code",
   "execution_count": null,
   "id": "71de3a91",
   "metadata": {},
   "outputs": [],
   "source": [
    "def TTest_Gene(DatasetList, Type, DF_ref, output):\n",
    "    for a in DatasetList:\n",
    "        Tstat=ttest_ind(DF_ref[DF_ref.Gene == a][Type], DF_ref[DF_ref.Gene == \"N2\"][Type],equal_var=False)[0]\n",
    "        row=[a, Tstat]\n",
    "        output.loc[len(output)]=row\n",
    "    print(output)"
   ]
  },
  {
   "cell_type": "code",
   "execution_count": null,
   "id": "3250e43e",
   "metadata": {},
   "outputs": [],
   "source": [
    "print(PD_habituation.Gene.unique())\n",
    "print(len(PD_habituation.Gene.unique()))\n",
    "print(PD_baseline_last100.Gene.unique())\n",
    "print(len(PD_baseline_last100.Gene.unique()))\n",
    "PD_habituation=PD_habituation.dropna()"
   ]
  },
  {
   "cell_type": "code",
   "execution_count": null,
   "id": "b7bc254e",
   "metadata": {},
   "outputs": [],
   "source": [
    "TTest_Gene(PD_baseline_last100.Gene.unique(), 'Instantaneous Speed', PD_baseline_last100, PD_gene_baseline_instantspeed_T)\n",
    "TTest_Gene(PD_baseline_last100.Gene.unique(), \"Interval Speed\", PD_baseline_last100, PD_gene_baseline_intspeed_T)\n",
    "TTest_Gene(PD_baseline_last100.Gene.unique(), \"Bias\", PD_baseline_last100, PD_gene_baseline_bias_T)\n",
    "TTest_Gene(PD_baseline_last100.Gene.unique(), \"Width\", PD_baseline_last100, PD_gene_baseline_width_T)\n",
    "TTest_Gene(PD_baseline_last100.Gene.unique(), \"Length\", PD_baseline_last100, PD_gene_baseline_length_T)\n",
    "TTest_Gene(PD_baseline_last100.Gene.unique(), \"Area\", PD_baseline_last100, PD_gene_baseline_area_T)\n",
    "TTest_Gene(PD_baseline_last100.Gene.unique(), \"Angular Speed\", PD_baseline_last100, PD_gene_baseline_angularspeed_T)\n",
    "TTest_Gene(PD_baseline_last100.Gene.unique(), \"Aspect Ratio\", PD_baseline_last100, PD_gene_baseline_aspectratio_T)\n",
    "TTest_Gene(PD_baseline_last100.Gene.unique(), \"Kink\", PD_baseline_last100, PD_gene_baseline_kink_T)\n",
    "TTest_Gene(PD_baseline_last100.Gene.unique(), \"Curve\", PD_baseline_last100, PD_gene_baseline_curve_T)\n",
    "TTest_Gene(PD_baseline_last100.Gene.unique(), \"Crab\", PD_baseline_last100, PD_gene_baseline_crab_T)\n",
    "\n",
    "TTest_Gene(PD_habituation[\"Gene\"].unique(), \"recovery_dura\", PD_habituation, PD_gene_recovery_dura)\n",
    "TTest_Gene(PD_habituation[\"Gene\"].unique(), \"recovery_prob\", PD_habituation, PD_gene_recovery_prob)\n",
    "TTest_Gene(PD_habituation[\"Gene\"].unique(), \"recovery_speed\", PD_habituation, PD_gene_recovery_speed)\n",
    "TTest_Gene(PD_habituation[\"Gene\"].unique(), \"init_dura\", PD_habituation, PD_gene_init_dura)\n",
    "TTest_Gene(PD_habituation[\"Gene\"].unique(), \"init_prob\", PD_habituation, PD_gene_init_prob)\n",
    "TTest_Gene(PD_habituation[\"Gene\"].unique(), \"init_speed\", PD_habituation, PD_gene_init_speed)\n",
    "TTest_Gene(PD_habituation[\"Gene\"].unique(), \"final_dura\", PD_habituation, PD_gene_final_dura)\n",
    "TTest_Gene(PD_habituation[\"Gene\"].unique(), \"final_prob\", PD_habituation, PD_gene_final_prob)\n",
    "TTest_Gene(PD_habituation[\"Gene\"].unique(), \"final_speed\", PD_habituation, PD_gene_final_speed)\n",
    "TTest_Gene(PD_habituation[\"Gene\"].unique(), \"habit_dura\", PD_habituation, PD_gene_hab_dura)\n",
    "TTest_Gene(PD_habituation[\"Gene\"].unique(), \"habit_prob\", PD_habituation, PD_gene_hab_prob)\n",
    "TTest_Gene(PD_habituation[\"Gene\"].unique(), \"habit_speed\", PD_habituation, PD_gene_hab_speed)"
   ]
  },
  {
   "cell_type": "code",
   "execution_count": null,
   "id": "64804b1a",
   "metadata": {},
   "outputs": [],
   "source": [
    "PD_gene_baseline_Tstats=PD_gene_baseline_instantspeed_T\n",
    "PD_gene_baseline_Tstats=PD_gene_baseline_Tstats.join(PD_gene_baseline_intspeed_T.iloc[:,1])\n",
    "PD_gene_baseline_Tstats=PD_gene_baseline_Tstats.join(PD_gene_baseline_bias_T.iloc[:,1])\n",
    "PD_gene_baseline_Tstats=PD_gene_baseline_Tstats.join(PD_gene_baseline_width_T.iloc[:,1])\n",
    "PD_gene_baseline_Tstats=PD_gene_baseline_Tstats.join(PD_gene_baseline_length_T.iloc[:,1])\n",
    "PD_gene_baseline_Tstats=PD_gene_baseline_Tstats.join(PD_gene_baseline_area_T.iloc[:,1])\n",
    "PD_gene_baseline_Tstats=PD_gene_baseline_Tstats.join(PD_gene_baseline_angularspeed_T.iloc[:,1])\n",
    "PD_gene_baseline_Tstats=PD_gene_baseline_Tstats.join(PD_gene_baseline_kink_T.iloc[:,1])\n",
    "PD_gene_baseline_Tstats=PD_gene_baseline_Tstats.join(PD_gene_baseline_curve_T.iloc[:,1])\n",
    "PD_gene_baseline_Tstats=PD_gene_baseline_Tstats.join(PD_gene_baseline_crab_T.iloc[:,1])\n",
    "PD_gene_baseline_Tstats=PD_gene_baseline_Tstats.set_index(\"dataset\").dropna()\n",
    "print(PD_gene_baseline_Tstats)\n",
    "PD_gene_baseline_Tstats.to_csv(\"PD_gene_baseline_Tstats.csv\")\n",
    "PD_gene_habituation_Tstats=PD_gene_recovery_dura\n",
    "PD_gene_habituation_Tstats=PD_gene_habituation_Tstats.join(PD_gene_recovery_prob.iloc[:,1])\n",
    "PD_gene_habituation_Tstats=PD_gene_habituation_Tstats.join(PD_gene_recovery_speed.iloc[:,1])\n",
    "PD_gene_habituation_Tstats=PD_gene_habituation_Tstats.join(PD_gene_init_dura.iloc[:,1])\n",
    "PD_gene_habituation_Tstats=PD_gene_habituation_Tstats.join(PD_gene_init_prob.iloc[:,1])\n",
    "PD_gene_habituation_Tstats=PD_gene_habituation_Tstats.join(PD_gene_init_speed.iloc[:,1])\n",
    "PD_gene_habituation_Tstats=PD_gene_habituation_Tstats.join(PD_gene_final_dura.iloc[:,1])\n",
    "PD_gene_habituation_Tstats=PD_gene_habituation_Tstats.join(PD_gene_final_prob.iloc[:,1])\n",
    "PD_gene_habituation_Tstats=PD_gene_habituation_Tstats.join(PD_gene_final_speed.iloc[:,1])\n",
    "PD_gene_habituation_Tstats=PD_gene_habituation_Tstats.join(PD_gene_hab_dura.iloc[:,1])\n",
    "PD_gene_habituation_Tstats=PD_gene_habituation_Tstats.join(PD_gene_hab_prob.iloc[:,1])\n",
    "PD_gene_habituation_Tstats=PD_gene_habituation_Tstats.join(PD_gene_hab_speed.iloc[:,1])\n",
    "PD_gene_habituation_Tstats=PD_gene_habituation_Tstats.set_index(\"dataset\").dropna()                                       \n",
    "print(PD_gene_habituation_Tstats)\n",
    "PD_gene_habituation_Tstats.to_csv(\"PD_gene_habituation_Tstats.csv\")"
   ]
  },
  {
   "cell_type": "code",
   "execution_count": null,
   "id": "3c1fb031",
   "metadata": {},
   "outputs": [],
   "source": [
    "# PD_gene_Tstats_combined = pd.merge(PD_gene_baseline_Tstats, PD_gene_habituation_Tstats, on =['dataset'], how ='left')\n",
    "PD_gene_Tstats_combined=PD_gene_baseline_Tstats.join(PD_gene_habituation_Tstats)\n",
    "PD_gene_Tstats_combined=PD_gene_Tstats_combined.dropna()\n",
    "print(PD_gene_Tstats_combined.info())\n",
    "PD_gene_Tstats_combined.to_csv('PD_gene_Tstats_combined_testing.csv')\n",
    "PD_gene_Tstats_combined_normalize=(PD_gene_Tstats_combined-PD_gene_Tstats_combined.mean())/PD_gene_Tstats_combined.std()\n",
    "print(PD_gene_Tstats_combined_normalize)\n",
    "print(PD_gene_Tstats_combined_normalize[PD_gene_Tstats_combined_normalize.index=='N2'])\n",
    "PD_gene_Tstats_combined_normalize=PD_gene_Tstats_combined_normalize-PD_gene_Tstats_combined_normalize[PD_gene_Tstats_combined_normalize.index==\"N2\"].squeeze()\n",
    "print(PD_gene_Tstats_combined_normalize)\n",
    "PD_gene_Tstats_combined_normalize=PD_gene_Tstats_combined_normalize.dropna().sort_index()\n",
    "\n",
    "PD_gene_Tstats_combined_normalize_noN2=PD_gene_Tstats_combined_normalize.drop(index=\"N2\")\n",
    "# PD_gene_Tstats_combined=PD_gene_Tstats_combined.set_index(\"dataset\")\n",
    "# PD_gene_Tstats_combined=PD_gene_Tstats_combined.sort_index()\n",
    "# PD_gene_Tstats_combined=PD_gene_Tstats_combined.drop(index=\"N2\")\n",
    "\n",
    "# print(PD_gene_Tstats_combined_normalize)\n",
    "PD_gene_Tstats_combined_normalize.rename(index={'pamn': 'pamn-1'})\n",
    "print(PD_gene_Tstats_combined_normalize)\n",
    "# PD_gene_Tstats_combined_normalize.to_csv('PD_gene_Tstats_combined_normalize.csv')"
   ]
  },
  {
   "cell_type": "code",
   "execution_count": null,
   "id": "94ac3ecd",
   "metadata": {},
   "outputs": [],
   "source": [
    "PD_gene_Tstats_combined_normalize=PD_gene_Tstats_combined_normalize.rename(index={'pamn': 'pamn-1'})\n",
    "print(PD_gene_Tstats_combined_normalize)"
   ]
  },
  {
   "cell_type": "code",
   "execution_count": null,
   "id": "89bfe780",
   "metadata": {},
   "outputs": [],
   "source": [
    "Gene_Orthology=pd.read_csv('/Users/Joseph/Desktop/GRC_Data/Gene_Orthology.csv')\n",
    "Gene_Orthology=Gene_Orthology.rename(columns={\"Gene\":\"Orthology\", \"Worm Gene\":\"dataset\"})\n",
    "print(Gene_Orthology)"
   ]
  },
  {
   "cell_type": "code",
   "execution_count": null,
   "id": "0bfadf42",
   "metadata": {},
   "outputs": [],
   "source": [
    "PD_gene_Tstats_combined_normalize_joined=pd.merge(PD_gene_Tstats_combined_normalize_noN2,\n",
    "                                                 Gene_Orthology,\n",
    "                                                 on='dataset',\n",
    "                                                 how='inner')\n",
    "\n",
    "print(PD_gene_Tstats_combined_normalize_joined)\n",
    "\n",
    "\n",
    "PD_gene_Tstats_combined=pd.merge(PD_gene_Tstats_combined_normalize_noN2,\n",
    "                                                 Gene_Orthology,\n",
    "                                                 on='dataset',\n",
    "                                                 how='inner')"
   ]
  },
  {
   "cell_type": "code",
   "execution_count": null,
   "id": "e0bc4126",
   "metadata": {},
   "outputs": [],
   "source": [
    "PD_gene_Tstats_combined=PD_gene_Tstats_combined.rename(columns={\"Orthology\":\"Gene\"})\n",
    "PD_gene_Tstats_combined=PD_gene_Tstats_combined.set_index(\"Gene\").sort_index().drop(columns=['dataset','Unnamed: 0','Human Gene'])\n",
    "print(PD_gene_Tstats_combined)"
   ]
  },
  {
   "cell_type": "code",
   "execution_count": null,
   "id": "7e67fe83",
   "metadata": {},
   "outputs": [],
   "source": [
    "PD_gene_Tstats_combined_normalize_joined=PD_gene_Tstats_combined_normalize_joined.rename(columns={\"Orthology\":\"Gene\"})\n",
    "PD_gene_Tstats_combined_normalize_heatmap=PD_gene_Tstats_combined_normalize_joined.set_index(\"Gene\").sort_index()\n",
    "PD_gene_Tstats_combined_normalize_heatmap=PD_gene_Tstats_combined_normalize_heatmap.drop(columns=['dataset','Unnamed: 0','Human Gene'])\n",
    "\n",
    "print(PD_gene_Tstats_combined_normalize_heatmap)"
   ]
  },
  {
   "cell_type": "code",
   "execution_count": null,
   "id": "ff34d465",
   "metadata": {},
   "outputs": [],
   "source": [
    "first_col=PD_gene_Tstats_combined_normalize_heatmap.pop(\"Area\")\n",
    "PD_gene_Tstats_combined_normalize_heatmap.insert(0,\"Area\",first_col)\n",
    "\n",
    "first_col=PD_gene_Tstats_combined_normalize_heatmap.pop(\"Length\")\n",
    "PD_gene_Tstats_combined_normalize_heatmap.insert(0,\"Length\",first_col)\n",
    "\n",
    "first_col=PD_gene_Tstats_combined_normalize_heatmap.pop(\"Width\")\n",
    "PD_gene_Tstats_combined_normalize_heatmap.insert(0,\"Width\",first_col)\n",
    "\n",
    "first_col=PD_gene_Tstats_combined_normalize_heatmap.pop(\"Angular Speed\")\n",
    "PD_gene_Tstats_combined_normalize_heatmap.insert(5,\"Angular Speed\",first_col)\n",
    "\n",
    "last_col=PD_gene_Tstats_combined_normalize_heatmap.pop(\"Spontaneous Recovery of Response Duration\")\n",
    "PD_gene_Tstats_combined_normalize_heatmap.insert(21,\"Spontaneous Recovery of Response Duration\",last_col)\n",
    "\n",
    "last_col=PD_gene_Tstats_combined_normalize_heatmap.pop(\"Spontaneous Recovery of Response Probability\")\n",
    "PD_gene_Tstats_combined_normalize_heatmap.insert(21,\"Spontaneous Recovery of Response Probability\",last_col)\n",
    "\n",
    "last_col=PD_gene_Tstats_combined_normalize_heatmap.pop(\"Spontaneous Recovery of Response Speed\")\n",
    "PD_gene_Tstats_combined_normalize_heatmap.insert(21,\"Spontaneous Recovery of Response Speed\",last_col)\n",
    "\n",
    "\n",
    "\n",
    "print(PD_gene_Tstats_combined_normalize_heatmap)"
   ]
  },
  {
   "cell_type": "code",
   "execution_count": null,
   "id": "09b3edda",
   "metadata": {},
   "outputs": [],
   "source": [
    "sns.set_context('notebook')\n",
    "plt.figure(figsize=(16,14))\n",
    "ax = sns.heatmap(data = PD_gene_Tstats_combined_normalize_heatmap, \n",
    "                 annot=False, \n",
    "                 linewidth=0.5, \n",
    "                 square=True, \n",
    "                 cmap='vlag',\n",
    "#                  cmap=sns.diverging_palette(55, 250, s=100, l=40,as_cmap=True), \n",
    "                 center=0, \n",
    "                 vmax=3,\n",
    "                 vmin=-3, \n",
    "                 xticklabels=1,\n",
    "                 yticklabels=1,\n",
    "                 cbar_kws={\"shrink\": .2})\n",
    "ax.set_ylabel('')    \n",
    "plt.savefig('/Users/Joseph/Desktop/GRC_Data/Tstat_GENE_normalized_square.png', format='png', dpi=450, bbox_inches = \"tight\")\n",
    "plt.show()"
   ]
  },
  {
   "cell_type": "code",
   "execution_count": null,
   "id": "e7d328ac",
   "metadata": {},
   "outputs": [],
   "source": [
    "sns.set_context('notebook')\n",
    "g = sns.clustermap(PD_gene_Tstats_combined_normalize_heatmap,\n",
    "                   cmap='vlag',\n",
    "#                    cmap=sns.diverging_palette(55, 250, s=100, l=40,as_cmap=True),\n",
    "                   figsize=(8,14),\n",
    "                   method=\"ward\",\n",
    "                   metric=\"euclidean\", \n",
    "                   col_cluster=False,\n",
    "                   linecolor=\"black\",\n",
    "                   linewidth=0.01,\n",
    "                   dendrogram_ratio=(0.2,0),\n",
    "                   vmax=3,\n",
    "                   center=0,\n",
    "                   vmin=-3,\n",
    "                   cbar_pos=(0.95, 0.16, 0.02, 0.18),\n",
    "                   tree_kws=dict(linewidths=1.5))\n",
    "ax = g.ax_heatmap\n",
    "ax.set_ylabel('')  \n",
    "g.savefig(\"/Users/Joseph/Desktop/GRC_Data/Cluster_edge.png\", format='png', dpi=450, bbox_inches='tight')"
   ]
  },
  {
   "cell_type": "code",
   "execution_count": null,
   "id": "a65255f2",
   "metadata": {},
   "outputs": [],
   "source": [
    "sns.set_context('notebook')\n",
    "plt.figure(figsize=(20,14))\n",
    "ax = sns.heatmap(data = PD_gene_Tstats_combined_normalize_heatmap, \n",
    "                 annot=False, \n",
    "                 linewidth=0.5, \n",
    "                 square=True, \n",
    "                 cmap=\"vlag\", \n",
    "                 center=0, \n",
    "                 vmax=3,\n",
    "                 vmin=-3, \n",
    "                 xticklabels=1,\n",
    "                 yticklabels=1,\n",
    "                 cbar_kws={\"shrink\": .3})\n",
    "ax.set_ylabel('')    \n",
    "plt.savefig('/Users/Joseph/Desktop/GRC_Data/Tstat_GENE_normalized_square_new.png', format='png', dpi=450, bbox_inches = \"tight\")\n",
    "plt.show()"
   ]
  },
  {
   "cell_type": "code",
   "execution_count": null,
   "id": "386be08f",
   "metadata": {},
   "outputs": [],
   "source": [
    "first_col=PD_gene_Tstats_combined_normalize.pop(\"Area\")\n",
    "PD_gene_Tstats_combined_normalize.insert(0,\"Area\",first_col)\n",
    "\n",
    "first_col=PD_gene_Tstats_combined_normalize.pop(\"Length\")\n",
    "PD_gene_Tstats_combined_normalize.insert(0,\"Length\",first_col)\n",
    "\n",
    "first_col=PD_gene_Tstats_combined_normalize.pop(\"Width\")\n",
    "PD_gene_Tstats_combined_normalize.insert(0,\"Width\",first_col)\n",
    "\n",
    "first_col=PD_gene_Tstats_combined_normalize.pop(\"Angular Speed\")\n",
    "PD_gene_Tstats_combined_normalize.insert(5,\"Angular Speed\",first_col)\n",
    "\n",
    "last_col=PD_gene_Tstats_combined_normalize.pop(\"Spontaneous Recovery of Response Duration\")\n",
    "PD_gene_Tstats_combined_normalize.insert(21,\"Spontaneous Recovery of Response Duration\",last_col)\n",
    "\n",
    "last_col=PD_gene_Tstats_combined_normalize.pop(\"Spontaneous Recovery of Response Probability\")\n",
    "PD_gene_Tstats_combined_normalize.insert(21,\"Spontaneous Recovery of Response Probability\",last_col)\n",
    "\n",
    "last_col=PD_gene_Tstats_combined_normalize.pop(\"Spontaneous Recovery of Response Speed\")\n",
    "PD_gene_Tstats_combined_normalize.insert(21,\"Spontaneous Recovery of Response Speed\",last_col)\n",
    "\n",
    "print(PD_gene_Tstats_combined_normalize)"
   ]
  },
  {
   "cell_type": "code",
   "execution_count": null,
   "id": "18b8fffd",
   "metadata": {},
   "outputs": [],
   "source": [
    "PD_gene_Tstats_melted=PD_gene_Tstats_combined_normalize.reset_index()\n",
    "print(PD_gene_Tstats_melted)\n",
    "PD_gene_Tstats_melted_gene=pd.melt(PD_gene_Tstats_melted, id_vars=['dataset'],\n",
    "                                   var_name='Metric',\n",
    "                                   value_name='Normalized T_score')\n",
    "PD_gene_Tstats_melted_gene_sorted=PD_gene_Tstats_melted_gene.sort_values(by=['Normalized T_score'])\n",
    "print(PD_gene_Tstats_melted_gene)\n",
    "print(PD_gene_Tstats_melted_gene_sorted)\n",
    "# PD_gene_Tstats_melted_metric=pd.melt(PD_gene_Tstats_melted_gene, id_vars=['dataset'],\n",
    "#                              value_name='metric')\n"
   ]
  },
  {
   "cell_type": "code",
   "execution_count": null,
   "id": "59179a6a",
   "metadata": {},
   "outputs": [],
   "source": [
    "metric_palette=[\"k\",\"k\",\"k\",\n",
    "                \"darkgray\",\"darkgray\",\"darkgray\",\"darkgray\",\"darkgray\",\"darkgray\",\"darkgray\",\n",
    "                \"lightsteelblue\",\"lightsteelblue\",\"lightsteelblue\",\n",
    "                \"powderblue\",\"powderblue\",\"powderblue\",\n",
    "                \"cadetblue\",\"cadetblue\",\"cadetblue\",\n",
    "                \"thistle\",\"thistle\",\"thistle\"]"
   ]
  },
  {
   "cell_type": "code",
   "execution_count": null,
   "id": "0e7254f7",
   "metadata": {},
   "outputs": [],
   "source": [
    "PD_gene_Tstats_combined_normalize_orthology_melted=PD_gene_Tstats_combined_normalize_heatmap.reset_index().rename(columns={\"Spontaneous Recovery of Response Duration\":\"Spont. Recov. of Resp. Duration\",\n",
    "                                                                                                                     \"Spontaneous Recovery of Response Probability\":\"Spont. Recov. of Resp. Probability\",\n",
    "                                                                                                                     \"Spontaneous Recovery of Response Speed\":\"Spont. Recov. of Resp. Speed\"})\n",
    "PD_gene_Tstats_combined_normalize_orthology_melted=pd.melt(PD_gene_Tstats_combined_normalize_orthology_melted, id_vars=['Gene'],\n",
    "                                   var_name='Metric',\n",
    "                                   value_name='Normalized T_score')\n",
    "PD_gene_Tstats_orthology_melted_gene_sorted=PD_gene_Tstats_combined_normalize_orthology_melted.sort_values(by=['Normalized T_score'])\n",
    "# print(PD_gene_Tstats_melted_gene)\n",
    "print(PD_gene_Tstats_orthology_melted_gene_sorted)\n",
    "# PD_gene_Tstats_melted_metric=pd.melt(PD_gene_Tstats_melted_gene, id_vars=['dataset'],\n",
    "#                              value_name='metric')\n",
    "\n"
   ]
  },
  {
   "cell_type": "code",
   "execution_count": null,
   "id": "8ee3198e",
   "metadata": {},
   "outputs": [],
   "source": [
    "print(PD_gene_Tstats_melted_gene.dataset.unique())\n",
    "PD_gene_Tstats_combined_normalize_orthology=PD_gene_Tstats_combined_normalize_heatmap.reset_index()\n",
    "print(PD_gene_Tstats_combined_normalize_orthology.Gene.unique())"
   ]
  },
  {
   "cell_type": "code",
   "execution_count": null,
   "id": "b11bf69b",
   "metadata": {},
   "outputs": [],
   "source": [
    "PD_gene_Tstats_combined_normalize_orthology_melted=PD_gene_Tstats_combined_normalize_orthology_melted.rename(columns={\"Spontaneous Recovery of Response Duration\":\"Spont. Recov. of Resp. Duration\",\n",
    "                                                                                                                     \"Spontaneous Recovery of Response Probability\":\"Spont. Recov. of Resp. Probability\",\n",
    "                                                                                                                     \"Spontaneous Recovery of Response Speed\":\"Spont. Recov. of Resp. Speed\"})\n",
    "print(PD_gene_Tstats_combined_normalize_orthology_melted)"
   ]
  },
  {
   "cell_type": "code",
   "execution_count": null,
   "id": "eb18a898",
   "metadata": {},
   "outputs": [],
   "source": [
    "# sns.barplot(data=PD_gene_Tstats_melted_gene[PD_gene_Tstats_melted_gene.dataset==\"F53B2.5\"], x=\"Metric\", y=\"T_score\")\n",
    "# plt.xticks(rotation=90)\n",
    "\n",
    "sns.set_context('notebook')\n",
    "# # plt.figure(figsize=(14,14))\n",
    "# ax = sns.barplot(data = PD_gene_Tstats_melted_gene[PD_gene_Tstats_melted_gene.dataset==\"F53B2.5\"], \n",
    "#                 x=\"Metric\",\n",
    "#                 y=\"T_score\",\n",
    "#                 palette=metric_palette)\n",
    "# plt.xticks(rotation=90)\n",
    "# # plt.savefig('/Users/Joseph/Desktop/PD_Screen_TapHab/Tstat_GENE.png', format='png', dpi=450, bbox_inches = \"tight\")\n",
    "# # '/Users/Joseph/Desktop/PD_Screen_TapHab/Baseline100Data.csv'\n",
    "# plt.show()\n",
    "\n",
    "for x in PD_gene_Tstats_combined_normalize_orthology_melted.Gene.unique():\n",
    "    plt.figure()\n",
    "    ax = sns.barplot(data = PD_gene_Tstats_combined_normalize_orthology_melted[PD_gene_Tstats_combined_normalize_orthology_melted.Gene==f\"{x}\"], \n",
    "                x=\"Normalized T_score\",\n",
    "                y=\"Metric\", orient='h',\n",
    "                palette=metric_palette).set_title(f\"{x}\")\n",
    "    plt.xlim(-3,3)\n",
    "    plt.xlabel('Normalized T-Score')\n",
    "#     plt.xticks(rotation=90)\n",
    "    plt.savefig(f'/Users/Joseph/Desktop/GRC_Data/Gene_Metrics_h/{x}_Metrics.png', format='png', dpi=450, bbox_inches = \"tight\")\n",
    "    plt.show()\n",
    "print(\"done\")"
   ]
  },
  {
   "cell_type": "code",
   "execution_count": null,
   "id": "9ec75585",
   "metadata": {},
   "outputs": [],
   "source": [
    "# print(PD_gene_Tstats_combined)\n",
    "PD_gene_Tstats_combined_melted=PD_gene_Tstats_combined.reset_index()\n",
    "PD_gene_Tstats_combined_melted=pd.melt(PD_gene_Tstats_combined_melted, id_vars=['Gene'],\n",
    "                                   var_name='Metric',\n",
    "                                   value_name='T_score')\n",
    "PD_gene_Tstats_combined_melted_sorted=PD_gene_Tstats_combined_melted.sort_values(by=['T_score'])\n",
    "# print(PD_gene_Tstats_melted_gene)\n",
    "print(PD_gene_Tstats_combined_melted_sorted)"
   ]
  },
  {
   "cell_type": "code",
   "execution_count": null,
   "id": "836d580c",
   "metadata": {},
   "outputs": [],
   "source": [
    "# sns.barplot(data=PD_gene_Tstats_melted_gene_sorted[PD_gene_Tstats_melted_gene_sorted.Metric==\"Instantaneous Speed\"],\n",
    "#             x=\"dataset\", y=\"T_score\")\n",
    "# plt.xticks(rotation=90)\n",
    "\n",
    "for x in PD_gene_Tstats_combined_melted_sorted.Metric.unique():\n",
    "    plt.figure(figsize=(5,10))\n",
    "    ax = sns.barplot(data = PD_gene_Tstats_combined_melted_sorted[PD_gene_Tstats_combined_melted_sorted.Metric==f\"{x}\"], \n",
    "                x=\"T_score\",\n",
    "                y=\"Gene\",orient='h',\n",
    "                palette=[\"dimgray\"]).set_title(f\"{x}\")\n",
    "#     plt.xticks(rotation=90)\n",
    "    plt.xlabel('T-Score')\n",
    "    plt.ylabel('')\n",
    "    plt.xlim(-3,3)\n",
    "    plt.savefig(f'/Users/Joseph/Desktop/GRC_Data/Gene_byMetric_h/{x}_Metrics.png', format='png', dpi=450, bbox_inches = \"tight\")\n",
    "    plt.show()\n",
    "print(\"done\")"
   ]
  },
  {
   "cell_type": "code",
   "execution_count": null,
   "id": "214eb984",
   "metadata": {},
   "outputs": [],
   "source": []
  },
  {
   "cell_type": "code",
   "execution_count": null,
   "id": "1252d0be",
   "metadata": {},
   "outputs": [],
   "source": []
  },
  {
   "cell_type": "code",
   "execution_count": null,
   "id": "3921cea5",
   "metadata": {},
   "outputs": [],
   "source": []
  }
 ],
 "metadata": {
  "kernelspec": {
   "display_name": "Python 3 (ipykernel)",
   "language": "python",
   "name": "python3"
  },
  "language_info": {
   "codemirror_mode": {
    "name": "ipython",
    "version": 3
   },
   "file_extension": ".py",
   "mimetype": "text/x-python",
   "name": "python",
   "nbconvert_exporter": "python",
   "pygments_lexer": "ipython3",
   "version": "3.11.1"
  }
 },
 "nbformat": 4,
 "nbformat_minor": 5
}
